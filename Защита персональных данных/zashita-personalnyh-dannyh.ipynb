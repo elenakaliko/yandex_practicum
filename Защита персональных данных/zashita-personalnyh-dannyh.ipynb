{
 "cells": [
  {
   "cell_type": "markdown",
   "metadata": {
    "toc": true
   },
   "source": [
    "<h1>Содержание<span class=\"tocSkip\"></span></h1>\n",
    "<div class=\"toc\"><ul class=\"toc-item\"><li><span><a href=\"#Загрузка-данных\" data-toc-modified-id=\"Загрузка-данных-1\"><span class=\"toc-item-num\">1&nbsp;&nbsp;</span>Загрузка данных</a></span></li><li><span><a href=\"#Умножение-матриц\" data-toc-modified-id=\"Умножение-матриц-2\"><span class=\"toc-item-num\">2&nbsp;&nbsp;</span>Умножение матриц</a></span></li><li><span><a href=\"#Алгоритм-преобразования\" data-toc-modified-id=\"Алгоритм-преобразования-3\"><span class=\"toc-item-num\">3&nbsp;&nbsp;</span>Алгоритм преобразования</a></span></li><li><span><a href=\"#Проверка-алгоритма\" data-toc-modified-id=\"Проверка-алгоритма-4\"><span class=\"toc-item-num\">4&nbsp;&nbsp;</span>Проверка алгоритма</a></span></li></ul></div>"
   ]
  },
  {
   "cell_type": "markdown",
   "metadata": {},
   "source": [
    "# Защита персональных данных клиентов"
   ]
  },
  {
   "cell_type": "markdown",
   "metadata": {},
   "source": [
    "Нужно защитить данные клиентов страховой компании «Хоть потоп». \n",
    "\n",
    "Наша задача - защитить данные, чтобы при преобразовании качество моделей машинного обучения не ухудшилось. Подбирать наилучшую модель не требуется. Необходимо разработать такой метод преобразования данных, чтобы по ним было сложно восстановить персональную информацию. "
   ]
  },
  {
   "cell_type": "markdown",
   "metadata": {},
   "source": [
    "## Загрузка данных"
   ]
  },
  {
   "cell_type": "code",
   "execution_count": 1,
   "metadata": {
    "scrolled": true
   },
   "outputs": [],
   "source": [
    "# импорт библиотек\n",
    "import pandas as pd\n",
    "import numpy as np\n",
    "import matplotlib.pyplot as plt\n",
    "from sklearn.metrics import r2_score\n",
    "from sklearn.model_selection import train_test_split"
   ]
  },
  {
   "cell_type": "code",
   "execution_count": 2,
   "metadata": {},
   "outputs": [],
   "source": [
    "# константы проекта\n",
    "State = 12345\n",
    "r = np.random.RandomState(State)"
   ]
  },
  {
   "cell_type": "code",
   "execution_count": 3,
   "metadata": {},
   "outputs": [
    {
     "name": "stdout",
     "output_type": "stream",
     "text": [
      "<class 'pandas.core.frame.DataFrame'>\n",
      "RangeIndex: 5000 entries, 0 to 4999\n",
      "Data columns (total 5 columns):\n",
      " #   Column             Non-Null Count  Dtype  \n",
      "---  ------             --------------  -----  \n",
      " 0   Пол                5000 non-null   int64  \n",
      " 1   Возраст            5000 non-null   float64\n",
      " 2   Зарплата           5000 non-null   float64\n",
      " 3   Члены семьи        5000 non-null   int64  \n",
      " 4   Страховые выплаты  5000 non-null   int64  \n",
      "dtypes: float64(2), int64(3)\n",
      "memory usage: 195.4 KB\n"
     ]
    },
    {
     "data": {
      "text/html": [
       "<div>\n",
       "<style scoped>\n",
       "    .dataframe tbody tr th:only-of-type {\n",
       "        vertical-align: middle;\n",
       "    }\n",
       "\n",
       "    .dataframe tbody tr th {\n",
       "        vertical-align: top;\n",
       "    }\n",
       "\n",
       "    .dataframe thead th {\n",
       "        text-align: right;\n",
       "    }\n",
       "</style>\n",
       "<table border=\"1\" class=\"dataframe\">\n",
       "  <thead>\n",
       "    <tr style=\"text-align: right;\">\n",
       "      <th></th>\n",
       "      <th>Пол</th>\n",
       "      <th>Возраст</th>\n",
       "      <th>Зарплата</th>\n",
       "      <th>Члены семьи</th>\n",
       "      <th>Страховые выплаты</th>\n",
       "    </tr>\n",
       "  </thead>\n",
       "  <tbody>\n",
       "    <tr>\n",
       "      <th>0</th>\n",
       "      <td>1</td>\n",
       "      <td>41.0</td>\n",
       "      <td>49600.0</td>\n",
       "      <td>1</td>\n",
       "      <td>0</td>\n",
       "    </tr>\n",
       "    <tr>\n",
       "      <th>1</th>\n",
       "      <td>0</td>\n",
       "      <td>46.0</td>\n",
       "      <td>38000.0</td>\n",
       "      <td>1</td>\n",
       "      <td>1</td>\n",
       "    </tr>\n",
       "    <tr>\n",
       "      <th>2</th>\n",
       "      <td>0</td>\n",
       "      <td>29.0</td>\n",
       "      <td>21000.0</td>\n",
       "      <td>0</td>\n",
       "      <td>0</td>\n",
       "    </tr>\n",
       "    <tr>\n",
       "      <th>3</th>\n",
       "      <td>0</td>\n",
       "      <td>21.0</td>\n",
       "      <td>41700.0</td>\n",
       "      <td>2</td>\n",
       "      <td>0</td>\n",
       "    </tr>\n",
       "    <tr>\n",
       "      <th>4</th>\n",
       "      <td>1</td>\n",
       "      <td>28.0</td>\n",
       "      <td>26100.0</td>\n",
       "      <td>0</td>\n",
       "      <td>0</td>\n",
       "    </tr>\n",
       "  </tbody>\n",
       "</table>\n",
       "</div>"
      ],
      "text/plain": [
       "   Пол  Возраст  Зарплата  Члены семьи  Страховые выплаты\n",
       "0    1     41.0   49600.0            1                  0\n",
       "1    0     46.0   38000.0            1                  1\n",
       "2    0     29.0   21000.0            0                  0\n",
       "3    0     21.0   41700.0            2                  0\n",
       "4    1     28.0   26100.0            0                  0"
      ]
     },
     "execution_count": 3,
     "metadata": {},
     "output_type": "execute_result"
    }
   ],
   "source": [
    "data = pd.read_csv('/datasets/insurance.csv')\n",
    "data.info()\n",
    "data.head()"
   ]
  },
  {
   "cell_type": "code",
   "execution_count": 4,
   "metadata": {},
   "outputs": [
    {
     "data": {
      "text/html": [
       "<div>\n",
       "<style scoped>\n",
       "    .dataframe tbody tr th:only-of-type {\n",
       "        vertical-align: middle;\n",
       "    }\n",
       "\n",
       "    .dataframe tbody tr th {\n",
       "        vertical-align: top;\n",
       "    }\n",
       "\n",
       "    .dataframe thead th {\n",
       "        text-align: right;\n",
       "    }\n",
       "</style>\n",
       "<table border=\"1\" class=\"dataframe\">\n",
       "  <thead>\n",
       "    <tr style=\"text-align: right;\">\n",
       "      <th></th>\n",
       "      <th>Пол</th>\n",
       "      <th>Возраст</th>\n",
       "      <th>Зарплата</th>\n",
       "      <th>Члены семьи</th>\n",
       "      <th>Страховые выплаты</th>\n",
       "    </tr>\n",
       "  </thead>\n",
       "  <tbody>\n",
       "    <tr>\n",
       "      <th>count</th>\n",
       "      <td>5000.000000</td>\n",
       "      <td>5000.000000</td>\n",
       "      <td>5000.000000</td>\n",
       "      <td>5000.000000</td>\n",
       "      <td>5000.000000</td>\n",
       "    </tr>\n",
       "    <tr>\n",
       "      <th>mean</th>\n",
       "      <td>0.499000</td>\n",
       "      <td>30.952800</td>\n",
       "      <td>39916.360000</td>\n",
       "      <td>1.194200</td>\n",
       "      <td>0.148000</td>\n",
       "    </tr>\n",
       "    <tr>\n",
       "      <th>std</th>\n",
       "      <td>0.500049</td>\n",
       "      <td>8.440807</td>\n",
       "      <td>9900.083569</td>\n",
       "      <td>1.091387</td>\n",
       "      <td>0.463183</td>\n",
       "    </tr>\n",
       "    <tr>\n",
       "      <th>min</th>\n",
       "      <td>0.000000</td>\n",
       "      <td>18.000000</td>\n",
       "      <td>5300.000000</td>\n",
       "      <td>0.000000</td>\n",
       "      <td>0.000000</td>\n",
       "    </tr>\n",
       "    <tr>\n",
       "      <th>25%</th>\n",
       "      <td>0.000000</td>\n",
       "      <td>24.000000</td>\n",
       "      <td>33300.000000</td>\n",
       "      <td>0.000000</td>\n",
       "      <td>0.000000</td>\n",
       "    </tr>\n",
       "    <tr>\n",
       "      <th>50%</th>\n",
       "      <td>0.000000</td>\n",
       "      <td>30.000000</td>\n",
       "      <td>40200.000000</td>\n",
       "      <td>1.000000</td>\n",
       "      <td>0.000000</td>\n",
       "    </tr>\n",
       "    <tr>\n",
       "      <th>75%</th>\n",
       "      <td>1.000000</td>\n",
       "      <td>37.000000</td>\n",
       "      <td>46600.000000</td>\n",
       "      <td>2.000000</td>\n",
       "      <td>0.000000</td>\n",
       "    </tr>\n",
       "    <tr>\n",
       "      <th>max</th>\n",
       "      <td>1.000000</td>\n",
       "      <td>65.000000</td>\n",
       "      <td>79000.000000</td>\n",
       "      <td>6.000000</td>\n",
       "      <td>5.000000</td>\n",
       "    </tr>\n",
       "  </tbody>\n",
       "</table>\n",
       "</div>"
      ],
      "text/plain": [
       "               Пол      Возраст      Зарплата  Члены семьи  Страховые выплаты\n",
       "count  5000.000000  5000.000000   5000.000000  5000.000000        5000.000000\n",
       "mean      0.499000    30.952800  39916.360000     1.194200           0.148000\n",
       "std       0.500049     8.440807   9900.083569     1.091387           0.463183\n",
       "min       0.000000    18.000000   5300.000000     0.000000           0.000000\n",
       "25%       0.000000    24.000000  33300.000000     0.000000           0.000000\n",
       "50%       0.000000    30.000000  40200.000000     1.000000           0.000000\n",
       "75%       1.000000    37.000000  46600.000000     2.000000           0.000000\n",
       "max       1.000000    65.000000  79000.000000     6.000000           5.000000"
      ]
     },
     "execution_count": 4,
     "metadata": {},
     "output_type": "execute_result"
    }
   ],
   "source": [
    "data.describe()"
   ]
  },
  {
   "cell_type": "markdown",
   "metadata": {},
   "source": [
    "Для экономии места можем конвертировать столбцы типа float64 в тип int64. Но сначала убедимся, что мы не потеряем никаких данных, \"округлив\" значения до целого."
   ]
  },
  {
   "cell_type": "code",
   "execution_count": 5,
   "metadata": {},
   "outputs": [
    {
     "name": "stdout",
     "output_type": "stream",
     "text": [
      "Сумма дробной части по столбцу Возраст 0.0\n",
      "Сумма дробной части по столбцу Зарплата 3.0000000001200533\n"
     ]
    }
   ],
   "source": [
    "# проверим, есть ли дробная часть у столбцов \"Возраст\" и \"Зарплата\"\n",
    "print('Сумма дробной части по столбцу Возраст', (data['Возраст']%1).sum())\n",
    "print('Сумма дробной части по столбцу Зарплата', (data['Зарплата']%1).sum())"
   ]
  },
  {
   "cell_type": "markdown",
   "metadata": {},
   "source": [
    "Таким образом, мы выявили, что у столбца \"Возраст\" нет дробной части, а у столбца \"Зарплата\" есть дробная часть как минимум для нескольких объектов, рассматрим их поподробнее."
   ]
  },
  {
   "cell_type": "code",
   "execution_count": 6,
   "metadata": {},
   "outputs": [
    {
     "data": {
      "text/html": [
       "<div>\n",
       "<style scoped>\n",
       "    .dataframe tbody tr th:only-of-type {\n",
       "        vertical-align: middle;\n",
       "    }\n",
       "\n",
       "    .dataframe tbody tr th {\n",
       "        vertical-align: top;\n",
       "    }\n",
       "\n",
       "    .dataframe thead th {\n",
       "        text-align: right;\n",
       "    }\n",
       "</style>\n",
       "<table border=\"1\" class=\"dataframe\">\n",
       "  <thead>\n",
       "    <tr style=\"text-align: right;\">\n",
       "      <th></th>\n",
       "      <th>Пол</th>\n",
       "      <th>Возраст</th>\n",
       "      <th>Зарплата</th>\n",
       "      <th>Члены семьи</th>\n",
       "      <th>Страховые выплаты</th>\n",
       "      <th>Дробная часть</th>\n",
       "    </tr>\n",
       "  </thead>\n",
       "  <tbody>\n",
       "    <tr>\n",
       "      <th>80</th>\n",
       "      <td>1</td>\n",
       "      <td>41.0</td>\n",
       "      <td>32700.0</td>\n",
       "      <td>0</td>\n",
       "      <td>0</td>\n",
       "      <td>3.637979e-12</td>\n",
       "    </tr>\n",
       "    <tr>\n",
       "      <th>159</th>\n",
       "      <td>1</td>\n",
       "      <td>19.0</td>\n",
       "      <td>64900.0</td>\n",
       "      <td>2</td>\n",
       "      <td>0</td>\n",
       "      <td>7.275958e-12</td>\n",
       "    </tr>\n",
       "    <tr>\n",
       "      <th>313</th>\n",
       "      <td>0</td>\n",
       "      <td>25.0</td>\n",
       "      <td>32700.0</td>\n",
       "      <td>1</td>\n",
       "      <td>0</td>\n",
       "      <td>3.637979e-12</td>\n",
       "    </tr>\n",
       "    <tr>\n",
       "      <th>392</th>\n",
       "      <td>1</td>\n",
       "      <td>43.0</td>\n",
       "      <td>32700.0</td>\n",
       "      <td>1</td>\n",
       "      <td>1</td>\n",
       "      <td>3.637979e-12</td>\n",
       "    </tr>\n",
       "    <tr>\n",
       "      <th>448</th>\n",
       "      <td>1</td>\n",
       "      <td>32.0</td>\n",
       "      <td>32700.0</td>\n",
       "      <td>2</td>\n",
       "      <td>0</td>\n",
       "      <td>3.637979e-12</td>\n",
       "    </tr>\n",
       "    <tr>\n",
       "      <th>772</th>\n",
       "      <td>1</td>\n",
       "      <td>20.0</td>\n",
       "      <td>65100.0</td>\n",
       "      <td>1</td>\n",
       "      <td>0</td>\n",
       "      <td>1.000000e+00</td>\n",
       "    </tr>\n",
       "    <tr>\n",
       "      <th>820</th>\n",
       "      <td>0</td>\n",
       "      <td>29.0</td>\n",
       "      <td>32200.0</td>\n",
       "      <td>2</td>\n",
       "      <td>0</td>\n",
       "      <td>3.637979e-12</td>\n",
       "    </tr>\n",
       "    <tr>\n",
       "      <th>872</th>\n",
       "      <td>0</td>\n",
       "      <td>23.0</td>\n",
       "      <td>32200.0</td>\n",
       "      <td>3</td>\n",
       "      <td>0</td>\n",
       "      <td>3.637979e-12</td>\n",
       "    </tr>\n",
       "    <tr>\n",
       "      <th>911</th>\n",
       "      <td>0</td>\n",
       "      <td>30.0</td>\n",
       "      <td>32200.0</td>\n",
       "      <td>0</td>\n",
       "      <td>0</td>\n",
       "      <td>3.637979e-12</td>\n",
       "    </tr>\n",
       "    <tr>\n",
       "      <th>963</th>\n",
       "      <td>1</td>\n",
       "      <td>20.0</td>\n",
       "      <td>64100.0</td>\n",
       "      <td>0</td>\n",
       "      <td>0</td>\n",
       "      <td>1.000000e+00</td>\n",
       "    </tr>\n",
       "    <tr>\n",
       "      <th>1020</th>\n",
       "      <td>1</td>\n",
       "      <td>36.0</td>\n",
       "      <td>32700.0</td>\n",
       "      <td>2</td>\n",
       "      <td>0</td>\n",
       "      <td>3.637979e-12</td>\n",
       "    </tr>\n",
       "    <tr>\n",
       "      <th>1078</th>\n",
       "      <td>0</td>\n",
       "      <td>34.0</td>\n",
       "      <td>32200.0</td>\n",
       "      <td>3</td>\n",
       "      <td>0</td>\n",
       "      <td>3.637979e-12</td>\n",
       "    </tr>\n",
       "    <tr>\n",
       "      <th>1336</th>\n",
       "      <td>1</td>\n",
       "      <td>19.0</td>\n",
       "      <td>32700.0</td>\n",
       "      <td>0</td>\n",
       "      <td>0</td>\n",
       "      <td>3.637979e-12</td>\n",
       "    </tr>\n",
       "    <tr>\n",
       "      <th>1485</th>\n",
       "      <td>1</td>\n",
       "      <td>41.0</td>\n",
       "      <td>32700.0</td>\n",
       "      <td>0</td>\n",
       "      <td>0</td>\n",
       "      <td>3.637979e-12</td>\n",
       "    </tr>\n",
       "    <tr>\n",
       "      <th>1486</th>\n",
       "      <td>1</td>\n",
       "      <td>50.0</td>\n",
       "      <td>32200.0</td>\n",
       "      <td>2</td>\n",
       "      <td>2</td>\n",
       "      <td>3.637979e-12</td>\n",
       "    </tr>\n",
       "    <tr>\n",
       "      <th>1847</th>\n",
       "      <td>1</td>\n",
       "      <td>31.0</td>\n",
       "      <td>32700.0</td>\n",
       "      <td>0</td>\n",
       "      <td>0</td>\n",
       "      <td>3.637979e-12</td>\n",
       "    </tr>\n",
       "    <tr>\n",
       "      <th>1981</th>\n",
       "      <td>0</td>\n",
       "      <td>21.0</td>\n",
       "      <td>32200.0</td>\n",
       "      <td>1</td>\n",
       "      <td>0</td>\n",
       "      <td>3.637979e-12</td>\n",
       "    </tr>\n",
       "    <tr>\n",
       "      <th>2191</th>\n",
       "      <td>1</td>\n",
       "      <td>22.0</td>\n",
       "      <td>32200.0</td>\n",
       "      <td>1</td>\n",
       "      <td>0</td>\n",
       "      <td>3.637979e-12</td>\n",
       "    </tr>\n",
       "    <tr>\n",
       "      <th>2287</th>\n",
       "      <td>1</td>\n",
       "      <td>40.0</td>\n",
       "      <td>32200.0</td>\n",
       "      <td>3</td>\n",
       "      <td>0</td>\n",
       "      <td>3.637979e-12</td>\n",
       "    </tr>\n",
       "    <tr>\n",
       "      <th>2342</th>\n",
       "      <td>1</td>\n",
       "      <td>25.0</td>\n",
       "      <td>32700.0</td>\n",
       "      <td>2</td>\n",
       "      <td>0</td>\n",
       "      <td>3.637979e-12</td>\n",
       "    </tr>\n",
       "    <tr>\n",
       "      <th>2385</th>\n",
       "      <td>1</td>\n",
       "      <td>36.0</td>\n",
       "      <td>32700.0</td>\n",
       "      <td>1</td>\n",
       "      <td>0</td>\n",
       "      <td>3.637979e-12</td>\n",
       "    </tr>\n",
       "    <tr>\n",
       "      <th>2439</th>\n",
       "      <td>1</td>\n",
       "      <td>44.0</td>\n",
       "      <td>32200.0</td>\n",
       "      <td>1</td>\n",
       "      <td>1</td>\n",
       "      <td>3.637979e-12</td>\n",
       "    </tr>\n",
       "    <tr>\n",
       "      <th>2443</th>\n",
       "      <td>1</td>\n",
       "      <td>25.0</td>\n",
       "      <td>32700.0</td>\n",
       "      <td>0</td>\n",
       "      <td>0</td>\n",
       "      <td>3.637979e-12</td>\n",
       "    </tr>\n",
       "    <tr>\n",
       "      <th>2805</th>\n",
       "      <td>0</td>\n",
       "      <td>47.0</td>\n",
       "      <td>32700.0</td>\n",
       "      <td>1</td>\n",
       "      <td>1</td>\n",
       "      <td>3.637979e-12</td>\n",
       "    </tr>\n",
       "    <tr>\n",
       "      <th>2994</th>\n",
       "      <td>1</td>\n",
       "      <td>29.0</td>\n",
       "      <td>32200.0</td>\n",
       "      <td>1</td>\n",
       "      <td>0</td>\n",
       "      <td>3.637979e-12</td>\n",
       "    </tr>\n",
       "    <tr>\n",
       "      <th>3063</th>\n",
       "      <td>0</td>\n",
       "      <td>24.0</td>\n",
       "      <td>64400.0</td>\n",
       "      <td>0</td>\n",
       "      <td>0</td>\n",
       "      <td>7.275958e-12</td>\n",
       "    </tr>\n",
       "    <tr>\n",
       "      <th>3139</th>\n",
       "      <td>1</td>\n",
       "      <td>43.0</td>\n",
       "      <td>32200.0</td>\n",
       "      <td>2</td>\n",
       "      <td>1</td>\n",
       "      <td>3.637979e-12</td>\n",
       "    </tr>\n",
       "    <tr>\n",
       "      <th>3352</th>\n",
       "      <td>1</td>\n",
       "      <td>23.0</td>\n",
       "      <td>32200.0</td>\n",
       "      <td>5</td>\n",
       "      <td>0</td>\n",
       "      <td>3.637979e-12</td>\n",
       "    </tr>\n",
       "    <tr>\n",
       "      <th>3466</th>\n",
       "      <td>0</td>\n",
       "      <td>22.0</td>\n",
       "      <td>32700.0</td>\n",
       "      <td>4</td>\n",
       "      <td>0</td>\n",
       "      <td>3.637979e-12</td>\n",
       "    </tr>\n",
       "    <tr>\n",
       "      <th>3499</th>\n",
       "      <td>1</td>\n",
       "      <td>22.0</td>\n",
       "      <td>65100.0</td>\n",
       "      <td>4</td>\n",
       "      <td>0</td>\n",
       "      <td>1.000000e+00</td>\n",
       "    </tr>\n",
       "    <tr>\n",
       "      <th>3614</th>\n",
       "      <td>1</td>\n",
       "      <td>24.0</td>\n",
       "      <td>32700.0</td>\n",
       "      <td>1</td>\n",
       "      <td>0</td>\n",
       "      <td>3.637979e-12</td>\n",
       "    </tr>\n",
       "    <tr>\n",
       "      <th>3717</th>\n",
       "      <td>0</td>\n",
       "      <td>34.0</td>\n",
       "      <td>32700.0</td>\n",
       "      <td>0</td>\n",
       "      <td>0</td>\n",
       "      <td>3.637979e-12</td>\n",
       "    </tr>\n",
       "    <tr>\n",
       "      <th>3788</th>\n",
       "      <td>0</td>\n",
       "      <td>46.0</td>\n",
       "      <td>32700.0</td>\n",
       "      <td>2</td>\n",
       "      <td>1</td>\n",
       "      <td>3.637979e-12</td>\n",
       "    </tr>\n",
       "    <tr>\n",
       "      <th>3824</th>\n",
       "      <td>1</td>\n",
       "      <td>37.0</td>\n",
       "      <td>32700.0</td>\n",
       "      <td>2</td>\n",
       "      <td>0</td>\n",
       "      <td>3.637979e-12</td>\n",
       "    </tr>\n",
       "    <tr>\n",
       "      <th>3938</th>\n",
       "      <td>1</td>\n",
       "      <td>23.0</td>\n",
       "      <td>32200.0</td>\n",
       "      <td>1</td>\n",
       "      <td>0</td>\n",
       "      <td>3.637979e-12</td>\n",
       "    </tr>\n",
       "    <tr>\n",
       "      <th>4182</th>\n",
       "      <td>0</td>\n",
       "      <td>27.0</td>\n",
       "      <td>32200.0</td>\n",
       "      <td>2</td>\n",
       "      <td>0</td>\n",
       "      <td>3.637979e-12</td>\n",
       "    </tr>\n",
       "    <tr>\n",
       "      <th>4520</th>\n",
       "      <td>0</td>\n",
       "      <td>18.0</td>\n",
       "      <td>32700.0</td>\n",
       "      <td>3</td>\n",
       "      <td>0</td>\n",
       "      <td>3.637979e-12</td>\n",
       "    </tr>\n",
       "    <tr>\n",
       "      <th>4833</th>\n",
       "      <td>0</td>\n",
       "      <td>24.0</td>\n",
       "      <td>32200.0</td>\n",
       "      <td>1</td>\n",
       "      <td>0</td>\n",
       "      <td>3.637979e-12</td>\n",
       "    </tr>\n",
       "    <tr>\n",
       "      <th>4935</th>\n",
       "      <td>1</td>\n",
       "      <td>19.0</td>\n",
       "      <td>32700.0</td>\n",
       "      <td>0</td>\n",
       "      <td>0</td>\n",
       "      <td>3.637979e-12</td>\n",
       "    </tr>\n",
       "    <tr>\n",
       "      <th>4998</th>\n",
       "      <td>1</td>\n",
       "      <td>22.0</td>\n",
       "      <td>32700.0</td>\n",
       "      <td>3</td>\n",
       "      <td>0</td>\n",
       "      <td>3.637979e-12</td>\n",
       "    </tr>\n",
       "  </tbody>\n",
       "</table>\n",
       "</div>"
      ],
      "text/plain": [
       "      Пол  Возраст  Зарплата  Члены семьи  Страховые выплаты  Дробная часть\n",
       "80      1     41.0   32700.0            0                  0   3.637979e-12\n",
       "159     1     19.0   64900.0            2                  0   7.275958e-12\n",
       "313     0     25.0   32700.0            1                  0   3.637979e-12\n",
       "392     1     43.0   32700.0            1                  1   3.637979e-12\n",
       "448     1     32.0   32700.0            2                  0   3.637979e-12\n",
       "772     1     20.0   65100.0            1                  0   1.000000e+00\n",
       "820     0     29.0   32200.0            2                  0   3.637979e-12\n",
       "872     0     23.0   32200.0            3                  0   3.637979e-12\n",
       "911     0     30.0   32200.0            0                  0   3.637979e-12\n",
       "963     1     20.0   64100.0            0                  0   1.000000e+00\n",
       "1020    1     36.0   32700.0            2                  0   3.637979e-12\n",
       "1078    0     34.0   32200.0            3                  0   3.637979e-12\n",
       "1336    1     19.0   32700.0            0                  0   3.637979e-12\n",
       "1485    1     41.0   32700.0            0                  0   3.637979e-12\n",
       "1486    1     50.0   32200.0            2                  2   3.637979e-12\n",
       "1847    1     31.0   32700.0            0                  0   3.637979e-12\n",
       "1981    0     21.0   32200.0            1                  0   3.637979e-12\n",
       "2191    1     22.0   32200.0            1                  0   3.637979e-12\n",
       "2287    1     40.0   32200.0            3                  0   3.637979e-12\n",
       "2342    1     25.0   32700.0            2                  0   3.637979e-12\n",
       "2385    1     36.0   32700.0            1                  0   3.637979e-12\n",
       "2439    1     44.0   32200.0            1                  1   3.637979e-12\n",
       "2443    1     25.0   32700.0            0                  0   3.637979e-12\n",
       "2805    0     47.0   32700.0            1                  1   3.637979e-12\n",
       "2994    1     29.0   32200.0            1                  0   3.637979e-12\n",
       "3063    0     24.0   64400.0            0                  0   7.275958e-12\n",
       "3139    1     43.0   32200.0            2                  1   3.637979e-12\n",
       "3352    1     23.0   32200.0            5                  0   3.637979e-12\n",
       "3466    0     22.0   32700.0            4                  0   3.637979e-12\n",
       "3499    1     22.0   65100.0            4                  0   1.000000e+00\n",
       "3614    1     24.0   32700.0            1                  0   3.637979e-12\n",
       "3717    0     34.0   32700.0            0                  0   3.637979e-12\n",
       "3788    0     46.0   32700.0            2                  1   3.637979e-12\n",
       "3824    1     37.0   32700.0            2                  0   3.637979e-12\n",
       "3938    1     23.0   32200.0            1                  0   3.637979e-12\n",
       "4182    0     27.0   32200.0            2                  0   3.637979e-12\n",
       "4520    0     18.0   32700.0            3                  0   3.637979e-12\n",
       "4833    0     24.0   32200.0            1                  0   3.637979e-12\n",
       "4935    1     19.0   32700.0            0                  0   3.637979e-12\n",
       "4998    1     22.0   32700.0            3                  0   3.637979e-12"
      ]
     },
     "execution_count": 6,
     "metadata": {},
     "output_type": "execute_result"
    }
   ],
   "source": [
    "data['Дробная часть'] = data['Зарплата']%1\n",
    "data[(data['Зарплата']%1)>0]"
   ]
  },
  {
   "cell_type": "markdown",
   "metadata": {},
   "source": [
    "Судя по внешнему виду значений, эти отклонения вызваны какими-то техническими особенностями внесения / копирования / расчета данных и не несут никакой существенной ценности в плане информативности. Их потеря не приведет к потере точности расчетов. <br>\n",
    "Теперь можем перевести эти столбцы в формат int."
   ]
  },
  {
   "cell_type": "code",
   "execution_count": 7,
   "metadata": {},
   "outputs": [],
   "source": [
    "data['Возраст'] = data['Возраст'].astype(int)\n",
    "data['Зарплата'] = data['Зарплата'].astype(int)\n",
    "data = data.drop('Дробная часть', axis =1)"
   ]
  },
  {
   "cell_type": "markdown",
   "metadata": {},
   "source": [
    "Проверим распределение данных в столбцах."
   ]
  },
  {
   "cell_type": "code",
   "execution_count": 8,
   "metadata": {
    "scrolled": true
   },
   "outputs": [
    {
     "data": {
      "image/png": "[encoded data removed]",
      "text/plain": [
       "<Figure size 432x288 with 6 Axes>"
      ]
     },
     "metadata": {
      "needs_background": "light"
     },
     "output_type": "display_data"
    }
   ],
   "source": [
    "data.hist(grid = False);"
   ]
  },
  {
   "cell_type": "markdown",
   "metadata": {},
   "source": [
    "Посмотрим, какова корреляция между каждым из признаков и целевым признаком:"
   ]
  },
  {
   "cell_type": "code",
   "execution_count": 9,
   "metadata": {},
   "outputs": [
    {
     "data": {
      "text/html": [
       "<style  type=\"text/css\" >\n",
       "#T_dc94d_row0_col0,#T_dc94d_row1_col1,#T_dc94d_row2_col2,#T_dc94d_row3_col3,#T_dc94d_row4_col4{\n",
       "            background-color:  #081d58;\n",
       "            color:  #f1f1f1;\n",
       "        }#T_dc94d_row0_col1,#T_dc94d_row0_col3,#T_dc94d_row1_col0,#T_dc94d_row1_col2,#T_dc94d_row1_col3,#T_dc94d_row2_col1,#T_dc94d_row2_col3,#T_dc94d_row2_col4,#T_dc94d_row3_col0,#T_dc94d_row3_col1,#T_dc94d_row3_col2,#T_dc94d_row3_col4,#T_dc94d_row4_col2,#T_dc94d_row4_col3{\n",
       "            background-color:  #ffffd9;\n",
       "            color:  #000000;\n",
       "        }#T_dc94d_row0_col2,#T_dc94d_row2_col0{\n",
       "            background-color:  #fdfed5;\n",
       "            color:  #000000;\n",
       "        }#T_dc94d_row0_col4,#T_dc94d_row4_col0{\n",
       "            background-color:  #feffd6;\n",
       "            color:  #000000;\n",
       "        }#T_dc94d_row1_col4,#T_dc94d_row4_col1{\n",
       "            background-color:  #1e86bb;\n",
       "            color:  #000000;\n",
       "        }</style><table id=\"T_dc94d_\" ><thead>    <tr>        <th class=\"blank level0\" ></th>        <th class=\"col_heading level0 col0\" >Пол</th>        <th class=\"col_heading level0 col1\" >Возраст</th>        <th class=\"col_heading level0 col2\" >Зарплата</th>        <th class=\"col_heading level0 col3\" >Члены семьи</th>        <th class=\"col_heading level0 col4\" >Страховые выплаты</th>    </tr></thead><tbody>\n",
       "                <tr>\n",
       "                        <th id=\"T_dc94d_level0_row0\" class=\"row_heading level0 row0\" >Пол</th>\n",
       "                        <td id=\"T_dc94d_row0_col0\" class=\"data row0 col0\" >1.000000</td>\n",
       "                        <td id=\"T_dc94d_row0_col1\" class=\"data row0 col1\" >0.002074</td>\n",
       "                        <td id=\"T_dc94d_row0_col2\" class=\"data row0 col2\" >0.014910</td>\n",
       "                        <td id=\"T_dc94d_row0_col3\" class=\"data row0 col3\" >-0.008991</td>\n",
       "                        <td id=\"T_dc94d_row0_col4\" class=\"data row0 col4\" >0.010140</td>\n",
       "            </tr>\n",
       "            <tr>\n",
       "                        <th id=\"T_dc94d_level0_row1\" class=\"row_heading level0 row1\" >Возраст</th>\n",
       "                        <td id=\"T_dc94d_row1_col0\" class=\"data row1 col0\" >0.002074</td>\n",
       "                        <td id=\"T_dc94d_row1_col1\" class=\"data row1 col1\" >1.000000</td>\n",
       "                        <td id=\"T_dc94d_row1_col2\" class=\"data row1 col2\" >-0.019093</td>\n",
       "                        <td id=\"T_dc94d_row1_col3\" class=\"data row1 col3\" >-0.006692</td>\n",
       "                        <td id=\"T_dc94d_row1_col4\" class=\"data row1 col4\" >0.651030</td>\n",
       "            </tr>\n",
       "            <tr>\n",
       "                        <th id=\"T_dc94d_level0_row2\" class=\"row_heading level0 row2\" >Зарплата</th>\n",
       "                        <td id=\"T_dc94d_row2_col0\" class=\"data row2 col0\" >0.014910</td>\n",
       "                        <td id=\"T_dc94d_row2_col1\" class=\"data row2 col1\" >-0.019093</td>\n",
       "                        <td id=\"T_dc94d_row2_col2\" class=\"data row2 col2\" >1.000000</td>\n",
       "                        <td id=\"T_dc94d_row2_col3\" class=\"data row2 col3\" >-0.030296</td>\n",
       "                        <td id=\"T_dc94d_row2_col4\" class=\"data row2 col4\" >-0.014963</td>\n",
       "            </tr>\n",
       "            <tr>\n",
       "                        <th id=\"T_dc94d_level0_row3\" class=\"row_heading level0 row3\" >Члены семьи</th>\n",
       "                        <td id=\"T_dc94d_row3_col0\" class=\"data row3 col0\" >-0.008991</td>\n",
       "                        <td id=\"T_dc94d_row3_col1\" class=\"data row3 col1\" >-0.006692</td>\n",
       "                        <td id=\"T_dc94d_row3_col2\" class=\"data row3 col2\" >-0.030296</td>\n",
       "                        <td id=\"T_dc94d_row3_col3\" class=\"data row3 col3\" >1.000000</td>\n",
       "                        <td id=\"T_dc94d_row3_col4\" class=\"data row3 col4\" >-0.036290</td>\n",
       "            </tr>\n",
       "            <tr>\n",
       "                        <th id=\"T_dc94d_level0_row4\" class=\"row_heading level0 row4\" >Страховые выплаты</th>\n",
       "                        <td id=\"T_dc94d_row4_col0\" class=\"data row4 col0\" >0.010140</td>\n",
       "                        <td id=\"T_dc94d_row4_col1\" class=\"data row4 col1\" >0.651030</td>\n",
       "                        <td id=\"T_dc94d_row4_col2\" class=\"data row4 col2\" >-0.014963</td>\n",
       "                        <td id=\"T_dc94d_row4_col3\" class=\"data row4 col3\" >-0.036290</td>\n",
       "                        <td id=\"T_dc94d_row4_col4\" class=\"data row4 col4\" >1.000000</td>\n",
       "            </tr>\n",
       "    </tbody></table>"
      ],
      "text/plain": [
       "<pandas.io.formats.style.Styler at 0x7efcebdee7f0>"
      ]
     },
     "execution_count": 9,
     "metadata": {},
     "output_type": "execute_result"
    }
   ],
   "source": [
    "data.corr().style.background_gradient(axis=None, vmin=0, vmax=1, cmap=\"YlGnBu\")"
   ]
  },
  {
   "cell_type": "markdown",
   "metadata": {},
   "source": [
    "Есть прямая корреляция между Страховыми выплатами и Возрастом. По остальным столбцам прямой или обратной корреляции практически нет."
   ]
  },
  {
   "cell_type": "markdown",
   "metadata": {},
   "source": [
    "Судя по таблицам и графикам, данные достаточно качественные, предобработка и очистка не требуется. Нет значительных выбросов и экстремальных значений, нет null'овых значений и нулей.\n",
    "Можно приступать к основной задаче."
   ]
  },
  {
   "cell_type": "markdown",
   "metadata": {},
   "source": [
    "## Умножение матриц"
   ]
  },
  {
   "cell_type": "markdown",
   "metadata": {},
   "source": [
    "**Вопрос:** Признаки умножают на обратимую матрицу. Изменится ли качество линейной регрессии? <br>\n",
    "a. Изменится. Приведите примеры матриц.<br>\n",
    "b. Не изменится. Укажите, как связаны параметры линейной регрессии в исходной задаче и в преобразованной. <br>\n"
   ]
  },
  {
   "cell_type": "markdown",
   "metadata": {},
   "source": [
    "Обозначения:\n",
    "\n",
    "- $X$ — матрица признаков (нулевой столбец состоит из единиц)\n",
    "\n",
    "- $y$ — вектор целевого признака\n",
    "\n",
    "- $M$ — матрица, на которую умножаются признаки\n",
    "\n",
    "- $w$ — вектор весов линейной регрессии (нулевой элемент равен сдвигу)"
   ]
  },
  {
   "cell_type": "markdown",
   "metadata": {},
   "source": [
    "Предсказания:\n",
    "\n",
    "$$\n",
    "a = Xw\n",
    "$$\n",
    "\n",
    "Задача обучения:\n",
    "\n",
    "$$\n",
    "w = \\arg\\min_w MSE(Xw, y)\n",
    "$$\n",
    "\n",
    "Формула обучения:\n",
    "\n",
    "$$\n",
    "w = (X^T X)^{-1} X^T y\n",
    "$$"
   ]
  },
  {
   "cell_type": "markdown",
   "metadata": {},
   "source": [
    "**Ответ:** Качество линейной регрессии не изменится.\n",
    "\n",
    "**Обоснование:**\n",
    "<br>\n",
    "Можно привести обоснование вывода при помощи формул.\n",
    "<br>\n",
    "Допустим, нам необходимо сделать предсказания ***(b)*** на основе новой матрицы признаков, которая получилась из первичной матрицы ***Х*** путем умножения ее на обратимую матрицу ***М***.\n",
    "$$\n",
    "b = XMw_1\n",
    "$$\n",
    "Тогда формула обучения для этой матрицы будет выглядеть следующим образом:\n",
    "$$\n",
    "w_1 = ((XM)^T (XM))^{-1}(XM)^Ty\n",
    "$$\n",
    "\n",
    "Если подставить в формулу расчета ***b*** это новое уравнение, то получится следующее:\n",
    "$$\n",
    "b = (XM)((XM)^T (XM))^{-1}(XM)^Ty\n",
    "$$\n",
    "\n",
    "Так как транспонированное произведение матриц равно произведению транспонированных матриц (пр.1), то мы можем выразить ***b*** следующим образом:\n",
    "$$\n",
    "b = (XM)(M^T X^T XM)(XM)^T y\n",
    "$$\n",
    "и теперь можем применить обращение к трем элементам в скобках:\n",
    "$$\n",
    "b = XM M^{-1}(X^TX)^{-1}(M^T)^{-1}(XM)^T y\n",
    "$$\n",
    "\n",
    "Произведение матрицы М и матрицы, обратной М, дает нам единичную матрицу ***Е***.\n",
    "$$\n",
    "b = X E (X^TX)^{-1} (M^T)^{-1}(XM)^T y\n",
    "$$\n",
    "Аналогично применим пр.1 к (XM)^T, и это выражение принимает вид:\n",
    "$$\n",
    "b = X (X^T X)^{-1} (M^T)^{-1} M^T X^T y\n",
    "$$\n",
    "а произведение M^T и матрицы, обратной ей, опять дает единичную матрицу Е:\n",
    "$$\n",
    "b = X (X^T X)^{-1} E X^T y\n",
    "$$\n",
    "что, по сути, и дает нам:\n",
    "$$\n",
    "b = X(X^T X)^{-1} X^T y = Xw\n",
    "$$\n",
    "А значит *b = a*. Предсказания на новой матрице равны предсказаниям на изначальной. "
   ]
  },
  {
   "cell_type": "markdown",
   "metadata": {},
   "source": [
    "## Алгоритм преобразования"
   ]
  },
  {
   "cell_type": "markdown",
   "metadata": {},
   "source": [
    "**Алгоритм**\n",
    "\n",
    "Для защиты информации мы предусмотрим шифрование признаков с помощью домножения матрицы значений на произвольно сгенерированную обратимую матрицу. <br>\n",
    "Этапы: <br>\n",
    "1. Разделение датасета на признаки и целевой признак\n",
    "2. Генерирование произвольной квадратной матрицы М с размерностью по количеству признаков в исходном датасете при помощи numpy.random.matrix\n",
    "3. Проверка матрицы на обратимость\n",
    "4. Домножение признаков на матрицу М <br><br>\n",
    "В результате мы получим зашифрованную информацию, которая при использовании алгоритма линейной регрессии будет давать результат, не отличающийся от результата при незашифрованных данных."
   ]
  },
  {
   "cell_type": "markdown",
   "metadata": {},
   "source": [
    "**Обоснование** <br>\n",
    "Допустим, у нас есть датасет, который мы разделили на матрицу признаков X и вектор целевого признака Y. <br>\n",
    "X =\n",
    "$\\begin{pmatrix}\n",
    "1 & 2 & 3\\\\\n",
    "4 & 5 & 6\\\\\n",
    "7 & 8 & 9\n",
    "\\end{pmatrix}$ <br>\n",
    "\n",
    "Y = [3, 2, 1]. <br>\n",
    "Первым этапом домножим матрицу на произвольно сгенерированную матрицу М размера 3х3 (количество столбцов Х) со значениями в диапазоне от 1 до 10. <br>\n",
    "М = $\\begin{pmatrix} 5 & 6 & 7\\\\\n",
    "8 & 9 & 1\\\\\n",
    "2 & 3 & 4\n",
    "\\end{pmatrix}$ <br>\n",
    "Xm =  $\\begin{pmatrix} 1*5+2*8+3*7, ...\\\\\n",
    "...\\\\\n",
    "..., 7*7+8*1+9*4\n",
    "\\end{pmatrix}$ <br><br>\n",
    "<br>\n",
    "Xm =  $\\begin{pmatrix} 27 & 33 & 21\\\\\n",
    "72 & 87 & 57\\\\\n",
    "117 & 141 & 93\n",
    "\\end{pmatrix}$ <br>\n",
    "<br>\n",
    "Для расчета вектора коэффициентов добавим нулевой столбец в матрицу: <br>\n",
    "Xm =  $\\begin{pmatrix} 1 & 27 & 33 & 21\\\\\n",
    "1 & 72 & 87 & 57\\\\\n",
    "1 & 117 & 141 & 93\n",
    "\\end{pmatrix}$ <br>\n",
    "И затем найдем коэффициенты."
   ]
  },
  {
   "cell_type": "code",
   "execution_count": 11,
   "metadata": {},
   "outputs": [
    {
     "data": {
      "text/plain": [
       "0    13.657227\n",
       "1    -0.154785\n",
       "2    -0.011536\n",
       "3     0.062500\n",
       "dtype: float64"
      ]
     },
     "metadata": {},
     "output_type": "display_data"
    }
   ],
   "source": [
    "Y = [3,2,1]\n",
    "Xm = np.array([[1, 27, 33, 21],\n",
    "[1, 72, 87, 57], \n",
    "[1, 117, 141, 93]])\n",
    "(Xm.T @ Xm)\n",
    "display(pd.Series((np.linalg.inv(Xm.T.dot(Xm)) @ Xm.T).dot(Y)))"
   ]
  },
  {
   "cell_type": "markdown",
   "metadata": {},
   "source": [
    "## Проверка алгоритма"
   ]
  },
  {
   "cell_type": "code",
   "execution_count": 12,
   "metadata": {},
   "outputs": [],
   "source": [
    "# разделим датасет на признаки и таргет\n",
    "features = data.drop(['Страховые выплаты'], axis = 1)\n",
    "target = data['Страховые выплаты']"
   ]
  },
  {
   "cell_type": "code",
   "execution_count": 13,
   "metadata": {},
   "outputs": [],
   "source": [
    "# создадим класс линейной регрессии для создания предсказаний\n",
    "class LinearRegression:\n",
    "    def fit(self, features, target):\n",
    "        X = np.concatenate((np.ones((features.shape[0], 1)), features), axis=1)\n",
    "        y = target\n",
    "        w = (np.linalg.inv(X.T.dot(X)) @ X.T).dot(y)\n",
    "        self.w = w[1:]\n",
    "        self.w0 = w[0]\n",
    "        \n",
    "    def predict(self, features):\n",
    "        return features.dot(self.w)+ self.w0\n"
   ]
  },
  {
   "cell_type": "markdown",
   "metadata": {},
   "source": [
    "Создадим произвольно сгенерированную матрицу с размерностью 4х4 (=кол-во признаков в датасете). И проверим ее на обратимость."
   ]
  },
  {
   "cell_type": "code",
   "execution_count": 14,
   "metadata": {},
   "outputs": [],
   "source": [
    "new_matrix = r.normal(1, 10, (4,4)) # создание квадратной матрицы со стороной 4 и значениями в диапазоне от 0 до 10"
   ]
  },
  {
   "cell_type": "code",
   "execution_count": 15,
   "metadata": {},
   "outputs": [
    {
     "data": {
      "text/plain": [
       "array([[-0.12390833,  0.04499907,  0.01666804, -0.05444723],\n",
       "       [ 0.16287483,  0.00371089, -0.01381705,  0.05705642],\n",
       "       [-0.04190838, -0.0230193 ,  0.03556863,  0.03268005],\n",
       "       [ 0.05452226,  0.01556147, -0.05411846,  0.0549145 ]])"
      ]
     },
     "execution_count": 15,
     "metadata": {},
     "output_type": "execute_result"
    }
   ],
   "source": [
    "# проверка матрицы на обратимость\n",
    "np.linalg.inv(new_matrix) "
   ]
  },
  {
   "cell_type": "markdown",
   "metadata": {},
   "source": [
    "Функция возвращает значения, а не ошибку, а это значит, что матрица является обратимой. <br>\n",
    "Теперь домножим матрицу признаков на обратимую матрицу."
   ]
  },
  {
   "cell_type": "code",
   "execution_count": 16,
   "metadata": {},
   "outputs": [
    {
     "data": {
      "text/html": [
       "<div>\n",
       "<style scoped>\n",
       "    .dataframe tbody tr th:only-of-type {\n",
       "        vertical-align: middle;\n",
       "    }\n",
       "\n",
       "    .dataframe tbody tr th {\n",
       "        vertical-align: top;\n",
       "    }\n",
       "\n",
       "    .dataframe thead th {\n",
       "        text-align: right;\n",
       "    }\n",
       "</style>\n",
       "<table border=\"1\" class=\"dataframe\">\n",
       "  <thead>\n",
       "    <tr style=\"text-align: right;\">\n",
       "      <th></th>\n",
       "      <th>Пол</th>\n",
       "      <th>Возраст</th>\n",
       "      <th>Зарплата</th>\n",
       "      <th>Члены семьи</th>\n",
       "    </tr>\n",
       "  </thead>\n",
       "  <tbody>\n",
       "    <tr>\n",
       "      <th>0</th>\n",
       "      <td>-207809.840279</td>\n",
       "      <td>96319.078524</td>\n",
       "      <td>549714.687618</td>\n",
       "      <td>720795.218732</td>\n",
       "    </tr>\n",
       "    <tr>\n",
       "      <th>1</th>\n",
       "      <td>-159124.955089</td>\n",
       "      <td>73995.777307</td>\n",
       "      <td>421339.353649</td>\n",
       "      <td>552269.561581</td>\n",
       "    </tr>\n",
       "    <tr>\n",
       "      <th>2</th>\n",
       "      <td>-87914.236594</td>\n",
       "      <td>40943.741808</td>\n",
       "      <td>232900.231166</td>\n",
       "      <td>305207.920120</td>\n",
       "    </tr>\n",
       "    <tr>\n",
       "      <th>3</th>\n",
       "      <td>-174793.480684</td>\n",
       "      <td>80763.834750</td>\n",
       "      <td>461956.788985</td>\n",
       "      <td>605955.120555</td>\n",
       "    </tr>\n",
       "    <tr>\n",
       "      <th>4</th>\n",
       "      <td>-109312.447572</td>\n",
       "      <td>50787.767269</td>\n",
       "      <td>289362.114281</td>\n",
       "      <td>379307.139501</td>\n",
       "    </tr>\n",
       "  </tbody>\n",
       "</table>\n",
       "</div>"
      ],
      "text/plain": [
       "             Пол       Возраст       Зарплата    Члены семьи\n",
       "0 -207809.840279  96319.078524  549714.687618  720795.218732\n",
       "1 -159124.955089  73995.777307  421339.353649  552269.561581\n",
       "2  -87914.236594  40943.741808  232900.231166  305207.920120\n",
       "3 -174793.480684  80763.834750  461956.788985  605955.120555\n",
       "4 -109312.447572  50787.767269  289362.114281  379307.139501"
      ]
     },
     "metadata": {},
     "output_type": "display_data"
    }
   ],
   "source": [
    "new_features = (new_matrix @ features.T).T\n",
    "new_features.columns = features.columns\n",
    "display(new_features.head())"
   ]
  },
  {
   "cell_type": "markdown",
   "metadata": {},
   "source": [
    "Теперь вместо персональных данных таблица содержит некоторые значения, которые ничего не могут сказать стороннему наблюдателю. <br> <br>\n",
    "Следующим этапом нам необходимо проверить, изменятся ли предсказания по зашифрованным признакам по сравнению с незашифрованными. В нашем случае, определяющей является метрика R2. <br>\n",
    "Сначала сделаем предсказания на незашифрованных данных и посчитаем значение метрики."
   ]
  },
  {
   "cell_type": "code",
   "execution_count": 17,
   "metadata": {},
   "outputs": [],
   "source": [
    "features_train, features_valid, target_train, target_valid = train_test_split(features, target, \n",
    "                                                                              test_size = 0.25, \n",
    "                                                                              random_state = State)"
   ]
  },
  {
   "cell_type": "code",
   "execution_count": 18,
   "metadata": {},
   "outputs": [
    {
     "name": "stdout",
     "output_type": "stream",
     "text": [
      "Метрика R2 на незашифрованных данных: 0.435\n"
     ]
    }
   ],
   "source": [
    "model = LinearRegression()\n",
    "model.fit(features_train, target_train)\n",
    "predictions = model.predict(features_valid)\n",
    "r2_init = r2_score(target_valid, predictions)\n",
    "print('Метрика R2 на незашифрованных данных:', round(r2_init, 3))"
   ]
  },
  {
   "cell_type": "markdown",
   "metadata": {},
   "source": [
    "Теперь посчитаем ту же метрику, но предварительно зашифруем данные умножением на произвольную матрицу. <br>\n",
    "Создадим функцию шифрования данных и потом ее применим. Функция возвращает сами признаки в зашифрованном виде и ключ-декриптер к матрице, чтобы можно было при желании конвертировать ее в изначальный вид."
   ]
  },
  {
   "cell_type": "code",
   "execution_count": 28,
   "metadata": {},
   "outputs": [],
   "source": [
    "def encrypting(features):\n",
    "    size = len(features.columns)\n",
    "    new_matrix = r.normal(1, 10, (size,size))\n",
    "    try:\n",
    "        np.linalg.inv(new_matrix)     \n",
    "        new_features = (new_matrix @ features.T).T\n",
    "        new_features.columns = features.columns\n",
    "        decrypter = np.linalg.inv(new_matrix.T)\n",
    "        return new_features, decrypter\n",
    "    except:\n",
    "        return new_features, decrypter\n",
    "        encrypting(features)"
   ]
  },
  {
   "cell_type": "code",
   "execution_count": 29,
   "metadata": {
    "scrolled": true
   },
   "outputs": [
    {
     "data": {
      "text/html": [
       "<div>\n",
       "<style scoped>\n",
       "    .dataframe tbody tr th:only-of-type {\n",
       "        vertical-align: middle;\n",
       "    }\n",
       "\n",
       "    .dataframe tbody tr th {\n",
       "        vertical-align: top;\n",
       "    }\n",
       "\n",
       "    .dataframe thead th {\n",
       "        text-align: right;\n",
       "    }\n",
       "</style>\n",
       "<table border=\"1\" class=\"dataframe\">\n",
       "  <thead>\n",
       "    <tr style=\"text-align: right;\">\n",
       "      <th></th>\n",
       "      <th>Пол</th>\n",
       "      <th>Возраст</th>\n",
       "      <th>Зарплата</th>\n",
       "      <th>Члены семьи</th>\n",
       "    </tr>\n",
       "  </thead>\n",
       "  <tbody>\n",
       "    <tr>\n",
       "      <th>0</th>\n",
       "      <td>339483.799903</td>\n",
       "      <td>33185.998865</td>\n",
       "      <td>592946.585211</td>\n",
       "      <td>-211962.301577</td>\n",
       "    </tr>\n",
       "    <tr>\n",
       "      <th>1</th>\n",
       "      <td>259992.702637</td>\n",
       "      <td>25366.568571</td>\n",
       "      <td>454288.350769</td>\n",
       "      <td>-162140.081865</td>\n",
       "    </tr>\n",
       "    <tr>\n",
       "      <th>2</th>\n",
       "      <td>143655.570800</td>\n",
       "      <td>14006.394122</td>\n",
       "      <td>251050.396114</td>\n",
       "      <td>-89546.620459</td>\n",
       "    </tr>\n",
       "    <tr>\n",
       "      <th>3</th>\n",
       "      <td>285501.242591</td>\n",
       "      <td>27965.340407</td>\n",
       "      <td>498512.658240</td>\n",
       "      <td>-178418.125436</td>\n",
       "    </tr>\n",
       "    <tr>\n",
       "      <th>4</th>\n",
       "      <td>178597.693843</td>\n",
       "      <td>17430.491854</td>\n",
       "      <td>312010.826093</td>\n",
       "      <td>-111433.808469</td>\n",
       "    </tr>\n",
       "  </tbody>\n",
       "</table>\n",
       "</div>"
      ],
      "text/plain": [
       "             Пол       Возраст       Зарплата    Члены семьи\n",
       "0  339483.799903  33185.998865  592946.585211 -211962.301577\n",
       "1  259992.702637  25366.568571  454288.350769 -162140.081865\n",
       "2  143655.570800  14006.394122  251050.396114  -89546.620459\n",
       "3  285501.242591  27965.340407  498512.658240 -178418.125436\n",
       "4  178597.693843  17430.491854  312010.826093 -111433.808469"
      ]
     },
     "metadata": {},
     "output_type": "display_data"
    }
   ],
   "source": [
    "encrypted_features, decrypter = encrypting(features)\n",
    "display(encrypted_features.head())"
   ]
  },
  {
   "cell_type": "code",
   "execution_count": 30,
   "metadata": {},
   "outputs": [],
   "source": [
    "encrypted_features_train, encrypted_features_valid, encrypted_target_train, encrypted_target_valid = train_test_split(encrypted_features, target, \n",
    "                                                                              test_size = 0.25, \n",
    "                                                                              random_state = State)"
   ]
  },
  {
   "cell_type": "code",
   "execution_count": 21,
   "metadata": {},
   "outputs": [
    {
     "name": "stdout",
     "output_type": "stream",
     "text": [
      "Метрика R2 на зашифрованных данных: 0.435\n"
     ]
    }
   ],
   "source": [
    "model = LinearRegression()\n",
    "model.fit(encrypted_features_train, encrypted_target_train)\n",
    "predictions = model.predict(encrypted_features_valid)\n",
    "r2_new = r2_score(encrypted_target_valid, predictions)\n",
    "print('Метрика R2 на зашифрованных данных:', round(r2_new, 3))"
   ]
  },
  {
   "cell_type": "markdown",
   "metadata": {},
   "source": [
    "Мы видим, что показатель метрики R2 не изменился после шифрования данных и по-прежнему равен 0,435."
   ]
  },
  {
   "cell_type": "markdown",
   "metadata": {},
   "source": [
    "Проверим, на всякий случай, правильно ли расшифровываются признаки при домножении матрицы признаков на декриптер (матрицу, обратную сгенерированной)."
   ]
  },
  {
   "cell_type": "code",
   "execution_count": 22,
   "metadata": {},
   "outputs": [
    {
     "data": {
      "text/html": [
       "<div>\n",
       "<style scoped>\n",
       "    .dataframe tbody tr th:only-of-type {\n",
       "        vertical-align: middle;\n",
       "    }\n",
       "\n",
       "    .dataframe tbody tr th {\n",
       "        vertical-align: top;\n",
       "    }\n",
       "\n",
       "    .dataframe thead th {\n",
       "        text-align: right;\n",
       "    }\n",
       "</style>\n",
       "<table border=\"1\" class=\"dataframe\">\n",
       "  <thead>\n",
       "    <tr style=\"text-align: right;\">\n",
       "      <th></th>\n",
       "      <th>Пол</th>\n",
       "      <th>Возраст</th>\n",
       "      <th>Зарплата</th>\n",
       "      <th>Члены семьи</th>\n",
       "    </tr>\n",
       "  </thead>\n",
       "  <tbody>\n",
       "    <tr>\n",
       "      <th>0</th>\n",
       "      <td>1</td>\n",
       "      <td>41</td>\n",
       "      <td>49600</td>\n",
       "      <td>1</td>\n",
       "    </tr>\n",
       "    <tr>\n",
       "      <th>1</th>\n",
       "      <td>0</td>\n",
       "      <td>46</td>\n",
       "      <td>38000</td>\n",
       "      <td>1</td>\n",
       "    </tr>\n",
       "    <tr>\n",
       "      <th>2</th>\n",
       "      <td>0</td>\n",
       "      <td>29</td>\n",
       "      <td>21000</td>\n",
       "      <td>0</td>\n",
       "    </tr>\n",
       "    <tr>\n",
       "      <th>3</th>\n",
       "      <td>0</td>\n",
       "      <td>21</td>\n",
       "      <td>41700</td>\n",
       "      <td>2</td>\n",
       "    </tr>\n",
       "    <tr>\n",
       "      <th>4</th>\n",
       "      <td>1</td>\n",
       "      <td>28</td>\n",
       "      <td>26100</td>\n",
       "      <td>0</td>\n",
       "    </tr>\n",
       "  </tbody>\n",
       "</table>\n",
       "</div>"
      ],
      "text/plain": [
       "   Пол  Возраст  Зарплата  Члены семьи\n",
       "0    1       41     49600            1\n",
       "1    0       46     38000            1\n",
       "2    0       29     21000            0\n",
       "3    0       21     41700            2\n",
       "4    1       28     26100            0"
      ]
     },
     "execution_count": 22,
     "metadata": {},
     "output_type": "execute_result"
    }
   ],
   "source": [
    "decrypted_features = encrypted_features.dot(decrypter)\n",
    "decrypted_features.columns = features.columns\n",
    "decrypted_features = abs(round(pd.DataFrame(decrypted_features))).astype(int)\n",
    "decrypted_features.head()"
   ]
  },
  {
   "cell_type": "markdown",
   "metadata": {},
   "source": [
    "Посмотрим, совпадают ли значения с изначальным датасетом. Создадим столбец, возвращающий результат сравнения по столбцам. Если сумма по столбцу будет больше 0, то это значит, что в каких-то строках значения отличаются; если сумма = 0, значит все значения совпадают."
   ]
  },
  {
   "cell_type": "code",
   "execution_count": 23,
   "metadata": {},
   "outputs": [],
   "source": [
    "for column in features.columns:\n",
    "    decrypted_features['compare'] = features[column]!= decrypted_features[column]\n",
    "    if decrypted_features['compare'].sum() >0 : \n",
    "        print(f'В столбце {column} значения не совпадают!')"
   ]
  },
  {
   "cell_type": "markdown",
   "metadata": {},
   "source": [
    "Мы убедились, что таблица совпадает полностью."
   ]
  },
  {
   "cell_type": "markdown",
   "metadata": {},
   "source": [
    "**Заключение:**<br>\n",
    "В качестве алгоритма шифрования данных мы предложили домножение матрицы признаков на квадратную обратимую матрицу с размерностью m x m, где m - количество признаков в датасете. <br>\n",
    "Нам удалось доказать, что умножение на такую матрицу не повлияет на финальный результат, при этом персональные данные приведены в такой вид, который не раскрывает реальные цифры по клиентам."
   ]
  }
 ],
 "metadata": {
  "ExecuteTimeLog": [
   {
    "duration": 584,
    "start_time": "2022-08-26T15:12:26.995Z"
   },
   {
    "duration": 48,
    "start_time": "2022-08-28T09:16:11.200Z"
   },
   {
    "duration": 399,
    "start_time": "2022-08-28T09:16:14.100Z"
   },
   {
    "duration": 84,
    "start_time": "2022-08-28T09:16:17.744Z"
   },
   {
    "duration": 44,
    "start_time": "2022-08-28T09:17:38.599Z"
   },
   {
    "duration": 20,
    "start_time": "2022-08-28T09:18:13.751Z"
   },
   {
    "duration": 739,
    "start_time": "2022-08-28T09:18:28.438Z"
   },
   {
    "duration": 2,
    "start_time": "2022-08-28T09:19:21.745Z"
   },
   {
    "duration": 450,
    "start_time": "2022-08-28T09:19:31.084Z"
   },
   {
    "duration": 6,
    "start_time": "2022-08-28T09:19:43.912Z"
   },
   {
    "duration": 392,
    "start_time": "2022-08-28T09:19:59.041Z"
   },
   {
    "duration": 409,
    "start_time": "2022-08-28T09:20:12.558Z"
   },
   {
    "duration": 4,
    "start_time": "2022-08-28T09:44:32.498Z"
   },
   {
    "duration": 7,
    "start_time": "2022-08-28T10:42:24.487Z"
   },
   {
    "duration": 4,
    "start_time": "2022-08-28T10:42:27.492Z"
   },
   {
    "duration": 81,
    "start_time": "2022-08-28T10:42:28.930Z"
   },
   {
    "duration": 682,
    "start_time": "2022-08-28T10:42:35.444Z"
   },
   {
    "duration": 96,
    "start_time": "2022-08-28T10:42:39.916Z"
   },
   {
    "duration": 97,
    "start_time": "2022-08-28T10:46:49.417Z"
   },
   {
    "duration": 65,
    "start_time": "2022-08-28T10:48:10.615Z"
   },
   {
    "duration": 59,
    "start_time": "2022-08-28T10:48:18.813Z"
   },
   {
    "duration": 57,
    "start_time": "2022-08-28T10:48:31.696Z"
   },
   {
    "duration": 5,
    "start_time": "2022-08-28T10:48:43.439Z"
   },
   {
    "duration": 12,
    "start_time": "2022-08-28T10:48:53.898Z"
   },
   {
    "duration": 4,
    "start_time": "2022-08-28T10:49:06.469Z"
   },
   {
    "duration": 4,
    "start_time": "2022-08-28T10:49:44.428Z"
   },
   {
    "duration": 58,
    "start_time": "2022-08-28T10:49:54.582Z"
   },
   {
    "duration": 12,
    "start_time": "2022-08-28T10:58:31.176Z"
   },
   {
    "duration": 12,
    "start_time": "2022-08-28T10:59:19.668Z"
   },
   {
    "duration": 6,
    "start_time": "2022-08-28T11:00:19.228Z"
   },
   {
    "duration": 14,
    "start_time": "2022-08-28T11:00:26.018Z"
   },
   {
    "duration": 11,
    "start_time": "2022-08-28T11:01:03.432Z"
   },
   {
    "duration": 10,
    "start_time": "2022-08-28T11:01:08.416Z"
   },
   {
    "duration": 50,
    "start_time": "2022-08-28T11:01:18.506Z"
   },
   {
    "duration": 280,
    "start_time": "2022-08-28T11:01:20.744Z"
   },
   {
    "duration": 15,
    "start_time": "2022-08-28T11:01:44.322Z"
   },
   {
    "duration": 303,
    "start_time": "2022-08-28T11:01:47.718Z"
   },
   {
    "duration": 10,
    "start_time": "2022-08-28T11:02:25.135Z"
   },
   {
    "duration": 11,
    "start_time": "2022-08-28T11:02:31.343Z"
   },
   {
    "duration": 268,
    "start_time": "2022-08-28T11:02:35.266Z"
   },
   {
    "duration": 8,
    "start_time": "2022-08-28T11:02:42.919Z"
   },
   {
    "duration": 13,
    "start_time": "2022-08-28T11:03:09.035Z"
   },
   {
    "duration": 10,
    "start_time": "2022-08-28T11:03:11.536Z"
   },
   {
    "duration": 9,
    "start_time": "2022-08-28T11:03:31.497Z"
   },
   {
    "duration": 87,
    "start_time": "2022-08-28T11:03:40.318Z"
   },
   {
    "duration": 9,
    "start_time": "2022-08-28T11:03:44.313Z"
   },
   {
    "duration": 9,
    "start_time": "2022-08-28T11:04:11.776Z"
   },
   {
    "duration": 14,
    "start_time": "2022-08-28T11:04:15.143Z"
   },
   {
    "duration": 10,
    "start_time": "2022-08-28T11:04:17.961Z"
   },
   {
    "duration": 311,
    "start_time": "2022-08-28T11:04:29.417Z"
   },
   {
    "duration": 10,
    "start_time": "2022-08-28T11:04:36.364Z"
   },
   {
    "duration": 9,
    "start_time": "2022-08-28T11:04:46.686Z"
   },
   {
    "duration": 272,
    "start_time": "2022-08-28T11:04:55.762Z"
   },
   {
    "duration": 12,
    "start_time": "2022-08-28T11:05:09.037Z"
   },
   {
    "duration": 345,
    "start_time": "2022-08-28T11:05:15.279Z"
   },
   {
    "duration": 216,
    "start_time": "2022-08-28T11:05:42.788Z"
   },
   {
    "duration": 10,
    "start_time": "2022-08-28T11:05:49.929Z"
   },
   {
    "duration": 297,
    "start_time": "2022-08-28T11:45:49.983Z"
   },
   {
    "duration": 13,
    "start_time": "2022-08-28T11:46:09.399Z"
   },
   {
    "duration": 13,
    "start_time": "2022-08-28T11:47:38.278Z"
   },
   {
    "duration": 19,
    "start_time": "2022-08-28T11:48:27.832Z"
   },
   {
    "duration": 13,
    "start_time": "2022-08-28T11:48:50.839Z"
   },
   {
    "duration": 8,
    "start_time": "2022-08-28T11:49:04.090Z"
   },
   {
    "duration": 6,
    "start_time": "2022-08-28T11:49:08.726Z"
   },
   {
    "duration": 1458,
    "start_time": "2022-08-30T09:24:36.383Z"
   },
   {
    "duration": 0,
    "start_time": "2022-08-30T09:24:37.844Z"
   },
   {
    "duration": 0,
    "start_time": "2022-08-30T09:24:37.845Z"
   },
   {
    "duration": 0,
    "start_time": "2022-08-30T09:24:37.846Z"
   },
   {
    "duration": 0,
    "start_time": "2022-08-30T09:24:37.848Z"
   },
   {
    "duration": 0,
    "start_time": "2022-08-30T09:24:37.849Z"
   },
   {
    "duration": 0,
    "start_time": "2022-08-30T09:24:37.851Z"
   },
   {
    "duration": 10,
    "start_time": "2022-08-30T09:29:35.935Z"
   },
   {
    "duration": 173,
    "start_time": "2022-08-30T09:29:42.242Z"
   },
   {
    "duration": 93,
    "start_time": "2022-08-30T09:29:42.417Z"
   },
   {
    "duration": 23,
    "start_time": "2022-08-30T09:29:42.512Z"
   },
   {
    "duration": 428,
    "start_time": "2022-08-30T09:29:42.537Z"
   },
   {
    "duration": 4,
    "start_time": "2022-08-30T09:29:42.967Z"
   },
   {
    "duration": 7,
    "start_time": "2022-08-30T09:29:42.973Z"
   },
   {
    "duration": 130,
    "start_time": "2022-08-30T09:29:42.982Z"
   },
   {
    "duration": 103,
    "start_time": "2022-08-30T09:29:43.117Z"
   },
   {
    "duration": 8,
    "start_time": "2022-08-30T09:29:43.221Z"
   },
   {
    "duration": 10,
    "start_time": "2022-08-30T09:29:47.811Z"
   },
   {
    "duration": 5,
    "start_time": "2022-08-30T09:30:57.885Z"
   },
   {
    "duration": 45,
    "start_time": "2022-09-01T07:34:15.408Z"
   },
   {
    "duration": 1403,
    "start_time": "2022-09-01T07:34:21.642Z"
   },
   {
    "duration": 113,
    "start_time": "2022-09-01T07:34:23.047Z"
   },
   {
    "duration": 23,
    "start_time": "2022-09-01T07:34:23.162Z"
   },
   {
    "duration": 388,
    "start_time": "2022-09-01T07:34:25.408Z"
   },
   {
    "duration": 75,
    "start_time": "2022-09-01T07:37:35.458Z"
   },
   {
    "duration": 4,
    "start_time": "2022-09-01T07:37:37.058Z"
   },
   {
    "duration": 4,
    "start_time": "2022-09-01T07:37:38.880Z"
   },
   {
    "duration": 4,
    "start_time": "2022-09-01T07:37:40.803Z"
   },
   {
    "duration": 9,
    "start_time": "2022-09-01T07:37:43.896Z"
   },
   {
    "duration": 10,
    "start_time": "2022-09-01T07:37:49.009Z"
   },
   {
    "duration": 9,
    "start_time": "2022-09-01T07:37:58.189Z"
   },
   {
    "duration": 12,
    "start_time": "2022-09-01T07:38:02.251Z"
   },
   {
    "duration": 15,
    "start_time": "2022-09-01T07:38:09.827Z"
   },
   {
    "duration": 7,
    "start_time": "2022-09-01T07:40:25.152Z"
   },
   {
    "duration": 15,
    "start_time": "2022-09-01T07:40:40.499Z"
   },
   {
    "duration": 8,
    "start_time": "2022-09-01T07:48:54.315Z"
   },
   {
    "duration": 12,
    "start_time": "2022-09-01T07:51:38.333Z"
   },
   {
    "duration": 4,
    "start_time": "2022-09-01T07:53:02.825Z"
   },
   {
    "duration": 10,
    "start_time": "2022-09-01T07:53:10.598Z"
   },
   {
    "duration": 5,
    "start_time": "2022-09-01T07:53:15.219Z"
   },
   {
    "duration": 17,
    "start_time": "2022-09-01T07:53:17.029Z"
   },
   {
    "duration": 16,
    "start_time": "2022-09-01T07:53:32.075Z"
   },
   {
    "duration": 1309,
    "start_time": "2022-09-01T07:54:03.452Z"
   },
   {
    "duration": 47,
    "start_time": "2022-09-01T07:54:04.764Z"
   },
   {
    "duration": 25,
    "start_time": "2022-09-01T07:54:04.812Z"
   },
   {
    "duration": 438,
    "start_time": "2022-09-01T07:54:04.839Z"
   },
   {
    "duration": 4,
    "start_time": "2022-09-01T07:54:05.278Z"
   },
   {
    "duration": 9,
    "start_time": "2022-09-01T07:54:05.284Z"
   },
   {
    "duration": 9,
    "start_time": "2022-09-01T07:54:05.295Z"
   },
   {
    "duration": 7,
    "start_time": "2022-09-01T07:54:05.305Z"
   },
   {
    "duration": 66,
    "start_time": "2022-09-01T07:54:05.314Z"
   },
   {
    "duration": 5,
    "start_time": "2022-09-01T07:54:05.383Z"
   },
   {
    "duration": 269,
    "start_time": "2022-09-01T07:54:12.753Z"
   },
   {
    "duration": 6,
    "start_time": "2022-09-01T07:54:58.610Z"
   },
   {
    "duration": 9,
    "start_time": "2022-09-01T07:54:59.963Z"
   },
   {
    "duration": 4,
    "start_time": "2022-09-01T07:55:09.825Z"
   },
   {
    "duration": 8,
    "start_time": "2022-09-01T07:55:13.608Z"
   },
   {
    "duration": 3,
    "start_time": "2022-09-01T07:55:21.613Z"
   },
   {
    "duration": 7,
    "start_time": "2022-09-01T07:56:27.310Z"
   },
   {
    "duration": 3,
    "start_time": "2022-09-01T08:04:26.884Z"
   },
   {
    "duration": 12,
    "start_time": "2022-09-01T08:06:06.461Z"
   },
   {
    "duration": 13,
    "start_time": "2022-09-01T08:07:02.069Z"
   },
   {
    "duration": 4,
    "start_time": "2022-09-01T08:07:03.613Z"
   },
   {
    "duration": 12,
    "start_time": "2022-09-01T08:07:11.834Z"
   },
   {
    "duration": 10,
    "start_time": "2022-09-01T08:29:50.597Z"
   },
   {
    "duration": 9,
    "start_time": "2022-09-01T08:29:51.990Z"
   },
   {
    "duration": 5,
    "start_time": "2022-09-01T08:30:28.614Z"
   },
   {
    "duration": 11,
    "start_time": "2022-09-01T08:30:29.930Z"
   },
   {
    "duration": 7,
    "start_time": "2022-09-01T08:30:51.972Z"
   },
   {
    "duration": 9,
    "start_time": "2022-09-02T07:34:10.487Z"
   },
   {
    "duration": 51,
    "start_time": "2022-09-02T07:34:34.812Z"
   },
   {
    "duration": 1715,
    "start_time": "2022-09-02T07:34:41.997Z"
   },
   {
    "duration": 78,
    "start_time": "2022-09-02T07:35:43.346Z"
   },
   {
    "duration": 89,
    "start_time": "2022-09-02T07:35:56.304Z"
   },
   {
    "duration": 75,
    "start_time": "2022-09-02T07:37:46.904Z"
   },
   {
    "duration": 7,
    "start_time": "2022-09-02T07:39:48.739Z"
   },
   {
    "duration": 5,
    "start_time": "2022-09-02T07:39:52.614Z"
   },
   {
    "duration": 7,
    "start_time": "2022-09-02T07:40:18.003Z"
   },
   {
    "duration": 228,
    "start_time": "2022-09-02T07:40:31.933Z"
   },
   {
    "duration": 5,
    "start_time": "2022-09-02T07:40:50.628Z"
   },
   {
    "duration": 5,
    "start_time": "2022-09-02T07:42:04.184Z"
   },
   {
    "duration": 13,
    "start_time": "2022-09-02T07:42:12.306Z"
   },
   {
    "duration": 7,
    "start_time": "2022-09-02T07:45:44.974Z"
   },
   {
    "duration": 7,
    "start_time": "2022-09-02T07:48:17.851Z"
   },
   {
    "duration": 9,
    "start_time": "2022-09-02T07:48:35.119Z"
   },
   {
    "duration": 7,
    "start_time": "2022-09-02T07:48:44.279Z"
   },
   {
    "duration": 3,
    "start_time": "2022-09-02T08:07:45.360Z"
   },
   {
    "duration": 99,
    "start_time": "2022-09-02T08:07:45.365Z"
   },
   {
    "duration": 24,
    "start_time": "2022-09-02T08:07:45.466Z"
   },
   {
    "duration": 442,
    "start_time": "2022-09-02T08:07:45.492Z"
   },
   {
    "duration": 6,
    "start_time": "2022-09-02T08:07:45.937Z"
   },
   {
    "duration": 61,
    "start_time": "2022-09-02T08:07:45.945Z"
   },
   {
    "duration": 94,
    "start_time": "2022-09-02T08:07:46.008Z"
   },
   {
    "duration": 9,
    "start_time": "2022-09-02T08:07:46.105Z"
   },
   {
    "duration": 7,
    "start_time": "2022-09-02T08:07:46.116Z"
   },
   {
    "duration": 85,
    "start_time": "2022-09-02T08:07:46.125Z"
   },
   {
    "duration": 6,
    "start_time": "2022-09-02T08:07:46.213Z"
   },
   {
    "duration": 91,
    "start_time": "2022-09-02T08:07:46.221Z"
   },
   {
    "duration": 90,
    "start_time": "2022-09-02T08:07:46.314Z"
   },
   {
    "duration": 103,
    "start_time": "2022-09-02T08:07:46.406Z"
   },
   {
    "duration": 5,
    "start_time": "2022-09-02T08:07:46.511Z"
   },
   {
    "duration": 10,
    "start_time": "2022-09-02T08:07:46.518Z"
   },
   {
    "duration": 69,
    "start_time": "2022-09-05T09:44:00.155Z"
   },
   {
    "duration": 1410,
    "start_time": "2022-09-05T09:44:05.612Z"
   },
   {
    "duration": 98,
    "start_time": "2022-09-05T09:44:07.024Z"
   },
   {
    "duration": 23,
    "start_time": "2022-09-05T09:44:07.123Z"
   },
   {
    "duration": 424,
    "start_time": "2022-09-05T09:44:07.148Z"
   },
   {
    "duration": 22,
    "start_time": "2022-09-05T09:44:10.081Z"
   },
   {
    "duration": 6,
    "start_time": "2022-09-05T09:51:56.498Z"
   },
   {
    "duration": 13,
    "start_time": "2022-09-05T09:52:52.690Z"
   },
   {
    "duration": 4,
    "start_time": "2022-09-05T09:53:49.018Z"
   },
   {
    "duration": 86,
    "start_time": "2022-09-05T09:53:53.434Z"
   },
   {
    "duration": 3,
    "start_time": "2022-09-05T09:54:07.875Z"
   },
   {
    "duration": 5,
    "start_time": "2022-09-05T09:54:26.135Z"
   },
   {
    "duration": 3,
    "start_time": "2022-09-05T09:55:45.502Z"
   },
   {
    "duration": 22,
    "start_time": "2022-09-05T09:55:53.342Z"
   },
   {
    "duration": 19,
    "start_time": "2022-09-05T09:57:19.303Z"
   },
   {
    "duration": 3,
    "start_time": "2022-09-05T10:00:29.714Z"
   },
   {
    "duration": 15,
    "start_time": "2022-09-05T10:01:10.398Z"
   },
   {
    "duration": 301,
    "start_time": "2022-09-05T10:02:53.360Z"
   },
   {
    "duration": 3,
    "start_time": "2022-09-05T11:51:17.345Z"
   },
   {
    "duration": 3,
    "start_time": "2022-09-05T11:52:07.058Z"
   },
   {
    "duration": 3,
    "start_time": "2022-09-05T11:58:52.507Z"
   },
   {
    "duration": 8,
    "start_time": "2022-09-05T11:58:56.523Z"
   },
   {
    "duration": 2,
    "start_time": "2022-09-05T11:59:03.341Z"
   },
   {
    "duration": 6,
    "start_time": "2022-09-05T11:59:03.347Z"
   },
   {
    "duration": 48,
    "start_time": "2022-09-05T11:59:03.355Z"
   },
   {
    "duration": 22,
    "start_time": "2022-09-05T11:59:03.405Z"
   },
   {
    "duration": 4,
    "start_time": "2022-09-05T11:59:03.429Z"
   },
   {
    "duration": 18,
    "start_time": "2022-09-05T11:59:03.459Z"
   },
   {
    "duration": 11,
    "start_time": "2022-09-05T11:59:03.517Z"
   },
   {
    "duration": 424,
    "start_time": "2022-09-05T11:59:03.530Z"
   },
   {
    "duration": 11,
    "start_time": "2022-09-05T11:59:03.955Z"
   },
   {
    "duration": 20,
    "start_time": "2022-09-05T11:59:03.968Z"
   },
   {
    "duration": 98,
    "start_time": "2022-09-05T11:59:03.991Z"
   },
   {
    "duration": 100,
    "start_time": "2022-09-05T11:59:04.091Z"
   },
   {
    "duration": 5,
    "start_time": "2022-09-05T11:59:04.193Z"
   },
   {
    "duration": 6,
    "start_time": "2022-09-05T11:59:04.199Z"
   },
   {
    "duration": 554,
    "start_time": "2022-09-05T11:59:04.206Z"
   },
   {
    "duration": 0,
    "start_time": "2022-09-05T11:59:04.761Z"
   },
   {
    "duration": 0,
    "start_time": "2022-09-05T11:59:04.763Z"
   },
   {
    "duration": 0,
    "start_time": "2022-09-05T11:59:04.764Z"
   },
   {
    "duration": 14,
    "start_time": "2022-09-05T11:59:07.690Z"
   },
   {
    "duration": 15,
    "start_time": "2022-09-05T11:59:19.169Z"
   },
   {
    "duration": 5,
    "start_time": "2022-09-05T11:59:35.650Z"
   },
   {
    "duration": 7,
    "start_time": "2022-09-05T11:59:36.936Z"
   },
   {
    "duration": 3,
    "start_time": "2022-09-05T12:00:36.432Z"
   },
   {
    "duration": 2,
    "start_time": "2022-09-05T12:00:52.325Z"
   },
   {
    "duration": 380,
    "start_time": "2022-09-05T12:01:12.270Z"
   },
   {
    "duration": 1253,
    "start_time": "2022-09-05T12:01:30.663Z"
   },
   {
    "duration": 3,
    "start_time": "2022-09-05T12:01:31.918Z"
   },
   {
    "duration": 51,
    "start_time": "2022-09-05T12:01:31.923Z"
   },
   {
    "duration": 22,
    "start_time": "2022-09-05T12:01:31.977Z"
   },
   {
    "duration": 6,
    "start_time": "2022-09-05T12:01:32.001Z"
   },
   {
    "duration": 18,
    "start_time": "2022-09-05T12:01:32.009Z"
   },
   {
    "duration": 10,
    "start_time": "2022-09-05T12:01:32.028Z"
   },
   {
    "duration": 476,
    "start_time": "2022-09-05T12:01:32.039Z"
   },
   {
    "duration": 10,
    "start_time": "2022-09-05T12:01:32.517Z"
   },
   {
    "duration": 5,
    "start_time": "2022-09-05T12:01:32.529Z"
   },
   {
    "duration": 49,
    "start_time": "2022-09-05T12:01:32.536Z"
   },
   {
    "duration": 11,
    "start_time": "2022-09-05T12:01:32.587Z"
   },
   {
    "duration": 85,
    "start_time": "2022-09-05T12:01:32.600Z"
   },
   {
    "duration": 7,
    "start_time": "2022-09-05T12:01:32.687Z"
   },
   {
    "duration": 548,
    "start_time": "2022-09-05T12:01:32.695Z"
   },
   {
    "duration": 0,
    "start_time": "2022-09-05T12:01:33.244Z"
   },
   {
    "duration": 0,
    "start_time": "2022-09-05T12:01:33.245Z"
   },
   {
    "duration": 0,
    "start_time": "2022-09-05T12:01:33.246Z"
   },
   {
    "duration": 0,
    "start_time": "2022-09-05T12:01:33.247Z"
   },
   {
    "duration": 0,
    "start_time": "2022-09-05T12:01:33.248Z"
   },
   {
    "duration": 0,
    "start_time": "2022-09-05T12:01:33.249Z"
   },
   {
    "duration": 1409,
    "start_time": "2022-09-05T12:08:23.480Z"
   },
   {
    "duration": 3,
    "start_time": "2022-09-05T12:08:24.891Z"
   },
   {
    "duration": 52,
    "start_time": "2022-09-05T12:08:24.896Z"
   },
   {
    "duration": 21,
    "start_time": "2022-09-05T12:08:24.950Z"
   },
   {
    "duration": 6,
    "start_time": "2022-09-05T12:08:24.972Z"
   },
   {
    "duration": 19,
    "start_time": "2022-09-05T12:08:24.980Z"
   },
   {
    "duration": 5,
    "start_time": "2022-09-05T12:08:25.000Z"
   },
   {
    "duration": 391,
    "start_time": "2022-09-05T12:08:25.006Z"
   },
   {
    "duration": 10,
    "start_time": "2022-09-05T12:08:25.399Z"
   },
   {
    "duration": 6,
    "start_time": "2022-09-05T12:08:25.411Z"
   },
   {
    "duration": 5,
    "start_time": "2022-09-05T12:08:25.418Z"
   },
   {
    "duration": 65,
    "start_time": "2022-09-05T12:08:25.424Z"
   },
   {
    "duration": 7,
    "start_time": "2022-09-05T12:08:25.490Z"
   },
   {
    "duration": 88,
    "start_time": "2022-09-05T12:08:25.499Z"
   },
   {
    "duration": 13,
    "start_time": "2022-09-05T12:08:25.589Z"
   },
   {
    "duration": 84,
    "start_time": "2022-09-05T12:08:25.604Z"
   },
   {
    "duration": 8,
    "start_time": "2022-09-05T12:08:25.689Z"
   },
   {
    "duration": 7,
    "start_time": "2022-09-05T12:08:25.699Z"
   },
   {
    "duration": 89,
    "start_time": "2022-09-05T12:08:25.707Z"
   },
   {
    "duration": 89,
    "start_time": "2022-09-05T12:08:25.798Z"
   },
   {
    "duration": 10,
    "start_time": "2022-09-05T12:08:25.889Z"
   },
   {
    "duration": 12,
    "start_time": "2022-09-05T12:11:01.643Z"
   },
   {
    "duration": 11,
    "start_time": "2022-09-05T12:11:17.614Z"
   },
   {
    "duration": 12,
    "start_time": "2022-09-05T12:12:15.655Z"
   },
   {
    "duration": 9,
    "start_time": "2022-09-05T12:12:32.382Z"
   },
   {
    "duration": 9,
    "start_time": "2022-09-05T12:12:41.168Z"
   },
   {
    "duration": 4,
    "start_time": "2022-09-05T12:14:16.403Z"
   },
   {
    "duration": 8,
    "start_time": "2022-09-05T12:14:20.321Z"
   },
   {
    "duration": 1206,
    "start_time": "2022-09-05T12:14:37.497Z"
   },
   {
    "duration": 3,
    "start_time": "2022-09-05T12:14:38.705Z"
   },
   {
    "duration": 54,
    "start_time": "2022-09-05T12:14:38.709Z"
   },
   {
    "duration": 21,
    "start_time": "2022-09-05T12:14:38.766Z"
   },
   {
    "duration": 6,
    "start_time": "2022-09-05T12:14:38.788Z"
   },
   {
    "duration": 16,
    "start_time": "2022-09-05T12:14:38.796Z"
   },
   {
    "duration": 5,
    "start_time": "2022-09-05T12:14:38.813Z"
   },
   {
    "duration": 384,
    "start_time": "2022-09-05T12:14:38.820Z"
   },
   {
    "duration": 9,
    "start_time": "2022-09-05T12:14:39.205Z"
   },
   {
    "duration": 14,
    "start_time": "2022-09-05T12:14:39.216Z"
   },
   {
    "duration": 5,
    "start_time": "2022-09-05T12:14:39.231Z"
   },
   {
    "duration": 48,
    "start_time": "2022-09-05T12:14:39.238Z"
   },
   {
    "duration": 5,
    "start_time": "2022-09-05T12:14:39.288Z"
   },
   {
    "duration": 8,
    "start_time": "2022-09-05T12:14:39.295Z"
   },
   {
    "duration": 13,
    "start_time": "2022-09-05T12:14:39.386Z"
   },
   {
    "duration": 85,
    "start_time": "2022-09-05T12:14:39.401Z"
   },
   {
    "duration": 9,
    "start_time": "2022-09-05T12:14:39.488Z"
   },
   {
    "duration": 86,
    "start_time": "2022-09-05T12:14:39.499Z"
   },
   {
    "duration": 13,
    "start_time": "2022-09-05T12:14:39.587Z"
   },
   {
    "duration": 6,
    "start_time": "2022-09-05T12:14:39.686Z"
   },
   {
    "duration": 10,
    "start_time": "2022-09-05T12:14:39.693Z"
   },
   {
    "duration": 103,
    "start_time": "2022-09-05T12:14:39.784Z"
   },
   {
    "duration": 9,
    "start_time": "2022-09-05T12:17:13.295Z"
   },
   {
    "duration": 19,
    "start_time": "2022-09-05T12:17:24.463Z"
   },
   {
    "duration": 14,
    "start_time": "2022-09-05T12:18:21.381Z"
   },
   {
    "duration": 8,
    "start_time": "2022-09-05T12:18:54.126Z"
   },
   {
    "duration": 112,
    "start_time": "2022-09-05T12:19:04.527Z"
   },
   {
    "duration": 10,
    "start_time": "2022-09-05T12:19:08.349Z"
   },
   {
    "duration": 11,
    "start_time": "2022-09-05T12:19:19.441Z"
   },
   {
    "duration": 12,
    "start_time": "2022-09-05T12:19:24.347Z"
   },
   {
    "duration": 15,
    "start_time": "2022-09-05T12:20:26.132Z"
   },
   {
    "duration": 10,
    "start_time": "2022-09-05T12:21:05.660Z"
   },
   {
    "duration": 100,
    "start_time": "2022-09-05T12:23:17.033Z"
   },
   {
    "duration": 75,
    "start_time": "2022-09-05T12:23:22.956Z"
   },
   {
    "duration": 11,
    "start_time": "2022-09-05T12:23:25.306Z"
   },
   {
    "duration": 4,
    "start_time": "2022-09-05T12:23:47.665Z"
   },
   {
    "duration": 10,
    "start_time": "2022-09-05T12:24:58.945Z"
   },
   {
    "duration": 400,
    "start_time": "2022-09-05T12:25:49.325Z"
   },
   {
    "duration": 9,
    "start_time": "2022-09-05T12:26:03.380Z"
   },
   {
    "duration": 61,
    "start_time": "2022-09-05T12:28:40.915Z"
   },
   {
    "duration": 111,
    "start_time": "2022-09-05T12:29:04.446Z"
   },
   {
    "duration": 8,
    "start_time": "2022-09-05T12:29:13.734Z"
   },
   {
    "duration": 105,
    "start_time": "2022-09-05T12:29:32.593Z"
   },
   {
    "duration": 11,
    "start_time": "2022-09-05T12:29:43.933Z"
   },
   {
    "duration": 15,
    "start_time": "2022-09-05T12:31:22.144Z"
   },
   {
    "duration": 4,
    "start_time": "2022-09-05T12:32:41.022Z"
   },
   {
    "duration": 10,
    "start_time": "2022-09-05T12:32:46.331Z"
   },
   {
    "duration": 49,
    "start_time": "2022-09-05T12:53:39.025Z"
   },
   {
    "duration": 8,
    "start_time": "2022-09-05T12:53:46.382Z"
   },
   {
    "duration": 9,
    "start_time": "2022-09-05T12:57:30.620Z"
   },
   {
    "duration": 1279,
    "start_time": "2022-09-05T13:00:58.866Z"
   },
   {
    "duration": 3,
    "start_time": "2022-09-05T13:01:00.146Z"
   },
   {
    "duration": 56,
    "start_time": "2022-09-05T13:01:00.150Z"
   },
   {
    "duration": 21,
    "start_time": "2022-09-05T13:01:00.208Z"
   },
   {
    "duration": 6,
    "start_time": "2022-09-05T13:01:00.230Z"
   },
   {
    "duration": 20,
    "start_time": "2022-09-05T13:01:00.237Z"
   },
   {
    "duration": 28,
    "start_time": "2022-09-05T13:01:00.259Z"
   },
   {
    "duration": 376,
    "start_time": "2022-09-05T13:01:00.288Z"
   },
   {
    "duration": 9,
    "start_time": "2022-09-05T13:01:00.665Z"
   },
   {
    "duration": 6,
    "start_time": "2022-09-05T13:01:00.684Z"
   },
   {
    "duration": 95,
    "start_time": "2022-09-05T13:01:00.692Z"
   },
   {
    "duration": 18,
    "start_time": "2022-09-05T13:01:00.789Z"
   },
   {
    "duration": 78,
    "start_time": "2022-09-05T13:01:00.809Z"
   },
   {
    "duration": 17,
    "start_time": "2022-09-05T13:01:00.889Z"
   },
   {
    "duration": 78,
    "start_time": "2022-09-05T13:01:00.908Z"
   },
   {
    "duration": 16,
    "start_time": "2022-09-05T13:01:00.988Z"
   },
   {
    "duration": 109,
    "start_time": "2022-09-05T13:01:01.006Z"
   },
   {
    "duration": 68,
    "start_time": "2022-09-05T13:01:01.117Z"
   },
   {
    "duration": 108,
    "start_time": "2022-09-05T13:01:01.187Z"
   },
   {
    "duration": 5,
    "start_time": "2022-09-05T13:01:01.297Z"
   },
   {
    "duration": 85,
    "start_time": "2022-09-05T13:01:01.304Z"
   },
   {
    "duration": 99,
    "start_time": "2022-09-05T13:01:01.391Z"
   },
   {
    "duration": 8,
    "start_time": "2022-09-05T13:01:01.491Z"
   },
   {
    "duration": 1612,
    "start_time": "2022-09-08T07:02:00.834Z"
   },
   {
    "duration": 3,
    "start_time": "2022-09-08T07:02:02.448Z"
   },
   {
    "duration": 111,
    "start_time": "2022-09-08T07:02:02.452Z"
   },
   {
    "duration": 25,
    "start_time": "2022-09-08T07:02:02.565Z"
   },
   {
    "duration": 6,
    "start_time": "2022-09-08T07:02:02.591Z"
   },
   {
    "duration": 26,
    "start_time": "2022-09-08T07:02:02.599Z"
   },
   {
    "duration": 5,
    "start_time": "2022-09-08T07:02:02.627Z"
   },
   {
    "duration": 464,
    "start_time": "2022-09-08T07:02:02.634Z"
   },
   {
    "duration": 46,
    "start_time": "2022-09-08T07:02:05.336Z"
   },
   {
    "duration": 141,
    "start_time": "2022-09-08T07:04:45.460Z"
   },
   {
    "duration": 23,
    "start_time": "2022-09-08T07:05:10.522Z"
   },
   {
    "duration": 17,
    "start_time": "2022-09-08T07:05:57.632Z"
   },
   {
    "duration": 16,
    "start_time": "2022-09-08T07:06:14.377Z"
   },
   {
    "duration": 19,
    "start_time": "2022-09-08T07:06:32.996Z"
   },
   {
    "duration": 15,
    "start_time": "2022-09-08T07:06:37.638Z"
   },
   {
    "duration": 102,
    "start_time": "2022-09-08T12:23:24.631Z"
   },
   {
    "duration": 1593,
    "start_time": "2022-09-08T12:23:30.516Z"
   },
   {
    "duration": 3,
    "start_time": "2022-09-08T12:23:32.111Z"
   },
   {
    "duration": 133,
    "start_time": "2022-09-08T12:23:32.116Z"
   },
   {
    "duration": 25,
    "start_time": "2022-09-08T12:23:32.251Z"
   },
   {
    "duration": 7,
    "start_time": "2022-09-08T12:23:32.277Z"
   },
   {
    "duration": 33,
    "start_time": "2022-09-08T12:23:32.285Z"
   },
   {
    "duration": 7,
    "start_time": "2022-09-08T12:23:32.321Z"
   },
   {
    "duration": 460,
    "start_time": "2022-09-08T12:23:32.330Z"
   },
   {
    "duration": 63,
    "start_time": "2022-09-08T12:23:32.792Z"
   },
   {
    "duration": 8,
    "start_time": "2022-09-08T12:23:32.858Z"
   },
   {
    "duration": 100,
    "start_time": "2022-09-08T12:23:32.921Z"
   },
   {
    "duration": 7,
    "start_time": "2022-09-08T12:23:33.023Z"
   },
   {
    "duration": 11,
    "start_time": "2022-09-08T12:23:33.031Z"
   },
   {
    "duration": 12,
    "start_time": "2022-09-08T12:23:33.043Z"
   },
   {
    "duration": 72,
    "start_time": "2022-09-08T12:23:33.057Z"
   },
   {
    "duration": 90,
    "start_time": "2022-09-08T12:23:33.131Z"
   },
   {
    "duration": 11,
    "start_time": "2022-09-08T12:23:33.223Z"
   },
   {
    "duration": 85,
    "start_time": "2022-09-08T12:23:33.236Z"
   },
   {
    "duration": 322,
    "start_time": "2022-09-08T12:23:34.485Z"
   },
   {
    "duration": 55,
    "start_time": "2022-09-08T12:23:46.312Z"
   },
   {
    "duration": 8,
    "start_time": "2022-09-08T12:24:05.655Z"
   },
   {
    "duration": 15,
    "start_time": "2022-09-08T12:24:22.148Z"
   },
   {
    "duration": 10,
    "start_time": "2022-09-08T12:24:36.949Z"
   },
   {
    "duration": 50,
    "start_time": "2022-09-08T12:25:24.394Z"
   },
   {
    "duration": 10,
    "start_time": "2022-09-08T12:25:36.938Z"
   },
   {
    "duration": 12,
    "start_time": "2022-09-08T12:25:45.231Z"
   },
   {
    "duration": 4,
    "start_time": "2022-09-08T12:26:30.832Z"
   },
   {
    "duration": 14,
    "start_time": "2022-09-08T12:26:36.274Z"
   },
   {
    "duration": 5,
    "start_time": "2022-09-08T12:26:39.672Z"
   },
   {
    "duration": 1413,
    "start_time": "2022-09-08T19:28:40.673Z"
   },
   {
    "duration": 3,
    "start_time": "2022-09-08T19:28:42.087Z"
   },
   {
    "duration": 147,
    "start_time": "2022-09-08T19:28:42.345Z"
   },
   {
    "duration": 21,
    "start_time": "2022-09-08T19:28:42.644Z"
   },
   {
    "duration": 9,
    "start_time": "2022-09-08T19:28:43.172Z"
   },
   {
    "duration": 19,
    "start_time": "2022-09-08T19:28:45.138Z"
   },
   {
    "duration": 6,
    "start_time": "2022-09-08T19:28:46.712Z"
   },
   {
    "duration": 366,
    "start_time": "2022-09-08T19:28:47.640Z"
   },
   {
    "duration": 48,
    "start_time": "2022-09-08T19:28:50.632Z"
   }
  ],
  "kernelspec": {
   "display_name": "Python 3 (ipykernel)",
   "language": "python",
   "name": "python3"
  },
  "language_info": {
   "codemirror_mode": {
    "name": "ipython",
    "version": 3
   },
   "file_extension": ".py",
   "mimetype": "text/x-python",
   "name": "python",
   "nbconvert_exporter": "python",
   "pygments_lexer": "ipython3",
   "version": "3.9.5"
  },
  "toc": {
   "base_numbering": 1,
   "nav_menu": {},
   "number_sections": true,
   "sideBar": true,
   "skip_h1_title": true,
   "title_cell": "Содержание",
   "title_sidebar": "Contents",
   "toc_cell": true,
   "toc_position": {},
   "toc_section_display": true,
   "toc_window_display": true
  }
 },
 "nbformat": 4,
 "nbformat_minor": 2
}
