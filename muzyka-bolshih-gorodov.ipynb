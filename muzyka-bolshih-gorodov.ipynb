{
 "cells": [
  {
   "cell_type": "markdown",
   "metadata": {
    "id": "E0vqbgi9ay0H"
   },
   "source": [
    "# Яндекс.Музыка"
   ]
  },
  {
   "cell_type": "markdown",
   "metadata": {
    "id": "VUC88oWjTJw2"
   },
   "source": [
    "Сравнение Москвы и Петербурга окружено мифами. Например:\n",
    " * Москва — мегаполис, подчинённый жёсткому ритму рабочей недели;\n",
    " * Петербург — культурная столица, со своими вкусами.\n",
    "\n",
    "На данных Яндекс.Музыки вы сравните поведение пользователей двух столиц.\n",
    "\n",
    "**Цель исследования** — проверьте три гипотезы:\n",
    "1. Активность пользователей зависит от дня недели. Причём в Москве и Петербурге это проявляется по-разному.\n",
    "2. В понедельник утром в Москве преобладают одни жанры, а в Петербурге — другие. Так же и вечером пятницы преобладают разные жанры — в зависимости от города. \n",
    "3. Москва и Петербург предпочитают разные жанры музыки. В Москве чаще слушают поп-музыку, в Петербурге — русский рэп.\n",
    "\n",
    "**Ход исследования**\n",
    "\n",
    "Данные о поведении пользователей вы получите из файла `yandex_music_project.csv`. О качестве данных ничего не известно. Поэтому перед проверкой гипотез понадобится обзор данных. \n",
    "\n",
    "Вы проверите данные на ошибки и оцените их влияние на исследование. Затем, на этапе предобработки вы поищете возможность исправить самые критичные ошибки данных.\n",
    " \n",
    "Таким образом, исследование пройдёт в три этапа:\n",
    " 1. Обзор данных.\n",
    " 2. Предобработка данных.\n",
    " 3. Проверка гипотез.\n",
    "\n"
   ]
  },
  {
   "cell_type": "markdown",
   "metadata": {
    "id": "Ml1hmfXC_Zcs"
   },
   "source": [
    "## Обзор данных\n",
    "\n",
    "Составьте первое представление о данных Яндекс.Музыки.\n",
    "\n",
    "\n"
   ]
  },
  {
   "cell_type": "markdown",
   "metadata": {
    "id": "57eAOGIz_Zcs"
   },
   "source": [
    "Основной инструмент аналитика — `pandas`. Импортируйте эту библиотеку."
   ]
  },
  {
   "cell_type": "code",
   "execution_count": 1,
   "metadata": {
    "id": "AXN7PHPN_Zcs"
   },
   "outputs": [],
   "source": [
    "import pandas as pd # импорт библиотеки pandas"
   ]
  },
  {
   "cell_type": "markdown",
   "metadata": {
    "id": "SG23P8tt_Zcs"
   },
   "source": [
    "Прочитайте файл `yandex_music_project.csv` из папки `/datasets` и сохраните его в переменной `df`:"
   ]
  },
  {
   "cell_type": "code",
   "execution_count": 2,
   "metadata": {
    "id": "fFVu7vqh_Zct"
   },
   "outputs": [],
   "source": [
    "df = pd.read_csv('/datasets/yandex_music_project.csv') # чтение файла с данными и сохранение в df"
   ]
  },
  {
   "cell_type": "markdown",
   "metadata": {
    "id": "rDoOMd3uTqnZ"
   },
   "source": [
    "Выведите на экран первые десять строк таблицы:"
   ]
  },
  {
   "cell_type": "code",
   "execution_count": 3,
   "metadata": {
    "id": "oWTVX3gW_Zct"
   },
   "outputs": [
    {
     "data": {
      "text/html": [
       "<div>\n",
       "<style scoped>\n",
       "    .dataframe tbody tr th:only-of-type {\n",
       "        vertical-align: middle;\n",
       "    }\n",
       "\n",
       "    .dataframe tbody tr th {\n",
       "        vertical-align: top;\n",
       "    }\n",
       "\n",
       "    .dataframe thead th {\n",
       "        text-align: right;\n",
       "    }\n",
       "</style>\n",
       "<table border=\"1\" class=\"dataframe\">\n",
       "  <thead>\n",
       "    <tr style=\"text-align: right;\">\n",
       "      <th></th>\n",
       "      <th>userID</th>\n",
       "      <th>Track</th>\n",
       "      <th>artist</th>\n",
       "      <th>genre</th>\n",
       "      <th>City</th>\n",
       "      <th>time</th>\n",
       "      <th>Day</th>\n",
       "    </tr>\n",
       "  </thead>\n",
       "  <tbody>\n",
       "    <tr>\n",
       "      <th>0</th>\n",
       "      <td>FFB692EC</td>\n",
       "      <td>Kamigata To Boots</td>\n",
       "      <td>The Mass Missile</td>\n",
       "      <td>rock</td>\n",
       "      <td>Saint-Petersburg</td>\n",
       "      <td>20:28:33</td>\n",
       "      <td>Wednesday</td>\n",
       "    </tr>\n",
       "    <tr>\n",
       "      <th>1</th>\n",
       "      <td>55204538</td>\n",
       "      <td>Delayed Because of Accident</td>\n",
       "      <td>Andreas Rönnberg</td>\n",
       "      <td>rock</td>\n",
       "      <td>Moscow</td>\n",
       "      <td>14:07:09</td>\n",
       "      <td>Friday</td>\n",
       "    </tr>\n",
       "    <tr>\n",
       "      <th>2</th>\n",
       "      <td>20EC38</td>\n",
       "      <td>Funiculì funiculà</td>\n",
       "      <td>Mario Lanza</td>\n",
       "      <td>pop</td>\n",
       "      <td>Saint-Petersburg</td>\n",
       "      <td>20:58:07</td>\n",
       "      <td>Wednesday</td>\n",
       "    </tr>\n",
       "    <tr>\n",
       "      <th>3</th>\n",
       "      <td>A3DD03C9</td>\n",
       "      <td>Dragons in the Sunset</td>\n",
       "      <td>Fire + Ice</td>\n",
       "      <td>folk</td>\n",
       "      <td>Saint-Petersburg</td>\n",
       "      <td>08:37:09</td>\n",
       "      <td>Monday</td>\n",
       "    </tr>\n",
       "    <tr>\n",
       "      <th>4</th>\n",
       "      <td>E2DC1FAE</td>\n",
       "      <td>Soul People</td>\n",
       "      <td>Space Echo</td>\n",
       "      <td>dance</td>\n",
       "      <td>Moscow</td>\n",
       "      <td>08:34:34</td>\n",
       "      <td>Monday</td>\n",
       "    </tr>\n",
       "    <tr>\n",
       "      <th>5</th>\n",
       "      <td>842029A1</td>\n",
       "      <td>Преданная</td>\n",
       "      <td>IMPERVTOR</td>\n",
       "      <td>rusrap</td>\n",
       "      <td>Saint-Petersburg</td>\n",
       "      <td>13:09:41</td>\n",
       "      <td>Friday</td>\n",
       "    </tr>\n",
       "    <tr>\n",
       "      <th>6</th>\n",
       "      <td>4CB90AA5</td>\n",
       "      <td>True</td>\n",
       "      <td>Roman Messer</td>\n",
       "      <td>dance</td>\n",
       "      <td>Moscow</td>\n",
       "      <td>13:00:07</td>\n",
       "      <td>Wednesday</td>\n",
       "    </tr>\n",
       "    <tr>\n",
       "      <th>7</th>\n",
       "      <td>F03E1C1F</td>\n",
       "      <td>Feeling This Way</td>\n",
       "      <td>Polina Griffith</td>\n",
       "      <td>dance</td>\n",
       "      <td>Moscow</td>\n",
       "      <td>20:47:49</td>\n",
       "      <td>Wednesday</td>\n",
       "    </tr>\n",
       "    <tr>\n",
       "      <th>8</th>\n",
       "      <td>8FA1D3BE</td>\n",
       "      <td>И вновь продолжается бой</td>\n",
       "      <td>NaN</td>\n",
       "      <td>ruspop</td>\n",
       "      <td>Moscow</td>\n",
       "      <td>09:17:40</td>\n",
       "      <td>Friday</td>\n",
       "    </tr>\n",
       "    <tr>\n",
       "      <th>9</th>\n",
       "      <td>E772D5C0</td>\n",
       "      <td>Pessimist</td>\n",
       "      <td>NaN</td>\n",
       "      <td>dance</td>\n",
       "      <td>Saint-Petersburg</td>\n",
       "      <td>21:20:49</td>\n",
       "      <td>Wednesday</td>\n",
       "    </tr>\n",
       "  </tbody>\n",
       "</table>\n",
       "</div>"
      ],
      "text/plain": [
       "     userID                        Track            artist   genre  \\\n",
       "0  FFB692EC            Kamigata To Boots  The Mass Missile    rock   \n",
       "1  55204538  Delayed Because of Accident  Andreas Rönnberg    rock   \n",
       "2    20EC38            Funiculì funiculà       Mario Lanza     pop   \n",
       "3  A3DD03C9        Dragons in the Sunset        Fire + Ice    folk   \n",
       "4  E2DC1FAE                  Soul People        Space Echo   dance   \n",
       "5  842029A1                    Преданная         IMPERVTOR  rusrap   \n",
       "6  4CB90AA5                         True      Roman Messer   dance   \n",
       "7  F03E1C1F             Feeling This Way   Polina Griffith   dance   \n",
       "8  8FA1D3BE     И вновь продолжается бой               NaN  ruspop   \n",
       "9  E772D5C0                    Pessimist               NaN   dance   \n",
       "\n",
       "             City        time        Day  \n",
       "0  Saint-Petersburg  20:28:33  Wednesday  \n",
       "1            Moscow  14:07:09     Friday  \n",
       "2  Saint-Petersburg  20:58:07  Wednesday  \n",
       "3  Saint-Petersburg  08:37:09     Monday  \n",
       "4            Moscow  08:34:34     Monday  \n",
       "5  Saint-Petersburg  13:09:41     Friday  \n",
       "6            Moscow  13:00:07  Wednesday  \n",
       "7            Moscow  20:47:49  Wednesday  \n",
       "8            Moscow  09:17:40     Friday  \n",
       "9  Saint-Petersburg  21:20:49  Wednesday  "
      ]
     },
     "execution_count": 3,
     "metadata": {},
     "output_type": "execute_result"
    }
   ],
   "source": [
    "df.head(10) # получение первых 10 строк таблицы df"
   ]
  },
  {
   "cell_type": "markdown",
   "metadata": {
    "id": "EO73Kwic_Zct"
   },
   "source": [
    "Одной командой получить общую информацию о таблице:"
   ]
  },
  {
   "cell_type": "code",
   "execution_count": 4,
   "metadata": {
    "id": "DSf2kIb-_Zct",
    "scrolled": true
   },
   "outputs": [
    {
     "name": "stdout",
     "output_type": "stream",
     "text": [
      "<class 'pandas.core.frame.DataFrame'>\n",
      "RangeIndex: 65079 entries, 0 to 65078\n",
      "Data columns (total 7 columns):\n",
      " #   Column    Non-Null Count  Dtype \n",
      "---  ------    --------------  ----- \n",
      " 0     userID  65079 non-null  object\n",
      " 1   Track     63848 non-null  object\n",
      " 2   artist    57876 non-null  object\n",
      " 3   genre     63881 non-null  object\n",
      " 4     City    65079 non-null  object\n",
      " 5   time      65079 non-null  object\n",
      " 6   Day       65079 non-null  object\n",
      "dtypes: object(7)\n",
      "memory usage: 3.5+ MB\n"
     ]
    }
   ],
   "source": [
    "df.info() # получение общей информации о данных в таблице df"
   ]
  },
  {
   "cell_type": "markdown",
   "metadata": {
    "id": "TaQ2Iwbr_Zct"
   },
   "source": [
    "Итак, в таблице семь столбцов. Тип данных во всех столбцах — `object`.\n",
    "\n",
    "Согласно документации к данным:\n",
    "* `userID` — идентификатор пользователя;\n",
    "* `Track` — название трека;  \n",
    "* `artist` — имя исполнителя;\n",
    "* `genre` — название жанра;\n",
    "* `City` — город пользователя;\n",
    "* `time` — время начала прослушивания;\n",
    "* `Day` — день недели.\n",
    "\n",
    "В названиях колонок видны три нарушения стиля:\n",
    "1. Строчные буквы сочетаются с прописными.\n",
    "2. Встречаются пробелы.\n",
    "3. Не используется змеиный регистр.\n",
    "\n",
    "\n",
    "\n",
    "Количество значений в столбцах различается. Значит, в данных есть пропущенные значения.\n"
   ]
  },
  {
   "cell_type": "markdown",
   "metadata": {
    "id": "MCB6-dXG_Zct"
   },
   "source": [
    "**Выводы**\n",
    "\n",
    "В каждой строке таблицы — данные о прослушанном треке. Часть колонок описывает саму композицию: название, исполнителя и жанр. Остальные данные рассказывают о пользователе: из какого он города, когда он слушал музыку. \n",
    "\n",
    "Предварительно можно утверждать, что, данных достаточно для проверки гипотез. Но встречаются пропуски в данных, а в названиях колонок — расхождения с хорошим стилем.\n",
    "\n",
    "Чтобы двигаться дальше, нужно устранить проблемы в данных."
   ]
  },
  {
   "cell_type": "markdown",
   "metadata": {
    "id": "SjYF6Ub9_Zct"
   },
   "source": [
    "## Предобработка данных\n",
    "Исправьте стиль в заголовках столбцов, исключите пропуски. Затем проверьте данные на дубликаты."
   ]
  },
  {
   "cell_type": "markdown",
   "metadata": {
    "id": "dIaKXr29_Zct"
   },
   "source": [
    "### Стиль заголовков\n",
    "Выведите на экран названия столбцов:"
   ]
  },
  {
   "cell_type": "code",
   "execution_count": 5,
   "metadata": {
    "id": "oKOTdF_Q_Zct"
   },
   "outputs": [
    {
     "data": {
      "text/plain": [
       "Index(['  userID', 'Track', 'artist', 'genre', '  City  ', 'time', 'Day'], dtype='object')"
      ]
     },
     "execution_count": 5,
     "metadata": {},
     "output_type": "execute_result"
    }
   ],
   "source": [
    "df.columns # перечень названий столбцов таблицы df"
   ]
  },
  {
   "cell_type": "markdown",
   "metadata": {
    "id": "zj5534cv_Zct"
   },
   "source": [
    "Приведите названия в соответствие с хорошим стилем:\n",
    "* несколько слов в названии запишите в «змеином_регистре»,\n",
    "* все символы сделайте строчными,\n",
    "* устраните пробелы.\n",
    "\n",
    "Для этого переименуйте колонки так:\n",
    "* `'  userID'` → `'user_id'`;\n",
    "* `'Track'` → `'track'`;\n",
    "* `'  City  '` → `'city'`;\n",
    "* `'Day'` → `'day'`."
   ]
  },
  {
   "cell_type": "code",
   "execution_count": 6,
   "metadata": {
    "id": "ISlFqs5y_Zct"
   },
   "outputs": [],
   "source": [
    "df = df.rename(\n",
    "    columns = {'  userID':'user_id', \n",
    "               'Track':'track', \n",
    "               '  City  ':'city', \n",
    "               'Day':'day',        \n",
    "    }\n",
    ") # переименование столбцов"
   ]
  },
  {
   "cell_type": "markdown",
   "metadata": {
    "id": "1dqbh00J_Zct"
   },
   "source": [
    "Проверьте результат. Для этого ещё раз выведите на экран названия столбцов:"
   ]
  },
  {
   "cell_type": "code",
   "execution_count": 7,
   "metadata": {
    "id": "d4NOAmTW_Zct"
   },
   "outputs": [
    {
     "data": {
      "text/plain": [
       "Index(['user_id', 'track', 'artist', 'genre', 'city', 'time', 'day'], dtype='object')"
      ]
     },
     "execution_count": 7,
     "metadata": {},
     "output_type": "execute_result"
    }
   ],
   "source": [
    "df.columns # проверка результатов - перечень названий столбцов"
   ]
  },
  {
   "cell_type": "markdown",
   "metadata": {
    "id": "5ISfbcfY_Zct"
   },
   "source": [
    "### Пропуски значений\n",
    "Сначала посчитайте, сколько в таблице пропущенных значений. Для этого достаточно двух методов `pandas`:"
   ]
  },
  {
   "cell_type": "code",
   "execution_count": 8,
   "metadata": {
    "id": "RskX29qr_Zct"
   },
   "outputs": [
    {
     "data": {
      "text/plain": [
       "user_id       0\n",
       "track      1231\n",
       "artist     7203\n",
       "genre      1198\n",
       "city          0\n",
       "time          0\n",
       "day           0\n",
       "dtype: int64"
      ]
     },
     "execution_count": 8,
     "metadata": {},
     "output_type": "execute_result"
    }
   ],
   "source": [
    "df.isna().sum() # подсчёт пропусков"
   ]
  },
  {
   "cell_type": "markdown",
   "metadata": {
    "id": "qubhgnlO_Zct"
   },
   "source": [
    "Не все пропущенные значения влияют на исследование. Так в `track` и `artist` пропуски не важны для вашей работы. Достаточно заменить их явными обозначениями.\n",
    "\n",
    "Но пропуски в `genre` могут помешать сравнению музыкальных вкусов в Москве и Санкт-Петербурге. На практике было бы правильно установить причину пропусков и восстановить данные. Такой возможности нет в учебном проекте. Придётся:\n",
    "* заполнить и эти пропуски явными обозначениями,\n",
    "* оценить, насколько они повредят расчётам. "
   ]
  },
  {
   "cell_type": "markdown",
   "metadata": {
    "id": "fSv2laPA_Zct"
   },
   "source": [
    "Замените пропущенные значения в столбцах `track`, `artist` и `genre` на строку `'unknown'`. Для этого создайте список `columns_to_replace`, переберите его элементы циклом `for` и для каждого столбца выполните замену пропущенных значений:"
   ]
  },
  {
   "cell_type": "code",
   "execution_count": 9,
   "metadata": {
    "id": "KplB5qWs_Zct"
   },
   "outputs": [],
   "source": [
    "columns_to_replace = ['track', 'artist', 'genre'] # перебор названий столбцов в цикле и замена пропущенных значений на 'unknown'\n",
    "for column in columns_to_replace:\n",
    "    df[column] = df[column].fillna('unknown')\n",
    "        "
   ]
  },
  {
   "cell_type": "markdown",
   "metadata": {
    "id": "Ilsm-MZo_Zct"
   },
   "source": [
    "Убедитесь, что в таблице не осталось пропусков. Для этого ещё раз посчитайте пропущенные значения."
   ]
  },
  {
   "cell_type": "code",
   "execution_count": 10,
   "metadata": {
    "id": "Tq4nYRX4_Zct"
   },
   "outputs": [
    {
     "data": {
      "text/plain": [
       "user_id    0\n",
       "track      0\n",
       "artist     0\n",
       "genre      0\n",
       "city       0\n",
       "time       0\n",
       "day        0\n",
       "dtype: int64"
      ]
     },
     "execution_count": 10,
     "metadata": {},
     "output_type": "execute_result"
    }
   ],
   "source": [
    "df.isna().sum() # подсчёт пропусков"
   ]
  },
  {
   "cell_type": "markdown",
   "metadata": {
    "id": "BWKRtBJ3_Zct"
   },
   "source": [
    "### Дубликаты\n",
    "Посчитайте явные дубликаты в таблице одной командой:"
   ]
  },
  {
   "cell_type": "code",
   "execution_count": 11,
   "metadata": {
    "id": "36eES_S0_Zct"
   },
   "outputs": [
    {
     "data": {
      "text/plain": [
       "3826"
      ]
     },
     "execution_count": 11,
     "metadata": {},
     "output_type": "execute_result"
    }
   ],
   "source": [
    "df.duplicated().sum() # подсчёт явных дубликатов"
   ]
  },
  {
   "cell_type": "markdown",
   "metadata": {
    "id": "Ot25h6XR_Zct"
   },
   "source": [
    "Вызовите специальный метод `pandas`, чтобы удалить явные дубликаты:"
   ]
  },
  {
   "cell_type": "code",
   "execution_count": 12,
   "metadata": {
    "id": "exFHq6tt_Zct"
   },
   "outputs": [],
   "source": [
    "df = df.drop_duplicates().reset_index(drop=True) # удаление явных дубликатов (с удалением старых индексов и формированием новых)"
   ]
  },
  {
   "cell_type": "markdown",
   "metadata": {
    "id": "Im2YwBEG_Zct"
   },
   "source": [
    "Ещё раз посчитайте явные дубликаты в таблице — убедитесь, что полностью от них избавились:"
   ]
  },
  {
   "cell_type": "code",
   "execution_count": 13,
   "metadata": {
    "id": "-8PuNWQ0_Zct"
   },
   "outputs": [
    {
     "data": {
      "text/plain": [
       "0"
      ]
     },
     "execution_count": 13,
     "metadata": {},
     "output_type": "execute_result"
    }
   ],
   "source": [
    "df.duplicated().sum() # проверка на отсутствие дубликатов"
   ]
  },
  {
   "cell_type": "markdown",
   "metadata": {
    "id": "QlFBsxAr_Zct"
   },
   "source": [
    "Теперь избавьтесь от неявных дубликатов в колонке `genre`. Например, название одного и того же жанра может быть записано немного по-разному. Такие ошибки тоже повлияют на результат исследования."
   ]
  },
  {
   "cell_type": "markdown",
   "metadata": {
    "id": "eSjWwsOh_Zct"
   },
   "source": [
    "Выведите на экран список уникальных названий жанров, отсортированный в алфавитном порядке. Для этого:\n",
    "* извлеките нужный столбец датафрейма, \n",
    "* примените к нему метод сортировки,\n",
    "* для отсортированного столбца вызовите метод, который вернёт уникальные значения из столбца."
   ]
  },
  {
   "cell_type": "code",
   "execution_count": 14,
   "metadata": {
    "id": "JIUcqzZN_Zct"
   },
   "outputs": [
    {
     "data": {
      "text/plain": [
       "array(['acid', 'acoustic', 'action', 'adult', 'africa', 'afrikaans',\n",
       "       'alternative', 'alternativepunk', 'ambient', 'americana',\n",
       "       'animated', 'anime', 'arabesk', 'arabic', 'arena',\n",
       "       'argentinetango', 'art', 'audiobook', 'author', 'avantgarde',\n",
       "       'axé', 'baile', 'balkan', 'beats', 'bigroom', 'black', 'bluegrass',\n",
       "       'blues', 'bollywood', 'bossa', 'brazilian', 'breakbeat', 'breaks',\n",
       "       'broadway', 'cantautori', 'cantopop', 'canzone', 'caribbean',\n",
       "       'caucasian', 'celtic', 'chamber', 'chanson', 'children', 'chill',\n",
       "       'chinese', 'choral', 'christian', 'christmas', 'classical',\n",
       "       'classicmetal', 'club', 'colombian', 'comedy', 'conjazz',\n",
       "       'contemporary', 'country', 'cuban', 'dance', 'dancehall',\n",
       "       'dancepop', 'dark', 'death', 'deep', 'deutschrock', 'deutschspr',\n",
       "       'dirty', 'disco', 'dnb', 'documentary', 'downbeat', 'downtempo',\n",
       "       'drum', 'dub', 'dubstep', 'eastern', 'easy', 'electronic',\n",
       "       'electropop', 'emo', 'entehno', 'epicmetal', 'estrada', 'ethnic',\n",
       "       'eurofolk', 'european', 'experimental', 'extrememetal', 'fado',\n",
       "       'fairytail', 'film', 'fitness', 'flamenco', 'folk', 'folklore',\n",
       "       'folkmetal', 'folkrock', 'folktronica', 'forró', 'frankreich',\n",
       "       'französisch', 'french', 'funk', 'future', 'gangsta', 'garage',\n",
       "       'german', 'ghazal', 'gitarre', 'glitch', 'gospel', 'gothic',\n",
       "       'grime', 'grunge', 'gypsy', 'handsup', \"hard'n'heavy\", 'hardcore',\n",
       "       'hardstyle', 'hardtechno', 'hip', 'hip-hop', 'hiphop',\n",
       "       'historisch', 'holiday', 'hop', 'horror', 'house', 'hymn', 'idm',\n",
       "       'independent', 'indian', 'indie', 'indipop', 'industrial',\n",
       "       'inspirational', 'instrumental', 'international', 'irish', 'jam',\n",
       "       'japanese', 'jazz', 'jewish', 'jpop', 'jungle', 'k-pop',\n",
       "       'karadeniz', 'karaoke', 'kayokyoku', 'korean', 'laiko', 'latin',\n",
       "       'latino', 'leftfield', 'local', 'lounge', 'loungeelectronic',\n",
       "       'lovers', 'malaysian', 'mandopop', 'marschmusik', 'meditative',\n",
       "       'mediterranean', 'melodic', 'metal', 'metalcore', 'mexican',\n",
       "       'middle', 'minimal', 'miscellaneous', 'modern', 'mood', 'mpb',\n",
       "       'muslim', 'native', 'neoklassik', 'neue', 'new', 'newage',\n",
       "       'newwave', 'nu', 'nujazz', 'numetal', 'oceania', 'old', 'opera',\n",
       "       'orchestral', 'other', 'piano', 'podcasts', 'pop', 'popdance',\n",
       "       'popelectronic', 'popeurodance', 'poprussian', 'post',\n",
       "       'posthardcore', 'postrock', 'power', 'progmetal', 'progressive',\n",
       "       'psychedelic', 'punjabi', 'punk', 'quebecois', 'ragga', 'ram',\n",
       "       'rancheras', 'rap', 'rave', 'reggae', 'reggaeton', 'regional',\n",
       "       'relax', 'religious', 'retro', 'rhythm', 'rnb', 'rnr', 'rock',\n",
       "       'rockabilly', 'rockalternative', 'rockindie', 'rockother',\n",
       "       'romance', 'roots', 'ruspop', 'rusrap', 'rusrock', 'russian',\n",
       "       'salsa', 'samba', 'scenic', 'schlager', 'self', 'sertanejo',\n",
       "       'shanson', 'shoegazing', 'showtunes', 'singer', 'ska', 'skarock',\n",
       "       'slow', 'smooth', 'soft', 'soul', 'soulful', 'sound', 'soundtrack',\n",
       "       'southern', 'specialty', 'speech', 'spiritual', 'sport',\n",
       "       'stonerrock', 'surf', 'swing', 'synthpop', 'synthrock',\n",
       "       'sängerportrait', 'tango', 'tanzorchester', 'taraftar', 'tatar',\n",
       "       'tech', 'techno', 'teen', 'thrash', 'top', 'traditional',\n",
       "       'tradjazz', 'trance', 'tribal', 'trip', 'triphop', 'tropical',\n",
       "       'türk', 'türkçe', 'ukrrock', 'unknown', 'urban', 'uzbek',\n",
       "       'variété', 'vi', 'videogame', 'vocal', 'western', 'world',\n",
       "       'worldbeat', 'ïîï', 'электроника'], dtype=object)"
      ]
     },
     "execution_count": 14,
     "metadata": {},
     "output_type": "execute_result"
    }
   ],
   "source": [
    "df['genre'].sort_values().unique() # Просмотр уникальных названий жанров"
   ]
  },
  {
   "cell_type": "markdown",
   "metadata": {
    "id": "qej-Qmuo_Zct"
   },
   "source": [
    "Просмотрите список и найдите неявные дубликаты названия `hiphop`. Это могут быть названия с ошибками или альтернативные названия того же жанра.\n",
    "\n",
    "Вы увидите следующие неявные дубликаты:\n",
    "* *hip*,\n",
    "* *hop*,\n",
    "* *hip-hop*.\n",
    "\n",
    "Чтобы очистить от них таблицу, напишите функцию `replace_wrong_genres()` с двумя параметрами: \n",
    "* `wrong_genres` — список дубликатов,\n",
    "* `correct_genre` — строка с правильным значением.\n",
    "\n",
    "Функция должна исправить колонку `genre` в таблице `df`: заменить каждое значение из списка `wrong_genres` на значение из `correct_genre`."
   ]
  },
  {
   "cell_type": "code",
   "execution_count": 15,
   "metadata": {
    "id": "ErNDkmns_Zct"
   },
   "outputs": [],
   "source": [
    "def replace_wrong_genres(wrong_genres, correct_genre): # Функция для замены неявных дубликатов\n",
    "    for each_value in wrong_genres: # для каждого значения в списке неправильных жанров\n",
    "        df['genre']= df['genre'].replace(each_value, correct_genre)\n",
    "        "
   ]
  },
  {
   "cell_type": "markdown",
   "metadata": {
    "id": "aDoBJxbA_Zct"
   },
   "source": [
    "Вызовите `replace_wrong_genres()` и передайте ей такие аргументы, чтобы она устранила неявные дубликаты: вместо `hip`, `hop` и `hip-hop` в таблице должно быть значение `hiphop`:"
   ]
  },
  {
   "cell_type": "code",
   "execution_count": 16,
   "metadata": {
    "id": "YN5i2hpmSo09"
   },
   "outputs": [],
   "source": [
    "replace_wrong_genres(['hip', 'hop', 'hip-hop'], 'hiphop') # Устранение неявных дубликатов"
   ]
  },
  {
   "cell_type": "markdown",
   "metadata": {
    "id": "zQKF16_RG15m"
   },
   "source": [
    "Проверьте, что заменили неправильные названия:\n",
    "\n",
    "*   hip\n",
    "*   hop\n",
    "*   hip-hop\n",
    "\n",
    "Выведите отсортированный список уникальных значений столбца `genre`:"
   ]
  },
  {
   "cell_type": "code",
   "execution_count": 17,
   "metadata": {
    "id": "wvixALnFG15m"
   },
   "outputs": [
    {
     "data": {
      "text/plain": [
       "['acid',\n",
       " 'acoustic',\n",
       " 'action',\n",
       " 'adult',\n",
       " 'africa',\n",
       " 'afrikaans',\n",
       " 'alternative',\n",
       " 'alternativepunk',\n",
       " 'ambient',\n",
       " 'americana',\n",
       " 'animated',\n",
       " 'anime',\n",
       " 'arabesk',\n",
       " 'arabic',\n",
       " 'arena',\n",
       " 'argentinetango',\n",
       " 'art',\n",
       " 'audiobook',\n",
       " 'author',\n",
       " 'avantgarde',\n",
       " 'axé',\n",
       " 'baile',\n",
       " 'balkan',\n",
       " 'beats',\n",
       " 'bigroom',\n",
       " 'black',\n",
       " 'bluegrass',\n",
       " 'blues',\n",
       " 'bollywood',\n",
       " 'bossa',\n",
       " 'brazilian',\n",
       " 'breakbeat',\n",
       " 'breaks',\n",
       " 'broadway',\n",
       " 'cantautori',\n",
       " 'cantopop',\n",
       " 'canzone',\n",
       " 'caribbean',\n",
       " 'caucasian',\n",
       " 'celtic',\n",
       " 'chamber',\n",
       " 'chanson',\n",
       " 'children',\n",
       " 'chill',\n",
       " 'chinese',\n",
       " 'choral',\n",
       " 'christian',\n",
       " 'christmas',\n",
       " 'classical',\n",
       " 'classicmetal',\n",
       " 'club',\n",
       " 'colombian',\n",
       " 'comedy',\n",
       " 'conjazz',\n",
       " 'contemporary',\n",
       " 'country',\n",
       " 'cuban',\n",
       " 'dance',\n",
       " 'dancehall',\n",
       " 'dancepop',\n",
       " 'dark',\n",
       " 'death',\n",
       " 'deep',\n",
       " 'deutschrock',\n",
       " 'deutschspr',\n",
       " 'dirty',\n",
       " 'disco',\n",
       " 'dnb',\n",
       " 'documentary',\n",
       " 'downbeat',\n",
       " 'downtempo',\n",
       " 'drum',\n",
       " 'dub',\n",
       " 'dubstep',\n",
       " 'eastern',\n",
       " 'easy',\n",
       " 'electronic',\n",
       " 'electropop',\n",
       " 'emo',\n",
       " 'entehno',\n",
       " 'epicmetal',\n",
       " 'estrada',\n",
       " 'ethnic',\n",
       " 'eurofolk',\n",
       " 'european',\n",
       " 'experimental',\n",
       " 'extrememetal',\n",
       " 'fado',\n",
       " 'fairytail',\n",
       " 'film',\n",
       " 'fitness',\n",
       " 'flamenco',\n",
       " 'folk',\n",
       " 'folklore',\n",
       " 'folkmetal',\n",
       " 'folkrock',\n",
       " 'folktronica',\n",
       " 'forró',\n",
       " 'frankreich',\n",
       " 'französisch',\n",
       " 'french',\n",
       " 'funk',\n",
       " 'future',\n",
       " 'gangsta',\n",
       " 'garage',\n",
       " 'german',\n",
       " 'ghazal',\n",
       " 'gitarre',\n",
       " 'glitch',\n",
       " 'gospel',\n",
       " 'gothic',\n",
       " 'grime',\n",
       " 'grunge',\n",
       " 'gypsy',\n",
       " 'handsup',\n",
       " \"hard'n'heavy\",\n",
       " 'hardcore',\n",
       " 'hardstyle',\n",
       " 'hardtechno',\n",
       " 'hiphop',\n",
       " 'historisch',\n",
       " 'holiday',\n",
       " 'horror',\n",
       " 'house',\n",
       " 'hymn',\n",
       " 'idm',\n",
       " 'independent',\n",
       " 'indian',\n",
       " 'indie',\n",
       " 'indipop',\n",
       " 'industrial',\n",
       " 'inspirational',\n",
       " 'instrumental',\n",
       " 'international',\n",
       " 'irish',\n",
       " 'jam',\n",
       " 'japanese',\n",
       " 'jazz',\n",
       " 'jewish',\n",
       " 'jpop',\n",
       " 'jungle',\n",
       " 'k-pop',\n",
       " 'karadeniz',\n",
       " 'karaoke',\n",
       " 'kayokyoku',\n",
       " 'korean',\n",
       " 'laiko',\n",
       " 'latin',\n",
       " 'latino',\n",
       " 'leftfield',\n",
       " 'local',\n",
       " 'lounge',\n",
       " 'loungeelectronic',\n",
       " 'lovers',\n",
       " 'malaysian',\n",
       " 'mandopop',\n",
       " 'marschmusik',\n",
       " 'meditative',\n",
       " 'mediterranean',\n",
       " 'melodic',\n",
       " 'metal',\n",
       " 'metalcore',\n",
       " 'mexican',\n",
       " 'middle',\n",
       " 'minimal',\n",
       " 'miscellaneous',\n",
       " 'modern',\n",
       " 'mood',\n",
       " 'mpb',\n",
       " 'muslim',\n",
       " 'native',\n",
       " 'neoklassik',\n",
       " 'neue',\n",
       " 'new',\n",
       " 'newage',\n",
       " 'newwave',\n",
       " 'nu',\n",
       " 'nujazz',\n",
       " 'numetal',\n",
       " 'oceania',\n",
       " 'old',\n",
       " 'opera',\n",
       " 'orchestral',\n",
       " 'other',\n",
       " 'piano',\n",
       " 'podcasts',\n",
       " 'pop',\n",
       " 'popdance',\n",
       " 'popelectronic',\n",
       " 'popeurodance',\n",
       " 'poprussian',\n",
       " 'post',\n",
       " 'posthardcore',\n",
       " 'postrock',\n",
       " 'power',\n",
       " 'progmetal',\n",
       " 'progressive',\n",
       " 'psychedelic',\n",
       " 'punjabi',\n",
       " 'punk',\n",
       " 'quebecois',\n",
       " 'ragga',\n",
       " 'ram',\n",
       " 'rancheras',\n",
       " 'rap',\n",
       " 'rave',\n",
       " 'reggae',\n",
       " 'reggaeton',\n",
       " 'regional',\n",
       " 'relax',\n",
       " 'religious',\n",
       " 'retro',\n",
       " 'rhythm',\n",
       " 'rnb',\n",
       " 'rnr',\n",
       " 'rock',\n",
       " 'rockabilly',\n",
       " 'rockalternative',\n",
       " 'rockindie',\n",
       " 'rockother',\n",
       " 'romance',\n",
       " 'roots',\n",
       " 'ruspop',\n",
       " 'rusrap',\n",
       " 'rusrock',\n",
       " 'russian',\n",
       " 'salsa',\n",
       " 'samba',\n",
       " 'scenic',\n",
       " 'schlager',\n",
       " 'self',\n",
       " 'sertanejo',\n",
       " 'shanson',\n",
       " 'shoegazing',\n",
       " 'showtunes',\n",
       " 'singer',\n",
       " 'ska',\n",
       " 'skarock',\n",
       " 'slow',\n",
       " 'smooth',\n",
       " 'soft',\n",
       " 'soul',\n",
       " 'soulful',\n",
       " 'sound',\n",
       " 'soundtrack',\n",
       " 'southern',\n",
       " 'specialty',\n",
       " 'speech',\n",
       " 'spiritual',\n",
       " 'sport',\n",
       " 'stonerrock',\n",
       " 'surf',\n",
       " 'swing',\n",
       " 'synthpop',\n",
       " 'synthrock',\n",
       " 'sängerportrait',\n",
       " 'tango',\n",
       " 'tanzorchester',\n",
       " 'taraftar',\n",
       " 'tatar',\n",
       " 'tech',\n",
       " 'techno',\n",
       " 'teen',\n",
       " 'thrash',\n",
       " 'top',\n",
       " 'traditional',\n",
       " 'tradjazz',\n",
       " 'trance',\n",
       " 'tribal',\n",
       " 'trip',\n",
       " 'triphop',\n",
       " 'tropical',\n",
       " 'türk',\n",
       " 'türkçe',\n",
       " 'ukrrock',\n",
       " 'unknown',\n",
       " 'urban',\n",
       " 'uzbek',\n",
       " 'variété',\n",
       " 'vi',\n",
       " 'videogame',\n",
       " 'vocal',\n",
       " 'western',\n",
       " 'world',\n",
       " 'worldbeat',\n",
       " 'ïîï',\n",
       " 'электроника']"
      ]
     },
     "metadata": {},
     "output_type": "display_data"
    }
   ],
   "source": [
    "display(sorted(df['genre'].unique())) # Проверка на неявные дубликаты"
   ]
  },
  {
   "cell_type": "markdown",
   "metadata": {
    "id": "jz6a9-7HQUDd"
   },
   "source": [
    "**Выводы**\n",
    "\n",
    "Предобработка обнаружила три проблемы в данных:\n",
    "\n",
    "- нарушения в стиле заголовков,\n",
    "- пропущенные значения,\n",
    "- дубликаты — явные и неявные.\n",
    "\n",
    "Вы исправили заголовки, чтобы упростить работу с таблицей. Без дубликатов исследование станет более точным.\n",
    "\n",
    "Пропущенные значения вы заменили на `'unknown'`. Ещё предстоит увидеть, не повредят ли исследованию пропуски в колонке `genre`.\n",
    "\n",
    "Теперь можно перейти к проверке гипотез. "
   ]
  },
  {
   "cell_type": "markdown",
   "metadata": {
    "id": "WttZHXH0SqKk"
   },
   "source": [
    "## Проверка гипотез"
   ]
  },
  {
   "cell_type": "markdown",
   "metadata": {
    "id": "Im936VVi_Zcu"
   },
   "source": [
    "### Сравнение поведения пользователей двух столиц"
   ]
  },
  {
   "cell_type": "markdown",
   "metadata": {
    "id": "nwt_MuaL_Zcu"
   },
   "source": [
    "Первая гипотеза утверждает, что пользователи по-разному слушают музыку в Москве и Санкт-Петербурге. Проверьте это предположение по данным о трёх днях недели — понедельнике, среде и пятнице. Для этого:\n",
    "\n",
    "* Разделите пользователей Москвы и Санкт-Петербурга\n",
    "* Сравните, сколько треков послушала каждая группа пользователей в понедельник, среду и пятницу.\n"
   ]
  },
  {
   "cell_type": "markdown",
   "metadata": {
    "id": "8Dw_YMmT_Zcu"
   },
   "source": [
    "Для тренировки сначала выполните каждый из расчётов по отдельности. \n",
    "\n",
    "Оцените активность пользователей в каждом городе. Сгруппируйте данные по городу и посчитайте прослушивания в каждой группе.\n",
    "\n"
   ]
  },
  {
   "cell_type": "code",
   "execution_count": 39,
   "metadata": {
    "id": "0_Qs96oh_Zcu"
   },
   "outputs": [
    {
     "data": {
      "text/plain": [
       "city\n",
       "Moscow              42741\n",
       "Saint-Petersburg    18512\n",
       "Name: city, dtype: int64"
      ]
     },
     "execution_count": 39,
     "metadata": {},
     "output_type": "execute_result"
    }
   ],
   "source": [
    "df.groupby(by='city')['city'].count() # Подсчёт прослушиваний в каждом городе\n"
   ]
  },
  {
   "cell_type": "markdown",
   "metadata": {
    "id": "dzli3w8o_Zcu"
   },
   "source": [
    "В Москве прослушиваний больше, чем в Петербурге. Из этого не следует, что московские пользователи чаще слушают музыку. Просто самих пользователей в Москве больше.\n",
    "\n",
    "Теперь сгруппируйте данные по дню недели и подсчитайте прослушивания в понедельник, среду и пятницу. Учтите, что в данных есть информация о прослушиваниях только за эти дни.\n"
   ]
  },
  {
   "cell_type": "code",
   "execution_count": 19,
   "metadata": {
    "id": "uZMKjiJz_Zcu"
   },
   "outputs": [
    {
     "data": {
      "text/plain": [
       "day\n",
       "Friday       21840\n",
       "Monday       21354\n",
       "Wednesday    18059\n",
       "Name: day, dtype: int64"
      ]
     },
     "execution_count": 19,
     "metadata": {},
     "output_type": "execute_result"
    }
   ],
   "source": [
    "df.groupby(by='day')['day'].count() # Подсчёт прослушиваний в каждый из трёх дней"
   ]
  },
  {
   "cell_type": "markdown",
   "metadata": {
    "id": "cC2tNrlL_Zcu"
   },
   "source": [
    "В среднем пользователи из двух городов менее активны по средам. Но картина может измениться, если рассмотреть каждый город в отдельности."
   ]
  },
  {
   "cell_type": "markdown",
   "metadata": {
    "id": "POzs8bGa_Zcu"
   },
   "source": [
    "Вы видели, как работает группировка по городу и по дням недели. Теперь напишите функцию, которая объединит два эти расчёта.\n",
    "\n",
    "Создайте функцию `number_tracks()`, которая посчитает прослушивания для заданного дня и города. Ей понадобятся два параметра:\n",
    "* день недели,\n",
    "* название города.\n",
    "\n",
    "В функции сохраните в переменную строки исходной таблицы, у которых значение:\n",
    "  * в колонке `day` равно параметру `day`,\n",
    "  * в колонке `city` равно параметру `city`.\n",
    "\n",
    "Для этого примените последовательную фильтрацию с логической индексацией.\n",
    "\n",
    "Затем посчитайте значения в столбце `user_id` получившейся таблицы. Результат сохраните в новую переменную. Верните эту переменную из функции."
   ]
  },
  {
   "cell_type": "markdown",
   "metadata": {},
   "source": [
    "Создадим функцию number_tracks(). <br>\n",
    "Объявляется функция с двумя параметрами: day, city. <br>\n",
    "В переменной track_list сохраняются те строки таблицы df, для которых значение в столбце 'day' равно параметру day и одновременно значение в столбце 'city' равно параметру city (используйте последовательную фильтрацию с помощью логической индексации). <br>\n",
    "В переменной track_list_count сохраняется число значений столбца 'user_id', рассчитанное методом count() для таблицы track_list. Функция возвращает число - значение track_list_count. <br>\n",
    "<br>\n",
    "Также создадим функцию для подсчёта прослушиваний для конкретного города и дня.\n",
    "С помощью последовательной фильтрации с логической индексацией она сначала получит из исходной таблицы строки с нужным днём,затем из результата отфильтрует строки с нужным городом, методом count() посчитает количество значений в колонке user_id.  <br>\n",
    "Это количество функция вернёт в качестве результата."
   ]
  },
  {
   "cell_type": "code",
   "execution_count": 20,
   "metadata": {
    "id": "Nz3GdQB1_Zcu"
   },
   "outputs": [],
   "source": [
    "def number_tracks(day, city):   \n",
    "    track_list = df[df['day']==day]\n",
    "    track_list=track_list[track_list['city']==city]\n",
    "    track_list_count = track_list['user_id'].count()\n",
    "    return track_list_count"
   ]
  },
  {
   "cell_type": "markdown",
   "metadata": {
    "id": "ytf7xFrFJQ2r"
   },
   "source": [
    "Вызовите `number_tracks()` шесть раз, меняя значение параметров — так, чтобы получить данные для каждого города в каждый из трёх дней."
   ]
  },
  {
   "cell_type": "code",
   "execution_count": 21,
   "metadata": {
    "id": "rJcRATNQ_Zcu"
   },
   "outputs": [
    {
     "data": {
      "text/plain": [
       "15740"
      ]
     },
     "execution_count": 21,
     "metadata": {},
     "output_type": "execute_result"
    }
   ],
   "source": [
    "number_tracks('Monday', 'Moscow') # количество прослушиваний в Москве по понедельникам"
   ]
  },
  {
   "cell_type": "code",
   "execution_count": 22,
   "metadata": {
    "id": "hq_ncZ5T_Zcu"
   },
   "outputs": [
    {
     "data": {
      "text/plain": [
       "5614"
      ]
     },
     "execution_count": 22,
     "metadata": {},
     "output_type": "execute_result"
    }
   ],
   "source": [
    "number_tracks('Monday', 'Saint-Petersburg') # количество прослушиваний в Санкт-Петербурге по понедельникам"
   ]
  },
  {
   "cell_type": "code",
   "execution_count": 23,
   "metadata": {
    "id": "_NTy2VPU_Zcu"
   },
   "outputs": [
    {
     "data": {
      "text/plain": [
       "11056"
      ]
     },
     "execution_count": 23,
     "metadata": {},
     "output_type": "execute_result"
    }
   ],
   "source": [
    "number_tracks('Wednesday', 'Moscow') # количество прослушиваний в Москве по средам"
   ]
  },
  {
   "cell_type": "code",
   "execution_count": 24,
   "metadata": {
    "id": "j2y3TAwo_Zcu"
   },
   "outputs": [
    {
     "data": {
      "text/plain": [
       "7003"
      ]
     },
     "execution_count": 24,
     "metadata": {},
     "output_type": "execute_result"
    }
   ],
   "source": [
    "number_tracks('Wednesday', 'Saint-Petersburg') # количество прослушиваний в Санкт-Петербурге по средам"
   ]
  },
  {
   "cell_type": "code",
   "execution_count": 25,
   "metadata": {
    "id": "vYDw5u_K_Zcu"
   },
   "outputs": [
    {
     "data": {
      "text/plain": [
       "15945"
      ]
     },
     "execution_count": 25,
     "metadata": {},
     "output_type": "execute_result"
    }
   ],
   "source": [
    "number_tracks('Friday', 'Moscow') # количество прослушиваний в Москве по пятницам"
   ]
  },
  {
   "cell_type": "code",
   "execution_count": 26,
   "metadata": {
    "id": "8_yzFtW3_Zcu"
   },
   "outputs": [
    {
     "data": {
      "text/plain": [
       "5895"
      ]
     },
     "execution_count": 26,
     "metadata": {},
     "output_type": "execute_result"
    }
   ],
   "source": [
    "number_tracks('Friday', 'Saint-Petersburg') # количество прослушиваний в Санкт-Петербурге по пятницам"
   ]
  },
  {
   "cell_type": "markdown",
   "metadata": {
    "id": "7QXffbO-_Zcu"
   },
   "source": [
    "Создайте c помощью конструктора `pd.DataFrame` таблицу, где\n",
    "* названия колонок — `['city', 'monday', 'wednesday', 'friday']`;\n",
    "* данные — результаты, которые вы получили с помощью `number_tracks`."
   ]
  },
  {
   "cell_type": "code",
   "execution_count": 27,
   "metadata": {
    "id": "APAcLpOr_Zcu"
   },
   "outputs": [
    {
     "data": {
      "text/html": [
       "<div>\n",
       "<style scoped>\n",
       "    .dataframe tbody tr th:only-of-type {\n",
       "        vertical-align: middle;\n",
       "    }\n",
       "\n",
       "    .dataframe tbody tr th {\n",
       "        vertical-align: top;\n",
       "    }\n",
       "\n",
       "    .dataframe thead th {\n",
       "        text-align: right;\n",
       "    }\n",
       "</style>\n",
       "<table border=\"1\" class=\"dataframe\">\n",
       "  <thead>\n",
       "    <tr style=\"text-align: right;\">\n",
       "      <th></th>\n",
       "      <th>city</th>\n",
       "      <th>Monday</th>\n",
       "      <th>Wednesday</th>\n",
       "      <th>Friday</th>\n",
       "    </tr>\n",
       "  </thead>\n",
       "  <tbody>\n",
       "    <tr>\n",
       "      <th>0</th>\n",
       "      <td>Moscow</td>\n",
       "      <td>15740</td>\n",
       "      <td>11056</td>\n",
       "      <td>15945</td>\n",
       "    </tr>\n",
       "    <tr>\n",
       "      <th>1</th>\n",
       "      <td>Saint-Petersburg</td>\n",
       "      <td>5614</td>\n",
       "      <td>7003</td>\n",
       "      <td>5895</td>\n",
       "    </tr>\n",
       "  </tbody>\n",
       "</table>\n",
       "</div>"
      ],
      "text/plain": [
       "               city  Monday  Wednesday  Friday\n",
       "0            Moscow   15740      11056   15945\n",
       "1  Saint-Petersburg    5614       7003    5895"
      ]
     },
     "metadata": {},
     "output_type": "display_data"
    }
   ],
   "source": [
    "data=[['Moscow', 15740, 11056, 15945], ['Saint-Petersburg', 5614, 7003, 5895]] \n",
    "columns =['city', 'Monday', 'Wednesday', 'Friday']\n",
    "display(pd.DataFrame(data = data,columns = columns)) # Таблица с результатами"
   ]
  },
  {
   "cell_type": "markdown",
   "metadata": {
    "id": "-EgPIHYu_Zcu"
   },
   "source": [
    "**Выводы**\n",
    "\n",
    "Данные показывают разницу поведения пользователей:\n",
    "\n",
    "- В Москве пик прослушиваний приходится на понедельник и пятницу, а в среду заметен спад.\n",
    "- В Петербурге, наоборот, больше слушают музыку по средам. Активность в понедельник и пятницу здесь почти в равной мере уступает среде.\n",
    "\n",
    "Значит, данные говорят в пользу первой гипотезы."
   ]
  },
  {
   "cell_type": "markdown",
   "metadata": {
    "id": "atZAxtq4_Zcu"
   },
   "source": [
    "### Музыка в начале и в конце недели"
   ]
  },
  {
   "cell_type": "markdown",
   "metadata": {
    "id": "eXrQqXFH_Zcu"
   },
   "source": [
    "Согласно второй гипотезе, утром в понедельник в Москве преобладают одни жанры, а в Петербурге — другие. Так же и вечером пятницы преобладают разные жанры — в зависимости от города."
   ]
  },
  {
   "cell_type": "markdown",
   "metadata": {
    "id": "S8UcW6Hw_Zcu"
   },
   "source": [
    "Сохраните таблицы с данными в две переменные:\n",
    "* по Москве — в `moscow_general`;\n",
    "* по Санкт-Петербургу — в `spb_general`."
   ]
  },
  {
   "cell_type": "code",
   "execution_count": 28,
   "metadata": {
    "id": "qeaFfM_P_Zcu"
   },
   "outputs": [],
   "source": [
    "# получение таблицы moscow_general из тех строк таблицы df, \n",
    "# для которых значение в столбце 'city' равно 'Moscow'\n",
    "moscow_general = df[df['city']== 'Moscow'] "
   ]
  },
  {
   "cell_type": "code",
   "execution_count": 29,
   "metadata": {
    "id": "ORaVRKto_Zcu"
   },
   "outputs": [],
   "source": [
    "# получение таблицы spb_general из тех строк таблицы df,\n",
    "# для которых значение в столбце 'city' равно 'Saint-Petersburg'\n",
    "spb_general = df[df['city'] == 'Saint-Petersburg']"
   ]
  },
  {
   "cell_type": "markdown",
   "metadata": {
    "id": "MEJV-CX2_Zcu"
   },
   "source": [
    "Создайте функцию `genre_weekday()` с четырьмя параметрами:\n",
    "* таблица (датафрейм) с данными,\n",
    "* день недели,\n",
    "* начальная временная метка в формате 'hh:mm', \n",
    "* последняя временная метка в формате 'hh:mm'.\n",
    "\n",
    "Функция должна вернуть информацию о топ-10 жанров тех треков, которые прослушивали в указанный день, в промежутке между двумя отметками времени."
   ]
  },
  {
   "cell_type": "markdown",
   "metadata": {},
   "source": [
    "Объявление функции genre_weekday() с параметрами table, day, time1, time2, которая возвращает информацию о самых популярных жанрах в указанный день в заданное время: <br>\n",
    "1) в переменную genre_df сохраняются те строки переданного датафрейма table, для которых одновременно: <br>\n",
    "o-  значение в столбце day равно значению аргумента day <br>\n",
    "o-  значение в столбце time больше значения аргумента time1 <br>\n",
    "o-  значение в столбце time меньше значения аргумента time2 <br>\n",
    "Используйте последовательную фильтрацию с помощью логической индексации. <br>\n",
    "2) сгруппировать датафрейм genre_df по столбцу genre, взять один из его столбцов и посчитать методом count() количество записей для каждого из присутствующих жанров, получившийся Series записать в переменную genre_df_count <br>\n",
    "3) отсортировать genre_df_count по убыванию встречаемости и сохранить в переменную genre_df_sorted <br>\n",
    "4) вернуть Series из 10 первых значений genre_df_sorted, это будут топ-10 популярных жанров (в указанный день, в заданное время)"
   ]
  },
  {
   "cell_type": "code",
   "execution_count": 30,
   "metadata": {
    "id": "laJT9BYl_Zcu"
   },
   "outputs": [],
   "source": [
    "def genre_weekday(table, day, time1, time2):\n",
    "    genre_df = table[table['day'] == day]\n",
    "    genre_df = genre_df[genre_df['time']> time1]\n",
    "    genre_df = genre_df[genre_df['time']< time2]\n",
    "    genre_df_count = genre_df.groupby('genre')['track'].count()\n",
    "    genre_df_sorted = genre_df_count.sort_values(ascending = False)\n",
    "    return genre_df_sorted.head(10)"
   ]
  },
  {
   "cell_type": "markdown",
   "metadata": {},
   "source": [
    "<div class=\"alert alert-success\">\n",
    "<b>✔️ Комментарий ревьюера v1: </b> \n",
    "<br>Замечательно! Здесь тоже все верно.\n",
    "</div>\n",
    "\n",
    "<div class=\"alert alert-warning\">\n",
    "<b>⚠️ Комментарий ревьюера v1:</b> \n",
    "<br>Как можно это сделать другим способом:\n",
    "<br>1. В одну строку: \n",
    "    \n",
    "    genre_df = table[(table['day'] == day) & (table['time'] > time1) & (table['time'] < time2)]\n",
    "<br>2. Через метод query(): \n",
    "\n",
    "    genre_df = table.query('@day==day and @time1 < time < @time2')\n",
    "<br>Метод query вы будете изучать в следующем спринте, а пока про него можно почитать в документации pandas:\n",
    "\n",
    "\thttps://pandas.pydata.org/docs/reference/api/pandas.DataFrame.query.html\n",
    "</div>"
   ]
  },
  {
   "cell_type": "markdown",
   "metadata": {
    "id": "la2s2_PF_Zcu"
   },
   "source": [
    "Cравните результаты функции `genre_weekday()` для Москвы и Санкт-Петербурга в понедельник утром (с 7:00 до 11:00) и в пятницу вечером (с 17:00 до 23:00):"
   ]
  },
  {
   "cell_type": "code",
   "execution_count": 31,
   "metadata": {
    "id": "yz7itPUQ_Zcu"
   },
   "outputs": [
    {
     "data": {
      "text/plain": [
       "genre\n",
       "pop            781\n",
       "dance          549\n",
       "electronic     480\n",
       "rock           474\n",
       "hiphop         286\n",
       "ruspop         186\n",
       "world          181\n",
       "rusrap         175\n",
       "alternative    164\n",
       "unknown        161\n",
       "Name: track, dtype: int64"
      ]
     },
     "execution_count": 31,
     "metadata": {},
     "output_type": "execute_result"
    }
   ],
   "source": [
    "# вызов функции для утра понедельника в Москве (вместо df — таблица moscow_general)\n",
    "# объекты, хранящие время, являются строками и сравниваются как строки\n",
    "# пример вызова: genre_weekday(moscow_general, 'Monday', '07:00', '11:00')\n",
    "genre_weekday(moscow_general, 'Monday', '07:00:00', '11:00:00')"
   ]
  },
  {
   "cell_type": "code",
   "execution_count": 32,
   "metadata": {
    "id": "kwUcHPdy_Zcu"
   },
   "outputs": [
    {
     "data": {
      "text/plain": [
       "genre\n",
       "pop            218\n",
       "dance          182\n",
       "rock           162\n",
       "electronic     147\n",
       "hiphop          80\n",
       "ruspop          64\n",
       "alternative     58\n",
       "rusrap          55\n",
       "jazz            44\n",
       "classical       40\n",
       "Name: track, dtype: int64"
      ]
     },
     "execution_count": 32,
     "metadata": {},
     "output_type": "execute_result"
    }
   ],
   "source": [
    "# вызов функции для утра понедельника в Петербурге (вместо df — таблица spb_general)\n",
    "genre_weekday(spb_general, 'Monday', '07:00:00', '11:00:00')"
   ]
  },
  {
   "cell_type": "code",
   "execution_count": 33,
   "metadata": {
    "id": "EzXVRE1o_Zcu"
   },
   "outputs": [
    {
     "data": {
      "text/plain": [
       "genre\n",
       "pop            713\n",
       "rock           517\n",
       "dance          495\n",
       "electronic     482\n",
       "hiphop         273\n",
       "world          208\n",
       "ruspop         170\n",
       "alternative    163\n",
       "classical      163\n",
       "rusrap         142\n",
       "Name: track, dtype: int64"
      ]
     },
     "execution_count": 33,
     "metadata": {},
     "output_type": "execute_result"
    }
   ],
   "source": [
    "# вызов функции для вечера пятницы в Москве\n",
    "genre_weekday(moscow_general, 'Friday', '17:00:00', '23:00:00')"
   ]
  },
  {
   "cell_type": "code",
   "execution_count": 34,
   "metadata": {
    "id": "JZaEKu5v_Zcu"
   },
   "outputs": [
    {
     "data": {
      "text/plain": [
       "genre\n",
       "pop            256\n",
       "electronic     216\n",
       "rock           216\n",
       "dance          210\n",
       "hiphop          97\n",
       "alternative     63\n",
       "jazz            61\n",
       "classical       60\n",
       "rusrap          59\n",
       "world           54\n",
       "Name: track, dtype: int64"
      ]
     },
     "execution_count": 34,
     "metadata": {},
     "output_type": "execute_result"
    }
   ],
   "source": [
    "# вызов функции для вечера пятницы в Петербурге\n",
    "genre_weekday(spb_general, 'Friday', '17:00:00', '23:00:00')"
   ]
  },
  {
   "cell_type": "markdown",
   "metadata": {
    "id": "wrCe4MNX_Zcu"
   },
   "source": [
    "**Выводы**\n",
    "\n",
    "Если сравнить топ-10 жанров в понедельник утром, можно сделать такие выводы:\n",
    "\n",
    "1. В Москве и Петербурге слушают похожую музыку. Единственное отличие — в московский рейтинг вошёл жанр “world”, а в петербургский — джаз и классика.\n",
    "\n",
    "2. В Москве пропущенных значений оказалось так много, что значение `'unknown'` заняло десятое место среди самых популярных жанров. Значит, пропущенные значения занимают существенную долю в данных и угрожают достоверности исследования.\n",
    "\n",
    "Вечер пятницы не меняет эту картину. Некоторые жанры поднимаются немного выше, другие спускаются, но в целом топ-10 остаётся тем же самым.\n",
    "\n",
    "Таким образом, вторая гипотеза подтвердилась лишь частично:\n",
    "* Пользователи слушают похожую музыку в начале недели и в конце.\n",
    "* Разница между Москвой и Петербургом не слишком выражена. В Москве чаще слушают русскую популярную музыку, в Петербурге — джаз.\n",
    "\n",
    "Однако пропуски в данных ставят под сомнение этот результат. В Москве их так много, что рейтинг топ-10 мог бы выглядеть иначе, если бы не утерянные  данные о жанрах."
   ]
  },
  {
   "cell_type": "markdown",
   "metadata": {
    "id": "JolODAqr_Zcu"
   },
   "source": [
    "### Жанровые предпочтения в Москве и Петербурге\n",
    "\n",
    "Гипотеза: Петербург — столица рэпа, музыку этого жанра там слушают чаще, чем в Москве.  А Москва — город контрастов, в котором, тем не менее, преобладает поп-музыка."
   ]
  },
  {
   "cell_type": "markdown",
   "metadata": {
    "id": "DlegSvaT_Zcu"
   },
   "source": [
    "Сгруппируйте таблицу `moscow_general` по жанру и посчитайте прослушивания треков каждого жанра методом `count()`. Затем отсортируйте результат в порядке убывания и сохраните его в таблице `moscow_genres`."
   ]
  },
  {
   "cell_type": "code",
   "execution_count": 35,
   "metadata": {
    "id": "r19lIPke_Zcu"
   },
   "outputs": [],
   "source": [
    "# одной строкой: группировка таблицы moscow_general по столбцу 'genre', \n",
    "# подсчёт числа значений 'genre' в этой группировке методом count(), \n",
    "# сортировка получившегося Series в порядке убывания и сохранение в moscow_genres\n",
    "moscow_genres = moscow_general.groupby('genre')['track'].count().sort_values(ascending = False)"
   ]
  },
  {
   "cell_type": "markdown",
   "metadata": {
    "id": "6kMuomxTiIr8"
   },
   "source": [
    "Выведите на экран первые десять строк `moscow_genres`:"
   ]
  },
  {
   "cell_type": "code",
   "execution_count": 36,
   "metadata": {
    "id": "WhCSooF8_Zcv"
   },
   "outputs": [
    {
     "data": {
      "text/plain": [
       "genre\n",
       "pop            5892\n",
       "dance          4435\n",
       "rock           3965\n",
       "electronic     3786\n",
       "hiphop         2096\n",
       "classical      1616\n",
       "world          1432\n",
       "alternative    1379\n",
       "ruspop         1372\n",
       "rusrap         1161\n",
       "Name: track, dtype: int64"
      ]
     },
     "metadata": {},
     "output_type": "display_data"
    }
   ],
   "source": [
    "# просмотр первых 10 строк moscow_genres\n",
    "display(moscow_genres.head(10))"
   ]
  },
  {
   "cell_type": "markdown",
   "metadata": {
    "id": "cnPG2vnN_Zcv"
   },
   "source": [
    "Теперь повторите то же и для Петербурга.\n",
    "\n",
    "Сгруппируйте таблицу `spb_general` по жанру. Посчитайте прослушивания треков каждого жанра. Результат отсортируйте в порядке убывания и сохраните в таблице `spb_genres`:\n"
   ]
  },
  {
   "cell_type": "code",
   "execution_count": 37,
   "metadata": {
    "id": "gluLIpE7_Zcv"
   },
   "outputs": [],
   "source": [
    "# одной строкой: группировка таблицы spb_general по столбцу 'genre', \n",
    "# подсчёт числа значений 'genre' в этой группировке методом count(), \n",
    "# сортировка получившегося Series в порядке убывания и сохранение в spb_genres\n",
    "spb_genres = spb_general.groupby('genre')['track'].count().sort_values(ascending = False)"
   ]
  },
  {
   "cell_type": "markdown",
   "metadata": {
    "id": "5Doha_ODgyQ8"
   },
   "source": [
    "Выведите на экран первые десять строк `spb_genres`:"
   ]
  },
  {
   "cell_type": "code",
   "execution_count": 38,
   "metadata": {
    "id": "uaGJHjVU_Zcv"
   },
   "outputs": [
    {
     "data": {
      "text/plain": [
       "genre\n",
       "pop            2431\n",
       "dance          1932\n",
       "rock           1879\n",
       "electronic     1736\n",
       "hiphop          960\n",
       "alternative     649\n",
       "classical       646\n",
       "rusrap          564\n",
       "ruspop          538\n",
       "world           515\n",
       "Name: track, dtype: int64"
      ]
     },
     "metadata": {},
     "output_type": "display_data"
    }
   ],
   "source": [
    "# просмотр первых 10 строк spb_genres\n",
    "display(spb_genres.head(10))"
   ]
  },
  {
   "cell_type": "markdown",
   "metadata": {
    "id": "RY51YJYu_Zcv"
   },
   "source": [
    "**Выводы**"
   ]
  },
  {
   "cell_type": "markdown",
   "metadata": {
    "id": "nVhnJEm__Zcv"
   },
   "source": [
    "Гипотеза частично подтвердилась:\n",
    "* Поп-музыка — самый популярный жанр в Москве, как и предполагала гипотеза. Более того, в топ-10 жанров встречается близкий жанр — русская популярная музыка.\n",
    "* Вопреки ожиданиям, рэп одинаково популярен в Москве и Петербурге. \n"
   ]
  },
  {
   "cell_type": "markdown",
   "metadata": {
    "id": "ykKQ0N65_Zcv"
   },
   "source": [
    "## Итоги исследования"
   ]
  },
  {
   "cell_type": "markdown",
   "metadata": {
    "id": "tjUwbHb3_Zcv"
   },
   "source": [
    "Вы проверили три гипотезы и установили:\n",
    "\n",
    "1. День недели по-разному влияет на активность пользователей в Москве и Петербурге. \n",
    "\n",
    "Первая гипотеза полностью подтвердилась.\n",
    "\n",
    "2. Музыкальные предпочтения не сильно меняются в течение недели — будь то Москва или Петербург. Небольшие различия заметны в начале недели, по понедельникам:\n",
    "* в Москве слушают музыку жанра “world”,\n",
    "* в Петербурге — джаз и классику.\n",
    "\n",
    "Таким образом, вторая гипотеза подтвердилась лишь отчасти. Этот результат мог оказаться иным, если бы не пропуски в данных.\n",
    "\n",
    "3. Во вкусах пользователей Москвы и Петербурга больше общего чем различий. Вопреки ожиданиям, предпочтения жанров в Петербурге напоминают московские.\n",
    "\n",
    "Третья гипотеза не подтвердилась. Если различия в предпочтениях и существуют, на основной массе пользователей они незаметны.\n",
    "\n",
    "**На практике исследования содержат проверки статистических гипотез.**\n",
    "Из данных одного сервиса не всегда можно сделать вывод о всех жителях города.\n",
    "Проверки статистических гипотез покажут, насколько они достоверны, исходя из имеющихся данных. \n",
    "С методами проверок гипотез вы ещё познакомитесь в следующих темах."
   ]
  }
 ],
 "metadata": {
  "ExecuteTimeLog": [
   {
    "duration": 91,
    "start_time": "2022-04-26T13:20:44.068Z"
   },
   {
    "duration": 12,
    "start_time": "2022-04-26T13:20:51.952Z"
   },
   {
    "duration": 588,
    "start_time": "2022-04-26T13:20:58.546Z"
   },
   {
    "duration": 244,
    "start_time": "2022-04-26T13:21:02.595Z"
   },
   {
    "duration": 536,
    "start_time": "2022-04-26T13:21:27.885Z"
   },
   {
    "duration": 265,
    "start_time": "2022-04-26T13:21:32.505Z"
   },
   {
    "duration": 26,
    "start_time": "2022-04-26T13:21:39.695Z"
   },
   {
    "duration": 26,
    "start_time": "2022-04-26T13:22:08.712Z"
   },
   {
    "duration": 68,
    "start_time": "2022-04-26T13:22:20.724Z"
   },
   {
    "duration": 6,
    "start_time": "2022-04-26T13:34:20.222Z"
   },
   {
    "duration": 5,
    "start_time": "2022-04-26T13:34:28.975Z"
   },
   {
    "duration": 7,
    "start_time": "2022-04-26T13:34:41.396Z"
   },
   {
    "duration": 6,
    "start_time": "2022-04-26T13:34:47.749Z"
   },
   {
    "duration": 19,
    "start_time": "2022-04-26T13:37:11.019Z"
   },
   {
    "duration": 6,
    "start_time": "2022-04-26T13:37:26.073Z"
   },
   {
    "duration": 37,
    "start_time": "2022-04-26T13:39:15.163Z"
   },
   {
    "duration": 290,
    "start_time": "2022-04-26T13:41:57.226Z"
   },
   {
    "duration": 8,
    "start_time": "2022-04-26T13:42:12.681Z"
   },
   {
    "duration": 5,
    "start_time": "2022-04-26T13:45:40.405Z"
   },
   {
    "duration": 61,
    "start_time": "2022-04-26T13:45:59.216Z"
   },
   {
    "duration": 178,
    "start_time": "2022-04-26T13:46:22.771Z"
   },
   {
    "duration": 5,
    "start_time": "2022-04-26T13:46:55.753Z"
   },
   {
    "duration": 6,
    "start_time": "2022-04-26T13:47:14.405Z"
   },
   {
    "duration": 11,
    "start_time": "2022-04-26T13:48:25.012Z"
   },
   {
    "duration": 22,
    "start_time": "2022-04-26T13:49:36.284Z"
   },
   {
    "duration": 35,
    "start_time": "2022-04-26T13:49:45.273Z"
   },
   {
    "duration": 37,
    "start_time": "2022-04-26T13:50:26.481Z"
   },
   {
    "duration": 55,
    "start_time": "2022-04-26T13:50:38.808Z"
   },
   {
    "duration": 151,
    "start_time": "2022-04-26T13:52:07.927Z"
   },
   {
    "duration": 199,
    "start_time": "2022-04-26T13:53:28.749Z"
   },
   {
    "duration": 17,
    "start_time": "2022-04-26T13:53:51.384Z"
   },
   {
    "duration": 13,
    "start_time": "2022-04-26T13:53:57.890Z"
   },
   {
    "duration": 115,
    "start_time": "2022-04-26T13:54:08.107Z"
   },
   {
    "duration": 121,
    "start_time": "2022-04-26T13:54:15.651Z"
   },
   {
    "duration": 130,
    "start_time": "2022-04-26T13:54:55.890Z"
   },
   {
    "duration": 122,
    "start_time": "2022-04-26T13:54:59.120Z"
   },
   {
    "duration": 9,
    "start_time": "2022-04-26T13:55:42.881Z"
   },
   {
    "duration": 13,
    "start_time": "2022-04-26T13:55:52.576Z"
   },
   {
    "duration": 13,
    "start_time": "2022-04-26T14:22:21.075Z"
   },
   {
    "duration": 5,
    "start_time": "2022-04-26T14:22:29.911Z"
   },
   {
    "duration": 14,
    "start_time": "2022-04-26T14:22:32.908Z"
   },
   {
    "duration": 10,
    "start_time": "2022-04-26T15:00:07.560Z"
   },
   {
    "duration": 11,
    "start_time": "2022-04-26T15:00:20.946Z"
   },
   {
    "duration": 19,
    "start_time": "2022-04-26T15:02:11.566Z"
   },
   {
    "duration": 4,
    "start_time": "2022-04-26T15:05:21.811Z"
   },
   {
    "duration": 7852,
    "start_time": "2022-04-26T15:05:56.759Z"
   },
   {
    "duration": 8021,
    "start_time": "2022-04-26T15:06:16.573Z"
   },
   {
    "duration": 57,
    "start_time": "2022-04-26T15:06:49.050Z"
   },
   {
    "duration": 70,
    "start_time": "2022-04-26T15:07:55.323Z"
   },
   {
    "duration": 6,
    "start_time": "2022-04-26T15:16:03.596Z"
   },
   {
    "duration": 40,
    "start_time": "2022-04-26T15:21:38.647Z"
   },
   {
    "duration": 26,
    "start_time": "2022-04-26T15:21:41.752Z"
   },
   {
    "duration": 24,
    "start_time": "2022-04-26T15:21:52.573Z"
   },
   {
    "duration": 5,
    "start_time": "2022-04-26T15:22:29.379Z"
   },
   {
    "duration": 23,
    "start_time": "2022-04-26T15:22:32.572Z"
   },
   {
    "duration": 24,
    "start_time": "2022-04-26T15:22:48.060Z"
   },
   {
    "duration": 22,
    "start_time": "2022-04-26T15:23:58.886Z"
   },
   {
    "duration": 30,
    "start_time": "2022-04-26T15:24:01.719Z"
   },
   {
    "duration": 21,
    "start_time": "2022-04-26T15:24:03.864Z"
   },
   {
    "duration": 25,
    "start_time": "2022-04-26T15:24:05.551Z"
   },
   {
    "duration": 25,
    "start_time": "2022-04-26T15:24:07.270Z"
   },
   {
    "duration": 23,
    "start_time": "2022-04-26T15:24:08.865Z"
   },
   {
    "duration": 29,
    "start_time": "2022-04-26T15:26:34.248Z"
   },
   {
    "duration": 19,
    "start_time": "2022-04-26T15:27:29.377Z"
   },
   {
    "duration": 27,
    "start_time": "2022-04-26T15:28:18.865Z"
   },
   {
    "duration": 29,
    "start_time": "2022-04-26T15:29:42.226Z"
   },
   {
    "duration": 9,
    "start_time": "2022-04-26T15:30:07.930Z"
   },
   {
    "duration": 25,
    "start_time": "2022-04-26T15:31:02.714Z"
   },
   {
    "duration": 18,
    "start_time": "2022-04-26T15:31:21.284Z"
   },
   {
    "duration": 116,
    "start_time": "2022-04-27T07:42:38.674Z"
   },
   {
    "duration": 13,
    "start_time": "2022-04-27T07:43:03.846Z"
   },
   {
    "duration": 9,
    "start_time": "2022-04-27T07:43:13.946Z"
   },
   {
    "duration": 503,
    "start_time": "2022-04-27T07:43:19.608Z"
   },
   {
    "duration": 219,
    "start_time": "2022-04-27T07:43:20.113Z"
   },
   {
    "duration": 30,
    "start_time": "2022-04-27T07:43:20.335Z"
   },
   {
    "duration": 57,
    "start_time": "2022-04-27T07:43:20.368Z"
   },
   {
    "duration": 6,
    "start_time": "2022-04-27T07:43:20.427Z"
   },
   {
    "duration": 23,
    "start_time": "2022-04-27T07:43:20.436Z"
   },
   {
    "duration": 10,
    "start_time": "2022-04-27T07:43:20.462Z"
   },
   {
    "duration": 39,
    "start_time": "2022-04-27T07:43:20.495Z"
   },
   {
    "duration": 56,
    "start_time": "2022-04-27T07:43:20.537Z"
   },
   {
    "duration": 33,
    "start_time": "2022-04-27T07:43:20.597Z"
   },
   {
    "duration": 114,
    "start_time": "2022-04-27T07:43:20.633Z"
   },
   {
    "duration": 119,
    "start_time": "2022-04-27T07:43:20.749Z"
   },
   {
    "duration": 97,
    "start_time": "2022-04-27T07:43:20.870Z"
   },
   {
    "duration": 25,
    "start_time": "2022-04-27T07:43:20.969Z"
   },
   {
    "duration": 4,
    "start_time": "2022-04-27T07:43:20.996Z"
   },
   {
    "duration": 22,
    "start_time": "2022-04-27T07:43:21.003Z"
   },
   {
    "duration": 14,
    "start_time": "2022-04-27T07:43:21.027Z"
   },
   {
    "duration": 73,
    "start_time": "2022-04-27T07:43:21.043Z"
   },
   {
    "duration": 48,
    "start_time": "2022-04-27T07:43:21.119Z"
   },
   {
    "duration": 25,
    "start_time": "2022-04-27T07:43:21.169Z"
   },
   {
    "duration": 27,
    "start_time": "2022-04-27T07:43:21.196Z"
   },
   {
    "duration": 20,
    "start_time": "2022-04-27T07:43:21.226Z"
   },
   {
    "duration": 50,
    "start_time": "2022-04-27T07:43:21.248Z"
   },
   {
    "duration": 20,
    "start_time": "2022-04-27T07:43:21.300Z"
   },
   {
    "duration": 24,
    "start_time": "2022-04-27T07:43:21.322Z"
   },
   {
    "duration": 55,
    "start_time": "2022-04-27T07:43:21.348Z"
   },
   {
    "duration": 12,
    "start_time": "2022-04-27T07:43:21.405Z"
   },
   {
    "duration": 3,
    "start_time": "2022-04-27T07:43:21.421Z"
   },
   {
    "duration": 6,
    "start_time": "2022-04-27T07:43:21.426Z"
   },
   {
    "duration": 16,
    "start_time": "2022-04-27T07:43:21.434Z"
   },
   {
    "duration": 8,
    "start_time": "2022-04-27T07:43:21.452Z"
   },
   {
    "duration": 31,
    "start_time": "2022-04-27T07:43:21.462Z"
   },
   {
    "duration": 11,
    "start_time": "2022-04-27T07:43:21.495Z"
   },
   {
    "duration": 8,
    "start_time": "2022-04-27T07:43:21.508Z"
   },
   {
    "duration": 7,
    "start_time": "2022-04-27T07:43:21.518Z"
   },
   {
    "duration": 6,
    "start_time": "2022-04-27T07:43:21.528Z"
   },
   {
    "duration": 8,
    "start_time": "2022-04-27T07:43:21.536Z"
   },
   {
    "duration": 7,
    "start_time": "2022-04-27T07:43:21.547Z"
   },
   {
    "duration": 15,
    "start_time": "2022-04-27T07:44:56.848Z"
   },
   {
    "duration": 13,
    "start_time": "2022-04-27T07:44:59.346Z"
   },
   {
    "duration": 8,
    "start_time": "2022-04-27T07:52:53.336Z"
   },
   {
    "duration": 10,
    "start_time": "2022-04-27T07:52:58.777Z"
   },
   {
    "duration": 65,
    "start_time": "2022-04-27T07:55:24.217Z"
   },
   {
    "duration": 6,
    "start_time": "2022-04-27T07:55:46.568Z"
   },
   {
    "duration": 46,
    "start_time": "2022-04-27T07:55:50.397Z"
   },
   {
    "duration": 6,
    "start_time": "2022-04-27T08:08:27.512Z"
   },
   {
    "duration": 37,
    "start_time": "2022-04-27T08:08:29.859Z"
   },
   {
    "duration": 6,
    "start_time": "2022-04-27T08:10:46.403Z"
   },
   {
    "duration": 33,
    "start_time": "2022-04-27T08:10:47.785Z"
   },
   {
    "duration": 6,
    "start_time": "2022-04-27T08:13:47.199Z"
   },
   {
    "duration": 32,
    "start_time": "2022-04-27T08:13:48.826Z"
   },
   {
    "duration": 8,
    "start_time": "2022-04-27T08:15:13.516Z"
   },
   {
    "duration": 27,
    "start_time": "2022-04-27T08:15:15.014Z"
   },
   {
    "duration": 22,
    "start_time": "2022-04-27T08:16:32.211Z"
   },
   {
    "duration": 30,
    "start_time": "2022-04-27T08:16:36.372Z"
   },
   {
    "duration": 21,
    "start_time": "2022-04-27T08:16:49.130Z"
   },
   {
    "duration": 13,
    "start_time": "2022-04-27T08:25:00.511Z"
   },
   {
    "duration": 18,
    "start_time": "2022-04-27T08:25:04.520Z"
   },
   {
    "duration": 12,
    "start_time": "2022-04-27T08:25:06.591Z"
   },
   {
    "duration": 13,
    "start_time": "2022-04-27T08:26:48.772Z"
   },
   {
    "duration": 8,
    "start_time": "2022-04-27T08:26:50.735Z"
   },
   {
    "duration": 4,
    "start_time": "2022-04-27T08:29:34.450Z"
   },
   {
    "duration": 257,
    "start_time": "2022-04-27T08:29:34.456Z"
   },
   {
    "duration": 16,
    "start_time": "2022-04-27T08:29:34.716Z"
   },
   {
    "duration": 63,
    "start_time": "2022-04-27T08:29:34.734Z"
   },
   {
    "duration": 7,
    "start_time": "2022-04-27T08:29:34.803Z"
   },
   {
    "duration": 12,
    "start_time": "2022-04-27T08:29:34.812Z"
   },
   {
    "duration": 6,
    "start_time": "2022-04-27T08:29:34.826Z"
   },
   {
    "duration": 71,
    "start_time": "2022-04-27T08:29:34.834Z"
   },
   {
    "duration": 25,
    "start_time": "2022-04-27T08:29:34.908Z"
   },
   {
    "duration": 34,
    "start_time": "2022-04-27T08:29:34.935Z"
   },
   {
    "duration": 121,
    "start_time": "2022-04-27T08:29:34.973Z"
   },
   {
    "duration": 113,
    "start_time": "2022-04-27T08:29:35.098Z"
   },
   {
    "duration": 94,
    "start_time": "2022-04-27T08:29:35.213Z"
   },
   {
    "duration": 13,
    "start_time": "2022-04-27T08:29:35.310Z"
   },
   {
    "duration": 5,
    "start_time": "2022-04-27T08:29:35.326Z"
   },
   {
    "duration": 20,
    "start_time": "2022-04-27T08:29:35.333Z"
   },
   {
    "duration": 50,
    "start_time": "2022-04-27T08:29:35.355Z"
   },
   {
    "duration": 49,
    "start_time": "2022-04-27T08:29:35.409Z"
   },
   {
    "duration": 73,
    "start_time": "2022-04-27T08:29:35.460Z"
   },
   {
    "duration": 5,
    "start_time": "2022-04-27T08:29:35.536Z"
   },
   {
    "duration": 30,
    "start_time": "2022-04-27T08:29:35.543Z"
   },
   {
    "duration": 48,
    "start_time": "2022-04-27T08:29:35.575Z"
   },
   {
    "duration": 20,
    "start_time": "2022-04-27T08:29:35.625Z"
   },
   {
    "duration": 19,
    "start_time": "2022-04-27T08:29:35.648Z"
   },
   {
    "duration": 49,
    "start_time": "2022-04-27T08:29:35.669Z"
   },
   {
    "duration": 20,
    "start_time": "2022-04-27T08:29:35.720Z"
   },
   {
    "duration": 12,
    "start_time": "2022-04-27T08:29:35.742Z"
   },
   {
    "duration": 55,
    "start_time": "2022-04-27T08:29:35.756Z"
   },
   {
    "duration": 17,
    "start_time": "2022-04-27T08:29:35.816Z"
   },
   {
    "duration": 6,
    "start_time": "2022-04-27T08:29:35.835Z"
   },
   {
    "duration": 65,
    "start_time": "2022-04-27T08:29:35.843Z"
   },
   {
    "duration": 0,
    "start_time": "2022-04-27T08:29:35.911Z"
   },
   {
    "duration": 0,
    "start_time": "2022-04-27T08:29:35.912Z"
   },
   {
    "duration": 0,
    "start_time": "2022-04-27T08:29:35.914Z"
   },
   {
    "duration": 0,
    "start_time": "2022-04-27T08:29:35.916Z"
   },
   {
    "duration": 0,
    "start_time": "2022-04-27T08:29:35.919Z"
   },
   {
    "duration": 0,
    "start_time": "2022-04-27T08:29:35.921Z"
   },
   {
    "duration": 0,
    "start_time": "2022-04-27T08:29:35.922Z"
   },
   {
    "duration": 4,
    "start_time": "2022-04-27T08:30:22.428Z"
   },
   {
    "duration": 230,
    "start_time": "2022-04-27T08:30:22.434Z"
   },
   {
    "duration": 15,
    "start_time": "2022-04-27T08:30:22.667Z"
   },
   {
    "duration": 47,
    "start_time": "2022-04-27T08:30:22.693Z"
   },
   {
    "duration": 6,
    "start_time": "2022-04-27T08:30:22.744Z"
   },
   {
    "duration": 48,
    "start_time": "2022-04-27T08:30:22.753Z"
   },
   {
    "duration": 9,
    "start_time": "2022-04-27T08:30:22.808Z"
   },
   {
    "duration": 35,
    "start_time": "2022-04-27T08:30:22.819Z"
   },
   {
    "duration": 52,
    "start_time": "2022-04-27T08:30:22.856Z"
   },
   {
    "duration": 35,
    "start_time": "2022-04-27T08:30:22.912Z"
   },
   {
    "duration": 119,
    "start_time": "2022-04-27T08:30:22.951Z"
   },
   {
    "duration": 121,
    "start_time": "2022-04-27T08:30:23.072Z"
   },
   {
    "duration": 99,
    "start_time": "2022-04-27T08:30:23.196Z"
   },
   {
    "duration": 19,
    "start_time": "2022-04-27T08:30:23.298Z"
   },
   {
    "duration": 5,
    "start_time": "2022-04-27T08:30:23.319Z"
   },
   {
    "duration": 15,
    "start_time": "2022-04-27T08:30:23.326Z"
   },
   {
    "duration": 15,
    "start_time": "2022-04-27T08:30:23.342Z"
   },
   {
    "duration": 59,
    "start_time": "2022-04-27T08:30:23.394Z"
   },
   {
    "duration": 78,
    "start_time": "2022-04-27T08:30:23.455Z"
   },
   {
    "duration": 6,
    "start_time": "2022-04-27T08:30:23.535Z"
   },
   {
    "duration": 31,
    "start_time": "2022-04-27T08:30:23.543Z"
   },
   {
    "duration": 37,
    "start_time": "2022-04-27T08:30:23.576Z"
   },
   {
    "duration": 22,
    "start_time": "2022-04-27T08:30:23.615Z"
   },
   {
    "duration": 20,
    "start_time": "2022-04-27T08:30:23.639Z"
   },
   {
    "duration": 54,
    "start_time": "2022-04-27T08:30:23.661Z"
   },
   {
    "duration": 21,
    "start_time": "2022-04-27T08:30:23.720Z"
   },
   {
    "duration": 11,
    "start_time": "2022-04-27T08:30:23.743Z"
   },
   {
    "duration": 44,
    "start_time": "2022-04-27T08:30:23.756Z"
   },
   {
    "duration": 16,
    "start_time": "2022-04-27T08:30:23.806Z"
   },
   {
    "duration": 6,
    "start_time": "2022-04-27T08:30:23.825Z"
   },
   {
    "duration": 28,
    "start_time": "2022-04-27T08:30:23.833Z"
   },
   {
    "duration": 48,
    "start_time": "2022-04-27T08:30:23.864Z"
   },
   {
    "duration": 28,
    "start_time": "2022-04-27T08:30:23.914Z"
   },
   {
    "duration": 15,
    "start_time": "2022-04-27T08:30:23.945Z"
   },
   {
    "duration": 49,
    "start_time": "2022-04-27T08:30:23.963Z"
   },
   {
    "duration": 9,
    "start_time": "2022-04-27T08:30:24.015Z"
   },
   {
    "duration": 13,
    "start_time": "2022-04-27T08:30:24.026Z"
   },
   {
    "duration": 8,
    "start_time": "2022-04-27T08:30:24.042Z"
   },
   {
    "duration": 14,
    "start_time": "2022-04-27T08:31:51.058Z"
   },
   {
    "duration": 6,
    "start_time": "2022-04-27T08:31:54.806Z"
   },
   {
    "duration": 550,
    "start_time": "2022-05-01T14:03:51.376Z"
   },
   {
    "duration": 155,
    "start_time": "2022-05-01T14:03:51.928Z"
   },
   {
    "duration": 18,
    "start_time": "2022-05-01T14:03:52.084Z"
   },
   {
    "duration": 30,
    "start_time": "2022-05-01T14:03:52.104Z"
   },
   {
    "duration": 4,
    "start_time": "2022-05-01T14:03:52.136Z"
   },
   {
    "duration": 13,
    "start_time": "2022-05-01T14:03:52.141Z"
   },
   {
    "duration": 6,
    "start_time": "2022-05-01T14:03:52.156Z"
   },
   {
    "duration": 51,
    "start_time": "2022-05-01T14:03:52.163Z"
   },
   {
    "duration": 20,
    "start_time": "2022-05-01T14:03:52.216Z"
   },
   {
    "duration": 25,
    "start_time": "2022-05-01T14:03:52.239Z"
   },
   {
    "duration": 87,
    "start_time": "2022-05-01T14:03:52.265Z"
   },
   {
    "duration": 90,
    "start_time": "2022-05-01T14:03:52.354Z"
   },
   {
    "duration": 69,
    "start_time": "2022-05-01T14:03:52.446Z"
   },
   {
    "duration": 8,
    "start_time": "2022-05-01T14:03:52.516Z"
   },
   {
    "duration": 3,
    "start_time": "2022-05-01T14:03:52.525Z"
   },
   {
    "duration": 11,
    "start_time": "2022-05-01T14:03:52.530Z"
   },
   {
    "duration": 10,
    "start_time": "2022-05-01T14:03:52.542Z"
   },
   {
    "duration": 69,
    "start_time": "2022-05-01T14:03:52.554Z"
   },
   {
    "duration": 37,
    "start_time": "2022-05-01T14:03:52.625Z"
   },
   {
    "duration": 4,
    "start_time": "2022-05-01T14:03:52.664Z"
   },
   {
    "duration": 19,
    "start_time": "2022-05-01T14:03:52.693Z"
   },
   {
    "duration": 16,
    "start_time": "2022-05-01T14:03:52.714Z"
   },
   {
    "duration": 16,
    "start_time": "2022-05-01T14:03:52.733Z"
   },
   {
    "duration": 51,
    "start_time": "2022-05-01T14:03:52.751Z"
   },
   {
    "duration": 17,
    "start_time": "2022-05-01T14:03:52.804Z"
   },
   {
    "duration": 14,
    "start_time": "2022-05-01T14:03:52.823Z"
   },
   {
    "duration": 9,
    "start_time": "2022-05-01T14:03:52.839Z"
   },
   {
    "duration": 44,
    "start_time": "2022-05-01T14:03:52.852Z"
   },
   {
    "duration": 14,
    "start_time": "2022-05-01T14:03:52.898Z"
   },
   {
    "duration": 5,
    "start_time": "2022-05-01T14:03:52.914Z"
   },
   {
    "duration": 29,
    "start_time": "2022-05-01T14:03:52.921Z"
   },
   {
    "duration": 41,
    "start_time": "2022-05-01T14:03:52.952Z"
   },
   {
    "duration": 24,
    "start_time": "2022-05-01T14:03:52.995Z"
   },
   {
    "duration": 15,
    "start_time": "2022-05-01T14:03:53.021Z"
   },
   {
    "duration": 14,
    "start_time": "2022-05-01T14:03:53.037Z"
   },
   {
    "duration": 8,
    "start_time": "2022-05-01T14:03:53.052Z"
   },
   {
    "duration": 38,
    "start_time": "2022-05-01T14:03:53.062Z"
   },
   {
    "duration": 5,
    "start_time": "2022-05-01T14:03:53.102Z"
   },
   {
    "duration": 47,
    "start_time": "2022-05-02T08:56:37.509Z"
   },
   {
    "duration": 456,
    "start_time": "2022-05-02T08:56:54.791Z"
   },
   {
    "duration": 169,
    "start_time": "2022-05-02T08:56:55.249Z"
   },
   {
    "duration": 19,
    "start_time": "2022-05-02T08:56:55.422Z"
   },
   {
    "duration": 30,
    "start_time": "2022-05-02T08:56:55.444Z"
   },
   {
    "duration": 4,
    "start_time": "2022-05-02T08:56:55.476Z"
   },
   {
    "duration": 16,
    "start_time": "2022-05-02T08:56:55.482Z"
   },
   {
    "duration": 4,
    "start_time": "2022-05-02T08:56:55.523Z"
   },
   {
    "duration": 28,
    "start_time": "2022-05-02T08:56:55.529Z"
   },
   {
    "duration": 20,
    "start_time": "2022-05-02T08:56:55.559Z"
   },
   {
    "duration": 46,
    "start_time": "2022-05-02T08:56:55.582Z"
   },
   {
    "duration": 64,
    "start_time": "2022-05-02T08:56:55.630Z"
   },
   {
    "duration": 93,
    "start_time": "2022-05-02T08:56:55.695Z"
   },
   {
    "duration": 67,
    "start_time": "2022-05-02T08:56:55.789Z"
   },
   {
    "duration": 71,
    "start_time": "2022-05-02T08:56:55.858Z"
   },
   {
    "duration": 0,
    "start_time": "2022-05-02T08:56:55.931Z"
   },
   {
    "duration": 0,
    "start_time": "2022-05-02T08:56:55.932Z"
   },
   {
    "duration": 0,
    "start_time": "2022-05-02T08:56:55.933Z"
   },
   {
    "duration": 0,
    "start_time": "2022-05-02T08:56:55.933Z"
   },
   {
    "duration": 0,
    "start_time": "2022-05-02T08:56:55.934Z"
   },
   {
    "duration": 0,
    "start_time": "2022-05-02T08:56:55.936Z"
   },
   {
    "duration": 0,
    "start_time": "2022-05-02T08:56:55.937Z"
   },
   {
    "duration": 0,
    "start_time": "2022-05-02T08:56:55.938Z"
   },
   {
    "duration": 0,
    "start_time": "2022-05-02T08:56:55.939Z"
   },
   {
    "duration": 0,
    "start_time": "2022-05-02T08:56:55.940Z"
   },
   {
    "duration": 0,
    "start_time": "2022-05-02T08:56:55.941Z"
   },
   {
    "duration": 0,
    "start_time": "2022-05-02T08:56:55.942Z"
   },
   {
    "duration": 0,
    "start_time": "2022-05-02T08:56:55.943Z"
   },
   {
    "duration": 0,
    "start_time": "2022-05-02T08:56:55.944Z"
   },
   {
    "duration": 0,
    "start_time": "2022-05-02T08:56:55.945Z"
   },
   {
    "duration": 0,
    "start_time": "2022-05-02T08:56:55.946Z"
   },
   {
    "duration": 0,
    "start_time": "2022-05-02T08:56:55.947Z"
   },
   {
    "duration": 0,
    "start_time": "2022-05-02T08:56:55.949Z"
   },
   {
    "duration": 0,
    "start_time": "2022-05-02T08:56:55.949Z"
   },
   {
    "duration": 0,
    "start_time": "2022-05-02T08:56:55.951Z"
   },
   {
    "duration": 0,
    "start_time": "2022-05-02T08:56:55.952Z"
   },
   {
    "duration": 0,
    "start_time": "2022-05-02T08:56:55.953Z"
   },
   {
    "duration": 0,
    "start_time": "2022-05-02T08:56:55.954Z"
   },
   {
    "duration": 0,
    "start_time": "2022-05-02T08:56:55.954Z"
   },
   {
    "duration": 42,
    "start_time": "2022-05-02T08:58:22.545Z"
   },
   {
    "duration": 10,
    "start_time": "2022-05-02T08:58:54.885Z"
   },
   {
    "duration": 39,
    "start_time": "2022-05-02T08:59:25.889Z"
   },
   {
    "duration": 186,
    "start_time": "2022-05-02T08:59:47.068Z"
   },
   {
    "duration": 225,
    "start_time": "2022-05-02T09:00:53.482Z"
   },
   {
    "duration": 193,
    "start_time": "2022-05-02T09:01:16.437Z"
   },
   {
    "duration": 185,
    "start_time": "2022-05-02T09:01:45.280Z"
   },
   {
    "duration": 183,
    "start_time": "2022-05-02T09:01:54.602Z"
   },
   {
    "duration": 37,
    "start_time": "2022-05-02T09:01:59.872Z"
   },
   {
    "duration": 184,
    "start_time": "2022-05-02T09:02:09.431Z"
   },
   {
    "duration": 226,
    "start_time": "2022-05-02T09:02:15.252Z"
   },
   {
    "duration": 37,
    "start_time": "2022-05-02T09:02:26.832Z"
   },
   {
    "duration": 205,
    "start_time": "2022-05-02T09:02:49.811Z"
   },
   {
    "duration": 13,
    "start_time": "2022-05-02T09:02:55.901Z"
   },
   {
    "duration": 11,
    "start_time": "2022-05-02T09:03:09.796Z"
   },
   {
    "duration": 14,
    "start_time": "2022-05-02T09:03:19.231Z"
   },
   {
    "duration": 439,
    "start_time": "2022-05-02T09:06:24.521Z"
   },
   {
    "duration": 173,
    "start_time": "2022-05-02T09:06:24.962Z"
   },
   {
    "duration": 19,
    "start_time": "2022-05-02T09:06:25.136Z"
   },
   {
    "duration": 32,
    "start_time": "2022-05-02T09:06:25.158Z"
   },
   {
    "duration": 4,
    "start_time": "2022-05-02T09:06:25.191Z"
   },
   {
    "duration": 37,
    "start_time": "2022-05-02T09:06:25.197Z"
   },
   {
    "duration": 4,
    "start_time": "2022-05-02T09:06:25.236Z"
   },
   {
    "duration": 26,
    "start_time": "2022-05-02T09:06:25.242Z"
   },
   {
    "duration": 21,
    "start_time": "2022-05-02T09:06:25.270Z"
   },
   {
    "duration": 57,
    "start_time": "2022-05-02T09:06:25.294Z"
   },
   {
    "duration": 75,
    "start_time": "2022-05-02T09:06:25.353Z"
   },
   {
    "duration": 103,
    "start_time": "2022-05-02T09:06:25.430Z"
   },
   {
    "duration": 67,
    "start_time": "2022-05-02T09:06:25.538Z"
   },
   {
    "duration": 60,
    "start_time": "2022-05-02T09:06:25.607Z"
   },
   {
    "duration": 4,
    "start_time": "2022-05-02T09:06:25.668Z"
   },
   {
    "duration": 14,
    "start_time": "2022-05-02T09:06:25.673Z"
   },
   {
    "duration": 10,
    "start_time": "2022-05-02T09:06:25.689Z"
   },
   {
    "duration": 63,
    "start_time": "2022-05-02T09:06:25.701Z"
   },
   {
    "duration": 13,
    "start_time": "2022-05-02T09:06:25.765Z"
   },
   {
    "duration": 4,
    "start_time": "2022-05-02T09:06:25.780Z"
   },
   {
    "duration": 19,
    "start_time": "2022-05-02T09:06:25.786Z"
   },
   {
    "duration": 20,
    "start_time": "2022-05-02T09:06:25.824Z"
   },
   {
    "duration": 15,
    "start_time": "2022-05-02T09:06:25.846Z"
   },
   {
    "duration": 16,
    "start_time": "2022-05-02T09:06:25.863Z"
   },
   {
    "duration": 49,
    "start_time": "2022-05-02T09:06:25.881Z"
   },
   {
    "duration": 17,
    "start_time": "2022-05-02T09:06:25.932Z"
   },
   {
    "duration": 8,
    "start_time": "2022-05-02T09:06:25.951Z"
   },
   {
    "duration": 11,
    "start_time": "2022-05-02T09:06:25.962Z"
   },
   {
    "duration": 13,
    "start_time": "2022-05-02T09:06:25.975Z"
   },
   {
    "duration": 5,
    "start_time": "2022-05-02T09:06:25.990Z"
   },
   {
    "duration": 51,
    "start_time": "2022-05-02T09:06:25.997Z"
   },
   {
    "duration": 14,
    "start_time": "2022-05-02T09:06:26.050Z"
   },
   {
    "duration": 17,
    "start_time": "2022-05-02T09:06:26.066Z"
   },
   {
    "duration": 46,
    "start_time": "2022-05-02T09:06:26.085Z"
   },
   {
    "duration": 11,
    "start_time": "2022-05-02T09:06:26.134Z"
   },
   {
    "duration": 5,
    "start_time": "2022-05-02T09:06:26.146Z"
   },
   {
    "duration": 10,
    "start_time": "2022-05-02T09:06:26.153Z"
   },
   {
    "duration": 11,
    "start_time": "2022-05-02T09:06:26.165Z"
   },
   {
    "duration": 13,
    "start_time": "2022-05-02T09:07:28.650Z"
   }
  ],
  "colab": {
   "collapsed_sections": [
    "E0vqbgi9ay0H",
    "VUC88oWjTJw2"
   ],
   "name": "yandex_music_project.ipynb",
   "provenance": []
  },
  "kernelspec": {
   "display_name": "Python 3 (ipykernel)",
   "language": "python",
   "name": "python3"
  },
  "language_info": {
   "codemirror_mode": {
    "name": "ipython",
    "version": 3
   },
   "file_extension": ".py",
   "mimetype": "text/x-python",
   "name": "python",
   "nbconvert_exporter": "python",
   "pygments_lexer": "ipython3",
   "version": "3.9.5"
  },
  "toc": {
   "base_numbering": 1,
   "nav_menu": {},
   "number_sections": true,
   "sideBar": true,
   "skip_h1_title": true,
   "title_cell": "Table of Contents",
   "title_sidebar": "Contents",
   "toc_cell": false,
   "toc_position": {},
   "toc_section_display": true,
   "toc_window_display": true
  }
 },
 "nbformat": 4,
 "nbformat_minor": 1
}
