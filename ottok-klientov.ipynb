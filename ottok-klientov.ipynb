{
 "cells": [
  {
   "cell_type": "markdown",
   "metadata": {
    "toc": true
   },
   "source": [
    "<h1>Содержание<span class=\"tocSkip\"></span></h1>\n",
    "<div class=\"toc\"><ul class=\"toc-item\"><li><span><a href=\"#Подготовка-данных\" data-toc-modified-id=\"Подготовка-данных-1\"><span class=\"toc-item-num\">1&nbsp;&nbsp;</span>Подготовка данных</a></span></li><li><span><a href=\"#Исследование-задачи\" data-toc-modified-id=\"Исследование-задачи-2\"><span class=\"toc-item-num\">2&nbsp;&nbsp;</span>Исследование задачи</a></span><ul class=\"toc-item\"><li><span><a href=\"#Подготовка-данных\" data-toc-modified-id=\"Подготовка-данных-2.1\"><span class=\"toc-item-num\">2.1&nbsp;&nbsp;</span>Подготовка данных</a></span></li><li><span><a href=\"#Обучение-моделей:-DecisionTreeClassifier\" data-toc-modified-id=\"Обучение-моделей:-DecisionTreeClassifier-2.2\"><span class=\"toc-item-num\">2.2&nbsp;&nbsp;</span>Обучение моделей: DecisionTreeClassifier</a></span></li><li><span><a href=\"#Обучение-моделей:-RandomForestClassifier\" data-toc-modified-id=\"Обучение-моделей:-RandomForestClassifier-2.3\"><span class=\"toc-item-num\">2.3&nbsp;&nbsp;</span>Обучение моделей: RandomForestClassifier</a></span></li><li><span><a href=\"#Обучение-моделей:-LogisticRegression\" data-toc-modified-id=\"Обучение-моделей:-LogisticRegression-2.4\"><span class=\"toc-item-num\">2.4&nbsp;&nbsp;</span>Обучение моделей: LogisticRegression</a></span></li></ul></li><li><span><a href=\"#Борьба-с-дисбалансом\" data-toc-modified-id=\"Борьба-с-дисбалансом-3\"><span class=\"toc-item-num\">3&nbsp;&nbsp;</span>Борьба с дисбалансом</a></span><ul class=\"toc-item\"><li><span><a href=\"#Устранение-дисбаланса-методом-upsampling-и-downsampling\" data-toc-modified-id=\"Устранение-дисбаланса-методом-upsampling-и-downsampling-3.1\"><span class=\"toc-item-num\">3.1&nbsp;&nbsp;</span>Устранение дисбаланса методом upsampling и downsampling</a></span></li><li><span><a href=\"#Устранение-дисбаланса-методом-подбора-порога-вероятности-класса\" data-toc-modified-id=\"Устранение-дисбаланса-методом-подбора-порога-вероятности-класса-3.2\"><span class=\"toc-item-num\">3.2&nbsp;&nbsp;</span>Устранение дисбаланса методом подбора порога вероятности класса</a></span></li></ul></li><li><span><a href=\"#Тестирование-модели\" data-toc-modified-id=\"Тестирование-модели-4\"><span class=\"toc-item-num\">4&nbsp;&nbsp;</span>Тестирование модели</a></span></li><li><span><a href=\"#Вывод\" data-toc-modified-id=\"Вывод-5\"><span class=\"toc-item-num\">5&nbsp;&nbsp;</span>Вывод</a></span></li><li><span><a href=\"#Чек-лист-готовности-проекта\" data-toc-modified-id=\"Чек-лист-готовности-проекта-6\"><span class=\"toc-item-num\">6&nbsp;&nbsp;</span>Чек-лист готовности проекта</a></span></li></ul></div>"
   ]
  },
  {
   "cell_type": "markdown",
   "metadata": {},
   "source": [
    "# Отток клиентов"
   ]
  },
  {
   "cell_type": "markdown",
   "metadata": {},
   "source": [
    "Из «Бета-Банка» стали уходить клиенты. Каждый месяц. Немного, но заметно. Банковские маркетологи посчитали: сохранять текущих клиентов дешевле, чем привлекать новых.\n",
    "\n",
    "Нужно спрогнозировать, уйдёт клиент из банка в ближайшее время или нет. Вам предоставлены исторические данные о поведении клиентов и расторжении договоров с банком. \n",
    "\n",
    "Постройте модель с предельно большим значением *F1*-меры. Чтобы сдать проект успешно, нужно довести метрику до 0.59. Проверьте *F1*-меру на тестовой выборке самостоятельно.\n",
    "\n",
    "Дополнительно измеряйте *AUC-ROC*, сравнивайте её значение с *F1*-мерой.\n",
    "\n",
    "Источник данных: [https://www.kaggle.com/barelydedicated/bank-customer-churn-modeling](https://www.kaggle.com/barelydedicated/bank-customer-churn-modeling)"
   ]
  },
  {
   "cell_type": "markdown",
   "metadata": {},
   "source": [
    "# Введение"
   ]
  },
  {
   "cell_type": "markdown",
   "metadata": {},
   "source": [
    "Цель проекта - выявление клиентов, которые могут уйти из банка в ближайшее время, для того чтобы вовремя предпринять меры по их удержанию. <br><br>\n",
    "В проекте мы предпримем следующие шаги:<br>\n",
    "1. Проведем первичный анализ и подготовку данных (датасет /datasets/Churn.csv ).<br>\n",
    "2. Обучим модель на данных без учета балансировки классов <br>\n",
    "3. Обучим модель с учетом балансировки классов  и сравним результаты <br>\n",
    "4. Обучим модели различных алгоритмов с различными гиперпараметрами, чтобы выбрать наилучшую. Ключевая метрика -  F1-мера, в связке с AUC-ROC. <br>\n",
    "5. Проведем финальное тестирование и сравним прогноз с таргетом с помощью ключевой метрики. <br>"
   ]
  },
  {
   "cell_type": "markdown",
   "metadata": {},
   "source": [
    "## Подготовка данных"
   ]
  },
  {
   "cell_type": "code",
   "execution_count": 1,
   "metadata": {},
   "outputs": [],
   "source": [
    "# импорт библиотек\n",
    "import numpy as np\n",
    "import pandas as pd\n",
    "import matplotlib.pyplot as plt\n",
    "import seaborn as sns\n",
    "from sklearn.utils import shuffle\n",
    "from sklearn.metrics import f1_score\n",
    "from sklearn.dummy import DummyClassifier\n",
    "from sklearn.metrics import recall_score\n",
    "from sklearn.metrics import roc_auc_score \n",
    "from sklearn.metrics import precision_score\n",
    "from sklearn.tree import DecisionTreeClassifier\n",
    "from sklearn.preprocessing import StandardScaler\n",
    "from sklearn.ensemble import RandomForestClassifier\n",
    "from sklearn.linear_model import LogisticRegression\n",
    "from sklearn.model_selection import train_test_split\n"
   ]
  },
  {
   "cell_type": "code",
   "execution_count": 2,
   "metadata": {},
   "outputs": [],
   "source": [
    "data = pd.read_csv('/datasets/Churn.csv')"
   ]
  },
  {
   "cell_type": "code",
   "execution_count": 3,
   "metadata": {},
   "outputs": [
    {
     "name": "stdout",
     "output_type": "stream",
     "text": [
      "<class 'pandas.core.frame.DataFrame'>\n",
      "RangeIndex: 10000 entries, 0 to 9999\n",
      "Data columns (total 14 columns):\n",
      " #   Column           Non-Null Count  Dtype  \n",
      "---  ------           --------------  -----  \n",
      " 0   RowNumber        10000 non-null  int64  \n",
      " 1   CustomerId       10000 non-null  int64  \n",
      " 2   Surname          10000 non-null  object \n",
      " 3   CreditScore      10000 non-null  int64  \n",
      " 4   Geography        10000 non-null  object \n",
      " 5   Gender           10000 non-null  object \n",
      " 6   Age              10000 non-null  int64  \n",
      " 7   Tenure           9091 non-null   float64\n",
      " 8   Balance          10000 non-null  float64\n",
      " 9   NumOfProducts    10000 non-null  int64  \n",
      " 10  HasCrCard        10000 non-null  int64  \n",
      " 11  IsActiveMember   10000 non-null  int64  \n",
      " 12  EstimatedSalary  10000 non-null  float64\n",
      " 13  Exited           10000 non-null  int64  \n",
      "dtypes: float64(3), int64(8), object(3)\n",
      "memory usage: 1.1+ MB\n"
     ]
    }
   ],
   "source": [
    "data.info() # обзор данных о таблице"
   ]
  },
  {
   "cell_type": "code",
   "execution_count": 4,
   "metadata": {},
   "outputs": [
    {
     "data": {
      "text/html": [
       "<div>\n",
       "<style scoped>\n",
       "    .dataframe tbody tr th:only-of-type {\n",
       "        vertical-align: middle;\n",
       "    }\n",
       "\n",
       "    .dataframe tbody tr th {\n",
       "        vertical-align: top;\n",
       "    }\n",
       "\n",
       "    .dataframe thead th {\n",
       "        text-align: right;\n",
       "    }\n",
       "</style>\n",
       "<table border=\"1\" class=\"dataframe\">\n",
       "  <thead>\n",
       "    <tr style=\"text-align: right;\">\n",
       "      <th></th>\n",
       "      <th>RowNumber</th>\n",
       "      <th>CustomerId</th>\n",
       "      <th>Surname</th>\n",
       "      <th>CreditScore</th>\n",
       "      <th>Geography</th>\n",
       "      <th>Gender</th>\n",
       "      <th>Age</th>\n",
       "      <th>Tenure</th>\n",
       "      <th>Balance</th>\n",
       "      <th>NumOfProducts</th>\n",
       "      <th>HasCrCard</th>\n",
       "      <th>IsActiveMember</th>\n",
       "      <th>EstimatedSalary</th>\n",
       "      <th>Exited</th>\n",
       "    </tr>\n",
       "  </thead>\n",
       "  <tbody>\n",
       "    <tr>\n",
       "      <th>0</th>\n",
       "      <td>1</td>\n",
       "      <td>15634602</td>\n",
       "      <td>Hargrave</td>\n",
       "      <td>619</td>\n",
       "      <td>France</td>\n",
       "      <td>Female</td>\n",
       "      <td>42</td>\n",
       "      <td>2.0</td>\n",
       "      <td>0.00</td>\n",
       "      <td>1</td>\n",
       "      <td>1</td>\n",
       "      <td>1</td>\n",
       "      <td>101348.88</td>\n",
       "      <td>1</td>\n",
       "    </tr>\n",
       "    <tr>\n",
       "      <th>1</th>\n",
       "      <td>2</td>\n",
       "      <td>15647311</td>\n",
       "      <td>Hill</td>\n",
       "      <td>608</td>\n",
       "      <td>Spain</td>\n",
       "      <td>Female</td>\n",
       "      <td>41</td>\n",
       "      <td>1.0</td>\n",
       "      <td>83807.86</td>\n",
       "      <td>1</td>\n",
       "      <td>0</td>\n",
       "      <td>1</td>\n",
       "      <td>112542.58</td>\n",
       "      <td>0</td>\n",
       "    </tr>\n",
       "    <tr>\n",
       "      <th>2</th>\n",
       "      <td>3</td>\n",
       "      <td>15619304</td>\n",
       "      <td>Onio</td>\n",
       "      <td>502</td>\n",
       "      <td>France</td>\n",
       "      <td>Female</td>\n",
       "      <td>42</td>\n",
       "      <td>8.0</td>\n",
       "      <td>159660.80</td>\n",
       "      <td>3</td>\n",
       "      <td>1</td>\n",
       "      <td>0</td>\n",
       "      <td>113931.57</td>\n",
       "      <td>1</td>\n",
       "    </tr>\n",
       "    <tr>\n",
       "      <th>3</th>\n",
       "      <td>4</td>\n",
       "      <td>15701354</td>\n",
       "      <td>Boni</td>\n",
       "      <td>699</td>\n",
       "      <td>France</td>\n",
       "      <td>Female</td>\n",
       "      <td>39</td>\n",
       "      <td>1.0</td>\n",
       "      <td>0.00</td>\n",
       "      <td>2</td>\n",
       "      <td>0</td>\n",
       "      <td>0</td>\n",
       "      <td>93826.63</td>\n",
       "      <td>0</td>\n",
       "    </tr>\n",
       "    <tr>\n",
       "      <th>4</th>\n",
       "      <td>5</td>\n",
       "      <td>15737888</td>\n",
       "      <td>Mitchell</td>\n",
       "      <td>850</td>\n",
       "      <td>Spain</td>\n",
       "      <td>Female</td>\n",
       "      <td>43</td>\n",
       "      <td>2.0</td>\n",
       "      <td>125510.82</td>\n",
       "      <td>1</td>\n",
       "      <td>1</td>\n",
       "      <td>1</td>\n",
       "      <td>79084.10</td>\n",
       "      <td>0</td>\n",
       "    </tr>\n",
       "  </tbody>\n",
       "</table>\n",
       "</div>"
      ],
      "text/plain": [
       "   RowNumber  CustomerId   Surname  CreditScore Geography  Gender  Age  \\\n",
       "0          1    15634602  Hargrave          619    France  Female   42   \n",
       "1          2    15647311      Hill          608     Spain  Female   41   \n",
       "2          3    15619304      Onio          502    France  Female   42   \n",
       "3          4    15701354      Boni          699    France  Female   39   \n",
       "4          5    15737888  Mitchell          850     Spain  Female   43   \n",
       "\n",
       "   Tenure    Balance  NumOfProducts  HasCrCard  IsActiveMember  \\\n",
       "0     2.0       0.00              1          1               1   \n",
       "1     1.0   83807.86              1          0               1   \n",
       "2     8.0  159660.80              3          1               0   \n",
       "3     1.0       0.00              2          0               0   \n",
       "4     2.0  125510.82              1          1               1   \n",
       "\n",
       "   EstimatedSalary  Exited  \n",
       "0        101348.88       1  \n",
       "1        112542.58       0  \n",
       "2        113931.57       1  \n",
       "3         93826.63       0  \n",
       "4         79084.10       0  "
      ]
     },
     "execution_count": 4,
     "metadata": {},
     "output_type": "execute_result"
    }
   ],
   "source": [
    "data.head() # обзор верхних строк таблицы"
   ]
  },
  {
   "cell_type": "markdown",
   "metadata": {},
   "source": [
    "Датасет содержит 10000 строк (объектов), вполне достаточно для того чтобы иметь достаточно репрезентативные данные для трейновой, валидационной и тестовой выборки. <br>\n",
    "Все данные заполнены, кроме столбца Tenure (\"Сколько лет человек является клиентом банка\"), необходимо исследовать этот столбец и, при возможности, заполнить его.<br>\n",
    "Также необходимо избавиться от дубликатов, если они есть."
   ]
  },
  {
   "cell_type": "code",
   "execution_count": 5,
   "metadata": {},
   "outputs": [
    {
     "data": {
      "text/plain": [
       "0"
      ]
     },
     "execution_count": 5,
     "metadata": {},
     "output_type": "execute_result"
    }
   ],
   "source": [
    "# выявление дубликатов\n",
    "data.duplicated().sum()"
   ]
  },
  {
   "cell_type": "code",
   "execution_count": 6,
   "metadata": {},
   "outputs": [
    {
     "data": {
      "text/html": [
       "<div>\n",
       "<style scoped>\n",
       "    .dataframe tbody tr th:only-of-type {\n",
       "        vertical-align: middle;\n",
       "    }\n",
       "\n",
       "    .dataframe tbody tr th {\n",
       "        vertical-align: top;\n",
       "    }\n",
       "\n",
       "    .dataframe thead th {\n",
       "        text-align: right;\n",
       "    }\n",
       "</style>\n",
       "<table border=\"1\" class=\"dataframe\">\n",
       "  <thead>\n",
       "    <tr style=\"text-align: right;\">\n",
       "      <th></th>\n",
       "      <th>RowNumber</th>\n",
       "      <th>CustomerId</th>\n",
       "      <th>CreditScore</th>\n",
       "      <th>Age</th>\n",
       "      <th>Tenure</th>\n",
       "      <th>Balance</th>\n",
       "      <th>NumOfProducts</th>\n",
       "      <th>HasCrCard</th>\n",
       "      <th>IsActiveMember</th>\n",
       "      <th>EstimatedSalary</th>\n",
       "      <th>Exited</th>\n",
       "    </tr>\n",
       "  </thead>\n",
       "  <tbody>\n",
       "    <tr>\n",
       "      <th>count</th>\n",
       "      <td>909.000000</td>\n",
       "      <td>9.090000e+02</td>\n",
       "      <td>909.000000</td>\n",
       "      <td>909.000000</td>\n",
       "      <td>0.0</td>\n",
       "      <td>909.000000</td>\n",
       "      <td>909.000000</td>\n",
       "      <td>909.000000</td>\n",
       "      <td>909.000000</td>\n",
       "      <td>909.000000</td>\n",
       "      <td>909.000000</td>\n",
       "    </tr>\n",
       "    <tr>\n",
       "      <th>mean</th>\n",
       "      <td>4866.386139</td>\n",
       "      <td>1.568981e+07</td>\n",
       "      <td>648.451045</td>\n",
       "      <td>38.647965</td>\n",
       "      <td>NaN</td>\n",
       "      <td>76117.341474</td>\n",
       "      <td>1.530253</td>\n",
       "      <td>0.710671</td>\n",
       "      <td>0.510451</td>\n",
       "      <td>99180.389373</td>\n",
       "      <td>0.201320</td>\n",
       "    </tr>\n",
       "    <tr>\n",
       "      <th>std</th>\n",
       "      <td>2909.604343</td>\n",
       "      <td>7.511225e+04</td>\n",
       "      <td>99.079381</td>\n",
       "      <td>9.785438</td>\n",
       "      <td>NaN</td>\n",
       "      <td>63105.690715</td>\n",
       "      <td>0.588452</td>\n",
       "      <td>0.453701</td>\n",
       "      <td>0.500166</td>\n",
       "      <td>56378.063765</td>\n",
       "      <td>0.401207</td>\n",
       "    </tr>\n",
       "    <tr>\n",
       "      <th>min</th>\n",
       "      <td>31.000000</td>\n",
       "      <td>1.556581e+07</td>\n",
       "      <td>359.000000</td>\n",
       "      <td>18.000000</td>\n",
       "      <td>NaN</td>\n",
       "      <td>0.000000</td>\n",
       "      <td>1.000000</td>\n",
       "      <td>0.000000</td>\n",
       "      <td>0.000000</td>\n",
       "      <td>106.670000</td>\n",
       "      <td>0.000000</td>\n",
       "    </tr>\n",
       "    <tr>\n",
       "      <th>25%</th>\n",
       "      <td>2311.000000</td>\n",
       "      <td>1.562658e+07</td>\n",
       "      <td>580.000000</td>\n",
       "      <td>32.000000</td>\n",
       "      <td>NaN</td>\n",
       "      <td>0.000000</td>\n",
       "      <td>1.000000</td>\n",
       "      <td>0.000000</td>\n",
       "      <td>0.000000</td>\n",
       "      <td>49872.330000</td>\n",
       "      <td>0.000000</td>\n",
       "    </tr>\n",
       "    <tr>\n",
       "      <th>50%</th>\n",
       "      <td>4887.000000</td>\n",
       "      <td>1.568687e+07</td>\n",
       "      <td>647.000000</td>\n",
       "      <td>37.000000</td>\n",
       "      <td>NaN</td>\n",
       "      <td>96674.550000</td>\n",
       "      <td>1.000000</td>\n",
       "      <td>1.000000</td>\n",
       "      <td>1.000000</td>\n",
       "      <td>99444.020000</td>\n",
       "      <td>0.000000</td>\n",
       "    </tr>\n",
       "    <tr>\n",
       "      <th>75%</th>\n",
       "      <td>7306.000000</td>\n",
       "      <td>1.575680e+07</td>\n",
       "      <td>718.000000</td>\n",
       "      <td>43.000000</td>\n",
       "      <td>NaN</td>\n",
       "      <td>128554.980000</td>\n",
       "      <td>2.000000</td>\n",
       "      <td>1.000000</td>\n",
       "      <td>1.000000</td>\n",
       "      <td>145759.700000</td>\n",
       "      <td>0.000000</td>\n",
       "    </tr>\n",
       "    <tr>\n",
       "      <th>max</th>\n",
       "      <td>10000.000000</td>\n",
       "      <td>1.581569e+07</td>\n",
       "      <td>850.000000</td>\n",
       "      <td>92.000000</td>\n",
       "      <td>NaN</td>\n",
       "      <td>206663.750000</td>\n",
       "      <td>4.000000</td>\n",
       "      <td>1.000000</td>\n",
       "      <td>1.000000</td>\n",
       "      <td>199390.450000</td>\n",
       "      <td>1.000000</td>\n",
       "    </tr>\n",
       "  </tbody>\n",
       "</table>\n",
       "</div>"
      ],
      "text/plain": [
       "          RowNumber    CustomerId  CreditScore         Age  Tenure  \\\n",
       "count    909.000000  9.090000e+02   909.000000  909.000000     0.0   \n",
       "mean    4866.386139  1.568981e+07   648.451045   38.647965     NaN   \n",
       "std     2909.604343  7.511225e+04    99.079381    9.785438     NaN   \n",
       "min       31.000000  1.556581e+07   359.000000   18.000000     NaN   \n",
       "25%     2311.000000  1.562658e+07   580.000000   32.000000     NaN   \n",
       "50%     4887.000000  1.568687e+07   647.000000   37.000000     NaN   \n",
       "75%     7306.000000  1.575680e+07   718.000000   43.000000     NaN   \n",
       "max    10000.000000  1.581569e+07   850.000000   92.000000     NaN   \n",
       "\n",
       "             Balance  NumOfProducts   HasCrCard  IsActiveMember  \\\n",
       "count     909.000000     909.000000  909.000000      909.000000   \n",
       "mean    76117.341474       1.530253    0.710671        0.510451   \n",
       "std     63105.690715       0.588452    0.453701        0.500166   \n",
       "min         0.000000       1.000000    0.000000        0.000000   \n",
       "25%         0.000000       1.000000    0.000000        0.000000   \n",
       "50%     96674.550000       1.000000    1.000000        1.000000   \n",
       "75%    128554.980000       2.000000    1.000000        1.000000   \n",
       "max    206663.750000       4.000000    1.000000        1.000000   \n",
       "\n",
       "       EstimatedSalary      Exited  \n",
       "count       909.000000  909.000000  \n",
       "mean      99180.389373    0.201320  \n",
       "std       56378.063765    0.401207  \n",
       "min         106.670000    0.000000  \n",
       "25%       49872.330000    0.000000  \n",
       "50%       99444.020000    0.000000  \n",
       "75%      145759.700000    0.000000  \n",
       "max      199390.450000    1.000000  "
      ]
     },
     "execution_count": 6,
     "metadata": {},
     "output_type": "execute_result"
    }
   ],
   "source": [
    "# изучение столбца Tenure\n",
    "data[data['Tenure'].isna() ==True].describe()"
   ]
  },
  {
   "cell_type": "markdown",
   "metadata": {},
   "source": [
    "Никаких значительных закономерностей среди этих строк не замечено. Эти клиенты не являются ни неактивными клиентами (среднее значение IsActiveMember = 0,5, значит встречаются как 0, так и 1 в равной пропорции), ни исключительно владельцами карт (0,7), ни клиентами без продуктов (среднее кол0во 1,53). <br>\n",
    "Скорее всего, появление Nan в этом столбце связано с техническими причинами. Можно заменить это значение на медианное для столбца."
   ]
  },
  {
   "cell_type": "code",
   "execution_count": 7,
   "metadata": {},
   "outputs": [
    {
     "data": {
      "text/plain": [
       "count    9091.000000\n",
       "mean        4.997690\n",
       "std         2.894723\n",
       "min         0.000000\n",
       "25%         2.000000\n",
       "50%         5.000000\n",
       "75%         7.000000\n",
       "max        10.000000\n",
       "Name: Tenure, dtype: float64"
      ]
     },
     "execution_count": 7,
     "metadata": {},
     "output_type": "execute_result"
    }
   ],
   "source": [
    "data['Tenure'].describe()"
   ]
  },
  {
   "cell_type": "code",
   "execution_count": 8,
   "metadata": {},
   "outputs": [],
   "source": [
    "data['Tenure'] = data['Tenure'].fillna(data['Tenure'].median())"
   ]
  },
  {
   "cell_type": "code",
   "execution_count": 9,
   "metadata": {},
   "outputs": [
    {
     "data": {
      "text/plain": [
       "count    10000.00000\n",
       "mean         4.99790\n",
       "std          2.76001\n",
       "min          0.00000\n",
       "25%          3.00000\n",
       "50%          5.00000\n",
       "75%          7.00000\n",
       "max         10.00000\n",
       "Name: Tenure, dtype: float64"
      ]
     },
     "execution_count": 9,
     "metadata": {},
     "output_type": "execute_result"
    }
   ],
   "source": [
    "data['Tenure'].describe()"
   ]
  },
  {
   "cell_type": "markdown",
   "metadata": {},
   "source": [
    "## Исследование задачи"
   ]
  },
  {
   "cell_type": "markdown",
   "metadata": {},
   "source": [
    "### Подготовка данных"
   ]
  },
  {
   "cell_type": "markdown",
   "metadata": {},
   "source": [
    "Для начала необходимо подготовить данные для модели: <br>\n",
    "1. исследовать баланс классов <br>\n",
    "2. подготовить столбцы: избавиться от ненужных, преобразовать категориальные признаки, масштабировать числовые столбцы <br>\n",
    "3. разделить выборку на трейновую, тестовую и валидационную (соотношение 3:1:1) <br>"
   ]
  },
  {
   "cell_type": "code",
   "execution_count": 10,
   "metadata": {},
   "outputs": [
    {
     "data": {
      "text/plain": [
       "0    7963\n",
       "1    2037\n",
       "Name: Exited, dtype: int64"
      ]
     },
     "execution_count": 10,
     "metadata": {},
     "output_type": "execute_result"
    }
   ],
   "source": [
    "# исследуем баланс классов в датасете\n",
    "data['Exited'].value_counts()"
   ]
  },
  {
   "cell_type": "code",
   "execution_count": 11,
   "metadata": {},
   "outputs": [
    {
     "data": {
      "image/png": "[encoded data removed]",
      "text/plain": [
       "<Figure size 432x288 with 1 Axes>"
      ]
     },
     "metadata": {
      "needs_background": "light"
     },
     "output_type": "display_data"
    }
   ],
   "source": [
    "data['Exited'].value_counts().plot(kind ='bar', title = 'Распределение классов в датасете')\n",
    "plt.ylabel('Количество объектов');"
   ]
  },
  {
   "cell_type": "markdown",
   "metadata": {},
   "source": [
    "Мы видим, что классы несбалансированы, около 80% целевого признака - 0 (остались), а 20% - 1 (ушли). Это должно учитываться как при разделении выборок, так и при обучении и тестировании модели. <br>\n",
    "Но для начала попробуем обучить модель без учета дисбаланса классов."
   ]
  },
  {
   "cell_type": "code",
   "execution_count": 12,
   "metadata": {},
   "outputs": [],
   "source": [
    "# подготовим данные\n",
    "# для начала избавимся от столбцов, которые нам будут мешать для построения алгоритма - RowNumber, Surname & CustomerId\n",
    "data = data.drop(['RowNumber', 'CustomerId', 'Surname'], axis =1)"
   ]
  },
  {
   "cell_type": "code",
   "execution_count": 13,
   "metadata": {},
   "outputs": [
    {
     "data": {
      "text/html": [
       "<div>\n",
       "<style scoped>\n",
       "    .dataframe tbody tr th:only-of-type {\n",
       "        vertical-align: middle;\n",
       "    }\n",
       "\n",
       "    .dataframe tbody tr th {\n",
       "        vertical-align: top;\n",
       "    }\n",
       "\n",
       "    .dataframe thead th {\n",
       "        text-align: right;\n",
       "    }\n",
       "</style>\n",
       "<table border=\"1\" class=\"dataframe\">\n",
       "  <thead>\n",
       "    <tr style=\"text-align: right;\">\n",
       "      <th></th>\n",
       "      <th>CreditScore</th>\n",
       "      <th>Age</th>\n",
       "      <th>Tenure</th>\n",
       "      <th>Balance</th>\n",
       "      <th>NumOfProducts</th>\n",
       "      <th>HasCrCard</th>\n",
       "      <th>IsActiveMember</th>\n",
       "      <th>EstimatedSalary</th>\n",
       "      <th>Exited</th>\n",
       "      <th>Geography_Germany</th>\n",
       "      <th>Geography_Spain</th>\n",
       "      <th>Gender_Male</th>\n",
       "    </tr>\n",
       "  </thead>\n",
       "  <tbody>\n",
       "    <tr>\n",
       "      <th>0</th>\n",
       "      <td>619</td>\n",
       "      <td>42</td>\n",
       "      <td>2.0</td>\n",
       "      <td>0.00</td>\n",
       "      <td>1</td>\n",
       "      <td>1</td>\n",
       "      <td>1</td>\n",
       "      <td>101348.88</td>\n",
       "      <td>1</td>\n",
       "      <td>0</td>\n",
       "      <td>0</td>\n",
       "      <td>0</td>\n",
       "    </tr>\n",
       "    <tr>\n",
       "      <th>1</th>\n",
       "      <td>608</td>\n",
       "      <td>41</td>\n",
       "      <td>1.0</td>\n",
       "      <td>83807.86</td>\n",
       "      <td>1</td>\n",
       "      <td>0</td>\n",
       "      <td>1</td>\n",
       "      <td>112542.58</td>\n",
       "      <td>0</td>\n",
       "      <td>0</td>\n",
       "      <td>1</td>\n",
       "      <td>0</td>\n",
       "    </tr>\n",
       "    <tr>\n",
       "      <th>2</th>\n",
       "      <td>502</td>\n",
       "      <td>42</td>\n",
       "      <td>8.0</td>\n",
       "      <td>159660.80</td>\n",
       "      <td>3</td>\n",
       "      <td>1</td>\n",
       "      <td>0</td>\n",
       "      <td>113931.57</td>\n",
       "      <td>1</td>\n",
       "      <td>0</td>\n",
       "      <td>0</td>\n",
       "      <td>0</td>\n",
       "    </tr>\n",
       "    <tr>\n",
       "      <th>3</th>\n",
       "      <td>699</td>\n",
       "      <td>39</td>\n",
       "      <td>1.0</td>\n",
       "      <td>0.00</td>\n",
       "      <td>2</td>\n",
       "      <td>0</td>\n",
       "      <td>0</td>\n",
       "      <td>93826.63</td>\n",
       "      <td>0</td>\n",
       "      <td>0</td>\n",
       "      <td>0</td>\n",
       "      <td>0</td>\n",
       "    </tr>\n",
       "    <tr>\n",
       "      <th>4</th>\n",
       "      <td>850</td>\n",
       "      <td>43</td>\n",
       "      <td>2.0</td>\n",
       "      <td>125510.82</td>\n",
       "      <td>1</td>\n",
       "      <td>1</td>\n",
       "      <td>1</td>\n",
       "      <td>79084.10</td>\n",
       "      <td>0</td>\n",
       "      <td>0</td>\n",
       "      <td>1</td>\n",
       "      <td>0</td>\n",
       "    </tr>\n",
       "  </tbody>\n",
       "</table>\n",
       "</div>"
      ],
      "text/plain": [
       "   CreditScore  Age  Tenure    Balance  NumOfProducts  HasCrCard  \\\n",
       "0          619   42     2.0       0.00              1          1   \n",
       "1          608   41     1.0   83807.86              1          0   \n",
       "2          502   42     8.0  159660.80              3          1   \n",
       "3          699   39     1.0       0.00              2          0   \n",
       "4          850   43     2.0  125510.82              1          1   \n",
       "\n",
       "   IsActiveMember  EstimatedSalary  Exited  Geography_Germany  \\\n",
       "0               1        101348.88       1                  0   \n",
       "1               1        112542.58       0                  0   \n",
       "2               0        113931.57       1                  0   \n",
       "3               0         93826.63       0                  0   \n",
       "4               1         79084.10       0                  0   \n",
       "\n",
       "   Geography_Spain  Gender_Male  \n",
       "0                0            0  \n",
       "1                1            0  \n",
       "2                0            0  \n",
       "3                0            0  \n",
       "4                1            0  "
      ]
     },
     "execution_count": 13,
     "metadata": {},
     "output_type": "execute_result"
    }
   ],
   "source": [
    "# преобразуем категориальные признаки методом прямого кодирования\n",
    "data = pd.get_dummies(data, drop_first = True)\n",
    "data.head()"
   ]
  },
  {
   "cell_type": "code",
   "execution_count": 14,
   "metadata": {},
   "outputs": [],
   "source": [
    "# разделим датасет на данные и целевой признак, а так же на трейновую, валидационную и тестовую выборки\n",
    "features = data.drop('Exited', axis =1)\n",
    "target = data['Exited']\n",
    "features_train, features_valid, target_train, target_valid = train_test_split(features, target, \n",
    "                                                                              test_size = 0.4, \n",
    "                                                                              random_state = 12345,\n",
    "                                                                             stratify = target)\n",
    "features_valid, features_test, target_valid, target_test = train_test_split(features_valid, target_valid, \n",
    "                                                                              test_size = 0.5, \n",
    "                                                                              random_state = 12345,\n",
    "                                                                            stratify = target_valid)"
   ]
  },
  {
   "cell_type": "code",
   "execution_count": 15,
   "metadata": {},
   "outputs": [
    {
     "name": "stderr",
     "output_type": "stream",
     "text": [
      "/tmp/ipykernel_210/526171115.py:5: SettingWithCopyWarning: \n",
      "A value is trying to be set on a copy of a slice from a DataFrame.\n",
      "Try using .loc[row_indexer,col_indexer] = value instead\n",
      "\n",
      "See the caveats in the documentation: https://pandas.pydata.org/pandas-docs/stable/user_guide/indexing.html#returning-a-view-versus-a-copy\n",
      "  features_train[numeric] = scaler.transform(features_train[numeric])\n",
      "/opt/conda/lib/python3.9/site-packages/pandas/core/indexing.py:1738: SettingWithCopyWarning: \n",
      "A value is trying to be set on a copy of a slice from a DataFrame.\n",
      "Try using .loc[row_indexer,col_indexer] = value instead\n",
      "\n",
      "See the caveats in the documentation: https://pandas.pydata.org/pandas-docs/stable/user_guide/indexing.html#returning-a-view-versus-a-copy\n",
      "  self._setitem_single_column(loc, value[:, i].tolist(), pi)\n"
     ]
    },
    {
     "data": {
      "text/html": [
       "<div>\n",
       "<style scoped>\n",
       "    .dataframe tbody tr th:only-of-type {\n",
       "        vertical-align: middle;\n",
       "    }\n",
       "\n",
       "    .dataframe tbody tr th {\n",
       "        vertical-align: top;\n",
       "    }\n",
       "\n",
       "    .dataframe thead th {\n",
       "        text-align: right;\n",
       "    }\n",
       "</style>\n",
       "<table border=\"1\" class=\"dataframe\">\n",
       "  <thead>\n",
       "    <tr style=\"text-align: right;\">\n",
       "      <th></th>\n",
       "      <th>CreditScore</th>\n",
       "      <th>Age</th>\n",
       "      <th>Tenure</th>\n",
       "      <th>Balance</th>\n",
       "      <th>NumOfProducts</th>\n",
       "      <th>HasCrCard</th>\n",
       "      <th>IsActiveMember</th>\n",
       "      <th>EstimatedSalary</th>\n",
       "      <th>Geography_Germany</th>\n",
       "      <th>Geography_Spain</th>\n",
       "      <th>Gender_Male</th>\n",
       "    </tr>\n",
       "  </thead>\n",
       "  <tbody>\n",
       "    <tr>\n",
       "      <th>2837</th>\n",
       "      <td>-1.040434</td>\n",
       "      <td>0.953312</td>\n",
       "      <td>6.0</td>\n",
       "      <td>0.774657</td>\n",
       "      <td>1</td>\n",
       "      <td>0</td>\n",
       "      <td>1</td>\n",
       "      <td>-0.119110</td>\n",
       "      <td>1</td>\n",
       "      <td>0</td>\n",
       "      <td>0</td>\n",
       "    </tr>\n",
       "    <tr>\n",
       "      <th>9925</th>\n",
       "      <td>0.454006</td>\n",
       "      <td>-0.095244</td>\n",
       "      <td>5.0</td>\n",
       "      <td>1.910540</td>\n",
       "      <td>1</td>\n",
       "      <td>1</td>\n",
       "      <td>1</td>\n",
       "      <td>-0.258658</td>\n",
       "      <td>0</td>\n",
       "      <td>0</td>\n",
       "      <td>0</td>\n",
       "    </tr>\n",
       "    <tr>\n",
       "      <th>8746</th>\n",
       "      <td>0.103585</td>\n",
       "      <td>-0.476537</td>\n",
       "      <td>8.0</td>\n",
       "      <td>0.481608</td>\n",
       "      <td>2</td>\n",
       "      <td>0</td>\n",
       "      <td>1</td>\n",
       "      <td>1.422836</td>\n",
       "      <td>0</td>\n",
       "      <td>0</td>\n",
       "      <td>1</td>\n",
       "    </tr>\n",
       "    <tr>\n",
       "      <th>660</th>\n",
       "      <td>-0.184996</td>\n",
       "      <td>0.190726</td>\n",
       "      <td>5.0</td>\n",
       "      <td>0.088439</td>\n",
       "      <td>1</td>\n",
       "      <td>1</td>\n",
       "      <td>1</td>\n",
       "      <td>-1.160427</td>\n",
       "      <td>1</td>\n",
       "      <td>0</td>\n",
       "      <td>0</td>\n",
       "    </tr>\n",
       "    <tr>\n",
       "      <th>3610</th>\n",
       "      <td>-0.720933</td>\n",
       "      <td>1.620574</td>\n",
       "      <td>1.0</td>\n",
       "      <td>0.879129</td>\n",
       "      <td>1</td>\n",
       "      <td>1</td>\n",
       "      <td>0</td>\n",
       "      <td>0.113236</td>\n",
       "      <td>0</td>\n",
       "      <td>0</td>\n",
       "      <td>0</td>\n",
       "    </tr>\n",
       "  </tbody>\n",
       "</table>\n",
       "</div>"
      ],
      "text/plain": [
       "      CreditScore       Age  Tenure   Balance  NumOfProducts  HasCrCard  \\\n",
       "2837    -1.040434  0.953312     6.0  0.774657              1          0   \n",
       "9925     0.454006 -0.095244     5.0  1.910540              1          1   \n",
       "8746     0.103585 -0.476537     8.0  0.481608              2          0   \n",
       "660     -0.184996  0.190726     5.0  0.088439              1          1   \n",
       "3610    -0.720933  1.620574     1.0  0.879129              1          1   \n",
       "\n",
       "      IsActiveMember  EstimatedSalary  Geography_Germany  Geography_Spain  \\\n",
       "2837               1        -0.119110                  1                0   \n",
       "9925               1        -0.258658                  0                0   \n",
       "8746               1         1.422836                  0                0   \n",
       "660                1        -1.160427                  1                0   \n",
       "3610               0         0.113236                  0                0   \n",
       "\n",
       "      Gender_Male  \n",
       "2837            0  \n",
       "9925            0  \n",
       "8746            1  \n",
       "660             0  \n",
       "3610            0  "
      ]
     },
     "execution_count": 15,
     "metadata": {},
     "output_type": "execute_result"
    }
   ],
   "source": [
    "# масштабируем числовые переменные\n",
    "numeric = ['CreditScore', 'Age', 'Balance', 'EstimatedSalary']\n",
    "scaler = StandardScaler()\n",
    "scaler.fit(features_train[numeric])\n",
    "features_train[numeric] = scaler.transform(features_train[numeric])\n",
    "features_valid[numeric] = scaler.transform(features_valid[numeric])\n",
    "features_test[numeric] = scaler.transform(features_test[numeric])\n",
    "\n",
    "features_train.head()"
   ]
  },
  {
   "cell_type": "markdown",
   "metadata": {},
   "source": [
    "### Обучение моделей: DecisionTreeClassifier"
   ]
  },
  {
   "cell_type": "markdown",
   "metadata": {},
   "source": [
    "Необходимо обучить несколько моделей, подходящих к задаче моделирования категориальных данных, и сравнить ключевую метрику по разным моделям (F1-мера), чтобы выявить наилучшую. Начнем с модели DecisionTreeClassifier."
   ]
  },
  {
   "cell_type": "code",
   "execution_count": 16,
   "metadata": {},
   "outputs": [
    {
     "name": "stdout",
     "output_type": "stream",
     "text": [
      "Depth: 2, F1: 0.5203, ROC-AUC: 0.6876\n",
      "Depth: 3, F1: 0.5376, ROC-AUC: 0.6972\n",
      "Depth: 4, F1: 0.5206, ROC-AUC: 0.6828\n",
      "Depth: 5, F1: 0.5455, ROC-AUC: 0.6945\n",
      "Depth: 6, F1: 0.5788, ROC-AUC: 0.7149\n",
      "Depth: 7, F1: 0.5925, ROC-AUC: 0.7264\n",
      "Depth: 8, F1: 0.5601, ROC-AUC: 0.7051\n",
      "Depth: 9, F1: 0.5492, ROC-AUC: 0.7022\n",
      "Depth: 10, F1: 0.5462, ROC-AUC: 0.7053\n",
      "Depth: 11, F1: 0.5422, ROC-AUC: 0.7028\n",
      "Depth: 12, F1: 0.5518, ROC-AUC: 0.7104\n",
      "Depth: 13, F1: 0.5443, ROC-AUC: 0.7087\n",
      "Depth: 14, F1: 0.505, ROC-AUC: 0.6876\n",
      "Depth: 15, F1: 0.5253, ROC-AUC: 0.6996\n",
      "Depth: 16, F1: 0.5135, ROC-AUC: 0.6943\n",
      "Depth: 17, F1: 0.5407, ROC-AUC: 0.7109\n",
      "Depth: 18, F1: 0.5243, ROC-AUC: 0.7019\n",
      "Depth: 19, F1: 0.5205, ROC-AUC: 0.7\n",
      "Depth: 20, F1: 0.503, ROC-AUC: 0.6895\n"
     ]
    }
   ],
   "source": [
    "graph_f1 = []\n",
    "graph_roc=[]\n",
    "for max_depth in range(2, 21):\n",
    "    model = DecisionTreeClassifier(max_depth = max_depth, random_state = 12345)\n",
    "    model.fit(features_train, target_train)\n",
    "    predict_valid = model.predict(features_valid)\n",
    "    f1_valid = f1_score(target_valid, predict_valid)\n",
    "    auc_score = roc_auc_score(target_valid, model.predict(features_valid))\n",
    "    graph_f1.append(f1_valid)\n",
    "    graph_roc.append(auc_score)\n",
    "    print(f'Depth: {max_depth}, F1: {round(f1_valid,4)}, ROC-AUC: {round(auc_score, 4)}')"
   ]
  },
  {
   "cell_type": "code",
   "execution_count": 17,
   "metadata": {},
   "outputs": [
    {
     "data": {
      "image/png": "[encoded data removed]",
      "text/plain": [
       "<Figure size 432x288 with 1 Axes>"
      ]
     },
     "metadata": {
      "needs_background": "light"
     },
     "output_type": "display_data"
    }
   ],
   "source": [
    "plt.plot(range(2,21), graph_f1)\n",
    "plt.title('График зависимости F1-меры & ROC-AUC от max_depth')\n",
    "plt.xlim(2, 20)\n",
    "plt.plot(range(2, 21), graph_roc)\n",
    "plt.legend({'ROC-AUC', 'F1'});"
   ]
  },
  {
   "cell_type": "markdown",
   "metadata": {},
   "source": [
    "DecisionTreeClassifier лучше всего прогнозирует данные при max_depth = 7, F1-мера, равная 0,59, достаточно высока и удовлетворяет условиям (0,59). ROC-AUC также максимальный при глубине 7 и соотвествует значению 0,72. "
   ]
  },
  {
   "cell_type": "markdown",
   "metadata": {},
   "source": [
    "### Обучение моделей: RandomForestClassifier"
   ]
  },
  {
   "cell_type": "code",
   "execution_count": 18,
   "metadata": {},
   "outputs": [
    {
     "name": "stdout",
     "output_type": "stream",
     "text": [
      "Estimators: 10, F1: 0.5714, ROC-AUC: 0.7136\n",
      "Estimators: 20, F1: 0.5997, ROC-AUC: 0.728\n",
      "Estimators: 30, F1: 0.6053, ROC-AUC: 0.732\n",
      "Estimators: 40, F1: 0.6026, ROC-AUC: 0.7311\n",
      "Estimators: 50, F1: 0.5971, ROC-AUC: 0.7271\n",
      "Estimators: 60, F1: 0.6009, ROC-AUC: 0.729\n",
      "Estimators: 70, F1: 0.597, ROC-AUC: 0.7256\n",
      "Estimators: 80, F1: 0.6003, ROC-AUC: 0.7278\n",
      "Estimators: 90, F1: 0.6068, ROC-AUC: 0.732\n",
      "Estimators: 100, F1: 0.6127, ROC-AUC: 0.7351\n",
      "Estimators: 110, F1: 0.6106, ROC-AUC: 0.7339\n",
      "Estimators: 120, F1: 0.6095, ROC-AUC: 0.733\n",
      "Estimators: 130, F1: 0.6053, ROC-AUC: 0.7305\n",
      "Estimators: 140, F1: 0.6092, ROC-AUC: 0.7324\n",
      "Estimators: 150, F1: 0.6024, ROC-AUC: 0.729\n",
      "Estimators: 160, F1: 0.603, ROC-AUC: 0.7287\n",
      "Estimators: 170, F1: 0.6009, ROC-AUC: 0.7275\n",
      "Estimators: 180, F1: 0.603, ROC-AUC: 0.7287\n",
      "Estimators: 190, F1: 0.5991, ROC-AUC: 0.7269\n",
      "Estimators: 200, F1: 0.6024, ROC-AUC: 0.729\n"
     ]
    }
   ],
   "source": [
    "graph_f1 = []\n",
    "graph_roc= []\n",
    "for n_est in range(10, 201, 10):    \n",
    "    model = RandomForestClassifier(n_estimators = n_est, random_state = 12345)\n",
    "    model.fit(features_train, target_train)\n",
    "    predict_valid = model.predict(features_valid)\n",
    "    f1_valid = f1_score(target_valid, predict_valid)\n",
    "    auc_score = roc_auc_score(target_valid, model.predict(features_valid))\n",
    "    graph_f1.append(f1_valid)\n",
    "    graph_roc.append(auc_score)\n",
    "    print(f'Estimators: {n_est}, F1: {round(f1_valid,4)}, ROC-AUC: {round(auc_score, 4)}')"
   ]
  },
  {
   "cell_type": "code",
   "execution_count": 19,
   "metadata": {},
   "outputs": [
    {
     "data": {
      "image/png": "[encoded data removed]",
      "text/plain": [
       "<Figure size 432x288 with 1 Axes>"
      ]
     },
     "metadata": {
      "needs_background": "light"
     },
     "output_type": "display_data"
    }
   ],
   "source": [
    "plt.plot(range(10, 201, 10), graph_roc)\n",
    "plt.plot(range(10, 201, 10), graph_f1)\n",
    "plt.title('График зависимости F1-меры & ROC-AUC от количества деревьев в лесу')\n",
    "plt.legend({'F1-мера', 'ROC-AUC'});"
   ]
  },
  {
   "cell_type": "markdown",
   "metadata": {},
   "source": [
    "Random Forest дает стабильный результат в районе F1 = 0,6 на валидационной выборке при любом количестве эстиматоров; в целом, этот результат лучше, чем у Decision Tree. Об этом же говорит и ROC-AUC в районе 0,73 (протви 0,72 в максимальном резульатате Decision Tree)."
   ]
  },
  {
   "cell_type": "markdown",
   "metadata": {},
   "source": [
    "### Обучение моделей: LogisticRegression"
   ]
  },
  {
   "cell_type": "markdown",
   "metadata": {},
   "source": [
    "Изучим результаты Логистической регрессии при различных вариантах параметров \"C\" & \"Intercept scaling\", а для лучшей визуализации построим хитмэп."
   ]
  },
  {
   "cell_type": "code",
   "execution_count": 20,
   "metadata": {},
   "outputs": [
    {
     "name": "stdout",
     "output_type": "stream",
     "text": [
      "intercept_scaling: 0.1 C-parameter: 0.1, F1: 0.3327, ROC-AUC: 0.5958\n",
      "intercept_scaling: 0.1 C-parameter: 0.3, F1: 0.3333, ROC-AUC: 0.5957\n",
      "intercept_scaling: 0.1 C-parameter: 0.5, F1: 0.331, ROC-AUC: 0.5948\n",
      "intercept_scaling: 0.1 C-parameter: 0.7, F1: 0.331, ROC-AUC: 0.5948\n",
      "intercept_scaling: 0.1 C-parameter: 0.9, F1: 0.328, ROC-AUC: 0.5936\n",
      "intercept_scaling: 0.3 C-parameter: 0.1, F1: 0.3213, ROC-AUC: 0.5912\n",
      "intercept_scaling: 0.3 C-parameter: 0.3, F1: 0.3194, ROC-AUC: 0.5906\n",
      "intercept_scaling: 0.3 C-parameter: 0.5, F1: 0.3158, ROC-AUC: 0.589\n",
      "intercept_scaling: 0.3 C-parameter: 0.7, F1: 0.3164, ROC-AUC: 0.5893\n",
      "intercept_scaling: 0.3 C-parameter: 0.9, F1: 0.3194, ROC-AUC: 0.5906\n",
      "intercept_scaling: 0.5 C-parameter: 0.1, F1: 0.3127, ROC-AUC: 0.5878\n",
      "intercept_scaling: 0.5 C-parameter: 0.3, F1: 0.3077, ROC-AUC: 0.586\n",
      "intercept_scaling: 0.5 C-parameter: 0.5, F1: 0.3108, ROC-AUC: 0.5872\n",
      "intercept_scaling: 0.5 C-parameter: 0.7, F1: 0.3102, ROC-AUC: 0.5869\n",
      "intercept_scaling: 0.5 C-parameter: 0.9, F1: 0.3102, ROC-AUC: 0.5869\n",
      "intercept_scaling: 0.7 C-parameter: 0.1, F1: 0.3026, ROC-AUC: 0.5842\n",
      "intercept_scaling: 0.7 C-parameter: 0.3, F1: 0.3083, ROC-AUC: 0.5863\n",
      "intercept_scaling: 0.7 C-parameter: 0.5, F1: 0.3083, ROC-AUC: 0.5863\n",
      "intercept_scaling: 0.7 C-parameter: 0.7, F1: 0.3077, ROC-AUC: 0.586\n",
      "intercept_scaling: 0.7 C-parameter: 0.9, F1: 0.3077, ROC-AUC: 0.586\n",
      "intercept_scaling: 0.9 C-parameter: 0.1, F1: 0.2994, ROC-AUC: 0.5829\n",
      "intercept_scaling: 0.9 C-parameter: 0.3, F1: 0.3051, ROC-AUC: 0.5851\n",
      "intercept_scaling: 0.9 C-parameter: 0.5, F1: 0.3046, ROC-AUC: 0.5848\n",
      "intercept_scaling: 0.9 C-parameter: 0.7, F1: 0.3046, ROC-AUC: 0.5848\n",
      "intercept_scaling: 0.9 C-parameter: 0.9, F1: 0.3077, ROC-AUC: 0.586\n"
     ]
    },
    {
     "data": {
      "image/png": "[encoded data removed]",
      "text/plain": [
       "<Figure size 432x288 with 2 Axes>"
      ]
     },
     "metadata": {
      "needs_background": "light"
     },
     "output_type": "display_data"
    }
   ],
   "source": [
    "heatmap_graph = pd.DataFrame(columns = [0.1, 0.3, 0.5, 0.7, 0.9], index = [0.1, 0.3, 0.5, 0.7, 0.9])\n",
    "\n",
    "for intercept in [0.1, 0.3, 0.5, 0.7, 0.9]:\n",
    "    for c_param in [0.1, 0.3, 0.5, 0.7, 0.9]:\n",
    "        model = LogisticRegression(C=c_param, intercept_scaling = intercept, solver='liblinear', random_state = 12345)\n",
    "        model.fit(features_train, target_train)\n",
    "        predicted_valid = model.predict(features_valid)\n",
    "        precision = precision_score(target_valid, predicted_valid) \n",
    "        recall = recall_score(target_valid, predicted_valid) \n",
    "        f1_valid = f1_score(target_valid, predicted_valid) \n",
    "        auc_score = roc_auc_score(target_valid, predicted_valid) \n",
    "        heatmap_graph.loc[intercept, c_param] = f1_valid\n",
    "        print(f'intercept_scaling: {round(intercept, 2)} C-parameter: {round(c_param, 2)}, F1: {round(f1_valid,4)}, ROC-AUC: {round(auc_score, 4)}')\n",
    "        \n",
    "heatmap_graph = heatmap_graph.astype('float')\n",
    "heatmap_graph.index = ['intercept_0.1', 'intercept_0.3', 'intercept_0.5', 'intercept_0.7', 'intercept_0.9']\n",
    "heatmap_graph.columns = ['C_0.1', 'C_0.3', 'C_0.5', 'C_0.7', 'C_0.9']\n",
    "sns.heatmap(heatmap_graph);"
   ]
  },
  {
   "cell_type": "markdown",
   "metadata": {},
   "source": [
    "Мы видим, что Логистическая регрессия подходит под наши потребности еще меньше, т.к. ключевая метрика не превышает 0,33, даже при оптимальном сочетании гиперпараметров (intercept scaling = 0.1, \"C\" = 0.3). <br>\n",
    "Можем отбросить эту модель для дальнейших исследований."
   ]
  },
  {
   "cell_type": "markdown",
   "metadata": {},
   "source": [
    "## Борьба с дисбалансом"
   ]
  },
  {
   "cell_type": "markdown",
   "metadata": {},
   "source": [
    "### Устранение дисбаланса методом upsampling и downsampling"
   ]
  },
  {
   "cell_type": "markdown",
   "metadata": {},
   "source": [
    "Ранее в пункте 2 мы выявили дисбаланс классов в следующей пропорции: 80:20.\n",
    "Чтобы сбалансировать классы, необходимо уравнять пропорции и привести их примерно к 50:50. <br>\n",
    "Попробуем сбалансировать классы методом Upsampling."
   ]
  },
  {
   "cell_type": "code",
   "execution_count": 21,
   "metadata": {},
   "outputs": [
    {
     "data": {
      "text/plain": [
       "(9666, 11)"
      ]
     },
     "execution_count": 21,
     "metadata": {},
     "output_type": "execute_result"
    }
   ],
   "source": [
    "# увеличим кол-во объектов с классом 1 методом upsampling\n",
    "features_one = features_train[target_train==1]\n",
    "features_zero = features_train[target_train ==0]\n",
    "features_one.shape\n",
    "target_one = target_train[target_train ==1]\n",
    "target_zero = target_train[target_train == 0]\n",
    "\n",
    "features_upsampled = pd.concat([features_one]*4 +[features_zero])\n",
    "features_upsampled.shape\n",
    "target_upsampled = pd.concat([target_one]*4 +[target_zero])\n",
    "target_upsampled.shape\n",
    "\n",
    "features_upsampled, target_upsampled = shuffle(features_upsampled, target_upsampled, random_state=12345)\n",
    "features_upsampled.shape"
   ]
  },
  {
   "cell_type": "markdown",
   "metadata": {},
   "source": [
    "Для сравнения сделаем также балансировку методом Downsampling."
   ]
  },
  {
   "cell_type": "code",
   "execution_count": 22,
   "metadata": {},
   "outputs": [
    {
     "data": {
      "text/plain": [
       "(2416, 11)"
      ]
     },
     "execution_count": 22,
     "metadata": {},
     "output_type": "execute_result"
    }
   ],
   "source": [
    "features_downsampled = pd.concat([features_one]+[features_zero.sample(frac = 0.25, random_state= 12345)])\n",
    "features_downsampled.shape\n",
    "target_downsampled = pd.concat([target_one] +[target_zero.sample(frac=0.25, random_state =12345)])\n",
    "target_downsampled.shape\n",
    "\n",
    "features_downsampled, target_downsampled = shuffle(features_downsampled, target_downsampled, random_state=12345)\n",
    "features_downsampled.shape"
   ]
  },
  {
   "cell_type": "markdown",
   "metadata": {},
   "source": [
    "Проверим, как на валидационной выборке работают модели при сбалансированных классах."
   ]
  },
  {
   "cell_type": "code",
   "execution_count": 23,
   "metadata": {},
   "outputs": [
    {
     "name": "stdout",
     "output_type": "stream",
     "text": [
      "Depth: 2, F1: 0.498, ROC-AUC: 0.7152\n",
      "Depth: 3, F1: 0.498, ROC-AUC: 0.7152\n",
      "Depth: 4, F1: 0.5609, ROC-AUC: 0.7595\n",
      "Depth: 5, F1: 0.5546, ROC-AUC: 0.7665\n",
      "Depth: 6, F1: 0.5759, ROC-AUC: 0.7677\n",
      "Depth: 7, F1: 0.5725, ROC-AUC: 0.7679\n",
      "Depth: 8, F1: 0.5477, ROC-AUC: 0.7475\n",
      "Depth: 9, F1: 0.5397, ROC-AUC: 0.7315\n",
      "Depth: 10, F1: 0.5371, ROC-AUC: 0.7259\n",
      "Depth: 11, F1: 0.5314, ROC-AUC: 0.7189\n",
      "Depth: 12, F1: 0.5131, ROC-AUC: 0.7054\n",
      "Depth: 13, F1: 0.517, ROC-AUC: 0.7047\n",
      "Depth: 14, F1: 0.5297, ROC-AUC: 0.7116\n",
      "Depth: 15, F1: 0.5252, ROC-AUC: 0.7051\n",
      "Depth: 16, F1: 0.5293, ROC-AUC: 0.7079\n",
      "Depth: 17, F1: 0.5263, ROC-AUC: 0.7043\n",
      "Depth: 18, F1: 0.5266, ROC-AUC: 0.7037\n",
      "Depth: 19, F1: 0.532, ROC-AUC: 0.7071\n",
      "Depth: 20, F1: 0.5262, ROC-AUC: 0.7028\n"
     ]
    }
   ],
   "source": [
    "# Decision Tree Classifier\n",
    "graph_f1_up = []\n",
    "graph_roc_up =[]\n",
    "for max_depth in range(2, 21):\n",
    "    model = DecisionTreeClassifier(max_depth = max_depth, random_state = 12345)\n",
    "    model.fit(features_upsampled, target_upsampled)\n",
    "    predict_valid = model.predict(features_valid)\n",
    "    f1_valid = f1_score(target_valid, predict_valid)\n",
    "    auc_score = roc_auc_score(target_valid, model.predict(features_valid))\n",
    "    graph_f1_up.append(f1_valid)\n",
    "    graph_roc_up.append(auc_score)\n",
    "    print(f'Depth: {max_depth}, F1: {round(f1_valid,4)}, ROC-AUC: {round(auc_score, 4)}')\n"
   ]
  },
  {
   "cell_type": "code",
   "execution_count": 24,
   "metadata": {
    "scrolled": true
   },
   "outputs": [
    {
     "data": {
      "image/png": "[encoded data removed]",
      "text/plain": [
       "<Figure size 432x288 with 1 Axes>"
      ]
     },
     "metadata": {
      "needs_background": "light"
     },
     "output_type": "display_data"
    }
   ],
   "source": [
    "plt.plot(range(2,21), graph_f1_up)\n",
    "plt.title('График зависимости F1-меры & ROC-AUC от max_depth')\n",
    "plt.xlim(2, 20)\n",
    "\n",
    "plt.plot(range(2, 21), graph_roc_up)\n",
    "plt.legend({'F1-мера', 'ROC-AUC'});\n"
   ]
  },
  {
   "cell_type": "code",
   "execution_count": 25,
   "metadata": {},
   "outputs": [
    {
     "name": "stdout",
     "output_type": "stream",
     "text": [
      "Depth: 2, F1: 0.498, ROC-AUC: 0.7152\n",
      "Depth: 3, F1: 0.498, ROC-AUC: 0.7152\n",
      "Depth: 4, F1: 0.5624, ROC-AUC: 0.7605\n",
      "Depth: 5, F1: 0.5555, ROC-AUC: 0.7724\n",
      "Depth: 6, F1: 0.5945, ROC-AUC: 0.7793\n",
      "Depth: 7, F1: 0.5803, ROC-AUC: 0.7726\n",
      "Depth: 8, F1: 0.5706, ROC-AUC: 0.7628\n",
      "Depth: 9, F1: 0.5826, ROC-AUC: 0.7721\n",
      "Depth: 10, F1: 0.5728, ROC-AUC: 0.765\n",
      "Depth: 11, F1: 0.5423, ROC-AUC: 0.7455\n",
      "Depth: 12, F1: 0.5357, ROC-AUC: 0.7397\n",
      "Depth: 13, F1: 0.5309, ROC-AUC: 0.7368\n",
      "Depth: 14, F1: 0.5174, ROC-AUC: 0.7251\n",
      "Depth: 15, F1: 0.5038, ROC-AUC: 0.7148\n",
      "Depth: 16, F1: 0.5075, ROC-AUC: 0.7196\n",
      "Depth: 17, F1: 0.4888, ROC-AUC: 0.7029\n",
      "Depth: 18, F1: 0.4917, ROC-AUC: 0.7057\n",
      "Depth: 19, F1: 0.4916, ROC-AUC: 0.7049\n",
      "Depth: 20, F1: 0.4916, ROC-AUC: 0.7049\n"
     ]
    }
   ],
   "source": [
    "# Decision Tree Classifier\n",
    "graph_f1_down = []\n",
    "graph_roc_down =[]\n",
    "for max_depth in range(2, 21):\n",
    "    model = DecisionTreeClassifier(max_depth = max_depth, random_state = 12345)\n",
    "    model.fit(features_downsampled, target_downsampled)\n",
    "    predict_valid = model.predict(features_valid)\n",
    "    f1_valid = f1_score(target_valid, predict_valid)\n",
    "    auc_score = roc_auc_score(target_valid, model.predict(features_valid))\n",
    "    graph_f1_down.append(f1_valid)\n",
    "    graph_roc_down.append(auc_score)\n",
    "    print(f'Depth: {max_depth}, F1: {round(f1_valid,4)}, ROC-AUC: {round(auc_score, 4)}')"
   ]
  },
  {
   "cell_type": "code",
   "execution_count": 26,
   "metadata": {},
   "outputs": [
    {
     "data": {
      "image/png": "[encoded data removed]",
      "text/plain": [
       "<Figure size 432x288 with 1 Axes>"
      ]
     },
     "metadata": {
      "needs_background": "light"
     },
     "output_type": "display_data"
    }
   ],
   "source": [
    "plt.plot(range(2,21), graph_f1_down)\n",
    "plt.title('График зависимости F1-меры & ROC-AUC от max_depth')\n",
    "plt.xlim(2, 20)\n",
    "\n",
    "plt.plot(range(2, 21), graph_roc_down)\n",
    "plt.legend({'F1-мера', 'ROC-AUC'});"
   ]
  },
  {
   "cell_type": "markdown",
   "metadata": {},
   "source": [
    "Для лучшей визуализации построим хитмэп и посмотрим, в каком из вариантов значение оптимально."
   ]
  },
  {
   "cell_type": "code",
   "execution_count": 27,
   "metadata": {},
   "outputs": [
    {
     "data": {
      "image/png": "[encoded data removed]",
      "text/plain": [
       "<Figure size 432x288 with 2 Axes>"
      ]
     },
     "metadata": {
      "needs_background": "light"
     },
     "output_type": "display_data"
    }
   ],
   "source": [
    "# Graph Decision Tree\n",
    "synthesis_tree_f1 = pd.DataFrame(data = [graph_f1_up, graph_f1_down]).T\n",
    "synthesis_tree_f1.columns = ['Upsampling_F1', 'Downsampling_F1']\n",
    "synthesis_tree_f1.index = range(2, 21)\n",
    "sns.heatmap(synthesis_tree_f1);"
   ]
  },
  {
   "cell_type": "code",
   "execution_count": 28,
   "metadata": {},
   "outputs": [
    {
     "data": {
      "image/png": "[encoded data removed]",
      "text/plain": [
       "<Figure size 432x288 with 2 Axes>"
      ]
     },
     "metadata": {
      "needs_background": "light"
     },
     "output_type": "display_data"
    }
   ],
   "source": [
    "synthesis_tree_roc = pd.DataFrame(data = [graph_roc_up, graph_roc_down]).T\n",
    "synthesis_tree_roc.columns = ['Upsampling_ROC_AUC', 'Downsampling_ROC_AUC']\n",
    "synthesis_tree_roc.index = range(2, 21)\n",
    "sns.heatmap(synthesis_tree_roc);"
   ]
  },
  {
   "cell_type": "markdown",
   "metadata": {},
   "source": [
    "Максимальную эффективность на сбалансированной выборке модель показывает при max_depth = 6, ее F1 равна 0,5945 при более высоком ROC-AUC : 0.77. <br>\n",
    "Проверим, как на сбалансированной выборке ведет себя модель Random Forest."
   ]
  },
  {
   "cell_type": "code",
   "execution_count": 29,
   "metadata": {},
   "outputs": [
    {
     "name": "stdout",
     "output_type": "stream",
     "text": [
      "Estimators: 10, F1: 0.5928, ROC-AUC: 0.7308\n",
      "Estimators: 20, F1: 0.5997, ROC-AUC: 0.7384\n",
      "Estimators: 30, F1: 0.6144, ROC-AUC: 0.7476\n",
      "Estimators: 40, F1: 0.6209, ROC-AUC: 0.7522\n",
      "Estimators: 50, F1: 0.6247, ROC-AUC: 0.7552\n",
      "Estimators: 60, F1: 0.6239, ROC-AUC: 0.7549\n",
      "Estimators: 70, F1: 0.6227, ROC-AUC: 0.7534\n",
      "Estimators: 80, F1: 0.6288, ROC-AUC: 0.7568\n",
      "Estimators: 90, F1: 0.6227, ROC-AUC: 0.7534\n",
      "Estimators: 100, F1: 0.6265, ROC-AUC: 0.7538\n",
      "Estimators: 110, F1: 0.6215, ROC-AUC: 0.7519\n",
      "Estimators: 120, F1: 0.6197, ROC-AUC: 0.7507\n",
      "Estimators: 130, F1: 0.6215, ROC-AUC: 0.7519\n",
      "Estimators: 140, F1: 0.634, ROC-AUC: 0.7593\n",
      "Estimators: 150, F1: 0.6305, ROC-AUC: 0.7574\n",
      "Estimators: 160, F1: 0.6305, ROC-AUC: 0.7574\n",
      "Estimators: 170, F1: 0.6295, ROC-AUC: 0.7565\n",
      "Estimators: 180, F1: 0.6215, ROC-AUC: 0.7519\n",
      "Estimators: 190, F1: 0.6233, ROC-AUC: 0.7531\n",
      "Estimators: 200, F1: 0.6225, ROC-AUC: 0.7528\n"
     ]
    }
   ],
   "source": [
    "graph_f1_up = []\n",
    "graph_roc_up= []\n",
    "for n_est in range(10, 201, 10):    \n",
    "    model = RandomForestClassifier(n_estimators = n_est, random_state = 12345)\n",
    "    model.fit(features_upsampled, target_upsampled)\n",
    "    predict_valid = model.predict(features_valid)\n",
    "    f1_valid = f1_score(target_valid, predict_valid)\n",
    "    auc_score = roc_auc_score(target_valid, model.predict(features_valid))\n",
    "    graph_f1_up.append(f1_valid)\n",
    "    graph_roc_up.append(auc_score)\n",
    "    print(f'Estimators: {n_est}, F1: {round(f1_valid,4)}, ROC-AUC: {round(auc_score, 4)}')"
   ]
  },
  {
   "cell_type": "code",
   "execution_count": 30,
   "metadata": {},
   "outputs": [
    {
     "data": {
      "image/png": "[encoded data removed]",
      "text/plain": [
       "<Figure size 432x288 with 1 Axes>"
      ]
     },
     "metadata": {
      "needs_background": "light"
     },
     "output_type": "display_data"
    }
   ],
   "source": [
    "plt.plot(range(10, 201, 10), graph_f1_up)\n",
    "plt.title('График зависимости F1-меры & ROC-AUC от количества деревьев в лесу')\n",
    "\n",
    "plt.plot(range(10, 201, 10), graph_roc_up)\n",
    "plt.legend({'F1-мера', 'ROC-AUC'});"
   ]
  },
  {
   "cell_type": "code",
   "execution_count": 31,
   "metadata": {},
   "outputs": [
    {
     "name": "stdout",
     "output_type": "stream",
     "text": [
      "Estimators: 10, F1: 0.5809, ROC-AUC: 0.7647\n",
      "Estimators: 20, F1: 0.5788, ROC-AUC: 0.7658\n",
      "Estimators: 30, F1: 0.5787, ROC-AUC: 0.7676\n",
      "Estimators: 40, F1: 0.5845, ROC-AUC: 0.7737\n",
      "Estimators: 50, F1: 0.5891, ROC-AUC: 0.7768\n",
      "Estimators: 60, F1: 0.5936, ROC-AUC: 0.7793\n",
      "Estimators: 70, F1: 0.5989, ROC-AUC: 0.7827\n",
      "Estimators: 80, F1: 0.5943, ROC-AUC: 0.7787\n",
      "Estimators: 90, F1: 0.5949, ROC-AUC: 0.7805\n",
      "Estimators: 100, F1: 0.596, ROC-AUC: 0.7811\n",
      "Estimators: 110, F1: 0.6032, ROC-AUC: 0.7876\n",
      "Estimators: 120, F1: 0.6026, ROC-AUC: 0.7873\n",
      "Estimators: 130, F1: 0.607, ROC-AUC: 0.7907\n",
      "Estimators: 140, F1: 0.6047, ROC-AUC: 0.7879\n",
      "Estimators: 150, F1: 0.6034, ROC-AUC: 0.7882\n",
      "Estimators: 160, F1: 0.6023, ROC-AUC: 0.7875\n",
      "Estimators: 170, F1: 0.6028, ROC-AUC: 0.7879\n",
      "Estimators: 180, F1: 0.6006, ROC-AUC: 0.7866\n",
      "Estimators: 190, F1: 0.6006, ROC-AUC: 0.7866\n",
      "Estimators: 200, F1: 0.6024, ROC-AUC: 0.7881\n"
     ]
    }
   ],
   "source": [
    "graph_f1_down = []\n",
    "graph_roc_down= []\n",
    "for n_est in range(10, 201, 10):    \n",
    "    model = RandomForestClassifier(n_estimators = n_est, random_state = 12345)\n",
    "    model.fit(features_downsampled, target_downsampled)\n",
    "    predict_valid = model.predict(features_valid)\n",
    "    f1_valid = f1_score(target_valid, predict_valid)\n",
    "    auc_score = roc_auc_score(target_valid, model.predict(features_valid))\n",
    "    graph_f1_down.append(f1_valid)\n",
    "    graph_roc_down.append(auc_score)\n",
    "    print(f'Estimators: {n_est}, F1: {round(f1_valid,4)}, ROC-AUC: {round(auc_score, 4)}')"
   ]
  },
  {
   "cell_type": "code",
   "execution_count": 32,
   "metadata": {},
   "outputs": [
    {
     "data": {
      "image/png": "[encoded data removed]",
      "text/plain": [
       "<Figure size 432x288 with 1 Axes>"
      ]
     },
     "metadata": {
      "needs_background": "light"
     },
     "output_type": "display_data"
    }
   ],
   "source": [
    "plt.plot(range(10, 201, 10), graph_f1_down)\n",
    "plt.title('График зависимости F1-меры & ROC-AUC от количества деревьев в лесу')\n",
    "\n",
    "plt.plot(range(10, 201, 10), graph_roc_down)\n",
    "plt.legend({'F1-мера', 'ROC-AUC'});"
   ]
  },
  {
   "cell_type": "markdown",
   "metadata": {},
   "source": [
    "Для лучшей визуализации построим хитмэп и посмотрим, в каком из вариантов значение оптимально."
   ]
  },
  {
   "cell_type": "code",
   "execution_count": 33,
   "metadata": {},
   "outputs": [
    {
     "data": {
      "image/png": "[encoded data removed]",
      "text/plain": [
       "<Figure size 432x288 with 2 Axes>"
      ]
     },
     "metadata": {
      "needs_background": "light"
     },
     "output_type": "display_data"
    }
   ],
   "source": [
    "# Graph Random Forest\n",
    "synthesis_forest_f1 = pd.DataFrame(data = [graph_f1_up, graph_f1_down]).T\n",
    "synthesis_forest_f1.columns = ['Upsampling_F1', 'Downsampling_F1']\n",
    "synthesis_forest_f1.index = range(10, 201, 10)\n",
    "sns.heatmap(synthesis_forest_f1);"
   ]
  },
  {
   "cell_type": "code",
   "execution_count": 34,
   "metadata": {},
   "outputs": [
    {
     "data": {
      "image/png": "[encoded data removed]",
      "text/plain": [
       "<Figure size 432x288 with 2 Axes>"
      ]
     },
     "metadata": {
      "needs_background": "light"
     },
     "output_type": "display_data"
    }
   ],
   "source": [
    "synthesis_forest_roc = pd.DataFrame(data = [graph_roc_up, graph_roc_down]).T\n",
    "synthesis_forest_roc.columns = ['Upsampling_ROC_AUC', 'Downsampling_ROC_AUC']\n",
    "synthesis_forest_roc.index = range(10, 201, 10)\n",
    "sns.heatmap(synthesis_forest_roc);"
   ]
  },
  {
   "cell_type": "markdown",
   "metadata": {},
   "source": [
    "Мы видим, что как и в случае с Decision Tree, после балансировки классов показатели метрик не сильно изменились, ROC_AUC в абсолютном выражении вырос. <br>\n",
    "В отличие от Decision Tree, результаты Random Forest при апсемплинге и при даунсемплинге кажутся нелогичными и противоречивыми, судя по графику: для F1-меры результаты в целом выше при апсемплинге, а для ROC-AUC - при даунсемплинге. Стоит относиться с осторожностью к таким результатам и продолжать исследование балансировки классов.\n",
    " "
   ]
  },
  {
   "cell_type": "code",
   "execution_count": 35,
   "metadata": {},
   "outputs": [
    {
     "name": "stdout",
     "output_type": "stream",
     "text": [
      "intercept_scaling: 0.1 C-parameter: 0.1, F1: 0.5267, ROC-AUC: 0.7326\n",
      "intercept_scaling: 0.1 C-parameter: 0.3, F1: 0.5227, ROC-AUC: 0.7292\n",
      "intercept_scaling: 0.1 C-parameter: 0.5, F1: 0.5217, ROC-AUC: 0.7288\n",
      "intercept_scaling: 0.1 C-parameter: 0.7, F1: 0.5226, ROC-AUC: 0.7295\n",
      "intercept_scaling: 0.1 C-parameter: 0.9, F1: 0.5248, ROC-AUC: 0.7313\n",
      "intercept_scaling: 0.3 C-parameter: 0.1, F1: 0.5239, ROC-AUC: 0.7307\n",
      "intercept_scaling: 0.3 C-parameter: 0.3, F1: 0.5282, ROC-AUC: 0.7347\n",
      "intercept_scaling: 0.3 C-parameter: 0.5, F1: 0.5264, ROC-AUC: 0.7334\n",
      "intercept_scaling: 0.3 C-parameter: 0.7, F1: 0.526, ROC-AUC: 0.7331\n",
      "intercept_scaling: 0.3 C-parameter: 0.9, F1: 0.526, ROC-AUC: 0.7331\n",
      "intercept_scaling: 0.5 C-parameter: 0.1, F1: 0.5301, ROC-AUC: 0.7359\n",
      "intercept_scaling: 0.5 C-parameter: 0.3, F1: 0.526, ROC-AUC: 0.7331\n",
      "intercept_scaling: 0.5 C-parameter: 0.5, F1: 0.526, ROC-AUC: 0.7331\n",
      "intercept_scaling: 0.5 C-parameter: 0.7, F1: 0.5242, ROC-AUC: 0.7316\n",
      "intercept_scaling: 0.5 C-parameter: 0.9, F1: 0.5238, ROC-AUC: 0.7312\n",
      "intercept_scaling: 0.7 C-parameter: 0.1, F1: 0.5278, ROC-AUC: 0.7344\n",
      "intercept_scaling: 0.7 C-parameter: 0.3, F1: 0.526, ROC-AUC: 0.7331\n",
      "intercept_scaling: 0.7 C-parameter: 0.5, F1: 0.5238, ROC-AUC: 0.7312\n",
      "intercept_scaling: 0.7 C-parameter: 0.7, F1: 0.5238, ROC-AUC: 0.7312\n",
      "intercept_scaling: 0.7 C-parameter: 0.9, F1: 0.5238, ROC-AUC: 0.7312\n",
      "intercept_scaling: 0.9 C-parameter: 0.1, F1: 0.5264, ROC-AUC: 0.7334\n",
      "intercept_scaling: 0.9 C-parameter: 0.3, F1: 0.5242, ROC-AUC: 0.7316\n",
      "intercept_scaling: 0.9 C-parameter: 0.5, F1: 0.5242, ROC-AUC: 0.7316\n",
      "intercept_scaling: 0.9 C-parameter: 0.7, F1: 0.5242, ROC-AUC: 0.7316\n",
      "intercept_scaling: 0.9 C-parameter: 0.9, F1: 0.5242, ROC-AUC: 0.7316\n"
     ]
    },
    {
     "data": {
      "image/png": "[encoded data removed]",
      "text/plain": [
       "<Figure size 432x288 with 2 Axes>"
      ]
     },
     "metadata": {
      "needs_background": "light"
     },
     "output_type": "display_data"
    }
   ],
   "source": [
    "# Logistic regression\n",
    "graph_f1_up = []\n",
    "auc_graph_up = []\n",
    "heatmap_graph_up = pd.DataFrame(columns = [0.1, 0.3, 0.5, 0.7, 0.9], index = [0.1, 0.3, 0.5, 0.7, 0.9])\n",
    "\n",
    "for intercept in [0.1, 0.3, 0.5, 0.7, 0.9]:\n",
    "    for c_param in [0.1, 0.3, 0.5, 0.7, 0.9]:\n",
    "        model = LogisticRegression(C=c_param, intercept_scaling = intercept, solver='liblinear', random_state = 12345)\n",
    "        model.fit(features_upsampled, target_upsampled)\n",
    "        predicted_valid = model.predict(features_valid)\n",
    "        #predicted_valid = probabilities_one_valid > threshold \n",
    "        precision = precision_score(target_valid, predicted_valid) \n",
    "        recall = recall_score(target_valid, predicted_valid) \n",
    "        f1_valid = f1_score(target_valid, predicted_valid) \n",
    "        auc_score = roc_auc_score(target_valid, predicted_valid) \n",
    "        graph_f1_up.append(f1_valid)\n",
    "        auc_graph_up.append(auc_score)\n",
    "        heatmap_graph_up.loc[intercept, c_param] = f1_valid\n",
    "        print(f'intercept_scaling: {round(intercept, 2)} C-parameter: {round(c_param, 2)}, F1: {round(f1_valid,4)}, ROC-AUC: {round(auc_score, 4)}')\n",
    "        \n",
    "heatmap_graph_up = heatmap_graph_up.astype('float')\n",
    "heatmap_graph_up.index = ['intercept_0.1', 'intercept_0.3', 'intercept_0.5', 'intercept_0.7', 'intercept_0.9']\n",
    "heatmap_graph_up.columns = ['C_0.1', 'C_0.3', 'C_0.5', 'C_0.7', 'C_0.9']\n",
    "sns.heatmap(heatmap_graph_up);\n"
   ]
  },
  {
   "cell_type": "markdown",
   "metadata": {},
   "source": [
    "Результаты логистической регрессии для сбалансированной выборки подтверждают изначальные результаты: в целом F1-мера ниже, чем у других моделей. Максимальный результат 0,53 при intercept scaling 0.5 и \"с\" параметре 0.1 все равно значительно ниже, чем на других моделях. "
   ]
  },
  {
   "cell_type": "markdown",
   "metadata": {},
   "source": [
    "### Устранение дисбаланса методом подбора порога вероятности класса"
   ]
  },
  {
   "cell_type": "markdown",
   "metadata": {},
   "source": [
    "Изучим результаты моделей Decision Tree & Random Forest при балансировке классов методом подбора порога вероятности класса и сравним с результатами апсемплинга / даунсемплинга."
   ]
  },
  {
   "cell_type": "code",
   "execution_count": 36,
   "metadata": {},
   "outputs": [
    {
     "name": "stdout",
     "output_type": "stream",
     "text": [
      "Threshold: 0.05, F1: 0.4021, ROC-AUC: 0.62\n",
      "Threshold: 0.1, F1: 0.5466, ROC-AUC: 0.76\n",
      "Threshold: 0.15, F1: 0.5685, ROC-AUC: 0.77\n",
      "Threshold: 0.2, F1: 0.5683, ROC-AUC: 0.76\n",
      "Threshold: 0.25, F1: 0.5962, ROC-AUC: 0.77\n",
      "Threshold: 0.3, F1: 0.591, ROC-AUC: 0.75\n",
      "Threshold: 0.35, F1: 0.5813, ROC-AUC: 0.72\n",
      "Threshold: 0.4, F1: 0.5813, ROC-AUC: 0.72\n",
      "Threshold: 0.45, F1: 0.5847, ROC-AUC: 0.72\n",
      "Threshold: 0.5, F1: 0.5788, ROC-AUC: 0.71\n",
      "Threshold: 0.55, F1: 0.5788, ROC-AUC: 0.71\n",
      "Threshold: 0.6, F1: 0.5443, ROC-AUC: 0.69\n",
      "Threshold: 0.65, F1: 0.4824, ROC-AUC: 0.66\n",
      "Threshold: 0.7, F1: 0.4806, ROC-AUC: 0.66\n",
      "Threshold: 0.75, F1: 0.4806, ROC-AUC: 0.66\n",
      "Threshold: 0.8, F1: 0.4806, ROC-AUC: 0.66\n",
      "Threshold: 0.85, F1: 0.4806, ROC-AUC: 0.66\n",
      "Threshold: 0.9, F1: 0.4383, ROC-AUC: 0.64\n",
      "Threshold: 0.95, F1: 0.2415, ROC-AUC: 0.57\n"
     ]
    },
    {
     "data": {
      "image/png": "[encoded data removed]",
      "text/plain": [
       "<Figure size 432x288 with 1 Axes>"
      ]
     },
     "metadata": {
      "needs_background": "light"
     },
     "output_type": "display_data"
    }
   ],
   "source": [
    "graph_roc_pc = []\n",
    "graph_f1_pc = []\n",
    "index_graph = []\n",
    "ind = 1\n",
    "model = DecisionTreeClassifier(max_depth = 6, random_state = 12345)\n",
    "model.fit(features_train, target_train)\n",
    "probabilities_valid = model.predict_proba(features_valid)\n",
    "probabilities_one_valid = probabilities_valid[:, 1]\n",
    "\n",
    "for threshold in np.arange(0.05, 1.0, 0.05):\n",
    "    predicted_valid = probabilities_one_valid > threshold \n",
    "    precision = precision_score(target_valid, predicted_valid) \n",
    "    recall = recall_score(target_valid, predicted_valid) \n",
    "    f1_valid = 2*precision*recall/(precision+recall)\n",
    "    roc_auc = roc_auc_score(target_valid, predicted_valid)\n",
    "    graph_f1_pc.append(f1_valid)\n",
    "    graph_roc_pc.append(roc_auc)\n",
    "    ind +=1\n",
    "    index_graph.append(f'Depth {round(ind,2)} | Thresh.{round(threshold, 2)}')\n",
    "    print(f'Threshold: {round(threshold, 2)}, F1: {round(f1_valid,4)}, ROC-AUC: {round(roc_auc, 2)}')\n",
    "    \n",
    "plt.plot(np.arange(0, 0.95, 0.05), graph_f1_pc)\n",
    "plt.ylabel('F1-мера')\n",
    "plt.title('F1-мера в зависимости от порогового значения вероятности');"
   ]
  },
  {
   "cell_type": "markdown",
   "metadata": {},
   "source": [
    "Сравним эти значения с хитмэпом апсемплинга / даунсемплинга. <br>\n",
    "***Важно!*** Левая и центральная колонка хитмапа имеют одну и ту же размерность - глубину (от 2 до 20), а правая колонка имеет другую размерность - порог вероятности класса при стабильной глубине 6 (порог от 0.05 до 0.95 с шагом 0.05). "
   ]
  },
  {
   "cell_type": "code",
   "execution_count": 37,
   "metadata": {},
   "outputs": [
    {
     "data": {
      "image/png": "[encoded data removed]",
      "text/plain": [
       "<Figure size 432x288 with 2 Axes>"
      ]
     },
     "metadata": {
      "needs_background": "light"
     },
     "output_type": "display_data"
    }
   ],
   "source": [
    "# Graph Decision Tree\n",
    "synthesis_tree_f1['Prob_class'] = graph_f1_pc\n",
    "synthesis_tree_f1.index = index_graph\n",
    "sns.heatmap(synthesis_tree_f1);"
   ]
  },
  {
   "cell_type": "code",
   "execution_count": 38,
   "metadata": {},
   "outputs": [
    {
     "data": {
      "image/png": "[encoded data removed]",
      "text/plain": [
       "<Figure size 432x288 with 2 Axes>"
      ]
     },
     "metadata": {
      "needs_background": "light"
     },
     "output_type": "display_data"
    }
   ],
   "source": [
    "synthesis_tree_roc['Prob_class'] = graph_roc_pc\n",
    "synthesis_tree_roc.index = index_graph\n",
    "sns.heatmap(synthesis_tree_roc);"
   ]
  },
  {
   "cell_type": "markdown",
   "metadata": {},
   "source": [
    "На графике видно, что F1 мера имеет максимальное значение при методе подбора вероятности (и глубине 6) с порогом вероятности в 0.25. Результат составляет 0,596. Но ROC_AUC в то же время выше при методе даунсемплинга. Это противоречивые данные, поэтому необходимо также проверить модель Random Forest."
   ]
  },
  {
   "cell_type": "code",
   "execution_count": 39,
   "metadata": {},
   "outputs": [
    {
     "name": "stdout",
     "output_type": "stream",
     "text": [
      "Threshold: 0.0, F1: 0.3495\n",
      "Threshold: 0.05, F1: 0.4227\n",
      "Threshold: 0.1, F1: 0.4952\n",
      "Threshold: 0.15, F1: 0.5565\n",
      "Threshold: 0.2, F1: 0.5946\n",
      "Threshold: 0.25, F1: 0.6236\n",
      "Threshold: 0.3, F1: 0.6415\n",
      "Threshold: 0.35, F1: 0.6428\n",
      "Threshold: 0.4, F1: 0.6398\n",
      "Threshold: 0.45, F1: 0.6417\n",
      "Threshold: 0.5, F1: 0.6053\n",
      "Threshold: 0.55, F1: 0.5851\n",
      "Threshold: 0.6, F1: 0.5682\n",
      "Threshold: 0.65, F1: 0.5545\n",
      "Threshold: 0.7, F1: 0.5198\n",
      "Threshold: 0.75, F1: 0.483\n",
      "Threshold: 0.8, F1: 0.4106\n",
      "Threshold: 0.85, F1: 0.3093\n",
      "Threshold: 0.9, F1: 0.1155\n",
      "Threshold: 0.95, F1: 0.0194\n"
     ]
    },
    {
     "data": {
      "image/png": "[encoded data removed]",
      "text/plain": [
       "<Figure size 432x288 with 1 Axes>"
      ]
     },
     "metadata": {
      "needs_background": "light"
     },
     "output_type": "display_data"
    }
   ],
   "source": [
    "graph_f1_pc=[]\n",
    "graph_roc_pc =[]\n",
    "ind = 0\n",
    "index_graph = []\n",
    "model = RandomForestClassifier(n_estimators = 130, random_state = 12345)\n",
    "model.fit(features_train, target_train)\n",
    "probabilities_valid = model.predict_proba(features_valid)\n",
    "probabilities_one_valid = probabilities_valid[:, 1]\n",
    "for threshold in np.arange(0, 1, 0.05):\n",
    "    predicted_valid = probabilities_one_valid > threshold \n",
    "    precision = precision_score(target_valid, predicted_valid) \n",
    "    recall = recall_score(target_valid, predicted_valid) \n",
    "    f1_valid = f1_score(target_valid, predicted_valid)\n",
    "    auc_score = roc_auc_score(target_valid, predicted_valid)\n",
    "    ind += 10\n",
    "    index_graph.append(f'N_est {round(ind,2)} | Thresh.{round(threshold, 2)}')\n",
    "    graph_f1_pc.append(f1_valid)\n",
    "    graph_roc_pc.append(auc_score)\n",
    "    print(f'Threshold: {round(threshold, 2)}, F1: {round(f1_valid,4)}')\n",
    "    \n",
    "plt.plot(np.arange(0, 1, 0.05), graph_f1_pc)\n",
    "plt.plot(np.arange(0, 1, 0.05), graph_roc_pc)\n",
    "plt.ylabel('F1-мера')\n",
    "plt.title('F1-мера в зависимости от порогового значения вероятности');"
   ]
  },
  {
   "cell_type": "code",
   "execution_count": 40,
   "metadata": {},
   "outputs": [
    {
     "data": {
      "image/png": "[encoded data removed]",
      "text/plain": [
       "<Figure size 432x288 with 2 Axes>"
      ]
     },
     "metadata": {
      "needs_background": "light"
     },
     "output_type": "display_data"
    }
   ],
   "source": [
    "#Random Forest\n",
    "synthesis_forest_f1['Prob_class'] = graph_f1_pc\n",
    "synthesis_forest_f1.index = index_graph\n",
    "sns.heatmap(synthesis_forest_f1);\n"
   ]
  },
  {
   "cell_type": "code",
   "execution_count": 41,
   "metadata": {},
   "outputs": [
    {
     "data": {
      "image/png": "[encoded data removed]",
      "text/plain": [
       "<Figure size 432x288 with 2 Axes>"
      ]
     },
     "metadata": {
      "needs_background": "light"
     },
     "output_type": "display_data"
    }
   ],
   "source": [
    "synthesis_forest_roc['Prob_class'] = graph_roc_pc\n",
    "synthesis_forest_roc.index = index_graph\n",
    "sns.heatmap(synthesis_forest_roc);"
   ]
  },
  {
   "cell_type": "markdown",
   "metadata": {},
   "source": [
    "По графикам отчетливо видно, что наилучшие результаты и по F1, и по ROC-AUC дает метод подбора вероятностей при количестве эстиматоров 130 и пороге вероятности в 0,25. Данные отднозначны, а это говорит о том, что именно эта модель дает наилучший прогноз."
   ]
  },
  {
   "cell_type": "markdown",
   "metadata": {},
   "source": [
    "## Тестирование модели"
   ]
  },
  {
   "cell_type": "markdown",
   "metadata": {},
   "source": [
    "Протестируем модель Random Forest (n_estimators = 130, порог вероятности = 0,25) на тестовой выборке."
   ]
  },
  {
   "cell_type": "code",
   "execution_count": 42,
   "metadata": {},
   "outputs": [
    {
     "name": "stdout",
     "output_type": "stream",
     "text": [
      "F1: 0.5968, ROC-AUC: 0.7661\n"
     ]
    }
   ],
   "source": [
    "model = RandomForestClassifier(n_estimators = 130, random_state = 12345)\n",
    "model.fit(features_train, target_train)\n",
    "probabilities_test = model.predict_proba(features_test)\n",
    "probabilities_one_test = probabilities_test[:, 1]\n",
    "predicted_test = probabilities_one_test > 0.25\n",
    "f1_valid = f1_score(target_test, predicted_test)\n",
    "auc_score = roc_auc_score(target_test, predicted_test)\n",
    "\n",
    "print(f'F1: {round(f1_valid,4)}, ROC-AUC: {round(auc_score, 4)}')"
   ]
  },
  {
   "cell_type": "markdown",
   "metadata": {},
   "source": [
    "На тестовой выборке модель показала аналогично хороший результат F1, который немного выше 0,590, и относительно высокий ROC_AUC = 0.766, а это значит, что эта модель удовлетворяет всем необхоидмым условиям."
   ]
  },
  {
   "cell_type": "markdown",
   "metadata": {},
   "source": [
    "## Вывод"
   ]
  },
  {
   "cell_type": "markdown",
   "metadata": {},
   "source": [
    "Мы обучили различные модели на различных гиперпараметрах, с учетом и без учета балансировки классов. Опытным путем мы выявили, что оптимальным для прогнозирования является использование модели Random Forest с n_estimators = 130 при балансировке классов методом подбора порога вероятности.<br>\n",
    "На тестовой выборке эта модель хорошо проявила себя:<br>\n",
    "F1-мера : 0.597<br>\n",
    "RОC-AUC: 0.766 <br>\n",
    "При таких показателях мы сможем предсказать не менее 60% клиентов, которые готовы уйти из банка, и заблаговременно принять меры."
   ]
  },
  {
   "cell_type": "code",
   "execution_count": null,
   "metadata": {},
   "outputs": [],
   "source": []
  }
 ],
 "metadata": {
  "ExecuteTimeLog": [
   {
    "duration": 58,
    "start_time": "2022-07-22T10:29:35.734Z"
   },
   {
    "duration": 1989,
    "start_time": "2022-07-22T10:43:43.844Z"
   },
   {
    "duration": 147,
    "start_time": "2022-07-22T10:43:45.836Z"
   },
   {
    "duration": 19,
    "start_time": "2022-07-22T10:43:45.986Z"
   },
   {
    "duration": 35,
    "start_time": "2022-07-22T10:43:46.008Z"
   },
   {
    "duration": 35,
    "start_time": "2022-07-22T10:43:46.047Z"
   },
   {
    "duration": 171,
    "start_time": "2022-07-22T10:53:45.228Z"
   },
   {
    "duration": 20,
    "start_time": "2022-07-22T10:54:06.406Z"
   },
   {
    "duration": 16,
    "start_time": "2022-07-22T10:54:16.365Z"
   },
   {
    "duration": 23,
    "start_time": "2022-07-22T10:54:20.462Z"
   },
   {
    "duration": 23,
    "start_time": "2022-07-22T10:54:25.203Z"
   },
   {
    "duration": 13,
    "start_time": "2022-07-22T10:55:15.860Z"
   },
   {
    "duration": 8,
    "start_time": "2022-07-22T10:55:46.327Z"
   },
   {
    "duration": 27,
    "start_time": "2022-07-22T10:56:04.912Z"
   },
   {
    "duration": 40,
    "start_time": "2022-07-22T10:56:40.749Z"
   },
   {
    "duration": 5,
    "start_time": "2022-07-22T11:24:21.283Z"
   },
   {
    "duration": 21,
    "start_time": "2022-07-22T11:24:34.475Z"
   },
   {
    "duration": 9,
    "start_time": "2022-07-22T11:25:44.982Z"
   },
   {
    "duration": 13,
    "start_time": "2022-07-22T11:25:49.435Z"
   },
   {
    "duration": 106,
    "start_time": "2022-07-22T11:36:57.781Z"
   },
   {
    "duration": 2,
    "start_time": "2022-07-22T11:37:10.411Z"
   },
   {
    "duration": 12,
    "start_time": "2022-07-22T11:38:12.252Z"
   },
   {
    "duration": 15,
    "start_time": "2022-07-22T11:38:18.251Z"
   },
   {
    "duration": 1428,
    "start_time": "2022-07-22T11:38:27.998Z"
   },
   {
    "duration": 15,
    "start_time": "2022-07-22T11:38:44.109Z"
   },
   {
    "duration": 476,
    "start_time": "2022-07-22T11:39:09.200Z"
   },
   {
    "duration": 1190,
    "start_time": "2022-07-22T11:39:20.459Z"
   },
   {
    "duration": 11,
    "start_time": "2022-07-22T11:40:38.360Z"
   },
   {
    "duration": 44,
    "start_time": "2022-07-22T11:40:59.761Z"
   },
   {
    "duration": 6,
    "start_time": "2022-07-22T11:41:06.382Z"
   },
   {
    "duration": 234,
    "start_time": "2022-07-22T11:41:12.203Z"
   },
   {
    "duration": 78,
    "start_time": "2022-07-22T11:41:20.350Z"
   },
   {
    "duration": 61,
    "start_time": "2022-07-22T11:41:36.859Z"
   },
   {
    "duration": 11,
    "start_time": "2022-07-22T11:42:02.910Z"
   },
   {
    "duration": 54,
    "start_time": "2022-07-22T11:42:27.306Z"
   },
   {
    "duration": 17,
    "start_time": "2022-07-22T11:42:47.360Z"
   },
   {
    "duration": 243,
    "start_time": "2022-07-22T11:43:11.194Z"
   },
   {
    "duration": 233,
    "start_time": "2022-07-22T11:43:20.102Z"
   },
   {
    "duration": 224,
    "start_time": "2022-07-22T11:44:12.002Z"
   },
   {
    "duration": 14,
    "start_time": "2022-07-22T12:13:23.553Z"
   },
   {
    "duration": 178,
    "start_time": "2022-07-22T12:13:27.619Z"
   },
   {
    "duration": 139,
    "start_time": "2022-07-22T12:13:45.610Z"
   },
   {
    "duration": 1779,
    "start_time": "2022-07-22T12:13:47.982Z"
   },
   {
    "duration": 1018,
    "start_time": "2022-07-22T12:14:32.393Z"
   },
   {
    "duration": 787,
    "start_time": "2022-07-22T12:15:05.574Z"
   },
   {
    "duration": 637,
    "start_time": "2022-07-22T12:15:10.762Z"
   },
   {
    "duration": 1017,
    "start_time": "2022-07-22T12:16:21.747Z"
   },
   {
    "duration": 811,
    "start_time": "2022-07-22T12:16:43.291Z"
   },
   {
    "duration": 126,
    "start_time": "2022-07-22T12:16:58.863Z"
   },
   {
    "duration": 907,
    "start_time": "2022-07-22T12:17:01.751Z"
   },
   {
    "duration": 942,
    "start_time": "2022-07-22T12:17:14.974Z"
   },
   {
    "duration": 973,
    "start_time": "2022-07-22T12:17:37.916Z"
   },
   {
    "duration": 67,
    "start_time": "2022-07-22T12:18:06.253Z"
   },
   {
    "duration": 1681,
    "start_time": "2022-07-22T12:18:27.292Z"
   },
   {
    "duration": 53,
    "start_time": "2022-07-22T12:18:28.975Z"
   },
   {
    "duration": 22,
    "start_time": "2022-07-22T12:18:29.030Z"
   },
   {
    "duration": 19,
    "start_time": "2022-07-22T12:18:29.054Z"
   },
   {
    "duration": 12,
    "start_time": "2022-07-22T12:18:29.075Z"
   },
   {
    "duration": 70,
    "start_time": "2022-07-22T12:18:29.089Z"
   },
   {
    "duration": 6,
    "start_time": "2022-07-22T12:18:29.161Z"
   },
   {
    "duration": 7,
    "start_time": "2022-07-22T12:18:29.169Z"
   },
   {
    "duration": 5,
    "start_time": "2022-07-22T12:18:29.178Z"
   },
   {
    "duration": 282,
    "start_time": "2022-07-22T12:18:29.184Z"
   },
   {
    "duration": 177,
    "start_time": "2022-07-22T12:18:29.468Z"
   },
   {
    "duration": 865,
    "start_time": "2022-07-22T12:18:29.651Z"
   },
   {
    "duration": 104,
    "start_time": "2022-07-22T12:33:23.114Z"
   },
   {
    "duration": 8883,
    "start_time": "2022-07-22T12:33:41.249Z"
   },
   {
    "duration": 10082,
    "start_time": "2022-07-22T12:53:15.662Z"
   },
   {
    "duration": 11265,
    "start_time": "2022-07-22T13:00:11.191Z"
   },
   {
    "duration": 4200,
    "start_time": "2022-07-22T13:02:39.811Z"
   },
   {
    "duration": 13,
    "start_time": "2022-07-22T13:04:58.104Z"
   },
   {
    "duration": 4,
    "start_time": "2022-07-22T13:05:29.676Z"
   },
   {
    "duration": 26805,
    "start_time": "2022-07-22T13:05:33.652Z"
   },
   {
    "duration": 131,
    "start_time": "2022-07-22T13:11:22.481Z"
   },
   {
    "duration": 66233,
    "start_time": "2022-07-22T13:11:30.709Z"
   },
   {
    "duration": 125483,
    "start_time": "2022-07-22T13:19:51.794Z"
   },
   {
    "duration": 331416,
    "start_time": "2022-07-22T13:24:57.377Z"
   },
   {
    "duration": 11008,
    "start_time": "2022-07-22T13:30:28.796Z"
   },
   {
    "duration": 11036,
    "start_time": "2022-07-22T13:31:18.837Z"
   },
   {
    "duration": 11001,
    "start_time": "2022-07-22T13:33:08.318Z"
   },
   {
    "duration": 10776,
    "start_time": "2022-07-22T13:34:30.303Z"
   },
   {
    "duration": 10883,
    "start_time": "2022-07-22T13:35:22.294Z"
   },
   {
    "duration": 154,
    "start_time": "2022-07-22T13:36:19.354Z"
   },
   {
    "duration": 257,
    "start_time": "2022-07-22T13:36:35.518Z"
   },
   {
    "duration": 153,
    "start_time": "2022-07-22T13:36:47.708Z"
   },
   {
    "duration": 158,
    "start_time": "2022-07-22T13:36:58.356Z"
   },
   {
    "duration": 223,
    "start_time": "2022-07-22T13:37:02.906Z"
   },
   {
    "duration": 125,
    "start_time": "2022-07-22T13:42:20.789Z"
   },
   {
    "duration": 320894,
    "start_time": "2022-07-22T13:42:26.283Z"
   },
   {
    "duration": 167,
    "start_time": "2022-07-22T13:49:50.695Z"
   },
   {
    "duration": 168,
    "start_time": "2022-07-22T13:52:23.236Z"
   },
   {
    "duration": 4,
    "start_time": "2022-07-22T15:05:46.477Z"
   },
   {
    "duration": 6589,
    "start_time": "2022-07-22T15:12:33.544Z"
   },
   {
    "duration": 7092,
    "start_time": "2022-07-22T15:13:11.656Z"
   },
   {
    "duration": 7358,
    "start_time": "2022-07-22T15:13:39.304Z"
   },
   {
    "duration": 10328,
    "start_time": "2022-07-22T15:14:36.675Z"
   },
   {
    "duration": 152,
    "start_time": "2022-07-22T15:14:50.996Z"
   },
   {
    "duration": 299482,
    "start_time": "2022-07-22T15:19:04.248Z"
   },
   {
    "duration": 397204,
    "start_time": "2022-07-22T15:24:17.148Z"
   },
   {
    "duration": 177,
    "start_time": "2022-07-22T15:43:06.558Z"
   },
   {
    "duration": 6316,
    "start_time": "2022-07-22T15:51:38.249Z"
   },
   {
    "duration": 6633,
    "start_time": "2022-07-22T15:51:53.662Z"
   },
   {
    "duration": 113,
    "start_time": "2022-07-22T15:57:00.574Z"
   },
   {
    "duration": 123,
    "start_time": "2022-07-22T15:57:27.536Z"
   },
   {
    "duration": 156,
    "start_time": "2022-07-22T15:57:53.284Z"
   },
   {
    "duration": 471,
    "start_time": "2022-07-22T16:00:01.231Z"
   },
   {
    "duration": 476,
    "start_time": "2022-07-22T16:00:38.143Z"
   },
   {
    "duration": 447,
    "start_time": "2022-07-22T16:01:29.035Z"
   },
   {
    "duration": 476,
    "start_time": "2022-07-22T16:02:17.059Z"
   },
   {
    "duration": 477,
    "start_time": "2022-07-22T16:02:49.941Z"
   },
   {
    "duration": 458,
    "start_time": "2022-07-22T16:03:16.385Z"
   },
   {
    "duration": 478,
    "start_time": "2022-07-22T16:04:27.856Z"
   },
   {
    "duration": 447,
    "start_time": "2022-07-22T16:05:04.467Z"
   },
   {
    "duration": 449,
    "start_time": "2022-07-22T16:05:11.935Z"
   },
   {
    "duration": 1533,
    "start_time": "2022-07-22T16:05:41.869Z"
   },
   {
    "duration": 64,
    "start_time": "2022-07-22T16:05:43.404Z"
   },
   {
    "duration": 16,
    "start_time": "2022-07-22T16:05:43.470Z"
   },
   {
    "duration": 20,
    "start_time": "2022-07-22T16:05:43.489Z"
   },
   {
    "duration": 23,
    "start_time": "2022-07-22T16:05:43.511Z"
   },
   {
    "duration": 40,
    "start_time": "2022-07-22T16:05:43.536Z"
   },
   {
    "duration": 5,
    "start_time": "2022-07-22T16:05:43.578Z"
   },
   {
    "duration": 7,
    "start_time": "2022-07-22T16:05:43.585Z"
   },
   {
    "duration": 6,
    "start_time": "2022-07-22T16:05:43.594Z"
   },
   {
    "duration": 249,
    "start_time": "2022-07-22T16:05:43.603Z"
   },
   {
    "duration": 178,
    "start_time": "2022-07-22T16:05:43.854Z"
   },
   {
    "duration": 863,
    "start_time": "2022-07-22T16:05:44.038Z"
   },
   {
    "duration": 9330,
    "start_time": "2022-07-22T16:05:44.903Z"
   },
   {
    "duration": 143,
    "start_time": "2022-07-22T16:05:54.235Z"
   },
   {
    "duration": 24536,
    "start_time": "2022-07-22T16:05:54.379Z"
   },
   {
    "duration": 0,
    "start_time": "2022-07-22T16:06:18.917Z"
   },
   {
    "duration": 0,
    "start_time": "2022-07-22T16:06:18.917Z"
   },
   {
    "duration": 0,
    "start_time": "2022-07-22T16:06:18.918Z"
   },
   {
    "duration": 445,
    "start_time": "2022-07-22T16:06:28.035Z"
   },
   {
    "duration": 442,
    "start_time": "2022-07-22T16:06:36.235Z"
   },
   {
    "duration": 586,
    "start_time": "2022-07-22T16:06:54.462Z"
   },
   {
    "duration": 444,
    "start_time": "2022-07-22T16:07:11.838Z"
   },
   {
    "duration": 592,
    "start_time": "2022-07-22T16:07:30.845Z"
   },
   {
    "duration": 462,
    "start_time": "2022-07-22T16:07:39.149Z"
   },
   {
    "duration": 4,
    "start_time": "2022-07-22T16:08:33.714Z"
   },
   {
    "duration": 53,
    "start_time": "2022-07-22T16:08:33.720Z"
   },
   {
    "duration": 13,
    "start_time": "2022-07-22T16:08:33.775Z"
   },
   {
    "duration": 23,
    "start_time": "2022-07-22T16:08:33.789Z"
   },
   {
    "duration": 17,
    "start_time": "2022-07-22T16:08:33.814Z"
   },
   {
    "duration": 54,
    "start_time": "2022-07-22T16:08:33.833Z"
   },
   {
    "duration": 4,
    "start_time": "2022-07-22T16:08:33.890Z"
   },
   {
    "duration": 10,
    "start_time": "2022-07-22T16:08:33.896Z"
   },
   {
    "duration": 9,
    "start_time": "2022-07-22T16:08:33.922Z"
   },
   {
    "duration": 258,
    "start_time": "2022-07-22T16:08:33.934Z"
   },
   {
    "duration": 164,
    "start_time": "2022-07-22T16:08:34.194Z"
   },
   {
    "duration": 84,
    "start_time": "2022-07-22T16:08:52.586Z"
   },
   {
    "duration": 70,
    "start_time": "2022-07-22T16:09:02.992Z"
   },
   {
    "duration": 93,
    "start_time": "2022-07-22T16:09:09.859Z"
   },
   {
    "duration": 98,
    "start_time": "2022-07-22T16:09:18.964Z"
   },
   {
    "duration": 87,
    "start_time": "2022-07-22T16:10:27.211Z"
   },
   {
    "duration": 613,
    "start_time": "2022-07-22T16:10:59.663Z"
   },
   {
    "duration": 119,
    "start_time": "2022-07-22T16:11:04.727Z"
   },
   {
    "duration": 140,
    "start_time": "2022-07-22T16:11:59.511Z"
   },
   {
    "duration": 607,
    "start_time": "2022-07-22T16:12:01.265Z"
   },
   {
    "duration": 115,
    "start_time": "2022-07-22T16:12:18.156Z"
   },
   {
    "duration": 688,
    "start_time": "2022-07-22T16:12:20.859Z"
   },
   {
    "duration": 109,
    "start_time": "2022-07-22T16:12:23.622Z"
   },
   {
    "duration": 136,
    "start_time": "2022-07-22T16:12:25.025Z"
   },
   {
    "duration": 6,
    "start_time": "2022-07-22T16:12:32.760Z"
   },
   {
    "duration": 19,
    "start_time": "2022-07-22T16:12:34.783Z"
   },
   {
    "duration": 133,
    "start_time": "2022-07-22T16:12:41.067Z"
   },
   {
    "duration": 659,
    "start_time": "2022-07-22T16:12:43.444Z"
   },
   {
    "duration": 102,
    "start_time": "2022-07-22T16:12:50.617Z"
   },
   {
    "duration": 99,
    "start_time": "2022-07-22T16:12:52.505Z"
   },
   {
    "duration": 728,
    "start_time": "2022-07-22T16:12:54.728Z"
   },
   {
    "duration": 10692,
    "start_time": "2022-07-22T16:13:30.404Z"
   },
   {
    "duration": 4,
    "start_time": "2022-07-22T16:14:05.005Z"
   },
   {
    "duration": 62,
    "start_time": "2022-07-22T16:14:05.011Z"
   },
   {
    "duration": 17,
    "start_time": "2022-07-22T16:14:05.075Z"
   },
   {
    "duration": 13,
    "start_time": "2022-07-22T16:14:05.094Z"
   },
   {
    "duration": 35,
    "start_time": "2022-07-22T16:14:05.109Z"
   },
   {
    "duration": 49,
    "start_time": "2022-07-22T16:14:05.146Z"
   },
   {
    "duration": 4,
    "start_time": "2022-07-22T16:14:05.197Z"
   },
   {
    "duration": 9,
    "start_time": "2022-07-22T16:14:05.203Z"
   },
   {
    "duration": 23,
    "start_time": "2022-07-22T16:14:05.215Z"
   },
   {
    "duration": 253,
    "start_time": "2022-07-22T16:14:05.240Z"
   },
   {
    "duration": 152,
    "start_time": "2022-07-22T16:14:05.495Z"
   },
   {
    "duration": 704,
    "start_time": "2022-07-22T16:14:05.649Z"
   },
   {
    "duration": 2080,
    "start_time": "2022-07-22T16:14:06.355Z"
   },
   {
    "duration": 0,
    "start_time": "2022-07-22T16:14:08.438Z"
   },
   {
    "duration": 0,
    "start_time": "2022-07-22T16:14:08.439Z"
   },
   {
    "duration": 0,
    "start_time": "2022-07-22T16:14:08.440Z"
   },
   {
    "duration": 0,
    "start_time": "2022-07-22T16:14:08.441Z"
   },
   {
    "duration": 0,
    "start_time": "2022-07-22T16:14:08.442Z"
   },
   {
    "duration": 0,
    "start_time": "2022-07-22T16:14:08.444Z"
   },
   {
    "duration": 0,
    "start_time": "2022-07-22T16:14:08.445Z"
   },
   {
    "duration": 0,
    "start_time": "2022-07-22T16:14:08.446Z"
   },
   {
    "duration": 87,
    "start_time": "2022-07-22T16:14:23.648Z"
   },
   {
    "duration": 93,
    "start_time": "2022-07-22T16:14:26.801Z"
   },
   {
    "duration": 98,
    "start_time": "2022-07-22T16:14:44.442Z"
   },
   {
    "duration": 72,
    "start_time": "2022-07-22T16:15:18.240Z"
   },
   {
    "duration": 100,
    "start_time": "2022-07-22T16:15:28.133Z"
   },
   {
    "duration": 102,
    "start_time": "2022-07-22T16:16:03.956Z"
   },
   {
    "duration": 104,
    "start_time": "2022-07-22T16:16:18.083Z"
   },
   {
    "duration": 89,
    "start_time": "2022-07-22T16:16:59.584Z"
   },
   {
    "duration": 4,
    "start_time": "2022-07-22T16:17:06.223Z"
   },
   {
    "duration": 137,
    "start_time": "2022-07-22T16:17:17.467Z"
   },
   {
    "duration": 87,
    "start_time": "2022-07-22T16:17:23.194Z"
   },
   {
    "duration": 580,
    "start_time": "2022-07-22T16:17:25.595Z"
   },
   {
    "duration": 9189,
    "start_time": "2022-07-22T16:17:43.926Z"
   },
   {
    "duration": 10071,
    "start_time": "2022-07-22T16:18:06.927Z"
   },
   {
    "duration": 169,
    "start_time": "2022-07-22T16:18:44.466Z"
   },
   {
    "duration": 90,
    "start_time": "2022-07-22T16:18:47.566Z"
   },
   {
    "duration": 577,
    "start_time": "2022-07-22T16:18:49.903Z"
   },
   {
    "duration": 9733,
    "start_time": "2022-07-22T16:18:53.354Z"
   },
   {
    "duration": 140,
    "start_time": "2022-07-22T16:19:18.731Z"
   },
   {
    "duration": 92,
    "start_time": "2022-07-22T16:19:20.563Z"
   },
   {
    "duration": 578,
    "start_time": "2022-07-22T16:19:21.813Z"
   },
   {
    "duration": 9615,
    "start_time": "2022-07-22T16:19:24.471Z"
   },
   {
    "duration": 170,
    "start_time": "2022-07-22T16:19:44.436Z"
   },
   {
    "duration": 84,
    "start_time": "2022-07-22T16:19:50.428Z"
   },
   {
    "duration": 570,
    "start_time": "2022-07-22T16:19:52.180Z"
   },
   {
    "duration": 9007,
    "start_time": "2022-07-22T16:19:56.070Z"
   },
   {
    "duration": 137,
    "start_time": "2022-07-22T16:20:17.274Z"
   },
   {
    "duration": 105,
    "start_time": "2022-07-22T16:20:19.280Z"
   },
   {
    "duration": 590,
    "start_time": "2022-07-22T16:20:20.849Z"
   },
   {
    "duration": 10086,
    "start_time": "2022-07-22T16:20:26.614Z"
   },
   {
    "duration": 10252,
    "start_time": "2022-07-22T16:21:01.436Z"
   },
   {
    "duration": 9770,
    "start_time": "2022-07-22T16:21:22.366Z"
   },
   {
    "duration": 9951,
    "start_time": "2022-07-22T16:21:36.061Z"
   },
   {
    "duration": 6,
    "start_time": "2022-07-22T16:22:01.136Z"
   },
   {
    "duration": 76,
    "start_time": "2022-07-22T16:22:01.145Z"
   },
   {
    "duration": 20,
    "start_time": "2022-07-22T16:22:01.224Z"
   },
   {
    "duration": 34,
    "start_time": "2022-07-22T16:22:01.247Z"
   },
   {
    "duration": 67,
    "start_time": "2022-07-22T16:22:01.283Z"
   },
   {
    "duration": 47,
    "start_time": "2022-07-22T16:22:01.352Z"
   },
   {
    "duration": 4,
    "start_time": "2022-07-22T16:22:01.401Z"
   },
   {
    "duration": 51,
    "start_time": "2022-07-22T16:22:01.407Z"
   },
   {
    "duration": 18,
    "start_time": "2022-07-22T16:22:01.461Z"
   },
   {
    "duration": 269,
    "start_time": "2022-07-22T16:22:01.482Z"
   },
   {
    "duration": 163,
    "start_time": "2022-07-22T16:22:01.753Z"
   },
   {
    "duration": 728,
    "start_time": "2022-07-22T16:22:01.918Z"
   },
   {
    "duration": 10087,
    "start_time": "2022-07-22T16:22:13.701Z"
   },
   {
    "duration": 1512,
    "start_time": "2022-07-23T14:51:32.281Z"
   },
   {
    "duration": 82,
    "start_time": "2022-07-23T14:51:36.114Z"
   },
   {
    "duration": 16,
    "start_time": "2022-07-23T14:51:41.064Z"
   },
   {
    "duration": 12,
    "start_time": "2022-07-23T14:51:53.264Z"
   },
   {
    "duration": 43,
    "start_time": "2022-07-23T14:51:57.812Z"
   },
   {
    "duration": 6,
    "start_time": "2022-07-23T14:52:09.244Z"
   },
   {
    "duration": 6,
    "start_time": "2022-07-23T14:52:20.344Z"
   },
   {
    "duration": 6,
    "start_time": "2022-07-23T14:52:35.485Z"
   },
   {
    "duration": 233,
    "start_time": "2022-07-23T14:52:56.295Z"
   },
   {
    "duration": 147,
    "start_time": "2022-07-23T14:53:11.762Z"
   },
   {
    "duration": 177,
    "start_time": "2022-07-23T14:54:34.887Z"
   },
   {
    "duration": 80,
    "start_time": "2022-07-23T14:54:37.662Z"
   },
   {
    "duration": 520,
    "start_time": "2022-07-23T14:54:42.621Z"
   },
   {
    "duration": 8746,
    "start_time": "2022-07-23T14:55:01.915Z"
   },
   {
    "duration": 8721,
    "start_time": "2022-07-23T14:58:39.480Z"
   },
   {
    "duration": 6,
    "start_time": "2022-07-23T14:59:36.088Z"
   },
   {
    "duration": 59,
    "start_time": "2022-07-23T14:59:36.097Z"
   },
   {
    "duration": 16,
    "start_time": "2022-07-23T14:59:36.158Z"
   },
   {
    "duration": 15,
    "start_time": "2022-07-23T14:59:36.176Z"
   },
   {
    "duration": 21,
    "start_time": "2022-07-23T14:59:36.193Z"
   },
   {
    "duration": 46,
    "start_time": "2022-07-23T14:59:36.222Z"
   },
   {
    "duration": 6,
    "start_time": "2022-07-23T14:59:36.270Z"
   },
   {
    "duration": 9,
    "start_time": "2022-07-23T14:59:36.278Z"
   },
   {
    "duration": 8,
    "start_time": "2022-07-23T14:59:36.290Z"
   },
   {
    "duration": 210,
    "start_time": "2022-07-23T14:59:36.323Z"
   },
   {
    "duration": 144,
    "start_time": "2022-07-23T14:59:36.535Z"
   },
   {
    "duration": 653,
    "start_time": "2022-07-23T14:59:36.681Z"
   },
   {
    "duration": 8736,
    "start_time": "2022-07-23T14:59:37.336Z"
   },
   {
    "duration": 196,
    "start_time": "2022-07-23T14:59:46.074Z"
   },
   {
    "duration": 8581,
    "start_time": "2022-07-23T15:00:44.571Z"
   },
   {
    "duration": 145,
    "start_time": "2022-07-23T15:01:16.956Z"
   },
   {
    "duration": 34808,
    "start_time": "2022-07-23T15:03:13.812Z"
   },
   {
    "duration": 321155,
    "start_time": "2022-07-23T15:03:54.395Z"
   },
   {
    "duration": 141,
    "start_time": "2022-07-23T15:11:03.967Z"
   },
   {
    "duration": 152,
    "start_time": "2022-07-23T15:12:09.156Z"
   },
   {
    "duration": 79,
    "start_time": "2022-07-23T15:12:14.076Z"
   },
   {
    "duration": 525,
    "start_time": "2022-07-23T15:12:18.286Z"
   },
   {
    "duration": 9095,
    "start_time": "2022-07-23T15:12:22.674Z"
   },
   {
    "duration": 5499,
    "start_time": "2022-07-23T15:12:39.213Z"
   },
   {
    "duration": 422,
    "start_time": "2022-07-23T15:15:21.789Z"
   },
   {
    "duration": 421,
    "start_time": "2022-07-23T15:16:00.447Z"
   },
   {
    "duration": 485,
    "start_time": "2022-07-23T15:16:13.574Z"
   },
   {
    "duration": 462,
    "start_time": "2022-07-23T15:16:22.700Z"
   },
   {
    "duration": 46,
    "start_time": "2022-07-23T15:16:37.130Z"
   },
   {
    "duration": 439,
    "start_time": "2022-07-23T15:16:42.426Z"
   },
   {
    "duration": 403,
    "start_time": "2022-07-23T15:16:48.275Z"
   },
   {
    "duration": 401,
    "start_time": "2022-07-23T15:16:52.875Z"
   },
   {
    "duration": 506,
    "start_time": "2022-07-23T15:16:55.985Z"
   },
   {
    "duration": 524,
    "start_time": "2022-07-23T15:16:59.487Z"
   },
   {
    "duration": 347,
    "start_time": "2022-07-23T15:17:03.043Z"
   },
   {
    "duration": 386,
    "start_time": "2022-07-23T15:17:06.320Z"
   },
   {
    "duration": 453,
    "start_time": "2022-07-23T15:17:09.653Z"
   },
   {
    "duration": 451,
    "start_time": "2022-07-23T15:17:12.422Z"
   },
   {
    "duration": 431,
    "start_time": "2022-07-23T15:17:15.386Z"
   },
   {
    "duration": 11571,
    "start_time": "2022-07-23T15:18:54.964Z"
   },
   {
    "duration": 15396,
    "start_time": "2022-07-23T15:19:45.097Z"
   },
   {
    "duration": 8597,
    "start_time": "2022-07-23T15:22:12.020Z"
   },
   {
    "duration": 8674,
    "start_time": "2022-07-23T15:22:29.515Z"
   },
   {
    "duration": 407,
    "start_time": "2022-07-23T15:22:57.186Z"
   },
   {
    "duration": 424,
    "start_time": "2022-07-23T15:23:05.250Z"
   },
   {
    "duration": 432,
    "start_time": "2022-07-23T15:23:09.458Z"
   },
   {
    "duration": 407,
    "start_time": "2022-07-23T15:23:12.167Z"
   },
   {
    "duration": 394,
    "start_time": "2022-07-23T15:23:14.766Z"
   },
   {
    "duration": 470,
    "start_time": "2022-07-23T15:23:18.175Z"
   },
   {
    "duration": 565,
    "start_time": "2022-07-23T15:23:22.914Z"
   },
   {
    "duration": 538,
    "start_time": "2022-07-23T15:23:37.630Z"
   },
   {
    "duration": 391,
    "start_time": "2022-07-23T15:23:42.346Z"
   },
   {
    "duration": 421,
    "start_time": "2022-07-23T15:23:48.612Z"
   },
   {
    "duration": 5,
    "start_time": "2022-07-23T15:24:17.316Z"
   },
   {
    "duration": 40,
    "start_time": "2022-07-23T15:24:17.323Z"
   },
   {
    "duration": 14,
    "start_time": "2022-07-23T15:24:17.365Z"
   },
   {
    "duration": 17,
    "start_time": "2022-07-23T15:24:17.381Z"
   },
   {
    "duration": 10,
    "start_time": "2022-07-23T15:24:17.401Z"
   },
   {
    "duration": 44,
    "start_time": "2022-07-23T15:24:17.413Z"
   },
   {
    "duration": 4,
    "start_time": "2022-07-23T15:24:17.459Z"
   },
   {
    "duration": 6,
    "start_time": "2022-07-23T15:24:17.465Z"
   },
   {
    "duration": 5,
    "start_time": "2022-07-23T15:24:17.473Z"
   },
   {
    "duration": 218,
    "start_time": "2022-07-23T15:24:17.480Z"
   },
   {
    "duration": 134,
    "start_time": "2022-07-23T15:24:17.700Z"
   },
   {
    "duration": 515,
    "start_time": "2022-07-23T15:24:17.836Z"
   },
   {
    "duration": 9412,
    "start_time": "2022-07-23T15:24:34.168Z"
   },
   {
    "duration": 174,
    "start_time": "2022-07-23T15:25:11.618Z"
   },
   {
    "duration": 15360,
    "start_time": "2022-07-23T15:25:18.964Z"
   },
   {
    "duration": 10171,
    "start_time": "2022-07-23T15:26:14.385Z"
   },
   {
    "duration": 213,
    "start_time": "2022-07-23T15:26:24.559Z"
   },
   {
    "duration": 6895,
    "start_time": "2022-07-23T15:26:54.444Z"
   },
   {
    "duration": 9367,
    "start_time": "2022-07-23T15:27:28.613Z"
   },
   {
    "duration": 132,
    "start_time": "2022-07-23T15:27:37.982Z"
   },
   {
    "duration": 84,
    "start_time": "2022-07-23T15:27:38.116Z"
   },
   {
    "duration": 573,
    "start_time": "2022-07-23T15:27:38.203Z"
   },
   {
    "duration": 8546,
    "start_time": "2022-07-23T15:27:43.671Z"
   },
   {
    "duration": 184,
    "start_time": "2022-07-23T15:29:42.516Z"
   },
   {
    "duration": 13,
    "start_time": "2022-07-23T15:29:57.881Z"
   },
   {
    "duration": 169,
    "start_time": "2022-07-23T15:30:05.696Z"
   },
   {
    "duration": 784,
    "start_time": "2022-07-23T15:30:16.447Z"
   },
   {
    "duration": 13772,
    "start_time": "2022-07-23T15:30:19.548Z"
   },
   {
    "duration": 5,
    "start_time": "2022-07-23T15:31:30.393Z"
   },
   {
    "duration": 63,
    "start_time": "2022-07-23T15:31:30.401Z"
   },
   {
    "duration": 18,
    "start_time": "2022-07-23T15:31:30.466Z"
   },
   {
    "duration": 34,
    "start_time": "2022-07-23T15:31:30.487Z"
   },
   {
    "duration": 29,
    "start_time": "2022-07-23T15:31:30.524Z"
   },
   {
    "duration": 67,
    "start_time": "2022-07-23T15:31:30.555Z"
   },
   {
    "duration": 5,
    "start_time": "2022-07-23T15:31:30.625Z"
   },
   {
    "duration": 17,
    "start_time": "2022-07-23T15:31:30.632Z"
   },
   {
    "duration": 23,
    "start_time": "2022-07-23T15:31:30.652Z"
   },
   {
    "duration": 205,
    "start_time": "2022-07-23T15:31:30.678Z"
   },
   {
    "duration": 151,
    "start_time": "2022-07-23T15:31:30.885Z"
   },
   {
    "duration": 521,
    "start_time": "2022-07-23T15:31:31.039Z"
   },
   {
    "duration": 8781,
    "start_time": "2022-07-23T15:31:31.562Z"
   },
   {
    "duration": 161,
    "start_time": "2022-07-23T15:31:40.345Z"
   },
   {
    "duration": 7358,
    "start_time": "2022-07-23T15:31:44.980Z"
   },
   {
    "duration": 243,
    "start_time": "2022-07-23T15:31:56.276Z"
   },
   {
    "duration": 175,
    "start_time": "2022-07-23T15:32:12.092Z"
   },
   {
    "duration": 832,
    "start_time": "2022-07-23T15:32:18.456Z"
   },
   {
    "duration": 14729,
    "start_time": "2022-07-23T15:32:22.776Z"
   },
   {
    "duration": 23465,
    "start_time": "2022-07-23T15:32:42.129Z"
   },
   {
    "duration": 33990,
    "start_time": "2022-07-23T15:33:31.975Z"
   },
   {
    "duration": 121,
    "start_time": "2022-07-23T15:34:40.008Z"
   },
   {
    "duration": 135,
    "start_time": "2022-07-23T15:35:02.096Z"
   },
   {
    "duration": 22931,
    "start_time": "2022-07-23T15:35:08.047Z"
   },
   {
    "duration": 139,
    "start_time": "2022-07-23T15:35:39.290Z"
   },
   {
    "duration": 140,
    "start_time": "2022-07-23T15:36:15.888Z"
   },
   {
    "duration": 194,
    "start_time": "2022-07-23T15:36:45.216Z"
   },
   {
    "duration": 162,
    "start_time": "2022-07-23T15:37:12.848Z"
   },
   {
    "duration": 270,
    "start_time": "2022-07-23T15:37:29.407Z"
   },
   {
    "duration": 176,
    "start_time": "2022-07-23T15:37:46.518Z"
   },
   {
    "duration": 4124,
    "start_time": "2022-07-23T15:38:10.171Z"
   },
   {
    "duration": 231877,
    "start_time": "2022-07-23T15:39:18.455Z"
   },
   {
    "duration": 196,
    "start_time": "2022-07-23T15:46:56.115Z"
   },
   {
    "duration": 1390,
    "start_time": "2022-07-23T15:48:23.091Z"
   },
   {
    "duration": 41,
    "start_time": "2022-07-23T15:48:24.484Z"
   },
   {
    "duration": 15,
    "start_time": "2022-07-23T15:48:24.527Z"
   },
   {
    "duration": 25,
    "start_time": "2022-07-23T15:48:24.545Z"
   },
   {
    "duration": 16,
    "start_time": "2022-07-23T15:48:24.573Z"
   },
   {
    "duration": 85,
    "start_time": "2022-07-23T15:48:24.592Z"
   },
   {
    "duration": 5,
    "start_time": "2022-07-23T15:48:24.679Z"
   },
   {
    "duration": 10,
    "start_time": "2022-07-23T15:48:24.686Z"
   },
   {
    "duration": 26,
    "start_time": "2022-07-23T15:48:24.698Z"
   },
   {
    "duration": 236,
    "start_time": "2022-07-23T15:48:24.726Z"
   },
   {
    "duration": 185,
    "start_time": "2022-07-23T15:48:24.964Z"
   },
   {
    "duration": 591,
    "start_time": "2022-07-23T15:48:25.151Z"
   },
   {
    "duration": 9049,
    "start_time": "2022-07-23T15:48:25.744Z"
   },
   {
    "duration": 175,
    "start_time": "2022-07-23T15:48:34.797Z"
   },
   {
    "duration": 129058,
    "start_time": "2022-07-23T15:48:34.975Z"
   },
   {
    "duration": 167,
    "start_time": "2022-07-23T15:50:44.035Z"
   },
   {
    "duration": 6885,
    "start_time": "2022-07-23T15:50:44.205Z"
   },
   {
    "duration": 201,
    "start_time": "2022-07-23T15:50:51.092Z"
   },
   {
    "duration": 154,
    "start_time": "2022-07-23T15:50:51.295Z"
   },
   {
    "duration": 824,
    "start_time": "2022-07-23T15:50:51.451Z"
   },
   {
    "duration": 23514,
    "start_time": "2022-07-23T15:50:52.277Z"
   },
   {
    "duration": 320,
    "start_time": "2022-07-23T15:51:15.793Z"
   },
   {
    "duration": 228319,
    "start_time": "2022-07-23T15:51:16.115Z"
   },
   {
    "duration": 173,
    "start_time": "2022-07-23T15:55:04.436Z"
   },
   {
    "duration": 5389,
    "start_time": "2022-07-23T15:55:04.611Z"
   },
   {
    "duration": 711,
    "start_time": "2022-07-23T15:55:10.002Z"
   },
   {
    "duration": 27923,
    "start_time": "2022-07-23T15:55:10.715Z"
   },
   {
    "duration": 79391,
    "start_time": "2022-07-23T15:58:37.518Z"
   },
   {
    "duration": 877,
    "start_time": "2022-07-23T16:02:14.356Z"
   },
   {
    "duration": 26756,
    "start_time": "2022-07-23T16:02:28.357Z"
   },
   {
    "duration": 979,
    "start_time": "2022-07-23T16:03:40.651Z"
   },
   {
    "duration": 14821,
    "start_time": "2022-07-23T16:04:13.416Z"
   },
   {
    "duration": 15177,
    "start_time": "2022-07-23T16:09:45.547Z"
   },
   {
    "duration": 982,
    "start_time": "2022-07-23T16:10:00.726Z"
   },
   {
    "duration": 1719,
    "start_time": "2022-07-25T08:10:00.638Z"
   },
   {
    "duration": 82,
    "start_time": "2022-07-25T08:10:02.359Z"
   },
   {
    "duration": 14,
    "start_time": "2022-07-25T08:10:02.443Z"
   },
   {
    "duration": 28,
    "start_time": "2022-07-25T08:10:02.459Z"
   },
   {
    "duration": 11,
    "start_time": "2022-07-25T08:10:02.490Z"
   },
   {
    "duration": 44,
    "start_time": "2022-07-25T08:10:02.502Z"
   },
   {
    "duration": 5,
    "start_time": "2022-07-25T08:10:02.548Z"
   },
   {
    "duration": 25,
    "start_time": "2022-07-25T08:10:02.555Z"
   },
   {
    "duration": 15,
    "start_time": "2022-07-25T08:10:02.581Z"
   },
   {
    "duration": 228,
    "start_time": "2022-07-25T08:10:02.597Z"
   },
   {
    "duration": 165,
    "start_time": "2022-07-25T08:10:02.827Z"
   },
   {
    "duration": 547,
    "start_time": "2022-07-25T08:10:02.994Z"
   },
   {
    "duration": 9178,
    "start_time": "2022-07-25T08:10:03.543Z"
   },
   {
    "duration": 169,
    "start_time": "2022-07-25T08:10:12.725Z"
   },
   {
    "duration": 131856,
    "start_time": "2022-07-25T08:10:12.896Z"
   },
   {
    "duration": 156,
    "start_time": "2022-07-25T08:12:24.754Z"
   },
   {
    "duration": 7586,
    "start_time": "2022-07-25T08:12:24.911Z"
   },
   {
    "duration": 210,
    "start_time": "2022-07-25T08:12:32.499Z"
   },
   {
    "duration": 154,
    "start_time": "2022-07-25T08:12:32.711Z"
   },
   {
    "duration": 872,
    "start_time": "2022-07-25T08:12:32.867Z"
   },
   {
    "duration": 24352,
    "start_time": "2022-07-25T08:12:33.742Z"
   },
   {
    "duration": 254,
    "start_time": "2022-07-25T08:12:58.096Z"
   },
   {
    "duration": 82208,
    "start_time": "2022-07-25T08:12:58.352Z"
   },
   {
    "duration": 148,
    "start_time": "2022-07-25T08:14:20.562Z"
   },
   {
    "duration": 4312,
    "start_time": "2022-07-25T08:14:20.712Z"
   },
   {
    "duration": 1036,
    "start_time": "2022-07-25T08:14:25.026Z"
   },
   {
    "duration": 15935,
    "start_time": "2022-07-25T08:14:26.064Z"
   },
   {
    "duration": 241,
    "start_time": "2022-07-25T08:14:42.003Z"
   },
   {
    "duration": 0,
    "start_time": "2022-07-25T08:14:42.246Z"
   },
   {
    "duration": 113,
    "start_time": "2022-07-25T08:15:31.148Z"
   },
   {
    "duration": 24524,
    "start_time": "2022-07-25T08:20:31.614Z"
   },
   {
    "duration": 142,
    "start_time": "2022-07-25T08:20:58.097Z"
   },
   {
    "duration": 104465,
    "start_time": "2022-07-25T08:23:02.038Z"
   },
   {
    "duration": 0,
    "start_time": "2022-07-25T08:24:46.505Z"
   },
   {
    "duration": 5,
    "start_time": "2022-07-25T08:26:29.399Z"
   },
   {
    "duration": 38,
    "start_time": "2022-07-25T08:26:31.041Z"
   },
   {
    "duration": 13,
    "start_time": "2022-07-25T08:26:32.480Z"
   },
   {
    "duration": 44,
    "start_time": "2022-07-25T08:26:36.553Z"
   },
   {
    "duration": 4,
    "start_time": "2022-07-25T08:26:39.406Z"
   },
   {
    "duration": 7,
    "start_time": "2022-07-25T08:26:43.836Z"
   },
   {
    "duration": 4,
    "start_time": "2022-07-25T08:26:45.340Z"
   },
   {
    "duration": 203,
    "start_time": "2022-07-25T08:26:50.780Z"
   },
   {
    "duration": 143,
    "start_time": "2022-07-25T08:26:54.455Z"
   },
   {
    "duration": 185,
    "start_time": "2022-07-25T08:26:59.962Z"
   },
   {
    "duration": 201,
    "start_time": "2022-07-25T08:27:12.910Z"
   },
   {
    "duration": 152,
    "start_time": "2022-07-25T08:27:13.114Z"
   },
   {
    "duration": 854,
    "start_time": "2022-07-25T08:27:13.267Z"
   },
   {
    "duration": 24765,
    "start_time": "2022-07-25T08:27:14.124Z"
   },
   {
    "duration": 165,
    "start_time": "2022-07-25T08:27:38.893Z"
   },
   {
    "duration": 307686,
    "start_time": "2022-07-25T08:27:39.060Z"
   },
   {
    "duration": 214,
    "start_time": "2022-07-25T08:32:46.748Z"
   },
   {
    "duration": 4540,
    "start_time": "2022-07-25T08:32:46.964Z"
   },
   {
    "duration": 1095,
    "start_time": "2022-07-25T08:32:51.506Z"
   },
   {
    "duration": 17315,
    "start_time": "2022-07-25T08:32:52.602Z"
   },
   {
    "duration": 11493,
    "start_time": "2022-07-25T08:37:53.455Z"
   },
   {
    "duration": 1691,
    "start_time": "2022-07-25T22:37:16.070Z"
   },
   {
    "duration": 80,
    "start_time": "2022-07-25T22:37:17.763Z"
   },
   {
    "duration": 14,
    "start_time": "2022-07-25T22:37:17.845Z"
   },
   {
    "duration": 16,
    "start_time": "2022-07-25T22:37:17.861Z"
   },
   {
    "duration": 10,
    "start_time": "2022-07-25T22:37:17.879Z"
   },
   {
    "duration": 60,
    "start_time": "2022-07-25T22:37:17.891Z"
   },
   {
    "duration": 5,
    "start_time": "2022-07-25T22:37:17.952Z"
   },
   {
    "duration": 6,
    "start_time": "2022-07-25T22:37:17.958Z"
   },
   {
    "duration": 6,
    "start_time": "2022-07-25T22:37:17.966Z"
   },
   {
    "duration": 223,
    "start_time": "2022-07-25T22:37:17.974Z"
   },
   {
    "duration": 149,
    "start_time": "2022-07-25T22:37:18.199Z"
   },
   {
    "duration": 667,
    "start_time": "2022-07-25T22:37:18.350Z"
   },
   {
    "duration": 8210,
    "start_time": "2022-07-25T22:37:19.019Z"
   },
   {
    "duration": 160,
    "start_time": "2022-07-25T22:37:27.231Z"
   },
   {
    "duration": 115709,
    "start_time": "2022-07-25T22:37:27.392Z"
   },
   {
    "duration": 149,
    "start_time": "2022-07-25T22:39:23.103Z"
   },
   {
    "duration": 6329,
    "start_time": "2022-07-25T22:39:23.254Z"
   },
   {
    "duration": 185,
    "start_time": "2022-07-25T22:39:29.585Z"
   },
   {
    "duration": 134,
    "start_time": "2022-07-25T22:39:29.772Z"
   },
   {
    "duration": 931,
    "start_time": "2022-07-25T22:39:29.908Z"
   },
   {
    "duration": 21297,
    "start_time": "2022-07-25T22:39:30.841Z"
   },
   {
    "duration": 156,
    "start_time": "2022-07-25T22:39:52.140Z"
   },
   {
    "duration": 271560,
    "start_time": "2022-07-25T22:39:52.298Z"
   },
   {
    "duration": 163,
    "start_time": "2022-07-25T22:44:23.861Z"
   },
   {
    "duration": 4262,
    "start_time": "2022-07-25T22:44:24.031Z"
   },
   {
    "duration": 973,
    "start_time": "2022-07-25T22:44:28.295Z"
   },
   {
    "duration": 10416,
    "start_time": "2022-07-25T22:44:29.270Z"
   },
   {
    "duration": 53,
    "start_time": "2022-07-26T17:18:31.044Z"
   },
   {
    "duration": 1934,
    "start_time": "2022-07-26T17:18:39.408Z"
   },
   {
    "duration": 158,
    "start_time": "2022-07-26T17:18:41.345Z"
   },
   {
    "duration": 14,
    "start_time": "2022-07-26T17:18:41.504Z"
   },
   {
    "duration": 24,
    "start_time": "2022-07-26T17:18:41.520Z"
   },
   {
    "duration": 12,
    "start_time": "2022-07-26T17:18:41.546Z"
   },
   {
    "duration": 50,
    "start_time": "2022-07-26T17:18:41.560Z"
   },
   {
    "duration": 5,
    "start_time": "2022-07-26T17:18:41.612Z"
   },
   {
    "duration": 8,
    "start_time": "2022-07-26T17:18:45.219Z"
   },
   {
    "duration": 10,
    "start_time": "2022-07-26T17:19:15.573Z"
   },
   {
    "duration": 4,
    "start_time": "2022-07-26T17:19:26.824Z"
   },
   {
    "duration": 51,
    "start_time": "2022-07-26T17:19:26.832Z"
   },
   {
    "duration": 12,
    "start_time": "2022-07-26T17:19:26.885Z"
   },
   {
    "duration": 13,
    "start_time": "2022-07-26T17:19:26.899Z"
   },
   {
    "duration": 17,
    "start_time": "2022-07-26T17:19:26.914Z"
   },
   {
    "duration": 64,
    "start_time": "2022-07-26T17:19:26.932Z"
   },
   {
    "duration": 7,
    "start_time": "2022-07-26T17:19:26.998Z"
   },
   {
    "duration": 10,
    "start_time": "2022-07-26T17:21:18.767Z"
   },
   {
    "duration": 127,
    "start_time": "2022-07-26T17:21:47.844Z"
   },
   {
    "duration": 233,
    "start_time": "2022-07-26T17:22:49.263Z"
   },
   {
    "duration": 128,
    "start_time": "2022-07-26T17:23:11.817Z"
   },
   {
    "duration": 22,
    "start_time": "2022-07-26T17:34:36.296Z"
   },
   {
    "duration": 19,
    "start_time": "2022-07-26T17:34:59.930Z"
   },
   {
    "duration": 13,
    "start_time": "2022-07-26T17:35:30.511Z"
   },
   {
    "duration": 28,
    "start_time": "2022-07-26T17:36:50.487Z"
   },
   {
    "duration": 23,
    "start_time": "2022-07-26T17:37:22.580Z"
   },
   {
    "duration": 19,
    "start_time": "2022-07-26T17:43:05.244Z"
   },
   {
    "duration": 4,
    "start_time": "2022-07-26T17:43:30.509Z"
   },
   {
    "duration": 55,
    "start_time": "2022-07-26T17:43:30.515Z"
   },
   {
    "duration": 19,
    "start_time": "2022-07-26T17:43:30.573Z"
   },
   {
    "duration": 22,
    "start_time": "2022-07-26T17:43:30.595Z"
   },
   {
    "duration": 19,
    "start_time": "2022-07-26T17:43:30.620Z"
   },
   {
    "duration": 53,
    "start_time": "2022-07-26T17:43:30.641Z"
   },
   {
    "duration": 11,
    "start_time": "2022-07-26T17:43:30.696Z"
   },
   {
    "duration": 19,
    "start_time": "2022-07-26T17:43:30.709Z"
   },
   {
    "duration": 28,
    "start_time": "2022-07-26T17:43:30.731Z"
   },
   {
    "duration": 6,
    "start_time": "2022-07-26T17:43:30.762Z"
   },
   {
    "duration": 150,
    "start_time": "2022-07-26T17:43:30.770Z"
   },
   {
    "duration": 5,
    "start_time": "2022-07-26T17:43:30.921Z"
   },
   {
    "duration": 249,
    "start_time": "2022-07-26T17:43:30.928Z"
   },
   {
    "duration": 152,
    "start_time": "2022-07-26T17:43:31.179Z"
   },
   {
    "duration": 1008,
    "start_time": "2022-07-26T17:43:39.513Z"
   },
   {
    "duration": 8239,
    "start_time": "2022-07-26T17:44:12.872Z"
   },
   {
    "duration": 132,
    "start_time": "2022-07-26T17:44:41.181Z"
   },
   {
    "duration": 210,
    "start_time": "2022-07-26T17:45:00.353Z"
   },
   {
    "duration": 155,
    "start_time": "2022-07-26T17:45:35.895Z"
   },
   {
    "duration": 15229,
    "start_time": "2022-07-26T17:53:27.812Z"
   },
   {
    "duration": 50,
    "start_time": "2022-07-26T17:53:43.044Z"
   },
   {
    "duration": 150,
    "start_time": "2022-07-26T17:54:05.035Z"
   },
   {
    "duration": 16114,
    "start_time": "2022-07-26T17:54:11.599Z"
   },
   {
    "duration": 122,
    "start_time": "2022-07-26T17:55:35.092Z"
   },
   {
    "duration": 154936,
    "start_time": "2022-07-26T17:58:37.202Z"
   },
   {
    "duration": 158,
    "start_time": "2022-07-26T18:01:32.673Z"
   },
   {
    "duration": 5876,
    "start_time": "2022-07-26T18:03:54.413Z"
   },
   {
    "duration": 11033,
    "start_time": "2022-07-26T19:08:58.339Z"
   },
   {
    "duration": 134,
    "start_time": "2022-07-26T19:09:42.136Z"
   },
   {
    "duration": 59343,
    "start_time": "2022-07-26T19:09:46.962Z"
   },
   {
    "duration": 4,
    "start_time": "2022-07-26T19:17:16.884Z"
   },
   {
    "duration": 124,
    "start_time": "2022-07-26T19:17:16.890Z"
   },
   {
    "duration": 18,
    "start_time": "2022-07-26T19:17:17.016Z"
   },
   {
    "duration": 17,
    "start_time": "2022-07-26T19:17:17.036Z"
   },
   {
    "duration": 12,
    "start_time": "2022-07-26T19:17:17.055Z"
   },
   {
    "duration": 32,
    "start_time": "2022-07-26T19:17:17.068Z"
   },
   {
    "duration": 7,
    "start_time": "2022-07-26T19:17:17.101Z"
   },
   {
    "duration": 4,
    "start_time": "2022-07-26T19:17:17.109Z"
   },
   {
    "duration": 7,
    "start_time": "2022-07-26T19:17:17.114Z"
   },
   {
    "duration": 6,
    "start_time": "2022-07-26T19:17:17.122Z"
   },
   {
    "duration": 134,
    "start_time": "2022-07-26T19:17:17.129Z"
   },
   {
    "duration": 4,
    "start_time": "2022-07-26T19:17:17.264Z"
   },
   {
    "duration": 212,
    "start_time": "2022-07-26T19:17:17.271Z"
   },
   {
    "duration": 120,
    "start_time": "2022-07-26T19:17:17.485Z"
   },
   {
    "duration": 595,
    "start_time": "2022-07-26T19:17:17.607Z"
   },
   {
    "duration": 6903,
    "start_time": "2022-07-26T19:17:18.204Z"
   },
   {
    "duration": 125,
    "start_time": "2022-07-26T19:17:48.896Z"
   },
   {
    "duration": 112185,
    "start_time": "2022-07-26T19:17:57.014Z"
   },
   {
    "duration": 14,
    "start_time": "2022-07-26T19:20:07.544Z"
   },
   {
    "duration": 4,
    "start_time": "2022-07-26T19:20:22.080Z"
   },
   {
    "duration": 37,
    "start_time": "2022-07-26T19:20:22.086Z"
   },
   {
    "duration": 12,
    "start_time": "2022-07-26T19:20:22.129Z"
   },
   {
    "duration": 11,
    "start_time": "2022-07-26T19:20:22.143Z"
   },
   {
    "duration": 13,
    "start_time": "2022-07-26T19:20:22.155Z"
   },
   {
    "duration": 35,
    "start_time": "2022-07-26T19:20:22.169Z"
   },
   {
    "duration": 7,
    "start_time": "2022-07-26T19:20:22.206Z"
   },
   {
    "duration": 3,
    "start_time": "2022-07-26T19:20:22.214Z"
   },
   {
    "duration": 34,
    "start_time": "2022-07-26T19:20:22.219Z"
   },
   {
    "duration": 5,
    "start_time": "2022-07-26T19:20:22.255Z"
   },
   {
    "duration": 126,
    "start_time": "2022-07-26T19:20:22.261Z"
   },
   {
    "duration": 4,
    "start_time": "2022-07-26T19:20:27.769Z"
   },
   {
    "duration": 18,
    "start_time": "2022-07-26T19:20:58.606Z"
   },
   {
    "duration": 12,
    "start_time": "2022-07-26T19:21:31.387Z"
   },
   {
    "duration": 11,
    "start_time": "2022-07-26T19:21:46.556Z"
   },
   {
    "duration": 429,
    "start_time": "2022-07-26T19:22:10.791Z"
   },
   {
    "duration": 467,
    "start_time": "2022-07-26T19:24:09.278Z"
   },
   {
    "duration": 13,
    "start_time": "2022-07-26T19:25:20.392Z"
   },
   {
    "duration": 9,
    "start_time": "2022-07-26T19:25:27.246Z"
   },
   {
    "duration": 421,
    "start_time": "2022-07-26T19:25:36.551Z"
   },
   {
    "duration": 8,
    "start_time": "2022-07-26T19:25:43.307Z"
   },
   {
    "duration": 4,
    "start_time": "2022-07-26T19:26:00.337Z"
   },
   {
    "duration": 43,
    "start_time": "2022-07-26T19:26:00.343Z"
   },
   {
    "duration": 14,
    "start_time": "2022-07-26T19:26:00.388Z"
   },
   {
    "duration": 19,
    "start_time": "2022-07-26T19:26:00.404Z"
   },
   {
    "duration": 12,
    "start_time": "2022-07-26T19:26:00.425Z"
   },
   {
    "duration": 36,
    "start_time": "2022-07-26T19:26:00.439Z"
   },
   {
    "duration": 6,
    "start_time": "2022-07-26T19:26:00.477Z"
   },
   {
    "duration": 10,
    "start_time": "2022-07-26T19:26:00.484Z"
   },
   {
    "duration": 28,
    "start_time": "2022-07-26T19:26:00.495Z"
   },
   {
    "duration": 20,
    "start_time": "2022-07-26T19:26:00.524Z"
   },
   {
    "duration": 123,
    "start_time": "2022-07-26T19:26:00.546Z"
   },
   {
    "duration": 4,
    "start_time": "2022-07-26T19:26:00.671Z"
   },
   {
    "duration": 44,
    "start_time": "2022-07-26T19:26:00.676Z"
   },
   {
    "duration": 17,
    "start_time": "2022-07-26T19:26:00.721Z"
   },
   {
    "duration": 42,
    "start_time": "2022-07-26T19:26:00.740Z"
   },
   {
    "duration": 5,
    "start_time": "2022-07-26T19:26:32.911Z"
   },
   {
    "duration": 38,
    "start_time": "2022-07-26T19:26:32.918Z"
   },
   {
    "duration": 12,
    "start_time": "2022-07-26T19:26:32.958Z"
   },
   {
    "duration": 14,
    "start_time": "2022-07-26T19:26:32.972Z"
   },
   {
    "duration": 11,
    "start_time": "2022-07-26T19:26:32.988Z"
   },
   {
    "duration": 68,
    "start_time": "2022-07-26T19:26:33.001Z"
   },
   {
    "duration": 8,
    "start_time": "2022-07-26T19:26:33.071Z"
   },
   {
    "duration": 4,
    "start_time": "2022-07-26T19:26:33.081Z"
   },
   {
    "duration": 9,
    "start_time": "2022-07-26T19:26:33.087Z"
   },
   {
    "duration": 5,
    "start_time": "2022-07-26T19:26:33.098Z"
   },
   {
    "duration": 142,
    "start_time": "2022-07-26T19:26:33.105Z"
   },
   {
    "duration": 4,
    "start_time": "2022-07-26T19:26:33.251Z"
   },
   {
    "duration": 18,
    "start_time": "2022-07-26T19:26:33.257Z"
   },
   {
    "duration": 11,
    "start_time": "2022-07-26T19:26:33.277Z"
   },
   {
    "duration": 11,
    "start_time": "2022-07-26T19:26:33.289Z"
   },
   {
    "duration": 1198,
    "start_time": "2022-07-26T19:27:10.384Z"
   },
   {
    "duration": 35,
    "start_time": "2022-07-26T19:27:11.584Z"
   },
   {
    "duration": 12,
    "start_time": "2022-07-26T19:27:11.621Z"
   },
   {
    "duration": 15,
    "start_time": "2022-07-26T19:27:11.635Z"
   },
   {
    "duration": 9,
    "start_time": "2022-07-26T19:27:11.652Z"
   },
   {
    "duration": 31,
    "start_time": "2022-07-26T19:27:11.663Z"
   },
   {
    "duration": 6,
    "start_time": "2022-07-26T19:27:11.696Z"
   },
   {
    "duration": 4,
    "start_time": "2022-07-26T19:27:11.704Z"
   },
   {
    "duration": 8,
    "start_time": "2022-07-26T19:27:11.710Z"
   },
   {
    "duration": 34,
    "start_time": "2022-07-26T19:27:11.721Z"
   },
   {
    "duration": 115,
    "start_time": "2022-07-26T19:27:11.756Z"
   },
   {
    "duration": 4,
    "start_time": "2022-07-26T19:27:11.873Z"
   },
   {
    "duration": 23,
    "start_time": "2022-07-26T19:27:11.879Z"
   },
   {
    "duration": 13,
    "start_time": "2022-07-26T19:27:11.903Z"
   },
   {
    "duration": 11,
    "start_time": "2022-07-26T19:27:11.917Z"
   },
   {
    "duration": 395,
    "start_time": "2022-07-26T19:27:19.023Z"
   },
   {
    "duration": 147,
    "start_time": "2022-07-26T19:27:58.522Z"
   },
   {
    "duration": 131,
    "start_time": "2022-07-26T19:28:18.918Z"
   },
   {
    "duration": 141,
    "start_time": "2022-07-26T19:28:31.323Z"
   },
   {
    "duration": 10806,
    "start_time": "2022-07-26T19:29:21.674Z"
   },
   {
    "duration": 13479,
    "start_time": "2022-07-26T19:30:05.243Z"
   },
   {
    "duration": 156,
    "start_time": "2022-07-26T19:30:21.867Z"
   },
   {
    "duration": 307,
    "start_time": "2022-07-26T19:31:05.667Z"
   },
   {
    "duration": 661,
    "start_time": "2022-07-26T19:31:27.481Z"
   },
   {
    "duration": 367,
    "start_time": "2022-07-26T19:31:46.024Z"
   },
   {
    "duration": 11,
    "start_time": "2022-07-26T19:32:53.009Z"
   },
   {
    "duration": 15,
    "start_time": "2022-07-26T19:33:13.061Z"
   },
   {
    "duration": 1209,
    "start_time": "2022-07-26T19:34:16.575Z"
   },
   {
    "duration": 36,
    "start_time": "2022-07-26T19:34:17.786Z"
   },
   {
    "duration": 12,
    "start_time": "2022-07-26T19:34:17.824Z"
   },
   {
    "duration": 16,
    "start_time": "2022-07-26T19:34:17.838Z"
   },
   {
    "duration": 11,
    "start_time": "2022-07-26T19:34:17.856Z"
   },
   {
    "duration": 35,
    "start_time": "2022-07-26T19:34:17.869Z"
   },
   {
    "duration": 9,
    "start_time": "2022-07-26T19:34:17.906Z"
   },
   {
    "duration": 4,
    "start_time": "2022-07-26T19:34:17.916Z"
   },
   {
    "duration": 34,
    "start_time": "2022-07-26T19:34:17.922Z"
   },
   {
    "duration": 4,
    "start_time": "2022-07-26T19:34:17.959Z"
   },
   {
    "duration": 129,
    "start_time": "2022-07-26T19:34:17.964Z"
   },
   {
    "duration": 4,
    "start_time": "2022-07-26T19:34:18.095Z"
   },
   {
    "duration": 19,
    "start_time": "2022-07-26T19:34:18.100Z"
   },
   {
    "duration": 31,
    "start_time": "2022-07-26T19:34:18.121Z"
   },
   {
    "duration": 12,
    "start_time": "2022-07-26T19:34:18.153Z"
   },
   {
    "duration": 419,
    "start_time": "2022-07-26T19:34:18.166Z"
   },
   {
    "duration": 144,
    "start_time": "2022-07-26T19:34:18.587Z"
   },
   {
    "duration": 13996,
    "start_time": "2022-07-26T19:34:18.733Z"
   },
   {
    "duration": 176,
    "start_time": "2022-07-26T19:34:32.731Z"
   },
   {
    "duration": 383,
    "start_time": "2022-07-26T19:34:32.910Z"
   },
   {
    "duration": 108,
    "start_time": "2022-07-26T19:34:33.294Z"
   },
   {
    "duration": 0,
    "start_time": "2022-07-26T19:34:33.404Z"
   },
   {
    "duration": 0,
    "start_time": "2022-07-26T19:34:33.405Z"
   },
   {
    "duration": 0,
    "start_time": "2022-07-26T19:34:33.406Z"
   },
   {
    "duration": 1,
    "start_time": "2022-07-26T19:34:33.406Z"
   },
   {
    "duration": 0,
    "start_time": "2022-07-26T19:34:33.407Z"
   },
   {
    "duration": 0,
    "start_time": "2022-07-26T19:34:33.408Z"
   },
   {
    "duration": 0,
    "start_time": "2022-07-26T19:34:33.409Z"
   },
   {
    "duration": 7,
    "start_time": "2022-07-26T19:37:07.408Z"
   },
   {
    "duration": 11,
    "start_time": "2022-07-26T19:37:21.967Z"
   },
   {
    "duration": 5,
    "start_time": "2022-07-26T19:38:45.593Z"
   },
   {
    "duration": 13,
    "start_time": "2022-07-26T19:39:00.293Z"
   },
   {
    "duration": 16,
    "start_time": "2022-07-26T19:39:13.091Z"
   },
   {
    "duration": 10,
    "start_time": "2022-07-26T19:41:08.297Z"
   },
   {
    "duration": 538,
    "start_time": "2022-07-26T19:41:13.011Z"
   },
   {
    "duration": 222,
    "start_time": "2022-07-26T19:41:25.443Z"
   },
   {
    "duration": 17478,
    "start_time": "2022-07-26T19:41:48.345Z"
   },
   {
    "duration": 156,
    "start_time": "2022-07-26T19:42:19.753Z"
   },
   {
    "duration": 387,
    "start_time": "2022-07-26T19:42:29.841Z"
   },
   {
    "duration": 1237,
    "start_time": "2022-07-26T19:43:09.942Z"
   },
   {
    "duration": 38,
    "start_time": "2022-07-26T19:43:11.181Z"
   },
   {
    "duration": 14,
    "start_time": "2022-07-26T19:43:11.220Z"
   },
   {
    "duration": 18,
    "start_time": "2022-07-26T19:43:11.236Z"
   },
   {
    "duration": 11,
    "start_time": "2022-07-26T19:43:11.256Z"
   },
   {
    "duration": 35,
    "start_time": "2022-07-26T19:43:11.269Z"
   },
   {
    "duration": 8,
    "start_time": "2022-07-26T19:43:11.305Z"
   },
   {
    "duration": 7,
    "start_time": "2022-07-26T19:43:11.315Z"
   },
   {
    "duration": 29,
    "start_time": "2022-07-26T19:43:11.324Z"
   },
   {
    "duration": 5,
    "start_time": "2022-07-26T19:43:11.354Z"
   },
   {
    "duration": 132,
    "start_time": "2022-07-26T19:43:11.360Z"
   },
   {
    "duration": 4,
    "start_time": "2022-07-26T19:43:11.494Z"
   },
   {
    "duration": 21,
    "start_time": "2022-07-26T19:43:11.499Z"
   },
   {
    "duration": 12,
    "start_time": "2022-07-26T19:43:11.523Z"
   },
   {
    "duration": 27,
    "start_time": "2022-07-26T19:43:11.536Z"
   },
   {
    "duration": 406,
    "start_time": "2022-07-26T19:43:11.565Z"
   },
   {
    "duration": 132,
    "start_time": "2022-07-26T19:43:11.972Z"
   },
   {
    "duration": 13274,
    "start_time": "2022-07-26T19:43:12.106Z"
   },
   {
    "duration": 162,
    "start_time": "2022-07-26T19:43:25.382Z"
   },
   {
    "duration": 327,
    "start_time": "2022-07-26T19:43:25.546Z"
   },
   {
    "duration": 9,
    "start_time": "2022-07-26T19:43:25.875Z"
   },
   {
    "duration": 582,
    "start_time": "2022-07-26T19:43:25.886Z"
   },
   {
    "duration": 201,
    "start_time": "2022-07-26T19:43:26.470Z"
   },
   {
    "duration": 17566,
    "start_time": "2022-07-26T19:43:26.673Z"
   },
   {
    "duration": 145,
    "start_time": "2022-07-26T19:43:44.241Z"
   },
   {
    "duration": 337,
    "start_time": "2022-07-26T19:45:14.951Z"
   },
   {
    "duration": 368,
    "start_time": "2022-07-26T19:45:24.106Z"
   },
   {
    "duration": 375,
    "start_time": "2022-07-26T19:45:34.735Z"
   },
   {
    "duration": 33,
    "start_time": "2022-07-26T19:46:04.217Z"
   },
   {
    "duration": 32,
    "start_time": "2022-07-26T19:46:47.329Z"
   },
   {
    "duration": 279,
    "start_time": "2022-07-26T19:47:25.116Z"
   },
   {
    "duration": 16,
    "start_time": "2022-07-26T19:52:55.912Z"
   },
   {
    "duration": 1327,
    "start_time": "2022-07-26T19:54:55.023Z"
   },
   {
    "duration": 37,
    "start_time": "2022-07-26T19:54:56.352Z"
   },
   {
    "duration": 11,
    "start_time": "2022-07-26T19:54:56.390Z"
   },
   {
    "duration": 14,
    "start_time": "2022-07-26T19:54:56.403Z"
   },
   {
    "duration": 9,
    "start_time": "2022-07-26T19:54:56.419Z"
   },
   {
    "duration": 36,
    "start_time": "2022-07-26T19:54:56.429Z"
   },
   {
    "duration": 7,
    "start_time": "2022-07-26T19:54:56.466Z"
   },
   {
    "duration": 3,
    "start_time": "2022-07-26T19:54:56.475Z"
   },
   {
    "duration": 7,
    "start_time": "2022-07-26T19:54:56.480Z"
   },
   {
    "duration": 4,
    "start_time": "2022-07-26T19:54:56.488Z"
   },
   {
    "duration": 140,
    "start_time": "2022-07-26T19:54:56.494Z"
   },
   {
    "duration": 4,
    "start_time": "2022-07-26T19:54:56.635Z"
   },
   {
    "duration": 18,
    "start_time": "2022-07-26T19:54:56.651Z"
   },
   {
    "duration": 12,
    "start_time": "2022-07-26T19:54:56.671Z"
   },
   {
    "duration": 13,
    "start_time": "2022-07-26T19:54:56.685Z"
   },
   {
    "duration": 396,
    "start_time": "2022-07-26T19:55:38.486Z"
   },
   {
    "duration": 127,
    "start_time": "2022-07-26T19:55:44.787Z"
   },
   {
    "duration": 13,
    "start_time": "2022-07-26T19:57:20.354Z"
   },
   {
    "duration": 443,
    "start_time": "2022-07-26T19:57:22.797Z"
   },
   {
    "duration": 14627,
    "start_time": "2022-07-26T19:57:29.203Z"
   },
   {
    "duration": 13981,
    "start_time": "2022-07-26T19:57:53.471Z"
   },
   {
    "duration": 14301,
    "start_time": "2022-07-26T19:58:15.439Z"
   },
   {
    "duration": 151,
    "start_time": "2022-07-26T19:58:32.179Z"
   },
   {
    "duration": 400,
    "start_time": "2022-07-26T19:58:51.488Z"
   },
   {
    "duration": 109,
    "start_time": "2022-07-26T19:59:51.413Z"
   },
   {
    "duration": 12,
    "start_time": "2022-07-26T20:01:09.501Z"
   },
   {
    "duration": 5,
    "start_time": "2022-07-26T20:01:24.959Z"
   },
   {
    "duration": 13,
    "start_time": "2022-07-26T20:02:52.511Z"
   },
   {
    "duration": 9,
    "start_time": "2022-07-26T20:02:59.266Z"
   },
   {
    "duration": 576,
    "start_time": "2022-07-26T20:03:59.239Z"
   },
   {
    "duration": 144,
    "start_time": "2022-07-26T20:04:14.855Z"
   },
   {
    "duration": 19452,
    "start_time": "2022-07-26T20:04:21.961Z"
   },
   {
    "duration": 152,
    "start_time": "2022-07-26T20:04:41.414Z"
   },
   {
    "duration": 322,
    "start_time": "2022-07-26T20:05:09.388Z"
   },
   {
    "duration": 27,
    "start_time": "2022-07-26T20:05:19.598Z"
   },
   {
    "duration": 284,
    "start_time": "2022-07-26T20:05:21.773Z"
   },
   {
    "duration": 28,
    "start_time": "2022-07-26T20:05:33.534Z"
   },
   {
    "duration": 22,
    "start_time": "2022-07-26T20:06:02.768Z"
   },
   {
    "duration": 326,
    "start_time": "2022-07-26T20:06:07.498Z"
   },
   {
    "duration": 314,
    "start_time": "2022-07-26T20:06:20.124Z"
   },
   {
    "duration": 1317,
    "start_time": "2022-07-26T20:06:24.788Z"
   },
   {
    "duration": 47,
    "start_time": "2022-07-26T20:21:22.397Z"
   },
   {
    "duration": 1594,
    "start_time": "2022-07-26T20:21:46.517Z"
   },
   {
    "duration": 64,
    "start_time": "2022-07-26T20:21:48.113Z"
   },
   {
    "duration": 13,
    "start_time": "2022-07-26T20:21:48.178Z"
   },
   {
    "duration": 14,
    "start_time": "2022-07-26T20:21:48.193Z"
   },
   {
    "duration": 10,
    "start_time": "2022-07-26T20:21:48.208Z"
   },
   {
    "duration": 63,
    "start_time": "2022-07-26T20:21:48.219Z"
   },
   {
    "duration": 8,
    "start_time": "2022-07-26T20:21:48.284Z"
   },
   {
    "duration": 4,
    "start_time": "2022-07-26T20:21:48.293Z"
   },
   {
    "duration": 12,
    "start_time": "2022-07-26T20:21:48.299Z"
   },
   {
    "duration": 11,
    "start_time": "2022-07-26T20:21:48.313Z"
   },
   {
    "duration": 183,
    "start_time": "2022-07-26T20:21:48.326Z"
   },
   {
    "duration": 4,
    "start_time": "2022-07-26T20:21:48.510Z"
   },
   {
    "duration": 21,
    "start_time": "2022-07-26T20:21:48.515Z"
   },
   {
    "duration": 30,
    "start_time": "2022-07-26T20:21:48.538Z"
   },
   {
    "duration": 13,
    "start_time": "2022-07-26T20:21:52.932Z"
   },
   {
    "duration": 10,
    "start_time": "2022-07-26T20:22:05.788Z"
   },
   {
    "duration": 116,
    "start_time": "2022-07-26T20:22:08.273Z"
   },
   {
    "duration": 9,
    "start_time": "2022-07-26T20:22:55.929Z"
   },
   {
    "duration": 13,
    "start_time": "2022-07-26T20:23:33.792Z"
   },
   {
    "duration": 18,
    "start_time": "2022-07-26T20:24:51.614Z"
   },
   {
    "duration": 15,
    "start_time": "2022-07-26T20:30:38.074Z"
   },
   {
    "duration": 16,
    "start_time": "2022-07-26T20:30:52.703Z"
   },
   {
    "duration": 13,
    "start_time": "2022-07-26T20:31:09.033Z"
   },
   {
    "duration": 13,
    "start_time": "2022-07-26T20:39:54.828Z"
   },
   {
    "duration": 5,
    "start_time": "2022-07-26T20:41:01.265Z"
   },
   {
    "duration": 5,
    "start_time": "2022-07-26T20:41:14.364Z"
   },
   {
    "duration": 7,
    "start_time": "2022-07-26T20:42:03.953Z"
   },
   {
    "duration": 8,
    "start_time": "2022-07-26T20:42:25.245Z"
   },
   {
    "duration": 518,
    "start_time": "2022-07-26T20:42:39.317Z"
   },
   {
    "duration": 123,
    "start_time": "2022-07-26T20:42:44.215Z"
   },
   {
    "duration": 9,
    "start_time": "2022-07-26T20:43:38.876Z"
   },
   {
    "duration": 255,
    "start_time": "2022-07-26T20:44:00.343Z"
   },
   {
    "duration": 136,
    "start_time": "2022-07-26T20:44:06.287Z"
   },
   {
    "duration": 16,
    "start_time": "2022-07-26T20:45:18.899Z"
   },
   {
    "duration": 15,
    "start_time": "2022-07-26T20:45:27.083Z"
   },
   {
    "duration": 20,
    "start_time": "2022-07-26T20:45:30.517Z"
   },
   {
    "duration": 526,
    "start_time": "2022-07-26T20:45:52.199Z"
   },
   {
    "duration": 1411,
    "start_time": "2022-07-27T16:17:41.639Z"
   },
   {
    "duration": 150,
    "start_time": "2022-07-27T16:17:43.052Z"
   },
   {
    "duration": 11,
    "start_time": "2022-07-27T16:17:43.203Z"
   },
   {
    "duration": 13,
    "start_time": "2022-07-27T16:17:43.216Z"
   },
   {
    "duration": 9,
    "start_time": "2022-07-27T16:17:43.231Z"
   },
   {
    "duration": 37,
    "start_time": "2022-07-27T16:17:43.241Z"
   },
   {
    "duration": 7,
    "start_time": "2022-07-27T16:17:43.279Z"
   },
   {
    "duration": 3,
    "start_time": "2022-07-27T16:17:43.288Z"
   },
   {
    "duration": 8,
    "start_time": "2022-07-27T16:17:43.292Z"
   },
   {
    "duration": 29,
    "start_time": "2022-07-27T16:17:43.302Z"
   },
   {
    "duration": 123,
    "start_time": "2022-07-27T16:17:43.332Z"
   },
   {
    "duration": 4,
    "start_time": "2022-07-27T16:17:43.457Z"
   },
   {
    "duration": 21,
    "start_time": "2022-07-27T16:17:45.137Z"
   },
   {
    "duration": 13,
    "start_time": "2022-07-27T16:17:58.737Z"
   },
   {
    "duration": 12,
    "start_time": "2022-07-27T16:18:13.538Z"
   },
   {
    "duration": 11,
    "start_time": "2022-07-27T16:24:32.162Z"
   },
   {
    "duration": 9,
    "start_time": "2022-07-27T16:24:36.078Z"
   },
   {
    "duration": 539,
    "start_time": "2022-07-27T16:24:47.131Z"
   },
   {
    "duration": 223,
    "start_time": "2022-07-27T16:24:57.363Z"
   },
   {
    "duration": 18793,
    "start_time": "2022-07-27T16:25:12.434Z"
   },
   {
    "duration": 347,
    "start_time": "2022-07-27T16:25:31.230Z"
   },
   {
    "duration": 16,
    "start_time": "2022-07-27T16:25:47.961Z"
   },
   {
    "duration": 466,
    "start_time": "2022-07-27T16:25:50.391Z"
   },
   {
    "duration": 150,
    "start_time": "2022-07-27T16:28:21.878Z"
   },
   {
    "duration": 273,
    "start_time": "2022-07-27T16:28:32.960Z"
   },
   {
    "duration": 206,
    "start_time": "2022-07-27T16:28:46.490Z"
   },
   {
    "duration": 18,
    "start_time": "2022-07-27T16:29:45.277Z"
   },
   {
    "duration": 23,
    "start_time": "2022-07-27T16:29:59.156Z"
   },
   {
    "duration": 22,
    "start_time": "2022-07-27T16:30:34.943Z"
   },
   {
    "duration": 21,
    "start_time": "2022-07-27T16:30:47.074Z"
   },
   {
    "duration": 22,
    "start_time": "2022-07-27T16:30:58.591Z"
   },
   {
    "duration": 20,
    "start_time": "2022-07-27T16:31:02.934Z"
   },
   {
    "duration": 21,
    "start_time": "2022-07-27T16:31:05.337Z"
   },
   {
    "duration": 31,
    "start_time": "2022-07-27T16:31:15.039Z"
   },
   {
    "duration": 20,
    "start_time": "2022-07-27T16:31:18.890Z"
   },
   {
    "duration": 26,
    "start_time": "2022-07-27T16:31:23.336Z"
   },
   {
    "duration": 29,
    "start_time": "2022-07-27T16:31:26.086Z"
   },
   {
    "duration": 30,
    "start_time": "2022-07-27T16:31:30.863Z"
   },
   {
    "duration": 1255,
    "start_time": "2022-07-27T16:49:54.517Z"
   },
   {
    "duration": 43,
    "start_time": "2022-07-27T16:49:55.774Z"
   },
   {
    "duration": 12,
    "start_time": "2022-07-27T16:49:55.818Z"
   },
   {
    "duration": 17,
    "start_time": "2022-07-27T16:49:55.832Z"
   },
   {
    "duration": 11,
    "start_time": "2022-07-27T16:49:55.851Z"
   },
   {
    "duration": 33,
    "start_time": "2022-07-27T16:49:55.864Z"
   },
   {
    "duration": 8,
    "start_time": "2022-07-27T16:49:55.898Z"
   },
   {
    "duration": 26,
    "start_time": "2022-07-27T16:49:55.908Z"
   },
   {
    "duration": 12,
    "start_time": "2022-07-27T16:49:55.935Z"
   },
   {
    "duration": 4,
    "start_time": "2022-07-27T16:49:55.949Z"
   },
   {
    "duration": 146,
    "start_time": "2022-07-27T16:49:55.955Z"
   },
   {
    "duration": 4,
    "start_time": "2022-07-27T16:49:56.103Z"
   },
   {
    "duration": 33,
    "start_time": "2022-07-27T16:49:56.109Z"
   },
   {
    "duration": 17,
    "start_time": "2022-07-27T16:49:56.145Z"
   },
   {
    "duration": 4,
    "start_time": "2022-07-27T17:07:24.602Z"
   },
   {
    "duration": 46,
    "start_time": "2022-07-27T17:07:24.613Z"
   },
   {
    "duration": 12,
    "start_time": "2022-07-27T17:07:24.661Z"
   },
   {
    "duration": 13,
    "start_time": "2022-07-27T17:07:24.674Z"
   },
   {
    "duration": 12,
    "start_time": "2022-07-27T17:07:24.689Z"
   },
   {
    "duration": 53,
    "start_time": "2022-07-27T17:07:24.704Z"
   },
   {
    "duration": 7,
    "start_time": "2022-07-27T17:07:24.759Z"
   },
   {
    "duration": 5,
    "start_time": "2022-07-27T17:07:24.768Z"
   },
   {
    "duration": 9,
    "start_time": "2022-07-27T17:07:24.775Z"
   },
   {
    "duration": 5,
    "start_time": "2022-07-27T17:07:24.785Z"
   },
   {
    "duration": 129,
    "start_time": "2022-07-27T17:07:24.792Z"
   },
   {
    "duration": 10,
    "start_time": "2022-07-27T17:07:24.922Z"
   },
   {
    "duration": 25,
    "start_time": "2022-07-27T17:07:24.933Z"
   },
   {
    "duration": 15,
    "start_time": "2022-07-27T17:07:24.960Z"
   },
   {
    "duration": 23,
    "start_time": "2022-07-27T17:07:33.204Z"
   },
   {
    "duration": 28,
    "start_time": "2022-07-27T17:08:03.759Z"
   },
   {
    "duration": 461,
    "start_time": "2022-07-27T17:35:53.025Z"
   },
   {
    "duration": 474,
    "start_time": "2022-07-27T17:37:19.820Z"
   },
   {
    "duration": 13922,
    "start_time": "2022-07-27T17:37:49.883Z"
   },
   {
    "duration": 250,
    "start_time": "2022-07-27T17:39:34.350Z"
   },
   {
    "duration": 120,
    "start_time": "2022-07-27T17:41:05.413Z"
   },
   {
    "duration": 303,
    "start_time": "2022-07-27T17:41:26.491Z"
   },
   {
    "duration": 334,
    "start_time": "2022-07-27T17:43:39.249Z"
   },
   {
    "duration": 111,
    "start_time": "2022-07-27T17:44:07.622Z"
   },
   {
    "duration": 116,
    "start_time": "2022-07-27T17:45:02.287Z"
   },
   {
    "duration": 447,
    "start_time": "2022-07-27T17:45:06.961Z"
   },
   {
    "duration": 321,
    "start_time": "2022-07-27T17:45:54.479Z"
   },
   {
    "duration": 269,
    "start_time": "2022-07-27T17:46:36.937Z"
   },
   {
    "duration": 270,
    "start_time": "2022-07-27T17:47:04.330Z"
   },
   {
    "duration": 411,
    "start_time": "2022-07-27T17:47:10.222Z"
   },
   {
    "duration": 440,
    "start_time": "2022-07-27T17:47:44.839Z"
   },
   {
    "duration": 359,
    "start_time": "2022-07-27T17:48:07.974Z"
   },
   {
    "duration": 417,
    "start_time": "2022-07-27T17:48:20.922Z"
   },
   {
    "duration": 391,
    "start_time": "2022-07-27T17:48:26.140Z"
   },
   {
    "duration": 411,
    "start_time": "2022-07-27T17:48:56.222Z"
   },
   {
    "duration": 373,
    "start_time": "2022-07-27T17:49:10.788Z"
   },
   {
    "duration": 388,
    "start_time": "2022-07-27T17:49:24.955Z"
   },
   {
    "duration": 6,
    "start_time": "2022-07-27T17:50:20.178Z"
   },
   {
    "duration": 11,
    "start_time": "2022-07-27T17:50:27.221Z"
   },
   {
    "duration": 11,
    "start_time": "2022-07-27T17:50:31.878Z"
   },
   {
    "duration": 20,
    "start_time": "2022-07-27T17:51:04.736Z"
   },
   {
    "duration": 13,
    "start_time": "2022-07-27T17:51:27.555Z"
   },
   {
    "duration": 10,
    "start_time": "2022-07-27T17:51:58.857Z"
   },
   {
    "duration": 577,
    "start_time": "2022-07-27T17:52:14.919Z"
   },
   {
    "duration": 136,
    "start_time": "2022-07-27T17:52:23.898Z"
   },
   {
    "duration": 285,
    "start_time": "2022-07-27T17:52:27.701Z"
   },
   {
    "duration": 133,
    "start_time": "2022-07-27T17:52:46.251Z"
   },
   {
    "duration": 19828,
    "start_time": "2022-07-27T17:52:54.473Z"
   },
   {
    "duration": 161,
    "start_time": "2022-07-27T17:53:16.887Z"
   },
   {
    "duration": 363,
    "start_time": "2022-07-27T17:53:36.126Z"
   },
   {
    "duration": 413,
    "start_time": "2022-07-27T17:56:30.203Z"
   },
   {
    "duration": 18,
    "start_time": "2022-07-27T17:57:50.451Z"
   },
   {
    "duration": 470,
    "start_time": "2022-07-27T17:57:54.192Z"
   },
   {
    "duration": 33,
    "start_time": "2022-07-27T17:58:08.832Z"
   },
   {
    "duration": 1212,
    "start_time": "2022-07-27T17:58:17.753Z"
   },
   {
    "duration": 167,
    "start_time": "2022-07-27T17:58:54.106Z"
   },
   {
    "duration": 182,
    "start_time": "2022-07-27T17:59:05.633Z"
   },
   {
    "duration": 245,
    "start_time": "2022-07-27T18:00:33.877Z"
   },
   {
    "duration": 1292,
    "start_time": "2022-07-27T18:00:38.248Z"
   },
   {
    "duration": 980,
    "start_time": "2022-07-27T18:01:06.540Z"
   },
   {
    "duration": 221,
    "start_time": "2022-07-27T18:01:10.452Z"
   },
   {
    "duration": 276,
    "start_time": "2022-07-27T18:02:56.887Z"
   },
   {
    "duration": 810,
    "start_time": "2022-07-27T18:03:03.832Z"
   },
   {
    "duration": 804,
    "start_time": "2022-07-27T18:03:50.074Z"
   },
   {
    "duration": 807,
    "start_time": "2022-07-27T18:04:42.969Z"
   },
   {
    "duration": 1004,
    "start_time": "2022-07-27T18:04:49.221Z"
   },
   {
    "duration": 341,
    "start_time": "2022-07-27T18:04:54.763Z"
   },
   {
    "duration": 1036,
    "start_time": "2022-07-27T18:05:08.002Z"
   },
   {
    "duration": 1062,
    "start_time": "2022-07-27T18:05:27.069Z"
   },
   {
    "duration": 1068,
    "start_time": "2022-07-27T18:05:39.656Z"
   },
   {
    "duration": 30,
    "start_time": "2022-07-27T18:05:53.191Z"
   },
   {
    "duration": 24,
    "start_time": "2022-07-27T18:08:25.401Z"
   },
   {
    "duration": 25,
    "start_time": "2022-07-27T18:08:33.124Z"
   },
   {
    "duration": 25,
    "start_time": "2022-07-27T18:08:37.851Z"
   },
   {
    "duration": 934,
    "start_time": "2022-07-27T18:09:06.685Z"
   },
   {
    "duration": 637,
    "start_time": "2022-07-27T18:09:19.400Z"
   },
   {
    "duration": 73,
    "start_time": "2022-07-27T18:09:23.288Z"
   },
   {
    "duration": 811,
    "start_time": "2022-07-27T18:09:26.106Z"
   },
   {
    "duration": 804,
    "start_time": "2022-07-27T18:09:30.392Z"
   },
   {
    "duration": 795,
    "start_time": "2022-07-27T18:09:34.631Z"
   },
   {
    "duration": 832,
    "start_time": "2022-07-27T18:09:52.778Z"
   },
   {
    "duration": 875,
    "start_time": "2022-07-27T18:10:00.806Z"
   },
   {
    "duration": 845,
    "start_time": "2022-07-27T18:10:05.213Z"
   },
   {
    "duration": 869,
    "start_time": "2022-07-27T18:10:08.799Z"
   },
   {
    "duration": 592,
    "start_time": "2022-07-27T18:19:29.968Z"
   },
   {
    "duration": 603,
    "start_time": "2022-07-27T18:20:33.758Z"
   },
   {
    "duration": 603,
    "start_time": "2022-07-27T18:21:00.610Z"
   },
   {
    "duration": 620,
    "start_time": "2022-07-27T18:21:37.990Z"
   },
   {
    "duration": 582,
    "start_time": "2022-07-27T18:22:28.590Z"
   },
   {
    "duration": 14,
    "start_time": "2022-07-27T18:28:34.146Z"
   },
   {
    "duration": 643,
    "start_time": "2022-07-27T18:28:51.120Z"
   },
   {
    "duration": 316,
    "start_time": "2022-07-27T18:28:56.928Z"
   },
   {
    "duration": 15,
    "start_time": "2022-07-27T18:29:19.162Z"
   },
   {
    "duration": 9,
    "start_time": "2022-07-27T18:29:53.717Z"
   },
   {
    "duration": 3,
    "start_time": "2022-07-27T18:30:00.273Z"
   },
   {
    "duration": 9,
    "start_time": "2022-07-27T18:30:07.969Z"
   },
   {
    "duration": 6,
    "start_time": "2022-07-27T18:30:13.905Z"
   },
   {
    "duration": 7,
    "start_time": "2022-07-27T18:30:40.592Z"
   },
   {
    "duration": 36,
    "start_time": "2022-07-27T18:31:03.019Z"
   },
   {
    "duration": 7,
    "start_time": "2022-07-27T18:31:20.678Z"
   },
   {
    "duration": 74,
    "start_time": "2022-07-27T18:31:33.706Z"
   },
   {
    "duration": 12,
    "start_time": "2022-07-27T18:31:46.856Z"
   },
   {
    "duration": 25,
    "start_time": "2022-07-27T18:32:01.853Z"
   },
   {
    "duration": 10,
    "start_time": "2022-07-27T18:32:21.605Z"
   },
   {
    "duration": 9,
    "start_time": "2022-07-27T18:35:11.989Z"
   },
   {
    "duration": 65,
    "start_time": "2022-07-27T18:35:21.501Z"
   },
   {
    "duration": 403,
    "start_time": "2022-07-27T18:35:35.594Z"
   },
   {
    "duration": 397,
    "start_time": "2022-07-27T18:37:18.603Z"
   },
   {
    "duration": 325,
    "start_time": "2022-07-27T18:37:45.458Z"
   },
   {
    "duration": 1700,
    "start_time": "2022-07-28T16:12:11.971Z"
   },
   {
    "duration": 81,
    "start_time": "2022-07-28T16:12:13.673Z"
   },
   {
    "duration": 17,
    "start_time": "2022-07-28T16:12:13.756Z"
   },
   {
    "duration": 17,
    "start_time": "2022-07-28T16:12:13.775Z"
   },
   {
    "duration": 13,
    "start_time": "2022-07-28T16:12:13.794Z"
   },
   {
    "duration": 40,
    "start_time": "2022-07-28T16:12:13.809Z"
   },
   {
    "duration": 8,
    "start_time": "2022-07-28T16:12:13.851Z"
   },
   {
    "duration": 4,
    "start_time": "2022-07-28T16:12:13.861Z"
   },
   {
    "duration": 32,
    "start_time": "2022-07-28T16:12:13.867Z"
   },
   {
    "duration": 5,
    "start_time": "2022-07-28T16:12:13.901Z"
   },
   {
    "duration": 145,
    "start_time": "2022-07-28T16:12:13.908Z"
   },
   {
    "duration": 4,
    "start_time": "2022-07-28T16:12:14.054Z"
   },
   {
    "duration": 22,
    "start_time": "2022-07-28T16:12:14.060Z"
   },
   {
    "duration": 26,
    "start_time": "2022-07-28T16:12:14.084Z"
   },
   {
    "duration": 32,
    "start_time": "2022-07-28T16:12:14.111Z"
   },
   {
    "duration": 653,
    "start_time": "2022-07-28T16:12:14.145Z"
   },
   {
    "duration": 152,
    "start_time": "2022-07-28T16:12:14.800Z"
   },
   {
    "duration": 17452,
    "start_time": "2022-07-28T16:12:14.954Z"
   },
   {
    "duration": 163,
    "start_time": "2022-07-28T16:12:32.407Z"
   },
   {
    "duration": 510,
    "start_time": "2022-07-28T16:12:32.572Z"
   },
   {
    "duration": 24,
    "start_time": "2022-07-28T16:12:33.084Z"
   },
   {
    "duration": 10,
    "start_time": "2022-07-28T16:12:33.110Z"
   },
   {
    "duration": 755,
    "start_time": "2022-07-28T16:12:33.121Z"
   },
   {
    "duration": 153,
    "start_time": "2022-07-28T16:12:33.878Z"
   },
   {
    "duration": 335,
    "start_time": "2022-07-28T16:12:34.033Z"
   },
   {
    "duration": 207,
    "start_time": "2022-07-28T16:12:34.370Z"
   },
   {
    "duration": 426,
    "start_time": "2022-07-28T16:12:52.020Z"
   },
   {
    "duration": 302,
    "start_time": "2022-07-28T16:13:08.331Z"
   },
   {
    "duration": 316,
    "start_time": "2022-07-28T16:13:12.095Z"
   },
   {
    "duration": 23517,
    "start_time": "2022-07-28T16:14:09.579Z"
   },
   {
    "duration": 152,
    "start_time": "2022-07-28T16:14:39.142Z"
   },
   {
    "duration": 9060,
    "start_time": "2022-07-28T16:14:48.860Z"
   },
   {
    "duration": 344,
    "start_time": "2022-07-28T16:15:20.009Z"
   },
   {
    "duration": 341,
    "start_time": "2022-07-28T16:15:33.745Z"
   },
   {
    "duration": 14,
    "start_time": "2022-07-28T16:26:32.879Z"
   },
   {
    "duration": 110,
    "start_time": "2022-07-28T16:26:50.290Z"
   },
   {
    "duration": 2633,
    "start_time": "2022-07-28T16:27:22.885Z"
   },
   {
    "duration": 11,
    "start_time": "2022-07-28T16:28:07.994Z"
   },
   {
    "duration": 2546,
    "start_time": "2022-07-28T16:28:18.454Z"
   },
   {
    "duration": 2774,
    "start_time": "2022-07-28T16:28:28.840Z"
   },
   {
    "duration": 2760,
    "start_time": "2022-07-28T16:29:28.349Z"
   },
   {
    "duration": 2753,
    "start_time": "2022-07-28T16:29:48.266Z"
   },
   {
    "duration": 2720,
    "start_time": "2022-07-28T16:30:02.590Z"
   },
   {
    "duration": 1829,
    "start_time": "2022-07-28T16:30:48.683Z"
   },
   {
    "duration": 3703,
    "start_time": "2022-07-28T16:31:02.612Z"
   },
   {
    "duration": 12,
    "start_time": "2022-07-28T16:34:11.913Z"
   },
   {
    "duration": 777,
    "start_time": "2022-07-28T16:34:20.334Z"
   },
   {
    "duration": 1635,
    "start_time": "2022-07-28T16:34:33.980Z"
   },
   {
    "duration": 71,
    "start_time": "2022-07-28T16:37:42.093Z"
   },
   {
    "duration": 19,
    "start_time": "2022-07-28T16:38:07.412Z"
   },
   {
    "duration": 6912,
    "start_time": "2022-07-28T16:38:32.109Z"
   },
   {
    "duration": 6975,
    "start_time": "2022-07-28T16:38:47.542Z"
   },
   {
    "duration": 4705,
    "start_time": "2022-07-28T16:39:20.912Z"
   },
   {
    "duration": 4006,
    "start_time": "2022-07-28T16:42:08.494Z"
   },
   {
    "duration": 3990,
    "start_time": "2022-07-28T16:48:28.218Z"
   },
   {
    "duration": 4472,
    "start_time": "2022-07-28T16:49:26.972Z"
   },
   {
    "duration": 4439,
    "start_time": "2022-07-28T16:49:59.844Z"
   },
   {
    "duration": 4314,
    "start_time": "2022-07-28T16:51:52.485Z"
   },
   {
    "duration": 4241,
    "start_time": "2022-07-28T16:53:59.866Z"
   },
   {
    "duration": 4147,
    "start_time": "2022-07-28T16:54:22.652Z"
   },
   {
    "duration": 4080,
    "start_time": "2022-07-28T16:54:37.227Z"
   },
   {
    "duration": 4360,
    "start_time": "2022-07-28T16:54:55.418Z"
   },
   {
    "duration": 4166,
    "start_time": "2022-07-28T16:55:22.432Z"
   },
   {
    "duration": 4228,
    "start_time": "2022-07-28T16:55:56.852Z"
   },
   {
    "duration": 4122,
    "start_time": "2022-07-28T16:59:30.578Z"
   },
   {
    "duration": 4020,
    "start_time": "2022-07-28T17:01:01.795Z"
   },
   {
    "duration": 4509,
    "start_time": "2022-07-28T17:52:09.089Z"
   },
   {
    "duration": 4433,
    "start_time": "2022-07-28T17:54:18.819Z"
   },
   {
    "duration": 4369,
    "start_time": "2022-07-28T17:54:57.908Z"
   },
   {
    "duration": 4234,
    "start_time": "2022-07-28T17:56:23.741Z"
   },
   {
    "duration": 4178,
    "start_time": "2022-07-28T17:56:51.094Z"
   },
   {
    "duration": 4378,
    "start_time": "2022-07-28T17:59:21.703Z"
   },
   {
    "duration": 5069,
    "start_time": "2022-07-28T18:10:00.663Z"
   },
   {
    "duration": 5286,
    "start_time": "2022-07-28T18:11:59.333Z"
   },
   {
    "duration": 5162,
    "start_time": "2022-07-28T18:13:26.400Z"
   },
   {
    "duration": 5153,
    "start_time": "2022-07-28T18:14:04.191Z"
   },
   {
    "duration": 5232,
    "start_time": "2022-07-28T18:14:25.259Z"
   },
   {
    "duration": 5188,
    "start_time": "2022-07-28T18:14:51.690Z"
   },
   {
    "duration": 5153,
    "start_time": "2022-07-28T18:15:35.195Z"
   },
   {
    "duration": 1430,
    "start_time": "2022-07-28T18:17:07.608Z"
   },
   {
    "duration": 42,
    "start_time": "2022-07-28T18:17:09.040Z"
   },
   {
    "duration": 13,
    "start_time": "2022-07-28T18:17:09.083Z"
   },
   {
    "duration": 15,
    "start_time": "2022-07-28T18:17:09.098Z"
   },
   {
    "duration": 11,
    "start_time": "2022-07-28T18:17:09.115Z"
   },
   {
    "duration": 42,
    "start_time": "2022-07-28T18:17:09.128Z"
   },
   {
    "duration": 27,
    "start_time": "2022-07-28T18:17:09.172Z"
   },
   {
    "duration": 5,
    "start_time": "2022-07-28T18:17:09.200Z"
   },
   {
    "duration": 10,
    "start_time": "2022-07-28T18:17:09.206Z"
   },
   {
    "duration": 5,
    "start_time": "2022-07-28T18:17:09.217Z"
   },
   {
    "duration": 155,
    "start_time": "2022-07-28T18:17:09.224Z"
   },
   {
    "duration": 4,
    "start_time": "2022-07-28T18:17:09.381Z"
   },
   {
    "duration": 32,
    "start_time": "2022-07-28T18:17:09.386Z"
   },
   {
    "duration": 15,
    "start_time": "2022-07-28T18:17:09.421Z"
   },
   {
    "duration": 32,
    "start_time": "2022-07-28T18:17:09.438Z"
   },
   {
    "duration": 606,
    "start_time": "2022-07-28T18:17:09.472Z"
   },
   {
    "duration": 157,
    "start_time": "2022-07-28T18:17:10.079Z"
   },
   {
    "duration": 17390,
    "start_time": "2022-07-28T18:17:10.237Z"
   },
   {
    "duration": 165,
    "start_time": "2022-07-28T18:17:27.629Z"
   },
   {
    "duration": 498,
    "start_time": "2022-07-28T18:17:27.795Z"
   },
   {
    "duration": 4475,
    "start_time": "2022-07-28T18:17:28.297Z"
   },
   {
    "duration": 25,
    "start_time": "2022-07-28T18:17:32.774Z"
   },
   {
    "duration": 11,
    "start_time": "2022-07-28T18:17:32.800Z"
   },
   {
    "duration": 734,
    "start_time": "2022-07-28T18:17:32.812Z"
   },
   {
    "duration": 159,
    "start_time": "2022-07-28T18:17:33.548Z"
   },
   {
    "duration": 330,
    "start_time": "2022-07-28T18:17:33.709Z"
   },
   {
    "duration": 152,
    "start_time": "2022-07-28T18:17:34.041Z"
   },
   {
    "duration": 348,
    "start_time": "2022-07-28T18:17:34.197Z"
   },
   {
    "duration": 383,
    "start_time": "2022-07-28T18:17:34.547Z"
   },
   {
    "duration": 23575,
    "start_time": "2022-07-28T18:17:34.932Z"
   },
   {
    "duration": 166,
    "start_time": "2022-07-28T18:17:58.509Z"
   },
   {
    "duration": 9123,
    "start_time": "2022-07-28T18:17:58.677Z"
   },
   {
    "duration": 156,
    "start_time": "2022-07-28T18:18:07.801Z"
   },
   {
    "duration": 376,
    "start_time": "2022-07-28T18:18:07.958Z"
   },
   {
    "duration": 4917,
    "start_time": "2022-07-28T18:18:20.088Z"
   },
   {
    "duration": 5122,
    "start_time": "2022-07-28T18:18:32.353Z"
   },
   {
    "duration": 5286,
    "start_time": "2022-07-28T18:19:23.799Z"
   },
   {
    "duration": 120,
    "start_time": "2022-07-28T18:23:20.857Z"
   },
   {
    "duration": 4,
    "start_time": "2022-07-28T18:23:38.863Z"
   },
   {
    "duration": 46,
    "start_time": "2022-07-28T18:23:38.870Z"
   },
   {
    "duration": 15,
    "start_time": "2022-07-28T18:23:38.917Z"
   },
   {
    "duration": 14,
    "start_time": "2022-07-28T18:23:38.934Z"
   },
   {
    "duration": 12,
    "start_time": "2022-07-28T18:23:38.950Z"
   },
   {
    "duration": 51,
    "start_time": "2022-07-28T18:23:38.963Z"
   },
   {
    "duration": 8,
    "start_time": "2022-07-28T18:23:39.015Z"
   },
   {
    "duration": 4,
    "start_time": "2022-07-28T18:23:39.025Z"
   },
   {
    "duration": 8,
    "start_time": "2022-07-28T18:23:39.030Z"
   },
   {
    "duration": 6,
    "start_time": "2022-07-28T18:23:39.040Z"
   },
   {
    "duration": 157,
    "start_time": "2022-07-28T18:23:39.050Z"
   },
   {
    "duration": 4,
    "start_time": "2022-07-28T18:23:39.208Z"
   },
   {
    "duration": 21,
    "start_time": "2022-07-28T18:23:39.214Z"
   },
   {
    "duration": 13,
    "start_time": "2022-07-28T18:23:39.237Z"
   },
   {
    "duration": 51,
    "start_time": "2022-07-28T18:23:39.252Z"
   },
   {
    "duration": 597,
    "start_time": "2022-07-28T18:23:39.305Z"
   },
   {
    "duration": 154,
    "start_time": "2022-07-28T18:23:39.903Z"
   },
   {
    "duration": 17443,
    "start_time": "2022-07-28T18:23:40.059Z"
   },
   {
    "duration": 163,
    "start_time": "2022-07-28T18:23:57.504Z"
   },
   {
    "duration": 441,
    "start_time": "2022-07-28T18:23:57.669Z"
   },
   {
    "duration": 4365,
    "start_time": "2022-07-28T18:23:58.112Z"
   },
   {
    "duration": 23,
    "start_time": "2022-07-28T18:24:02.478Z"
   },
   {
    "duration": 9,
    "start_time": "2022-07-28T18:24:02.502Z"
   },
   {
    "duration": 734,
    "start_time": "2022-07-28T18:24:02.513Z"
   },
   {
    "duration": 152,
    "start_time": "2022-07-28T18:24:03.248Z"
   },
   {
    "duration": 335,
    "start_time": "2022-07-28T18:24:03.401Z"
   },
   {
    "duration": 174,
    "start_time": "2022-07-28T18:24:03.738Z"
   },
   {
    "duration": 149,
    "start_time": "2022-07-28T18:24:13.510Z"
   },
   {
    "duration": 309,
    "start_time": "2022-07-28T18:24:19.042Z"
   },
   {
    "duration": 10,
    "start_time": "2022-07-28T18:24:38.926Z"
   },
   {
    "duration": 17,
    "start_time": "2022-07-28T18:25:35.553Z"
   },
   {
    "duration": 10,
    "start_time": "2022-07-28T18:26:25.156Z"
   },
   {
    "duration": 269,
    "start_time": "2022-07-28T18:26:26.938Z"
   },
   {
    "duration": 459,
    "start_time": "2022-07-28T18:26:32.166Z"
   },
   {
    "duration": 181,
    "start_time": "2022-07-28T18:27:44.802Z"
   },
   {
    "duration": 193,
    "start_time": "2022-07-28T18:27:56.464Z"
   },
   {
    "duration": 184,
    "start_time": "2022-07-28T18:28:02.199Z"
   },
   {
    "duration": 182,
    "start_time": "2022-07-28T18:28:10.722Z"
   },
   {
    "duration": 340,
    "start_time": "2022-07-28T18:28:14.502Z"
   },
   {
    "duration": 371,
    "start_time": "2022-07-28T18:29:04.546Z"
   },
   {
    "duration": 207,
    "start_time": "2022-07-28T18:30:18.872Z"
   },
   {
    "duration": 222,
    "start_time": "2022-07-28T18:30:26.640Z"
   },
   {
    "duration": 212,
    "start_time": "2022-07-28T18:30:36.164Z"
   },
   {
    "duration": 412,
    "start_time": "2022-07-28T18:31:36.156Z"
   },
   {
    "duration": 63,
    "start_time": "2022-07-28T18:35:23.389Z"
   },
   {
    "duration": 218,
    "start_time": "2022-07-28T18:35:37.211Z"
   },
   {
    "duration": 359,
    "start_time": "2022-07-28T18:36:04.807Z"
   },
   {
    "duration": 63,
    "start_time": "2022-07-28T18:36:21.950Z"
   },
   {
    "duration": 215,
    "start_time": "2022-07-28T18:36:25.390Z"
   },
   {
    "duration": 334,
    "start_time": "2022-07-28T18:36:38.012Z"
   },
   {
    "duration": 215,
    "start_time": "2022-07-28T18:37:36.454Z"
   },
   {
    "duration": 367,
    "start_time": "2022-07-28T18:37:39.611Z"
   },
   {
    "duration": 212,
    "start_time": "2022-07-28T18:38:22.904Z"
   },
   {
    "duration": 392,
    "start_time": "2022-07-28T18:38:26.349Z"
   },
   {
    "duration": 219,
    "start_time": "2022-07-28T18:38:39.625Z"
   },
   {
    "duration": 212,
    "start_time": "2022-07-28T18:38:44.761Z"
   },
   {
    "duration": 482,
    "start_time": "2022-07-28T18:38:47.591Z"
   },
   {
    "duration": 232,
    "start_time": "2022-07-28T18:38:53.141Z"
   },
   {
    "duration": 211,
    "start_time": "2022-07-28T18:39:04.836Z"
   },
   {
    "duration": 378,
    "start_time": "2022-07-28T18:39:07.216Z"
   },
   {
    "duration": 210,
    "start_time": "2022-07-28T18:39:13.045Z"
   },
   {
    "duration": 391,
    "start_time": "2022-07-28T18:39:15.152Z"
   },
   {
    "duration": 210,
    "start_time": "2022-07-28T18:39:21.204Z"
   },
   {
    "duration": 409,
    "start_time": "2022-07-28T18:39:24.756Z"
   },
   {
    "duration": 392,
    "start_time": "2022-07-28T18:39:55.313Z"
   },
   {
    "duration": 1046,
    "start_time": "2022-07-28T18:40:54.999Z"
   },
   {
    "duration": 1286,
    "start_time": "2022-07-28T18:41:53.779Z"
   },
   {
    "duration": 23,
    "start_time": "2022-07-28T18:42:34.167Z"
   },
   {
    "duration": 10,
    "start_time": "2022-07-28T18:43:32.533Z"
   },
   {
    "duration": 10,
    "start_time": "2022-07-28T18:43:59.588Z"
   },
   {
    "duration": 16,
    "start_time": "2022-07-28T18:44:08.920Z"
   },
   {
    "duration": 6,
    "start_time": "2022-07-28T18:44:28.083Z"
   },
   {
    "duration": 8,
    "start_time": "2022-07-28T18:44:41.493Z"
   },
   {
    "duration": 361,
    "start_time": "2022-07-28T18:44:46.359Z"
   },
   {
    "duration": 482,
    "start_time": "2022-07-28T18:45:54.729Z"
   },
   {
    "duration": 406,
    "start_time": "2022-07-28T18:45:59.583Z"
   },
   {
    "duration": 405,
    "start_time": "2022-07-28T18:46:01.902Z"
   },
   {
    "duration": 203,
    "start_time": "2022-07-28T18:46:12.662Z"
   },
   {
    "duration": 412,
    "start_time": "2022-07-28T18:46:15.585Z"
   },
   {
    "duration": 1213,
    "start_time": "2022-07-28T18:53:40.273Z"
   },
   {
    "duration": 9,
    "start_time": "2022-07-28T18:54:02.386Z"
   },
   {
    "duration": 221,
    "start_time": "2022-07-28T18:54:14.640Z"
   },
   {
    "duration": 108,
    "start_time": "2022-07-28T18:54:19.336Z"
   },
   {
    "duration": 9008,
    "start_time": "2022-07-28T18:54:23.010Z"
   },
   {
    "duration": 23953,
    "start_time": "2022-07-28T18:54:32.020Z"
   },
   {
    "duration": 9138,
    "start_time": "2022-07-28T18:54:55.976Z"
   },
   {
    "duration": 323,
    "start_time": "2022-07-28T18:55:06.915Z"
   },
   {
    "duration": 5327,
    "start_time": "2022-07-28T18:55:22.975Z"
   },
   {
    "duration": 291,
    "start_time": "2022-07-28T18:55:37.039Z"
   },
   {
    "duration": 1252,
    "start_time": "2022-07-28T18:55:48.493Z"
   },
   {
    "duration": 9,
    "start_time": "2022-07-28T18:55:53.407Z"
   },
   {
    "duration": 9,
    "start_time": "2022-07-28T18:57:09.554Z"
   },
   {
    "duration": 201,
    "start_time": "2022-07-28T18:57:31.862Z"
   },
   {
    "duration": 4,
    "start_time": "2022-07-28T18:58:43.886Z"
   },
   {
    "duration": 41,
    "start_time": "2022-07-28T18:58:43.926Z"
   },
   {
    "duration": 12,
    "start_time": "2022-07-28T18:58:43.969Z"
   },
   {
    "duration": 18,
    "start_time": "2022-07-28T18:58:43.983Z"
   },
   {
    "duration": 16,
    "start_time": "2022-07-28T18:58:44.002Z"
   },
   {
    "duration": 34,
    "start_time": "2022-07-28T18:58:44.021Z"
   },
   {
    "duration": 7,
    "start_time": "2022-07-28T18:58:44.058Z"
   },
   {
    "duration": 31,
    "start_time": "2022-07-28T18:58:44.067Z"
   },
   {
    "duration": 8,
    "start_time": "2022-07-28T18:58:44.099Z"
   },
   {
    "duration": 5,
    "start_time": "2022-07-28T18:58:44.109Z"
   },
   {
    "duration": 136,
    "start_time": "2022-07-28T18:58:44.115Z"
   },
   {
    "duration": 5,
    "start_time": "2022-07-28T18:58:44.252Z"
   },
   {
    "duration": 24,
    "start_time": "2022-07-28T18:58:44.258Z"
   },
   {
    "duration": 22,
    "start_time": "2022-07-28T18:58:44.285Z"
   },
   {
    "duration": 31,
    "start_time": "2022-07-28T18:58:44.310Z"
   },
   {
    "duration": 657,
    "start_time": "2022-07-28T18:58:44.342Z"
   },
   {
    "duration": 157,
    "start_time": "2022-07-28T18:58:45.001Z"
   },
   {
    "duration": 17725,
    "start_time": "2022-07-28T18:58:45.161Z"
   },
   {
    "duration": 167,
    "start_time": "2022-07-28T18:59:02.888Z"
   },
   {
    "duration": 425,
    "start_time": "2022-07-28T18:59:03.056Z"
   },
   {
    "duration": 4599,
    "start_time": "2022-07-28T18:59:03.483Z"
   },
   {
    "duration": 18,
    "start_time": "2022-07-28T18:59:08.084Z"
   },
   {
    "duration": 10,
    "start_time": "2022-07-28T18:59:08.104Z"
   },
   {
    "duration": 748,
    "start_time": "2022-07-28T18:59:08.116Z"
   },
   {
    "duration": 159,
    "start_time": "2022-07-28T18:59:08.866Z"
   },
   {
    "duration": 322,
    "start_time": "2022-07-28T18:59:09.027Z"
   },
   {
    "duration": 155,
    "start_time": "2022-07-28T18:59:09.351Z"
   },
   {
    "duration": 321,
    "start_time": "2022-07-28T18:59:09.508Z"
   },
   {
    "duration": 305,
    "start_time": "2022-07-28T18:59:09.830Z"
   },
   {
    "duration": 24106,
    "start_time": "2022-07-28T18:59:10.138Z"
   },
   {
    "duration": 172,
    "start_time": "2022-07-28T18:59:34.245Z"
   },
   {
    "duration": 9126,
    "start_time": "2022-07-28T18:59:34.419Z"
   },
   {
    "duration": 174,
    "start_time": "2022-07-28T18:59:43.546Z"
   },
   {
    "duration": 346,
    "start_time": "2022-07-28T18:59:43.722Z"
   },
   {
    "duration": 366,
    "start_time": "2022-07-28T18:59:54.385Z"
   },
   {
    "duration": 232,
    "start_time": "2022-07-28T19:00:41.097Z"
   },
   {
    "duration": 388,
    "start_time": "2022-07-28T19:00:47.818Z"
   },
   {
    "duration": 397,
    "start_time": "2022-07-28T19:00:59.206Z"
   },
   {
    "duration": 1245,
    "start_time": "2022-07-28T19:01:07.127Z"
   },
   {
    "duration": 302,
    "start_time": "2022-07-28T19:01:12.485Z"
   },
   {
    "duration": 319,
    "start_time": "2022-07-28T19:02:25.436Z"
   },
   {
    "duration": 1322,
    "start_time": "2022-07-28T19:03:14.560Z"
   },
   {
    "duration": 193,
    "start_time": "2022-07-28T19:03:20.219Z"
   },
   {
    "duration": 5,
    "start_time": "2022-07-28T19:03:48.540Z"
   },
   {
    "duration": 95,
    "start_time": "2022-07-28T19:04:35.818Z"
   },
   {
    "duration": 190,
    "start_time": "2022-07-28T19:04:40.541Z"
   },
   {
    "duration": 1253,
    "start_time": "2022-07-28T19:04:46.613Z"
   },
   {
    "duration": 368,
    "start_time": "2022-07-28T19:04:50.022Z"
   },
   {
    "duration": 1251,
    "start_time": "2022-07-28T19:05:12.056Z"
   },
   {
    "duration": 405,
    "start_time": "2022-07-28T19:05:16.384Z"
   },
   {
    "duration": 1064,
    "start_time": "2022-07-28T19:06:03.995Z"
   },
   {
    "duration": 1071,
    "start_time": "2022-07-28T19:06:08.790Z"
   },
   {
    "duration": 389,
    "start_time": "2022-07-28T19:08:25.025Z"
   },
   {
    "duration": 1019,
    "start_time": "2022-07-28T19:09:07.383Z"
   },
   {
    "duration": 1413,
    "start_time": "2022-07-28T19:10:07.763Z"
   },
   {
    "duration": 45,
    "start_time": "2022-07-28T19:10:09.179Z"
   },
   {
    "duration": 15,
    "start_time": "2022-07-28T19:10:09.226Z"
   },
   {
    "duration": 17,
    "start_time": "2022-07-28T19:10:09.244Z"
   },
   {
    "duration": 12,
    "start_time": "2022-07-28T19:10:09.262Z"
   },
   {
    "duration": 57,
    "start_time": "2022-07-28T19:10:09.275Z"
   },
   {
    "duration": 8,
    "start_time": "2022-07-28T19:10:09.333Z"
   },
   {
    "duration": 4,
    "start_time": "2022-07-28T19:10:09.344Z"
   },
   {
    "duration": 9,
    "start_time": "2022-07-28T19:10:09.349Z"
   },
   {
    "duration": 5,
    "start_time": "2022-07-28T19:10:09.360Z"
   },
   {
    "duration": 162,
    "start_time": "2022-07-28T19:10:09.367Z"
   },
   {
    "duration": 4,
    "start_time": "2022-07-28T19:10:09.531Z"
   },
   {
    "duration": 25,
    "start_time": "2022-07-28T19:10:09.536Z"
   },
   {
    "duration": 17,
    "start_time": "2022-07-28T19:10:09.562Z"
   },
   {
    "duration": 46,
    "start_time": "2022-07-28T19:10:09.580Z"
   },
   {
    "duration": 598,
    "start_time": "2022-07-28T19:10:09.628Z"
   },
   {
    "duration": 160,
    "start_time": "2022-07-28T19:10:10.227Z"
   },
   {
    "duration": 17723,
    "start_time": "2022-07-28T19:10:10.389Z"
   },
   {
    "duration": 196,
    "start_time": "2022-07-28T19:10:28.114Z"
   },
   {
    "duration": 525,
    "start_time": "2022-07-28T19:10:28.312Z"
   },
   {
    "duration": 3949,
    "start_time": "2022-07-28T19:10:28.839Z"
   },
   {
    "duration": 19,
    "start_time": "2022-07-28T19:10:32.790Z"
   },
   {
    "duration": 11,
    "start_time": "2022-07-28T19:10:32.810Z"
   },
   {
    "duration": 760,
    "start_time": "2022-07-28T19:10:32.822Z"
   },
   {
    "duration": 164,
    "start_time": "2022-07-28T19:10:33.584Z"
   },
   {
    "duration": 350,
    "start_time": "2022-07-28T19:10:33.750Z"
   },
   {
    "duration": 156,
    "start_time": "2022-07-28T19:10:34.102Z"
   },
   {
    "duration": 400,
    "start_time": "2022-07-28T19:10:34.262Z"
   },
   {
    "duration": 365,
    "start_time": "2022-07-28T19:10:34.665Z"
   },
   {
    "duration": 23910,
    "start_time": "2022-07-28T19:10:35.032Z"
   },
   {
    "duration": 184,
    "start_time": "2022-07-28T19:10:58.944Z"
   },
   {
    "duration": 9161,
    "start_time": "2022-07-28T19:10:59.130Z"
   },
   {
    "duration": 157,
    "start_time": "2022-07-28T19:11:08.294Z"
   },
   {
    "duration": 372,
    "start_time": "2022-07-28T19:11:08.453Z"
   },
   {
    "duration": 417,
    "start_time": "2022-07-28T19:11:08.827Z"
   },
   {
    "duration": 5254,
    "start_time": "2022-07-28T19:11:09.246Z"
   },
   {
    "duration": 260,
    "start_time": "2022-07-28T19:11:14.502Z"
   },
   {
    "duration": 406,
    "start_time": "2022-07-28T19:11:14.764Z"
   },
   {
    "duration": 440,
    "start_time": "2022-07-28T19:11:15.171Z"
   },
   {
    "duration": 1268,
    "start_time": "2022-07-28T19:11:15.613Z"
   },
   {
    "duration": 410,
    "start_time": "2022-07-28T19:11:16.882Z"
   },
   {
    "duration": 413,
    "start_time": "2022-07-28T19:11:17.298Z"
   },
   {
    "duration": 1069,
    "start_time": "2022-07-28T19:11:17.713Z"
   },
   {
    "duration": 222,
    "start_time": "2022-07-28T19:16:00.034Z"
   },
   {
    "duration": 107,
    "start_time": "2022-07-28T19:16:07.219Z"
   },
   {
    "duration": 204,
    "start_time": "2022-07-28T19:38:36.752Z"
   },
   {
    "duration": 461,
    "start_time": "2022-07-28T19:38:44.730Z"
   },
   {
    "duration": 215,
    "start_time": "2022-07-28T19:39:31.844Z"
   },
   {
    "duration": 213,
    "start_time": "2022-07-28T19:39:49.161Z"
   },
   {
    "duration": 428,
    "start_time": "2022-07-28T19:39:55.064Z"
   },
   {
    "duration": 2315,
    "start_time": "2022-07-29T13:35:43.478Z"
   },
   {
    "duration": 149,
    "start_time": "2022-07-29T13:35:45.796Z"
   },
   {
    "duration": 15,
    "start_time": "2022-07-29T13:35:45.947Z"
   },
   {
    "duration": 20,
    "start_time": "2022-07-29T13:35:45.965Z"
   },
   {
    "duration": 13,
    "start_time": "2022-07-29T13:35:45.986Z"
   },
   {
    "duration": 48,
    "start_time": "2022-07-29T13:35:46.001Z"
   },
   {
    "duration": 12,
    "start_time": "2022-07-29T13:35:46.051Z"
   },
   {
    "duration": 5,
    "start_time": "2022-07-29T13:35:46.065Z"
   },
   {
    "duration": 36,
    "start_time": "2022-07-29T13:35:46.072Z"
   },
   {
    "duration": 7,
    "start_time": "2022-07-29T13:35:46.111Z"
   },
   {
    "duration": 191,
    "start_time": "2022-07-29T13:35:46.119Z"
   },
   {
    "duration": 5,
    "start_time": "2022-07-29T13:35:46.313Z"
   },
   {
    "duration": 26,
    "start_time": "2022-07-29T13:35:46.321Z"
   },
   {
    "duration": 19,
    "start_time": "2022-07-29T13:35:46.350Z"
   },
   {
    "duration": 62,
    "start_time": "2022-07-29T13:35:46.371Z"
   },
   {
    "duration": 645,
    "start_time": "2022-07-29T13:35:46.436Z"
   },
   {
    "duration": 183,
    "start_time": "2022-07-29T13:35:47.083Z"
   },
   {
    "duration": 18238,
    "start_time": "2022-07-29T13:35:47.268Z"
   },
   {
    "duration": 184,
    "start_time": "2022-07-29T13:36:05.509Z"
   },
   {
    "duration": 4729,
    "start_time": "2022-07-29T13:36:05.704Z"
   },
   {
    "duration": 14,
    "start_time": "2022-07-29T13:36:10.436Z"
   },
   {
    "duration": 12,
    "start_time": "2022-07-29T13:36:10.452Z"
   },
   {
    "duration": 742,
    "start_time": "2022-07-29T13:36:10.465Z"
   },
   {
    "duration": 196,
    "start_time": "2022-07-29T13:36:11.213Z"
   },
   {
    "duration": 355,
    "start_time": "2022-07-29T13:36:11.411Z"
   },
   {
    "duration": 190,
    "start_time": "2022-07-29T13:36:11.768Z"
   },
   {
    "duration": 405,
    "start_time": "2022-07-29T13:36:11.959Z"
   },
   {
    "duration": 411,
    "start_time": "2022-07-29T13:36:12.368Z"
   },
   {
    "duration": 23360,
    "start_time": "2022-07-29T13:36:12.781Z"
   },
   {
    "duration": 196,
    "start_time": "2022-07-29T13:36:36.143Z"
   },
   {
    "duration": 9505,
    "start_time": "2022-07-29T13:36:36.341Z"
   },
   {
    "duration": 171,
    "start_time": "2022-07-29T13:36:45.848Z"
   },
   {
    "duration": 368,
    "start_time": "2022-07-29T13:36:46.020Z"
   },
   {
    "duration": 441,
    "start_time": "2022-07-29T13:36:46.390Z"
   },
   {
    "duration": 5394,
    "start_time": "2022-07-29T13:36:46.833Z"
   },
   {
    "duration": 247,
    "start_time": "2022-07-29T13:36:52.229Z"
   },
   {
    "duration": 437,
    "start_time": "2022-07-29T13:36:52.478Z"
   },
   {
    "duration": 450,
    "start_time": "2022-07-29T13:36:52.916Z"
   },
   {
    "duration": 1267,
    "start_time": "2022-07-29T13:36:53.368Z"
   },
   {
    "duration": 422,
    "start_time": "2022-07-29T13:36:54.638Z"
   },
   {
    "duration": 500,
    "start_time": "2022-07-29T13:36:55.062Z"
   },
   {
    "duration": 1027,
    "start_time": "2022-07-29T13:36:55.564Z"
   }
  ],
  "kernelspec": {
   "display_name": "Python 3 (ipykernel)",
   "language": "python",
   "name": "python3"
  },
  "language_info": {
   "codemirror_mode": {
    "name": "ipython",
    "version": 3
   },
   "file_extension": ".py",
   "mimetype": "text/x-python",
   "name": "python",
   "nbconvert_exporter": "python",
   "pygments_lexer": "ipython3",
   "version": "3.9.5"
  },
  "toc": {
   "base_numbering": 1,
   "nav_menu": {},
   "number_sections": true,
   "sideBar": true,
   "skip_h1_title": true,
   "title_cell": "Содержание",
   "title_sidebar": "Contents",
   "toc_cell": true,
   "toc_position": {},
   "toc_section_display": true,
   "toc_window_display": true
  }
 },
 "nbformat": 4,
 "nbformat_minor": 2
}
