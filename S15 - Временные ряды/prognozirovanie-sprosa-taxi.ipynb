{
 "cells": [
  {
   "cell_type": "markdown",
   "metadata": {
    "toc": true
   },
   "source": [
    "<h1>Содержание<span class=\"tocSkip\"></span></h1>\n",
    "<div class=\"toc\"><ul class=\"toc-item\"><li><span><a href=\"#Подготовка\" data-toc-modified-id=\"Подготовка-1\"><span class=\"toc-item-num\">1&nbsp;&nbsp;</span>Подготовка</a></span></li><li><span><a href=\"#Анализ\" data-toc-modified-id=\"Анализ-2\"><span class=\"toc-item-num\">2&nbsp;&nbsp;</span>Анализ</a></span></li><li><span><a href=\"#Обучение\" data-toc-modified-id=\"Обучение-3\"><span class=\"toc-item-num\">3&nbsp;&nbsp;</span>Обучение</a></span></li><li><span><a href=\"#Тестирование\" data-toc-modified-id=\"Тестирование-4\"><span class=\"toc-item-num\">4&nbsp;&nbsp;</span>Тестирование</a></span></li></ul></div>"
   ]
  },
  {
   "cell_type": "markdown",
   "metadata": {},
   "source": [
    "#  Прогнозирование заказов такси"
   ]
  },
  {
   "cell_type": "markdown",
   "metadata": {},
   "source": [
    "Компания «Чётенькое такси» собрала исторические данные о заказах такси в аэропортах. Чтобы привлекать больше водителей в период пиковой нагрузки, нужно спрогнозировать количество заказов такси на следующий час. Необходимо построить модель для такого предсказания.\n",
    "\n",
    "Значение метрики *RMSE* на тестовой выборке должно быть не больше 48.\n",
    "\n",
    "Для того чтобы спрогнозировать количество заказов, мы выполним следующие шаги:\n",
    "\n",
    "1. Загрузим данные и выполним их ресемплирование по одному часу.\n",
    "2. Проанализируемые полученные данные.\n",
    "3. Обучим разные модели. \n",
    "4. Проверим данные на тестовой выборке.\n"
   ]
  },
  {
   "cell_type": "markdown",
   "metadata": {},
   "source": [
    "## Подготовка"
   ]
  },
  {
   "cell_type": "code",
   "execution_count": 41,
   "metadata": {},
   "outputs": [],
   "source": [
    "# импорт библиотек\n",
    "import pandas as pd\n",
    "import numpy as np\n",
    "import matplotlib.pyplot as plt\n",
    "\n",
    "from catboost import CatBoostRegressor\n",
    "from sklearn.model_selection import train_test_split\n",
    "from sklearn.linear_model import LinearRegression\n",
    "from sklearn.metrics import mean_squared_error\n",
    "from sklearn.neighbors import KNeighborsRegressor\n",
    "from statsmodels.tsa.seasonal import seasonal_decompose"
   ]
  },
  {
   "cell_type": "code",
   "execution_count": 42,
   "metadata": {},
   "outputs": [
    {
     "name": "stdout",
     "output_type": "stream",
     "text": [
      "<class 'pandas.core.frame.DataFrame'>\n",
      "RangeIndex: 26496 entries, 0 to 26495\n",
      "Data columns (total 2 columns):\n",
      " #   Column      Non-Null Count  Dtype         \n",
      "---  ------      --------------  -----         \n",
      " 0   datetime    26496 non-null  datetime64[ns]\n",
      " 1   num_orders  26496 non-null  int64         \n",
      "dtypes: datetime64[ns](1), int64(1)\n",
      "memory usage: 414.1 KB\n"
     ]
    },
    {
     "data": {
      "text/html": [
       "<div>\n",
       "<style scoped>\n",
       "    .dataframe tbody tr th:only-of-type {\n",
       "        vertical-align: middle;\n",
       "    }\n",
       "\n",
       "    .dataframe tbody tr th {\n",
       "        vertical-align: top;\n",
       "    }\n",
       "\n",
       "    .dataframe thead th {\n",
       "        text-align: right;\n",
       "    }\n",
       "</style>\n",
       "<table border=\"1\" class=\"dataframe\">\n",
       "  <thead>\n",
       "    <tr style=\"text-align: right;\">\n",
       "      <th></th>\n",
       "      <th>datetime</th>\n",
       "      <th>num_orders</th>\n",
       "    </tr>\n",
       "  </thead>\n",
       "  <tbody>\n",
       "    <tr>\n",
       "      <th>0</th>\n",
       "      <td>2018-03-01 00:00:00</td>\n",
       "      <td>9</td>\n",
       "    </tr>\n",
       "    <tr>\n",
       "      <th>1</th>\n",
       "      <td>2018-03-01 00:10:00</td>\n",
       "      <td>14</td>\n",
       "    </tr>\n",
       "    <tr>\n",
       "      <th>2</th>\n",
       "      <td>2018-03-01 00:20:00</td>\n",
       "      <td>28</td>\n",
       "    </tr>\n",
       "    <tr>\n",
       "      <th>3</th>\n",
       "      <td>2018-03-01 00:30:00</td>\n",
       "      <td>20</td>\n",
       "    </tr>\n",
       "    <tr>\n",
       "      <th>4</th>\n",
       "      <td>2018-03-01 00:40:00</td>\n",
       "      <td>32</td>\n",
       "    </tr>\n",
       "  </tbody>\n",
       "</table>\n",
       "</div>"
      ],
      "text/plain": [
       "             datetime  num_orders\n",
       "0 2018-03-01 00:00:00           9\n",
       "1 2018-03-01 00:10:00          14\n",
       "2 2018-03-01 00:20:00          28\n",
       "3 2018-03-01 00:30:00          20\n",
       "4 2018-03-01 00:40:00          32"
      ]
     },
     "execution_count": 42,
     "metadata": {},
     "output_type": "execute_result"
    }
   ],
   "source": [
    "# загрузка данных и обзор таблиц\n",
    "data = pd.read_csv('/datasets/taxi.csv', parse_dates = [0])\n",
    "data.info()\n",
    "data.head()"
   ]
  },
  {
   "cell_type": "code",
   "execution_count": 43,
   "metadata": {},
   "outputs": [
    {
     "name": "stderr",
     "output_type": "stream",
     "text": [
      "/tmp/ipykernel_122/1336221646.py:1: FutureWarning: Treating datetime data as categorical rather than numeric in `.describe` is deprecated and will be removed in a future version of pandas. Specify `datetime_is_numeric=True` to silence this warning and adopt the future behavior now.\n",
      "  data.describe(include='all')\n"
     ]
    },
    {
     "data": {
      "text/html": [
       "<div>\n",
       "<style scoped>\n",
       "    .dataframe tbody tr th:only-of-type {\n",
       "        vertical-align: middle;\n",
       "    }\n",
       "\n",
       "    .dataframe tbody tr th {\n",
       "        vertical-align: top;\n",
       "    }\n",
       "\n",
       "    .dataframe thead th {\n",
       "        text-align: right;\n",
       "    }\n",
       "</style>\n",
       "<table border=\"1\" class=\"dataframe\">\n",
       "  <thead>\n",
       "    <tr style=\"text-align: right;\">\n",
       "      <th></th>\n",
       "      <th>datetime</th>\n",
       "      <th>num_orders</th>\n",
       "    </tr>\n",
       "  </thead>\n",
       "  <tbody>\n",
       "    <tr>\n",
       "      <th>count</th>\n",
       "      <td>26496</td>\n",
       "      <td>26496.000000</td>\n",
       "    </tr>\n",
       "    <tr>\n",
       "      <th>unique</th>\n",
       "      <td>26496</td>\n",
       "      <td>NaN</td>\n",
       "    </tr>\n",
       "    <tr>\n",
       "      <th>top</th>\n",
       "      <td>2018-03-09 22:10:00</td>\n",
       "      <td>NaN</td>\n",
       "    </tr>\n",
       "    <tr>\n",
       "      <th>freq</th>\n",
       "      <td>1</td>\n",
       "      <td>NaN</td>\n",
       "    </tr>\n",
       "    <tr>\n",
       "      <th>first</th>\n",
       "      <td>2018-03-01 00:00:00</td>\n",
       "      <td>NaN</td>\n",
       "    </tr>\n",
       "    <tr>\n",
       "      <th>last</th>\n",
       "      <td>2018-08-31 23:50:00</td>\n",
       "      <td>NaN</td>\n",
       "    </tr>\n",
       "    <tr>\n",
       "      <th>mean</th>\n",
       "      <td>NaN</td>\n",
       "      <td>14.070463</td>\n",
       "    </tr>\n",
       "    <tr>\n",
       "      <th>std</th>\n",
       "      <td>NaN</td>\n",
       "      <td>9.211330</td>\n",
       "    </tr>\n",
       "    <tr>\n",
       "      <th>min</th>\n",
       "      <td>NaN</td>\n",
       "      <td>0.000000</td>\n",
       "    </tr>\n",
       "    <tr>\n",
       "      <th>25%</th>\n",
       "      <td>NaN</td>\n",
       "      <td>8.000000</td>\n",
       "    </tr>\n",
       "    <tr>\n",
       "      <th>50%</th>\n",
       "      <td>NaN</td>\n",
       "      <td>13.000000</td>\n",
       "    </tr>\n",
       "    <tr>\n",
       "      <th>75%</th>\n",
       "      <td>NaN</td>\n",
       "      <td>19.000000</td>\n",
       "    </tr>\n",
       "    <tr>\n",
       "      <th>max</th>\n",
       "      <td>NaN</td>\n",
       "      <td>119.000000</td>\n",
       "    </tr>\n",
       "  </tbody>\n",
       "</table>\n",
       "</div>"
      ],
      "text/plain": [
       "                   datetime    num_orders\n",
       "count                 26496  26496.000000\n",
       "unique                26496           NaN\n",
       "top     2018-03-09 22:10:00           NaN\n",
       "freq                      1           NaN\n",
       "first   2018-03-01 00:00:00           NaN\n",
       "last    2018-08-31 23:50:00           NaN\n",
       "mean                    NaN     14.070463\n",
       "std                     NaN      9.211330\n",
       "min                     NaN      0.000000\n",
       "25%                     NaN      8.000000\n",
       "50%                     NaN     13.000000\n",
       "75%                     NaN     19.000000\n",
       "max                     NaN    119.000000"
      ]
     },
     "execution_count": 43,
     "metadata": {},
     "output_type": "execute_result"
    }
   ],
   "source": [
    "data.describe(include='all')"
   ]
  },
  {
   "cell_type": "markdown",
   "metadata": {},
   "source": [
    "Представлены данные за период с 1 марта 2018 по 31 августа 2018 года. По количеству заказов мы видим, что присутствуют пики, т.к. среднее значение 14, медианное значение 19, а максимальное - 119. Это осложнит предсказания модели - пики предсказывать всегда сложно, если только они не носят повторяющийся характер. <br>\n",
    "Отсортируем данные и посмотрим на наличие дубликатов."
   ]
  },
  {
   "cell_type": "code",
   "execution_count": 44,
   "metadata": {},
   "outputs": [
    {
     "data": {
      "text/html": [
       "<div>\n",
       "<style scoped>\n",
       "    .dataframe tbody tr th:only-of-type {\n",
       "        vertical-align: middle;\n",
       "    }\n",
       "\n",
       "    .dataframe tbody tr th {\n",
       "        vertical-align: top;\n",
       "    }\n",
       "\n",
       "    .dataframe thead th {\n",
       "        text-align: right;\n",
       "    }\n",
       "</style>\n",
       "<table border=\"1\" class=\"dataframe\">\n",
       "  <thead>\n",
       "    <tr style=\"text-align: right;\">\n",
       "      <th></th>\n",
       "      <th>datetime</th>\n",
       "      <th>num_orders</th>\n",
       "    </tr>\n",
       "  </thead>\n",
       "  <tbody>\n",
       "    <tr>\n",
       "      <th>0</th>\n",
       "      <td>2018-03-01 00:00:00</td>\n",
       "      <td>9</td>\n",
       "    </tr>\n",
       "    <tr>\n",
       "      <th>1</th>\n",
       "      <td>2018-03-01 00:10:00</td>\n",
       "      <td>14</td>\n",
       "    </tr>\n",
       "    <tr>\n",
       "      <th>2</th>\n",
       "      <td>2018-03-01 00:20:00</td>\n",
       "      <td>28</td>\n",
       "    </tr>\n",
       "    <tr>\n",
       "      <th>3</th>\n",
       "      <td>2018-03-01 00:30:00</td>\n",
       "      <td>20</td>\n",
       "    </tr>\n",
       "    <tr>\n",
       "      <th>4</th>\n",
       "      <td>2018-03-01 00:40:00</td>\n",
       "      <td>32</td>\n",
       "    </tr>\n",
       "    <tr>\n",
       "      <th>...</th>\n",
       "      <td>...</td>\n",
       "      <td>...</td>\n",
       "    </tr>\n",
       "    <tr>\n",
       "      <th>26491</th>\n",
       "      <td>2018-08-31 23:10:00</td>\n",
       "      <td>32</td>\n",
       "    </tr>\n",
       "    <tr>\n",
       "      <th>26492</th>\n",
       "      <td>2018-08-31 23:20:00</td>\n",
       "      <td>24</td>\n",
       "    </tr>\n",
       "    <tr>\n",
       "      <th>26493</th>\n",
       "      <td>2018-08-31 23:30:00</td>\n",
       "      <td>27</td>\n",
       "    </tr>\n",
       "    <tr>\n",
       "      <th>26494</th>\n",
       "      <td>2018-08-31 23:40:00</td>\n",
       "      <td>39</td>\n",
       "    </tr>\n",
       "    <tr>\n",
       "      <th>26495</th>\n",
       "      <td>2018-08-31 23:50:00</td>\n",
       "      <td>53</td>\n",
       "    </tr>\n",
       "  </tbody>\n",
       "</table>\n",
       "<p>26496 rows × 2 columns</p>\n",
       "</div>"
      ],
      "text/plain": [
       "                 datetime  num_orders\n",
       "0     2018-03-01 00:00:00           9\n",
       "1     2018-03-01 00:10:00          14\n",
       "2     2018-03-01 00:20:00          28\n",
       "3     2018-03-01 00:30:00          20\n",
       "4     2018-03-01 00:40:00          32\n",
       "...                   ...         ...\n",
       "26491 2018-08-31 23:10:00          32\n",
       "26492 2018-08-31 23:20:00          24\n",
       "26493 2018-08-31 23:30:00          27\n",
       "26494 2018-08-31 23:40:00          39\n",
       "26495 2018-08-31 23:50:00          53\n",
       "\n",
       "[26496 rows x 2 columns]"
      ]
     },
     "execution_count": 44,
     "metadata": {},
     "output_type": "execute_result"
    }
   ],
   "source": [
    "data = data.sort_values(by = 'datetime')\n",
    "data"
   ]
  },
  {
   "cell_type": "code",
   "execution_count": 45,
   "metadata": {},
   "outputs": [
    {
     "data": {
      "text/plain": [
       "0"
      ]
     },
     "execution_count": 45,
     "metadata": {},
     "output_type": "execute_result"
    }
   ],
   "source": [
    "data.duplicated().sum()"
   ]
  },
  {
   "cell_type": "markdown",
   "metadata": {},
   "source": [
    "Данные отсортированы. Дубликатов нет, ничего удалять не нужно."
   ]
  },
  {
   "cell_type": "code",
   "execution_count": 46,
   "metadata": {},
   "outputs": [],
   "source": [
    "data.index = data['datetime']\n",
    "data = data.drop('datetime', axis =1)"
   ]
  },
  {
   "cell_type": "markdown",
   "metadata": {},
   "source": [
    "Мы провели первичный анализ и подготовку данных, теперь можем приступить к анализу данных."
   ]
  },
  {
   "cell_type": "markdown",
   "metadata": {},
   "source": [
    "## Анализ"
   ]
  },
  {
   "cell_type": "markdown",
   "metadata": {},
   "source": [
    "В процессе анализа исходных данных мы предпримем следующие шаги: <br>\n",
    "1. ресемплируем данные\n",
    "2. поищем сезонные закономерности"
   ]
  },
  {
   "cell_type": "code",
   "execution_count": 47,
   "metadata": {},
   "outputs": [
    {
     "data": {
      "image/png": "[encoded data removed]",
      "text/plain": [
       "<Figure size 1440x648 with 1 Axes>"
      ]
     },
     "metadata": {
      "needs_background": "light"
     },
     "output_type": "display_data"
    }
   ],
   "source": [
    "data.plot(figsize =(20,9));"
   ]
  },
  {
   "cell_type": "markdown",
   "metadata": {},
   "source": [
    "Как и ожидалось по описательной статистике, данные имеют локальные пики, повторяющиеся с неравномерной регулярностью. <br>\n",
    "Проведем ресемплирование данных по 1 часу."
   ]
  },
  {
   "cell_type": "code",
   "execution_count": 48,
   "metadata": {
    "scrolled": true
   },
   "outputs": [
    {
     "data": {
      "image/png": "[encoded data removed]",
      "text/plain": [
       "<Figure size 432x288 with 1 Axes>"
      ]
     },
     "metadata": {
      "needs_background": "light"
     },
     "output_type": "display_data"
    }
   ],
   "source": [
    "data = data.resample('1H').sum()\n",
    "data.plot();"
   ]
  },
  {
   "cell_type": "markdown",
   "metadata": {},
   "source": [
    "Посмотрим, есть ли сезонность в данных, и каковы ее показатели."
   ]
  },
  {
   "cell_type": "code",
   "execution_count": 49,
   "metadata": {},
   "outputs": [
    {
     "data": {
      "image/png": "[encoded data removed]",
      "text/plain": [
       "<Figure size 432x288 with 1 Axes>"
      ]
     },
     "metadata": {
      "needs_background": "light"
     },
     "output_type": "display_data"
    }
   ],
   "source": [
    "data['seasonal'] = seasonal_decompose(data['num_orders']).seasonal\n",
    "data['trend'] = seasonal_decompose(data['num_orders']).trend.rolling(24).mean()\n",
    "data['residual'] = seasonal_decompose(data['num_orders']).resid\n",
    "data[['seasonal', 'trend', 'residual']].plot();"
   ]
  },
  {
   "cell_type": "markdown",
   "metadata": {},
   "source": [
    "Сезонность (seasonal) плохо визуализируется на графике за весь период. Выберем небольшой промежуток в три дня и посмотрим на этот период."
   ]
  },
  {
   "cell_type": "code",
   "execution_count": 50,
   "metadata": {
    "scrolled": true
   },
   "outputs": [
    {
     "data": {
      "image/png": "[encoded data removed]",
      "text/plain": [
       "<Figure size 432x288 with 1 Axes>"
      ]
     },
     "metadata": {
      "needs_background": "light"
     },
     "output_type": "display_data"
    }
   ],
   "source": [
    "data.loc['2018-03-01':'2018-03-03', 'seasonal'].plot();"
   ]
  },
  {
   "cell_type": "markdown",
   "metadata": {},
   "source": [
    "Мы видим на графиках, что есть небольшой растущий тренд от начала периода (март 2018) к концу периода (август 2018) и видим на графике сезонность, которая повторяется в течение дня. <br>\n",
    "Residual показывает пики, которые, как мы и отмечали раньше, не имеют регулярного характера."
   ]
  },
  {
   "cell_type": "markdown",
   "metadata": {},
   "source": [
    "Подготовим дополнительные признаки, которые можем извлечь из даты - день, месяц, час. А также уберем пока признаки, связанные с сезонностью."
   ]
  },
  {
   "cell_type": "code",
   "execution_count": 51,
   "metadata": {},
   "outputs": [
    {
     "data": {
      "text/html": [
       "<div>\n",
       "<style scoped>\n",
       "    .dataframe tbody tr th:only-of-type {\n",
       "        vertical-align: middle;\n",
       "    }\n",
       "\n",
       "    .dataframe tbody tr th {\n",
       "        vertical-align: top;\n",
       "    }\n",
       "\n",
       "    .dataframe thead th {\n",
       "        text-align: right;\n",
       "    }\n",
       "</style>\n",
       "<table border=\"1\" class=\"dataframe\">\n",
       "  <thead>\n",
       "    <tr style=\"text-align: right;\">\n",
       "      <th></th>\n",
       "      <th>num_orders</th>\n",
       "      <th>month</th>\n",
       "      <th>dayofweek</th>\n",
       "      <th>hour</th>\n",
       "    </tr>\n",
       "    <tr>\n",
       "      <th>datetime</th>\n",
       "      <th></th>\n",
       "      <th></th>\n",
       "      <th></th>\n",
       "      <th></th>\n",
       "    </tr>\n",
       "  </thead>\n",
       "  <tbody>\n",
       "    <tr>\n",
       "      <th>2018-03-01 00:00:00</th>\n",
       "      <td>124</td>\n",
       "      <td>3</td>\n",
       "      <td>3</td>\n",
       "      <td>0</td>\n",
       "    </tr>\n",
       "    <tr>\n",
       "      <th>2018-03-01 01:00:00</th>\n",
       "      <td>85</td>\n",
       "      <td>3</td>\n",
       "      <td>3</td>\n",
       "      <td>1</td>\n",
       "    </tr>\n",
       "    <tr>\n",
       "      <th>2018-03-01 02:00:00</th>\n",
       "      <td>71</td>\n",
       "      <td>3</td>\n",
       "      <td>3</td>\n",
       "      <td>2</td>\n",
       "    </tr>\n",
       "    <tr>\n",
       "      <th>2018-03-01 03:00:00</th>\n",
       "      <td>66</td>\n",
       "      <td>3</td>\n",
       "      <td>3</td>\n",
       "      <td>3</td>\n",
       "    </tr>\n",
       "    <tr>\n",
       "      <th>2018-03-01 04:00:00</th>\n",
       "      <td>43</td>\n",
       "      <td>3</td>\n",
       "      <td>3</td>\n",
       "      <td>4</td>\n",
       "    </tr>\n",
       "  </tbody>\n",
       "</table>\n",
       "</div>"
      ],
      "text/plain": [
       "                     num_orders  month  dayofweek  hour\n",
       "datetime                                               \n",
       "2018-03-01 00:00:00         124      3          3     0\n",
       "2018-03-01 01:00:00          85      3          3     1\n",
       "2018-03-01 02:00:00          71      3          3     2\n",
       "2018-03-01 03:00:00          66      3          3     3\n",
       "2018-03-01 04:00:00          43      3          3     4"
      ]
     },
     "execution_count": 51,
     "metadata": {},
     "output_type": "execute_result"
    }
   ],
   "source": [
    "data = data.drop(['seasonal', 'trend', 'residual'], axis =1)\n",
    "data['month']= data.index.month\n",
    "data['dayofweek'] = data.index.dayofweek\n",
    "data['hour'] = data.index.hour\n",
    "data.head()"
   ]
  },
  {
   "cell_type": "markdown",
   "metadata": {},
   "source": [
    "Для прогнозирования целевого признака нам скорее всего будет недостаточно тех календарных признаков, которые есть в нашем распоряжении. Поэтому мы можем создать дополнительные признаки - скользящее среднее, принимающее последние n периодов, и отсроченные значения, для того чтобы установить, как меняется со временем целевой признак - уменьшается или растет. <br><br>\n",
    "Мы создадим функцию, которая создает эти признаки, параметрами которой будут количество периодов скользащего среднего и количество отслеживаемых периодов для подсчета тренда (лаг). <br>В эту же функцию мы интегрируем разбитие датасета на признаки и таргет, а также разбитие датасета на трейновый, валидационный и тестовый. Последний составляет 10% от всего датасета. К нему мы вернемся в последней главе, а пока будем обучать модель на трейновом датасете, а считать метрики на валидационном.<br>\n",
    "Функция будет возвращать несколько датасетов (признаки и таргет отдельно):\n",
    "* train - трейновый датасет \n",
    "* trainval - вместе валидационный и трейновый датасеты (для обучения модели на стадии тестов)\n",
    "* val - валидационный датасет\n",
    "* test - тестовый датасет"
   ]
  },
  {
   "cell_type": "code",
   "execution_count": 52,
   "metadata": {
    "scrolled": true
   },
   "outputs": [],
   "source": [
    "def new_features_and_split(data, max_lag, rolling_size):\n",
    "    new_data = data\n",
    "    new_data['rolling'] = new_data['num_orders'].shift().rolling(rolling_size).mean()\n",
    "    for lag in range(1, max_lag + 1):\n",
    "        new_data['lag_{}'.format(lag)] = new_data['num_orders'].shift(lag)\n",
    "    new_data = new_data.dropna()\n",
    "    features = new_data.drop('num_orders', axis =1)\n",
    "    target = new_data['num_orders']\n",
    "    features_trainval, features_test, target_trainval, target_test = train_test_split(features, \n",
    "                                                                                    target, \n",
    "                                                                                    shuffle = False, \n",
    "                                                                                    test_size = 0.1)\n",
    "    features_train, features_val, target_train, target_val = train_test_split(features_trainval, \n",
    "                                                                               target_trainval,\n",
    "                                                                               shuffle = False,\n",
    "                                                                               test_size = 0.25)\n",
    "    return features_trainval, features_test, target_trainval, target_test,features_train, features_val, target_train, target_val"
   ]
  },
  {
   "cell_type": "markdown",
   "metadata": {},
   "source": [
    "Теперь, когда функция создана, все готово к обучению."
   ]
  },
  {
   "cell_type": "markdown",
   "metadata": {},
   "source": [
    "## Обучение"
   ]
  },
  {
   "cell_type": "markdown",
   "metadata": {},
   "source": [
    "В этой главе мы обучим несколько моделей (LinearRegression, KNN, CatBoost) и проведем валидационные тесты. Для начала создадим константную модель, которая за прогноз принимает медианное значение целевого признака, и все модели будем сравнивать с ней."
   ]
  },
  {
   "cell_type": "code",
   "execution_count": 53,
   "metadata": {},
   "outputs": [
    {
     "name": "stdout",
     "output_type": "stream",
     "text": [
      "RMSE на константной модели: 87.153\n"
     ]
    }
   ],
   "source": [
    "# dummy model \"median\"\n",
    "features = data.drop('num_orders', axis =1)\n",
    "target = data['num_orders']\n",
    "features_train, features_test, target_train, target_test = train_test_split(features, \n",
    "                                                                            target, \n",
    "                                                                            shuffle = False, \n",
    "                                                                            test_size = 0.1)\n",
    "\n",
    "pred_median = np.ones(target_test.shape)*target_train.median()\n",
    "rmse_dummy = mean_squared_error(target_test, pred_median)**0.5\n",
    "print(f'RMSE на константной модели: {round(rmse_dummy,3)}')"
   ]
  },
  {
   "cell_type": "markdown",
   "metadata": {},
   "source": [
    "RMSE на константной модели довольно высокий, то есть плохой. Посмотрим, смогут ли модели улучшить результат. <br>\n",
    "Для каждой модели мы попробуем различные значения лага и промежутка скольжения и выберем наилучшие. Для того, чтобы сравнивать между собой эти параметры и визуализировать результаты расчета, создадим таблицу, где будут храниться все значения метрики при всех параметрах модели. <br>\n",
    "Так же в целях визуализации создадим графики, на которых будут сравниваться предсказания модели и правильные ответы валидационного датасета. Таким образом мы сможем увидеть, насколько наша модель хорошо предсказывает значения."
   ]
  },
  {
   "cell_type": "code",
   "execution_count": 14,
   "metadata": {},
   "outputs": [
    {
     "data": {
      "text/html": [
       "<div>\n",
       "<style scoped>\n",
       "    .dataframe tbody tr th:only-of-type {\n",
       "        vertical-align: middle;\n",
       "    }\n",
       "\n",
       "    .dataframe tbody tr th {\n",
       "        vertical-align: top;\n",
       "    }\n",
       "\n",
       "    .dataframe thead th {\n",
       "        text-align: right;\n",
       "    }\n",
       "</style>\n",
       "<table border=\"1\" class=\"dataframe\">\n",
       "  <thead>\n",
       "    <tr style=\"text-align: right;\">\n",
       "      <th></th>\n",
       "      <th>2</th>\n",
       "      <th>6</th>\n",
       "      <th>10</th>\n",
       "      <th>14</th>\n",
       "      <th>18</th>\n",
       "      <th>22</th>\n",
       "    </tr>\n",
       "  </thead>\n",
       "  <tbody>\n",
       "    <tr>\n",
       "      <th>1</th>\n",
       "      <td>37.771</td>\n",
       "      <td>37.744</td>\n",
       "      <td>37.813</td>\n",
       "      <td>37.844</td>\n",
       "      <td>37.976</td>\n",
       "      <td>38.032</td>\n",
       "    </tr>\n",
       "    <tr>\n",
       "      <th>5</th>\n",
       "      <td>37.657</td>\n",
       "      <td>37.676</td>\n",
       "      <td>37.686</td>\n",
       "      <td>37.685</td>\n",
       "      <td>37.878</td>\n",
       "      <td>37.926</td>\n",
       "    </tr>\n",
       "    <tr>\n",
       "      <th>9</th>\n",
       "      <td>37.562</td>\n",
       "      <td>37.562</td>\n",
       "      <td>37.597</td>\n",
       "      <td>37.528</td>\n",
       "      <td>37.731</td>\n",
       "      <td>37.777</td>\n",
       "    </tr>\n",
       "    <tr>\n",
       "      <th>13</th>\n",
       "      <td>37.28</td>\n",
       "      <td>37.28</td>\n",
       "      <td>37.28</td>\n",
       "      <td>37.15</td>\n",
       "      <td>37.352</td>\n",
       "      <td>37.483</td>\n",
       "    </tr>\n",
       "    <tr>\n",
       "      <th>17</th>\n",
       "      <td>37.1</td>\n",
       "      <td>37.1</td>\n",
       "      <td>37.1</td>\n",
       "      <td>37.1</td>\n",
       "      <td>36.473</td>\n",
       "      <td>37.183</td>\n",
       "    </tr>\n",
       "    <tr>\n",
       "      <th>21</th>\n",
       "      <td>36.353</td>\n",
       "      <td>36.361</td>\n",
       "      <td>36.361</td>\n",
       "      <td>36.361</td>\n",
       "      <td>36.361</td>\n",
       "      <td>35.206</td>\n",
       "    </tr>\n",
       "  </tbody>\n",
       "</table>\n",
       "</div>"
      ],
      "text/plain": [
       "        2       6       10      14      18      22\n",
       "1   37.771  37.744  37.813  37.844  37.976  38.032\n",
       "5   37.657  37.676  37.686  37.685  37.878  37.926\n",
       "9   37.562  37.562  37.597  37.528  37.731  37.777\n",
       "13   37.28   37.28   37.28   37.15  37.352  37.483\n",
       "17    37.1    37.1    37.1    37.1  36.473  37.183\n",
       "21  36.353  36.361  36.361  36.361  36.361  35.206"
      ]
     },
     "execution_count": 14,
     "metadata": {},
     "output_type": "execute_result"
    }
   ],
   "source": [
    "# Linear regression\n",
    "best_rmse = rmse_dummy \n",
    "best_rolling = 0\n",
    "best_lag = 0\n",
    "table_LR = pd.DataFrame(columns = range(2, 25,4), index = range(1,25,4))\n",
    "for max_lag in range(1,25, 4):\n",
    "    for rolling in range(2, 25,4):\n",
    "        features_trainval, features_test, target_trainval, target_test, features_train, features_val, target_train, target_val = new_features_and_split(data, max_lag, rolling)\n",
    "        \n",
    "        model_LR = LinearRegression()\n",
    "        model_LR.fit(features_train, target_train)\n",
    "        rmse = mean_squared_error(target_val, model_LR.predict(features_val))**0.5\n",
    "        table_LR.loc[max_lag, rolling] = round(rmse, 3)\n",
    "        if rmse < best_rmse:\n",
    "            best_rmse = rmse\n",
    "            best_lag = max_lag\n",
    "            best_rolling = rolling\n",
    "table_LR\n"
   ]
  },
  {
   "cell_type": "code",
   "execution_count": 15,
   "metadata": {},
   "outputs": [
    {
     "name": "stdout",
     "output_type": "stream",
     "text": [
      "Лучший промежуток скользящего среднего: 22, лучший лаг: 21\n"
     ]
    }
   ],
   "source": [
    "print(f'Лучший промежуток скользящего среднего: {best_rolling}, лучший лаг: {best_lag}')"
   ]
  },
  {
   "cell_type": "code",
   "execution_count": 16,
   "metadata": {
    "scrolled": false
   },
   "outputs": [
    {
     "data": {
      "image/png": "[encoded data removed]",
      "text/plain": [
       "<Figure size 432x288 with 1 Axes>"
      ]
     },
     "metadata": {
      "needs_background": "light"
     },
     "output_type": "display_data"
    }
   ],
   "source": [
    "features_trainval, features_test, target_trainval, target_test, features_train, features_val, target_train, target_val = new_features_and_split(data, 23, 24)\n",
    "\n",
    "model_LR.fit(features_train, target_train)\n",
    "pd.DataFrame(model_LR.predict(features_val), index = target_val.index).plot();\n",
    "target_val.plot(alpha = 0.5);\n",
    "plt.ylabel('Количество заказов в час, шт.')\n",
    "plt.xlabel('Дата')\n",
    "plt.legend(['Predictions', 'Target']);"
   ]
  },
  {
   "cell_type": "markdown",
   "metadata": {},
   "source": [
    "Линейная регрессия с наилучшими гиперпараметрами хорошо прогнозирует \"профиль\" кривой, но судя по графику, амплитуда раброса значений недостаточна, плохо покрывает и максимальные и минимальные значения (оранжевая кривая)."
   ]
  },
  {
   "cell_type": "code",
   "execution_count": 17,
   "metadata": {},
   "outputs": [
    {
     "data": {
      "text/html": [
       "<div>\n",
       "<style scoped>\n",
       "    .dataframe tbody tr th:only-of-type {\n",
       "        vertical-align: middle;\n",
       "    }\n",
       "\n",
       "    .dataframe tbody tr th {\n",
       "        vertical-align: top;\n",
       "    }\n",
       "\n",
       "    .dataframe thead th {\n",
       "        text-align: right;\n",
       "    }\n",
       "</style>\n",
       "<table border=\"1\" class=\"dataframe\">\n",
       "  <thead>\n",
       "    <tr style=\"text-align: right;\">\n",
       "      <th></th>\n",
       "      <th>2</th>\n",
       "      <th>6</th>\n",
       "      <th>10</th>\n",
       "      <th>14</th>\n",
       "      <th>18</th>\n",
       "      <th>22</th>\n",
       "    </tr>\n",
       "  </thead>\n",
       "  <tbody>\n",
       "    <tr>\n",
       "      <th>1</th>\n",
       "      <td>29.889</td>\n",
       "      <td>29.963</td>\n",
       "      <td>30.249</td>\n",
       "      <td>30.206</td>\n",
       "      <td>30.252</td>\n",
       "      <td>31.2</td>\n",
       "    </tr>\n",
       "    <tr>\n",
       "      <th>5</th>\n",
       "      <td>29.889</td>\n",
       "      <td>29.963</td>\n",
       "      <td>30.249</td>\n",
       "      <td>30.206</td>\n",
       "      <td>30.252</td>\n",
       "      <td>31.2</td>\n",
       "    </tr>\n",
       "    <tr>\n",
       "      <th>9</th>\n",
       "      <td>29.889</td>\n",
       "      <td>29.963</td>\n",
       "      <td>30.249</td>\n",
       "      <td>30.206</td>\n",
       "      <td>30.252</td>\n",
       "      <td>31.2</td>\n",
       "    </tr>\n",
       "    <tr>\n",
       "      <th>13</th>\n",
       "      <td>29.889</td>\n",
       "      <td>29.963</td>\n",
       "      <td>30.249</td>\n",
       "      <td>30.206</td>\n",
       "      <td>30.252</td>\n",
       "      <td>31.2</td>\n",
       "    </tr>\n",
       "    <tr>\n",
       "      <th>17</th>\n",
       "      <td>29.889</td>\n",
       "      <td>29.963</td>\n",
       "      <td>30.249</td>\n",
       "      <td>30.206</td>\n",
       "      <td>30.252</td>\n",
       "      <td>31.2</td>\n",
       "    </tr>\n",
       "    <tr>\n",
       "      <th>21</th>\n",
       "      <td>29.889</td>\n",
       "      <td>29.963</td>\n",
       "      <td>30.249</td>\n",
       "      <td>30.206</td>\n",
       "      <td>30.252</td>\n",
       "      <td>31.2</td>\n",
       "    </tr>\n",
       "  </tbody>\n",
       "</table>\n",
       "</div>"
      ],
      "text/plain": [
       "        2       6       10      14      18    22\n",
       "1   29.889  29.963  30.249  30.206  30.252  31.2\n",
       "5   29.889  29.963  30.249  30.206  30.252  31.2\n",
       "9   29.889  29.963  30.249  30.206  30.252  31.2\n",
       "13  29.889  29.963  30.249  30.206  30.252  31.2\n",
       "17  29.889  29.963  30.249  30.206  30.252  31.2\n",
       "21  29.889  29.963  30.249  30.206  30.252  31.2"
      ]
     },
     "execution_count": 17,
     "metadata": {},
     "output_type": "execute_result"
    }
   ],
   "source": [
    "# CatBoost\n",
    "best_rmse = rmse_dummy \n",
    "best_rolling = 0\n",
    "best_lag = 0\n",
    "table_CB = pd.DataFrame(columns = range(2, 25,4), index = range(1,25,4))\n",
    "for max_lag in range(1,25, 4):\n",
    "    for rolling in range(2, 25,4):\n",
    "        features_trainval, features_test, target_trainval, target_test, features_train, features_val, target_train, target_val = new_features_and_split(data, max_lag, rolling)\n",
    "    \n",
    "        model_CB = CatBoostRegressor(verbose = False)\n",
    "        model_CB.fit(features_train, target_train)\n",
    "        rmse = mean_squared_error(target_val, model_CB.predict(features_val))**0.5\n",
    "        table_CB.loc[max_lag, rolling] = round(rmse, 3)\n",
    "        if rmse < best_rmse:\n",
    "            best_rmse = rmse\n",
    "            best_lag = max_lag\n",
    "            best_rolling = rolling\n",
    "table_CB"
   ]
  },
  {
   "cell_type": "code",
   "execution_count": 18,
   "metadata": {},
   "outputs": [
    {
     "name": "stdout",
     "output_type": "stream",
     "text": [
      "Лучший промежуток скользящего среднего: 2, лучший лаг: 1\n"
     ]
    }
   ],
   "source": [
    "print(f'Лучший промежуток скользящего среднего: {best_rolling}, лучший лаг: {best_lag}')"
   ]
  },
  {
   "cell_type": "code",
   "execution_count": 19,
   "metadata": {
    "scrolled": true
   },
   "outputs": [
    {
     "data": {
      "image/png": "[encoded data removed]",
      "text/plain": [
       "<Figure size 432x288 with 1 Axes>"
      ]
     },
     "metadata": {
      "needs_background": "light"
     },
     "output_type": "display_data"
    }
   ],
   "source": [
    "features_trainval, features_test, target_trainval, target_test, features_train, features_val, target_train, target_val= new_features_and_split(data, 1, 2)\n",
    "                                                                              \n",
    "pd.DataFrame(model_CB.predict(features_val), index = target_val.index).plot();\n",
    "target_val.plot(alpha = 0.5)\n",
    "plt.ylabel('Количество заказов в час, шт.')\n",
    "plt.xlabel('Дата')\n",
    "plt.legend(['Predictions', 'Target']);"
   ]
  },
  {
   "cell_type": "markdown",
   "metadata": {},
   "source": [
    "CatBoost оказалась нечувствительна к изменению лага, а количество периодов скольжения для этой модели оказался меньшим, чем у линейной регрессии - оптимальным является минимальное значение. Судя по графику, модель тоже нечувствительна к пикам, а вот минимальные значения покрывает хорошо. То есть CatBoost строит более пессимистичный прогноз, чем в реальности, это следует учитывать."
   ]
  },
  {
   "cell_type": "code",
   "execution_count": 54,
   "metadata": {},
   "outputs": [
    {
     "data": {
      "text/html": [
       "<div>\n",
       "<style scoped>\n",
       "    .dataframe tbody tr th:only-of-type {\n",
       "        vertical-align: middle;\n",
       "    }\n",
       "\n",
       "    .dataframe tbody tr th {\n",
       "        vertical-align: top;\n",
       "    }\n",
       "\n",
       "    .dataframe thead th {\n",
       "        text-align: right;\n",
       "    }\n",
       "</style>\n",
       "<table border=\"1\" class=\"dataframe\">\n",
       "  <thead>\n",
       "    <tr style=\"text-align: right;\">\n",
       "      <th></th>\n",
       "      <th>2</th>\n",
       "      <th>5</th>\n",
       "      <th>8</th>\n",
       "      <th>11</th>\n",
       "      <th>14</th>\n",
       "      <th>17</th>\n",
       "      <th>20</th>\n",
       "      <th>23</th>\n",
       "    </tr>\n",
       "  </thead>\n",
       "  <tbody>\n",
       "    <tr>\n",
       "      <th>1</th>\n",
       "      <td>41.458</td>\n",
       "      <td>42.712</td>\n",
       "      <td>41.709</td>\n",
       "      <td>41.144</td>\n",
       "      <td>41.043</td>\n",
       "      <td>41.122</td>\n",
       "      <td>42.098</td>\n",
       "      <td>42.61</td>\n",
       "    </tr>\n",
       "    <tr>\n",
       "      <th>4</th>\n",
       "      <td>41.66</td>\n",
       "      <td>41.178</td>\n",
       "      <td>40.502</td>\n",
       "      <td>41.188</td>\n",
       "      <td>41.37</td>\n",
       "      <td>42.297</td>\n",
       "      <td>42.633</td>\n",
       "      <td>41.597</td>\n",
       "    </tr>\n",
       "    <tr>\n",
       "      <th>7</th>\n",
       "      <td>40.084</td>\n",
       "      <td>40.331</td>\n",
       "      <td>40.147</td>\n",
       "      <td>39.99</td>\n",
       "      <td>39.826</td>\n",
       "      <td>39.735</td>\n",
       "      <td>39.989</td>\n",
       "      <td>39.252</td>\n",
       "    </tr>\n",
       "    <tr>\n",
       "      <th>10</th>\n",
       "      <td>38.071</td>\n",
       "      <td>38.824</td>\n",
       "      <td>38.867</td>\n",
       "      <td>38.642</td>\n",
       "      <td>38.741</td>\n",
       "      <td>39.102</td>\n",
       "      <td>39.103</td>\n",
       "      <td>38.846</td>\n",
       "    </tr>\n",
       "    <tr>\n",
       "      <th>13</th>\n",
       "      <td>36.881</td>\n",
       "      <td>37.318</td>\n",
       "      <td>37.258</td>\n",
       "      <td>37.147</td>\n",
       "      <td>37.128</td>\n",
       "      <td>37.137</td>\n",
       "      <td>37.222</td>\n",
       "      <td>36.863</td>\n",
       "    </tr>\n",
       "    <tr>\n",
       "      <th>16</th>\n",
       "      <td>36.351</td>\n",
       "      <td>36.305</td>\n",
       "      <td>36.325</td>\n",
       "      <td>36.275</td>\n",
       "      <td>36.271</td>\n",
       "      <td>36.381</td>\n",
       "      <td>36.305</td>\n",
       "      <td>36.073</td>\n",
       "    </tr>\n",
       "    <tr>\n",
       "      <th>19</th>\n",
       "      <td>34.514</td>\n",
       "      <td>34.82</td>\n",
       "      <td>34.846</td>\n",
       "      <td>34.928</td>\n",
       "      <td>34.902</td>\n",
       "      <td>34.944</td>\n",
       "      <td>34.952</td>\n",
       "      <td>34.943</td>\n",
       "    </tr>\n",
       "    <tr>\n",
       "      <th>22</th>\n",
       "      <td>33.91</td>\n",
       "      <td>34.053</td>\n",
       "      <td>34.174</td>\n",
       "      <td>34.15</td>\n",
       "      <td>34.083</td>\n",
       "      <td>34.13</td>\n",
       "      <td>34.082</td>\n",
       "      <td>34.123</td>\n",
       "    </tr>\n",
       "  </tbody>\n",
       "</table>\n",
       "</div>"
      ],
      "text/plain": [
       "        2       5       8       11      14      17      20      23\n",
       "1   41.458  42.712  41.709  41.144  41.043  41.122  42.098   42.61\n",
       "4    41.66  41.178  40.502  41.188   41.37  42.297  42.633  41.597\n",
       "7   40.084  40.331  40.147   39.99  39.826  39.735  39.989  39.252\n",
       "10  38.071  38.824  38.867  38.642  38.741  39.102  39.103  38.846\n",
       "13  36.881  37.318  37.258  37.147  37.128  37.137  37.222  36.863\n",
       "16  36.351  36.305  36.325  36.275  36.271  36.381  36.305  36.073\n",
       "19  34.514   34.82  34.846  34.928  34.902  34.944  34.952  34.943\n",
       "22   33.91  34.053  34.174   34.15  34.083   34.13  34.082  34.123"
      ]
     },
     "execution_count": 54,
     "metadata": {},
     "output_type": "execute_result"
    }
   ],
   "source": [
    "# KNN\n",
    "best_rmse = rmse_dummy \n",
    "best_rolling = 0\n",
    "best_lag = 0\n",
    "table_KN = pd.DataFrame(columns = range(2, 25,3), index = range(1,25,3))\n",
    "for lag in range(1,25,3):\n",
    "    for rolling in range(2, 25,3):\n",
    "        features_trainval, features_test, target_trainval, target_test, features_train, features_val, target_train, target_val = new_features_and_split(data, lag, rolling)\n",
    "    \n",
    "        model_KN = KNeighborsRegressor()\n",
    "        model_KN.fit(features_train, target_train)\n",
    "        rmse = mean_squared_error(target_val, model_KN.predict(features_val))**0.5\n",
    "        table_KN.loc[lag, rolling] = round(rmse, 3)\n",
    "        if rmse < best_rmse:\n",
    "            best_rmse = rmse\n",
    "            best_lag = lag\n",
    "            best_rolling = rolling\n",
    "table_KN"
   ]
  },
  {
   "cell_type": "code",
   "execution_count": 55,
   "metadata": {},
   "outputs": [
    {
     "name": "stdout",
     "output_type": "stream",
     "text": [
      "Лучший промежуток скользящего среднего: 2, лучший лаг: 22\n"
     ]
    }
   ],
   "source": [
    "print(f'Лучший промежуток скользящего среднего: {best_rolling}, лучший лаг: {best_lag}')"
   ]
  },
  {
   "cell_type": "code",
   "execution_count": 60,
   "metadata": {
    "scrolled": true
   },
   "outputs": [
    {
     "name": "stdout",
     "output_type": "stream",
     "text": [
      "Лучшая RMSE 33.97445874121898 достигается при N-neighbors 6 и Leaf_size 10\n"
     ]
    },
    {
     "data": {
      "image/png": "[encoded data removed]",
      "text/plain": [
       "<Figure size 432x288 with 1 Axes>"
      ]
     },
     "metadata": {
      "needs_background": "light"
     },
     "output_type": "display_data"
    }
   ],
   "source": [
    "features_trainval, features_test, target_trainval, target_test, features_train, features_val, target_train, target_val= new_features_and_split(data, 2, 22)\n",
    "                                                                              \n",
    "# подберем гиперпараметры для модели KNN\n",
    "best_leaf =0\n",
    "best_n = 0\n",
    "best_rmse = rmse_dummy\n",
    "for n_neighb in range(2, 10):\n",
    "    for leaf in range(10, 91, 10):\n",
    "        model_KN = KNeighborsRegressor(n_neighbors = n_neighb, leaf_size = leaf)\n",
    "        model_KN.fit(features_train, target_train)\n",
    "        rmse = mean_squared_error(target_val, model_KN.predict(features_val))**0.5\n",
    "        if rmse < best_rmse:\n",
    "            best_leaf = leaf\n",
    "            best_n = n_neighb\n",
    "            best_rmse = rmse\n",
    "\n",
    "print(f'Лучшая RMSE {round(best_rmse, 3)} достигается при N-neighbors {best_n} и Leaf_size {best_leaf}')\n",
    "pd.DataFrame(model_KN.predict(features_val), index = target_val.index).plot();\n",
    "target_val.plot(alpha = 0.5)\n",
    "plt.ylabel('Количество заказов в час, шт.')\n",
    "plt.xlabel('Дата')\n",
    "plt.legend(['Predictions', 'Target']);"
   ]
  },
  {
   "cell_type": "markdown",
   "metadata": {},
   "source": [
    "KNN тоже нечувствительна к лагу и периоду скольжения, значения метрики практически не различаются между собой. В целом характер ее предсказаний, судя по графику, похож на CatBoost (в сторону занижения), и даже более пессимистичный; лучшая метрика выше, чем на CatBoost."
   ]
  },
  {
   "cell_type": "markdown",
   "metadata": {},
   "source": [
    "**Вывод** <br>\n",
    "Мы сравнили несколько моделей - линейную регрессию, CatBoost и KNN. Наилучшие результаты по метрике RMSE и по графикам покрытия правильных ответов нам дала модель CatBoost, поэтому мы выберем ее и на ней проведем тестирование."
   ]
  },
  {
   "cell_type": "markdown",
   "metadata": {},
   "source": [
    "## Тестирование"
   ]
  },
  {
   "cell_type": "markdown",
   "metadata": {},
   "source": [
    "Мы обучим модель на данных, соответствующих совокупности трейновой и валидационной выборки, и затем получим предсказания для тестового датасета, который составляет 10% от общего датасета."
   ]
  },
  {
   "cell_type": "code",
   "execution_count": 23,
   "metadata": {},
   "outputs": [
    {
     "name": "stdout",
     "output_type": "stream",
     "text": [
      "RMSE на тестовой выборке: 40.359\n"
     ]
    }
   ],
   "source": [
    "features_trainval, features_test, target_trainval, target_test, features_train, features_val, target_train, target_val = new_features_and_split(data, best_lag, best_rolling)\n",
    "model = CatBoostRegressor(verbose = False)\n",
    "model.fit(features_trainval, target_trainval)\n",
    "rmse = mean_squared_error(target_test, model.predict(features_test))**0.5\n",
    "print('RMSE на тестовой выборке:', round(rmse, 3))"
   ]
  },
  {
   "cell_type": "markdown",
   "metadata": {},
   "source": [
    "Посмотрим, насколько кривая предсказаний совпадает с кривой правильных ответов."
   ]
  },
  {
   "cell_type": "code",
   "execution_count": 24,
   "metadata": {},
   "outputs": [
    {
     "data": {
      "image/png": "[encoded data removed]",
      "text/plain": [
       "<Figure size 432x288 with 1 Axes>"
      ]
     },
     "metadata": {
      "needs_background": "light"
     },
     "output_type": "display_data"
    }
   ],
   "source": [
    "pd.DataFrame(model.predict(features_test), index = target_test.index).plot();\n",
    "target_test.plot(alpha = 0.7)\n",
    "plt.title('Предсказания модели CatBoost')\n",
    "plt.legend(['Predict', 'Target']);"
   ]
  },
  {
   "cell_type": "markdown",
   "metadata": {},
   "source": [
    "В целом, совпадение достаточно хорошее, но мы видим, что модель не очень хорошо предсказывает пики (максимумы и минимумы), а в случае с прогнозом заказов такси это может быть достаточно критично. <br>\n",
    "Попробуем улучшить результаты модели при помощи сезонности."
   ]
  },
  {
   "cell_type": "code",
   "execution_count": 25,
   "metadata": {},
   "outputs": [],
   "source": [
    "data['seasonal'] = seasonal_decompose(data['num_orders']).seasonal"
   ]
  },
  {
   "cell_type": "markdown",
   "metadata": {},
   "source": [
    "Поскольку, как мы выяснили во второй главе, сезонность имеет четкую закономерность и повторяемость, мы можем попробовать предсказать значение сезонности для тестового наборка признаков, основываясь на календарно-временных параметрах признаков. <br>\n",
    "Посмотрим, что получается, если выполнить моделирование."
   ]
  },
  {
   "cell_type": "code",
   "execution_count": 26,
   "metadata": {},
   "outputs": [
    {
     "data": {
      "image/png": "[encoded data removed]",
      "text/plain": [
       "<Figure size 432x288 with 1 Axes>"
      ]
     },
     "metadata": {
      "needs_background": "light"
     },
     "output_type": "display_data"
    }
   ],
   "source": [
    "data = data.dropna()\n",
    "features = data.drop('seasonal', axis =1)\n",
    "target = data['seasonal']\n",
    "features_train_season, features_test_season, target_train_season, target_test_season = train_test_split(features, target, shuffle = False, test_size = 0.1)\n",
    "model_season = LinearRegression()\n",
    "model_season.fit(features_train_season, target_train_season)\n",
    "pd.Series(model_season.predict(features_test_season), index = target_test_season.index).plot()\n",
    "target_test_season.plot()\n",
    "plt.legend(['Predictions', 'Target']);"
   ]
  },
  {
   "cell_type": "markdown",
   "metadata": {},
   "source": [
    "Модель достаточно хорошо справляется с прогнозированием сезонности для тестовой выборки. Значит, мы можем интегрировать этот прием в нашу функцию добавления признаков - добавим признак сезонности в датасет для всех наборов данных (но в тестовом наборе спрогнозируем его самостоятельно на основании созданной модели)."
   ]
  },
  {
   "cell_type": "code",
   "execution_count": 27,
   "metadata": {},
   "outputs": [],
   "source": [
    "def new_features_and_split(data, max_lag, rolling_size):\n",
    "    new_data = data\n",
    "    new_data['rolling'] = new_data['num_orders'].shift().rolling(rolling_size).mean()\n",
    "    for lag in range(1, max_lag + 1):\n",
    "        new_data['lag_{}'.format(lag)] = new_data['num_orders'].shift(lag)\n",
    "    new_data = new_data.dropna()\n",
    "    features = new_data.drop('num_orders', axis =1)\n",
    "    features['seasonal']=  seasonal_decompose(data['num_orders']).seasonal\n",
    "    target = new_data['num_orders']\n",
    "    features_trainval, features_test, target_trainval, target_test = train_test_split(features, \n",
    "                                                                                    target, \n",
    "                                                                                    shuffle = False, \n",
    "                                                                                    test_size = 0.1)\n",
    "    features_train, features_val, target_train, target_val = train_test_split(features_trainval, \n",
    "                                                                               target_trainval,\n",
    "                                                                               shuffle = False,\n",
    "                                                                               test_size = 0.25)\n",
    "    \n",
    "    return features_trainval, features_test, target_trainval, target_test,features_train, features_val, target_train, target_val"
   ]
  },
  {
   "cell_type": "code",
   "execution_count": 28,
   "metadata": {},
   "outputs": [
    {
     "name": "stdout",
     "output_type": "stream",
     "text": [
      "RMSE с учетом сезонности: 35.885\n"
     ]
    }
   ],
   "source": [
    "features_trainval, features_test, target_trainval, target_test, features_train, features_val, target_train, target_val = new_features_and_split(data, best_lag, best_rolling)\n",
    "features_test['seasonal'] = model_season.predict(features_test_season) #признак seasonal на основании прогноза модели\n",
    "\n",
    "model = CatBoostRegressor(verbose = False)\n",
    "model.fit(features_trainval, target_trainval)\n",
    "rmse = mean_squared_error(target_test, model.predict(features_test))**0.5\n",
    "print('RMSE с учетом сезонности:', round(rmse, 3))"
   ]
  },
  {
   "cell_type": "code",
   "execution_count": 29,
   "metadata": {},
   "outputs": [
    {
     "data": {
      "image/png": "[encoded data removed]",
      "text/plain": [
       "<Figure size 432x288 with 1 Axes>"
      ]
     },
     "metadata": {
      "needs_background": "light"
     },
     "output_type": "display_data"
    }
   ],
   "source": [
    "pd.DataFrame(model.predict(features_test), index = target_test.index).plot();\n",
    "target_test.plot(alpha = 0.7)\n",
    "plt.legend(['Predictions', 'Target']);"
   ]
  },
  {
   "cell_type": "markdown",
   "metadata": {},
   "source": [
    "Мы видим, что метрика улучшилась до 35 (по сравнению с 40 без учета сезонности), и график предсказаний (синяя линия) лучше покрывает график правильных ответов (оранжевая линия). Значит, наша цель достигнута - мы смогли улучшить наш результат, модель прогнозирует с погрешностью 35 по сравнению с требуемой 48."
   ]
  }
 ],
 "metadata": {
  "ExecuteTimeLog": [
   {
    "duration": 1711,
    "start_time": "2022-09-24T12:17:23.975Z"
   },
   {
    "duration": 4,
    "start_time": "2022-09-24T12:17:31.106Z"
   },
   {
    "duration": 109,
    "start_time": "2022-09-24T12:18:51.495Z"
   },
   {
    "duration": 50,
    "start_time": "2022-09-24T12:19:00.368Z"
   },
   {
    "duration": 54,
    "start_time": "2022-09-24T12:19:20.845Z"
   },
   {
    "duration": 52,
    "start_time": "2022-09-24T12:19:48.202Z"
   },
   {
    "duration": 14,
    "start_time": "2022-09-24T12:19:57.852Z"
   },
   {
    "duration": 56,
    "start_time": "2022-09-24T12:20:22.191Z"
   },
   {
    "duration": 10,
    "start_time": "2022-09-24T12:21:06.064Z"
   },
   {
    "duration": 12,
    "start_time": "2022-09-24T12:21:22.306Z"
   },
   {
    "duration": 8,
    "start_time": "2022-09-24T12:21:31.850Z"
   },
   {
    "duration": 17,
    "start_time": "2022-09-24T12:22:29.484Z"
   },
   {
    "duration": 9,
    "start_time": "2022-09-24T12:23:31.685Z"
   },
   {
    "duration": 8,
    "start_time": "2022-09-24T12:23:37.142Z"
   },
   {
    "duration": 5,
    "start_time": "2022-09-24T12:25:00.133Z"
   },
   {
    "duration": 10,
    "start_time": "2022-09-24T12:25:05.754Z"
   },
   {
    "duration": 10,
    "start_time": "2022-09-24T12:25:42.387Z"
   },
   {
    "duration": 14,
    "start_time": "2022-09-24T12:26:07.570Z"
   },
   {
    "duration": 11,
    "start_time": "2022-09-24T12:26:20.235Z"
   },
   {
    "duration": 11,
    "start_time": "2022-09-24T12:26:28.618Z"
   },
   {
    "duration": 50,
    "start_time": "2022-09-25T09:47:17.836Z"
   },
   {
    "duration": 1621,
    "start_time": "2022-09-25T09:47:22.308Z"
   },
   {
    "duration": 136,
    "start_time": "2022-09-25T09:47:23.931Z"
   },
   {
    "duration": 19,
    "start_time": "2022-09-25T09:47:24.069Z"
   },
   {
    "duration": 9,
    "start_time": "2022-09-25T09:47:24.090Z"
   },
   {
    "duration": 29,
    "start_time": "2022-09-25T09:47:24.101Z"
   },
   {
    "duration": 28,
    "start_time": "2022-09-25T09:47:24.131Z"
   },
   {
    "duration": 562,
    "start_time": "2022-09-25T09:47:25.393Z"
   },
   {
    "duration": 15,
    "start_time": "2022-09-25T09:48:37.803Z"
   },
   {
    "duration": 89,
    "start_time": "2022-09-25T09:48:48.390Z"
   },
   {
    "duration": 600,
    "start_time": "2022-09-25T09:48:52.706Z"
   },
   {
    "duration": 476,
    "start_time": "2022-09-25T09:48:59.146Z"
   },
   {
    "duration": 285,
    "start_time": "2022-09-25T10:32:43.703Z"
   },
   {
    "duration": 1294,
    "start_time": "2022-09-25T10:32:57.550Z"
   },
   {
    "duration": 69,
    "start_time": "2022-09-25T10:32:58.847Z"
   },
   {
    "duration": 26,
    "start_time": "2022-09-25T10:32:58.918Z"
   },
   {
    "duration": 13,
    "start_time": "2022-09-25T10:32:58.947Z"
   },
   {
    "duration": 11,
    "start_time": "2022-09-25T10:32:58.962Z"
   },
   {
    "duration": 32,
    "start_time": "2022-09-25T10:32:58.975Z"
   },
   {
    "duration": 572,
    "start_time": "2022-09-25T10:32:59.009Z"
   },
   {
    "duration": 285,
    "start_time": "2022-09-25T10:32:59.583Z"
   },
   {
    "duration": 6,
    "start_time": "2022-09-25T11:09:37.035Z"
   },
   {
    "duration": 228,
    "start_time": "2022-09-25T11:09:45.206Z"
   },
   {
    "duration": 218,
    "start_time": "2022-09-25T11:09:53.551Z"
   },
   {
    "duration": 225,
    "start_time": "2022-09-25T11:11:29.708Z"
   },
   {
    "duration": 220,
    "start_time": "2022-09-25T11:11:34.914Z"
   },
   {
    "duration": 219,
    "start_time": "2022-09-25T11:11:40.026Z"
   },
   {
    "duration": 261,
    "start_time": "2022-09-25T11:13:49.216Z"
   },
   {
    "duration": 216,
    "start_time": "2022-09-25T11:14:11.931Z"
   },
   {
    "duration": 21,
    "start_time": "2022-09-25T11:16:16.040Z"
   },
   {
    "duration": 7,
    "start_time": "2022-09-25T11:21:45.690Z"
   },
   {
    "duration": 125,
    "start_time": "2022-09-25T11:21:46.928Z"
   },
   {
    "duration": 5,
    "start_time": "2022-09-25T11:22:16.754Z"
   },
   {
    "duration": 6,
    "start_time": "2022-09-25T11:22:19.386Z"
   },
   {
    "duration": 17,
    "start_time": "2022-09-25T11:22:21.235Z"
   },
   {
    "duration": 6,
    "start_time": "2022-09-25T11:22:44.255Z"
   },
   {
    "duration": 15,
    "start_time": "2022-09-25T11:22:45.926Z"
   },
   {
    "duration": 5,
    "start_time": "2022-09-25T11:23:06.454Z"
   },
   {
    "duration": 12,
    "start_time": "2022-09-25T11:23:08.991Z"
   },
   {
    "duration": 8,
    "start_time": "2022-09-25T11:23:13.323Z"
   },
   {
    "duration": 9,
    "start_time": "2022-09-25T11:23:19.118Z"
   },
   {
    "duration": 33,
    "start_time": "2022-09-25T11:25:01.591Z"
   },
   {
    "duration": 15,
    "start_time": "2022-09-25T11:27:41.516Z"
   },
   {
    "duration": 1249,
    "start_time": "2022-09-25T11:27:54.266Z"
   },
   {
    "duration": 61,
    "start_time": "2022-09-25T11:27:55.517Z"
   },
   {
    "duration": 15,
    "start_time": "2022-09-25T11:27:55.579Z"
   },
   {
    "duration": 7,
    "start_time": "2022-09-25T11:27:55.595Z"
   },
   {
    "duration": 8,
    "start_time": "2022-09-25T11:27:55.604Z"
   },
   {
    "duration": 9,
    "start_time": "2022-09-25T11:27:55.614Z"
   },
   {
    "duration": 519,
    "start_time": "2022-09-25T11:27:55.624Z"
   },
   {
    "duration": 250,
    "start_time": "2022-09-25T11:27:56.145Z"
   },
   {
    "duration": 222,
    "start_time": "2022-09-25T11:27:56.397Z"
   },
   {
    "duration": 14,
    "start_time": "2022-09-25T11:27:56.621Z"
   },
   {
    "duration": 5,
    "start_time": "2022-09-25T11:27:56.636Z"
   },
   {
    "duration": 16,
    "start_time": "2022-09-25T11:27:56.642Z"
   },
   {
    "duration": 5,
    "start_time": "2022-09-25T11:27:56.660Z"
   },
   {
    "duration": 155,
    "start_time": "2022-09-25T11:27:56.667Z"
   },
   {
    "duration": 1393,
    "start_time": "2022-09-25T11:28:46.573Z"
   },
   {
    "duration": 61,
    "start_time": "2022-09-25T11:28:47.968Z"
   },
   {
    "duration": 16,
    "start_time": "2022-09-25T11:28:48.030Z"
   },
   {
    "duration": 7,
    "start_time": "2022-09-25T11:28:48.048Z"
   },
   {
    "duration": 10,
    "start_time": "2022-09-25T11:28:48.056Z"
   },
   {
    "duration": 9,
    "start_time": "2022-09-25T11:28:48.067Z"
   },
   {
    "duration": 542,
    "start_time": "2022-09-25T11:28:48.077Z"
   },
   {
    "duration": 277,
    "start_time": "2022-09-25T11:28:48.621Z"
   },
   {
    "duration": 231,
    "start_time": "2022-09-25T11:28:48.900Z"
   },
   {
    "duration": 18,
    "start_time": "2022-09-25T11:28:49.133Z"
   },
   {
    "duration": 11,
    "start_time": "2022-09-25T11:28:49.153Z"
   },
   {
    "duration": 7,
    "start_time": "2022-09-25T11:28:49.165Z"
   },
   {
    "duration": 11,
    "start_time": "2022-09-25T11:28:49.173Z"
   },
   {
    "duration": 27,
    "start_time": "2022-09-25T11:28:49.186Z"
   },
   {
    "duration": 9,
    "start_time": "2022-09-25T11:40:18.530Z"
   },
   {
    "duration": 9,
    "start_time": "2022-09-25T11:41:15.293Z"
   },
   {
    "duration": 10,
    "start_time": "2022-09-25T11:41:20.173Z"
   },
   {
    "duration": 10,
    "start_time": "2022-09-25T11:41:23.517Z"
   },
   {
    "duration": 224,
    "start_time": "2022-09-25T11:41:52.596Z"
   },
   {
    "duration": 297,
    "start_time": "2022-09-25T11:42:07.497Z"
   },
   {
    "duration": 186,
    "start_time": "2022-09-25T11:42:18.484Z"
   },
   {
    "duration": 273,
    "start_time": "2022-09-25T11:42:55.128Z"
   },
   {
    "duration": 356,
    "start_time": "2022-09-25T11:43:13.508Z"
   },
   {
    "duration": 266,
    "start_time": "2022-09-25T11:43:59.869Z"
   },
   {
    "duration": 192,
    "start_time": "2022-09-25T11:44:09.848Z"
   },
   {
    "duration": 226,
    "start_time": "2022-09-25T11:44:20.302Z"
   },
   {
    "duration": 221,
    "start_time": "2022-09-25T11:44:28.808Z"
   },
   {
    "duration": 192,
    "start_time": "2022-09-25T11:44:34.930Z"
   },
   {
    "duration": 1387,
    "start_time": "2022-09-25T11:48:50.959Z"
   },
   {
    "duration": 62,
    "start_time": "2022-09-25T11:48:52.348Z"
   },
   {
    "duration": 16,
    "start_time": "2022-09-25T11:48:52.411Z"
   },
   {
    "duration": 7,
    "start_time": "2022-09-25T11:48:52.428Z"
   },
   {
    "duration": 23,
    "start_time": "2022-09-25T11:48:52.437Z"
   },
   {
    "duration": 10,
    "start_time": "2022-09-25T11:48:52.462Z"
   },
   {
    "duration": 598,
    "start_time": "2022-09-25T11:48:52.474Z"
   },
   {
    "duration": 267,
    "start_time": "2022-09-25T11:48:53.074Z"
   },
   {
    "duration": 3,
    "start_time": "2022-09-25T11:48:53.343Z"
   },
   {
    "duration": 16,
    "start_time": "2022-09-25T11:48:53.348Z"
   },
   {
    "duration": 12,
    "start_time": "2022-09-25T11:48:53.366Z"
   },
   {
    "duration": 29,
    "start_time": "2022-09-25T11:48:53.380Z"
   },
   {
    "duration": 6,
    "start_time": "2022-09-25T11:48:53.410Z"
   },
   {
    "duration": 66,
    "start_time": "2022-09-25T11:48:53.418Z"
   },
   {
    "duration": 265,
    "start_time": "2022-09-25T11:48:53.485Z"
   },
   {
    "duration": 44,
    "start_time": "2022-09-26T14:44:12.550Z"
   },
   {
    "duration": 1589,
    "start_time": "2022-09-26T14:44:17.177Z"
   },
   {
    "duration": 149,
    "start_time": "2022-09-26T14:44:18.769Z"
   },
   {
    "duration": 29,
    "start_time": "2022-09-26T14:44:18.920Z"
   },
   {
    "duration": 8,
    "start_time": "2022-09-26T14:44:18.952Z"
   },
   {
    "duration": 16,
    "start_time": "2022-09-26T14:44:18.962Z"
   },
   {
    "duration": 18,
    "start_time": "2022-09-26T14:44:18.981Z"
   },
   {
    "duration": 660,
    "start_time": "2022-09-26T14:44:19.001Z"
   },
   {
    "duration": 297,
    "start_time": "2022-09-26T14:44:19.663Z"
   },
   {
    "duration": 2,
    "start_time": "2022-09-26T14:44:19.961Z"
   },
   {
    "duration": 18,
    "start_time": "2022-09-26T14:44:19.966Z"
   },
   {
    "duration": 12,
    "start_time": "2022-09-26T14:44:19.985Z"
   },
   {
    "duration": 5,
    "start_time": "2022-09-26T14:44:19.999Z"
   },
   {
    "duration": 37,
    "start_time": "2022-09-26T14:44:20.006Z"
   },
   {
    "duration": 13,
    "start_time": "2022-09-26T14:44:20.758Z"
   },
   {
    "duration": 12,
    "start_time": "2022-09-26T14:45:05.487Z"
   },
   {
    "duration": 6,
    "start_time": "2022-09-26T14:45:34.717Z"
   },
   {
    "duration": 6,
    "start_time": "2022-09-26T14:45:43.757Z"
   },
   {
    "duration": 14,
    "start_time": "2022-09-26T14:45:52.050Z"
   },
   {
    "duration": 16,
    "start_time": "2022-09-26T14:46:49.795Z"
   },
   {
    "duration": 1357,
    "start_time": "2022-09-26T14:47:17.408Z"
   },
   {
    "duration": 71,
    "start_time": "2022-09-26T14:47:18.767Z"
   },
   {
    "duration": 18,
    "start_time": "2022-09-26T14:47:18.840Z"
   },
   {
    "duration": 8,
    "start_time": "2022-09-26T14:47:18.861Z"
   },
   {
    "duration": 12,
    "start_time": "2022-09-26T14:47:18.870Z"
   },
   {
    "duration": 9,
    "start_time": "2022-09-26T14:47:18.883Z"
   },
   {
    "duration": 668,
    "start_time": "2022-09-26T14:47:18.894Z"
   },
   {
    "duration": 304,
    "start_time": "2022-09-26T14:47:19.564Z"
   },
   {
    "duration": 2,
    "start_time": "2022-09-26T14:47:19.870Z"
   },
   {
    "duration": 17,
    "start_time": "2022-09-26T14:47:19.875Z"
   },
   {
    "duration": 3,
    "start_time": "2022-09-26T14:47:19.893Z"
   },
   {
    "duration": 10,
    "start_time": "2022-09-26T14:47:19.897Z"
   },
   {
    "duration": 25,
    "start_time": "2022-09-26T14:47:19.908Z"
   },
   {
    "duration": 13,
    "start_time": "2022-09-26T14:47:19.934Z"
   },
   {
    "duration": 14,
    "start_time": "2022-09-26T14:47:19.950Z"
   },
   {
    "duration": 226,
    "start_time": "2022-09-26T14:47:19.966Z"
   },
   {
    "duration": 1379,
    "start_time": "2022-09-26T14:48:06.550Z"
   },
   {
    "duration": 68,
    "start_time": "2022-09-26T14:48:07.931Z"
   },
   {
    "duration": 16,
    "start_time": "2022-09-26T14:48:08.001Z"
   },
   {
    "duration": 6,
    "start_time": "2022-09-26T14:48:08.019Z"
   },
   {
    "duration": 15,
    "start_time": "2022-09-26T14:48:08.027Z"
   },
   {
    "duration": 10,
    "start_time": "2022-09-26T14:48:08.050Z"
   },
   {
    "duration": 663,
    "start_time": "2022-09-26T14:48:08.062Z"
   },
   {
    "duration": 297,
    "start_time": "2022-09-26T14:48:08.726Z"
   },
   {
    "duration": 15,
    "start_time": "2022-09-26T14:48:09.024Z"
   },
   {
    "duration": 19,
    "start_time": "2022-09-26T14:48:09.050Z"
   },
   {
    "duration": 7,
    "start_time": "2022-09-26T14:48:09.071Z"
   },
   {
    "duration": 6,
    "start_time": "2022-09-26T14:48:09.079Z"
   },
   {
    "duration": 5,
    "start_time": "2022-09-26T14:48:09.087Z"
   },
   {
    "duration": 12,
    "start_time": "2022-09-26T14:48:09.094Z"
   },
   {
    "duration": 34,
    "start_time": "2022-09-26T14:48:09.108Z"
   },
   {
    "duration": 251,
    "start_time": "2022-09-26T14:48:09.144Z"
   },
   {
    "duration": 1406,
    "start_time": "2022-09-26T14:48:27.994Z"
   },
   {
    "duration": 67,
    "start_time": "2022-09-26T14:48:29.402Z"
   },
   {
    "duration": 17,
    "start_time": "2022-09-26T14:48:29.470Z"
   },
   {
    "duration": 10,
    "start_time": "2022-09-26T14:48:29.489Z"
   },
   {
    "duration": 51,
    "start_time": "2022-09-26T14:48:29.501Z"
   },
   {
    "duration": 9,
    "start_time": "2022-09-26T14:48:29.554Z"
   },
   {
    "duration": 702,
    "start_time": "2022-09-26T14:48:29.565Z"
   },
   {
    "duration": 307,
    "start_time": "2022-09-26T14:48:30.269Z"
   },
   {
    "duration": 3,
    "start_time": "2022-09-26T14:48:30.577Z"
   },
   {
    "duration": 38,
    "start_time": "2022-09-26T14:48:30.582Z"
   },
   {
    "duration": 29,
    "start_time": "2022-09-26T14:48:30.622Z"
   },
   {
    "duration": 23,
    "start_time": "2022-09-26T14:48:30.653Z"
   },
   {
    "duration": 18,
    "start_time": "2022-09-26T14:48:30.677Z"
   },
   {
    "duration": 30,
    "start_time": "2022-09-26T14:48:30.697Z"
   },
   {
    "duration": 35,
    "start_time": "2022-09-26T14:48:30.728Z"
   },
   {
    "duration": 241,
    "start_time": "2022-09-26T14:48:30.765Z"
   },
   {
    "duration": 1383,
    "start_time": "2022-09-26T15:16:28.002Z"
   },
   {
    "duration": 70,
    "start_time": "2022-09-26T15:16:29.387Z"
   },
   {
    "duration": 16,
    "start_time": "2022-09-26T15:16:29.458Z"
   },
   {
    "duration": 7,
    "start_time": "2022-09-26T15:16:29.476Z"
   },
   {
    "duration": 11,
    "start_time": "2022-09-26T15:16:29.484Z"
   },
   {
    "duration": 9,
    "start_time": "2022-09-26T15:16:29.497Z"
   },
   {
    "duration": 674,
    "start_time": "2022-09-26T15:16:29.508Z"
   },
   {
    "duration": 299,
    "start_time": "2022-09-26T15:16:30.184Z"
   },
   {
    "duration": 3,
    "start_time": "2022-09-26T15:16:30.486Z"
   },
   {
    "duration": 76,
    "start_time": "2022-09-26T15:16:30.492Z"
   },
   {
    "duration": 21,
    "start_time": "2022-09-26T15:16:30.570Z"
   },
   {
    "duration": 21,
    "start_time": "2022-09-26T15:16:30.594Z"
   },
   {
    "duration": 34,
    "start_time": "2022-09-26T15:16:30.617Z"
   },
   {
    "duration": 42,
    "start_time": "2022-09-26T15:16:30.653Z"
   },
   {
    "duration": 18,
    "start_time": "2022-09-26T15:16:30.697Z"
   },
   {
    "duration": 258,
    "start_time": "2022-09-26T15:16:30.717Z"
   },
   {
    "duration": 8,
    "start_time": "2022-09-26T15:22:26.146Z"
   },
   {
    "duration": 1469,
    "start_time": "2022-09-26T17:59:41.032Z"
   },
   {
    "duration": 155,
    "start_time": "2022-09-26T17:59:42.503Z"
   },
   {
    "duration": 16,
    "start_time": "2022-09-26T17:59:42.660Z"
   },
   {
    "duration": 7,
    "start_time": "2022-09-26T17:59:42.678Z"
   },
   {
    "duration": 9,
    "start_time": "2022-09-26T17:59:42.688Z"
   },
   {
    "duration": 9,
    "start_time": "2022-09-26T17:59:42.699Z"
   },
   {
    "duration": 627,
    "start_time": "2022-09-26T17:59:42.710Z"
   },
   {
    "duration": 279,
    "start_time": "2022-09-26T17:59:43.338Z"
   },
   {
    "duration": 16,
    "start_time": "2022-09-26T17:59:43.619Z"
   },
   {
    "duration": 3,
    "start_time": "2022-09-26T17:59:43.636Z"
   },
   {
    "duration": 8,
    "start_time": "2022-09-26T17:59:43.641Z"
   },
   {
    "duration": 4,
    "start_time": "2022-09-26T17:59:43.651Z"
   },
   {
    "duration": 99,
    "start_time": "2022-09-26T18:04:38.342Z"
   },
   {
    "duration": 339,
    "start_time": "2022-09-26T18:04:43.062Z"
   },
   {
    "duration": 4,
    "start_time": "2022-09-26T18:05:53.958Z"
   },
   {
    "duration": 577,
    "start_time": "2022-09-26T18:05:55.847Z"
   },
   {
    "duration": 1657,
    "start_time": "2022-09-26T18:06:05.453Z"
   },
   {
    "duration": 1480,
    "start_time": "2022-09-27T07:13:05.431Z"
   },
   {
    "duration": 152,
    "start_time": "2022-09-27T07:13:06.913Z"
   },
   {
    "duration": 17,
    "start_time": "2022-09-27T07:13:07.066Z"
   },
   {
    "duration": 20,
    "start_time": "2022-09-27T07:13:07.085Z"
   },
   {
    "duration": 25,
    "start_time": "2022-09-27T07:13:07.106Z"
   },
   {
    "duration": 18,
    "start_time": "2022-09-27T07:13:07.132Z"
   },
   {
    "duration": 602,
    "start_time": "2022-09-27T07:13:07.152Z"
   },
   {
    "duration": 276,
    "start_time": "2022-09-27T07:13:07.756Z"
   },
   {
    "duration": 14,
    "start_time": "2022-09-27T07:13:08.033Z"
   },
   {
    "duration": 18,
    "start_time": "2022-09-27T07:13:08.048Z"
   },
   {
    "duration": 20,
    "start_time": "2022-09-27T07:13:08.067Z"
   },
   {
    "duration": 102,
    "start_time": "2022-09-27T07:13:14.861Z"
   },
   {
    "duration": 4,
    "start_time": "2022-09-27T07:13:38.255Z"
   },
   {
    "duration": 1561,
    "start_time": "2022-09-27T07:13:39.983Z"
   },
   {
    "duration": 2553,
    "start_time": "2022-09-27T07:14:31.578Z"
   },
   {
    "duration": 2806,
    "start_time": "2022-09-27T07:14:52.360Z"
   },
   {
    "duration": 2810,
    "start_time": "2022-09-27T07:15:06.315Z"
   },
   {
    "duration": 1364,
    "start_time": "2022-09-27T07:15:25.298Z"
   },
   {
    "duration": 69,
    "start_time": "2022-09-27T07:15:26.664Z"
   },
   {
    "duration": 15,
    "start_time": "2022-09-27T07:15:26.735Z"
   },
   {
    "duration": 6,
    "start_time": "2022-09-27T07:15:26.752Z"
   },
   {
    "duration": 10,
    "start_time": "2022-09-27T07:15:26.759Z"
   },
   {
    "duration": 8,
    "start_time": "2022-09-27T07:15:26.770Z"
   },
   {
    "duration": 596,
    "start_time": "2022-09-27T07:15:26.779Z"
   },
   {
    "duration": 263,
    "start_time": "2022-09-27T07:15:27.376Z"
   },
   {
    "duration": 13,
    "start_time": "2022-09-27T07:15:27.641Z"
   },
   {
    "duration": 2,
    "start_time": "2022-09-27T07:15:27.656Z"
   },
   {
    "duration": 9,
    "start_time": "2022-09-27T07:15:27.660Z"
   },
   {
    "duration": 1561,
    "start_time": "2022-09-27T07:15:27.670Z"
   },
   {
    "duration": 278,
    "start_time": "2022-09-27T07:15:29.232Z"
   },
   {
    "duration": 2371,
    "start_time": "2022-09-27T07:16:50.453Z"
   },
   {
    "duration": 1288,
    "start_time": "2022-09-27T07:16:59.535Z"
   },
   {
    "duration": 57,
    "start_time": "2022-09-27T07:17:00.825Z"
   },
   {
    "duration": 15,
    "start_time": "2022-09-27T07:17:00.884Z"
   },
   {
    "duration": 6,
    "start_time": "2022-09-27T07:17:00.901Z"
   },
   {
    "duration": 11,
    "start_time": "2022-09-27T07:17:00.909Z"
   },
   {
    "duration": 15,
    "start_time": "2022-09-27T07:17:00.922Z"
   },
   {
    "duration": 618,
    "start_time": "2022-09-27T07:17:00.939Z"
   },
   {
    "duration": 275,
    "start_time": "2022-09-27T07:17:01.558Z"
   },
   {
    "duration": 16,
    "start_time": "2022-09-27T07:17:01.835Z"
   },
   {
    "duration": 2,
    "start_time": "2022-09-27T07:17:01.853Z"
   },
   {
    "duration": 27,
    "start_time": "2022-09-27T07:17:01.857Z"
   },
   {
    "duration": 1336,
    "start_time": "2022-09-27T07:17:01.887Z"
   },
   {
    "duration": 263,
    "start_time": "2022-09-27T07:17:03.225Z"
   },
   {
    "duration": 2095,
    "start_time": "2022-09-27T07:17:19.529Z"
   },
   {
    "duration": 2475,
    "start_time": "2022-09-27T07:18:01.264Z"
   },
   {
    "duration": 2530,
    "start_time": "2022-09-27T07:18:10.106Z"
   },
   {
    "duration": 1358,
    "start_time": "2022-09-27T07:18:29.507Z"
   },
   {
    "duration": 66,
    "start_time": "2022-09-27T07:18:30.867Z"
   },
   {
    "duration": 16,
    "start_time": "2022-09-27T07:18:30.935Z"
   },
   {
    "duration": 17,
    "start_time": "2022-09-27T07:18:30.953Z"
   },
   {
    "duration": 26,
    "start_time": "2022-09-27T07:18:30.971Z"
   },
   {
    "duration": 18,
    "start_time": "2022-09-27T07:18:30.999Z"
   },
   {
    "duration": 639,
    "start_time": "2022-09-27T07:18:31.018Z"
   },
   {
    "duration": 264,
    "start_time": "2022-09-27T07:18:31.659Z"
   },
   {
    "duration": 14,
    "start_time": "2022-09-27T07:18:31.924Z"
   },
   {
    "duration": 10,
    "start_time": "2022-09-27T07:18:31.940Z"
   },
   {
    "duration": 32,
    "start_time": "2022-09-27T07:18:31.951Z"
   },
   {
    "duration": 1558,
    "start_time": "2022-09-27T07:18:31.985Z"
   },
   {
    "duration": 249,
    "start_time": "2022-09-27T07:18:33.622Z"
   },
   {
    "duration": 109,
    "start_time": "2022-09-27T07:20:14.028Z"
   },
   {
    "duration": 26,
    "start_time": "2022-09-27T07:20:38.444Z"
   },
   {
    "duration": 28,
    "start_time": "2022-09-27T07:20:47.352Z"
   },
   {
    "duration": 23,
    "start_time": "2022-09-27T07:21:08.298Z"
   },
   {
    "duration": 2707,
    "start_time": "2022-09-27T07:22:04.926Z"
   },
   {
    "duration": 1286,
    "start_time": "2022-09-27T07:22:20.541Z"
   },
   {
    "duration": 61,
    "start_time": "2022-09-27T07:22:21.828Z"
   },
   {
    "duration": 17,
    "start_time": "2022-09-27T07:22:21.891Z"
   },
   {
    "duration": 7,
    "start_time": "2022-09-27T07:22:21.910Z"
   },
   {
    "duration": 10,
    "start_time": "2022-09-27T07:22:21.918Z"
   },
   {
    "duration": 9,
    "start_time": "2022-09-27T07:22:21.929Z"
   },
   {
    "duration": 582,
    "start_time": "2022-09-27T07:22:21.939Z"
   },
   {
    "duration": 260,
    "start_time": "2022-09-27T07:22:22.523Z"
   },
   {
    "duration": 15,
    "start_time": "2022-09-27T07:22:22.785Z"
   },
   {
    "duration": 2,
    "start_time": "2022-09-27T07:22:22.803Z"
   },
   {
    "duration": 17,
    "start_time": "2022-09-27T07:22:22.807Z"
   },
   {
    "duration": 1307,
    "start_time": "2022-09-27T07:22:22.826Z"
   },
   {
    "duration": 323,
    "start_time": "2022-09-27T07:22:24.134Z"
   },
   {
    "duration": 3006,
    "start_time": "2022-09-27T07:22:52.615Z"
   },
   {
    "duration": 1245,
    "start_time": "2022-09-27T07:23:04.049Z"
   },
   {
    "duration": 58,
    "start_time": "2022-09-27T07:23:05.296Z"
   },
   {
    "duration": 16,
    "start_time": "2022-09-27T07:23:05.355Z"
   },
   {
    "duration": 7,
    "start_time": "2022-09-27T07:23:05.373Z"
   },
   {
    "duration": 10,
    "start_time": "2022-09-27T07:23:05.381Z"
   },
   {
    "duration": 32,
    "start_time": "2022-09-27T07:23:05.393Z"
   },
   {
    "duration": 590,
    "start_time": "2022-09-27T07:23:05.427Z"
   },
   {
    "duration": 298,
    "start_time": "2022-09-27T07:23:06.019Z"
   },
   {
    "duration": 18,
    "start_time": "2022-09-27T07:23:06.318Z"
   },
   {
    "duration": 3,
    "start_time": "2022-09-27T07:23:06.337Z"
   },
   {
    "duration": 5,
    "start_time": "2022-09-27T07:23:06.341Z"
   },
   {
    "duration": 1776,
    "start_time": "2022-09-27T07:23:06.347Z"
   },
   {
    "duration": 241,
    "start_time": "2022-09-27T07:23:08.125Z"
   },
   {
    "duration": 24,
    "start_time": "2022-09-27T07:24:35.497Z"
   },
   {
    "duration": 104,
    "start_time": "2022-09-27T07:30:01.421Z"
   },
   {
    "duration": 103,
    "start_time": "2022-09-27T07:30:05.598Z"
   },
   {
    "duration": 8,
    "start_time": "2022-09-27T07:30:08.448Z"
   },
   {
    "duration": 1239,
    "start_time": "2022-09-27T07:30:18.272Z"
   },
   {
    "duration": 57,
    "start_time": "2022-09-27T07:30:19.513Z"
   },
   {
    "duration": 16,
    "start_time": "2022-09-27T07:30:19.573Z"
   },
   {
    "duration": 7,
    "start_time": "2022-09-27T07:30:19.591Z"
   },
   {
    "duration": 10,
    "start_time": "2022-09-27T07:30:19.599Z"
   },
   {
    "duration": 17,
    "start_time": "2022-09-27T07:30:19.610Z"
   },
   {
    "duration": 578,
    "start_time": "2022-09-27T07:30:19.629Z"
   },
   {
    "duration": 255,
    "start_time": "2022-09-27T07:30:20.208Z"
   },
   {
    "duration": 13,
    "start_time": "2022-09-27T07:30:20.465Z"
   },
   {
    "duration": 2,
    "start_time": "2022-09-27T07:30:20.479Z"
   },
   {
    "duration": 8,
    "start_time": "2022-09-27T07:30:20.482Z"
   },
   {
    "duration": 94,
    "start_time": "2022-09-27T07:30:20.492Z"
   },
   {
    "duration": 0,
    "start_time": "2022-09-27T07:30:20.587Z"
   },
   {
    "duration": 0,
    "start_time": "2022-09-27T07:30:20.588Z"
   },
   {
    "duration": 1800,
    "start_time": "2022-09-27T07:30:25.527Z"
   },
   {
    "duration": 3,
    "start_time": "2022-09-27T07:30:30.486Z"
   },
   {
    "duration": 86,
    "start_time": "2022-09-27T07:33:38.306Z"
   },
   {
    "duration": 17,
    "start_time": "2022-09-27T07:34:01.523Z"
   },
   {
    "duration": 28,
    "start_time": "2022-09-27T07:34:10.443Z"
   },
   {
    "duration": 117,
    "start_time": "2022-09-27T08:10:17.958Z"
   },
   {
    "duration": 27,
    "start_time": "2022-09-27T08:10:31.888Z"
   },
   {
    "duration": 507,
    "start_time": "2022-09-27T08:10:44.033Z"
   },
   {
    "duration": 27,
    "start_time": "2022-09-27T08:14:07.067Z"
   },
   {
    "duration": 521,
    "start_time": "2022-09-27T08:14:16.695Z"
   },
   {
    "duration": 525,
    "start_time": "2022-09-27T08:14:33.320Z"
   },
   {
    "duration": 545,
    "start_time": "2022-09-27T08:32:05.576Z"
   },
   {
    "duration": 352,
    "start_time": "2022-09-27T08:33:34.750Z"
   },
   {
    "duration": 324,
    "start_time": "2022-09-27T08:34:09.257Z"
   },
   {
    "duration": 10,
    "start_time": "2022-09-27T08:34:43.461Z"
   },
   {
    "duration": 1429,
    "start_time": "2022-09-27T08:34:54.891Z"
   },
   {
    "duration": 59,
    "start_time": "2022-09-27T08:34:56.323Z"
   },
   {
    "duration": 16,
    "start_time": "2022-09-27T08:34:56.384Z"
   },
   {
    "duration": 7,
    "start_time": "2022-09-27T08:34:56.402Z"
   },
   {
    "duration": 11,
    "start_time": "2022-09-27T08:34:56.410Z"
   },
   {
    "duration": 9,
    "start_time": "2022-09-27T08:34:56.423Z"
   },
   {
    "duration": 590,
    "start_time": "2022-09-27T08:34:56.434Z"
   },
   {
    "duration": 267,
    "start_time": "2022-09-27T08:34:57.026Z"
   },
   {
    "duration": 14,
    "start_time": "2022-09-27T08:34:57.295Z"
   },
   {
    "duration": 2,
    "start_time": "2022-09-27T08:34:57.321Z"
   },
   {
    "duration": 8,
    "start_time": "2022-09-27T08:34:57.325Z"
   },
   {
    "duration": 108,
    "start_time": "2022-09-27T08:34:57.334Z"
   },
   {
    "duration": 0,
    "start_time": "2022-09-27T08:34:57.444Z"
   },
   {
    "duration": 0,
    "start_time": "2022-09-27T08:34:57.445Z"
   },
   {
    "duration": 0,
    "start_time": "2022-09-27T08:34:57.446Z"
   },
   {
    "duration": 0,
    "start_time": "2022-09-27T08:34:57.447Z"
   },
   {
    "duration": 11,
    "start_time": "2022-09-27T08:35:51.766Z"
   },
   {
    "duration": 11,
    "start_time": "2022-09-27T08:36:04.459Z"
   },
   {
    "duration": 14,
    "start_time": "2022-09-27T08:36:12.667Z"
   },
   {
    "duration": 10,
    "start_time": "2022-09-27T08:36:37.760Z"
   },
   {
    "duration": 1771,
    "start_time": "2022-09-27T08:36:53.363Z"
   },
   {
    "duration": 24,
    "start_time": "2022-09-27T08:36:59.332Z"
   },
   {
    "duration": 3532,
    "start_time": "2022-09-27T08:37:05.504Z"
   },
   {
    "duration": 15,
    "start_time": "2022-09-27T08:37:11.911Z"
   },
   {
    "duration": 9,
    "start_time": "2022-09-27T08:38:29.392Z"
   },
   {
    "duration": 9,
    "start_time": "2022-09-27T08:38:50.230Z"
   },
   {
    "duration": 3017,
    "start_time": "2022-09-27T08:39:21.711Z"
   },
   {
    "duration": 20,
    "start_time": "2022-09-27T08:40:14.675Z"
   },
   {
    "duration": 7013,
    "start_time": "2022-09-27T08:41:22.410Z"
   },
   {
    "duration": 107,
    "start_time": "2022-09-27T08:41:29.429Z"
   },
   {
    "duration": 1413,
    "start_time": "2022-09-27T08:41:38.475Z"
   },
   {
    "duration": 61,
    "start_time": "2022-09-27T08:41:39.890Z"
   },
   {
    "duration": 17,
    "start_time": "2022-09-27T08:41:39.953Z"
   },
   {
    "duration": 8,
    "start_time": "2022-09-27T08:41:39.972Z"
   },
   {
    "duration": 14,
    "start_time": "2022-09-27T08:41:39.982Z"
   },
   {
    "duration": 32,
    "start_time": "2022-09-27T08:41:39.997Z"
   },
   {
    "duration": 591,
    "start_time": "2022-09-27T08:41:40.031Z"
   },
   {
    "duration": 263,
    "start_time": "2022-09-27T08:41:40.624Z"
   },
   {
    "duration": 16,
    "start_time": "2022-09-27T08:41:40.889Z"
   },
   {
    "duration": 15,
    "start_time": "2022-09-27T08:41:40.907Z"
   },
   {
    "duration": 11,
    "start_time": "2022-09-27T08:41:40.923Z"
   },
   {
    "duration": 4187,
    "start_time": "2022-09-27T08:41:40.936Z"
   },
   {
    "duration": 5,
    "start_time": "2022-09-27T08:41:45.124Z"
   },
   {
    "duration": 22,
    "start_time": "2022-09-27T08:41:45.222Z"
   },
   {
    "duration": 335,
    "start_time": "2022-09-27T08:41:45.246Z"
   },
   {
    "duration": 5597,
    "start_time": "2022-09-27T08:42:40.036Z"
   },
   {
    "duration": 4,
    "start_time": "2022-09-27T08:42:48.155Z"
   },
   {
    "duration": 18,
    "start_time": "2022-09-27T08:42:52.633Z"
   },
   {
    "duration": 1314,
    "start_time": "2022-09-27T08:43:31.422Z"
   },
   {
    "duration": 57,
    "start_time": "2022-09-27T08:43:32.738Z"
   },
   {
    "duration": 16,
    "start_time": "2022-09-27T08:43:32.797Z"
   },
   {
    "duration": 7,
    "start_time": "2022-09-27T08:43:32.815Z"
   },
   {
    "duration": 14,
    "start_time": "2022-09-27T08:43:32.824Z"
   },
   {
    "duration": 10,
    "start_time": "2022-09-27T08:43:32.840Z"
   },
   {
    "duration": 589,
    "start_time": "2022-09-27T08:43:32.852Z"
   },
   {
    "duration": 273,
    "start_time": "2022-09-27T08:43:33.442Z"
   },
   {
    "duration": 16,
    "start_time": "2022-09-27T08:43:33.716Z"
   },
   {
    "duration": 3,
    "start_time": "2022-09-27T08:43:33.734Z"
   },
   {
    "duration": 12,
    "start_time": "2022-09-27T08:43:33.739Z"
   },
   {
    "duration": 7170,
    "start_time": "2022-09-27T08:43:33.753Z"
   },
   {
    "duration": 3,
    "start_time": "2022-09-27T08:43:40.924Z"
   },
   {
    "duration": 116,
    "start_time": "2022-09-27T08:43:40.929Z"
   },
   {
    "duration": 356,
    "start_time": "2022-09-27T08:43:41.048Z"
   },
   {
    "duration": 19,
    "start_time": "2022-09-27T08:44:47.145Z"
   },
   {
    "duration": 19,
    "start_time": "2022-09-27T08:45:45.512Z"
   },
   {
    "duration": 16024,
    "start_time": "2022-09-27T08:48:33.699Z"
   },
   {
    "duration": 4,
    "start_time": "2022-09-27T08:48:49.724Z"
   },
   {
    "duration": 15504,
    "start_time": "2022-09-27T08:49:04.019Z"
   },
   {
    "duration": 19319,
    "start_time": "2022-09-27T08:49:29.612Z"
   },
   {
    "duration": 1327,
    "start_time": "2022-09-27T08:50:01.949Z"
   },
   {
    "duration": 59,
    "start_time": "2022-09-27T08:50:03.278Z"
   },
   {
    "duration": 17,
    "start_time": "2022-09-27T08:50:03.339Z"
   },
   {
    "duration": 9,
    "start_time": "2022-09-27T08:50:03.358Z"
   },
   {
    "duration": 29,
    "start_time": "2022-09-27T08:50:03.369Z"
   },
   {
    "duration": 18,
    "start_time": "2022-09-27T08:50:03.399Z"
   },
   {
    "duration": 604,
    "start_time": "2022-09-27T08:50:03.418Z"
   },
   {
    "duration": 250,
    "start_time": "2022-09-27T08:50:04.023Z"
   },
   {
    "duration": 15,
    "start_time": "2022-09-27T08:50:04.274Z"
   },
   {
    "duration": 10,
    "start_time": "2022-09-27T08:50:04.291Z"
   },
   {
    "duration": 19,
    "start_time": "2022-09-27T08:50:04.303Z"
   },
   {
    "duration": 9007,
    "start_time": "2022-09-27T08:50:04.324Z"
   },
   {
    "duration": 3,
    "start_time": "2022-09-27T08:50:13.332Z"
   },
   {
    "duration": 22,
    "start_time": "2022-09-27T08:50:13.423Z"
   },
   {
    "duration": 354,
    "start_time": "2022-09-27T08:50:13.447Z"
   },
   {
    "duration": 1322,
    "start_time": "2022-09-27T08:50:58.792Z"
   },
   {
    "duration": 69,
    "start_time": "2022-09-27T08:51:00.115Z"
   },
   {
    "duration": 19,
    "start_time": "2022-09-27T08:51:00.186Z"
   },
   {
    "duration": 9,
    "start_time": "2022-09-27T08:51:00.207Z"
   },
   {
    "duration": 11,
    "start_time": "2022-09-27T08:51:00.217Z"
   },
   {
    "duration": 10,
    "start_time": "2022-09-27T08:51:00.230Z"
   },
   {
    "duration": 597,
    "start_time": "2022-09-27T08:51:00.241Z"
   },
   {
    "duration": 284,
    "start_time": "2022-09-27T08:51:00.841Z"
   },
   {
    "duration": 14,
    "start_time": "2022-09-27T08:51:01.127Z"
   },
   {
    "duration": 23,
    "start_time": "2022-09-27T08:51:01.143Z"
   },
   {
    "duration": 30,
    "start_time": "2022-09-27T08:51:01.167Z"
   },
   {
    "duration": 40829,
    "start_time": "2022-09-27T08:51:01.199Z"
   },
   {
    "duration": 4,
    "start_time": "2022-09-27T08:51:42.029Z"
   },
   {
    "duration": 97,
    "start_time": "2022-09-27T08:51:42.034Z"
   },
   {
    "duration": 445,
    "start_time": "2022-09-27T08:51:42.132Z"
   },
   {
    "duration": 211,
    "start_time": "2022-09-27T08:51:47.811Z"
   },
   {
    "duration": 376,
    "start_time": "2022-09-27T08:51:59.836Z"
   },
   {
    "duration": 31126,
    "start_time": "2022-09-27T08:53:14.498Z"
   },
   {
    "duration": 4,
    "start_time": "2022-09-27T08:53:48.572Z"
   },
   {
    "duration": 110,
    "start_time": "2022-09-27T08:53:50.512Z"
   },
   {
    "duration": 1259,
    "start_time": "2022-09-27T08:54:03.583Z"
   },
   {
    "duration": 59,
    "start_time": "2022-09-27T08:54:04.844Z"
   },
   {
    "duration": 17,
    "start_time": "2022-09-27T08:54:04.904Z"
   },
   {
    "duration": 9,
    "start_time": "2022-09-27T08:54:04.923Z"
   },
   {
    "duration": 9,
    "start_time": "2022-09-27T08:54:04.934Z"
   },
   {
    "duration": 15,
    "start_time": "2022-09-27T08:54:04.944Z"
   },
   {
    "duration": 594,
    "start_time": "2022-09-27T08:54:04.960Z"
   },
   {
    "duration": 281,
    "start_time": "2022-09-27T08:54:05.555Z"
   },
   {
    "duration": 14,
    "start_time": "2022-09-27T08:54:05.838Z"
   },
   {
    "duration": 3,
    "start_time": "2022-09-27T08:54:05.854Z"
   },
   {
    "duration": 12,
    "start_time": "2022-09-27T08:54:05.858Z"
   },
   {
    "duration": 21962,
    "start_time": "2022-09-27T08:54:05.871Z"
   },
   {
    "duration": 4,
    "start_time": "2022-09-27T08:54:27.834Z"
   },
   {
    "duration": 35,
    "start_time": "2022-09-27T08:54:27.840Z"
   },
   {
    "duration": 362,
    "start_time": "2022-09-27T08:54:27.923Z"
   },
   {
    "duration": 73,
    "start_time": "2022-09-27T08:54:49.452Z"
   },
   {
    "duration": 1418,
    "start_time": "2022-09-27T08:58:55.401Z"
   },
   {
    "duration": 60,
    "start_time": "2022-09-27T08:58:56.821Z"
   },
   {
    "duration": 16,
    "start_time": "2022-09-27T08:58:56.883Z"
   },
   {
    "duration": 7,
    "start_time": "2022-09-27T08:58:56.902Z"
   },
   {
    "duration": 17,
    "start_time": "2022-09-27T08:58:56.911Z"
   },
   {
    "duration": 10,
    "start_time": "2022-09-27T08:58:56.930Z"
   },
   {
    "duration": 615,
    "start_time": "2022-09-27T08:58:56.941Z"
   },
   {
    "duration": 269,
    "start_time": "2022-09-27T08:58:57.558Z"
   },
   {
    "duration": 15,
    "start_time": "2022-09-27T08:58:57.828Z"
   },
   {
    "duration": 3,
    "start_time": "2022-09-27T08:58:57.845Z"
   },
   {
    "duration": 13,
    "start_time": "2022-09-27T08:58:57.850Z"
   },
   {
    "duration": 35087,
    "start_time": "2022-09-27T08:58:57.865Z"
   },
   {
    "duration": 3,
    "start_time": "2022-09-27T08:59:32.953Z"
   },
   {
    "duration": 169,
    "start_time": "2022-09-27T08:59:32.957Z"
   },
   {
    "duration": 366,
    "start_time": "2022-09-27T08:59:33.128Z"
   },
   {
    "duration": 1347,
    "start_time": "2022-09-27T09:00:36.943Z"
   },
   {
    "duration": 60,
    "start_time": "2022-09-27T09:00:38.292Z"
   },
   {
    "duration": 18,
    "start_time": "2022-09-27T09:00:38.353Z"
   },
   {
    "duration": 7,
    "start_time": "2022-09-27T09:00:38.373Z"
   },
   {
    "duration": 10,
    "start_time": "2022-09-27T09:00:38.382Z"
   },
   {
    "duration": 28,
    "start_time": "2022-09-27T09:00:38.394Z"
   },
   {
    "duration": 616,
    "start_time": "2022-09-27T09:00:38.424Z"
   },
   {
    "duration": 298,
    "start_time": "2022-09-27T09:00:39.042Z"
   },
   {
    "duration": 16,
    "start_time": "2022-09-27T09:00:39.342Z"
   },
   {
    "duration": 4,
    "start_time": "2022-09-27T09:00:39.360Z"
   },
   {
    "duration": 13,
    "start_time": "2022-09-27T09:00:39.365Z"
   },
   {
    "duration": 996,
    "start_time": "2022-09-27T09:00:39.380Z"
   },
   {
    "duration": 0,
    "start_time": "2022-09-27T09:00:40.377Z"
   },
   {
    "duration": 0,
    "start_time": "2022-09-27T09:00:40.378Z"
   },
   {
    "duration": 0,
    "start_time": "2022-09-27T09:00:40.421Z"
   },
   {
    "duration": 31526,
    "start_time": "2022-09-27T09:01:15.004Z"
   },
   {
    "duration": 3,
    "start_time": "2022-09-27T09:01:50.989Z"
   },
   {
    "duration": 103,
    "start_time": "2022-09-27T09:01:52.425Z"
   },
   {
    "duration": 326,
    "start_time": "2022-09-27T09:01:54.666Z"
   },
   {
    "duration": 9,
    "start_time": "2022-09-27T09:02:57.007Z"
   },
   {
    "duration": 364,
    "start_time": "2022-09-27T09:03:12.648Z"
   },
   {
    "duration": 224,
    "start_time": "2022-09-27T09:05:58.799Z"
   },
   {
    "duration": 392,
    "start_time": "2022-09-27T09:06:00.704Z"
   },
   {
    "duration": 36,
    "start_time": "2022-09-27T09:07:06.617Z"
   },
   {
    "duration": 19,
    "start_time": "2022-09-27T09:07:15.213Z"
   },
   {
    "duration": 24,
    "start_time": "2022-09-27T09:09:37.346Z"
   },
   {
    "duration": 17,
    "start_time": "2022-09-27T09:09:53.728Z"
   },
   {
    "duration": 93,
    "start_time": "2022-09-27T09:09:59.518Z"
   },
   {
    "duration": 10,
    "start_time": "2022-09-27T09:10:19.152Z"
   },
   {
    "duration": 18,
    "start_time": "2022-09-27T09:10:25.128Z"
   },
   {
    "duration": 15,
    "start_time": "2022-09-27T09:14:31.010Z"
   },
   {
    "duration": 97,
    "start_time": "2022-09-27T09:15:33.124Z"
   },
   {
    "duration": 87,
    "start_time": "2022-09-27T09:16:27.819Z"
   },
   {
    "duration": 17,
    "start_time": "2022-09-27T09:16:30.779Z"
   },
   {
    "duration": 90,
    "start_time": "2022-09-27T09:17:02.460Z"
   },
   {
    "duration": 217,
    "start_time": "2022-09-27T09:20:05.564Z"
   },
   {
    "duration": 18,
    "start_time": "2022-09-27T09:20:22.759Z"
   },
   {
    "duration": 18,
    "start_time": "2022-09-27T09:20:57.223Z"
   },
   {
    "duration": 10,
    "start_time": "2022-09-27T09:23:06.439Z"
   },
   {
    "duration": 26,
    "start_time": "2022-09-27T09:23:23.301Z"
   },
   {
    "duration": 18,
    "start_time": "2022-09-27T09:23:30.361Z"
   },
   {
    "duration": 23,
    "start_time": "2022-09-27T09:24:10.634Z"
   },
   {
    "duration": 21,
    "start_time": "2022-09-27T09:24:25.279Z"
   },
   {
    "duration": 16,
    "start_time": "2022-09-27T09:24:29.046Z"
   },
   {
    "duration": 16,
    "start_time": "2022-09-27T09:24:36.412Z"
   },
   {
    "duration": 13,
    "start_time": "2022-09-27T09:24:53.903Z"
   },
   {
    "duration": 15,
    "start_time": "2022-09-27T09:25:02.141Z"
   },
   {
    "duration": 14,
    "start_time": "2022-09-27T09:25:05.894Z"
   },
   {
    "duration": 20,
    "start_time": "2022-09-27T09:25:36.393Z"
   },
   {
    "duration": 12,
    "start_time": "2022-09-27T09:25:47.890Z"
   },
   {
    "duration": 6,
    "start_time": "2022-09-27T09:26:43.063Z"
   },
   {
    "duration": 19,
    "start_time": "2022-09-27T09:27:39.824Z"
   },
   {
    "duration": 18,
    "start_time": "2022-09-27T09:28:04.616Z"
   },
   {
    "duration": 20,
    "start_time": "2022-09-27T09:28:39.016Z"
   },
   {
    "duration": 18,
    "start_time": "2022-09-27T09:29:00.477Z"
   },
   {
    "duration": 16,
    "start_time": "2022-09-27T09:29:03.500Z"
   },
   {
    "duration": 29583,
    "start_time": "2022-09-27T10:29:36.157Z"
   },
   {
    "duration": 1322,
    "start_time": "2022-09-27T10:51:59.097Z"
   },
   {
    "duration": 59,
    "start_time": "2022-09-27T10:52:00.422Z"
   },
   {
    "duration": 17,
    "start_time": "2022-09-27T10:52:00.483Z"
   },
   {
    "duration": 8,
    "start_time": "2022-09-27T10:52:00.502Z"
   },
   {
    "duration": 12,
    "start_time": "2022-09-27T10:52:00.512Z"
   },
   {
    "duration": 17,
    "start_time": "2022-09-27T10:52:00.526Z"
   },
   {
    "duration": 600,
    "start_time": "2022-09-27T10:52:00.544Z"
   },
   {
    "duration": 278,
    "start_time": "2022-09-27T10:52:01.145Z"
   },
   {
    "duration": 14,
    "start_time": "2022-09-27T10:52:01.425Z"
   },
   {
    "duration": 19,
    "start_time": "2022-09-27T10:52:01.441Z"
   },
   {
    "duration": 14,
    "start_time": "2022-09-27T10:52:01.461Z"
   },
   {
    "duration": 19363,
    "start_time": "2022-09-27T10:52:01.477Z"
   },
   {
    "duration": 3,
    "start_time": "2022-09-27T10:52:20.841Z"
   },
   {
    "duration": 396,
    "start_time": "2022-09-27T10:52:20.846Z"
   },
   {
    "duration": 182,
    "start_time": "2022-09-27T10:52:21.244Z"
   },
   {
    "duration": 359,
    "start_time": "2022-09-27T10:52:21.428Z"
   },
   {
    "duration": 13,
    "start_time": "2022-09-27T10:52:21.788Z"
   },
   {
    "duration": 48,
    "start_time": "2022-09-27T10:55:35.057Z"
   },
   {
    "duration": 0,
    "start_time": "2022-09-27T11:02:59.965Z"
   },
   {
    "duration": 176801,
    "start_time": "2022-09-27T11:03:46.919Z"
   },
   {
    "duration": 4,
    "start_time": "2022-09-27T11:07:32.386Z"
   },
   {
    "duration": 168852,
    "start_time": "2022-09-27T11:07:49.593Z"
   },
   {
    "duration": 4,
    "start_time": "2022-09-27T11:13:42.910Z"
   },
   {
    "duration": 316,
    "start_time": "2022-09-27T11:13:45.055Z"
   },
   {
    "duration": 244,
    "start_time": "2022-09-27T11:17:34.097Z"
   },
   {
    "duration": 252,
    "start_time": "2022-09-27T11:17:43.004Z"
   },
   {
    "duration": 73059,
    "start_time": "2022-09-27T11:18:31.755Z"
   },
   {
    "duration": 23,
    "start_time": "2022-09-27T11:19:57.918Z"
   },
   {
    "duration": 26513,
    "start_time": "2022-09-27T11:20:11.611Z"
   },
   {
    "duration": 4,
    "start_time": "2022-09-27T11:21:05.394Z"
   },
   {
    "duration": 26,
    "start_time": "2022-09-27T11:21:17.011Z"
   },
   {
    "duration": 27,
    "start_time": "2022-09-27T11:22:55.790Z"
   },
   {
    "duration": 5,
    "start_time": "2022-09-27T11:23:32.468Z"
   },
   {
    "duration": 36,
    "start_time": "2022-09-27T11:23:35.817Z"
   },
   {
    "duration": 1355,
    "start_time": "2022-09-27T11:24:28.147Z"
   },
   {
    "duration": 60,
    "start_time": "2022-09-27T11:24:29.505Z"
   },
   {
    "duration": 18,
    "start_time": "2022-09-27T11:24:29.568Z"
   },
   {
    "duration": 8,
    "start_time": "2022-09-27T11:24:29.588Z"
   },
   {
    "duration": 11,
    "start_time": "2022-09-27T11:24:29.597Z"
   },
   {
    "duration": 13,
    "start_time": "2022-09-27T11:24:29.622Z"
   },
   {
    "duration": 686,
    "start_time": "2022-09-27T11:24:29.637Z"
   },
   {
    "duration": 206,
    "start_time": "2022-09-27T11:24:30.325Z"
   },
   {
    "duration": 15,
    "start_time": "2022-09-27T11:24:30.532Z"
   },
   {
    "duration": 18,
    "start_time": "2022-09-27T11:24:30.549Z"
   },
   {
    "duration": 31,
    "start_time": "2022-09-27T11:24:30.568Z"
   },
   {
    "duration": 19926,
    "start_time": "2022-09-27T11:24:30.601Z"
   },
   {
    "duration": 90,
    "start_time": "2022-09-27T11:24:50.533Z"
   },
   {
    "duration": 121,
    "start_time": "2022-09-27T11:24:50.625Z"
   },
   {
    "duration": 0,
    "start_time": "2022-09-27T11:24:50.748Z"
   },
   {
    "duration": 0,
    "start_time": "2022-09-27T11:24:50.749Z"
   },
   {
    "duration": 0,
    "start_time": "2022-09-27T11:24:50.750Z"
   },
   {
    "duration": 0,
    "start_time": "2022-09-27T11:24:50.751Z"
   },
   {
    "duration": 0,
    "start_time": "2022-09-27T11:24:50.752Z"
   },
   {
    "duration": 26,
    "start_time": "2022-09-27T11:25:55.544Z"
   },
   {
    "duration": 3,
    "start_time": "2022-09-27T11:26:04.363Z"
   },
   {
    "duration": 20,
    "start_time": "2022-09-27T11:26:08.049Z"
   },
   {
    "duration": 28,
    "start_time": "2022-09-27T11:26:21.926Z"
   },
   {
    "duration": 27,
    "start_time": "2022-09-27T11:26:50.183Z"
   },
   {
    "duration": 1301,
    "start_time": "2022-09-27T11:27:00.362Z"
   },
   {
    "duration": 72,
    "start_time": "2022-09-27T11:27:01.666Z"
   },
   {
    "duration": 16,
    "start_time": "2022-09-27T11:27:01.740Z"
   },
   {
    "duration": 15,
    "start_time": "2022-09-27T11:27:01.758Z"
   },
   {
    "duration": 33,
    "start_time": "2022-09-27T11:27:01.775Z"
   },
   {
    "duration": 12,
    "start_time": "2022-09-27T11:27:01.810Z"
   },
   {
    "duration": 756,
    "start_time": "2022-09-27T11:27:01.824Z"
   },
   {
    "duration": 204,
    "start_time": "2022-09-27T11:27:02.581Z"
   },
   {
    "duration": 16,
    "start_time": "2022-09-27T11:27:02.787Z"
   },
   {
    "duration": 16,
    "start_time": "2022-09-27T11:27:02.805Z"
   },
   {
    "duration": 38,
    "start_time": "2022-09-27T11:27:02.823Z"
   },
   {
    "duration": 18268,
    "start_time": "2022-09-27T11:27:02.863Z"
   },
   {
    "duration": 4,
    "start_time": "2022-09-27T11:27:21.132Z"
   },
   {
    "duration": 169,
    "start_time": "2022-09-27T11:27:21.137Z"
   },
   {
    "duration": 0,
    "start_time": "2022-09-27T11:27:21.308Z"
   },
   {
    "duration": 0,
    "start_time": "2022-09-27T11:27:21.309Z"
   },
   {
    "duration": 0,
    "start_time": "2022-09-27T11:27:21.310Z"
   },
   {
    "duration": 0,
    "start_time": "2022-09-27T11:27:21.321Z"
   },
   {
    "duration": 0,
    "start_time": "2022-09-27T11:27:21.322Z"
   },
   {
    "duration": 1391,
    "start_time": "2022-09-27T11:36:12.910Z"
   },
   {
    "duration": 61,
    "start_time": "2022-09-27T11:36:14.302Z"
   },
   {
    "duration": 15,
    "start_time": "2022-09-27T11:36:14.364Z"
   },
   {
    "duration": 15,
    "start_time": "2022-09-27T11:36:14.380Z"
   },
   {
    "duration": 23,
    "start_time": "2022-09-27T11:36:14.396Z"
   },
   {
    "duration": 28,
    "start_time": "2022-09-27T11:36:14.420Z"
   },
   {
    "duration": 635,
    "start_time": "2022-09-27T11:36:14.450Z"
   },
   {
    "duration": 200,
    "start_time": "2022-09-27T11:36:15.087Z"
   },
   {
    "duration": 14,
    "start_time": "2022-09-27T11:36:15.288Z"
   },
   {
    "duration": 29,
    "start_time": "2022-09-27T11:36:15.303Z"
   },
   {
    "duration": 29,
    "start_time": "2022-09-27T11:36:15.333Z"
   },
   {
    "duration": 108,
    "start_time": "2022-09-27T11:36:21.213Z"
   },
   {
    "duration": 17765,
    "start_time": "2022-09-27T11:36:50.358Z"
   },
   {
    "duration": 3,
    "start_time": "2022-09-27T11:37:14.107Z"
   },
   {
    "duration": 540,
    "start_time": "2022-09-27T11:38:05.054Z"
   },
   {
    "duration": 459,
    "start_time": "2022-09-27T11:38:50.796Z"
   },
   {
    "duration": 176666,
    "start_time": "2022-09-27T11:39:33.541Z"
   },
   {
    "duration": 3,
    "start_time": "2022-09-27T11:44:48.067Z"
   },
   {
    "duration": 81,
    "start_time": "2022-09-27T11:44:49.575Z"
   },
   {
    "duration": 236,
    "start_time": "2022-09-27T11:44:55.524Z"
   },
   {
    "duration": 235,
    "start_time": "2022-09-27T11:45:40.022Z"
   },
   {
    "duration": 211,
    "start_time": "2022-09-27T11:45:49.742Z"
   },
   {
    "duration": 294,
    "start_time": "2022-09-27T11:46:03.879Z"
   },
   {
    "duration": 234,
    "start_time": "2022-09-27T11:46:44.039Z"
   },
   {
    "duration": 234,
    "start_time": "2022-09-27T11:47:26.629Z"
   },
   {
    "duration": 1392,
    "start_time": "2022-09-27T11:48:01.142Z"
   },
   {
    "duration": 59,
    "start_time": "2022-09-27T11:48:02.536Z"
   },
   {
    "duration": 26,
    "start_time": "2022-09-27T11:48:02.597Z"
   },
   {
    "duration": 27,
    "start_time": "2022-09-27T11:48:02.624Z"
   },
   {
    "duration": 40,
    "start_time": "2022-09-27T11:48:02.652Z"
   },
   {
    "duration": 48,
    "start_time": "2022-09-27T11:48:02.693Z"
   },
   {
    "duration": 703,
    "start_time": "2022-09-27T11:48:02.742Z"
   },
   {
    "duration": 211,
    "start_time": "2022-09-27T11:48:03.447Z"
   },
   {
    "duration": 14,
    "start_time": "2022-09-27T11:48:03.659Z"
   },
   {
    "duration": 9,
    "start_time": "2022-09-27T11:48:03.675Z"
   },
   {
    "duration": 44,
    "start_time": "2022-09-27T11:48:03.685Z"
   },
   {
    "duration": 16898,
    "start_time": "2022-09-27T11:48:03.730Z"
   },
   {
    "duration": 3,
    "start_time": "2022-09-27T11:48:20.630Z"
   },
   {
    "duration": 566,
    "start_time": "2022-09-27T11:48:20.635Z"
   },
   {
    "duration": 159305,
    "start_time": "2022-09-27T11:48:21.203Z"
   },
   {
    "duration": 3,
    "start_time": "2022-09-27T11:51:00.510Z"
   },
   {
    "duration": 254,
    "start_time": "2022-09-27T11:51:00.514Z"
   },
   {
    "duration": 113,
    "start_time": "2022-09-27T11:51:00.770Z"
   },
   {
    "duration": 0,
    "start_time": "2022-09-27T11:51:00.884Z"
   },
   {
    "duration": 7198,
    "start_time": "2022-09-27T12:16:55.335Z"
   },
   {
    "duration": 7271,
    "start_time": "2022-09-27T12:18:49.984Z"
   },
   {
    "duration": 135010,
    "start_time": "2022-09-27T12:19:14.154Z"
   },
   {
    "duration": 1494,
    "start_time": "2022-09-27T12:33:35.656Z"
   },
   {
    "duration": 63,
    "start_time": "2022-09-27T12:33:37.152Z"
   },
   {
    "duration": 18,
    "start_time": "2022-09-27T12:33:37.216Z"
   },
   {
    "duration": 8,
    "start_time": "2022-09-27T12:33:37.236Z"
   },
   {
    "duration": 11,
    "start_time": "2022-09-27T12:33:37.245Z"
   },
   {
    "duration": 10,
    "start_time": "2022-09-27T12:33:37.258Z"
   },
   {
    "duration": 746,
    "start_time": "2022-09-27T12:33:37.269Z"
   },
   {
    "duration": 216,
    "start_time": "2022-09-27T12:33:38.021Z"
   },
   {
    "duration": 15,
    "start_time": "2022-09-27T12:33:38.239Z"
   },
   {
    "duration": 5,
    "start_time": "2022-09-27T12:33:38.256Z"
   },
   {
    "duration": 12,
    "start_time": "2022-09-27T12:33:38.262Z"
   },
   {
    "duration": 18248,
    "start_time": "2022-09-27T12:33:38.275Z"
   },
   {
    "duration": 4,
    "start_time": "2022-09-27T12:33:56.524Z"
   },
   {
    "duration": 498,
    "start_time": "2022-09-27T12:33:56.529Z"
   },
   {
    "duration": 171124,
    "start_time": "2022-09-27T12:33:57.029Z"
   },
   {
    "duration": 3,
    "start_time": "2022-09-27T12:36:48.155Z"
   },
   {
    "duration": 265,
    "start_time": "2022-09-27T12:36:48.159Z"
   },
   {
    "duration": 139627,
    "start_time": "2022-09-27T12:36:48.425Z"
   },
   {
    "duration": 112,
    "start_time": "2022-09-27T12:39:08.054Z"
   },
   {
    "duration": 0,
    "start_time": "2022-09-27T12:39:08.168Z"
   },
   {
    "duration": 0,
    "start_time": "2022-09-27T12:59:23.937Z"
   },
   {
    "duration": 138812,
    "start_time": "2022-09-27T12:59:24.747Z"
   },
   {
    "duration": 1400,
    "start_time": "2022-09-27T13:09:50.491Z"
   },
   {
    "duration": 60,
    "start_time": "2022-09-27T13:09:51.893Z"
   },
   {
    "duration": 15,
    "start_time": "2022-09-27T13:09:51.954Z"
   },
   {
    "duration": 7,
    "start_time": "2022-09-27T13:09:51.971Z"
   },
   {
    "duration": 26,
    "start_time": "2022-09-27T13:09:51.979Z"
   },
   {
    "duration": 16,
    "start_time": "2022-09-27T13:09:52.007Z"
   },
   {
    "duration": 681,
    "start_time": "2022-09-27T13:09:52.025Z"
   },
   {
    "duration": 200,
    "start_time": "2022-09-27T13:09:52.708Z"
   },
   {
    "duration": 20,
    "start_time": "2022-09-27T13:09:52.910Z"
   },
   {
    "duration": 4,
    "start_time": "2022-09-27T13:09:52.932Z"
   },
   {
    "duration": 12,
    "start_time": "2022-09-27T13:09:52.937Z"
   },
   {
    "duration": 8763,
    "start_time": "2022-09-27T13:10:06.799Z"
   },
   {
    "duration": 4,
    "start_time": "2022-09-27T13:10:22.332Z"
   },
   {
    "duration": 499,
    "start_time": "2022-09-27T13:10:39.370Z"
   },
   {
    "duration": 412,
    "start_time": "2022-09-27T13:14:29.258Z"
   },
   {
    "duration": 4,
    "start_time": "2022-09-27T13:15:24.989Z"
   },
   {
    "duration": 8,
    "start_time": "2022-09-27T13:16:43.293Z"
   },
   {
    "duration": 113,
    "start_time": "2022-09-27T13:18:29.497Z"
   },
   {
    "duration": 28,
    "start_time": "2022-09-27T13:18:33.162Z"
   },
   {
    "duration": 1417,
    "start_time": "2022-09-27T13:18:55.825Z"
   },
   {
    "duration": 58,
    "start_time": "2022-09-27T13:18:57.245Z"
   },
   {
    "duration": 17,
    "start_time": "2022-09-27T13:18:57.305Z"
   },
   {
    "duration": 8,
    "start_time": "2022-09-27T13:18:57.325Z"
   },
   {
    "duration": 11,
    "start_time": "2022-09-27T13:18:57.334Z"
   },
   {
    "duration": 9,
    "start_time": "2022-09-27T13:18:57.346Z"
   },
   {
    "duration": 678,
    "start_time": "2022-09-27T13:18:57.358Z"
   },
   {
    "duration": 200,
    "start_time": "2022-09-27T13:18:58.037Z"
   },
   {
    "duration": 14,
    "start_time": "2022-09-27T13:18:58.239Z"
   },
   {
    "duration": 4,
    "start_time": "2022-09-27T13:18:58.256Z"
   },
   {
    "duration": 12,
    "start_time": "2022-09-27T13:18:58.261Z"
   },
   {
    "duration": 19950,
    "start_time": "2022-09-27T13:18:58.274Z"
   },
   {
    "duration": 3,
    "start_time": "2022-09-27T13:19:18.225Z"
   },
   {
    "duration": 490,
    "start_time": "2022-09-27T13:19:18.230Z"
   },
   {
    "duration": 162568,
    "start_time": "2022-09-27T13:19:18.722Z"
   },
   {
    "duration": 3,
    "start_time": "2022-09-27T13:22:01.292Z"
   },
   {
    "duration": 244,
    "start_time": "2022-09-27T13:22:01.296Z"
   },
   {
    "duration": 15509,
    "start_time": "2022-09-27T13:22:01.542Z"
   },
   {
    "duration": 4,
    "start_time": "2022-09-27T13:22:17.052Z"
   },
   {
    "duration": 517,
    "start_time": "2022-09-27T13:22:17.057Z"
   },
   {
    "duration": 106,
    "start_time": "2022-09-27T13:22:17.577Z"
   },
   {
    "duration": 0,
    "start_time": "2022-09-27T13:22:17.685Z"
   },
   {
    "duration": 18,
    "start_time": "2022-09-27T13:26:21.120Z"
   },
   {
    "duration": 19,
    "start_time": "2022-09-27T13:26:28.847Z"
   },
   {
    "duration": 52,
    "start_time": "2022-09-27T13:26:42.075Z"
   },
   {
    "duration": 6700,
    "start_time": "2022-09-27T13:28:34.558Z"
   },
   {
    "duration": 5933,
    "start_time": "2022-09-27T13:28:49.478Z"
   },
   {
    "duration": 9,
    "start_time": "2022-09-27T13:31:44.287Z"
   },
   {
    "duration": 10,
    "start_time": "2022-09-27T13:32:08.378Z"
   },
   {
    "duration": 16,
    "start_time": "2022-09-27T13:47:11.106Z"
   },
   {
    "duration": 36,
    "start_time": "2022-09-27T13:47:29.493Z"
   },
   {
    "duration": 1571,
    "start_time": "2022-09-28T07:02:30.585Z"
   },
   {
    "duration": 154,
    "start_time": "2022-09-28T07:02:32.159Z"
   },
   {
    "duration": 17,
    "start_time": "2022-09-28T07:02:32.314Z"
   },
   {
    "duration": 39,
    "start_time": "2022-09-28T07:02:32.333Z"
   },
   {
    "duration": 30,
    "start_time": "2022-09-28T07:02:32.373Z"
   },
   {
    "duration": 8,
    "start_time": "2022-09-28T07:02:32.405Z"
   },
   {
    "duration": 660,
    "start_time": "2022-09-28T07:02:32.414Z"
   },
   {
    "duration": 213,
    "start_time": "2022-09-28T07:02:33.076Z"
   },
   {
    "duration": 116,
    "start_time": "2022-09-28T07:02:37.079Z"
   },
   {
    "duration": 277,
    "start_time": "2022-09-28T07:02:48.247Z"
   },
   {
    "duration": 257,
    "start_time": "2022-09-28T07:05:31.188Z"
   },
   {
    "duration": 331,
    "start_time": "2022-09-28T07:05:42.108Z"
   },
   {
    "duration": 261,
    "start_time": "2022-09-28T07:05:57.415Z"
   },
   {
    "duration": 253,
    "start_time": "2022-09-28T07:06:12.110Z"
   },
   {
    "duration": 1538,
    "start_time": "2022-09-28T07:07:47.097Z"
   },
   {
    "duration": 1671,
    "start_time": "2022-09-28T07:07:56.903Z"
   },
   {
    "duration": 1666,
    "start_time": "2022-09-28T07:08:15.299Z"
   },
   {
    "duration": 193,
    "start_time": "2022-09-28T07:08:19.865Z"
   },
   {
    "duration": 193,
    "start_time": "2022-09-28T07:08:55.002Z"
   },
   {
    "duration": 189,
    "start_time": "2022-09-28T07:09:10.370Z"
   },
   {
    "duration": 723,
    "start_time": "2022-09-28T07:09:16.296Z"
   },
   {
    "duration": 125,
    "start_time": "2022-09-28T07:09:21.187Z"
   },
   {
    "duration": 156,
    "start_time": "2022-09-28T07:10:53.077Z"
   },
   {
    "duration": 254,
    "start_time": "2022-09-28T07:11:15.363Z"
   },
   {
    "duration": 158,
    "start_time": "2022-09-28T07:11:32.410Z"
   },
   {
    "duration": 175,
    "start_time": "2022-09-28T07:11:38.125Z"
   },
   {
    "duration": 138,
    "start_time": "2022-09-28T07:11:52.974Z"
   },
   {
    "duration": 119,
    "start_time": "2022-09-28T07:12:13.657Z"
   },
   {
    "duration": 18,
    "start_time": "2022-09-28T07:15:47.909Z"
   },
   {
    "duration": 13,
    "start_time": "2022-09-28T07:16:50.288Z"
   },
   {
    "duration": 5,
    "start_time": "2022-09-28T07:16:56.510Z"
   },
   {
    "duration": 21,
    "start_time": "2022-09-28T07:17:22.518Z"
   },
   {
    "duration": 18,
    "start_time": "2022-09-28T07:18:35.985Z"
   },
   {
    "duration": 3,
    "start_time": "2022-09-28T07:18:50.991Z"
   },
   {
    "duration": 80,
    "start_time": "2022-09-28T07:18:50.997Z"
   },
   {
    "duration": 17,
    "start_time": "2022-09-28T07:18:51.079Z"
   },
   {
    "duration": 25,
    "start_time": "2022-09-28T07:18:51.098Z"
   },
   {
    "duration": 9,
    "start_time": "2022-09-28T07:18:51.124Z"
   },
   {
    "duration": 24,
    "start_time": "2022-09-28T07:18:51.135Z"
   },
   {
    "duration": 590,
    "start_time": "2022-09-28T07:18:51.161Z"
   },
   {
    "duration": 220,
    "start_time": "2022-09-28T07:18:51.752Z"
   },
   {
    "duration": 410,
    "start_time": "2022-09-28T07:18:51.974Z"
   },
   {
    "duration": 148,
    "start_time": "2022-09-28T07:18:52.385Z"
   },
   {
    "duration": 15,
    "start_time": "2022-09-28T07:18:52.535Z"
   },
   {
    "duration": 8,
    "start_time": "2022-09-28T07:18:52.552Z"
   },
   {
    "duration": 16,
    "start_time": "2022-09-28T07:19:00.575Z"
   },
   {
    "duration": 19,
    "start_time": "2022-09-28T07:21:05.835Z"
   },
   {
    "duration": 16,
    "start_time": "2022-09-28T07:21:29.288Z"
   },
   {
    "duration": 14,
    "start_time": "2022-09-28T07:21:32.102Z"
   },
   {
    "duration": 105,
    "start_time": "2022-09-28T07:21:43.685Z"
   },
   {
    "duration": 187,
    "start_time": "2022-09-28T07:22:12.247Z"
   },
   {
    "duration": 188,
    "start_time": "2022-09-28T07:22:26.534Z"
   },
   {
    "duration": 5,
    "start_time": "2022-09-28T07:32:51.015Z"
   },
   {
    "duration": 10,
    "start_time": "2022-09-28T07:32:52.574Z"
   },
   {
    "duration": 1446,
    "start_time": "2022-09-28T07:33:19.953Z"
   },
   {
    "duration": 62,
    "start_time": "2022-09-28T07:33:21.401Z"
   },
   {
    "duration": 19,
    "start_time": "2022-09-28T07:33:21.465Z"
   },
   {
    "duration": 13,
    "start_time": "2022-09-28T07:33:21.487Z"
   },
   {
    "duration": 22,
    "start_time": "2022-09-28T07:33:21.501Z"
   },
   {
    "duration": 4,
    "start_time": "2022-09-28T07:33:21.524Z"
   },
   {
    "duration": 665,
    "start_time": "2022-09-28T07:33:21.529Z"
   },
   {
    "duration": 205,
    "start_time": "2022-09-28T07:33:22.195Z"
   },
   {
    "duration": 279,
    "start_time": "2022-09-28T07:33:22.401Z"
   },
   {
    "duration": 136,
    "start_time": "2022-09-28T07:33:22.683Z"
   },
   {
    "duration": 15,
    "start_time": "2022-09-28T07:33:22.821Z"
   },
   {
    "duration": 5,
    "start_time": "2022-09-28T07:33:22.838Z"
   },
   {
    "duration": 13,
    "start_time": "2022-09-28T07:33:22.844Z"
   },
   {
    "duration": 14169,
    "start_time": "2022-09-28T07:33:22.859Z"
   },
   {
    "duration": 4,
    "start_time": "2022-09-28T07:33:37.029Z"
   },
   {
    "duration": 595,
    "start_time": "2022-09-28T07:33:37.035Z"
   },
   {
    "duration": 314982,
    "start_time": "2022-09-28T07:33:37.632Z"
   },
   {
    "duration": 5,
    "start_time": "2022-09-28T07:38:52.617Z"
   },
   {
    "duration": 412,
    "start_time": "2022-09-28T07:38:52.624Z"
   },
   {
    "duration": 17460,
    "start_time": "2022-09-28T07:38:53.039Z"
   },
   {
    "duration": 4,
    "start_time": "2022-09-28T07:39:10.502Z"
   },
   {
    "duration": 798,
    "start_time": "2022-09-28T07:39:10.508Z"
   },
   {
    "duration": 57,
    "start_time": "2022-09-28T07:39:11.308Z"
   },
   {
    "duration": 230,
    "start_time": "2022-09-28T07:39:11.368Z"
   },
   {
    "duration": 0,
    "start_time": "2022-09-28T07:39:11.601Z"
   },
   {
    "duration": 0,
    "start_time": "2022-09-28T07:39:11.602Z"
   },
   {
    "duration": 0,
    "start_time": "2022-09-28T07:39:11.603Z"
   },
   {
    "duration": 20,
    "start_time": "2022-09-28T07:39:51.614Z"
   },
   {
    "duration": 66,
    "start_time": "2022-09-28T07:40:16.266Z"
   },
   {
    "duration": 556,
    "start_time": "2022-09-28T07:40:21.917Z"
   },
   {
    "duration": 6,
    "start_time": "2022-09-28T07:40:26.901Z"
   },
   {
    "duration": 8425,
    "start_time": "2022-09-28T07:40:28.975Z"
   },
   {
    "duration": 235,
    "start_time": "2022-09-28T07:41:00.129Z"
   },
   {
    "duration": 8,
    "start_time": "2022-09-28T08:08:06.243Z"
   },
   {
    "duration": 7741,
    "start_time": "2022-09-28T08:08:15.529Z"
   },
   {
    "duration": 188,
    "start_time": "2022-09-28T08:08:54.299Z"
   },
   {
    "duration": 5890,
    "start_time": "2022-09-28T08:13:30.191Z"
   },
   {
    "duration": 248,
    "start_time": "2022-09-28T08:14:55.986Z"
   },
   {
    "duration": 232,
    "start_time": "2022-09-28T08:15:03.754Z"
   },
   {
    "duration": 6611,
    "start_time": "2022-09-28T08:22:49.094Z"
   },
   {
    "duration": 1372,
    "start_time": "2022-09-28T08:28:30.322Z"
   },
   {
    "duration": 59,
    "start_time": "2022-09-28T08:28:31.696Z"
   },
   {
    "duration": 18,
    "start_time": "2022-09-28T08:28:31.757Z"
   },
   {
    "duration": 30,
    "start_time": "2022-09-28T08:28:31.777Z"
   },
   {
    "duration": 22,
    "start_time": "2022-09-28T08:28:31.809Z"
   },
   {
    "duration": 33,
    "start_time": "2022-09-28T08:28:31.833Z"
   },
   {
    "duration": 697,
    "start_time": "2022-09-28T08:28:31.868Z"
   },
   {
    "duration": 204,
    "start_time": "2022-09-28T08:28:32.566Z"
   },
   {
    "duration": 268,
    "start_time": "2022-09-28T08:28:32.772Z"
   },
   {
    "duration": 133,
    "start_time": "2022-09-28T08:28:33.043Z"
   },
   {
    "duration": 15,
    "start_time": "2022-09-28T08:28:33.178Z"
   },
   {
    "duration": 6,
    "start_time": "2022-09-28T08:28:33.194Z"
   },
   {
    "duration": 27,
    "start_time": "2022-09-28T08:28:33.201Z"
   },
   {
    "duration": 18997,
    "start_time": "2022-09-28T08:28:33.230Z"
   },
   {
    "duration": 3,
    "start_time": "2022-09-28T08:28:52.229Z"
   },
   {
    "duration": 527,
    "start_time": "2022-09-28T08:28:52.233Z"
   },
   {
    "duration": 166064,
    "start_time": "2022-09-28T08:28:52.761Z"
   },
   {
    "duration": 4,
    "start_time": "2022-09-28T08:31:38.826Z"
   },
   {
    "duration": 364,
    "start_time": "2022-09-28T08:31:38.832Z"
   },
   {
    "duration": 17235,
    "start_time": "2022-09-28T08:31:39.198Z"
   },
   {
    "duration": 3,
    "start_time": "2022-09-28T08:31:56.434Z"
   },
   {
    "duration": 506,
    "start_time": "2022-09-28T08:31:56.439Z"
   },
   {
    "duration": 6356,
    "start_time": "2022-09-28T08:31:56.947Z"
   },
   {
    "duration": 219,
    "start_time": "2022-09-28T08:32:03.305Z"
   },
   {
    "duration": 7,
    "start_time": "2022-09-28T08:32:03.526Z"
   },
   {
    "duration": 398,
    "start_time": "2022-09-28T08:32:03.535Z"
   },
   {
    "duration": 5,
    "start_time": "2022-09-28T08:32:03.935Z"
   },
   {
    "duration": 6325,
    "start_time": "2022-09-28T08:32:03.943Z"
   },
   {
    "duration": 199,
    "start_time": "2022-09-28T08:32:10.270Z"
   },
   {
    "duration": 1821,
    "start_time": "2022-09-28T09:24:33.241Z"
   },
   {
    "duration": 77,
    "start_time": "2022-09-28T09:24:35.064Z"
   },
   {
    "duration": 18,
    "start_time": "2022-09-28T09:24:35.147Z"
   },
   {
    "duration": 12,
    "start_time": "2022-09-28T09:24:35.168Z"
   },
   {
    "duration": 41,
    "start_time": "2022-09-28T09:24:35.182Z"
   },
   {
    "duration": 29,
    "start_time": "2022-09-28T09:24:35.225Z"
   },
   {
    "duration": 805,
    "start_time": "2022-09-28T09:24:35.256Z"
   },
   {
    "duration": 264,
    "start_time": "2022-09-28T09:24:36.063Z"
   },
   {
    "duration": 340,
    "start_time": "2022-09-28T09:24:36.330Z"
   },
   {
    "duration": 196,
    "start_time": "2022-09-28T09:24:36.674Z"
   },
   {
    "duration": 12,
    "start_time": "2022-09-28T09:24:36.872Z"
   },
   {
    "duration": 5,
    "start_time": "2022-09-28T09:24:36.886Z"
   },
   {
    "duration": 39,
    "start_time": "2022-09-28T09:24:36.892Z"
   },
   {
    "duration": 3814,
    "start_time": "2022-09-28T09:24:36.938Z"
   },
   {
    "duration": 79,
    "start_time": "2022-09-28T09:24:40.755Z"
   },
   {
    "duration": 553,
    "start_time": "2022-09-28T09:24:40.836Z"
   },
   {
    "duration": 241552,
    "start_time": "2022-09-28T09:24:41.390Z"
   },
   {
    "duration": 4,
    "start_time": "2022-09-28T09:28:42.944Z"
   },
   {
    "duration": 394,
    "start_time": "2022-09-28T09:28:42.949Z"
   },
   {
    "duration": 16709,
    "start_time": "2022-09-28T09:28:43.345Z"
   },
   {
    "duration": 3,
    "start_time": "2022-09-28T09:29:00.056Z"
   },
   {
    "duration": 539,
    "start_time": "2022-09-28T09:29:00.061Z"
   },
   {
    "duration": 7478,
    "start_time": "2022-09-28T09:29:00.602Z"
   },
   {
    "duration": 218,
    "start_time": "2022-09-28T09:29:08.082Z"
   },
   {
    "duration": 8,
    "start_time": "2022-09-28T09:29:08.302Z"
   },
   {
    "duration": 395,
    "start_time": "2022-09-28T09:29:08.322Z"
   },
   {
    "duration": 9,
    "start_time": "2022-09-28T09:29:08.721Z"
   },
   {
    "duration": 7644,
    "start_time": "2022-09-28T09:29:08.737Z"
   },
   {
    "duration": 205,
    "start_time": "2022-09-28T09:29:16.382Z"
   },
   {
    "duration": 4,
    "start_time": "2022-09-28T09:44:21.038Z"
   },
   {
    "duration": 65,
    "start_time": "2022-09-28T09:44:21.044Z"
   },
   {
    "duration": 26,
    "start_time": "2022-09-28T09:44:21.111Z"
   },
   {
    "duration": 9,
    "start_time": "2022-09-28T09:44:21.138Z"
   },
   {
    "duration": 32,
    "start_time": "2022-09-28T09:44:21.149Z"
   },
   {
    "duration": 17,
    "start_time": "2022-09-28T09:44:21.183Z"
   },
   {
    "duration": 776,
    "start_time": "2022-09-28T09:44:23.058Z"
   },
   {
    "duration": 752,
    "start_time": "2022-09-28T09:44:32.796Z"
   },
   {
    "duration": 657,
    "start_time": "2022-09-28T09:44:47.083Z"
   },
   {
    "duration": 782,
    "start_time": "2022-09-28T09:44:51.462Z"
   },
   {
    "duration": 788,
    "start_time": "2022-09-28T09:45:02.052Z"
   },
   {
    "duration": 3,
    "start_time": "2022-09-28T09:57:39.874Z"
   },
   {
    "duration": 70,
    "start_time": "2022-09-28T09:57:39.881Z"
   },
   {
    "duration": 17,
    "start_time": "2022-09-28T09:57:39.952Z"
   },
   {
    "duration": 9,
    "start_time": "2022-09-28T09:57:39.971Z"
   },
   {
    "duration": 10,
    "start_time": "2022-09-28T09:57:39.982Z"
   },
   {
    "duration": 42,
    "start_time": "2022-09-28T09:57:39.993Z"
   },
   {
    "duration": 713,
    "start_time": "2022-09-28T09:57:40.036Z"
   },
   {
    "duration": 215,
    "start_time": "2022-09-28T09:57:40.750Z"
   },
   {
    "duration": 413,
    "start_time": "2022-09-28T09:57:40.968Z"
   },
   {
    "duration": 157,
    "start_time": "2022-09-28T09:57:41.382Z"
   },
   {
    "duration": 15,
    "start_time": "2022-09-28T09:57:41.542Z"
   },
   {
    "duration": 6,
    "start_time": "2022-09-28T09:57:41.559Z"
   },
   {
    "duration": 9,
    "start_time": "2022-09-28T09:57:43.657Z"
   },
   {
    "duration": 8111,
    "start_time": "2022-09-28T09:57:50.337Z"
   },
   {
    "duration": 3,
    "start_time": "2022-09-28T10:01:34.464Z"
   },
   {
    "duration": 140,
    "start_time": "2022-09-28T10:01:37.314Z"
   },
   {
    "duration": 15205,
    "start_time": "2022-09-28T10:01:46.656Z"
   },
   {
    "duration": 15774,
    "start_time": "2022-09-28T10:03:38.612Z"
   },
   {
    "duration": 20,
    "start_time": "2022-09-28T10:04:33.483Z"
   },
   {
    "duration": 14556,
    "start_time": "2022-09-28T10:04:49.717Z"
   }
  ],
  "kernelspec": {
   "display_name": "Python 3 (ipykernel)",
   "language": "python",
   "name": "python3"
  },
  "language_info": {
   "codemirror_mode": {
    "name": "ipython",
    "version": 3
   },
   "file_extension": ".py",
   "mimetype": "text/x-python",
   "name": "python",
   "nbconvert_exporter": "python",
   "pygments_lexer": "ipython3",
   "version": "3.9.5"
  },
  "toc": {
   "base_numbering": 1,
   "nav_menu": {},
   "number_sections": true,
   "sideBar": true,
   "skip_h1_title": true,
   "title_cell": "Содержание",
   "title_sidebar": "Contents",
   "toc_cell": true,
   "toc_position": {
    "height": "calc(100% - 180px)",
    "left": "10px",
    "top": "150px",
    "width": "165px"
   },
   "toc_section_display": true,
   "toc_window_display": true
  }
 },
 "nbformat": 4,
 "nbformat_minor": 2
}
