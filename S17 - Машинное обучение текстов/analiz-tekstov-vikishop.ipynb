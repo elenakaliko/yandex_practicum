{
 "cells": [
  {
   "cell_type": "markdown",
   "metadata": {
    "toc": true
   },
   "source": [
    "<h1>Содержание<span class=\"tocSkip\"></span></h1>\n",
    "<div class=\"toc\"><ul class=\"toc-item\"><li><span><a href=\"#Подготовка\" data-toc-modified-id=\"Подготовка-1\"><span class=\"toc-item-num\">1&nbsp;&nbsp;</span>Подготовка</a></span><ul class=\"toc-item\"><li><span><a href=\"#Загрузка-датасета-и-предобработка-данных\" data-toc-modified-id=\"Загрузка-датасета-и-предобработка-данных-1.1\"><span class=\"toc-item-num\">1.1&nbsp;&nbsp;</span>Загрузка датасета и предобработка данных</a></span></li><li><span><a href=\"#Подготовка-данных-для-формирования-признаков-для-обучения\" data-toc-modified-id=\"Подготовка-данных-для-формирования-признаков-для-обучения-1.2\"><span class=\"toc-item-num\">1.2&nbsp;&nbsp;</span>Подготовка данных для формирования признаков для обучения</a></span></li></ul></li><li><span><a href=\"#Обучение\" data-toc-modified-id=\"Обучение-2\"><span class=\"toc-item-num\">2&nbsp;&nbsp;</span>Обучение</a></span></li><li><span><a href=\"#Выводы\" data-toc-modified-id=\"Выводы-3\"><span class=\"toc-item-num\">3&nbsp;&nbsp;</span>Выводы</a></span></li><li><span><a href=\"#Чек-лист-проверки\" data-toc-modified-id=\"Чек-лист-проверки-4\"><span class=\"toc-item-num\">4&nbsp;&nbsp;</span>Чек-лист проверки</a></span></li></ul></div>"
   ]
  },
  {
   "cell_type": "markdown",
   "metadata": {},
   "source": [
    "# Проект для «Викишоп»"
   ]
  },
  {
   "cell_type": "markdown",
   "metadata": {},
   "source": [
    "Интернет-магазин «Викишоп» запускает новый сервис. Теперь пользователи могут редактировать и дополнять описания товаров, как в вики-сообществах. То есть клиенты предлагают свои правки и комментируют изменения других. Магазину нужен инструмент, который будет искать токсичные комментарии и отправлять их на модерацию. \n",
    "Мы обучим модель классифицировать комментарии на позитивные и негативные и проверим качество модели при помощи метрики качества *F1*. \n",
    "\n",
    "**Мы предпримем следующие шаги**\n",
    "\n",
    "1. Загрузим и подготовим данные: выполним лемматизацию и токенизацию, очистим массив текстов от стоп-слов.\n",
    "2. Разобьем выборку на трейновую и валидационную.\n",
    "3. Векторизуем тексты, чтобы создать набор признаков для модели.\n",
    "4. Обучим различные модели-классификаторы на трейновой выборке и посчитаем метрику F1 по каждой модели.  \n",
    "5. Сделаем предсказания на тестовой выборке и посчитаем метрику F1 на ней.\n",
    "\n"
   ]
  },
  {
   "cell_type": "markdown",
   "metadata": {},
   "source": [
    "## Подготовка"
   ]
  },
  {
   "cell_type": "code",
   "execution_count": 1,
   "metadata": {},
   "outputs": [],
   "source": [
    "import re\n",
    "import random\n",
    "import warnings\n",
    "import numpy as np\n",
    "import pandas as pd\n",
    "import seaborn as sns\n",
    "import matplotlib.pyplot as plt\n",
    "\n",
    "import nltk\n",
    "from nltk.stem import WordNetLemmatizer\n",
    "from nltk.corpus import wordnet, stopwords \n",
    "\n",
    "from sklearn.utils import shuffle\n",
    "from sklearn.metrics import f1_score\n",
    "from sklearn.metrics import roc_curve, auc\n",
    "from sklearn.metrics import roc_auc_score\n",
    "from sklearn.model_selection import GridSearchCV\n",
    "from sklearn.tree import DecisionTreeClassifier\n",
    "from sklearn.linear_model import LogisticRegression\n",
    "from sklearn.model_selection import cross_val_score, train_test_split, cross_val_predict\n",
    "from sklearn.feature_extraction.text import CountVectorizer, TfidfVectorizer \n",
    "from sklearn.ensemble import GradientBoostingClassifier, RandomForestClassifier"
   ]
  },
  {
   "cell_type": "markdown",
   "metadata": {},
   "source": [
    "### Загрузка датасета и предобработка данных"
   ]
  },
  {
   "cell_type": "code",
   "execution_count": 2,
   "metadata": {
    "scrolled": true
   },
   "outputs": [
    {
     "name": "stdout",
     "output_type": "stream",
     "text": [
      "<class 'pandas.core.frame.DataFrame'>\n",
      "RangeIndex: 159292 entries, 0 to 159291\n",
      "Data columns (total 3 columns):\n",
      " #   Column      Non-Null Count   Dtype \n",
      "---  ------      --------------   ----- \n",
      " 0   Unnamed: 0  159292 non-null  int64 \n",
      " 1   text        159292 non-null  object\n",
      " 2   toxic       159292 non-null  int64 \n",
      "dtypes: int64(2), object(1)\n",
      "memory usage: 3.6+ MB\n"
     ]
    }
   ],
   "source": [
    "data = pd.read_csv('/datasets/toxic_comments.csv')\n",
    "data.head()\n",
    "data.info()"
   ]
  },
  {
   "cell_type": "code",
   "execution_count": 3,
   "metadata": {},
   "outputs": [],
   "source": [
    "data = data.drop('Unnamed: 0', axis =1)"
   ]
  },
  {
   "cell_type": "markdown",
   "metadata": {},
   "source": [
    "Оценим баланс классов - это важно для того, чтобы модель умела одинаково хорошо предсказывать как положительный, так и отрицательный (нулевой) класс."
   ]
  },
  {
   "cell_type": "code",
   "execution_count": 4,
   "metadata": {},
   "outputs": [
    {
     "data": {
      "text/plain": [
       "0    143106\n",
       "1     16186\n",
       "Name: toxic, dtype: int64"
      ]
     },
     "execution_count": 4,
     "metadata": {},
     "output_type": "execute_result"
    }
   ],
   "source": [
    "data['toxic'].value_counts()"
   ]
  },
  {
   "cell_type": "code",
   "execution_count": 5,
   "metadata": {
    "scrolled": true
   },
   "outputs": [
    {
     "data": {
      "image/png": "[encoded data removed]",
      "text/plain": [
       "<Figure size 432x288 with 1 Axes>"
      ]
     },
     "metadata": {},
     "output_type": "display_data"
    }
   ],
   "source": [
    "data['toxic'].value_counts(normalize=True).plot(kind='pie', \n",
    "                                                legend=False, \n",
    "                                                autopct='%1.1f%%',\n",
    "                                                labels=['Класс [0]','Класс [1]'])\n",
    "plt.title('Баланс классов')\n",
    "plt.ylabel('')\n",
    "plt.show()"
   ]
  },
  {
   "cell_type": "markdown",
   "metadata": {},
   "source": [
    "Дисбаланс классов в сторону класса 0 в соотношении 9:1. Это может помешать модели правильно классифицировать классы с меньшим процентом. <br>\n",
    "Необходимо произвести балансировку классов. Поскольку у нас большая и \"тяжелая\" выборка, мы можем воспользоваться методом даунсемплинга, чтобы одновременно проредить класс 0 и снизить размерность датасета, чтобы модели было легче его обрабатывать. <br>\n",
    "Создадим функцию, которая производит балансировку, а после - применим ее на трейновой выборке."
   ]
  },
  {
   "cell_type": "code",
   "execution_count": 6,
   "metadata": {},
   "outputs": [],
   "source": [
    "def balancing_classes(features, target, frac):    \n",
    "    class_0 = target[target==0]\n",
    "    class_1 = target[target==1]\n",
    "    class_0_downsampled = class_0.sample(frac=frac, random_state=12345)\n",
    "    target_down = pd.concat([class_0_downsampled, class_1])\n",
    "    features_down = features[target_down.index]\n",
    "    target_down.value_counts(normalize=True).plot(kind='pie', \n",
    "                                                    legend=False, \n",
    "                                                    autopct='%1.1f%%',\n",
    "                                                    labels=['Класс [0]','Класс [1]'])\n",
    "    plt.title('Баланс классов')\n",
    "    plt.ylabel('');\n",
    "    print('Длина выборки:', features_down.shape[0])\n",
    "    return features_down, target_down"
   ]
  },
  {
   "cell_type": "markdown",
   "metadata": {},
   "source": [
    "### Подготовка данных для формирования признаков для обучения"
   ]
  },
  {
   "cell_type": "markdown",
   "metadata": {},
   "source": [
    "Нам необходимо подготовить признаки для их использования в модели. При прогнозировании тональности текста нам необходимо будет анализировать вектора слов, а для этого необходимо очистить и лемматизировать тексты. Создадим для этого функцию."
   ]
  },
  {
   "cell_type": "code",
   "execution_count": 7,
   "metadata": {},
   "outputs": [
    {
     "name": "stderr",
     "output_type": "stream",
     "text": [
      "[nltk_data] Downloading package averaged_perceptron_tagger to\n",
      "[nltk_data]     /home/jovyan/nltk_data...\n",
      "[nltk_data]   Package averaged_perceptron_tagger is already up-to-\n",
      "[nltk_data]       date!\n"
     ]
    }
   ],
   "source": [
    "nltk.download('averaged_perceptron_tagger')\n",
    "# функция создания pos тэгов\n",
    "def get_wordnet_pos(word):\n",
    "    tag = nltk.pos_tag([word])[0][1][0].upper()\n",
    "    tag_dict = {\"J\": wordnet.ADJ,\n",
    "                \"N\": wordnet.NOUN,\n",
    "                \"V\": wordnet.VERB,\n",
    "                \"R\": wordnet.ADV}\n",
    "    return tag_dict.get(tag, wordnet.NOUN)\n",
    "\n",
    "l = WordNetLemmatizer()\n",
    "# функция лемматизации и очистки текста\n",
    "def lemm_and_clear(corpus):\n",
    "    lemm_corpus = []\n",
    "    for w in nltk.word_tokenize(corpus):\n",
    "        lemm_corpus.append(l.lemmatize(w, get_wordnet_pos(w)))\n",
    "    text = \" \".join(lemm_corpus)\n",
    "    text = re.sub(r'[^a-zA-Z ]', ' ', text)\n",
    "    \n",
    "    return \" \".join(text.split())\n"
   ]
  },
  {
   "cell_type": "code",
   "execution_count": 8,
   "metadata": {},
   "outputs": [
    {
     "name": "stdout",
     "output_type": "stream",
     "text": [
      "CPU times: user 19min 22s, sys: 1min 56s, total: 21min 18s\n",
      "Wall time: 21min 19s\n"
     ]
    },
    {
     "data": {
      "text/html": [
       "<div>\n",
       "<style scoped>\n",
       "    .dataframe tbody tr th:only-of-type {\n",
       "        vertical-align: middle;\n",
       "    }\n",
       "\n",
       "    .dataframe tbody tr th {\n",
       "        vertical-align: top;\n",
       "    }\n",
       "\n",
       "    .dataframe thead th {\n",
       "        text-align: right;\n",
       "    }\n",
       "</style>\n",
       "<table border=\"1\" class=\"dataframe\">\n",
       "  <thead>\n",
       "    <tr style=\"text-align: right;\">\n",
       "      <th></th>\n",
       "      <th>text</th>\n",
       "      <th>toxic</th>\n",
       "      <th>lemm_clear_text</th>\n",
       "    </tr>\n",
       "  </thead>\n",
       "  <tbody>\n",
       "    <tr>\n",
       "      <th>0</th>\n",
       "      <td>Explanation\\nWhy the edits made under my usern...</td>\n",
       "      <td>0</td>\n",
       "      <td>Explanation Why the edits make under my userna...</td>\n",
       "    </tr>\n",
       "    <tr>\n",
       "      <th>1</th>\n",
       "      <td>D'aww! He matches this background colour I'm s...</td>\n",
       "      <td>0</td>\n",
       "      <td>D aww He match this background colour I m seem...</td>\n",
       "    </tr>\n",
       "    <tr>\n",
       "      <th>2</th>\n",
       "      <td>Hey man, I'm really not trying to edit war. It...</td>\n",
       "      <td>0</td>\n",
       "      <td>Hey man I m really not try to edit war It s ju...</td>\n",
       "    </tr>\n",
       "    <tr>\n",
       "      <th>3</th>\n",
       "      <td>\"\\nMore\\nI can't make any real suggestions on ...</td>\n",
       "      <td>0</td>\n",
       "      <td>More I ca n t make any real suggestion on impr...</td>\n",
       "    </tr>\n",
       "    <tr>\n",
       "      <th>4</th>\n",
       "      <td>You, sir, are my hero. Any chance you remember...</td>\n",
       "      <td>0</td>\n",
       "      <td>You sir be my hero Any chance you remember wha...</td>\n",
       "    </tr>\n",
       "  </tbody>\n",
       "</table>\n",
       "</div>"
      ],
      "text/plain": [
       "                                                text  toxic  \\\n",
       "0  Explanation\\nWhy the edits made under my usern...      0   \n",
       "1  D'aww! He matches this background colour I'm s...      0   \n",
       "2  Hey man, I'm really not trying to edit war. It...      0   \n",
       "3  \"\\nMore\\nI can't make any real suggestions on ...      0   \n",
       "4  You, sir, are my hero. Any chance you remember...      0   \n",
       "\n",
       "                                     lemm_clear_text  \n",
       "0  Explanation Why the edits make under my userna...  \n",
       "1  D aww He match this background colour I m seem...  \n",
       "2  Hey man I m really not try to edit war It s ju...  \n",
       "3  More I ca n t make any real suggestion on impr...  \n",
       "4  You sir be my hero Any chance you remember wha...  "
      ]
     },
     "execution_count": 8,
     "metadata": {},
     "output_type": "execute_result"
    }
   ],
   "source": [
    "%%time\n",
    "data['lemm_clear_text'] = data['text'].apply(lemm_and_clear)\n",
    "data.head()"
   ]
  },
  {
   "cell_type": "markdown",
   "metadata": {},
   "source": [
    "Для эффективного использования времени работы системы сделаем предобработку текстовых данных (лемматизацию, очистку и т.д.) уже на отбалансированных данных трейновой выборки, она в 8 раз меньше по размеру и обрабатывается быстрее. <br>\n",
    "Поэтому мы сразу разобьем выборку на трейновую, валидационную и тестовую, трейновую отбалансируем и после этого применим функцию очистки. Поскольку это еще не финальные признаки для модели, сохраним их в переменной *raw_features*."
   ]
  },
  {
   "cell_type": "code",
   "execution_count": 9,
   "metadata": {},
   "outputs": [
    {
     "name": "stdout",
     "output_type": "stream",
     "text": [
      "Длина выборки: 21564\n"
     ]
    },
    {
     "data": {
      "image/png": "[encoded data removed]",
      "text/plain": [
       "<Figure size 432x288 with 1 Axes>"
      ]
     },
     "metadata": {},
     "output_type": "display_data"
    }
   ],
   "source": [
    "raw_features = data['lemm_clear_text']\n",
    "target = data['toxic']\n",
    "raw_features_trainval, raw_features_test, target_trainval, target_test = train_test_split(raw_features, \n",
    "                                                                            target, \n",
    "                                                                            test_size = 0.25, \n",
    "                                                                            random_state = 12345)\n",
    "\n",
    "raw_features_train, raw_features_val, target_train, target_val = train_test_split(raw_features_trainval, \n",
    "                                                                                                target_trainval, \n",
    "                                                                                                test_size = 0.1, \n",
    "                                                                                                random_state = 12345)\n",
    "\n",
    "raw_features_train_down, target_train = balancing_classes(raw_features_train, target_train, 0.11)\n",
    "plt.show()\n"
   ]
  },
  {
   "cell_type": "code",
   "execution_count": 10,
   "metadata": {},
   "outputs": [],
   "source": [
    "raw_features_train_down = pd.DataFrame(data =raw_features_train_down, columns = ['lemm_clear_text'], index = raw_features_train_down.index)\n",
    "raw_features_val = pd.DataFrame(data =raw_features_val, columns = ['lemm_clear_text'], index = raw_features_val.index)\n",
    "raw_features_test = pd.DataFrame(data =raw_features_test, columns = ['lemm_clear_text'], index = raw_features_test.index)\n",
    "raw_features_trainval = pd.DataFrame(data =raw_features_trainval, columns = ['lemm_clear_text'], index = raw_features_trainval.index)"
   ]
  },
  {
   "cell_type": "markdown",
   "metadata": {},
   "source": [
    "Мы предобработали текстовый массив данных, так что он теперь готов к векторизации - созданию признаков для обучения моделей."
   ]
  },
  {
   "cell_type": "markdown",
   "metadata": {},
   "source": [
    "## Обучение"
   ]
  },
  {
   "cell_type": "markdown",
   "metadata": {},
   "source": [
    "Для того, чтобы создать признаки, мы произведем векторизацию данных, предварительно очистив корпус от стоп-слов, которые не несут для модели никакой смысловой нагрузки."
   ]
  },
  {
   "cell_type": "code",
   "execution_count": 13,
   "metadata": {},
   "outputs": [],
   "source": [
    "from nltk.tokenize import sent_tokenize, word_tokenize\n",
    "from nltk.corpus import stopwords\n",
    " \n",
    "\n",
    "stopWords = set(stopwords.words('english'))\n",
    "def stopwords_token(df):\n",
    "    words = word_tokenize(df)\n",
    "    wordsFiltered = []\n",
    "\n",
    "    for w in words:\n",
    "        if w not in stopWords:\n",
    "            wordsFiltered.append(w)\n",
    "    wordsFiltered = \" \".join(wordsFiltered)\n",
    "    return wordsFiltered\n",
    "\n",
    "raw_features_train_down['pure_text'] = raw_features_train_down['lemm_clear_text'].apply(stopwords_token)\n",
    "raw_features_val['pure_text'] = raw_features_val['lemm_clear_text'].apply(stopwords_token)\n",
    "raw_features_trainval['pure_text'] = raw_features_trainval['lemm_clear_text'].apply(stopwords_token)\n",
    "raw_features_test['pure_text'] = raw_features_test['lemm_clear_text'].apply(stopwords_token)"
   ]
  },
  {
   "cell_type": "code",
   "execution_count": 14,
   "metadata": {},
   "outputs": [
    {
     "name": "stderr",
     "output_type": "stream",
     "text": [
      "[nltk_data] Downloading package stopwords to /home/jovyan/nltk_data...\n",
      "[nltk_data]   Package stopwords is already up-to-date!\n"
     ]
    },
    {
     "data": {
      "text/plain": [
       "(39823, 44334)"
      ]
     },
     "execution_count": 14,
     "metadata": {},
     "output_type": "execute_result"
    }
   ],
   "source": [
    "nltk.download('stopwords')\n",
    "stop_words = set(stopwords.words('english'))\n",
    "\n",
    "count_tf_idf = TfidfVectorizer(stop_words=stop_words, analyzer='word') \n",
    "count_tf_idf.fit(raw_features_train_down['pure_text'])\n",
    "features_train = count_tf_idf.transform(raw_features_train_down['pure_text'])\n",
    "features_val = count_tf_idf.transform(raw_features_val['pure_text'])\n",
    "features_trainval = count_tf_idf.transform(raw_features_trainval['pure_text'])\n",
    "features_test = count_tf_idf.transform(raw_features_test['pure_text'])\n",
    "features_test.shape\n"
   ]
  },
  {
   "cell_type": "markdown",
   "metadata": {},
   "source": [
    "Мы сохранили векторизованные данные в переменную features, а целевой признак - столбец toxic - в переменную target.<br>\n",
    "Теперь все готово к обучению различных моделей. <br>\n",
    "Для референса создадим dummy модель, делающее рандомные предсказания класса, и проверим, какая у нее F1 мера. Наша цель - показатель метрики не менее 0,75."
   ]
  },
  {
   "cell_type": "code",
   "execution_count": 15,
   "metadata": {},
   "outputs": [
    {
     "name": "stdout",
     "output_type": "stream",
     "text": [
      "F1-мера на Dummy модели: 0.166\n"
     ]
    }
   ],
   "source": [
    "# Dummy model\n",
    "dummy_predict = np.random.randint(0, 2, target_test.shape[0])\n",
    "print('F1-мера на Dummy модели:', round(f1_score(target_test, dummy_predict), 3))"
   ]
  },
  {
   "cell_type": "markdown",
   "metadata": {},
   "source": [
    "Предсказуемо Dummy модель не дает высокий результат. Теперь обучим модели логистической регрессии, дерево и лес, а также градиентный бустер, и посмотрим, какие результаты дадут нам эти модели."
   ]
  },
  {
   "cell_type": "markdown",
   "metadata": {},
   "source": [
    "***Logistic regression***"
   ]
  },
  {
   "cell_type": "code",
   "execution_count": 16,
   "metadata": {},
   "outputs": [],
   "source": [
    "model_LOG = LogisticRegression()\n",
    "model_LOG.fit(features_train, target_train)\n",
    "predict_LOG = model_LOG.predict(features_val)\n",
    "f1_LOG = f1_score(target_val, predict_LOG)"
   ]
  },
  {
   "cell_type": "markdown",
   "metadata": {},
   "source": [
    "***Decision Tree***"
   ]
  },
  {
   "cell_type": "code",
   "execution_count": 17,
   "metadata": {},
   "outputs": [],
   "source": [
    "model_DT = DecisionTreeClassifier()\n",
    "model_DT.fit(features_train, target_train)\n",
    "predict_DT = model_DT.predict(features_val)\n",
    "f1_DT = f1_score(target_val, predict_DT)"
   ]
  },
  {
   "cell_type": "markdown",
   "metadata": {},
   "source": [
    "***Gradient Boosting***"
   ]
  },
  {
   "cell_type": "code",
   "execution_count": 18,
   "metadata": {},
   "outputs": [],
   "source": [
    "model_GBC = GradientBoostingClassifier()\n",
    "model_GBC.fit(features_train, target_train)\n",
    "predict_GBC = model_GBC.predict(features_val)\n",
    "f1_GBC = f1_score(target_val, predict_GBC)"
   ]
  },
  {
   "cell_type": "markdown",
   "metadata": {},
   "source": [
    "***Random Forest***"
   ]
  },
  {
   "cell_type": "code",
   "execution_count": 19,
   "metadata": {},
   "outputs": [],
   "source": [
    "model_RFC = RandomForestClassifier()\n",
    "model_RFC.fit(features_train, target_train)\n",
    "predict_RFC = model_RFC.predict(features_val)\n",
    "f1_RFC = f1_score(target_val, predict_RFC)"
   ]
  },
  {
   "cell_type": "markdown",
   "metadata": {},
   "source": [
    "Соберем все данные в таблицу и оценим результаты."
   ]
  },
  {
   "cell_type": "code",
   "execution_count": 20,
   "metadata": {
    "scrolled": true
   },
   "outputs": [
    {
     "data": {
      "text/html": [
       "<div>\n",
       "<style scoped>\n",
       "    .dataframe tbody tr th:only-of-type {\n",
       "        vertical-align: middle;\n",
       "    }\n",
       "\n",
       "    .dataframe tbody tr th {\n",
       "        vertical-align: top;\n",
       "    }\n",
       "\n",
       "    .dataframe thead th {\n",
       "        text-align: right;\n",
       "    }\n",
       "</style>\n",
       "<table border=\"1\" class=\"dataframe\">\n",
       "  <thead>\n",
       "    <tr style=\"text-align: right;\">\n",
       "      <th></th>\n",
       "      <th>F1</th>\n",
       "    </tr>\n",
       "  </thead>\n",
       "  <tbody>\n",
       "    <tr>\n",
       "      <th>Logistic Regression</th>\n",
       "      <td>0.656651</td>\n",
       "    </tr>\n",
       "    <tr>\n",
       "      <th>Decision Tree</th>\n",
       "      <td>0.482615</td>\n",
       "    </tr>\n",
       "    <tr>\n",
       "      <th>Random Forest</th>\n",
       "      <td>0.622889</td>\n",
       "    </tr>\n",
       "    <tr>\n",
       "      <th>Gradient Booster</th>\n",
       "      <td>0.651093</td>\n",
       "    </tr>\n",
       "  </tbody>\n",
       "</table>\n",
       "</div>"
      ],
      "text/plain": [
       "                           F1\n",
       "Logistic Regression  0.656651\n",
       "Decision Tree        0.482615\n",
       "Random Forest        0.622889\n",
       "Gradient Booster     0.651093"
      ]
     },
     "execution_count": 20,
     "metadata": {},
     "output_type": "execute_result"
    }
   ],
   "source": [
    "table = pd.DataFrame(index = ['Logistic Regression', 'Decision Tree', 'Random Forest', 'Gradient Booster'],\n",
    "                    columns = ['F1'])\n",
    "table.loc['Logistic Regression'] = f1_LOG\n",
    "table.loc['Decision Tree'] = f1_DT\n",
    "table.loc['Random Forest'] = f1_RFC\n",
    "table.loc['Gradient Booster'] = f1_GBC\n",
    "table"
   ]
  },
  {
   "cell_type": "markdown",
   "metadata": {},
   "source": [
    "Логистическая регрессия дала наилучший результат - 0,66. Это недостаточно, но лучше чем у остальных моделей. Проверим, какой результат она даст на тестовой выборке. <br>\n",
    "Обучим модель уже на полных данных трейновой и валидационной выборок."
   ]
  },
  {
   "cell_type": "code",
   "execution_count": 21,
   "metadata": {
    "scrolled": true
   },
   "outputs": [
    {
     "name": "stdout",
     "output_type": "stream",
     "text": [
      "F1-мера на тестовой выборке: 0.721\n"
     ]
    }
   ],
   "source": [
    "model_LOG.fit(features_trainval, target_trainval)\n",
    "print('F1-мера на тестовой выборке:', round(f1_score(target_test, model_LOG.predict(features_test)),3))"
   ]
  },
  {
   "cell_type": "markdown",
   "metadata": {},
   "source": [
    "Посмотрим на графике ROC-AUC, как распределяются правильные положительные ответы."
   ]
  },
  {
   "cell_type": "code",
   "execution_count": 22,
   "metadata": {},
   "outputs": [
    {
     "data": {
      "image/png": "[encoded data removed]",
      "text/plain": [
       "<Figure size 432x288 with 1 Axes>"
      ]
     },
     "metadata": {
      "needs_background": "light"
     },
     "output_type": "display_data"
    }
   ],
   "source": [
    "predict_probs = model_LOG.predict_proba(features_test)\n",
    "predict_probs = predict_probs[:, 1]\n",
    "lr_auc = roc_auc_score(target_test, predict_probs)\n",
    "fpr, tpr, treshold = roc_curve(target_test, predict_probs)\n",
    "roc_auc = auc(fpr, tpr)\n",
    "plt.plot(fpr, tpr, color='darkorange',\n",
    "         label='ROC кривая (area = %0.2f)' % roc_auc)\n",
    "plt.plot([0, 1], [0, 1], color='navy', linestyle='--')\n",
    "plt.xlim([0.0, 1.0])\n",
    "plt.ylim([0.0, 1.05])\n",
    "plt.xlabel('False Positive Rate')\n",
    "plt.ylabel('True Positive Rate')\n",
    "plt.title('ROC-кривая предсказаний модели')\n",
    "plt.legend(loc=\"lower right\")\n",
    "plt.show()"
   ]
  },
  {
   "cell_type": "code",
   "execution_count": 23,
   "metadata": {
    "scrolled": true
   },
   "outputs": [
    {
     "data": {
      "image/png": "[encoded data removed]",
      "text/plain": [
       "<Figure size 720x432 with 1 Axes>"
      ]
     },
     "metadata": {
      "needs_background": "light"
     },
     "output_type": "display_data"
    }
   ],
   "source": [
    "f1 = f1_score(target_test, model_LOG.predict(features_test))\n",
    "plt.figure(figsize=(10,6))\n",
    "target_test.plot(kind='kde', linewidth=2)\n",
    "pd.Series(model_LOG.predict(features_test)).plot(kind='kde', linewidth=2)\n",
    "plt.title('График распределения плотности предсказанных и истинных значений', y=1.01)\n",
    "plt.legend(['Истинные значения','Предсказанные значения'])\n",
    "plt.xlabel('')\n",
    "plt.ylabel('Плотность')\n",
    "plt.show()"
   ]
  },
  {
   "cell_type": "markdown",
   "metadata": {},
   "source": [
    "Мы видим на графике, что модель слишком \"оптимистична\" и плохо предсказывает класс 1, то есть больше твитов классифицирует как нетоксичные. Постараемся это исправить подбором гиперпараметров."
   ]
  },
  {
   "cell_type": "code",
   "execution_count": 25,
   "metadata": {},
   "outputs": [
    {
     "name": "stdout",
     "output_type": "stream",
     "text": [
      "Наилучший показатель метрики f1 0.660 достигается при С = 20 и кол-ве итераций = 15\n"
     ]
    }
   ],
   "source": [
    "warnings.filterwarnings('ignore')\n",
    "\n",
    "best_f1 = 0\n",
    "best_c = 0\n",
    "best_iter = 0\n",
    "for c in range(10, 21, 2):\n",
    "    for max_iter in range(1, 17, 2):\n",
    "        model = LogisticRegression(random_state=12345, solver='sag', C = c, max_iter = max_iter)\n",
    "        model.fit(features_train, target_train)\n",
    "        predict = model.predict(features_val)\n",
    "        f1 = f1_score(target_val, predict)\n",
    "        if f1> best_f1:\n",
    "            best_f1 = f1\n",
    "            best_c = c\n",
    "            best_iter = max_iter\n",
    "            \n",
    "print(f'Наилучший показатель метрики f1 {f1:.3f} достигается при С = {c} и кол-ве итераций = {max_iter}')"
   ]
  },
  {
   "cell_type": "markdown",
   "metadata": {},
   "source": [
    "Посмотрим, как работает такая модель на тестовой выборке."
   ]
  },
  {
   "cell_type": "code",
   "execution_count": 26,
   "metadata": {},
   "outputs": [
    {
     "name": "stdout",
     "output_type": "stream",
     "text": [
      "F1 на тестовой выборке с оптимальными гиперпараметрами:  0.773\n"
     ]
    }
   ],
   "source": [
    "model = LogisticRegression(random_state=12345, solver='sag', C = 20, max_iter = 15)\n",
    "model.fit(features_trainval, target_trainval)\n",
    "print(f'F1 на тестовой выборке с оптимальными гиперпараметрами: {f1_score(target_test, model.predict(features_test)) : .3f}')"
   ]
  },
  {
   "cell_type": "code",
   "execution_count": 27,
   "metadata": {},
   "outputs": [
    {
     "data": {
      "image/png": "[encoded data removed]",
      "text/plain": [
       "<Figure size 720x432 with 1 Axes>"
      ]
     },
     "metadata": {
      "needs_background": "light"
     },
     "output_type": "display_data"
    }
   ],
   "source": [
    "f1 = f1_score(target_test, model_LOG.predict(features_test))\n",
    "plt.figure(figsize=(10,6))\n",
    "target_test.plot(kind='kde', linewidth=2)\n",
    "pd.Series(model_LOG.predict(features_test)).plot(kind='kde', linewidth=2)\n",
    "plt.title('График распределения плотности предсказанных и истинных значений', y=1.01)\n",
    "plt.legend(['Истинные значения','Предсказанные значения'])\n",
    "plt.xlabel('')\n",
    "plt.ylabel('Плотность')\n",
    "plt.show()"
   ]
  },
  {
   "cell_type": "markdown",
   "metadata": {},
   "source": [
    "Модель по-прежнему плохо предсказывает класс 1, хотя показатель метрики даже выше, чем при валидации. Видимо, это достигается засчет высокого показателя регуляризации (\"С\") = модель не переобучается на трейне. <br>\n",
    "Полученная метрика выше порога в 0,75, то есть удовлетворяет условиям заказчика. Однако можно попробовать еще улучшить метрику, сдвинув порог классификации токсичных твитов методом подбора порога вероятности.<br>\n",
    "Поскольку при базовом пороге 0,5 недостаточное количество твитов классифицируется как токсичные (класс [1]), то установим более высокий порог - в промежутке от 0,1 до 0,4."
   ]
  },
  {
   "cell_type": "code",
   "execution_count": 28,
   "metadata": {},
   "outputs": [
    {
     "name": "stdout",
     "output_type": "stream",
     "text": [
      "Наилучший результат метрики F1 достигается при пороге = 0.38\n"
     ]
    }
   ],
   "source": [
    "model.fit(features_train, target_train)\n",
    "probabilities=model.predict_proba(features_val)\n",
    "probabilities_one = probabilities[:, 1]\n",
    "best_threshold = 0\n",
    "best_f1 = 0\n",
    "\n",
    "for threshold in np.arange(0.1, 0.4, 0.04):\n",
    "    predicted_v = probabilities_one > threshold\n",
    "    f1 = f1_score(target_val, predicted_v)\n",
    "    if f1> best_f1:\n",
    "        best_f1 = f1\n",
    "        best_threshold = threshold\n",
    "\n",
    "print(f\"Наилучший результат метрики F1 достигается при пороге = {best_threshold :.2f}\")\n"
   ]
  },
  {
   "cell_type": "markdown",
   "metadata": {},
   "source": [
    "Теперь посмотрим, как работает этот порог на тестовой выборке."
   ]
  },
  {
   "cell_type": "markdown",
   "metadata": {},
   "source": [
    "## Выводы"
   ]
  },
  {
   "cell_type": "markdown",
   "metadata": {},
   "source": [
    "Мы сумели обработать размеченные текстовые сообщения с оценкой токсичности сообщений, и обучить несколько моделей - Логистическую регрессию, Дерево решений, Случайный лес, а также Градиентный бустинг, для того, чтобы выбрать наиболее эффективную модель. <br>\n",
    "Для лучшего результата мы сбалансировали классы методом даунсемплинга. <br>\n",
    "В результате ***логистическая регрессия*** проявила себя наиболее эффективной на трейновой выборке и после подбора гиперпараметров нам удалось достигнуть F1-меры в 0,77. <br>\n",
    "Посмотрим, как ведет себя модель на тестовой выборке при тех же условиях."
   ]
  },
  {
   "cell_type": "code",
   "execution_count": 29,
   "metadata": {},
   "outputs": [
    {
     "name": "stdout",
     "output_type": "stream",
     "text": [
      "F1-мера с порогом вероятности 0.38:  0.78\n"
     ]
    }
   ],
   "source": [
    "model = LogisticRegression(random_state=12345, solver='sag', C = 15, max_iter = 15)\n",
    "model.fit(features_trainval, target_trainval)\n",
    "probabilities=model.predict_proba(features_test)\n",
    "probabilities_one = probabilities[:, 1]\n",
    "predicted = probabilities_one > 0.38\n",
    "f1 = f1_score(target_test, predicted)\n",
    "print(f'F1-мера с порогом вероятности 0.38: {f1: .2}')"
   ]
  },
  {
   "cell_type": "code",
   "execution_count": 30,
   "metadata": {},
   "outputs": [
    {
     "data": {
      "image/png": "[encoded data removed]",
      "text/plain": [
       "<Figure size 720x432 with 1 Axes>"
      ]
     },
     "metadata": {
      "needs_background": "light"
     },
     "output_type": "display_data"
    }
   ],
   "source": [
    "predicted = predicted.astype('int')\n",
    "f1 = f1_score(target_test, predicted)\n",
    "plt.figure(figsize=(10,6))\n",
    "target_test.plot(kind='kde', linewidth=2)\n",
    "pd.Series(predicted).plot(kind='kde', linewidth=2)\n",
    "plt.title('График распределения плотности предсказанных и истинных значений', y=1.01)\n",
    "plt.legend(['Истинные значения','Предсказанные значения'])\n",
    "plt.xlabel('')\n",
    "plt.ylabel('Плотность')\n",
    "plt.show()"
   ]
  },
  {
   "cell_type": "markdown",
   "metadata": {},
   "source": [
    "На графике мы видим, что модель уже намного лучше предсказывает нулевой класс. Эффективность модели на высоком уровне - F1-мера равна 0,78."
   ]
  }
 ],
 "metadata": {
  "ExecuteTimeLog": [
   {
    "duration": 1202,
    "start_time": "2022-10-02T18:46:01.872Z"
   },
   {
    "duration": 3654,
    "start_time": "2022-10-02T18:53:59.002Z"
   },
   {
    "duration": 21,
    "start_time": "2022-10-02T18:54:51.207Z"
   },
   {
    "duration": 111,
    "start_time": "2022-10-02T18:55:05.500Z"
   },
   {
    "duration": 6,
    "start_time": "2022-10-02T18:55:30.235Z"
   },
   {
    "duration": 7,
    "start_time": "2022-10-02T18:55:49.402Z"
   },
   {
    "duration": 6,
    "start_time": "2022-10-02T19:41:07.882Z"
   },
   {
    "duration": 11,
    "start_time": "2022-10-02T19:41:34.556Z"
   },
   {
    "duration": 925,
    "start_time": "2022-10-02T19:42:38.459Z"
   },
   {
    "duration": 2184,
    "start_time": "2022-10-02T19:51:46.835Z"
   },
   {
    "duration": 13,
    "start_time": "2022-10-02T20:05:59.415Z"
   },
   {
    "duration": 8,
    "start_time": "2022-10-02T20:06:04.978Z"
   },
   {
    "duration": 0,
    "start_time": "2022-10-02T20:06:56.933Z"
   },
   {
    "duration": 108744,
    "start_time": "2022-10-02T20:15:09.399Z"
   },
   {
    "duration": 1272,
    "start_time": "2022-10-03T12:53:44.829Z"
   },
   {
    "duration": 2413,
    "start_time": "2022-10-03T12:53:46.102Z"
   },
   {
    "duration": 9,
    "start_time": "2022-10-03T12:53:48.517Z"
   },
   {
    "duration": 10,
    "start_time": "2022-10-03T12:53:48.527Z"
   },
   {
    "duration": 1648,
    "start_time": "2022-10-03T12:53:48.539Z"
   },
   {
    "duration": 90404,
    "start_time": "2022-10-03T12:53:50.189Z"
   },
   {
    "duration": 6712,
    "start_time": "2022-10-03T12:55:51.506Z"
   },
   {
    "duration": 6431,
    "start_time": "2022-10-03T12:56:15.896Z"
   },
   {
    "duration": 21,
    "start_time": "2022-10-03T12:57:22.063Z"
   },
   {
    "duration": 13,
    "start_time": "2022-10-03T12:57:46.503Z"
   },
   {
    "duration": 20,
    "start_time": "2022-10-03T13:00:17.081Z"
   },
   {
    "duration": 13,
    "start_time": "2022-10-03T13:01:27.958Z"
   },
   {
    "duration": 14,
    "start_time": "2022-10-03T13:02:11.999Z"
   },
   {
    "duration": 10,
    "start_time": "2022-10-03T13:02:34.378Z"
   },
   {
    "duration": 13,
    "start_time": "2022-10-03T13:03:24.521Z"
   },
   {
    "duration": 12,
    "start_time": "2022-10-03T13:03:38.335Z"
   },
   {
    "duration": 11,
    "start_time": "2022-10-03T13:04:03.570Z"
   },
   {
    "duration": 12,
    "start_time": "2022-10-03T13:04:26.931Z"
   },
   {
    "duration": 1036,
    "start_time": "2022-10-03T13:06:20.150Z"
   },
   {
    "duration": 1004,
    "start_time": "2022-10-03T13:07:12.553Z"
   },
   {
    "duration": 1205,
    "start_time": "2022-10-03T13:09:12.622Z"
   },
   {
    "duration": 7851,
    "start_time": "2022-10-03T13:09:35.809Z"
   },
   {
    "duration": 17154,
    "start_time": "2022-10-03T13:10:00.450Z"
   },
   {
    "duration": 92516,
    "start_time": "2022-10-03T13:10:55.034Z"
   },
   {
    "duration": 500,
    "start_time": "2022-10-03T20:29:32.376Z"
   },
   {
    "duration": 4,
    "start_time": "2022-10-03T20:29:40.590Z"
   },
   {
    "duration": 863,
    "start_time": "2022-10-03T20:29:40.597Z"
   },
   {
    "duration": 8,
    "start_time": "2022-10-03T20:29:41.462Z"
   },
   {
    "duration": 33,
    "start_time": "2022-10-03T20:29:41.472Z"
   },
   {
    "duration": 1849,
    "start_time": "2022-10-03T20:30:06.352Z"
   },
   {
    "duration": 2665,
    "start_time": "2022-10-03T20:30:08.204Z"
   },
   {
    "duration": 15,
    "start_time": "2022-10-03T20:30:10.871Z"
   },
   {
    "duration": 18,
    "start_time": "2022-10-03T20:30:10.887Z"
   },
   {
    "duration": 2111,
    "start_time": "2022-10-03T20:30:10.908Z"
   },
   {
    "duration": 1224,
    "start_time": "2022-10-03T20:30:48.902Z"
   },
   {
    "duration": 1814,
    "start_time": "2022-10-03T20:31:22.100Z"
   },
   {
    "duration": 107752,
    "start_time": "2022-10-03T20:31:36.259Z"
   },
   {
    "duration": 93103,
    "start_time": "2022-10-03T20:52:28.761Z"
   },
   {
    "duration": 4,
    "start_time": "2022-10-03T21:03:12.073Z"
   },
   {
    "duration": 15,
    "start_time": "2022-10-03T21:03:39.555Z"
   },
   {
    "duration": 12,
    "start_time": "2022-10-03T21:04:28.564Z"
   },
   {
    "duration": 15,
    "start_time": "2022-10-03T21:08:17.657Z"
   },
   {
    "duration": 1348,
    "start_time": "2022-10-03T21:08:34.715Z"
   },
   {
    "duration": 945,
    "start_time": "2022-10-03T21:08:36.065Z"
   },
   {
    "duration": 10,
    "start_time": "2022-10-03T21:08:37.012Z"
   },
   {
    "duration": 36,
    "start_time": "2022-10-03T21:08:37.023Z"
   },
   {
    "duration": 2012,
    "start_time": "2022-10-03T21:08:37.062Z"
   },
   {
    "duration": 99500,
    "start_time": "2022-10-03T21:08:39.076Z"
   },
   {
    "duration": 291,
    "start_time": "2022-10-03T21:10:18.579Z"
   },
   {
    "duration": 121,
    "start_time": "2022-10-03T21:11:01.252Z"
   },
   {
    "duration": 17,
    "start_time": "2022-10-03T21:11:49.110Z"
   },
   {
    "duration": 11,
    "start_time": "2022-10-03T21:12:14.289Z"
   },
   {
    "duration": 4,
    "start_time": "2022-10-03T21:12:53.029Z"
   },
   {
    "duration": 5,
    "start_time": "2022-10-03T21:13:01.006Z"
   },
   {
    "duration": 13,
    "start_time": "2022-10-03T21:18:24.603Z"
   },
   {
    "duration": 12652,
    "start_time": "2022-10-03T21:18:54.096Z"
   },
   {
    "duration": 35,
    "start_time": "2022-10-03T21:20:48.661Z"
   },
   {
    "duration": 12,
    "start_time": "2022-10-03T21:22:33.178Z"
   },
   {
    "duration": 4,
    "start_time": "2022-10-03T21:22:52.177Z"
   },
   {
    "duration": 910,
    "start_time": "2022-10-03T21:22:57.919Z"
   },
   {
    "duration": 6581,
    "start_time": "2022-10-03T21:23:15.869Z"
   },
   {
    "duration": 5,
    "start_time": "2022-10-03T21:23:44.560Z"
   },
   {
    "duration": 4,
    "start_time": "2022-10-03T21:23:56.468Z"
   },
   {
    "duration": 1927,
    "start_time": "2022-10-05T12:47:54.994Z"
   },
   {
    "duration": 2737,
    "start_time": "2022-10-05T12:47:59.125Z"
   },
   {
    "duration": 7,
    "start_time": "2022-10-05T12:48:01.864Z"
   },
   {
    "duration": 88,
    "start_time": "2022-10-05T12:50:43.148Z"
   },
   {
    "duration": 138,
    "start_time": "2022-10-05T12:50:50.496Z"
   },
   {
    "duration": 216,
    "start_time": "2022-10-05T12:51:56.162Z"
   },
   {
    "duration": 4,
    "start_time": "2022-10-05T12:52:12.443Z"
   },
   {
    "duration": 74,
    "start_time": "2022-10-05T12:52:15.825Z"
   },
   {
    "duration": 75,
    "start_time": "2022-10-05T12:52:39.808Z"
   },
   {
    "duration": 73,
    "start_time": "2022-10-05T12:52:44.931Z"
   },
   {
    "duration": 28,
    "start_time": "2022-10-05T12:57:46.623Z"
   },
   {
    "duration": 37,
    "start_time": "2022-10-05T12:58:01.185Z"
   },
   {
    "duration": 38,
    "start_time": "2022-10-05T12:58:07.596Z"
   },
   {
    "duration": 42,
    "start_time": "2022-10-05T12:58:32.269Z"
   },
   {
    "duration": 11,
    "start_time": "2022-10-05T12:58:37.082Z"
   },
   {
    "duration": 24,
    "start_time": "2022-10-05T12:58:42.174Z"
   },
   {
    "duration": 28,
    "start_time": "2022-10-05T12:58:49.279Z"
   },
   {
    "duration": 31,
    "start_time": "2022-10-05T12:58:56.028Z"
   },
   {
    "duration": 21,
    "start_time": "2022-10-05T12:59:05.621Z"
   },
   {
    "duration": 37,
    "start_time": "2022-10-05T13:00:11.383Z"
   },
   {
    "duration": 27,
    "start_time": "2022-10-05T13:00:20.476Z"
   },
   {
    "duration": 29,
    "start_time": "2022-10-05T13:00:45.337Z"
   },
   {
    "duration": 3,
    "start_time": "2022-10-05T13:01:46.219Z"
   },
   {
    "duration": 27,
    "start_time": "2022-10-05T13:02:05.764Z"
   },
   {
    "duration": 26,
    "start_time": "2022-10-05T13:03:37.747Z"
   },
   {
    "duration": 25,
    "start_time": "2022-10-05T13:04:00.063Z"
   },
   {
    "duration": 40,
    "start_time": "2022-10-05T13:04:46.499Z"
   },
   {
    "duration": 4,
    "start_time": "2022-10-05T13:05:21.502Z"
   },
   {
    "duration": 3,
    "start_time": "2022-10-05T13:05:55.322Z"
   },
   {
    "duration": 28,
    "start_time": "2022-10-05T13:06:02.456Z"
   },
   {
    "duration": 23,
    "start_time": "2022-10-05T13:06:07.678Z"
   },
   {
    "duration": 82,
    "start_time": "2022-10-05T13:06:30.126Z"
   },
   {
    "duration": 27,
    "start_time": "2022-10-05T13:06:34.041Z"
   },
   {
    "duration": 30,
    "start_time": "2022-10-05T13:06:40.059Z"
   },
   {
    "duration": 25,
    "start_time": "2022-10-05T13:06:51.982Z"
   },
   {
    "duration": 28,
    "start_time": "2022-10-05T13:06:58.262Z"
   },
   {
    "duration": 146,
    "start_time": "2022-10-05T13:07:17.857Z"
   },
   {
    "duration": 27,
    "start_time": "2022-10-05T13:07:26.555Z"
   },
   {
    "duration": 110,
    "start_time": "2022-10-05T13:07:44.462Z"
   },
   {
    "duration": 90,
    "start_time": "2022-10-05T13:07:51.250Z"
   },
   {
    "duration": 97,
    "start_time": "2022-10-05T13:08:14.557Z"
   },
   {
    "duration": 7869,
    "start_time": "2022-10-05T13:09:13.661Z"
   },
   {
    "duration": 359,
    "start_time": "2022-10-05T13:09:21.532Z"
   },
   {
    "duration": 370,
    "start_time": "2022-10-05T13:09:24.727Z"
   },
   {
    "duration": 17156,
    "start_time": "2022-10-05T13:09:27.432Z"
   },
   {
    "duration": 850,
    "start_time": "2022-10-05T13:10:10.462Z"
   },
   {
    "duration": 1420,
    "start_time": "2022-10-05T13:10:12.551Z"
   },
   {
    "duration": 1252,
    "start_time": "2022-10-05T13:10:32.892Z"
   },
   {
    "duration": 1289,
    "start_time": "2022-10-05T13:10:45.058Z"
   },
   {
    "duration": 1342,
    "start_time": "2022-10-05T13:10:55.706Z"
   },
   {
    "duration": 188,
    "start_time": "2022-10-05T13:27:32.539Z"
   },
   {
    "duration": 25,
    "start_time": "2022-10-05T13:27:37.027Z"
   },
   {
    "duration": 1671,
    "start_time": "2022-10-05T13:28:23.572Z"
   },
   {
    "duration": 1558,
    "start_time": "2022-10-05T13:28:33.458Z"
   },
   {
    "duration": 6,
    "start_time": "2022-10-05T13:34:57.123Z"
   },
   {
    "duration": 11,
    "start_time": "2022-10-05T13:38:11.894Z"
   },
   {
    "duration": 15,
    "start_time": "2022-10-05T13:38:17.150Z"
   },
   {
    "duration": 10,
    "start_time": "2022-10-05T13:39:42.913Z"
   },
   {
    "duration": 15,
    "start_time": "2022-10-05T13:40:05.963Z"
   },
   {
    "duration": 9,
    "start_time": "2022-10-05T13:40:38.115Z"
   },
   {
    "duration": 4,
    "start_time": "2022-10-05T13:41:26.189Z"
   },
   {
    "duration": 13,
    "start_time": "2022-10-05T13:41:32.665Z"
   },
   {
    "duration": 17,
    "start_time": "2022-10-05T13:41:41.002Z"
   },
   {
    "duration": 17,
    "start_time": "2022-10-05T13:42:32.237Z"
   },
   {
    "duration": 138,
    "start_time": "2022-10-05T13:43:18.526Z"
   },
   {
    "duration": 1342,
    "start_time": "2022-10-05T13:43:31.977Z"
   },
   {
    "duration": 4,
    "start_time": "2022-10-05T13:43:35.700Z"
   },
   {
    "duration": 9,
    "start_time": "2022-10-05T13:43:43.292Z"
   },
   {
    "duration": 4,
    "start_time": "2022-10-05T13:43:48.215Z"
   },
   {
    "duration": 13,
    "start_time": "2022-10-05T13:44:02.527Z"
   },
   {
    "duration": 60107,
    "start_time": "2022-10-05T13:44:07.303Z"
   },
   {
    "duration": 40803,
    "start_time": "2022-10-05T13:45:58.106Z"
   },
   {
    "duration": 30,
    "start_time": "2022-10-05T13:48:32.280Z"
   },
   {
    "duration": 1557,
    "start_time": "2022-10-05T13:49:02.092Z"
   },
   {
    "duration": 818,
    "start_time": "2022-10-05T13:49:03.651Z"
   },
   {
    "duration": 9,
    "start_time": "2022-10-05T13:49:04.471Z"
   },
   {
    "duration": 11,
    "start_time": "2022-10-05T13:49:04.482Z"
   },
   {
    "duration": 187,
    "start_time": "2022-10-05T13:49:04.496Z"
   },
   {
    "duration": 88,
    "start_time": "2022-10-05T13:49:04.685Z"
   },
   {
    "duration": 351,
    "start_time": "2022-10-05T13:49:04.774Z"
   },
   {
    "duration": 16937,
    "start_time": "2022-10-05T13:49:05.127Z"
   },
   {
    "duration": 223,
    "start_time": "2022-10-05T13:49:22.065Z"
   },
   {
    "duration": 33,
    "start_time": "2022-10-05T13:49:22.290Z"
   },
   {
    "duration": 1254,
    "start_time": "2022-10-05T13:49:22.325Z"
   },
   {
    "duration": 1323,
    "start_time": "2022-10-05T13:49:23.581Z"
   },
   {
    "duration": 37149,
    "start_time": "2022-10-05T13:49:41.261Z"
   },
   {
    "duration": 10283,
    "start_time": "2022-10-05T13:50:59.012Z"
   },
   {
    "duration": 22498,
    "start_time": "2022-10-05T13:51:23.951Z"
   },
   {
    "duration": 107665,
    "start_time": "2022-10-05T13:52:00.526Z"
   },
   {
    "duration": 5,
    "start_time": "2022-10-05T13:53:48.193Z"
   },
   {
    "duration": 189,
    "start_time": "2022-10-05T13:56:56.350Z"
   },
   {
    "duration": 77824,
    "start_time": "2022-10-05T13:57:03.444Z"
   },
   {
    "duration": 10,
    "start_time": "2022-10-05T13:58:21.270Z"
   },
   {
    "duration": 8829,
    "start_time": "2022-10-05T14:02:05.985Z"
   },
   {
    "duration": 1476,
    "start_time": "2022-10-05T15:24:48.730Z"
   },
   {
    "duration": 15913,
    "start_time": "2022-10-05T15:25:59.548Z"
   },
   {
    "duration": 0,
    "start_time": "2022-10-05T15:26:15.463Z"
   },
   {
    "duration": 85047,
    "start_time": "2022-10-05T15:26:39.429Z"
   },
   {
    "duration": 6457,
    "start_time": "2022-10-05T15:28:18.498Z"
   },
   {
    "duration": 13,
    "start_time": "2022-10-05T15:29:44.752Z"
   },
   {
    "duration": 14,
    "start_time": "2022-10-05T15:30:29.029Z"
   },
   {
    "duration": 62,
    "start_time": "2022-10-05T15:30:52.729Z"
   },
   {
    "duration": 20,
    "start_time": "2022-10-05T15:31:20.068Z"
   },
   {
    "duration": 40,
    "start_time": "2022-10-05T15:32:11.799Z"
   },
   {
    "duration": 40453,
    "start_time": "2022-10-05T15:32:14.995Z"
   },
   {
    "duration": 12,
    "start_time": "2022-10-05T15:33:27.336Z"
   },
   {
    "duration": 11,
    "start_time": "2022-10-05T15:43:19.576Z"
   },
   {
    "duration": 9,
    "start_time": "2022-10-05T15:43:32.659Z"
   },
   {
    "duration": 4,
    "start_time": "2022-10-05T15:43:46.313Z"
   },
   {
    "duration": 6,
    "start_time": "2022-10-05T15:44:00.232Z"
   },
   {
    "duration": 6,
    "start_time": "2022-10-05T15:44:23.444Z"
   },
   {
    "duration": 6,
    "start_time": "2022-10-05T15:44:27.912Z"
   },
   {
    "duration": 5,
    "start_time": "2022-10-05T15:45:08.963Z"
   },
   {
    "duration": 6,
    "start_time": "2022-10-05T15:45:19.870Z"
   },
   {
    "duration": 5,
    "start_time": "2022-10-05T15:45:29.243Z"
   },
   {
    "duration": 5,
    "start_time": "2022-10-05T15:45:34.002Z"
   },
   {
    "duration": 6,
    "start_time": "2022-10-05T15:45:37.053Z"
   },
   {
    "duration": 7,
    "start_time": "2022-10-05T15:46:22.219Z"
   },
   {
    "duration": 10,
    "start_time": "2022-10-05T15:47:59.157Z"
   },
   {
    "duration": 4,
    "start_time": "2022-10-05T15:48:05.028Z"
   },
   {
    "duration": 4,
    "start_time": "2022-10-05T15:48:15.189Z"
   },
   {
    "duration": 4,
    "start_time": "2022-10-05T15:48:22.714Z"
   },
   {
    "duration": 5,
    "start_time": "2022-10-05T15:48:29.668Z"
   },
   {
    "duration": 4,
    "start_time": "2022-10-05T15:48:32.981Z"
   },
   {
    "duration": 30,
    "start_time": "2022-10-05T15:49:40.004Z"
   },
   {
    "duration": 59072,
    "start_time": "2022-10-05T15:49:42.570Z"
   },
   {
    "duration": 38,
    "start_time": "2022-10-05T15:50:41.644Z"
   },
   {
    "duration": 1563,
    "start_time": "2022-10-05T15:50:46.516Z"
   },
   {
    "duration": 829,
    "start_time": "2022-10-05T15:50:48.081Z"
   },
   {
    "duration": 7,
    "start_time": "2022-10-05T15:50:48.911Z"
   },
   {
    "duration": 10,
    "start_time": "2022-10-05T15:50:48.920Z"
   },
   {
    "duration": 162,
    "start_time": "2022-10-05T15:50:48.932Z"
   },
   {
    "duration": 88,
    "start_time": "2022-10-05T15:50:49.096Z"
   },
   {
    "duration": 374,
    "start_time": "2022-10-05T15:50:49.186Z"
   },
   {
    "duration": 16725,
    "start_time": "2022-10-05T15:50:49.561Z"
   },
   {
    "duration": 227,
    "start_time": "2022-10-05T15:51:06.288Z"
   },
   {
    "duration": 83719,
    "start_time": "2022-10-05T15:51:06.517Z"
   },
   {
    "duration": 1329,
    "start_time": "2022-10-05T15:52:30.237Z"
   },
   {
    "duration": 9,
    "start_time": "2022-10-05T15:52:31.568Z"
   },
   {
    "duration": 47940,
    "start_time": "2022-10-05T15:52:31.578Z"
   },
   {
    "duration": 43805,
    "start_time": "2022-10-05T15:53:19.609Z"
   },
   {
    "duration": 385450,
    "start_time": "2022-10-05T15:54:03.415Z"
   },
   {
    "duration": 278884,
    "start_time": "2022-10-05T16:00:28.867Z"
   },
   {
    "duration": 8,
    "start_time": "2022-10-05T16:05:07.753Z"
   },
   {
    "duration": 9748,
    "start_time": "2022-10-05T16:05:07.762Z"
   },
   {
    "duration": 70,
    "start_time": "2022-10-05T16:05:17.513Z"
   },
   {
    "duration": 4,
    "start_time": "2022-10-05T16:06:39.045Z"
   },
   {
    "duration": 139,
    "start_time": "2022-10-05T16:07:34.163Z"
   },
   {
    "duration": 16,
    "start_time": "2022-10-05T16:07:46.124Z"
   },
   {
    "duration": 161,
    "start_time": "2022-10-05T16:07:54.661Z"
   },
   {
    "duration": 1727,
    "start_time": "2022-10-06T14:28:45.567Z"
   },
   {
    "duration": 2418,
    "start_time": "2022-10-06T14:28:47.296Z"
   },
   {
    "duration": 8,
    "start_time": "2022-10-06T14:28:49.716Z"
   },
   {
    "duration": 11,
    "start_time": "2022-10-06T14:28:49.725Z"
   },
   {
    "duration": 106,
    "start_time": "2022-10-06T14:28:49.738Z"
   },
   {
    "duration": 99,
    "start_time": "2022-10-06T14:28:49.846Z"
   },
   {
    "duration": 391,
    "start_time": "2022-10-06T14:28:49.947Z"
   },
   {
    "duration": 527,
    "start_time": "2022-10-06T14:28:58.284Z"
   },
   {
    "duration": 20254,
    "start_time": "2022-10-06T14:29:25.573Z"
   },
   {
    "duration": 53,
    "start_time": "2022-10-07T09:02:53.797Z"
   },
   {
    "duration": 1743,
    "start_time": "2022-10-07T09:03:00.180Z"
   },
   {
    "duration": 2275,
    "start_time": "2022-10-07T09:03:01.925Z"
   },
   {
    "duration": 13,
    "start_time": "2022-10-07T09:03:04.202Z"
   },
   {
    "duration": 34,
    "start_time": "2022-10-07T09:03:04.217Z"
   },
   {
    "duration": 225,
    "start_time": "2022-10-07T09:03:04.252Z"
   },
   {
    "duration": 97,
    "start_time": "2022-10-07T09:03:04.478Z"
   },
   {
    "duration": 18683,
    "start_time": "2022-10-07T09:03:04.577Z"
   },
   {
    "duration": 1463,
    "start_time": "2022-10-07T09:03:23.261Z"
   },
   {
    "duration": 219,
    "start_time": "2022-10-07T09:04:39.481Z"
   },
   {
    "duration": 143,
    "start_time": "2022-10-07T09:05:05.751Z"
   },
   {
    "duration": 10,
    "start_time": "2022-10-07T09:05:11.744Z"
   },
   {
    "duration": 8,
    "start_time": "2022-10-07T09:05:54.300Z"
   },
   {
    "duration": 77,
    "start_time": "2022-10-07T09:08:03.383Z"
   },
   {
    "duration": 28424,
    "start_time": "2022-10-07T09:12:14.715Z"
   },
   {
    "duration": 15903,
    "start_time": "2022-10-07T09:12:43.141Z"
   },
   {
    "duration": 128,
    "start_time": "2022-10-07T09:13:32.398Z"
   },
   {
    "duration": 44,
    "start_time": "2022-10-07T13:01:40.602Z"
   },
   {
    "duration": 2166,
    "start_time": "2022-10-07T13:01:52.585Z"
   },
   {
    "duration": 3470,
    "start_time": "2022-10-07T13:01:54.754Z"
   },
   {
    "duration": 15,
    "start_time": "2022-10-07T13:01:58.226Z"
   },
   {
    "duration": 27,
    "start_time": "2022-10-07T13:01:58.243Z"
   },
   {
    "duration": 107,
    "start_time": "2022-10-07T13:01:58.272Z"
   },
   {
    "duration": 119,
    "start_time": "2022-10-07T13:01:58.381Z"
   },
   {
    "duration": 20058,
    "start_time": "2022-10-07T13:01:58.502Z"
   },
   {
    "duration": 1462,
    "start_time": "2022-10-07T13:02:18.561Z"
   },
   {
    "duration": 140,
    "start_time": "2022-10-07T13:02:20.024Z"
   },
   {
    "duration": 7,
    "start_time": "2022-10-07T13:02:20.166Z"
   },
   {
    "duration": 29949,
    "start_time": "2022-10-07T13:02:20.174Z"
   },
   {
    "duration": 21389,
    "start_time": "2022-10-07T13:02:50.124Z"
   },
   {
    "duration": 144620,
    "start_time": "2022-10-07T13:03:11.515Z"
   },
   {
    "duration": 130731,
    "start_time": "2022-10-07T13:05:36.137Z"
   },
   {
    "duration": 9,
    "start_time": "2022-10-07T13:07:46.870Z"
   },
   {
    "duration": 15151,
    "start_time": "2022-10-07T13:07:46.881Z"
   },
   {
    "duration": 243,
    "start_time": "2022-10-07T13:08:02.033Z"
   },
   {
    "duration": 103,
    "start_time": "2022-10-07T13:08:02.277Z"
   },
   {
    "duration": 230,
    "start_time": "2022-10-07T13:08:14.013Z"
   },
   {
    "duration": 249,
    "start_time": "2022-10-07T13:08:47.230Z"
   },
   {
    "duration": 17,
    "start_time": "2022-10-07T13:09:07.979Z"
   },
   {
    "duration": 18,
    "start_time": "2022-10-07T13:09:13.470Z"
   },
   {
    "duration": 374,
    "start_time": "2022-10-07T13:10:23.534Z"
   },
   {
    "duration": 377,
    "start_time": "2022-10-07T13:10:43.780Z"
   },
   {
    "duration": 2483,
    "start_time": "2022-10-09T14:48:58.984Z"
   },
   {
    "duration": 2352,
    "start_time": "2022-10-09T14:49:01.470Z"
   },
   {
    "duration": 14,
    "start_time": "2022-10-09T14:49:03.823Z"
   },
   {
    "duration": 15,
    "start_time": "2022-10-09T14:49:03.840Z"
   },
   {
    "duration": 120,
    "start_time": "2022-10-09T14:49:03.858Z"
   },
   {
    "duration": 5,
    "start_time": "2022-10-09T14:49:03.980Z"
   },
   {
    "duration": 1008,
    "start_time": "2022-10-09T14:49:16.426Z"
   },
   {
    "duration": 4694,
    "start_time": "2022-10-09T14:49:36.142Z"
   },
   {
    "duration": 309,
    "start_time": "2022-10-09T14:51:59.304Z"
   },
   {
    "duration": 409,
    "start_time": "2022-10-09T14:52:22.299Z"
   },
   {
    "duration": 1089,
    "start_time": "2022-10-09T14:52:52.270Z"
   },
   {
    "duration": 5,
    "start_time": "2022-10-09T14:53:27.791Z"
   },
   {
    "duration": 31524,
    "start_time": "2022-10-09T14:53:31.645Z"
   },
   {
    "duration": 12424,
    "start_time": "2022-10-09T14:54:19.743Z"
   },
   {
    "duration": 26656,
    "start_time": "2022-10-09T14:54:35.558Z"
   },
   {
    "duration": 28,
    "start_time": "2022-10-09T15:00:28.639Z"
   },
   {
    "duration": 809897,
    "start_time": "2022-10-09T15:02:21.081Z"
   },
   {
    "duration": 5,
    "start_time": "2022-10-09T15:24:46.599Z"
   },
   {
    "duration": 15,
    "start_time": "2022-10-09T15:24:57.626Z"
   },
   {
    "duration": 46,
    "start_time": "2022-10-09T15:25:02.126Z"
   },
   {
    "duration": 5,
    "start_time": "2022-10-09T15:26:06.896Z"
   },
   {
    "duration": 167,
    "start_time": "2022-10-09T15:26:13.381Z"
   },
   {
    "duration": 133,
    "start_time": "2022-10-09T15:26:46.307Z"
   },
   {
    "duration": 169,
    "start_time": "2022-10-09T15:26:50.235Z"
   },
   {
    "duration": 177,
    "start_time": "2022-10-09T15:27:02.635Z"
   },
   {
    "duration": 173,
    "start_time": "2022-10-09T15:27:13.185Z"
   },
   {
    "duration": 171,
    "start_time": "2022-10-09T15:27:22.546Z"
   },
   {
    "duration": 181,
    "start_time": "2022-10-09T15:27:30.956Z"
   },
   {
    "duration": 210,
    "start_time": "2022-10-09T15:27:43.822Z"
   },
   {
    "duration": 198,
    "start_time": "2022-10-09T15:27:54.402Z"
   },
   {
    "duration": 218,
    "start_time": "2022-10-09T15:28:13.907Z"
   },
   {
    "duration": 203,
    "start_time": "2022-10-09T15:28:18.274Z"
   },
   {
    "duration": 224,
    "start_time": "2022-10-09T15:28:28.659Z"
   },
   {
    "duration": 5,
    "start_time": "2022-10-09T15:29:02.824Z"
   },
   {
    "duration": 46,
    "start_time": "2022-10-09T15:29:06.961Z"
   },
   {
    "duration": 47,
    "start_time": "2022-10-09T15:29:12.477Z"
   },
   {
    "duration": 45,
    "start_time": "2022-10-09T15:29:18.450Z"
   },
   {
    "duration": 4,
    "start_time": "2022-10-09T15:29:34.819Z"
   },
   {
    "duration": 216,
    "start_time": "2022-10-09T15:29:42.870Z"
   },
   {
    "duration": 370,
    "start_time": "2022-10-09T15:29:56.431Z"
   },
   {
    "duration": 212,
    "start_time": "2022-10-09T15:30:02.930Z"
   },
   {
    "duration": 218,
    "start_time": "2022-10-09T15:30:36.540Z"
   },
   {
    "duration": 214,
    "start_time": "2022-10-09T15:30:45.092Z"
   },
   {
    "duration": 214,
    "start_time": "2022-10-09T15:30:54.236Z"
   },
   {
    "duration": 194,
    "start_time": "2022-10-09T15:31:34.851Z"
   },
   {
    "duration": 198,
    "start_time": "2022-10-09T15:31:48.180Z"
   },
   {
    "duration": 190,
    "start_time": "2022-10-09T15:31:59.174Z"
   },
   {
    "duration": 4,
    "start_time": "2022-10-09T15:33:04.982Z"
   },
   {
    "duration": 233,
    "start_time": "2022-10-09T15:33:09.436Z"
   },
   {
    "duration": 178,
    "start_time": "2022-10-09T15:33:15.654Z"
   },
   {
    "duration": 205,
    "start_time": "2022-10-09T15:33:19.986Z"
   },
   {
    "duration": 7,
    "start_time": "2022-10-09T15:35:59.080Z"
   },
   {
    "duration": 741,
    "start_time": "2022-10-09T15:36:27.930Z"
   },
   {
    "duration": 6,
    "start_time": "2022-10-09T15:36:52.224Z"
   },
   {
    "duration": 15,
    "start_time": "2022-10-09T15:37:32.240Z"
   },
   {
    "duration": 11,
    "start_time": "2022-10-09T15:37:43.501Z"
   },
   {
    "duration": 286,
    "start_time": "2022-10-09T15:37:47.959Z"
   },
   {
    "duration": 26,
    "start_time": "2022-10-09T15:39:07.809Z"
   },
   {
    "duration": 16,
    "start_time": "2022-10-09T15:39:17.095Z"
   },
   {
    "duration": 29,
    "start_time": "2022-10-09T15:40:42.437Z"
   },
   {
    "duration": 13,
    "start_time": "2022-10-09T15:41:03.926Z"
   },
   {
    "duration": 17,
    "start_time": "2022-10-09T15:41:13.870Z"
   },
   {
    "duration": 9,
    "start_time": "2022-10-09T15:41:32.836Z"
   },
   {
    "duration": 10,
    "start_time": "2022-10-09T15:41:45.942Z"
   },
   {
    "duration": 10,
    "start_time": "2022-10-09T15:41:58.896Z"
   },
   {
    "duration": 15,
    "start_time": "2022-10-09T15:42:14.616Z"
   },
   {
    "duration": 201,
    "start_time": "2022-10-09T15:42:30.499Z"
   },
   {
    "duration": 21,
    "start_time": "2022-10-09T15:42:35.439Z"
   },
   {
    "duration": 16,
    "start_time": "2022-10-09T15:42:55.917Z"
   },
   {
    "duration": 13,
    "start_time": "2022-10-09T15:43:11.337Z"
   },
   {
    "duration": 7,
    "start_time": "2022-10-09T15:47:15.104Z"
   },
   {
    "duration": 10,
    "start_time": "2022-10-09T15:47:31.958Z"
   },
   {
    "duration": 10,
    "start_time": "2022-10-09T15:47:45.353Z"
   },
   {
    "duration": 16,
    "start_time": "2022-10-09T15:48:13.317Z"
   },
   {
    "duration": 1518,
    "start_time": "2022-10-09T15:49:02.161Z"
   },
   {
    "duration": 806,
    "start_time": "2022-10-09T15:49:03.681Z"
   },
   {
    "duration": 13,
    "start_time": "2022-10-09T15:49:04.489Z"
   },
   {
    "duration": 27,
    "start_time": "2022-10-09T15:49:04.504Z"
   },
   {
    "duration": 214,
    "start_time": "2022-10-09T15:49:04.534Z"
   },
   {
    "duration": 5,
    "start_time": "2022-10-09T15:49:10.413Z"
   },
   {
    "duration": 162,
    "start_time": "2022-10-09T15:49:15.179Z"
   },
   {
    "duration": 217,
    "start_time": "2022-10-09T15:49:19.844Z"
   },
   {
    "duration": 201,
    "start_time": "2022-10-09T15:50:00.797Z"
   },
   {
    "duration": 211,
    "start_time": "2022-10-09T15:50:10.128Z"
   },
   {
    "duration": 142,
    "start_time": "2022-10-09T15:53:33.247Z"
   },
   {
    "duration": 22,
    "start_time": "2022-10-09T15:53:54.070Z"
   },
   {
    "duration": 91,
    "start_time": "2022-10-09T15:54:12.076Z"
   },
   {
    "duration": 89,
    "start_time": "2022-10-09T15:54:36.050Z"
   },
   {
    "duration": 89,
    "start_time": "2022-10-09T15:55:01.716Z"
   },
   {
    "duration": 90,
    "start_time": "2022-10-09T15:55:21.144Z"
   },
   {
    "duration": 23,
    "start_time": "2022-10-09T15:56:06.753Z"
   },
   {
    "duration": 14,
    "start_time": "2022-10-09T15:57:11.453Z"
   },
   {
    "duration": 12,
    "start_time": "2022-10-09T15:57:17.674Z"
   },
   {
    "duration": 24,
    "start_time": "2022-10-09T15:57:47.200Z"
   },
   {
    "duration": 92,
    "start_time": "2022-10-09T15:57:52.987Z"
   },
   {
    "duration": 5,
    "start_time": "2022-10-09T15:58:14.060Z"
   },
   {
    "duration": 202,
    "start_time": "2022-10-09T15:58:18.450Z"
   },
   {
    "duration": 16,
    "start_time": "2022-10-09T15:58:42.957Z"
   },
   {
    "duration": 405,
    "start_time": "2022-10-09T15:58:56.391Z"
   },
   {
    "duration": 6,
    "start_time": "2022-10-09T16:01:40.489Z"
   },
   {
    "duration": 191217,
    "start_time": "2022-10-09T16:01:52.006Z"
   },
   {
    "duration": 6,
    "start_time": "2022-10-09T16:06:31.068Z"
   },
   {
    "duration": 191321,
    "start_time": "2022-10-09T16:06:35.591Z"
   },
   {
    "duration": 708,
    "start_time": "2022-10-09T17:53:47.120Z"
   },
   {
    "duration": 10,
    "start_time": "2022-10-09T17:54:52.998Z"
   },
   {
    "duration": 250,
    "start_time": "2022-10-09T17:54:57.603Z"
   },
   {
    "duration": 5,
    "start_time": "2022-10-09T17:55:19.856Z"
   },
   {
    "duration": 259,
    "start_time": "2022-10-09T17:55:26.226Z"
   },
   {
    "duration": 15326,
    "start_time": "2022-10-09T17:55:37.231Z"
   },
   {
    "duration": 1585,
    "start_time": "2022-10-09T17:56:04.210Z"
   },
   {
    "duration": 838,
    "start_time": "2022-10-09T17:56:05.797Z"
   },
   {
    "duration": 18,
    "start_time": "2022-10-09T17:56:06.637Z"
   },
   {
    "duration": 22,
    "start_time": "2022-10-09T17:56:06.658Z"
   },
   {
    "duration": 188,
    "start_time": "2022-10-09T17:56:06.682Z"
   },
   {
    "duration": 5,
    "start_time": "2022-10-09T17:56:06.872Z"
   },
   {
    "duration": 193,
    "start_time": "2022-10-09T17:56:06.879Z"
   },
   {
    "duration": 208,
    "start_time": "2022-10-09T17:56:07.074Z"
   },
   {
    "duration": 9,
    "start_time": "2022-10-09T17:56:16.727Z"
   },
   {
    "duration": 188876,
    "start_time": "2022-10-09T17:56:32.775Z"
   },
   {
    "duration": 61507,
    "start_time": "2022-10-09T18:04:06.180Z"
   },
   {
    "duration": 1461,
    "start_time": "2022-10-09T18:06:33.881Z"
   },
   {
    "duration": 1380,
    "start_time": "2022-10-09T18:06:51.918Z"
   },
   {
    "duration": 18,
    "start_time": "2022-10-09T18:07:35.158Z"
   },
   {
    "duration": 61,
    "start_time": "2022-10-09T18:07:49.770Z"
   },
   {
    "duration": 4,
    "start_time": "2022-10-09T18:08:44.438Z"
   },
   {
    "duration": 204,
    "start_time": "2022-10-09T18:10:09.154Z"
   },
   {
    "duration": 3,
    "start_time": "2022-10-09T18:10:22.862Z"
   },
   {
    "duration": 35791,
    "start_time": "2022-10-09T18:10:25.033Z"
   },
   {
    "duration": 18472,
    "start_time": "2022-10-09T18:11:12.812Z"
   },
   {
    "duration": 140354,
    "start_time": "2022-10-09T18:11:35.694Z"
   },
   {
    "duration": 115804,
    "start_time": "2022-10-09T18:14:46.203Z"
   },
   {
    "duration": 10,
    "start_time": "2022-10-09T18:16:56.414Z"
   },
   {
    "duration": 13407,
    "start_time": "2022-10-09T19:03:28.317Z"
   },
   {
    "duration": 937,
    "start_time": "2022-10-09T19:04:54.551Z"
   },
   {
    "duration": 1733,
    "start_time": "2022-10-09T19:05:28.963Z"
   },
   {
    "duration": 842,
    "start_time": "2022-10-09T19:05:30.698Z"
   },
   {
    "duration": 15,
    "start_time": "2022-10-09T19:05:31.542Z"
   },
   {
    "duration": 20,
    "start_time": "2022-10-09T19:05:31.559Z"
   },
   {
    "duration": 194,
    "start_time": "2022-10-09T19:05:31.581Z"
   },
   {
    "duration": 4,
    "start_time": "2022-10-09T19:05:31.777Z"
   },
   {
    "duration": 181,
    "start_time": "2022-10-09T19:05:31.783Z"
   },
   {
    "duration": 216,
    "start_time": "2022-10-09T19:05:31.965Z"
   },
   {
    "duration": 9,
    "start_time": "2022-10-09T19:05:32.183Z"
   },
   {
    "duration": 192729,
    "start_time": "2022-10-09T19:05:32.195Z"
   },
   {
    "duration": 64341,
    "start_time": "2022-10-09T19:08:44.926Z"
   },
   {
    "duration": 1740,
    "start_time": "2022-10-10T07:49:09.404Z"
   },
   {
    "duration": 3291,
    "start_time": "2022-10-10T07:49:25.867Z"
   },
   {
    "duration": 12,
    "start_time": "2022-10-10T07:49:32.657Z"
   },
   {
    "duration": 7,
    "start_time": "2022-10-10T07:49:36.035Z"
   },
   {
    "duration": 163,
    "start_time": "2022-10-10T07:49:38.730Z"
   },
   {
    "duration": 5,
    "start_time": "2022-10-10T08:23:33.314Z"
   },
   {
    "duration": 715,
    "start_time": "2022-10-10T08:25:31.909Z"
   },
   {
    "duration": 113,
    "start_time": "2022-10-10T08:26:48.462Z"
   },
   {
    "duration": 164,
    "start_time": "2022-10-10T08:27:14.722Z"
   },
   {
    "duration": 5,
    "start_time": "2022-10-10T08:27:21.148Z"
   },
   {
    "duration": 14,
    "start_time": "2022-10-10T08:30:59.628Z"
   },
   {
    "duration": 8,
    "start_time": "2022-10-10T08:31:05.582Z"
   },
   {
    "duration": 6015,
    "start_time": "2022-10-10T08:31:18.331Z"
   },
   {
    "duration": 180903,
    "start_time": "2022-10-10T08:31:25.315Z"
   },
   {
    "duration": 10,
    "start_time": "2022-10-10T08:34:51.965Z"
   },
   {
    "duration": 301665,
    "start_time": "2022-10-10T08:35:10.054Z"
   },
   {
    "duration": 1446,
    "start_time": "2022-10-10T11:03:03.850Z"
   },
   {
    "duration": 1442,
    "start_time": "2022-10-10T11:03:19.203Z"
   },
   {
    "duration": 2120,
    "start_time": "2022-10-10T11:03:29.951Z"
   },
   {
    "duration": 1743,
    "start_time": "2022-10-10T11:03:34.742Z"
   },
   {
    "duration": 179955,
    "start_time": "2022-10-10T11:04:15.168Z"
   },
   {
    "duration": 77,
    "start_time": "2022-10-10T11:07:25.813Z"
   },
   {
    "duration": 5,
    "start_time": "2022-10-10T11:08:36.552Z"
   },
   {
    "duration": 4,
    "start_time": "2022-10-10T11:08:51.865Z"
   },
   {
    "duration": 1557,
    "start_time": "2022-10-10T11:09:08.404Z"
   },
   {
    "duration": 738,
    "start_time": "2022-10-10T11:09:09.963Z"
   },
   {
    "duration": 14,
    "start_time": "2022-10-10T11:09:10.702Z"
   },
   {
    "duration": 13,
    "start_time": "2022-10-10T11:09:10.719Z"
   },
   {
    "duration": 193,
    "start_time": "2022-10-10T11:09:10.734Z"
   },
   {
    "duration": 6,
    "start_time": "2022-10-10T11:09:10.929Z"
   },
   {
    "duration": 189,
    "start_time": "2022-10-10T11:09:10.937Z"
   },
   {
    "duration": 112,
    "start_time": "2022-10-10T11:09:11.128Z"
   },
   {
    "duration": 9,
    "start_time": "2022-10-10T11:09:11.242Z"
   },
   {
    "duration": 171997,
    "start_time": "2022-10-10T11:09:11.254Z"
   },
   {
    "duration": 290478,
    "start_time": "2022-10-10T11:12:03.252Z"
   },
   {
    "duration": 199,
    "start_time": "2022-10-10T11:17:14.602Z"
   },
   {
    "duration": 1719,
    "start_time": "2022-10-10T11:18:17.556Z"
   },
   {
    "duration": 4,
    "start_time": "2022-10-10T11:18:53.046Z"
   },
   {
    "duration": 5,
    "start_time": "2022-10-10T11:19:09.987Z"
   },
   {
    "duration": 4,
    "start_time": "2022-10-10T11:20:15.703Z"
   },
   {
    "duration": 7,
    "start_time": "2022-10-10T11:21:09.853Z"
   },
   {
    "duration": 3725,
    "start_time": "2022-10-10T11:23:30.103Z"
   },
   {
    "duration": 121,
    "start_time": "2022-10-10T11:31:54.438Z"
   },
   {
    "duration": 2730,
    "start_time": "2022-10-10T11:32:06.622Z"
   },
   {
    "duration": 4519,
    "start_time": "2022-10-10T11:33:55.513Z"
   },
   {
    "duration": 50,
    "start_time": "2022-10-10T11:34:57.867Z"
   },
   {
    "duration": 100,
    "start_time": "2022-10-10T11:35:02.896Z"
   },
   {
    "duration": 59,
    "start_time": "2022-10-10T11:35:26.021Z"
   },
   {
    "duration": 79,
    "start_time": "2022-10-10T11:35:46.519Z"
   },
   {
    "duration": 2463,
    "start_time": "2022-10-10T11:38:42.926Z"
   },
   {
    "duration": 3248,
    "start_time": "2022-10-10T11:39:49.185Z"
   },
   {
    "duration": 1735,
    "start_time": "2022-10-10T11:40:12.365Z"
   },
   {
    "duration": 2953,
    "start_time": "2022-10-10T11:42:53.560Z"
   },
   {
    "duration": 3259,
    "start_time": "2022-10-10T11:43:13.600Z"
   },
   {
    "duration": 3348,
    "start_time": "2022-10-10T11:43:46.064Z"
   },
   {
    "duration": 3413,
    "start_time": "2022-10-10T11:43:55.525Z"
   },
   {
    "duration": 3242,
    "start_time": "2022-10-10T11:44:09.176Z"
   },
   {
    "duration": 3220,
    "start_time": "2022-10-10T11:44:22.116Z"
   },
   {
    "duration": 19,
    "start_time": "2022-10-10T11:46:52.392Z"
   },
   {
    "duration": 3,
    "start_time": "2022-10-10T11:46:59.538Z"
   },
   {
    "duration": 103,
    "start_time": "2022-10-10T11:47:09.887Z"
   },
   {
    "duration": 92,
    "start_time": "2022-10-10T11:47:20.481Z"
   },
   {
    "duration": 29379,
    "start_time": "2022-10-10T11:47:26.527Z"
   },
   {
    "duration": 4,
    "start_time": "2022-10-10T11:48:01.463Z"
   },
   {
    "duration": 695,
    "start_time": "2022-10-10T11:48:01.473Z"
   },
   {
    "duration": 14,
    "start_time": "2022-10-10T11:48:02.170Z"
   },
   {
    "duration": 8,
    "start_time": "2022-10-10T11:48:02.194Z"
   },
   {
    "duration": 92,
    "start_time": "2022-10-10T11:48:02.203Z"
   },
   {
    "duration": 4,
    "start_time": "2022-10-10T11:48:02.298Z"
   },
   {
    "duration": 12,
    "start_time": "2022-10-10T11:48:02.304Z"
   },
   {
    "duration": 144,
    "start_time": "2022-10-10T11:48:02.317Z"
   },
   {
    "duration": 9,
    "start_time": "2022-10-10T11:48:02.463Z"
   },
   {
    "duration": 170717,
    "start_time": "2022-10-10T11:48:02.474Z"
   },
   {
    "duration": 313135,
    "start_time": "2022-10-10T11:50:53.196Z"
   },
   {
    "duration": 3224,
    "start_time": "2022-10-10T11:56:06.333Z"
   },
   {
    "duration": 16,
    "start_time": "2022-10-10T11:56:09.559Z"
   },
   {
    "duration": 4,
    "start_time": "2022-10-10T11:56:09.576Z"
   },
   {
    "duration": 25213,
    "start_time": "2022-10-10T11:56:09.582Z"
   },
   {
    "duration": 16804,
    "start_time": "2022-10-10T11:56:34.797Z"
   },
   {
    "duration": 112514,
    "start_time": "2022-10-10T11:56:51.602Z"
   },
   {
    "duration": 129290,
    "start_time": "2022-10-10T11:58:44.118Z"
   },
   {
    "duration": 10,
    "start_time": "2022-10-10T12:00:53.410Z"
   },
   {
    "duration": 15962,
    "start_time": "2022-10-10T12:24:03.044Z"
   },
   {
    "duration": 160,
    "start_time": "2022-10-10T12:24:24.862Z"
   },
   {
    "duration": 1526,
    "start_time": "2022-10-10T12:24:38.811Z"
   },
   {
    "duration": 83,
    "start_time": "2022-10-10T12:28:43.724Z"
   },
   {
    "duration": 4,
    "start_time": "2022-10-10T12:29:15.302Z"
   },
   {
    "duration": 8288,
    "start_time": "2022-10-10T12:29:33.430Z"
   },
   {
    "duration": 6149,
    "start_time": "2022-10-10T12:30:26.504Z"
   },
   {
    "duration": 3543,
    "start_time": "2022-10-10T12:31:10.094Z"
   },
   {
    "duration": 12247,
    "start_time": "2022-10-10T12:31:29.806Z"
   },
   {
    "duration": 11953,
    "start_time": "2022-10-10T12:31:49.177Z"
   },
   {
    "duration": 11770,
    "start_time": "2022-10-10T12:32:42.689Z"
   },
   {
    "duration": 336575,
    "start_time": "2022-10-10T12:33:47.591Z"
   },
   {
    "duration": 10,
    "start_time": "2022-10-10T13:36:37.354Z"
   },
   {
    "duration": 3,
    "start_time": "2022-10-10T13:36:48.912Z"
   },
   {
    "duration": 18,
    "start_time": "2022-10-10T13:37:22.791Z"
   },
   {
    "duration": 129,
    "start_time": "2022-10-10T13:37:48.701Z"
   },
   {
    "duration": 46,
    "start_time": "2022-10-10T13:39:45.944Z"
   },
   {
    "duration": 17,
    "start_time": "2022-10-10T13:39:51.547Z"
   },
   {
    "duration": 958025,
    "start_time": "2022-10-10T13:39:56.255Z"
   },
   {
    "duration": 115,
    "start_time": "2022-10-10T13:57:39.589Z"
   },
   {
    "duration": 310370,
    "start_time": "2022-10-10T13:58:02.304Z"
   },
   {
    "duration": 11592,
    "start_time": "2022-10-10T14:04:03.872Z"
   },
   {
    "duration": 118480,
    "start_time": "2022-10-10T14:04:22.926Z"
   },
   {
    "duration": 102,
    "start_time": "2022-10-10T14:06:21.407Z"
   },
   {
    "duration": 48053,
    "start_time": "2022-10-10T14:06:47.950Z"
   },
   {
    "duration": 1880,
    "start_time": "2022-10-10T14:07:52.757Z"
   },
   {
    "duration": 6504,
    "start_time": "2022-10-10T14:26:28.461Z"
   },
   {
    "duration": 59519,
    "start_time": "2022-10-10T14:26:36.310Z"
   },
   {
    "duration": 590,
    "start_time": "2022-10-10T14:29:17.891Z"
   },
   {
    "duration": 266,
    "start_time": "2022-10-10T14:29:23.538Z"
   },
   {
    "duration": 203,
    "start_time": "2022-10-10T14:29:45.515Z"
   },
   {
    "duration": 126,
    "start_time": "2022-10-10T14:30:31.014Z"
   },
   {
    "duration": 9,
    "start_time": "2022-10-10T14:30:35.363Z"
   },
   {
    "duration": 186725,
    "start_time": "2022-10-10T14:30:37.909Z"
   },
   {
    "duration": 1867,
    "start_time": "2022-10-10T14:39:13.671Z"
   },
   {
    "duration": 329839,
    "start_time": "2022-10-10T14:39:20.472Z"
   },
   {
    "duration": 3635,
    "start_time": "2022-10-10T14:45:03.012Z"
   },
   {
    "duration": 9,
    "start_time": "2022-10-10T15:00:55.351Z"
   },
   {
    "duration": 24231,
    "start_time": "2022-10-10T15:01:03.284Z"
   },
   {
    "duration": 99,
    "start_time": "2022-10-10T15:01:46.745Z"
   },
   {
    "duration": 216,
    "start_time": "2022-10-10T15:01:50.636Z"
   },
   {
    "duration": 302,
    "start_time": "2022-10-10T15:02:00.348Z"
   },
   {
    "duration": 94,
    "start_time": "2022-10-10T15:02:45.847Z"
   },
   {
    "duration": 286,
    "start_time": "2022-10-10T15:03:11.474Z"
   },
   {
    "duration": 94,
    "start_time": "2022-10-10T15:03:47.531Z"
   },
   {
    "duration": 283,
    "start_time": "2022-10-10T15:03:49.646Z"
   },
   {
    "duration": 291,
    "start_time": "2022-10-10T15:04:01.946Z"
   },
   {
    "duration": 6980,
    "start_time": "2022-10-10T15:04:14.569Z"
   },
   {
    "duration": 16654,
    "start_time": "2022-10-10T15:04:28.213Z"
   },
   {
    "duration": 12198,
    "start_time": "2022-10-10T15:05:11.367Z"
   },
   {
    "duration": 120,
    "start_time": "2022-10-10T15:05:30.957Z"
   },
   {
    "duration": 311,
    "start_time": "2022-10-10T15:05:36.422Z"
   },
   {
    "duration": 2008,
    "start_time": "2022-10-11T06:31:01.183Z"
   },
   {
    "duration": 3781,
    "start_time": "2022-10-11T06:31:03.193Z"
   },
   {
    "duration": 14,
    "start_time": "2022-10-11T06:31:06.976Z"
   },
   {
    "duration": 11,
    "start_time": "2022-10-11T06:31:06.992Z"
   },
   {
    "duration": 184,
    "start_time": "2022-10-11T06:31:07.005Z"
   },
   {
    "duration": 5,
    "start_time": "2022-10-11T06:31:07.191Z"
   },
   {
    "duration": 735,
    "start_time": "2022-10-11T06:31:07.197Z"
   },
   {
    "duration": 224,
    "start_time": "2022-10-11T06:31:07.934Z"
   },
   {
    "duration": 0,
    "start_time": "2022-10-11T06:31:08.160Z"
   },
   {
    "duration": 0,
    "start_time": "2022-10-11T06:31:08.162Z"
   },
   {
    "duration": 0,
    "start_time": "2022-10-11T06:31:08.163Z"
   },
   {
    "duration": 0,
    "start_time": "2022-10-11T06:31:08.166Z"
   },
   {
    "duration": 0,
    "start_time": "2022-10-11T06:31:08.167Z"
   },
   {
    "duration": 0,
    "start_time": "2022-10-11T06:31:08.190Z"
   },
   {
    "duration": 0,
    "start_time": "2022-10-11T06:31:08.191Z"
   },
   {
    "duration": 0,
    "start_time": "2022-10-11T06:31:08.193Z"
   },
   {
    "duration": 1,
    "start_time": "2022-10-11T06:31:08.194Z"
   },
   {
    "duration": 0,
    "start_time": "2022-10-11T06:31:08.198Z"
   },
   {
    "duration": 0,
    "start_time": "2022-10-11T06:31:08.199Z"
   },
   {
    "duration": 0,
    "start_time": "2022-10-11T06:31:08.201Z"
   },
   {
    "duration": 0,
    "start_time": "2022-10-11T06:31:08.202Z"
   },
   {
    "duration": 0,
    "start_time": "2022-10-11T06:31:08.205Z"
   },
   {
    "duration": 0,
    "start_time": "2022-10-11T06:31:08.206Z"
   },
   {
    "duration": 0,
    "start_time": "2022-10-11T06:31:08.208Z"
   },
   {
    "duration": 147,
    "start_time": "2022-10-11T06:51:36.153Z"
   },
   {
    "duration": 4,
    "start_time": "2022-10-11T06:51:45.574Z"
   },
   {
    "duration": 1035,
    "start_time": "2022-10-11T06:51:45.583Z"
   },
   {
    "duration": 19,
    "start_time": "2022-10-11T06:51:46.622Z"
   },
   {
    "duration": 9,
    "start_time": "2022-10-11T06:51:46.643Z"
   },
   {
    "duration": 95,
    "start_time": "2022-10-11T06:51:46.654Z"
   },
   {
    "duration": 5,
    "start_time": "2022-10-11T06:51:46.751Z"
   },
   {
    "duration": 14,
    "start_time": "2022-10-11T06:51:46.758Z"
   },
   {
    "duration": 195,
    "start_time": "2022-10-11T06:51:46.774Z"
   },
   {
    "duration": 27,
    "start_time": "2022-10-11T06:51:46.972Z"
   },
   {
    "duration": 240484,
    "start_time": "2022-10-11T06:51:47.002Z"
   },
   {
    "duration": 385785,
    "start_time": "2022-10-11T06:55:47.490Z"
   },
   {
    "duration": 4070,
    "start_time": "2022-10-11T07:02:13.277Z"
   },
   {
    "duration": 25,
    "start_time": "2022-10-11T07:02:17.349Z"
   },
   {
    "duration": 52402,
    "start_time": "2022-10-11T07:02:17.395Z"
   },
   {
    "duration": 20561,
    "start_time": "2022-10-11T07:03:09.816Z"
   },
   {
    "duration": 170157,
    "start_time": "2022-10-11T07:03:30.379Z"
   },
   {
    "duration": 168118,
    "start_time": "2022-10-11T07:06:20.538Z"
   },
   {
    "duration": 11,
    "start_time": "2022-10-11T07:09:08.658Z"
   },
   {
    "duration": 31134,
    "start_time": "2022-10-11T07:09:08.670Z"
   },
   {
    "duration": 196,
    "start_time": "2022-10-11T07:09:39.806Z"
   },
   {
    "duration": 1826,
    "start_time": "2022-10-11T07:09:40.004Z"
   },
   {
    "duration": 15196,
    "start_time": "2022-10-11T07:09:41.833Z"
   },
   {
    "duration": 143,
    "start_time": "2022-10-11T07:09:57.030Z"
   },
   {
    "duration": 331,
    "start_time": "2022-10-11T07:10:13.930Z"
   },
   {
    "duration": 88,
    "start_time": "2022-10-11T07:12:37.019Z"
   },
   {
    "duration": 126,
    "start_time": "2022-10-11T07:12:44.675Z"
   },
   {
    "duration": 104,
    "start_time": "2022-10-11T07:12:53.658Z"
   },
   {
    "duration": 111,
    "start_time": "2022-10-11T07:13:08.608Z"
   },
   {
    "duration": 130,
    "start_time": "2022-10-11T07:13:27.840Z"
   },
   {
    "duration": 1889,
    "start_time": "2022-10-11T18:20:40.850Z"
   },
   {
    "duration": 6,
    "start_time": "2022-10-11T18:20:47.836Z"
   },
   {
    "duration": 3481,
    "start_time": "2022-10-11T18:20:47.845Z"
   },
   {
    "duration": 14,
    "start_time": "2022-10-11T18:20:51.328Z"
   },
   {
    "duration": 11,
    "start_time": "2022-10-11T18:20:51.344Z"
   },
   {
    "duration": 204,
    "start_time": "2022-10-11T18:20:51.357Z"
   },
   {
    "duration": 5,
    "start_time": "2022-10-11T18:20:51.562Z"
   },
   {
    "duration": 735,
    "start_time": "2022-10-11T18:20:51.568Z"
   },
   {
    "duration": 136,
    "start_time": "2022-10-11T18:20:52.306Z"
   },
   {
    "duration": 9,
    "start_time": "2022-10-11T18:20:52.444Z"
   },
   {
    "duration": 180969,
    "start_time": "2022-10-11T18:20:52.455Z"
   },
   {
    "duration": 306192,
    "start_time": "2022-10-11T18:23:53.426Z"
   },
   {
    "duration": 3362,
    "start_time": "2022-10-11T18:28:59.620Z"
   },
   {
    "duration": 23,
    "start_time": "2022-10-11T18:29:02.983Z"
   },
   {
    "duration": 38589,
    "start_time": "2022-10-11T18:29:03.008Z"
   },
   {
    "duration": 16073,
    "start_time": "2022-10-11T18:29:41.599Z"
   },
   {
    "duration": 109011,
    "start_time": "2022-10-11T18:29:57.675Z"
   },
   {
    "duration": 125647,
    "start_time": "2022-10-11T18:31:46.688Z"
   },
   {
    "duration": 11,
    "start_time": "2022-10-11T18:33:52.337Z"
   },
   {
    "duration": 20955,
    "start_time": "2022-10-11T18:33:52.350Z"
   },
   {
    "duration": 232,
    "start_time": "2022-10-11T18:34:13.307Z"
   },
   {
    "duration": 1559,
    "start_time": "2022-10-11T18:34:13.541Z"
   },
   {
    "duration": 11417,
    "start_time": "2022-10-11T18:34:15.102Z"
   },
   {
    "duration": 134,
    "start_time": "2022-10-11T18:34:26.520Z"
   },
   {
    "duration": 315,
    "start_time": "2022-10-11T18:34:26.656Z"
   },
   {
    "duration": 17,
    "start_time": "2022-10-11T18:49:26.144Z"
   },
   {
    "duration": 321,
    "start_time": "2022-10-11T18:49:44.720Z"
   },
   {
    "duration": 128,
    "start_time": "2022-10-11T18:50:20.378Z"
   },
   {
    "duration": 16,
    "start_time": "2022-10-11T18:50:55.336Z"
   },
   {
    "duration": 332,
    "start_time": "2022-10-11T18:53:18.931Z"
   },
   {
    "duration": 334,
    "start_time": "2022-10-11T18:53:33.548Z"
   },
   {
    "duration": 325,
    "start_time": "2022-10-11T18:53:45.453Z"
   },
   {
    "duration": 16,
    "start_time": "2022-10-11T18:53:49.485Z"
   },
   {
    "duration": 358,
    "start_time": "2022-10-11T18:54:23.540Z"
   },
   {
    "duration": 333,
    "start_time": "2022-10-11T18:54:34.796Z"
   },
   {
    "duration": 369,
    "start_time": "2022-10-11T18:54:44.536Z"
   },
   {
    "duration": 270,
    "start_time": "2022-10-11T18:55:20.176Z"
   },
   {
    "duration": 303,
    "start_time": "2022-10-11T18:56:06.661Z"
   },
   {
    "duration": 298,
    "start_time": "2022-10-11T18:56:15.876Z"
   },
   {
    "duration": 280,
    "start_time": "2022-10-11T18:56:23.254Z"
   },
   {
    "duration": 280,
    "start_time": "2022-10-11T18:57:35.315Z"
   },
   {
    "duration": 360,
    "start_time": "2022-10-11T18:57:52.798Z"
   },
   {
    "duration": 18,
    "start_time": "2022-10-11T18:57:57.315Z"
   },
   {
    "duration": 15149,
    "start_time": "2022-10-11T18:58:59.775Z"
   },
   {
    "duration": 98,
    "start_time": "2022-10-11T18:59:23.219Z"
   },
   {
    "duration": 98,
    "start_time": "2022-10-11T18:59:32.681Z"
   },
   {
    "duration": 16392,
    "start_time": "2022-10-11T19:00:06.322Z"
   },
   {
    "duration": 104,
    "start_time": "2022-10-11T19:02:09.441Z"
   },
   {
    "duration": 344,
    "start_time": "2022-10-11T19:02:22.332Z"
   },
   {
    "duration": 17,
    "start_time": "2022-10-11T19:02:42.169Z"
   },
   {
    "duration": 17,
    "start_time": "2022-10-11T19:02:52.994Z"
   },
   {
    "duration": 348,
    "start_time": "2022-10-11T19:03:20.595Z"
   },
   {
    "duration": 369,
    "start_time": "2022-10-11T19:03:37.993Z"
   },
   {
    "duration": 322,
    "start_time": "2022-10-11T19:05:51.640Z"
   },
   {
    "duration": 320,
    "start_time": "2022-10-11T19:37:45.196Z"
   },
   {
    "duration": 301,
    "start_time": "2022-10-11T19:37:50.473Z"
   },
   {
    "duration": 71,
    "start_time": "2022-10-11T19:43:05.293Z"
   },
   {
    "duration": 141,
    "start_time": "2022-10-11T20:03:30.916Z"
   },
   {
    "duration": 183,
    "start_time": "2022-10-11T20:04:00.903Z"
   },
   {
    "duration": 53,
    "start_time": "2022-10-11T20:05:12.824Z"
   },
   {
    "duration": 17,
    "start_time": "2022-10-11T20:05:24.120Z"
   },
   {
    "duration": 862787,
    "start_time": "2022-10-11T20:05:26.185Z"
   },
   {
    "duration": 5,
    "start_time": "2022-10-11T20:19:48.974Z"
   },
   {
    "duration": 24,
    "start_time": "2022-10-11T20:19:48.981Z"
   },
   {
    "duration": 119,
    "start_time": "2022-10-11T20:20:03.332Z"
   },
   {
    "duration": 11,
    "start_time": "2022-10-11T20:20:56.455Z"
   },
   {
    "duration": 172407,
    "start_time": "2022-10-11T20:20:58.648Z"
   },
   {
    "duration": 1713,
    "start_time": "2022-10-11T20:26:14.457Z"
   },
   {
    "duration": 309223,
    "start_time": "2022-10-11T20:26:27.038Z"
   },
   {
    "duration": 3012,
    "start_time": "2022-10-11T20:31:36.262Z"
   },
   {
    "duration": 30634,
    "start_time": "2022-10-11T20:34:34.068Z"
   },
   {
    "duration": 9,
    "start_time": "2022-10-11T20:35:29.253Z"
   },
   {
    "duration": 19090,
    "start_time": "2022-10-11T20:35:34.115Z"
   },
   {
    "duration": 11372,
    "start_time": "2022-10-11T20:36:10.580Z"
   },
   {
    "duration": 14058,
    "start_time": "2022-10-11T20:36:29.859Z"
   },
   {
    "duration": 114,
    "start_time": "2022-10-11T20:37:01.832Z"
   },
   {
    "duration": 143,
    "start_time": "2022-10-11T20:37:07.668Z"
   },
   {
    "duration": 108,
    "start_time": "2022-10-11T20:37:11.244Z"
   },
   {
    "duration": 124,
    "start_time": "2022-10-11T20:37:15.362Z"
   },
   {
    "duration": 118,
    "start_time": "2022-10-11T20:37:18.735Z"
   },
   {
    "duration": 134,
    "start_time": "2022-10-11T20:37:22.196Z"
   },
   {
    "duration": 99,
    "start_time": "2022-10-11T20:37:51.082Z"
   },
   {
    "duration": 109,
    "start_time": "2022-10-11T20:37:58.978Z"
   },
   {
    "duration": 13499,
    "start_time": "2022-10-11T20:38:03.209Z"
   },
   {
    "duration": 493,
    "start_time": "2022-10-11T20:38:21.869Z"
   },
   {
    "duration": 215,
    "start_time": "2022-10-11T20:38:47.058Z"
   },
   {
    "duration": 226,
    "start_time": "2022-10-11T20:38:50.223Z"
   },
   {
    "duration": 6,
    "start_time": "2022-10-11T20:38:59.573Z"
   },
   {
    "duration": 16,
    "start_time": "2022-10-11T20:39:01.209Z"
   },
   {
    "duration": 10,
    "start_time": "2022-10-11T20:39:14.447Z"
   },
   {
    "duration": 5,
    "start_time": "2022-10-11T20:39:27.928Z"
   },
   {
    "duration": 24,
    "start_time": "2022-10-11T20:39:47.141Z"
   },
   {
    "duration": 293,
    "start_time": "2022-10-11T20:40:21.537Z"
   },
   {
    "duration": 246,
    "start_time": "2022-10-11T20:40:31.975Z"
   },
   {
    "duration": 279,
    "start_time": "2022-10-11T20:40:36.627Z"
   },
   {
    "duration": 308,
    "start_time": "2022-10-11T20:40:39.993Z"
   },
   {
    "duration": 262,
    "start_time": "2022-10-11T20:40:42.961Z"
   },
   {
    "duration": 266,
    "start_time": "2022-10-11T20:40:46.125Z"
   },
   {
    "duration": 249,
    "start_time": "2022-10-11T20:40:50.438Z"
   },
   {
    "duration": 125,
    "start_time": "2022-10-11T20:41:30.292Z"
   },
   {
    "duration": 101,
    "start_time": "2022-10-11T20:41:35.034Z"
   },
   {
    "duration": 94,
    "start_time": "2022-10-11T20:41:39.229Z"
   },
   {
    "duration": 117,
    "start_time": "2022-10-11T20:41:42.212Z"
   },
   {
    "duration": 98,
    "start_time": "2022-10-11T20:41:45.818Z"
   },
   {
    "duration": 96,
    "start_time": "2022-10-11T20:41:49.453Z"
   },
   {
    "duration": 102,
    "start_time": "2022-10-11T20:41:52.720Z"
   },
   {
    "duration": 99,
    "start_time": "2022-10-11T20:41:56.088Z"
   },
   {
    "duration": 102,
    "start_time": "2022-10-11T20:42:00.545Z"
   },
   {
    "duration": 116,
    "start_time": "2022-10-11T20:42:03.975Z"
   },
   {
    "duration": 98,
    "start_time": "2022-10-11T20:42:13.764Z"
   },
   {
    "duration": 107,
    "start_time": "2022-10-11T20:42:15.992Z"
   },
   {
    "duration": 102,
    "start_time": "2022-10-11T20:42:19.943Z"
   },
   {
    "duration": 97,
    "start_time": "2022-10-11T20:42:23.172Z"
   },
   {
    "duration": 103,
    "start_time": "2022-10-11T20:42:27.284Z"
   },
   {
    "duration": 105,
    "start_time": "2022-10-11T20:42:31.425Z"
   },
   {
    "duration": 324,
    "start_time": "2022-10-11T20:42:47.248Z"
   },
   {
    "duration": 310,
    "start_time": "2022-10-11T20:42:57.235Z"
   },
   {
    "duration": 331,
    "start_time": "2022-10-11T20:43:09.432Z"
   },
   {
    "duration": 324,
    "start_time": "2022-10-11T20:43:20.858Z"
   },
   {
    "duration": 316,
    "start_time": "2022-10-11T20:43:42.889Z"
   },
   {
    "duration": 142,
    "start_time": "2022-10-11T20:43:54.204Z"
   },
   {
    "duration": 177,
    "start_time": "2022-10-11T20:44:57.946Z"
   },
   {
    "duration": 146,
    "start_time": "2022-10-11T20:47:31.981Z"
   },
   {
    "duration": 163,
    "start_time": "2022-10-11T20:47:36.600Z"
   },
   {
    "duration": 161,
    "start_time": "2022-10-11T20:47:41.191Z"
   },
   {
    "duration": 103,
    "start_time": "2022-10-11T20:47:51.979Z"
   },
   {
    "duration": 121,
    "start_time": "2022-10-11T20:52:13.679Z"
   },
   {
    "duration": 143,
    "start_time": "2022-10-11T20:52:28.046Z"
   },
   {
    "duration": 1705,
    "start_time": "2022-10-11T20:52:49.987Z"
   },
   {
    "duration": 1222,
    "start_time": "2022-10-11T20:52:51.694Z"
   },
   {
    "duration": 19,
    "start_time": "2022-10-11T20:52:52.917Z"
   },
   {
    "duration": 15,
    "start_time": "2022-10-11T20:52:52.938Z"
   },
   {
    "duration": 198,
    "start_time": "2022-10-11T20:52:52.956Z"
   },
   {
    "duration": 5,
    "start_time": "2022-10-11T20:52:53.156Z"
   },
   {
    "duration": 174,
    "start_time": "2022-10-11T20:52:53.163Z"
   },
   {
    "duration": 1175711,
    "start_time": "2022-10-11T20:57:53.056Z"
   },
   {
    "duration": 144,
    "start_time": "2022-10-11T21:17:28.769Z"
   },
   {
    "duration": 14,
    "start_time": "2022-10-11T21:17:28.915Z"
   },
   {
    "duration": 2225,
    "start_time": "2022-10-11T21:17:28.931Z"
   },
   {
    "duration": 126,
    "start_time": "2022-10-11T21:18:41.307Z"
   },
   {
    "duration": 118,
    "start_time": "2022-10-11T21:18:54.352Z"
   },
   {
    "duration": 45,
    "start_time": "2022-10-11T21:19:27.713Z"
   },
   {
    "duration": 136,
    "start_time": "2022-10-11T21:19:37.776Z"
   },
   {
    "duration": 112,
    "start_time": "2022-10-11T21:20:09.893Z"
   },
   {
    "duration": 113,
    "start_time": "2022-10-11T21:20:45.669Z"
   },
   {
    "duration": 124,
    "start_time": "2022-10-11T21:21:36.769Z"
   },
   {
    "duration": 59,
    "start_time": "2022-10-11T21:22:01.561Z"
   },
   {
    "duration": 59,
    "start_time": "2022-10-11T21:22:12.095Z"
   },
   {
    "duration": 61,
    "start_time": "2022-10-11T21:22:27.353Z"
   },
   {
    "duration": 113,
    "start_time": "2022-10-11T21:23:13.697Z"
   },
   {
    "duration": 116,
    "start_time": "2022-10-11T21:24:39.061Z"
   },
   {
    "duration": 123,
    "start_time": "2022-10-11T21:25:32.539Z"
   },
   {
    "duration": 60,
    "start_time": "2022-10-11T21:25:37.681Z"
   },
   {
    "duration": 63,
    "start_time": "2022-10-11T21:25:49.458Z"
   },
   {
    "duration": 115,
    "start_time": "2022-10-11T21:25:56.986Z"
   },
   {
    "duration": 60,
    "start_time": "2022-10-11T21:26:46.158Z"
   },
   {
    "duration": 57,
    "start_time": "2022-10-11T21:26:51.339Z"
   },
   {
    "duration": 136,
    "start_time": "2022-10-11T21:27:05.670Z"
   },
   {
    "duration": 76,
    "start_time": "2022-10-11T21:27:50.540Z"
   },
   {
    "duration": 131,
    "start_time": "2022-10-11T21:29:04.072Z"
   },
   {
    "duration": 13,
    "start_time": "2022-10-11T21:29:12.937Z"
   },
   {
    "duration": 2117,
    "start_time": "2022-10-11T21:29:17.186Z"
   },
   {
    "duration": 15,
    "start_time": "2022-10-11T21:30:50.556Z"
   },
   {
    "duration": 1913,
    "start_time": "2022-10-11T21:31:23.064Z"
   },
   {
    "duration": 1954,
    "start_time": "2022-10-11T21:31:52.811Z"
   },
   {
    "duration": 1723,
    "start_time": "2022-10-11T21:32:32.004Z"
   },
   {
    "duration": 6,
    "start_time": "2022-10-11T21:33:04.842Z"
   },
   {
    "duration": 6,
    "start_time": "2022-10-11T21:33:09.468Z"
   },
   {
    "duration": 8,
    "start_time": "2022-10-11T21:33:56.332Z"
   },
   {
    "duration": 272,
    "start_time": "2022-10-11T21:34:01.925Z"
   },
   {
    "duration": 6,
    "start_time": "2022-10-11T21:34:04.626Z"
   },
   {
    "duration": 17,
    "start_time": "2022-10-11T21:34:12.200Z"
   },
   {
    "duration": 6,
    "start_time": "2022-10-11T21:34:16.789Z"
   },
   {
    "duration": 2033,
    "start_time": "2022-10-11T21:34:30.510Z"
   },
   {
    "duration": 2185,
    "start_time": "2022-10-11T21:34:59.653Z"
   },
   {
    "duration": 8,
    "start_time": "2022-10-11T21:35:19.107Z"
   },
   {
    "duration": 4272,
    "start_time": "2022-10-11T21:35:31.194Z"
   },
   {
    "duration": 16,
    "start_time": "2022-10-11T21:35:41.381Z"
   },
   {
    "duration": 9529,
    "start_time": "2022-10-11T21:37:28.268Z"
   },
   {
    "duration": 9762,
    "start_time": "2022-10-11T21:37:43.845Z"
   },
   {
    "duration": 3031,
    "start_time": "2022-10-11T21:38:37.044Z"
   },
   {
    "duration": 7636,
    "start_time": "2022-10-11T21:39:20.466Z"
   },
   {
    "duration": 82,
    "start_time": "2022-10-11T21:43:06.375Z"
   },
   {
    "duration": 3926,
    "start_time": "2022-10-11T21:43:20.722Z"
   },
   {
    "duration": 63,
    "start_time": "2022-10-11T21:44:12.990Z"
   },
   {
    "duration": 409,
    "start_time": "2022-10-11T21:45:16.198Z"
   },
   {
    "duration": 392,
    "start_time": "2022-10-11T21:45:24.623Z"
   },
   {
    "duration": 463,
    "start_time": "2022-10-11T21:45:37.393Z"
   },
   {
    "duration": 54,
    "start_time": "2022-10-11T21:45:52.974Z"
   },
   {
    "duration": 53,
    "start_time": "2022-10-11T21:45:59.285Z"
   },
   {
    "duration": 353,
    "start_time": "2022-10-11T21:47:24.302Z"
   },
   {
    "duration": 4,
    "start_time": "2022-10-11T21:48:54.722Z"
   },
   {
    "duration": 5078,
    "start_time": "2022-10-11T21:49:35.887Z"
   },
   {
    "duration": 7012,
    "start_time": "2022-10-11T21:50:56.141Z"
   },
   {
    "duration": 12371,
    "start_time": "2022-10-11T21:51:30.980Z"
   },
   {
    "duration": 9,
    "start_time": "2022-10-11T21:52:09.451Z"
   },
   {
    "duration": 15711,
    "start_time": "2022-10-11T21:52:28.792Z"
   },
   {
    "duration": 9,
    "start_time": "2022-10-11T21:52:44.505Z"
   },
   {
    "duration": 6753,
    "start_time": "2022-10-11T21:53:10.785Z"
   },
   {
    "duration": 94600,
    "start_time": "2022-10-11T21:54:22.842Z"
   },
   {
    "duration": 270,
    "start_time": "2022-10-11T21:59:08.633Z"
   },
   {
    "duration": 3,
    "start_time": "2022-10-11T22:04:03.640Z"
   },
   {
    "duration": 11,
    "start_time": "2022-10-11T22:04:58.831Z"
   },
   {
    "duration": 6,
    "start_time": "2022-10-11T22:05:06.145Z"
   },
   {
    "duration": 6,
    "start_time": "2022-10-11T22:05:13.749Z"
   },
   {
    "duration": 5,
    "start_time": "2022-10-11T22:06:02.645Z"
   },
   {
    "duration": 13,
    "start_time": "2022-10-11T22:09:33.387Z"
   },
   {
    "duration": 18,
    "start_time": "2022-10-11T22:09:52.560Z"
   },
   {
    "duration": 13,
    "start_time": "2022-10-11T22:09:56.410Z"
   },
   {
    "duration": 4,
    "start_time": "2022-10-11T22:10:10.070Z"
   },
   {
    "duration": 13,
    "start_time": "2022-10-11T22:10:36.811Z"
   },
   {
    "duration": 1873,
    "start_time": "2022-10-11T22:11:02.507Z"
   },
   {
    "duration": 794,
    "start_time": "2022-10-11T22:11:04.382Z"
   },
   {
    "duration": 26,
    "start_time": "2022-10-11T22:11:05.178Z"
   },
   {
    "duration": 10,
    "start_time": "2022-10-11T22:11:05.206Z"
   },
   {
    "duration": 185,
    "start_time": "2022-10-11T22:11:05.218Z"
   },
   {
    "duration": 6,
    "start_time": "2022-10-11T22:11:05.406Z"
   },
   {
    "duration": 239,
    "start_time": "2022-10-11T22:11:05.413Z"
   },
   {
    "duration": 1168214,
    "start_time": "2022-10-11T22:11:05.654Z"
   },
   {
    "duration": 138,
    "start_time": "2022-10-11T22:30:33.869Z"
   },
   {
    "duration": 20,
    "start_time": "2022-10-11T22:30:52.657Z"
   },
   {
    "duration": 120,
    "start_time": "2022-10-11T22:30:56.995Z"
   },
   {
    "duration": 10100,
    "start_time": "2022-10-11T22:31:22.314Z"
   },
   {
    "duration": 10014,
    "start_time": "2022-10-11T22:31:56.426Z"
   },
   {
    "duration": 15630,
    "start_time": "2022-10-11T22:32:58.173Z"
   },
   {
    "duration": 17,
    "start_time": "2022-10-11T22:33:28.600Z"
   },
   {
    "duration": 304,
    "start_time": "2022-10-11T22:34:18.319Z"
   },
   {
    "duration": 1865,
    "start_time": "2022-10-11T22:35:04.160Z"
   },
   {
    "duration": 1078,
    "start_time": "2022-10-11T22:35:15.282Z"
   },
   {
    "duration": 17,
    "start_time": "2022-10-11T22:36:11.042Z"
   },
   {
    "duration": 15430,
    "start_time": "2022-10-11T22:38:09.090Z"
   },
   {
    "duration": 2192,
    "start_time": "2022-10-11T22:38:24.522Z"
   },
   {
    "duration": 47718,
    "start_time": "2022-10-11T22:39:15.961Z"
   },
   {
    "duration": 5539,
    "start_time": "2022-10-11T22:40:03.681Z"
   },
   {
    "duration": 26083,
    "start_time": "2022-10-11T22:40:09.222Z"
   },
   {
    "duration": 8411,
    "start_time": "2022-10-11T22:40:35.396Z"
   },
   {
    "duration": 7454,
    "start_time": "2022-10-11T22:40:59.346Z"
   },
   {
    "duration": 13112,
    "start_time": "2022-10-11T22:41:06.802Z"
   },
   {
    "duration": 35152,
    "start_time": "2022-10-11T22:41:19.916Z"
   },
   {
    "duration": 9,
    "start_time": "2022-10-11T22:41:55.069Z"
   },
   {
    "duration": 22790,
    "start_time": "2022-10-11T22:42:52.733Z"
   },
   {
    "duration": 12441,
    "start_time": "2022-10-11T22:43:38.571Z"
   },
   {
    "duration": 5764,
    "start_time": "2022-10-11T22:43:51.014Z"
   },
   {
    "duration": 1383,
    "start_time": "2022-10-11T22:44:26.248Z"
   },
   {
    "duration": 429,
    "start_time": "2022-10-11T22:44:40.914Z"
   },
   {
    "duration": 2899,
    "start_time": "2022-10-11T22:45:00.455Z"
   },
   {
    "duration": 3343,
    "start_time": "2022-10-11T22:45:15.663Z"
   },
   {
    "duration": 1515,
    "start_time": "2022-10-11T22:45:48.760Z"
   },
   {
    "duration": 4863,
    "start_time": "2022-10-11T22:46:06.603Z"
   },
   {
    "duration": 82,
    "start_time": "2022-10-11T22:46:46.429Z"
   },
   {
    "duration": 2033,
    "start_time": "2022-10-11T22:46:56.388Z"
   },
   {
    "duration": 82503,
    "start_time": "2022-10-11T22:47:59.443Z"
   },
   {
    "duration": 1342,
    "start_time": "2022-10-11T22:50:13.604Z"
   },
   {
    "duration": 1804,
    "start_time": "2022-10-12T06:52:56.024Z"
   },
   {
    "duration": 3269,
    "start_time": "2022-10-12T06:52:57.830Z"
   },
   {
    "duration": 12,
    "start_time": "2022-10-12T06:53:01.101Z"
   },
   {
    "duration": 13,
    "start_time": "2022-10-12T06:53:01.115Z"
   },
   {
    "duration": 181,
    "start_time": "2022-10-12T06:53:01.130Z"
   },
   {
    "duration": 5,
    "start_time": "2022-10-12T06:53:01.313Z"
   },
   {
    "duration": 651,
    "start_time": "2022-10-12T06:53:01.319Z"
   },
   {
    "duration": 1252046,
    "start_time": "2022-10-12T06:53:01.972Z"
   },
   {
    "duration": 144,
    "start_time": "2022-10-12T07:13:54.019Z"
   },
   {
    "duration": 20,
    "start_time": "2022-10-12T07:13:54.166Z"
   },
   {
    "duration": 3,
    "start_time": "2022-10-12T07:13:54.196Z"
   },
   {
    "duration": 7,
    "start_time": "2022-10-12T07:13:54.200Z"
   },
   {
    "duration": 53036,
    "start_time": "2022-10-12T07:13:54.208Z"
   },
   {
    "duration": 5846,
    "start_time": "2022-10-12T07:14:47.246Z"
   },
   {
    "duration": 18,
    "start_time": "2022-10-12T07:14:53.094Z"
   },
   {
    "duration": 26984,
    "start_time": "2022-10-12T07:14:53.114Z"
   },
   {
    "duration": 7402,
    "start_time": "2022-10-12T07:15:20.100Z"
   },
   {
    "duration": 14599,
    "start_time": "2022-10-12T07:15:27.504Z"
   },
   {
    "duration": 8399,
    "start_time": "2022-10-12T07:15:42.104Z"
   },
   {
    "duration": 106885,
    "start_time": "2022-10-12T07:15:50.505Z"
   },
   {
    "duration": 14770,
    "start_time": "2022-10-12T07:17:37.391Z"
   },
   {
    "duration": 113417,
    "start_time": "2022-10-12T07:17:52.163Z"
   },
   {
    "duration": 39522,
    "start_time": "2022-10-12T07:19:45.582Z"
   },
   {
    "duration": 8,
    "start_time": "2022-10-12T07:20:25.106Z"
   },
   {
    "duration": 28033,
    "start_time": "2022-10-12T07:20:25.116Z"
   },
   {
    "duration": 154,
    "start_time": "2022-10-12T07:20:53.150Z"
   },
   {
    "duration": 1802,
    "start_time": "2022-10-12T07:20:53.306Z"
   },
   {
    "duration": 94095,
    "start_time": "2022-10-12T07:20:55.111Z"
   },
   {
    "duration": 6219,
    "start_time": "2022-10-12T07:22:29.208Z"
   },
   {
    "duration": 1339,
    "start_time": "2022-10-12T07:22:35.429Z"
   },
   {
    "duration": 3331,
    "start_time": "2022-10-12T07:22:36.769Z"
   },
   {
    "duration": 285,
    "start_time": "2022-10-12T07:22:40.102Z"
   },
   {
    "duration": 1347,
    "start_time": "2022-10-12T07:22:40.389Z"
   },
   {
    "duration": 304,
    "start_time": "2022-10-12T07:56:23.941Z"
   },
   {
    "duration": 272,
    "start_time": "2022-10-12T07:56:53.960Z"
   },
   {
    "duration": 1435,
    "start_time": "2022-10-12T07:57:07.687Z"
   },
   {
    "duration": 1310,
    "start_time": "2022-10-12T07:58:13.092Z"
   },
   {
    "duration": 1239,
    "start_time": "2022-10-12T07:58:25.845Z"
   },
   {
    "duration": 3527,
    "start_time": "2022-10-12T08:00:27.014Z"
   },
   {
    "duration": 2956,
    "start_time": "2022-10-12T08:05:12.923Z"
   },
   {
    "duration": 285,
    "start_time": "2022-10-12T08:05:41.647Z"
   },
   {
    "duration": 284,
    "start_time": "2022-10-12T08:06:10.118Z"
   },
   {
    "duration": 1406,
    "start_time": "2022-10-12T08:06:33.858Z"
   },
   {
    "duration": 163,
    "start_time": "2022-10-12T08:08:19.196Z"
   },
   {
    "duration": 181,
    "start_time": "2022-10-12T08:08:30.339Z"
   },
   {
    "duration": 1383,
    "start_time": "2022-10-12T08:11:21.227Z"
   },
   {
    "duration": 1379,
    "start_time": "2022-10-12T08:11:29.104Z"
   },
   {
    "duration": 1320,
    "start_time": "2022-10-12T08:11:35.106Z"
   },
   {
    "duration": 1501,
    "start_time": "2022-10-12T08:13:01.268Z"
   },
   {
    "duration": 1766,
    "start_time": "2022-10-12T08:13:06.256Z"
   },
   {
    "duration": 3051,
    "start_time": "2022-10-12T08:14:24.491Z"
   },
   {
    "duration": 226,
    "start_time": "2022-10-12T08:15:02.132Z"
   },
   {
    "duration": 224,
    "start_time": "2022-10-12T08:15:44.687Z"
   },
   {
    "duration": 1355,
    "start_time": "2022-10-12T08:15:54.150Z"
   },
   {
    "duration": 1414,
    "start_time": "2022-10-12T08:16:44.621Z"
   },
   {
    "duration": 1352,
    "start_time": "2022-10-12T08:16:49.285Z"
   },
   {
    "duration": 1563,
    "start_time": "2022-10-12T08:16:57.458Z"
   },
   {
    "duration": 1410,
    "start_time": "2022-10-12T08:17:03.545Z"
   },
   {
    "duration": 1336,
    "start_time": "2022-10-12T08:17:14.592Z"
   },
   {
    "duration": 1454,
    "start_time": "2022-10-12T08:17:19.181Z"
   },
   {
    "duration": 1313,
    "start_time": "2022-10-12T08:18:40.098Z"
   },
   {
    "duration": 211,
    "start_time": "2022-10-12T08:18:47.660Z"
   },
   {
    "duration": 1415,
    "start_time": "2022-10-12T08:18:55.427Z"
   },
   {
    "duration": 220,
    "start_time": "2022-10-12T08:19:06.979Z"
   },
   {
    "duration": 1424,
    "start_time": "2022-10-12T08:19:14.045Z"
   },
   {
    "duration": 268,
    "start_time": "2022-10-12T08:19:24.360Z"
   },
   {
    "duration": 1050,
    "start_time": "2022-10-12T08:21:01.385Z"
   },
   {
    "duration": 951,
    "start_time": "2022-10-12T08:21:06.461Z"
   },
   {
    "duration": 1349,
    "start_time": "2022-10-12T08:21:14.228Z"
   },
   {
    "duration": 1001,
    "start_time": "2022-10-12T08:21:17.996Z"
   },
   {
    "duration": 890,
    "start_time": "2022-10-12T08:21:58.602Z"
   },
   {
    "duration": 1742,
    "start_time": "2022-10-12T08:22:13.195Z"
   },
   {
    "duration": 1350,
    "start_time": "2022-10-12T08:23:33.941Z"
   },
   {
    "duration": 1666,
    "start_time": "2022-10-12T08:23:36.792Z"
   },
   {
    "duration": 216,
    "start_time": "2022-10-12T08:23:47.823Z"
   },
   {
    "duration": 222,
    "start_time": "2022-10-12T08:23:57.874Z"
   },
   {
    "duration": 1740,
    "start_time": "2022-10-12T08:24:05.497Z"
   },
   {
    "duration": 6140,
    "start_time": "2022-10-12T08:25:40.942Z"
   },
   {
    "duration": 1438,
    "start_time": "2022-10-12T08:26:25.122Z"
   },
   {
    "duration": 1383,
    "start_time": "2022-10-12T08:26:32.482Z"
   },
   {
    "duration": 4740,
    "start_time": "2022-10-12T08:26:47.225Z"
   },
   {
    "duration": 1433,
    "start_time": "2022-10-12T08:26:57.927Z"
   },
   {
    "duration": 1805,
    "start_time": "2022-10-12T08:27:16.728Z"
   },
   {
    "duration": 97008,
    "start_time": "2022-10-12T08:29:00.785Z"
   },
   {
    "duration": 239,
    "start_time": "2022-10-12T08:34:48.688Z"
   },
   {
    "duration": 1431,
    "start_time": "2022-10-12T08:34:58.989Z"
   },
   {
    "duration": 220,
    "start_time": "2022-10-12T08:35:07.077Z"
   },
   {
    "duration": 1591,
    "start_time": "2022-10-12T08:35:22.449Z"
   },
   {
    "duration": 195,
    "start_time": "2022-10-12T08:36:45.957Z"
   },
   {
    "duration": 1420,
    "start_time": "2022-10-12T08:38:37.227Z"
   },
   {
    "duration": 1281,
    "start_time": "2022-10-12T08:38:44.217Z"
   },
   {
    "duration": 1450,
    "start_time": "2022-10-12T08:38:59.202Z"
   },
   {
    "duration": 1745,
    "start_time": "2022-10-12T08:39:08.356Z"
   },
   {
    "duration": 217,
    "start_time": "2022-10-12T08:39:28.350Z"
   },
   {
    "duration": 251,
    "start_time": "2022-10-12T08:39:42.739Z"
   },
   {
    "duration": 205,
    "start_time": "2022-10-12T08:39:50.946Z"
   },
   {
    "duration": 217,
    "start_time": "2022-10-12T08:39:54.713Z"
   },
   {
    "duration": 26754,
    "start_time": "2022-10-12T08:54:45.348Z"
   },
   {
    "duration": 5086,
    "start_time": "2022-10-12T08:56:00.435Z"
   },
   {
    "duration": 1729,
    "start_time": "2022-10-12T09:02:07.602Z"
   },
   {
    "duration": 805,
    "start_time": "2022-10-12T09:02:09.333Z"
   },
   {
    "duration": 12,
    "start_time": "2022-10-12T09:02:10.140Z"
   },
   {
    "duration": 16,
    "start_time": "2022-10-12T09:02:10.154Z"
   },
   {
    "duration": 178,
    "start_time": "2022-10-12T09:02:10.171Z"
   },
   {
    "duration": 5,
    "start_time": "2022-10-12T09:02:10.350Z"
   },
   {
    "duration": 267,
    "start_time": "2022-10-12T09:02:10.356Z"
   },
   {
    "duration": 1279323,
    "start_time": "2022-10-12T09:02:10.625Z"
   },
   {
    "duration": 153,
    "start_time": "2022-10-12T09:23:29.949Z"
   },
   {
    "duration": 20,
    "start_time": "2022-10-12T09:23:30.105Z"
   },
   {
    "duration": 26,
    "start_time": "2022-10-12T09:23:30.126Z"
   },
   {
    "duration": 52,
    "start_time": "2022-10-12T09:23:30.154Z"
   },
   {
    "duration": 54100,
    "start_time": "2022-10-12T09:23:30.208Z"
   },
   {
    "duration": 5813,
    "start_time": "2022-10-12T09:24:24.310Z"
   },
   {
    "duration": 16,
    "start_time": "2022-10-12T09:24:30.125Z"
   },
   {
    "duration": 7755,
    "start_time": "2022-10-12T09:24:30.142Z"
   },
   {
    "duration": 8452,
    "start_time": "2022-10-12T09:24:37.899Z"
   },
   {
    "duration": 15615,
    "start_time": "2022-10-12T09:24:46.352Z"
   },
   {
    "duration": 39699,
    "start_time": "2022-10-12T09:25:01.968Z"
   },
   {
    "duration": 9,
    "start_time": "2022-10-12T09:25:41.669Z"
   },
   {
    "duration": 26823,
    "start_time": "2022-10-12T09:25:41.681Z"
   },
   {
    "duration": 184,
    "start_time": "2022-10-12T09:26:08.506Z"
   },
   {
    "duration": 1764,
    "start_time": "2022-10-12T09:26:08.692Z"
   },
   {
    "duration": 93630,
    "start_time": "2022-10-12T09:26:10.458Z"
   },
   {
    "duration": 4414,
    "start_time": "2022-10-12T09:27:44.090Z"
   },
   {
    "duration": 1363,
    "start_time": "2022-10-12T09:27:48.505Z"
   },
   {
    "duration": 1759,
    "start_time": "2022-10-12T09:27:49.869Z"
   },
   {
    "duration": 214,
    "start_time": "2022-10-12T09:27:51.631Z"
   },
   {
    "duration": 1366,
    "start_time": "2022-10-12T09:27:51.847Z"
   },
   {
    "duration": 1711,
    "start_time": "2022-10-12T09:27:53.215Z"
   }
  ],
  "kernelspec": {
   "display_name": "Python 3 (ipykernel)",
   "language": "python",
   "name": "python3"
  },
  "language_info": {
   "codemirror_mode": {
    "name": "ipython",
    "version": 3
   },
   "file_extension": ".py",
   "mimetype": "text/x-python",
   "name": "python",
   "nbconvert_exporter": "python",
   "pygments_lexer": "ipython3",
   "version": "3.9.5"
  },
  "toc": {
   "base_numbering": 1,
   "nav_menu": {},
   "number_sections": true,
   "sideBar": true,
   "skip_h1_title": true,
   "title_cell": "Содержание",
   "title_sidebar": "Contents",
   "toc_cell": true,
   "toc_position": {
    "height": "calc(100% - 180px)",
    "left": "10px",
    "top": "150px",
    "width": "302.391px"
   },
   "toc_section_display": true,
   "toc_window_display": false
  }
 },
 "nbformat": 4,
 "nbformat_minor": 2
}
