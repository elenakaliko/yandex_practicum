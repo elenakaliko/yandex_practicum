{
 "cells": [
  {
   "cell_type": "markdown",
   "metadata": {},
   "source": [
    "# Определение стоимости автомобилей"
   ]
  },
  {
   "cell_type": "markdown",
   "metadata": {},
   "source": [
    "Сервис по продаже автомобилей с пробегом «Не бит, не крашен» разрабатывает приложение для привлечения новых клиентов. В нём можно быстро узнать рыночную стоимость своего автомобиля. Нам необходимо построить модель для определения стоимости. \n",
    "В нашем распоряжении исторические данные: технические характеристики, комплектации и цены автомобилей. \n",
    "\n",
    "Заказчику важны:\n",
    "\n",
    "- качество предсказания;\n",
    "- скорость предсказания;\n",
    "- время обучения.\n",
    "<br> <br>\n",
    "Для того, чтобы получить оптимальные предсказания, мы предпримем следующие шаги:<br>\n",
    "1. Изучим данные и сделаем предобработку.\n",
    "2. Подготовим данные для использования моделями - проанализируем признаки и удалим неинформативные.\n",
    "3. Обучим различные модели.\n",
    "4. Выберем оптимальную модель и подберем оптимальные гиперпараметры с учетом требования заказчика (см.выше).\n"
   ]
  },
  {
   "cell_type": "markdown",
   "metadata": {},
   "source": [
    "## Подготовка данных"
   ]
  },
  {
   "cell_type": "code",
   "execution_count": 1,
   "metadata": {},
   "outputs": [],
   "source": [
    "#импорт библиотек\n",
    "import time\n",
    "\n",
    "import numpy as np\n",
    "import pandas as pd\n",
    "import seaborn as sns\n",
    "import matplotlib.pyplot as plt\n",
    "\n",
    "from lightgbm import LGBMRegressor\n",
    "from catboost import CatBoostRegressor\n",
    "from sklearn.dummy import DummyRegressor\n",
    "from sklearn.tree import DecisionTreeRegressor\n",
    "from sklearn.linear_model import LogisticRegression\n",
    "from sklearn.metrics import mean_squared_error\n",
    "from sklearn.preprocessing import StandardScaler, OrdinalEncoder\n",
    "from sklearn.model_selection import train_test_split, GridSearchCV\n",
    "from sklearn.ensemble import RandomForestRegressor, GradientBoostingRegressor"
   ]
  },
  {
   "cell_type": "code",
   "execution_count": 2,
   "metadata": {},
   "outputs": [],
   "source": [
    "State = 12345"
   ]
  },
  {
   "cell_type": "code",
   "execution_count": 3,
   "metadata": {},
   "outputs": [
    {
     "data": {
      "text/html": [
       "<div>\n",
       "<style scoped>\n",
       "    .dataframe tbody tr th:only-of-type {\n",
       "        vertical-align: middle;\n",
       "    }\n",
       "\n",
       "    .dataframe tbody tr th {\n",
       "        vertical-align: top;\n",
       "    }\n",
       "\n",
       "    .dataframe thead th {\n",
       "        text-align: right;\n",
       "    }\n",
       "</style>\n",
       "<table border=\"1\" class=\"dataframe\">\n",
       "  <thead>\n",
       "    <tr style=\"text-align: right;\">\n",
       "      <th></th>\n",
       "      <th>DateCrawled</th>\n",
       "      <th>Price</th>\n",
       "      <th>VehicleType</th>\n",
       "      <th>RegistrationYear</th>\n",
       "      <th>Gearbox</th>\n",
       "      <th>Power</th>\n",
       "      <th>Model</th>\n",
       "      <th>Kilometer</th>\n",
       "      <th>RegistrationMonth</th>\n",
       "      <th>FuelType</th>\n",
       "      <th>Brand</th>\n",
       "      <th>Repaired</th>\n",
       "      <th>DateCreated</th>\n",
       "      <th>NumberOfPictures</th>\n",
       "      <th>PostalCode</th>\n",
       "      <th>LastSeen</th>\n",
       "    </tr>\n",
       "  </thead>\n",
       "  <tbody>\n",
       "    <tr>\n",
       "      <th>0</th>\n",
       "      <td>2016-03-24 11:52:17</td>\n",
       "      <td>480</td>\n",
       "      <td>NaN</td>\n",
       "      <td>1993</td>\n",
       "      <td>manual</td>\n",
       "      <td>0</td>\n",
       "      <td>golf</td>\n",
       "      <td>150000</td>\n",
       "      <td>0</td>\n",
       "      <td>petrol</td>\n",
       "      <td>volkswagen</td>\n",
       "      <td>NaN</td>\n",
       "      <td>2016-03-24 00:00:00</td>\n",
       "      <td>0</td>\n",
       "      <td>70435</td>\n",
       "      <td>2016-04-07 03:16:57</td>\n",
       "    </tr>\n",
       "    <tr>\n",
       "      <th>1</th>\n",
       "      <td>2016-03-24 10:58:45</td>\n",
       "      <td>18300</td>\n",
       "      <td>coupe</td>\n",
       "      <td>2011</td>\n",
       "      <td>manual</td>\n",
       "      <td>190</td>\n",
       "      <td>NaN</td>\n",
       "      <td>125000</td>\n",
       "      <td>5</td>\n",
       "      <td>gasoline</td>\n",
       "      <td>audi</td>\n",
       "      <td>yes</td>\n",
       "      <td>2016-03-24 00:00:00</td>\n",
       "      <td>0</td>\n",
       "      <td>66954</td>\n",
       "      <td>2016-04-07 01:46:50</td>\n",
       "    </tr>\n",
       "    <tr>\n",
       "      <th>2</th>\n",
       "      <td>2016-03-14 12:52:21</td>\n",
       "      <td>9800</td>\n",
       "      <td>suv</td>\n",
       "      <td>2004</td>\n",
       "      <td>auto</td>\n",
       "      <td>163</td>\n",
       "      <td>grand</td>\n",
       "      <td>125000</td>\n",
       "      <td>8</td>\n",
       "      <td>gasoline</td>\n",
       "      <td>jeep</td>\n",
       "      <td>NaN</td>\n",
       "      <td>2016-03-14 00:00:00</td>\n",
       "      <td>0</td>\n",
       "      <td>90480</td>\n",
       "      <td>2016-04-05 12:47:46</td>\n",
       "    </tr>\n",
       "    <tr>\n",
       "      <th>3</th>\n",
       "      <td>2016-03-17 16:54:04</td>\n",
       "      <td>1500</td>\n",
       "      <td>small</td>\n",
       "      <td>2001</td>\n",
       "      <td>manual</td>\n",
       "      <td>75</td>\n",
       "      <td>golf</td>\n",
       "      <td>150000</td>\n",
       "      <td>6</td>\n",
       "      <td>petrol</td>\n",
       "      <td>volkswagen</td>\n",
       "      <td>no</td>\n",
       "      <td>2016-03-17 00:00:00</td>\n",
       "      <td>0</td>\n",
       "      <td>91074</td>\n",
       "      <td>2016-03-17 17:40:17</td>\n",
       "    </tr>\n",
       "    <tr>\n",
       "      <th>4</th>\n",
       "      <td>2016-03-31 17:25:20</td>\n",
       "      <td>3600</td>\n",
       "      <td>small</td>\n",
       "      <td>2008</td>\n",
       "      <td>manual</td>\n",
       "      <td>69</td>\n",
       "      <td>fabia</td>\n",
       "      <td>90000</td>\n",
       "      <td>7</td>\n",
       "      <td>gasoline</td>\n",
       "      <td>skoda</td>\n",
       "      <td>no</td>\n",
       "      <td>2016-03-31 00:00:00</td>\n",
       "      <td>0</td>\n",
       "      <td>60437</td>\n",
       "      <td>2016-04-06 10:17:21</td>\n",
       "    </tr>\n",
       "  </tbody>\n",
       "</table>\n",
       "</div>"
      ],
      "text/plain": [
       "           DateCrawled  Price VehicleType  RegistrationYear Gearbox  Power  \\\n",
       "0  2016-03-24 11:52:17    480         NaN              1993  manual      0   \n",
       "1  2016-03-24 10:58:45  18300       coupe              2011  manual    190   \n",
       "2  2016-03-14 12:52:21   9800         suv              2004    auto    163   \n",
       "3  2016-03-17 16:54:04   1500       small              2001  manual     75   \n",
       "4  2016-03-31 17:25:20   3600       small              2008  manual     69   \n",
       "\n",
       "   Model  Kilometer  RegistrationMonth  FuelType       Brand Repaired  \\\n",
       "0   golf     150000                  0    petrol  volkswagen      NaN   \n",
       "1    NaN     125000                  5  gasoline        audi      yes   \n",
       "2  grand     125000                  8  gasoline        jeep      NaN   \n",
       "3   golf     150000                  6    petrol  volkswagen       no   \n",
       "4  fabia      90000                  7  gasoline       skoda       no   \n",
       "\n",
       "           DateCreated  NumberOfPictures  PostalCode             LastSeen  \n",
       "0  2016-03-24 00:00:00                 0       70435  2016-04-07 03:16:57  \n",
       "1  2016-03-24 00:00:00                 0       66954  2016-04-07 01:46:50  \n",
       "2  2016-03-14 00:00:00                 0       90480  2016-04-05 12:47:46  \n",
       "3  2016-03-17 00:00:00                 0       91074  2016-03-17 17:40:17  \n",
       "4  2016-03-31 00:00:00                 0       60437  2016-04-06 10:17:21  "
      ]
     },
     "execution_count": 3,
     "metadata": {},
     "output_type": "execute_result"
    }
   ],
   "source": [
    "# загрузка данных и обзор первых строк\n",
    "data = pd.read_csv('/datasets/autos.csv')\n",
    "data.head()"
   ]
  },
  {
   "cell_type": "code",
   "execution_count": 4,
   "metadata": {},
   "outputs": [
    {
     "name": "stdout",
     "output_type": "stream",
     "text": [
      "<class 'pandas.core.frame.DataFrame'>\n",
      "RangeIndex: 354369 entries, 0 to 354368\n",
      "Data columns (total 16 columns):\n",
      " #   Column             Non-Null Count   Dtype \n",
      "---  ------             --------------   ----- \n",
      " 0   DateCrawled        354369 non-null  object\n",
      " 1   Price              354369 non-null  int64 \n",
      " 2   VehicleType        316879 non-null  object\n",
      " 3   RegistrationYear   354369 non-null  int64 \n",
      " 4   Gearbox            334536 non-null  object\n",
      " 5   Power              354369 non-null  int64 \n",
      " 6   Model              334664 non-null  object\n",
      " 7   Kilometer          354369 non-null  int64 \n",
      " 8   RegistrationMonth  354369 non-null  int64 \n",
      " 9   FuelType           321474 non-null  object\n",
      " 10  Brand              354369 non-null  object\n",
      " 11  Repaired           283215 non-null  object\n",
      " 12  DateCreated        354369 non-null  object\n",
      " 13  NumberOfPictures   354369 non-null  int64 \n",
      " 14  PostalCode         354369 non-null  int64 \n",
      " 15  LastSeen           354369 non-null  object\n",
      "dtypes: int64(7), object(9)\n",
      "memory usage: 43.3+ MB\n"
     ]
    }
   ],
   "source": [
    "data.info()"
   ]
  },
  {
   "cell_type": "code",
   "execution_count": 5,
   "metadata": {},
   "outputs": [
    {
     "data": {
      "text/html": [
       "<div>\n",
       "<style scoped>\n",
       "    .dataframe tbody tr th:only-of-type {\n",
       "        vertical-align: middle;\n",
       "    }\n",
       "\n",
       "    .dataframe tbody tr th {\n",
       "        vertical-align: top;\n",
       "    }\n",
       "\n",
       "    .dataframe thead th {\n",
       "        text-align: right;\n",
       "    }\n",
       "</style>\n",
       "<table border=\"1\" class=\"dataframe\">\n",
       "  <thead>\n",
       "    <tr style=\"text-align: right;\">\n",
       "      <th></th>\n",
       "      <th>DateCrawled</th>\n",
       "      <th>Price</th>\n",
       "      <th>VehicleType</th>\n",
       "      <th>RegistrationYear</th>\n",
       "      <th>Gearbox</th>\n",
       "      <th>Power</th>\n",
       "      <th>Model</th>\n",
       "      <th>Kilometer</th>\n",
       "      <th>RegistrationMonth</th>\n",
       "      <th>FuelType</th>\n",
       "      <th>Brand</th>\n",
       "      <th>Repaired</th>\n",
       "      <th>DateCreated</th>\n",
       "      <th>NumberOfPictures</th>\n",
       "      <th>PostalCode</th>\n",
       "      <th>LastSeen</th>\n",
       "    </tr>\n",
       "  </thead>\n",
       "  <tbody>\n",
       "    <tr>\n",
       "      <th>count</th>\n",
       "      <td>354369</td>\n",
       "      <td>354369.000000</td>\n",
       "      <td>316879</td>\n",
       "      <td>354369.000000</td>\n",
       "      <td>334536</td>\n",
       "      <td>354369.000000</td>\n",
       "      <td>334664</td>\n",
       "      <td>354369.000000</td>\n",
       "      <td>354369.000000</td>\n",
       "      <td>321474</td>\n",
       "      <td>354369</td>\n",
       "      <td>283215</td>\n",
       "      <td>354369</td>\n",
       "      <td>354369.0</td>\n",
       "      <td>354369.000000</td>\n",
       "      <td>354369</td>\n",
       "    </tr>\n",
       "    <tr>\n",
       "      <th>unique</th>\n",
       "      <td>271174</td>\n",
       "      <td>NaN</td>\n",
       "      <td>8</td>\n",
       "      <td>NaN</td>\n",
       "      <td>2</td>\n",
       "      <td>NaN</td>\n",
       "      <td>250</td>\n",
       "      <td>NaN</td>\n",
       "      <td>NaN</td>\n",
       "      <td>7</td>\n",
       "      <td>40</td>\n",
       "      <td>2</td>\n",
       "      <td>109</td>\n",
       "      <td>NaN</td>\n",
       "      <td>NaN</td>\n",
       "      <td>179150</td>\n",
       "    </tr>\n",
       "    <tr>\n",
       "      <th>top</th>\n",
       "      <td>2016-03-24 14:49:47</td>\n",
       "      <td>NaN</td>\n",
       "      <td>sedan</td>\n",
       "      <td>NaN</td>\n",
       "      <td>manual</td>\n",
       "      <td>NaN</td>\n",
       "      <td>golf</td>\n",
       "      <td>NaN</td>\n",
       "      <td>NaN</td>\n",
       "      <td>petrol</td>\n",
       "      <td>volkswagen</td>\n",
       "      <td>no</td>\n",
       "      <td>2016-04-03 00:00:00</td>\n",
       "      <td>NaN</td>\n",
       "      <td>NaN</td>\n",
       "      <td>2016-04-06 13:45:54</td>\n",
       "    </tr>\n",
       "    <tr>\n",
       "      <th>freq</th>\n",
       "      <td>7</td>\n",
       "      <td>NaN</td>\n",
       "      <td>91457</td>\n",
       "      <td>NaN</td>\n",
       "      <td>268251</td>\n",
       "      <td>NaN</td>\n",
       "      <td>29232</td>\n",
       "      <td>NaN</td>\n",
       "      <td>NaN</td>\n",
       "      <td>216352</td>\n",
       "      <td>77013</td>\n",
       "      <td>247161</td>\n",
       "      <td>13719</td>\n",
       "      <td>NaN</td>\n",
       "      <td>NaN</td>\n",
       "      <td>17</td>\n",
       "    </tr>\n",
       "    <tr>\n",
       "      <th>mean</th>\n",
       "      <td>NaN</td>\n",
       "      <td>4416.656776</td>\n",
       "      <td>NaN</td>\n",
       "      <td>2004.234448</td>\n",
       "      <td>NaN</td>\n",
       "      <td>110.094337</td>\n",
       "      <td>NaN</td>\n",
       "      <td>128211.172535</td>\n",
       "      <td>5.714645</td>\n",
       "      <td>NaN</td>\n",
       "      <td>NaN</td>\n",
       "      <td>NaN</td>\n",
       "      <td>NaN</td>\n",
       "      <td>0.0</td>\n",
       "      <td>50508.689087</td>\n",
       "      <td>NaN</td>\n",
       "    </tr>\n",
       "    <tr>\n",
       "      <th>std</th>\n",
       "      <td>NaN</td>\n",
       "      <td>4514.158514</td>\n",
       "      <td>NaN</td>\n",
       "      <td>90.227958</td>\n",
       "      <td>NaN</td>\n",
       "      <td>189.850405</td>\n",
       "      <td>NaN</td>\n",
       "      <td>37905.341530</td>\n",
       "      <td>3.726421</td>\n",
       "      <td>NaN</td>\n",
       "      <td>NaN</td>\n",
       "      <td>NaN</td>\n",
       "      <td>NaN</td>\n",
       "      <td>0.0</td>\n",
       "      <td>25783.096248</td>\n",
       "      <td>NaN</td>\n",
       "    </tr>\n",
       "    <tr>\n",
       "      <th>min</th>\n",
       "      <td>NaN</td>\n",
       "      <td>0.000000</td>\n",
       "      <td>NaN</td>\n",
       "      <td>1000.000000</td>\n",
       "      <td>NaN</td>\n",
       "      <td>0.000000</td>\n",
       "      <td>NaN</td>\n",
       "      <td>5000.000000</td>\n",
       "      <td>0.000000</td>\n",
       "      <td>NaN</td>\n",
       "      <td>NaN</td>\n",
       "      <td>NaN</td>\n",
       "      <td>NaN</td>\n",
       "      <td>0.0</td>\n",
       "      <td>1067.000000</td>\n",
       "      <td>NaN</td>\n",
       "    </tr>\n",
       "    <tr>\n",
       "      <th>25%</th>\n",
       "      <td>NaN</td>\n",
       "      <td>1050.000000</td>\n",
       "      <td>NaN</td>\n",
       "      <td>1999.000000</td>\n",
       "      <td>NaN</td>\n",
       "      <td>69.000000</td>\n",
       "      <td>NaN</td>\n",
       "      <td>125000.000000</td>\n",
       "      <td>3.000000</td>\n",
       "      <td>NaN</td>\n",
       "      <td>NaN</td>\n",
       "      <td>NaN</td>\n",
       "      <td>NaN</td>\n",
       "      <td>0.0</td>\n",
       "      <td>30165.000000</td>\n",
       "      <td>NaN</td>\n",
       "    </tr>\n",
       "    <tr>\n",
       "      <th>50%</th>\n",
       "      <td>NaN</td>\n",
       "      <td>2700.000000</td>\n",
       "      <td>NaN</td>\n",
       "      <td>2003.000000</td>\n",
       "      <td>NaN</td>\n",
       "      <td>105.000000</td>\n",
       "      <td>NaN</td>\n",
       "      <td>150000.000000</td>\n",
       "      <td>6.000000</td>\n",
       "      <td>NaN</td>\n",
       "      <td>NaN</td>\n",
       "      <td>NaN</td>\n",
       "      <td>NaN</td>\n",
       "      <td>0.0</td>\n",
       "      <td>49413.000000</td>\n",
       "      <td>NaN</td>\n",
       "    </tr>\n",
       "    <tr>\n",
       "      <th>75%</th>\n",
       "      <td>NaN</td>\n",
       "      <td>6400.000000</td>\n",
       "      <td>NaN</td>\n",
       "      <td>2008.000000</td>\n",
       "      <td>NaN</td>\n",
       "      <td>143.000000</td>\n",
       "      <td>NaN</td>\n",
       "      <td>150000.000000</td>\n",
       "      <td>9.000000</td>\n",
       "      <td>NaN</td>\n",
       "      <td>NaN</td>\n",
       "      <td>NaN</td>\n",
       "      <td>NaN</td>\n",
       "      <td>0.0</td>\n",
       "      <td>71083.000000</td>\n",
       "      <td>NaN</td>\n",
       "    </tr>\n",
       "    <tr>\n",
       "      <th>max</th>\n",
       "      <td>NaN</td>\n",
       "      <td>20000.000000</td>\n",
       "      <td>NaN</td>\n",
       "      <td>9999.000000</td>\n",
       "      <td>NaN</td>\n",
       "      <td>20000.000000</td>\n",
       "      <td>NaN</td>\n",
       "      <td>150000.000000</td>\n",
       "      <td>12.000000</td>\n",
       "      <td>NaN</td>\n",
       "      <td>NaN</td>\n",
       "      <td>NaN</td>\n",
       "      <td>NaN</td>\n",
       "      <td>0.0</td>\n",
       "      <td>99998.000000</td>\n",
       "      <td>NaN</td>\n",
       "    </tr>\n",
       "  </tbody>\n",
       "</table>\n",
       "</div>"
      ],
      "text/plain": [
       "                DateCrawled          Price VehicleType  RegistrationYear  \\\n",
       "count                354369  354369.000000      316879     354369.000000   \n",
       "unique               271174            NaN           8               NaN   \n",
       "top     2016-03-24 14:49:47            NaN       sedan               NaN   \n",
       "freq                      7            NaN       91457               NaN   \n",
       "mean                    NaN    4416.656776         NaN       2004.234448   \n",
       "std                     NaN    4514.158514         NaN         90.227958   \n",
       "min                     NaN       0.000000         NaN       1000.000000   \n",
       "25%                     NaN    1050.000000         NaN       1999.000000   \n",
       "50%                     NaN    2700.000000         NaN       2003.000000   \n",
       "75%                     NaN    6400.000000         NaN       2008.000000   \n",
       "max                     NaN   20000.000000         NaN       9999.000000   \n",
       "\n",
       "       Gearbox          Power   Model      Kilometer  RegistrationMonth  \\\n",
       "count   334536  354369.000000  334664  354369.000000      354369.000000   \n",
       "unique       2            NaN     250            NaN                NaN   \n",
       "top     manual            NaN    golf            NaN                NaN   \n",
       "freq    268251            NaN   29232            NaN                NaN   \n",
       "mean       NaN     110.094337     NaN  128211.172535           5.714645   \n",
       "std        NaN     189.850405     NaN   37905.341530           3.726421   \n",
       "min        NaN       0.000000     NaN    5000.000000           0.000000   \n",
       "25%        NaN      69.000000     NaN  125000.000000           3.000000   \n",
       "50%        NaN     105.000000     NaN  150000.000000           6.000000   \n",
       "75%        NaN     143.000000     NaN  150000.000000           9.000000   \n",
       "max        NaN   20000.000000     NaN  150000.000000          12.000000   \n",
       "\n",
       "       FuelType       Brand Repaired          DateCreated  NumberOfPictures  \\\n",
       "count    321474      354369   283215               354369          354369.0   \n",
       "unique        7          40        2                  109               NaN   \n",
       "top      petrol  volkswagen       no  2016-04-03 00:00:00               NaN   \n",
       "freq     216352       77013   247161                13719               NaN   \n",
       "mean        NaN         NaN      NaN                  NaN               0.0   \n",
       "std         NaN         NaN      NaN                  NaN               0.0   \n",
       "min         NaN         NaN      NaN                  NaN               0.0   \n",
       "25%         NaN         NaN      NaN                  NaN               0.0   \n",
       "50%         NaN         NaN      NaN                  NaN               0.0   \n",
       "75%         NaN         NaN      NaN                  NaN               0.0   \n",
       "max         NaN         NaN      NaN                  NaN               0.0   \n",
       "\n",
       "           PostalCode             LastSeen  \n",
       "count   354369.000000               354369  \n",
       "unique            NaN               179150  \n",
       "top               NaN  2016-04-06 13:45:54  \n",
       "freq              NaN                   17  \n",
       "mean     50508.689087                  NaN  \n",
       "std      25783.096248                  NaN  \n",
       "min       1067.000000                  NaN  \n",
       "25%      30165.000000                  NaN  \n",
       "50%      49413.000000                  NaN  \n",
       "75%      71083.000000                  NaN  \n",
       "max      99998.000000                  NaN  "
      ]
     },
     "execution_count": 5,
     "metadata": {},
     "output_type": "execute_result"
    }
   ],
   "source": [
    "data.describe(include = 'all')"
   ]
  },
  {
   "cell_type": "markdown",
   "metadata": {},
   "source": [
    "Предварительные выводы, которые мы можем сделать по этим данным: <br>\n",
    "1. Столбцы Price, Power, Registration Month содержат нулевые значения, хотя по содержанию эти признаки не могут быть нулевыми. Необходимо посмотреть подробнее каждый набор строк с нулевыми значениями.\n",
    "2. Столбец Registration Year содержит аномальные значения - как минимум, это значения 1000 и 9999, но возможно есть и еще другие аномалии. Необходимо исследовать этот столбец.\n",
    "3. Столбец Power содержит аномально высокое значение - 20 000, возможно, оно не является единственной аномалией.\n",
    "4. Столбец Number of Pictures не информативен, т.к. во всех строках указано одно и то же значение - 0. От него можно избавиться.\n",
    "5. Столбец Postal Code содержит в себе 4-хзначные и 5-тизначные индексы, что соответствует разным странам происхождения внутри Европы. \n",
    "6. В столбце Fuel type мы видим встречающиеся значения petrol & gasoline, что является синонимами. Чтобы не запутывать алгоритм, лучше оставить только одно написание.\n",
    "7. Есть пропущенные значения в столбцах с категориальными признаками. Лучше исследовать их и, при необходимости, заполнить или удалить."
   ]
  },
  {
   "cell_type": "markdown",
   "metadata": {},
   "source": [
    "### Подготовка данных"
   ]
  },
  {
   "cell_type": "markdown",
   "metadata": {},
   "source": [
    "Приведем названия столбцов к snake_case."
   ]
  },
  {
   "cell_type": "code",
   "execution_count": 6,
   "metadata": {},
   "outputs": [],
   "source": [
    "data.rename(columns = {'DateCrawled' : 'date_crawled', \n",
    "                       'VehicleType': 'vehicle_type', \n",
    "                       'RegistrationYear':'registration_year',\n",
    "                       'RegistrationMonth': 'registration_month', \n",
    "                       'FuelType': 'fuel_type',\n",
    "                       'NotRepaired': 'not_repaired', \n",
    "                       'DateCreated': 'date_created',\n",
    "                       'NumberOfPictures': 'number_of_pictures', \n",
    "                       'PostalCode': 'postal_code', \n",
    "                       'LastSeen': 'last_seen'}, inplace = True)\n",
    "data.columns = data.columns.str.lower()"
   ]
  },
  {
   "cell_type": "markdown",
   "metadata": {},
   "source": [
    "Посмотрим значения в категориальных столбцах Vehicle type, Fuel type, Gearbox, Model, Brand."
   ]
  },
  {
   "cell_type": "code",
   "execution_count": 7,
   "metadata": {},
   "outputs": [
    {
     "data": {
      "text/plain": [
       "sedan          91457\n",
       "small          79831\n",
       "wagon          65166\n",
       "bus            28775\n",
       "convertible    20203\n",
       "coupe          16163\n",
       "suv            11996\n",
       "other           3288\n",
       "Name: vehicle_type, dtype: int64"
      ]
     },
     "metadata": {},
     "output_type": "display_data"
    },
    {
     "data": {
      "text/plain": [
       "golf                  29232\n",
       "other                 24421\n",
       "3er                   19761\n",
       "polo                  13066\n",
       "corsa                 12570\n",
       "                      ...  \n",
       "serie_2                   8\n",
       "rangerover                4\n",
       "serie_3                   4\n",
       "serie_1                   2\n",
       "range_rover_evoque        2\n",
       "Name: model, Length: 250, dtype: int64"
      ]
     },
     "metadata": {},
     "output_type": "display_data"
    },
    {
     "data": {
      "text/plain": [
       "volkswagen        77013\n",
       "opel              39931\n",
       "bmw               36914\n",
       "mercedes_benz     32046\n",
       "audi              29456\n",
       "ford              25179\n",
       "renault           17927\n",
       "peugeot           10998\n",
       "fiat               9643\n",
       "seat               6907\n",
       "mazda              5615\n",
       "skoda              5500\n",
       "smart              5246\n",
       "citroen            5148\n",
       "nissan             4941\n",
       "toyota             4606\n",
       "hyundai            3587\n",
       "sonstige_autos     3374\n",
       "volvo              3210\n",
       "mini               3202\n",
       "mitsubishi         3022\n",
       "honda              2817\n",
       "kia                2465\n",
       "suzuki             2323\n",
       "alfa_romeo         2314\n",
       "chevrolet          1754\n",
       "chrysler           1439\n",
       "dacia               900\n",
       "daihatsu            806\n",
       "subaru              762\n",
       "porsche             758\n",
       "jeep                677\n",
       "trabant             589\n",
       "land_rover          545\n",
       "daewoo              542\n",
       "saab                526\n",
       "jaguar              505\n",
       "rover               486\n",
       "lancia              471\n",
       "lada                225\n",
       "Name: brand, dtype: int64"
      ]
     },
     "metadata": {},
     "output_type": "display_data"
    },
    {
     "data": {
      "text/plain": [
       "manual    268251\n",
       "auto       66285\n",
       "Name: gearbox, dtype: int64"
      ]
     },
     "metadata": {},
     "output_type": "display_data"
    },
    {
     "data": {
      "text/plain": [
       "petrol      216352\n",
       "gasoline     98720\n",
       "lpg           5310\n",
       "cng            565\n",
       "hybrid         233\n",
       "other          204\n",
       "electric        90\n",
       "Name: fuel_type, dtype: int64"
      ]
     },
     "metadata": {},
     "output_type": "display_data"
    },
    {
     "data": {
      "text/plain": [
       "no     247161\n",
       "yes     36054\n",
       "Name: repaired, dtype: int64"
      ]
     },
     "metadata": {},
     "output_type": "display_data"
    }
   ],
   "source": [
    "cat_col = ['vehicle_type', 'model', 'brand', 'gearbox', 'fuel_type', 'repaired']\n",
    "for column in cat_col:\n",
    "    display(data[column].value_counts())"
   ]
  },
  {
   "cell_type": "markdown",
   "metadata": {},
   "source": [
    "Значения в категориальных столбцах выглядят вполне адекватно. Можем заменить 'gasoline' на 'petrol' в столбце Fuel type, т.к. это одно и то же."
   ]
  },
  {
   "cell_type": "code",
   "execution_count": 8,
   "metadata": {},
   "outputs": [
    {
     "data": {
      "text/plain": [
       "array([nan, 'small', 'sedan', 'bus', 'other', 'wagon', 'convertible',\n",
       "       'coupe', 'suv'], dtype=object)"
      ]
     },
     "execution_count": 8,
     "metadata": {},
     "output_type": "execute_result"
    }
   ],
   "source": [
    "data[data['model']=='golf']['vehicle_type'].unique()"
   ]
  },
  {
   "cell_type": "code",
   "execution_count": 9,
   "metadata": {},
   "outputs": [],
   "source": [
    "data['fuel_type'] = data['fuel_type'].replace(to_replace ='gasoline', value ='petrol')"
   ]
  },
  {
   "cell_type": "markdown",
   "metadata": {},
   "source": [
    "Можем удалить столбец Number of pictures, т.к. он заполнен нулями и не несет никакой практической ценности."
   ]
  },
  {
   "cell_type": "code",
   "execution_count": 10,
   "metadata": {},
   "outputs": [],
   "source": [
    "data = data.drop('number_of_pictures', axis =1)"
   ]
  },
  {
   "cell_type": "markdown",
   "metadata": {},
   "source": [
    "### Предобработка данных"
   ]
  },
  {
   "cell_type": "markdown",
   "metadata": {},
   "source": [
    "Необходимо предобработать данные для последующего использования в модели - убрать Nan'ы, изучить выбросы и аномалии."
   ]
  },
  {
   "cell_type": "code",
   "execution_count": 13,
   "metadata": {},
   "outputs": [
    {
     "name": "stdout",
     "output_type": "stream",
     "text": [
      "В столбце vehicle_type количество пропусков: 37490, это  10.6% от общего числа строк\n",
      "В столбце gearbox количество пропусков: 19833, это  5.6% от общего числа строк\n",
      "В столбце model количество пропусков: 19705, это  5.6% от общего числа строк\n",
      "В столбце fuel_type количество пропусков: 32895, это  9.3% от общего числа строк\n",
      "В столбце repaired количество пропусков: 71154, это  20.1% от общего числа строк\n"
     ]
    }
   ],
   "source": [
    "#обработка Nan\n",
    "nan_col = ['vehicle_type', 'gearbox', 'model', 'fuel_type', 'repaired']\n",
    "for column in nan_col:\n",
    "    print(f'В столбце {column} количество пропусков: {(data[column].isna()).sum()}, это {(data[column].isna()).sum()/len(data): 0.01%} от общего числа строк')"
   ]
  },
  {
   "cell_type": "markdown",
   "metadata": {},
   "source": [
    "Количество пропусков достаточно большое в каждом случае (более 5%). Однако в случае с model мы вынуждены удалить эти строки, т.к. они имеют критическое значение при сравнительно небольшом количестве, а восстановить название моделей по остальным характеристикам невозможно. <br>\n",
    "В столбце not_repaired 20% незаполненных значений, их так же нельзя удалять, но мы можем предположить, что они не были заполнены там, где ремонт не проводился (значение 'no'), и можем заполнить этим значением Nan'ы. <br>\n",
    "По столбцу fuel_type можно применить в качестве замены наиболее популярное - petrol, т.к. большинство автомобилей имеют ДВС-двигатель. Но можно предварительно проверить, не встречается ли среди этих моделей движков с LPG, CNG или гибридов/EV. <br>\n",
    "Столбец vehicle_type требует более детального изучения, а вот строки с nan в столбце gearbox придется удалить - восстановить их нет никакой возможности."
   ]
  },
  {
   "cell_type": "code",
   "execution_count": 14,
   "metadata": {},
   "outputs": [
    {
     "name": "stderr",
     "output_type": "stream",
     "text": [
      "/tmp/ipykernel_133/3658287587.py:4: SettingWithCopyWarning: \n",
      "A value is trying to be set on a copy of a slice from a DataFrame.\n",
      "Try using .loc[row_indexer,col_indexer] = value instead\n",
      "\n",
      "See the caveats in the documentation: https://pandas.pydata.org/pandas-docs/stable/user_guide/indexing.html#returning-a-view-versus-a-copy\n",
      "  data['not_repaired'] = data['repaired'].fillna('no')\n",
      "/opt/conda/lib/python3.9/site-packages/pandas/core/series.py:4463: SettingWithCopyWarning: \n",
      "A value is trying to be set on a copy of a slice from a DataFrame\n",
      "\n",
      "See the caveats in the documentation: https://pandas.pydata.org/pandas-docs/stable/user_guide/indexing.html#returning-a-view-versus-a-copy\n",
      "  return super().fillna(\n"
     ]
    }
   ],
   "source": [
    "#удаление строк с пропусками в столбцах model, gearbox\n",
    "data= data.dropna(subset = ['model', 'gearbox', 'vehicle_type'])\n",
    "# замена nan в столбце not_repaired\n",
    "data['not_repaired'] = data['repaired'].fillna('no')\n",
    "data['fuel_type'].fillna('not_indicated', inplace = True)"
   ]
  },
  {
   "cell_type": "markdown",
   "metadata": {},
   "source": [
    "Столбцы с датой создания объявления, датой выгрузки и последнего визита на сайт, а также с месяцем регистрации автомобиля не несут никакой практической пользы для модели, т.к. эти вводные не имеют прямой корреляции с ценой, это техническая информация. Можно удалить эти столбцы. <br>\n",
    "Почтовые коды следует оставить - поскольку есть пятизначные и четырехзначные варианты, это означает, что автовладельцы находятся в разных странах. Цены на одни и те же автомобили могут различаться в зависимости от страны, поэтому почтовый индекс может напрямую влиять на прогнозирование. Но необходимо перевести его в формат строки, чтобы алгоритм не обрабатывал код как число."
   ]
  },
  {
   "cell_type": "code",
   "execution_count": 15,
   "metadata": {},
   "outputs": [
    {
     "name": "stdout",
     "output_type": "stream",
     "text": [
      "<class 'pandas.core.frame.DataFrame'>\n",
      "Int64Index: 295258 entries, 2 to 354368\n",
      "Data columns (total 11 columns):\n",
      " #   Column             Non-Null Count   Dtype \n",
      "---  ------             --------------   ----- \n",
      " 0   price              295258 non-null  int64 \n",
      " 1   vehicle_type       295258 non-null  object\n",
      " 2   registration_year  295258 non-null  int64 \n",
      " 3   gearbox            295258 non-null  object\n",
      " 4   power              295258 non-null  int64 \n",
      " 5   model              295258 non-null  object\n",
      " 6   kilometer          295258 non-null  int64 \n",
      " 7   fuel_type          295258 non-null  object\n",
      " 8   brand              295258 non-null  object\n",
      " 9   repaired           252918 non-null  object\n",
      " 10  not_repaired       295258 non-null  object\n",
      "dtypes: int64(4), object(7)\n",
      "memory usage: 27.0+ MB\n"
     ]
    }
   ],
   "source": [
    "data = data.drop(['date_crawled', 'registration_month', 'date_created', 'last_seen', 'postal_code'], axis =1)\n",
    "#data['postal_code'] = data['postal_code'].astype('object')\n",
    "data.info()"
   ]
  },
  {
   "cell_type": "markdown",
   "metadata": {},
   "source": [
    "Теперь изучим аномалии, выявленные в ходе первичного скрининга данных: столбцы price, registration_year & power."
   ]
  },
  {
   "cell_type": "code",
   "execution_count": 18,
   "metadata": {},
   "outputs": [
    {
     "name": "stderr",
     "output_type": "stream",
     "text": [
      "/opt/conda/lib/python3.9/site-packages/seaborn/distributions.py:2557: FutureWarning: `distplot` is a deprecated function and will be removed in a future version. Please adapt your code to use either `displot` (a figure-level function with similar flexibility) or `histplot` (an axes-level function for histograms).\n",
      "  warnings.warn(msg, FutureWarning)\n"
     ]
    },
    {
     "data": {
      "text/html": [
       "<div>\n",
       "<style scoped>\n",
       "    .dataframe tbody tr th:only-of-type {\n",
       "        vertical-align: middle;\n",
       "    }\n",
       "\n",
       "    .dataframe tbody tr th {\n",
       "        vertical-align: top;\n",
       "    }\n",
       "\n",
       "    .dataframe thead th {\n",
       "        text-align: right;\n",
       "    }\n",
       "</style>\n",
       "<table border=\"1\" class=\"dataframe\">\n",
       "  <thead>\n",
       "    <tr style=\"text-align: right;\">\n",
       "      <th></th>\n",
       "      <th>price</th>\n",
       "      <th>vehicle_type</th>\n",
       "      <th>registration_year</th>\n",
       "      <th>gearbox</th>\n",
       "      <th>power</th>\n",
       "      <th>model</th>\n",
       "      <th>kilometer</th>\n",
       "      <th>fuel_type</th>\n",
       "      <th>brand</th>\n",
       "      <th>repaired</th>\n",
       "      <th>not_repaired</th>\n",
       "    </tr>\n",
       "  </thead>\n",
       "  <tbody>\n",
       "  </tbody>\n",
       "</table>\n",
       "</div>"
      ],
      "text/plain": [
       "Empty DataFrame\n",
       "Columns: [price, vehicle_type, registration_year, gearbox, power, model, kilometer, fuel_type, brand, repaired, not_repaired]\n",
       "Index: []"
      ]
     },
     "execution_count": 18,
     "metadata": {},
     "output_type": "execute_result"
    },
    {
     "data": {
      "image/png": "[encoded data removed]",
      "text/plain": [
       "<Figure size 432x288 with 1 Axes>"
      ]
     },
     "metadata": {
      "needs_background": "light"
     },
     "output_type": "display_data"
    }
   ],
   "source": [
    "# price\n",
    "\n",
    "sns.distplot(data['price']);\n",
    "data[data['price']<100]\n"
   ]
  },
  {
   "cell_type": "markdown",
   "metadata": {},
   "source": [
    "Автомобили с ценой менее 100 евро - это либо исключения, либо аномалии, связанные с неправильным заполнением ячейки с ценой (среди них мы видимо относительно новые автомобили - с годом выпуска после 2000). Удалим их."
   ]
  },
  {
   "cell_type": "code",
   "execution_count": 17,
   "metadata": {},
   "outputs": [],
   "source": [
    "data = data[data['price']>100]"
   ]
  },
  {
   "cell_type": "code",
   "execution_count": 16,
   "metadata": {},
   "outputs": [
    {
     "data": {
      "text/plain": [
       "count    295258.000000\n",
       "mean       2002.461908\n",
       "std           6.255705\n",
       "min        1910.000000\n",
       "25%        1999.000000\n",
       "50%        2003.000000\n",
       "75%        2007.000000\n",
       "max        2018.000000\n",
       "Name: registration_year, dtype: float64"
      ]
     },
     "execution_count": 16,
     "metadata": {},
     "output_type": "execute_result"
    },
    {
     "data": {
      "image/png": "[encoded data removed]",
      "text/plain": [
       "<Figure size 432x288 with 1 Axes>"
      ]
     },
     "metadata": {
      "needs_background": "light"
     },
     "output_type": "display_data"
    }
   ],
   "source": [
    "# registration_year\n",
    "data['registration_year'].hist(bins=30, grid = False)\n",
    "plt.title('Распределение количества автомобилей в зависимости от года производства');\n",
    "data['registration_year'].describe()"
   ]
  },
  {
   "cell_type": "markdown",
   "metadata": {},
   "source": [
    "Мы видим, что значения распределены нормально, хотя есть определенные выбросы - автомобили старше 1960 года. Таких строк не так много, и можно смело избавиться от них."
   ]
  },
  {
   "cell_type": "code",
   "execution_count": 19,
   "metadata": {},
   "outputs": [],
   "source": [
    "data = data[(data['registration_year']>1960) & (data['registration_year']< 2016)]"
   ]
  },
  {
   "cell_type": "code",
   "execution_count": 20,
   "metadata": {},
   "outputs": [
    {
     "data": {
      "image/png": "[encoded data removed]",
      "text/plain": [
       "<Figure size 432x288 with 1 Axes>"
      ]
     },
     "metadata": {
      "needs_background": "light"
     },
     "output_type": "display_data"
    }
   ],
   "source": [
    "# power\n",
    "data['power'].hist(bins=30, grid = False)\n",
    "plt.title('Распределение количества автомобилей в зависимости от количества лошадиных сил');"
   ]
  },
  {
   "cell_type": "markdown",
   "metadata": {},
   "source": [
    "Мы видим, что абсолютное большинство значений лежит в промежутке от 0 до 500 л.с. Выбросы свыше этой величины можно смело отбросить. <br>\n",
    "В то же время, есть нулевые значения в столбце power. "
   ]
  },
  {
   "cell_type": "code",
   "execution_count": 21,
   "metadata": {},
   "outputs": [
    {
     "data": {
      "image/png": "[encoded data removed]",
      "text/plain": [
       "<Figure size 432x288 with 1 Axes>"
      ]
     },
     "metadata": {
      "needs_background": "light"
     },
     "output_type": "display_data"
    }
   ],
   "source": [
    "data[data['power']<50]['power'].hist(bins = 30, grid = False);"
   ]
  },
  {
   "cell_type": "markdown",
   "metadata": {},
   "source": [
    "Более 17500 строк с нулевым и близким к нулю значением мощности двигателя! Это явная ошибка. К сожалению, заменить нулевые значения на какие-либо другие нельзя, т.к. даже у одной той же модели силовые агрегаты могут различаться по мощности. Придется удалить их."
   ]
  },
  {
   "cell_type": "code",
   "execution_count": 22,
   "metadata": {},
   "outputs": [],
   "source": [
    "data = data.loc[(data['power']<500) &(data['power']>0)]"
   ]
  },
  {
   "cell_type": "markdown",
   "metadata": {},
   "source": [
    "Данные предобработаны. Мы избавились от Nan'ов, аномальных значений в строках, а также от столбцов, не несущих смысловой нагрузки для последующего обучения. Посмотрим теперь, какова корреляция между числовыми столбцами и целевым признаком, а также - внутри признаков (чтобы исключить взаимозависимость)."
   ]
  },
  {
   "cell_type": "code",
   "execution_count": null,
   "metadata": {},
   "outputs": [],
   "source": [
    "data.corr().style.background_gradient(axis=None, vmin=0, vmax=1, cmap=\"YlGnBu\")"
   ]
  },
  {
   "cell_type": "markdown",
   "metadata": {},
   "source": [
    "Мы видим, что есть прямая корреляция между признаками registration_year и power и целевым признаком, а также небольшая обратная корреляция между целевым признаком и столбцом kilometer. Внутри признаков особенной корреляции не наблюдается. <br>\n",
    "Датасет готов, можно переходить к обучению моделей."
   ]
  },
  {
   "cell_type": "markdown",
   "metadata": {},
   "source": [
    "## Обучение моделей"
   ]
  },
  {
   "cell_type": "markdown",
   "metadata": {},
   "source": [
    "Наша задача - предсказать числовой признак \"Price\" при помощи обучения различных моделей. Среди признаков есть как категориальные, так и числовые переменные. Для наших целей подойдут модели линейной регрессии и бустинга. <br>\n",
    "Мы будем следовать следующему порядку действий:\n",
    "1. разделим датасет на признаки и целевой признак\n",
    "2. подготовим признаки для последующего использования в моделях - закодируем категориальные признаки, затем масштабируем.\n",
    "3. разделим датасет на обучающий, валидационный и тестовый\n",
    "4. обучим модели LightGBM, CatBoost, LinearRegression, DecisionTree и подберем для каждой оптимальные параметры. <br>\n",
    "Эти обученные модели мы впоследствии сравним между собой по ряду критериев - быстродействие, точность предсказаний, скорость обучения."
   ]
  },
  {
   "cell_type": "code",
   "execution_count": 23,
   "metadata": {
    "scrolled": true
   },
   "outputs": [],
   "source": [
    "# разделение на признаки и таргет\n",
    "features = data.drop('price', axis =1)\n",
    "target = data['price']\n",
    "# OHE-кодирование категориальных признаков для бустинговых моделей\n",
    "categorial = ['vehicle_type', 'gearbox', 'model', 'fuel_type', 'brand', 'not_repaired']\n",
    "features_ohe = pd.get_dummies(features[categorial], drop_first = False)\n",
    "features_ohe = features_ohe.merge(features[['kilometer', 'power', 'registration_year']], \n",
    "                                  how = 'left', \n",
    "                                  left_index = True, \n",
    "                                  right_index = True)\n",
    "# разделение на трейновую, валидационную и тестовую выборки\n",
    "features_trainval_ohe, features_test_ohe, target_trainval_ohe, target_test_ohe = train_test_split(features_ohe, \n",
    "                                                                                                  target, \n",
    "                                                                                                  test_size = 0.2, \n",
    "                                                                                                  random_state = State)\n",
    "features_train_ohe, features_valid_ohe, target_train_ohe, target_valid_ohe = train_test_split(features_trainval_ohe, \n",
    "                                                                                              target_trainval_ohe, \n",
    "                                                                                              test_size =0.25, \n",
    "                                                                                              random_state = State)\n",
    "\n",
    "# масштабирование признаков\n",
    "columns = features_ohe.columns\n",
    "scaler_ohe = StandardScaler()\n",
    "scaler_ohe.fit(features_ohe)\n",
    "features_train_ohe = pd.DataFrame(scaler_ohe.transform(features_train_ohe), columns = columns)\n",
    "features_trainval_ohe = pd.DataFrame(scaler_ohe.transform(features_trainval_ohe), columns = columns)\n",
    "features_valid_ohe = pd.DataFrame(scaler_ohe.transform(features_valid_ohe), columns = columns)\n",
    "features_test_ohe = pd.DataFrame(scaler_ohe.transform(features_test_ohe), columns = columns)\n",
    "\n"
   ]
  },
  {
   "cell_type": "code",
   "execution_count": 24,
   "metadata": {},
   "outputs": [],
   "source": [
    "# Ordinal Encoding для Random Forest и Decision Tree\n",
    "encoder = OrdinalEncoder()\n",
    "encoder.fit(features[categorial])\n",
    "features_ord_1 = encoder.transform(features[categorial])\n",
    "features_ord = pd.DataFrame(features_ord_1, columns = features[categorial].columns)\n",
    "features_ord = features_ord.merge(features[['kilometer', 'power', 'registration_year']].reset_index(drop = True), \n",
    "                                  how = 'left', \n",
    "                                  left_index = True, \n",
    "                                  right_index = True)\n",
    "# разделение на трейновую, валидационную и тестовую выборки\n",
    "features_trainval_ord, features_test_ord, target_trainval_ord, target_test_ord = train_test_split(features_ord, target, test_size = 0.2, random_state = State)\n",
    "features_train_ord, features_valid_ord, target_train_ord, target_valid_ord = train_test_split(features_trainval_ord, target_trainval_ord, test_size =0.25, random_state = State)\n",
    "\n",
    "# масштабирование признаков\n",
    "columns = features_ord.columns\n",
    "scaler_ord = StandardScaler()\n",
    "scaler_ord.fit(features_ord)\n",
    "features_train_ord = pd.DataFrame(scaler_ord.transform(features_train_ord), columns = columns)\n",
    "features_trainval_ord = pd.DataFrame(scaler_ord.transform(features_trainval_ord), columns = columns)\n",
    "features_valid_ord = pd.DataFrame(scaler_ord.transform(features_valid_ord), columns = columns)\n",
    "features_test_ord = pd.DataFrame(scaler_ord.transform(features_test_ord), columns = columns)"
   ]
  },
  {
   "cell_type": "markdown",
   "metadata": {},
   "source": [
    "Создадим функцию, которая будет обучать модель, регистрируя попутно тайминг обучения, а затем будет делать предсказания на валидационном датасете, также попутно регистрируя время. Функция возвращает значения времени в секундах, а также значение самого RMSE. Нам пригодятся эти параметры, чтобы сделать сравнение моделей."
   ]
  },
  {
   "cell_type": "code",
   "execution_count": 25,
   "metadata": {},
   "outputs": [],
   "source": [
    "def train_and_predict(model, features_train, target_train, features_valid, target_valid):\n",
    "    # вычисление времени на обучение\n",
    "    start_fit = time.time()\n",
    "    model.fit(features_train, target_train)\n",
    "    end_fit = time.time()\n",
    "    time_fit = round((end_fit - start_fit), 4)\n",
    "    # вычисление времени на предсказание\n",
    "    start_predict = time.time()\n",
    "    predictions = model.predict(features_valid)\n",
    "    end_predict = time.time()\n",
    "    time_predict = round((end_predict - start_predict), 4)\n",
    "    # вычисление RMSE\n",
    "    rmse = round(mean_squared_error(target_valid, predictions)**0.5, 2)\n",
    "    return time_fit, time_predict, rmse"
   ]
  },
  {
   "cell_type": "markdown",
   "metadata": {},
   "source": [
    "Создадим шаблон таблицы, куда будем складывать результаты по каждому из ключевых критериев для каждой модели."
   ]
  },
  {
   "cell_type": "code",
   "execution_count": 26,
   "metadata": {},
   "outputs": [],
   "source": [
    "model_list = ['Constant', 'DecisionTree', 'RandomForest', 'GradientBoosting', 'CatBoost', 'LightGBM']\n",
    "col_names = ['Time-to-fit', 'Time-to-predict', 'RMSE']\n",
    "table= pd.DataFrame(columns = col_names, index = model_list)"
   ]
  },
  {
   "cell_type": "markdown",
   "metadata": {},
   "source": [
    "Теперь можем приступать к сравнению моделей. Для начала создадим заглушку - константную модель, которая заполняет все значения средним значением по датасету, и посчитаем ее RMSE. В дальнейшем будем сравнивать наши модели с ее результатом."
   ]
  },
  {
   "cell_type": "markdown",
   "metadata": {},
   "source": [
    "**Константная модель**"
   ]
  },
  {
   "cell_type": "code",
   "execution_count": 27,
   "metadata": {},
   "outputs": [],
   "source": [
    "dummy_model = DummyRegressor(strategy ='mean')\n",
    "result = train_and_predict(dummy_model, features_train_ohe, target_train_ohe, features_valid_ohe, target_valid_ohe)\n",
    "table.loc['Constant', 'Time-to-fit'] = result[0]\n",
    "table.loc['Constant', 'Time-to-predict'] = result[1]\n",
    "table.loc['Constant', 'RMSE'] = result[2]"
   ]
  },
  {
   "cell_type": "markdown",
   "metadata": {},
   "source": [
    "**LightGBM**"
   ]
  },
  {
   "cell_type": "code",
   "execution_count": 28,
   "metadata": {},
   "outputs": [
    {
     "name": "stderr",
     "output_type": "stream",
     "text": [
      "/opt/conda/lib/python3.9/site-packages/lightgbm/engine.py:177: UserWarning: Found `num_iterations` in params. Will use it instead of argument\n",
      "  _log_warning(f\"Found `{alias}` in params. Will use it instead of argument\")\n"
     ]
    }
   ],
   "source": [
    "model_LGB = LGBMRegressor(force_col_wise=True, num_iterations = 100, verbosity = 0, random_state = State)\n",
    "result = train_and_predict(model_LGB, features_train_ohe, target_train_ohe, features_valid_ohe, target_valid_ohe)\n",
    "table.loc['LightGBM', 'Time-to-fit'] = result[0]\n",
    "table.loc['LightGBM', 'Time-to-predict'] = result[1]\n",
    "table.loc['LightGBM', 'RMSE'] = result[2]"
   ]
  },
  {
   "cell_type": "markdown",
   "metadata": {},
   "source": [
    "**Decision Tree**"
   ]
  },
  {
   "cell_type": "code",
   "execution_count": null,
   "metadata": {},
   "outputs": [],
   "source": [
    "model_DTR = DecisionTreeRegressor(random_state = State)\n",
    "result = train_and_predict(model_DTR, features_train_ord, target_train_ord, features_valid_ord, target_valid_ord)\n",
    "table.loc['DecisionTree', 'Time-to-fit'] = result[0]\n",
    "table.loc['DecisionTree', 'Time-to-predict'] = result[1]\n",
    "table.loc['DecisionTree', 'RMSE'] = result[2]"
   ]
  },
  {
   "cell_type": "markdown",
   "metadata": {},
   "source": [
    "**Random Forest**"
   ]
  },
  {
   "cell_type": "code",
   "execution_count": null,
   "metadata": {},
   "outputs": [],
   "source": [
    "model_RFR = RandomForestRegressor(random_state = State)\n",
    "result = train_and_predict(model_RFR, features_train_ord, target_train_ord, features_valid_ord, target_valid_ord)\n",
    "table.loc['RandomForest', 'Time-to-fit'] = result[0]\n",
    "table.loc['RandomForest', 'Time-to-predict'] = result[1]\n",
    "table.loc['RandomForest', 'RMSE'] = result[2]"
   ]
  },
  {
   "cell_type": "markdown",
   "metadata": {},
   "source": [
    "**Gradient Boost**"
   ]
  },
  {
   "cell_type": "code",
   "execution_count": null,
   "metadata": {},
   "outputs": [],
   "source": [
    "model_GBR = GradientBoostingRegressor(random_state = State)\n",
    "result = train_and_predict(model_GBR, features_train_ohe, target_train_ohe, features_valid_ohe, target_valid_ohe)\n",
    "table.loc['GradientBoosting', 'Time-to-fit'] = result[0]\n",
    "table.loc['GradientBoosting', 'Time-to-predict'] = result[1]\n",
    "table.loc['GradientBoosting', 'RMSE'] = result[2]"
   ]
  },
  {
   "cell_type": "markdown",
   "metadata": {},
   "source": [
    "**CatBoost**"
   ]
  },
  {
   "cell_type": "code",
   "execution_count": null,
   "metadata": {},
   "outputs": [],
   "source": [
    "model_CB = CatBoostRegressor(verbose = False, random_state = State)\n",
    "result = train_and_predict(model_CB, features_train_ohe, target_train_ohe, features_valid_ohe, target_valid_ohe)\n",
    "table.loc['CatBoost', 'Time-to-fit'] = result[0]\n",
    "table.loc['CatBoost', 'Time-to-predict'] = result[1]\n",
    "table.loc['CatBoost', 'RMSE'] = result[2]"
   ]
  },
  {
   "cell_type": "markdown",
   "metadata": {},
   "source": [
    "## Анализ моделей и тестирование лучшей модели"
   ]
  },
  {
   "cell_type": "markdown",
   "metadata": {},
   "source": [
    "Мы собрали данные по всем моделям в таблицу и теперь можем проанализировать результаты."
   ]
  },
  {
   "cell_type": "code",
   "execution_count": 29,
   "metadata": {
    "scrolled": true
   },
   "outputs": [
    {
     "data": {
      "text/html": [
       "<div>\n",
       "<style scoped>\n",
       "    .dataframe tbody tr th:only-of-type {\n",
       "        vertical-align: middle;\n",
       "    }\n",
       "\n",
       "    .dataframe tbody tr th {\n",
       "        vertical-align: top;\n",
       "    }\n",
       "\n",
       "    .dataframe thead th {\n",
       "        text-align: right;\n",
       "    }\n",
       "</style>\n",
       "<table border=\"1\" class=\"dataframe\">\n",
       "  <thead>\n",
       "    <tr style=\"text-align: right;\">\n",
       "      <th></th>\n",
       "      <th>Time-to-fit</th>\n",
       "      <th>Time-to-predict</th>\n",
       "      <th>RMSE</th>\n",
       "    </tr>\n",
       "  </thead>\n",
       "  <tbody>\n",
       "    <tr>\n",
       "      <th>Constant</th>\n",
       "      <td>0.0008</td>\n",
       "      <td>0.0003</td>\n",
       "      <td>4633.52</td>\n",
       "    </tr>\n",
       "    <tr>\n",
       "      <th>DecisionTree</th>\n",
       "      <td>NaN</td>\n",
       "      <td>NaN</td>\n",
       "      <td>NaN</td>\n",
       "    </tr>\n",
       "    <tr>\n",
       "      <th>RandomForest</th>\n",
       "      <td>NaN</td>\n",
       "      <td>NaN</td>\n",
       "      <td>NaN</td>\n",
       "    </tr>\n",
       "    <tr>\n",
       "      <th>GradientBoosting</th>\n",
       "      <td>NaN</td>\n",
       "      <td>NaN</td>\n",
       "      <td>NaN</td>\n",
       "    </tr>\n",
       "    <tr>\n",
       "      <th>CatBoost</th>\n",
       "      <td>NaN</td>\n",
       "      <td>NaN</td>\n",
       "      <td>NaN</td>\n",
       "    </tr>\n",
       "    <tr>\n",
       "      <th>LightGBM</th>\n",
       "      <td>378.3567</td>\n",
       "      <td>0.8945</td>\n",
       "      <td>1631.05</td>\n",
       "    </tr>\n",
       "  </tbody>\n",
       "</table>\n",
       "</div>"
      ],
      "text/plain": [
       "                 Time-to-fit Time-to-predict     RMSE\n",
       "Constant              0.0008          0.0003  4633.52\n",
       "DecisionTree             NaN             NaN      NaN\n",
       "RandomForest             NaN             NaN      NaN\n",
       "GradientBoosting         NaN             NaN      NaN\n",
       "CatBoost                 NaN             NaN      NaN\n",
       "LightGBM            378.3567          0.8945  1631.05"
      ]
     },
     "execution_count": 29,
     "metadata": {},
     "output_type": "execute_result"
    }
   ],
   "source": [
    "table"
   ]
  },
  {
   "cell_type": "markdown",
   "metadata": {},
   "source": [
    "Мы обучили модели и получили в итоге сравнительную таблицу с ключевами параметрами: время обучения, время предсказания и RMSE. <br>\n",
    "Исходя из таблицы, мы видим, что максимально эффективной, с учетом всех трех параметров, является CatBoost, ее время обработки в разы отличается от времени, затрачиваемого другими бустингами, и RMSE тоже более низкий. Аналогичный RMSE и время обучения показывает Random Forest, но время обучения в 20 раз выше, поэтому мы делаем выбор в пользу CatBoost. <br> \n",
    "В этой главе мы подберем для нее наилучшие параметры, и протестируем на тестовой выборке с условием RMSE не больше 2500."
   ]
  },
  {
   "cell_type": "code",
   "execution_count": null,
   "metadata": {},
   "outputs": [],
   "source": [
    "# настроим гиперпараметры модели\n",
    "# 1.learning rate\n",
    "best_rmse = table.loc['CatBoost', 'RMSE']\n",
    "best_time = table.loc['CatBoost', 'Time-to-fit']\n",
    "best_rate = 0.1\n",
    "for rate in np.arange(0.1, 0.85, 0.1):\n",
    "    model_CB = CatBoostRegressor(verbose = False, learning_rate = rate, random_state = State)\n",
    "    result = train_and_predict(model_CB, features_train_ohe, target_train_ohe, features_valid_ohe, target_valid_ohe)\n",
    "    print(f'Модель CB с темпом обучения {round(rate,2)} обучается {result[0]}c и дает RMSE {result[2]}')\n",
    "    if result[2]< best_rmse:\n",
    "        best_rate = rate\n",
    "        best_rmse = result[2]\n",
    "        \n",
    "# 2. tree depth      \n",
    "best_depth = 6\n",
    "for depth in range(4, 10):\n",
    "    model_CB = CatBoostRegressor(verbose = False, learning_rate = best_rate, depth = depth, random_state = State)\n",
    "    result = train_and_predict(model_CB, features_train_ohe, target_train_ohe, features_valid_ohe, target_valid_ohe)\n",
    "    print(f'Модель CB с глубиной {depth} обучается {result[0]}c и дает RMSE {result[2]}')\n",
    "    if result[2]< best_rmse:\n",
    "        best_depth = depth\n",
    "        best_rmse = result[2]\n",
    "        \n",
    "# 3. L2 regularisation\n",
    "best_l2 = 3\n",
    "for l2 in range(1,8, 2):\n",
    "    model_CB = CatBoostRegressor(verbose = False, learning_rate = best_rate, depth=best_depth, l2_leaf_reg = l2, random_state = State)\n",
    "    result = train_and_predict(model_CB, features_train_ohe, target_train_ohe, features_valid_ohe, target_valid_ohe)\n",
    "    print(f'Модель CB с уровнем регуляризации {l2} обучается {result[0]}c и дает RMSE {result[2]}')\n",
    "    if result[2]< best_rmse:\n",
    "        best_l2 = l2\n",
    "        best_rmse = result[2]"
   ]
  },
  {
   "cell_type": "markdown",
   "metadata": {},
   "source": [
    "## Тестирование лучшей модели"
   ]
  },
  {
   "cell_type": "code",
   "execution_count": null,
   "metadata": {},
   "outputs": [],
   "source": [
    "print('Хорошие показатели дает следующая комбинация гиперпараметров:')\n",
    "print(f'Best learning rate: {best_rate}')\n",
    "print(f'Best depth: {best_depth}')\n",
    "print(f'Best L2: {best_l2}')"
   ]
  },
  {
   "cell_type": "markdown",
   "metadata": {},
   "source": [
    "Проверим модель на тестовой выборке. RMSE должен быть не ниже 2500."
   ]
  },
  {
   "cell_type": "code",
   "execution_count": null,
   "metadata": {},
   "outputs": [],
   "source": [
    "final_model = CatBoostRegressor(learning_rate = best_rate, \n",
    "                       depth=best_depth, \n",
    "                       l2_leaf_reg = best_l2, \n",
    "                       verbose = False, \n",
    "                       random_state = State)\n",
    "final_model.fit(features_trainval_ohe, target_trainval_ohe)\n",
    "print(f'RMSE на модели с оптимизированными гиперпараметрами: {round(mean_squared_error(target_test_ohe, final_model.predict(features_test_ohe))**0.5, 2)}')\n"
   ]
  },
  {
   "cell_type": "markdown",
   "metadata": {},
   "source": [
    "**Вывод** <br>\n",
    "Мы проанализировали и предобработали данные таким образом, чтобы оптимизировать используемую в модели информацию. <br>\n",
    "Нам удалось подобрать оптимальную модель с учетом требований заказчика, это модель CatBoost. Ее среднее время обучения менее 30 секунд, тогда как другие бустинговые модели требуют не менее минуты. Быстро обучается также модель Random Forest, но ее RMSE намного выше, чем у CatBoost. <br>\n",
    "Мы подобрали гиперпараметры модели и достигли RMSE 1473 на тестовой выборке, что является очень хорошим результатом при требовании заказчика не более 2500."
   ]
  }
 ],
 "metadata": {
  "ExecuteTimeLog": [
   {
    "duration": 395,
    "start_time": "2022-09-11T20:22:24.852Z"
   },
   {
    "duration": 2925,
    "start_time": "2022-09-11T20:22:27.091Z"
   },
   {
    "duration": 765,
    "start_time": "2022-09-11T20:23:24.621Z"
   },
   {
    "duration": 452,
    "start_time": "2022-09-12T20:53:50.075Z"
   },
   {
    "duration": 3395,
    "start_time": "2022-09-12T20:53:52.330Z"
   },
   {
    "duration": 134,
    "start_time": "2022-09-12T20:55:54.207Z"
   },
   {
    "duration": 999,
    "start_time": "2022-09-12T21:05:30.606Z"
   },
   {
    "duration": 76,
    "start_time": "2022-09-12T21:06:52.782Z"
   },
   {
    "duration": 542,
    "start_time": "2022-09-12T21:08:49.236Z"
   },
   {
    "duration": 368,
    "start_time": "2022-09-13T14:49:58.552Z"
   },
   {
    "duration": 2860,
    "start_time": "2022-09-13T14:49:58.922Z"
   },
   {
    "duration": 113,
    "start_time": "2022-09-13T14:50:01.784Z"
   },
   {
    "duration": 102,
    "start_time": "2022-09-13T14:57:39.005Z"
   },
   {
    "duration": 92,
    "start_time": "2022-09-13T14:57:47.367Z"
   },
   {
    "duration": 77,
    "start_time": "2022-09-13T14:59:40.951Z"
   },
   {
    "duration": 3,
    "start_time": "2022-09-13T15:00:12.324Z"
   },
   {
    "duration": 890,
    "start_time": "2022-09-13T15:00:12.328Z"
   },
   {
    "duration": 96,
    "start_time": "2022-09-13T15:00:13.220Z"
   },
   {
    "duration": 77,
    "start_time": "2022-09-13T15:00:14.052Z"
   },
   {
    "duration": 79,
    "start_time": "2022-09-13T15:00:58.074Z"
   },
   {
    "duration": 4,
    "start_time": "2022-09-13T15:01:06.987Z"
   },
   {
    "duration": 4,
    "start_time": "2022-09-13T15:02:34.961Z"
   },
   {
    "duration": 6,
    "start_time": "2022-09-13T15:02:53.406Z"
   },
   {
    "duration": 29,
    "start_time": "2022-09-13T15:05:43.945Z"
   },
   {
    "duration": 131,
    "start_time": "2022-09-13T15:06:30.690Z"
   },
   {
    "duration": 71,
    "start_time": "2022-09-13T15:06:54.875Z"
   },
   {
    "duration": 136,
    "start_time": "2022-09-13T15:07:08.577Z"
   },
   {
    "duration": 28,
    "start_time": "2022-09-13T15:07:21.810Z"
   },
   {
    "duration": 29,
    "start_time": "2022-09-13T15:07:45.788Z"
   },
   {
    "duration": 30,
    "start_time": "2022-09-13T15:08:38.519Z"
   },
   {
    "duration": 147,
    "start_time": "2022-09-13T15:08:55.946Z"
   },
   {
    "duration": 160,
    "start_time": "2022-09-13T15:09:18.709Z"
   },
   {
    "duration": 14,
    "start_time": "2022-09-13T15:17:40.813Z"
   },
   {
    "duration": 16,
    "start_time": "2022-09-13T15:17:57.253Z"
   },
   {
    "duration": 31,
    "start_time": "2022-09-13T15:18:11.695Z"
   },
   {
    "duration": 95,
    "start_time": "2022-09-13T15:18:30.240Z"
   },
   {
    "duration": 35,
    "start_time": "2022-09-13T15:25:06.111Z"
   },
   {
    "duration": 57,
    "start_time": "2022-09-13T15:25:55.059Z"
   },
   {
    "duration": 61,
    "start_time": "2022-09-13T15:26:10.917Z"
   },
   {
    "duration": 112,
    "start_time": "2022-09-13T15:26:24.192Z"
   },
   {
    "duration": 213,
    "start_time": "2022-09-13T15:26:38.103Z"
   },
   {
    "duration": 217,
    "start_time": "2022-09-13T15:28:06.177Z"
   },
   {
    "duration": 63,
    "start_time": "2022-09-13T15:28:20.764Z"
   },
   {
    "duration": 66,
    "start_time": "2022-09-13T15:28:25.956Z"
   },
   {
    "duration": 117,
    "start_time": "2022-09-13T15:30:01.552Z"
   },
   {
    "duration": 113,
    "start_time": "2022-09-13T15:30:19.216Z"
   },
   {
    "duration": 175,
    "start_time": "2022-09-13T15:31:06.111Z"
   },
   {
    "duration": 78,
    "start_time": "2022-09-13T15:41:24.550Z"
   },
   {
    "duration": 77,
    "start_time": "2022-09-13T15:42:28.352Z"
   },
   {
    "duration": 78,
    "start_time": "2022-09-13T15:43:24.587Z"
   },
   {
    "duration": 171,
    "start_time": "2022-09-13T15:43:42.079Z"
   },
   {
    "duration": 39,
    "start_time": "2022-09-13T15:44:58.492Z"
   },
   {
    "duration": 25,
    "start_time": "2022-09-13T15:45:57.919Z"
   },
   {
    "duration": 31,
    "start_time": "2022-09-13T15:48:12.169Z"
   },
   {
    "duration": 45,
    "start_time": "2022-09-13T15:48:28.702Z"
   },
   {
    "duration": 73,
    "start_time": "2022-09-13T15:48:48.009Z"
   },
   {
    "duration": 63,
    "start_time": "2022-09-13T15:50:04.484Z"
   },
   {
    "duration": 64,
    "start_time": "2022-09-13T20:36:09.850Z"
   },
   {
    "duration": 0,
    "start_time": "2022-09-13T20:36:09.916Z"
   },
   {
    "duration": 387,
    "start_time": "2022-09-13T20:36:16.468Z"
   },
   {
    "duration": 1338,
    "start_time": "2022-09-13T20:36:16.858Z"
   },
   {
    "duration": 119,
    "start_time": "2022-09-13T20:36:18.199Z"
   },
   {
    "duration": 5,
    "start_time": "2022-09-13T20:36:18.321Z"
   },
   {
    "duration": 226,
    "start_time": "2022-09-13T20:36:18.328Z"
   },
   {
    "duration": 23,
    "start_time": "2022-09-13T20:36:18.557Z"
   },
   {
    "duration": 73,
    "start_time": "2022-09-13T20:36:18.582Z"
   },
   {
    "duration": 129,
    "start_time": "2022-09-13T20:36:18.657Z"
   },
   {
    "duration": 271,
    "start_time": "2022-09-13T20:36:18.788Z"
   },
   {
    "duration": 96,
    "start_time": "2022-09-13T20:41:41.210Z"
   },
   {
    "duration": 45,
    "start_time": "2022-09-13T20:41:53.205Z"
   },
   {
    "duration": 53,
    "start_time": "2022-09-13T20:42:14.634Z"
   },
   {
    "duration": 62,
    "start_time": "2022-09-13T20:43:45.566Z"
   },
   {
    "duration": 56,
    "start_time": "2022-09-13T20:44:16.036Z"
   },
   {
    "duration": 66,
    "start_time": "2022-09-13T20:45:19.982Z"
   },
   {
    "duration": 78,
    "start_time": "2022-09-13T20:45:55.177Z"
   },
   {
    "duration": 665,
    "start_time": "2022-09-13T20:46:56.091Z"
   },
   {
    "duration": 81,
    "start_time": "2022-09-13T20:48:04.194Z"
   },
   {
    "duration": 873,
    "start_time": "2022-09-13T20:48:20.767Z"
   },
   {
    "duration": 65,
    "start_time": "2022-09-13T20:48:29.494Z"
   },
   {
    "duration": 59,
    "start_time": "2022-09-13T20:53:10.139Z"
   },
   {
    "duration": 71,
    "start_time": "2022-09-13T20:54:33.117Z"
   },
   {
    "duration": 160,
    "start_time": "2022-09-13T20:56:02.038Z"
   },
   {
    "duration": 109,
    "start_time": "2022-09-13T20:56:36.693Z"
   },
   {
    "duration": 87,
    "start_time": "2022-09-13T20:57:45.474Z"
   },
   {
    "duration": 217,
    "start_time": "2022-09-13T20:58:03.060Z"
   },
   {
    "duration": 154,
    "start_time": "2022-09-13T20:58:10.797Z"
   },
   {
    "duration": 161,
    "start_time": "2022-09-13T20:58:30.574Z"
   },
   {
    "duration": 19,
    "start_time": "2022-09-13T20:58:49.245Z"
   },
   {
    "duration": 29,
    "start_time": "2022-09-13T20:59:57.000Z"
   },
   {
    "duration": 419,
    "start_time": "2022-09-13T21:00:10.247Z"
   },
   {
    "duration": 1133,
    "start_time": "2022-09-13T21:00:10.668Z"
   },
   {
    "duration": 144,
    "start_time": "2022-09-13T21:00:11.803Z"
   },
   {
    "duration": 9,
    "start_time": "2022-09-13T21:00:11.950Z"
   },
   {
    "duration": 230,
    "start_time": "2022-09-13T21:00:11.962Z"
   },
   {
    "duration": 32,
    "start_time": "2022-09-13T21:00:12.194Z"
   },
   {
    "duration": 87,
    "start_time": "2022-09-13T21:00:12.229Z"
   },
   {
    "duration": 183,
    "start_time": "2022-09-13T21:00:12.318Z"
   },
   {
    "duration": 262,
    "start_time": "2022-09-13T21:00:12.503Z"
   },
   {
    "duration": 16,
    "start_time": "2022-09-13T21:00:12.767Z"
   },
   {
    "duration": 120,
    "start_time": "2022-09-13T21:00:12.785Z"
   },
   {
    "duration": 634,
    "start_time": "2022-09-13T21:00:12.906Z"
   },
   {
    "duration": 258,
    "start_time": "2022-09-13T21:00:45.015Z"
   },
   {
    "duration": 121,
    "start_time": "2022-09-13T21:01:05.711Z"
   },
   {
    "duration": 414,
    "start_time": "2022-09-13T21:01:32.969Z"
   },
   {
    "duration": 1127,
    "start_time": "2022-09-13T21:01:33.385Z"
   },
   {
    "duration": 129,
    "start_time": "2022-09-13T21:01:34.513Z"
   },
   {
    "duration": 7,
    "start_time": "2022-09-13T21:01:34.646Z"
   },
   {
    "duration": 269,
    "start_time": "2022-09-13T21:01:34.656Z"
   },
   {
    "duration": 23,
    "start_time": "2022-09-13T21:01:34.926Z"
   },
   {
    "duration": 81,
    "start_time": "2022-09-13T21:01:34.951Z"
   },
   {
    "duration": 147,
    "start_time": "2022-09-13T21:01:35.043Z"
   },
   {
    "duration": 268,
    "start_time": "2022-09-13T21:01:35.192Z"
   },
   {
    "duration": 15,
    "start_time": "2022-09-13T21:01:35.463Z"
   },
   {
    "duration": 152,
    "start_time": "2022-09-13T21:01:35.480Z"
   },
   {
    "duration": 385,
    "start_time": "2022-09-13T21:01:35.639Z"
   },
   {
    "duration": 23,
    "start_time": "2022-09-13T21:01:55.415Z"
   },
   {
    "duration": 72,
    "start_time": "2022-09-13T21:02:11.213Z"
   },
   {
    "duration": 98,
    "start_time": "2022-09-13T21:04:09.575Z"
   },
   {
    "duration": 462,
    "start_time": "2022-09-13T21:05:41.976Z"
   },
   {
    "duration": 516,
    "start_time": "2022-09-13T21:06:05.277Z"
   },
   {
    "duration": 7,
    "start_time": "2022-09-13T21:08:08.057Z"
   },
   {
    "duration": 11,
    "start_time": "2022-09-13T21:08:11.662Z"
   },
   {
    "duration": 5,
    "start_time": "2022-09-13T21:08:23.381Z"
   },
   {
    "duration": 7,
    "start_time": "2022-09-13T21:08:47.848Z"
   },
   {
    "duration": 176,
    "start_time": "2022-09-13T21:10:09.360Z"
   },
   {
    "duration": 203,
    "start_time": "2022-09-13T21:10:21.548Z"
   },
   {
    "duration": 422,
    "start_time": "2022-09-13T21:10:46.356Z"
   },
   {
    "duration": 1073,
    "start_time": "2022-09-13T21:10:46.780Z"
   },
   {
    "duration": 145,
    "start_time": "2022-09-13T21:10:47.855Z"
   },
   {
    "duration": 5,
    "start_time": "2022-09-13T21:10:48.002Z"
   },
   {
    "duration": 206,
    "start_time": "2022-09-13T21:10:48.009Z"
   },
   {
    "duration": 22,
    "start_time": "2022-09-13T21:10:48.218Z"
   },
   {
    "duration": 63,
    "start_time": "2022-09-13T21:10:48.242Z"
   },
   {
    "duration": 148,
    "start_time": "2022-09-13T21:10:48.307Z"
   },
   {
    "duration": 237,
    "start_time": "2022-09-13T21:10:48.457Z"
   },
   {
    "duration": 14,
    "start_time": "2022-09-13T21:10:48.696Z"
   },
   {
    "duration": 94,
    "start_time": "2022-09-13T21:10:48.726Z"
   },
   {
    "duration": 420,
    "start_time": "2022-09-13T21:10:48.822Z"
   },
   {
    "duration": 75,
    "start_time": "2022-09-13T21:12:27.909Z"
   },
   {
    "duration": 79,
    "start_time": "2022-09-13T21:13:39.007Z"
   },
   {
    "duration": 120,
    "start_time": "2022-09-13T21:14:14.306Z"
   },
   {
    "duration": 79,
    "start_time": "2022-09-13T21:16:01.643Z"
   },
   {
    "duration": 62,
    "start_time": "2022-09-13T21:16:05.480Z"
   },
   {
    "duration": 102,
    "start_time": "2022-09-13T21:16:18.510Z"
   },
   {
    "duration": 6,
    "start_time": "2022-09-13T21:16:50.953Z"
   },
   {
    "duration": 113,
    "start_time": "2022-09-13T21:17:57.451Z"
   },
   {
    "duration": 299,
    "start_time": "2022-09-13T21:18:04.978Z"
   },
   {
    "duration": 146,
    "start_time": "2022-09-13T21:18:28.696Z"
   },
   {
    "duration": 127,
    "start_time": "2022-09-13T21:18:51.788Z"
   },
   {
    "duration": 39,
    "start_time": "2022-09-13T21:19:32.652Z"
   },
   {
    "duration": 424,
    "start_time": "2022-09-13T21:19:45.350Z"
   },
   {
    "duration": 1117,
    "start_time": "2022-09-13T21:19:45.776Z"
   },
   {
    "duration": 145,
    "start_time": "2022-09-13T21:19:46.895Z"
   },
   {
    "duration": 7,
    "start_time": "2022-09-13T21:19:47.042Z"
   },
   {
    "duration": 229,
    "start_time": "2022-09-13T21:19:47.055Z"
   },
   {
    "duration": 17,
    "start_time": "2022-09-13T21:19:47.286Z"
   },
   {
    "duration": 80,
    "start_time": "2022-09-13T21:19:47.305Z"
   },
   {
    "duration": 152,
    "start_time": "2022-09-13T21:19:47.387Z"
   },
   {
    "duration": 248,
    "start_time": "2022-09-13T21:19:47.541Z"
   },
   {
    "duration": 30,
    "start_time": "2022-09-13T21:19:47.792Z"
   },
   {
    "duration": 115,
    "start_time": "2022-09-13T21:19:47.824Z"
   },
   {
    "duration": 384,
    "start_time": "2022-09-13T21:19:47.940Z"
   },
   {
    "duration": 81,
    "start_time": "2022-09-13T21:20:12.138Z"
   },
   {
    "duration": 72,
    "start_time": "2022-09-13T21:20:22.560Z"
   },
   {
    "duration": 613,
    "start_time": "2022-09-13T21:23:42.557Z"
   },
   {
    "duration": 515,
    "start_time": "2022-09-13T21:24:38.078Z"
   },
   {
    "duration": 396,
    "start_time": "2022-09-13T21:27:32.462Z"
   },
   {
    "duration": 452,
    "start_time": "2022-09-13T21:27:53.008Z"
   },
   {
    "duration": 27,
    "start_time": "2022-09-13T21:29:47.081Z"
   },
   {
    "duration": 194,
    "start_time": "2022-09-13T21:30:02.773Z"
   },
   {
    "duration": 187,
    "start_time": "2022-09-13T21:31:31.874Z"
   },
   {
    "duration": 50,
    "start_time": "2022-09-13T21:32:00.866Z"
   },
   {
    "duration": 155,
    "start_time": "2022-09-13T21:32:20.457Z"
   },
   {
    "duration": 203,
    "start_time": "2022-09-13T21:32:34.280Z"
   },
   {
    "duration": 72,
    "start_time": "2022-09-13T21:32:42.698Z"
   },
   {
    "duration": 78,
    "start_time": "2022-09-13T21:32:50.799Z"
   },
   {
    "duration": 55,
    "start_time": "2022-09-13T21:33:18.217Z"
   },
   {
    "duration": 49,
    "start_time": "2022-09-13T21:33:27.472Z"
   },
   {
    "duration": 70,
    "start_time": "2022-09-13T21:33:50.974Z"
   },
   {
    "duration": 28,
    "start_time": "2022-09-13T21:34:04.955Z"
   },
   {
    "duration": 72,
    "start_time": "2022-09-13T21:34:14.109Z"
   },
   {
    "duration": 36,
    "start_time": "2022-09-13T21:35:39.062Z"
   },
   {
    "duration": 314,
    "start_time": "2022-09-13T21:44:04.889Z"
   },
   {
    "duration": 331,
    "start_time": "2022-09-13T21:44:24.164Z"
   },
   {
    "duration": 389,
    "start_time": "2022-09-13T21:44:44.261Z"
   },
   {
    "duration": 880,
    "start_time": "2022-09-13T21:48:53.984Z"
   },
   {
    "duration": 560,
    "start_time": "2022-09-13T21:49:33.211Z"
   },
   {
    "duration": 391,
    "start_time": "2022-09-14T06:47:42.793Z"
   },
   {
    "duration": 1078,
    "start_time": "2022-09-14T06:47:43.888Z"
   },
   {
    "duration": 812,
    "start_time": "2022-09-14T06:50:20.711Z"
   },
   {
    "duration": 3,
    "start_time": "2022-09-14T06:50:39.461Z"
   },
   {
    "duration": 704,
    "start_time": "2022-09-14T06:50:39.468Z"
   },
   {
    "duration": 89,
    "start_time": "2022-09-14T06:50:40.174Z"
   },
   {
    "duration": 5,
    "start_time": "2022-09-14T06:50:40.265Z"
   },
   {
    "duration": 257,
    "start_time": "2022-09-14T06:50:40.272Z"
   },
   {
    "duration": 25,
    "start_time": "2022-09-14T06:50:42.749Z"
   },
   {
    "duration": 48,
    "start_time": "2022-09-14T06:50:49.474Z"
   },
   {
    "duration": 42,
    "start_time": "2022-09-14T06:51:32.027Z"
   },
   {
    "duration": 13,
    "start_time": "2022-09-14T06:53:50.018Z"
   },
   {
    "duration": 2,
    "start_time": "2022-09-14T06:54:00.515Z"
   },
   {
    "duration": 719,
    "start_time": "2022-09-14T06:54:00.524Z"
   },
   {
    "duration": 90,
    "start_time": "2022-09-14T06:54:01.244Z"
   },
   {
    "duration": 4,
    "start_time": "2022-09-14T06:54:01.335Z"
   },
   {
    "duration": 242,
    "start_time": "2022-09-14T06:54:01.340Z"
   },
   {
    "duration": 44,
    "start_time": "2022-09-14T06:54:01.583Z"
   },
   {
    "duration": 16,
    "start_time": "2022-09-14T06:54:01.629Z"
   },
   {
    "duration": 36,
    "start_time": "2022-09-14T06:54:01.646Z"
   },
   {
    "duration": 117,
    "start_time": "2022-09-14T06:54:01.683Z"
   },
   {
    "duration": 179,
    "start_time": "2022-09-14T06:54:01.801Z"
   },
   {
    "duration": 2,
    "start_time": "2022-09-14T06:54:01.982Z"
   },
   {
    "duration": 26,
    "start_time": "2022-09-14T06:54:01.985Z"
   },
   {
    "duration": 22,
    "start_time": "2022-09-14T06:54:02.012Z"
   },
   {
    "duration": 0,
    "start_time": "2022-09-14T06:54:02.036Z"
   },
   {
    "duration": 0,
    "start_time": "2022-09-14T06:54:02.037Z"
   },
   {
    "duration": 26,
    "start_time": "2022-09-14T06:55:55.854Z"
   },
   {
    "duration": 163,
    "start_time": "2022-09-14T06:56:11.200Z"
   },
   {
    "duration": 469,
    "start_time": "2022-09-14T06:56:32.585Z"
   },
   {
    "duration": 40,
    "start_time": "2022-09-14T07:00:57.122Z"
   },
   {
    "duration": 60,
    "start_time": "2022-09-14T07:01:59.454Z"
   },
   {
    "duration": 71,
    "start_time": "2022-09-14T07:02:45.063Z"
   },
   {
    "duration": 51,
    "start_time": "2022-09-14T07:02:59.455Z"
   },
   {
    "duration": 86,
    "start_time": "2022-09-14T07:10:26.092Z"
   },
   {
    "duration": 2037,
    "start_time": "2022-09-14T07:16:54.742Z"
   },
   {
    "duration": 2340,
    "start_time": "2022-09-14T07:17:06.554Z"
   },
   {
    "duration": 17,
    "start_time": "2022-09-14T07:17:14.141Z"
   },
   {
    "duration": 12,
    "start_time": "2022-09-14T07:17:20.261Z"
   },
   {
    "duration": 3,
    "start_time": "2022-09-14T07:17:39.451Z"
   },
   {
    "duration": 13,
    "start_time": "2022-09-14T07:17:49.178Z"
   },
   {
    "duration": 7,
    "start_time": "2022-09-14T07:18:01.218Z"
   },
   {
    "duration": 7,
    "start_time": "2022-09-14T07:18:09.700Z"
   },
   {
    "duration": 14,
    "start_time": "2022-09-14T07:18:14.991Z"
   },
   {
    "duration": 1311,
    "start_time": "2022-09-14T07:55:54.213Z"
   },
   {
    "duration": 975,
    "start_time": "2022-09-14T07:55:55.526Z"
   },
   {
    "duration": 101,
    "start_time": "2022-09-14T07:55:56.502Z"
   },
   {
    "duration": 80,
    "start_time": "2022-09-14T07:55:56.605Z"
   },
   {
    "duration": 14,
    "start_time": "2022-09-14T07:55:56.687Z"
   },
   {
    "duration": 170,
    "start_time": "2022-09-14T07:55:56.703Z"
   },
   {
    "duration": 38,
    "start_time": "2022-09-14T07:55:56.875Z"
   },
   {
    "duration": 13,
    "start_time": "2022-09-14T07:55:56.915Z"
   },
   {
    "duration": 44,
    "start_time": "2022-09-14T07:55:56.930Z"
   },
   {
    "duration": 108,
    "start_time": "2022-09-14T07:55:56.976Z"
   },
   {
    "duration": 182,
    "start_time": "2022-09-14T07:55:57.086Z"
   },
   {
    "duration": 2,
    "start_time": "2022-09-14T07:55:57.269Z"
   },
   {
    "duration": 37,
    "start_time": "2022-09-14T07:55:57.272Z"
   },
   {
    "duration": 102,
    "start_time": "2022-09-14T07:55:57.310Z"
   },
   {
    "duration": 132,
    "start_time": "2022-09-14T07:57:35.733Z"
   },
   {
    "duration": 58,
    "start_time": "2022-09-14T07:57:43.516Z"
   },
   {
    "duration": 180,
    "start_time": "2022-09-14T07:57:54.000Z"
   },
   {
    "duration": 3,
    "start_time": "2022-09-14T07:59:12.151Z"
   },
   {
    "duration": 280,
    "start_time": "2022-09-14T07:59:35.613Z"
   },
   {
    "duration": 49,
    "start_time": "2022-09-14T16:06:58.301Z"
   },
   {
    "duration": 1453,
    "start_time": "2022-09-14T16:07:03.575Z"
   },
   {
    "duration": 1057,
    "start_time": "2022-09-14T16:07:05.030Z"
   },
   {
    "duration": 128,
    "start_time": "2022-09-14T16:07:06.088Z"
   },
   {
    "duration": 89,
    "start_time": "2022-09-14T16:07:06.217Z"
   },
   {
    "duration": 16,
    "start_time": "2022-09-14T16:07:06.308Z"
   },
   {
    "duration": 199,
    "start_time": "2022-09-14T16:07:06.325Z"
   },
   {
    "duration": 34,
    "start_time": "2022-09-14T16:07:06.526Z"
   },
   {
    "duration": 16,
    "start_time": "2022-09-14T16:07:06.562Z"
   },
   {
    "duration": 56,
    "start_time": "2022-09-14T16:07:06.580Z"
   },
   {
    "duration": 133,
    "start_time": "2022-09-14T16:07:06.638Z"
   },
   {
    "duration": 216,
    "start_time": "2022-09-14T16:07:06.773Z"
   },
   {
    "duration": 3,
    "start_time": "2022-09-14T16:07:06.990Z"
   },
   {
    "duration": 31,
    "start_time": "2022-09-14T16:07:06.994Z"
   },
   {
    "duration": 87,
    "start_time": "2022-09-14T16:07:07.029Z"
   },
   {
    "duration": 325,
    "start_time": "2022-09-14T16:07:09.727Z"
   },
   {
    "duration": 254,
    "start_time": "2022-09-14T16:07:50.857Z"
   },
   {
    "duration": 11,
    "start_time": "2022-09-14T16:09:29.479Z"
   },
   {
    "duration": 8,
    "start_time": "2022-09-14T16:09:47.890Z"
   },
   {
    "duration": 9,
    "start_time": "2022-09-14T16:09:59.276Z"
   },
   {
    "duration": 25584,
    "start_time": "2022-09-14T16:10:31.382Z"
   },
   {
    "duration": 95,
    "start_time": "2022-09-14T16:16:42.350Z"
   },
   {
    "duration": 15,
    "start_time": "2022-09-14T16:23:10.710Z"
   },
   {
    "duration": 1419,
    "start_time": "2022-09-14T16:23:24.665Z"
   },
   {
    "duration": 780,
    "start_time": "2022-09-14T16:23:26.085Z"
   },
   {
    "duration": 133,
    "start_time": "2022-09-14T16:23:26.866Z"
   },
   {
    "duration": 96,
    "start_time": "2022-09-14T16:23:27.001Z"
   },
   {
    "duration": 4,
    "start_time": "2022-09-14T16:23:27.099Z"
   },
   {
    "duration": 187,
    "start_time": "2022-09-14T16:23:27.105Z"
   },
   {
    "duration": 43,
    "start_time": "2022-09-14T16:23:27.293Z"
   },
   {
    "duration": 17,
    "start_time": "2022-09-14T16:23:27.337Z"
   },
   {
    "duration": 40,
    "start_time": "2022-09-14T16:23:27.355Z"
   },
   {
    "duration": 185,
    "start_time": "2022-09-14T16:23:27.396Z"
   },
   {
    "duration": 214,
    "start_time": "2022-09-14T16:23:27.583Z"
   },
   {
    "duration": 2,
    "start_time": "2022-09-14T16:23:27.798Z"
   },
   {
    "duration": 22,
    "start_time": "2022-09-14T16:23:27.802Z"
   },
   {
    "duration": 81,
    "start_time": "2022-09-14T16:23:27.826Z"
   },
   {
    "duration": 132,
    "start_time": "2022-09-14T16:23:28.970Z"
   },
   {
    "duration": 22,
    "start_time": "2022-09-14T16:23:37.837Z"
   },
   {
    "duration": 1336,
    "start_time": "2022-09-14T16:23:46.918Z"
   },
   {
    "duration": 887,
    "start_time": "2022-09-14T16:23:48.256Z"
   },
   {
    "duration": 139,
    "start_time": "2022-09-14T16:23:49.144Z"
   },
   {
    "duration": 108,
    "start_time": "2022-09-14T16:23:49.285Z"
   },
   {
    "duration": 4,
    "start_time": "2022-09-14T16:23:49.395Z"
   },
   {
    "duration": 205,
    "start_time": "2022-09-14T16:23:49.401Z"
   },
   {
    "duration": 43,
    "start_time": "2022-09-14T16:23:49.608Z"
   },
   {
    "duration": 33,
    "start_time": "2022-09-14T16:23:49.653Z"
   },
   {
    "duration": 38,
    "start_time": "2022-09-14T16:23:49.688Z"
   },
   {
    "duration": 128,
    "start_time": "2022-09-14T16:23:49.728Z"
   },
   {
    "duration": 221,
    "start_time": "2022-09-14T16:23:49.857Z"
   },
   {
    "duration": 2,
    "start_time": "2022-09-14T16:23:50.080Z"
   },
   {
    "duration": 20,
    "start_time": "2022-09-14T16:23:50.084Z"
   },
   {
    "duration": 90,
    "start_time": "2022-09-14T16:23:50.106Z"
   },
   {
    "duration": 126,
    "start_time": "2022-09-14T16:23:50.198Z"
   },
   {
    "duration": 267,
    "start_time": "2022-09-14T16:33:20.601Z"
   },
   {
    "duration": 160,
    "start_time": "2022-09-14T16:33:40.075Z"
   },
   {
    "duration": 157,
    "start_time": "2022-09-14T16:35:18.457Z"
   },
   {
    "duration": 252,
    "start_time": "2022-09-14T16:36:59.046Z"
   },
   {
    "duration": 64,
    "start_time": "2022-09-14T16:37:49.442Z"
   },
   {
    "duration": 315,
    "start_time": "2022-09-14T16:38:34.769Z"
   },
   {
    "duration": 313,
    "start_time": "2022-09-14T16:38:50.347Z"
   },
   {
    "duration": 27,
    "start_time": "2022-09-14T16:40:43.064Z"
   },
   {
    "duration": 26,
    "start_time": "2022-09-14T16:42:23.836Z"
   },
   {
    "duration": 158,
    "start_time": "2022-09-14T16:43:16.009Z"
   },
   {
    "duration": 174,
    "start_time": "2022-09-14T16:43:26.111Z"
   },
   {
    "duration": 252,
    "start_time": "2022-09-14T16:43:32.997Z"
   },
   {
    "duration": 136,
    "start_time": "2022-09-14T16:43:50.499Z"
   },
   {
    "duration": 142,
    "start_time": "2022-09-14T16:44:22.233Z"
   },
   {
    "duration": 266,
    "start_time": "2022-09-14T16:44:44.197Z"
   },
   {
    "duration": 20,
    "start_time": "2022-09-14T16:45:37.797Z"
   },
   {
    "duration": 8,
    "start_time": "2022-09-14T16:46:52.956Z"
   },
   {
    "duration": 4,
    "start_time": "2022-09-14T16:47:00.666Z"
   },
   {
    "duration": 285,
    "start_time": "2022-09-14T16:47:09.858Z"
   },
   {
    "duration": 120,
    "start_time": "2022-09-14T16:47:23.010Z"
   },
   {
    "duration": 1244,
    "start_time": "2022-09-14T16:47:40.345Z"
   },
   {
    "duration": 755,
    "start_time": "2022-09-14T16:47:41.591Z"
   },
   {
    "duration": 127,
    "start_time": "2022-09-14T16:47:42.348Z"
   },
   {
    "duration": 102,
    "start_time": "2022-09-14T16:47:42.477Z"
   },
   {
    "duration": 4,
    "start_time": "2022-09-14T16:47:42.581Z"
   },
   {
    "duration": 198,
    "start_time": "2022-09-14T16:47:42.586Z"
   },
   {
    "duration": 47,
    "start_time": "2022-09-14T16:47:42.785Z"
   },
   {
    "duration": 15,
    "start_time": "2022-09-14T16:47:42.833Z"
   },
   {
    "duration": 38,
    "start_time": "2022-09-14T16:47:42.850Z"
   },
   {
    "duration": 143,
    "start_time": "2022-09-14T16:47:42.890Z"
   },
   {
    "duration": 131,
    "start_time": "2022-09-14T16:47:43.034Z"
   },
   {
    "duration": 3,
    "start_time": "2022-09-14T16:47:43.167Z"
   },
   {
    "duration": 134,
    "start_time": "2022-09-14T16:47:43.172Z"
   },
   {
    "duration": 195,
    "start_time": "2022-09-14T16:47:43.308Z"
   },
   {
    "duration": 81,
    "start_time": "2022-09-14T16:47:43.505Z"
   },
   {
    "duration": 168,
    "start_time": "2022-09-14T16:47:43.587Z"
   },
   {
    "duration": 23,
    "start_time": "2022-09-14T16:47:43.757Z"
   },
   {
    "duration": 136,
    "start_time": "2022-09-14T16:47:43.782Z"
   },
   {
    "duration": 61,
    "start_time": "2022-09-14T16:47:43.922Z"
   },
   {
    "duration": 41,
    "start_time": "2022-09-14T16:49:44.204Z"
   },
   {
    "duration": 450,
    "start_time": "2022-09-14T16:49:53.356Z"
   },
   {
    "duration": 150,
    "start_time": "2022-09-14T16:50:03.981Z"
   },
   {
    "duration": 173,
    "start_time": "2022-09-14T16:50:26.031Z"
   },
   {
    "duration": 23,
    "start_time": "2022-09-14T16:54:05.402Z"
   },
   {
    "duration": 85,
    "start_time": "2022-09-14T16:54:13.226Z"
   },
   {
    "duration": 32,
    "start_time": "2022-09-14T16:56:53.088Z"
   },
   {
    "duration": 1633,
    "start_time": "2022-09-14T19:55:35.436Z"
   },
   {
    "duration": 1190,
    "start_time": "2022-09-14T19:55:37.071Z"
   },
   {
    "duration": 130,
    "start_time": "2022-09-14T19:55:38.262Z"
   },
   {
    "duration": 115,
    "start_time": "2022-09-14T19:55:38.395Z"
   },
   {
    "duration": 6,
    "start_time": "2022-09-14T19:55:38.514Z"
   },
   {
    "duration": 198,
    "start_time": "2022-09-14T19:55:38.524Z"
   },
   {
    "duration": 38,
    "start_time": "2022-09-14T19:55:38.724Z"
   },
   {
    "duration": 17,
    "start_time": "2022-09-14T19:55:38.764Z"
   },
   {
    "duration": 59,
    "start_time": "2022-09-14T19:55:38.782Z"
   },
   {
    "duration": 151,
    "start_time": "2022-09-14T19:55:38.844Z"
   },
   {
    "duration": 155,
    "start_time": "2022-09-14T19:55:38.998Z"
   },
   {
    "duration": 4,
    "start_time": "2022-09-14T19:55:39.155Z"
   },
   {
    "duration": 135,
    "start_time": "2022-09-14T19:55:39.161Z"
   },
   {
    "duration": 237,
    "start_time": "2022-09-14T19:55:39.297Z"
   },
   {
    "duration": 72,
    "start_time": "2022-09-14T19:55:39.538Z"
   },
   {
    "duration": 205,
    "start_time": "2022-09-14T19:55:39.621Z"
   },
   {
    "duration": 187,
    "start_time": "2022-09-14T19:55:39.828Z"
   },
   {
    "duration": 27,
    "start_time": "2022-09-14T19:55:40.020Z"
   },
   {
    "duration": 84,
    "start_time": "2022-09-14T19:55:40.049Z"
   },
   {
    "duration": 17,
    "start_time": "2022-09-14T19:58:46.838Z"
   },
   {
    "duration": 161,
    "start_time": "2022-09-14T20:01:03.776Z"
   },
   {
    "duration": 64,
    "start_time": "2022-09-14T20:02:28.834Z"
   },
   {
    "duration": 1847,
    "start_time": "2022-09-14T20:02:36.835Z"
   },
   {
    "duration": 1421,
    "start_time": "2022-09-14T20:02:38.684Z"
   },
   {
    "duration": 128,
    "start_time": "2022-09-14T20:02:40.107Z"
   },
   {
    "duration": 148,
    "start_time": "2022-09-14T20:02:40.237Z"
   },
   {
    "duration": 5,
    "start_time": "2022-09-14T20:02:40.387Z"
   },
   {
    "duration": 196,
    "start_time": "2022-09-14T20:02:40.393Z"
   },
   {
    "duration": 50,
    "start_time": "2022-09-14T20:02:40.591Z"
   },
   {
    "duration": 18,
    "start_time": "2022-09-14T20:02:40.643Z"
   },
   {
    "duration": 38,
    "start_time": "2022-09-14T20:02:40.662Z"
   },
   {
    "duration": 127,
    "start_time": "2022-09-14T20:02:40.720Z"
   },
   {
    "duration": 143,
    "start_time": "2022-09-14T20:02:40.849Z"
   },
   {
    "duration": 3,
    "start_time": "2022-09-14T20:02:40.994Z"
   },
   {
    "duration": 143,
    "start_time": "2022-09-14T20:02:40.999Z"
   },
   {
    "duration": 221,
    "start_time": "2022-09-14T20:02:41.145Z"
   },
   {
    "duration": 74,
    "start_time": "2022-09-14T20:02:41.368Z"
   },
   {
    "duration": 235,
    "start_time": "2022-09-14T20:02:41.444Z"
   },
   {
    "duration": 195,
    "start_time": "2022-09-14T20:02:41.681Z"
   },
   {
    "duration": 26,
    "start_time": "2022-09-14T20:02:41.877Z"
   },
   {
    "duration": 99,
    "start_time": "2022-09-14T20:02:41.905Z"
   },
   {
    "duration": 1590,
    "start_time": "2022-09-14T20:04:40.034Z"
   },
   {
    "duration": 942,
    "start_time": "2022-09-14T20:04:41.627Z"
   },
   {
    "duration": 144,
    "start_time": "2022-09-14T20:04:42.571Z"
   },
   {
    "duration": 115,
    "start_time": "2022-09-14T20:04:42.720Z"
   },
   {
    "duration": 4,
    "start_time": "2022-09-14T20:04:42.838Z"
   },
   {
    "duration": 201,
    "start_time": "2022-09-14T20:04:42.844Z"
   },
   {
    "duration": 37,
    "start_time": "2022-09-14T20:04:43.047Z"
   },
   {
    "duration": 38,
    "start_time": "2022-09-14T20:04:43.086Z"
   },
   {
    "duration": 43,
    "start_time": "2022-09-14T20:04:43.126Z"
   },
   {
    "duration": 137,
    "start_time": "2022-09-14T20:04:43.171Z"
   },
   {
    "duration": 149,
    "start_time": "2022-09-14T20:04:43.310Z"
   },
   {
    "duration": 3,
    "start_time": "2022-09-14T20:04:43.461Z"
   },
   {
    "duration": 144,
    "start_time": "2022-09-14T20:04:43.465Z"
   },
   {
    "duration": 244,
    "start_time": "2022-09-14T20:04:43.611Z"
   },
   {
    "duration": 94,
    "start_time": "2022-09-14T20:04:43.858Z"
   },
   {
    "duration": 226,
    "start_time": "2022-09-14T20:04:43.954Z"
   },
   {
    "duration": 185,
    "start_time": "2022-09-14T20:04:44.182Z"
   },
   {
    "duration": 28,
    "start_time": "2022-09-14T20:04:44.368Z"
   },
   {
    "duration": 82,
    "start_time": "2022-09-14T20:04:44.398Z"
   },
   {
    "duration": 55,
    "start_time": "2022-09-14T20:07:53.597Z"
   },
   {
    "duration": 2228,
    "start_time": "2022-09-14T20:08:01.719Z"
   },
   {
    "duration": 1211,
    "start_time": "2022-09-14T20:08:03.949Z"
   },
   {
    "duration": 125,
    "start_time": "2022-09-14T20:08:05.162Z"
   },
   {
    "duration": 111,
    "start_time": "2022-09-14T20:08:05.288Z"
   },
   {
    "duration": 6,
    "start_time": "2022-09-14T20:08:05.402Z"
   },
   {
    "duration": 218,
    "start_time": "2022-09-14T20:08:05.410Z"
   },
   {
    "duration": 35,
    "start_time": "2022-09-14T20:08:05.631Z"
   },
   {
    "duration": 24,
    "start_time": "2022-09-14T20:08:05.667Z"
   },
   {
    "duration": 66,
    "start_time": "2022-09-14T20:08:05.693Z"
   },
   {
    "duration": 133,
    "start_time": "2022-09-14T20:08:05.761Z"
   },
   {
    "duration": 142,
    "start_time": "2022-09-14T20:08:05.896Z"
   },
   {
    "duration": 3,
    "start_time": "2022-09-14T20:08:06.040Z"
   },
   {
    "duration": 136,
    "start_time": "2022-09-14T20:08:06.044Z"
   },
   {
    "duration": 349,
    "start_time": "2022-09-14T20:08:06.184Z"
   },
   {
    "duration": 76,
    "start_time": "2022-09-14T20:08:06.535Z"
   },
   {
    "duration": 216,
    "start_time": "2022-09-14T20:08:06.623Z"
   },
   {
    "duration": 204,
    "start_time": "2022-09-14T20:08:06.841Z"
   },
   {
    "duration": 23,
    "start_time": "2022-09-14T20:08:07.047Z"
   },
   {
    "duration": 87,
    "start_time": "2022-09-14T20:08:07.072Z"
   },
   {
    "duration": 82,
    "start_time": "2022-09-14T20:08:09.254Z"
   },
   {
    "duration": 15,
    "start_time": "2022-09-14T20:08:15.592Z"
   },
   {
    "duration": 28,
    "start_time": "2022-09-14T20:08:17.580Z"
   },
   {
    "duration": 148,
    "start_time": "2022-09-14T20:08:25.920Z"
   },
   {
    "duration": 27,
    "start_time": "2022-09-14T20:08:41.681Z"
   },
   {
    "duration": 60,
    "start_time": "2022-09-14T20:08:46.837Z"
   },
   {
    "duration": 3959,
    "start_time": "2022-09-14T20:09:01.460Z"
   },
   {
    "duration": 1083,
    "start_time": "2022-09-14T20:10:14.560Z"
   },
   {
    "duration": 1089,
    "start_time": "2022-09-14T20:12:36.851Z"
   },
   {
    "duration": 840,
    "start_time": "2022-09-14T20:16:13.004Z"
   },
   {
    "duration": 624,
    "start_time": "2022-09-14T20:16:40.347Z"
   },
   {
    "duration": 594,
    "start_time": "2022-09-14T21:06:04.511Z"
   },
   {
    "duration": 15,
    "start_time": "2022-09-14T21:08:03.736Z"
   },
   {
    "duration": 101,
    "start_time": "2022-09-14T21:08:19.094Z"
   },
   {
    "duration": 1479,
    "start_time": "2022-09-14T21:08:48.174Z"
   },
   {
    "duration": 1007,
    "start_time": "2022-09-14T21:08:49.655Z"
   },
   {
    "duration": 123,
    "start_time": "2022-09-14T21:08:50.664Z"
   },
   {
    "duration": 109,
    "start_time": "2022-09-14T21:08:50.788Z"
   },
   {
    "duration": 4,
    "start_time": "2022-09-14T21:08:50.899Z"
   },
   {
    "duration": 194,
    "start_time": "2022-09-14T21:08:50.904Z"
   },
   {
    "duration": 51,
    "start_time": "2022-09-14T21:08:51.100Z"
   },
   {
    "duration": 17,
    "start_time": "2022-09-14T21:08:51.153Z"
   },
   {
    "duration": 54,
    "start_time": "2022-09-14T21:08:51.172Z"
   },
   {
    "duration": 24,
    "start_time": "2022-09-14T21:08:53.735Z"
   },
   {
    "duration": 157,
    "start_time": "2022-09-14T21:12:53.994Z"
   },
   {
    "duration": 3,
    "start_time": "2022-09-14T21:13:17.416Z"
   },
   {
    "duration": 959,
    "start_time": "2022-09-14T21:13:17.422Z"
   },
   {
    "duration": 125,
    "start_time": "2022-09-14T21:13:18.383Z"
   },
   {
    "duration": 101,
    "start_time": "2022-09-14T21:13:18.510Z"
   },
   {
    "duration": 7,
    "start_time": "2022-09-14T21:13:18.621Z"
   },
   {
    "duration": 216,
    "start_time": "2022-09-14T21:13:18.630Z"
   },
   {
    "duration": 40,
    "start_time": "2022-09-14T21:13:18.848Z"
   },
   {
    "duration": 37,
    "start_time": "2022-09-14T21:13:18.889Z"
   },
   {
    "duration": 61,
    "start_time": "2022-09-14T21:13:18.928Z"
   },
   {
    "duration": 173,
    "start_time": "2022-09-14T21:13:18.992Z"
   },
   {
    "duration": 131,
    "start_time": "2022-09-14T21:13:19.167Z"
   },
   {
    "duration": 3,
    "start_time": "2022-09-14T21:13:19.300Z"
   },
   {
    "duration": 96,
    "start_time": "2022-09-14T21:13:19.307Z"
   },
   {
    "duration": 241,
    "start_time": "2022-09-14T21:13:19.405Z"
   },
   {
    "duration": 22,
    "start_time": "2022-09-14T21:13:19.647Z"
   },
   {
    "duration": 237,
    "start_time": "2022-09-14T21:13:19.670Z"
   },
   {
    "duration": 193,
    "start_time": "2022-09-14T21:13:19.909Z"
   },
   {
    "duration": 36,
    "start_time": "2022-09-14T21:13:20.104Z"
   },
   {
    "duration": 79,
    "start_time": "2022-09-14T21:13:20.142Z"
   },
   {
    "duration": 626,
    "start_time": "2022-09-14T21:13:20.451Z"
   },
   {
    "duration": 682,
    "start_time": "2022-09-14T21:15:07.042Z"
   },
   {
    "duration": 3,
    "start_time": "2022-09-14T21:17:15.794Z"
   },
   {
    "duration": 736,
    "start_time": "2022-09-14T21:17:38.381Z"
   },
   {
    "duration": 676,
    "start_time": "2022-09-14T21:17:43.601Z"
   },
   {
    "duration": 684,
    "start_time": "2022-09-14T21:18:51.802Z"
   },
   {
    "duration": 764,
    "start_time": "2022-09-14T21:18:56.845Z"
   },
   {
    "duration": 3638,
    "start_time": "2022-09-14T21:20:20.676Z"
   },
   {
    "duration": 4087,
    "start_time": "2022-09-14T21:21:09.756Z"
   },
   {
    "duration": 3734,
    "start_time": "2022-09-14T21:21:41.737Z"
   },
   {
    "duration": 3599,
    "start_time": "2022-09-14T21:26:04.450Z"
   },
   {
    "duration": 6476,
    "start_time": "2022-09-14T21:26:47.763Z"
   },
   {
    "duration": 57,
    "start_time": "2022-09-14T21:26:59.378Z"
   },
   {
    "duration": 3,
    "start_time": "2022-09-14T21:32:35.495Z"
   },
   {
    "duration": 10,
    "start_time": "2022-09-14T21:34:14.552Z"
   },
   {
    "duration": 3,
    "start_time": "2022-09-14T21:34:33.558Z"
   },
   {
    "duration": 824,
    "start_time": "2022-09-14T21:34:39.143Z"
   },
   {
    "duration": 1593,
    "start_time": "2022-09-14T21:35:22.242Z"
   },
   {
    "duration": 1370,
    "start_time": "2022-09-14T21:35:35.482Z"
   },
   {
    "duration": 3,
    "start_time": "2022-09-14T21:38:38.165Z"
   },
   {
    "duration": 3,
    "start_time": "2022-09-14T21:40:03.054Z"
   },
   {
    "duration": 4931,
    "start_time": "2022-09-14T21:40:50.227Z"
   },
   {
    "duration": 4884,
    "start_time": "2022-09-14T21:41:18.902Z"
   },
   {
    "duration": 47,
    "start_time": "2022-09-15T20:00:14.400Z"
   },
   {
    "duration": 371,
    "start_time": "2022-09-15T20:00:22.886Z"
   },
   {
    "duration": 0,
    "start_time": "2022-09-15T20:00:23.259Z"
   },
   {
    "duration": 0,
    "start_time": "2022-09-15T20:00:23.260Z"
   },
   {
    "duration": 0,
    "start_time": "2022-09-15T20:00:23.261Z"
   },
   {
    "duration": 0,
    "start_time": "2022-09-15T20:00:23.262Z"
   },
   {
    "duration": 0,
    "start_time": "2022-09-15T20:00:23.263Z"
   },
   {
    "duration": 0,
    "start_time": "2022-09-15T20:00:23.264Z"
   },
   {
    "duration": 0,
    "start_time": "2022-09-15T20:00:23.265Z"
   },
   {
    "duration": 0,
    "start_time": "2022-09-15T20:00:23.266Z"
   },
   {
    "duration": 0,
    "start_time": "2022-09-15T20:00:23.267Z"
   },
   {
    "duration": 0,
    "start_time": "2022-09-15T20:00:23.267Z"
   },
   {
    "duration": 0,
    "start_time": "2022-09-15T20:00:23.268Z"
   },
   {
    "duration": 0,
    "start_time": "2022-09-15T20:00:23.270Z"
   },
   {
    "duration": 0,
    "start_time": "2022-09-15T20:00:23.270Z"
   },
   {
    "duration": 6,
    "start_time": "2022-09-15T20:00:28.127Z"
   },
   {
    "duration": 8,
    "start_time": "2022-09-15T20:00:41.320Z"
   },
   {
    "duration": 0,
    "start_time": "2022-09-15T20:00:41.329Z"
   },
   {
    "duration": 0,
    "start_time": "2022-09-15T20:00:41.330Z"
   },
   {
    "duration": 0,
    "start_time": "2022-09-15T20:00:41.331Z"
   },
   {
    "duration": 0,
    "start_time": "2022-09-15T20:00:41.333Z"
   },
   {
    "duration": 0,
    "start_time": "2022-09-15T20:00:41.334Z"
   },
   {
    "duration": 8,
    "start_time": "2022-09-15T20:00:41.335Z"
   },
   {
    "duration": 0,
    "start_time": "2022-09-15T20:00:41.344Z"
   },
   {
    "duration": 0,
    "start_time": "2022-09-15T20:00:41.346Z"
   },
   {
    "duration": 0,
    "start_time": "2022-09-15T20:00:41.347Z"
   },
   {
    "duration": 0,
    "start_time": "2022-09-15T20:00:41.348Z"
   },
   {
    "duration": 0,
    "start_time": "2022-09-15T20:00:41.349Z"
   },
   {
    "duration": 1,
    "start_time": "2022-09-15T20:00:41.350Z"
   },
   {
    "duration": 71,
    "start_time": "2022-09-15T20:00:41.352Z"
   },
   {
    "duration": 6,
    "start_time": "2022-09-15T20:00:45.262Z"
   },
   {
    "duration": 7,
    "start_time": "2022-09-15T20:01:14.514Z"
   },
   {
    "duration": 8,
    "start_time": "2022-09-15T20:01:28.067Z"
   },
   {
    "duration": 0,
    "start_time": "2022-09-15T20:01:28.077Z"
   },
   {
    "duration": 0,
    "start_time": "2022-09-15T20:01:28.078Z"
   },
   {
    "duration": 0,
    "start_time": "2022-09-15T20:01:28.079Z"
   },
   {
    "duration": 0,
    "start_time": "2022-09-15T20:01:28.080Z"
   },
   {
    "duration": 7,
    "start_time": "2022-09-15T20:01:28.082Z"
   },
   {
    "duration": 0,
    "start_time": "2022-09-15T20:01:28.090Z"
   },
   {
    "duration": 0,
    "start_time": "2022-09-15T20:01:28.091Z"
   },
   {
    "duration": 0,
    "start_time": "2022-09-15T20:01:28.092Z"
   },
   {
    "duration": 7,
    "start_time": "2022-09-15T20:01:28.095Z"
   },
   {
    "duration": 0,
    "start_time": "2022-09-15T20:01:28.104Z"
   },
   {
    "duration": 0,
    "start_time": "2022-09-15T20:01:28.105Z"
   },
   {
    "duration": 0,
    "start_time": "2022-09-15T20:01:28.106Z"
   },
   {
    "duration": 0,
    "start_time": "2022-09-15T20:01:28.107Z"
   },
   {
    "duration": 0,
    "start_time": "2022-09-15T20:01:28.109Z"
   },
   {
    "duration": 1096,
    "start_time": "2022-09-15T20:01:46.601Z"
   },
   {
    "duration": 4,
    "start_time": "2022-09-15T20:01:56.189Z"
   },
   {
    "duration": 10,
    "start_time": "2022-09-15T20:01:56.195Z"
   },
   {
    "duration": 2857,
    "start_time": "2022-09-15T20:01:56.206Z"
   },
   {
    "duration": 109,
    "start_time": "2022-09-15T20:01:59.065Z"
   },
   {
    "duration": 91,
    "start_time": "2022-09-15T20:01:59.176Z"
   },
   {
    "duration": 4,
    "start_time": "2022-09-15T20:01:59.269Z"
   },
   {
    "duration": 189,
    "start_time": "2022-09-15T20:01:59.274Z"
   },
   {
    "duration": 30,
    "start_time": "2022-09-15T20:01:59.464Z"
   },
   {
    "duration": 40,
    "start_time": "2022-09-15T20:01:59.495Z"
   },
   {
    "duration": 35,
    "start_time": "2022-09-15T20:01:59.538Z"
   },
   {
    "duration": 108,
    "start_time": "2022-09-15T20:01:59.574Z"
   },
   {
    "duration": 119,
    "start_time": "2022-09-15T20:01:59.684Z"
   },
   {
    "duration": 3,
    "start_time": "2022-09-15T20:01:59.805Z"
   },
   {
    "duration": 85,
    "start_time": "2022-09-15T20:01:59.811Z"
   },
   {
    "duration": 154,
    "start_time": "2022-09-15T20:02:03.176Z"
   },
   {
    "duration": 137,
    "start_time": "2022-09-15T20:02:58.587Z"
   },
   {
    "duration": 158,
    "start_time": "2022-09-15T20:03:09.424Z"
   },
   {
    "duration": 147,
    "start_time": "2022-09-15T20:03:34.203Z"
   },
   {
    "duration": 108,
    "start_time": "2022-09-15T20:29:21.138Z"
   },
   {
    "duration": 190,
    "start_time": "2022-09-15T20:29:45.558Z"
   },
   {
    "duration": 146,
    "start_time": "2022-09-15T20:29:58.977Z"
   },
   {
    "duration": 1263,
    "start_time": "2022-09-15T20:30:18.964Z"
   },
   {
    "duration": 1217,
    "start_time": "2022-09-15T20:31:00.914Z"
   },
   {
    "duration": 34,
    "start_time": "2022-09-15T20:37:15.260Z"
   },
   {
    "duration": 3,
    "start_time": "2022-09-15T20:37:45.616Z"
   },
   {
    "duration": 651,
    "start_time": "2022-09-15T20:38:09.165Z"
   },
   {
    "duration": 2200,
    "start_time": "2022-09-15T20:39:05.879Z"
   },
   {
    "duration": 3,
    "start_time": "2022-09-15T20:39:19.506Z"
   },
   {
    "duration": 7,
    "start_time": "2022-09-15T20:39:19.511Z"
   },
   {
    "duration": 638,
    "start_time": "2022-09-15T20:39:19.519Z"
   },
   {
    "duration": 97,
    "start_time": "2022-09-15T20:39:20.158Z"
   },
   {
    "duration": 83,
    "start_time": "2022-09-15T20:39:20.256Z"
   },
   {
    "duration": 4,
    "start_time": "2022-09-15T20:39:20.340Z"
   },
   {
    "duration": 154,
    "start_time": "2022-09-15T20:39:20.346Z"
   },
   {
    "duration": 35,
    "start_time": "2022-09-15T20:39:20.501Z"
   },
   {
    "duration": 12,
    "start_time": "2022-09-15T20:39:20.538Z"
   },
   {
    "duration": 27,
    "start_time": "2022-09-15T20:39:20.552Z"
   },
   {
    "duration": 116,
    "start_time": "2022-09-15T20:39:20.582Z"
   },
   {
    "duration": 99,
    "start_time": "2022-09-15T20:39:20.699Z"
   },
   {
    "duration": 3,
    "start_time": "2022-09-15T20:39:20.799Z"
   },
   {
    "duration": 84,
    "start_time": "2022-09-15T20:39:20.803Z"
   },
   {
    "duration": 1134,
    "start_time": "2022-09-15T20:39:20.889Z"
   },
   {
    "duration": 193,
    "start_time": "2022-09-15T20:39:47.309Z"
   },
   {
    "duration": 557,
    "start_time": "2022-09-15T20:42:30.655Z"
   },
   {
    "duration": 6708,
    "start_time": "2022-09-15T20:44:52.094Z"
   },
   {
    "duration": 3,
    "start_time": "2022-09-15T20:48:58.347Z"
   },
   {
    "duration": 4,
    "start_time": "2022-09-15T21:00:27.333Z"
   },
   {
    "duration": 8,
    "start_time": "2022-09-15T21:00:53.161Z"
   },
   {
    "duration": 9,
    "start_time": "2022-09-15T21:01:20.448Z"
   },
   {
    "duration": 1230,
    "start_time": "2022-09-15T21:01:37.241Z"
   },
   {
    "duration": 6,
    "start_time": "2022-09-15T21:01:42.496Z"
   },
   {
    "duration": 4,
    "start_time": "2022-09-15T21:02:21.716Z"
   },
   {
    "duration": 6,
    "start_time": "2022-09-15T21:02:24.831Z"
   },
   {
    "duration": 4,
    "start_time": "2022-09-15T21:02:41.128Z"
   },
   {
    "duration": 5,
    "start_time": "2022-09-15T21:02:43.952Z"
   },
   {
    "duration": 70,
    "start_time": "2022-09-15T21:03:21.035Z"
   },
   {
    "duration": 9,
    "start_time": "2022-09-15T21:04:28.528Z"
   },
   {
    "duration": 4951,
    "start_time": "2022-09-15T21:04:42.053Z"
   },
   {
    "duration": 11,
    "start_time": "2022-09-15T21:05:05.301Z"
   },
   {
    "duration": 67,
    "start_time": "2022-09-15T21:05:10.175Z"
   },
   {
    "duration": 3,
    "start_time": "2022-09-15T21:05:30.262Z"
   },
   {
    "duration": 7,
    "start_time": "2022-09-15T21:05:30.267Z"
   },
   {
    "duration": 687,
    "start_time": "2022-09-15T21:05:30.275Z"
   },
   {
    "duration": 102,
    "start_time": "2022-09-15T21:05:30.964Z"
   },
   {
    "duration": 86,
    "start_time": "2022-09-15T21:05:31.069Z"
   },
   {
    "duration": 5,
    "start_time": "2022-09-15T21:05:31.157Z"
   },
   {
    "duration": 181,
    "start_time": "2022-09-15T21:05:31.163Z"
   },
   {
    "duration": 33,
    "start_time": "2022-09-15T21:05:31.345Z"
   },
   {
    "duration": 53,
    "start_time": "2022-09-15T21:05:31.380Z"
   },
   {
    "duration": 38,
    "start_time": "2022-09-15T21:05:31.434Z"
   },
   {
    "duration": 99,
    "start_time": "2022-09-15T21:05:31.473Z"
   },
   {
    "duration": 106,
    "start_time": "2022-09-15T21:05:31.574Z"
   },
   {
    "duration": 2,
    "start_time": "2022-09-15T21:05:31.682Z"
   },
   {
    "duration": 101,
    "start_time": "2022-09-15T21:05:31.686Z"
   },
   {
    "duration": 1115,
    "start_time": "2022-09-15T21:05:31.789Z"
   },
   {
    "duration": 235,
    "start_time": "2022-09-15T21:05:32.905Z"
   },
   {
    "duration": 17,
    "start_time": "2022-09-15T21:05:33.142Z"
   },
   {
    "duration": 161,
    "start_time": "2022-09-15T21:05:33.160Z"
   },
   {
    "duration": 137,
    "start_time": "2022-09-15T21:05:33.323Z"
   },
   {
    "duration": 17,
    "start_time": "2022-09-15T21:05:33.462Z"
   },
   {
    "duration": 65,
    "start_time": "2022-09-15T21:05:33.481Z"
   },
   {
    "duration": 7107,
    "start_time": "2022-09-15T21:05:33.548Z"
   },
   {
    "duration": 1097,
    "start_time": "2022-09-15T21:05:40.656Z"
   },
   {
    "duration": 5,
    "start_time": "2022-09-15T21:05:41.756Z"
   },
   {
    "duration": 66,
    "start_time": "2022-09-15T21:05:42.244Z"
   },
   {
    "duration": 4281,
    "start_time": "2022-09-15T21:06:05.229Z"
   },
   {
    "duration": 4322,
    "start_time": "2022-09-15T21:06:43.102Z"
   },
   {
    "duration": 4,
    "start_time": "2022-09-15T21:07:34.951Z"
   },
   {
    "duration": 8744,
    "start_time": "2022-09-15T21:07:38.463Z"
   },
   {
    "duration": 5,
    "start_time": "2022-09-15T21:12:44.013Z"
   },
   {
    "duration": 8,
    "start_time": "2022-09-15T21:12:49.863Z"
   },
   {
    "duration": 5,
    "start_time": "2022-09-15T21:15:01.084Z"
   },
   {
    "duration": 5,
    "start_time": "2022-09-15T21:15:33.504Z"
   },
   {
    "duration": 10,
    "start_time": "2022-09-15T21:15:42.622Z"
   },
   {
    "duration": 4200,
    "start_time": "2022-09-15T21:16:51.106Z"
   },
   {
    "duration": 7,
    "start_time": "2022-09-15T21:16:56.708Z"
   },
   {
    "duration": 278381,
    "start_time": "2022-09-15T21:18:06.763Z"
   },
   {
    "duration": 8,
    "start_time": "2022-09-15T21:22:48.017Z"
   },
   {
    "duration": 1972,
    "start_time": "2022-09-16T08:38:10.668Z"
   },
   {
    "duration": 3,
    "start_time": "2022-09-16T08:38:12.643Z"
   },
   {
    "duration": 1152,
    "start_time": "2022-09-16T08:38:12.648Z"
   },
   {
    "duration": 118,
    "start_time": "2022-09-16T08:38:13.802Z"
   },
   {
    "duration": 146,
    "start_time": "2022-09-16T08:38:13.922Z"
   },
   {
    "duration": 6,
    "start_time": "2022-09-16T08:38:14.070Z"
   },
   {
    "duration": 194,
    "start_time": "2022-09-16T08:38:14.078Z"
   },
   {
    "duration": 49,
    "start_time": "2022-09-16T08:38:14.274Z"
   },
   {
    "duration": 15,
    "start_time": "2022-09-16T08:38:14.326Z"
   },
   {
    "duration": 42,
    "start_time": "2022-09-16T08:38:14.344Z"
   },
   {
    "duration": 147,
    "start_time": "2022-09-16T08:38:14.387Z"
   },
   {
    "duration": 132,
    "start_time": "2022-09-16T08:38:14.536Z"
   },
   {
    "duration": 3,
    "start_time": "2022-09-16T08:38:14.670Z"
   },
   {
    "duration": 112,
    "start_time": "2022-09-16T08:38:14.674Z"
   },
   {
    "duration": 1415,
    "start_time": "2022-09-16T08:38:14.788Z"
   },
   {
    "duration": 215,
    "start_time": "2022-09-16T08:38:16.205Z"
   },
   {
    "duration": 25,
    "start_time": "2022-09-16T08:38:16.422Z"
   },
   {
    "duration": 210,
    "start_time": "2022-09-16T08:38:16.448Z"
   },
   {
    "duration": 252,
    "start_time": "2022-09-16T08:38:16.660Z"
   },
   {
    "duration": 24,
    "start_time": "2022-09-16T08:38:16.914Z"
   },
   {
    "duration": 68,
    "start_time": "2022-09-16T08:38:16.940Z"
   },
   {
    "duration": 6581,
    "start_time": "2022-09-16T08:38:17.021Z"
   },
   {
    "duration": 1233,
    "start_time": "2022-09-16T08:38:23.604Z"
   },
   {
    "duration": 4,
    "start_time": "2022-09-16T08:38:24.839Z"
   },
   {
    "duration": 13,
    "start_time": "2022-09-16T08:38:24.845Z"
   },
   {
    "duration": 8,
    "start_time": "2022-09-16T08:38:24.859Z"
   },
   {
    "duration": 6201,
    "start_time": "2022-09-16T08:38:24.869Z"
   },
   {
    "duration": 341392,
    "start_time": "2022-09-16T08:38:31.073Z"
   },
   {
    "duration": 76721,
    "start_time": "2022-09-16T08:44:12.467Z"
   },
   {
    "duration": 25363,
    "start_time": "2022-09-16T08:45:29.189Z"
   },
   {
    "duration": 24364,
    "start_time": "2022-09-16T08:45:54.553Z"
   },
   {
    "duration": 8,
    "start_time": "2022-09-16T08:47:16.058Z"
   },
   {
    "duration": 24099,
    "start_time": "2022-09-16T08:47:43.141Z"
   },
   {
    "duration": 8,
    "start_time": "2022-09-16T08:48:22.773Z"
   },
   {
    "duration": 952,
    "start_time": "2022-09-16T08:49:35.223Z"
   },
   {
    "duration": 51,
    "start_time": "2022-09-16T08:50:35.895Z"
   },
   {
    "duration": 2112,
    "start_time": "2022-09-16T08:50:41.213Z"
   },
   {
    "duration": 3,
    "start_time": "2022-09-16T08:50:43.327Z"
   },
   {
    "duration": 1188,
    "start_time": "2022-09-16T08:50:43.332Z"
   },
   {
    "duration": 118,
    "start_time": "2022-09-16T08:50:44.523Z"
   },
   {
    "duration": 151,
    "start_time": "2022-09-16T08:50:44.643Z"
   },
   {
    "duration": 0,
    "start_time": "2022-09-16T08:50:44.798Z"
   },
   {
    "duration": 0,
    "start_time": "2022-09-16T08:50:44.799Z"
   },
   {
    "duration": 0,
    "start_time": "2022-09-16T08:50:44.800Z"
   },
   {
    "duration": 0,
    "start_time": "2022-09-16T08:50:44.801Z"
   },
   {
    "duration": 0,
    "start_time": "2022-09-16T08:50:44.802Z"
   },
   {
    "duration": 0,
    "start_time": "2022-09-16T08:50:44.803Z"
   },
   {
    "duration": 0,
    "start_time": "2022-09-16T08:50:44.804Z"
   },
   {
    "duration": 0,
    "start_time": "2022-09-16T08:50:44.805Z"
   },
   {
    "duration": 0,
    "start_time": "2022-09-16T08:50:44.820Z"
   },
   {
    "duration": 0,
    "start_time": "2022-09-16T08:50:44.822Z"
   },
   {
    "duration": 0,
    "start_time": "2022-09-16T08:50:44.823Z"
   },
   {
    "duration": 0,
    "start_time": "2022-09-16T08:50:44.825Z"
   },
   {
    "duration": 0,
    "start_time": "2022-09-16T08:50:44.826Z"
   },
   {
    "duration": 0,
    "start_time": "2022-09-16T08:50:44.828Z"
   },
   {
    "duration": 0,
    "start_time": "2022-09-16T08:50:44.829Z"
   },
   {
    "duration": 0,
    "start_time": "2022-09-16T08:50:44.831Z"
   },
   {
    "duration": 0,
    "start_time": "2022-09-16T08:50:44.831Z"
   },
   {
    "duration": 0,
    "start_time": "2022-09-16T08:50:44.833Z"
   },
   {
    "duration": 0,
    "start_time": "2022-09-16T08:50:44.834Z"
   },
   {
    "duration": 0,
    "start_time": "2022-09-16T08:50:44.835Z"
   },
   {
    "duration": 0,
    "start_time": "2022-09-16T08:50:44.836Z"
   },
   {
    "duration": 0,
    "start_time": "2022-09-16T08:50:44.841Z"
   },
   {
    "duration": 0,
    "start_time": "2022-09-16T08:50:44.842Z"
   },
   {
    "duration": 0,
    "start_time": "2022-09-16T08:50:44.843Z"
   },
   {
    "duration": 0,
    "start_time": "2022-09-16T08:50:44.845Z"
   },
   {
    "duration": 10,
    "start_time": "2022-09-16T08:50:48.666Z"
   },
   {
    "duration": 4,
    "start_time": "2022-09-16T08:50:53.783Z"
   },
   {
    "duration": 35,
    "start_time": "2022-09-16T08:50:53.792Z"
   },
   {
    "duration": 882,
    "start_time": "2022-09-16T08:50:53.829Z"
   },
   {
    "duration": 117,
    "start_time": "2022-09-16T08:50:54.713Z"
   },
   {
    "duration": 108,
    "start_time": "2022-09-16T08:50:54.832Z"
   },
   {
    "duration": 5,
    "start_time": "2022-09-16T08:50:54.942Z"
   },
   {
    "duration": 230,
    "start_time": "2022-09-16T08:50:54.948Z"
   },
   {
    "duration": 46,
    "start_time": "2022-09-16T08:50:55.180Z"
   },
   {
    "duration": 16,
    "start_time": "2022-09-16T08:50:55.228Z"
   },
   {
    "duration": 54,
    "start_time": "2022-09-16T08:50:55.246Z"
   },
   {
    "duration": 141,
    "start_time": "2022-09-16T08:50:55.302Z"
   },
   {
    "duration": 122,
    "start_time": "2022-09-16T08:50:55.445Z"
   },
   {
    "duration": 3,
    "start_time": "2022-09-16T08:50:55.569Z"
   },
   {
    "duration": 125,
    "start_time": "2022-09-16T08:50:55.574Z"
   },
   {
    "duration": 1459,
    "start_time": "2022-09-16T08:50:55.702Z"
   },
   {
    "duration": 217,
    "start_time": "2022-09-16T08:50:57.163Z"
   },
   {
    "duration": 25,
    "start_time": "2022-09-16T08:50:57.382Z"
   },
   {
    "duration": 205,
    "start_time": "2022-09-16T08:50:57.409Z"
   },
   {
    "duration": 261,
    "start_time": "2022-09-16T08:50:57.620Z"
   },
   {
    "duration": 22,
    "start_time": "2022-09-16T08:50:57.883Z"
   },
   {
    "duration": 77,
    "start_time": "2022-09-16T08:50:57.907Z"
   },
   {
    "duration": 6444,
    "start_time": "2022-09-16T08:50:57.985Z"
   },
   {
    "duration": 1101,
    "start_time": "2022-09-16T08:51:04.431Z"
   },
   {
    "duration": 4,
    "start_time": "2022-09-16T08:51:05.534Z"
   },
   {
    "duration": 17,
    "start_time": "2022-09-16T08:51:05.540Z"
   },
   {
    "duration": 19,
    "start_time": "2022-09-16T08:51:05.560Z"
   },
   {
    "duration": 24234,
    "start_time": "2022-09-16T08:51:32.546Z"
   },
   {
    "duration": 76689,
    "start_time": "2022-09-16T08:52:27.545Z"
   },
   {
    "duration": 19794,
    "start_time": "2022-09-16T08:53:44.236Z"
   },
   {
    "duration": 97,
    "start_time": "2022-09-16T08:54:04.125Z"
   },
   {
    "duration": 9149,
    "start_time": "2022-09-16T08:54:34.185Z"
   },
   {
    "duration": 8,
    "start_time": "2022-09-16T08:54:50.898Z"
   },
   {
    "duration": 5093,
    "start_time": "2022-09-16T08:55:28.042Z"
   },
   {
    "duration": 8393,
    "start_time": "2022-09-16T08:55:50.342Z"
   },
   {
    "duration": 9,
    "start_time": "2022-09-16T08:56:16.395Z"
   },
   {
    "duration": 10268,
    "start_time": "2022-09-16T08:57:00.053Z"
   },
   {
    "duration": 9,
    "start_time": "2022-09-16T08:57:10.804Z"
   },
   {
    "duration": 11020,
    "start_time": "2022-09-16T08:57:24.709Z"
   },
   {
    "duration": 8,
    "start_time": "2022-09-16T08:57:35.730Z"
   },
   {
    "duration": 6,
    "start_time": "2022-09-16T10:01:40.200Z"
   },
   {
    "duration": 13,
    "start_time": "2022-09-16T10:01:40.208Z"
   },
   {
    "duration": 824,
    "start_time": "2022-09-16T10:01:40.223Z"
   },
   {
    "duration": 117,
    "start_time": "2022-09-16T10:01:41.050Z"
   },
   {
    "duration": 112,
    "start_time": "2022-09-16T10:01:41.168Z"
   },
   {
    "duration": 4,
    "start_time": "2022-09-16T10:01:41.282Z"
   },
   {
    "duration": 195,
    "start_time": "2022-09-16T10:01:41.289Z"
   },
   {
    "duration": 47,
    "start_time": "2022-09-16T10:01:41.486Z"
   },
   {
    "duration": 17,
    "start_time": "2022-09-16T10:01:41.534Z"
   },
   {
    "duration": 30,
    "start_time": "2022-09-16T10:01:41.554Z"
   },
   {
    "duration": 154,
    "start_time": "2022-09-16T10:01:41.586Z"
   },
   {
    "duration": 137,
    "start_time": "2022-09-16T10:01:41.742Z"
   },
   {
    "duration": 3,
    "start_time": "2022-09-16T10:01:41.881Z"
   },
   {
    "duration": 100,
    "start_time": "2022-09-16T10:01:41.886Z"
   },
   {
    "duration": 1590,
    "start_time": "2022-09-16T10:01:41.988Z"
   },
   {
    "duration": 218,
    "start_time": "2022-09-16T10:01:43.580Z"
   },
   {
    "duration": 34,
    "start_time": "2022-09-16T10:01:43.800Z"
   },
   {
    "duration": 205,
    "start_time": "2022-09-16T10:01:43.836Z"
   },
   {
    "duration": 191,
    "start_time": "2022-09-16T10:01:44.042Z"
   },
   {
    "duration": 21,
    "start_time": "2022-09-16T10:01:44.235Z"
   },
   {
    "duration": 32,
    "start_time": "2022-09-16T10:01:44.258Z"
   },
   {
    "duration": 6849,
    "start_time": "2022-09-16T10:01:44.292Z"
   },
   {
    "duration": 1135,
    "start_time": "2022-09-16T10:01:51.143Z"
   },
   {
    "duration": 4,
    "start_time": "2022-09-16T10:01:52.280Z"
   },
   {
    "duration": 13,
    "start_time": "2022-09-16T10:01:52.286Z"
   },
   {
    "duration": 33428,
    "start_time": "2022-09-16T10:02:11.005Z"
   },
   {
    "duration": 16,
    "start_time": "2022-09-16T10:04:40.012Z"
   },
   {
    "duration": 22252,
    "start_time": "2022-09-16T10:04:45.969Z"
   },
   {
    "duration": 11,
    "start_time": "2022-09-16T10:06:47.827Z"
   },
   {
    "duration": 5,
    "start_time": "2022-09-16T10:06:52.427Z"
   },
   {
    "duration": 6,
    "start_time": "2022-09-16T10:07:31.129Z"
   },
   {
    "duration": 6,
    "start_time": "2022-09-16T10:07:45.805Z"
   },
   {
    "duration": 7,
    "start_time": "2022-09-16T10:08:29.876Z"
   },
   {
    "duration": 9,
    "start_time": "2022-09-16T10:09:28.818Z"
   },
   {
    "duration": 7,
    "start_time": "2022-09-16T10:10:34.625Z"
   },
   {
    "duration": 6,
    "start_time": "2022-09-16T10:11:10.234Z"
   },
   {
    "duration": 7,
    "start_time": "2022-09-16T10:11:13.833Z"
   },
   {
    "duration": 6,
    "start_time": "2022-09-16T10:11:16.868Z"
   },
   {
    "duration": 6,
    "start_time": "2022-09-16T10:11:21.801Z"
   },
   {
    "duration": 9,
    "start_time": "2022-09-16T10:11:48.114Z"
   },
   {
    "duration": 7,
    "start_time": "2022-09-16T10:12:45.848Z"
   },
   {
    "duration": 77341,
    "start_time": "2022-09-16T10:12:53.588Z"
   },
   {
    "duration": 251213,
    "start_time": "2022-09-16T10:14:10.931Z"
   },
   {
    "duration": 0,
    "start_time": "2022-09-16T10:18:22.220Z"
   },
   {
    "duration": 117468,
    "start_time": "2022-09-16T10:18:24.176Z"
   },
   {
    "duration": 207621,
    "start_time": "2022-09-16T10:20:22.820Z"
   },
   {
    "duration": 8,
    "start_time": "2022-09-16T10:25:44.691Z"
   },
   {
    "duration": 25392,
    "start_time": "2022-09-16T10:25:54.249Z"
   },
   {
    "duration": 4,
    "start_time": "2022-09-16T10:27:01.254Z"
   },
   {
    "duration": 2312,
    "start_time": "2022-09-16T10:30:24.595Z"
   },
   {
    "duration": 3,
    "start_time": "2022-09-16T10:30:26.910Z"
   },
   {
    "duration": 1231,
    "start_time": "2022-09-16T10:30:26.915Z"
   },
   {
    "duration": 119,
    "start_time": "2022-09-16T10:30:28.148Z"
   },
   {
    "duration": 120,
    "start_time": "2022-09-16T10:30:28.270Z"
   },
   {
    "duration": 6,
    "start_time": "2022-09-16T10:30:28.392Z"
   },
   {
    "duration": 210,
    "start_time": "2022-09-16T10:30:28.399Z"
   },
   {
    "duration": 42,
    "start_time": "2022-09-16T10:30:28.611Z"
   },
   {
    "duration": 26,
    "start_time": "2022-09-16T10:30:28.655Z"
   },
   {
    "duration": 61,
    "start_time": "2022-09-16T10:30:28.683Z"
   },
   {
    "duration": 176,
    "start_time": "2022-09-16T10:30:28.746Z"
   },
   {
    "duration": 174,
    "start_time": "2022-09-16T10:30:28.924Z"
   },
   {
    "duration": 4,
    "start_time": "2022-09-16T10:30:29.100Z"
   },
   {
    "duration": 157,
    "start_time": "2022-09-16T10:30:29.107Z"
   },
   {
    "duration": 1441,
    "start_time": "2022-09-16T10:30:29.266Z"
   },
   {
    "duration": 217,
    "start_time": "2022-09-16T10:30:30.710Z"
   },
   {
    "duration": 26,
    "start_time": "2022-09-16T10:30:30.929Z"
   },
   {
    "duration": 219,
    "start_time": "2022-09-16T10:30:30.957Z"
   },
   {
    "duration": 267,
    "start_time": "2022-09-16T10:30:31.178Z"
   },
   {
    "duration": 23,
    "start_time": "2022-09-16T10:30:31.447Z"
   },
   {
    "duration": 91,
    "start_time": "2022-09-16T10:30:31.472Z"
   },
   {
    "duration": 6638,
    "start_time": "2022-09-16T10:30:31.564Z"
   },
   {
    "duration": 1214,
    "start_time": "2022-09-16T10:30:38.204Z"
   },
   {
    "duration": 4,
    "start_time": "2022-09-16T10:30:39.421Z"
   },
   {
    "duration": 30,
    "start_time": "2022-09-16T10:30:39.426Z"
   },
   {
    "duration": 35,
    "start_time": "2022-09-16T10:30:39.458Z"
   },
   {
    "duration": 58,
    "start_time": "2022-09-16T10:31:11.640Z"
   },
   {
    "duration": 2069,
    "start_time": "2022-09-16T10:31:24.303Z"
   },
   {
    "duration": 3,
    "start_time": "2022-09-16T10:31:26.375Z"
   },
   {
    "duration": 1209,
    "start_time": "2022-09-16T10:31:26.379Z"
   },
   {
    "duration": 129,
    "start_time": "2022-09-16T10:31:27.591Z"
   },
   {
    "duration": 115,
    "start_time": "2022-09-16T10:31:27.722Z"
   },
   {
    "duration": 5,
    "start_time": "2022-09-16T10:31:27.839Z"
   },
   {
    "duration": 200,
    "start_time": "2022-09-16T10:31:27.845Z"
   },
   {
    "duration": 36,
    "start_time": "2022-09-16T10:31:28.046Z"
   },
   {
    "duration": 36,
    "start_time": "2022-09-16T10:31:28.084Z"
   },
   {
    "duration": 47,
    "start_time": "2022-09-16T10:31:28.124Z"
   },
   {
    "duration": 136,
    "start_time": "2022-09-16T10:31:28.173Z"
   },
   {
    "duration": 141,
    "start_time": "2022-09-16T10:31:28.312Z"
   },
   {
    "duration": 3,
    "start_time": "2022-09-16T10:31:28.454Z"
   },
   {
    "duration": 108,
    "start_time": "2022-09-16T10:31:28.460Z"
   },
   {
    "duration": 1544,
    "start_time": "2022-09-16T10:31:28.570Z"
   },
   {
    "duration": 221,
    "start_time": "2022-09-16T10:31:30.116Z"
   },
   {
    "duration": 29,
    "start_time": "2022-09-16T10:31:30.339Z"
   },
   {
    "duration": 222,
    "start_time": "2022-09-16T10:31:30.370Z"
   },
   {
    "duration": 258,
    "start_time": "2022-09-16T10:31:30.594Z"
   },
   {
    "duration": 21,
    "start_time": "2022-09-16T10:31:30.854Z"
   },
   {
    "duration": 97,
    "start_time": "2022-09-16T10:31:30.877Z"
   },
   {
    "duration": 6654,
    "start_time": "2022-09-16T10:31:30.976Z"
   },
   {
    "duration": 1160,
    "start_time": "2022-09-16T10:31:37.632Z"
   },
   {
    "duration": 4,
    "start_time": "2022-09-16T10:31:38.794Z"
   },
   {
    "duration": 19,
    "start_time": "2022-09-16T10:31:38.800Z"
   },
   {
    "duration": 91,
    "start_time": "2022-09-16T10:31:44.658Z"
   },
   {
    "duration": 2371,
    "start_time": "2022-09-16T10:32:28.601Z"
   },
   {
    "duration": 3,
    "start_time": "2022-09-16T10:32:30.974Z"
   },
   {
    "duration": 1329,
    "start_time": "2022-09-16T10:32:30.978Z"
   },
   {
    "duration": 123,
    "start_time": "2022-09-16T10:32:32.309Z"
   },
   {
    "duration": 117,
    "start_time": "2022-09-16T10:32:32.434Z"
   },
   {
    "duration": 5,
    "start_time": "2022-09-16T10:32:32.552Z"
   },
   {
    "duration": 211,
    "start_time": "2022-09-16T10:32:32.559Z"
   },
   {
    "duration": 34,
    "start_time": "2022-09-16T10:32:32.772Z"
   },
   {
    "duration": 17,
    "start_time": "2022-09-16T10:32:32.821Z"
   },
   {
    "duration": 44,
    "start_time": "2022-09-16T10:32:32.841Z"
   },
   {
    "duration": 140,
    "start_time": "2022-09-16T10:32:32.888Z"
   },
   {
    "duration": 133,
    "start_time": "2022-09-16T10:32:33.030Z"
   },
   {
    "duration": 4,
    "start_time": "2022-09-16T10:32:33.165Z"
   },
   {
    "duration": 101,
    "start_time": "2022-09-16T10:32:33.171Z"
   },
   {
    "duration": 1455,
    "start_time": "2022-09-16T10:32:33.274Z"
   },
   {
    "duration": 233,
    "start_time": "2022-09-16T10:32:34.731Z"
   },
   {
    "duration": 24,
    "start_time": "2022-09-16T10:32:34.966Z"
   },
   {
    "duration": 207,
    "start_time": "2022-09-16T10:32:34.992Z"
   },
   {
    "duration": 254,
    "start_time": "2022-09-16T10:32:35.201Z"
   },
   {
    "duration": 21,
    "start_time": "2022-09-16T10:32:35.457Z"
   },
   {
    "duration": 83,
    "start_time": "2022-09-16T10:32:35.480Z"
   },
   {
    "duration": 6679,
    "start_time": "2022-09-16T10:32:35.565Z"
   },
   {
    "duration": 1120,
    "start_time": "2022-09-16T10:32:42.248Z"
   },
   {
    "duration": 4,
    "start_time": "2022-09-16T10:32:43.370Z"
   },
   {
    "duration": 12,
    "start_time": "2022-09-16T10:32:43.376Z"
   },
   {
    "duration": 2174,
    "start_time": "2022-09-16T10:33:07.198Z"
   },
   {
    "duration": 3,
    "start_time": "2022-09-16T10:33:09.374Z"
   },
   {
    "duration": 1270,
    "start_time": "2022-09-16T10:33:09.379Z"
   },
   {
    "duration": 114,
    "start_time": "2022-09-16T10:33:10.652Z"
   },
   {
    "duration": 164,
    "start_time": "2022-09-16T10:33:10.767Z"
   },
   {
    "duration": 6,
    "start_time": "2022-09-16T10:33:10.933Z"
   },
   {
    "duration": 241,
    "start_time": "2022-09-16T10:33:10.941Z"
   },
   {
    "duration": 46,
    "start_time": "2022-09-16T10:33:11.184Z"
   },
   {
    "duration": 18,
    "start_time": "2022-09-16T10:33:11.232Z"
   },
   {
    "duration": 63,
    "start_time": "2022-09-16T10:33:11.252Z"
   },
   {
    "duration": 138,
    "start_time": "2022-09-16T10:33:11.317Z"
   },
   {
    "duration": 146,
    "start_time": "2022-09-16T10:33:11.457Z"
   },
   {
    "duration": 3,
    "start_time": "2022-09-16T10:33:11.605Z"
   },
   {
    "duration": 121,
    "start_time": "2022-09-16T10:33:11.620Z"
   },
   {
    "duration": 1509,
    "start_time": "2022-09-16T10:33:11.743Z"
   },
   {
    "duration": 213,
    "start_time": "2022-09-16T10:33:13.254Z"
   },
   {
    "duration": 26,
    "start_time": "2022-09-16T10:33:13.470Z"
   },
   {
    "duration": 202,
    "start_time": "2022-09-16T10:33:13.498Z"
   },
   {
    "duration": 263,
    "start_time": "2022-09-16T10:33:13.702Z"
   },
   {
    "duration": 28,
    "start_time": "2022-09-16T10:33:13.968Z"
   },
   {
    "duration": 96,
    "start_time": "2022-09-16T10:33:13.998Z"
   },
   {
    "duration": 6635,
    "start_time": "2022-09-16T10:33:14.096Z"
   },
   {
    "duration": 1147,
    "start_time": "2022-09-16T10:33:20.733Z"
   },
   {
    "duration": 4,
    "start_time": "2022-09-16T10:33:21.882Z"
   },
   {
    "duration": 12,
    "start_time": "2022-09-16T10:33:21.888Z"
   },
   {
    "duration": 25412,
    "start_time": "2022-09-16T10:33:35.482Z"
   },
   {
    "duration": 87,
    "start_time": "2022-09-16T10:34:15.904Z"
   },
   {
    "duration": 7,
    "start_time": "2022-09-16T10:34:28.187Z"
   },
   {
    "duration": 2304,
    "start_time": "2022-09-16T10:35:34.695Z"
   },
   {
    "duration": 3,
    "start_time": "2022-09-16T10:35:37.001Z"
   },
   {
    "duration": 1224,
    "start_time": "2022-09-16T10:35:37.006Z"
   },
   {
    "duration": 141,
    "start_time": "2022-09-16T10:35:38.233Z"
   },
   {
    "duration": 128,
    "start_time": "2022-09-16T10:35:38.377Z"
   },
   {
    "duration": 7,
    "start_time": "2022-09-16T10:35:38.506Z"
   },
   {
    "duration": 185,
    "start_time": "2022-09-16T10:35:38.523Z"
   },
   {
    "duration": 36,
    "start_time": "2022-09-16T10:35:38.721Z"
   },
   {
    "duration": 18,
    "start_time": "2022-09-16T10:35:38.758Z"
   },
   {
    "duration": 75,
    "start_time": "2022-09-16T10:35:38.779Z"
   },
   {
    "duration": 187,
    "start_time": "2022-09-16T10:35:38.857Z"
   },
   {
    "duration": 197,
    "start_time": "2022-09-16T10:35:39.046Z"
   },
   {
    "duration": 4,
    "start_time": "2022-09-16T10:35:39.245Z"
   },
   {
    "duration": 107,
    "start_time": "2022-09-16T10:35:39.251Z"
   },
   {
    "duration": 1425,
    "start_time": "2022-09-16T10:35:39.360Z"
   },
   {
    "duration": 221,
    "start_time": "2022-09-16T10:35:40.787Z"
   },
   {
    "duration": 28,
    "start_time": "2022-09-16T10:35:41.010Z"
   },
   {
    "duration": 213,
    "start_time": "2022-09-16T10:35:41.040Z"
   },
   {
    "duration": 270,
    "start_time": "2022-09-16T10:35:41.255Z"
   },
   {
    "duration": 23,
    "start_time": "2022-09-16T10:35:41.529Z"
   },
   {
    "duration": 94,
    "start_time": "2022-09-16T10:35:41.554Z"
   },
   {
    "duration": 6612,
    "start_time": "2022-09-16T10:35:41.650Z"
   },
   {
    "duration": 1238,
    "start_time": "2022-09-16T10:35:48.264Z"
   },
   {
    "duration": 8,
    "start_time": "2022-09-16T10:35:49.504Z"
   },
   {
    "duration": 29,
    "start_time": "2022-09-16T10:35:49.514Z"
   },
   {
    "duration": 10,
    "start_time": "2022-09-16T10:35:49.545Z"
   },
   {
    "duration": 5171,
    "start_time": "2022-09-16T10:35:49.557Z"
   },
   {
    "duration": 337090,
    "start_time": "2022-09-16T10:35:54.731Z"
   },
   {
    "duration": 2,
    "start_time": "2022-09-16T10:41:31.823Z"
   },
   {
    "duration": 78729,
    "start_time": "2022-09-16T10:41:31.827Z"
   },
   {
    "duration": 26204,
    "start_time": "2022-09-16T10:42:50.558Z"
   },
   {
    "duration": 2326,
    "start_time": "2022-09-16T10:44:04.124Z"
   },
   {
    "duration": 3,
    "start_time": "2022-09-16T10:44:06.452Z"
   },
   {
    "duration": 1266,
    "start_time": "2022-09-16T10:44:06.457Z"
   },
   {
    "duration": 130,
    "start_time": "2022-09-16T10:44:07.725Z"
   },
   {
    "duration": 125,
    "start_time": "2022-09-16T10:44:07.857Z"
   },
   {
    "duration": 5,
    "start_time": "2022-09-16T10:44:07.983Z"
   },
   {
    "duration": 195,
    "start_time": "2022-09-16T10:44:07.990Z"
   },
   {
    "duration": 51,
    "start_time": "2022-09-16T10:44:08.187Z"
   },
   {
    "duration": 18,
    "start_time": "2022-09-16T10:44:08.240Z"
   },
   {
    "duration": 59,
    "start_time": "2022-09-16T10:44:08.262Z"
   },
   {
    "duration": 122,
    "start_time": "2022-09-16T10:44:08.323Z"
   },
   {
    "duration": 143,
    "start_time": "2022-09-16T10:44:08.447Z"
   },
   {
    "duration": 2,
    "start_time": "2022-09-16T10:44:08.592Z"
   },
   {
    "duration": 109,
    "start_time": "2022-09-16T10:44:08.596Z"
   },
   {
    "duration": 1588,
    "start_time": "2022-09-16T10:44:08.707Z"
   },
   {
    "duration": 209,
    "start_time": "2022-09-16T10:44:10.296Z"
   },
   {
    "duration": 34,
    "start_time": "2022-09-16T10:44:10.507Z"
   },
   {
    "duration": 209,
    "start_time": "2022-09-16T10:44:10.542Z"
   },
   {
    "duration": 278,
    "start_time": "2022-09-16T10:44:10.752Z"
   },
   {
    "duration": 26,
    "start_time": "2022-09-16T10:44:11.032Z"
   },
   {
    "duration": 104,
    "start_time": "2022-09-16T10:44:11.060Z"
   },
   {
    "duration": 6580,
    "start_time": "2022-09-16T10:44:11.167Z"
   },
   {
    "duration": 1170,
    "start_time": "2022-09-16T10:44:17.749Z"
   },
   {
    "duration": 6,
    "start_time": "2022-09-16T10:44:18.921Z"
   },
   {
    "duration": 24,
    "start_time": "2022-09-16T10:44:18.929Z"
   },
   {
    "duration": 75897,
    "start_time": "2022-09-16T10:47:06.641Z"
   },
   {
    "duration": 23982,
    "start_time": "2022-09-16T10:48:52.253Z"
   },
   {
    "duration": 11,
    "start_time": "2022-09-16T10:49:33.580Z"
   },
   {
    "duration": 186,
    "start_time": "2022-09-16T10:49:59.824Z"
   },
   {
    "duration": 9,
    "start_time": "2022-09-16T10:50:21.750Z"
   },
   {
    "duration": 1392,
    "start_time": "2022-09-16T10:59:19.662Z"
   },
   {
    "duration": 1389,
    "start_time": "2022-09-16T11:08:16.286Z"
   },
   {
    "duration": 1037667,
    "start_time": "2022-09-16T11:08:30.278Z"
   },
   {
    "duration": 1463896,
    "start_time": "2022-09-16T11:27:07.806Z"
   },
   {
    "duration": 3495,
    "start_time": "2022-09-16T12:06:11.642Z"
   },
   {
    "duration": 24804,
    "start_time": "2022-09-16T12:07:08.989Z"
   },
   {
    "duration": 10,
    "start_time": "2022-09-16T12:07:37.285Z"
   },
   {
    "duration": 1903,
    "start_time": "2022-09-16T12:07:50.862Z"
   },
   {
    "duration": 8968,
    "start_time": "2022-09-16T12:08:48.152Z"
   },
   {
    "duration": 488185,
    "start_time": "2022-09-16T12:09:21.711Z"
   },
   {
    "duration": 535889,
    "start_time": "2022-09-16T12:32:00.194Z"
   },
   {
    "duration": 1878,
    "start_time": "2022-09-17T09:02:13.708Z"
   },
   {
    "duration": 4,
    "start_time": "2022-09-17T09:02:15.588Z"
   },
   {
    "duration": 1290,
    "start_time": "2022-09-17T09:02:15.594Z"
   },
   {
    "duration": 113,
    "start_time": "2022-09-17T09:02:16.886Z"
   },
   {
    "duration": 104,
    "start_time": "2022-09-17T09:02:17.001Z"
   },
   {
    "duration": 5,
    "start_time": "2022-09-17T09:02:17.107Z"
   },
   {
    "duration": 186,
    "start_time": "2022-09-17T09:02:17.120Z"
   },
   {
    "duration": 45,
    "start_time": "2022-09-17T09:02:17.308Z"
   },
   {
    "duration": 26,
    "start_time": "2022-09-17T09:02:17.354Z"
   },
   {
    "duration": 57,
    "start_time": "2022-09-17T09:02:17.384Z"
   },
   {
    "duration": 206,
    "start_time": "2022-09-17T09:02:17.443Z"
   },
   {
    "duration": 130,
    "start_time": "2022-09-17T09:02:17.651Z"
   },
   {
    "duration": 2,
    "start_time": "2022-09-17T09:02:17.783Z"
   },
   {
    "duration": 110,
    "start_time": "2022-09-17T09:02:17.787Z"
   },
   {
    "duration": 1476,
    "start_time": "2022-09-17T09:02:17.899Z"
   },
   {
    "duration": 204,
    "start_time": "2022-09-17T09:02:19.377Z"
   },
   {
    "duration": 25,
    "start_time": "2022-09-17T09:02:19.583Z"
   },
   {
    "duration": 203,
    "start_time": "2022-09-17T09:02:19.620Z"
   },
   {
    "duration": 268,
    "start_time": "2022-09-17T09:02:19.826Z"
   },
   {
    "duration": 28,
    "start_time": "2022-09-17T09:02:20.096Z"
   },
   {
    "duration": 69,
    "start_time": "2022-09-17T09:02:20.126Z"
   },
   {
    "duration": 6415,
    "start_time": "2022-09-17T09:02:20.197Z"
   },
   {
    "duration": 1380,
    "start_time": "2022-09-17T09:02:26.614Z"
   },
   {
    "duration": 6,
    "start_time": "2022-09-17T09:02:27.995Z"
   },
   {
    "duration": 17,
    "start_time": "2022-09-17T09:02:28.003Z"
   },
   {
    "duration": 5,
    "start_time": "2022-09-17T09:02:33.076Z"
   },
   {
    "duration": 5195,
    "start_time": "2022-09-17T09:02:38.950Z"
   },
   {
    "duration": 330355,
    "start_time": "2022-09-17T09:02:53.230Z"
   },
   {
    "duration": 76558,
    "start_time": "2022-09-17T09:08:53.405Z"
   },
   {
    "duration": 25448,
    "start_time": "2022-09-17T09:10:23.855Z"
   },
   {
    "duration": 14,
    "start_time": "2022-09-17T09:10:55.803Z"
   },
   {
    "duration": 1998,
    "start_time": "2022-09-17T09:13:09.116Z"
   },
   {
    "duration": 4,
    "start_time": "2022-09-17T09:13:11.116Z"
   },
   {
    "duration": 1240,
    "start_time": "2022-09-17T09:13:11.122Z"
   },
   {
    "duration": 133,
    "start_time": "2022-09-17T09:13:12.365Z"
   },
   {
    "duration": 159,
    "start_time": "2022-09-17T09:13:12.501Z"
   },
   {
    "duration": 4,
    "start_time": "2022-09-17T09:13:12.662Z"
   },
   {
    "duration": 226,
    "start_time": "2022-09-17T09:13:12.669Z"
   },
   {
    "duration": 40,
    "start_time": "2022-09-17T09:13:12.897Z"
   },
   {
    "duration": 17,
    "start_time": "2022-09-17T09:13:12.939Z"
   },
   {
    "duration": 63,
    "start_time": "2022-09-17T09:13:12.958Z"
   },
   {
    "duration": 127,
    "start_time": "2022-09-17T09:13:13.023Z"
   },
   {
    "duration": 127,
    "start_time": "2022-09-17T09:13:13.152Z"
   },
   {
    "duration": 5,
    "start_time": "2022-09-17T09:13:13.281Z"
   },
   {
    "duration": 132,
    "start_time": "2022-09-17T09:13:13.288Z"
   },
   {
    "duration": 1403,
    "start_time": "2022-09-17T09:13:13.423Z"
   },
   {
    "duration": 211,
    "start_time": "2022-09-17T09:13:14.827Z"
   },
   {
    "duration": 25,
    "start_time": "2022-09-17T09:13:15.041Z"
   },
   {
    "duration": 207,
    "start_time": "2022-09-17T09:13:15.069Z"
   },
   {
    "duration": 252,
    "start_time": "2022-09-17T09:13:15.278Z"
   },
   {
    "duration": 22,
    "start_time": "2022-09-17T09:13:15.533Z"
   },
   {
    "duration": 86,
    "start_time": "2022-09-17T09:13:15.557Z"
   },
   {
    "duration": 6500,
    "start_time": "2022-09-17T09:13:15.644Z"
   },
   {
    "duration": 1424,
    "start_time": "2022-09-17T09:13:22.146Z"
   },
   {
    "duration": 4,
    "start_time": "2022-09-17T09:13:23.572Z"
   },
   {
    "duration": 9,
    "start_time": "2022-09-17T09:13:23.577Z"
   },
   {
    "duration": 7,
    "start_time": "2022-09-17T09:13:37.000Z"
   },
   {
    "duration": 1461,
    "start_time": "2022-09-17T09:17:52.561Z"
   },
   {
    "duration": 3,
    "start_time": "2022-09-17T09:17:54.026Z"
   },
   {
    "duration": 914,
    "start_time": "2022-09-17T09:17:54.031Z"
   },
   {
    "duration": 133,
    "start_time": "2022-09-17T09:17:54.946Z"
   },
   {
    "duration": 110,
    "start_time": "2022-09-17T09:17:55.082Z"
   },
   {
    "duration": 5,
    "start_time": "2022-09-17T09:17:55.194Z"
   },
   {
    "duration": 187,
    "start_time": "2022-09-17T09:17:55.200Z"
   },
   {
    "duration": 45,
    "start_time": "2022-09-17T09:17:55.389Z"
   },
   {
    "duration": 25,
    "start_time": "2022-09-17T09:17:55.435Z"
   },
   {
    "duration": 53,
    "start_time": "2022-09-17T09:17:55.462Z"
   },
   {
    "duration": 122,
    "start_time": "2022-09-17T09:17:55.516Z"
   },
   {
    "duration": 134,
    "start_time": "2022-09-17T09:17:55.640Z"
   },
   {
    "duration": 3,
    "start_time": "2022-09-17T09:17:55.776Z"
   },
   {
    "duration": 105,
    "start_time": "2022-09-17T09:17:55.781Z"
   },
   {
    "duration": 1411,
    "start_time": "2022-09-17T09:17:55.888Z"
   },
   {
    "duration": 217,
    "start_time": "2022-09-17T09:17:57.301Z"
   },
   {
    "duration": 23,
    "start_time": "2022-09-17T09:17:57.521Z"
   },
   {
    "duration": 216,
    "start_time": "2022-09-17T09:17:57.546Z"
   },
   {
    "duration": 249,
    "start_time": "2022-09-17T09:17:57.764Z"
   },
   {
    "duration": 24,
    "start_time": "2022-09-17T09:17:58.015Z"
   },
   {
    "duration": 82,
    "start_time": "2022-09-17T09:17:58.041Z"
   },
   {
    "duration": 6550,
    "start_time": "2022-09-17T09:17:58.124Z"
   },
   {
    "duration": 1399,
    "start_time": "2022-09-17T09:18:04.676Z"
   },
   {
    "duration": 6,
    "start_time": "2022-09-17T09:18:06.077Z"
   },
   {
    "duration": 28,
    "start_time": "2022-09-17T09:18:06.085Z"
   },
   {
    "duration": 28,
    "start_time": "2022-09-17T09:18:06.115Z"
   },
   {
    "duration": 5129,
    "start_time": "2022-09-17T09:18:31.321Z"
   },
   {
    "duration": 201084,
    "start_time": "2022-09-17T09:18:36.452Z"
   },
   {
    "duration": 8,
    "start_time": "2022-09-17T09:24:56.925Z"
   },
   {
    "duration": 130,
    "start_time": "2022-09-17T09:25:17.245Z"
   },
   {
    "duration": 14281,
    "start_time": "2022-09-17T09:25:24.757Z"
   },
   {
    "duration": 4,
    "start_time": "2022-09-17T09:31:28.356Z"
   },
   {
    "duration": 7,
    "start_time": "2022-09-17T09:31:28.363Z"
   },
   {
    "duration": 804,
    "start_time": "2022-09-17T09:31:28.371Z"
   },
   {
    "duration": 118,
    "start_time": "2022-09-17T09:31:29.177Z"
   },
   {
    "duration": 103,
    "start_time": "2022-09-17T09:31:29.297Z"
   },
   {
    "duration": 5,
    "start_time": "2022-09-17T09:31:29.402Z"
   },
   {
    "duration": 192,
    "start_time": "2022-09-17T09:31:29.408Z"
   },
   {
    "duration": 45,
    "start_time": "2022-09-17T09:31:29.601Z"
   },
   {
    "duration": 16,
    "start_time": "2022-09-17T09:31:29.649Z"
   },
   {
    "duration": 26,
    "start_time": "2022-09-17T09:31:29.667Z"
   },
   {
    "duration": 141,
    "start_time": "2022-09-17T09:31:29.695Z"
   },
   {
    "duration": 115,
    "start_time": "2022-09-17T09:31:29.837Z"
   },
   {
    "duration": 2,
    "start_time": "2022-09-17T09:31:29.954Z"
   },
   {
    "duration": 93,
    "start_time": "2022-09-17T09:31:29.958Z"
   },
   {
    "duration": 1320,
    "start_time": "2022-09-17T09:31:30.053Z"
   },
   {
    "duration": 205,
    "start_time": "2022-09-17T09:31:31.375Z"
   },
   {
    "duration": 19,
    "start_time": "2022-09-17T09:31:31.581Z"
   },
   {
    "duration": 202,
    "start_time": "2022-09-17T09:31:31.602Z"
   },
   {
    "duration": 176,
    "start_time": "2022-09-17T09:31:31.806Z"
   },
   {
    "duration": 20,
    "start_time": "2022-09-17T09:31:31.983Z"
   },
   {
    "duration": 42,
    "start_time": "2022-09-17T09:31:32.005Z"
   },
   {
    "duration": 1797,
    "start_time": "2022-09-17T09:31:32.049Z"
   },
   {
    "duration": 0,
    "start_time": "2022-09-17T09:31:33.848Z"
   },
   {
    "duration": 0,
    "start_time": "2022-09-17T09:31:33.849Z"
   },
   {
    "duration": 0,
    "start_time": "2022-09-17T09:31:33.851Z"
   },
   {
    "duration": 0,
    "start_time": "2022-09-17T09:31:33.852Z"
   },
   {
    "duration": 0,
    "start_time": "2022-09-17T09:31:33.853Z"
   },
   {
    "duration": 0,
    "start_time": "2022-09-17T09:31:33.854Z"
   },
   {
    "duration": 0,
    "start_time": "2022-09-17T09:31:33.855Z"
   },
   {
    "duration": 0,
    "start_time": "2022-09-17T09:31:33.856Z"
   },
   {
    "duration": 0,
    "start_time": "2022-09-17T09:31:33.857Z"
   },
   {
    "duration": 0,
    "start_time": "2022-09-17T09:31:33.859Z"
   },
   {
    "duration": 0,
    "start_time": "2022-09-17T09:31:33.859Z"
   },
   {
    "duration": 0,
    "start_time": "2022-09-17T09:31:33.861Z"
   },
   {
    "duration": 1478,
    "start_time": "2022-09-17T09:31:47.849Z"
   },
   {
    "duration": 2,
    "start_time": "2022-09-17T09:31:49.330Z"
   },
   {
    "duration": 872,
    "start_time": "2022-09-17T09:31:49.334Z"
   },
   {
    "duration": 129,
    "start_time": "2022-09-17T09:31:50.208Z"
   },
   {
    "duration": 109,
    "start_time": "2022-09-17T09:31:50.339Z"
   },
   {
    "duration": 4,
    "start_time": "2022-09-17T09:31:50.450Z"
   },
   {
    "duration": 220,
    "start_time": "2022-09-17T09:31:50.456Z"
   },
   {
    "duration": 50,
    "start_time": "2022-09-17T09:31:50.678Z"
   },
   {
    "duration": 16,
    "start_time": "2022-09-17T09:31:50.730Z"
   },
   {
    "duration": 64,
    "start_time": "2022-09-17T09:31:50.749Z"
   },
   {
    "duration": 141,
    "start_time": "2022-09-17T09:31:50.815Z"
   },
   {
    "duration": 125,
    "start_time": "2022-09-17T09:31:50.958Z"
   },
   {
    "duration": 2,
    "start_time": "2022-09-17T09:31:51.085Z"
   },
   {
    "duration": 109,
    "start_time": "2022-09-17T09:31:51.089Z"
   },
   {
    "duration": 1506,
    "start_time": "2022-09-17T09:31:51.201Z"
   },
   {
    "duration": 254,
    "start_time": "2022-09-17T09:31:52.708Z"
   },
   {
    "duration": 25,
    "start_time": "2022-09-17T09:31:52.964Z"
   },
   {
    "duration": 208,
    "start_time": "2022-09-17T09:31:52.990Z"
   },
   {
    "duration": 245,
    "start_time": "2022-09-17T09:31:53.199Z"
   },
   {
    "duration": 20,
    "start_time": "2022-09-17T09:31:53.446Z"
   },
   {
    "duration": 81,
    "start_time": "2022-09-17T09:31:53.468Z"
   },
   {
    "duration": 6448,
    "start_time": "2022-09-17T09:31:53.550Z"
   },
   {
    "duration": 1382,
    "start_time": "2022-09-17T09:32:00.000Z"
   },
   {
    "duration": 6,
    "start_time": "2022-09-17T09:32:01.384Z"
   },
   {
    "duration": 23,
    "start_time": "2022-09-17T09:32:01.392Z"
   },
   {
    "duration": 26,
    "start_time": "2022-09-17T09:32:01.417Z"
   },
   {
    "duration": 4946,
    "start_time": "2022-09-17T09:32:01.445Z"
   },
   {
    "duration": 327125,
    "start_time": "2022-09-17T09:32:06.394Z"
   },
   {
    "duration": 3,
    "start_time": "2022-09-17T09:37:33.521Z"
   },
   {
    "duration": 75874,
    "start_time": "2022-09-17T09:37:33.525Z"
   },
   {
    "duration": 23492,
    "start_time": "2022-09-17T09:38:49.401Z"
   },
   {
    "duration": 2061,
    "start_time": "2022-09-17T09:42:08.223Z"
   },
   {
    "duration": 3,
    "start_time": "2022-09-17T09:42:10.286Z"
   },
   {
    "duration": 1107,
    "start_time": "2022-09-17T09:42:10.291Z"
   },
   {
    "duration": 117,
    "start_time": "2022-09-17T09:42:11.399Z"
   },
   {
    "duration": 109,
    "start_time": "2022-09-17T09:42:11.518Z"
   },
   {
    "duration": 5,
    "start_time": "2022-09-17T09:42:11.629Z"
   },
   {
    "duration": 210,
    "start_time": "2022-09-17T09:42:11.636Z"
   },
   {
    "duration": 35,
    "start_time": "2022-09-17T09:42:11.848Z"
   },
   {
    "duration": 36,
    "start_time": "2022-09-17T09:42:11.884Z"
   },
   {
    "duration": 40,
    "start_time": "2022-09-17T09:42:11.922Z"
   },
   {
    "duration": 184,
    "start_time": "2022-09-17T09:42:11.964Z"
   },
   {
    "duration": 131,
    "start_time": "2022-09-17T09:42:12.150Z"
   },
   {
    "duration": 2,
    "start_time": "2022-09-17T09:42:12.283Z"
   },
   {
    "duration": 98,
    "start_time": "2022-09-17T09:42:12.289Z"
   },
   {
    "duration": 1393,
    "start_time": "2022-09-17T09:42:12.389Z"
   },
   {
    "duration": 216,
    "start_time": "2022-09-17T09:42:13.784Z"
   },
   {
    "duration": 31,
    "start_time": "2022-09-17T09:42:14.002Z"
   },
   {
    "duration": 204,
    "start_time": "2022-09-17T09:42:14.035Z"
   },
   {
    "duration": 242,
    "start_time": "2022-09-17T09:42:14.240Z"
   },
   {
    "duration": 21,
    "start_time": "2022-09-17T09:42:14.483Z"
   },
   {
    "duration": 83,
    "start_time": "2022-09-17T09:42:14.506Z"
   },
   {
    "duration": 6444,
    "start_time": "2022-09-17T09:42:14.591Z"
   },
   {
    "duration": 1439,
    "start_time": "2022-09-17T09:42:21.037Z"
   },
   {
    "duration": 3,
    "start_time": "2022-09-17T09:42:22.478Z"
   },
   {
    "duration": 12,
    "start_time": "2022-09-17T09:42:22.483Z"
   },
   {
    "duration": 35,
    "start_time": "2022-09-17T09:42:22.497Z"
   },
   {
    "duration": 4930,
    "start_time": "2022-09-17T09:42:22.533Z"
   },
   {
    "duration": 323936,
    "start_time": "2022-09-17T09:42:27.465Z"
   },
   {
    "duration": 3,
    "start_time": "2022-09-17T09:47:51.403Z"
   },
   {
    "duration": 75315,
    "start_time": "2022-09-17T09:47:51.407Z"
   },
   {
    "duration": 3804,
    "start_time": "2022-09-17T09:49:12.766Z"
   },
   {
    "duration": 1833,
    "start_time": "2022-09-17T09:50:39.625Z"
   },
   {
    "duration": 3,
    "start_time": "2022-09-17T09:50:41.460Z"
   },
   {
    "duration": 1205,
    "start_time": "2022-09-17T09:50:41.465Z"
   },
   {
    "duration": 138,
    "start_time": "2022-09-17T09:50:42.673Z"
   },
   {
    "duration": 110,
    "start_time": "2022-09-17T09:50:42.813Z"
   },
   {
    "duration": 4,
    "start_time": "2022-09-17T09:50:42.925Z"
   },
   {
    "duration": 193,
    "start_time": "2022-09-17T09:50:42.930Z"
   },
   {
    "duration": 35,
    "start_time": "2022-09-17T09:50:43.125Z"
   },
   {
    "duration": 18,
    "start_time": "2022-09-17T09:50:43.161Z"
   },
   {
    "duration": 61,
    "start_time": "2022-09-17T09:50:43.181Z"
   },
   {
    "duration": 132,
    "start_time": "2022-09-17T09:50:43.245Z"
   },
   {
    "duration": 141,
    "start_time": "2022-09-17T09:50:43.379Z"
   },
   {
    "duration": 3,
    "start_time": "2022-09-17T09:50:43.522Z"
   },
   {
    "duration": 93,
    "start_time": "2022-09-17T09:50:43.528Z"
   },
   {
    "duration": 1388,
    "start_time": "2022-09-17T09:50:43.623Z"
   },
   {
    "duration": 216,
    "start_time": "2022-09-17T09:50:45.013Z"
   },
   {
    "duration": 24,
    "start_time": "2022-09-17T09:50:45.231Z"
   },
   {
    "duration": 203,
    "start_time": "2022-09-17T09:50:45.257Z"
   },
   {
    "duration": 260,
    "start_time": "2022-09-17T09:50:45.462Z"
   },
   {
    "duration": 23,
    "start_time": "2022-09-17T09:50:45.724Z"
   },
   {
    "duration": 105,
    "start_time": "2022-09-17T09:50:45.749Z"
   },
   {
    "duration": 6566,
    "start_time": "2022-09-17T09:50:45.856Z"
   },
   {
    "duration": 1383,
    "start_time": "2022-09-17T09:50:52.424Z"
   },
   {
    "duration": 5,
    "start_time": "2022-09-17T09:50:53.809Z"
   },
   {
    "duration": 9,
    "start_time": "2022-09-17T09:50:53.820Z"
   },
   {
    "duration": 12,
    "start_time": "2022-09-17T09:50:53.830Z"
   },
   {
    "duration": 5002,
    "start_time": "2022-09-17T09:50:53.845Z"
   },
   {
    "duration": 326931,
    "start_time": "2022-09-17T09:50:58.850Z"
   },
   {
    "duration": 2,
    "start_time": "2022-09-17T09:56:25.783Z"
   },
   {
    "duration": 77043,
    "start_time": "2022-09-17T09:56:25.787Z"
   },
   {
    "duration": 23052,
    "start_time": "2022-09-17T09:57:42.832Z"
   },
   {
    "duration": 49,
    "start_time": "2022-09-17T09:58:42.929Z"
   },
   {
    "duration": 1433,
    "start_time": "2022-09-17T10:00:50.261Z"
   },
   {
    "duration": 3,
    "start_time": "2022-09-17T10:00:51.696Z"
   },
   {
    "duration": 1173,
    "start_time": "2022-09-17T10:00:51.702Z"
   },
   {
    "duration": 127,
    "start_time": "2022-09-17T10:00:52.877Z"
   },
   {
    "duration": 105,
    "start_time": "2022-09-17T10:00:53.006Z"
   },
   {
    "duration": 4,
    "start_time": "2022-09-17T10:00:53.121Z"
   },
   {
    "duration": 182,
    "start_time": "2022-09-17T10:00:53.127Z"
   },
   {
    "duration": 35,
    "start_time": "2022-09-17T10:00:53.321Z"
   },
   {
    "duration": 16,
    "start_time": "2022-09-17T10:00:53.358Z"
   },
   {
    "duration": 62,
    "start_time": "2022-09-17T10:00:53.376Z"
   },
   {
    "duration": 124,
    "start_time": "2022-09-17T10:00:53.440Z"
   },
   {
    "duration": 136,
    "start_time": "2022-09-17T10:00:53.566Z"
   },
   {
    "duration": 2,
    "start_time": "2022-09-17T10:00:53.704Z"
   },
   {
    "duration": 134,
    "start_time": "2022-09-17T10:00:53.708Z"
   },
   {
    "duration": 1366,
    "start_time": "2022-09-17T10:00:53.844Z"
   },
   {
    "duration": 203,
    "start_time": "2022-09-17T10:00:55.211Z"
   },
   {
    "duration": 25,
    "start_time": "2022-09-17T10:00:55.420Z"
   },
   {
    "duration": 194,
    "start_time": "2022-09-17T10:00:55.446Z"
   },
   {
    "duration": 253,
    "start_time": "2022-09-17T10:00:55.642Z"
   },
   {
    "duration": 28,
    "start_time": "2022-09-17T10:00:55.897Z"
   },
   {
    "duration": 70,
    "start_time": "2022-09-17T10:00:55.927Z"
   },
   {
    "duration": 6477,
    "start_time": "2022-09-17T10:01:14.650Z"
   },
   {
    "duration": 1370,
    "start_time": "2022-09-17T10:01:23.333Z"
   },
   {
    "duration": 4,
    "start_time": "2022-09-17T10:01:25.788Z"
   },
   {
    "duration": 6,
    "start_time": "2022-09-17T10:01:29.887Z"
   },
   {
    "duration": 6,
    "start_time": "2022-09-17T10:01:32.282Z"
   },
   {
    "duration": 5125,
    "start_time": "2022-09-17T10:01:34.192Z"
   },
   {
    "duration": 325204,
    "start_time": "2022-09-17T10:01:40.732Z"
   },
   {
    "duration": 5,
    "start_time": "2022-09-17T10:07:05.938Z"
   },
   {
    "duration": 74944,
    "start_time": "2022-09-17T10:07:11.142Z"
   },
   {
    "duration": 23256,
    "start_time": "2022-09-17T10:08:38.083Z"
   },
   {
    "duration": 50,
    "start_time": "2022-09-17T10:10:00.936Z"
   },
   {
    "duration": 1472,
    "start_time": "2022-09-17T10:10:11.729Z"
   },
   {
    "duration": 3,
    "start_time": "2022-09-17T10:10:13.203Z"
   },
   {
    "duration": 1167,
    "start_time": "2022-09-17T10:10:13.207Z"
   },
   {
    "duration": 121,
    "start_time": "2022-09-17T10:10:14.377Z"
   },
   {
    "duration": 109,
    "start_time": "2022-09-17T10:10:14.500Z"
   },
   {
    "duration": 17,
    "start_time": "2022-09-17T10:10:14.621Z"
   },
   {
    "duration": 184,
    "start_time": "2022-09-17T10:10:14.640Z"
   },
   {
    "duration": 35,
    "start_time": "2022-09-17T10:10:14.826Z"
   },
   {
    "duration": 15,
    "start_time": "2022-09-17T10:10:14.863Z"
   },
   {
    "duration": 56,
    "start_time": "2022-09-17T10:10:14.881Z"
   },
   {
    "duration": 126,
    "start_time": "2022-09-17T10:10:14.939Z"
   },
   {
    "duration": 139,
    "start_time": "2022-09-17T10:10:15.067Z"
   },
   {
    "duration": 13,
    "start_time": "2022-09-17T10:10:15.208Z"
   },
   {
    "duration": 94,
    "start_time": "2022-09-17T10:10:15.223Z"
   },
   {
    "duration": 1364,
    "start_time": "2022-09-17T10:10:15.319Z"
   },
   {
    "duration": 209,
    "start_time": "2022-09-17T10:10:16.685Z"
   },
   {
    "duration": 37,
    "start_time": "2022-09-17T10:10:16.895Z"
   },
   {
    "duration": 191,
    "start_time": "2022-09-17T10:10:16.934Z"
   },
   {
    "duration": 258,
    "start_time": "2022-09-17T10:10:17.127Z"
   },
   {
    "duration": 24,
    "start_time": "2022-09-17T10:10:17.387Z"
   },
   {
    "duration": 82,
    "start_time": "2022-09-17T10:10:17.420Z"
   },
   {
    "duration": 6532,
    "start_time": "2022-09-17T10:10:17.504Z"
   },
   {
    "duration": 1357,
    "start_time": "2022-09-17T10:10:24.038Z"
   },
   {
    "duration": 4,
    "start_time": "2022-09-17T10:10:25.397Z"
   },
   {
    "duration": 13,
    "start_time": "2022-09-17T10:10:25.402Z"
   },
   {
    "duration": 1453,
    "start_time": "2022-09-17T10:11:14.440Z"
   },
   {
    "duration": 2,
    "start_time": "2022-09-17T10:11:15.895Z"
   },
   {
    "duration": 862,
    "start_time": "2022-09-17T10:11:15.899Z"
   },
   {
    "duration": 123,
    "start_time": "2022-09-17T10:11:16.764Z"
   },
   {
    "duration": 117,
    "start_time": "2022-09-17T10:11:16.889Z"
   },
   {
    "duration": 4,
    "start_time": "2022-09-17T10:11:17.008Z"
   },
   {
    "duration": 183,
    "start_time": "2022-09-17T10:11:17.013Z"
   },
   {
    "duration": 49,
    "start_time": "2022-09-17T10:11:17.197Z"
   },
   {
    "duration": 18,
    "start_time": "2022-09-17T10:11:17.247Z"
   },
   {
    "duration": 60,
    "start_time": "2022-09-17T10:11:17.268Z"
   },
   {
    "duration": 130,
    "start_time": "2022-09-17T10:11:17.330Z"
   },
   {
    "duration": 132,
    "start_time": "2022-09-17T10:11:17.462Z"
   },
   {
    "duration": 2,
    "start_time": "2022-09-17T10:11:17.596Z"
   },
   {
    "duration": 108,
    "start_time": "2022-09-17T10:11:17.600Z"
   },
   {
    "duration": 1507,
    "start_time": "2022-09-17T10:11:17.710Z"
   },
   {
    "duration": 211,
    "start_time": "2022-09-17T10:11:19.221Z"
   },
   {
    "duration": 25,
    "start_time": "2022-09-17T10:11:19.434Z"
   },
   {
    "duration": 203,
    "start_time": "2022-09-17T10:11:19.461Z"
   },
   {
    "duration": 268,
    "start_time": "2022-09-17T10:11:19.666Z"
   },
   {
    "duration": 21,
    "start_time": "2022-09-17T10:11:19.936Z"
   },
   {
    "duration": 82,
    "start_time": "2022-09-17T10:11:19.960Z"
   },
   {
    "duration": 6385,
    "start_time": "2022-09-17T10:11:20.044Z"
   },
   {
    "duration": 1368,
    "start_time": "2022-09-17T10:11:26.431Z"
   },
   {
    "duration": 5,
    "start_time": "2022-09-17T10:11:27.801Z"
   },
   {
    "duration": 16,
    "start_time": "2022-09-17T10:11:27.807Z"
   },
   {
    "duration": 7,
    "start_time": "2022-09-17T10:12:00.934Z"
   },
   {
    "duration": 5030,
    "start_time": "2022-09-17T10:12:03.854Z"
   },
   {
    "duration": 327071,
    "start_time": "2022-09-17T10:12:16.857Z"
   },
   {
    "duration": 75369,
    "start_time": "2022-09-17T10:17:57.051Z"
   },
   {
    "duration": 23816,
    "start_time": "2022-09-17T10:19:22.146Z"
   },
   {
    "duration": 1530,
    "start_time": "2022-09-17T10:22:25.824Z"
   },
   {
    "duration": 2,
    "start_time": "2022-09-17T10:22:27.356Z"
   },
   {
    "duration": 1164,
    "start_time": "2022-09-17T10:22:27.360Z"
   },
   {
    "duration": 138,
    "start_time": "2022-09-17T10:22:28.526Z"
   },
   {
    "duration": 106,
    "start_time": "2022-09-17T10:22:28.666Z"
   },
   {
    "duration": 4,
    "start_time": "2022-09-17T10:22:28.774Z"
   },
   {
    "duration": 227,
    "start_time": "2022-09-17T10:22:28.780Z"
   },
   {
    "duration": 48,
    "start_time": "2022-09-17T10:22:29.009Z"
   },
   {
    "duration": 21,
    "start_time": "2022-09-17T10:22:29.059Z"
   },
   {
    "duration": 68,
    "start_time": "2022-09-17T10:22:29.083Z"
   },
   {
    "duration": 137,
    "start_time": "2022-09-17T10:22:29.153Z"
   },
   {
    "duration": 137,
    "start_time": "2022-09-17T10:22:29.292Z"
   },
   {
    "duration": 3,
    "start_time": "2022-09-17T10:22:29.431Z"
   },
   {
    "duration": 97,
    "start_time": "2022-09-17T10:22:29.436Z"
   },
   {
    "duration": 1406,
    "start_time": "2022-09-17T10:22:29.536Z"
   },
   {
    "duration": 218,
    "start_time": "2022-09-17T10:22:30.945Z"
   },
   {
    "duration": 27,
    "start_time": "2022-09-17T10:22:31.165Z"
   },
   {
    "duration": 213,
    "start_time": "2022-09-17T10:22:31.194Z"
   },
   {
    "duration": 248,
    "start_time": "2022-09-17T10:22:31.409Z"
   },
   {
    "duration": 23,
    "start_time": "2022-09-17T10:22:31.659Z"
   },
   {
    "duration": 96,
    "start_time": "2022-09-17T10:22:31.684Z"
   },
   {
    "duration": 6530,
    "start_time": "2022-09-17T10:22:31.782Z"
   },
   {
    "duration": 1492,
    "start_time": "2022-09-17T10:22:38.314Z"
   },
   {
    "duration": 12,
    "start_time": "2022-09-17T10:22:39.808Z"
   },
   {
    "duration": 22,
    "start_time": "2022-09-17T10:22:39.822Z"
   },
   {
    "duration": 16,
    "start_time": "2022-09-17T10:22:39.846Z"
   },
   {
    "duration": 11769,
    "start_time": "2022-09-17T10:22:39.864Z"
   },
   {
    "duration": 5158,
    "start_time": "2022-09-17T10:23:04.966Z"
   },
   {
    "duration": 326881,
    "start_time": "2022-09-17T10:23:17.117Z"
   },
   {
    "duration": 74571,
    "start_time": "2022-09-17T10:29:07.692Z"
   },
   {
    "duration": 24675,
    "start_time": "2022-09-17T10:30:36.044Z"
   },
   {
    "duration": 9,
    "start_time": "2022-09-17T10:31:09.402Z"
   },
   {
    "duration": 1595,
    "start_time": "2022-09-17T10:32:23.122Z"
   },
   {
    "duration": 3,
    "start_time": "2022-09-17T10:32:24.719Z"
   },
   {
    "duration": 1163,
    "start_time": "2022-09-17T10:32:24.724Z"
   },
   {
    "duration": 125,
    "start_time": "2022-09-17T10:32:25.889Z"
   },
   {
    "duration": 108,
    "start_time": "2022-09-17T10:32:26.016Z"
   },
   {
    "duration": 5,
    "start_time": "2022-09-17T10:32:26.126Z"
   },
   {
    "duration": 189,
    "start_time": "2022-09-17T10:32:26.132Z"
   },
   {
    "duration": 35,
    "start_time": "2022-09-17T10:32:26.323Z"
   },
   {
    "duration": 18,
    "start_time": "2022-09-17T10:32:26.360Z"
   },
   {
    "duration": 61,
    "start_time": "2022-09-17T10:32:26.380Z"
   },
   {
    "duration": 129,
    "start_time": "2022-09-17T10:32:26.443Z"
   },
   {
    "duration": 134,
    "start_time": "2022-09-17T10:32:26.574Z"
   },
   {
    "duration": 3,
    "start_time": "2022-09-17T10:32:26.709Z"
   },
   {
    "duration": 95,
    "start_time": "2022-09-17T10:32:26.714Z"
   },
   {
    "duration": 1521,
    "start_time": "2022-09-17T10:32:26.811Z"
   },
   {
    "duration": 220,
    "start_time": "2022-09-17T10:32:28.334Z"
   },
   {
    "duration": 24,
    "start_time": "2022-09-17T10:32:28.556Z"
   },
   {
    "duration": 204,
    "start_time": "2022-09-17T10:32:28.582Z"
   },
   {
    "duration": 312,
    "start_time": "2022-09-17T10:32:28.788Z"
   },
   {
    "duration": 32,
    "start_time": "2022-09-17T10:32:29.101Z"
   },
   {
    "duration": 94,
    "start_time": "2022-09-17T10:32:29.135Z"
   },
   {
    "duration": 6548,
    "start_time": "2022-09-17T10:32:29.231Z"
   },
   {
    "duration": 1471,
    "start_time": "2022-09-17T10:32:35.781Z"
   },
   {
    "duration": 4,
    "start_time": "2022-09-17T10:32:37.255Z"
   },
   {
    "duration": 10,
    "start_time": "2022-09-17T10:32:37.261Z"
   },
   {
    "duration": 15,
    "start_time": "2022-09-17T10:32:37.274Z"
   },
   {
    "duration": 62853,
    "start_time": "2022-09-17T10:32:37.291Z"
   },
   {
    "duration": 5163,
    "start_time": "2022-09-17T10:33:40.147Z"
   },
   {
    "duration": 330235,
    "start_time": "2022-09-17T10:33:45.311Z"
   },
   {
    "duration": 75248,
    "start_time": "2022-09-17T10:39:15.548Z"
   },
   {
    "duration": 23491,
    "start_time": "2022-09-17T10:40:30.798Z"
   },
   {
    "duration": 10,
    "start_time": "2022-09-17T10:40:54.291Z"
   },
   {
    "duration": 17,
    "start_time": "2022-09-17T10:40:54.303Z"
   },
   {
    "duration": 604393,
    "start_time": "2022-09-17T10:40:54.322Z"
   },
   {
    "duration": 3,
    "start_time": "2022-09-17T10:52:47.289Z"
   },
   {
    "duration": 90445,
    "start_time": "2022-09-17T10:56:41.891Z"
   },
   {
    "duration": 79,
    "start_time": "2022-09-17T10:59:16.058Z"
   },
   {
    "duration": 10,
    "start_time": "2022-09-17T10:59:20.951Z"
   },
   {
    "duration": 31415,
    "start_time": "2022-09-17T10:59:31.047Z"
   },
   {
    "duration": 31836,
    "start_time": "2022-09-17T11:00:11.726Z"
   },
   {
    "duration": 471760,
    "start_time": "2022-09-17T11:01:21.043Z"
   },
   {
    "duration": 4,
    "start_time": "2022-09-17T11:10:30.967Z"
   },
   {
    "duration": 5,
    "start_time": "2022-09-17T11:10:45.206Z"
   },
   {
    "duration": 38013,
    "start_time": "2022-09-17T11:11:35.903Z"
   },
   {
    "duration": 1457,
    "start_time": "2022-09-17T11:18:14.537Z"
   },
   {
    "duration": 3,
    "start_time": "2022-09-17T11:18:15.996Z"
   },
   {
    "duration": 924,
    "start_time": "2022-09-17T11:18:16.000Z"
   },
   {
    "duration": 128,
    "start_time": "2022-09-17T11:18:16.926Z"
   },
   {
    "duration": 113,
    "start_time": "2022-09-17T11:18:17.057Z"
   },
   {
    "duration": 5,
    "start_time": "2022-09-17T11:18:17.172Z"
   },
   {
    "duration": 204,
    "start_time": "2022-09-17T11:18:17.179Z"
   },
   {
    "duration": 48,
    "start_time": "2022-09-17T11:18:17.385Z"
   },
   {
    "duration": 18,
    "start_time": "2022-09-17T11:18:17.434Z"
   },
   {
    "duration": 41,
    "start_time": "2022-09-17T11:18:17.454Z"
   },
   {
    "duration": 137,
    "start_time": "2022-09-17T11:18:17.497Z"
   },
   {
    "duration": 133,
    "start_time": "2022-09-17T11:18:17.636Z"
   },
   {
    "duration": 3,
    "start_time": "2022-09-17T11:18:17.770Z"
   },
   {
    "duration": 98,
    "start_time": "2022-09-17T11:18:17.776Z"
   },
   {
    "duration": 1504,
    "start_time": "2022-09-17T11:18:17.876Z"
   },
   {
    "duration": 219,
    "start_time": "2022-09-17T11:18:19.382Z"
   },
   {
    "duration": 31,
    "start_time": "2022-09-17T11:18:19.603Z"
   },
   {
    "duration": 198,
    "start_time": "2022-09-17T11:18:19.636Z"
   },
   {
    "duration": 260,
    "start_time": "2022-09-17T11:18:19.835Z"
   },
   {
    "duration": 32,
    "start_time": "2022-09-17T11:18:20.096Z"
   },
   {
    "duration": 78,
    "start_time": "2022-09-17T11:18:20.129Z"
   },
   {
    "duration": 6413,
    "start_time": "2022-09-17T11:18:20.208Z"
   },
   {
    "duration": 1370,
    "start_time": "2022-09-17T11:18:26.623Z"
   },
   {
    "duration": 4,
    "start_time": "2022-09-17T11:18:27.995Z"
   },
   {
    "duration": 14,
    "start_time": "2022-09-17T11:18:28.001Z"
   },
   {
    "duration": 12,
    "start_time": "2022-09-17T11:18:28.016Z"
   },
   {
    "duration": 14794,
    "start_time": "2022-09-17T11:18:28.031Z"
   },
   {
    "duration": 5025,
    "start_time": "2022-09-17T11:18:42.827Z"
   },
   {
    "duration": 328034,
    "start_time": "2022-09-17T11:18:47.854Z"
   },
   {
    "duration": 75764,
    "start_time": "2022-09-17T11:24:15.890Z"
   },
   {
    "duration": 24779,
    "start_time": "2022-09-17T11:25:31.656Z"
   },
   {
    "duration": 9,
    "start_time": "2022-09-17T11:25:56.436Z"
   },
   {
    "duration": 9,
    "start_time": "2022-09-17T11:25:56.447Z"
   },
   {
    "duration": 466920,
    "start_time": "2022-09-17T11:25:56.458Z"
   },
   {
    "duration": 122,
    "start_time": "2022-09-17T11:33:43.380Z"
   },
   {
    "duration": 0,
    "start_time": "2022-09-17T11:33:43.504Z"
   },
   {
    "duration": 44,
    "start_time": "2022-09-19T06:57:25.047Z"
   },
   {
    "duration": 1614,
    "start_time": "2022-09-19T06:57:29.910Z"
   },
   {
    "duration": 3,
    "start_time": "2022-09-19T06:57:31.525Z"
   },
   {
    "duration": 2906,
    "start_time": "2022-09-19T06:57:31.530Z"
   },
   {
    "duration": 115,
    "start_time": "2022-09-19T06:57:34.438Z"
   },
   {
    "duration": 785,
    "start_time": "2022-09-19T06:57:36.538Z"
   },
   {
    "duration": 3,
    "start_time": "2022-09-19T07:00:03.599Z"
   },
   {
    "duration": 7,
    "start_time": "2022-09-19T07:00:03.604Z"
   },
   {
    "duration": 753,
    "start_time": "2022-09-19T07:00:03.612Z"
   },
   {
    "duration": 100,
    "start_time": "2022-09-19T07:00:04.367Z"
   },
   {
    "duration": 799,
    "start_time": "2022-09-19T07:00:04.470Z"
   },
   {
    "duration": 4,
    "start_time": "2022-09-19T07:00:05.270Z"
   },
   {
    "duration": 201,
    "start_time": "2022-09-19T07:00:05.275Z"
   },
   {
    "duration": 43,
    "start_time": "2022-09-19T07:00:05.478Z"
   },
   {
    "duration": 22,
    "start_time": "2022-09-19T07:00:05.523Z"
   },
   {
    "duration": 45,
    "start_time": "2022-09-19T07:00:05.547Z"
   },
   {
    "duration": 119,
    "start_time": "2022-09-19T07:00:05.594Z"
   },
   {
    "duration": 128,
    "start_time": "2022-09-19T07:00:05.715Z"
   },
   {
    "duration": 87,
    "start_time": "2022-09-19T07:00:05.845Z"
   },
   {
    "duration": 1225,
    "start_time": "2022-09-19T07:00:05.935Z"
   },
   {
    "duration": 183,
    "start_time": "2022-09-19T07:00:07.162Z"
   },
   {
    "duration": 28,
    "start_time": "2022-09-19T07:00:11.319Z"
   },
   {
    "duration": 155,
    "start_time": "2022-09-19T07:01:23.530Z"
   },
   {
    "duration": 128,
    "start_time": "2022-09-19T07:01:36.735Z"
   },
   {
    "duration": 11,
    "start_time": "2022-09-19T07:06:47.670Z"
   },
   {
    "duration": 20,
    "start_time": "2022-09-19T07:06:55.995Z"
   },
   {
    "duration": 1699,
    "start_time": "2022-09-19T07:07:20.311Z"
   },
   {
    "duration": 3,
    "start_time": "2022-09-19T07:07:22.012Z"
   },
   {
    "duration": 803,
    "start_time": "2022-09-19T07:07:22.017Z"
   },
   {
    "duration": 115,
    "start_time": "2022-09-19T07:07:22.822Z"
   },
   {
    "duration": 731,
    "start_time": "2022-09-19T07:07:22.940Z"
   },
   {
    "duration": 4,
    "start_time": "2022-09-19T07:07:23.673Z"
   },
   {
    "duration": 161,
    "start_time": "2022-09-19T07:07:23.679Z"
   },
   {
    "duration": 29,
    "start_time": "2022-09-19T07:07:23.842Z"
   },
   {
    "duration": 14,
    "start_time": "2022-09-19T07:07:23.872Z"
   },
   {
    "duration": 51,
    "start_time": "2022-09-19T07:07:23.887Z"
   },
   {
    "duration": 106,
    "start_time": "2022-09-19T07:07:23.940Z"
   },
   {
    "duration": 107,
    "start_time": "2022-09-19T07:07:24.048Z"
   },
   {
    "duration": 83,
    "start_time": "2022-09-19T07:07:24.157Z"
   },
   {
    "duration": 1395,
    "start_time": "2022-09-19T07:07:24.243Z"
   },
   {
    "duration": 10,
    "start_time": "2022-09-19T07:07:25.639Z"
   },
   {
    "duration": 162,
    "start_time": "2022-09-19T07:07:25.650Z"
   },
   {
    "duration": 11,
    "start_time": "2022-09-19T07:07:25.814Z"
   },
   {
    "duration": 177,
    "start_time": "2022-09-19T07:07:25.827Z"
   },
   {
    "duration": 249,
    "start_time": "2022-09-19T07:07:26.007Z"
   },
   {
    "duration": 5,
    "start_time": "2022-09-19T07:07:26.257Z"
   },
   {
    "duration": 1389,
    "start_time": "2022-09-19T07:07:46.822Z"
   },
   {
    "duration": 2,
    "start_time": "2022-09-19T07:07:48.213Z"
   },
   {
    "duration": 699,
    "start_time": "2022-09-19T07:07:48.217Z"
   },
   {
    "duration": 110,
    "start_time": "2022-09-19T07:07:48.919Z"
   },
   {
    "duration": 737,
    "start_time": "2022-09-19T07:07:49.031Z"
   },
   {
    "duration": 4,
    "start_time": "2022-09-19T07:07:49.771Z"
   },
   {
    "duration": 170,
    "start_time": "2022-09-19T07:07:49.776Z"
   },
   {
    "duration": 32,
    "start_time": "2022-09-19T07:07:49.948Z"
   },
   {
    "duration": 22,
    "start_time": "2022-09-19T07:07:49.982Z"
   },
   {
    "duration": 37,
    "start_time": "2022-09-19T07:07:50.023Z"
   },
   {
    "duration": 114,
    "start_time": "2022-09-19T07:07:50.062Z"
   },
   {
    "duration": 110,
    "start_time": "2022-09-19T07:07:50.178Z"
   },
   {
    "duration": 84,
    "start_time": "2022-09-19T07:07:50.290Z"
   },
   {
    "duration": 1360,
    "start_time": "2022-09-19T07:07:50.376Z"
   },
   {
    "duration": 22,
    "start_time": "2022-09-19T07:07:51.737Z"
   },
   {
    "duration": 191,
    "start_time": "2022-09-19T07:07:51.760Z"
   },
   {
    "duration": 24,
    "start_time": "2022-09-19T07:07:51.953Z"
   },
   {
    "duration": 253,
    "start_time": "2022-09-19T07:07:51.980Z"
   },
   {
    "duration": 224,
    "start_time": "2022-09-19T07:07:52.235Z"
   },
   {
    "duration": 19,
    "start_time": "2022-09-19T07:07:52.461Z"
   },
   {
    "duration": 77,
    "start_time": "2022-09-19T07:07:52.482Z"
   },
   {
    "duration": 690,
    "start_time": "2022-09-19T07:24:04.999Z"
   },
   {
    "duration": 3,
    "start_time": "2022-09-19T07:24:13.493Z"
   },
   {
    "duration": 557,
    "start_time": "2022-09-19T07:24:31.440Z"
   },
   {
    "duration": 6564,
    "start_time": "2022-09-19T07:24:45.734Z"
   },
   {
    "duration": 1280,
    "start_time": "2022-09-19T07:28:13.810Z"
   },
   {
    "duration": 4,
    "start_time": "2022-09-19T07:28:17.887Z"
   },
   {
    "duration": 7,
    "start_time": "2022-09-19T07:28:19.821Z"
   },
   {
    "duration": 5,
    "start_time": "2022-09-19T07:28:22.953Z"
   },
   {
    "duration": 11917,
    "start_time": "2022-09-19T07:28:26.921Z"
   },
   {
    "duration": 4301,
    "start_time": "2022-09-19T07:28:40.049Z"
   },
   {
    "duration": 276506,
    "start_time": "2022-09-19T07:28:46.814Z"
   },
   {
    "duration": 8,
    "start_time": "2022-09-19T07:33:40.060Z"
   },
   {
    "duration": 65101,
    "start_time": "2022-09-19T07:33:54.702Z"
   },
   {
    "duration": 15,
    "start_time": "2022-09-19T07:35:22.549Z"
   },
   {
    "duration": 18,
    "start_time": "2022-09-19T07:35:28.367Z"
   },
   {
    "duration": 1600,
    "start_time": "2022-09-19T07:35:58.208Z"
   },
   {
    "duration": 2,
    "start_time": "2022-09-19T07:35:59.810Z"
   },
   {
    "duration": 724,
    "start_time": "2022-09-19T07:35:59.813Z"
   },
   {
    "duration": 112,
    "start_time": "2022-09-19T07:36:00.539Z"
   },
   {
    "duration": 829,
    "start_time": "2022-09-19T07:36:00.652Z"
   },
   {
    "duration": 4,
    "start_time": "2022-09-19T07:36:01.482Z"
   },
   {
    "duration": 165,
    "start_time": "2022-09-19T07:36:01.487Z"
   },
   {
    "duration": 34,
    "start_time": "2022-09-19T07:36:01.654Z"
   },
   {
    "duration": 38,
    "start_time": "2022-09-19T07:36:01.690Z"
   },
   {
    "duration": 35,
    "start_time": "2022-09-19T07:36:01.730Z"
   },
   {
    "duration": 122,
    "start_time": "2022-09-19T07:36:01.767Z"
   },
   {
    "duration": 108,
    "start_time": "2022-09-19T07:36:01.891Z"
   },
   {
    "duration": 89,
    "start_time": "2022-09-19T07:36:02.001Z"
   },
   {
    "duration": 1350,
    "start_time": "2022-09-19T07:36:02.091Z"
   },
   {
    "duration": 21,
    "start_time": "2022-09-19T07:36:03.442Z"
   },
   {
    "duration": 167,
    "start_time": "2022-09-19T07:36:03.465Z"
   },
   {
    "duration": 22,
    "start_time": "2022-09-19T07:36:03.634Z"
   },
   {
    "duration": 182,
    "start_time": "2022-09-19T07:36:03.658Z"
   },
   {
    "duration": 207,
    "start_time": "2022-09-19T07:36:03.842Z"
   },
   {
    "duration": 19,
    "start_time": "2022-09-19T07:36:04.051Z"
   },
   {
    "duration": 78,
    "start_time": "2022-09-19T07:36:04.072Z"
   },
   {
    "duration": 113,
    "start_time": "2022-09-19T07:36:10.864Z"
   },
   {
    "duration": 23,
    "start_time": "2022-09-19T07:36:23.017Z"
   },
   {
    "duration": 37,
    "start_time": "2022-09-19T07:36:36.619Z"
   },
   {
    "duration": 63,
    "start_time": "2022-09-19T07:37:55.315Z"
   },
   {
    "duration": 51,
    "start_time": "2022-09-19T07:38:14.854Z"
   },
   {
    "duration": 57,
    "start_time": "2022-09-19T07:40:35.038Z"
   },
   {
    "duration": 1494,
    "start_time": "2022-09-19T07:40:45.646Z"
   },
   {
    "duration": 2,
    "start_time": "2022-09-19T07:40:47.142Z"
   },
   {
    "duration": 799,
    "start_time": "2022-09-19T07:40:47.146Z"
   },
   {
    "duration": 102,
    "start_time": "2022-09-19T07:40:47.947Z"
   },
   {
    "duration": 751,
    "start_time": "2022-09-19T07:40:48.051Z"
   },
   {
    "duration": 5,
    "start_time": "2022-09-19T07:40:48.804Z"
   },
   {
    "duration": 183,
    "start_time": "2022-09-19T07:40:48.811Z"
   },
   {
    "duration": 45,
    "start_time": "2022-09-19T07:40:48.995Z"
   },
   {
    "duration": 16,
    "start_time": "2022-09-19T07:40:49.042Z"
   },
   {
    "duration": 33,
    "start_time": "2022-09-19T07:40:49.060Z"
   },
   {
    "duration": 118,
    "start_time": "2022-09-19T07:40:49.095Z"
   },
   {
    "duration": 116,
    "start_time": "2022-09-19T07:40:49.214Z"
   },
   {
    "duration": 100,
    "start_time": "2022-09-19T07:40:49.332Z"
   },
   {
    "duration": 1313,
    "start_time": "2022-09-19T07:40:49.433Z"
   },
   {
    "duration": 22,
    "start_time": "2022-09-19T07:40:50.748Z"
   },
   {
    "duration": 183,
    "start_time": "2022-09-19T07:40:50.771Z"
   },
   {
    "duration": 23,
    "start_time": "2022-09-19T07:40:50.955Z"
   },
   {
    "duration": 186,
    "start_time": "2022-09-19T07:40:50.980Z"
   },
   {
    "duration": 223,
    "start_time": "2022-09-19T07:40:51.168Z"
   },
   {
    "duration": 29,
    "start_time": "2022-09-19T07:40:51.393Z"
   },
   {
    "duration": 60,
    "start_time": "2022-09-19T07:40:51.423Z"
   },
   {
    "duration": 748,
    "start_time": "2022-09-19T08:03:30.454Z"
   },
   {
    "duration": 559,
    "start_time": "2022-09-19T08:04:58.659Z"
   },
   {
    "duration": 3,
    "start_time": "2022-09-19T10:36:23.463Z"
   },
   {
    "duration": 89,
    "start_time": "2022-09-19T10:36:52.151Z"
   },
   {
    "duration": 396,
    "start_time": "2022-09-19T10:37:10.135Z"
   },
   {
    "duration": 421,
    "start_time": "2022-09-19T10:37:36.867Z"
   },
   {
    "duration": 371,
    "start_time": "2022-09-19T10:38:06.875Z"
   },
   {
    "duration": 362,
    "start_time": "2022-09-19T10:38:32.248Z"
   },
   {
    "duration": 1526,
    "start_time": "2022-09-19T10:59:57.819Z"
   },
   {
    "duration": 2,
    "start_time": "2022-09-19T10:59:59.348Z"
   },
   {
    "duration": 810,
    "start_time": "2022-09-19T10:59:59.352Z"
   },
   {
    "duration": 109,
    "start_time": "2022-09-19T11:00:00.165Z"
   },
   {
    "duration": 871,
    "start_time": "2022-09-19T11:00:00.277Z"
   },
   {
    "duration": 5,
    "start_time": "2022-09-19T11:00:01.150Z"
   },
   {
    "duration": 198,
    "start_time": "2022-09-19T11:00:01.157Z"
   },
   {
    "duration": 45,
    "start_time": "2022-09-19T11:00:01.357Z"
   },
   {
    "duration": 56,
    "start_time": "2022-09-19T11:00:01.404Z"
   },
   {
    "duration": 71,
    "start_time": "2022-09-19T11:00:01.462Z"
   },
   {
    "duration": 132,
    "start_time": "2022-09-19T11:00:01.535Z"
   },
   {
    "duration": 143,
    "start_time": "2022-09-19T11:00:01.669Z"
   },
   {
    "duration": 132,
    "start_time": "2022-09-19T11:00:01.814Z"
   },
   {
    "duration": 1397,
    "start_time": "2022-09-19T11:00:01.947Z"
   },
   {
    "duration": 24,
    "start_time": "2022-09-19T11:00:03.345Z"
   },
   {
    "duration": 189,
    "start_time": "2022-09-19T11:00:03.371Z"
   },
   {
    "duration": 22,
    "start_time": "2022-09-19T11:00:03.561Z"
   },
   {
    "duration": 175,
    "start_time": "2022-09-19T11:00:03.585Z"
   },
   {
    "duration": 217,
    "start_time": "2022-09-19T11:00:03.762Z"
   },
   {
    "duration": 19,
    "start_time": "2022-09-19T11:00:03.980Z"
   },
   {
    "duration": 80,
    "start_time": "2022-09-19T11:00:04.001Z"
   },
   {
    "duration": 741,
    "start_time": "2022-09-19T11:00:04.083Z"
   },
   {
    "duration": 0,
    "start_time": "2022-09-19T11:00:04.827Z"
   },
   {
    "duration": 0,
    "start_time": "2022-09-19T11:00:04.828Z"
   },
   {
    "duration": 0,
    "start_time": "2022-09-19T11:00:04.830Z"
   },
   {
    "duration": 0,
    "start_time": "2022-09-19T11:00:04.832Z"
   },
   {
    "duration": 0,
    "start_time": "2022-09-19T11:00:04.833Z"
   },
   {
    "duration": 0,
    "start_time": "2022-09-19T11:00:04.835Z"
   },
   {
    "duration": 0,
    "start_time": "2022-09-19T11:00:04.836Z"
   },
   {
    "duration": 0,
    "start_time": "2022-09-19T11:00:04.837Z"
   },
   {
    "duration": 0,
    "start_time": "2022-09-19T11:00:04.838Z"
   },
   {
    "duration": 0,
    "start_time": "2022-09-19T11:00:04.840Z"
   },
   {
    "duration": 0,
    "start_time": "2022-09-19T11:00:04.841Z"
   },
   {
    "duration": 0,
    "start_time": "2022-09-19T11:00:04.843Z"
   },
   {
    "duration": 0,
    "start_time": "2022-09-19T11:00:04.844Z"
   },
   {
    "duration": 2722,
    "start_time": "2022-09-19T11:00:41.145Z"
   },
   {
    "duration": 4858,
    "start_time": "2022-09-19T11:01:49.784Z"
   },
   {
    "duration": 46,
    "start_time": "2022-09-19T11:01:54.644Z"
   },
   {
    "duration": 46,
    "start_time": "2022-09-19T11:02:10.120Z"
   },
   {
    "duration": 57,
    "start_time": "2022-09-19T11:02:55.365Z"
   },
   {
    "duration": 18,
    "start_time": "2022-09-19T11:04:34.219Z"
   },
   {
    "duration": 18,
    "start_time": "2022-09-19T11:04:52.082Z"
   },
   {
    "duration": 1569,
    "start_time": "2022-09-19T11:06:19.029Z"
   },
   {
    "duration": 3,
    "start_time": "2022-09-19T11:06:20.600Z"
   },
   {
    "duration": 873,
    "start_time": "2022-09-19T11:06:20.605Z"
   },
   {
    "duration": 126,
    "start_time": "2022-09-19T11:06:21.480Z"
   },
   {
    "duration": 908,
    "start_time": "2022-09-19T11:06:21.607Z"
   },
   {
    "duration": 5,
    "start_time": "2022-09-19T11:06:22.521Z"
   },
   {
    "duration": 182,
    "start_time": "2022-09-19T11:06:22.527Z"
   },
   {
    "duration": 46,
    "start_time": "2022-09-19T11:06:22.710Z"
   },
   {
    "duration": 19,
    "start_time": "2022-09-19T11:06:22.757Z"
   },
   {
    "duration": 64,
    "start_time": "2022-09-19T11:06:22.779Z"
   },
   {
    "duration": 115,
    "start_time": "2022-09-19T11:06:22.844Z"
   },
   {
    "duration": 120,
    "start_time": "2022-09-19T11:06:22.961Z"
   },
   {
    "duration": 89,
    "start_time": "2022-09-19T11:06:23.083Z"
   },
   {
    "duration": 1259,
    "start_time": "2022-09-19T11:06:23.174Z"
   },
   {
    "duration": 22,
    "start_time": "2022-09-19T11:06:24.435Z"
   },
   {
    "duration": 196,
    "start_time": "2022-09-19T11:06:24.459Z"
   },
   {
    "duration": 24,
    "start_time": "2022-09-19T11:06:24.657Z"
   },
   {
    "duration": 191,
    "start_time": "2022-09-19T11:06:24.683Z"
   },
   {
    "duration": 263,
    "start_time": "2022-09-19T11:06:24.876Z"
   },
   {
    "duration": 24,
    "start_time": "2022-09-19T11:06:25.141Z"
   },
   {
    "duration": 87,
    "start_time": "2022-09-19T11:06:25.167Z"
   },
   {
    "duration": 4707,
    "start_time": "2022-09-19T11:06:25.256Z"
   },
   {
    "duration": 20,
    "start_time": "2022-09-19T11:06:29.965Z"
   },
   {
    "duration": 157,
    "start_time": "2022-09-19T11:06:29.987Z"
   },
   {
    "duration": 0,
    "start_time": "2022-09-19T11:06:30.146Z"
   },
   {
    "duration": 0,
    "start_time": "2022-09-19T11:06:30.147Z"
   },
   {
    "duration": 0,
    "start_time": "2022-09-19T11:06:30.148Z"
   },
   {
    "duration": 0,
    "start_time": "2022-09-19T11:06:30.149Z"
   },
   {
    "duration": 0,
    "start_time": "2022-09-19T11:06:30.150Z"
   },
   {
    "duration": 0,
    "start_time": "2022-09-19T11:06:30.151Z"
   },
   {
    "duration": 0,
    "start_time": "2022-09-19T11:06:30.152Z"
   },
   {
    "duration": 0,
    "start_time": "2022-09-19T11:06:30.153Z"
   },
   {
    "duration": 0,
    "start_time": "2022-09-19T11:06:30.154Z"
   },
   {
    "duration": 0,
    "start_time": "2022-09-19T11:06:30.155Z"
   },
   {
    "duration": 0,
    "start_time": "2022-09-19T11:06:30.156Z"
   },
   {
    "duration": 0,
    "start_time": "2022-09-19T11:06:30.157Z"
   },
   {
    "duration": 591,
    "start_time": "2022-09-19T11:06:46.844Z"
   },
   {
    "duration": 609,
    "start_time": "2022-09-19T11:06:59.915Z"
   },
   {
    "duration": 7,
    "start_time": "2022-09-19T11:07:00.526Z"
   },
   {
    "duration": 30,
    "start_time": "2022-09-19T11:07:00.539Z"
   },
   {
    "duration": 15,
    "start_time": "2022-09-19T11:07:00.571Z"
   },
   {
    "duration": 414465,
    "start_time": "2022-09-19T11:07:00.588Z"
   },
   {
    "duration": 30,
    "start_time": "2022-09-19T11:13:55.060Z"
   },
   {
    "duration": 0,
    "start_time": "2022-09-19T11:13:55.124Z"
   },
   {
    "duration": 0,
    "start_time": "2022-09-19T11:13:55.125Z"
   },
   {
    "duration": 0,
    "start_time": "2022-09-19T11:13:55.126Z"
   },
   {
    "duration": 0,
    "start_time": "2022-09-19T11:13:55.129Z"
   },
   {
    "duration": 0,
    "start_time": "2022-09-19T11:13:55.131Z"
   },
   {
    "duration": 0,
    "start_time": "2022-09-19T11:13:55.134Z"
   },
   {
    "duration": 0,
    "start_time": "2022-09-19T11:13:55.136Z"
   },
   {
    "duration": 16,
    "start_time": "2022-09-19T11:41:28.571Z"
   },
   {
    "duration": 489,
    "start_time": "2022-09-19T11:43:48.623Z"
   },
   {
    "duration": 5,
    "start_time": "2022-09-19T11:43:53.257Z"
   },
   {
    "duration": 9,
    "start_time": "2022-09-19T11:44:01.482Z"
   },
   {
    "duration": 9,
    "start_time": "2022-09-19T11:44:12.046Z"
   },
   {
    "duration": 19,
    "start_time": "2022-09-19T11:44:15.981Z"
   },
   {
    "duration": 11,
    "start_time": "2022-09-19T11:44:39.146Z"
   },
   {
    "duration": 13,
    "start_time": "2022-09-19T11:44:46.662Z"
   },
   {
    "duration": 485,
    "start_time": "2022-09-19T11:45:15.609Z"
   },
   {
    "duration": 12,
    "start_time": "2022-09-19T11:45:30.343Z"
   },
   {
    "duration": 468,
    "start_time": "2022-09-19T11:45:46.919Z"
   },
   {
    "duration": 31518,
    "start_time": "2022-09-19T11:45:50.639Z"
   },
   {
    "duration": 66644,
    "start_time": "2022-09-19T11:46:51.619Z"
   },
   {
    "duration": 20806,
    "start_time": "2022-09-19T11:47:58.265Z"
   },
   {
    "duration": 8,
    "start_time": "2022-09-19T11:48:19.072Z"
   },
   {
    "duration": 1456,
    "start_time": "2022-09-19T11:48:52.096Z"
   },
   {
    "duration": 2,
    "start_time": "2022-09-19T11:48:53.554Z"
   },
   {
    "duration": 738,
    "start_time": "2022-09-19T11:48:53.558Z"
   },
   {
    "duration": 102,
    "start_time": "2022-09-19T11:48:54.297Z"
   },
   {
    "duration": 780,
    "start_time": "2022-09-19T11:48:54.401Z"
   },
   {
    "duration": 4,
    "start_time": "2022-09-19T11:48:55.183Z"
   },
   {
    "duration": 177,
    "start_time": "2022-09-19T11:48:55.189Z"
   },
   {
    "duration": 38,
    "start_time": "2022-09-19T11:48:55.368Z"
   },
   {
    "duration": 24,
    "start_time": "2022-09-19T11:48:55.422Z"
   },
   {
    "duration": 40,
    "start_time": "2022-09-19T11:48:55.450Z"
   },
   {
    "duration": 129,
    "start_time": "2022-09-19T11:48:55.492Z"
   },
   {
    "duration": 121,
    "start_time": "2022-09-19T11:48:55.623Z"
   },
   {
    "duration": 101,
    "start_time": "2022-09-19T11:48:55.746Z"
   },
   {
    "duration": 1236,
    "start_time": "2022-09-19T11:48:55.849Z"
   },
   {
    "duration": 22,
    "start_time": "2022-09-19T11:48:57.086Z"
   },
   {
    "duration": 189,
    "start_time": "2022-09-19T11:48:57.110Z"
   },
   {
    "duration": 30,
    "start_time": "2022-09-19T11:48:57.301Z"
   },
   {
    "duration": 190,
    "start_time": "2022-09-19T11:48:57.333Z"
   },
   {
    "duration": 213,
    "start_time": "2022-09-19T11:48:57.525Z"
   },
   {
    "duration": 20,
    "start_time": "2022-09-19T11:48:57.739Z"
   },
   {
    "duration": 71,
    "start_time": "2022-09-19T11:48:57.760Z"
   },
   {
    "duration": 4410,
    "start_time": "2022-09-19T11:48:57.833Z"
   },
   {
    "duration": 545,
    "start_time": "2022-09-19T11:49:02.245Z"
   },
   {
    "duration": 30,
    "start_time": "2022-09-19T11:49:02.792Z"
   },
   {
    "duration": 13,
    "start_time": "2022-09-19T11:49:02.825Z"
   },
   {
    "duration": 13,
    "start_time": "2022-09-19T11:49:02.840Z"
   },
   {
    "duration": 389287,
    "start_time": "2022-09-19T11:49:02.854Z"
   },
   {
    "duration": 510,
    "start_time": "2022-09-19T11:55:32.145Z"
   },
   {
    "duration": 34637,
    "start_time": "2022-09-19T11:55:32.657Z"
   },
   {
    "duration": 70658,
    "start_time": "2022-09-19T11:56:07.295Z"
   },
   {
    "duration": 21569,
    "start_time": "2022-09-19T11:57:17.955Z"
   },
   {
    "duration": 8,
    "start_time": "2022-09-19T11:57:39.525Z"
   },
   {
    "duration": 439601,
    "start_time": "2022-09-19T11:57:39.535Z"
   },
   {
    "duration": 3,
    "start_time": "2022-09-19T12:04:59.138Z"
   },
   {
    "duration": 38169,
    "start_time": "2022-09-19T12:04:59.142Z"
   },
   {
    "duration": 1763,
    "start_time": "2023-02-19T15:03:59.910Z"
   },
   {
    "duration": 2,
    "start_time": "2023-02-19T15:04:01.675Z"
   },
   {
    "duration": 2809,
    "start_time": "2023-02-19T15:04:01.679Z"
   },
   {
    "duration": 161,
    "start_time": "2023-02-19T15:04:04.490Z"
   },
   {
    "duration": 979,
    "start_time": "2023-02-19T15:04:04.654Z"
   },
   {
    "duration": 6,
    "start_time": "2023-02-19T15:04:05.635Z"
   },
   {
    "duration": 1767,
    "start_time": "2023-02-19T15:04:05.642Z"
   },
   {
    "duration": 0,
    "start_time": "2023-02-19T15:04:07.411Z"
   },
   {
    "duration": 0,
    "start_time": "2023-02-19T15:04:07.413Z"
   },
   {
    "duration": 0,
    "start_time": "2023-02-19T15:04:07.414Z"
   },
   {
    "duration": 0,
    "start_time": "2023-02-19T15:04:07.415Z"
   },
   {
    "duration": 0,
    "start_time": "2023-02-19T15:04:07.416Z"
   },
   {
    "duration": 0,
    "start_time": "2023-02-19T15:04:07.418Z"
   },
   {
    "duration": 0,
    "start_time": "2023-02-19T15:04:07.419Z"
   },
   {
    "duration": 0,
    "start_time": "2023-02-19T15:04:07.420Z"
   },
   {
    "duration": 0,
    "start_time": "2023-02-19T15:04:07.421Z"
   },
   {
    "duration": 1,
    "start_time": "2023-02-19T15:04:07.422Z"
   },
   {
    "duration": 0,
    "start_time": "2023-02-19T15:04:07.424Z"
   },
   {
    "duration": 0,
    "start_time": "2023-02-19T15:04:07.426Z"
   },
   {
    "duration": 0,
    "start_time": "2023-02-19T15:04:07.427Z"
   },
   {
    "duration": 0,
    "start_time": "2023-02-19T15:04:07.428Z"
   },
   {
    "duration": 0,
    "start_time": "2023-02-19T15:04:07.430Z"
   },
   {
    "duration": 0,
    "start_time": "2023-02-19T15:04:07.431Z"
   },
   {
    "duration": 0,
    "start_time": "2023-02-19T15:04:07.432Z"
   },
   {
    "duration": 0,
    "start_time": "2023-02-19T15:04:07.433Z"
   },
   {
    "duration": 0,
    "start_time": "2023-02-19T15:04:07.434Z"
   },
   {
    "duration": 10,
    "start_time": "2023-02-19T15:04:12.883Z"
   },
   {
    "duration": 4,
    "start_time": "2023-02-19T15:04:24.922Z"
   },
   {
    "duration": 5,
    "start_time": "2023-02-19T15:04:24.928Z"
   },
   {
    "duration": 788,
    "start_time": "2023-02-19T15:04:24.935Z"
   },
   {
    "duration": 126,
    "start_time": "2023-02-19T15:04:25.725Z"
   },
   {
    "duration": 892,
    "start_time": "2023-02-19T15:04:25.853Z"
   },
   {
    "duration": 6,
    "start_time": "2023-02-19T15:04:26.747Z"
   },
   {
    "duration": 888,
    "start_time": "2023-02-19T15:04:26.755Z"
   },
   {
    "duration": 0,
    "start_time": "2023-02-19T15:04:27.645Z"
   },
   {
    "duration": 0,
    "start_time": "2023-02-19T15:04:27.647Z"
   },
   {
    "duration": 0,
    "start_time": "2023-02-19T15:04:27.648Z"
   },
   {
    "duration": 0,
    "start_time": "2023-02-19T15:04:27.650Z"
   },
   {
    "duration": 0,
    "start_time": "2023-02-19T15:04:27.651Z"
   },
   {
    "duration": 0,
    "start_time": "2023-02-19T15:04:27.653Z"
   },
   {
    "duration": 0,
    "start_time": "2023-02-19T15:04:27.654Z"
   },
   {
    "duration": 0,
    "start_time": "2023-02-19T15:04:27.655Z"
   },
   {
    "duration": 0,
    "start_time": "2023-02-19T15:04:27.656Z"
   },
   {
    "duration": 0,
    "start_time": "2023-02-19T15:04:27.657Z"
   },
   {
    "duration": 0,
    "start_time": "2023-02-19T15:04:27.658Z"
   },
   {
    "duration": 0,
    "start_time": "2023-02-19T15:04:27.659Z"
   },
   {
    "duration": 0,
    "start_time": "2023-02-19T15:04:27.660Z"
   },
   {
    "duration": 0,
    "start_time": "2023-02-19T15:04:27.661Z"
   },
   {
    "duration": 0,
    "start_time": "2023-02-19T15:04:27.662Z"
   },
   {
    "duration": 0,
    "start_time": "2023-02-19T15:04:27.664Z"
   },
   {
    "duration": 0,
    "start_time": "2023-02-19T15:04:27.665Z"
   },
   {
    "duration": 0,
    "start_time": "2023-02-19T15:04:27.666Z"
   },
   {
    "duration": 52,
    "start_time": "2023-02-19T15:04:45.456Z"
   },
   {
    "duration": 852,
    "start_time": "2023-02-19T15:05:13.783Z"
   },
   {
    "duration": 803,
    "start_time": "2023-02-19T15:05:19.803Z"
   },
   {
    "duration": 101,
    "start_time": "2023-02-19T15:05:24.973Z"
   },
   {
    "duration": 1348,
    "start_time": "2023-02-19T15:05:35.528Z"
   },
   {
    "duration": 194,
    "start_time": "2023-02-19T15:05:41.403Z"
   },
   {
    "duration": 29,
    "start_time": "2023-02-19T15:05:44.973Z"
   },
   {
    "duration": 383,
    "start_time": "2023-02-19T15:06:16.880Z"
   },
   {
    "duration": 29,
    "start_time": "2023-02-19T15:06:23.840Z"
   },
   {
    "duration": 115,
    "start_time": "2023-02-19T15:06:30.429Z"
   },
   {
    "duration": 313,
    "start_time": "2023-02-19T15:07:12.709Z"
   },
   {
    "duration": 1897,
    "start_time": "2023-02-19T15:07:34.423Z"
   },
   {
    "duration": 3,
    "start_time": "2023-02-19T15:07:36.322Z"
   },
   {
    "duration": 1278,
    "start_time": "2023-02-19T15:07:36.326Z"
   },
   {
    "duration": 145,
    "start_time": "2023-02-19T15:07:37.605Z"
   },
   {
    "duration": 1337,
    "start_time": "2023-02-19T15:07:37.753Z"
   },
   {
    "duration": 6,
    "start_time": "2023-02-19T15:07:39.104Z"
   },
   {
    "duration": 220,
    "start_time": "2023-02-19T15:07:39.112Z"
   },
   {
    "duration": 38,
    "start_time": "2023-02-19T15:07:39.334Z"
   },
   {
    "duration": 36,
    "start_time": "2023-02-19T15:07:39.374Z"
   },
   {
    "duration": 46,
    "start_time": "2023-02-19T15:07:39.411Z"
   },
   {
    "duration": 1194,
    "start_time": "2023-02-19T15:07:39.459Z"
   },
   {
    "duration": 0,
    "start_time": "2023-02-19T15:07:40.655Z"
   },
   {
    "duration": 0,
    "start_time": "2023-02-19T15:07:40.657Z"
   },
   {
    "duration": 0,
    "start_time": "2023-02-19T15:07:40.658Z"
   },
   {
    "duration": 0,
    "start_time": "2023-02-19T15:07:40.659Z"
   },
   {
    "duration": 0,
    "start_time": "2023-02-19T15:07:40.660Z"
   },
   {
    "duration": 0,
    "start_time": "2023-02-19T15:07:40.662Z"
   },
   {
    "duration": 0,
    "start_time": "2023-02-19T15:07:40.663Z"
   },
   {
    "duration": 0,
    "start_time": "2023-02-19T15:07:40.664Z"
   },
   {
    "duration": 0,
    "start_time": "2023-02-19T15:07:40.666Z"
   },
   {
    "duration": 0,
    "start_time": "2023-02-19T15:07:40.703Z"
   },
   {
    "duration": 0,
    "start_time": "2023-02-19T15:07:40.705Z"
   },
   {
    "duration": 0,
    "start_time": "2023-02-19T15:07:40.706Z"
   },
   {
    "duration": 0,
    "start_time": "2023-02-19T15:07:40.707Z"
   },
   {
    "duration": 0,
    "start_time": "2023-02-19T15:07:40.708Z"
   },
   {
    "duration": 4,
    "start_time": "2023-02-19T15:07:52.257Z"
   },
   {
    "duration": 245,
    "start_time": "2023-02-19T15:08:14.776Z"
   },
   {
    "duration": 189,
    "start_time": "2023-02-19T15:08:20.649Z"
   },
   {
    "duration": 225,
    "start_time": "2023-02-19T15:08:28.039Z"
   },
   {
    "duration": 206,
    "start_time": "2023-02-19T15:08:31.515Z"
   },
   {
    "duration": 29,
    "start_time": "2023-02-19T15:08:33.425Z"
   },
   {
    "duration": 1757,
    "start_time": "2023-02-19T15:08:35.122Z"
   },
   {
    "duration": 30,
    "start_time": "2023-02-19T15:08:38.984Z"
   },
   {
    "duration": 466,
    "start_time": "2023-02-19T15:08:41.951Z"
   },
   {
    "duration": 328,
    "start_time": "2023-02-19T15:08:44.888Z"
   },
   {
    "duration": 23,
    "start_time": "2023-02-19T15:08:50.145Z"
   },
   {
    "duration": 6336,
    "start_time": "2023-02-19T15:08:55.273Z"
   },
   {
    "duration": 773,
    "start_time": "2023-02-19T15:09:01.659Z"
   },
   {
    "duration": 4,
    "start_time": "2023-02-19T15:09:04.755Z"
   },
   {
    "duration": 5,
    "start_time": "2023-02-19T15:09:07.831Z"
   },
   {
    "duration": 6,
    "start_time": "2023-02-19T15:09:10.817Z"
   },
   {
    "duration": 379257,
    "start_time": "2023-02-19T15:09:14.157Z"
   },
   {
    "duration": 7,
    "start_time": "2023-02-19T15:16:16.357Z"
   }
  ],
  "kernelspec": {
   "display_name": "Python 3 (ipykernel)",
   "language": "python",
   "name": "python3"
  },
  "language_info": {
   "codemirror_mode": {
    "name": "ipython",
    "version": 3
   },
   "file_extension": ".py",
   "mimetype": "text/x-python",
   "name": "python",
   "nbconvert_exporter": "python",
   "pygments_lexer": "ipython3",
   "version": "3.9.5"
  },
  "toc": {
   "base_numbering": 1,
   "nav_menu": {},
   "number_sections": true,
   "sideBar": true,
   "skip_h1_title": true,
   "title_cell": "Table of Contents",
   "title_sidebar": "Contents",
   "toc_cell": false,
   "toc_position": {},
   "toc_section_display": true,
   "toc_window_display": false
  }
 },
 "nbformat": 4,
 "nbformat_minor": 2
}
