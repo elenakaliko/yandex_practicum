{
 "cells": [
  {
   "cell_type": "markdown",
   "metadata": {},
   "source": [
    "# Анализ прибыльности двух тарифов\n",
    "Клиентам предлагают два тарифных плана: «Смарт» и «Ультра». Чтобы скорректировать рекламный бюджет, коммерческий департамент хочет понять, какой тариф приносит больше денег. <br>\n",
    "Необходимо проанализировать поведение клиентов и сделать вывод — какой тариф лучше, а так же проанализировать гипотезы:\n",
    "- средняя выручка пользователей тарифов «Ультра» и «Смарт» различаются;\n",
    "- средняя выручка пользователей из Москвы отличается от выручки пользователей из других регионов."
   ]
  },
  {
   "cell_type": "markdown",
   "metadata": {},
   "source": [
    "## Изучение данных "
   ]
  },
  {
   "cell_type": "code",
   "execution_count": 1,
   "metadata": {},
   "outputs": [],
   "source": [
    "# импорт библиотек\n",
    "import pandas as pd\n",
    "import matplotlib.pyplot as plt\n",
    "import math\n",
    "import numpy as np\n",
    "from scipy import stats as st"
   ]
  },
  {
   "cell_type": "code",
   "execution_count": 2,
   "metadata": {},
   "outputs": [],
   "source": [
    "# константы проекта\n",
    "date_format = '%Y-%m-%d'"
   ]
  },
  {
   "cell_type": "code",
   "execution_count": 3,
   "metadata": {},
   "outputs": [
    {
     "name": "stdout",
     "output_type": "stream",
     "text": [
      "<class 'pandas.core.frame.DataFrame'>\n",
      "RangeIndex: 202607 entries, 0 to 202606\n",
      "Data columns (total 4 columns):\n",
      " #   Column     Non-Null Count   Dtype  \n",
      "---  ------     --------------   -----  \n",
      " 0   id         202607 non-null  object \n",
      " 1   call_date  202607 non-null  object \n",
      " 2   duration   202607 non-null  float64\n",
      " 3   user_id    202607 non-null  int64  \n",
      "dtypes: float64(1), int64(1), object(2)\n",
      "memory usage: 6.2+ MB\n"
     ]
    },
    {
     "data": {
      "text/html": [
       "<div>\n",
       "<style scoped>\n",
       "    .dataframe tbody tr th:only-of-type {\n",
       "        vertical-align: middle;\n",
       "    }\n",
       "\n",
       "    .dataframe tbody tr th {\n",
       "        vertical-align: top;\n",
       "    }\n",
       "\n",
       "    .dataframe thead th {\n",
       "        text-align: right;\n",
       "    }\n",
       "</style>\n",
       "<table border=\"1\" class=\"dataframe\">\n",
       "  <thead>\n",
       "    <tr style=\"text-align: right;\">\n",
       "      <th></th>\n",
       "      <th>id</th>\n",
       "      <th>call_date</th>\n",
       "      <th>duration</th>\n",
       "      <th>user_id</th>\n",
       "    </tr>\n",
       "  </thead>\n",
       "  <tbody>\n",
       "    <tr>\n",
       "      <th>0</th>\n",
       "      <td>1000_0</td>\n",
       "      <td>2018-07-25</td>\n",
       "      <td>0.00</td>\n",
       "      <td>1000</td>\n",
       "    </tr>\n",
       "    <tr>\n",
       "      <th>1</th>\n",
       "      <td>1000_1</td>\n",
       "      <td>2018-08-17</td>\n",
       "      <td>0.00</td>\n",
       "      <td>1000</td>\n",
       "    </tr>\n",
       "    <tr>\n",
       "      <th>2</th>\n",
       "      <td>1000_2</td>\n",
       "      <td>2018-06-11</td>\n",
       "      <td>2.85</td>\n",
       "      <td>1000</td>\n",
       "    </tr>\n",
       "    <tr>\n",
       "      <th>3</th>\n",
       "      <td>1000_3</td>\n",
       "      <td>2018-09-21</td>\n",
       "      <td>13.80</td>\n",
       "      <td>1000</td>\n",
       "    </tr>\n",
       "    <tr>\n",
       "      <th>4</th>\n",
       "      <td>1000_4</td>\n",
       "      <td>2018-12-15</td>\n",
       "      <td>5.18</td>\n",
       "      <td>1000</td>\n",
       "    </tr>\n",
       "  </tbody>\n",
       "</table>\n",
       "</div>"
      ],
      "text/plain": [
       "       id   call_date  duration  user_id\n",
       "0  1000_0  2018-07-25      0.00     1000\n",
       "1  1000_1  2018-08-17      0.00     1000\n",
       "2  1000_2  2018-06-11      2.85     1000\n",
       "3  1000_3  2018-09-21     13.80     1000\n",
       "4  1000_4  2018-12-15      5.18     1000"
      ]
     },
     "metadata": {},
     "output_type": "display_data"
    },
    {
     "name": "stdout",
     "output_type": "stream",
     "text": [
      "<class 'pandas.core.frame.DataFrame'>\n",
      "RangeIndex: 149396 entries, 0 to 149395\n",
      "Data columns (total 5 columns):\n",
      " #   Column        Non-Null Count   Dtype  \n",
      "---  ------        --------------   -----  \n",
      " 0   Unnamed: 0    149396 non-null  int64  \n",
      " 1   id            149396 non-null  object \n",
      " 2   mb_used       149396 non-null  float64\n",
      " 3   session_date  149396 non-null  object \n",
      " 4   user_id       149396 non-null  int64  \n",
      "dtypes: float64(1), int64(2), object(2)\n",
      "memory usage: 5.7+ MB\n"
     ]
    },
    {
     "data": {
      "text/html": [
       "<div>\n",
       "<style scoped>\n",
       "    .dataframe tbody tr th:only-of-type {\n",
       "        vertical-align: middle;\n",
       "    }\n",
       "\n",
       "    .dataframe tbody tr th {\n",
       "        vertical-align: top;\n",
       "    }\n",
       "\n",
       "    .dataframe thead th {\n",
       "        text-align: right;\n",
       "    }\n",
       "</style>\n",
       "<table border=\"1\" class=\"dataframe\">\n",
       "  <thead>\n",
       "    <tr style=\"text-align: right;\">\n",
       "      <th></th>\n",
       "      <th>Unnamed: 0</th>\n",
       "      <th>id</th>\n",
       "      <th>mb_used</th>\n",
       "      <th>session_date</th>\n",
       "      <th>user_id</th>\n",
       "    </tr>\n",
       "  </thead>\n",
       "  <tbody>\n",
       "    <tr>\n",
       "      <th>0</th>\n",
       "      <td>0</td>\n",
       "      <td>1000_0</td>\n",
       "      <td>112.95</td>\n",
       "      <td>2018-11-25</td>\n",
       "      <td>1000</td>\n",
       "    </tr>\n",
       "    <tr>\n",
       "      <th>1</th>\n",
       "      <td>1</td>\n",
       "      <td>1000_1</td>\n",
       "      <td>1052.81</td>\n",
       "      <td>2018-09-07</td>\n",
       "      <td>1000</td>\n",
       "    </tr>\n",
       "    <tr>\n",
       "      <th>2</th>\n",
       "      <td>2</td>\n",
       "      <td>1000_2</td>\n",
       "      <td>1197.26</td>\n",
       "      <td>2018-06-25</td>\n",
       "      <td>1000</td>\n",
       "    </tr>\n",
       "    <tr>\n",
       "      <th>3</th>\n",
       "      <td>3</td>\n",
       "      <td>1000_3</td>\n",
       "      <td>550.27</td>\n",
       "      <td>2018-08-22</td>\n",
       "      <td>1000</td>\n",
       "    </tr>\n",
       "    <tr>\n",
       "      <th>4</th>\n",
       "      <td>4</td>\n",
       "      <td>1000_4</td>\n",
       "      <td>302.56</td>\n",
       "      <td>2018-09-24</td>\n",
       "      <td>1000</td>\n",
       "    </tr>\n",
       "  </tbody>\n",
       "</table>\n",
       "</div>"
      ],
      "text/plain": [
       "   Unnamed: 0      id  mb_used session_date  user_id\n",
       "0           0  1000_0   112.95   2018-11-25     1000\n",
       "1           1  1000_1  1052.81   2018-09-07     1000\n",
       "2           2  1000_2  1197.26   2018-06-25     1000\n",
       "3           3  1000_3   550.27   2018-08-22     1000\n",
       "4           4  1000_4   302.56   2018-09-24     1000"
      ]
     },
     "metadata": {},
     "output_type": "display_data"
    },
    {
     "name": "stdout",
     "output_type": "stream",
     "text": [
      "<class 'pandas.core.frame.DataFrame'>\n",
      "RangeIndex: 123036 entries, 0 to 123035\n",
      "Data columns (total 3 columns):\n",
      " #   Column        Non-Null Count   Dtype \n",
      "---  ------        --------------   ----- \n",
      " 0   id            123036 non-null  object\n",
      " 1   message_date  123036 non-null  object\n",
      " 2   user_id       123036 non-null  int64 \n",
      "dtypes: int64(1), object(2)\n",
      "memory usage: 2.8+ MB\n"
     ]
    },
    {
     "data": {
      "text/html": [
       "<div>\n",
       "<style scoped>\n",
       "    .dataframe tbody tr th:only-of-type {\n",
       "        vertical-align: middle;\n",
       "    }\n",
       "\n",
       "    .dataframe tbody tr th {\n",
       "        vertical-align: top;\n",
       "    }\n",
       "\n",
       "    .dataframe thead th {\n",
       "        text-align: right;\n",
       "    }\n",
       "</style>\n",
       "<table border=\"1\" class=\"dataframe\">\n",
       "  <thead>\n",
       "    <tr style=\"text-align: right;\">\n",
       "      <th></th>\n",
       "      <th>id</th>\n",
       "      <th>message_date</th>\n",
       "      <th>user_id</th>\n",
       "    </tr>\n",
       "  </thead>\n",
       "  <tbody>\n",
       "    <tr>\n",
       "      <th>0</th>\n",
       "      <td>1000_0</td>\n",
       "      <td>2018-06-27</td>\n",
       "      <td>1000</td>\n",
       "    </tr>\n",
       "    <tr>\n",
       "      <th>1</th>\n",
       "      <td>1000_1</td>\n",
       "      <td>2018-10-08</td>\n",
       "      <td>1000</td>\n",
       "    </tr>\n",
       "    <tr>\n",
       "      <th>2</th>\n",
       "      <td>1000_2</td>\n",
       "      <td>2018-08-04</td>\n",
       "      <td>1000</td>\n",
       "    </tr>\n",
       "    <tr>\n",
       "      <th>3</th>\n",
       "      <td>1000_3</td>\n",
       "      <td>2018-06-16</td>\n",
       "      <td>1000</td>\n",
       "    </tr>\n",
       "    <tr>\n",
       "      <th>4</th>\n",
       "      <td>1000_4</td>\n",
       "      <td>2018-12-05</td>\n",
       "      <td>1000</td>\n",
       "    </tr>\n",
       "  </tbody>\n",
       "</table>\n",
       "</div>"
      ],
      "text/plain": [
       "       id message_date  user_id\n",
       "0  1000_0   2018-06-27     1000\n",
       "1  1000_1   2018-10-08     1000\n",
       "2  1000_2   2018-08-04     1000\n",
       "3  1000_3   2018-06-16     1000\n",
       "4  1000_4   2018-12-05     1000"
      ]
     },
     "metadata": {},
     "output_type": "display_data"
    },
    {
     "name": "stdout",
     "output_type": "stream",
     "text": [
      "<class 'pandas.core.frame.DataFrame'>\n",
      "RangeIndex: 2 entries, 0 to 1\n",
      "Data columns (total 8 columns):\n",
      " #   Column                 Non-Null Count  Dtype \n",
      "---  ------                 --------------  ----- \n",
      " 0   messages_included      2 non-null      int64 \n",
      " 1   mb_per_month_included  2 non-null      int64 \n",
      " 2   minutes_included       2 non-null      int64 \n",
      " 3   rub_monthly_fee        2 non-null      int64 \n",
      " 4   rub_per_gb             2 non-null      int64 \n",
      " 5   rub_per_message        2 non-null      int64 \n",
      " 6   rub_per_minute         2 non-null      int64 \n",
      " 7   tariff_name            2 non-null      object\n",
      "dtypes: int64(7), object(1)\n",
      "memory usage: 256.0+ bytes\n"
     ]
    },
    {
     "data": {
      "text/html": [
       "<div>\n",
       "<style scoped>\n",
       "    .dataframe tbody tr th:only-of-type {\n",
       "        vertical-align: middle;\n",
       "    }\n",
       "\n",
       "    .dataframe tbody tr th {\n",
       "        vertical-align: top;\n",
       "    }\n",
       "\n",
       "    .dataframe thead th {\n",
       "        text-align: right;\n",
       "    }\n",
       "</style>\n",
       "<table border=\"1\" class=\"dataframe\">\n",
       "  <thead>\n",
       "    <tr style=\"text-align: right;\">\n",
       "      <th></th>\n",
       "      <th>messages_included</th>\n",
       "      <th>mb_per_month_included</th>\n",
       "      <th>minutes_included</th>\n",
       "      <th>rub_monthly_fee</th>\n",
       "      <th>rub_per_gb</th>\n",
       "      <th>rub_per_message</th>\n",
       "      <th>rub_per_minute</th>\n",
       "      <th>tariff_name</th>\n",
       "    </tr>\n",
       "  </thead>\n",
       "  <tbody>\n",
       "    <tr>\n",
       "      <th>0</th>\n",
       "      <td>50</td>\n",
       "      <td>15360</td>\n",
       "      <td>500</td>\n",
       "      <td>550</td>\n",
       "      <td>200</td>\n",
       "      <td>3</td>\n",
       "      <td>3</td>\n",
       "      <td>smart</td>\n",
       "    </tr>\n",
       "    <tr>\n",
       "      <th>1</th>\n",
       "      <td>1000</td>\n",
       "      <td>30720</td>\n",
       "      <td>3000</td>\n",
       "      <td>1950</td>\n",
       "      <td>150</td>\n",
       "      <td>1</td>\n",
       "      <td>1</td>\n",
       "      <td>ultra</td>\n",
       "    </tr>\n",
       "  </tbody>\n",
       "</table>\n",
       "</div>"
      ],
      "text/plain": [
       "   messages_included  mb_per_month_included  minutes_included  \\\n",
       "0                 50                  15360               500   \n",
       "1               1000                  30720              3000   \n",
       "\n",
       "   rub_monthly_fee  rub_per_gb  rub_per_message  rub_per_minute tariff_name  \n",
       "0              550         200                3               3       smart  \n",
       "1             1950         150                1               1       ultra  "
      ]
     },
     "metadata": {},
     "output_type": "display_data"
    },
    {
     "name": "stdout",
     "output_type": "stream",
     "text": [
      "<class 'pandas.core.frame.DataFrame'>\n",
      "RangeIndex: 500 entries, 0 to 499\n",
      "Data columns (total 8 columns):\n",
      " #   Column      Non-Null Count  Dtype \n",
      "---  ------      --------------  ----- \n",
      " 0   user_id     500 non-null    int64 \n",
      " 1   age         500 non-null    int64 \n",
      " 2   churn_date  38 non-null     object\n",
      " 3   city        500 non-null    object\n",
      " 4   first_name  500 non-null    object\n",
      " 5   last_name   500 non-null    object\n",
      " 6   reg_date    500 non-null    object\n",
      " 7   tariff      500 non-null    object\n",
      "dtypes: int64(2), object(6)\n",
      "memory usage: 31.4+ KB\n"
     ]
    },
    {
     "data": {
      "text/html": [
       "<div>\n",
       "<style scoped>\n",
       "    .dataframe tbody tr th:only-of-type {\n",
       "        vertical-align: middle;\n",
       "    }\n",
       "\n",
       "    .dataframe tbody tr th {\n",
       "        vertical-align: top;\n",
       "    }\n",
       "\n",
       "    .dataframe thead th {\n",
       "        text-align: right;\n",
       "    }\n",
       "</style>\n",
       "<table border=\"1\" class=\"dataframe\">\n",
       "  <thead>\n",
       "    <tr style=\"text-align: right;\">\n",
       "      <th></th>\n",
       "      <th>user_id</th>\n",
       "      <th>age</th>\n",
       "      <th>churn_date</th>\n",
       "      <th>city</th>\n",
       "      <th>first_name</th>\n",
       "      <th>last_name</th>\n",
       "      <th>reg_date</th>\n",
       "      <th>tariff</th>\n",
       "    </tr>\n",
       "  </thead>\n",
       "  <tbody>\n",
       "    <tr>\n",
       "      <th>0</th>\n",
       "      <td>1000</td>\n",
       "      <td>52</td>\n",
       "      <td>NaN</td>\n",
       "      <td>Краснодар</td>\n",
       "      <td>Рафаил</td>\n",
       "      <td>Верещагин</td>\n",
       "      <td>2018-05-25</td>\n",
       "      <td>ultra</td>\n",
       "    </tr>\n",
       "    <tr>\n",
       "      <th>1</th>\n",
       "      <td>1001</td>\n",
       "      <td>41</td>\n",
       "      <td>NaN</td>\n",
       "      <td>Москва</td>\n",
       "      <td>Иван</td>\n",
       "      <td>Ежов</td>\n",
       "      <td>2018-11-01</td>\n",
       "      <td>smart</td>\n",
       "    </tr>\n",
       "    <tr>\n",
       "      <th>2</th>\n",
       "      <td>1002</td>\n",
       "      <td>59</td>\n",
       "      <td>NaN</td>\n",
       "      <td>Стерлитамак</td>\n",
       "      <td>Евгений</td>\n",
       "      <td>Абрамович</td>\n",
       "      <td>2018-06-17</td>\n",
       "      <td>smart</td>\n",
       "    </tr>\n",
       "    <tr>\n",
       "      <th>3</th>\n",
       "      <td>1003</td>\n",
       "      <td>23</td>\n",
       "      <td>NaN</td>\n",
       "      <td>Москва</td>\n",
       "      <td>Белла</td>\n",
       "      <td>Белякова</td>\n",
       "      <td>2018-08-17</td>\n",
       "      <td>ultra</td>\n",
       "    </tr>\n",
       "    <tr>\n",
       "      <th>4</th>\n",
       "      <td>1004</td>\n",
       "      <td>68</td>\n",
       "      <td>NaN</td>\n",
       "      <td>Новокузнецк</td>\n",
       "      <td>Татьяна</td>\n",
       "      <td>Авдеенко</td>\n",
       "      <td>2018-05-14</td>\n",
       "      <td>ultra</td>\n",
       "    </tr>\n",
       "  </tbody>\n",
       "</table>\n",
       "</div>"
      ],
      "text/plain": [
       "   user_id  age churn_date         city first_name  last_name    reg_date  \\\n",
       "0     1000   52        NaN    Краснодар     Рафаил  Верещагин  2018-05-25   \n",
       "1     1001   41        NaN       Москва       Иван       Ежов  2018-11-01   \n",
       "2     1002   59        NaN  Стерлитамак    Евгений  Абрамович  2018-06-17   \n",
       "3     1003   23        NaN       Москва      Белла   Белякова  2018-08-17   \n",
       "4     1004   68        NaN  Новокузнецк    Татьяна   Авдеенко  2018-05-14   \n",
       "\n",
       "  tariff  \n",
       "0  ultra  \n",
       "1  smart  \n",
       "2  smart  \n",
       "3  ultra  \n",
       "4  ultra  "
      ]
     },
     "metadata": {},
     "output_type": "display_data"
    }
   ],
   "source": [
    "# чтение файлов\n",
    "calls = pd.read_csv('/datasets/calls.csv')\n",
    "internet = pd.read_csv('/datasets/internet.csv')\n",
    "messages = pd.read_csv('/datasets/messages.csv')\n",
    "tariffs = pd.read_csv('/datasets/tariffs.csv')\n",
    "users = pd.read_csv('/datasets/users.csv')\n",
    "# информация о таблицах\n",
    "calls.info()\n",
    "display(calls.head())\n",
    "internet.info()\n",
    "display(internet.head())\n",
    "messages.info()\n",
    "display(messages.head())\n",
    "tariffs.info()\n",
    "display(tariffs)\n",
    "users.info()\n",
    "display(users.head())"
   ]
  },
  {
   "cell_type": "markdown",
   "metadata": {},
   "source": [
    "Предварительный анализ данных не выявил пропусков и null'овых значений в таблицах. Типы данных вполне корректны, за исключением столбцов с датой, которые следует перевести в тип datetime."
   ]
  },
  {
   "cell_type": "code",
   "execution_count": 4,
   "metadata": {},
   "outputs": [],
   "source": [
    "calls['call_date'] = pd.to_datetime(calls['call_date'], format = date_format)\n",
    "internet['session_date'] = pd.to_datetime(internet['session_date'], format = date_format)\n",
    "messages['message_date'] = pd.to_datetime(messages['message_date'], format = date_format)\n",
    "users['churn_date'] = pd.to_datetime(users['churn_date'], format = date_format)\n"
   ]
  },
  {
   "cell_type": "code",
   "execution_count": 5,
   "metadata": {
    "scrolled": true
   },
   "outputs": [
    {
     "data": {
      "text/plain": [
       "0"
      ]
     },
     "execution_count": 5,
     "metadata": {},
     "output_type": "execute_result"
    }
   ],
   "source": [
    "# проверим на дубликаты\n",
    "calls.duplicated().sum()\n",
    "messages.duplicated().sum()\n",
    "internet.duplicated().sum()"
   ]
  },
  {
   "cell_type": "markdown",
   "metadata": {},
   "source": [
    "Анализ на дубликаты так же не выявил никаких аномалий и повторений."
   ]
  },
  {
   "cell_type": "markdown",
   "metadata": {},
   "source": [
    "## Предобработка данных и составление новых таблиц"
   ]
  },
  {
   "cell_type": "markdown",
   "metadata": {},
   "source": [
    "По условиям тарификации длительность звонков всегда округляется в большую сторону. В таблице calls необходимо создать дополнительный столбец с продолжительностью звонков для тарификации - округлением  до целого в большую сторону."
   ]
  },
  {
   "cell_type": "code",
   "execution_count": 6,
   "metadata": {},
   "outputs": [
    {
     "data": {
      "text/html": [
       "<div>\n",
       "<style scoped>\n",
       "    .dataframe tbody tr th:only-of-type {\n",
       "        vertical-align: middle;\n",
       "    }\n",
       "\n",
       "    .dataframe tbody tr th {\n",
       "        vertical-align: top;\n",
       "    }\n",
       "\n",
       "    .dataframe thead th {\n",
       "        text-align: right;\n",
       "    }\n",
       "</style>\n",
       "<table border=\"1\" class=\"dataframe\">\n",
       "  <thead>\n",
       "    <tr style=\"text-align: right;\">\n",
       "      <th></th>\n",
       "      <th>id</th>\n",
       "      <th>call_date</th>\n",
       "      <th>duration</th>\n",
       "      <th>user_id</th>\n",
       "      <th>tarif_duration</th>\n",
       "    </tr>\n",
       "  </thead>\n",
       "  <tbody>\n",
       "    <tr>\n",
       "      <th>0</th>\n",
       "      <td>1000_0</td>\n",
       "      <td>2018-07-25</td>\n",
       "      <td>0.00</td>\n",
       "      <td>1000</td>\n",
       "      <td>0</td>\n",
       "    </tr>\n",
       "    <tr>\n",
       "      <th>1</th>\n",
       "      <td>1000_1</td>\n",
       "      <td>2018-08-17</td>\n",
       "      <td>0.00</td>\n",
       "      <td>1000</td>\n",
       "      <td>0</td>\n",
       "    </tr>\n",
       "    <tr>\n",
       "      <th>2</th>\n",
       "      <td>1000_2</td>\n",
       "      <td>2018-06-11</td>\n",
       "      <td>2.85</td>\n",
       "      <td>1000</td>\n",
       "      <td>3</td>\n",
       "    </tr>\n",
       "    <tr>\n",
       "      <th>3</th>\n",
       "      <td>1000_3</td>\n",
       "      <td>2018-09-21</td>\n",
       "      <td>13.80</td>\n",
       "      <td>1000</td>\n",
       "      <td>14</td>\n",
       "    </tr>\n",
       "    <tr>\n",
       "      <th>4</th>\n",
       "      <td>1000_4</td>\n",
       "      <td>2018-12-15</td>\n",
       "      <td>5.18</td>\n",
       "      <td>1000</td>\n",
       "      <td>6</td>\n",
       "    </tr>\n",
       "  </tbody>\n",
       "</table>\n",
       "</div>"
      ],
      "text/plain": [
       "       id  call_date  duration  user_id  tarif_duration\n",
       "0  1000_0 2018-07-25      0.00     1000               0\n",
       "1  1000_1 2018-08-17      0.00     1000               0\n",
       "2  1000_2 2018-06-11      2.85     1000               3\n",
       "3  1000_3 2018-09-21     13.80     1000              14\n",
       "4  1000_4 2018-12-15      5.18     1000               6"
      ]
     },
     "metadata": {},
     "output_type": "display_data"
    }
   ],
   "source": [
    "calls['tarif_duration'] = np.ceil(calls['duration'])\n",
    "calls['tarif_duration'] = calls['tarif_duration'].astype('int')\n",
    "display(calls.head())"
   ]
  },
  {
   "cell_type": "markdown",
   "metadata": {},
   "source": [
    "Поскольку мы будем собирать статистику по месяцам, нам необходимо в каждой таблице извлечь номер месяца."
   ]
  },
  {
   "cell_type": "code",
   "execution_count": 7,
   "metadata": {},
   "outputs": [
    {
     "data": {
      "text/plain": [
       "smart    351\n",
       "ultra    149\n",
       "Name: tariff, dtype: int64"
      ]
     },
     "execution_count": 7,
     "metadata": {},
     "output_type": "execute_result"
    }
   ],
   "source": [
    "calls['month'] = pd.DatetimeIndex(calls['call_date']).month\n",
    "internet['month'] = pd.DatetimeIndex(internet['session_date']).month\n",
    "messages['month'] = pd.DatetimeIndex(messages['message_date']).month\n",
    "users['reg_month'] = pd.DatetimeIndex(users['reg_date']).month\n",
    "users['exit_month'] = pd.DatetimeIndex(users['churn_date']).month\n",
    "users = users.fillna(0)\n",
    "users['tariff'].value_counts()\n"
   ]
  },
  {
   "cell_type": "code",
   "execution_count": 8,
   "metadata": {},
   "outputs": [
    {
     "data": {
      "text/html": [
       "<div>\n",
       "<style scoped>\n",
       "    .dataframe tbody tr th:only-of-type {\n",
       "        vertical-align: middle;\n",
       "    }\n",
       "\n",
       "    .dataframe tbody tr th {\n",
       "        vertical-align: top;\n",
       "    }\n",
       "\n",
       "    .dataframe thead th {\n",
       "        text-align: right;\n",
       "    }\n",
       "</style>\n",
       "<table border=\"1\" class=\"dataframe\">\n",
       "  <thead>\n",
       "    <tr style=\"text-align: right;\">\n",
       "      <th>month</th>\n",
       "      <th>1</th>\n",
       "      <th>2</th>\n",
       "      <th>3</th>\n",
       "      <th>4</th>\n",
       "      <th>5</th>\n",
       "      <th>6</th>\n",
       "      <th>7</th>\n",
       "      <th>8</th>\n",
       "      <th>9</th>\n",
       "      <th>10</th>\n",
       "      <th>11</th>\n",
       "      <th>12</th>\n",
       "    </tr>\n",
       "    <tr>\n",
       "      <th>user_id</th>\n",
       "      <th></th>\n",
       "      <th></th>\n",
       "      <th></th>\n",
       "      <th></th>\n",
       "      <th></th>\n",
       "      <th></th>\n",
       "      <th></th>\n",
       "      <th></th>\n",
       "      <th></th>\n",
       "      <th></th>\n",
       "      <th></th>\n",
       "      <th></th>\n",
       "    </tr>\n",
       "  </thead>\n",
       "  <tbody>\n",
       "    <tr>\n",
       "      <th>1000</th>\n",
       "      <td>0</td>\n",
       "      <td>0</td>\n",
       "      <td>0</td>\n",
       "      <td>0</td>\n",
       "      <td>159</td>\n",
       "      <td>172</td>\n",
       "      <td>340</td>\n",
       "      <td>408</td>\n",
       "      <td>466</td>\n",
       "      <td>350</td>\n",
       "      <td>338</td>\n",
       "      <td>333</td>\n",
       "    </tr>\n",
       "    <tr>\n",
       "      <th>1001</th>\n",
       "      <td>0</td>\n",
       "      <td>0</td>\n",
       "      <td>0</td>\n",
       "      <td>0</td>\n",
       "      <td>0</td>\n",
       "      <td>0</td>\n",
       "      <td>0</td>\n",
       "      <td>0</td>\n",
       "      <td>0</td>\n",
       "      <td>0</td>\n",
       "      <td>430</td>\n",
       "      <td>414</td>\n",
       "    </tr>\n",
       "    <tr>\n",
       "      <th>1002</th>\n",
       "      <td>0</td>\n",
       "      <td>0</td>\n",
       "      <td>0</td>\n",
       "      <td>0</td>\n",
       "      <td>0</td>\n",
       "      <td>117</td>\n",
       "      <td>214</td>\n",
       "      <td>289</td>\n",
       "      <td>206</td>\n",
       "      <td>212</td>\n",
       "      <td>243</td>\n",
       "      <td>236</td>\n",
       "    </tr>\n",
       "    <tr>\n",
       "      <th>1003</th>\n",
       "      <td>0</td>\n",
       "      <td>0</td>\n",
       "      <td>0</td>\n",
       "      <td>0</td>\n",
       "      <td>0</td>\n",
       "      <td>0</td>\n",
       "      <td>0</td>\n",
       "      <td>380</td>\n",
       "      <td>961</td>\n",
       "      <td>855</td>\n",
       "      <td>824</td>\n",
       "      <td>802</td>\n",
       "    </tr>\n",
       "    <tr>\n",
       "      <th>1004</th>\n",
       "      <td>0</td>\n",
       "      <td>0</td>\n",
       "      <td>0</td>\n",
       "      <td>0</td>\n",
       "      <td>35</td>\n",
       "      <td>171</td>\n",
       "      <td>135</td>\n",
       "      <td>137</td>\n",
       "      <td>117</td>\n",
       "      <td>145</td>\n",
       "      <td>117</td>\n",
       "      <td>130</td>\n",
       "    </tr>\n",
       "  </tbody>\n",
       "</table>\n",
       "</div>"
      ],
      "text/plain": [
       "month    1   2   3   4    5    6    7    8    9    10   11   12\n",
       "user_id                                                        \n",
       "1000      0   0   0   0  159  172  340  408  466  350  338  333\n",
       "1001      0   0   0   0    0    0    0    0    0    0  430  414\n",
       "1002      0   0   0   0    0  117  214  289  206  212  243  236\n",
       "1003      0   0   0   0    0    0    0  380  961  855  824  802\n",
       "1004      0   0   0   0   35  171  135  137  117  145  117  130"
      ]
     },
     "metadata": {},
     "output_type": "display_data"
    },
    {
     "data": {
      "text/html": [
       "<div>\n",
       "<style scoped>\n",
       "    .dataframe tbody tr th:only-of-type {\n",
       "        vertical-align: middle;\n",
       "    }\n",
       "\n",
       "    .dataframe tbody tr th {\n",
       "        vertical-align: top;\n",
       "    }\n",
       "\n",
       "    .dataframe thead th {\n",
       "        text-align: right;\n",
       "    }\n",
       "</style>\n",
       "<table border=\"1\" class=\"dataframe\">\n",
       "  <thead>\n",
       "    <tr style=\"text-align: right;\">\n",
       "      <th>month</th>\n",
       "      <th>1</th>\n",
       "      <th>2</th>\n",
       "      <th>3</th>\n",
       "      <th>4</th>\n",
       "      <th>5</th>\n",
       "      <th>6</th>\n",
       "      <th>7</th>\n",
       "      <th>8</th>\n",
       "      <th>9</th>\n",
       "      <th>10</th>\n",
       "      <th>11</th>\n",
       "      <th>12</th>\n",
       "      <th>av_minutes</th>\n",
       "    </tr>\n",
       "    <tr>\n",
       "      <th>user_id</th>\n",
       "      <th></th>\n",
       "      <th></th>\n",
       "      <th></th>\n",
       "      <th></th>\n",
       "      <th></th>\n",
       "      <th></th>\n",
       "      <th></th>\n",
       "      <th></th>\n",
       "      <th></th>\n",
       "      <th></th>\n",
       "      <th></th>\n",
       "      <th></th>\n",
       "      <th></th>\n",
       "    </tr>\n",
       "  </thead>\n",
       "  <tbody>\n",
       "    <tr>\n",
       "      <th>1000</th>\n",
       "      <td>0</td>\n",
       "      <td>0</td>\n",
       "      <td>0</td>\n",
       "      <td>0</td>\n",
       "      <td>159</td>\n",
       "      <td>172</td>\n",
       "      <td>340</td>\n",
       "      <td>408</td>\n",
       "      <td>466</td>\n",
       "      <td>350</td>\n",
       "      <td>338</td>\n",
       "      <td>333</td>\n",
       "      <td>320.750000</td>\n",
       "    </tr>\n",
       "    <tr>\n",
       "      <th>1001</th>\n",
       "      <td>0</td>\n",
       "      <td>0</td>\n",
       "      <td>0</td>\n",
       "      <td>0</td>\n",
       "      <td>0</td>\n",
       "      <td>0</td>\n",
       "      <td>0</td>\n",
       "      <td>0</td>\n",
       "      <td>0</td>\n",
       "      <td>0</td>\n",
       "      <td>430</td>\n",
       "      <td>414</td>\n",
       "      <td>422.000000</td>\n",
       "    </tr>\n",
       "    <tr>\n",
       "      <th>1002</th>\n",
       "      <td>0</td>\n",
       "      <td>0</td>\n",
       "      <td>0</td>\n",
       "      <td>0</td>\n",
       "      <td>0</td>\n",
       "      <td>117</td>\n",
       "      <td>214</td>\n",
       "      <td>289</td>\n",
       "      <td>206</td>\n",
       "      <td>212</td>\n",
       "      <td>243</td>\n",
       "      <td>236</td>\n",
       "      <td>216.714286</td>\n",
       "    </tr>\n",
       "    <tr>\n",
       "      <th>1003</th>\n",
       "      <td>0</td>\n",
       "      <td>0</td>\n",
       "      <td>0</td>\n",
       "      <td>0</td>\n",
       "      <td>0</td>\n",
       "      <td>0</td>\n",
       "      <td>0</td>\n",
       "      <td>380</td>\n",
       "      <td>961</td>\n",
       "      <td>855</td>\n",
       "      <td>824</td>\n",
       "      <td>802</td>\n",
       "      <td>764.400000</td>\n",
       "    </tr>\n",
       "    <tr>\n",
       "      <th>1004</th>\n",
       "      <td>0</td>\n",
       "      <td>0</td>\n",
       "      <td>0</td>\n",
       "      <td>0</td>\n",
       "      <td>35</td>\n",
       "      <td>171</td>\n",
       "      <td>135</td>\n",
       "      <td>137</td>\n",
       "      <td>117</td>\n",
       "      <td>145</td>\n",
       "      <td>117</td>\n",
       "      <td>130</td>\n",
       "      <td>123.375000</td>\n",
       "    </tr>\n",
       "  </tbody>\n",
       "</table>\n",
       "</div>"
      ],
      "text/plain": [
       "month    1  2  3  4    5    6    7    8    9   10   11   12  av_minutes\n",
       "user_id                                                                \n",
       "1000     0  0  0  0  159  172  340  408  466  350  338  333  320.750000\n",
       "1001     0  0  0  0    0    0    0    0    0    0  430  414  422.000000\n",
       "1002     0  0  0  0    0  117  214  289  206  212  243  236  216.714286\n",
       "1003     0  0  0  0    0    0    0  380  961  855  824  802  764.400000\n",
       "1004     0  0  0  0   35  171  135  137  117  145  117  130  123.375000"
      ]
     },
     "execution_count": 8,
     "metadata": {},
     "output_type": "execute_result"
    }
   ],
   "source": [
    "# сделаем сводные таблицы по клиентам отдельно - по звонкам, сессиям и сообщениям, и посчитаем количество тарифицируемых данных помесячно\n",
    "# по звонкам\n",
    "calls_pivot = pd.pivot_table(calls, index = 'user_id', columns ='month', values = 'tarif_duration', aggfunc = 'sum') # сводная таблица с колонками - месяцами\n",
    "calls_pivot = calls_pivot.fillna(0)   # заполнение пропусков в тех месяцах, где тариф не использовался\n",
    "calls_pivot = calls_pivot.astype(int) # приведение к целочисленному типу\n",
    "display(calls_pivot.head())\n",
    "#посчитаем среднемесячную длину звонков\n",
    "def average(line):\n",
    "    result = 0\n",
    "    sum_m =0\n",
    "    len_m = 0\n",
    "    for column in range(1, 13):\n",
    "        if line[column] != 0:\n",
    "            len_m +=1\n",
    "            sum_m += line[column]\n",
    "    try:\n",
    "        result = sum_m/len_m\n",
    "    except:\n",
    "        0\n",
    "    return result       \n",
    "\n",
    "calls_pivot['av_minutes'] = calls_pivot.apply(average, axis =1)\n",
    "\n",
    "calls_pivot.head()"
   ]
  },
  {
   "cell_type": "code",
   "execution_count": 9,
   "metadata": {},
   "outputs": [
    {
     "data": {
      "text/html": [
       "<div>\n",
       "<style scoped>\n",
       "    .dataframe tbody tr th:only-of-type {\n",
       "        vertical-align: middle;\n",
       "    }\n",
       "\n",
       "    .dataframe tbody tr th {\n",
       "        vertical-align: top;\n",
       "    }\n",
       "\n",
       "    .dataframe thead th {\n",
       "        text-align: right;\n",
       "    }\n",
       "</style>\n",
       "<table border=\"1\" class=\"dataframe\">\n",
       "  <thead>\n",
       "    <tr style=\"text-align: right;\">\n",
       "      <th>month</th>\n",
       "      <th>1</th>\n",
       "      <th>2</th>\n",
       "      <th>3</th>\n",
       "      <th>4</th>\n",
       "      <th>5</th>\n",
       "      <th>6</th>\n",
       "      <th>7</th>\n",
       "      <th>8</th>\n",
       "      <th>9</th>\n",
       "      <th>10</th>\n",
       "      <th>11</th>\n",
       "      <th>12</th>\n",
       "      <th>av_traffic</th>\n",
       "    </tr>\n",
       "    <tr>\n",
       "      <th>user_id</th>\n",
       "      <th></th>\n",
       "      <th></th>\n",
       "      <th></th>\n",
       "      <th></th>\n",
       "      <th></th>\n",
       "      <th></th>\n",
       "      <th></th>\n",
       "      <th></th>\n",
       "      <th></th>\n",
       "      <th></th>\n",
       "      <th></th>\n",
       "      <th></th>\n",
       "      <th></th>\n",
       "    </tr>\n",
       "  </thead>\n",
       "  <tbody>\n",
       "    <tr>\n",
       "      <th>1000</th>\n",
       "      <td>0.0</td>\n",
       "      <td>0.0</td>\n",
       "      <td>0.0</td>\n",
       "      <td>0.0</td>\n",
       "      <td>2253.49</td>\n",
       "      <td>23233.77</td>\n",
       "      <td>14003.64</td>\n",
       "      <td>14055.93</td>\n",
       "      <td>14568.91</td>\n",
       "      <td>14702.49</td>\n",
       "      <td>14756.47</td>\n",
       "      <td>9817.61</td>\n",
       "      <td>13424.038750</td>\n",
       "    </tr>\n",
       "    <tr>\n",
       "      <th>1001</th>\n",
       "      <td>0.0</td>\n",
       "      <td>0.0</td>\n",
       "      <td>0.0</td>\n",
       "      <td>0.0</td>\n",
       "      <td>0.00</td>\n",
       "      <td>0.00</td>\n",
       "      <td>0.00</td>\n",
       "      <td>0.00</td>\n",
       "      <td>0.00</td>\n",
       "      <td>0.00</td>\n",
       "      <td>18429.34</td>\n",
       "      <td>14036.66</td>\n",
       "      <td>16233.000000</td>\n",
       "    </tr>\n",
       "    <tr>\n",
       "      <th>1002</th>\n",
       "      <td>0.0</td>\n",
       "      <td>0.0</td>\n",
       "      <td>0.0</td>\n",
       "      <td>0.0</td>\n",
       "      <td>0.00</td>\n",
       "      <td>10856.82</td>\n",
       "      <td>17580.10</td>\n",
       "      <td>20319.26</td>\n",
       "      <td>16691.08</td>\n",
       "      <td>13888.25</td>\n",
       "      <td>18587.28</td>\n",
       "      <td>18113.73</td>\n",
       "      <td>16576.645714</td>\n",
       "    </tr>\n",
       "    <tr>\n",
       "      <th>1003</th>\n",
       "      <td>0.0</td>\n",
       "      <td>0.0</td>\n",
       "      <td>0.0</td>\n",
       "      <td>0.0</td>\n",
       "      <td>0.00</td>\n",
       "      <td>0.00</td>\n",
       "      <td>0.00</td>\n",
       "      <td>8565.21</td>\n",
       "      <td>12468.87</td>\n",
       "      <td>14768.14</td>\n",
       "      <td>11356.89</td>\n",
       "      <td>10121.53</td>\n",
       "      <td>11456.128000</td>\n",
       "    </tr>\n",
       "    <tr>\n",
       "      <th>1004</th>\n",
       "      <td>0.0</td>\n",
       "      <td>0.0</td>\n",
       "      <td>0.0</td>\n",
       "      <td>0.0</td>\n",
       "      <td>13403.98</td>\n",
       "      <td>17600.02</td>\n",
       "      <td>22229.58</td>\n",
       "      <td>28584.37</td>\n",
       "      <td>15109.03</td>\n",
       "      <td>18475.44</td>\n",
       "      <td>15616.02</td>\n",
       "      <td>18021.04</td>\n",
       "      <td>18629.935000</td>\n",
       "    </tr>\n",
       "  </tbody>\n",
       "</table>\n",
       "</div>"
      ],
      "text/plain": [
       "month      1    2    3    4         5         6         7         8         9  \\\n",
       "user_id                                                                         \n",
       "1000     0.0  0.0  0.0  0.0   2253.49  23233.77  14003.64  14055.93  14568.91   \n",
       "1001     0.0  0.0  0.0  0.0      0.00      0.00      0.00      0.00      0.00   \n",
       "1002     0.0  0.0  0.0  0.0      0.00  10856.82  17580.10  20319.26  16691.08   \n",
       "1003     0.0  0.0  0.0  0.0      0.00      0.00      0.00   8565.21  12468.87   \n",
       "1004     0.0  0.0  0.0  0.0  13403.98  17600.02  22229.58  28584.37  15109.03   \n",
       "\n",
       "month          10        11        12    av_traffic  \n",
       "user_id                                              \n",
       "1000     14702.49  14756.47   9817.61  13424.038750  \n",
       "1001         0.00  18429.34  14036.66  16233.000000  \n",
       "1002     13888.25  18587.28  18113.73  16576.645714  \n",
       "1003     14768.14  11356.89  10121.53  11456.128000  \n",
       "1004     18475.44  15616.02  18021.04  18629.935000  "
      ]
     },
     "metadata": {},
     "output_type": "display_data"
    }
   ],
   "source": [
    "# по интернет-сессиям\n",
    "internet_pivot = pd.pivot_table(internet, index = 'user_id', columns = 'month', values = 'mb_used', aggfunc = 'sum')\n",
    "internet_pivot = internet_pivot.fillna(0)\n",
    "internet_pivot['av_traffic'] = internet_pivot.apply(average, axis =1)\n",
    "display(internet_pivot.head())"
   ]
  },
  {
   "cell_type": "code",
   "execution_count": 10,
   "metadata": {},
   "outputs": [
    {
     "data": {
      "text/html": [
       "<div>\n",
       "<style scoped>\n",
       "    .dataframe tbody tr th:only-of-type {\n",
       "        vertical-align: middle;\n",
       "    }\n",
       "\n",
       "    .dataframe tbody tr th {\n",
       "        vertical-align: top;\n",
       "    }\n",
       "\n",
       "    .dataframe thead th {\n",
       "        text-align: right;\n",
       "    }\n",
       "</style>\n",
       "<table border=\"1\" class=\"dataframe\">\n",
       "  <thead>\n",
       "    <tr style=\"text-align: right;\">\n",
       "      <th>month</th>\n",
       "      <th>1</th>\n",
       "      <th>2</th>\n",
       "      <th>3</th>\n",
       "      <th>4</th>\n",
       "      <th>5</th>\n",
       "      <th>6</th>\n",
       "      <th>7</th>\n",
       "      <th>8</th>\n",
       "      <th>9</th>\n",
       "      <th>10</th>\n",
       "      <th>11</th>\n",
       "      <th>12</th>\n",
       "      <th>av_messages</th>\n",
       "    </tr>\n",
       "    <tr>\n",
       "      <th>user_id</th>\n",
       "      <th></th>\n",
       "      <th></th>\n",
       "      <th></th>\n",
       "      <th></th>\n",
       "      <th></th>\n",
       "      <th></th>\n",
       "      <th></th>\n",
       "      <th></th>\n",
       "      <th></th>\n",
       "      <th></th>\n",
       "      <th></th>\n",
       "      <th></th>\n",
       "      <th></th>\n",
       "    </tr>\n",
       "  </thead>\n",
       "  <tbody>\n",
       "    <tr>\n",
       "      <th>1000</th>\n",
       "      <td>0</td>\n",
       "      <td>0</td>\n",
       "      <td>0</td>\n",
       "      <td>0</td>\n",
       "      <td>22</td>\n",
       "      <td>60</td>\n",
       "      <td>75</td>\n",
       "      <td>81</td>\n",
       "      <td>57</td>\n",
       "      <td>73</td>\n",
       "      <td>58</td>\n",
       "      <td>70</td>\n",
       "      <td>62.0</td>\n",
       "    </tr>\n",
       "    <tr>\n",
       "      <th>1002</th>\n",
       "      <td>0</td>\n",
       "      <td>0</td>\n",
       "      <td>0</td>\n",
       "      <td>0</td>\n",
       "      <td>0</td>\n",
       "      <td>4</td>\n",
       "      <td>11</td>\n",
       "      <td>13</td>\n",
       "      <td>4</td>\n",
       "      <td>10</td>\n",
       "      <td>16</td>\n",
       "      <td>12</td>\n",
       "      <td>10.0</td>\n",
       "    </tr>\n",
       "    <tr>\n",
       "      <th>1003</th>\n",
       "      <td>0</td>\n",
       "      <td>0</td>\n",
       "      <td>0</td>\n",
       "      <td>0</td>\n",
       "      <td>0</td>\n",
       "      <td>0</td>\n",
       "      <td>0</td>\n",
       "      <td>37</td>\n",
       "      <td>91</td>\n",
       "      <td>83</td>\n",
       "      <td>94</td>\n",
       "      <td>75</td>\n",
       "      <td>76.0</td>\n",
       "    </tr>\n",
       "    <tr>\n",
       "      <th>1004</th>\n",
       "      <td>0</td>\n",
       "      <td>0</td>\n",
       "      <td>0</td>\n",
       "      <td>0</td>\n",
       "      <td>95</td>\n",
       "      <td>134</td>\n",
       "      <td>181</td>\n",
       "      <td>151</td>\n",
       "      <td>146</td>\n",
       "      <td>165</td>\n",
       "      <td>158</td>\n",
       "      <td>162</td>\n",
       "      <td>149.0</td>\n",
       "    </tr>\n",
       "    <tr>\n",
       "      <th>1005</th>\n",
       "      <td>7</td>\n",
       "      <td>38</td>\n",
       "      <td>56</td>\n",
       "      <td>41</td>\n",
       "      <td>42</td>\n",
       "      <td>47</td>\n",
       "      <td>56</td>\n",
       "      <td>64</td>\n",
       "      <td>52</td>\n",
       "      <td>44</td>\n",
       "      <td>51</td>\n",
       "      <td>54</td>\n",
       "      <td>46.0</td>\n",
       "    </tr>\n",
       "  </tbody>\n",
       "</table>\n",
       "</div>"
      ],
      "text/plain": [
       "month    1   2   3   4   5    6    7    8    9   10   11   12  av_messages\n",
       "user_id                                                                   \n",
       "1000     0   0   0   0  22   60   75   81   57   73   58   70         62.0\n",
       "1002     0   0   0   0   0    4   11   13    4   10   16   12         10.0\n",
       "1003     0   0   0   0   0    0    0   37   91   83   94   75         76.0\n",
       "1004     0   0   0   0  95  134  181  151  146  165  158  162        149.0\n",
       "1005     7  38  56  41  42   47   56   64   52   44   51   54         46.0"
      ]
     },
     "metadata": {},
     "output_type": "display_data"
    }
   ],
   "source": [
    "# по сообщениям\n",
    "messages_pivot = pd.pivot_table(messages, index = 'user_id', columns ='month', values = 'id', aggfunc = 'count')\n",
    "messages_pivot = messages_pivot.fillna(0)\n",
    "messages_pivot = messages_pivot.astype(int)\n",
    "messages_pivot['av_messages'] = messages_pivot.apply(average, axis = 1)\n",
    "display(messages_pivot.head())"
   ]
  },
  {
   "cell_type": "markdown",
   "metadata": {},
   "source": [
    "Для дальнейшего исследования нам необходимо рассчитать по каждому клиенту, сколько выручки он принес компании в каждом месяце. Это можно сделать несколькими способами по следующей формуле: <br>\n",
    "**абонентская плата + цена за минуту разговора х кол-во минут сверх пакета + цена за Гб х кол-во Гб сверх пакета + цена за sms х кол-во sms сверх пакета**. <br>\n",
    "Расчет делается помесячно, принимая во внимание, что: <br>\n",
    "- расчеты ведутся по календарным месяцам, а не отсчитывая от даты регистрации контракта,\n",
    "- в месяц подключения тарифа абонентская плата списывается сразу,\n",
    "- в месяц, когда контракт заканчивается, абонентская плата не списывается. <br>\n",
    "Эти гипотезы принимаются как данность, и, безусловно, являются некоторым упрощением и создают погрешность в вычислениях. Но для нашего анализа такая неточность вполне допустима и не влияет на финальные результаты и выводы."
   ]
  },
  {
   "cell_type": "code",
   "execution_count": 11,
   "metadata": {
    "scrolled": false
   },
   "outputs": [
    {
     "data": {
      "text/html": [
       "<div>\n",
       "<style scoped>\n",
       "    .dataframe tbody tr th:only-of-type {\n",
       "        vertical-align: middle;\n",
       "    }\n",
       "\n",
       "    .dataframe tbody tr th {\n",
       "        vertical-align: top;\n",
       "    }\n",
       "\n",
       "    .dataframe thead th {\n",
       "        text-align: right;\n",
       "    }\n",
       "</style>\n",
       "<table border=\"1\" class=\"dataframe\">\n",
       "  <thead>\n",
       "    <tr style=\"text-align: right;\">\n",
       "      <th></th>\n",
       "      <th>user_id</th>\n",
       "      <th>1</th>\n",
       "      <th>2</th>\n",
       "      <th>3</th>\n",
       "      <th>4</th>\n",
       "      <th>5</th>\n",
       "      <th>6</th>\n",
       "      <th>7</th>\n",
       "      <th>8</th>\n",
       "      <th>9</th>\n",
       "      <th>10</th>\n",
       "      <th>11</th>\n",
       "      <th>12</th>\n",
       "      <th>tariff</th>\n",
       "      <th>exit_month</th>\n",
       "      <th>tariff_name</th>\n",
       "      <th>minutes_included</th>\n",
       "      <th>rub_monthly_fee</th>\n",
       "      <th>rub_per_minute</th>\n",
       "    </tr>\n",
       "    <tr>\n",
       "      <th>user_id</th>\n",
       "      <th></th>\n",
       "      <th></th>\n",
       "      <th></th>\n",
       "      <th></th>\n",
       "      <th></th>\n",
       "      <th></th>\n",
       "      <th></th>\n",
       "      <th></th>\n",
       "      <th></th>\n",
       "      <th></th>\n",
       "      <th></th>\n",
       "      <th></th>\n",
       "      <th></th>\n",
       "      <th></th>\n",
       "      <th></th>\n",
       "      <th></th>\n",
       "      <th></th>\n",
       "      <th></th>\n",
       "      <th></th>\n",
       "    </tr>\n",
       "  </thead>\n",
       "  <tbody>\n",
       "    <tr>\n",
       "      <th>1000</th>\n",
       "      <td>1000</td>\n",
       "      <td>0</td>\n",
       "      <td>0</td>\n",
       "      <td>0</td>\n",
       "      <td>0</td>\n",
       "      <td>0</td>\n",
       "      <td>0</td>\n",
       "      <td>0</td>\n",
       "      <td>0</td>\n",
       "      <td>0</td>\n",
       "      <td>0</td>\n",
       "      <td>0</td>\n",
       "      <td>0</td>\n",
       "      <td>ultra</td>\n",
       "      <td>0.0</td>\n",
       "      <td>ultra</td>\n",
       "      <td>3000</td>\n",
       "      <td>1950</td>\n",
       "      <td>1</td>\n",
       "    </tr>\n",
       "    <tr>\n",
       "      <th>1003</th>\n",
       "      <td>1003</td>\n",
       "      <td>0</td>\n",
       "      <td>0</td>\n",
       "      <td>0</td>\n",
       "      <td>0</td>\n",
       "      <td>0</td>\n",
       "      <td>0</td>\n",
       "      <td>0</td>\n",
       "      <td>0</td>\n",
       "      <td>0</td>\n",
       "      <td>0</td>\n",
       "      <td>0</td>\n",
       "      <td>0</td>\n",
       "      <td>ultra</td>\n",
       "      <td>0.0</td>\n",
       "      <td>ultra</td>\n",
       "      <td>3000</td>\n",
       "      <td>1950</td>\n",
       "      <td>1</td>\n",
       "    </tr>\n",
       "    <tr>\n",
       "      <th>1004</th>\n",
       "      <td>1004</td>\n",
       "      <td>0</td>\n",
       "      <td>0</td>\n",
       "      <td>0</td>\n",
       "      <td>0</td>\n",
       "      <td>0</td>\n",
       "      <td>0</td>\n",
       "      <td>0</td>\n",
       "      <td>0</td>\n",
       "      <td>0</td>\n",
       "      <td>0</td>\n",
       "      <td>0</td>\n",
       "      <td>0</td>\n",
       "      <td>ultra</td>\n",
       "      <td>0.0</td>\n",
       "      <td>ultra</td>\n",
       "      <td>3000</td>\n",
       "      <td>1950</td>\n",
       "      <td>1</td>\n",
       "    </tr>\n",
       "    <tr>\n",
       "      <th>1013</th>\n",
       "      <td>1013</td>\n",
       "      <td>0</td>\n",
       "      <td>0</td>\n",
       "      <td>0</td>\n",
       "      <td>0</td>\n",
       "      <td>0</td>\n",
       "      <td>0</td>\n",
       "      <td>0</td>\n",
       "      <td>0</td>\n",
       "      <td>0</td>\n",
       "      <td>0</td>\n",
       "      <td>0</td>\n",
       "      <td>0</td>\n",
       "      <td>ultra</td>\n",
       "      <td>0.0</td>\n",
       "      <td>ultra</td>\n",
       "      <td>3000</td>\n",
       "      <td>1950</td>\n",
       "      <td>1</td>\n",
       "    </tr>\n",
       "    <tr>\n",
       "      <th>1016</th>\n",
       "      <td>1016</td>\n",
       "      <td>0</td>\n",
       "      <td>0</td>\n",
       "      <td>0</td>\n",
       "      <td>0</td>\n",
       "      <td>0</td>\n",
       "      <td>0</td>\n",
       "      <td>0</td>\n",
       "      <td>0</td>\n",
       "      <td>0</td>\n",
       "      <td>0</td>\n",
       "      <td>0</td>\n",
       "      <td>0</td>\n",
       "      <td>ultra</td>\n",
       "      <td>0.0</td>\n",
       "      <td>ultra</td>\n",
       "      <td>3000</td>\n",
       "      <td>1950</td>\n",
       "      <td>1</td>\n",
       "    </tr>\n",
       "  </tbody>\n",
       "</table>\n",
       "</div>"
      ],
      "text/plain": [
       "         user_id  1  2  3  4  5  6  7  8  9  10  11  12 tariff  exit_month  \\\n",
       "user_id                                                                      \n",
       "1000        1000  0  0  0  0  0  0  0  0  0   0   0   0  ultra         0.0   \n",
       "1003        1003  0  0  0  0  0  0  0  0  0   0   0   0  ultra         0.0   \n",
       "1004        1004  0  0  0  0  0  0  0  0  0   0   0   0  ultra         0.0   \n",
       "1013        1013  0  0  0  0  0  0  0  0  0   0   0   0  ultra         0.0   \n",
       "1016        1016  0  0  0  0  0  0  0  0  0   0   0   0  ultra         0.0   \n",
       "\n",
       "        tariff_name  minutes_included  rub_monthly_fee  rub_per_minute  \n",
       "user_id                                                                 \n",
       "1000          ultra              3000             1950               1  \n",
       "1003          ultra              3000             1950               1  \n",
       "1004          ultra              3000             1950               1  \n",
       "1013          ultra              3000             1950               1  \n",
       "1016          ultra              3000             1950               1  "
      ]
     },
     "metadata": {},
     "output_type": "display_data"
    }
   ],
   "source": [
    "# для расчета выручки и прибыли по каждому клиенту необходимо создать отдельные таблицы с доходами по каждому виду деятельности\n",
    "# по звонкам\n",
    "calls_revenue = calls.pivot_table(index = 'user_id', columns ='month', values = 'tarif_duration', aggfunc = 'sum') #соберем заново статистику звонков по каждому юзеру\n",
    "calls_revenue = calls_revenue.fillna(0)\n",
    "calls_revenue = calls_revenue.astype('int') # приведем к целочисленному типу\n",
    "calls_revenue = pd.merge(calls_revenue, users[['user_id', 'tariff', 'exit_month']], left_on = 'user_id', right_on = 'user_id') # добавим информацию по тарифу каждого юзера и (ниже) детали по нему\n",
    "calls_revenue = pd.merge(calls_revenue, tariffs[['tariff_name', 'minutes_included', 'rub_monthly_fee', 'rub_per_minute']], left_on = 'tariff', right_on = 'tariff_name')\n",
    "calls_revenue.reset_index(drop = True, inplace = True)\n",
    "for column in range(1,13):   # в столбце с порядковым номером месяца вычислим товарооборот от звонков по юзеру (не включая плату за тариф)\n",
    "    calls_revenue[column] = (calls_revenue[column] - calls_revenue['minutes_included'])*calls_revenue['rub_per_minute']\n",
    "    calls_revenue[column] = calls_revenue[column].apply(lambda x: x if x>0 else 0)\n",
    "calls_revenue.set_index(calls_revenue['user_id'], inplace = True)\n",
    "display(calls_revenue.head())"
   ]
  },
  {
   "cell_type": "code",
   "execution_count": 12,
   "metadata": {
    "scrolled": true
   },
   "outputs": [
    {
     "data": {
      "text/html": [
       "<div>\n",
       "<style scoped>\n",
       "    .dataframe tbody tr th:only-of-type {\n",
       "        vertical-align: middle;\n",
       "    }\n",
       "\n",
       "    .dataframe tbody tr th {\n",
       "        vertical-align: top;\n",
       "    }\n",
       "\n",
       "    .dataframe thead th {\n",
       "        text-align: right;\n",
       "    }\n",
       "</style>\n",
       "<table border=\"1\" class=\"dataframe\">\n",
       "  <thead>\n",
       "    <tr style=\"text-align: right;\">\n",
       "      <th></th>\n",
       "      <th>1</th>\n",
       "      <th>2</th>\n",
       "      <th>3</th>\n",
       "      <th>4</th>\n",
       "      <th>5</th>\n",
       "      <th>6</th>\n",
       "      <th>7</th>\n",
       "      <th>8</th>\n",
       "      <th>9</th>\n",
       "      <th>10</th>\n",
       "      <th>11</th>\n",
       "      <th>12</th>\n",
       "      <th>av_traffic</th>\n",
       "      <th>user_id</th>\n",
       "      <th>tariff</th>\n",
       "      <th>exit_month</th>\n",
       "      <th>tariff_name</th>\n",
       "      <th>mb_per_month_included</th>\n",
       "      <th>rub_per_gb</th>\n",
       "      <th>rub_monthly_fee</th>\n",
       "    </tr>\n",
       "    <tr>\n",
       "      <th>user_id</th>\n",
       "      <th></th>\n",
       "      <th></th>\n",
       "      <th></th>\n",
       "      <th></th>\n",
       "      <th></th>\n",
       "      <th></th>\n",
       "      <th></th>\n",
       "      <th></th>\n",
       "      <th></th>\n",
       "      <th></th>\n",
       "      <th></th>\n",
       "      <th></th>\n",
       "      <th></th>\n",
       "      <th></th>\n",
       "      <th></th>\n",
       "      <th></th>\n",
       "      <th></th>\n",
       "      <th></th>\n",
       "      <th></th>\n",
       "      <th></th>\n",
       "    </tr>\n",
       "  </thead>\n",
       "  <tbody>\n",
       "    <tr>\n",
       "      <th>1000</th>\n",
       "      <td>0.0</td>\n",
       "      <td>0.0</td>\n",
       "      <td>0.0</td>\n",
       "      <td>0.0</td>\n",
       "      <td>0.0</td>\n",
       "      <td>0.0</td>\n",
       "      <td>0.0</td>\n",
       "      <td>0.0</td>\n",
       "      <td>0.0</td>\n",
       "      <td>0.0</td>\n",
       "      <td>0.0</td>\n",
       "      <td>0.0</td>\n",
       "      <td>13424.038750</td>\n",
       "      <td>1000</td>\n",
       "      <td>ultra</td>\n",
       "      <td>0.0</td>\n",
       "      <td>ultra</td>\n",
       "      <td>30720</td>\n",
       "      <td>150</td>\n",
       "      <td>1950</td>\n",
       "    </tr>\n",
       "    <tr>\n",
       "      <th>1001</th>\n",
       "      <td>0.0</td>\n",
       "      <td>0.0</td>\n",
       "      <td>0.0</td>\n",
       "      <td>0.0</td>\n",
       "      <td>0.0</td>\n",
       "      <td>0.0</td>\n",
       "      <td>0.0</td>\n",
       "      <td>0.0</td>\n",
       "      <td>0.0</td>\n",
       "      <td>0.0</td>\n",
       "      <td>600.0</td>\n",
       "      <td>0.0</td>\n",
       "      <td>16233.000000</td>\n",
       "      <td>1001</td>\n",
       "      <td>smart</td>\n",
       "      <td>0.0</td>\n",
       "      <td>smart</td>\n",
       "      <td>15360</td>\n",
       "      <td>200</td>\n",
       "      <td>550</td>\n",
       "    </tr>\n",
       "    <tr>\n",
       "      <th>1002</th>\n",
       "      <td>0.0</td>\n",
       "      <td>0.0</td>\n",
       "      <td>0.0</td>\n",
       "      <td>0.0</td>\n",
       "      <td>0.0</td>\n",
       "      <td>0.0</td>\n",
       "      <td>600.0</td>\n",
       "      <td>1000.0</td>\n",
       "      <td>400.0</td>\n",
       "      <td>0.0</td>\n",
       "      <td>800.0</td>\n",
       "      <td>600.0</td>\n",
       "      <td>16576.645714</td>\n",
       "      <td>1002</td>\n",
       "      <td>smart</td>\n",
       "      <td>0.0</td>\n",
       "      <td>smart</td>\n",
       "      <td>15360</td>\n",
       "      <td>200</td>\n",
       "      <td>550</td>\n",
       "    </tr>\n",
       "    <tr>\n",
       "      <th>1003</th>\n",
       "      <td>0.0</td>\n",
       "      <td>0.0</td>\n",
       "      <td>0.0</td>\n",
       "      <td>0.0</td>\n",
       "      <td>0.0</td>\n",
       "      <td>0.0</td>\n",
       "      <td>0.0</td>\n",
       "      <td>0.0</td>\n",
       "      <td>0.0</td>\n",
       "      <td>0.0</td>\n",
       "      <td>0.0</td>\n",
       "      <td>0.0</td>\n",
       "      <td>11456.128000</td>\n",
       "      <td>1003</td>\n",
       "      <td>ultra</td>\n",
       "      <td>0.0</td>\n",
       "      <td>ultra</td>\n",
       "      <td>30720</td>\n",
       "      <td>150</td>\n",
       "      <td>1950</td>\n",
       "    </tr>\n",
       "    <tr>\n",
       "      <th>1004</th>\n",
       "      <td>0.0</td>\n",
       "      <td>0.0</td>\n",
       "      <td>0.0</td>\n",
       "      <td>0.0</td>\n",
       "      <td>0.0</td>\n",
       "      <td>0.0</td>\n",
       "      <td>0.0</td>\n",
       "      <td>0.0</td>\n",
       "      <td>0.0</td>\n",
       "      <td>0.0</td>\n",
       "      <td>0.0</td>\n",
       "      <td>0.0</td>\n",
       "      <td>18629.935000</td>\n",
       "      <td>1004</td>\n",
       "      <td>ultra</td>\n",
       "      <td>0.0</td>\n",
       "      <td>ultra</td>\n",
       "      <td>30720</td>\n",
       "      <td>150</td>\n",
       "      <td>1950</td>\n",
       "    </tr>\n",
       "  </tbody>\n",
       "</table>\n",
       "</div>"
      ],
      "text/plain": [
       "           1    2    3    4    5    6      7       8      9   10     11  \\\n",
       "user_id                                                                   \n",
       "1000     0.0  0.0  0.0  0.0  0.0  0.0    0.0     0.0    0.0  0.0    0.0   \n",
       "1001     0.0  0.0  0.0  0.0  0.0  0.0    0.0     0.0    0.0  0.0  600.0   \n",
       "1002     0.0  0.0  0.0  0.0  0.0  0.0  600.0  1000.0  400.0  0.0  800.0   \n",
       "1003     0.0  0.0  0.0  0.0  0.0  0.0    0.0     0.0    0.0  0.0    0.0   \n",
       "1004     0.0  0.0  0.0  0.0  0.0  0.0    0.0     0.0    0.0  0.0    0.0   \n",
       "\n",
       "            12    av_traffic  user_id tariff  exit_month tariff_name  \\\n",
       "user_id                                                                \n",
       "1000       0.0  13424.038750     1000  ultra         0.0       ultra   \n",
       "1001       0.0  16233.000000     1001  smart         0.0       smart   \n",
       "1002     600.0  16576.645714     1002  smart         0.0       smart   \n",
       "1003       0.0  11456.128000     1003  ultra         0.0       ultra   \n",
       "1004       0.0  18629.935000     1004  ultra         0.0       ultra   \n",
       "\n",
       "         mb_per_month_included  rub_per_gb  rub_monthly_fee  \n",
       "user_id                                                      \n",
       "1000                     30720         150             1950  \n",
       "1001                     15360         200              550  \n",
       "1002                     15360         200              550  \n",
       "1003                     30720         150             1950  \n",
       "1004                     30720         150             1950  "
      ]
     },
     "execution_count": 12,
     "metadata": {},
     "output_type": "execute_result"
    }
   ],
   "source": [
    "# по потреблению трафика\n",
    "internet_revenue= pd.merge(internet_pivot, users[['user_id', 'tariff', 'exit_month']], left_index = True, right_on = 'user_id') # добавим информацию по тарифу каждого юзера и (ниже) детали по нему\n",
    "internet_revenue = pd.merge(internet_revenue, tariffs[['tariff_name', 'mb_per_month_included', 'rub_per_gb', 'rub_monthly_fee']], left_on = 'tariff', right_on = 'tariff_name').sort_values(by = 'user_id')\n",
    "internet_revenue = internet_revenue.reset_index(drop = True)\n",
    "\n",
    "for column in range(1,13):   # в столбце с порядковым номером месяца вычислим товарооборот по юзеру (не включая плату за тариф)\n",
    "    internet_revenue[column] = np.ceil((internet_revenue[column] - internet_revenue['mb_per_month_included'])/1024)*internet_revenue['rub_per_gb']\n",
    "    internet_revenue[column] = internet_revenue[column].apply(lambda x: x if x>0 else 0)\n",
    "internet_revenue.set_index(internet_revenue['user_id'], inplace = True)\n",
    "internet_revenue.head()\n"
   ]
  },
  {
   "cell_type": "code",
   "execution_count": 13,
   "metadata": {},
   "outputs": [],
   "source": [
    "# по сообщениям\n",
    "messages_revenue= pd.merge(messages_pivot, users[['user_id', 'tariff', 'exit_month']], left_index = True, right_on = 'user_id') # добавим информацию по тарифу каждого юзера и (ниже) детали по нему\n",
    "messages_revenue = pd.merge(messages_revenue, tariffs[['tariff_name', 'messages_included', 'rub_per_message', 'rub_monthly_fee']], left_on = 'tariff', right_on = 'tariff_name').sort_values(by = 'user_id')\n",
    "messages_revenue = messages_revenue.reset_index(drop = True)\n",
    "\n",
    "for column in range(1,13):   # в колонке с порядковым номером месяца вычислим товарооборот по юзеру (не включая плату за тариф)\n",
    "    messages_revenue[column] = (messages_revenue[column] - messages_revenue['messages_included'])*messages_revenue['rub_per_message']\n",
    "    messages_revenue[column] = messages_revenue[column].apply(lambda x: x if x>0 else 0)\n",
    "messages_revenue.set_index(messages_revenue['user_id'], inplace = True)\n"
   ]
  },
  {
   "cell_type": "code",
   "execution_count": 14,
   "metadata": {},
   "outputs": [
    {
     "name": "stderr",
     "output_type": "stream",
     "text": [
      "/tmp/ipykernel_224/982274075.py:4: SettingWithCopyWarning: \n",
      "A value is trying to be set on a copy of a slice from a DataFrame.\n",
      "Try using .loc[row_indexer,col_indexer] = value instead\n",
      "\n",
      "See the caveats in the documentation: https://pandas.pydata.org/pandas-docs/stable/user_guide/indexing.html#returning-a-view-versus-a-copy\n",
      "  total_revenue[i] = 0\n"
     ]
    },
    {
     "data": {
      "text/html": [
       "<div>\n",
       "<style scoped>\n",
       "    .dataframe tbody tr th:only-of-type {\n",
       "        vertical-align: middle;\n",
       "    }\n",
       "\n",
       "    .dataframe tbody tr th {\n",
       "        vertical-align: top;\n",
       "    }\n",
       "\n",
       "    .dataframe thead th {\n",
       "        text-align: right;\n",
       "    }\n",
       "</style>\n",
       "<table border=\"1\" class=\"dataframe\">\n",
       "  <thead>\n",
       "    <tr style=\"text-align: right;\">\n",
       "      <th></th>\n",
       "      <th>user_id</th>\n",
       "      <th>tariff</th>\n",
       "      <th>reg_month</th>\n",
       "      <th>exit_month</th>\n",
       "      <th>1</th>\n",
       "      <th>2</th>\n",
       "      <th>3</th>\n",
       "      <th>4</th>\n",
       "      <th>5</th>\n",
       "      <th>6</th>\n",
       "      <th>7</th>\n",
       "      <th>8</th>\n",
       "      <th>9</th>\n",
       "      <th>10</th>\n",
       "      <th>11</th>\n",
       "      <th>12</th>\n",
       "    </tr>\n",
       "    <tr>\n",
       "      <th>user_id</th>\n",
       "      <th></th>\n",
       "      <th></th>\n",
       "      <th></th>\n",
       "      <th></th>\n",
       "      <th></th>\n",
       "      <th></th>\n",
       "      <th></th>\n",
       "      <th></th>\n",
       "      <th></th>\n",
       "      <th></th>\n",
       "      <th></th>\n",
       "      <th></th>\n",
       "      <th></th>\n",
       "      <th></th>\n",
       "      <th></th>\n",
       "      <th></th>\n",
       "    </tr>\n",
       "  </thead>\n",
       "  <tbody>\n",
       "    <tr>\n",
       "      <th>1000</th>\n",
       "      <td>1000</td>\n",
       "      <td>ultra</td>\n",
       "      <td>5</td>\n",
       "      <td>0.0</td>\n",
       "      <td>0.0</td>\n",
       "      <td>0.0</td>\n",
       "      <td>0.0</td>\n",
       "      <td>0.0</td>\n",
       "      <td>1950.0</td>\n",
       "      <td>1950.0</td>\n",
       "      <td>1950.0</td>\n",
       "      <td>1950.0</td>\n",
       "      <td>1950.0</td>\n",
       "      <td>1950.0</td>\n",
       "      <td>1950.0</td>\n",
       "      <td>1950.0</td>\n",
       "    </tr>\n",
       "    <tr>\n",
       "      <th>1001</th>\n",
       "      <td>1001</td>\n",
       "      <td>smart</td>\n",
       "      <td>11</td>\n",
       "      <td>0.0</td>\n",
       "      <td>0.0</td>\n",
       "      <td>0.0</td>\n",
       "      <td>0.0</td>\n",
       "      <td>0.0</td>\n",
       "      <td>0.0</td>\n",
       "      <td>0.0</td>\n",
       "      <td>0.0</td>\n",
       "      <td>0.0</td>\n",
       "      <td>0.0</td>\n",
       "      <td>0.0</td>\n",
       "      <td>1150.0</td>\n",
       "      <td>550.0</td>\n",
       "    </tr>\n",
       "    <tr>\n",
       "      <th>1002</th>\n",
       "      <td>1002</td>\n",
       "      <td>smart</td>\n",
       "      <td>6</td>\n",
       "      <td>0.0</td>\n",
       "      <td>0.0</td>\n",
       "      <td>0.0</td>\n",
       "      <td>0.0</td>\n",
       "      <td>0.0</td>\n",
       "      <td>0.0</td>\n",
       "      <td>550.0</td>\n",
       "      <td>1150.0</td>\n",
       "      <td>1550.0</td>\n",
       "      <td>950.0</td>\n",
       "      <td>550.0</td>\n",
       "      <td>1350.0</td>\n",
       "      <td>1150.0</td>\n",
       "    </tr>\n",
       "    <tr>\n",
       "      <th>1003</th>\n",
       "      <td>1003</td>\n",
       "      <td>ultra</td>\n",
       "      <td>8</td>\n",
       "      <td>0.0</td>\n",
       "      <td>0.0</td>\n",
       "      <td>0.0</td>\n",
       "      <td>0.0</td>\n",
       "      <td>0.0</td>\n",
       "      <td>0.0</td>\n",
       "      <td>0.0</td>\n",
       "      <td>0.0</td>\n",
       "      <td>1950.0</td>\n",
       "      <td>1950.0</td>\n",
       "      <td>1950.0</td>\n",
       "      <td>1950.0</td>\n",
       "      <td>1950.0</td>\n",
       "    </tr>\n",
       "    <tr>\n",
       "      <th>1004</th>\n",
       "      <td>1004</td>\n",
       "      <td>ultra</td>\n",
       "      <td>5</td>\n",
       "      <td>0.0</td>\n",
       "      <td>0.0</td>\n",
       "      <td>0.0</td>\n",
       "      <td>0.0</td>\n",
       "      <td>0.0</td>\n",
       "      <td>1950.0</td>\n",
       "      <td>1950.0</td>\n",
       "      <td>1950.0</td>\n",
       "      <td>1950.0</td>\n",
       "      <td>1950.0</td>\n",
       "      <td>1950.0</td>\n",
       "      <td>1950.0</td>\n",
       "      <td>1950.0</td>\n",
       "    </tr>\n",
       "    <tr>\n",
       "      <th>1005</th>\n",
       "      <td>1005</td>\n",
       "      <td>smart</td>\n",
       "      <td>1</td>\n",
       "      <td>0.0</td>\n",
       "      <td>550.0</td>\n",
       "      <td>550.0</td>\n",
       "      <td>886.0</td>\n",
       "      <td>1186.0</td>\n",
       "      <td>835.0</td>\n",
       "      <td>886.0</td>\n",
       "      <td>775.0</td>\n",
       "      <td>949.0</td>\n",
       "      <td>556.0</td>\n",
       "      <td>1219.0</td>\n",
       "      <td>694.0</td>\n",
       "      <td>838.0</td>\n",
       "    </tr>\n",
       "    <tr>\n",
       "      <th>1006</th>\n",
       "      <td>1006</td>\n",
       "      <td>smart</td>\n",
       "      <td>2</td>\n",
       "      <td>0.0</td>\n",
       "      <td>0.0</td>\n",
       "      <td>550.0</td>\n",
       "      <td>950.0</td>\n",
       "      <td>550.0</td>\n",
       "      <td>550.0</td>\n",
       "      <td>550.0</td>\n",
       "      <td>1550.0</td>\n",
       "      <td>1350.0</td>\n",
       "      <td>750.0</td>\n",
       "      <td>1550.0</td>\n",
       "      <td>550.0</td>\n",
       "      <td>1350.0</td>\n",
       "    </tr>\n",
       "    <tr>\n",
       "      <th>1007</th>\n",
       "      <td>1007</td>\n",
       "      <td>smart</td>\n",
       "      <td>4</td>\n",
       "      <td>0.0</td>\n",
       "      <td>0.0</td>\n",
       "      <td>0.0</td>\n",
       "      <td>0.0</td>\n",
       "      <td>550.0</td>\n",
       "      <td>1150.0</td>\n",
       "      <td>685.0</td>\n",
       "      <td>981.0</td>\n",
       "      <td>1750.0</td>\n",
       "      <td>1015.0</td>\n",
       "      <td>550.0</td>\n",
       "      <td>990.0</td>\n",
       "      <td>550.0</td>\n",
       "    </tr>\n",
       "    <tr>\n",
       "      <th>1008</th>\n",
       "      <td>1008</td>\n",
       "      <td>smart</td>\n",
       "      <td>12</td>\n",
       "      <td>0.0</td>\n",
       "      <td>0.0</td>\n",
       "      <td>0.0</td>\n",
       "      <td>0.0</td>\n",
       "      <td>0.0</td>\n",
       "      <td>0.0</td>\n",
       "      <td>0.0</td>\n",
       "      <td>0.0</td>\n",
       "      <td>0.0</td>\n",
       "      <td>0.0</td>\n",
       "      <td>0.0</td>\n",
       "      <td>0.0</td>\n",
       "      <td>568.0</td>\n",
       "    </tr>\n",
       "    <tr>\n",
       "      <th>1009</th>\n",
       "      <td>1009</td>\n",
       "      <td>smart</td>\n",
       "      <td>3</td>\n",
       "      <td>0.0</td>\n",
       "      <td>0.0</td>\n",
       "      <td>0.0</td>\n",
       "      <td>550.0</td>\n",
       "      <td>550.0</td>\n",
       "      <td>550.0</td>\n",
       "      <td>750.0</td>\n",
       "      <td>2550.0</td>\n",
       "      <td>2350.0</td>\n",
       "      <td>1950.0</td>\n",
       "      <td>1550.0</td>\n",
       "      <td>950.0</td>\n",
       "      <td>1350.0</td>\n",
       "    </tr>\n",
       "  </tbody>\n",
       "</table>\n",
       "</div>"
      ],
      "text/plain": [
       "         user_id tariff  reg_month  exit_month      1      2      3       4  \\\n",
       "user_id                                                                       \n",
       "1000        1000  ultra          5         0.0    0.0    0.0    0.0     0.0   \n",
       "1001        1001  smart         11         0.0    0.0    0.0    0.0     0.0   \n",
       "1002        1002  smart          6         0.0    0.0    0.0    0.0     0.0   \n",
       "1003        1003  ultra          8         0.0    0.0    0.0    0.0     0.0   \n",
       "1004        1004  ultra          5         0.0    0.0    0.0    0.0     0.0   \n",
       "1005        1005  smart          1         0.0  550.0  550.0  886.0  1186.0   \n",
       "1006        1006  smart          2         0.0    0.0  550.0  950.0   550.0   \n",
       "1007        1007  smart          4         0.0    0.0    0.0    0.0   550.0   \n",
       "1008        1008  smart         12         0.0    0.0    0.0    0.0     0.0   \n",
       "1009        1009  smart          3         0.0    0.0    0.0  550.0   550.0   \n",
       "\n",
       "              5       6       7       8       9      10      11      12  \n",
       "user_id                                                                  \n",
       "1000     1950.0  1950.0  1950.0  1950.0  1950.0  1950.0  1950.0  1950.0  \n",
       "1001        0.0     0.0     0.0     0.0     0.0     0.0  1150.0   550.0  \n",
       "1002        0.0   550.0  1150.0  1550.0   950.0   550.0  1350.0  1150.0  \n",
       "1003        0.0     0.0     0.0  1950.0  1950.0  1950.0  1950.0  1950.0  \n",
       "1004     1950.0  1950.0  1950.0  1950.0  1950.0  1950.0  1950.0  1950.0  \n",
       "1005      835.0   886.0   775.0   949.0   556.0  1219.0   694.0   838.0  \n",
       "1006      550.0   550.0  1550.0  1350.0   750.0  1550.0   550.0  1350.0  \n",
       "1007     1150.0   685.0   981.0  1750.0  1015.0   550.0   990.0   550.0  \n",
       "1008        0.0     0.0     0.0     0.0     0.0     0.0     0.0   568.0  \n",
       "1009      550.0   750.0  2550.0  2350.0  1950.0  1550.0   950.0  1350.0  "
      ]
     },
     "metadata": {},
     "output_type": "display_data"
    },
    {
     "name": "stdout",
     "output_type": "stream",
     "text": [
      "<class 'pandas.core.frame.DataFrame'>\n",
      "Int64Index: 500 entries, 1000 to 1499\n",
      "Data columns (total 16 columns):\n",
      " #   Column      Non-Null Count  Dtype  \n",
      "---  ------      --------------  -----  \n",
      " 0   user_id     500 non-null    int64  \n",
      " 1   tariff      500 non-null    object \n",
      " 2   reg_month   500 non-null    int64  \n",
      " 3   exit_month  500 non-null    float64\n",
      " 4   1           500 non-null    float64\n",
      " 5   2           500 non-null    float64\n",
      " 6   3           500 non-null    float64\n",
      " 7   4           500 non-null    float64\n",
      " 8   5           500 non-null    float64\n",
      " 9   6           500 non-null    float64\n",
      " 10  7           500 non-null    float64\n",
      " 11  8           500 non-null    float64\n",
      " 12  9           500 non-null    float64\n",
      " 13  10          500 non-null    float64\n",
      " 14  11          500 non-null    float64\n",
      " 15  12          500 non-null    float64\n",
      "dtypes: float64(13), int64(2), object(1)\n",
      "memory usage: 82.6+ KB\n"
     ]
    }
   ],
   "source": [
    "# заполним таблицу данными по клиентам\n",
    "total_revenue = users[['user_id', 'tariff', 'reg_month', 'exit_month']]\n",
    "for i in range (1, 13):\n",
    "    total_revenue[i] = 0\n",
    "\n",
    "total_revenue.set_index(total_revenue['user_id'], inplace = True)\n",
    "\n",
    "for index in total_revenue.index:\n",
    "    if (total_revenue.loc[index, 'exit_month']!=0) and (int(total_revenue.loc[index, 'exit_month']) != int(total_revenue.loc[index, 'reg_month'])): #если клиент перестал пользоваться услаги сети, то последнее снятие денег - в предыдущий месяц\n",
    "        churn = int(total_revenue.loc[index, 'exit_month'])\n",
    "    else:\n",
    "        churn = 13\n",
    "    for column in range(int(total_revenue.loc[index, 'reg_month']), churn): #подсчитаем товарооборот как сумму по всем трем статьям: интернет, звонки, сообщения. Если клиента нет в одном из списков, будет ошибка, которую отработает при помощи try - except\n",
    "        try:\n",
    "            total_revenue.loc[index, column] = calls_revenue.loc[index, column] + messages_revenue.loc[index, column] + internet_revenue.loc[index, column]+ calls_revenue.loc[index, 'rub_monthly_fee']\n",
    "        except:\n",
    "            try:\n",
    "                total_revenue.loc[index, column] = calls_revenue.loc[index, column] + internet_revenue.loc[index, column]+ calls_revenue.loc[index, 'rub_monthly_fee']\n",
    "            except:\n",
    "                try:\n",
    "                    total_revenue.loc[index, column] = internet_revenue.loc[index, column] + internet_revenue.loc[index, 'rub_monthly_fee']\n",
    "                except: \n",
    "                    try:\n",
    "                        total_revenue.loc[index, column] = calls_revenue.loc[index, column] + calls_revenue.loc[index, 'rub_monthly_fee']  \n",
    "                    except:\n",
    "                        try:\n",
    "                            total_revenue.loc[index, column] = messages_revenue.loc[index, column] + messages_revenue.loc[index, 'rub_monthly_fee'] \n",
    "                        except:\n",
    "                            0\n",
    "display(total_revenue.head(10))\n",
    "total_revenue.info()\n"
   ]
  },
  {
   "cell_type": "code",
   "execution_count": 15,
   "metadata": {},
   "outputs": [
    {
     "data": {
      "text/html": [
       "<div>\n",
       "<style scoped>\n",
       "    .dataframe tbody tr th:only-of-type {\n",
       "        vertical-align: middle;\n",
       "    }\n",
       "\n",
       "    .dataframe tbody tr th {\n",
       "        vertical-align: top;\n",
       "    }\n",
       "\n",
       "    .dataframe thead th {\n",
       "        text-align: right;\n",
       "    }\n",
       "</style>\n",
       "<table border=\"1\" class=\"dataframe\">\n",
       "  <thead>\n",
       "    <tr style=\"text-align: right;\">\n",
       "      <th></th>\n",
       "      <th>user_id</th>\n",
       "      <th>tariff</th>\n",
       "      <th>reg_month</th>\n",
       "      <th>exit_month</th>\n",
       "      <th>1</th>\n",
       "      <th>2</th>\n",
       "      <th>3</th>\n",
       "      <th>4</th>\n",
       "      <th>5</th>\n",
       "      <th>6</th>\n",
       "      <th>7</th>\n",
       "      <th>8</th>\n",
       "      <th>9</th>\n",
       "      <th>10</th>\n",
       "      <th>11</th>\n",
       "      <th>12</th>\n",
       "      <th>av_month_revenue</th>\n",
       "    </tr>\n",
       "    <tr>\n",
       "      <th>user_id</th>\n",
       "      <th></th>\n",
       "      <th></th>\n",
       "      <th></th>\n",
       "      <th></th>\n",
       "      <th></th>\n",
       "      <th></th>\n",
       "      <th></th>\n",
       "      <th></th>\n",
       "      <th></th>\n",
       "      <th></th>\n",
       "      <th></th>\n",
       "      <th></th>\n",
       "      <th></th>\n",
       "      <th></th>\n",
       "      <th></th>\n",
       "      <th></th>\n",
       "      <th></th>\n",
       "    </tr>\n",
       "  </thead>\n",
       "  <tbody>\n",
       "    <tr>\n",
       "      <th>1000</th>\n",
       "      <td>1000</td>\n",
       "      <td>ultra</td>\n",
       "      <td>5</td>\n",
       "      <td>0.0</td>\n",
       "      <td>0.0</td>\n",
       "      <td>0.0</td>\n",
       "      <td>0.0</td>\n",
       "      <td>0.0</td>\n",
       "      <td>1950.0</td>\n",
       "      <td>1950.0</td>\n",
       "      <td>1950.0</td>\n",
       "      <td>1950.0</td>\n",
       "      <td>1950.0</td>\n",
       "      <td>1950.0</td>\n",
       "      <td>1950.0</td>\n",
       "      <td>1950.0</td>\n",
       "      <td>1950.000000</td>\n",
       "    </tr>\n",
       "    <tr>\n",
       "      <th>1001</th>\n",
       "      <td>1001</td>\n",
       "      <td>smart</td>\n",
       "      <td>11</td>\n",
       "      <td>0.0</td>\n",
       "      <td>0.0</td>\n",
       "      <td>0.0</td>\n",
       "      <td>0.0</td>\n",
       "      <td>0.0</td>\n",
       "      <td>0.0</td>\n",
       "      <td>0.0</td>\n",
       "      <td>0.0</td>\n",
       "      <td>0.0</td>\n",
       "      <td>0.0</td>\n",
       "      <td>0.0</td>\n",
       "      <td>1150.0</td>\n",
       "      <td>550.0</td>\n",
       "      <td>850.000000</td>\n",
       "    </tr>\n",
       "    <tr>\n",
       "      <th>1002</th>\n",
       "      <td>1002</td>\n",
       "      <td>smart</td>\n",
       "      <td>6</td>\n",
       "      <td>0.0</td>\n",
       "      <td>0.0</td>\n",
       "      <td>0.0</td>\n",
       "      <td>0.0</td>\n",
       "      <td>0.0</td>\n",
       "      <td>0.0</td>\n",
       "      <td>550.0</td>\n",
       "      <td>1150.0</td>\n",
       "      <td>1550.0</td>\n",
       "      <td>950.0</td>\n",
       "      <td>550.0</td>\n",
       "      <td>1350.0</td>\n",
       "      <td>1150.0</td>\n",
       "      <td>1035.714286</td>\n",
       "    </tr>\n",
       "    <tr>\n",
       "      <th>1003</th>\n",
       "      <td>1003</td>\n",
       "      <td>ultra</td>\n",
       "      <td>8</td>\n",
       "      <td>0.0</td>\n",
       "      <td>0.0</td>\n",
       "      <td>0.0</td>\n",
       "      <td>0.0</td>\n",
       "      <td>0.0</td>\n",
       "      <td>0.0</td>\n",
       "      <td>0.0</td>\n",
       "      <td>0.0</td>\n",
       "      <td>1950.0</td>\n",
       "      <td>1950.0</td>\n",
       "      <td>1950.0</td>\n",
       "      <td>1950.0</td>\n",
       "      <td>1950.0</td>\n",
       "      <td>1950.000000</td>\n",
       "    </tr>\n",
       "    <tr>\n",
       "      <th>1004</th>\n",
       "      <td>1004</td>\n",
       "      <td>ultra</td>\n",
       "      <td>5</td>\n",
       "      <td>0.0</td>\n",
       "      <td>0.0</td>\n",
       "      <td>0.0</td>\n",
       "      <td>0.0</td>\n",
       "      <td>0.0</td>\n",
       "      <td>1950.0</td>\n",
       "      <td>1950.0</td>\n",
       "      <td>1950.0</td>\n",
       "      <td>1950.0</td>\n",
       "      <td>1950.0</td>\n",
       "      <td>1950.0</td>\n",
       "      <td>1950.0</td>\n",
       "      <td>1950.0</td>\n",
       "      <td>1950.000000</td>\n",
       "    </tr>\n",
       "    <tr>\n",
       "      <th>1005</th>\n",
       "      <td>1005</td>\n",
       "      <td>smart</td>\n",
       "      <td>1</td>\n",
       "      <td>0.0</td>\n",
       "      <td>550.0</td>\n",
       "      <td>550.0</td>\n",
       "      <td>886.0</td>\n",
       "      <td>1186.0</td>\n",
       "      <td>835.0</td>\n",
       "      <td>886.0</td>\n",
       "      <td>775.0</td>\n",
       "      <td>949.0</td>\n",
       "      <td>556.0</td>\n",
       "      <td>1219.0</td>\n",
       "      <td>694.0</td>\n",
       "      <td>838.0</td>\n",
       "      <td>827.000000</td>\n",
       "    </tr>\n",
       "    <tr>\n",
       "      <th>1006</th>\n",
       "      <td>1006</td>\n",
       "      <td>smart</td>\n",
       "      <td>2</td>\n",
       "      <td>0.0</td>\n",
       "      <td>0.0</td>\n",
       "      <td>550.0</td>\n",
       "      <td>950.0</td>\n",
       "      <td>550.0</td>\n",
       "      <td>550.0</td>\n",
       "      <td>550.0</td>\n",
       "      <td>1550.0</td>\n",
       "      <td>1350.0</td>\n",
       "      <td>750.0</td>\n",
       "      <td>1550.0</td>\n",
       "      <td>550.0</td>\n",
       "      <td>1350.0</td>\n",
       "      <td>931.818182</td>\n",
       "    </tr>\n",
       "    <tr>\n",
       "      <th>1007</th>\n",
       "      <td>1007</td>\n",
       "      <td>smart</td>\n",
       "      <td>4</td>\n",
       "      <td>0.0</td>\n",
       "      <td>0.0</td>\n",
       "      <td>0.0</td>\n",
       "      <td>0.0</td>\n",
       "      <td>550.0</td>\n",
       "      <td>1150.0</td>\n",
       "      <td>685.0</td>\n",
       "      <td>981.0</td>\n",
       "      <td>1750.0</td>\n",
       "      <td>1015.0</td>\n",
       "      <td>550.0</td>\n",
       "      <td>990.0</td>\n",
       "      <td>550.0</td>\n",
       "      <td>913.444444</td>\n",
       "    </tr>\n",
       "    <tr>\n",
       "      <th>1008</th>\n",
       "      <td>1008</td>\n",
       "      <td>smart</td>\n",
       "      <td>12</td>\n",
       "      <td>0.0</td>\n",
       "      <td>0.0</td>\n",
       "      <td>0.0</td>\n",
       "      <td>0.0</td>\n",
       "      <td>0.0</td>\n",
       "      <td>0.0</td>\n",
       "      <td>0.0</td>\n",
       "      <td>0.0</td>\n",
       "      <td>0.0</td>\n",
       "      <td>0.0</td>\n",
       "      <td>0.0</td>\n",
       "      <td>0.0</td>\n",
       "      <td>568.0</td>\n",
       "      <td>568.000000</td>\n",
       "    </tr>\n",
       "    <tr>\n",
       "      <th>1009</th>\n",
       "      <td>1009</td>\n",
       "      <td>smart</td>\n",
       "      <td>3</td>\n",
       "      <td>0.0</td>\n",
       "      <td>0.0</td>\n",
       "      <td>0.0</td>\n",
       "      <td>550.0</td>\n",
       "      <td>550.0</td>\n",
       "      <td>550.0</td>\n",
       "      <td>750.0</td>\n",
       "      <td>2550.0</td>\n",
       "      <td>2350.0</td>\n",
       "      <td>1950.0</td>\n",
       "      <td>1550.0</td>\n",
       "      <td>950.0</td>\n",
       "      <td>1350.0</td>\n",
       "      <td>1310.000000</td>\n",
       "    </tr>\n",
       "  </tbody>\n",
       "</table>\n",
       "</div>"
      ],
      "text/plain": [
       "         user_id tariff  reg_month  exit_month      1      2      3       4  \\\n",
       "user_id                                                                       \n",
       "1000        1000  ultra          5         0.0    0.0    0.0    0.0     0.0   \n",
       "1001        1001  smart         11         0.0    0.0    0.0    0.0     0.0   \n",
       "1002        1002  smart          6         0.0    0.0    0.0    0.0     0.0   \n",
       "1003        1003  ultra          8         0.0    0.0    0.0    0.0     0.0   \n",
       "1004        1004  ultra          5         0.0    0.0    0.0    0.0     0.0   \n",
       "1005        1005  smart          1         0.0  550.0  550.0  886.0  1186.0   \n",
       "1006        1006  smart          2         0.0    0.0  550.0  950.0   550.0   \n",
       "1007        1007  smart          4         0.0    0.0    0.0    0.0   550.0   \n",
       "1008        1008  smart         12         0.0    0.0    0.0    0.0     0.0   \n",
       "1009        1009  smart          3         0.0    0.0    0.0  550.0   550.0   \n",
       "\n",
       "              5       6       7       8       9      10      11      12  \\\n",
       "user_id                                                                   \n",
       "1000     1950.0  1950.0  1950.0  1950.0  1950.0  1950.0  1950.0  1950.0   \n",
       "1001        0.0     0.0     0.0     0.0     0.0     0.0  1150.0   550.0   \n",
       "1002        0.0   550.0  1150.0  1550.0   950.0   550.0  1350.0  1150.0   \n",
       "1003        0.0     0.0     0.0  1950.0  1950.0  1950.0  1950.0  1950.0   \n",
       "1004     1950.0  1950.0  1950.0  1950.0  1950.0  1950.0  1950.0  1950.0   \n",
       "1005      835.0   886.0   775.0   949.0   556.0  1219.0   694.0   838.0   \n",
       "1006      550.0   550.0  1550.0  1350.0   750.0  1550.0   550.0  1350.0   \n",
       "1007     1150.0   685.0   981.0  1750.0  1015.0   550.0   990.0   550.0   \n",
       "1008        0.0     0.0     0.0     0.0     0.0     0.0     0.0   568.0   \n",
       "1009      550.0   750.0  2550.0  2350.0  1950.0  1550.0   950.0  1350.0   \n",
       "\n",
       "         av_month_revenue  \n",
       "user_id                    \n",
       "1000          1950.000000  \n",
       "1001           850.000000  \n",
       "1002          1035.714286  \n",
       "1003          1950.000000  \n",
       "1004          1950.000000  \n",
       "1005           827.000000  \n",
       "1006           931.818182  \n",
       "1007           913.444444  \n",
       "1008           568.000000  \n",
       "1009          1310.000000  "
      ]
     },
     "execution_count": 15,
     "metadata": {},
     "output_type": "execute_result"
    }
   ],
   "source": [
    "# добавим среднемесячную выручку по каждому клиенту\n",
    "# определим функцию расчета среднего месячного платежа, применимую к каждой строке\n",
    "def av_month(line):\n",
    "    reg = int(line['reg_month'])\n",
    "    if line['exit_month'] != 0:\n",
    "        end = int(line['exit_month'])\n",
    "    else:\n",
    "        end = 12\n",
    "        \n",
    "    sum =0\n",
    "    for column in range(reg, (end+1)):\n",
    "        sum = sum + line[column]\n",
    "    average = sum / (end - reg+1)    \n",
    "    return average\n",
    "\n",
    "total_revenue['av_month_revenue'] = total_revenue.apply(av_month, axis = 1)\n",
    "total_revenue.head(10)\n"
   ]
  },
  {
   "cell_type": "markdown",
   "metadata": {},
   "source": [
    "Мы свели воедино доходы по каждому клиенту и посчитали помесячные и среднемесячные значения. Теперь данные готовы для анализа."
   ]
  },
  {
   "cell_type": "markdown",
   "metadata": {},
   "source": [
    "## Анализ поведения клиентов оператора сотовой связи"
   ]
  },
  {
   "cell_type": "markdown",
   "metadata": {},
   "source": [
    "Для того, чтобы лучше понимать потребности клиентов сотового оператора, необходимо посмотреть на осуществленные звонки, потребленный интернет-трафик и отправленные сообщения по каждому тарифу в отдельности. После можно будет сравнить эти данные между собой."
   ]
  },
  {
   "cell_type": "code",
   "execution_count": 16,
   "metadata": {},
   "outputs": [
    {
     "name": "stdout",
     "output_type": "stream",
     "text": [
      "<class 'pandas.core.frame.DataFrame'>\n",
      "Int64Index: 301 entries, 1002 to 1499\n",
      "Data columns (total 6 columns):\n",
      " #   Column            Non-Null Count  Dtype  \n",
      "---  ------            --------------  -----  \n",
      " 0   user_id           301 non-null    int64  \n",
      " 1   av_month_revenue  301 non-null    float64\n",
      " 2   tariff            301 non-null    object \n",
      " 3   av_minutes        301 non-null    float64\n",
      " 4   av_traffic        301 non-null    float64\n",
      " 5   av_messages       301 non-null    float64\n",
      "dtypes: float64(4), int64(1), object(1)\n",
      "memory usage: 16.5+ KB\n"
     ]
    },
    {
     "data": {
      "text/html": [
       "<div>\n",
       "<style scoped>\n",
       "    .dataframe tbody tr th:only-of-type {\n",
       "        vertical-align: middle;\n",
       "    }\n",
       "\n",
       "    .dataframe tbody tr th {\n",
       "        vertical-align: top;\n",
       "    }\n",
       "\n",
       "    .dataframe thead th {\n",
       "        text-align: right;\n",
       "    }\n",
       "</style>\n",
       "<table border=\"1\" class=\"dataframe\">\n",
       "  <thead>\n",
       "    <tr style=\"text-align: right;\">\n",
       "      <th></th>\n",
       "      <th>user_id</th>\n",
       "      <th>av_month_revenue</th>\n",
       "      <th>tariff</th>\n",
       "      <th>av_minutes</th>\n",
       "      <th>av_traffic</th>\n",
       "      <th>av_messages</th>\n",
       "    </tr>\n",
       "    <tr>\n",
       "      <th>user_id</th>\n",
       "      <th></th>\n",
       "      <th></th>\n",
       "      <th></th>\n",
       "      <th></th>\n",
       "      <th></th>\n",
       "      <th></th>\n",
       "    </tr>\n",
       "  </thead>\n",
       "  <tbody>\n",
       "    <tr>\n",
       "      <th>1002</th>\n",
       "      <td>1002</td>\n",
       "      <td>1035.714286</td>\n",
       "      <td>smart</td>\n",
       "      <td>216.714286</td>\n",
       "      <td>16576.645714</td>\n",
       "      <td>10.0</td>\n",
       "    </tr>\n",
       "    <tr>\n",
       "      <th>1005</th>\n",
       "      <td>1005</td>\n",
       "      <td>827.000000</td>\n",
       "      <td>smart</td>\n",
       "      <td>550.416667</td>\n",
       "      <td>8307.275833</td>\n",
       "      <td>46.0</td>\n",
       "    </tr>\n",
       "    <tr>\n",
       "      <th>1007</th>\n",
       "      <td>1007</td>\n",
       "      <td>913.444444</td>\n",
       "      <td>smart</td>\n",
       "      <td>486.555556</td>\n",
       "      <td>14625.074444</td>\n",
       "      <td>25.0</td>\n",
       "    </tr>\n",
       "    <tr>\n",
       "      <th>1008</th>\n",
       "      <td>1008</td>\n",
       "      <td>568.000000</td>\n",
       "      <td>smart</td>\n",
       "      <td>339.000000</td>\n",
       "      <td>13217.140000</td>\n",
       "      <td>56.0</td>\n",
       "    </tr>\n",
       "    <tr>\n",
       "      <th>1009</th>\n",
       "      <td>1009</td>\n",
       "      <td>1310.000000</td>\n",
       "      <td>smart</td>\n",
       "      <td>218.900000</td>\n",
       "      <td>17741.121000</td>\n",
       "      <td>11.0</td>\n",
       "    </tr>\n",
       "  </tbody>\n",
       "</table>\n",
       "</div>"
      ],
      "text/plain": [
       "         user_id  av_month_revenue tariff  av_minutes    av_traffic  \\\n",
       "user_id                                                               \n",
       "1002        1002       1035.714286  smart  216.714286  16576.645714   \n",
       "1005        1005        827.000000  smart  550.416667   8307.275833   \n",
       "1007        1007        913.444444  smart  486.555556  14625.074444   \n",
       "1008        1008        568.000000  smart  339.000000  13217.140000   \n",
       "1009        1009       1310.000000  smart  218.900000  17741.121000   \n",
       "\n",
       "         av_messages  \n",
       "user_id               \n",
       "1002            10.0  \n",
       "1005            46.0  \n",
       "1007            25.0  \n",
       "1008            56.0  \n",
       "1009            11.0  "
      ]
     },
     "execution_count": 16,
     "metadata": {},
     "output_type": "execute_result"
    }
   ],
   "source": [
    "# соберем таблицы по тарифам\n",
    "# тариф smart\n",
    "tariff_smart = total_revenue[['user_id', 'av_month_revenue', 'tariff']]\n",
    "tariff_smart = tariff_smart.query('tariff == \"smart\"')\n",
    "tariff_smart = pd.merge(tariff_smart, calls_pivot['av_minutes'], left_index = True, right_index = True)\n",
    "tariff_smart = pd.merge(tariff_smart, internet_pivot['av_traffic'], left_index = True, right_index = True)\n",
    "tariff_smart = pd.merge(tariff_smart, messages_pivot['av_messages'], left_index = True, right_index = True)\n",
    "tariff_smart.info()\n",
    "tariff_smart.head()"
   ]
  },
  {
   "cell_type": "code",
   "execution_count": 17,
   "metadata": {},
   "outputs": [
    {
     "name": "stdout",
     "output_type": "stream",
     "text": [
      "<class 'pandas.core.frame.DataFrame'>\n",
      "Int64Index: 149 entries, 1000 to 1495\n",
      "Data columns (total 6 columns):\n",
      " #   Column            Non-Null Count  Dtype  \n",
      "---  ------            --------------  -----  \n",
      " 0   user_id           149 non-null    int64  \n",
      " 1   av_month_revenue  149 non-null    float64\n",
      " 2   tariff            149 non-null    object \n",
      " 3   av_minutes        143 non-null    float64\n",
      " 4   av_traffic        147 non-null    float64\n",
      " 5   av_messages       124 non-null    float64\n",
      "dtypes: float64(4), int64(1), object(1)\n",
      "memory usage: 8.1+ KB\n",
      "<class 'pandas.core.frame.DataFrame'>\n",
      "Int64Index: 351 entries, 1001 to 1499\n",
      "Data columns (total 6 columns):\n",
      " #   Column            Non-Null Count  Dtype  \n",
      "---  ------            --------------  -----  \n",
      " 0   user_id           351 non-null    int64  \n",
      " 1   av_month_revenue  351 non-null    float64\n",
      " 2   tariff            351 non-null    object \n",
      " 3   av_minutes        349 non-null    float64\n",
      " 4   av_traffic        350 non-null    float64\n",
      " 5   av_messages       302 non-null    float64\n",
      "dtypes: float64(4), int64(1), object(1)\n",
      "memory usage: 19.2+ KB\n"
     ]
    }
   ],
   "source": [
    "# объединим данные из всех таблиц и потом отфильтруем таблицы по тарифам в отдельные\n",
    "tariffs_all = total_revenue[['user_id', 'av_month_revenue', 'tariff']]\n",
    "tariffs_all  = pd.merge(tariffs_all, calls_pivot['av_minutes'], how ='outer', left_index = True, right_index = True)\n",
    "tariffs_all  = pd.merge(tariffs_all, internet_pivot['av_traffic'], how ='outer', left_index = True, right_index = True)\n",
    "tariffs_all  = pd.merge(tariffs_all, messages_pivot['av_messages'], how ='outer', left_index = True, right_index = True)\n",
    "tariff_ultra = tariffs_all.query('tariff == \"ultra\"') # тариф ultra\n",
    "tariff_smart = tariffs_all.query('tariff == \"smart\"') # тариф smart\n",
    "tariff_ultra.info()\n",
    "tariff_smart.info()"
   ]
  },
  {
   "cell_type": "code",
   "execution_count": 18,
   "metadata": {},
   "outputs": [
    {
     "data": {
      "text/html": [
       "<div>\n",
       "<style scoped>\n",
       "    .dataframe tbody tr th:only-of-type {\n",
       "        vertical-align: middle;\n",
       "    }\n",
       "\n",
       "    .dataframe tbody tr th {\n",
       "        vertical-align: top;\n",
       "    }\n",
       "\n",
       "    .dataframe thead th {\n",
       "        text-align: right;\n",
       "    }\n",
       "</style>\n",
       "<table border=\"1\" class=\"dataframe\">\n",
       "  <thead>\n",
       "    <tr style=\"text-align: right;\">\n",
       "      <th></th>\n",
       "      <th>user_id</th>\n",
       "      <th>av_month_revenue</th>\n",
       "      <th>av_minutes</th>\n",
       "      <th>av_traffic</th>\n",
       "      <th>av_messages</th>\n",
       "    </tr>\n",
       "  </thead>\n",
       "  <tbody>\n",
       "    <tr>\n",
       "      <th>count</th>\n",
       "      <td>351.000000</td>\n",
       "      <td>351.000000</td>\n",
       "      <td>349.000000</td>\n",
       "      <td>350.000000</td>\n",
       "      <td>302.000000</td>\n",
       "    </tr>\n",
       "    <tr>\n",
       "      <th>mean</th>\n",
       "      <td>1244.133903</td>\n",
       "      <td>1310.049998</td>\n",
       "      <td>420.848019</td>\n",
       "      <td>16216.183827</td>\n",
       "      <td>37.575606</td>\n",
       "    </tr>\n",
       "    <tr>\n",
       "      <th>std</th>\n",
       "      <td>144.985228</td>\n",
       "      <td>618.392166</td>\n",
       "      <td>143.451303</td>\n",
       "      <td>3622.659828</td>\n",
       "      <td>24.849738</td>\n",
       "    </tr>\n",
       "    <tr>\n",
       "      <th>min</th>\n",
       "      <td>1001.000000</td>\n",
       "      <td>0.000000</td>\n",
       "      <td>15.111111</td>\n",
       "      <td>5384.218182</td>\n",
       "      <td>1.000000</td>\n",
       "    </tr>\n",
       "    <tr>\n",
       "      <th>25%</th>\n",
       "      <td>1120.000000</td>\n",
       "      <td>863.809524</td>\n",
       "      <td>317.545455</td>\n",
       "      <td>13947.652500</td>\n",
       "      <td>19.000000</td>\n",
       "    </tr>\n",
       "    <tr>\n",
       "      <th>50%</th>\n",
       "      <td>1236.000000</td>\n",
       "      <td>1173.000000</td>\n",
       "      <td>425.250000</td>\n",
       "      <td>16267.380000</td>\n",
       "      <td>33.000000</td>\n",
       "    </tr>\n",
       "    <tr>\n",
       "      <th>75%</th>\n",
       "      <td>1371.500000</td>\n",
       "      <td>1667.166667</td>\n",
       "      <td>520.400000</td>\n",
       "      <td>18633.567083</td>\n",
       "      <td>54.000000</td>\n",
       "    </tr>\n",
       "    <tr>\n",
       "      <th>max</th>\n",
       "      <td>1499.000000</td>\n",
       "      <td>4333.333333</td>\n",
       "      <td>891.500000</td>\n",
       "      <td>27286.960000</td>\n",
       "      <td>118.000000</td>\n",
       "    </tr>\n",
       "  </tbody>\n",
       "</table>\n",
       "</div>"
      ],
      "text/plain": [
       "           user_id  av_month_revenue  av_minutes    av_traffic  av_messages\n",
       "count   351.000000        351.000000  349.000000    350.000000   302.000000\n",
       "mean   1244.133903       1310.049998  420.848019  16216.183827    37.575606\n",
       "std     144.985228        618.392166  143.451303   3622.659828    24.849738\n",
       "min    1001.000000          0.000000   15.111111   5384.218182     1.000000\n",
       "25%    1120.000000        863.809524  317.545455  13947.652500    19.000000\n",
       "50%    1236.000000       1173.000000  425.250000  16267.380000    33.000000\n",
       "75%    1371.500000       1667.166667  520.400000  18633.567083    54.000000\n",
       "max    1499.000000       4333.333333  891.500000  27286.960000   118.000000"
      ]
     },
     "execution_count": 18,
     "metadata": {},
     "output_type": "execute_result"
    }
   ],
   "source": [
    "# опишем поведение клиентов тарифа smart\n",
    "tariff_smart.describe()"
   ]
  },
  {
   "cell_type": "code",
   "execution_count": 19,
   "metadata": {},
   "outputs": [
    {
     "data": {
      "text/html": [
       "<div>\n",
       "<style scoped>\n",
       "    .dataframe tbody tr th:only-of-type {\n",
       "        vertical-align: middle;\n",
       "    }\n",
       "\n",
       "    .dataframe tbody tr th {\n",
       "        vertical-align: top;\n",
       "    }\n",
       "\n",
       "    .dataframe thead th {\n",
       "        text-align: right;\n",
       "    }\n",
       "</style>\n",
       "<table border=\"1\" class=\"dataframe\">\n",
       "  <thead>\n",
       "    <tr style=\"text-align: right;\">\n",
       "      <th></th>\n",
       "      <th>Израсходованные минуты</th>\n",
       "      <th>Израсходованные Мб</th>\n",
       "      <th>Израсходованные sms</th>\n",
       "    </tr>\n",
       "  </thead>\n",
       "  <tbody>\n",
       "    <tr>\n",
       "      <th>Среднее</th>\n",
       "      <td>420.848019</td>\n",
       "      <td>1.621618e+04</td>\n",
       "      <td>37.575606</td>\n",
       "    </tr>\n",
       "    <tr>\n",
       "      <th>Медиана</th>\n",
       "      <td>425.250000</td>\n",
       "      <td>1.626738e+04</td>\n",
       "      <td>33.000000</td>\n",
       "    </tr>\n",
       "    <tr>\n",
       "      <th>Станд.отклонение</th>\n",
       "      <td>143.245638</td>\n",
       "      <td>3.617481e+03</td>\n",
       "      <td>24.808562</td>\n",
       "    </tr>\n",
       "    <tr>\n",
       "      <th>Дисперсия</th>\n",
       "      <td>20519.310000</td>\n",
       "      <td>1.308617e+07</td>\n",
       "      <td>615.460000</td>\n",
       "    </tr>\n",
       "  </tbody>\n",
       "</table>\n",
       "</div>"
      ],
      "text/plain": [
       "                  Израсходованные минуты  Израсходованные Мб  \\\n",
       "Среднее                       420.848019        1.621618e+04   \n",
       "Медиана                       425.250000        1.626738e+04   \n",
       "Станд.отклонение              143.245638        3.617481e+03   \n",
       "Дисперсия                   20519.310000        1.308617e+07   \n",
       "\n",
       "                  Израсходованные sms  \n",
       "Среднее                     37.575606  \n",
       "Медиана                     33.000000  \n",
       "Станд.отклонение            24.808562  \n",
       "Дисперсия                  615.460000  "
      ]
     },
     "execution_count": 19,
     "metadata": {},
     "output_type": "execute_result"
    }
   ],
   "source": [
    "#построим таблицу : среднее и дисперсия\n",
    "mean = np.mean(tariff_smart[['av_minutes', 'av_traffic', 'av_messages']])\n",
    "median=(tariff_smart[['av_minutes', 'av_traffic', 'av_messages']]).median()\n",
    "std = np.std(tariff_smart[['av_minutes', 'av_traffic', 'av_messages']])\n",
    "dvar = round(np.var(tariff_smart[['av_minutes', 'av_traffic', 'av_messages']]), 2)\n",
    "\n",
    "table = pd.DataFrame(data=[mean, median, std, dvar], columns = ['av_minutes', 'av_traffic', 'av_messages'])\n",
    "table.set_index([['Среднее', 'Медиана', 'Станд.отклонение', 'Дисперсия']], inplace = True)\n",
    "table.rename(columns = {'av_minutes':'Израсходованные минуты', 'av_traffic':\"Израсходованные Мб\", 'av_messages':\"Израсходованные sms\"})"
   ]
  },
  {
   "cell_type": "markdown",
   "metadata": {},
   "source": [
    "**Выводы и предложения**. <br>\n",
    "Анализ по клиентам тарифа *Smart* дал нам возможность сделать следующие выводы:<br>\n",
    "1) данные хорошего качества, большого количества выбросов и аномалий не наблюдается. Данные однородны. <br>\n",
    "2) в целом потребление минут, интернет-трафика и сообщений распределено нормально, разброс данных небольшой. Распределение потребленных сообщений немного смещено вправо.<br>\n",
    "3) пик значений в категории \"звонки\" приходится на интервал от 400 до 500 минут (среднее - 420, медиана - 425), при лимите предоплаченного пакета в 500 минут. Это означает, что большинство клиентов используют примерно столько минут, сколько включено пакет - значит, тариф хорошо соответствует их потребностям.<br>\n",
    "4) те же самые выводы можно сделать о потреблении интернет-трафика с пиковым значением в 16,2 тыс. Мбайт (при лимите пакета 15360 Мб). Очевидно, клиентам совсем немного не хватает пакета и они регулярно доплачивают за небольшое количество гигабайт в дополнение к стандартному тарифу.<br>\n",
    "5) В статистике количества использованных sms сообщений довольно большой разброс (дисперсия) - 615 при средней 38 сообщений. Это говорит о неоднородности данных. Однозначных выводов о том, как клиенты используют свой пакет сообщений (50 шт.), мы не можем сделать. Очевидно,  некоторые клиенты не так активно прибегают к sms сообщениям, как другие. \n",
    "<br> <br>\n",
    "В целом, можно сделать вывод, что тариф *Smart* хорошо соответствует потребностям клиентов, которые его используют.\n",
    "<br> <br>\n",
    "В нашей выборке количество клиентов с тарифом *Smart* преобладает - 351 против 149 на тарифе *Ultra*. Мы не знаем, является ли это соотношение репрезентующим генеральную совокупность, или просто совпадением, или выборка была сделана намеренно именно в такой пропорции. Но если предположить, что такая пропорция сохраняется и в генеральной совокупности, то это может объясняться *невысокой ценой* и *оптимизированным размеров предоплаченных пакетов услуг*.  "
   ]
  },
  {
   "cell_type": "code",
   "execution_count": 20,
   "metadata": {},
   "outputs": [
    {
     "data": {
      "text/html": [
       "<div>\n",
       "<style scoped>\n",
       "    .dataframe tbody tr th:only-of-type {\n",
       "        vertical-align: middle;\n",
       "    }\n",
       "\n",
       "    .dataframe tbody tr th {\n",
       "        vertical-align: top;\n",
       "    }\n",
       "\n",
       "    .dataframe thead th {\n",
       "        text-align: right;\n",
       "    }\n",
       "</style>\n",
       "<table border=\"1\" class=\"dataframe\">\n",
       "  <thead>\n",
       "    <tr style=\"text-align: right;\">\n",
       "      <th></th>\n",
       "      <th>user_id</th>\n",
       "      <th>av_month_revenue</th>\n",
       "      <th>av_minutes</th>\n",
       "      <th>av_traffic</th>\n",
       "      <th>av_messages</th>\n",
       "    </tr>\n",
       "  </thead>\n",
       "  <tbody>\n",
       "    <tr>\n",
       "      <th>count</th>\n",
       "      <td>149.000000</td>\n",
       "      <td>149.000000</td>\n",
       "      <td>143.000000</td>\n",
       "      <td>147.000000</td>\n",
       "      <td>124.000000</td>\n",
       "    </tr>\n",
       "    <tr>\n",
       "      <th>mean</th>\n",
       "      <td>1262.140940</td>\n",
       "      <td>2031.636596</td>\n",
       "      <td>546.998401</td>\n",
       "      <td>19744.083245</td>\n",
       "      <td>64.555802</td>\n",
       "    </tr>\n",
       "    <tr>\n",
       "      <th>std</th>\n",
       "      <td>142.976516</td>\n",
       "      <td>375.006672</td>\n",
       "      <td>268.089662</td>\n",
       "      <td>8169.947017</td>\n",
       "      <td>43.390612</td>\n",
       "    </tr>\n",
       "    <tr>\n",
       "      <th>min</th>\n",
       "      <td>1000.000000</td>\n",
       "      <td>0.000000</td>\n",
       "      <td>16.500000</td>\n",
       "      <td>2301.760000</td>\n",
       "      <td>3.000000</td>\n",
       "    </tr>\n",
       "    <tr>\n",
       "      <th>25%</th>\n",
       "      <td>1143.000000</td>\n",
       "      <td>1950.000000</td>\n",
       "      <td>342.883333</td>\n",
       "      <td>14806.842000</td>\n",
       "      <td>28.000000</td>\n",
       "    </tr>\n",
       "    <tr>\n",
       "      <th>50%</th>\n",
       "      <td>1276.000000</td>\n",
       "      <td>1950.000000</td>\n",
       "      <td>525.500000</td>\n",
       "      <td>18986.568000</td>\n",
       "      <td>57.800000</td>\n",
       "    </tr>\n",
       "    <tr>\n",
       "      <th>75%</th>\n",
       "      <td>1379.000000</td>\n",
       "      <td>1975.000000</td>\n",
       "      <td>750.000000</td>\n",
       "      <td>25964.860000</td>\n",
       "      <td>89.000000</td>\n",
       "    </tr>\n",
       "    <tr>\n",
       "      <th>max</th>\n",
       "      <td>1495.000000</td>\n",
       "      <td>3225.000000</td>\n",
       "      <td>1179.363636</td>\n",
       "      <td>38463.570000</td>\n",
       "      <td>192.000000</td>\n",
       "    </tr>\n",
       "  </tbody>\n",
       "</table>\n",
       "</div>"
      ],
      "text/plain": [
       "           user_id  av_month_revenue   av_minutes    av_traffic  av_messages\n",
       "count   149.000000        149.000000   143.000000    147.000000   124.000000\n",
       "mean   1262.140940       2031.636596   546.998401  19744.083245    64.555802\n",
       "std     142.976516        375.006672   268.089662   8169.947017    43.390612\n",
       "min    1000.000000          0.000000    16.500000   2301.760000     3.000000\n",
       "25%    1143.000000       1950.000000   342.883333  14806.842000    28.000000\n",
       "50%    1276.000000       1950.000000   525.500000  18986.568000    57.800000\n",
       "75%    1379.000000       1975.000000   750.000000  25964.860000    89.000000\n",
       "max    1495.000000       3225.000000  1179.363636  38463.570000   192.000000"
      ]
     },
     "execution_count": 20,
     "metadata": {},
     "output_type": "execute_result"
    }
   ],
   "source": [
    "# опишем поведение клиентов тарифа ultra\n",
    "tariff_ultra.describe()"
   ]
  },
  {
   "cell_type": "code",
   "execution_count": 21,
   "metadata": {},
   "outputs": [
    {
     "data": {
      "text/html": [
       "<div>\n",
       "<style scoped>\n",
       "    .dataframe tbody tr th:only-of-type {\n",
       "        vertical-align: middle;\n",
       "    }\n",
       "\n",
       "    .dataframe tbody tr th {\n",
       "        vertical-align: top;\n",
       "    }\n",
       "\n",
       "    .dataframe thead th {\n",
       "        text-align: right;\n",
       "    }\n",
       "</style>\n",
       "<table border=\"1\" class=\"dataframe\">\n",
       "  <thead>\n",
       "    <tr style=\"text-align: right;\">\n",
       "      <th></th>\n",
       "      <th>Израсходованные минуты</th>\n",
       "      <th>Израсходованные Мб</th>\n",
       "      <th>Израсходованные sms</th>\n",
       "    </tr>\n",
       "  </thead>\n",
       "  <tbody>\n",
       "    <tr>\n",
       "      <th>Среднее</th>\n",
       "      <td>420.848019</td>\n",
       "      <td>1.621618e+04</td>\n",
       "      <td>37.575606</td>\n",
       "    </tr>\n",
       "    <tr>\n",
       "      <th>Медиана</th>\n",
       "      <td>525.500000</td>\n",
       "      <td>1.898657e+04</td>\n",
       "      <td>57.800000</td>\n",
       "    </tr>\n",
       "    <tr>\n",
       "      <th>Станд.отклонение</th>\n",
       "      <td>267.150642</td>\n",
       "      <td>8.142111e+03</td>\n",
       "      <td>43.215296</td>\n",
       "    </tr>\n",
       "    <tr>\n",
       "      <th>Дисперсия</th>\n",
       "      <td>71369.470000</td>\n",
       "      <td>6.629397e+07</td>\n",
       "      <td>1867.560000</td>\n",
       "    </tr>\n",
       "  </tbody>\n",
       "</table>\n",
       "</div>"
      ],
      "text/plain": [
       "                  Израсходованные минуты  Израсходованные Мб  \\\n",
       "Среднее                       420.848019        1.621618e+04   \n",
       "Медиана                       525.500000        1.898657e+04   \n",
       "Станд.отклонение              267.150642        8.142111e+03   \n",
       "Дисперсия                   71369.470000        6.629397e+07   \n",
       "\n",
       "                  Израсходованные sms  \n",
       "Среднее                     37.575606  \n",
       "Медиана                     57.800000  \n",
       "Станд.отклонение            43.215296  \n",
       "Дисперсия                 1867.560000  "
      ]
     },
     "execution_count": 21,
     "metadata": {},
     "output_type": "execute_result"
    }
   ],
   "source": [
    "#построим таблицу : среднее и дисперсия\n",
    "median=(tariff_ultra[['av_minutes', 'av_traffic', 'av_messages']]).median()\n",
    "std = np.std(tariff_ultra[['av_minutes', 'av_traffic', 'av_messages']])\n",
    "dvar = round(np.var(tariff_ultra[['av_minutes', 'av_traffic', 'av_messages']]), 2)\n",
    "\n",
    "table = pd.DataFrame(data=[mean, median, std, dvar], columns = ['av_minutes', 'av_traffic', 'av_messages'])\n",
    "table.set_index([['Среднее', 'Медиана', 'Станд.отклонение', 'Дисперсия']], inplace = True)\n",
    "table.rename(columns = {'av_minutes':'Израсходованные минуты', 'av_traffic':\"Израсходованные Мб\", 'av_messages':\"Израсходованные sms\"})"
   ]
  },
  {
   "cell_type": "markdown",
   "metadata": {},
   "source": [
    "**Выводы и предложения**. <br>\n",
    "Анализ по клиентам тарифа *Ultra* дал нам возможность сделать следующие выводы:<br>\n",
    "1) данные хорошего качества, большого количества выбросов и аномалий не наблюдается. Данные однородны.<br>\n",
    "2) в целом потребление минут, интернет-трафика и сообщений распределено нормально, разброс данных небольшой. Распределение потребленных сообщений значительно смещено вправо.<br><br>\n",
    "3) пик значений в категории \"звонки\" приходится на интервал от 500 до 600 минут (среднее - 546, медиана - 525), при лимите предоплаченного пакета в 3000 минут. Это означает, что большинство клиентов не используют до конца свой пакет предоплаченных минут. Более того, в данной выборке абсолютное большинство не использует даже половины пакета минут (максимальное значение среди усредненных по клиенту - 1179. <br>\n",
    "Это говорит о неэффективности использования этого тарифа клиентами, как минимум в плане звонков. Для клиентов было бы более выгодным иметь пакет в 1000 минут по более низкой цене. <br>\n",
    "4) Исходя из данных о потреблении интернет-трафика с пиковым значением в ~19 Гб (при лимите пакета 30 Гб) можно сделать вывод, что большинство клиентов (не менее 75%, третий квартиль) не используют до конца свой пакет интренет-трафика. Доплаты за трафик крайне редки, хотя не исключены. <br>\n",
    "5) В статистике количества использованных sms сообщений довольно большой разброс (дисперсия) - 615(примечательно, что она равна дисперсии по тарифу Smart, хотя средние различаются). Это говорит о неоднородности данных. В любом случае, совершенно очевидно, что клиенты не используют весь доступный им пакет в 1000 сообщений.\n",
    "<br> <br>\n",
    "В целом, можно сделать вывод, что тариф *Ultra* менее сбалансирован по  сравнению с тарифом Smart и значительно хуже соответствует потребностям клиентов, которые его используют.<br>\n"
   ]
  },
  {
   "cell_type": "markdown",
   "metadata": {},
   "source": [
    "Сравним и визуализируем два тарифа и данные о них."
   ]
  },
  {
   "cell_type": "code",
   "execution_count": 22,
   "metadata": {},
   "outputs": [
    {
     "data": {
      "image/png": "[encoded data removed]",
      "text/plain": [
       "<Figure size 432x288 with 1 Axes>"
      ]
     },
     "metadata": {
      "needs_background": "light"
     },
     "output_type": "display_data"
    }
   ],
   "source": [
    "tariff_smart['av_minutes'].plot(kind = 'hist', \n",
    "                                bins = [200, 300, 400, 500, 600, 700, 800, 900, 1000,1100, 1200, 1300, 1400, 1500, 3000], \n",
    "                                title ='Распределение кол-ва минут в месяц', \n",
    "                                alpha = 0.7, \n",
    "                                grid = True)\n",
    "\n",
    "tariff_ultra['av_minutes'].plot(kind = 'hist', \n",
    "                                bins = [200, 300, 400, 500, 600, 700, 800, 900, 1000,1100, 1200, 1300, 1400, 1500, 3000], \n",
    "                                alpha =0.5,\n",
    "                                grid = True)\n",
    "plt.xlabel('Количество минут в месяц, мин');\n",
    "plt.ylabel('Плотность, клиентов')\n",
    "plt.xlabel('Количество минут в месяц, мин');\n",
    "plt.legend(['Smart', 'Ultra'])\n",
    "plt.show()"
   ]
  },
  {
   "cell_type": "markdown",
   "metadata": {},
   "source": [
    "На графике мы видим, что пики приходятся на примерно один и тот же промежуток с 400 до 600 минут. "
   ]
  },
  {
   "cell_type": "code",
   "execution_count": 23,
   "metadata": {},
   "outputs": [
    {
     "data": {
      "image/png": "[encoded data removed]",
      "text/plain": [
       "<Figure size 432x288 with 1 Axes>"
      ]
     },
     "metadata": {
      "needs_background": "light"
     },
     "output_type": "display_data"
    },
    {
     "data": {
      "image/png": "[encoded data removed]",
      "text/plain": [
       "<Figure size 432x288 with 1 Axes>"
      ]
     },
     "metadata": {
      "needs_background": "light"
     },
     "output_type": "display_data"
    }
   ],
   "source": [
    "tariff_smart['av_traffic'].plot(kind = 'hist',\n",
    "                                bins = 20, \n",
    "                                title ='Распределение потребления интернет-трафика',\n",
    "                                alpha = 0.7,\n",
    "                                grid = True)\n",
    "plt.ylabel('Плотность, клиентов')\n",
    "plt.xlabel('Среднемесячный интернет-трафик, Мб');\n",
    "tariff_ultra['av_traffic'].plot(kind = 'hist', \n",
    "                                bins = 20, \n",
    "                                title ='Распределение потребления интернет-трафика', \n",
    "                                alpha = 0.5,\n",
    "                                grid = True)\n",
    "plt.ylabel('Плотность, клиентов')\n",
    "plt.legend(['Smart', 'Ultra'])\n",
    "plt.xlabel('Среднемесячный интернет-трафик, Мб');\n",
    "plt.show()\n",
    "\n",
    "tariff_smart['av_messages'].plot(kind = 'hist', \n",
    "                                 bins = 20, \n",
    "                                 title ='Распределение кол-ва сообщении в месяц', \n",
    "                                 alpha = 0.7,\n",
    "                                 grid = True)\n",
    "plt.ylabel('Плотность, клиентов')\n",
    "plt.xlabel('Среднемесячное количество сообщений, шт');\n",
    "tariff_ultra['av_messages'].plot(kind = 'hist', \n",
    "                                 bins = 20, \n",
    "                                 title ='Распределение кол-ва сообщений в месяц', \n",
    "                                 alpha = 0.5,\n",
    "                                 grid = True)\n",
    "plt.ylabel('Плотность, клиентов')\n",
    "plt.legend(['Smart', 'Ultra'])\n",
    "plt.xlabel('Среднемесячное количество сообщений, шт');"
   ]
  },
  {
   "cell_type": "markdown",
   "metadata": {},
   "source": [
    "График распределения интернет-трафика тарифа Ultra гораздо более пологий и имеет более широкие границы, чем график такрифа Smart. Это говорит о более однородном характере использования интернета среди клиентов Smart, чем клиентов Ultra. <br>\n",
    "Графики распределения сообщений более менее похожи по форме и подтверждают ранее высказанное предположение о том, что использование сообщений различается в зависимости от разных категорий клиентов."
   ]
  },
  {
   "cell_type": "code",
   "execution_count": 24,
   "metadata": {},
   "outputs": [
    {
     "data": {
      "image/png": "[encoded data removed]",
      "text/plain": [
       "<Figure size 432x288 with 1 Axes>"
      ]
     },
     "metadata": {
      "needs_background": "light"
     },
     "output_type": "display_data"
    }
   ],
   "source": [
    "tariff_smart['av_month_revenue'].plot(kind = 'hist', \n",
    "                                title ='Распределение среднемесячного дохода', \n",
    "                                alpha = 0.7, \n",
    "                                grid = True)\n",
    "\n",
    "tariff_ultra['av_month_revenue'].plot(kind = 'hist',\n",
    "                                alpha =0.5,\n",
    "                                grid = True)\n",
    "plt.xlabel('Выручка в месяц, руб.');\n",
    "plt.ylabel('Плотность, клиентов')\n",
    "plt.xlabel('Выручка в месяц, руб.');\n",
    "plt.legend(['Smart', 'Ultra'])\n",
    "plt.show()"
   ]
  },
  {
   "cell_type": "markdown",
   "metadata": {},
   "source": [
    "По графику видно, что в доходы от тарифа Smart и тарифа Ultra распределены по-разному, хотя оба подчиняются закону нормального распределения. Для тарифа Ultra характерен высокий пик, приходящийся на значение в 2000 рублей (медиана 1950р., это соответствует значению месячной абонентской платы). <br>\n",
    "В тарифе Smart значения распределны более однородно и в большей массе они превышают месячную абонентскую плату. Однако большинство клиентов приносят значительно меньше денег, чем большинство клиентов Ultra. Поэтому легко сделать вывод о **большей финансовой привлекательности тарифа Ultra для компании-оператора.**"
   ]
  },
  {
   "cell_type": "code",
   "execution_count": 25,
   "metadata": {},
   "outputs": [],
   "source": [
    "calls_pivot = pd.merge(calls_pivot, users, left_index = True, right_on = 'user_id')\n",
    "month_names = {1: \"Январь\", 2:\"Февраль\", 3:\"Март\", 4:\"Апрель\", 5:\"Май\", 6:\"Июнь\", 7:\"Июль\", 8:\"Август\", 9:\"Сентябрь\", 10:'Октябрь', 11:'Ноябрь', 12:'Декабрь'}"
   ]
  },
  {
   "cell_type": "code",
   "execution_count": 26,
   "metadata": {},
   "outputs": [
    {
     "data": {
      "image/png": "[encoded data removed]",
      "text/plain": [
       "<Figure size 432x288 with 1 Axes>"
      ]
     },
     "metadata": {
      "needs_background": "light"
     },
     "output_type": "display_data"
    },
    {
     "data": {
      "image/png": "[encoded data removed]",
      "text/plain": [
       "<Figure size 432x288 with 1 Axes>"
      ]
     },
     "metadata": {
      "needs_background": "light"
     },
     "output_type": "display_data"
    },
    {
     "data": {
      "image/png": "[encoded data removed]",
      "text/plain": [
       "<Figure size 432x288 with 1 Axes>"
      ]
     },
     "metadata": {
      "needs_background": "light"
     },
     "output_type": "display_data"
    },
    {
     "data": {
      "image/png": "[encoded data removed]",
      "text/plain": [
       "<Figure size 432x288 with 1 Axes>"
      ]
     },
     "metadata": {
      "needs_background": "light"
     },
     "output_type": "display_data"
    },
    {
     "data": {
      "image/png": "[encoded data removed]",
      "text/plain": [
       "<Figure size 432x288 with 1 Axes>"
      ]
     },
     "metadata": {
      "needs_background": "light"
     },
     "output_type": "display_data"
    },
    {
     "data": {
      "image/png": "[encoded data removed]",
      "text/plain": [
       "<Figure size 432x288 with 1 Axes>"
      ]
     },
     "metadata": {
      "needs_background": "light"
     },
     "output_type": "display_data"
    },
    {
     "data": {
      "image/png": "[encoded data removed]",
      "text/plain": [
       "<Figure size 432x288 with 1 Axes>"
      ]
     },
     "metadata": {
      "needs_background": "light"
     },
     "output_type": "display_data"
    },
    {
     "data": {
      "image/png": "[encoded data removed]",
      "text/plain": [
       "<Figure size 432x288 with 1 Axes>"
      ]
     },
     "metadata": {
      "needs_background": "light"
     },
     "output_type": "display_data"
    },
    {
     "data": {
      "image/png": "[encoded data removed]",
      "text/plain": [
       "<Figure size 432x288 with 1 Axes>"
      ]
     },
     "metadata": {
      "needs_background": "light"
     },
     "output_type": "display_data"
    },
    {
     "data": {
      "image/png": "[encoded data removed]",
      "text/plain": [
       "<Figure size 432x288 with 1 Axes>"
      ]
     },
     "metadata": {
      "needs_background": "light"
     },
     "output_type": "display_data"
    },
    {
     "data": {
      "image/png": "[encoded data removed]",
      "text/plain": [
       "<Figure size 432x288 with 1 Axes>"
      ]
     },
     "metadata": {
      "needs_background": "light"
     },
     "output_type": "display_data"
    },
    {
     "data": {
      "image/png": "[encoded data removed]",
      "text/plain": [
       "<Figure size 432x288 with 1 Axes>"
      ]
     },
     "metadata": {
      "needs_background": "light"
     },
     "output_type": "display_data"
    }
   ],
   "source": [
    "\n",
    "for i in range(1, 13):\n",
    "    calls_pivot[calls_pivot[i]>0].query('tariff == \"smart\"')[i].plot(kind = 'hist', alpha = 0.7) # отфильтруем 0 и построим графиик по тарифу смарт\n",
    "    calls_pivot[calls_pivot[i]>0].query('tariff == \"ultra\"')[i].plot(kind = 'hist', alpha = 0.5) # отфильтруем 0 и построим графики по тарифу ультра\n",
    "    plt.xlabel('Среднемесячное кол-во минут, мин')\n",
    "    plt.ylabel('Плотность частоты, кл.')\n",
    "    plt.title(month_names[i])\n",
    "    plt.legend(['smart', 'ultra'])\n",
    "    plt.show();\n",
    "\n",
    "    "
   ]
  },
  {
   "cell_type": "markdown",
   "metadata": {},
   "source": [
    "На графиках видно две особенности распределения кол-ва потребленных минут: <br>\n",
    "1) часто в один и тот же месяц график распределения частоты повторяется для Smart и Ultra, <br>\n",
    "2) пиковые значения тарифа Ultra смещены вправо относительно пиковых значений Smart. <br>\n",
    "В целом это подтверждает, что на тарифе Ultra тратят больше минут в месяц, чем на другом тарифе.\n",
    "Можно также сделать наблюдение, что каждому месяцу характерно определенное распределение частот, которое не сильно меняется от тарифа к тарифу и видимо зависит от неких внешних факторов."
   ]
  },
  {
   "cell_type": "code",
   "execution_count": null,
   "metadata": {},
   "outputs": [],
   "source": [
    "internet_pivot = pd.merge(internet_pivot, users, left_index = True, right_on = 'user_id')"
   ]
  },
  {
   "cell_type": "code",
   "execution_count": null,
   "metadata": {},
   "outputs": [],
   "source": [
    "try:\n",
    "    for i in range(1, 13):\n",
    "        internet_pivot[internet_pivot[i]>0].query('tariff == \"smart\"')[i].plot(kind = 'hist', alpha = 0.7) # отфильтруем 0 и построим графики по тарифу смарт\n",
    "        internet_pivot[internet_pivot[i]>0].query('tariff == \"ultra\"')[i].plot(kind = 'hist', alpha = 0.5) # отфильтруем 0 и построим графики по тарифу ультра\n",
    "        plt.xlabel('Среднемесячное кол-во трафика, Гб')\n",
    "        plt.ylabel('Плотность частоты, кл.')\n",
    "        plt.title(month_names[i])\n",
    "        plt.legend(['smart', 'ultra'])\n",
    "        plt.show();\n",
    "except:\n",
    "    pass"
   ]
  },
  {
   "cell_type": "markdown",
   "metadata": {},
   "source": [
    "По графикам интернет-трафика вывод противоположный  - графики распределения для двух тарифов существенно отличаются - у тарифа Ultra он пологий, с неявным пиком практически во все месяцы, а у тарифа Smart в каждом месяце имеется явный пик, которой приходится на 15-20 Гб в месяц. <br> Это означает что большинство клиентов тарифа Smart, скорее всего, стараются не превышать лимит включенного в пакет трафика, или несильно превышать. Клиенты тарифа Ultra не так внимательны к лимитам и потребляют столько трафика, сколько им нужно (больше или меньше лимита в зависимоти от клиента)."
   ]
  },
  {
   "cell_type": "code",
   "execution_count": null,
   "metadata": {},
   "outputs": [],
   "source": [
    "messages_pivot = pd.merge(messages_pivot, users, left_index = True, right_on = 'user_id')"
   ]
  },
  {
   "cell_type": "code",
   "execution_count": 27,
   "metadata": {},
   "outputs": [
    {
     "name": "stderr",
     "output_type": "stream",
     "text": [
      "/tmp/ipykernel_224/3770254282.py:3: UserWarning: Boolean Series key will be reindexed to match DataFrame index.\n",
      "  messages_pivot[internet_pivot[month]>0].query('tariff == \"smart\"')[i].plot(kind = 'hist', alpha = 0.7) # отфильтруем 0 и построим графики по тарифу смарт\n"
     ]
    }
   ],
   "source": [
    "\n",
    "for month in range(1, 13):\n",
    "    messages_pivot[internet_pivot[month]>0].query('tariff == \"smart\"')[i].plot(kind = 'hist', alpha = 0.7) # отфильтруем 0 и построим графики по тарифу смарт\n",
    "    messages_pivot[internet_pivot[month]>0].query('tariff == \"ultra\"')[i].plot(kind = 'hist', alpha = 0.5) # отфильтруем 0 и построим графики по тарифу ультра\n",
    "    plt.xlabel('Среднемесячное кол-во сообщений, смс')\n",
    "    plt.ylabel('Плотность частоты, кл.')\n",
    "    plt.title(month_names[month])\n",
    "    plt.legend(['smart', 'ultra'])\n",
    "    plt.show();"
   ]
  },
  {
   "cell_type": "markdown",
   "metadata": {},
   "source": [
    "По помесячным графикам распределения сообщений можно сделать следующий вывод: <br>\n",
    "1. От месяца к месяцу становится все более очевидно, что распределение смещено вправо, то есть пик приходит на 0 или минимальное количество сообщений. В данном случае это никак не связано с сезонностью, а связано с характером выборки - в нее попали только те, кто регистрировали контракт в течение 2018 года. К концу года количество регистраций значительно выше, чем к началу, поэтому статистики больше и она более репрезентативна. (Этот последний комментарий так же применим к графика по звонкам и интернет-трафику.) <br>\n",
    "2. Очевидно наблюдается тот факт, что клиенты тарифа Smart не используют или почти не используют sms-сообщения, очевидный пик приходится на промежуток от 0 до 10 (и это при том, что все нулевые значения я вообще отсеяла). На тарифе Ultra сообщения более востребованы, хотя тоже не очень популярны. <br><br>\n",
    "Можно выдвинуть гипотезу, что клиенты тарифа smart в среднем более молоды, чем клиенты Ultra и пользуются мессенжерами вместо sms. Косвенно это так же подтверждается ценой на тариф Ultra и отношением к потреблению интернет-трафика."
   ]
  },
  {
   "cell_type": "markdown",
   "metadata": {},
   "source": [
    "## Проверка гипотез"
   ]
  },
  {
   "cell_type": "markdown",
   "metadata": {},
   "source": [
    "Нам необходимо проверить на валидность две различных гипотезы:\n",
    "- средняя выручка пользователей тарифов «Ультра» и «Смарт» различаются;\n",
    "- средняя выручка пользователей из Москвы отличается от выручки пользователей из других регионов.\n"
   ]
  },
  {
   "cell_type": "markdown",
   "metadata": {},
   "source": [
    "###  Средняя выручка от пользователей тарифов Ультра и Смарт различаются"
   ]
  },
  {
   "cell_type": "markdown",
   "metadata": {},
   "source": [
    "Сформулируем нулевую гипотезу по этому вопросу: \"Средняя месячная выручка от пользователей тарифа Ультра равна средней месячной выручке от пользователей тарифа Смарт\" (двустороняя гипотеза)."
   ]
  },
  {
   "cell_type": "code",
   "execution_count": null,
   "metadata": {},
   "outputs": [],
   "source": [
    "hyp0_smart = total_revenue.query('tariff == \"smart\"') # выделим данные по тарифу Smart\n",
    "hyp0_smart = hyp0_smart.loc[:, 1:12]\n",
    "datalist=[]\n",
    "for line in hyp0_smart.index:  # соберем все сырые данные о помесячной выручке в один список, а затем - в единый столбец\n",
    "    for column in range(1, 13):\n",
    "        if hyp0_smart.loc[line, column]>0:\n",
    "            datalist.append(hyp0_smart.loc[line, column])\n",
    "datalist_smart = pd.Series(datalist)\n"
   ]
  },
  {
   "cell_type": "code",
   "execution_count": null,
   "metadata": {},
   "outputs": [],
   "source": [
    "hyp0_ultra = total_revenue.query('tariff == \"ultra\"') # выделим данные по тарифу Ultra\n",
    "hyp0_ultra = hyp0_ultra.loc[:, 1:12]\n",
    "datalist=[]\n",
    "for line in hyp0_ultra.index:  # соберем все сырые данные о помесячной выручке в один список, а затем - в единый столбец\n",
    "    for column in range(1, 13):\n",
    "        if hyp0_ultra.loc[line, column]>0:\n",
    "            datalist.append(hyp0_ultra.loc[line, column])\n",
    "datalist_ultra = pd.Series(datalist)"
   ]
  },
  {
   "cell_type": "code",
   "execution_count": null,
   "metadata": {},
   "outputs": [],
   "source": [
    "# проведем t-тест на проверку нулевой гипотезы \"средние двух генеральных совокупностей равны между собой\"\n",
    "alpha = 0.01\n",
    "results = st.ttest_ind(datalist_ultra, datalist_smart, equal_var = False)\n",
    "print('p-значение:', results.pvalue)\n",
    "if results.pvalue < alpha:\n",
    "    print('Гипотеза не подтвердилась.')\n",
    "else:\n",
    "    print('Гипотеза подтвердилась.')"
   ]
  },
  {
   "cell_type": "markdown",
   "metadata": {},
   "source": [
    "Основываясь на данных расчета можно сделать вывод о том, что средняя месячная выручка от клиентов тарифа Ultra не равна средней вырочки по тарифу Smart. В принципе, данные выборочной совокупности это подтверждают (см п.3), это хорошо видно на графиках. <br>\n",
    "Мы смогли подтвердить валидность этого удверждения и для генеральной совокупности."
   ]
  },
  {
   "cell_type": "markdown",
   "metadata": {},
   "source": [
    "### Средняя выручка от пользователей из Москвы отличается от выручки от пользователей из других регионов"
   ]
  },
  {
   "cell_type": "markdown",
   "metadata": {},
   "source": [
    "Сформулируем нулевую гипотезу по этому вопросу: \"Средняя месячная выручка от пользователей в Москве равна средней месячной выручке от пользователей вне Москвы (в регионах)\" (двустороняя гипотеза)."
   ]
  },
  {
   "cell_type": "code",
   "execution_count": null,
   "metadata": {},
   "outputs": [],
   "source": [
    "total_revenue = pd.merge(total_revenue, users[['city', 'user_id']], left_index = True, right_on ='user_id') #перенесем данные о городе проживания клиентов в таблицу с доходом\n",
    "hyp0_moscow = total_revenue.query('city == \"Москва\"') # выделим данные клиентов из Москвы\n",
    "hyp0_moscow = hyp0_moscow.loc[:, 1:12]\n",
    "datalist=[]\n",
    "for line in hyp0_moscow.index:  # соберем все сырые данные о помесячной выручке в один список, а затем - в единый столбец\n",
    "    for column in range(1, 13):\n",
    "        if hyp0_moscow.loc[line, column]>0:\n",
    "            datalist.append(hyp0_moscow.loc[line, column])\n",
    "datalist_moscow = pd.Series(datalist)\n"
   ]
  },
  {
   "cell_type": "code",
   "execution_count": null,
   "metadata": {},
   "outputs": [],
   "source": [
    "hyp0_region = total_revenue.query('city != \"Москва\"')\n",
    "hyp0_region = hyp0_region.loc[:, 1:12]\n",
    "datalist=[]\n",
    "for line in hyp0_region.index:  # соберем все сырые данные о помесячной выручке в один список, а затем - в единый столбец\n",
    "    for column in range(1, 13):\n",
    "        if hyp0_region.loc[line, column]>0:\n",
    "            datalist.append(hyp0_region.loc[line, column])\n",
    "datalist_region = pd.Series(datalist)"
   ]
  },
  {
   "cell_type": "code",
   "execution_count": null,
   "metadata": {},
   "outputs": [],
   "source": [
    "# проведем t-тест на проверку нулевой гипотезы \"средние двух генеральных совокупностей равны между собой\"\n",
    "alpha = 0.05\n",
    "results = st.ttest_ind(datalist_moscow, datalist_region, equal_var = False)\n",
    "print('p-значение:', results.pvalue)\n",
    "if results.pvalue < alpha:\n",
    "    print('Гипотеза может быть отвергнута.')\n",
    "else:\n",
    "    print('Гипотеза не может быть отвергнута.')"
   ]
  },
  {
   "cell_type": "markdown",
   "metadata": {},
   "source": [
    "Основываясь на результатая расчетов, мы делаем вывод, что наша гипотеза о том, что средняя выручка от клиентов в Москве и клиентов в регионах примерно равны, во всяком случае, нет достаточных оснований предполагать, что это не так. <br>\n",
    "Это логично, учитывая, что нет различия в тарификации для клиентов различных регионов."
   ]
  },
  {
   "cell_type": "markdown",
   "metadata": {},
   "source": [
    "# Общий вывод"
   ]
  },
  {
   "cell_type": "markdown",
   "metadata": {},
   "source": [
    "Мы исследовали данные от сотового оператора о клиентах двух тарифов - Smart & Ultra. <br>\n",
    "Нам удалось ответить на все основные вопросы:<br>\n",
    "1. Для компании больше выручки на одного клиента в месяц приносит тариф Ultra. Однако, необходимо оценить количество клиентов на этом тарифе, его фактический приток и отток, т.к. тариф кажется не сбалансированным по цене - качеству для клиента, т.к. не отвечает его потребностям (вернее, избыточен по сравнению с ними).<br>\n",
    "Исходя из помесячной динамики основных показателей, можно предложить скорректировать лимиты по sms-сообщениям на оба тарифа - потребление сообщений остается одинаково низким напротяжении всего года.<br>\n",
    "2. Гипотеза о совпадении средней выручки по тарифам Ultra и Smart *не подтвердилась*, что так же характерно заметно и на выборочных данных. <br>\n",
    "3. Гипотеза о совпадении средней выручки по Москве и другим городам *подтвердилась*. Рекомендуется исследовать дополнительно поведение клиентов в различных регионах для более детального анализа и предложения кастомизированных тарифов по регионам. По данной выборке сделать такой анализ не представляется возможным из-за недостаточной выборки по большинству городов."
   ]
  },
  {
   "cell_type": "markdown",
   "metadata": {},
   "source": [
    "Привет! Спасибо за комментарии и рекоммендации! Я постаралась все учесть и доделать-переделать.\n",
    "Отдельное спасибо что так быстро проверил - у меня еще Сборный проект висит, надо торопиться, чтобы не угодить в академ :)"
   ]
  },
  {
   "cell_type": "code",
   "execution_count": null,
   "metadata": {},
   "outputs": [],
   "source": []
  }
 ],
 "metadata": {
  "ExecuteTimeLog": [
   {
    "duration": 539,
    "start_time": "2022-06-12T09:57:48.845Z"
   },
   {
    "duration": 264,
    "start_time": "2022-06-12T09:58:04.489Z"
   },
   {
    "duration": 1180,
    "start_time": "2022-06-12T09:58:07.976Z"
   },
   {
    "duration": 502,
    "start_time": "2022-06-12T09:59:14.522Z"
   },
   {
    "duration": 518,
    "start_time": "2022-06-12T09:59:51.628Z"
   },
   {
    "duration": 484,
    "start_time": "2022-06-12T10:00:16.628Z"
   },
   {
    "duration": 534,
    "start_time": "2022-06-12T10:00:50.541Z"
   },
   {
    "duration": 513,
    "start_time": "2022-06-12T10:01:47.395Z"
   },
   {
    "duration": 608,
    "start_time": "2022-06-12T10:02:29.152Z"
   },
   {
    "duration": 549,
    "start_time": "2022-06-12T10:03:11.335Z"
   },
   {
    "duration": 615,
    "start_time": "2022-06-12T10:03:29.230Z"
   },
   {
    "duration": 640,
    "start_time": "2022-06-12T10:05:13.969Z"
   },
   {
    "duration": 629,
    "start_time": "2022-06-12T10:06:06.314Z"
   },
   {
    "duration": 70,
    "start_time": "2022-06-12T10:20:09.683Z"
   },
   {
    "duration": 15,
    "start_time": "2022-06-12T10:20:18.540Z"
   },
   {
    "duration": 162,
    "start_time": "2022-06-12T10:20:23.021Z"
   },
   {
    "duration": 162,
    "start_time": "2022-06-12T10:20:53.969Z"
   },
   {
    "duration": 205,
    "start_time": "2022-06-12T10:20:57.017Z"
   },
   {
    "duration": 105,
    "start_time": "2022-06-12T10:21:02.820Z"
   },
   {
    "duration": 8,
    "start_time": "2022-06-12T10:23:45.752Z"
   },
   {
    "duration": 3,
    "start_time": "2022-06-12T10:23:51.851Z"
   },
   {
    "duration": 3,
    "start_time": "2022-06-12T10:23:54.671Z"
   },
   {
    "duration": 70,
    "start_time": "2022-06-12T10:23:59.717Z"
   },
   {
    "duration": 58,
    "start_time": "2022-06-12T10:24:13.051Z"
   },
   {
    "duration": 7,
    "start_time": "2022-06-12T10:25:30.565Z"
   },
   {
    "duration": 6,
    "start_time": "2022-06-12T10:25:52.066Z"
   },
   {
    "duration": 8,
    "start_time": "2022-06-12T10:25:57.560Z"
   },
   {
    "duration": 9,
    "start_time": "2022-06-12T10:26:16.043Z"
   },
   {
    "duration": 11,
    "start_time": "2022-06-12T10:26:33.831Z"
   },
   {
    "duration": 4,
    "start_time": "2022-06-12T10:40:27.905Z"
   },
   {
    "duration": 7,
    "start_time": "2022-06-12T10:40:36.416Z"
   },
   {
    "duration": 24,
    "start_time": "2022-06-12T10:41:03.858Z"
   },
   {
    "duration": 19,
    "start_time": "2022-06-12T10:44:31.428Z"
   },
   {
    "duration": 29,
    "start_time": "2022-06-12T10:44:53.194Z"
   },
   {
    "duration": 14,
    "start_time": "2022-06-12T10:45:07.927Z"
   },
   {
    "duration": 15,
    "start_time": "2022-06-12T10:46:13.235Z"
   },
   {
    "duration": 14,
    "start_time": "2022-06-12T10:47:20.240Z"
   },
   {
    "duration": 8,
    "start_time": "2022-06-12T10:52:31.558Z"
   },
   {
    "duration": 4,
    "start_time": "2022-06-12T10:52:41.538Z"
   },
   {
    "duration": 80,
    "start_time": "2022-06-12T10:52:47.452Z"
   },
   {
    "duration": 11,
    "start_time": "2022-06-12T11:02:15.536Z"
   },
   {
    "duration": 23,
    "start_time": "2022-06-12T11:02:29.536Z"
   },
   {
    "duration": 34,
    "start_time": "2022-06-12T11:02:44.810Z"
   },
   {
    "duration": 14,
    "start_time": "2022-06-12T11:02:54.828Z"
   },
   {
    "duration": 10,
    "start_time": "2022-06-12T11:02:58.070Z"
   },
   {
    "duration": 58,
    "start_time": "2022-06-12T11:03:14.487Z"
   },
   {
    "duration": 53,
    "start_time": "2022-06-12T11:03:42.307Z"
   },
   {
    "duration": 42,
    "start_time": "2022-06-12T11:04:43.832Z"
   },
   {
    "duration": 47,
    "start_time": "2022-06-12T11:04:52.804Z"
   },
   {
    "duration": 68,
    "start_time": "2022-06-12T11:06:20.770Z"
   },
   {
    "duration": 68,
    "start_time": "2022-06-12T11:06:31.343Z"
   },
   {
    "duration": 48,
    "start_time": "2022-06-12T11:06:37.794Z"
   },
   {
    "duration": 57,
    "start_time": "2022-06-12T11:06:58.897Z"
   },
   {
    "duration": 10,
    "start_time": "2022-06-12T11:09:15.614Z"
   },
   {
    "duration": 12,
    "start_time": "2022-06-12T11:09:27.402Z"
   },
   {
    "duration": 36,
    "start_time": "2022-06-12T11:09:52.294Z"
   },
   {
    "duration": 32,
    "start_time": "2022-06-12T11:10:00.554Z"
   },
   {
    "duration": 41,
    "start_time": "2022-06-12T11:12:27.634Z"
   },
   {
    "duration": 37,
    "start_time": "2022-06-12T11:12:31.542Z"
   },
   {
    "duration": 29,
    "start_time": "2022-06-12T11:12:41.913Z"
   },
   {
    "duration": 49,
    "start_time": "2022-06-12T11:12:49.137Z"
   },
   {
    "duration": 33,
    "start_time": "2022-06-12T11:13:15.313Z"
   },
   {
    "duration": 1088,
    "start_time": "2022-06-12T15:09:03.555Z"
   },
   {
    "duration": 565,
    "start_time": "2022-06-12T15:09:29.858Z"
   },
   {
    "duration": 536,
    "start_time": "2022-06-12T15:09:34.174Z"
   },
   {
    "duration": 11,
    "start_time": "2022-06-12T15:21:33.007Z"
   },
   {
    "duration": 16,
    "start_time": "2022-06-12T15:22:22.691Z"
   },
   {
    "duration": 19,
    "start_time": "2022-06-12T15:22:35.529Z"
   },
   {
    "duration": 12,
    "start_time": "2022-06-12T15:22:43.880Z"
   },
   {
    "duration": 10,
    "start_time": "2022-06-12T15:23:24.709Z"
   },
   {
    "duration": 10,
    "start_time": "2022-06-12T15:27:06.364Z"
   },
   {
    "duration": 10,
    "start_time": "2022-06-12T15:28:09.524Z"
   },
   {
    "duration": 10,
    "start_time": "2022-06-12T15:28:16.264Z"
   },
   {
    "duration": 12,
    "start_time": "2022-06-12T15:29:37.406Z"
   },
   {
    "duration": 10,
    "start_time": "2022-06-12T15:30:41.306Z"
   },
   {
    "duration": 10,
    "start_time": "2022-06-12T15:31:00.264Z"
   },
   {
    "duration": 19,
    "start_time": "2022-06-12T15:31:26.808Z"
   },
   {
    "duration": 11,
    "start_time": "2022-06-12T15:32:08.144Z"
   },
   {
    "duration": 13,
    "start_time": "2022-06-12T15:32:20.804Z"
   },
   {
    "duration": 13,
    "start_time": "2022-06-12T15:32:29.294Z"
   },
   {
    "duration": 10,
    "start_time": "2022-06-12T15:32:48.819Z"
   },
   {
    "duration": 13,
    "start_time": "2022-06-12T15:32:58.910Z"
   },
   {
    "duration": 13,
    "start_time": "2022-06-12T15:33:09.024Z"
   },
   {
    "duration": 10,
    "start_time": "2022-06-12T15:33:25.364Z"
   },
   {
    "duration": 695,
    "start_time": "2022-06-12T15:33:38.449Z"
   },
   {
    "duration": 3,
    "start_time": "2022-06-12T15:33:39.146Z"
   },
   {
    "duration": 610,
    "start_time": "2022-06-12T15:33:39.151Z"
   },
   {
    "duration": 85,
    "start_time": "2022-06-12T15:33:39.763Z"
   },
   {
    "duration": 223,
    "start_time": "2022-06-12T15:33:39.850Z"
   },
   {
    "duration": 82,
    "start_time": "2022-06-12T15:33:40.075Z"
   },
   {
    "duration": 4,
    "start_time": "2022-06-12T15:33:40.158Z"
   },
   {
    "duration": 0,
    "start_time": "2022-06-12T15:33:40.164Z"
   },
   {
    "duration": 0,
    "start_time": "2022-06-12T15:33:40.165Z"
   },
   {
    "duration": 0,
    "start_time": "2022-06-12T15:33:40.166Z"
   },
   {
    "duration": 1,
    "start_time": "2022-06-12T15:33:40.167Z"
   },
   {
    "duration": 0,
    "start_time": "2022-06-12T15:33:40.168Z"
   },
   {
    "duration": 46,
    "start_time": "2022-06-12T15:34:10.521Z"
   },
   {
    "duration": 43,
    "start_time": "2022-06-12T15:34:10.569Z"
   },
   {
    "duration": 46,
    "start_time": "2022-06-12T15:34:10.614Z"
   },
   {
    "duration": 51,
    "start_time": "2022-06-12T15:34:10.662Z"
   },
   {
    "duration": 3,
    "start_time": "2022-06-12T15:34:10.716Z"
   },
   {
    "duration": 44,
    "start_time": "2022-06-12T15:34:45.045Z"
   },
   {
    "duration": 569,
    "start_time": "2022-06-12T15:39:08.940Z"
   },
   {
    "duration": 69,
    "start_time": "2022-06-12T15:44:24.519Z"
   },
   {
    "duration": 49,
    "start_time": "2022-06-12T15:44:35.419Z"
   },
   {
    "duration": 100,
    "start_time": "2022-06-12T15:44:55.120Z"
   },
   {
    "duration": 55,
    "start_time": "2022-06-12T15:45:42.669Z"
   },
   {
    "duration": 72,
    "start_time": "2022-06-12T15:48:43.405Z"
   },
   {
    "duration": 13,
    "start_time": "2022-06-12T15:48:58.910Z"
   },
   {
    "duration": 56,
    "start_time": "2022-06-12T15:49:13.396Z"
   },
   {
    "duration": 10,
    "start_time": "2022-06-12T15:49:21.527Z"
   },
   {
    "duration": 59,
    "start_time": "2022-06-12T15:50:22.039Z"
   },
   {
    "duration": 10,
    "start_time": "2022-06-12T15:50:26.620Z"
   },
   {
    "duration": 8,
    "start_time": "2022-06-12T15:52:03.247Z"
   },
   {
    "duration": 18,
    "start_time": "2022-06-12T15:52:22.966Z"
   },
   {
    "duration": 20,
    "start_time": "2022-06-12T16:04:39.439Z"
   },
   {
    "duration": 23,
    "start_time": "2022-06-12T16:04:51.106Z"
   },
   {
    "duration": 16,
    "start_time": "2022-06-12T16:05:40.341Z"
   },
   {
    "duration": 3,
    "start_time": "2022-06-12T16:11:04.834Z"
   },
   {
    "duration": 14,
    "start_time": "2022-06-12T16:13:03.709Z"
   },
   {
    "duration": 4,
    "start_time": "2022-06-12T16:13:16.009Z"
   },
   {
    "duration": 10,
    "start_time": "2022-06-12T16:15:02.241Z"
   },
   {
    "duration": 589,
    "start_time": "2022-06-12T16:15:32.675Z"
   },
   {
    "duration": 3,
    "start_time": "2022-06-12T16:15:33.266Z"
   },
   {
    "duration": 559,
    "start_time": "2022-06-12T16:15:33.271Z"
   },
   {
    "duration": 103,
    "start_time": "2022-06-12T16:15:33.832Z"
   },
   {
    "duration": 227,
    "start_time": "2022-06-12T16:15:33.937Z"
   },
   {
    "duration": 78,
    "start_time": "2022-06-12T16:15:34.166Z"
   },
   {
    "duration": 67,
    "start_time": "2022-06-12T16:15:34.245Z"
   },
   {
    "duration": 60,
    "start_time": "2022-06-12T16:15:34.314Z"
   },
   {
    "duration": 54,
    "start_time": "2022-06-12T16:15:34.376Z"
   },
   {
    "duration": 33,
    "start_time": "2022-06-12T16:15:34.432Z"
   },
   {
    "duration": 3,
    "start_time": "2022-06-12T16:15:34.466Z"
   },
   {
    "duration": 49,
    "start_time": "2022-06-12T16:15:34.470Z"
   },
   {
    "duration": 3,
    "start_time": "2022-06-12T16:15:34.520Z"
   },
   {
    "duration": 120,
    "start_time": "2022-06-12T16:18:58.915Z"
   },
   {
    "duration": 34,
    "start_time": "2022-06-12T16:19:18.219Z"
   },
   {
    "duration": 32,
    "start_time": "2022-06-12T16:19:26.327Z"
   },
   {
    "duration": 28,
    "start_time": "2022-06-12T16:22:56.259Z"
   },
   {
    "duration": 41,
    "start_time": "2022-06-12T16:23:07.478Z"
   },
   {
    "duration": 39,
    "start_time": "2022-06-12T16:24:00.598Z"
   },
   {
    "duration": 28,
    "start_time": "2022-06-12T16:24:27.659Z"
   },
   {
    "duration": 32,
    "start_time": "2022-06-12T16:25:21.507Z"
   },
   {
    "duration": 39,
    "start_time": "2022-06-12T16:25:32.907Z"
   },
   {
    "duration": 40,
    "start_time": "2022-06-12T16:28:15.839Z"
   },
   {
    "duration": 29,
    "start_time": "2022-06-12T16:28:52.638Z"
   },
   {
    "duration": 27,
    "start_time": "2022-06-12T16:29:22.746Z"
   },
   {
    "duration": 29,
    "start_time": "2022-06-12T16:29:30.548Z"
   },
   {
    "duration": 0,
    "start_time": "2022-06-12T16:34:18.923Z"
   },
   {
    "duration": 36,
    "start_time": "2022-06-12T16:34:23.199Z"
   },
   {
    "duration": 38,
    "start_time": "2022-06-12T16:34:52.501Z"
   },
   {
    "duration": 40,
    "start_time": "2022-06-12T16:37:09.081Z"
   },
   {
    "duration": 50,
    "start_time": "2022-06-12T16:37:57.509Z"
   },
   {
    "duration": 40,
    "start_time": "2022-06-12T16:39:40.827Z"
   },
   {
    "duration": 50,
    "start_time": "2022-06-12T16:40:10.976Z"
   },
   {
    "duration": 587,
    "start_time": "2022-06-12T16:40:35.146Z"
   },
   {
    "duration": 3,
    "start_time": "2022-06-12T16:40:35.735Z"
   },
   {
    "duration": 570,
    "start_time": "2022-06-12T16:40:35.740Z"
   },
   {
    "duration": 98,
    "start_time": "2022-06-12T16:40:36.312Z"
   },
   {
    "duration": 216,
    "start_time": "2022-06-12T16:40:36.411Z"
   },
   {
    "duration": 80,
    "start_time": "2022-06-12T16:40:36.629Z"
   },
   {
    "duration": 51,
    "start_time": "2022-06-12T16:40:36.710Z"
   },
   {
    "duration": 85,
    "start_time": "2022-06-12T16:40:36.763Z"
   },
   {
    "duration": 59,
    "start_time": "2022-06-12T16:40:36.850Z"
   },
   {
    "duration": 36,
    "start_time": "2022-06-12T16:40:36.912Z"
   },
   {
    "duration": 3,
    "start_time": "2022-06-12T16:40:36.949Z"
   },
   {
    "duration": 71,
    "start_time": "2022-06-12T16:40:36.953Z"
   },
   {
    "duration": 3,
    "start_time": "2022-06-12T16:40:37.025Z"
   },
   {
    "duration": 25,
    "start_time": "2022-06-12T16:42:15.138Z"
   },
   {
    "duration": 41,
    "start_time": "2022-06-12T16:42:26.247Z"
   },
   {
    "duration": 49,
    "start_time": "2022-06-12T16:42:46.302Z"
   },
   {
    "duration": 36,
    "start_time": "2022-06-12T16:43:00.417Z"
   },
   {
    "duration": 42,
    "start_time": "2022-06-12T16:43:47.057Z"
   },
   {
    "duration": 43,
    "start_time": "2022-06-12T16:44:02.238Z"
   },
   {
    "duration": 41,
    "start_time": "2022-06-12T16:44:46.523Z"
   },
   {
    "duration": 43,
    "start_time": "2022-06-12T16:45:06.737Z"
   },
   {
    "duration": 50,
    "start_time": "2022-06-12T16:45:30.007Z"
   },
   {
    "duration": 51,
    "start_time": "2022-06-12T16:48:34.387Z"
   },
   {
    "duration": 42,
    "start_time": "2022-06-12T16:48:51.112Z"
   },
   {
    "duration": 43,
    "start_time": "2022-06-12T16:49:20.744Z"
   },
   {
    "duration": 61,
    "start_time": "2022-06-12T16:49:39.588Z"
   },
   {
    "duration": 34,
    "start_time": "2022-06-12T16:49:51.026Z"
   },
   {
    "duration": 109,
    "start_time": "2022-06-12T16:51:42.553Z"
   },
   {
    "duration": 36,
    "start_time": "2022-06-12T16:52:40.417Z"
   },
   {
    "duration": 36,
    "start_time": "2022-06-12T16:54:00.579Z"
   },
   {
    "duration": 37,
    "start_time": "2022-06-12T16:54:12.508Z"
   },
   {
    "duration": 40,
    "start_time": "2022-06-12T16:54:50.566Z"
   },
   {
    "duration": 36,
    "start_time": "2022-06-12T16:55:07.813Z"
   },
   {
    "duration": 37,
    "start_time": "2022-06-12T16:55:25.437Z"
   },
   {
    "duration": 44,
    "start_time": "2022-06-12T17:04:04.533Z"
   },
   {
    "duration": 29,
    "start_time": "2022-06-12T17:15:39.979Z"
   },
   {
    "duration": 38,
    "start_time": "2022-06-12T17:18:15.603Z"
   },
   {
    "duration": 39,
    "start_time": "2022-06-12T17:18:28.006Z"
   },
   {
    "duration": 41,
    "start_time": "2022-06-12T17:19:21.744Z"
   },
   {
    "duration": 48,
    "start_time": "2022-06-12T17:21:05.778Z"
   },
   {
    "duration": 43,
    "start_time": "2022-06-12T17:21:21.025Z"
   },
   {
    "duration": 41,
    "start_time": "2022-06-12T17:21:41.230Z"
   },
   {
    "duration": 41,
    "start_time": "2022-06-12T17:21:58.814Z"
   },
   {
    "duration": 37,
    "start_time": "2022-06-12T17:22:27.112Z"
   },
   {
    "duration": 44,
    "start_time": "2022-06-12T17:22:55.221Z"
   },
   {
    "duration": 58,
    "start_time": "2022-06-12T17:24:12.258Z"
   },
   {
    "duration": 41,
    "start_time": "2022-06-12T17:25:47.094Z"
   },
   {
    "duration": 35,
    "start_time": "2022-06-12T17:25:53.739Z"
   },
   {
    "duration": 694,
    "start_time": "2022-06-14T07:33:34.541Z"
   },
   {
    "duration": 3,
    "start_time": "2022-06-14T07:33:35.238Z"
   },
   {
    "duration": 1249,
    "start_time": "2022-06-14T07:33:35.243Z"
   },
   {
    "duration": 74,
    "start_time": "2022-06-14T07:33:36.494Z"
   },
   {
    "duration": 184,
    "start_time": "2022-06-14T07:33:36.570Z"
   },
   {
    "duration": 60,
    "start_time": "2022-06-14T07:33:36.756Z"
   },
   {
    "duration": 47,
    "start_time": "2022-06-14T07:33:36.817Z"
   },
   {
    "duration": 68,
    "start_time": "2022-06-14T07:33:36.866Z"
   },
   {
    "duration": 58,
    "start_time": "2022-06-14T07:33:36.935Z"
   },
   {
    "duration": 35,
    "start_time": "2022-06-14T07:33:36.995Z"
   },
   {
    "duration": 2,
    "start_time": "2022-06-14T07:33:37.032Z"
   },
   {
    "duration": 80,
    "start_time": "2022-06-14T07:33:37.036Z"
   },
   {
    "duration": 5,
    "start_time": "2022-06-14T07:33:37.118Z"
   },
   {
    "duration": 551,
    "start_time": "2022-06-14T07:42:01.265Z"
   },
   {
    "duration": 2,
    "start_time": "2022-06-14T07:42:01.818Z"
   },
   {
    "duration": 480,
    "start_time": "2022-06-14T07:42:01.822Z"
   },
   {
    "duration": 79,
    "start_time": "2022-06-14T07:42:02.304Z"
   },
   {
    "duration": 171,
    "start_time": "2022-06-14T07:42:02.384Z"
   },
   {
    "duration": 71,
    "start_time": "2022-06-14T07:42:02.557Z"
   },
   {
    "duration": 46,
    "start_time": "2022-06-14T07:42:02.630Z"
   },
   {
    "duration": 66,
    "start_time": "2022-06-14T07:42:02.678Z"
   },
   {
    "duration": 32,
    "start_time": "2022-06-14T07:42:02.746Z"
   },
   {
    "duration": 35,
    "start_time": "2022-06-14T07:42:02.790Z"
   },
   {
    "duration": 6,
    "start_time": "2022-06-14T07:42:02.827Z"
   },
   {
    "duration": 107,
    "start_time": "2022-06-14T07:42:02.834Z"
   },
   {
    "duration": 0,
    "start_time": "2022-06-14T07:42:02.942Z"
   },
   {
    "duration": 49,
    "start_time": "2022-06-14T07:42:13.106Z"
   },
   {
    "duration": 37,
    "start_time": "2022-06-14T07:42:48.301Z"
   },
   {
    "duration": 171,
    "start_time": "2022-06-14T07:43:00.788Z"
   },
   {
    "duration": 173,
    "start_time": "2022-06-14T07:43:35.474Z"
   },
   {
    "duration": 562,
    "start_time": "2022-06-14T07:43:45.789Z"
   },
   {
    "duration": 2,
    "start_time": "2022-06-14T07:43:46.352Z"
   },
   {
    "duration": 468,
    "start_time": "2022-06-14T07:43:46.356Z"
   },
   {
    "duration": 97,
    "start_time": "2022-06-14T07:43:46.825Z"
   },
   {
    "duration": 184,
    "start_time": "2022-06-14T07:43:46.925Z"
   },
   {
    "duration": 97,
    "start_time": "2022-06-14T07:43:47.111Z"
   },
   {
    "duration": 50,
    "start_time": "2022-06-14T07:43:47.210Z"
   },
   {
    "duration": 54,
    "start_time": "2022-06-14T07:43:47.261Z"
   },
   {
    "duration": 35,
    "start_time": "2022-06-14T07:43:47.317Z"
   },
   {
    "duration": 38,
    "start_time": "2022-06-14T07:43:47.354Z"
   },
   {
    "duration": 2,
    "start_time": "2022-06-14T07:43:47.394Z"
   },
   {
    "duration": 119,
    "start_time": "2022-06-14T07:43:47.397Z"
   },
   {
    "duration": 0,
    "start_time": "2022-06-14T07:43:47.518Z"
   },
   {
    "duration": 77,
    "start_time": "2022-06-14T07:44:48.644Z"
   },
   {
    "duration": 32,
    "start_time": "2022-06-14T07:45:00.766Z"
   },
   {
    "duration": 72,
    "start_time": "2022-06-14T07:45:08.081Z"
   },
   {
    "duration": 36,
    "start_time": "2022-06-14T07:46:30.225Z"
   },
   {
    "duration": 629,
    "start_time": "2022-06-14T07:51:01.480Z"
   },
   {
    "duration": 3,
    "start_time": "2022-06-14T07:51:02.112Z"
   },
   {
    "duration": 458,
    "start_time": "2022-06-14T07:51:02.116Z"
   },
   {
    "duration": 90,
    "start_time": "2022-06-14T07:51:02.576Z"
   },
   {
    "duration": 204,
    "start_time": "2022-06-14T07:51:02.669Z"
   },
   {
    "duration": 67,
    "start_time": "2022-06-14T07:51:02.875Z"
   },
   {
    "duration": 58,
    "start_time": "2022-06-14T07:51:02.943Z"
   },
   {
    "duration": 46,
    "start_time": "2022-06-14T07:51:03.002Z"
   },
   {
    "duration": 67,
    "start_time": "2022-06-14T07:51:03.050Z"
   },
   {
    "duration": 26,
    "start_time": "2022-06-14T07:51:03.118Z"
   },
   {
    "duration": 2,
    "start_time": "2022-06-14T07:51:03.146Z"
   },
   {
    "duration": 14,
    "start_time": "2022-06-14T07:51:03.149Z"
   },
   {
    "duration": 0,
    "start_time": "2022-06-14T07:51:03.164Z"
   },
   {
    "duration": 18,
    "start_time": "2022-06-14T07:51:13.291Z"
   },
   {
    "duration": 120,
    "start_time": "2022-06-14T07:51:24.150Z"
   },
   {
    "duration": 607,
    "start_time": "2022-06-14T07:52:11.455Z"
   },
   {
    "duration": 368,
    "start_time": "2022-06-14T07:53:04.246Z"
   },
   {
    "duration": 46,
    "start_time": "2022-06-14T08:01:31.685Z"
   },
   {
    "duration": 76,
    "start_time": "2022-06-14T08:02:30.063Z"
   },
   {
    "duration": 41,
    "start_time": "2022-06-14T08:02:52.310Z"
   },
   {
    "duration": 140,
    "start_time": "2022-06-14T08:03:53.278Z"
   },
   {
    "duration": 56,
    "start_time": "2022-06-14T08:04:01.885Z"
   },
   {
    "duration": 495,
    "start_time": "2022-06-14T08:04:24.852Z"
   },
   {
    "duration": 2,
    "start_time": "2022-06-14T08:04:25.349Z"
   },
   {
    "duration": 478,
    "start_time": "2022-06-14T08:04:25.352Z"
   },
   {
    "duration": 91,
    "start_time": "2022-06-14T08:04:25.832Z"
   },
   {
    "duration": 184,
    "start_time": "2022-06-14T08:04:25.925Z"
   },
   {
    "duration": 53,
    "start_time": "2022-06-14T08:04:26.111Z"
   },
   {
    "duration": 61,
    "start_time": "2022-06-14T08:04:26.166Z"
   },
   {
    "duration": 45,
    "start_time": "2022-06-14T08:04:26.228Z"
   },
   {
    "duration": 53,
    "start_time": "2022-06-14T08:04:26.274Z"
   },
   {
    "duration": 27,
    "start_time": "2022-06-14T08:04:26.329Z"
   },
   {
    "duration": 3,
    "start_time": "2022-06-14T08:04:26.357Z"
   },
   {
    "duration": 77,
    "start_time": "2022-06-14T08:04:26.361Z"
   },
   {
    "duration": 2,
    "start_time": "2022-06-14T08:04:26.440Z"
   },
   {
    "duration": 50,
    "start_time": "2022-06-14T08:04:57.258Z"
   },
   {
    "duration": 47,
    "start_time": "2022-06-14T08:05:24.148Z"
   },
   {
    "duration": 737,
    "start_time": "2022-06-14T08:05:47.613Z"
   },
   {
    "duration": 50,
    "start_time": "2022-06-14T08:05:55.179Z"
   },
   {
    "duration": 46,
    "start_time": "2022-06-14T08:06:32.590Z"
   },
   {
    "duration": 57,
    "start_time": "2022-06-14T08:06:45.858Z"
   },
   {
    "duration": 74,
    "start_time": "2022-06-14T08:08:23.195Z"
   },
   {
    "duration": 51,
    "start_time": "2022-06-14T08:20:42.532Z"
   },
   {
    "duration": 43,
    "start_time": "2022-06-14T08:22:07.149Z"
   },
   {
    "duration": 44,
    "start_time": "2022-06-14T08:22:28.574Z"
   },
   {
    "duration": 59,
    "start_time": "2022-06-14T08:22:35.111Z"
   },
   {
    "duration": 62,
    "start_time": "2022-06-14T08:22:56.649Z"
   },
   {
    "duration": 77,
    "start_time": "2022-06-14T08:23:19.007Z"
   },
   {
    "duration": 73,
    "start_time": "2022-06-14T08:23:30.374Z"
   },
   {
    "duration": 571,
    "start_time": "2022-06-14T08:24:03.398Z"
   },
   {
    "duration": 2,
    "start_time": "2022-06-14T08:24:03.971Z"
   },
   {
    "duration": 485,
    "start_time": "2022-06-14T08:24:03.974Z"
   },
   {
    "duration": 89,
    "start_time": "2022-06-14T08:24:04.461Z"
   },
   {
    "duration": 164,
    "start_time": "2022-06-14T08:24:04.551Z"
   },
   {
    "duration": 53,
    "start_time": "2022-06-14T08:24:04.716Z"
   },
   {
    "duration": 62,
    "start_time": "2022-06-14T08:24:04.771Z"
   },
   {
    "duration": 45,
    "start_time": "2022-06-14T08:24:04.835Z"
   },
   {
    "duration": 36,
    "start_time": "2022-06-14T08:24:04.890Z"
   },
   {
    "duration": 25,
    "start_time": "2022-06-14T08:24:04.929Z"
   },
   {
    "duration": 2,
    "start_time": "2022-06-14T08:24:04.955Z"
   },
   {
    "duration": 73,
    "start_time": "2022-06-14T08:24:04.959Z"
   },
   {
    "duration": 65,
    "start_time": "2022-06-14T08:24:05.034Z"
   },
   {
    "duration": 3,
    "start_time": "2022-06-14T08:24:05.100Z"
   },
   {
    "duration": 68,
    "start_time": "2022-06-14T08:25:03.134Z"
   },
   {
    "duration": 541,
    "start_time": "2022-06-14T08:25:11.016Z"
   },
   {
    "duration": 3,
    "start_time": "2022-06-14T08:25:11.558Z"
   },
   {
    "duration": 468,
    "start_time": "2022-06-14T08:25:11.562Z"
   },
   {
    "duration": 87,
    "start_time": "2022-06-14T08:25:12.032Z"
   },
   {
    "duration": 172,
    "start_time": "2022-06-14T08:25:12.121Z"
   },
   {
    "duration": 63,
    "start_time": "2022-06-14T08:25:12.295Z"
   },
   {
    "duration": 69,
    "start_time": "2022-06-14T08:25:12.359Z"
   },
   {
    "duration": 49,
    "start_time": "2022-06-14T08:25:12.429Z"
   },
   {
    "duration": 58,
    "start_time": "2022-06-14T08:25:12.480Z"
   },
   {
    "duration": 55,
    "start_time": "2022-06-14T08:25:12.541Z"
   },
   {
    "duration": 2,
    "start_time": "2022-06-14T08:25:12.598Z"
   },
   {
    "duration": 70,
    "start_time": "2022-06-14T08:25:12.602Z"
   },
   {
    "duration": 69,
    "start_time": "2022-06-14T08:25:12.673Z"
   },
   {
    "duration": 3,
    "start_time": "2022-06-14T08:25:12.744Z"
   },
   {
    "duration": 69,
    "start_time": "2022-06-14T08:25:44.282Z"
   },
   {
    "duration": 79,
    "start_time": "2022-06-14T08:25:55.065Z"
   },
   {
    "duration": 84,
    "start_time": "2022-06-14T08:27:03.236Z"
   },
   {
    "duration": 88,
    "start_time": "2022-06-14T08:28:57.869Z"
   },
   {
    "duration": 583,
    "start_time": "2022-06-14T08:29:45.695Z"
   },
   {
    "duration": 2,
    "start_time": "2022-06-14T08:29:46.280Z"
   },
   {
    "duration": 479,
    "start_time": "2022-06-14T08:29:46.283Z"
   },
   {
    "duration": 88,
    "start_time": "2022-06-14T08:29:46.764Z"
   },
   {
    "duration": 197,
    "start_time": "2022-06-14T08:29:46.855Z"
   },
   {
    "duration": 86,
    "start_time": "2022-06-14T08:29:47.054Z"
   },
   {
    "duration": 51,
    "start_time": "2022-06-14T08:29:47.141Z"
   },
   {
    "duration": 48,
    "start_time": "2022-06-14T08:29:47.194Z"
   },
   {
    "duration": 52,
    "start_time": "2022-06-14T08:29:47.244Z"
   },
   {
    "duration": 32,
    "start_time": "2022-06-14T08:29:47.298Z"
   },
   {
    "duration": 2,
    "start_time": "2022-06-14T08:29:47.331Z"
   },
   {
    "duration": 73,
    "start_time": "2022-06-14T08:29:47.334Z"
   },
   {
    "duration": 92,
    "start_time": "2022-06-14T08:29:47.409Z"
   },
   {
    "duration": 3,
    "start_time": "2022-06-14T08:29:47.504Z"
   },
   {
    "duration": 72,
    "start_time": "2022-06-14T08:30:19.104Z"
   },
   {
    "duration": 77,
    "start_time": "2022-06-14T08:30:39.964Z"
   },
   {
    "duration": 540,
    "start_time": "2022-06-14T08:30:49.547Z"
   },
   {
    "duration": 3,
    "start_time": "2022-06-14T08:30:50.090Z"
   },
   {
    "duration": 462,
    "start_time": "2022-06-14T08:30:50.095Z"
   },
   {
    "duration": 88,
    "start_time": "2022-06-14T08:30:50.559Z"
   },
   {
    "duration": 171,
    "start_time": "2022-06-14T08:30:50.649Z"
   },
   {
    "duration": 69,
    "start_time": "2022-06-14T08:30:50.822Z"
   },
   {
    "duration": 52,
    "start_time": "2022-06-14T08:30:50.893Z"
   },
   {
    "duration": 58,
    "start_time": "2022-06-14T08:30:50.947Z"
   },
   {
    "duration": 35,
    "start_time": "2022-06-14T08:30:51.007Z"
   },
   {
    "duration": 26,
    "start_time": "2022-06-14T08:30:51.043Z"
   },
   {
    "duration": 21,
    "start_time": "2022-06-14T08:30:51.070Z"
   },
   {
    "duration": 54,
    "start_time": "2022-06-14T08:30:51.093Z"
   },
   {
    "duration": 88,
    "start_time": "2022-06-14T08:30:51.149Z"
   },
   {
    "duration": 2,
    "start_time": "2022-06-14T08:30:51.239Z"
   },
   {
    "duration": 543,
    "start_time": "2022-06-14T08:31:37.857Z"
   },
   {
    "duration": 5,
    "start_time": "2022-06-14T08:31:38.401Z"
   },
   {
    "duration": 482,
    "start_time": "2022-06-14T08:31:38.408Z"
   },
   {
    "duration": 76,
    "start_time": "2022-06-14T08:31:38.897Z"
   },
   {
    "duration": 182,
    "start_time": "2022-06-14T08:31:38.975Z"
   },
   {
    "duration": 68,
    "start_time": "2022-06-14T08:31:39.159Z"
   },
   {
    "duration": 46,
    "start_time": "2022-06-14T08:31:39.228Z"
   },
   {
    "duration": 64,
    "start_time": "2022-06-14T08:31:39.276Z"
   },
   {
    "duration": 35,
    "start_time": "2022-06-14T08:31:39.341Z"
   },
   {
    "duration": 34,
    "start_time": "2022-06-14T08:31:39.396Z"
   },
   {
    "duration": 3,
    "start_time": "2022-06-14T08:31:39.432Z"
   },
   {
    "duration": 80,
    "start_time": "2022-06-14T08:31:39.436Z"
   },
   {
    "duration": 74,
    "start_time": "2022-06-14T08:31:39.518Z"
   },
   {
    "duration": 4,
    "start_time": "2022-06-14T08:31:39.594Z"
   },
   {
    "duration": 79,
    "start_time": "2022-06-14T08:31:47.881Z"
   },
   {
    "duration": 89,
    "start_time": "2022-06-14T08:31:59.955Z"
   },
   {
    "duration": 44,
    "start_time": "2022-06-14T08:32:29.525Z"
   },
   {
    "duration": 48,
    "start_time": "2022-06-14T08:33:08.864Z"
   },
   {
    "duration": 48,
    "start_time": "2022-06-14T08:33:20.407Z"
   },
   {
    "duration": 53,
    "start_time": "2022-06-14T08:33:42.999Z"
   },
   {
    "duration": 62,
    "start_time": "2022-06-14T08:34:06.690Z"
   },
   {
    "duration": 40,
    "start_time": "2022-06-14T08:34:47.562Z"
   },
   {
    "duration": 60,
    "start_time": "2022-06-14T08:35:14.142Z"
   },
   {
    "duration": 53,
    "start_time": "2022-06-14T08:35:25.699Z"
   },
   {
    "duration": 49,
    "start_time": "2022-06-14T08:35:38.409Z"
   },
   {
    "duration": 51,
    "start_time": "2022-06-14T08:36:00.838Z"
   },
   {
    "duration": 50,
    "start_time": "2022-06-14T08:36:38.842Z"
   },
   {
    "duration": 42,
    "start_time": "2022-06-14T08:37:00.098Z"
   },
   {
    "duration": 63,
    "start_time": "2022-06-14T08:37:50.651Z"
   },
   {
    "duration": 39,
    "start_time": "2022-06-14T08:41:28.272Z"
   },
   {
    "duration": 35,
    "start_time": "2022-06-14T08:41:34.592Z"
   },
   {
    "duration": 29,
    "start_time": "2022-06-14T08:45:16.189Z"
   },
   {
    "duration": 21,
    "start_time": "2022-06-14T08:46:27.535Z"
   },
   {
    "duration": 41,
    "start_time": "2022-06-14T08:48:01.579Z"
   },
   {
    "duration": 85,
    "start_time": "2022-06-14T08:50:56.570Z"
   },
   {
    "duration": 31,
    "start_time": "2022-06-14T08:51:15.003Z"
   },
   {
    "duration": 35,
    "start_time": "2022-06-14T08:53:04.588Z"
   },
   {
    "duration": 18,
    "start_time": "2022-06-14T08:53:57.077Z"
   },
   {
    "duration": 382,
    "start_time": "2022-06-14T08:55:23.325Z"
   },
   {
    "duration": 499,
    "start_time": "2022-06-14T08:55:36.043Z"
   },
   {
    "duration": 3,
    "start_time": "2022-06-14T08:55:36.543Z"
   },
   {
    "duration": 514,
    "start_time": "2022-06-14T08:55:36.548Z"
   },
   {
    "duration": 104,
    "start_time": "2022-06-14T08:55:37.064Z"
   },
   {
    "duration": 182,
    "start_time": "2022-06-14T08:55:37.169Z"
   },
   {
    "duration": 69,
    "start_time": "2022-06-14T08:55:37.353Z"
   },
   {
    "duration": 46,
    "start_time": "2022-06-14T08:55:37.423Z"
   },
   {
    "duration": 63,
    "start_time": "2022-06-14T08:55:37.470Z"
   },
   {
    "duration": 32,
    "start_time": "2022-06-14T08:55:37.535Z"
   },
   {
    "duration": 40,
    "start_time": "2022-06-14T08:55:37.569Z"
   },
   {
    "duration": 5,
    "start_time": "2022-06-14T08:55:37.611Z"
   },
   {
    "duration": 52,
    "start_time": "2022-06-14T08:55:37.617Z"
   },
   {
    "duration": 54,
    "start_time": "2022-06-14T08:55:37.671Z"
   },
   {
    "duration": 28,
    "start_time": "2022-06-14T08:55:37.726Z"
   },
   {
    "duration": 86,
    "start_time": "2022-06-14T08:55:37.756Z"
   },
   {
    "duration": 46,
    "start_time": "2022-06-14T08:55:54.280Z"
   },
   {
    "duration": 19,
    "start_time": "2022-06-14T08:56:12.811Z"
   },
   {
    "duration": 17,
    "start_time": "2022-06-14T08:56:27.212Z"
   },
   {
    "duration": 22,
    "start_time": "2022-06-14T08:56:45.690Z"
   },
   {
    "duration": 29,
    "start_time": "2022-06-14T08:56:53.983Z"
   },
   {
    "duration": 15,
    "start_time": "2022-06-14T09:01:18.067Z"
   },
   {
    "duration": 408,
    "start_time": "2022-06-14T09:01:24.583Z"
   },
   {
    "duration": 422,
    "start_time": "2022-06-14T09:01:59.320Z"
   },
   {
    "duration": 467,
    "start_time": "2022-06-14T09:04:27.514Z"
   },
   {
    "duration": 610,
    "start_time": "2022-06-14T09:04:35.713Z"
   },
   {
    "duration": 385,
    "start_time": "2022-06-14T09:04:43.878Z"
   },
   {
    "duration": 428,
    "start_time": "2022-06-14T10:21:59.517Z"
   },
   {
    "duration": 298,
    "start_time": "2022-06-14T10:23:24.057Z"
   },
   {
    "duration": 425,
    "start_time": "2022-06-14T10:23:38.085Z"
   },
   {
    "duration": 17,
    "start_time": "2022-06-14T10:23:55.866Z"
   },
   {
    "duration": 12,
    "start_time": "2022-06-14T10:24:33.799Z"
   },
   {
    "duration": 480,
    "start_time": "2022-06-14T10:25:11.389Z"
   },
   {
    "duration": 13,
    "start_time": "2022-06-14T10:25:34.624Z"
   },
   {
    "duration": 77,
    "start_time": "2022-06-14T10:26:45.015Z"
   },
   {
    "duration": 32,
    "start_time": "2022-06-14T10:26:57.927Z"
   },
   {
    "duration": 419,
    "start_time": "2022-06-14T10:27:09.702Z"
   },
   {
    "duration": 12,
    "start_time": "2022-06-14T10:27:32.922Z"
   },
   {
    "duration": 10,
    "start_time": "2022-06-14T10:27:45.723Z"
   },
   {
    "duration": 571,
    "start_time": "2022-06-14T10:28:52.797Z"
   },
   {
    "duration": 3,
    "start_time": "2022-06-14T10:28:53.369Z"
   },
   {
    "duration": 582,
    "start_time": "2022-06-14T10:30:23.868Z"
   },
   {
    "duration": 2,
    "start_time": "2022-06-14T10:30:24.453Z"
   },
   {
    "duration": 436,
    "start_time": "2022-06-14T10:30:24.457Z"
   },
   {
    "duration": 69,
    "start_time": "2022-06-14T10:30:24.895Z"
   },
   {
    "duration": 159,
    "start_time": "2022-06-14T10:30:24.965Z"
   },
   {
    "duration": 48,
    "start_time": "2022-06-14T10:30:25.126Z"
   },
   {
    "duration": 58,
    "start_time": "2022-06-14T10:30:25.176Z"
   },
   {
    "duration": 43,
    "start_time": "2022-06-14T10:30:25.235Z"
   },
   {
    "duration": 39,
    "start_time": "2022-06-14T10:30:25.280Z"
   },
   {
    "duration": 39,
    "start_time": "2022-06-14T10:30:25.321Z"
   },
   {
    "duration": 2,
    "start_time": "2022-06-14T10:30:25.361Z"
   },
   {
    "duration": 50,
    "start_time": "2022-06-14T10:30:25.391Z"
   },
   {
    "duration": 64,
    "start_time": "2022-06-14T10:30:25.443Z"
   },
   {
    "duration": 40,
    "start_time": "2022-06-14T10:30:25.510Z"
   },
   {
    "duration": 10,
    "start_time": "2022-06-14T10:30:25.551Z"
   },
   {
    "duration": 146,
    "start_time": "2022-06-14T10:30:49.696Z"
   },
   {
    "duration": 1062,
    "start_time": "2022-06-14T10:32:00.646Z"
   },
   {
    "duration": 526,
    "start_time": "2022-06-14T10:34:29.924Z"
   },
   {
    "duration": 2,
    "start_time": "2022-06-14T10:34:30.452Z"
   },
   {
    "duration": 431,
    "start_time": "2022-06-14T10:34:30.455Z"
   },
   {
    "duration": 73,
    "start_time": "2022-06-14T10:34:30.888Z"
   },
   {
    "duration": 158,
    "start_time": "2022-06-14T10:34:30.963Z"
   },
   {
    "duration": 52,
    "start_time": "2022-06-14T10:34:31.122Z"
   },
   {
    "duration": 56,
    "start_time": "2022-06-14T10:34:31.175Z"
   },
   {
    "duration": 44,
    "start_time": "2022-06-14T10:34:31.232Z"
   },
   {
    "duration": 44,
    "start_time": "2022-06-14T10:34:31.277Z"
   },
   {
    "duration": 26,
    "start_time": "2022-06-14T10:34:31.322Z"
   },
   {
    "duration": 2,
    "start_time": "2022-06-14T10:34:31.349Z"
   },
   {
    "duration": 65,
    "start_time": "2022-06-14T10:34:31.353Z"
   },
   {
    "duration": 36,
    "start_time": "2022-06-14T10:34:31.420Z"
   },
   {
    "duration": 97,
    "start_time": "2022-06-14T10:34:31.458Z"
   },
   {
    "duration": 0,
    "start_time": "2022-06-14T10:34:31.557Z"
   },
   {
    "duration": 28,
    "start_time": "2022-06-14T10:34:47.970Z"
   },
   {
    "duration": 44,
    "start_time": "2022-06-14T10:36:18.716Z"
   },
   {
    "duration": 49,
    "start_time": "2022-06-14T10:36:48.426Z"
   },
   {
    "duration": 35,
    "start_time": "2022-06-14T10:36:55.193Z"
   },
   {
    "duration": 581,
    "start_time": "2022-06-14T10:37:03.317Z"
   },
   {
    "duration": 2,
    "start_time": "2022-06-14T10:37:03.900Z"
   },
   {
    "duration": 457,
    "start_time": "2022-06-14T10:37:03.904Z"
   },
   {
    "duration": 87,
    "start_time": "2022-06-14T10:37:04.362Z"
   },
   {
    "duration": 162,
    "start_time": "2022-06-14T10:37:04.451Z"
   },
   {
    "duration": 55,
    "start_time": "2022-06-14T10:37:04.614Z"
   },
   {
    "duration": 58,
    "start_time": "2022-06-14T10:37:04.671Z"
   },
   {
    "duration": 50,
    "start_time": "2022-06-14T10:37:04.730Z"
   },
   {
    "duration": 41,
    "start_time": "2022-06-14T10:37:04.781Z"
   },
   {
    "duration": 27,
    "start_time": "2022-06-14T10:37:04.823Z"
   },
   {
    "duration": 2,
    "start_time": "2022-06-14T10:37:04.852Z"
   },
   {
    "duration": 73,
    "start_time": "2022-06-14T10:37:04.855Z"
   },
   {
    "duration": 40,
    "start_time": "2022-06-14T10:37:04.929Z"
   },
   {
    "duration": 39,
    "start_time": "2022-06-14T10:37:04.972Z"
   },
   {
    "duration": 1292,
    "start_time": "2022-06-14T10:37:05.012Z"
   },
   {
    "duration": 42,
    "start_time": "2022-06-14T10:37:16.184Z"
   },
   {
    "duration": 1135,
    "start_time": "2022-06-14T10:37:24.583Z"
   },
   {
    "duration": 1235,
    "start_time": "2022-06-14T10:38:51.249Z"
   },
   {
    "duration": 30,
    "start_time": "2022-06-14T10:39:08.779Z"
   },
   {
    "duration": 443,
    "start_time": "2022-06-14T10:39:18.902Z"
   },
   {
    "duration": 1142,
    "start_time": "2022-06-14T10:39:37.684Z"
   },
   {
    "duration": 2405,
    "start_time": "2022-06-14T10:40:46.296Z"
   },
   {
    "duration": 1408,
    "start_time": "2022-06-14T10:41:38.710Z"
   },
   {
    "duration": 1213,
    "start_time": "2022-06-14T10:41:49.349Z"
   },
   {
    "duration": 38,
    "start_time": "2022-06-14T10:44:25.092Z"
   },
   {
    "duration": 1096,
    "start_time": "2022-06-14T10:44:30.392Z"
   },
   {
    "duration": 33,
    "start_time": "2022-06-14T10:45:42.420Z"
   },
   {
    "duration": 28,
    "start_time": "2022-06-14T10:45:55.651Z"
   },
   {
    "duration": 1257,
    "start_time": "2022-06-14T10:48:15.430Z"
   },
   {
    "duration": 1199,
    "start_time": "2022-06-14T10:49:01.207Z"
   },
   {
    "duration": 26,
    "start_time": "2022-06-14T10:55:22.496Z"
   },
   {
    "duration": 531,
    "start_time": "2022-06-14T10:56:46.402Z"
   },
   {
    "duration": 3,
    "start_time": "2022-06-14T10:56:46.935Z"
   },
   {
    "duration": 453,
    "start_time": "2022-06-14T10:56:46.940Z"
   },
   {
    "duration": 70,
    "start_time": "2022-06-14T10:56:47.395Z"
   },
   {
    "duration": 165,
    "start_time": "2022-06-14T10:56:47.467Z"
   },
   {
    "duration": 59,
    "start_time": "2022-06-14T10:56:47.633Z"
   },
   {
    "duration": 46,
    "start_time": "2022-06-14T10:56:47.693Z"
   },
   {
    "duration": 61,
    "start_time": "2022-06-14T10:56:47.740Z"
   },
   {
    "duration": 34,
    "start_time": "2022-06-14T10:56:47.803Z"
   },
   {
    "duration": 27,
    "start_time": "2022-06-14T10:56:47.838Z"
   },
   {
    "duration": 2,
    "start_time": "2022-06-14T10:56:47.866Z"
   },
   {
    "duration": 66,
    "start_time": "2022-06-14T10:56:47.870Z"
   },
   {
    "duration": 53,
    "start_time": "2022-06-14T10:56:47.938Z"
   },
   {
    "duration": 29,
    "start_time": "2022-06-14T10:56:47.994Z"
   },
   {
    "duration": 7,
    "start_time": "2022-06-14T10:56:48.024Z"
   },
   {
    "duration": 81,
    "start_time": "2022-06-14T10:56:57.393Z"
   },
   {
    "duration": 403,
    "start_time": "2022-06-14T10:58:17.273Z"
   },
   {
    "duration": 30,
    "start_time": "2022-06-14T10:58:32.560Z"
   },
   {
    "duration": 363,
    "start_time": "2022-06-14T10:59:32.640Z"
   },
   {
    "duration": 18,
    "start_time": "2022-06-14T11:00:02.497Z"
   },
   {
    "duration": 15,
    "start_time": "2022-06-14T11:00:24.014Z"
   },
   {
    "duration": 16,
    "start_time": "2022-06-14T11:00:34.381Z"
   },
   {
    "duration": 15,
    "start_time": "2022-06-14T11:01:57.436Z"
   },
   {
    "duration": 15,
    "start_time": "2022-06-14T11:02:13.690Z"
   },
   {
    "duration": 14,
    "start_time": "2022-06-14T11:02:27.863Z"
   },
   {
    "duration": 16,
    "start_time": "2022-06-14T11:02:37.414Z"
   },
   {
    "duration": 16,
    "start_time": "2022-06-14T11:02:49.114Z"
   },
   {
    "duration": 16,
    "start_time": "2022-06-14T11:03:11.085Z"
   },
   {
    "duration": 17,
    "start_time": "2022-06-14T11:03:21.253Z"
   },
   {
    "duration": 99,
    "start_time": "2022-06-14T11:04:43.396Z"
   },
   {
    "duration": 1180,
    "start_time": "2022-06-14T11:05:57.875Z"
   },
   {
    "duration": 1196,
    "start_time": "2022-06-14T11:06:33.123Z"
   },
   {
    "duration": 1175,
    "start_time": "2022-06-14T11:07:32.037Z"
   },
   {
    "duration": 1157,
    "start_time": "2022-06-14T11:08:08.293Z"
   },
   {
    "duration": 30,
    "start_time": "2022-06-14T11:09:51.472Z"
   },
   {
    "duration": 331,
    "start_time": "2022-06-14T11:09:57.812Z"
   },
   {
    "duration": 380,
    "start_time": "2022-06-14T11:10:22.754Z"
   },
   {
    "duration": 386,
    "start_time": "2022-06-14T11:11:11.113Z"
   },
   {
    "duration": 398,
    "start_time": "2022-06-14T11:11:14.741Z"
   },
   {
    "duration": 538,
    "start_time": "2022-06-14T11:11:37.190Z"
   },
   {
    "duration": 2,
    "start_time": "2022-06-14T11:11:37.730Z"
   },
   {
    "duration": 439,
    "start_time": "2022-06-14T11:11:37.734Z"
   },
   {
    "duration": 89,
    "start_time": "2022-06-14T11:11:38.174Z"
   },
   {
    "duration": 167,
    "start_time": "2022-06-14T11:11:38.265Z"
   },
   {
    "duration": 58,
    "start_time": "2022-06-14T11:11:38.434Z"
   },
   {
    "duration": 50,
    "start_time": "2022-06-14T11:11:38.494Z"
   },
   {
    "duration": 55,
    "start_time": "2022-06-14T11:11:38.546Z"
   },
   {
    "duration": 31,
    "start_time": "2022-06-14T11:11:38.602Z"
   },
   {
    "duration": 26,
    "start_time": "2022-06-14T11:11:38.634Z"
   },
   {
    "duration": 2,
    "start_time": "2022-06-14T11:11:38.662Z"
   },
   {
    "duration": 68,
    "start_time": "2022-06-14T11:11:38.665Z"
   },
   {
    "duration": 35,
    "start_time": "2022-06-14T11:11:38.735Z"
   },
   {
    "duration": 43,
    "start_time": "2022-06-14T11:11:38.772Z"
   },
   {
    "duration": 1181,
    "start_time": "2022-06-14T11:11:38.816Z"
   },
   {
    "duration": 113,
    "start_time": "2022-06-14T11:11:57.955Z"
   },
   {
    "duration": 519,
    "start_time": "2022-06-14T11:12:13.112Z"
   },
   {
    "duration": 3,
    "start_time": "2022-06-14T11:12:13.633Z"
   },
   {
    "duration": 434,
    "start_time": "2022-06-14T11:12:13.637Z"
   },
   {
    "duration": 71,
    "start_time": "2022-06-14T11:12:14.073Z"
   },
   {
    "duration": 176,
    "start_time": "2022-06-14T11:12:14.146Z"
   },
   {
    "duration": 55,
    "start_time": "2022-06-14T11:12:14.323Z"
   },
   {
    "duration": 60,
    "start_time": "2022-06-14T11:12:14.390Z"
   },
   {
    "duration": 53,
    "start_time": "2022-06-14T11:12:14.451Z"
   },
   {
    "duration": 34,
    "start_time": "2022-06-14T11:12:14.505Z"
   },
   {
    "duration": 26,
    "start_time": "2022-06-14T11:12:14.541Z"
   },
   {
    "duration": 2,
    "start_time": "2022-06-14T11:12:14.569Z"
   },
   {
    "duration": 47,
    "start_time": "2022-06-14T11:12:14.590Z"
   },
   {
    "duration": 37,
    "start_time": "2022-06-14T11:12:14.638Z"
   },
   {
    "duration": 30,
    "start_time": "2022-06-14T11:12:14.691Z"
   },
   {
    "duration": 1201,
    "start_time": "2022-06-14T11:12:14.722Z"
   },
   {
    "duration": 1197,
    "start_time": "2022-06-14T11:13:30.543Z"
   },
   {
    "duration": 428,
    "start_time": "2022-06-14T11:17:58.544Z"
   },
   {
    "duration": 510,
    "start_time": "2022-06-14T11:18:06.932Z"
   },
   {
    "duration": 3,
    "start_time": "2022-06-14T11:18:07.443Z"
   },
   {
    "duration": 428,
    "start_time": "2022-06-14T11:18:07.447Z"
   },
   {
    "duration": 68,
    "start_time": "2022-06-14T11:18:07.876Z"
   },
   {
    "duration": 165,
    "start_time": "2022-06-14T11:18:07.946Z"
   },
   {
    "duration": 56,
    "start_time": "2022-06-14T11:18:08.113Z"
   },
   {
    "duration": 80,
    "start_time": "2022-06-14T11:18:08.170Z"
   },
   {
    "duration": 54,
    "start_time": "2022-06-14T11:18:08.252Z"
   },
   {
    "duration": 34,
    "start_time": "2022-06-14T11:18:08.308Z"
   },
   {
    "duration": 26,
    "start_time": "2022-06-14T11:18:08.343Z"
   },
   {
    "duration": 2,
    "start_time": "2022-06-14T11:18:08.371Z"
   },
   {
    "duration": 48,
    "start_time": "2022-06-14T11:18:08.391Z"
   },
   {
    "duration": 54,
    "start_time": "2022-06-14T11:18:08.441Z"
   },
   {
    "duration": 30,
    "start_time": "2022-06-14T11:18:08.497Z"
   },
   {
    "duration": 1157,
    "start_time": "2022-06-14T11:18:08.528Z"
   },
   {
    "duration": 666,
    "start_time": "2022-06-14T11:20:17.183Z"
   },
   {
    "duration": 656,
    "start_time": "2022-06-14T11:24:00.821Z"
   },
   {
    "duration": 70,
    "start_time": "2022-06-14T11:26:54.971Z"
   },
   {
    "duration": 19,
    "start_time": "2022-06-14T11:27:22.638Z"
   },
   {
    "duration": 16,
    "start_time": "2022-06-14T11:28:05.073Z"
   },
   {
    "duration": 17,
    "start_time": "2022-06-14T11:28:32.661Z"
   },
   {
    "duration": 18,
    "start_time": "2022-06-14T11:28:45.062Z"
   },
   {
    "duration": 18,
    "start_time": "2022-06-14T11:29:00.111Z"
   },
   {
    "duration": 20,
    "start_time": "2022-06-14T11:29:08.613Z"
   },
   {
    "duration": 20,
    "start_time": "2022-06-14T11:29:49.955Z"
   },
   {
    "duration": 25,
    "start_time": "2022-06-14T11:38:23.358Z"
   },
   {
    "duration": 20,
    "start_time": "2022-06-14T11:38:42.691Z"
   },
   {
    "duration": 13,
    "start_time": "2022-06-14T11:39:08.611Z"
   },
   {
    "duration": 28,
    "start_time": "2022-06-14T11:40:56.950Z"
   },
   {
    "duration": 50,
    "start_time": "2022-06-14T11:42:06.962Z"
   },
   {
    "duration": 32,
    "start_time": "2022-06-14T11:43:45.641Z"
   },
   {
    "duration": 16,
    "start_time": "2022-06-14T11:44:22.640Z"
   },
   {
    "duration": 24,
    "start_time": "2022-06-14T11:44:48.379Z"
   },
   {
    "duration": 14,
    "start_time": "2022-06-14T11:44:55.831Z"
   },
   {
    "duration": 573,
    "start_time": "2022-06-14T11:45:14.676Z"
   },
   {
    "duration": 2,
    "start_time": "2022-06-14T11:45:15.251Z"
   },
   {
    "duration": 474,
    "start_time": "2022-06-14T11:45:15.254Z"
   },
   {
    "duration": 80,
    "start_time": "2022-06-14T11:45:15.729Z"
   },
   {
    "duration": 175,
    "start_time": "2022-06-14T11:45:15.812Z"
   },
   {
    "duration": 61,
    "start_time": "2022-06-14T11:45:15.988Z"
   },
   {
    "duration": 81,
    "start_time": "2022-06-14T11:45:16.051Z"
   },
   {
    "duration": 57,
    "start_time": "2022-06-14T11:45:16.134Z"
   },
   {
    "duration": 39,
    "start_time": "2022-06-14T11:45:16.194Z"
   },
   {
    "duration": 27,
    "start_time": "2022-06-14T11:45:16.235Z"
   },
   {
    "duration": 2,
    "start_time": "2022-06-14T11:45:16.264Z"
   },
   {
    "duration": 68,
    "start_time": "2022-06-14T11:45:16.268Z"
   },
   {
    "duration": 35,
    "start_time": "2022-06-14T11:45:16.337Z"
   },
   {
    "duration": 46,
    "start_time": "2022-06-14T11:45:16.374Z"
   },
   {
    "duration": 799,
    "start_time": "2022-06-14T11:45:16.422Z"
   },
   {
    "duration": 91,
    "start_time": "2022-06-14T11:45:17.222Z"
   },
   {
    "duration": 14,
    "start_time": "2022-06-14T11:47:50.295Z"
   },
   {
    "duration": 27,
    "start_time": "2022-06-14T11:49:00.275Z"
   },
   {
    "duration": 19,
    "start_time": "2022-06-14T11:49:14.796Z"
   },
   {
    "duration": 546,
    "start_time": "2022-06-14T11:49:35.401Z"
   },
   {
    "duration": 3,
    "start_time": "2022-06-14T11:49:35.949Z"
   },
   {
    "duration": 475,
    "start_time": "2022-06-14T11:49:35.953Z"
   },
   {
    "duration": 76,
    "start_time": "2022-06-14T11:49:36.430Z"
   },
   {
    "duration": 164,
    "start_time": "2022-06-14T11:49:36.507Z"
   },
   {
    "duration": 59,
    "start_time": "2022-06-14T11:49:36.672Z"
   },
   {
    "duration": 74,
    "start_time": "2022-06-14T11:49:36.733Z"
   },
   {
    "duration": 45,
    "start_time": "2022-06-14T11:49:36.809Z"
   },
   {
    "duration": 53,
    "start_time": "2022-06-14T11:49:36.856Z"
   },
   {
    "duration": 35,
    "start_time": "2022-06-14T11:49:36.911Z"
   },
   {
    "duration": 2,
    "start_time": "2022-06-14T11:49:36.948Z"
   },
   {
    "duration": 79,
    "start_time": "2022-06-14T11:49:36.952Z"
   },
   {
    "duration": 42,
    "start_time": "2022-06-14T11:49:37.033Z"
   },
   {
    "duration": 53,
    "start_time": "2022-06-14T11:49:37.076Z"
   },
   {
    "duration": 670,
    "start_time": "2022-06-14T11:49:37.131Z"
   },
   {
    "duration": 74,
    "start_time": "2022-06-14T11:49:37.803Z"
   },
   {
    "duration": 39,
    "start_time": "2022-06-14T11:50:31.914Z"
   },
   {
    "duration": 35,
    "start_time": "2022-06-14T11:50:38.356Z"
   },
   {
    "duration": 14,
    "start_time": "2022-06-14T11:51:59.935Z"
   },
   {
    "duration": 19,
    "start_time": "2022-06-14T11:52:22.677Z"
   },
   {
    "duration": 43,
    "start_time": "2022-06-14T11:52:47.245Z"
   },
   {
    "duration": 27,
    "start_time": "2022-06-14T11:52:54.034Z"
   },
   {
    "duration": 28,
    "start_time": "2022-06-14T11:53:25.754Z"
   },
   {
    "duration": 792,
    "start_time": "2022-06-14T14:53:45.492Z"
   },
   {
    "duration": 2,
    "start_time": "2022-06-14T14:53:46.287Z"
   },
   {
    "duration": 1056,
    "start_time": "2022-06-14T14:53:46.291Z"
   },
   {
    "duration": 95,
    "start_time": "2022-06-14T14:53:47.349Z"
   },
   {
    "duration": 206,
    "start_time": "2022-06-14T14:53:47.445Z"
   },
   {
    "duration": 64,
    "start_time": "2022-06-14T14:53:47.653Z"
   },
   {
    "duration": 75,
    "start_time": "2022-06-14T14:53:47.725Z"
   },
   {
    "duration": 64,
    "start_time": "2022-06-14T14:53:47.802Z"
   },
   {
    "duration": 38,
    "start_time": "2022-06-14T14:53:47.868Z"
   },
   {
    "duration": 31,
    "start_time": "2022-06-14T14:53:47.925Z"
   },
   {
    "duration": 2,
    "start_time": "2022-06-14T14:53:47.958Z"
   },
   {
    "duration": 67,
    "start_time": "2022-06-14T14:53:47.962Z"
   },
   {
    "duration": 40,
    "start_time": "2022-06-14T14:53:48.031Z"
   },
   {
    "duration": 31,
    "start_time": "2022-06-14T14:53:48.073Z"
   },
   {
    "duration": 754,
    "start_time": "2022-06-14T14:53:48.106Z"
   },
   {
    "duration": 34,
    "start_time": "2022-06-14T14:53:48.862Z"
   },
   {
    "duration": 45,
    "start_time": "2022-06-14T19:28:50.195Z"
   },
   {
    "duration": 746,
    "start_time": "2022-06-14T19:29:02.436Z"
   },
   {
    "duration": 2,
    "start_time": "2022-06-14T19:29:03.185Z"
   },
   {
    "duration": 1140,
    "start_time": "2022-06-14T19:29:03.189Z"
   },
   {
    "duration": 78,
    "start_time": "2022-06-14T19:29:04.331Z"
   },
   {
    "duration": 171,
    "start_time": "2022-06-14T19:29:04.410Z"
   },
   {
    "duration": 53,
    "start_time": "2022-06-14T19:29:04.583Z"
   },
   {
    "duration": 84,
    "start_time": "2022-06-14T19:29:04.638Z"
   },
   {
    "duration": 57,
    "start_time": "2022-06-14T19:29:04.724Z"
   },
   {
    "duration": 34,
    "start_time": "2022-06-14T19:29:04.783Z"
   },
   {
    "duration": 27,
    "start_time": "2022-06-14T19:29:04.819Z"
   },
   {
    "duration": 2,
    "start_time": "2022-06-14T19:29:04.848Z"
   },
   {
    "duration": 73,
    "start_time": "2022-06-14T19:29:04.851Z"
   },
   {
    "duration": 54,
    "start_time": "2022-06-14T19:29:04.926Z"
   },
   {
    "duration": 35,
    "start_time": "2022-06-14T19:29:04.982Z"
   },
   {
    "duration": 734,
    "start_time": "2022-06-14T19:29:05.019Z"
   },
   {
    "duration": 32,
    "start_time": "2022-06-14T19:29:06.043Z"
   },
   {
    "duration": 593,
    "start_time": "2022-06-14T19:30:42.285Z"
   },
   {
    "duration": 2,
    "start_time": "2022-06-14T19:30:42.880Z"
   },
   {
    "duration": 495,
    "start_time": "2022-06-14T19:30:42.884Z"
   },
   {
    "duration": 71,
    "start_time": "2022-06-14T19:30:43.380Z"
   },
   {
    "duration": 206,
    "start_time": "2022-06-14T19:30:43.454Z"
   },
   {
    "duration": 70,
    "start_time": "2022-06-14T19:30:43.661Z"
   },
   {
    "duration": 81,
    "start_time": "2022-06-14T19:30:43.732Z"
   },
   {
    "duration": 64,
    "start_time": "2022-06-14T19:30:43.814Z"
   },
   {
    "duration": 36,
    "start_time": "2022-06-14T19:30:43.880Z"
   },
   {
    "duration": 28,
    "start_time": "2022-06-14T19:30:43.917Z"
   },
   {
    "duration": 2,
    "start_time": "2022-06-14T19:30:43.946Z"
   },
   {
    "duration": 83,
    "start_time": "2022-06-14T19:30:43.950Z"
   },
   {
    "duration": 54,
    "start_time": "2022-06-14T19:30:44.035Z"
   },
   {
    "duration": 30,
    "start_time": "2022-06-14T19:30:44.091Z"
   },
   {
    "duration": 702,
    "start_time": "2022-06-14T19:30:44.123Z"
   },
   {
    "duration": 29,
    "start_time": "2022-06-14T19:30:44.827Z"
   },
   {
    "duration": 32,
    "start_time": "2022-06-14T19:32:08.951Z"
   },
   {
    "duration": 91,
    "start_time": "2022-06-14T19:33:01.120Z"
   },
   {
    "duration": 32,
    "start_time": "2022-06-14T19:33:21.623Z"
   },
   {
    "duration": 29,
    "start_time": "2022-06-14T19:35:30.817Z"
   },
   {
    "duration": 32,
    "start_time": "2022-06-14T19:36:00.295Z"
   },
   {
    "duration": 167,
    "start_time": "2022-06-14T19:43:49.205Z"
   },
   {
    "duration": 169,
    "start_time": "2022-06-14T19:44:04.120Z"
   },
   {
    "duration": 53,
    "start_time": "2022-06-14T19:49:50.978Z"
   },
   {
    "duration": 52,
    "start_time": "2022-06-14T19:50:08.964Z"
   },
   {
    "duration": 55,
    "start_time": "2022-06-14T19:51:22.095Z"
   },
   {
    "duration": 59,
    "start_time": "2022-06-14T19:51:38.356Z"
   },
   {
    "duration": 76,
    "start_time": "2022-06-14T19:51:52.109Z"
   },
   {
    "duration": 72,
    "start_time": "2022-06-14T19:52:06.130Z"
   },
   {
    "duration": 80,
    "start_time": "2022-06-14T19:52:30.157Z"
   },
   {
    "duration": 462,
    "start_time": "2022-06-14T19:53:04.695Z"
   },
   {
    "duration": 80,
    "start_time": "2022-06-14T19:53:30.005Z"
   },
   {
    "duration": 53,
    "start_time": "2022-06-14T19:54:22.109Z"
   },
   {
    "duration": 79,
    "start_time": "2022-06-14T19:54:33.478Z"
   },
   {
    "duration": 88,
    "start_time": "2022-06-14T19:54:44.044Z"
   },
   {
    "duration": 48,
    "start_time": "2022-06-14T19:54:52.692Z"
   },
   {
    "duration": 60,
    "start_time": "2022-06-14T19:55:23.909Z"
   },
   {
    "duration": 79,
    "start_time": "2022-06-14T19:56:19.241Z"
   },
   {
    "duration": 59,
    "start_time": "2022-06-14T19:57:03.934Z"
   },
   {
    "duration": 57,
    "start_time": "2022-06-14T19:57:56.449Z"
   },
   {
    "duration": 59,
    "start_time": "2022-06-14T19:58:09.831Z"
   },
   {
    "duration": 71,
    "start_time": "2022-06-14T19:58:16.401Z"
   },
   {
    "duration": 57,
    "start_time": "2022-06-14T19:58:47.900Z"
   },
   {
    "duration": 67,
    "start_time": "2022-06-14T19:58:52.304Z"
   },
   {
    "duration": 53,
    "start_time": "2022-06-14T20:05:02.146Z"
   },
   {
    "duration": 31,
    "start_time": "2022-06-14T20:16:34.806Z"
   },
   {
    "duration": 32,
    "start_time": "2022-06-14T20:17:03.407Z"
   },
   {
    "duration": 8,
    "start_time": "2022-06-14T20:17:34.050Z"
   },
   {
    "duration": 8,
    "start_time": "2022-06-14T20:17:43.005Z"
   },
   {
    "duration": 12,
    "start_time": "2022-06-14T20:18:22.520Z"
   },
   {
    "duration": 14,
    "start_time": "2022-06-14T20:21:55.959Z"
   },
   {
    "duration": 401,
    "start_time": "2022-06-14T20:22:34.077Z"
   },
   {
    "duration": 16,
    "start_time": "2022-06-14T20:22:44.717Z"
   },
   {
    "duration": 12,
    "start_time": "2022-06-14T20:23:26.240Z"
   },
   {
    "duration": 578,
    "start_time": "2022-06-14T20:23:41.370Z"
   },
   {
    "duration": 2,
    "start_time": "2022-06-14T20:23:41.949Z"
   },
   {
    "duration": 856,
    "start_time": "2022-06-14T20:23:41.953Z"
   },
   {
    "duration": 84,
    "start_time": "2022-06-14T20:23:42.811Z"
   },
   {
    "duration": 187,
    "start_time": "2022-06-14T20:23:42.897Z"
   },
   {
    "duration": 53,
    "start_time": "2022-06-14T20:23:43.086Z"
   },
   {
    "duration": 85,
    "start_time": "2022-06-14T20:23:43.141Z"
   },
   {
    "duration": 80,
    "start_time": "2022-06-14T20:23:43.228Z"
   },
   {
    "duration": 89,
    "start_time": "2022-06-14T20:23:43.310Z"
   },
   {
    "duration": 57,
    "start_time": "2022-06-14T20:23:43.401Z"
   },
   {
    "duration": 60,
    "start_time": "2022-06-14T20:23:43.459Z"
   },
   {
    "duration": 37,
    "start_time": "2022-06-14T20:23:43.520Z"
   },
   {
    "duration": 44,
    "start_time": "2022-06-14T20:23:43.559Z"
   },
   {
    "duration": 718,
    "start_time": "2022-06-14T20:23:43.604Z"
   },
   {
    "duration": 29,
    "start_time": "2022-06-14T20:23:44.324Z"
   },
   {
    "duration": 81,
    "start_time": "2022-06-14T20:23:44.354Z"
   },
   {
    "duration": 14,
    "start_time": "2022-06-14T20:25:35.568Z"
   },
   {
    "duration": 17,
    "start_time": "2022-06-14T20:25:43.158Z"
   },
   {
    "duration": 15,
    "start_time": "2022-06-14T20:27:28.738Z"
   },
   {
    "duration": 23,
    "start_time": "2022-06-14T20:28:17.282Z"
   },
   {
    "duration": 27,
    "start_time": "2022-06-14T20:28:48.776Z"
   },
   {
    "duration": 28,
    "start_time": "2022-06-14T20:30:54.224Z"
   },
   {
    "duration": 27,
    "start_time": "2022-06-14T20:31:16.156Z"
   },
   {
    "duration": 680,
    "start_time": "2022-06-14T20:32:23.959Z"
   },
   {
    "duration": 22,
    "start_time": "2022-06-14T20:33:56.367Z"
   },
   {
    "duration": 21,
    "start_time": "2022-06-14T20:34:11.501Z"
   },
   {
    "duration": 30,
    "start_time": "2022-06-14T20:34:55.364Z"
   },
   {
    "duration": 34,
    "start_time": "2022-06-14T20:34:59.888Z"
   },
   {
    "duration": 942,
    "start_time": "2022-06-14T20:35:37.945Z"
   },
   {
    "duration": 35,
    "start_time": "2022-06-14T20:35:49.066Z"
   },
   {
    "duration": 49,
    "start_time": "2022-06-14T20:36:03.498Z"
   },
   {
    "duration": 594,
    "start_time": "2022-06-14T20:36:50.732Z"
   },
   {
    "duration": 560,
    "start_time": "2022-06-14T20:36:57.765Z"
   },
   {
    "duration": 708,
    "start_time": "2022-06-14T20:37:21.543Z"
   },
   {
    "duration": 814,
    "start_time": "2022-06-14T20:38:20.047Z"
   },
   {
    "duration": 33,
    "start_time": "2022-06-14T20:38:26.465Z"
   },
   {
    "duration": 508,
    "start_time": "2022-06-14T20:38:49.215Z"
   },
   {
    "duration": 2,
    "start_time": "2022-06-14T20:38:49.725Z"
   },
   {
    "duration": 462,
    "start_time": "2022-06-14T20:38:49.728Z"
   },
   {
    "duration": 70,
    "start_time": "2022-06-14T20:38:50.191Z"
   },
   {
    "duration": 204,
    "start_time": "2022-06-14T20:38:50.263Z"
   },
   {
    "duration": 60,
    "start_time": "2022-06-14T20:38:50.469Z"
   },
   {
    "duration": 81,
    "start_time": "2022-06-14T20:38:50.530Z"
   },
   {
    "duration": 74,
    "start_time": "2022-06-14T20:38:50.612Z"
   },
   {
    "duration": 64,
    "start_time": "2022-06-14T20:38:50.688Z"
   },
   {
    "duration": 69,
    "start_time": "2022-06-14T20:38:50.753Z"
   },
   {
    "duration": 55,
    "start_time": "2022-06-14T20:38:50.824Z"
   },
   {
    "duration": 38,
    "start_time": "2022-06-14T20:38:50.880Z"
   },
   {
    "duration": 30,
    "start_time": "2022-06-14T20:38:50.920Z"
   },
   {
    "duration": 707,
    "start_time": "2022-06-14T20:38:50.954Z"
   },
   {
    "duration": 35,
    "start_time": "2022-06-14T20:38:51.662Z"
   },
   {
    "duration": 24,
    "start_time": "2022-06-14T20:38:51.699Z"
   },
   {
    "duration": 24,
    "start_time": "2022-06-14T20:38:51.725Z"
   },
   {
    "duration": 662,
    "start_time": "2022-06-14T20:41:20.152Z"
   },
   {
    "duration": 801,
    "start_time": "2022-06-14T20:42:33.403Z"
   },
   {
    "duration": 366,
    "start_time": "2022-06-14T20:43:03.820Z"
   },
   {
    "duration": 333,
    "start_time": "2022-06-14T20:43:26.023Z"
   },
   {
    "duration": 593,
    "start_time": "2022-06-14T20:43:36.675Z"
   },
   {
    "duration": 3,
    "start_time": "2022-06-14T20:43:37.269Z"
   },
   {
    "duration": 529,
    "start_time": "2022-06-14T20:43:37.273Z"
   },
   {
    "duration": 98,
    "start_time": "2022-06-14T20:43:37.805Z"
   },
   {
    "duration": 216,
    "start_time": "2022-06-14T20:43:37.904Z"
   },
   {
    "duration": 84,
    "start_time": "2022-06-14T20:43:38.123Z"
   },
   {
    "duration": 152,
    "start_time": "2022-06-14T20:43:38.209Z"
   },
   {
    "duration": 0,
    "start_time": "2022-06-14T20:43:38.363Z"
   },
   {
    "duration": 0,
    "start_time": "2022-06-14T20:43:38.364Z"
   },
   {
    "duration": 0,
    "start_time": "2022-06-14T20:43:38.365Z"
   },
   {
    "duration": 0,
    "start_time": "2022-06-14T20:43:38.367Z"
   },
   {
    "duration": 0,
    "start_time": "2022-06-14T20:43:38.379Z"
   },
   {
    "duration": 0,
    "start_time": "2022-06-14T20:43:38.381Z"
   },
   {
    "duration": 0,
    "start_time": "2022-06-14T20:43:38.382Z"
   },
   {
    "duration": 0,
    "start_time": "2022-06-14T20:43:38.384Z"
   },
   {
    "duration": 0,
    "start_time": "2022-06-14T20:43:38.385Z"
   },
   {
    "duration": 0,
    "start_time": "2022-06-14T20:43:38.387Z"
   },
   {
    "duration": 63,
    "start_time": "2022-06-14T20:44:15.776Z"
   },
   {
    "duration": 606,
    "start_time": "2022-06-14T20:45:02.889Z"
   },
   {
    "duration": 2,
    "start_time": "2022-06-14T20:45:03.499Z"
   },
   {
    "duration": 510,
    "start_time": "2022-06-14T20:45:03.503Z"
   },
   {
    "duration": 111,
    "start_time": "2022-06-14T20:45:04.015Z"
   },
   {
    "duration": 268,
    "start_time": "2022-06-14T20:45:04.128Z"
   },
   {
    "duration": 81,
    "start_time": "2022-06-14T20:45:04.398Z"
   },
   {
    "duration": 65,
    "start_time": "2022-06-14T20:45:04.481Z"
   },
   {
    "duration": 93,
    "start_time": "2022-06-14T20:45:04.547Z"
   },
   {
    "duration": 74,
    "start_time": "2022-06-14T20:45:04.642Z"
   },
   {
    "duration": 61,
    "start_time": "2022-06-14T20:45:04.718Z"
   },
   {
    "duration": 56,
    "start_time": "2022-06-14T20:45:04.781Z"
   },
   {
    "duration": 57,
    "start_time": "2022-06-14T20:45:04.839Z"
   },
   {
    "duration": 31,
    "start_time": "2022-06-14T20:45:04.898Z"
   },
   {
    "duration": 769,
    "start_time": "2022-06-14T20:45:04.930Z"
   },
   {
    "duration": 27,
    "start_time": "2022-06-14T20:45:05.700Z"
   },
   {
    "duration": 24,
    "start_time": "2022-06-14T20:45:05.729Z"
   },
   {
    "duration": 45,
    "start_time": "2022-06-14T20:45:05.755Z"
   },
   {
    "duration": 711,
    "start_time": "2022-06-14T20:49:51.175Z"
   },
   {
    "duration": 31,
    "start_time": "2022-06-14T20:49:59.643Z"
   },
   {
    "duration": 29,
    "start_time": "2022-06-14T20:51:35.435Z"
   },
   {
    "duration": 36,
    "start_time": "2022-06-14T20:51:38.152Z"
   },
   {
    "duration": 2679,
    "start_time": "2022-06-14T20:52:27.027Z"
   },
   {
    "duration": 34,
    "start_time": "2022-06-14T20:52:31.232Z"
   },
   {
    "duration": 659,
    "start_time": "2022-06-14T20:52:37.550Z"
   },
   {
    "duration": 2,
    "start_time": "2022-06-14T20:52:38.210Z"
   },
   {
    "duration": 482,
    "start_time": "2022-06-14T20:52:38.213Z"
   },
   {
    "duration": 69,
    "start_time": "2022-06-14T20:52:38.696Z"
   },
   {
    "duration": 188,
    "start_time": "2022-06-14T20:52:38.777Z"
   },
   {
    "duration": 60,
    "start_time": "2022-06-14T20:52:38.966Z"
   },
   {
    "duration": 62,
    "start_time": "2022-06-14T20:52:39.027Z"
   },
   {
    "duration": 68,
    "start_time": "2022-06-14T20:52:39.091Z"
   },
   {
    "duration": 77,
    "start_time": "2022-06-14T20:52:39.161Z"
   },
   {
    "duration": 65,
    "start_time": "2022-06-14T20:52:39.240Z"
   },
   {
    "duration": 51,
    "start_time": "2022-06-14T20:52:39.306Z"
   },
   {
    "duration": 47,
    "start_time": "2022-06-14T20:52:39.359Z"
   },
   {
    "duration": 31,
    "start_time": "2022-06-14T20:52:39.408Z"
   },
   {
    "duration": 309,
    "start_time": "2022-06-14T20:52:39.441Z"
   },
   {
    "duration": 0,
    "start_time": "2022-06-14T20:52:39.752Z"
   },
   {
    "duration": 0,
    "start_time": "2022-06-14T20:52:39.754Z"
   },
   {
    "duration": 0,
    "start_time": "2022-06-14T20:52:39.755Z"
   },
   {
    "duration": 231,
    "start_time": "2022-06-14T20:53:12.227Z"
   },
   {
    "duration": 678,
    "start_time": "2022-06-14T20:53:32.812Z"
   },
   {
    "duration": 30,
    "start_time": "2022-06-14T20:53:40.427Z"
   },
   {
    "duration": 236,
    "start_time": "2022-06-14T20:54:18.823Z"
   },
   {
    "duration": 23,
    "start_time": "2022-06-14T20:54:25.851Z"
   },
   {
    "duration": 735,
    "start_time": "2022-06-14T20:58:53.244Z"
   },
   {
    "duration": 30,
    "start_time": "2022-06-14T20:59:20.610Z"
   },
   {
    "duration": 37,
    "start_time": "2022-06-14T21:01:54.279Z"
   },
   {
    "duration": 47,
    "start_time": "2022-06-14T21:02:21.110Z"
   },
   {
    "duration": 49,
    "start_time": "2022-06-14T21:02:44.455Z"
   },
   {
    "duration": 783,
    "start_time": "2022-06-14T21:05:25.472Z"
   },
   {
    "duration": 578,
    "start_time": "2022-06-14T21:05:32.858Z"
   },
   {
    "duration": 2,
    "start_time": "2022-06-14T21:05:33.438Z"
   },
   {
    "duration": 463,
    "start_time": "2022-06-14T21:05:33.441Z"
   },
   {
    "duration": 78,
    "start_time": "2022-06-14T21:05:33.906Z"
   },
   {
    "duration": 193,
    "start_time": "2022-06-14T21:05:33.985Z"
   },
   {
    "duration": 56,
    "start_time": "2022-06-14T21:05:34.179Z"
   },
   {
    "duration": 68,
    "start_time": "2022-06-14T21:05:34.237Z"
   },
   {
    "duration": 75,
    "start_time": "2022-06-14T21:05:34.306Z"
   },
   {
    "duration": 62,
    "start_time": "2022-06-14T21:05:34.383Z"
   },
   {
    "duration": 56,
    "start_time": "2022-06-14T21:05:34.459Z"
   },
   {
    "duration": 48,
    "start_time": "2022-06-14T21:05:34.517Z"
   },
   {
    "duration": 76,
    "start_time": "2022-06-14T21:05:34.567Z"
   },
   {
    "duration": 0,
    "start_time": "2022-06-14T21:05:34.645Z"
   },
   {
    "duration": 0,
    "start_time": "2022-06-14T21:05:34.646Z"
   },
   {
    "duration": 0,
    "start_time": "2022-06-14T21:05:34.647Z"
   },
   {
    "duration": 0,
    "start_time": "2022-06-14T21:05:34.648Z"
   },
   {
    "duration": 0,
    "start_time": "2022-06-14T21:05:34.649Z"
   },
   {
    "duration": 3,
    "start_time": "2022-06-15T06:17:50.558Z"
   },
   {
    "duration": 14,
    "start_time": "2022-06-15T06:17:50.562Z"
   },
   {
    "duration": 458,
    "start_time": "2022-06-15T06:17:50.578Z"
   },
   {
    "duration": 79,
    "start_time": "2022-06-15T06:17:51.038Z"
   },
   {
    "duration": 159,
    "start_time": "2022-06-15T06:17:51.119Z"
   },
   {
    "duration": 50,
    "start_time": "2022-06-15T06:17:51.279Z"
   },
   {
    "duration": 74,
    "start_time": "2022-06-15T06:17:51.331Z"
   },
   {
    "duration": 58,
    "start_time": "2022-06-15T06:17:51.406Z"
   },
   {
    "duration": 68,
    "start_time": "2022-06-15T06:17:51.466Z"
   },
   {
    "duration": 65,
    "start_time": "2022-06-15T06:17:51.535Z"
   },
   {
    "duration": 49,
    "start_time": "2022-06-15T06:17:51.602Z"
   },
   {
    "duration": 26,
    "start_time": "2022-06-15T06:17:51.653Z"
   },
   {
    "duration": 0,
    "start_time": "2022-06-15T06:17:51.680Z"
   },
   {
    "duration": 0,
    "start_time": "2022-06-15T06:17:51.681Z"
   },
   {
    "duration": 0,
    "start_time": "2022-06-15T06:17:51.682Z"
   },
   {
    "duration": 0,
    "start_time": "2022-06-15T06:17:51.683Z"
   },
   {
    "duration": 0,
    "start_time": "2022-06-15T06:17:51.684Z"
   },
   {
    "duration": 42,
    "start_time": "2022-06-15T06:18:29.438Z"
   },
   {
    "duration": 21,
    "start_time": "2022-06-15T06:18:40.150Z"
   },
   {
    "duration": 719,
    "start_time": "2022-06-15T06:18:43.645Z"
   },
   {
    "duration": 28,
    "start_time": "2022-06-15T06:18:55.705Z"
   },
   {
    "duration": 549,
    "start_time": "2022-06-15T06:19:39.547Z"
   },
   {
    "duration": 2,
    "start_time": "2022-06-15T06:19:40.097Z"
   },
   {
    "duration": 461,
    "start_time": "2022-06-15T06:19:40.101Z"
   },
   {
    "duration": 85,
    "start_time": "2022-06-15T06:19:40.564Z"
   },
   {
    "duration": 192,
    "start_time": "2022-06-15T06:19:40.652Z"
   },
   {
    "duration": 73,
    "start_time": "2022-06-15T06:19:40.846Z"
   },
   {
    "duration": 57,
    "start_time": "2022-06-15T06:19:40.921Z"
   },
   {
    "duration": 68,
    "start_time": "2022-06-15T06:19:40.979Z"
   },
   {
    "duration": 73,
    "start_time": "2022-06-15T06:19:41.049Z"
   },
   {
    "duration": 63,
    "start_time": "2022-06-15T06:19:41.123Z"
   },
   {
    "duration": 51,
    "start_time": "2022-06-15T06:19:41.188Z"
   },
   {
    "duration": 48,
    "start_time": "2022-06-15T06:19:41.241Z"
   },
   {
    "duration": 20,
    "start_time": "2022-06-15T06:19:41.290Z"
   },
   {
    "duration": 714,
    "start_time": "2022-06-15T06:19:41.312Z"
   },
   {
    "duration": 28,
    "start_time": "2022-06-15T06:19:42.028Z"
   },
   {
    "duration": 39,
    "start_time": "2022-06-15T06:19:42.058Z"
   },
   {
    "duration": 25,
    "start_time": "2022-06-15T06:19:42.098Z"
   },
   {
    "duration": 602,
    "start_time": "2022-06-15T06:21:00.758Z"
   },
   {
    "duration": 32,
    "start_time": "2022-06-15T06:21:06.006Z"
   },
   {
    "duration": 1058,
    "start_time": "2022-06-15T06:24:19.985Z"
   },
   {
    "duration": 34,
    "start_time": "2022-06-15T06:24:55.069Z"
   },
   {
    "duration": 638,
    "start_time": "2022-06-15T06:28:21.674Z"
   },
   {
    "duration": 429,
    "start_time": "2022-06-15T06:28:25.012Z"
   },
   {
    "duration": 618,
    "start_time": "2022-06-15T06:29:02.276Z"
   },
   {
    "duration": 744,
    "start_time": "2022-06-15T06:29:36.695Z"
   },
   {
    "duration": 23,
    "start_time": "2022-06-15T06:29:46.732Z"
   },
   {
    "duration": 590,
    "start_time": "2022-06-15T06:30:21.021Z"
   },
   {
    "duration": 2,
    "start_time": "2022-06-15T06:30:21.613Z"
   },
   {
    "duration": 509,
    "start_time": "2022-06-15T06:30:21.617Z"
   },
   {
    "duration": 76,
    "start_time": "2022-06-15T06:30:22.127Z"
   },
   {
    "duration": 195,
    "start_time": "2022-06-15T06:30:22.205Z"
   },
   {
    "duration": 61,
    "start_time": "2022-06-15T06:30:22.402Z"
   },
   {
    "duration": 66,
    "start_time": "2022-06-15T06:30:22.465Z"
   },
   {
    "duration": 94,
    "start_time": "2022-06-15T06:30:22.533Z"
   },
   {
    "duration": 88,
    "start_time": "2022-06-15T06:30:22.629Z"
   },
   {
    "duration": 82,
    "start_time": "2022-06-15T06:30:22.719Z"
   },
   {
    "duration": 58,
    "start_time": "2022-06-15T06:30:22.803Z"
   },
   {
    "duration": 62,
    "start_time": "2022-06-15T06:30:22.862Z"
   },
   {
    "duration": 24,
    "start_time": "2022-06-15T06:30:22.925Z"
   },
   {
    "duration": 829,
    "start_time": "2022-06-15T06:30:22.951Z"
   },
   {
    "duration": 37,
    "start_time": "2022-06-15T06:30:23.783Z"
   },
   {
    "duration": 32,
    "start_time": "2022-06-15T06:30:23.821Z"
   },
   {
    "duration": 51,
    "start_time": "2022-06-15T06:30:23.854Z"
   },
   {
    "duration": 22,
    "start_time": "2022-06-15T06:31:15.034Z"
   },
   {
    "duration": 24,
    "start_time": "2022-06-15T06:31:26.661Z"
   },
   {
    "duration": 35,
    "start_time": "2022-06-15T06:31:32.004Z"
   },
   {
    "duration": 51,
    "start_time": "2022-06-15T06:32:51.311Z"
   },
   {
    "duration": 25,
    "start_time": "2022-06-15T06:33:33.133Z"
   },
   {
    "duration": 30,
    "start_time": "2022-06-15T06:35:11.376Z"
   },
   {
    "duration": 42,
    "start_time": "2022-06-15T06:35:24.763Z"
   },
   {
    "duration": 30,
    "start_time": "2022-06-15T06:37:58.558Z"
   },
   {
    "duration": 147,
    "start_time": "2022-06-15T06:40:00.648Z"
   },
   {
    "duration": 132,
    "start_time": "2022-06-15T06:40:18.070Z"
   },
   {
    "duration": 141,
    "start_time": "2022-06-15T06:40:22.865Z"
   },
   {
    "duration": 230,
    "start_time": "2022-06-15T06:40:27.088Z"
   },
   {
    "duration": 121,
    "start_time": "2022-06-15T06:40:34.504Z"
   },
   {
    "duration": 125,
    "start_time": "2022-06-15T06:40:42.449Z"
   },
   {
    "duration": 135,
    "start_time": "2022-06-15T06:40:48.015Z"
   },
   {
    "duration": 165,
    "start_time": "2022-06-15T06:43:49.528Z"
   },
   {
    "duration": 145,
    "start_time": "2022-06-15T06:43:55.551Z"
   },
   {
    "duration": 167,
    "start_time": "2022-06-15T06:44:35.970Z"
   },
   {
    "duration": 148,
    "start_time": "2022-06-15T06:44:43.816Z"
   },
   {
    "duration": 180,
    "start_time": "2022-06-15T06:45:19.361Z"
   },
   {
    "duration": 437,
    "start_time": "2022-06-15T06:45:27.448Z"
   },
   {
    "duration": 340,
    "start_time": "2022-06-15T06:46:16.031Z"
   },
   {
    "duration": 447,
    "start_time": "2022-06-15T06:47:04.892Z"
   },
   {
    "duration": 517,
    "start_time": "2022-06-15T06:47:22.280Z"
   },
   {
    "duration": 429,
    "start_time": "2022-06-15T06:47:29.532Z"
   },
   {
    "duration": 518,
    "start_time": "2022-06-15T06:47:45.593Z"
   },
   {
    "duration": 498,
    "start_time": "2022-06-15T06:48:25.778Z"
   },
   {
    "duration": 479,
    "start_time": "2022-06-15T06:48:38.080Z"
   },
   {
    "duration": 498,
    "start_time": "2022-06-15T06:59:24.003Z"
   },
   {
    "duration": 425,
    "start_time": "2022-06-15T07:00:25.816Z"
   },
   {
    "duration": 443,
    "start_time": "2022-06-15T07:02:49.372Z"
   },
   {
    "duration": 404,
    "start_time": "2022-06-15T07:02:55.524Z"
   },
   {
    "duration": 6,
    "start_time": "2022-06-15T07:05:27.063Z"
   },
   {
    "duration": 7,
    "start_time": "2022-06-15T07:08:46.093Z"
   },
   {
    "duration": 10,
    "start_time": "2022-06-15T07:09:55.893Z"
   },
   {
    "duration": 73,
    "start_time": "2022-06-15T07:13:25.093Z"
   },
   {
    "duration": 57,
    "start_time": "2022-06-15T07:17:51.712Z"
   },
   {
    "duration": 12,
    "start_time": "2022-06-15T07:18:01.752Z"
   },
   {
    "duration": 17,
    "start_time": "2022-06-15T07:18:29.678Z"
   },
   {
    "duration": 12,
    "start_time": "2022-06-15T07:19:06.658Z"
   },
   {
    "duration": 10,
    "start_time": "2022-06-15T07:25:23.899Z"
   },
   {
    "duration": 9,
    "start_time": "2022-06-15T07:25:29.846Z"
   },
   {
    "duration": 14,
    "start_time": "2022-06-15T07:25:34.552Z"
   },
   {
    "duration": 15,
    "start_time": "2022-06-15T07:26:06.754Z"
   },
   {
    "duration": 17,
    "start_time": "2022-06-15T07:26:52.024Z"
   },
   {
    "duration": 21,
    "start_time": "2022-06-15T07:27:37.717Z"
   },
   {
    "duration": 18,
    "start_time": "2022-06-15T07:28:21.445Z"
   },
   {
    "duration": 9,
    "start_time": "2022-06-15T07:28:38.800Z"
   },
   {
    "duration": 14,
    "start_time": "2022-06-15T07:28:46.193Z"
   },
   {
    "duration": 15,
    "start_time": "2022-06-15T07:28:49.937Z"
   },
   {
    "duration": 17,
    "start_time": "2022-06-15T07:29:12.029Z"
   },
   {
    "duration": 12,
    "start_time": "2022-06-15T07:29:27.383Z"
   },
   {
    "duration": 13,
    "start_time": "2022-06-15T07:29:42.454Z"
   },
   {
    "duration": 14,
    "start_time": "2022-06-15T07:29:46.130Z"
   },
   {
    "duration": 13,
    "start_time": "2022-06-15T07:31:31.829Z"
   },
   {
    "duration": 10,
    "start_time": "2022-06-15T07:34:21.065Z"
   },
   {
    "duration": 11,
    "start_time": "2022-06-15T07:35:31.988Z"
   },
   {
    "duration": 11,
    "start_time": "2022-06-15T07:35:47.309Z"
   },
   {
    "duration": 16,
    "start_time": "2022-06-15T07:35:51.951Z"
   },
   {
    "duration": 34,
    "start_time": "2022-06-15T07:36:40.637Z"
   },
   {
    "duration": 29,
    "start_time": "2022-06-15T07:36:49.070Z"
   },
   {
    "duration": 20,
    "start_time": "2022-06-15T07:36:57.708Z"
   },
   {
    "duration": 12,
    "start_time": "2022-06-15T07:37:07.268Z"
   },
   {
    "duration": 13,
    "start_time": "2022-06-15T07:38:19.764Z"
   },
   {
    "duration": 20,
    "start_time": "2022-06-15T07:38:32.892Z"
   },
   {
    "duration": 13,
    "start_time": "2022-06-15T07:38:48.522Z"
   },
   {
    "duration": 23,
    "start_time": "2022-06-15T07:42:47.289Z"
   },
   {
    "duration": 534,
    "start_time": "2022-06-15T07:43:15.108Z"
   },
   {
    "duration": 433,
    "start_time": "2022-06-15T07:43:26.589Z"
   },
   {
    "duration": 192,
    "start_time": "2022-06-15T07:44:20.612Z"
   },
   {
    "duration": 502,
    "start_time": "2022-06-15T07:44:35.297Z"
   },
   {
    "duration": 574,
    "start_time": "2022-06-15T07:45:03.847Z"
   },
   {
    "duration": 490,
    "start_time": "2022-06-15T07:45:11.560Z"
   },
   {
    "duration": 431,
    "start_time": "2022-06-15T07:45:43.509Z"
   },
   {
    "duration": 443,
    "start_time": "2022-06-15T07:45:51.726Z"
   },
   {
    "duration": 15,
    "start_time": "2022-06-15T07:46:51.618Z"
   },
   {
    "duration": 24,
    "start_time": "2022-06-15T08:43:42.804Z"
   },
   {
    "duration": 547,
    "start_time": "2022-06-15T08:44:01.140Z"
   },
   {
    "duration": 12,
    "start_time": "2022-06-15T08:47:57.981Z"
   },
   {
    "duration": 8,
    "start_time": "2022-06-15T08:48:09.598Z"
   },
   {
    "duration": 5,
    "start_time": "2022-06-15T08:51:02.743Z"
   },
   {
    "duration": 13,
    "start_time": "2022-06-15T08:51:11.550Z"
   },
   {
    "duration": 17,
    "start_time": "2022-06-15T08:51:40.989Z"
   },
   {
    "duration": 28,
    "start_time": "2022-06-15T08:52:06.982Z"
   },
   {
    "duration": 24,
    "start_time": "2022-06-15T08:52:15.940Z"
   },
   {
    "duration": 4,
    "start_time": "2022-06-15T08:52:27.751Z"
   },
   {
    "duration": 18,
    "start_time": "2022-06-15T08:52:32.427Z"
   },
   {
    "duration": 9,
    "start_time": "2022-06-15T08:52:40.319Z"
   },
   {
    "duration": 39,
    "start_time": "2022-06-15T08:53:18.355Z"
   },
   {
    "duration": 16,
    "start_time": "2022-06-15T08:53:22.890Z"
   },
   {
    "duration": 4821,
    "start_time": "2022-06-15T08:54:12.594Z"
   },
   {
    "duration": 7,
    "start_time": "2022-06-15T08:54:27.437Z"
   },
   {
    "duration": 746,
    "start_time": "2022-06-15T09:00:35.322Z"
   },
   {
    "duration": 466,
    "start_time": "2022-06-15T09:01:10.507Z"
   },
   {
    "duration": 469,
    "start_time": "2022-06-15T09:01:23.096Z"
   },
   {
    "duration": 37,
    "start_time": "2022-06-15T09:01:39.260Z"
   },
   {
    "duration": 35,
    "start_time": "2022-06-15T09:01:55.365Z"
   },
   {
    "duration": 36,
    "start_time": "2022-06-15T09:02:01.256Z"
   },
   {
    "duration": 49,
    "start_time": "2022-06-15T09:02:08.446Z"
   },
   {
    "duration": 588,
    "start_time": "2022-06-15T09:02:15.945Z"
   },
   {
    "duration": 12,
    "start_time": "2022-06-15T09:23:30.757Z"
   },
   {
    "duration": 16,
    "start_time": "2022-06-15T09:25:24.765Z"
   },
   {
    "duration": 22,
    "start_time": "2022-06-15T09:26:17.960Z"
   },
   {
    "duration": 52,
    "start_time": "2022-06-15T09:29:01.090Z"
   },
   {
    "duration": 39,
    "start_time": "2022-06-15T09:31:51.614Z"
   },
   {
    "duration": 1099,
    "start_time": "2022-06-15T09:32:28.752Z"
   },
   {
    "duration": 3,
    "start_time": "2022-06-15T09:32:29.853Z"
   },
   {
    "duration": 1330,
    "start_time": "2022-06-15T09:32:29.859Z"
   },
   {
    "duration": 81,
    "start_time": "2022-06-15T09:32:31.191Z"
   },
   {
    "duration": 171,
    "start_time": "2022-06-15T09:32:31.273Z"
   },
   {
    "duration": 72,
    "start_time": "2022-06-15T09:32:31.446Z"
   },
   {
    "duration": 77,
    "start_time": "2022-06-15T09:32:31.519Z"
   },
   {
    "duration": 140,
    "start_time": "2022-06-15T09:32:38.307Z"
   },
   {
    "duration": 32,
    "start_time": "2022-06-15T09:33:17.424Z"
   },
   {
    "duration": 30,
    "start_time": "2022-06-15T09:33:23.414Z"
   },
   {
    "duration": 34,
    "start_time": "2022-06-15T09:34:28.604Z"
   },
   {
    "duration": 48,
    "start_time": "2022-06-15T09:36:36.800Z"
   },
   {
    "duration": 36,
    "start_time": "2022-06-15T09:36:42.305Z"
   },
   {
    "duration": 51,
    "start_time": "2022-06-15T09:36:47.758Z"
   },
   {
    "duration": 33,
    "start_time": "2022-06-15T09:36:50.193Z"
   },
   {
    "duration": 42,
    "start_time": "2022-06-15T09:37:11.716Z"
   },
   {
    "duration": 57,
    "start_time": "2022-06-15T09:37:32.187Z"
   },
   {
    "duration": 103,
    "start_time": "2022-06-15T09:44:59.038Z"
   },
   {
    "duration": 78,
    "start_time": "2022-06-15T09:46:29.722Z"
   },
   {
    "duration": 39,
    "start_time": "2022-06-15T09:46:31.292Z"
   },
   {
    "duration": 56,
    "start_time": "2022-06-15T09:46:44.433Z"
   },
   {
    "duration": 31,
    "start_time": "2022-06-15T09:47:46.448Z"
   },
   {
    "duration": 27,
    "start_time": "2022-06-15T09:49:30.608Z"
   },
   {
    "duration": 34,
    "start_time": "2022-06-15T09:50:14.548Z"
   },
   {
    "duration": 6,
    "start_time": "2022-06-15T09:50:31.946Z"
   },
   {
    "duration": 37,
    "start_time": "2022-06-15T09:50:33.847Z"
   },
   {
    "duration": 52,
    "start_time": "2022-06-15T09:55:28.846Z"
   },
   {
    "duration": 33,
    "start_time": "2022-06-15T09:56:22.011Z"
   },
   {
    "duration": 6,
    "start_time": "2022-06-15T09:57:27.750Z"
   },
   {
    "duration": 39,
    "start_time": "2022-06-15T09:57:32.244Z"
   },
   {
    "duration": 48,
    "start_time": "2022-06-15T09:57:50.879Z"
   },
   {
    "duration": 41,
    "start_time": "2022-06-15T09:59:20.534Z"
   },
   {
    "duration": 164,
    "start_time": "2022-06-15T09:59:52.256Z"
   },
   {
    "duration": 28,
    "start_time": "2022-06-15T10:00:00.547Z"
   },
   {
    "duration": 45,
    "start_time": "2022-06-15T10:00:12.506Z"
   },
   {
    "duration": 608,
    "start_time": "2022-06-15T10:01:47.857Z"
   },
   {
    "duration": 53,
    "start_time": "2022-06-15T10:02:53.905Z"
   },
   {
    "duration": 1064,
    "start_time": "2022-06-15T10:03:04.299Z"
   },
   {
    "duration": 3,
    "start_time": "2022-06-15T10:03:05.364Z"
   },
   {
    "duration": 566,
    "start_time": "2022-06-15T10:03:05.368Z"
   },
   {
    "duration": 98,
    "start_time": "2022-06-15T10:03:05.935Z"
   },
   {
    "duration": 200,
    "start_time": "2022-06-15T10:03:06.035Z"
   },
   {
    "duration": 95,
    "start_time": "2022-06-15T10:03:06.237Z"
   },
   {
    "duration": 77,
    "start_time": "2022-06-15T10:03:06.334Z"
   },
   {
    "duration": 154,
    "start_time": "2022-06-15T10:03:06.413Z"
   },
   {
    "duration": 0,
    "start_time": "2022-06-15T10:03:06.568Z"
   },
   {
    "duration": 0,
    "start_time": "2022-06-15T10:03:06.570Z"
   },
   {
    "duration": 0,
    "start_time": "2022-06-15T10:03:06.571Z"
   },
   {
    "duration": 0,
    "start_time": "2022-06-15T10:03:06.579Z"
   },
   {
    "duration": 0,
    "start_time": "2022-06-15T10:03:06.583Z"
   },
   {
    "duration": 0,
    "start_time": "2022-06-15T10:03:06.585Z"
   },
   {
    "duration": 0,
    "start_time": "2022-06-15T10:03:06.586Z"
   },
   {
    "duration": 0,
    "start_time": "2022-06-15T10:03:06.587Z"
   },
   {
    "duration": 0,
    "start_time": "2022-06-15T10:03:06.588Z"
   },
   {
    "duration": 0,
    "start_time": "2022-06-15T10:03:06.589Z"
   },
   {
    "duration": 0,
    "start_time": "2022-06-15T10:03:06.589Z"
   },
   {
    "duration": 0,
    "start_time": "2022-06-15T10:03:06.590Z"
   },
   {
    "duration": 0,
    "start_time": "2022-06-15T10:03:06.591Z"
   },
   {
    "duration": 0,
    "start_time": "2022-06-15T10:03:06.591Z"
   },
   {
    "duration": 0,
    "start_time": "2022-06-15T10:03:06.592Z"
   },
   {
    "duration": 0,
    "start_time": "2022-06-15T10:03:06.593Z"
   },
   {
    "duration": 110,
    "start_time": "2022-06-15T10:03:31.866Z"
   },
   {
    "duration": 80,
    "start_time": "2022-06-15T10:04:04.045Z"
   },
   {
    "duration": 83,
    "start_time": "2022-06-15T10:04:04.127Z"
   },
   {
    "duration": 731,
    "start_time": "2022-06-15T10:04:04.211Z"
   },
   {
    "duration": 0,
    "start_time": "2022-06-15T10:04:04.945Z"
   },
   {
    "duration": 0,
    "start_time": "2022-06-15T10:04:04.946Z"
   },
   {
    "duration": 0,
    "start_time": "2022-06-15T10:04:04.947Z"
   },
   {
    "duration": 0,
    "start_time": "2022-06-15T10:04:04.949Z"
   },
   {
    "duration": 0,
    "start_time": "2022-06-15T10:04:04.950Z"
   },
   {
    "duration": 0,
    "start_time": "2022-06-15T10:04:04.951Z"
   },
   {
    "duration": 0,
    "start_time": "2022-06-15T10:04:04.953Z"
   },
   {
    "duration": 0,
    "start_time": "2022-06-15T10:04:04.954Z"
   },
   {
    "duration": 0,
    "start_time": "2022-06-15T10:04:04.955Z"
   },
   {
    "duration": 0,
    "start_time": "2022-06-15T10:04:04.957Z"
   },
   {
    "duration": 0,
    "start_time": "2022-06-15T10:04:04.958Z"
   },
   {
    "duration": 0,
    "start_time": "2022-06-15T10:04:04.960Z"
   },
   {
    "duration": 0,
    "start_time": "2022-06-15T10:04:04.960Z"
   },
   {
    "duration": 93,
    "start_time": "2022-06-15T10:05:11.638Z"
   },
   {
    "duration": 72,
    "start_time": "2022-06-15T10:05:20.157Z"
   },
   {
    "duration": 74,
    "start_time": "2022-06-15T10:05:26.561Z"
   },
   {
    "duration": 75,
    "start_time": "2022-06-15T10:05:26.637Z"
   },
   {
    "duration": 552,
    "start_time": "2022-06-15T10:05:26.713Z"
   },
   {
    "duration": 0,
    "start_time": "2022-06-15T10:05:27.267Z"
   },
   {
    "duration": 0,
    "start_time": "2022-06-15T10:05:27.268Z"
   },
   {
    "duration": 0,
    "start_time": "2022-06-15T10:05:27.269Z"
   },
   {
    "duration": 0,
    "start_time": "2022-06-15T10:05:27.271Z"
   },
   {
    "duration": 0,
    "start_time": "2022-06-15T10:05:27.272Z"
   },
   {
    "duration": 0,
    "start_time": "2022-06-15T10:05:27.273Z"
   },
   {
    "duration": 0,
    "start_time": "2022-06-15T10:05:27.274Z"
   },
   {
    "duration": 0,
    "start_time": "2022-06-15T10:05:27.276Z"
   },
   {
    "duration": 0,
    "start_time": "2022-06-15T10:05:27.277Z"
   },
   {
    "duration": 0,
    "start_time": "2022-06-15T10:05:27.279Z"
   },
   {
    "duration": 0,
    "start_time": "2022-06-15T10:05:27.280Z"
   },
   {
    "duration": 0,
    "start_time": "2022-06-15T10:05:27.280Z"
   },
   {
    "duration": 0,
    "start_time": "2022-06-15T10:05:27.281Z"
   },
   {
    "duration": 537,
    "start_time": "2022-06-15T10:06:51.593Z"
   },
   {
    "duration": 96,
    "start_time": "2022-06-15T10:08:58.198Z"
   },
   {
    "duration": 55,
    "start_time": "2022-06-15T10:09:02.086Z"
   },
   {
    "duration": 995,
    "start_time": "2022-06-15T10:09:08.696Z"
   },
   {
    "duration": 3,
    "start_time": "2022-06-15T10:09:09.693Z"
   },
   {
    "duration": 494,
    "start_time": "2022-06-15T10:09:09.698Z"
   },
   {
    "duration": 69,
    "start_time": "2022-06-15T10:09:10.194Z"
   },
   {
    "duration": 194,
    "start_time": "2022-06-15T10:09:10.279Z"
   },
   {
    "duration": 65,
    "start_time": "2022-06-15T10:09:10.477Z"
   },
   {
    "duration": 73,
    "start_time": "2022-06-15T10:09:10.544Z"
   },
   {
    "duration": 90,
    "start_time": "2022-06-15T10:09:10.619Z"
   },
   {
    "duration": 86,
    "start_time": "2022-06-15T10:09:10.710Z"
   },
   {
    "duration": 55,
    "start_time": "2022-06-15T10:09:10.799Z"
   },
   {
    "duration": 152,
    "start_time": "2022-06-15T10:09:10.856Z"
   },
   {
    "duration": 0,
    "start_time": "2022-06-15T10:09:11.010Z"
   },
   {
    "duration": 0,
    "start_time": "2022-06-15T10:09:11.012Z"
   },
   {
    "duration": 0,
    "start_time": "2022-06-15T10:09:11.013Z"
   },
   {
    "duration": 0,
    "start_time": "2022-06-15T10:09:11.015Z"
   },
   {
    "duration": 0,
    "start_time": "2022-06-15T10:09:11.016Z"
   },
   {
    "duration": 0,
    "start_time": "2022-06-15T10:09:11.018Z"
   },
   {
    "duration": 0,
    "start_time": "2022-06-15T10:09:11.019Z"
   },
   {
    "duration": 0,
    "start_time": "2022-06-15T10:09:11.021Z"
   },
   {
    "duration": 0,
    "start_time": "2022-06-15T10:09:11.022Z"
   },
   {
    "duration": 0,
    "start_time": "2022-06-15T10:09:11.023Z"
   },
   {
    "duration": 0,
    "start_time": "2022-06-15T10:09:11.024Z"
   },
   {
    "duration": 0,
    "start_time": "2022-06-15T10:09:11.025Z"
   },
   {
    "duration": 0,
    "start_time": "2022-06-15T10:09:11.026Z"
   },
   {
    "duration": 627,
    "start_time": "2022-06-15T10:10:04.542Z"
   },
   {
    "duration": 21,
    "start_time": "2022-06-15T10:10:47.478Z"
   },
   {
    "duration": 1087,
    "start_time": "2022-06-15T10:10:58.750Z"
   },
   {
    "duration": 3,
    "start_time": "2022-06-15T10:10:59.839Z"
   },
   {
    "duration": 539,
    "start_time": "2022-06-15T10:10:59.847Z"
   },
   {
    "duration": 106,
    "start_time": "2022-06-15T10:11:00.389Z"
   },
   {
    "duration": 204,
    "start_time": "2022-06-15T10:11:00.497Z"
   },
   {
    "duration": 58,
    "start_time": "2022-06-15T10:11:00.703Z"
   },
   {
    "duration": 79,
    "start_time": "2022-06-15T10:11:00.763Z"
   },
   {
    "duration": 119,
    "start_time": "2022-06-15T10:11:00.844Z"
   },
   {
    "duration": 93,
    "start_time": "2022-06-15T10:11:00.965Z"
   },
   {
    "duration": 64,
    "start_time": "2022-06-15T10:11:01.081Z"
   },
   {
    "duration": 123,
    "start_time": "2022-06-15T10:11:01.147Z"
   },
   {
    "duration": 0,
    "start_time": "2022-06-15T10:11:01.272Z"
   },
   {
    "duration": 0,
    "start_time": "2022-06-15T10:11:01.273Z"
   },
   {
    "duration": 0,
    "start_time": "2022-06-15T10:11:01.274Z"
   },
   {
    "duration": 0,
    "start_time": "2022-06-15T10:11:01.280Z"
   },
   {
    "duration": 1,
    "start_time": "2022-06-15T10:11:01.281Z"
   },
   {
    "duration": 0,
    "start_time": "2022-06-15T10:11:01.283Z"
   },
   {
    "duration": 0,
    "start_time": "2022-06-15T10:11:01.286Z"
   },
   {
    "duration": 0,
    "start_time": "2022-06-15T10:11:01.287Z"
   },
   {
    "duration": 0,
    "start_time": "2022-06-15T10:11:01.288Z"
   },
   {
    "duration": 0,
    "start_time": "2022-06-15T10:11:01.289Z"
   },
   {
    "duration": 0,
    "start_time": "2022-06-15T10:11:01.290Z"
   },
   {
    "duration": 0,
    "start_time": "2022-06-15T10:11:01.290Z"
   },
   {
    "duration": 0,
    "start_time": "2022-06-15T10:11:01.291Z"
   },
   {
    "duration": 70,
    "start_time": "2022-06-15T10:11:26.726Z"
   },
   {
    "duration": 4,
    "start_time": "2022-06-15T10:12:37.637Z"
   },
   {
    "duration": 14,
    "start_time": "2022-06-15T10:12:37.643Z"
   },
   {
    "duration": 689,
    "start_time": "2022-06-15T10:12:37.659Z"
   },
   {
    "duration": 124,
    "start_time": "2022-06-15T10:12:38.350Z"
   },
   {
    "duration": 223,
    "start_time": "2022-06-15T10:12:38.476Z"
   },
   {
    "duration": 95,
    "start_time": "2022-06-15T10:12:38.711Z"
   },
   {
    "duration": 66,
    "start_time": "2022-06-15T10:12:38.815Z"
   },
   {
    "duration": 87,
    "start_time": "2022-06-15T10:12:38.882Z"
   },
   {
    "duration": 74,
    "start_time": "2022-06-15T10:12:38.981Z"
   },
   {
    "duration": 99,
    "start_time": "2022-06-15T10:12:39.057Z"
   },
   {
    "duration": 76,
    "start_time": "2022-06-15T10:12:39.157Z"
   },
   {
    "duration": 83,
    "start_time": "2022-06-15T10:12:39.235Z"
   },
   {
    "duration": 25,
    "start_time": "2022-06-15T10:12:39.320Z"
   },
   {
    "duration": 844,
    "start_time": "2022-06-15T10:12:39.347Z"
   },
   {
    "duration": 41,
    "start_time": "2022-06-15T10:12:40.193Z"
   },
   {
    "duration": 55,
    "start_time": "2022-06-15T10:12:40.237Z"
   },
   {
    "duration": 60,
    "start_time": "2022-06-15T10:12:40.293Z"
   },
   {
    "duration": 22,
    "start_time": "2022-06-15T10:12:40.355Z"
   },
   {
    "duration": 528,
    "start_time": "2022-06-15T10:12:40.378Z"
   },
   {
    "duration": 19,
    "start_time": "2022-06-15T10:12:40.908Z"
   },
   {
    "duration": 23,
    "start_time": "2022-06-15T10:12:40.929Z"
   },
   {
    "duration": 482,
    "start_time": "2022-06-15T10:12:40.979Z"
   },
   {
    "duration": 31,
    "start_time": "2022-06-15T10:12:41.462Z"
   },
   {
    "duration": 36,
    "start_time": "2022-06-15T10:17:24.796Z"
   },
   {
    "duration": 12,
    "start_time": "2022-06-15T10:17:53.412Z"
   },
   {
    "duration": 835,
    "start_time": "2022-06-15T10:18:23.622Z"
   },
   {
    "duration": 479,
    "start_time": "2022-06-15T10:18:50.539Z"
   },
   {
    "duration": 528,
    "start_time": "2022-06-15T10:19:08.624Z"
   },
   {
    "duration": 37,
    "start_time": "2022-06-15T10:19:46.601Z"
   },
   {
    "duration": 53,
    "start_time": "2022-06-15T10:19:53.751Z"
   },
   {
    "duration": 46,
    "start_time": "2022-06-15T10:20:13.194Z"
   },
   {
    "duration": 54,
    "start_time": "2022-06-15T10:21:17.662Z"
   },
   {
    "duration": 43,
    "start_time": "2022-06-15T10:21:56.824Z"
   },
   {
    "duration": 31,
    "start_time": "2022-06-15T10:22:14.311Z"
   },
   {
    "duration": 47,
    "start_time": "2022-06-15T10:23:16.405Z"
   },
   {
    "duration": 3,
    "start_time": "2022-06-15T10:26:37.265Z"
   },
   {
    "duration": 5,
    "start_time": "2022-06-15T10:26:42.724Z"
   },
   {
    "duration": 24,
    "start_time": "2022-06-15T10:27:14.049Z"
   },
   {
    "duration": 66,
    "start_time": "2022-06-15T10:27:21.324Z"
   },
   {
    "duration": 38,
    "start_time": "2022-06-15T10:27:24.905Z"
   },
   {
    "duration": 4,
    "start_time": "2022-06-15T10:27:56.839Z"
   },
   {
    "duration": 4,
    "start_time": "2022-06-15T10:29:27.844Z"
   },
   {
    "duration": 1057,
    "start_time": "2022-06-15T10:29:46.860Z"
   },
   {
    "duration": 3,
    "start_time": "2022-06-15T10:29:47.919Z"
   },
   {
    "duration": 657,
    "start_time": "2022-06-15T10:29:47.924Z"
   },
   {
    "duration": 111,
    "start_time": "2022-06-15T10:29:48.583Z"
   },
   {
    "duration": 220,
    "start_time": "2022-06-15T10:29:48.696Z"
   },
   {
    "duration": 76,
    "start_time": "2022-06-15T10:29:48.918Z"
   },
   {
    "duration": 88,
    "start_time": "2022-06-15T10:29:49.000Z"
   },
   {
    "duration": 80,
    "start_time": "2022-06-15T10:29:49.090Z"
   },
   {
    "duration": 76,
    "start_time": "2022-06-15T10:29:49.178Z"
   },
   {
    "duration": 109,
    "start_time": "2022-06-15T10:29:49.258Z"
   },
   {
    "duration": 70,
    "start_time": "2022-06-15T10:29:49.369Z"
   },
   {
    "duration": 68,
    "start_time": "2022-06-15T10:29:49.441Z"
   },
   {
    "duration": 23,
    "start_time": "2022-06-15T10:29:49.511Z"
   },
   {
    "duration": 800,
    "start_time": "2022-06-15T10:29:49.536Z"
   },
   {
    "duration": 53,
    "start_time": "2022-06-15T10:29:50.338Z"
   },
   {
    "duration": 29,
    "start_time": "2022-06-15T10:29:50.392Z"
   },
   {
    "duration": 71,
    "start_time": "2022-06-15T10:29:50.423Z"
   },
   {
    "duration": 26,
    "start_time": "2022-06-15T10:29:50.500Z"
   },
   {
    "duration": 476,
    "start_time": "2022-06-15T10:29:50.528Z"
   },
   {
    "duration": 15,
    "start_time": "2022-06-15T10:29:51.005Z"
   },
   {
    "duration": 68,
    "start_time": "2022-06-15T10:29:51.023Z"
   },
   {
    "duration": 503,
    "start_time": "2022-06-15T10:29:51.097Z"
   },
   {
    "duration": 17,
    "start_time": "2022-06-15T10:29:51.601Z"
   },
   {
    "duration": 66,
    "start_time": "2022-06-15T10:29:51.619Z"
   },
   {
    "duration": 39,
    "start_time": "2022-06-15T10:29:51.686Z"
   },
   {
    "duration": 13,
    "start_time": "2022-06-15T10:29:51.727Z"
   },
   {
    "duration": 62,
    "start_time": "2022-06-15T10:31:16.435Z"
   },
   {
    "duration": 5,
    "start_time": "2022-06-15T10:33:17.354Z"
   },
   {
    "duration": 1030,
    "start_time": "2022-06-15T10:33:32.296Z"
   },
   {
    "duration": 3,
    "start_time": "2022-06-15T10:33:33.328Z"
   },
   {
    "duration": 556,
    "start_time": "2022-06-15T10:33:33.333Z"
   },
   {
    "duration": 117,
    "start_time": "2022-06-15T10:33:33.890Z"
   },
   {
    "duration": 232,
    "start_time": "2022-06-15T10:33:34.009Z"
   },
   {
    "duration": 85,
    "start_time": "2022-06-15T10:33:34.243Z"
   },
   {
    "duration": 75,
    "start_time": "2022-06-15T10:33:34.329Z"
   },
   {
    "duration": 103,
    "start_time": "2022-06-15T10:33:34.405Z"
   },
   {
    "duration": 74,
    "start_time": "2022-06-15T10:33:34.509Z"
   },
   {
    "duration": 57,
    "start_time": "2022-06-15T10:33:34.585Z"
   },
   {
    "duration": 81,
    "start_time": "2022-06-15T10:33:34.643Z"
   },
   {
    "duration": 57,
    "start_time": "2022-06-15T10:33:34.726Z"
   },
   {
    "duration": 26,
    "start_time": "2022-06-15T10:33:34.784Z"
   },
   {
    "duration": 806,
    "start_time": "2022-06-15T10:33:34.813Z"
   },
   {
    "duration": 28,
    "start_time": "2022-06-15T10:33:35.620Z"
   },
   {
    "duration": 52,
    "start_time": "2022-06-15T10:33:35.649Z"
   },
   {
    "duration": 31,
    "start_time": "2022-06-15T10:33:35.703Z"
   },
   {
    "duration": 19,
    "start_time": "2022-06-15T10:33:35.736Z"
   },
   {
    "duration": 507,
    "start_time": "2022-06-15T10:33:35.778Z"
   },
   {
    "duration": 25,
    "start_time": "2022-06-15T10:33:36.288Z"
   },
   {
    "duration": 46,
    "start_time": "2022-06-15T10:33:36.314Z"
   },
   {
    "duration": 441,
    "start_time": "2022-06-15T10:33:36.362Z"
   },
   {
    "duration": 14,
    "start_time": "2022-06-15T10:33:36.804Z"
   },
   {
    "duration": 64,
    "start_time": "2022-06-15T10:33:36.820Z"
   },
   {
    "duration": 40,
    "start_time": "2022-06-15T10:33:36.888Z"
   },
   {
    "duration": 13,
    "start_time": "2022-06-15T10:33:36.929Z"
   },
   {
    "duration": 34,
    "start_time": "2022-06-15T10:34:31.404Z"
   },
   {
    "duration": 7,
    "start_time": "2022-06-15T10:36:53.199Z"
   },
   {
    "duration": 475,
    "start_time": "2022-06-15T10:40:48.591Z"
   },
   {
    "duration": 369,
    "start_time": "2022-06-15T10:40:54.291Z"
   },
   {
    "duration": 1001,
    "start_time": "2022-06-15T10:41:18.924Z"
   },
   {
    "duration": 2,
    "start_time": "2022-06-15T10:41:19.927Z"
   },
   {
    "duration": 518,
    "start_time": "2022-06-15T10:41:19.931Z"
   },
   {
    "duration": 93,
    "start_time": "2022-06-15T10:41:20.477Z"
   },
   {
    "duration": 210,
    "start_time": "2022-06-15T10:41:20.577Z"
   },
   {
    "duration": 60,
    "start_time": "2022-06-15T10:41:20.789Z"
   },
   {
    "duration": 76,
    "start_time": "2022-06-15T10:41:20.851Z"
   },
   {
    "duration": 96,
    "start_time": "2022-06-15T10:41:20.928Z"
   },
   {
    "duration": 78,
    "start_time": "2022-06-15T10:41:21.025Z"
   },
   {
    "duration": 56,
    "start_time": "2022-06-15T10:41:21.106Z"
   },
   {
    "duration": 62,
    "start_time": "2022-06-15T10:41:21.164Z"
   },
   {
    "duration": 59,
    "start_time": "2022-06-15T10:41:21.228Z"
   },
   {
    "duration": 22,
    "start_time": "2022-06-15T10:41:21.289Z"
   },
   {
    "duration": 769,
    "start_time": "2022-06-15T10:41:21.312Z"
   },
   {
    "duration": 30,
    "start_time": "2022-06-15T10:41:22.083Z"
   },
   {
    "duration": 27,
    "start_time": "2022-06-15T10:41:22.114Z"
   },
   {
    "duration": 58,
    "start_time": "2022-06-15T10:41:22.142Z"
   },
   {
    "duration": 21,
    "start_time": "2022-06-15T10:41:22.202Z"
   },
   {
    "duration": 454,
    "start_time": "2022-06-15T10:41:22.225Z"
   },
   {
    "duration": 17,
    "start_time": "2022-06-15T10:41:22.680Z"
   },
   {
    "duration": 40,
    "start_time": "2022-06-15T10:41:22.698Z"
   },
   {
    "duration": 533,
    "start_time": "2022-06-15T10:41:22.739Z"
   },
   {
    "duration": 17,
    "start_time": "2022-06-15T10:41:23.277Z"
   },
   {
    "duration": 60,
    "start_time": "2022-06-15T10:41:23.295Z"
   },
   {
    "duration": 35,
    "start_time": "2022-06-15T10:41:23.378Z"
   },
   {
    "duration": 11,
    "start_time": "2022-06-15T10:41:23.415Z"
   },
   {
    "duration": 145,
    "start_time": "2022-06-15T10:41:23.428Z"
   },
   {
    "duration": 68,
    "start_time": "2022-06-15T10:41:54.541Z"
   },
   {
    "duration": 1010,
    "start_time": "2022-06-15T10:42:11.590Z"
   },
   {
    "duration": 2,
    "start_time": "2022-06-15T10:42:12.602Z"
   },
   {
    "duration": 475,
    "start_time": "2022-06-15T10:42:12.605Z"
   },
   {
    "duration": 78,
    "start_time": "2022-06-15T10:42:13.082Z"
   },
   {
    "duration": 192,
    "start_time": "2022-06-15T10:42:13.162Z"
   },
   {
    "duration": 87,
    "start_time": "2022-06-15T10:42:13.356Z"
   },
   {
    "duration": 60,
    "start_time": "2022-06-15T10:42:14.599Z"
   },
   {
    "duration": 428,
    "start_time": "2022-06-15T10:42:36.196Z"
   },
   {
    "duration": 337,
    "start_time": "2022-06-15T10:43:02.846Z"
   },
   {
    "duration": 1076,
    "start_time": "2022-06-15T10:43:19.153Z"
   },
   {
    "duration": 3,
    "start_time": "2022-06-15T10:43:20.231Z"
   },
   {
    "duration": 549,
    "start_time": "2022-06-15T10:43:20.236Z"
   },
   {
    "duration": 94,
    "start_time": "2022-06-15T10:43:20.787Z"
   },
   {
    "duration": 209,
    "start_time": "2022-06-15T10:43:20.883Z"
   },
   {
    "duration": 60,
    "start_time": "2022-06-15T10:43:21.094Z"
   },
   {
    "duration": 61,
    "start_time": "2022-06-15T10:43:32.474Z"
   },
   {
    "duration": 630,
    "start_time": "2022-06-15T12:44:57.756Z"
   },
   {
    "duration": 3,
    "start_time": "2022-06-15T12:45:01.755Z"
   },
   {
    "duration": 2,
    "start_time": "2022-06-15T12:45:05.946Z"
   },
   {
    "duration": 979,
    "start_time": "2022-06-15T13:26:12.189Z"
   },
   {
    "duration": 8,
    "start_time": "2022-06-15T13:26:13.170Z"
   },
   {
    "duration": 455,
    "start_time": "2022-06-15T13:26:13.179Z"
   },
   {
    "duration": 94,
    "start_time": "2022-06-15T13:26:13.635Z"
   },
   {
    "duration": 178,
    "start_time": "2022-06-15T13:26:13.730Z"
   },
   {
    "duration": 55,
    "start_time": "2022-06-15T13:26:13.909Z"
   },
   {
    "duration": 63,
    "start_time": "2022-06-15T13:26:13.966Z"
   },
   {
    "duration": 89,
    "start_time": "2022-06-15T13:26:14.030Z"
   },
   {
    "duration": 75,
    "start_time": "2022-06-15T13:26:14.120Z"
   },
   {
    "duration": 52,
    "start_time": "2022-06-15T13:26:14.198Z"
   },
   {
    "duration": 74,
    "start_time": "2022-06-15T13:26:14.251Z"
   },
   {
    "duration": 37,
    "start_time": "2022-06-15T13:26:14.326Z"
   },
   {
    "duration": 30,
    "start_time": "2022-06-15T13:26:14.365Z"
   },
   {
    "duration": 717,
    "start_time": "2022-06-15T13:26:14.396Z"
   },
   {
    "duration": 26,
    "start_time": "2022-06-15T13:26:15.115Z"
   },
   {
    "duration": 45,
    "start_time": "2022-06-15T13:26:15.142Z"
   },
   {
    "duration": 25,
    "start_time": "2022-06-15T13:26:15.188Z"
   },
   {
    "duration": 18,
    "start_time": "2022-06-15T13:26:15.215Z"
   },
   {
    "duration": 429,
    "start_time": "2022-06-15T13:26:15.235Z"
   },
   {
    "duration": 18,
    "start_time": "2022-06-15T13:26:15.666Z"
   },
   {
    "duration": 51,
    "start_time": "2022-06-15T13:26:15.685Z"
   },
   {
    "duration": 384,
    "start_time": "2022-06-15T13:26:15.738Z"
   },
   {
    "duration": 13,
    "start_time": "2022-06-15T13:26:16.123Z"
   },
   {
    "duration": 56,
    "start_time": "2022-06-15T13:26:16.137Z"
   },
   {
    "duration": 21,
    "start_time": "2022-06-15T13:26:16.195Z"
   },
   {
    "duration": 13,
    "start_time": "2022-06-15T13:26:16.218Z"
   },
   {
    "duration": 119,
    "start_time": "2022-06-15T13:26:16.232Z"
   },
   {
    "duration": 23,
    "start_time": "2022-06-15T13:26:43.936Z"
   },
   {
    "duration": 8,
    "start_time": "2022-06-15T13:42:02.728Z"
   },
   {
    "duration": 40,
    "start_time": "2022-06-15T13:42:08.557Z"
   },
   {
    "duration": 21,
    "start_time": "2022-06-15T13:42:10.065Z"
   },
   {
    "duration": 4,
    "start_time": "2022-06-15T13:42:11.976Z"
   },
   {
    "duration": 14,
    "start_time": "2022-06-15T13:42:23.096Z"
   },
   {
    "duration": 23,
    "start_time": "2022-06-15T13:43:31.274Z"
   },
   {
    "duration": 47,
    "start_time": "2022-06-15T13:44:45.073Z"
   },
   {
    "duration": 5,
    "start_time": "2022-06-15T13:45:32.226Z"
   },
   {
    "duration": 479,
    "start_time": "2022-06-15T14:11:22.666Z"
   },
   {
    "duration": 502,
    "start_time": "2022-06-15T14:12:44.890Z"
   },
   {
    "duration": 381,
    "start_time": "2022-06-15T14:13:16.849Z"
   },
   {
    "duration": 423,
    "start_time": "2022-06-15T14:14:53.296Z"
   },
   {
    "duration": 463,
    "start_time": "2022-06-15T14:14:59.122Z"
   },
   {
    "duration": 420,
    "start_time": "2022-06-15T14:15:27.676Z"
   },
   {
    "duration": 422,
    "start_time": "2022-06-15T14:15:37.128Z"
   },
   {
    "duration": 412,
    "start_time": "2022-06-15T14:15:57.009Z"
   },
   {
    "duration": 616,
    "start_time": "2022-06-15T14:38:20.494Z"
   },
   {
    "duration": 483,
    "start_time": "2022-06-15T14:38:30.358Z"
   },
   {
    "duration": 487,
    "start_time": "2022-06-15T14:39:54.301Z"
   },
   {
    "duration": 572,
    "start_time": "2022-06-15T14:40:34.136Z"
   },
   {
    "duration": 466,
    "start_time": "2022-06-15T14:46:50.453Z"
   },
   {
    "duration": 196,
    "start_time": "2022-06-15T14:48:57.282Z"
   },
   {
    "duration": 419,
    "start_time": "2022-06-15T14:49:38.230Z"
   },
   {
    "duration": 398,
    "start_time": "2022-06-15T14:49:45.380Z"
   },
   {
    "duration": 585,
    "start_time": "2022-06-15T14:54:17.520Z"
   },
   {
    "duration": 188,
    "start_time": "2022-06-15T14:54:48.868Z"
   },
   {
    "duration": 421,
    "start_time": "2022-06-15T15:02:30.764Z"
   },
   {
    "duration": 546,
    "start_time": "2022-06-15T15:02:35.881Z"
   },
   {
    "duration": 1039,
    "start_time": "2022-06-15T15:18:30.687Z"
   },
   {
    "duration": 3,
    "start_time": "2022-06-15T15:18:31.729Z"
   },
   {
    "duration": 1058,
    "start_time": "2022-06-15T15:18:31.733Z"
   },
   {
    "duration": 69,
    "start_time": "2022-06-15T15:18:32.792Z"
   },
   {
    "duration": 179,
    "start_time": "2022-06-15T15:18:32.863Z"
   },
   {
    "duration": 67,
    "start_time": "2022-06-15T15:18:33.043Z"
   },
   {
    "duration": 77,
    "start_time": "2022-06-15T15:18:33.111Z"
   },
   {
    "duration": 77,
    "start_time": "2022-06-15T15:18:33.189Z"
   },
   {
    "duration": 76,
    "start_time": "2022-06-15T15:18:33.267Z"
   },
   {
    "duration": 68,
    "start_time": "2022-06-15T15:18:33.345Z"
   },
   {
    "duration": 48,
    "start_time": "2022-06-15T15:18:33.415Z"
   },
   {
    "duration": 42,
    "start_time": "2022-06-15T15:18:33.477Z"
   },
   {
    "duration": 27,
    "start_time": "2022-06-15T15:18:33.520Z"
   },
   {
    "duration": 765,
    "start_time": "2022-06-15T15:18:33.553Z"
   },
   {
    "duration": 28,
    "start_time": "2022-06-15T15:18:34.320Z"
   },
   {
    "duration": 34,
    "start_time": "2022-06-15T15:18:34.350Z"
   },
   {
    "duration": 28,
    "start_time": "2022-06-15T15:18:34.385Z"
   },
   {
    "duration": 20,
    "start_time": "2022-06-15T15:18:34.414Z"
   },
   {
    "duration": 13,
    "start_time": "2022-06-15T15:18:34.436Z"
   },
   {
    "duration": 46,
    "start_time": "2022-06-15T15:18:34.450Z"
   },
   {
    "duration": 14,
    "start_time": "2022-06-15T15:18:34.498Z"
   },
   {
    "duration": 200,
    "start_time": "2022-06-15T15:18:34.514Z"
   },
   {
    "duration": 433,
    "start_time": "2022-06-15T15:18:34.715Z"
   },
   {
    "duration": 190,
    "start_time": "2022-06-15T15:18:35.149Z"
   },
   {
    "duration": 54,
    "start_time": "2022-06-15T15:18:35.341Z"
   },
   {
    "duration": 28,
    "start_time": "2022-06-15T15:18:35.397Z"
   },
   {
    "duration": 14,
    "start_time": "2022-06-15T15:18:35.426Z"
   },
   {
    "duration": 28,
    "start_time": "2022-06-15T15:18:35.442Z"
   },
   {
    "duration": 48,
    "start_time": "2022-06-15T15:18:35.472Z"
   },
   {
    "duration": 5,
    "start_time": "2022-06-15T15:18:35.522Z"
   },
   {
    "duration": 125,
    "start_time": "2022-06-15T15:22:41.485Z"
   },
   {
    "duration": 59,
    "start_time": "2022-06-15T15:22:47.163Z"
   },
   {
    "duration": 815,
    "start_time": "2022-06-15T15:24:30.079Z"
   },
   {
    "duration": 26,
    "start_time": "2022-06-15T15:40:01.271Z"
   },
   {
    "duration": 38,
    "start_time": "2022-06-15T15:41:24.269Z"
   },
   {
    "duration": 32,
    "start_time": "2022-06-15T15:43:30.665Z"
   },
   {
    "duration": 39,
    "start_time": "2022-06-15T15:45:07.777Z"
   },
   {
    "duration": 28,
    "start_time": "2022-06-15T15:45:24.114Z"
   },
   {
    "duration": 32,
    "start_time": "2022-06-15T15:45:26.591Z"
   },
   {
    "duration": 36,
    "start_time": "2022-06-15T15:45:39.984Z"
   },
   {
    "duration": 37,
    "start_time": "2022-06-15T15:45:54.720Z"
   },
   {
    "duration": 1047,
    "start_time": "2022-06-15T15:46:09.747Z"
   },
   {
    "duration": 7,
    "start_time": "2022-06-15T15:46:10.797Z"
   },
   {
    "duration": 507,
    "start_time": "2022-06-15T15:46:10.805Z"
   },
   {
    "duration": 102,
    "start_time": "2022-06-15T15:46:11.314Z"
   },
   {
    "duration": 191,
    "start_time": "2022-06-15T15:46:11.417Z"
   },
   {
    "duration": 67,
    "start_time": "2022-06-15T15:46:11.611Z"
   },
   {
    "duration": 61,
    "start_time": "2022-06-15T15:46:11.683Z"
   },
   {
    "duration": 102,
    "start_time": "2022-06-15T15:46:11.745Z"
   },
   {
    "duration": 88,
    "start_time": "2022-06-15T15:46:11.849Z"
   },
   {
    "duration": 74,
    "start_time": "2022-06-15T15:46:11.939Z"
   },
   {
    "duration": 51,
    "start_time": "2022-06-15T15:46:12.014Z"
   },
   {
    "duration": 57,
    "start_time": "2022-06-15T15:46:12.067Z"
   },
   {
    "duration": 31,
    "start_time": "2022-06-15T15:46:12.125Z"
   },
   {
    "duration": 741,
    "start_time": "2022-06-15T15:46:12.177Z"
   },
   {
    "duration": 29,
    "start_time": "2022-06-15T15:46:12.920Z"
   },
   {
    "duration": 44,
    "start_time": "2022-06-15T15:46:12.950Z"
   },
   {
    "duration": 29,
    "start_time": "2022-06-15T15:46:12.996Z"
   },
   {
    "duration": 19,
    "start_time": "2022-06-15T15:46:13.027Z"
   },
   {
    "duration": 50,
    "start_time": "2022-06-15T15:46:13.048Z"
   },
   {
    "duration": 19,
    "start_time": "2022-06-15T15:46:13.100Z"
   },
   {
    "duration": 13,
    "start_time": "2022-06-15T15:46:13.120Z"
   },
   {
    "duration": 246,
    "start_time": "2022-06-15T15:46:13.134Z"
   },
   {
    "duration": 477,
    "start_time": "2022-06-15T15:46:13.382Z"
   },
   {
    "duration": 188,
    "start_time": "2022-06-15T15:46:13.860Z"
   },
   {
    "duration": 63,
    "start_time": "2022-06-15T15:46:14.049Z"
   },
   {
    "duration": 29,
    "start_time": "2022-06-15T15:46:14.113Z"
   },
   {
    "duration": 8,
    "start_time": "2022-06-15T15:46:14.144Z"
   },
   {
    "duration": 32,
    "start_time": "2022-06-15T15:46:14.155Z"
   },
   {
    "duration": 54,
    "start_time": "2022-06-15T15:46:14.190Z"
   },
   {
    "duration": 7,
    "start_time": "2022-06-15T15:46:14.245Z"
   },
   {
    "duration": 28,
    "start_time": "2022-06-15T15:47:01.611Z"
   },
   {
    "duration": 25,
    "start_time": "2022-06-15T15:47:09.145Z"
   },
   {
    "duration": 109,
    "start_time": "2022-06-15T15:48:20.240Z"
   },
   {
    "duration": 38,
    "start_time": "2022-06-15T15:49:02.368Z"
   },
   {
    "duration": 21,
    "start_time": "2022-06-15T15:50:45.698Z"
   },
   {
    "duration": 1027,
    "start_time": "2022-06-15T15:51:13.882Z"
   },
   {
    "duration": 3,
    "start_time": "2022-06-15T15:51:14.911Z"
   },
   {
    "duration": 493,
    "start_time": "2022-06-15T15:51:14.915Z"
   },
   {
    "duration": 73,
    "start_time": "2022-06-15T15:51:15.410Z"
   },
   {
    "duration": 185,
    "start_time": "2022-06-15T15:51:15.485Z"
   },
   {
    "duration": 66,
    "start_time": "2022-06-15T15:51:15.671Z"
   },
   {
    "duration": 72,
    "start_time": "2022-06-15T15:51:15.739Z"
   },
   {
    "duration": 96,
    "start_time": "2022-06-15T15:51:15.813Z"
   },
   {
    "duration": 69,
    "start_time": "2022-06-15T15:51:15.911Z"
   },
   {
    "duration": 66,
    "start_time": "2022-06-15T15:51:15.984Z"
   },
   {
    "duration": 80,
    "start_time": "2022-06-15T15:51:16.052Z"
   },
   {
    "duration": 53,
    "start_time": "2022-06-15T15:51:16.133Z"
   },
   {
    "duration": 33,
    "start_time": "2022-06-15T15:51:16.187Z"
   },
   {
    "duration": 996,
    "start_time": "2022-06-15T15:51:16.222Z"
   },
   {
    "duration": 27,
    "start_time": "2022-06-15T15:51:17.220Z"
   },
   {
    "duration": 46,
    "start_time": "2022-06-15T15:51:17.249Z"
   },
   {
    "duration": 28,
    "start_time": "2022-06-15T15:51:17.296Z"
   },
   {
    "duration": 22,
    "start_time": "2022-06-15T15:51:17.326Z"
   },
   {
    "duration": 118,
    "start_time": "2022-06-15T15:51:17.350Z"
   },
   {
    "duration": 0,
    "start_time": "2022-06-15T15:51:17.470Z"
   },
   {
    "duration": 0,
    "start_time": "2022-06-15T15:51:17.478Z"
   },
   {
    "duration": 0,
    "start_time": "2022-06-15T15:51:17.480Z"
   },
   {
    "duration": 0,
    "start_time": "2022-06-15T15:51:17.481Z"
   },
   {
    "duration": 0,
    "start_time": "2022-06-15T15:51:17.483Z"
   },
   {
    "duration": 0,
    "start_time": "2022-06-15T15:51:17.487Z"
   },
   {
    "duration": 0,
    "start_time": "2022-06-15T15:51:17.488Z"
   },
   {
    "duration": 0,
    "start_time": "2022-06-15T15:51:17.490Z"
   },
   {
    "duration": 0,
    "start_time": "2022-06-15T15:51:17.492Z"
   },
   {
    "duration": 0,
    "start_time": "2022-06-15T15:51:17.493Z"
   },
   {
    "duration": 0,
    "start_time": "2022-06-15T15:51:17.495Z"
   },
   {
    "duration": 23,
    "start_time": "2022-06-15T15:51:59.872Z"
   },
   {
    "duration": 21,
    "start_time": "2022-06-15T15:52:07.827Z"
   },
   {
    "duration": 25,
    "start_time": "2022-06-15T15:52:07.851Z"
   },
   {
    "duration": 23,
    "start_time": "2022-06-15T15:52:07.880Z"
   },
   {
    "duration": 225,
    "start_time": "2022-06-15T15:52:07.906Z"
   },
   {
    "duration": 468,
    "start_time": "2022-06-15T15:52:08.132Z"
   },
   {
    "duration": 176,
    "start_time": "2022-06-15T15:52:08.602Z"
   },
   {
    "duration": 65,
    "start_time": "2022-06-15T15:52:08.781Z"
   },
   {
    "duration": 41,
    "start_time": "2022-06-15T15:52:08.847Z"
   },
   {
    "duration": 15,
    "start_time": "2022-06-15T15:52:08.889Z"
   },
   {
    "duration": 26,
    "start_time": "2022-06-15T15:52:08.906Z"
   },
   {
    "duration": 54,
    "start_time": "2022-06-15T15:52:08.934Z"
   },
   {
    "duration": 5,
    "start_time": "2022-06-15T15:52:08.990Z"
   },
   {
    "duration": 212,
    "start_time": "2022-06-15T15:55:01.719Z"
   },
   {
    "duration": 42,
    "start_time": "2022-06-17T07:30:19.221Z"
   },
   {
    "duration": 1121,
    "start_time": "2022-06-17T07:30:28.628Z"
   },
   {
    "duration": 2,
    "start_time": "2022-06-17T07:30:29.751Z"
   },
   {
    "duration": 1241,
    "start_time": "2022-06-17T07:30:29.754Z"
   },
   {
    "duration": 89,
    "start_time": "2022-06-17T07:30:30.998Z"
   },
   {
    "duration": 178,
    "start_time": "2022-06-17T07:30:31.088Z"
   },
   {
    "duration": 10,
    "start_time": "2022-06-17T07:30:31.268Z"
   },
   {
    "duration": 12,
    "start_time": "2022-06-17T07:30:35.609Z"
   },
   {
    "duration": 64,
    "start_time": "2022-06-17T07:32:23.761Z"
   },
   {
    "duration": 27,
    "start_time": "2022-06-17T07:33:00.200Z"
   },
   {
    "duration": 37,
    "start_time": "2022-06-17T07:34:33.637Z"
   },
   {
    "duration": 53,
    "start_time": "2022-06-17T07:36:27.602Z"
   },
   {
    "duration": 2,
    "start_time": "2022-06-17T07:36:37.114Z"
   },
   {
    "duration": 7,
    "start_time": "2022-06-17T07:36:37.118Z"
   },
   {
    "duration": 457,
    "start_time": "2022-06-17T07:36:37.127Z"
   },
   {
    "duration": 81,
    "start_time": "2022-06-17T07:36:37.586Z"
   },
   {
    "duration": 144,
    "start_time": "2022-06-17T07:36:37.669Z"
   },
   {
    "duration": 18,
    "start_time": "2022-06-17T07:36:37.814Z"
   },
   {
    "duration": 49,
    "start_time": "2022-06-17T07:36:37.834Z"
   },
   {
    "duration": 86,
    "start_time": "2022-06-17T07:36:37.884Z"
   },
   {
    "duration": 70,
    "start_time": "2022-06-17T07:36:37.972Z"
   },
   {
    "duration": 53,
    "start_time": "2022-06-17T07:36:38.043Z"
   },
   {
    "duration": 57,
    "start_time": "2022-06-17T07:36:38.098Z"
   },
   {
    "duration": 41,
    "start_time": "2022-06-17T07:36:41.187Z"
   },
   {
    "duration": 3,
    "start_time": "2022-06-17T07:42:24.284Z"
   },
   {
    "duration": 9,
    "start_time": "2022-06-17T07:42:24.289Z"
   },
   {
    "duration": 445,
    "start_time": "2022-06-17T07:42:24.299Z"
   },
   {
    "duration": 82,
    "start_time": "2022-06-17T07:42:24.746Z"
   },
   {
    "duration": 154,
    "start_time": "2022-06-17T07:42:24.830Z"
   },
   {
    "duration": 11,
    "start_time": "2022-06-17T07:42:24.986Z"
   },
   {
    "duration": 65,
    "start_time": "2022-06-17T07:42:24.998Z"
   },
   {
    "duration": 73,
    "start_time": "2022-06-17T07:42:25.064Z"
   },
   {
    "duration": 59,
    "start_time": "2022-06-17T07:42:25.138Z"
   },
   {
    "duration": 63,
    "start_time": "2022-06-17T07:42:25.198Z"
   },
   {
    "duration": 46,
    "start_time": "2022-06-17T07:42:25.263Z"
   },
   {
    "duration": 52,
    "start_time": "2022-06-17T07:42:25.311Z"
   },
   {
    "duration": 21,
    "start_time": "2022-06-17T07:42:25.365Z"
   },
   {
    "duration": 809,
    "start_time": "2022-06-17T07:42:25.388Z"
   },
   {
    "duration": 45,
    "start_time": "2022-06-17T07:42:26.199Z"
   },
   {
    "duration": 24,
    "start_time": "2022-06-17T07:42:26.246Z"
   },
   {
    "duration": 25,
    "start_time": "2022-06-17T07:42:26.272Z"
   },
   {
    "duration": 40,
    "start_time": "2022-06-17T07:42:26.298Z"
   },
   {
    "duration": 16,
    "start_time": "2022-06-17T07:42:26.340Z"
   },
   {
    "duration": 25,
    "start_time": "2022-06-17T07:42:26.358Z"
   },
   {
    "duration": 14,
    "start_time": "2022-06-17T07:42:26.384Z"
   },
   {
    "duration": 268,
    "start_time": "2022-06-17T07:42:26.399Z"
   },
   {
    "duration": 431,
    "start_time": "2022-06-17T07:42:26.669Z"
   },
   {
    "duration": 165,
    "start_time": "2022-06-17T07:42:27.101Z"
   },
   {
    "duration": 14,
    "start_time": "2022-06-17T07:43:13.605Z"
   },
   {
    "duration": 21,
    "start_time": "2022-06-17T07:47:25.003Z"
   },
   {
    "duration": 215,
    "start_time": "2022-06-17T07:48:08.856Z"
   },
   {
    "duration": 206,
    "start_time": "2022-06-17T07:48:59.408Z"
   },
   {
    "duration": 228,
    "start_time": "2022-06-17T07:49:09.078Z"
   },
   {
    "duration": 34,
    "start_time": "2022-06-17T07:51:22.132Z"
   },
   {
    "duration": 130,
    "start_time": "2022-06-17T07:53:00.722Z"
   },
   {
    "duration": 131,
    "start_time": "2022-06-17T07:56:10.157Z"
   },
   {
    "duration": 117,
    "start_time": "2022-06-17T07:56:28.358Z"
   },
   {
    "duration": 114,
    "start_time": "2022-06-17T07:56:48.304Z"
   },
   {
    "duration": 113,
    "start_time": "2022-06-17T07:57:26.885Z"
   },
   {
    "duration": 115,
    "start_time": "2022-06-17T07:58:09.780Z"
   },
   {
    "duration": 175,
    "start_time": "2022-06-17T07:58:46.706Z"
   },
   {
    "duration": 101,
    "start_time": "2022-06-17T07:59:15.782Z"
   },
   {
    "duration": 84,
    "start_time": "2022-06-17T08:00:19.896Z"
   },
   {
    "duration": 100,
    "start_time": "2022-06-17T08:00:54.160Z"
   },
   {
    "duration": 109,
    "start_time": "2022-06-17T08:00:58.298Z"
   },
   {
    "duration": 89,
    "start_time": "2022-06-17T08:01:33.376Z"
   },
   {
    "duration": 265,
    "start_time": "2022-06-17T08:02:10.706Z"
   },
   {
    "duration": 414,
    "start_time": "2022-06-17T08:04:04.984Z"
   },
   {
    "duration": 264,
    "start_time": "2022-06-17T08:06:13.764Z"
   },
   {
    "duration": 124,
    "start_time": "2022-06-17T08:08:01.051Z"
   },
   {
    "duration": 26,
    "start_time": "2022-06-17T08:08:43.568Z"
   },
   {
    "duration": 132,
    "start_time": "2022-06-17T08:09:43.395Z"
   },
   {
    "duration": 29,
    "start_time": "2022-06-17T08:09:57.472Z"
   },
   {
    "duration": 138,
    "start_time": "2022-06-17T08:10:20.360Z"
   },
   {
    "duration": 429,
    "start_time": "2022-06-17T08:11:13.716Z"
   },
   {
    "duration": 502,
    "start_time": "2022-06-17T08:11:24.902Z"
   },
   {
    "duration": 31,
    "start_time": "2022-06-17T08:11:33.371Z"
   },
   {
    "duration": 1034,
    "start_time": "2022-06-17T08:12:22.304Z"
   },
   {
    "duration": 2,
    "start_time": "2022-06-17T08:12:23.340Z"
   },
   {
    "duration": 464,
    "start_time": "2022-06-17T08:12:23.344Z"
   },
   {
    "duration": 68,
    "start_time": "2022-06-17T08:12:23.825Z"
   },
   {
    "duration": 188,
    "start_time": "2022-06-17T08:12:23.895Z"
   },
   {
    "duration": 11,
    "start_time": "2022-06-17T08:12:24.084Z"
   },
   {
    "duration": 64,
    "start_time": "2022-06-17T08:12:24.096Z"
   },
   {
    "duration": 92,
    "start_time": "2022-06-17T08:12:24.162Z"
   },
   {
    "duration": 70,
    "start_time": "2022-06-17T08:12:24.256Z"
   },
   {
    "duration": 56,
    "start_time": "2022-06-17T08:12:24.328Z"
   },
   {
    "duration": 60,
    "start_time": "2022-06-17T08:12:24.385Z"
   },
   {
    "duration": 40,
    "start_time": "2022-06-17T08:12:24.447Z"
   },
   {
    "duration": 21,
    "start_time": "2022-06-17T08:12:24.488Z"
   },
   {
    "duration": 802,
    "start_time": "2022-06-17T08:12:24.527Z"
   },
   {
    "duration": 37,
    "start_time": "2022-06-17T08:12:25.330Z"
   },
   {
    "duration": 30,
    "start_time": "2022-06-17T08:12:25.369Z"
   },
   {
    "duration": 52,
    "start_time": "2022-06-17T08:12:25.401Z"
   },
   {
    "duration": 24,
    "start_time": "2022-06-17T08:12:25.455Z"
   },
   {
    "duration": 18,
    "start_time": "2022-06-17T08:12:25.481Z"
   },
   {
    "duration": 23,
    "start_time": "2022-06-17T08:12:25.526Z"
   },
   {
    "duration": 30,
    "start_time": "2022-06-17T08:12:25.551Z"
   },
   {
    "duration": 206,
    "start_time": "2022-06-17T08:12:25.583Z"
   },
   {
    "duration": 410,
    "start_time": "2022-06-17T08:12:25.791Z"
   },
   {
    "duration": 185,
    "start_time": "2022-06-17T08:12:26.202Z"
   },
   {
    "duration": 127,
    "start_time": "2022-06-17T08:12:31.644Z"
   },
   {
    "duration": 109,
    "start_time": "2022-06-17T08:12:53.459Z"
   },
   {
    "duration": 29,
    "start_time": "2022-06-17T08:13:11.451Z"
   },
   {
    "duration": 35,
    "start_time": "2022-06-17T08:13:53.961Z"
   },
   {
    "duration": 34,
    "start_time": "2022-06-17T08:14:10.021Z"
   },
   {
    "duration": 33,
    "start_time": "2022-06-17T08:14:31.849Z"
   },
   {
    "duration": 158,
    "start_time": "2022-06-17T08:15:05.903Z"
   },
   {
    "duration": 177,
    "start_time": "2022-06-17T08:15:16.912Z"
   },
   {
    "duration": 1952,
    "start_time": "2022-06-17T08:20:22.162Z"
   },
   {
    "duration": 185,
    "start_time": "2022-06-17T08:20:48.886Z"
   },
   {
    "duration": 223,
    "start_time": "2022-06-17T08:21:15.392Z"
   },
   {
    "duration": 141,
    "start_time": "2022-06-17T08:21:59.506Z"
   },
   {
    "duration": 2047,
    "start_time": "2022-06-17T08:22:08.880Z"
   },
   {
    "duration": 204,
    "start_time": "2022-06-17T08:24:10.030Z"
   },
   {
    "duration": 1860,
    "start_time": "2022-06-17T08:24:18.044Z"
   },
   {
    "duration": 2134,
    "start_time": "2022-06-17T08:25:08.114Z"
   },
   {
    "duration": 3,
    "start_time": "2022-06-17T08:25:35.268Z"
   },
   {
    "duration": 5,
    "start_time": "2022-06-17T08:25:35.274Z"
   },
   {
    "duration": 510,
    "start_time": "2022-06-17T08:25:35.281Z"
   },
   {
    "duration": 81,
    "start_time": "2022-06-17T08:25:35.793Z"
   },
   {
    "duration": 157,
    "start_time": "2022-06-17T08:25:35.876Z"
   },
   {
    "duration": 11,
    "start_time": "2022-06-17T08:25:36.036Z"
   },
   {
    "duration": 53,
    "start_time": "2022-06-17T08:25:36.048Z"
   },
   {
    "duration": 86,
    "start_time": "2022-06-17T08:25:36.102Z"
   },
   {
    "duration": 87,
    "start_time": "2022-06-17T08:25:36.192Z"
   },
   {
    "duration": 71,
    "start_time": "2022-06-17T08:25:36.282Z"
   },
   {
    "duration": 50,
    "start_time": "2022-06-17T08:25:36.355Z"
   },
   {
    "duration": 51,
    "start_time": "2022-06-17T08:25:36.407Z"
   },
   {
    "duration": 31,
    "start_time": "2022-06-17T08:25:36.459Z"
   },
   {
    "duration": 985,
    "start_time": "2022-06-17T08:25:36.493Z"
   },
   {
    "duration": 49,
    "start_time": "2022-06-17T08:25:37.479Z"
   },
   {
    "duration": 28,
    "start_time": "2022-06-17T08:25:37.529Z"
   },
   {
    "duration": 28,
    "start_time": "2022-06-17T08:25:37.559Z"
   },
   {
    "duration": 46,
    "start_time": "2022-06-17T08:25:37.588Z"
   },
   {
    "duration": 19,
    "start_time": "2022-06-17T08:25:37.636Z"
   },
   {
    "duration": 20,
    "start_time": "2022-06-17T08:25:37.657Z"
   },
   {
    "duration": 15,
    "start_time": "2022-06-17T08:25:37.679Z"
   },
   {
    "duration": 229,
    "start_time": "2022-06-17T08:25:37.696Z"
   },
   {
    "duration": 508,
    "start_time": "2022-06-17T08:25:37.927Z"
   },
   {
    "duration": 212,
    "start_time": "2022-06-17T08:25:38.438Z"
   },
   {
    "duration": 108,
    "start_time": "2022-06-17T08:25:47.625Z"
   },
   {
    "duration": 1801,
    "start_time": "2022-06-17T08:26:05.349Z"
   },
   {
    "duration": 1817,
    "start_time": "2022-06-17T08:26:48.374Z"
   },
   {
    "duration": 36,
    "start_time": "2022-06-17T08:27:35.886Z"
   },
   {
    "duration": 1843,
    "start_time": "2022-06-17T08:27:58.800Z"
   },
   {
    "duration": 1861,
    "start_time": "2022-06-17T08:28:51.201Z"
   },
   {
    "duration": 2014,
    "start_time": "2022-06-17T08:29:08.659Z"
   },
   {
    "duration": 187,
    "start_time": "2022-06-17T08:30:10.128Z"
   },
   {
    "duration": 2197,
    "start_time": "2022-06-17T08:30:25.704Z"
   },
   {
    "duration": 32,
    "start_time": "2022-06-17T08:36:31.223Z"
   },
   {
    "duration": 44,
    "start_time": "2022-06-17T08:37:07.082Z"
   },
   {
    "duration": 2104,
    "start_time": "2022-06-17T08:37:25.726Z"
   },
   {
    "duration": 32,
    "start_time": "2022-06-17T08:46:14.556Z"
   },
   {
    "duration": 2138,
    "start_time": "2022-06-17T08:46:28.190Z"
   },
   {
    "duration": 964,
    "start_time": "2022-06-17T08:55:32.164Z"
   },
   {
    "duration": 2,
    "start_time": "2022-06-17T08:55:33.130Z"
   },
   {
    "duration": 463,
    "start_time": "2022-06-17T08:55:33.133Z"
   },
   {
    "duration": 88,
    "start_time": "2022-06-17T08:55:33.599Z"
   },
   {
    "duration": 180,
    "start_time": "2022-06-17T08:55:33.689Z"
   },
   {
    "duration": 12,
    "start_time": "2022-06-17T08:55:33.871Z"
   },
   {
    "duration": 69,
    "start_time": "2022-06-17T08:55:33.885Z"
   },
   {
    "duration": 94,
    "start_time": "2022-06-17T08:55:33.956Z"
   },
   {
    "duration": 75,
    "start_time": "2022-06-17T08:55:34.052Z"
   },
   {
    "duration": 53,
    "start_time": "2022-06-17T08:55:34.130Z"
   },
   {
    "duration": 61,
    "start_time": "2022-06-17T08:55:34.185Z"
   },
   {
    "duration": 40,
    "start_time": "2022-06-17T08:55:34.247Z"
   },
   {
    "duration": 37,
    "start_time": "2022-06-17T08:55:34.288Z"
   },
   {
    "duration": 765,
    "start_time": "2022-06-17T08:55:34.327Z"
   },
   {
    "duration": 43,
    "start_time": "2022-06-17T08:55:35.093Z"
   },
   {
    "duration": 26,
    "start_time": "2022-06-17T08:55:35.138Z"
   },
   {
    "duration": 27,
    "start_time": "2022-06-17T08:55:35.165Z"
   },
   {
    "duration": 42,
    "start_time": "2022-06-17T08:55:35.193Z"
   },
   {
    "duration": 16,
    "start_time": "2022-06-17T08:55:35.236Z"
   },
   {
    "duration": 19,
    "start_time": "2022-06-17T08:55:35.254Z"
   },
   {
    "duration": 14,
    "start_time": "2022-06-17T08:55:35.275Z"
   },
   {
    "duration": 202,
    "start_time": "2022-06-17T08:55:35.291Z"
   },
   {
    "duration": 411,
    "start_time": "2022-06-17T08:55:35.495Z"
   },
   {
    "duration": 167,
    "start_time": "2022-06-17T08:55:35.908Z"
   },
   {
    "duration": 115,
    "start_time": "2022-06-17T08:55:36.077Z"
   },
   {
    "duration": 0,
    "start_time": "2022-06-17T08:55:36.194Z"
   },
   {
    "duration": 0,
    "start_time": "2022-06-17T08:55:36.195Z"
   },
   {
    "duration": 0,
    "start_time": "2022-06-17T08:55:36.196Z"
   },
   {
    "duration": 0,
    "start_time": "2022-06-17T08:55:36.197Z"
   },
   {
    "duration": 0,
    "start_time": "2022-06-17T08:55:36.198Z"
   },
   {
    "duration": 0,
    "start_time": "2022-06-17T08:55:36.199Z"
   },
   {
    "duration": 0,
    "start_time": "2022-06-17T08:55:36.199Z"
   },
   {
    "duration": 0,
    "start_time": "2022-06-17T08:55:36.200Z"
   },
   {
    "duration": 2188,
    "start_time": "2022-06-17T08:56:15.184Z"
   },
   {
    "duration": 40,
    "start_time": "2022-06-17T08:56:28.674Z"
   },
   {
    "duration": 2111,
    "start_time": "2022-06-17T08:56:31.570Z"
   },
   {
    "duration": 51,
    "start_time": "2022-06-17T08:57:16.343Z"
   },
   {
    "duration": 2192,
    "start_time": "2022-06-17T08:57:41.461Z"
   },
   {
    "duration": 39,
    "start_time": "2022-06-17T08:59:07.472Z"
   },
   {
    "duration": 27,
    "start_time": "2022-06-17T08:59:20.029Z"
   },
   {
    "duration": 0,
    "start_time": "2022-06-17T08:59:20.058Z"
   },
   {
    "duration": 0,
    "start_time": "2022-06-17T08:59:20.059Z"
   },
   {
    "duration": 0,
    "start_time": "2022-06-17T08:59:20.060Z"
   },
   {
    "duration": 0,
    "start_time": "2022-06-17T08:59:20.061Z"
   },
   {
    "duration": 0,
    "start_time": "2022-06-17T08:59:20.062Z"
   },
   {
    "duration": 0,
    "start_time": "2022-06-17T08:59:20.063Z"
   },
   {
    "duration": 0,
    "start_time": "2022-06-17T08:59:20.064Z"
   },
   {
    "duration": 0,
    "start_time": "2022-06-17T08:59:20.065Z"
   },
   {
    "duration": 993,
    "start_time": "2022-06-17T08:59:35.682Z"
   },
   {
    "duration": 2,
    "start_time": "2022-06-17T08:59:36.677Z"
   },
   {
    "duration": 449,
    "start_time": "2022-06-17T08:59:36.680Z"
   },
   {
    "duration": 71,
    "start_time": "2022-06-17T08:59:37.131Z"
   },
   {
    "duration": 173,
    "start_time": "2022-06-17T08:59:37.204Z"
   },
   {
    "duration": 12,
    "start_time": "2022-06-17T08:59:37.379Z"
   },
   {
    "duration": 63,
    "start_time": "2022-06-17T08:59:37.392Z"
   },
   {
    "duration": 84,
    "start_time": "2022-06-17T08:59:37.457Z"
   },
   {
    "duration": 62,
    "start_time": "2022-06-17T08:59:37.542Z"
   },
   {
    "duration": 64,
    "start_time": "2022-06-17T08:59:37.607Z"
   },
   {
    "duration": 55,
    "start_time": "2022-06-17T08:59:37.673Z"
   },
   {
    "duration": 40,
    "start_time": "2022-06-17T08:59:37.729Z"
   },
   {
    "duration": 22,
    "start_time": "2022-06-17T08:59:37.770Z"
   },
   {
    "duration": 746,
    "start_time": "2022-06-17T08:59:37.793Z"
   },
   {
    "duration": 37,
    "start_time": "2022-06-17T08:59:38.541Z"
   },
   {
    "duration": 46,
    "start_time": "2022-06-17T08:59:38.580Z"
   },
   {
    "duration": 25,
    "start_time": "2022-06-17T08:59:38.628Z"
   },
   {
    "duration": 18,
    "start_time": "2022-06-17T08:59:38.654Z"
   },
   {
    "duration": 15,
    "start_time": "2022-06-17T08:59:38.674Z"
   },
   {
    "duration": 45,
    "start_time": "2022-06-17T08:59:38.690Z"
   },
   {
    "duration": 19,
    "start_time": "2022-06-17T08:59:38.736Z"
   },
   {
    "duration": 211,
    "start_time": "2022-06-17T08:59:38.757Z"
   },
   {
    "duration": 419,
    "start_time": "2022-06-17T08:59:38.970Z"
   },
   {
    "duration": 165,
    "start_time": "2022-06-17T08:59:39.390Z"
   },
   {
    "duration": 34,
    "start_time": "2022-06-17T09:00:13.631Z"
   },
   {
    "duration": 109,
    "start_time": "2022-06-17T09:00:22.810Z"
   },
   {
    "duration": 2108,
    "start_time": "2022-06-17T09:00:46.832Z"
   },
   {
    "duration": 40,
    "start_time": "2022-06-17T09:01:23.983Z"
   },
   {
    "duration": 2019,
    "start_time": "2022-06-17T09:01:40.178Z"
   },
   {
    "duration": 36,
    "start_time": "2022-06-17T09:02:08.095Z"
   },
   {
    "duration": 2210,
    "start_time": "2022-06-17T09:02:21.706Z"
   },
   {
    "duration": 2173,
    "start_time": "2022-06-17T09:03:21.534Z"
   },
   {
    "duration": 2259,
    "start_time": "2022-06-17T09:03:34.290Z"
   },
   {
    "duration": 2133,
    "start_time": "2022-06-17T09:03:53.134Z"
   },
   {
    "duration": 2185,
    "start_time": "2022-06-17T09:04:17.883Z"
   },
   {
    "duration": 1008,
    "start_time": "2022-06-17T09:04:28.339Z"
   },
   {
    "duration": 2,
    "start_time": "2022-06-17T09:04:29.349Z"
   },
   {
    "duration": 454,
    "start_time": "2022-06-17T09:04:29.352Z"
   },
   {
    "duration": 68,
    "start_time": "2022-06-17T09:04:29.826Z"
   },
   {
    "duration": 179,
    "start_time": "2022-06-17T09:04:29.896Z"
   },
   {
    "duration": 15,
    "start_time": "2022-06-17T09:04:30.077Z"
   },
   {
    "duration": 67,
    "start_time": "2022-06-17T09:04:30.094Z"
   },
   {
    "duration": 87,
    "start_time": "2022-06-17T09:04:30.162Z"
   },
   {
    "duration": 65,
    "start_time": "2022-06-17T09:04:30.250Z"
   },
   {
    "duration": 54,
    "start_time": "2022-06-17T09:04:30.325Z"
   },
   {
    "duration": 63,
    "start_time": "2022-06-17T09:04:30.381Z"
   },
   {
    "duration": 41,
    "start_time": "2022-06-17T09:04:30.445Z"
   },
   {
    "duration": 38,
    "start_time": "2022-06-17T09:04:30.487Z"
   },
   {
    "duration": 776,
    "start_time": "2022-06-17T09:04:30.527Z"
   },
   {
    "duration": 43,
    "start_time": "2022-06-17T09:04:31.305Z"
   },
   {
    "duration": 27,
    "start_time": "2022-06-17T09:04:31.350Z"
   },
   {
    "duration": 49,
    "start_time": "2022-06-17T09:04:31.378Z"
   },
   {
    "duration": 19,
    "start_time": "2022-06-17T09:04:31.428Z"
   },
   {
    "duration": 16,
    "start_time": "2022-06-17T09:04:31.448Z"
   },
   {
    "duration": 19,
    "start_time": "2022-06-17T09:04:31.465Z"
   },
   {
    "duration": 43,
    "start_time": "2022-06-17T09:04:31.486Z"
   },
   {
    "duration": 186,
    "start_time": "2022-06-17T09:04:31.531Z"
   },
   {
    "duration": 431,
    "start_time": "2022-06-17T09:04:31.719Z"
   },
   {
    "duration": 163,
    "start_time": "2022-06-17T09:04:32.152Z"
   },
   {
    "duration": 15,
    "start_time": "2022-06-17T09:04:32.317Z"
   },
   {
    "duration": 9,
    "start_time": "2022-06-17T09:04:32.334Z"
   },
   {
    "duration": 10,
    "start_time": "2022-06-17T09:04:32.345Z"
   },
   {
    "duration": 43,
    "start_time": "2022-06-17T09:04:32.358Z"
   },
   {
    "duration": 41,
    "start_time": "2022-06-17T09:04:32.402Z"
   },
   {
    "duration": 8,
    "start_time": "2022-06-17T09:04:32.445Z"
   },
   {
    "duration": 24,
    "start_time": "2022-06-17T09:04:32.454Z"
   },
   {
    "duration": 56,
    "start_time": "2022-06-17T09:04:32.480Z"
   },
   {
    "duration": 5,
    "start_time": "2022-06-17T09:04:32.537Z"
   },
   {
    "duration": 2085,
    "start_time": "2022-06-17T09:06:57.701Z"
   },
   {
    "duration": 7,
    "start_time": "2022-06-17T09:10:22.418Z"
   },
   {
    "duration": 2580,
    "start_time": "2022-06-17T09:10:25.395Z"
   },
   {
    "duration": 1044,
    "start_time": "2022-06-17T09:11:06.813Z"
   },
   {
    "duration": 3,
    "start_time": "2022-06-17T09:11:07.859Z"
   },
   {
    "duration": 483,
    "start_time": "2022-06-17T09:11:07.863Z"
   },
   {
    "duration": 81,
    "start_time": "2022-06-17T09:11:08.348Z"
   },
   {
    "duration": 182,
    "start_time": "2022-06-17T09:11:08.431Z"
   },
   {
    "duration": 29,
    "start_time": "2022-06-17T09:11:08.614Z"
   },
   {
    "duration": 52,
    "start_time": "2022-06-17T09:11:08.645Z"
   },
   {
    "duration": 89,
    "start_time": "2022-06-17T09:11:08.699Z"
   },
   {
    "duration": 77,
    "start_time": "2022-06-17T09:11:08.790Z"
   },
   {
    "duration": 61,
    "start_time": "2022-06-17T09:11:08.870Z"
   },
   {
    "duration": 49,
    "start_time": "2022-06-17T09:11:08.933Z"
   },
   {
    "duration": 57,
    "start_time": "2022-06-17T09:11:08.984Z"
   },
   {
    "duration": 24,
    "start_time": "2022-06-17T09:11:09.042Z"
   },
   {
    "duration": 903,
    "start_time": "2022-06-17T09:11:09.068Z"
   },
   {
    "duration": 53,
    "start_time": "2022-06-17T09:11:09.973Z"
   },
   {
    "duration": 27,
    "start_time": "2022-06-17T09:11:10.028Z"
   },
   {
    "duration": 36,
    "start_time": "2022-06-17T09:11:10.057Z"
   },
   {
    "duration": 40,
    "start_time": "2022-06-17T09:11:10.095Z"
   },
   {
    "duration": 19,
    "start_time": "2022-06-17T09:11:10.137Z"
   },
   {
    "duration": 34,
    "start_time": "2022-06-17T09:11:10.158Z"
   },
   {
    "duration": 17,
    "start_time": "2022-06-17T09:11:10.193Z"
   },
   {
    "duration": 215,
    "start_time": "2022-06-17T09:11:10.212Z"
   },
   {
    "duration": 467,
    "start_time": "2022-06-17T09:11:10.428Z"
   },
   {
    "duration": 187,
    "start_time": "2022-06-17T09:11:10.897Z"
   },
   {
    "duration": 8,
    "start_time": "2022-06-17T09:11:11.086Z"
   },
   {
    "duration": 12,
    "start_time": "2022-06-17T09:11:11.096Z"
   },
   {
    "duration": 26,
    "start_time": "2022-06-17T09:11:11.110Z"
   },
   {
    "duration": 26,
    "start_time": "2022-06-17T09:11:11.140Z"
   },
   {
    "duration": 30,
    "start_time": "2022-06-17T09:11:11.168Z"
   },
   {
    "duration": 22,
    "start_time": "2022-06-17T09:11:11.200Z"
   },
   {
    "duration": 58,
    "start_time": "2022-06-17T09:11:11.223Z"
   },
   {
    "duration": 33,
    "start_time": "2022-06-17T09:11:11.282Z"
   },
   {
    "duration": 27,
    "start_time": "2022-06-17T09:11:11.316Z"
   },
   {
    "duration": 36,
    "start_time": "2022-06-17T09:11:11.344Z"
   },
   {
    "duration": 52,
    "start_time": "2022-06-17T09:11:11.382Z"
   },
   {
    "duration": 11,
    "start_time": "2022-06-17T09:11:11.435Z"
   },
   {
    "duration": 7,
    "start_time": "2022-06-17T09:11:53.990Z"
   },
   {
    "duration": 7,
    "start_time": "2022-06-17T09:11:57.340Z"
   },
   {
    "duration": 59,
    "start_time": "2022-06-17T09:12:44.146Z"
   },
   {
    "duration": 107,
    "start_time": "2022-06-17T09:12:48.555Z"
   },
   {
    "duration": 9,
    "start_time": "2022-06-17T09:12:58.020Z"
   },
   {
    "duration": 2209,
    "start_time": "2022-06-17T09:13:01.273Z"
   },
   {
    "duration": 2145,
    "start_time": "2022-06-17T09:13:25.547Z"
   },
   {
    "duration": 2164,
    "start_time": "2022-06-17T09:13:42.425Z"
   },
   {
    "duration": 985,
    "start_time": "2022-06-17T09:14:03.334Z"
   },
   {
    "duration": 4,
    "start_time": "2022-06-17T09:14:04.321Z"
   },
   {
    "duration": 474,
    "start_time": "2022-06-17T09:14:04.327Z"
   },
   {
    "duration": 88,
    "start_time": "2022-06-17T09:14:04.803Z"
   },
   {
    "duration": 178,
    "start_time": "2022-06-17T09:14:04.892Z"
   },
   {
    "duration": 12,
    "start_time": "2022-06-17T09:14:05.071Z"
   },
   {
    "duration": 63,
    "start_time": "2022-06-17T09:14:05.084Z"
   },
   {
    "duration": 86,
    "start_time": "2022-06-17T09:14:05.149Z"
   },
   {
    "duration": 64,
    "start_time": "2022-06-17T09:14:05.236Z"
   },
   {
    "duration": 63,
    "start_time": "2022-06-17T09:14:05.302Z"
   },
   {
    "duration": 49,
    "start_time": "2022-06-17T09:14:05.366Z"
   },
   {
    "duration": 41,
    "start_time": "2022-06-17T09:14:05.426Z"
   },
   {
    "duration": 21,
    "start_time": "2022-06-17T09:14:05.469Z"
   },
   {
    "duration": 824,
    "start_time": "2022-06-17T09:14:05.491Z"
   },
   {
    "duration": 42,
    "start_time": "2022-06-17T09:14:06.316Z"
   },
   {
    "duration": 24,
    "start_time": "2022-06-17T09:14:06.359Z"
   },
   {
    "duration": 42,
    "start_time": "2022-06-17T09:14:06.384Z"
   },
   {
    "duration": 19,
    "start_time": "2022-06-17T09:14:06.427Z"
   },
   {
    "duration": 16,
    "start_time": "2022-06-17T09:14:06.447Z"
   },
   {
    "duration": 27,
    "start_time": "2022-06-17T09:14:06.464Z"
   },
   {
    "duration": 44,
    "start_time": "2022-06-17T09:14:06.493Z"
   },
   {
    "duration": 235,
    "start_time": "2022-06-17T09:14:06.539Z"
   },
   {
    "duration": 424,
    "start_time": "2022-06-17T09:14:06.775Z"
   },
   {
    "duration": 175,
    "start_time": "2022-06-17T09:14:07.201Z"
   },
   {
    "duration": 6,
    "start_time": "2022-06-17T09:19:29.621Z"
   },
   {
    "duration": 2137,
    "start_time": "2022-06-17T09:19:32.137Z"
   },
   {
    "duration": 6,
    "start_time": "2022-06-17T09:20:29.812Z"
   }
  ],
  "kernelspec": {
   "display_name": "Python 3 (ipykernel)",
   "language": "python",
   "name": "python3"
  },
  "language_info": {
   "codemirror_mode": {
    "name": "ipython",
    "version": 3
   },
   "file_extension": ".py",
   "mimetype": "text/x-python",
   "name": "python",
   "nbconvert_exporter": "python",
   "pygments_lexer": "ipython3",
   "version": "3.9.5"
  },
  "toc": {
   "base_numbering": 1,
   "nav_menu": {},
   "number_sections": true,
   "sideBar": true,
   "skip_h1_title": true,
   "title_cell": "Table of Contents",
   "title_sidebar": "Contents",
   "toc_cell": false,
   "toc_position": {},
   "toc_section_display": true,
   "toc_window_display": true
  }
 },
 "nbformat": 4,
 "nbformat_minor": 2
}
