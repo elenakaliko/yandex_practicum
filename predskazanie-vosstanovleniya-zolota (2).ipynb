{
 "cells": [
  {
   "cell_type": "markdown",
   "metadata": {
    "toc": true
   },
   "source": [
    "<h1>Содержание<span class=\"tocSkip\"></span></h1>\n",
    "<div class=\"toc\"><ul class=\"toc-item\"><li><span><a href=\"#Подготовка-данных\" data-toc-modified-id=\"Подготовка-данных-1\"><span class=\"toc-item-num\">1&nbsp;&nbsp;</span>Подготовка данных</a></span></li><li><span><a href=\"#Анализ-данных\" data-toc-modified-id=\"Анализ-данных-2\"><span class=\"toc-item-num\">2&nbsp;&nbsp;</span>Анализ данных</a></span></li><li><span><a href=\"#Модель\" data-toc-modified-id=\"Модель-3\"><span class=\"toc-item-num\">3&nbsp;&nbsp;</span>Модель</a></span><ul class=\"toc-item\"><li><span><a href=\"#Обработка-входных-данных\" data-toc-modified-id=\"Обработка-входных-данных-3.1\"><span class=\"toc-item-num\">3.1&nbsp;&nbsp;</span>Обработка входных данных</a></span></li><li><span><a href=\"#Функция-sMAPE\" data-toc-modified-id=\"Функция-sMAPE-3.2\"><span class=\"toc-item-num\">3.2&nbsp;&nbsp;</span>Функция sMAPE</a></span></li><li><span><a href=\"#Обучение-различных-моделей-и-выбор-наилучшей\" data-toc-modified-id=\"Обучение-различных-моделей-и-выбор-наилучшей-3.3\"><span class=\"toc-item-num\">3.3&nbsp;&nbsp;</span>Обучение различных моделей и выбор наилучшей</a></span></li><li><span><a href=\"#Проверка-результатов-на-тестовой-выборке\" data-toc-modified-id=\"Проверка-результатов-на-тестовой-выборке-3.4\"><span class=\"toc-item-num\">3.4&nbsp;&nbsp;</span>Проверка результатов на тестовой выборке</a></span></li></ul></li></ul></div>"
   ]
  },
  {
   "cell_type": "markdown",
   "metadata": {},
   "source": [
    "# Восстановление золота из руды"
   ]
  },
  {
   "cell_type": "markdown",
   "metadata": {},
   "source": [
    "Наша задача - подготовить модель для золотодобывающей компании-производителя.\n",
    "\n",
    "Модель должна предсказать коэффициент восстановления золота из золотосодержащей руды. Будем использовать данные с параметрами добычи и очистки. \n",
    "\n",
    "Модель поможет оптимизировать производство, чтобы не запускать предприятие с убыточными характеристиками.\n",
    "\n",
    "Для того, чтобы достигнуть нашей цели, мы предпримем следующие шаги:\n",
    "1. Изучим данные выборок и проверим правильность расчета эффективности обогащения при помощи метрики МАЕ.\n",
    "2. Предобработаем и очистим данные.\n",
    "3. Оценим динамику изменения концентрации металлов на различных этапах очистки.\n",
    "4. Сравним распределение размеров гранул сырья на обучающей и тестовой выборках.\n",
    "5. Исследуем суммарную концентрацию всех веществ на разных стадиях: в сырье, в черновом и финальном концентратах.\n",
    "6. Построим и обучим различные модели и оценим качество при помощи метрики sMAPE."
   ]
  },
  {
   "cell_type": "code",
   "execution_count": 1,
   "metadata": {},
   "outputs": [],
   "source": [
    "import matplotlib\n",
    "import pandas as pd\n",
    "import numpy as np\n",
    "import seaborn as sns\n",
    "import matplotlib.pyplot as plt\n",
    "\n",
    "from sklearn.metrics import make_scorer\n",
    "from sklearn.dummy import DummyRegressor\n",
    "from sklearn.tree import DecisionTreeRegressor\n",
    "from sklearn.metrics import mean_absolute_error\n",
    "from sklearn.model_selection import GridSearchCV\n",
    "from sklearn.linear_model import LinearRegression\n",
    "from sklearn.ensemble import RandomForestRegressor\n",
    "from sklearn.model_selection import cross_val_score"
   ]
  },
  {
   "cell_type": "markdown",
   "metadata": {},
   "source": [
    "## Подготовка данных"
   ]
  },
  {
   "cell_type": "code",
   "execution_count": 2,
   "metadata": {
    "scrolled": true
   },
   "outputs": [
    {
     "name": "stdout",
     "output_type": "stream",
     "text": [
      "<class 'pandas.core.frame.DataFrame'>\n",
      "RangeIndex: 14149 entries, 0 to 14148\n",
      "Data columns (total 87 columns):\n",
      " #   Column                                              Non-Null Count  Dtype  \n",
      "---  ------                                              --------------  -----  \n",
      " 0   date                                                14149 non-null  object \n",
      " 1   final.output.concentrate_ag                         14148 non-null  float64\n",
      " 2   final.output.concentrate_pb                         14148 non-null  float64\n",
      " 3   final.output.concentrate_sol                        13938 non-null  float64\n",
      " 4   final.output.concentrate_au                         14149 non-null  float64\n",
      " 5   final.output.recovery                               14149 non-null  float64\n",
      " 6   final.output.tail_ag                                14149 non-null  float64\n",
      " 7   final.output.tail_pb                                14049 non-null  float64\n",
      " 8   final.output.tail_sol                               14144 non-null  float64\n",
      " 9   final.output.tail_au                                14149 non-null  float64\n",
      " 10  primary_cleaner.input.sulfate                       14129 non-null  float64\n",
      " 11  primary_cleaner.input.depressant                    14117 non-null  float64\n",
      " 12  primary_cleaner.input.feed_size                     14149 non-null  float64\n",
      " 13  primary_cleaner.input.xanthate                      14049 non-null  float64\n",
      " 14  primary_cleaner.output.concentrate_ag               14149 non-null  float64\n",
      " 15  primary_cleaner.output.concentrate_pb               14063 non-null  float64\n",
      " 16  primary_cleaner.output.concentrate_sol              13863 non-null  float64\n",
      " 17  primary_cleaner.output.concentrate_au               14149 non-null  float64\n",
      " 18  primary_cleaner.output.tail_ag                      14148 non-null  float64\n",
      " 19  primary_cleaner.output.tail_pb                      14134 non-null  float64\n",
      " 20  primary_cleaner.output.tail_sol                     14103 non-null  float64\n",
      " 21  primary_cleaner.output.tail_au                      14149 non-null  float64\n",
      " 22  primary_cleaner.state.floatbank8_a_air              14145 non-null  float64\n",
      " 23  primary_cleaner.state.floatbank8_a_level            14148 non-null  float64\n",
      " 24  primary_cleaner.state.floatbank8_b_air              14145 non-null  float64\n",
      " 25  primary_cleaner.state.floatbank8_b_level            14148 non-null  float64\n",
      " 26  primary_cleaner.state.floatbank8_c_air              14147 non-null  float64\n",
      " 27  primary_cleaner.state.floatbank8_c_level            14148 non-null  float64\n",
      " 28  primary_cleaner.state.floatbank8_d_air              14146 non-null  float64\n",
      " 29  primary_cleaner.state.floatbank8_d_level            14148 non-null  float64\n",
      " 30  rougher.calculation.sulfate_to_au_concentrate       14148 non-null  float64\n",
      " 31  rougher.calculation.floatbank10_sulfate_to_au_feed  14148 non-null  float64\n",
      " 32  rougher.calculation.floatbank11_sulfate_to_au_feed  14148 non-null  float64\n",
      " 33  rougher.calculation.au_pb_ratio                     14149 non-null  float64\n",
      " 34  rougher.input.feed_ag                               14149 non-null  float64\n",
      " 35  rougher.input.feed_pb                               14049 non-null  float64\n",
      " 36  rougher.input.feed_rate                             14141 non-null  float64\n",
      " 37  rougher.input.feed_size                             14005 non-null  float64\n",
      " 38  rougher.input.feed_sol                              14071 non-null  float64\n",
      " 39  rougher.input.feed_au                               14149 non-null  float64\n",
      " 40  rougher.input.floatbank10_sulfate                   14120 non-null  float64\n",
      " 41  rougher.input.floatbank10_xanthate                  14141 non-null  float64\n",
      " 42  rougher.input.floatbank11_sulfate                   14113 non-null  float64\n",
      " 43  rougher.input.floatbank11_xanthate                  13721 non-null  float64\n",
      " 44  rougher.output.concentrate_ag                       14149 non-null  float64\n",
      " 45  rougher.output.concentrate_pb                       14149 non-null  float64\n",
      " 46  rougher.output.concentrate_sol                      14127 non-null  float64\n",
      " 47  rougher.output.concentrate_au                       14149 non-null  float64\n",
      " 48  rougher.output.recovery                             14149 non-null  float64\n",
      " 49  rougher.output.tail_ag                              14148 non-null  float64\n",
      " 50  rougher.output.tail_pb                              14149 non-null  float64\n",
      " 51  rougher.output.tail_sol                             14149 non-null  float64\n",
      " 52  rougher.output.tail_au                              14149 non-null  float64\n",
      " 53  rougher.state.floatbank10_a_air                     14148 non-null  float64\n",
      " 54  rougher.state.floatbank10_a_level                   14148 non-null  float64\n",
      " 55  rougher.state.floatbank10_b_air                     14148 non-null  float64\n",
      " 56  rougher.state.floatbank10_b_level                   14148 non-null  float64\n",
      " 57  rougher.state.floatbank10_c_air                     14148 non-null  float64\n",
      " 58  rougher.state.floatbank10_c_level                   14148 non-null  float64\n",
      " 59  rougher.state.floatbank10_d_air                     14149 non-null  float64\n",
      " 60  rougher.state.floatbank10_d_level                   14149 non-null  float64\n",
      " 61  rougher.state.floatbank10_e_air                     13713 non-null  float64\n",
      " 62  rougher.state.floatbank10_e_level                   14149 non-null  float64\n",
      " 63  rougher.state.floatbank10_f_air                     14149 non-null  float64\n",
      " 64  rougher.state.floatbank10_f_level                   14149 non-null  float64\n",
      " 65  secondary_cleaner.output.tail_ag                    14147 non-null  float64\n",
      " 66  secondary_cleaner.output.tail_pb                    14139 non-null  float64\n",
      " 67  secondary_cleaner.output.tail_sol                   12544 non-null  float64\n",
      " 68  secondary_cleaner.output.tail_au                    14149 non-null  float64\n",
      " 69  secondary_cleaner.state.floatbank2_a_air            13932 non-null  float64\n",
      " 70  secondary_cleaner.state.floatbank2_a_level          14148 non-null  float64\n",
      " 71  secondary_cleaner.state.floatbank2_b_air            14128 non-null  float64\n",
      " 72  secondary_cleaner.state.floatbank2_b_level          14148 non-null  float64\n",
      " 73  secondary_cleaner.state.floatbank3_a_air            14145 non-null  float64\n",
      " 74  secondary_cleaner.state.floatbank3_a_level          14148 non-null  float64\n",
      " 75  secondary_cleaner.state.floatbank3_b_air            14148 non-null  float64\n",
      " 76  secondary_cleaner.state.floatbank3_b_level          14148 non-null  float64\n",
      " 77  secondary_cleaner.state.floatbank4_a_air            14143 non-null  float64\n",
      " 78  secondary_cleaner.state.floatbank4_a_level          14148 non-null  float64\n",
      " 79  secondary_cleaner.state.floatbank4_b_air            14148 non-null  float64\n",
      " 80  secondary_cleaner.state.floatbank4_b_level          14148 non-null  float64\n",
      " 81  secondary_cleaner.state.floatbank5_a_air            14148 non-null  float64\n",
      " 82  secondary_cleaner.state.floatbank5_a_level          14148 non-null  float64\n",
      " 83  secondary_cleaner.state.floatbank5_b_air            14148 non-null  float64\n",
      " 84  secondary_cleaner.state.floatbank5_b_level          14148 non-null  float64\n",
      " 85  secondary_cleaner.state.floatbank6_a_air            14147 non-null  float64\n",
      " 86  secondary_cleaner.state.floatbank6_a_level          14148 non-null  float64\n",
      "dtypes: float64(86), object(1)\n",
      "memory usage: 9.4+ MB\n",
      "None\n"
     ]
    }
   ],
   "source": [
    "train = pd.read_csv('/datasets/gold_recovery_train_new.csv')\n",
    "test = pd.read_csv('/datasets/gold_recovery_test_new.csv')\n",
    "full = pd.read_csv('/datasets/gold_recovery_full_new.csv')\n",
    "print(train.info())"
   ]
  },
  {
   "cell_type": "markdown",
   "metadata": {},
   "source": [
    "Необходимо проверить, что эффективность обогащения посчитана корректно.\n",
    "Симулируем расчет эффективности обогащения на примере данных для флотации (rougher). <br>\n",
    "Эффективность обогащение рассчитывается по формуле: <br>\n",
    "Recovery = (C x (F - T) / (F x (C- T)), <br>\n",
    "где <br>\n",
    "C (\"concentrate\") - доля золота в концентрате (rougher.output.concentrate_au) <br>\n",
    "F (\"feed\") - доля золота в сырье (rougher.input.feed_au) <br>\n",
    "T (\"tail\") - доля золота в отвальных хвостах (rougher.output.tail_au)"
   ]
  },
  {
   "cell_type": "code",
   "execution_count": 3,
   "metadata": {
    "scrolled": true
   },
   "outputs": [
    {
     "name": "stdout",
     "output_type": "stream",
     "text": [
      "MAE расчетной эффективности обогащения по сравнению с фактической равна 9.73512347450521e-15\n"
     ]
    }
   ],
   "source": [
    "train['rougher.recovery_calc'] = (train['rougher.output.concentrate_au']*\n",
    "                                 (train['rougher.input.feed_au']-\n",
    "                                 train['rougher.output.tail_au'])\n",
    "                                 )/(train['rougher.input.feed_au']*\n",
    "                                   (train['rougher.output.concentrate_au']-\n",
    "                                   train['rougher.output.tail_au']))*100\n",
    "  \n",
    "\n",
    "print('MAE расчетной эффективности обогащения по сравнению с фактической равна', mean_absolute_error(train['rougher.recovery_calc'], train['rougher.output.recovery']))"
   ]
  },
  {
   "cell_type": "markdown",
   "metadata": {},
   "source": [
    "Мы видим, что МАЕ расчетных данных по сравнению с фактическими практически равно нулю. Это означает, что фактические данные посчитаны корректно и нет необходимости пересчитывать их."
   ]
  },
  {
   "cell_type": "markdown",
   "metadata": {},
   "source": [
    "**Предобработка данных.**"
   ]
  },
  {
   "cell_type": "markdown",
   "metadata": {},
   "source": [
    "В тестовой выборке (датасет test) количество столбцов не совпадает с количеством столбцов в датасете с полными данными (full). Необходимо понять, какие столбцы отсутствуют."
   ]
  },
  {
   "cell_type": "code",
   "execution_count": 4,
   "metadata": {
    "scrolled": true
   },
   "outputs": [
    {
     "data": {
      "text/html": [
       "<div>\n",
       "<style scoped>\n",
       "    .dataframe tbody tr th:only-of-type {\n",
       "        vertical-align: middle;\n",
       "    }\n",
       "\n",
       "    .dataframe tbody tr th {\n",
       "        vertical-align: top;\n",
       "    }\n",
       "\n",
       "    .dataframe thead th {\n",
       "        text-align: right;\n",
       "    }\n",
       "</style>\n",
       "<table border=\"1\" class=\"dataframe\">\n",
       "  <thead>\n",
       "    <tr style=\"text-align: right;\">\n",
       "      <th></th>\n",
       "      <th>features_list</th>\n",
       "    </tr>\n",
       "  </thead>\n",
       "  <tbody>\n",
       "    <tr>\n",
       "      <th>1</th>\n",
       "      <td>final.output.concentrate_ag</td>\n",
       "    </tr>\n",
       "    <tr>\n",
       "      <th>2</th>\n",
       "      <td>final.output.concentrate_pb</td>\n",
       "    </tr>\n",
       "    <tr>\n",
       "      <th>3</th>\n",
       "      <td>final.output.concentrate_sol</td>\n",
       "    </tr>\n",
       "    <tr>\n",
       "      <th>4</th>\n",
       "      <td>final.output.concentrate_au</td>\n",
       "    </tr>\n",
       "    <tr>\n",
       "      <th>5</th>\n",
       "      <td>final.output.recovery</td>\n",
       "    </tr>\n",
       "    <tr>\n",
       "      <th>6</th>\n",
       "      <td>final.output.tail_ag</td>\n",
       "    </tr>\n",
       "    <tr>\n",
       "      <th>7</th>\n",
       "      <td>final.output.tail_pb</td>\n",
       "    </tr>\n",
       "    <tr>\n",
       "      <th>8</th>\n",
       "      <td>final.output.tail_sol</td>\n",
       "    </tr>\n",
       "    <tr>\n",
       "      <th>9</th>\n",
       "      <td>final.output.tail_au</td>\n",
       "    </tr>\n",
       "    <tr>\n",
       "      <th>14</th>\n",
       "      <td>primary_cleaner.output.concentrate_ag</td>\n",
       "    </tr>\n",
       "    <tr>\n",
       "      <th>15</th>\n",
       "      <td>primary_cleaner.output.concentrate_pb</td>\n",
       "    </tr>\n",
       "    <tr>\n",
       "      <th>16</th>\n",
       "      <td>primary_cleaner.output.concentrate_sol</td>\n",
       "    </tr>\n",
       "    <tr>\n",
       "      <th>17</th>\n",
       "      <td>primary_cleaner.output.concentrate_au</td>\n",
       "    </tr>\n",
       "    <tr>\n",
       "      <th>18</th>\n",
       "      <td>primary_cleaner.output.tail_ag</td>\n",
       "    </tr>\n",
       "    <tr>\n",
       "      <th>19</th>\n",
       "      <td>primary_cleaner.output.tail_pb</td>\n",
       "    </tr>\n",
       "    <tr>\n",
       "      <th>20</th>\n",
       "      <td>primary_cleaner.output.tail_sol</td>\n",
       "    </tr>\n",
       "    <tr>\n",
       "      <th>21</th>\n",
       "      <td>primary_cleaner.output.tail_au</td>\n",
       "    </tr>\n",
       "    <tr>\n",
       "      <th>30</th>\n",
       "      <td>rougher.calculation.sulfate_to_au_concentrate</td>\n",
       "    </tr>\n",
       "    <tr>\n",
       "      <th>31</th>\n",
       "      <td>rougher.calculation.floatbank10_sulfate_to_au_...</td>\n",
       "    </tr>\n",
       "    <tr>\n",
       "      <th>32</th>\n",
       "      <td>rougher.calculation.floatbank11_sulfate_to_au_...</td>\n",
       "    </tr>\n",
       "    <tr>\n",
       "      <th>33</th>\n",
       "      <td>rougher.calculation.au_pb_ratio</td>\n",
       "    </tr>\n",
       "    <tr>\n",
       "      <th>44</th>\n",
       "      <td>rougher.output.concentrate_ag</td>\n",
       "    </tr>\n",
       "    <tr>\n",
       "      <th>45</th>\n",
       "      <td>rougher.output.concentrate_pb</td>\n",
       "    </tr>\n",
       "    <tr>\n",
       "      <th>46</th>\n",
       "      <td>rougher.output.concentrate_sol</td>\n",
       "    </tr>\n",
       "    <tr>\n",
       "      <th>47</th>\n",
       "      <td>rougher.output.concentrate_au</td>\n",
       "    </tr>\n",
       "    <tr>\n",
       "      <th>48</th>\n",
       "      <td>rougher.output.recovery</td>\n",
       "    </tr>\n",
       "    <tr>\n",
       "      <th>49</th>\n",
       "      <td>rougher.output.tail_ag</td>\n",
       "    </tr>\n",
       "    <tr>\n",
       "      <th>50</th>\n",
       "      <td>rougher.output.tail_pb</td>\n",
       "    </tr>\n",
       "    <tr>\n",
       "      <th>51</th>\n",
       "      <td>rougher.output.tail_sol</td>\n",
       "    </tr>\n",
       "    <tr>\n",
       "      <th>52</th>\n",
       "      <td>rougher.output.tail_au</td>\n",
       "    </tr>\n",
       "    <tr>\n",
       "      <th>65</th>\n",
       "      <td>secondary_cleaner.output.tail_ag</td>\n",
       "    </tr>\n",
       "    <tr>\n",
       "      <th>66</th>\n",
       "      <td>secondary_cleaner.output.tail_pb</td>\n",
       "    </tr>\n",
       "    <tr>\n",
       "      <th>67</th>\n",
       "      <td>secondary_cleaner.output.tail_sol</td>\n",
       "    </tr>\n",
       "    <tr>\n",
       "      <th>68</th>\n",
       "      <td>secondary_cleaner.output.tail_au</td>\n",
       "    </tr>\n",
       "  </tbody>\n",
       "</table>\n",
       "</div>"
      ],
      "text/plain": [
       "                                        features_list\n",
       "1                         final.output.concentrate_ag\n",
       "2                         final.output.concentrate_pb\n",
       "3                        final.output.concentrate_sol\n",
       "4                         final.output.concentrate_au\n",
       "5                               final.output.recovery\n",
       "6                                final.output.tail_ag\n",
       "7                                final.output.tail_pb\n",
       "8                               final.output.tail_sol\n",
       "9                                final.output.tail_au\n",
       "14              primary_cleaner.output.concentrate_ag\n",
       "15              primary_cleaner.output.concentrate_pb\n",
       "16             primary_cleaner.output.concentrate_sol\n",
       "17              primary_cleaner.output.concentrate_au\n",
       "18                     primary_cleaner.output.tail_ag\n",
       "19                     primary_cleaner.output.tail_pb\n",
       "20                    primary_cleaner.output.tail_sol\n",
       "21                     primary_cleaner.output.tail_au\n",
       "30      rougher.calculation.sulfate_to_au_concentrate\n",
       "31  rougher.calculation.floatbank10_sulfate_to_au_...\n",
       "32  rougher.calculation.floatbank11_sulfate_to_au_...\n",
       "33                    rougher.calculation.au_pb_ratio\n",
       "44                      rougher.output.concentrate_ag\n",
       "45                      rougher.output.concentrate_pb\n",
       "46                     rougher.output.concentrate_sol\n",
       "47                      rougher.output.concentrate_au\n",
       "48                            rougher.output.recovery\n",
       "49                             rougher.output.tail_ag\n",
       "50                             rougher.output.tail_pb\n",
       "51                            rougher.output.tail_sol\n",
       "52                             rougher.output.tail_au\n",
       "65                   secondary_cleaner.output.tail_ag\n",
       "66                   secondary_cleaner.output.tail_pb\n",
       "67                  secondary_cleaner.output.tail_sol\n",
       "68                   secondary_cleaner.output.tail_au"
      ]
     },
     "metadata": {},
     "output_type": "display_data"
    }
   ],
   "source": [
    "features_list = pd.DataFrame(full.columns, columns = ['features_list'])\n",
    "display(features_list.query('features_list not in @test.columns'))"
   ]
  },
  {
   "cell_type": "markdown",
   "metadata": {},
   "source": [
    "Исходя из списка столбцов, отсутствующих в тестовой выборке, мы можем сделать вывод, что отсутствуют все столбцы, связанные с харакетеристиками *продукта* (output), причем на всех стадиях производства."
   ]
  },
  {
   "cell_type": "code",
   "execution_count": 5,
   "metadata": {},
   "outputs": [
    {
     "data": {
      "text/plain": [
       "0"
      ]
     },
     "execution_count": 5,
     "metadata": {},
     "output_type": "execute_result"
    }
   ],
   "source": [
    "# проверим на явные дубликаты\n",
    "train.duplicated().sum()\n",
    "test.duplicated().sum()"
   ]
  },
  {
   "cell_type": "markdown",
   "metadata": {},
   "source": [
    "Для улучшения работы модели нам нужно избавиться от NaN. Часть из них мы можем отбросить, а часть необходимо заменить на подходящую величину."
   ]
  },
  {
   "cell_type": "code",
   "execution_count": 6,
   "metadata": {},
   "outputs": [
    {
     "data": {
      "text/html": [
       "<div>\n",
       "<style scoped>\n",
       "    .dataframe tbody tr th:only-of-type {\n",
       "        vertical-align: middle;\n",
       "    }\n",
       "\n",
       "    .dataframe tbody tr th {\n",
       "        vertical-align: top;\n",
       "    }\n",
       "\n",
       "    .dataframe thead th {\n",
       "        text-align: right;\n",
       "    }\n",
       "</style>\n",
       "<table border=\"1\" class=\"dataframe\">\n",
       "  <thead>\n",
       "    <tr style=\"text-align: right;\">\n",
       "      <th></th>\n",
       "      <th>num</th>\n",
       "      <th>percent</th>\n",
       "    </tr>\n",
       "  </thead>\n",
       "  <tbody>\n",
       "    <tr>\n",
       "      <th>secondary_cleaner.output.tail_sol</th>\n",
       "      <td>1605</td>\n",
       "      <td>11.343558</td>\n",
       "    </tr>\n",
       "    <tr>\n",
       "      <th>rougher.state.floatbank10_e_air</th>\n",
       "      <td>436</td>\n",
       "      <td>3.081490</td>\n",
       "    </tr>\n",
       "    <tr>\n",
       "      <th>rougher.input.floatbank11_xanthate</th>\n",
       "      <td>428</td>\n",
       "      <td>3.024949</td>\n",
       "    </tr>\n",
       "    <tr>\n",
       "      <th>primary_cleaner.output.concentrate_sol</th>\n",
       "      <td>286</td>\n",
       "      <td>2.021344</td>\n",
       "    </tr>\n",
       "    <tr>\n",
       "      <th>secondary_cleaner.state.floatbank2_a_air</th>\n",
       "      <td>217</td>\n",
       "      <td>1.533677</td>\n",
       "    </tr>\n",
       "    <tr>\n",
       "      <th>...</th>\n",
       "      <td>...</td>\n",
       "      <td>...</td>\n",
       "    </tr>\n",
       "    <tr>\n",
       "      <th>rougher.state.floatbank10_a_air</th>\n",
       "      <td>1</td>\n",
       "      <td>0.007068</td>\n",
       "    </tr>\n",
       "    <tr>\n",
       "      <th>rougher.state.floatbank10_a_level</th>\n",
       "      <td>1</td>\n",
       "      <td>0.007068</td>\n",
       "    </tr>\n",
       "    <tr>\n",
       "      <th>rougher.state.floatbank10_b_air</th>\n",
       "      <td>1</td>\n",
       "      <td>0.007068</td>\n",
       "    </tr>\n",
       "    <tr>\n",
       "      <th>rougher.state.floatbank10_b_level</th>\n",
       "      <td>1</td>\n",
       "      <td>0.007068</td>\n",
       "    </tr>\n",
       "    <tr>\n",
       "      <th>secondary_cleaner.state.floatbank6_a_level</th>\n",
       "      <td>1</td>\n",
       "      <td>0.007068</td>\n",
       "    </tr>\n",
       "  </tbody>\n",
       "</table>\n",
       "<p>62 rows × 2 columns</p>\n",
       "</div>"
      ],
      "text/plain": [
       "                                             num    percent\n",
       "secondary_cleaner.output.tail_sol           1605  11.343558\n",
       "rougher.state.floatbank10_e_air              436   3.081490\n",
       "rougher.input.floatbank11_xanthate           428   3.024949\n",
       "primary_cleaner.output.concentrate_sol       286   2.021344\n",
       "secondary_cleaner.state.floatbank2_a_air     217   1.533677\n",
       "...                                          ...        ...\n",
       "rougher.state.floatbank10_a_air                1   0.007068\n",
       "rougher.state.floatbank10_a_level              1   0.007068\n",
       "rougher.state.floatbank10_b_air                1   0.007068\n",
       "rougher.state.floatbank10_b_level              1   0.007068\n",
       "secondary_cleaner.state.floatbank6_a_level     1   0.007068\n",
       "\n",
       "[62 rows x 2 columns]"
      ]
     },
     "execution_count": 6,
     "metadata": {},
     "output_type": "execute_result"
    }
   ],
   "source": [
    "# посчитаем процентное соотношение строк с Nan к общему кол-ву строк в датасете \n",
    "cols = len(train)- train.count()\n",
    "cols = pd.DataFrame(cols, index = train.columns, columns = ['num'])\n",
    "cols = cols[cols['num']>0]\n",
    "cols['percent'] = cols['num']/len(train)*100\n",
    "cols.sort_values(by = 'percent', ascending = False)"
   ]
  },
  {
   "cell_type": "code",
   "execution_count": 7,
   "metadata": {},
   "outputs": [
    {
     "data": {
      "image/png": "[encoded data removed]",
      "text/plain": [
       "<Figure size 432x288 with 1 Axes>"
      ]
     },
     "metadata": {
      "needs_background": "light"
     },
     "output_type": "display_data"
    }
   ],
   "source": [
    "cols['percent'].hist(bins = 5);"
   ]
  },
  {
   "cell_type": "markdown",
   "metadata": {},
   "source": [
    "По таблице и графику мы видим, что в большинстве столбцов количество Null'овых значений не превышает 2% от общего количества строк. В них можно отбросить null'овые строки без потери репрезентативности."
   ]
  },
  {
   "cell_type": "code",
   "execution_count": 8,
   "metadata": {},
   "outputs": [
    {
     "data": {
      "text/html": [
       "<div>\n",
       "<style scoped>\n",
       "    .dataframe tbody tr th:only-of-type {\n",
       "        vertical-align: middle;\n",
       "    }\n",
       "\n",
       "    .dataframe tbody tr th {\n",
       "        vertical-align: top;\n",
       "    }\n",
       "\n",
       "    .dataframe thead th {\n",
       "        text-align: right;\n",
       "    }\n",
       "</style>\n",
       "<table border=\"1\" class=\"dataframe\">\n",
       "  <thead>\n",
       "    <tr style=\"text-align: right;\">\n",
       "      <th></th>\n",
       "      <th>primary_cleaner.output.concentrate_sol</th>\n",
       "      <th>rougher.input.floatbank11_xanthate</th>\n",
       "      <th>rougher.state.floatbank10_e_air</th>\n",
       "      <th>secondary_cleaner.output.tail_sol</th>\n",
       "    </tr>\n",
       "  </thead>\n",
       "  <tbody>\n",
       "    <tr>\n",
       "      <th>count</th>\n",
       "      <td>13005.000000</td>\n",
       "      <td>12775.000000</td>\n",
       "      <td>12699.000000</td>\n",
       "      <td>11801.000000</td>\n",
       "    </tr>\n",
       "    <tr>\n",
       "      <th>mean</th>\n",
       "      <td>10.177066</td>\n",
       "      <td>5.940906</td>\n",
       "      <td>1082.990345</td>\n",
       "      <td>6.968320</td>\n",
       "    </tr>\n",
       "    <tr>\n",
       "      <th>std</th>\n",
       "      <td>4.030091</td>\n",
       "      <td>1.070071</td>\n",
       "      <td>181.939965</td>\n",
       "      <td>4.147326</td>\n",
       "    </tr>\n",
       "    <tr>\n",
       "      <th>min</th>\n",
       "      <td>0.000000</td>\n",
       "      <td>0.000290</td>\n",
       "      <td>94.372023</td>\n",
       "      <td>0.000000</td>\n",
       "    </tr>\n",
       "    <tr>\n",
       "      <th>25%</th>\n",
       "      <td>7.538393</td>\n",
       "      <td>5.200964</td>\n",
       "      <td>952.856349</td>\n",
       "      <td>3.241453</td>\n",
       "    </tr>\n",
       "    <tr>\n",
       "      <th>50%</th>\n",
       "      <td>9.745265</td>\n",
       "      <td>5.999419</td>\n",
       "      <td>1050.066174</td>\n",
       "      <td>7.351074</td>\n",
       "    </tr>\n",
       "    <tr>\n",
       "      <th>75%</th>\n",
       "      <td>13.107841</td>\n",
       "      <td>6.701684</td>\n",
       "      <td>1199.760718</td>\n",
       "      <td>10.563236</td>\n",
       "    </tr>\n",
       "    <tr>\n",
       "      <th>max</th>\n",
       "      <td>21.810330</td>\n",
       "      <td>9.698407</td>\n",
       "      <td>1922.636637</td>\n",
       "      <td>17.976171</td>\n",
       "    </tr>\n",
       "  </tbody>\n",
       "</table>\n",
       "</div>"
      ],
      "text/plain": [
       "       primary_cleaner.output.concentrate_sol  \\\n",
       "count                            13005.000000   \n",
       "mean                                10.177066   \n",
       "std                                  4.030091   \n",
       "min                                  0.000000   \n",
       "25%                                  7.538393   \n",
       "50%                                  9.745265   \n",
       "75%                                 13.107841   \n",
       "max                                 21.810330   \n",
       "\n",
       "       rougher.input.floatbank11_xanthate  rougher.state.floatbank10_e_air  \\\n",
       "count                        12775.000000                     12699.000000   \n",
       "mean                             5.940906                      1082.990345   \n",
       "std                              1.070071                       181.939965   \n",
       "min                              0.000290                        94.372023   \n",
       "25%                              5.200964                       952.856349   \n",
       "50%                              5.999419                      1050.066174   \n",
       "75%                              6.701684                      1199.760718   \n",
       "max                              9.698407                      1922.636637   \n",
       "\n",
       "       secondary_cleaner.output.tail_sol  \n",
       "count                       11801.000000  \n",
       "mean                            6.968320  \n",
       "std                             4.147326  \n",
       "min                             0.000000  \n",
       "25%                             3.241453  \n",
       "50%                             7.351074  \n",
       "75%                            10.563236  \n",
       "max                            17.976171  "
      ]
     },
     "execution_count": 8,
     "metadata": {},
     "output_type": "execute_result"
    }
   ],
   "source": [
    "train = train.dropna(subset = cols[cols['percent']<2].index)\n",
    "#попробуем заполнить оставшиеся столбцы, не повлияв на характеристики распределения\n",
    "train[cols[cols['percent']>2].index].describe()"
   ]
  },
  {
   "cell_type": "markdown",
   "metadata": {},
   "source": [
    "Оставшиеся столбцы (их всего 4) можно заполнить значениямиб равными предыдущей строке (т.к. соседние по времени объекты похожи или даже одинаковы). Это не повлияет на репрезентативность - основные статистические показатели (мин, макс, средняя, медиана) остались без изменений."
   ]
  },
  {
   "cell_type": "code",
   "execution_count": 9,
   "metadata": {
    "scrolled": true
   },
   "outputs": [
    {
     "data": {
      "text/html": [
       "<div>\n",
       "<style scoped>\n",
       "    .dataframe tbody tr th:only-of-type {\n",
       "        vertical-align: middle;\n",
       "    }\n",
       "\n",
       "    .dataframe tbody tr th {\n",
       "        vertical-align: top;\n",
       "    }\n",
       "\n",
       "    .dataframe thead th {\n",
       "        text-align: right;\n",
       "    }\n",
       "</style>\n",
       "<table border=\"1\" class=\"dataframe\">\n",
       "  <thead>\n",
       "    <tr style=\"text-align: right;\">\n",
       "      <th></th>\n",
       "      <th>primary_cleaner.output.concentrate_sol</th>\n",
       "      <th>rougher.input.floatbank11_xanthate</th>\n",
       "      <th>rougher.state.floatbank10_e_air</th>\n",
       "      <th>secondary_cleaner.output.tail_sol</th>\n",
       "    </tr>\n",
       "  </thead>\n",
       "  <tbody>\n",
       "    <tr>\n",
       "      <th>count</th>\n",
       "      <td>13126.000000</td>\n",
       "      <td>13126.000000</td>\n",
       "      <td>13126.000000</td>\n",
       "      <td>13126.000000</td>\n",
       "    </tr>\n",
       "    <tr>\n",
       "      <th>mean</th>\n",
       "      <td>10.118700</td>\n",
       "      <td>5.861146</td>\n",
       "      <td>1076.991181</td>\n",
       "      <td>6.357742</td>\n",
       "    </tr>\n",
       "    <tr>\n",
       "      <th>std</th>\n",
       "      <td>4.065963</td>\n",
       "      <td>1.173221</td>\n",
       "      <td>183.605512</td>\n",
       "      <td>4.346203</td>\n",
       "    </tr>\n",
       "    <tr>\n",
       "      <th>min</th>\n",
       "      <td>0.000000</td>\n",
       "      <td>0.000290</td>\n",
       "      <td>94.372023</td>\n",
       "      <td>0.000000</td>\n",
       "    </tr>\n",
       "    <tr>\n",
       "      <th>25%</th>\n",
       "      <td>7.466863</td>\n",
       "      <td>5.172327</td>\n",
       "      <td>950.473121</td>\n",
       "      <td>2.308036</td>\n",
       "    </tr>\n",
       "    <tr>\n",
       "      <th>50%</th>\n",
       "      <td>9.709285</td>\n",
       "      <td>5.998155</td>\n",
       "      <td>1049.754472</td>\n",
       "      <td>6.306603</td>\n",
       "    </tr>\n",
       "    <tr>\n",
       "      <th>75%</th>\n",
       "      <td>13.080037</td>\n",
       "      <td>6.698629</td>\n",
       "      <td>1199.577662</td>\n",
       "      <td>10.347042</td>\n",
       "    </tr>\n",
       "    <tr>\n",
       "      <th>max</th>\n",
       "      <td>21.810330</td>\n",
       "      <td>9.698407</td>\n",
       "      <td>1922.636637</td>\n",
       "      <td>17.976171</td>\n",
       "    </tr>\n",
       "  </tbody>\n",
       "</table>\n",
       "</div>"
      ],
      "text/plain": [
       "       primary_cleaner.output.concentrate_sol  \\\n",
       "count                            13126.000000   \n",
       "mean                                10.118700   \n",
       "std                                  4.065963   \n",
       "min                                  0.000000   \n",
       "25%                                  7.466863   \n",
       "50%                                  9.709285   \n",
       "75%                                 13.080037   \n",
       "max                                 21.810330   \n",
       "\n",
       "       rougher.input.floatbank11_xanthate  rougher.state.floatbank10_e_air  \\\n",
       "count                        13126.000000                     13126.000000   \n",
       "mean                             5.861146                      1076.991181   \n",
       "std                              1.173221                       183.605512   \n",
       "min                              0.000290                        94.372023   \n",
       "25%                              5.172327                       950.473121   \n",
       "50%                              5.998155                      1049.754472   \n",
       "75%                              6.698629                      1199.577662   \n",
       "max                              9.698407                      1922.636637   \n",
       "\n",
       "       secondary_cleaner.output.tail_sol  \n",
       "count                       13126.000000  \n",
       "mean                            6.357742  \n",
       "std                             4.346203  \n",
       "min                             0.000000  \n",
       "25%                             2.308036  \n",
       "50%                             6.306603  \n",
       "75%                            10.347042  \n",
       "max                            17.976171  "
      ]
     },
     "execution_count": 9,
     "metadata": {},
     "output_type": "execute_result"
    }
   ],
   "source": [
    "train[cols[cols['percent']>2].index] = train[cols[cols['percent']>2].index].ffill()\n",
    "train[cols[cols['percent']>2].index].describe()"
   ]
  },
  {
   "cell_type": "markdown",
   "metadata": {},
   "source": [
    "Судя по таблице, основные характеристики (медиана, среднее и 75% квартиль) практически не изменились, значить такая замена вполне корректна."
   ]
  },
  {
   "cell_type": "code",
   "execution_count": 10,
   "metadata": {
    "scrolled": true
   },
   "outputs": [
    {
     "name": "stdout",
     "output_type": "stream",
     "text": [
      "<class 'pandas.core.frame.DataFrame'>\n",
      "Int64Index: 18333 entries, 0 to 19438\n",
      "Data columns (total 87 columns):\n",
      " #   Column                                              Non-Null Count  Dtype  \n",
      "---  ------                                              --------------  -----  \n",
      " 0   date                                                18333 non-null  object \n",
      " 1   final.output.concentrate_ag                         18333 non-null  float64\n",
      " 2   final.output.concentrate_pb                         18333 non-null  float64\n",
      " 3   final.output.concentrate_sol                        18333 non-null  float64\n",
      " 4   final.output.concentrate_au                         18333 non-null  float64\n",
      " 5   final.output.recovery                               18333 non-null  float64\n",
      " 6   final.output.tail_ag                                18333 non-null  float64\n",
      " 7   final.output.tail_pb                                18333 non-null  float64\n",
      " 8   final.output.tail_sol                               18333 non-null  float64\n",
      " 9   final.output.tail_au                                18333 non-null  float64\n",
      " 10  primary_cleaner.input.sulfate                       18333 non-null  float64\n",
      " 11  primary_cleaner.input.depressant                    18333 non-null  float64\n",
      " 12  primary_cleaner.input.feed_size                     18333 non-null  float64\n",
      " 13  primary_cleaner.input.xanthate                      18333 non-null  float64\n",
      " 14  primary_cleaner.output.concentrate_ag               18333 non-null  float64\n",
      " 15  primary_cleaner.output.concentrate_pb               18333 non-null  float64\n",
      " 16  primary_cleaner.output.concentrate_sol              18333 non-null  float64\n",
      " 17  primary_cleaner.output.concentrate_au               18333 non-null  float64\n",
      " 18  primary_cleaner.output.tail_ag                      18333 non-null  float64\n",
      " 19  primary_cleaner.output.tail_pb                      18333 non-null  float64\n",
      " 20  primary_cleaner.output.tail_sol                     18333 non-null  float64\n",
      " 21  primary_cleaner.output.tail_au                      18333 non-null  float64\n",
      " 22  primary_cleaner.state.floatbank8_a_air              18333 non-null  float64\n",
      " 23  primary_cleaner.state.floatbank8_a_level            18333 non-null  float64\n",
      " 24  primary_cleaner.state.floatbank8_b_air              18333 non-null  float64\n",
      " 25  primary_cleaner.state.floatbank8_b_level            18333 non-null  float64\n",
      " 26  primary_cleaner.state.floatbank8_c_air              18333 non-null  float64\n",
      " 27  primary_cleaner.state.floatbank8_c_level            18333 non-null  float64\n",
      " 28  primary_cleaner.state.floatbank8_d_air              18333 non-null  float64\n",
      " 29  primary_cleaner.state.floatbank8_d_level            18333 non-null  float64\n",
      " 30  rougher.calculation.sulfate_to_au_concentrate       18333 non-null  float64\n",
      " 31  rougher.calculation.floatbank10_sulfate_to_au_feed  18333 non-null  float64\n",
      " 32  rougher.calculation.floatbank11_sulfate_to_au_feed  18333 non-null  float64\n",
      " 33  rougher.calculation.au_pb_ratio                     18333 non-null  float64\n",
      " 34  rougher.input.feed_ag                               18333 non-null  float64\n",
      " 35  rougher.input.feed_pb                               18333 non-null  float64\n",
      " 36  rougher.input.feed_rate                             18333 non-null  float64\n",
      " 37  rougher.input.feed_size                             18333 non-null  float64\n",
      " 38  rougher.input.feed_sol                              18333 non-null  float64\n",
      " 39  rougher.input.feed_au                               18333 non-null  float64\n",
      " 40  rougher.input.floatbank10_sulfate                   18333 non-null  float64\n",
      " 41  rougher.input.floatbank10_xanthate                  18333 non-null  float64\n",
      " 42  rougher.input.floatbank11_sulfate                   18333 non-null  float64\n",
      " 43  rougher.input.floatbank11_xanthate                  18333 non-null  float64\n",
      " 44  rougher.output.concentrate_ag                       18333 non-null  float64\n",
      " 45  rougher.output.concentrate_pb                       18333 non-null  float64\n",
      " 46  rougher.output.concentrate_sol                      18333 non-null  float64\n",
      " 47  rougher.output.concentrate_au                       18333 non-null  float64\n",
      " 48  rougher.output.recovery                             18333 non-null  float64\n",
      " 49  rougher.output.tail_ag                              18333 non-null  float64\n",
      " 50  rougher.output.tail_pb                              18333 non-null  float64\n",
      " 51  rougher.output.tail_sol                             18333 non-null  float64\n",
      " 52  rougher.output.tail_au                              18333 non-null  float64\n",
      " 53  rougher.state.floatbank10_a_air                     18333 non-null  float64\n",
      " 54  rougher.state.floatbank10_a_level                   18333 non-null  float64\n",
      " 55  rougher.state.floatbank10_b_air                     18333 non-null  float64\n",
      " 56  rougher.state.floatbank10_b_level                   18333 non-null  float64\n",
      " 57  rougher.state.floatbank10_c_air                     18333 non-null  float64\n",
      " 58  rougher.state.floatbank10_c_level                   18333 non-null  float64\n",
      " 59  rougher.state.floatbank10_d_air                     18333 non-null  float64\n",
      " 60  rougher.state.floatbank10_d_level                   18333 non-null  float64\n",
      " 61  rougher.state.floatbank10_e_air                     18333 non-null  float64\n",
      " 62  rougher.state.floatbank10_e_level                   18333 non-null  float64\n",
      " 63  rougher.state.floatbank10_f_air                     18333 non-null  float64\n",
      " 64  rougher.state.floatbank10_f_level                   18333 non-null  float64\n",
      " 65  secondary_cleaner.output.tail_ag                    18333 non-null  float64\n",
      " 66  secondary_cleaner.output.tail_pb                    18333 non-null  float64\n",
      " 67  secondary_cleaner.output.tail_sol                   18333 non-null  float64\n",
      " 68  secondary_cleaner.output.tail_au                    18333 non-null  float64\n",
      " 69  secondary_cleaner.state.floatbank2_a_air            18333 non-null  float64\n",
      " 70  secondary_cleaner.state.floatbank2_a_level          18333 non-null  float64\n",
      " 71  secondary_cleaner.state.floatbank2_b_air            18333 non-null  float64\n",
      " 72  secondary_cleaner.state.floatbank2_b_level          18333 non-null  float64\n",
      " 73  secondary_cleaner.state.floatbank3_a_air            18333 non-null  float64\n",
      " 74  secondary_cleaner.state.floatbank3_a_level          18333 non-null  float64\n",
      " 75  secondary_cleaner.state.floatbank3_b_air            18333 non-null  float64\n",
      " 76  secondary_cleaner.state.floatbank3_b_level          18333 non-null  float64\n",
      " 77  secondary_cleaner.state.floatbank4_a_air            18333 non-null  float64\n",
      " 78  secondary_cleaner.state.floatbank4_a_level          18333 non-null  float64\n",
      " 79  secondary_cleaner.state.floatbank4_b_air            18333 non-null  float64\n",
      " 80  secondary_cleaner.state.floatbank4_b_level          18333 non-null  float64\n",
      " 81  secondary_cleaner.state.floatbank5_a_air            18333 non-null  float64\n",
      " 82  secondary_cleaner.state.floatbank5_a_level          18333 non-null  float64\n",
      " 83  secondary_cleaner.state.floatbank5_b_air            18333 non-null  float64\n",
      " 84  secondary_cleaner.state.floatbank5_b_level          18333 non-null  float64\n",
      " 85  secondary_cleaner.state.floatbank6_a_air            18333 non-null  float64\n",
      " 86  secondary_cleaner.state.floatbank6_a_level          18333 non-null  float64\n",
      "dtypes: float64(86), object(1)\n",
      "memory usage: 12.3+ MB\n"
     ]
    }
   ],
   "source": [
    "#сделаем то же самое с таблицей full\n",
    "full = full.dropna(subset = cols[cols['percent']<2].index)\n",
    "full[cols[cols['percent']>2].index] = full[cols[cols['percent']>2].index].fillna(full[cols[cols['percent']>2].index].median())\n",
    "full.info()"
   ]
  },
  {
   "cell_type": "code",
   "execution_count": 11,
   "metadata": {},
   "outputs": [],
   "source": [
    "# дополним данные в тестовой выборке столбцами с целевым признаком из полного датасета\n",
    "test = pd.merge(test, full[['date', 'final.output.recovery', 'rougher.output.recovery']], how = 'left', on =['date'], copy = False)"
   ]
  },
  {
   "cell_type": "markdown",
   "metadata": {},
   "source": [
    "## Анализ данных"
   ]
  },
  {
   "cell_type": "markdown",
   "metadata": {},
   "source": [
    "Проанализируем, как меняется концентрация металлов (серебра, золота, свинца) на различных этапах очистки: rougher, primary_cleaner, secondary_cleaner. Это характеристика output (продукта)."
   ]
  },
  {
   "cell_type": "code",
   "execution_count": 13,
   "metadata": {},
   "outputs": [],
   "source": [
    "#выделим в отдельные таблицы столбцы с этими данными\n",
    "concentration_ag = full[['rougher.output.concentrate_ag',\n",
    "                     'primary_cleaner.output.concentrate_ag',\n",
    "                     'final.output.concentrate_ag']]\n",
    "concentration_au = full[['rougher.output.concentrate_au',\n",
    "                     'primary_cleaner.output.concentrate_au',\n",
    "                     'final.output.concentrate_au']]\n",
    "concentration_pb = full[['rougher.output.concentrate_pb',\n",
    "                     'primary_cleaner.output.concentrate_pb',\n",
    "                     'final.output.concentrate_pb']]"
   ]
  },
  {
   "cell_type": "code",
   "execution_count": 14,
   "metadata": {},
   "outputs": [
    {
     "data": {
      "image/png": "[encoded data removed]",
      "text/plain": [
       "<Figure size 432x288 with 1 Axes>"
      ]
     },
     "metadata": {
      "needs_background": "light"
     },
     "output_type": "display_data"
    }
   ],
   "source": [
    "concentration_ag.boxplot()\n",
    "plt.xticks(ticks =[1,2,3], labels = ['Rougher', 'Primary Clean', 'Secondary Clean'])\n",
    "plt.title('Концентрация серебра в продукте по стадиям');"
   ]
  },
  {
   "cell_type": "code",
   "execution_count": 15,
   "metadata": {},
   "outputs": [
    {
     "data": {
      "image/png": "[encoded data removed]",
      "text/plain": [
       "<Figure size 432x288 with 1 Axes>"
      ]
     },
     "metadata": {
      "needs_background": "light"
     },
     "output_type": "display_data"
    }
   ],
   "source": [
    "concentration_au.boxplot()\n",
    "plt.xticks(ticks =[1,2,3], labels = ['Rougher', 'Primary Clean', 'Secondary Clean'])\n",
    "plt.title('Концентрация золота в продукте по стадиям');"
   ]
  },
  {
   "cell_type": "code",
   "execution_count": 16,
   "metadata": {},
   "outputs": [
    {
     "data": {
      "image/png": "[encoded data removed]",
      "text/plain": [
       "<Figure size 432x288 with 1 Axes>"
      ]
     },
     "metadata": {
      "needs_background": "light"
     },
     "output_type": "display_data"
    }
   ],
   "source": [
    "concentration_pb.boxplot()\n",
    "plt.xticks(ticks =[1,2,3], labels = ['Rougher', 'Primary Clean', 'Secondary Clean'])\n",
    "plt.title('Концентрация свинца в продукте по стадиям');"
   ]
  },
  {
   "cell_type": "markdown",
   "metadata": {},
   "source": [
    "На графиках видна тенденция в поведении величины концентрации металлов в продукте, в зависимости от металла:\n",
    "- концентрация золота растет с прохождением этапов обработки руды - это логично, т.к. в этом и есть смысл обработки руды - привести концентрацию золота к максимально возможной величине;\n",
    "- концентрация серебра падает с прохождением этапов, что тоже логично, т.к. смысл этапов - избавление руды от примесей, в том числе от серебра;\n",
    "- концентрация свинца немного растет в среднем при переходе от флотации к первичной очистке, и затем существенно не меняется (хотя диапазон значений немного сокращается в готовом продукте по сравнению с результатом первичной очистки). Возможно, это связано с технологическим процессом очистки."
   ]
  },
  {
   "cell_type": "markdown",
   "metadata": {},
   "source": [
    "Далее нам необходимо **сравнить распределение гранул сырья на обучающей и тестовой выборках.**"
   ]
  },
  {
   "cell_type": "code",
   "execution_count": 17,
   "metadata": {},
   "outputs": [
    {
     "data": {
      "text/plain": [
       "'Трейновая выборка'"
      ]
     },
     "metadata": {},
     "output_type": "display_data"
    },
    {
     "data": {
      "text/plain": [
       "count    13126.000000\n",
       "mean        59.852918\n",
       "std         21.747315\n",
       "min          9.659576\n",
       "25%         48.977390\n",
       "50%         55.261594\n",
       "75%         65.707495\n",
       "max        484.967466\n",
       "Name: rougher.input.feed_size, dtype: float64"
      ]
     },
     "metadata": {},
     "output_type": "display_data"
    },
    {
     "data": {
      "text/plain": [
       "'Тестовая выборка'"
      ]
     },
     "metadata": {},
     "output_type": "display_data"
    },
    {
     "data": {
      "text/plain": [
       "count    5289.000000\n",
       "mean       55.951097\n",
       "std        19.081758\n",
       "min         0.046369\n",
       "25%        43.906347\n",
       "50%        50.841029\n",
       "75%        62.431047\n",
       "max       392.494040\n",
       "Name: rougher.input.feed_size, dtype: float64"
      ]
     },
     "metadata": {},
     "output_type": "display_data"
    },
    {
     "data": {
      "image/png": "[encoded data removed]",
      "text/plain": [
       "<Figure size 432x288 with 1 Axes>"
      ]
     },
     "metadata": {
      "needs_background": "light"
     },
     "output_type": "display_data"
    }
   ],
   "source": [
    "pd.DataFrame([train['rougher.input.feed_size'],test['rougher.input.feed_size']]).T.boxplot()\n",
    "plt.xticks(ticks =[1,2], labels = ['train', 'test'])\n",
    "plt.title('Распределение размера гранул сырья на трейновой и тестовой выборке');\n",
    "\n",
    "display('Трейновая выборка', train['rougher.input.feed_size'].describe())\n",
    "display(\"Тестовая выборка\", test['rougher.input.feed_size'].describe())\n",
    "         "
   ]
  },
  {
   "cell_type": "markdown",
   "metadata": {},
   "source": [
    "По графику распределения видно, что в целом распределение значений на трейновой и тестовой выборках совпадает - средняя, медиана и значения 25% и 75% квартиля недалеки друг от друга. На тестовой выборке разброс значений меньше, но тенденция сохраняется. <br>\n",
    "Это означает, что проблем с работой модели быть не должно."
   ]
  },
  {
   "cell_type": "markdown",
   "metadata": {},
   "source": [
    "Исследуем теперь **суммарную концентрацию всех веществ на разных стадиях: в сырье, в черновом и финальном концентратах.**"
   ]
  },
  {
   "cell_type": "code",
   "execution_count": 18,
   "metadata": {},
   "outputs": [
    {
     "data": {
      "image/png": "[encoded data removed]",
      "text/plain": [
       "<Figure size 648x648 with 1 Axes>"
      ]
     },
     "metadata": {
      "needs_background": "light"
     },
     "output_type": "display_data"
    }
   ],
   "source": [
    "# создадим столбцы с суммарной концентрацией веществ\n",
    "\n",
    "full['feed.total_concentrate'] = (full['rougher.input.feed_au'] +\n",
    "                                     full['rougher.input.feed_ag']+\n",
    "                                     full['rougher.input.feed_pb']+\n",
    "                                     full['rougher.input.feed_sol'])\n",
    "\n",
    "full['rougher.total_concentrate'] = (full['rougher.output.concentrate_au'] +\n",
    "                                     full['rougher.output.concentrate_ag']+\n",
    "                                     full['rougher.output.concentrate_pb']+\n",
    "                                     full['rougher.output.concentrate_sol'])\n",
    "\n",
    "full['final.total_concentrate'] = (full['final.output.concentrate_au'] +\n",
    "                                     full['final.output.concentrate_ag']+\n",
    "                                     full['final.output.concentrate_pb']+\n",
    "                                     full['final.output.concentrate_sol'])\n",
    "\n",
    "full['rougher.total_concentrate'].hist(bins = 20, alpha = 1, figsize = (9, 9), legend = True)\n",
    "full['feed.total_concentrate'].hist(bins = 20, alpha = 0.7, legend = True)\n",
    "full['final.total_concentrate'].hist(bins = 20, alpha = 0.7, legend = True)\n",
    "plt.ylabel('Количество значений')\n",
    "plt.xlabel('Концентрация всех веществ в сумме');"
   ]
  },
  {
   "cell_type": "markdown",
   "metadata": {},
   "source": [
    "На гистограмме видно, что в целом значения распределены нормально, но есть большое количество нулевых или околонулевых значений. Причем больше всего таких значений на стадии флотации - \"пустая\" руда с минимальным количеством веществ. Следует повнимательнее изучить эти данные."
   ]
  },
  {
   "cell_type": "code",
   "execution_count": 19,
   "metadata": {},
   "outputs": [
    {
     "data": {
      "image/png": "[encoded data removed]",
      "text/plain": [
       "<Figure size 432x288 with 1 Axes>"
      ]
     },
     "metadata": {
      "needs_background": "light"
     },
     "output_type": "display_data"
    }
   ],
   "source": [
    "full['rougher.total_concentrate'].hist(bins = 200, legend = True)\n",
    "full['feed.total_concentrate'].hist(bins = 200, alpha = 0.7, legend = True)\n",
    "full['final.total_concentrate'].hist(bins = 200, alpha = 0.7, legend = True)\n",
    "plt.xlim(0,5)\n",
    "plt.ylim(0, 450);"
   ]
  },
  {
   "cell_type": "markdown",
   "metadata": {},
   "source": [
    "Странным и нелогичным кажется то, что по мере прохождения стадий очистки количество \"нулевых\" показателей уменьшается. С точки зрения физики такое невозможно - еслии кол-во вещества было равно 0 на начальной стадии, то после очистки от примесей количество вещества не сможет увелится само по себе. <br>\n",
    "Изучим повнимательнее эти строки."
   ]
  },
  {
   "cell_type": "code",
   "execution_count": 20,
   "metadata": {},
   "outputs": [
    {
     "data": {
      "text/html": [
       "<div>\n",
       "<style scoped>\n",
       "    .dataframe tbody tr th:only-of-type {\n",
       "        vertical-align: middle;\n",
       "    }\n",
       "\n",
       "    .dataframe tbody tr th {\n",
       "        vertical-align: top;\n",
       "    }\n",
       "\n",
       "    .dataframe thead th {\n",
       "        text-align: right;\n",
       "    }\n",
       "</style>\n",
       "<table border=\"1\" class=\"dataframe\">\n",
       "  <thead>\n",
       "    <tr style=\"text-align: right;\">\n",
       "      <th></th>\n",
       "      <th>date</th>\n",
       "      <th>final.output.concentrate_ag</th>\n",
       "      <th>final.output.concentrate_pb</th>\n",
       "      <th>final.output.concentrate_sol</th>\n",
       "      <th>final.output.concentrate_au</th>\n",
       "      <th>final.output.recovery</th>\n",
       "      <th>final.output.tail_ag</th>\n",
       "      <th>final.output.tail_pb</th>\n",
       "      <th>final.output.tail_sol</th>\n",
       "      <th>final.output.tail_au</th>\n",
       "      <th>...</th>\n",
       "      <th>secondary_cleaner.state.floatbank4_b_level</th>\n",
       "      <th>secondary_cleaner.state.floatbank5_a_air</th>\n",
       "      <th>secondary_cleaner.state.floatbank5_a_level</th>\n",
       "      <th>secondary_cleaner.state.floatbank5_b_air</th>\n",
       "      <th>secondary_cleaner.state.floatbank5_b_level</th>\n",
       "      <th>secondary_cleaner.state.floatbank6_a_air</th>\n",
       "      <th>secondary_cleaner.state.floatbank6_a_level</th>\n",
       "      <th>feed.total_concentrate</th>\n",
       "      <th>rougher.total_concentrate</th>\n",
       "      <th>final.total_concentrate</th>\n",
       "    </tr>\n",
       "  </thead>\n",
       "  <tbody>\n",
       "    <tr>\n",
       "      <th>644</th>\n",
       "      <td>2016-02-13 11:00:00</td>\n",
       "      <td>0.0</td>\n",
       "      <td>0.0</td>\n",
       "      <td>0.0</td>\n",
       "      <td>0.0</td>\n",
       "      <td>0.0</td>\n",
       "      <td>8.894029</td>\n",
       "      <td>0.843584</td>\n",
       "      <td>15.417342</td>\n",
       "      <td>1.779052</td>\n",
       "      <td>...</td>\n",
       "      <td>-401.366408</td>\n",
       "      <td>22.995012</td>\n",
       "      <td>-399.370680</td>\n",
       "      <td>20.966863</td>\n",
       "      <td>-399.308354</td>\n",
       "      <td>24.987274</td>\n",
       "      <td>-399.619808</td>\n",
       "      <td>46.703740</td>\n",
       "      <td>56.574778</td>\n",
       "      <td>0.0</td>\n",
       "    </tr>\n",
       "    <tr>\n",
       "      <th>1193</th>\n",
       "      <td>2016-03-11 10:00:00</td>\n",
       "      <td>0.0</td>\n",
       "      <td>0.0</td>\n",
       "      <td>0.0</td>\n",
       "      <td>0.0</td>\n",
       "      <td>0.0</td>\n",
       "      <td>10.817313</td>\n",
       "      <td>1.462800</td>\n",
       "      <td>16.407607</td>\n",
       "      <td>2.984504</td>\n",
       "      <td>...</td>\n",
       "      <td>-450.179844</td>\n",
       "      <td>11.982937</td>\n",
       "      <td>-449.856468</td>\n",
       "      <td>9.927727</td>\n",
       "      <td>-450.521700</td>\n",
       "      <td>19.971682</td>\n",
       "      <td>-500.685521</td>\n",
       "      <td>53.368945</td>\n",
       "      <td>61.681632</td>\n",
       "      <td>0.0</td>\n",
       "    </tr>\n",
       "    <tr>\n",
       "      <th>1194</th>\n",
       "      <td>2016-03-11 11:00:00</td>\n",
       "      <td>0.0</td>\n",
       "      <td>0.0</td>\n",
       "      <td>0.0</td>\n",
       "      <td>0.0</td>\n",
       "      <td>0.0</td>\n",
       "      <td>10.436792</td>\n",
       "      <td>1.207636</td>\n",
       "      <td>17.800392</td>\n",
       "      <td>2.747294</td>\n",
       "      <td>...</td>\n",
       "      <td>-449.684812</td>\n",
       "      <td>11.844983</td>\n",
       "      <td>-450.881424</td>\n",
       "      <td>9.916784</td>\n",
       "      <td>-449.542871</td>\n",
       "      <td>20.004767</td>\n",
       "      <td>-500.137068</td>\n",
       "      <td>51.963364</td>\n",
       "      <td>60.214950</td>\n",
       "      <td>0.0</td>\n",
       "    </tr>\n",
       "    <tr>\n",
       "      <th>1195</th>\n",
       "      <td>2016-03-11 12:00:00</td>\n",
       "      <td>0.0</td>\n",
       "      <td>0.0</td>\n",
       "      <td>0.0</td>\n",
       "      <td>0.0</td>\n",
       "      <td>0.0</td>\n",
       "      <td>10.637073</td>\n",
       "      <td>1.405778</td>\n",
       "      <td>17.195897</td>\n",
       "      <td>2.791440</td>\n",
       "      <td>...</td>\n",
       "      <td>-496.908551</td>\n",
       "      <td>12.091144</td>\n",
       "      <td>-496.404140</td>\n",
       "      <td>9.976074</td>\n",
       "      <td>-496.783155</td>\n",
       "      <td>19.921634</td>\n",
       "      <td>-500.769011</td>\n",
       "      <td>48.892687</td>\n",
       "      <td>58.592426</td>\n",
       "      <td>0.0</td>\n",
       "    </tr>\n",
       "    <tr>\n",
       "      <th>1196</th>\n",
       "      <td>2016-03-11 13:00:00</td>\n",
       "      <td>0.0</td>\n",
       "      <td>0.0</td>\n",
       "      <td>0.0</td>\n",
       "      <td>0.0</td>\n",
       "      <td>0.0</td>\n",
       "      <td>10.530320</td>\n",
       "      <td>1.461550</td>\n",
       "      <td>17.556860</td>\n",
       "      <td>2.682127</td>\n",
       "      <td>...</td>\n",
       "      <td>-500.162537</td>\n",
       "      <td>12.078809</td>\n",
       "      <td>-499.903743</td>\n",
       "      <td>10.075259</td>\n",
       "      <td>-499.540325</td>\n",
       "      <td>20.039788</td>\n",
       "      <td>-499.932405</td>\n",
       "      <td>49.265736</td>\n",
       "      <td>58.363177</td>\n",
       "      <td>0.0</td>\n",
       "    </tr>\n",
       "    <tr>\n",
       "      <th>1682</th>\n",
       "      <td>2016-04-09 17:00:00</td>\n",
       "      <td>0.0</td>\n",
       "      <td>0.0</td>\n",
       "      <td>0.0</td>\n",
       "      <td>0.0</td>\n",
       "      <td>0.0</td>\n",
       "      <td>2.943613</td>\n",
       "      <td>1.089791</td>\n",
       "      <td>4.050067</td>\n",
       "      <td>2.443084</td>\n",
       "      <td>...</td>\n",
       "      <td>-472.304428</td>\n",
       "      <td>12.012947</td>\n",
       "      <td>-498.936345</td>\n",
       "      <td>9.989854</td>\n",
       "      <td>-800.001639</td>\n",
       "      <td>19.960963</td>\n",
       "      <td>-500.498255</td>\n",
       "      <td>44.882879</td>\n",
       "      <td>0.000000</td>\n",
       "      <td>0.0</td>\n",
       "    </tr>\n",
       "    <tr>\n",
       "      <th>2019</th>\n",
       "      <td>2016-05-01 23:59:59</td>\n",
       "      <td>0.0</td>\n",
       "      <td>0.0</td>\n",
       "      <td>0.0</td>\n",
       "      <td>0.0</td>\n",
       "      <td>0.0</td>\n",
       "      <td>2.229996</td>\n",
       "      <td>0.439314</td>\n",
       "      <td>2.996147</td>\n",
       "      <td>1.049438</td>\n",
       "      <td>...</td>\n",
       "      <td>-502.673001</td>\n",
       "      <td>8.851882</td>\n",
       "      <td>-503.279765</td>\n",
       "      <td>9.037939</td>\n",
       "      <td>-500.400661</td>\n",
       "      <td>15.999356</td>\n",
       "      <td>-509.449510</td>\n",
       "      <td>57.115449</td>\n",
       "      <td>82.097253</td>\n",
       "      <td>0.0</td>\n",
       "    </tr>\n",
       "    <tr>\n",
       "      <th>2020</th>\n",
       "      <td>2016-05-02 00:59:59</td>\n",
       "      <td>0.0</td>\n",
       "      <td>0.0</td>\n",
       "      <td>0.0</td>\n",
       "      <td>0.0</td>\n",
       "      <td>0.0</td>\n",
       "      <td>8.816376</td>\n",
       "      <td>1.692314</td>\n",
       "      <td>12.001629</td>\n",
       "      <td>3.949153</td>\n",
       "      <td>...</td>\n",
       "      <td>-502.405376</td>\n",
       "      <td>8.972976</td>\n",
       "      <td>-498.876974</td>\n",
       "      <td>9.070907</td>\n",
       "      <td>-499.455708</td>\n",
       "      <td>16.026009</td>\n",
       "      <td>-492.939580</td>\n",
       "      <td>56.001311</td>\n",
       "      <td>80.583896</td>\n",
       "      <td>0.0</td>\n",
       "    </tr>\n",
       "    <tr>\n",
       "      <th>2236</th>\n",
       "      <td>2016-05-11 01:59:59</td>\n",
       "      <td>0.0</td>\n",
       "      <td>0.0</td>\n",
       "      <td>0.0</td>\n",
       "      <td>0.0</td>\n",
       "      <td>0.0</td>\n",
       "      <td>7.567252</td>\n",
       "      <td>1.991327</td>\n",
       "      <td>12.977099</td>\n",
       "      <td>3.170143</td>\n",
       "      <td>...</td>\n",
       "      <td>-500.180957</td>\n",
       "      <td>11.025995</td>\n",
       "      <td>-501.002632</td>\n",
       "      <td>6.093285</td>\n",
       "      <td>-500.452445</td>\n",
       "      <td>20.023462</td>\n",
       "      <td>-500.365653</td>\n",
       "      <td>56.164944</td>\n",
       "      <td>76.009105</td>\n",
       "      <td>0.0</td>\n",
       "    </tr>\n",
       "    <tr>\n",
       "      <th>4215</th>\n",
       "      <td>2016-08-11 20:59:59</td>\n",
       "      <td>0.0</td>\n",
       "      <td>0.0</td>\n",
       "      <td>0.0</td>\n",
       "      <td>0.0</td>\n",
       "      <td>0.0</td>\n",
       "      <td>1.353362</td>\n",
       "      <td>0.470696</td>\n",
       "      <td>1.235183</td>\n",
       "      <td>1.021143</td>\n",
       "      <td>...</td>\n",
       "      <td>-402.711177</td>\n",
       "      <td>9.137868</td>\n",
       "      <td>-419.643823</td>\n",
       "      <td>4.933871</td>\n",
       "      <td>-402.132394</td>\n",
       "      <td>23.005263</td>\n",
       "      <td>-502.319385</td>\n",
       "      <td>61.331725</td>\n",
       "      <td>80.824756</td>\n",
       "      <td>0.0</td>\n",
       "    </tr>\n",
       "    <tr>\n",
       "      <th>4314</th>\n",
       "      <td>2016-08-15 23:59:59</td>\n",
       "      <td>0.0</td>\n",
       "      <td>0.0</td>\n",
       "      <td>0.0</td>\n",
       "      <td>0.0</td>\n",
       "      <td>0.0</td>\n",
       "      <td>10.796039</td>\n",
       "      <td>2.582106</td>\n",
       "      <td>11.105074</td>\n",
       "      <td>3.231677</td>\n",
       "      <td>...</td>\n",
       "      <td>-399.585744</td>\n",
       "      <td>15.086155</td>\n",
       "      <td>-396.783371</td>\n",
       "      <td>4.961631</td>\n",
       "      <td>-400.638627</td>\n",
       "      <td>23.037383</td>\n",
       "      <td>-498.990216</td>\n",
       "      <td>64.180280</td>\n",
       "      <td>69.024288</td>\n",
       "      <td>0.0</td>\n",
       "    </tr>\n",
       "    <tr>\n",
       "      <th>4564</th>\n",
       "      <td>2016-08-26 20:59:59</td>\n",
       "      <td>0.0</td>\n",
       "      <td>0.0</td>\n",
       "      <td>0.0</td>\n",
       "      <td>0.0</td>\n",
       "      <td>0.0</td>\n",
       "      <td>3.697301</td>\n",
       "      <td>1.378608</td>\n",
       "      <td>3.952049</td>\n",
       "      <td>2.579844</td>\n",
       "      <td>...</td>\n",
       "      <td>-499.963654</td>\n",
       "      <td>9.913467</td>\n",
       "      <td>-501.698056</td>\n",
       "      <td>5.011314</td>\n",
       "      <td>-500.390274</td>\n",
       "      <td>24.919704</td>\n",
       "      <td>-502.454004</td>\n",
       "      <td>55.733560</td>\n",
       "      <td>38.335303</td>\n",
       "      <td>0.0</td>\n",
       "    </tr>\n",
       "    <tr>\n",
       "      <th>4653</th>\n",
       "      <td>2016-08-30 19:59:59</td>\n",
       "      <td>0.0</td>\n",
       "      <td>0.0</td>\n",
       "      <td>0.0</td>\n",
       "      <td>0.0</td>\n",
       "      <td>0.0</td>\n",
       "      <td>7.950315</td>\n",
       "      <td>3.216058</td>\n",
       "      <td>3.705181</td>\n",
       "      <td>4.844750</td>\n",
       "      <td>...</td>\n",
       "      <td>-500.107624</td>\n",
       "      <td>8.075202</td>\n",
       "      <td>-499.957983</td>\n",
       "      <td>4.897192</td>\n",
       "      <td>-500.423686</td>\n",
       "      <td>30.958862</td>\n",
       "      <td>-498.808359</td>\n",
       "      <td>29.928733</td>\n",
       "      <td>48.207629</td>\n",
       "      <td>0.0</td>\n",
       "    </tr>\n",
       "    <tr>\n",
       "      <th>5151</th>\n",
       "      <td>2016-09-29 14:59:59</td>\n",
       "      <td>0.0</td>\n",
       "      <td>0.0</td>\n",
       "      <td>0.0</td>\n",
       "      <td>0.0</td>\n",
       "      <td>0.0</td>\n",
       "      <td>8.462242</td>\n",
       "      <td>2.429954</td>\n",
       "      <td>8.126488</td>\n",
       "      <td>5.212311</td>\n",
       "      <td>...</td>\n",
       "      <td>-499.981219</td>\n",
       "      <td>9.973910</td>\n",
       "      <td>-623.338390</td>\n",
       "      <td>5.004010</td>\n",
       "      <td>-499.989059</td>\n",
       "      <td>19.980656</td>\n",
       "      <td>-498.495103</td>\n",
       "      <td>56.941127</td>\n",
       "      <td>72.476661</td>\n",
       "      <td>0.0</td>\n",
       "    </tr>\n",
       "    <tr>\n",
       "      <th>6327</th>\n",
       "      <td>2016-11-19 15:59:59</td>\n",
       "      <td>0.0</td>\n",
       "      <td>0.0</td>\n",
       "      <td>0.0</td>\n",
       "      <td>0.0</td>\n",
       "      <td>0.0</td>\n",
       "      <td>5.078235</td>\n",
       "      <td>1.146228</td>\n",
       "      <td>5.171265</td>\n",
       "      <td>1.392338</td>\n",
       "      <td>...</td>\n",
       "      <td>-461.804543</td>\n",
       "      <td>15.766758</td>\n",
       "      <td>-499.518491</td>\n",
       "      <td>9.370660</td>\n",
       "      <td>-495.470797</td>\n",
       "      <td>4.994278</td>\n",
       "      <td>-808.118080</td>\n",
       "      <td>47.415115</td>\n",
       "      <td>30.865627</td>\n",
       "      <td>0.0</td>\n",
       "    </tr>\n",
       "    <tr>\n",
       "      <th>7342</th>\n",
       "      <td>2017-01-02 16:59:59</td>\n",
       "      <td>0.0</td>\n",
       "      <td>0.0</td>\n",
       "      <td>0.0</td>\n",
       "      <td>0.0</td>\n",
       "      <td>0.0</td>\n",
       "      <td>10.512889</td>\n",
       "      <td>1.950646</td>\n",
       "      <td>11.188996</td>\n",
       "      <td>2.508362</td>\n",
       "      <td>...</td>\n",
       "      <td>-473.509616</td>\n",
       "      <td>17.395327</td>\n",
       "      <td>-499.938041</td>\n",
       "      <td>8.054456</td>\n",
       "      <td>-500.574345</td>\n",
       "      <td>19.972880</td>\n",
       "      <td>-601.259265</td>\n",
       "      <td>55.353011</td>\n",
       "      <td>76.938935</td>\n",
       "      <td>0.0</td>\n",
       "    </tr>\n",
       "    <tr>\n",
       "      <th>7343</th>\n",
       "      <td>2017-01-02 17:59:59</td>\n",
       "      <td>0.0</td>\n",
       "      <td>0.0</td>\n",
       "      <td>0.0</td>\n",
       "      <td>0.0</td>\n",
       "      <td>0.0</td>\n",
       "      <td>9.955941</td>\n",
       "      <td>1.935196</td>\n",
       "      <td>11.133852</td>\n",
       "      <td>2.797546</td>\n",
       "      <td>...</td>\n",
       "      <td>-497.866523</td>\n",
       "      <td>17.070479</td>\n",
       "      <td>-496.127166</td>\n",
       "      <td>8.045207</td>\n",
       "      <td>-470.953271</td>\n",
       "      <td>20.014482</td>\n",
       "      <td>-591.060032</td>\n",
       "      <td>54.416755</td>\n",
       "      <td>76.075400</td>\n",
       "      <td>0.0</td>\n",
       "    </tr>\n",
       "    <tr>\n",
       "      <th>7344</th>\n",
       "      <td>2017-01-02 18:59:59</td>\n",
       "      <td>0.0</td>\n",
       "      <td>0.0</td>\n",
       "      <td>0.0</td>\n",
       "      <td>0.0</td>\n",
       "      <td>0.0</td>\n",
       "      <td>10.106171</td>\n",
       "      <td>1.712132</td>\n",
       "      <td>11.092376</td>\n",
       "      <td>2.385774</td>\n",
       "      <td>...</td>\n",
       "      <td>-499.649898</td>\n",
       "      <td>17.173301</td>\n",
       "      <td>-504.678878</td>\n",
       "      <td>8.077081</td>\n",
       "      <td>-484.275794</td>\n",
       "      <td>19.991623</td>\n",
       "      <td>-609.490127</td>\n",
       "      <td>53.833074</td>\n",
       "      <td>78.063224</td>\n",
       "      <td>0.0</td>\n",
       "    </tr>\n",
       "    <tr>\n",
       "      <th>7586</th>\n",
       "      <td>2017-01-18 14:59:59</td>\n",
       "      <td>0.0</td>\n",
       "      <td>0.0</td>\n",
       "      <td>0.0</td>\n",
       "      <td>0.0</td>\n",
       "      <td>0.0</td>\n",
       "      <td>7.804423</td>\n",
       "      <td>3.130217</td>\n",
       "      <td>5.586386</td>\n",
       "      <td>3.420555</td>\n",
       "      <td>...</td>\n",
       "      <td>-500.025438</td>\n",
       "      <td>-0.178880</td>\n",
       "      <td>-491.880038</td>\n",
       "      <td>8.035219</td>\n",
       "      <td>-481.808531</td>\n",
       "      <td>19.941542</td>\n",
       "      <td>-595.360820</td>\n",
       "      <td>53.901216</td>\n",
       "      <td>80.309850</td>\n",
       "      <td>0.0</td>\n",
       "    </tr>\n",
       "    <tr>\n",
       "      <th>7587</th>\n",
       "      <td>2017-01-18 15:59:59</td>\n",
       "      <td>0.0</td>\n",
       "      <td>0.0</td>\n",
       "      <td>0.0</td>\n",
       "      <td>0.0</td>\n",
       "      <td>0.0</td>\n",
       "      <td>4.990116</td>\n",
       "      <td>2.905931</td>\n",
       "      <td>5.256589</td>\n",
       "      <td>4.213483</td>\n",
       "      <td>...</td>\n",
       "      <td>-499.556599</td>\n",
       "      <td>-0.173919</td>\n",
       "      <td>-446.036106</td>\n",
       "      <td>3.145675</td>\n",
       "      <td>-240.872031</td>\n",
       "      <td>2.319944</td>\n",
       "      <td>-642.122184</td>\n",
       "      <td>45.755537</td>\n",
       "      <td>74.960131</td>\n",
       "      <td>0.0</td>\n",
       "    </tr>\n",
       "    <tr>\n",
       "      <th>7759</th>\n",
       "      <td>2017-01-26 09:59:59</td>\n",
       "      <td>0.0</td>\n",
       "      <td>0.0</td>\n",
       "      <td>0.0</td>\n",
       "      <td>0.0</td>\n",
       "      <td>0.0</td>\n",
       "      <td>10.617218</td>\n",
       "      <td>2.747829</td>\n",
       "      <td>9.417774</td>\n",
       "      <td>2.990722</td>\n",
       "      <td>...</td>\n",
       "      <td>-499.762327</td>\n",
       "      <td>22.977603</td>\n",
       "      <td>-499.840145</td>\n",
       "      <td>20.017758</td>\n",
       "      <td>-499.845860</td>\n",
       "      <td>25.001965</td>\n",
       "      <td>-599.982239</td>\n",
       "      <td>56.736779</td>\n",
       "      <td>81.462697</td>\n",
       "      <td>0.0</td>\n",
       "    </tr>\n",
       "    <tr>\n",
       "      <th>7760</th>\n",
       "      <td>2017-01-26 10:59:59</td>\n",
       "      <td>0.0</td>\n",
       "      <td>0.0</td>\n",
       "      <td>0.0</td>\n",
       "      <td>0.0</td>\n",
       "      <td>0.0</td>\n",
       "      <td>10.864712</td>\n",
       "      <td>2.841514</td>\n",
       "      <td>9.153641</td>\n",
       "      <td>3.115444</td>\n",
       "      <td>...</td>\n",
       "      <td>-499.684250</td>\n",
       "      <td>23.013882</td>\n",
       "      <td>-499.773163</td>\n",
       "      <td>19.981647</td>\n",
       "      <td>-500.137454</td>\n",
       "      <td>25.006088</td>\n",
       "      <td>-600.019283</td>\n",
       "      <td>56.258034</td>\n",
       "      <td>81.806790</td>\n",
       "      <td>0.0</td>\n",
       "    </tr>\n",
       "    <tr>\n",
       "      <th>8404</th>\n",
       "      <td>2017-02-24 03:59:59</td>\n",
       "      <td>0.0</td>\n",
       "      <td>0.0</td>\n",
       "      <td>0.0</td>\n",
       "      <td>0.0</td>\n",
       "      <td>0.0</td>\n",
       "      <td>1.764912</td>\n",
       "      <td>0.620707</td>\n",
       "      <td>1.132730</td>\n",
       "      <td>0.619892</td>\n",
       "      <td>...</td>\n",
       "      <td>-400.510308</td>\n",
       "      <td>23.023228</td>\n",
       "      <td>-451.347752</td>\n",
       "      <td>20.007511</td>\n",
       "      <td>-450.038643</td>\n",
       "      <td>25.008392</td>\n",
       "      <td>-500.220216</td>\n",
       "      <td>65.394965</td>\n",
       "      <td>78.190858</td>\n",
       "      <td>0.0</td>\n",
       "    </tr>\n",
       "    <tr>\n",
       "      <th>8636</th>\n",
       "      <td>2017-03-06 17:59:59</td>\n",
       "      <td>0.0</td>\n",
       "      <td>0.0</td>\n",
       "      <td>0.0</td>\n",
       "      <td>0.0</td>\n",
       "      <td>0.0</td>\n",
       "      <td>8.788438</td>\n",
       "      <td>2.970928</td>\n",
       "      <td>7.091474</td>\n",
       "      <td>3.440660</td>\n",
       "      <td>...</td>\n",
       "      <td>-399.946201</td>\n",
       "      <td>23.636238</td>\n",
       "      <td>-450.648239</td>\n",
       "      <td>19.957525</td>\n",
       "      <td>-449.878949</td>\n",
       "      <td>24.999677</td>\n",
       "      <td>-500.240701</td>\n",
       "      <td>53.300638</td>\n",
       "      <td>71.562927</td>\n",
       "      <td>0.0</td>\n",
       "    </tr>\n",
       "    <tr>\n",
       "      <th>8637</th>\n",
       "      <td>2017-03-06 18:59:59</td>\n",
       "      <td>0.0</td>\n",
       "      <td>0.0</td>\n",
       "      <td>0.0</td>\n",
       "      <td>0.0</td>\n",
       "      <td>0.0</td>\n",
       "      <td>8.865775</td>\n",
       "      <td>2.954853</td>\n",
       "      <td>7.439434</td>\n",
       "      <td>3.476479</td>\n",
       "      <td>...</td>\n",
       "      <td>-399.595670</td>\n",
       "      <td>23.654748</td>\n",
       "      <td>-449.556038</td>\n",
       "      <td>20.001880</td>\n",
       "      <td>-449.899258</td>\n",
       "      <td>24.992970</td>\n",
       "      <td>-499.427043</td>\n",
       "      <td>53.469934</td>\n",
       "      <td>72.407240</td>\n",
       "      <td>0.0</td>\n",
       "    </tr>\n",
       "    <tr>\n",
       "      <th>8638</th>\n",
       "      <td>2017-03-06 19:59:59</td>\n",
       "      <td>0.0</td>\n",
       "      <td>0.0</td>\n",
       "      <td>0.0</td>\n",
       "      <td>0.0</td>\n",
       "      <td>0.0</td>\n",
       "      <td>8.499353</td>\n",
       "      <td>2.827313</td>\n",
       "      <td>8.296913</td>\n",
       "      <td>3.443548</td>\n",
       "      <td>...</td>\n",
       "      <td>-400.448353</td>\n",
       "      <td>23.673025</td>\n",
       "      <td>-449.945883</td>\n",
       "      <td>20.014044</td>\n",
       "      <td>-449.745174</td>\n",
       "      <td>24.990666</td>\n",
       "      <td>-500.726526</td>\n",
       "      <td>54.112593</td>\n",
       "      <td>73.405420</td>\n",
       "      <td>0.0</td>\n",
       "    </tr>\n",
       "    <tr>\n",
       "      <th>8639</th>\n",
       "      <td>2017-03-06 20:59:59</td>\n",
       "      <td>0.0</td>\n",
       "      <td>0.0</td>\n",
       "      <td>0.0</td>\n",
       "      <td>0.0</td>\n",
       "      <td>0.0</td>\n",
       "      <td>8.168545</td>\n",
       "      <td>2.779809</td>\n",
       "      <td>8.939608</td>\n",
       "      <td>3.451607</td>\n",
       "      <td>...</td>\n",
       "      <td>-399.882444</td>\n",
       "      <td>23.734240</td>\n",
       "      <td>-450.039391</td>\n",
       "      <td>20.002802</td>\n",
       "      <td>-450.185386</td>\n",
       "      <td>24.999566</td>\n",
       "      <td>-500.059471</td>\n",
       "      <td>54.122333</td>\n",
       "      <td>73.686489</td>\n",
       "      <td>0.0</td>\n",
       "    </tr>\n",
       "    <tr>\n",
       "      <th>9050</th>\n",
       "      <td>2017-03-28 02:59:59</td>\n",
       "      <td>0.0</td>\n",
       "      <td>0.0</td>\n",
       "      <td>0.0</td>\n",
       "      <td>0.0</td>\n",
       "      <td>0.0</td>\n",
       "      <td>6.052901</td>\n",
       "      <td>1.855451</td>\n",
       "      <td>6.201678</td>\n",
       "      <td>2.423505</td>\n",
       "      <td>...</td>\n",
       "      <td>-399.868919</td>\n",
       "      <td>29.144954</td>\n",
       "      <td>-449.497572</td>\n",
       "      <td>24.036333</td>\n",
       "      <td>-450.062637</td>\n",
       "      <td>25.004345</td>\n",
       "      <td>-497.467197</td>\n",
       "      <td>64.683886</td>\n",
       "      <td>75.331692</td>\n",
       "      <td>0.0</td>\n",
       "    </tr>\n",
       "    <tr>\n",
       "      <th>9670</th>\n",
       "      <td>2017-04-23 15:59:59</td>\n",
       "      <td>0.0</td>\n",
       "      <td>0.0</td>\n",
       "      <td>0.0</td>\n",
       "      <td>0.0</td>\n",
       "      <td>0.0</td>\n",
       "      <td>8.156377</td>\n",
       "      <td>2.846728</td>\n",
       "      <td>11.214544</td>\n",
       "      <td>2.668218</td>\n",
       "      <td>...</td>\n",
       "      <td>-400.035835</td>\n",
       "      <td>26.034525</td>\n",
       "      <td>-450.185761</td>\n",
       "      <td>24.013252</td>\n",
       "      <td>-450.093931</td>\n",
       "      <td>29.985963</td>\n",
       "      <td>-500.076336</td>\n",
       "      <td>57.716489</td>\n",
       "      <td>68.650384</td>\n",
       "      <td>0.0</td>\n",
       "    </tr>\n",
       "    <tr>\n",
       "      <th>9671</th>\n",
       "      <td>2017-04-23 16:59:59</td>\n",
       "      <td>0.0</td>\n",
       "      <td>0.0</td>\n",
       "      <td>0.0</td>\n",
       "      <td>0.0</td>\n",
       "      <td>0.0</td>\n",
       "      <td>8.128279</td>\n",
       "      <td>2.836579</td>\n",
       "      <td>10.817374</td>\n",
       "      <td>2.557334</td>\n",
       "      <td>...</td>\n",
       "      <td>-399.401191</td>\n",
       "      <td>26.003582</td>\n",
       "      <td>-449.323595</td>\n",
       "      <td>24.009039</td>\n",
       "      <td>-449.969615</td>\n",
       "      <td>30.007134</td>\n",
       "      <td>-499.524684</td>\n",
       "      <td>58.748005</td>\n",
       "      <td>67.287680</td>\n",
       "      <td>0.0</td>\n",
       "    </tr>\n",
       "    <tr>\n",
       "      <th>9672</th>\n",
       "      <td>2017-04-23 17:59:59</td>\n",
       "      <td>0.0</td>\n",
       "      <td>0.0</td>\n",
       "      <td>0.0</td>\n",
       "      <td>0.0</td>\n",
       "      <td>0.0</td>\n",
       "      <td>8.103931</td>\n",
       "      <td>2.747705</td>\n",
       "      <td>10.788530</td>\n",
       "      <td>2.550075</td>\n",
       "      <td>...</td>\n",
       "      <td>-400.788116</td>\n",
       "      <td>25.986338</td>\n",
       "      <td>-451.070811</td>\n",
       "      <td>23.997589</td>\n",
       "      <td>-449.992990</td>\n",
       "      <td>30.014246</td>\n",
       "      <td>-500.261487</td>\n",
       "      <td>57.758462</td>\n",
       "      <td>67.715366</td>\n",
       "      <td>0.0</td>\n",
       "    </tr>\n",
       "    <tr>\n",
       "      <th>9673</th>\n",
       "      <td>2017-04-23 18:59:59</td>\n",
       "      <td>0.0</td>\n",
       "      <td>0.0</td>\n",
       "      <td>0.0</td>\n",
       "      <td>0.0</td>\n",
       "      <td>0.0</td>\n",
       "      <td>8.304655</td>\n",
       "      <td>2.890794</td>\n",
       "      <td>11.387238</td>\n",
       "      <td>2.746293</td>\n",
       "      <td>...</td>\n",
       "      <td>-399.623048</td>\n",
       "      <td>25.985947</td>\n",
       "      <td>-450.184325</td>\n",
       "      <td>24.023299</td>\n",
       "      <td>-450.107963</td>\n",
       "      <td>29.989302</td>\n",
       "      <td>-499.837103</td>\n",
       "      <td>56.937236</td>\n",
       "      <td>70.543396</td>\n",
       "      <td>0.0</td>\n",
       "    </tr>\n",
       "    <tr>\n",
       "      <th>9674</th>\n",
       "      <td>2017-04-23 19:59:59</td>\n",
       "      <td>0.0</td>\n",
       "      <td>0.0</td>\n",
       "      <td>0.0</td>\n",
       "      <td>0.0</td>\n",
       "      <td>0.0</td>\n",
       "      <td>8.326885</td>\n",
       "      <td>3.056401</td>\n",
       "      <td>10.965152</td>\n",
       "      <td>2.801452</td>\n",
       "      <td>...</td>\n",
       "      <td>-399.950198</td>\n",
       "      <td>26.026115</td>\n",
       "      <td>-449.768130</td>\n",
       "      <td>24.007241</td>\n",
       "      <td>-450.263454</td>\n",
       "      <td>30.004095</td>\n",
       "      <td>-499.921109</td>\n",
       "      <td>58.120443</td>\n",
       "      <td>70.856237</td>\n",
       "      <td>0.0</td>\n",
       "    </tr>\n",
       "    <tr>\n",
       "      <th>10138</th>\n",
       "      <td>2017-05-20 22:59:59</td>\n",
       "      <td>0.0</td>\n",
       "      <td>0.0</td>\n",
       "      <td>0.0</td>\n",
       "      <td>0.0</td>\n",
       "      <td>0.0</td>\n",
       "      <td>8.498030</td>\n",
       "      <td>3.997512</td>\n",
       "      <td>7.064919</td>\n",
       "      <td>6.578668</td>\n",
       "      <td>...</td>\n",
       "      <td>-500.978538</td>\n",
       "      <td>11.005697</td>\n",
       "      <td>-499.659386</td>\n",
       "      <td>9.986170</td>\n",
       "      <td>-500.117621</td>\n",
       "      <td>19.990086</td>\n",
       "      <td>-500.215013</td>\n",
       "      <td>56.000346</td>\n",
       "      <td>57.561670</td>\n",
       "      <td>0.0</td>\n",
       "    </tr>\n",
       "    <tr>\n",
       "      <th>10139</th>\n",
       "      <td>2017-05-20 23:59:59</td>\n",
       "      <td>0.0</td>\n",
       "      <td>0.0</td>\n",
       "      <td>0.0</td>\n",
       "      <td>0.0</td>\n",
       "      <td>0.0</td>\n",
       "      <td>5.853507</td>\n",
       "      <td>2.566240</td>\n",
       "      <td>5.372024</td>\n",
       "      <td>4.083495</td>\n",
       "      <td>...</td>\n",
       "      <td>-499.643782</td>\n",
       "      <td>10.933236</td>\n",
       "      <td>-501.259343</td>\n",
       "      <td>9.964885</td>\n",
       "      <td>-499.773254</td>\n",
       "      <td>19.981354</td>\n",
       "      <td>-499.611812</td>\n",
       "      <td>50.355734</td>\n",
       "      <td>57.519911</td>\n",
       "      <td>0.0</td>\n",
       "    </tr>\n",
       "    <tr>\n",
       "      <th>10176</th>\n",
       "      <td>2017-05-23 19:59:59</td>\n",
       "      <td>0.0</td>\n",
       "      <td>0.0</td>\n",
       "      <td>0.0</td>\n",
       "      <td>0.0</td>\n",
       "      <td>0.0</td>\n",
       "      <td>6.045862</td>\n",
       "      <td>2.572548</td>\n",
       "      <td>5.979258</td>\n",
       "      <td>3.673219</td>\n",
       "      <td>...</td>\n",
       "      <td>-503.847471</td>\n",
       "      <td>26.000855</td>\n",
       "      <td>-499.736015</td>\n",
       "      <td>23.934192</td>\n",
       "      <td>-499.760094</td>\n",
       "      <td>17.989344</td>\n",
       "      <td>-502.178010</td>\n",
       "      <td>66.668672</td>\n",
       "      <td>71.833407</td>\n",
       "      <td>0.0</td>\n",
       "    </tr>\n",
       "    <tr>\n",
       "      <th>11518</th>\n",
       "      <td>2017-07-24 13:59:59</td>\n",
       "      <td>0.0</td>\n",
       "      <td>0.0</td>\n",
       "      <td>0.0</td>\n",
       "      <td>0.0</td>\n",
       "      <td>0.0</td>\n",
       "      <td>7.685263</td>\n",
       "      <td>2.708151</td>\n",
       "      <td>10.191240</td>\n",
       "      <td>2.301790</td>\n",
       "      <td>...</td>\n",
       "      <td>-799.889113</td>\n",
       "      <td>12.027372</td>\n",
       "      <td>-493.246532</td>\n",
       "      <td>7.672037</td>\n",
       "      <td>-497.898119</td>\n",
       "      <td>12.381912</td>\n",
       "      <td>-504.537397</td>\n",
       "      <td>54.427053</td>\n",
       "      <td>76.122611</td>\n",
       "      <td>0.0</td>\n",
       "    </tr>\n",
       "    <tr>\n",
       "      <th>11539</th>\n",
       "      <td>2017-07-26 03:59:59</td>\n",
       "      <td>0.0</td>\n",
       "      <td>0.0</td>\n",
       "      <td>0.0</td>\n",
       "      <td>0.0</td>\n",
       "      <td>0.0</td>\n",
       "      <td>7.074876</td>\n",
       "      <td>3.211672</td>\n",
       "      <td>11.439958</td>\n",
       "      <td>3.660732</td>\n",
       "      <td>...</td>\n",
       "      <td>-380.153762</td>\n",
       "      <td>16.030213</td>\n",
       "      <td>-500.482032</td>\n",
       "      <td>10.001274</td>\n",
       "      <td>-500.142881</td>\n",
       "      <td>14.996052</td>\n",
       "      <td>-500.206741</td>\n",
       "      <td>53.329106</td>\n",
       "      <td>76.118163</td>\n",
       "      <td>0.0</td>\n",
       "    </tr>\n",
       "    <tr>\n",
       "      <th>11540</th>\n",
       "      <td>2017-07-26 04:59:59</td>\n",
       "      <td>0.0</td>\n",
       "      <td>0.0</td>\n",
       "      <td>0.0</td>\n",
       "      <td>0.0</td>\n",
       "      <td>0.0</td>\n",
       "      <td>6.928070</td>\n",
       "      <td>3.158062</td>\n",
       "      <td>11.352802</td>\n",
       "      <td>3.485946</td>\n",
       "      <td>...</td>\n",
       "      <td>-379.989325</td>\n",
       "      <td>15.965493</td>\n",
       "      <td>-500.537624</td>\n",
       "      <td>10.004768</td>\n",
       "      <td>-500.178703</td>\n",
       "      <td>14.985647</td>\n",
       "      <td>-499.120826</td>\n",
       "      <td>52.348749</td>\n",
       "      <td>77.222621</td>\n",
       "      <td>0.0</td>\n",
       "    </tr>\n",
       "    <tr>\n",
       "      <th>11940</th>\n",
       "      <td>2017-08-12 03:59:59</td>\n",
       "      <td>0.0</td>\n",
       "      <td>0.0</td>\n",
       "      <td>0.0</td>\n",
       "      <td>0.0</td>\n",
       "      <td>0.0</td>\n",
       "      <td>6.296368</td>\n",
       "      <td>2.933790</td>\n",
       "      <td>9.373527</td>\n",
       "      <td>4.489584</td>\n",
       "      <td>...</td>\n",
       "      <td>-400.065716</td>\n",
       "      <td>11.974298</td>\n",
       "      <td>-499.083691</td>\n",
       "      <td>9.970505</td>\n",
       "      <td>-499.761608</td>\n",
       "      <td>15.009898</td>\n",
       "      <td>-499.872109</td>\n",
       "      <td>46.635418</td>\n",
       "      <td>65.818944</td>\n",
       "      <td>0.0</td>\n",
       "    </tr>\n",
       "    <tr>\n",
       "      <th>12460</th>\n",
       "      <td>2017-09-07 22:59:59</td>\n",
       "      <td>0.0</td>\n",
       "      <td>0.0</td>\n",
       "      <td>0.0</td>\n",
       "      <td>0.0</td>\n",
       "      <td>0.0</td>\n",
       "      <td>0.718060</td>\n",
       "      <td>0.350234</td>\n",
       "      <td>1.068426</td>\n",
       "      <td>0.327933</td>\n",
       "      <td>...</td>\n",
       "      <td>-400.133961</td>\n",
       "      <td>13.976275</td>\n",
       "      <td>-500.717160</td>\n",
       "      <td>10.836718</td>\n",
       "      <td>-499.947161</td>\n",
       "      <td>14.961842</td>\n",
       "      <td>-499.197240</td>\n",
       "      <td>56.912723</td>\n",
       "      <td>74.334780</td>\n",
       "      <td>0.0</td>\n",
       "    </tr>\n",
       "    <tr>\n",
       "      <th>12478</th>\n",
       "      <td>2017-09-08 16:59:59</td>\n",
       "      <td>0.0</td>\n",
       "      <td>0.0</td>\n",
       "      <td>0.0</td>\n",
       "      <td>0.0</td>\n",
       "      <td>0.0</td>\n",
       "      <td>6.605623</td>\n",
       "      <td>3.625661</td>\n",
       "      <td>10.782848</td>\n",
       "      <td>2.497266</td>\n",
       "      <td>...</td>\n",
       "      <td>-400.106014</td>\n",
       "      <td>14.009930</td>\n",
       "      <td>-499.491149</td>\n",
       "      <td>8.783444</td>\n",
       "      <td>-499.742589</td>\n",
       "      <td>15.002190</td>\n",
       "      <td>-499.417604</td>\n",
       "      <td>55.171761</td>\n",
       "      <td>74.011184</td>\n",
       "      <td>0.0</td>\n",
       "    </tr>\n",
       "    <tr>\n",
       "      <th>12546</th>\n",
       "      <td>2017-09-11 12:59:59</td>\n",
       "      <td>0.0</td>\n",
       "      <td>0.0</td>\n",
       "      <td>0.0</td>\n",
       "      <td>0.0</td>\n",
       "      <td>0.0</td>\n",
       "      <td>6.077251</td>\n",
       "      <td>3.264078</td>\n",
       "      <td>13.535119</td>\n",
       "      <td>2.501891</td>\n",
       "      <td>...</td>\n",
       "      <td>-409.260856</td>\n",
       "      <td>10.003464</td>\n",
       "      <td>-498.977630</td>\n",
       "      <td>7.987446</td>\n",
       "      <td>-499.831928</td>\n",
       "      <td>11.018036</td>\n",
       "      <td>-500.079273</td>\n",
       "      <td>59.346515</td>\n",
       "      <td>71.736736</td>\n",
       "      <td>0.0</td>\n",
       "    </tr>\n",
       "    <tr>\n",
       "      <th>12547</th>\n",
       "      <td>2017-09-11 13:59:59</td>\n",
       "      <td>0.0</td>\n",
       "      <td>0.0</td>\n",
       "      <td>0.0</td>\n",
       "      <td>0.0</td>\n",
       "      <td>0.0</td>\n",
       "      <td>6.028246</td>\n",
       "      <td>3.225371</td>\n",
       "      <td>13.678907</td>\n",
       "      <td>2.596022</td>\n",
       "      <td>...</td>\n",
       "      <td>-412.393492</td>\n",
       "      <td>9.989396</td>\n",
       "      <td>-499.130121</td>\n",
       "      <td>8.025679</td>\n",
       "      <td>-499.922578</td>\n",
       "      <td>11.014303</td>\n",
       "      <td>-497.950309</td>\n",
       "      <td>60.425088</td>\n",
       "      <td>72.091595</td>\n",
       "      <td>0.0</td>\n",
       "    </tr>\n",
       "    <tr>\n",
       "      <th>12896</th>\n",
       "      <td>2017-09-26 13:59:59</td>\n",
       "      <td>0.0</td>\n",
       "      <td>0.0</td>\n",
       "      <td>0.0</td>\n",
       "      <td>0.0</td>\n",
       "      <td>0.0</td>\n",
       "      <td>5.638340</td>\n",
       "      <td>2.969121</td>\n",
       "      <td>9.320527</td>\n",
       "      <td>4.436522</td>\n",
       "      <td>...</td>\n",
       "      <td>-399.292911</td>\n",
       "      <td>10.929864</td>\n",
       "      <td>-501.886353</td>\n",
       "      <td>8.989974</td>\n",
       "      <td>-499.981361</td>\n",
       "      <td>11.996606</td>\n",
       "      <td>-529.086417</td>\n",
       "      <td>57.533834</td>\n",
       "      <td>73.652118</td>\n",
       "      <td>0.0</td>\n",
       "    </tr>\n",
       "    <tr>\n",
       "      <th>13131</th>\n",
       "      <td>2017-10-07 05:59:59</td>\n",
       "      <td>0.0</td>\n",
       "      <td>0.0</td>\n",
       "      <td>0.0</td>\n",
       "      <td>0.0</td>\n",
       "      <td>0.0</td>\n",
       "      <td>0.146983</td>\n",
       "      <td>0.065341</td>\n",
       "      <td>0.170177</td>\n",
       "      <td>0.066267</td>\n",
       "      <td>...</td>\n",
       "      <td>-399.287140</td>\n",
       "      <td>11.959596</td>\n",
       "      <td>-497.962637</td>\n",
       "      <td>8.985116</td>\n",
       "      <td>-499.793704</td>\n",
       "      <td>13.002515</td>\n",
       "      <td>-498.584771</td>\n",
       "      <td>57.445736</td>\n",
       "      <td>70.333726</td>\n",
       "      <td>0.0</td>\n",
       "    </tr>\n",
       "    <tr>\n",
       "      <th>13274</th>\n",
       "      <td>2017-10-13 13:59:59</td>\n",
       "      <td>0.0</td>\n",
       "      <td>0.0</td>\n",
       "      <td>0.0</td>\n",
       "      <td>0.0</td>\n",
       "      <td>0.0</td>\n",
       "      <td>6.926711</td>\n",
       "      <td>3.089169</td>\n",
       "      <td>8.525328</td>\n",
       "      <td>2.632344</td>\n",
       "      <td>...</td>\n",
       "      <td>-399.213499</td>\n",
       "      <td>12.945032</td>\n",
       "      <td>-494.955276</td>\n",
       "      <td>10.001027</td>\n",
       "      <td>-499.591320</td>\n",
       "      <td>14.000650</td>\n",
       "      <td>-498.537977</td>\n",
       "      <td>49.538076</td>\n",
       "      <td>71.447262</td>\n",
       "      <td>0.0</td>\n",
       "    </tr>\n",
       "    <tr>\n",
       "      <th>13438</th>\n",
       "      <td>2017-10-21 02:59:59</td>\n",
       "      <td>0.0</td>\n",
       "      <td>0.0</td>\n",
       "      <td>0.0</td>\n",
       "      <td>0.0</td>\n",
       "      <td>0.0</td>\n",
       "      <td>11.513839</td>\n",
       "      <td>4.687094</td>\n",
       "      <td>12.369551</td>\n",
       "      <td>3.215022</td>\n",
       "      <td>...</td>\n",
       "      <td>-401.022944</td>\n",
       "      <td>14.957328</td>\n",
       "      <td>-502.434463</td>\n",
       "      <td>10.972131</td>\n",
       "      <td>-499.888689</td>\n",
       "      <td>16.008505</td>\n",
       "      <td>-499.900305</td>\n",
       "      <td>68.539454</td>\n",
       "      <td>76.183066</td>\n",
       "      <td>0.0</td>\n",
       "    </tr>\n",
       "    <tr>\n",
       "      <th>13439</th>\n",
       "      <td>2017-10-21 03:59:59</td>\n",
       "      <td>0.0</td>\n",
       "      <td>0.0</td>\n",
       "      <td>0.0</td>\n",
       "      <td>0.0</td>\n",
       "      <td>0.0</td>\n",
       "      <td>11.774449</td>\n",
       "      <td>5.487985</td>\n",
       "      <td>12.762771</td>\n",
       "      <td>4.945992</td>\n",
       "      <td>...</td>\n",
       "      <td>-400.217395</td>\n",
       "      <td>15.012764</td>\n",
       "      <td>-503.412115</td>\n",
       "      <td>10.982003</td>\n",
       "      <td>-500.082481</td>\n",
       "      <td>16.016800</td>\n",
       "      <td>-501.243170</td>\n",
       "      <td>68.215360</td>\n",
       "      <td>77.422548</td>\n",
       "      <td>0.0</td>\n",
       "    </tr>\n",
       "    <tr>\n",
       "      <th>13697</th>\n",
       "      <td>2017-11-01 11:59:59</td>\n",
       "      <td>0.0</td>\n",
       "      <td>0.0</td>\n",
       "      <td>0.0</td>\n",
       "      <td>0.0</td>\n",
       "      <td>0.0</td>\n",
       "      <td>12.160682</td>\n",
       "      <td>3.974037</td>\n",
       "      <td>12.111228</td>\n",
       "      <td>3.513866</td>\n",
       "      <td>...</td>\n",
       "      <td>-499.743487</td>\n",
       "      <td>14.987678</td>\n",
       "      <td>-499.887424</td>\n",
       "      <td>10.960099</td>\n",
       "      <td>-500.186276</td>\n",
       "      <td>15.984455</td>\n",
       "      <td>-500.491550</td>\n",
       "      <td>67.481515</td>\n",
       "      <td>70.541447</td>\n",
       "      <td>0.0</td>\n",
       "    </tr>\n",
       "    <tr>\n",
       "      <th>14082</th>\n",
       "      <td>2017-11-18 07:59:59</td>\n",
       "      <td>0.0</td>\n",
       "      <td>0.0</td>\n",
       "      <td>0.0</td>\n",
       "      <td>0.0</td>\n",
       "      <td>0.0</td>\n",
       "      <td>11.423987</td>\n",
       "      <td>4.729037</td>\n",
       "      <td>10.647109</td>\n",
       "      <td>4.624965</td>\n",
       "      <td>...</td>\n",
       "      <td>-499.159075</td>\n",
       "      <td>10.915912</td>\n",
       "      <td>-498.960600</td>\n",
       "      <td>8.974639</td>\n",
       "      <td>-499.773388</td>\n",
       "      <td>15.999072</td>\n",
       "      <td>-499.251085</td>\n",
       "      <td>66.995661</td>\n",
       "      <td>79.014051</td>\n",
       "      <td>0.0</td>\n",
       "    </tr>\n",
       "    <tr>\n",
       "      <th>14083</th>\n",
       "      <td>2017-11-18 08:59:59</td>\n",
       "      <td>0.0</td>\n",
       "      <td>0.0</td>\n",
       "      <td>0.0</td>\n",
       "      <td>0.0</td>\n",
       "      <td>0.0</td>\n",
       "      <td>11.332518</td>\n",
       "      <td>4.975763</td>\n",
       "      <td>11.236852</td>\n",
       "      <td>5.057902</td>\n",
       "      <td>...</td>\n",
       "      <td>-498.886685</td>\n",
       "      <td>10.938831</td>\n",
       "      <td>-500.803012</td>\n",
       "      <td>9.009462</td>\n",
       "      <td>-500.588748</td>\n",
       "      <td>15.992782</td>\n",
       "      <td>-500.181483</td>\n",
       "      <td>66.157124</td>\n",
       "      <td>77.248182</td>\n",
       "      <td>0.0</td>\n",
       "    </tr>\n",
       "    <tr>\n",
       "      <th>14359</th>\n",
       "      <td>2017-11-30 01:59:59</td>\n",
       "      <td>0.0</td>\n",
       "      <td>0.0</td>\n",
       "      <td>0.0</td>\n",
       "      <td>0.0</td>\n",
       "      <td>0.0</td>\n",
       "      <td>11.000914</td>\n",
       "      <td>3.078892</td>\n",
       "      <td>6.514871</td>\n",
       "      <td>5.964264</td>\n",
       "      <td>...</td>\n",
       "      <td>-479.367772</td>\n",
       "      <td>10.946650</td>\n",
       "      <td>-498.083096</td>\n",
       "      <td>8.935884</td>\n",
       "      <td>-495.181422</td>\n",
       "      <td>11.998238</td>\n",
       "      <td>-494.504277</td>\n",
       "      <td>64.136193</td>\n",
       "      <td>82.156401</td>\n",
       "      <td>0.0</td>\n",
       "    </tr>\n",
       "    <tr>\n",
       "      <th>14360</th>\n",
       "      <td>2017-11-30 02:59:59</td>\n",
       "      <td>0.0</td>\n",
       "      <td>0.0</td>\n",
       "      <td>0.0</td>\n",
       "      <td>0.0</td>\n",
       "      <td>0.0</td>\n",
       "      <td>10.773057</td>\n",
       "      <td>2.788020</td>\n",
       "      <td>10.943107</td>\n",
       "      <td>5.597470</td>\n",
       "      <td>...</td>\n",
       "      <td>-361.338836</td>\n",
       "      <td>11.033323</td>\n",
       "      <td>-411.774309</td>\n",
       "      <td>8.991549</td>\n",
       "      <td>-259.669885</td>\n",
       "      <td>12.001940</td>\n",
       "      <td>-294.817404</td>\n",
       "      <td>67.808006</td>\n",
       "      <td>78.428633</td>\n",
       "      <td>0.0</td>\n",
       "    </tr>\n",
       "    <tr>\n",
       "      <th>14736</th>\n",
       "      <td>2017-12-17 02:59:59</td>\n",
       "      <td>0.0</td>\n",
       "      <td>0.0</td>\n",
       "      <td>0.0</td>\n",
       "      <td>0.0</td>\n",
       "      <td>0.0</td>\n",
       "      <td>9.026329</td>\n",
       "      <td>1.724758</td>\n",
       "      <td>5.198960</td>\n",
       "      <td>3.192307</td>\n",
       "      <td>...</td>\n",
       "      <td>-242.757356</td>\n",
       "      <td>10.998073</td>\n",
       "      <td>-489.710247</td>\n",
       "      <td>7.991842</td>\n",
       "      <td>-470.664100</td>\n",
       "      <td>12.006419</td>\n",
       "      <td>-502.354004</td>\n",
       "      <td>45.737765</td>\n",
       "      <td>80.980052</td>\n",
       "      <td>0.0</td>\n",
       "    </tr>\n",
       "    <tr>\n",
       "      <th>14951</th>\n",
       "      <td>2017-12-26 19:59:59</td>\n",
       "      <td>0.0</td>\n",
       "      <td>0.0</td>\n",
       "      <td>0.0</td>\n",
       "      <td>0.0</td>\n",
       "      <td>0.0</td>\n",
       "      <td>13.586386</td>\n",
       "      <td>3.826177</td>\n",
       "      <td>7.220670</td>\n",
       "      <td>5.061847</td>\n",
       "      <td>...</td>\n",
       "      <td>-499.892176</td>\n",
       "      <td>10.923265</td>\n",
       "      <td>-496.073855</td>\n",
       "      <td>9.052940</td>\n",
       "      <td>-499.780110</td>\n",
       "      <td>11.998058</td>\n",
       "      <td>-498.700110</td>\n",
       "      <td>70.195851</td>\n",
       "      <td>74.356346</td>\n",
       "      <td>0.0</td>\n",
       "    </tr>\n",
       "    <tr>\n",
       "      <th>14952</th>\n",
       "      <td>2017-12-26 20:59:59</td>\n",
       "      <td>0.0</td>\n",
       "      <td>0.0</td>\n",
       "      <td>0.0</td>\n",
       "      <td>0.0</td>\n",
       "      <td>0.0</td>\n",
       "      <td>14.250211</td>\n",
       "      <td>3.742211</td>\n",
       "      <td>11.051013</td>\n",
       "      <td>4.291648</td>\n",
       "      <td>...</td>\n",
       "      <td>-498.024756</td>\n",
       "      <td>10.962281</td>\n",
       "      <td>-498.858810</td>\n",
       "      <td>9.015296</td>\n",
       "      <td>-500.349342</td>\n",
       "      <td>12.020402</td>\n",
       "      <td>-500.137799</td>\n",
       "      <td>69.677719</td>\n",
       "      <td>69.414486</td>\n",
       "      <td>0.0</td>\n",
       "    </tr>\n",
       "    <tr>\n",
       "      <th>15310</th>\n",
       "      <td>2018-01-25 10:59:59</td>\n",
       "      <td>0.0</td>\n",
       "      <td>0.0</td>\n",
       "      <td>0.0</td>\n",
       "      <td>0.0</td>\n",
       "      <td>0.0</td>\n",
       "      <td>2.444457</td>\n",
       "      <td>0.612787</td>\n",
       "      <td>1.751687</td>\n",
       "      <td>1.210944</td>\n",
       "      <td>...</td>\n",
       "      <td>-500.207051</td>\n",
       "      <td>10.929622</td>\n",
       "      <td>-499.380783</td>\n",
       "      <td>9.016132</td>\n",
       "      <td>-500.127563</td>\n",
       "      <td>10.996343</td>\n",
       "      <td>-500.089294</td>\n",
       "      <td>33.929636</td>\n",
       "      <td>49.797341</td>\n",
       "      <td>0.0</td>\n",
       "    </tr>\n",
       "  </tbody>\n",
       "</table>\n",
       "<p>58 rows × 90 columns</p>\n",
       "</div>"
      ],
      "text/plain": [
       "                      date  final.output.concentrate_ag  \\\n",
       "644    2016-02-13 11:00:00                          0.0   \n",
       "1193   2016-03-11 10:00:00                          0.0   \n",
       "1194   2016-03-11 11:00:00                          0.0   \n",
       "1195   2016-03-11 12:00:00                          0.0   \n",
       "1196   2016-03-11 13:00:00                          0.0   \n",
       "1682   2016-04-09 17:00:00                          0.0   \n",
       "2019   2016-05-01 23:59:59                          0.0   \n",
       "2020   2016-05-02 00:59:59                          0.0   \n",
       "2236   2016-05-11 01:59:59                          0.0   \n",
       "4215   2016-08-11 20:59:59                          0.0   \n",
       "4314   2016-08-15 23:59:59                          0.0   \n",
       "4564   2016-08-26 20:59:59                          0.0   \n",
       "4653   2016-08-30 19:59:59                          0.0   \n",
       "5151   2016-09-29 14:59:59                          0.0   \n",
       "6327   2016-11-19 15:59:59                          0.0   \n",
       "7342   2017-01-02 16:59:59                          0.0   \n",
       "7343   2017-01-02 17:59:59                          0.0   \n",
       "7344   2017-01-02 18:59:59                          0.0   \n",
       "7586   2017-01-18 14:59:59                          0.0   \n",
       "7587   2017-01-18 15:59:59                          0.0   \n",
       "7759   2017-01-26 09:59:59                          0.0   \n",
       "7760   2017-01-26 10:59:59                          0.0   \n",
       "8404   2017-02-24 03:59:59                          0.0   \n",
       "8636   2017-03-06 17:59:59                          0.0   \n",
       "8637   2017-03-06 18:59:59                          0.0   \n",
       "8638   2017-03-06 19:59:59                          0.0   \n",
       "8639   2017-03-06 20:59:59                          0.0   \n",
       "9050   2017-03-28 02:59:59                          0.0   \n",
       "9670   2017-04-23 15:59:59                          0.0   \n",
       "9671   2017-04-23 16:59:59                          0.0   \n",
       "9672   2017-04-23 17:59:59                          0.0   \n",
       "9673   2017-04-23 18:59:59                          0.0   \n",
       "9674   2017-04-23 19:59:59                          0.0   \n",
       "10138  2017-05-20 22:59:59                          0.0   \n",
       "10139  2017-05-20 23:59:59                          0.0   \n",
       "10176  2017-05-23 19:59:59                          0.0   \n",
       "11518  2017-07-24 13:59:59                          0.0   \n",
       "11539  2017-07-26 03:59:59                          0.0   \n",
       "11540  2017-07-26 04:59:59                          0.0   \n",
       "11940  2017-08-12 03:59:59                          0.0   \n",
       "12460  2017-09-07 22:59:59                          0.0   \n",
       "12478  2017-09-08 16:59:59                          0.0   \n",
       "12546  2017-09-11 12:59:59                          0.0   \n",
       "12547  2017-09-11 13:59:59                          0.0   \n",
       "12896  2017-09-26 13:59:59                          0.0   \n",
       "13131  2017-10-07 05:59:59                          0.0   \n",
       "13274  2017-10-13 13:59:59                          0.0   \n",
       "13438  2017-10-21 02:59:59                          0.0   \n",
       "13439  2017-10-21 03:59:59                          0.0   \n",
       "13697  2017-11-01 11:59:59                          0.0   \n",
       "14082  2017-11-18 07:59:59                          0.0   \n",
       "14083  2017-11-18 08:59:59                          0.0   \n",
       "14359  2017-11-30 01:59:59                          0.0   \n",
       "14360  2017-11-30 02:59:59                          0.0   \n",
       "14736  2017-12-17 02:59:59                          0.0   \n",
       "14951  2017-12-26 19:59:59                          0.0   \n",
       "14952  2017-12-26 20:59:59                          0.0   \n",
       "15310  2018-01-25 10:59:59                          0.0   \n",
       "\n",
       "       final.output.concentrate_pb  final.output.concentrate_sol  \\\n",
       "644                            0.0                           0.0   \n",
       "1193                           0.0                           0.0   \n",
       "1194                           0.0                           0.0   \n",
       "1195                           0.0                           0.0   \n",
       "1196                           0.0                           0.0   \n",
       "1682                           0.0                           0.0   \n",
       "2019                           0.0                           0.0   \n",
       "2020                           0.0                           0.0   \n",
       "2236                           0.0                           0.0   \n",
       "4215                           0.0                           0.0   \n",
       "4314                           0.0                           0.0   \n",
       "4564                           0.0                           0.0   \n",
       "4653                           0.0                           0.0   \n",
       "5151                           0.0                           0.0   \n",
       "6327                           0.0                           0.0   \n",
       "7342                           0.0                           0.0   \n",
       "7343                           0.0                           0.0   \n",
       "7344                           0.0                           0.0   \n",
       "7586                           0.0                           0.0   \n",
       "7587                           0.0                           0.0   \n",
       "7759                           0.0                           0.0   \n",
       "7760                           0.0                           0.0   \n",
       "8404                           0.0                           0.0   \n",
       "8636                           0.0                           0.0   \n",
       "8637                           0.0                           0.0   \n",
       "8638                           0.0                           0.0   \n",
       "8639                           0.0                           0.0   \n",
       "9050                           0.0                           0.0   \n",
       "9670                           0.0                           0.0   \n",
       "9671                           0.0                           0.0   \n",
       "9672                           0.0                           0.0   \n",
       "9673                           0.0                           0.0   \n",
       "9674                           0.0                           0.0   \n",
       "10138                          0.0                           0.0   \n",
       "10139                          0.0                           0.0   \n",
       "10176                          0.0                           0.0   \n",
       "11518                          0.0                           0.0   \n",
       "11539                          0.0                           0.0   \n",
       "11540                          0.0                           0.0   \n",
       "11940                          0.0                           0.0   \n",
       "12460                          0.0                           0.0   \n",
       "12478                          0.0                           0.0   \n",
       "12546                          0.0                           0.0   \n",
       "12547                          0.0                           0.0   \n",
       "12896                          0.0                           0.0   \n",
       "13131                          0.0                           0.0   \n",
       "13274                          0.0                           0.0   \n",
       "13438                          0.0                           0.0   \n",
       "13439                          0.0                           0.0   \n",
       "13697                          0.0                           0.0   \n",
       "14082                          0.0                           0.0   \n",
       "14083                          0.0                           0.0   \n",
       "14359                          0.0                           0.0   \n",
       "14360                          0.0                           0.0   \n",
       "14736                          0.0                           0.0   \n",
       "14951                          0.0                           0.0   \n",
       "14952                          0.0                           0.0   \n",
       "15310                          0.0                           0.0   \n",
       "\n",
       "       final.output.concentrate_au  final.output.recovery  \\\n",
       "644                            0.0                    0.0   \n",
       "1193                           0.0                    0.0   \n",
       "1194                           0.0                    0.0   \n",
       "1195                           0.0                    0.0   \n",
       "1196                           0.0                    0.0   \n",
       "1682                           0.0                    0.0   \n",
       "2019                           0.0                    0.0   \n",
       "2020                           0.0                    0.0   \n",
       "2236                           0.0                    0.0   \n",
       "4215                           0.0                    0.0   \n",
       "4314                           0.0                    0.0   \n",
       "4564                           0.0                    0.0   \n",
       "4653                           0.0                    0.0   \n",
       "5151                           0.0                    0.0   \n",
       "6327                           0.0                    0.0   \n",
       "7342                           0.0                    0.0   \n",
       "7343                           0.0                    0.0   \n",
       "7344                           0.0                    0.0   \n",
       "7586                           0.0                    0.0   \n",
       "7587                           0.0                    0.0   \n",
       "7759                           0.0                    0.0   \n",
       "7760                           0.0                    0.0   \n",
       "8404                           0.0                    0.0   \n",
       "8636                           0.0                    0.0   \n",
       "8637                           0.0                    0.0   \n",
       "8638                           0.0                    0.0   \n",
       "8639                           0.0                    0.0   \n",
       "9050                           0.0                    0.0   \n",
       "9670                           0.0                    0.0   \n",
       "9671                           0.0                    0.0   \n",
       "9672                           0.0                    0.0   \n",
       "9673                           0.0                    0.0   \n",
       "9674                           0.0                    0.0   \n",
       "10138                          0.0                    0.0   \n",
       "10139                          0.0                    0.0   \n",
       "10176                          0.0                    0.0   \n",
       "11518                          0.0                    0.0   \n",
       "11539                          0.0                    0.0   \n",
       "11540                          0.0                    0.0   \n",
       "11940                          0.0                    0.0   \n",
       "12460                          0.0                    0.0   \n",
       "12478                          0.0                    0.0   \n",
       "12546                          0.0                    0.0   \n",
       "12547                          0.0                    0.0   \n",
       "12896                          0.0                    0.0   \n",
       "13131                          0.0                    0.0   \n",
       "13274                          0.0                    0.0   \n",
       "13438                          0.0                    0.0   \n",
       "13439                          0.0                    0.0   \n",
       "13697                          0.0                    0.0   \n",
       "14082                          0.0                    0.0   \n",
       "14083                          0.0                    0.0   \n",
       "14359                          0.0                    0.0   \n",
       "14360                          0.0                    0.0   \n",
       "14736                          0.0                    0.0   \n",
       "14951                          0.0                    0.0   \n",
       "14952                          0.0                    0.0   \n",
       "15310                          0.0                    0.0   \n",
       "\n",
       "       final.output.tail_ag  final.output.tail_pb  final.output.tail_sol  \\\n",
       "644                8.894029              0.843584              15.417342   \n",
       "1193              10.817313              1.462800              16.407607   \n",
       "1194              10.436792              1.207636              17.800392   \n",
       "1195              10.637073              1.405778              17.195897   \n",
       "1196              10.530320              1.461550              17.556860   \n",
       "1682               2.943613              1.089791               4.050067   \n",
       "2019               2.229996              0.439314               2.996147   \n",
       "2020               8.816376              1.692314              12.001629   \n",
       "2236               7.567252              1.991327              12.977099   \n",
       "4215               1.353362              0.470696               1.235183   \n",
       "4314              10.796039              2.582106              11.105074   \n",
       "4564               3.697301              1.378608               3.952049   \n",
       "4653               7.950315              3.216058               3.705181   \n",
       "5151               8.462242              2.429954               8.126488   \n",
       "6327               5.078235              1.146228               5.171265   \n",
       "7342              10.512889              1.950646              11.188996   \n",
       "7343               9.955941              1.935196              11.133852   \n",
       "7344              10.106171              1.712132              11.092376   \n",
       "7586               7.804423              3.130217               5.586386   \n",
       "7587               4.990116              2.905931               5.256589   \n",
       "7759              10.617218              2.747829               9.417774   \n",
       "7760              10.864712              2.841514               9.153641   \n",
       "8404               1.764912              0.620707               1.132730   \n",
       "8636               8.788438              2.970928               7.091474   \n",
       "8637               8.865775              2.954853               7.439434   \n",
       "8638               8.499353              2.827313               8.296913   \n",
       "8639               8.168545              2.779809               8.939608   \n",
       "9050               6.052901              1.855451               6.201678   \n",
       "9670               8.156377              2.846728              11.214544   \n",
       "9671               8.128279              2.836579              10.817374   \n",
       "9672               8.103931              2.747705              10.788530   \n",
       "9673               8.304655              2.890794              11.387238   \n",
       "9674               8.326885              3.056401              10.965152   \n",
       "10138              8.498030              3.997512               7.064919   \n",
       "10139              5.853507              2.566240               5.372024   \n",
       "10176              6.045862              2.572548               5.979258   \n",
       "11518              7.685263              2.708151              10.191240   \n",
       "11539              7.074876              3.211672              11.439958   \n",
       "11540              6.928070              3.158062              11.352802   \n",
       "11940              6.296368              2.933790               9.373527   \n",
       "12460              0.718060              0.350234               1.068426   \n",
       "12478              6.605623              3.625661              10.782848   \n",
       "12546              6.077251              3.264078              13.535119   \n",
       "12547              6.028246              3.225371              13.678907   \n",
       "12896              5.638340              2.969121               9.320527   \n",
       "13131              0.146983              0.065341               0.170177   \n",
       "13274              6.926711              3.089169               8.525328   \n",
       "13438             11.513839              4.687094              12.369551   \n",
       "13439             11.774449              5.487985              12.762771   \n",
       "13697             12.160682              3.974037              12.111228   \n",
       "14082             11.423987              4.729037              10.647109   \n",
       "14083             11.332518              4.975763              11.236852   \n",
       "14359             11.000914              3.078892               6.514871   \n",
       "14360             10.773057              2.788020              10.943107   \n",
       "14736              9.026329              1.724758               5.198960   \n",
       "14951             13.586386              3.826177               7.220670   \n",
       "14952             14.250211              3.742211              11.051013   \n",
       "15310              2.444457              0.612787               1.751687   \n",
       "\n",
       "       final.output.tail_au  ...  secondary_cleaner.state.floatbank4_b_level  \\\n",
       "644                1.779052  ...                                 -401.366408   \n",
       "1193               2.984504  ...                                 -450.179844   \n",
       "1194               2.747294  ...                                 -449.684812   \n",
       "1195               2.791440  ...                                 -496.908551   \n",
       "1196               2.682127  ...                                 -500.162537   \n",
       "1682               2.443084  ...                                 -472.304428   \n",
       "2019               1.049438  ...                                 -502.673001   \n",
       "2020               3.949153  ...                                 -502.405376   \n",
       "2236               3.170143  ...                                 -500.180957   \n",
       "4215               1.021143  ...                                 -402.711177   \n",
       "4314               3.231677  ...                                 -399.585744   \n",
       "4564               2.579844  ...                                 -499.963654   \n",
       "4653               4.844750  ...                                 -500.107624   \n",
       "5151               5.212311  ...                                 -499.981219   \n",
       "6327               1.392338  ...                                 -461.804543   \n",
       "7342               2.508362  ...                                 -473.509616   \n",
       "7343               2.797546  ...                                 -497.866523   \n",
       "7344               2.385774  ...                                 -499.649898   \n",
       "7586               3.420555  ...                                 -500.025438   \n",
       "7587               4.213483  ...                                 -499.556599   \n",
       "7759               2.990722  ...                                 -499.762327   \n",
       "7760               3.115444  ...                                 -499.684250   \n",
       "8404               0.619892  ...                                 -400.510308   \n",
       "8636               3.440660  ...                                 -399.946201   \n",
       "8637               3.476479  ...                                 -399.595670   \n",
       "8638               3.443548  ...                                 -400.448353   \n",
       "8639               3.451607  ...                                 -399.882444   \n",
       "9050               2.423505  ...                                 -399.868919   \n",
       "9670               2.668218  ...                                 -400.035835   \n",
       "9671               2.557334  ...                                 -399.401191   \n",
       "9672               2.550075  ...                                 -400.788116   \n",
       "9673               2.746293  ...                                 -399.623048   \n",
       "9674               2.801452  ...                                 -399.950198   \n",
       "10138              6.578668  ...                                 -500.978538   \n",
       "10139              4.083495  ...                                 -499.643782   \n",
       "10176              3.673219  ...                                 -503.847471   \n",
       "11518              2.301790  ...                                 -799.889113   \n",
       "11539              3.660732  ...                                 -380.153762   \n",
       "11540              3.485946  ...                                 -379.989325   \n",
       "11940              4.489584  ...                                 -400.065716   \n",
       "12460              0.327933  ...                                 -400.133961   \n",
       "12478              2.497266  ...                                 -400.106014   \n",
       "12546              2.501891  ...                                 -409.260856   \n",
       "12547              2.596022  ...                                 -412.393492   \n",
       "12896              4.436522  ...                                 -399.292911   \n",
       "13131              0.066267  ...                                 -399.287140   \n",
       "13274              2.632344  ...                                 -399.213499   \n",
       "13438              3.215022  ...                                 -401.022944   \n",
       "13439              4.945992  ...                                 -400.217395   \n",
       "13697              3.513866  ...                                 -499.743487   \n",
       "14082              4.624965  ...                                 -499.159075   \n",
       "14083              5.057902  ...                                 -498.886685   \n",
       "14359              5.964264  ...                                 -479.367772   \n",
       "14360              5.597470  ...                                 -361.338836   \n",
       "14736              3.192307  ...                                 -242.757356   \n",
       "14951              5.061847  ...                                 -499.892176   \n",
       "14952              4.291648  ...                                 -498.024756   \n",
       "15310              1.210944  ...                                 -500.207051   \n",
       "\n",
       "       secondary_cleaner.state.floatbank5_a_air  \\\n",
       "644                                   22.995012   \n",
       "1193                                  11.982937   \n",
       "1194                                  11.844983   \n",
       "1195                                  12.091144   \n",
       "1196                                  12.078809   \n",
       "1682                                  12.012947   \n",
       "2019                                   8.851882   \n",
       "2020                                   8.972976   \n",
       "2236                                  11.025995   \n",
       "4215                                   9.137868   \n",
       "4314                                  15.086155   \n",
       "4564                                   9.913467   \n",
       "4653                                   8.075202   \n",
       "5151                                   9.973910   \n",
       "6327                                  15.766758   \n",
       "7342                                  17.395327   \n",
       "7343                                  17.070479   \n",
       "7344                                  17.173301   \n",
       "7586                                  -0.178880   \n",
       "7587                                  -0.173919   \n",
       "7759                                  22.977603   \n",
       "7760                                  23.013882   \n",
       "8404                                  23.023228   \n",
       "8636                                  23.636238   \n",
       "8637                                  23.654748   \n",
       "8638                                  23.673025   \n",
       "8639                                  23.734240   \n",
       "9050                                  29.144954   \n",
       "9670                                  26.034525   \n",
       "9671                                  26.003582   \n",
       "9672                                  25.986338   \n",
       "9673                                  25.985947   \n",
       "9674                                  26.026115   \n",
       "10138                                 11.005697   \n",
       "10139                                 10.933236   \n",
       "10176                                 26.000855   \n",
       "11518                                 12.027372   \n",
       "11539                                 16.030213   \n",
       "11540                                 15.965493   \n",
       "11940                                 11.974298   \n",
       "12460                                 13.976275   \n",
       "12478                                 14.009930   \n",
       "12546                                 10.003464   \n",
       "12547                                  9.989396   \n",
       "12896                                 10.929864   \n",
       "13131                                 11.959596   \n",
       "13274                                 12.945032   \n",
       "13438                                 14.957328   \n",
       "13439                                 15.012764   \n",
       "13697                                 14.987678   \n",
       "14082                                 10.915912   \n",
       "14083                                 10.938831   \n",
       "14359                                 10.946650   \n",
       "14360                                 11.033323   \n",
       "14736                                 10.998073   \n",
       "14951                                 10.923265   \n",
       "14952                                 10.962281   \n",
       "15310                                 10.929622   \n",
       "\n",
       "       secondary_cleaner.state.floatbank5_a_level  \\\n",
       "644                                   -399.370680   \n",
       "1193                                  -449.856468   \n",
       "1194                                  -450.881424   \n",
       "1195                                  -496.404140   \n",
       "1196                                  -499.903743   \n",
       "1682                                  -498.936345   \n",
       "2019                                  -503.279765   \n",
       "2020                                  -498.876974   \n",
       "2236                                  -501.002632   \n",
       "4215                                  -419.643823   \n",
       "4314                                  -396.783371   \n",
       "4564                                  -501.698056   \n",
       "4653                                  -499.957983   \n",
       "5151                                  -623.338390   \n",
       "6327                                  -499.518491   \n",
       "7342                                  -499.938041   \n",
       "7343                                  -496.127166   \n",
       "7344                                  -504.678878   \n",
       "7586                                  -491.880038   \n",
       "7587                                  -446.036106   \n",
       "7759                                  -499.840145   \n",
       "7760                                  -499.773163   \n",
       "8404                                  -451.347752   \n",
       "8636                                  -450.648239   \n",
       "8637                                  -449.556038   \n",
       "8638                                  -449.945883   \n",
       "8639                                  -450.039391   \n",
       "9050                                  -449.497572   \n",
       "9670                                  -450.185761   \n",
       "9671                                  -449.323595   \n",
       "9672                                  -451.070811   \n",
       "9673                                  -450.184325   \n",
       "9674                                  -449.768130   \n",
       "10138                                 -499.659386   \n",
       "10139                                 -501.259343   \n",
       "10176                                 -499.736015   \n",
       "11518                                 -493.246532   \n",
       "11539                                 -500.482032   \n",
       "11540                                 -500.537624   \n",
       "11940                                 -499.083691   \n",
       "12460                                 -500.717160   \n",
       "12478                                 -499.491149   \n",
       "12546                                 -498.977630   \n",
       "12547                                 -499.130121   \n",
       "12896                                 -501.886353   \n",
       "13131                                 -497.962637   \n",
       "13274                                 -494.955276   \n",
       "13438                                 -502.434463   \n",
       "13439                                 -503.412115   \n",
       "13697                                 -499.887424   \n",
       "14082                                 -498.960600   \n",
       "14083                                 -500.803012   \n",
       "14359                                 -498.083096   \n",
       "14360                                 -411.774309   \n",
       "14736                                 -489.710247   \n",
       "14951                                 -496.073855   \n",
       "14952                                 -498.858810   \n",
       "15310                                 -499.380783   \n",
       "\n",
       "       secondary_cleaner.state.floatbank5_b_air  \\\n",
       "644                                   20.966863   \n",
       "1193                                   9.927727   \n",
       "1194                                   9.916784   \n",
       "1195                                   9.976074   \n",
       "1196                                  10.075259   \n",
       "1682                                   9.989854   \n",
       "2019                                   9.037939   \n",
       "2020                                   9.070907   \n",
       "2236                                   6.093285   \n",
       "4215                                   4.933871   \n",
       "4314                                   4.961631   \n",
       "4564                                   5.011314   \n",
       "4653                                   4.897192   \n",
       "5151                                   5.004010   \n",
       "6327                                   9.370660   \n",
       "7342                                   8.054456   \n",
       "7343                                   8.045207   \n",
       "7344                                   8.077081   \n",
       "7586                                   8.035219   \n",
       "7587                                   3.145675   \n",
       "7759                                  20.017758   \n",
       "7760                                  19.981647   \n",
       "8404                                  20.007511   \n",
       "8636                                  19.957525   \n",
       "8637                                  20.001880   \n",
       "8638                                  20.014044   \n",
       "8639                                  20.002802   \n",
       "9050                                  24.036333   \n",
       "9670                                  24.013252   \n",
       "9671                                  24.009039   \n",
       "9672                                  23.997589   \n",
       "9673                                  24.023299   \n",
       "9674                                  24.007241   \n",
       "10138                                  9.986170   \n",
       "10139                                  9.964885   \n",
       "10176                                 23.934192   \n",
       "11518                                  7.672037   \n",
       "11539                                 10.001274   \n",
       "11540                                 10.004768   \n",
       "11940                                  9.970505   \n",
       "12460                                 10.836718   \n",
       "12478                                  8.783444   \n",
       "12546                                  7.987446   \n",
       "12547                                  8.025679   \n",
       "12896                                  8.989974   \n",
       "13131                                  8.985116   \n",
       "13274                                 10.001027   \n",
       "13438                                 10.972131   \n",
       "13439                                 10.982003   \n",
       "13697                                 10.960099   \n",
       "14082                                  8.974639   \n",
       "14083                                  9.009462   \n",
       "14359                                  8.935884   \n",
       "14360                                  8.991549   \n",
       "14736                                  7.991842   \n",
       "14951                                  9.052940   \n",
       "14952                                  9.015296   \n",
       "15310                                  9.016132   \n",
       "\n",
       "       secondary_cleaner.state.floatbank5_b_level  \\\n",
       "644                                   -399.308354   \n",
       "1193                                  -450.521700   \n",
       "1194                                  -449.542871   \n",
       "1195                                  -496.783155   \n",
       "1196                                  -499.540325   \n",
       "1682                                  -800.001639   \n",
       "2019                                  -500.400661   \n",
       "2020                                  -499.455708   \n",
       "2236                                  -500.452445   \n",
       "4215                                  -402.132394   \n",
       "4314                                  -400.638627   \n",
       "4564                                  -500.390274   \n",
       "4653                                  -500.423686   \n",
       "5151                                  -499.989059   \n",
       "6327                                  -495.470797   \n",
       "7342                                  -500.574345   \n",
       "7343                                  -470.953271   \n",
       "7344                                  -484.275794   \n",
       "7586                                  -481.808531   \n",
       "7587                                  -240.872031   \n",
       "7759                                  -499.845860   \n",
       "7760                                  -500.137454   \n",
       "8404                                  -450.038643   \n",
       "8636                                  -449.878949   \n",
       "8637                                  -449.899258   \n",
       "8638                                  -449.745174   \n",
       "8639                                  -450.185386   \n",
       "9050                                  -450.062637   \n",
       "9670                                  -450.093931   \n",
       "9671                                  -449.969615   \n",
       "9672                                  -449.992990   \n",
       "9673                                  -450.107963   \n",
       "9674                                  -450.263454   \n",
       "10138                                 -500.117621   \n",
       "10139                                 -499.773254   \n",
       "10176                                 -499.760094   \n",
       "11518                                 -497.898119   \n",
       "11539                                 -500.142881   \n",
       "11540                                 -500.178703   \n",
       "11940                                 -499.761608   \n",
       "12460                                 -499.947161   \n",
       "12478                                 -499.742589   \n",
       "12546                                 -499.831928   \n",
       "12547                                 -499.922578   \n",
       "12896                                 -499.981361   \n",
       "13131                                 -499.793704   \n",
       "13274                                 -499.591320   \n",
       "13438                                 -499.888689   \n",
       "13439                                 -500.082481   \n",
       "13697                                 -500.186276   \n",
       "14082                                 -499.773388   \n",
       "14083                                 -500.588748   \n",
       "14359                                 -495.181422   \n",
       "14360                                 -259.669885   \n",
       "14736                                 -470.664100   \n",
       "14951                                 -499.780110   \n",
       "14952                                 -500.349342   \n",
       "15310                                 -500.127563   \n",
       "\n",
       "       secondary_cleaner.state.floatbank6_a_air  \\\n",
       "644                                   24.987274   \n",
       "1193                                  19.971682   \n",
       "1194                                  20.004767   \n",
       "1195                                  19.921634   \n",
       "1196                                  20.039788   \n",
       "1682                                  19.960963   \n",
       "2019                                  15.999356   \n",
       "2020                                  16.026009   \n",
       "2236                                  20.023462   \n",
       "4215                                  23.005263   \n",
       "4314                                  23.037383   \n",
       "4564                                  24.919704   \n",
       "4653                                  30.958862   \n",
       "5151                                  19.980656   \n",
       "6327                                   4.994278   \n",
       "7342                                  19.972880   \n",
       "7343                                  20.014482   \n",
       "7344                                  19.991623   \n",
       "7586                                  19.941542   \n",
       "7587                                   2.319944   \n",
       "7759                                  25.001965   \n",
       "7760                                  25.006088   \n",
       "8404                                  25.008392   \n",
       "8636                                  24.999677   \n",
       "8637                                  24.992970   \n",
       "8638                                  24.990666   \n",
       "8639                                  24.999566   \n",
       "9050                                  25.004345   \n",
       "9670                                  29.985963   \n",
       "9671                                  30.007134   \n",
       "9672                                  30.014246   \n",
       "9673                                  29.989302   \n",
       "9674                                  30.004095   \n",
       "10138                                 19.990086   \n",
       "10139                                 19.981354   \n",
       "10176                                 17.989344   \n",
       "11518                                 12.381912   \n",
       "11539                                 14.996052   \n",
       "11540                                 14.985647   \n",
       "11940                                 15.009898   \n",
       "12460                                 14.961842   \n",
       "12478                                 15.002190   \n",
       "12546                                 11.018036   \n",
       "12547                                 11.014303   \n",
       "12896                                 11.996606   \n",
       "13131                                 13.002515   \n",
       "13274                                 14.000650   \n",
       "13438                                 16.008505   \n",
       "13439                                 16.016800   \n",
       "13697                                 15.984455   \n",
       "14082                                 15.999072   \n",
       "14083                                 15.992782   \n",
       "14359                                 11.998238   \n",
       "14360                                 12.001940   \n",
       "14736                                 12.006419   \n",
       "14951                                 11.998058   \n",
       "14952                                 12.020402   \n",
       "15310                                 10.996343   \n",
       "\n",
       "       secondary_cleaner.state.floatbank6_a_level  feed.total_concentrate  \\\n",
       "644                                   -399.619808               46.703740   \n",
       "1193                                  -500.685521               53.368945   \n",
       "1194                                  -500.137068               51.963364   \n",
       "1195                                  -500.769011               48.892687   \n",
       "1196                                  -499.932405               49.265736   \n",
       "1682                                  -500.498255               44.882879   \n",
       "2019                                  -509.449510               57.115449   \n",
       "2020                                  -492.939580               56.001311   \n",
       "2236                                  -500.365653               56.164944   \n",
       "4215                                  -502.319385               61.331725   \n",
       "4314                                  -498.990216               64.180280   \n",
       "4564                                  -502.454004               55.733560   \n",
       "4653                                  -498.808359               29.928733   \n",
       "5151                                  -498.495103               56.941127   \n",
       "6327                                  -808.118080               47.415115   \n",
       "7342                                  -601.259265               55.353011   \n",
       "7343                                  -591.060032               54.416755   \n",
       "7344                                  -609.490127               53.833074   \n",
       "7586                                  -595.360820               53.901216   \n",
       "7587                                  -642.122184               45.755537   \n",
       "7759                                  -599.982239               56.736779   \n",
       "7760                                  -600.019283               56.258034   \n",
       "8404                                  -500.220216               65.394965   \n",
       "8636                                  -500.240701               53.300638   \n",
       "8637                                  -499.427043               53.469934   \n",
       "8638                                  -500.726526               54.112593   \n",
       "8639                                  -500.059471               54.122333   \n",
       "9050                                  -497.467197               64.683886   \n",
       "9670                                  -500.076336               57.716489   \n",
       "9671                                  -499.524684               58.748005   \n",
       "9672                                  -500.261487               57.758462   \n",
       "9673                                  -499.837103               56.937236   \n",
       "9674                                  -499.921109               58.120443   \n",
       "10138                                 -500.215013               56.000346   \n",
       "10139                                 -499.611812               50.355734   \n",
       "10176                                 -502.178010               66.668672   \n",
       "11518                                 -504.537397               54.427053   \n",
       "11539                                 -500.206741               53.329106   \n",
       "11540                                 -499.120826               52.348749   \n",
       "11940                                 -499.872109               46.635418   \n",
       "12460                                 -499.197240               56.912723   \n",
       "12478                                 -499.417604               55.171761   \n",
       "12546                                 -500.079273               59.346515   \n",
       "12547                                 -497.950309               60.425088   \n",
       "12896                                 -529.086417               57.533834   \n",
       "13131                                 -498.584771               57.445736   \n",
       "13274                                 -498.537977               49.538076   \n",
       "13438                                 -499.900305               68.539454   \n",
       "13439                                 -501.243170               68.215360   \n",
       "13697                                 -500.491550               67.481515   \n",
       "14082                                 -499.251085               66.995661   \n",
       "14083                                 -500.181483               66.157124   \n",
       "14359                                 -494.504277               64.136193   \n",
       "14360                                 -294.817404               67.808006   \n",
       "14736                                 -502.354004               45.737765   \n",
       "14951                                 -498.700110               70.195851   \n",
       "14952                                 -500.137799               69.677719   \n",
       "15310                                 -500.089294               33.929636   \n",
       "\n",
       "       rougher.total_concentrate  final.total_concentrate  \n",
       "644                    56.574778                      0.0  \n",
       "1193                   61.681632                      0.0  \n",
       "1194                   60.214950                      0.0  \n",
       "1195                   58.592426                      0.0  \n",
       "1196                   58.363177                      0.0  \n",
       "1682                    0.000000                      0.0  \n",
       "2019                   82.097253                      0.0  \n",
       "2020                   80.583896                      0.0  \n",
       "2236                   76.009105                      0.0  \n",
       "4215                   80.824756                      0.0  \n",
       "4314                   69.024288                      0.0  \n",
       "4564                   38.335303                      0.0  \n",
       "4653                   48.207629                      0.0  \n",
       "5151                   72.476661                      0.0  \n",
       "6327                   30.865627                      0.0  \n",
       "7342                   76.938935                      0.0  \n",
       "7343                   76.075400                      0.0  \n",
       "7344                   78.063224                      0.0  \n",
       "7586                   80.309850                      0.0  \n",
       "7587                   74.960131                      0.0  \n",
       "7759                   81.462697                      0.0  \n",
       "7760                   81.806790                      0.0  \n",
       "8404                   78.190858                      0.0  \n",
       "8636                   71.562927                      0.0  \n",
       "8637                   72.407240                      0.0  \n",
       "8638                   73.405420                      0.0  \n",
       "8639                   73.686489                      0.0  \n",
       "9050                   75.331692                      0.0  \n",
       "9670                   68.650384                      0.0  \n",
       "9671                   67.287680                      0.0  \n",
       "9672                   67.715366                      0.0  \n",
       "9673                   70.543396                      0.0  \n",
       "9674                   70.856237                      0.0  \n",
       "10138                  57.561670                      0.0  \n",
       "10139                  57.519911                      0.0  \n",
       "10176                  71.833407                      0.0  \n",
       "11518                  76.122611                      0.0  \n",
       "11539                  76.118163                      0.0  \n",
       "11540                  77.222621                      0.0  \n",
       "11940                  65.818944                      0.0  \n",
       "12460                  74.334780                      0.0  \n",
       "12478                  74.011184                      0.0  \n",
       "12546                  71.736736                      0.0  \n",
       "12547                  72.091595                      0.0  \n",
       "12896                  73.652118                      0.0  \n",
       "13131                  70.333726                      0.0  \n",
       "13274                  71.447262                      0.0  \n",
       "13438                  76.183066                      0.0  \n",
       "13439                  77.422548                      0.0  \n",
       "13697                  70.541447                      0.0  \n",
       "14082                  79.014051                      0.0  \n",
       "14083                  77.248182                      0.0  \n",
       "14359                  82.156401                      0.0  \n",
       "14360                  78.428633                      0.0  \n",
       "14736                  80.980052                      0.0  \n",
       "14951                  74.356346                      0.0  \n",
       "14952                  69.414486                      0.0  \n",
       "15310                  49.797341                      0.0  \n",
       "\n",
       "[58 rows x 90 columns]"
      ]
     },
     "execution_count": 20,
     "metadata": {},
     "output_type": "execute_result"
    }
   ],
   "source": [
    "full[full['rougher.total_concentrate'] == 0]\n",
    "full[full['feed.total_concentrate'] == 0]\n",
    "full[full['final.total_concentrate'] == 0]"
   ]
  },
  {
   "cell_type": "markdown",
   "metadata": {},
   "source": [
    "Во всех трех случаях данные по концентрации равны нулю на одной стадии обработки, но не равны нулю на остальных. <br>\n",
    "Очевидным образом напрашивается заключение, что данные по концентрации на том или ином этапе просто не были внесены корректно и вместо этого заполнились нулями. <br>\n",
    "Модели будет сложно обработать такие противоречивые данные, более того, это может привести к ошибкам в алгоритме. Поэтому такие данные лучше удалить из выборок.\n"
   ]
  },
  {
   "cell_type": "code",
   "execution_count": 21,
   "metadata": {},
   "outputs": [],
   "source": [
    "full = full[full['rougher.total_concentrate'] != 0]\n",
    "full = full[full['feed.total_concentrate'] != 0]\n",
    "full = full[full['final.total_concentrate'] != 0]\n",
    "\n",
    "train = train[train['rougher.output.concentrate_au']!=0]\n",
    "train = train[train['primary_cleaner.output.concentrate_au']!=0]\n",
    "train = train[train['final.output.concentrate_au']!=0]"
   ]
  },
  {
   "cell_type": "markdown",
   "metadata": {},
   "source": [
    "## Модель"
   ]
  },
  {
   "cell_type": "markdown",
   "metadata": {},
   "source": [
    "Нам необходимо предсказать эффективность обогащения (recovery) на после вторичной очистки и оценить точность предсказания метрикой sMAPE. <br>\n",
    "Для этого нам будет необходимо:\n",
    "1. обработать данные - отбросить столбцы, которые не влияют на предсказания, масштабировать данные\n",
    "2. написать функцию, которая рассчитывает метрику sMAPE на наших данных\n",
    "3. обучить разные модели и оценить их эффективность методом кросс-валидации\n",
    "4. проверить модель на тестовой выборке"
   ]
  },
  {
   "cell_type": "markdown",
   "metadata": {},
   "source": [
    "### Обработка входных данных"
   ]
  },
  {
   "cell_type": "markdown",
   "metadata": {},
   "source": [
    "Приведем трейновую выборку в соответствие с тестовой, чтобы настроить модель на нужных параметрах."
   ]
  },
  {
   "cell_type": "markdown",
   "metadata": {},
   "source": [
    "Нам необходимо отбросить столбцы, которые отсутствуют в тестовом наборе данных. К таким данным можно отнести столбцы date и rougher.recovery_calc. Также необходимо выделить целевой признак в переменную target."
   ]
  },
  {
   "cell_type": "code",
   "execution_count": 22,
   "metadata": {},
   "outputs": [],
   "source": [
    "test = test.drop('date', axis =1)\n",
    "\n",
    "features = train.drop(['date','final.output.concentrate_ag',\n",
    "                                    'final.output.concentrate_pb',\n",
    "                                    'final.output.concentrate_sol',\n",
    "                                    'final.output.concentrate_au',\n",
    "                                    'final.output.tail_ag',\n",
    "                                    'final.output.tail_pb',\n",
    "                                    'final.output.tail_sol',\n",
    "                                    'final.output.tail_au',\n",
    "                                    'rougher.output.concentrate_sol',\n",
    "                                    'rougher.output.concentrate_au',\n",
    "                                    'rougher.output.tail_ag',\n",
    "                                    'rougher.output.tail_pb',\n",
    "                                    'rougher.output.tail_sol',\n",
    "                                    'rougher.output.tail_au',\n",
    "                                    'primary_cleaner.output.concentrate_ag',\n",
    "                                    'primary_cleaner.output.concentrate_pb',\n",
    "                                    'primary_cleaner.output.concentrate_sol',\n",
    "                                    'primary_cleaner.output.concentrate_au',\n",
    "                                    'primary_cleaner.output.tail_ag',\n",
    "                                    'primary_cleaner.output.tail_pb',\n",
    "                                    'primary_cleaner.output.tail_sol',\n",
    "                                    'primary_cleaner.output.tail_au',\n",
    "                                    'rougher.output.concentrate_ag',\n",
    "                                    'rougher.output.concentrate_pb',\n",
    "                                    'rougher.recovery_calc',\n",
    "                                    'rougher.calculation.sulfate_to_au_concentrate',  \n",
    "                                    'rougher.calculation.floatbank10_sulfate_to_au_feed', \n",
    "                                    'rougher.calculation.floatbank11_sulfate_to_au_feed', \n",
    "                                    'rougher.calculation.au_pb_ratio',\n",
    "                                    'secondary_cleaner.output.tail_ag',\n",
    "                                    'secondary_cleaner.output.tail_pb',\n",
    "                                    'secondary_cleaner.output.tail_sol',\n",
    "                                    'secondary_cleaner.output.tail_au',\n",
    "                                    'rougher.output.recovery','final.output.recovery'], axis =1)\n",
    "target = train[['rougher.output.recovery','final.output.recovery']]"
   ]
  },
  {
   "cell_type": "markdown",
   "metadata": {},
   "source": [
    "### Функция sMAPE"
   ]
  },
  {
   "cell_type": "code",
   "execution_count": 23,
   "metadata": {},
   "outputs": [],
   "source": [
    "def total_smape(target, predict):\n",
    "    error = np.abs(target - predict)\n",
    "    scale = (np.abs(target) + np.abs(predict))/2\n",
    "    smape = ((error/scale).sum())*100 / len(predict)\n",
    "    return 0.25*smape[0] + 0.75*smape[1]"
   ]
  },
  {
   "cell_type": "markdown",
   "metadata": {},
   "source": [
    "### Обучение различных моделей и выбор наилучшей"
   ]
  },
  {
   "cell_type": "markdown",
   "metadata": {},
   "source": [
    "Возьмем несколько различных моделей, обрабатывающих числовые зависимости, и посмотрим, какая из них лучше, методом кросс-валидации.\n",
    "Модели в нашем распоряжении: Decision Tree, Random Forest, Linear Regression."
   ]
  },
  {
   "cell_type": "code",
   "execution_count": 24,
   "metadata": {},
   "outputs": [],
   "source": [
    "# создадим скоринг для целей кросс-валидации\n",
    "smape_scoring = make_scorer(total_smape, greater_is_better = False)"
   ]
  },
  {
   "cell_type": "code",
   "execution_count": 25,
   "metadata": {},
   "outputs": [
    {
     "data": {
      "text/plain": [
       "{'max_depth': 2, 'min_samples_leaf': 2, 'min_samples_split': 3}"
      ]
     },
     "execution_count": 25,
     "metadata": {},
     "output_type": "execute_result"
    }
   ],
   "source": [
    "model_DTR = DecisionTreeRegressor()\n",
    "params = {'max_depth':range(1,7),\n",
    "         'min_samples_split': range(2, 8),\n",
    "         'min_samples_leaf': range(2, 8)}\n",
    "grid = GridSearchCV(model_DTR, \n",
    "                    params, \n",
    "                    scoring = smape_scoring,\n",
    "                    cv=5)\n",
    "grid.fit(features, target)\n",
    "grid.best_params_"
   ]
  },
  {
   "cell_type": "code",
   "execution_count": 36,
   "metadata": {},
   "outputs": [
    {
     "name": "stdout",
     "output_type": "stream",
     "text": [
      "Средний показатель кросс-валидации на модели Decision Tree Regression  -8.081558853400168\n"
     ]
    }
   ],
   "source": [
    "model_DTR = DecisionTreeRegressor(max_depth = 2, \n",
    "                                  min_samples_split = 3,\n",
    "                                  min_samples_leaf = 2,\n",
    "                                  random_state = 12345)\n",
    "\n",
    "cross_val_DTR = cross_val_score(model_DTR, \n",
    "                                features, \n",
    "                                target, \n",
    "                                scoring = smape_scoring, \n",
    "                                cv = 5)\n",
    "print('Средний показатель кросс-валидации на модели Decision Tree Regression ', cross_val_DTR.mean())"
   ]
  },
  {
   "cell_type": "code",
   "execution_count": 27,
   "metadata": {},
   "outputs": [
    {
     "data": {
      "text/plain": [
       "{'n_estimators': 50}"
      ]
     },
     "execution_count": 27,
     "metadata": {},
     "output_type": "execute_result"
    }
   ],
   "source": [
    "model_RFR = RandomForestRegressor(max_depth = 2, random_state = 12345)\n",
    "params = {'n_estimators':range(10, 51, 10)}\n",
    "grid = GridSearchCV(model_RFR, params, scoring = smape_scoring, cv=3)\n",
    "grid.fit(features, target)\n",
    "grid.best_params_"
   ]
  },
  {
   "cell_type": "code",
   "execution_count": 37,
   "metadata": {},
   "outputs": [
    {
     "name": "stdout",
     "output_type": "stream",
     "text": [
      "Средний показатель кросс-валидации на модели Random Forest Regression  -7.967789897282546\n"
     ]
    }
   ],
   "source": [
    "model_RFR = RandomForestRegressor(n_estimators = 50, \n",
    "                                  max_depth = 2, \n",
    "                                  min_samples_split = 3,\n",
    "                                  min_samples_leaf = 2,\n",
    "                                  random_state = 12345)\n",
    "cross_val_RFR = cross_val_score(model_RFR, \n",
    "                                features, \n",
    "                                target, \n",
    "                                scoring = smape_scoring, \n",
    "                                cv = 5)\n",
    "print('Средний показатель кросс-валидации на модели Random Forest Regression ', cross_val_RFR.mean())"
   ]
  },
  {
   "cell_type": "code",
   "execution_count": 29,
   "metadata": {},
   "outputs": [
    {
     "name": "stdout",
     "output_type": "stream",
     "text": [
      "Средний показатель кросс-валидации на модели Linear Regression  -9.024396961906785\n"
     ]
    }
   ],
   "source": [
    "model_LR = LinearRegression()\n",
    "cross_val_LR = cross_val_score(model_LR, \n",
    "                               features, \n",
    "                               target, \n",
    "                               scoring = smape_scoring, \n",
    "                               cv = 5)\n",
    "print('Средний показатель кросс-валидации на модели Linear Regression ', cross_val_LR.mean())\n"
   ]
  },
  {
   "cell_type": "markdown",
   "metadata": {},
   "source": [
    "По итогу кросс-валидации моделей Линейной регрессии, Дерева Решений и Случайного леса лучший результат показали модели Дерева решений и Случайного леса. Проверим на тестовой выборке, как работают модели, при помощи метрики sMAPE."
   ]
  },
  {
   "cell_type": "markdown",
   "metadata": {},
   "source": [
    "### Проверка результатов на тестовой выборке    "
   ]
  },
  {
   "cell_type": "code",
   "execution_count": 30,
   "metadata": {
    "scrolled": true
   },
   "outputs": [],
   "source": [
    "# разделим датасет на фичи и целевой признак\n",
    "test = test.dropna()\n",
    "features_test = test.drop(['rougher.output.recovery','final.output.recovery'], axis =1)\n",
    "target_test = test[['rougher.output.recovery','final.output.recovery']]"
   ]
  },
  {
   "cell_type": "markdown",
   "metadata": {},
   "source": [
    "Возьмем уже обученные модели model_DTR (Decision Tree) и model_RFR (Random Forest) и посчитаем итоговую метрику на каждой модели."
   ]
  },
  {
   "cell_type": "code",
   "execution_count": 38,
   "metadata": {},
   "outputs": [
    {
     "name": "stdout",
     "output_type": "stream",
     "text": [
      "Метрика sMAPE на модели Decision Tree, %: 8.2\n"
     ]
    }
   ],
   "source": [
    "model_DTR.fit(features, target)\n",
    "predict = model_DTR.predict(features_test)\n",
    "print(f'Метрика sMAPE на модели Decision Tree, %: {round(total_smape(target_test, predict), 1)}')"
   ]
  },
  {
   "cell_type": "code",
   "execution_count": 39,
   "metadata": {},
   "outputs": [
    {
     "name": "stdout",
     "output_type": "stream",
     "text": [
      "Метрика sMAPE на модели Random Forest, %: 8.0\n"
     ]
    }
   ],
   "source": [
    "model_RFR.fit(features, target)\n",
    "predict_test = model_RFR.predict(features_test)\n",
    "print(f'Метрика sMAPE на модели Random Forest, %: {round(total_smape(target_test, predict_test),1)}')\n"
   ]
  },
  {
   "cell_type": "markdown",
   "metadata": {},
   "source": [
    "На тестовой выборке лучшей моделью показала себя модель Random Forest. Сравним ее sMAPE с показателем константной модели."
   ]
  },
  {
   "cell_type": "code",
   "execution_count": 35,
   "metadata": {},
   "outputs": [
    {
     "name": "stdout",
     "output_type": "stream",
     "text": [
      "Метрика sMAPE на Dummy модели, %: 8.8\n"
     ]
    }
   ],
   "source": [
    "dummy = DummyRegressor(strategy = 'mean')\n",
    "dummy.fit(features, target)\n",
    "predict_dummy = dummy.predict(features_test)\n",
    "print(f'Метрика sMAPE на Dummy модели, %: {round(total_smape(target_test, predict_dummy),1)}')\n",
    "\n"
   ]
  },
  {
   "cell_type": "markdown",
   "metadata": {},
   "source": [
    "Итак, мы провели предобработку и анализ данных, а затем обучили несколько моделей и выявили наиболее эффективную из них методом кросс-валидации  - модель Decision Tree Regressor. <br>\n",
    "Результат мы оценили при помощи метрики sMAPE, и он равен 8%. Это неплохой результат для модели, но прогнозирование при помощи Dummy модели дало не намного более высокий показатель - 8.8%. <br>\n",
    "Рекомендуется провести дальнейшее исследование и выявить факторы технологического процесса, которые максимально влияют на финальный результат."
   ]
  },
  {
   "cell_type": "code",
   "execution_count": null,
   "metadata": {},
   "outputs": [],
   "source": []
  }
 ],
 "metadata": {
  "ExecuteTimeLog": [
   {
    "duration": 363,
    "start_time": "2022-08-08T13:00:50.155Z"
   },
   {
    "duration": 980,
    "start_time": "2022-08-08T13:01:45.754Z"
   },
   {
    "duration": 295,
    "start_time": "2022-08-08T13:01:52.950Z"
   },
   {
    "duration": 303,
    "start_time": "2022-08-08T13:02:19.639Z"
   },
   {
    "duration": 257,
    "start_time": "2022-08-08T13:11:49.735Z"
   },
   {
    "duration": 323,
    "start_time": "2022-08-08T13:11:57.857Z"
   },
   {
    "duration": 268,
    "start_time": "2022-08-08T13:12:03.653Z"
   },
   {
    "duration": 265,
    "start_time": "2022-08-08T13:12:07.882Z"
   },
   {
    "duration": 273,
    "start_time": "2022-08-08T13:12:13.806Z"
   },
   {
    "duration": 267,
    "start_time": "2022-08-08T13:16:07.326Z"
   },
   {
    "duration": 271,
    "start_time": "2022-08-08T13:16:29.279Z"
   },
   {
    "duration": 273,
    "start_time": "2022-08-08T13:16:42.901Z"
   },
   {
    "duration": 292,
    "start_time": "2022-08-08T13:20:09.860Z"
   },
   {
    "duration": 272,
    "start_time": "2022-08-08T13:20:34.012Z"
   },
   {
    "duration": 279,
    "start_time": "2022-08-08T13:21:25.645Z"
   },
   {
    "duration": 286,
    "start_time": "2022-08-08T13:22:16.230Z"
   },
   {
    "duration": 2747,
    "start_time": "2022-08-08T13:29:28.853Z"
   },
   {
    "duration": 646,
    "start_time": "2022-08-08T13:30:00.144Z"
   },
   {
    "duration": 678,
    "start_time": "2022-08-08T13:31:19.461Z"
   },
   {
    "duration": 646,
    "start_time": "2022-08-08T13:31:29.685Z"
   },
   {
    "duration": 2,
    "start_time": "2022-08-08T13:32:36.942Z"
   },
   {
    "duration": 6,
    "start_time": "2022-08-08T13:34:19.000Z"
   },
   {
    "duration": 8,
    "start_time": "2022-08-08T13:34:31.648Z"
   },
   {
    "duration": 29,
    "start_time": "2022-08-08T13:34:41.185Z"
   },
   {
    "duration": 14,
    "start_time": "2022-08-08T13:35:00.354Z"
   },
   {
    "duration": 13,
    "start_time": "2022-08-08T13:35:22.639Z"
   },
   {
    "duration": 7,
    "start_time": "2022-08-08T13:35:47.614Z"
   },
   {
    "duration": 8,
    "start_time": "2022-08-08T13:59:05.872Z"
   },
   {
    "duration": 40,
    "start_time": "2022-08-08T14:02:32.814Z"
   },
   {
    "duration": 6,
    "start_time": "2022-08-08T14:09:35.987Z"
   },
   {
    "duration": 9,
    "start_time": "2022-08-08T14:09:53.088Z"
   },
   {
    "duration": 21,
    "start_time": "2022-08-08T14:09:55.988Z"
   },
   {
    "duration": 9,
    "start_time": "2022-08-08T14:11:21.731Z"
   },
   {
    "duration": 11,
    "start_time": "2022-08-08T14:11:38.253Z"
   },
   {
    "duration": 11,
    "start_time": "2022-08-08T14:16:36.014Z"
   },
   {
    "duration": 10,
    "start_time": "2022-08-08T14:16:53.079Z"
   },
   {
    "duration": 664,
    "start_time": "2022-08-08T14:18:04.907Z"
   },
   {
    "duration": 10,
    "start_time": "2022-08-08T14:26:57.150Z"
   },
   {
    "duration": 7,
    "start_time": "2022-08-08T14:29:24.813Z"
   },
   {
    "duration": 8,
    "start_time": "2022-08-08T14:45:20.172Z"
   },
   {
    "duration": 59,
    "start_time": "2022-08-08T14:45:38.353Z"
   },
   {
    "duration": 15,
    "start_time": "2022-08-08T14:45:49.666Z"
   },
   {
    "duration": 8,
    "start_time": "2022-08-08T14:46:43.214Z"
   },
   {
    "duration": 78,
    "start_time": "2022-08-08T14:49:14.281Z"
   },
   {
    "duration": 67,
    "start_time": "2022-08-08T14:49:20.868Z"
   },
   {
    "duration": 990,
    "start_time": "2022-08-08T14:49:31.911Z"
   },
   {
    "duration": 8,
    "start_time": "2022-08-08T14:49:40.188Z"
   },
   {
    "duration": 1361,
    "start_time": "2022-08-08T14:49:51.014Z"
   },
   {
    "duration": 21,
    "start_time": "2022-08-08T14:50:28.722Z"
   },
   {
    "duration": 38,
    "start_time": "2022-08-08T14:51:13.539Z"
   },
   {
    "duration": 33,
    "start_time": "2022-08-08T14:51:28.311Z"
   },
   {
    "duration": 19,
    "start_time": "2022-08-08T14:51:38.610Z"
   },
   {
    "duration": 18,
    "start_time": "2022-08-08T14:54:25.124Z"
   },
   {
    "duration": 18,
    "start_time": "2022-08-08T14:54:30.327Z"
   },
   {
    "duration": 23,
    "start_time": "2022-08-08T14:54:48.314Z"
   },
   {
    "duration": 40,
    "start_time": "2022-08-08T14:55:05.474Z"
   },
   {
    "duration": 23,
    "start_time": "2022-08-08T14:55:26.569Z"
   },
   {
    "duration": 22,
    "start_time": "2022-08-08T14:57:41.717Z"
   },
   {
    "duration": 9,
    "start_time": "2022-08-08T14:58:46.911Z"
   },
   {
    "duration": 131,
    "start_time": "2022-08-08T14:58:56.224Z"
   },
   {
    "duration": 130,
    "start_time": "2022-08-08T14:59:04.826Z"
   },
   {
    "duration": 145,
    "start_time": "2022-08-08T14:59:16.951Z"
   },
   {
    "duration": 20,
    "start_time": "2022-08-08T15:00:55.865Z"
   },
   {
    "duration": 12,
    "start_time": "2022-08-08T15:02:16.145Z"
   },
   {
    "duration": 27,
    "start_time": "2022-08-08T15:02:20.600Z"
   },
   {
    "duration": 425,
    "start_time": "2022-08-08T15:05:19.796Z"
   },
   {
    "duration": 559,
    "start_time": "2022-08-08T15:05:36.794Z"
   },
   {
    "duration": 7,
    "start_time": "2022-08-08T15:06:13.460Z"
   },
   {
    "duration": 10,
    "start_time": "2022-08-08T15:06:16.853Z"
   },
   {
    "duration": 10,
    "start_time": "2022-08-08T15:06:26.227Z"
   },
   {
    "duration": 14,
    "start_time": "2022-08-08T15:07:11.469Z"
   },
   {
    "duration": 9,
    "start_time": "2022-08-08T15:07:16.316Z"
   },
   {
    "duration": 12,
    "start_time": "2022-08-08T15:07:21.854Z"
   },
   {
    "duration": 14,
    "start_time": "2022-08-08T15:07:38.625Z"
   },
   {
    "duration": 21,
    "start_time": "2022-08-08T15:07:50.474Z"
   },
   {
    "duration": 12,
    "start_time": "2022-08-08T15:07:59.457Z"
   },
   {
    "duration": 15,
    "start_time": "2022-08-08T15:08:20.226Z"
   },
   {
    "duration": 52,
    "start_time": "2022-08-09T09:32:48.518Z"
   },
   {
    "duration": 1127,
    "start_time": "2022-08-09T09:32:54.444Z"
   },
   {
    "duration": 3106,
    "start_time": "2022-08-09T09:32:55.573Z"
   },
   {
    "duration": 8,
    "start_time": "2022-08-09T09:32:58.680Z"
   },
   {
    "duration": 9,
    "start_time": "2022-08-09T09:32:58.690Z"
   },
   {
    "duration": 28,
    "start_time": "2022-08-09T09:32:58.700Z"
   },
   {
    "duration": 151,
    "start_time": "2022-08-09T09:32:58.731Z"
   },
   {
    "duration": 11,
    "start_time": "2022-08-09T09:33:00.317Z"
   },
   {
    "duration": 13,
    "start_time": "2022-08-09T09:33:15.070Z"
   },
   {
    "duration": 8,
    "start_time": "2022-08-09T09:33:49.310Z"
   },
   {
    "duration": 9,
    "start_time": "2022-08-09T09:33:53.220Z"
   },
   {
    "duration": 11,
    "start_time": "2022-08-09T09:33:59.198Z"
   },
   {
    "duration": 505,
    "start_time": "2022-08-09T09:35:22.350Z"
   },
   {
    "duration": 114,
    "start_time": "2022-08-09T09:35:39.383Z"
   },
   {
    "duration": 16,
    "start_time": "2022-08-09T09:35:49.956Z"
   },
   {
    "duration": 55,
    "start_time": "2022-08-09T09:36:36.584Z"
   },
   {
    "duration": 325,
    "start_time": "2022-08-09T09:37:29.737Z"
   },
   {
    "duration": 22,
    "start_time": "2022-08-09T09:37:56.447Z"
   },
   {
    "duration": 143,
    "start_time": "2022-08-09T09:38:15.562Z"
   },
   {
    "duration": 124,
    "start_time": "2022-08-09T09:39:06.408Z"
   },
   {
    "duration": 16,
    "start_time": "2022-08-09T09:39:22.822Z"
   },
   {
    "duration": 12,
    "start_time": "2022-08-09T09:39:33.662Z"
   },
   {
    "duration": 12,
    "start_time": "2022-08-09T09:39:38.200Z"
   },
   {
    "duration": 56,
    "start_time": "2022-08-09T09:44:49.632Z"
   },
   {
    "duration": 18,
    "start_time": "2022-08-09T09:45:00.234Z"
   },
   {
    "duration": 173,
    "start_time": "2022-08-09T09:45:05.843Z"
   },
   {
    "duration": 797,
    "start_time": "2022-08-09T09:48:24.419Z"
   },
   {
    "duration": 10,
    "start_time": "2022-08-09T09:48:41.854Z"
   },
   {
    "duration": 16,
    "start_time": "2022-08-09T09:48:51.127Z"
   },
   {
    "duration": 17,
    "start_time": "2022-08-09T09:48:54.118Z"
   },
   {
    "duration": 12,
    "start_time": "2022-08-09T09:49:00.202Z"
   },
   {
    "duration": 16,
    "start_time": "2022-08-09T09:49:18.657Z"
   },
   {
    "duration": 19,
    "start_time": "2022-08-09T09:49:39.828Z"
   },
   {
    "duration": 18,
    "start_time": "2022-08-09T09:49:47.434Z"
   },
   {
    "duration": 15,
    "start_time": "2022-08-09T09:50:11.466Z"
   },
   {
    "duration": 15,
    "start_time": "2022-08-09T09:50:27.574Z"
   },
   {
    "duration": 17,
    "start_time": "2022-08-09T09:50:44.277Z"
   },
   {
    "duration": 16,
    "start_time": "2022-08-09T09:50:48.747Z"
   },
   {
    "duration": 16,
    "start_time": "2022-08-09T09:51:20.935Z"
   },
   {
    "duration": 17,
    "start_time": "2022-08-09T09:51:28.827Z"
   },
   {
    "duration": 33,
    "start_time": "2022-08-09T09:53:52.967Z"
   },
   {
    "duration": 24,
    "start_time": "2022-08-09T09:54:34.287Z"
   },
   {
    "duration": 23,
    "start_time": "2022-08-09T09:54:53.825Z"
   },
   {
    "duration": 23,
    "start_time": "2022-08-09T09:55:11.543Z"
   },
   {
    "duration": 20,
    "start_time": "2022-08-09T09:55:26.098Z"
   },
   {
    "duration": 22,
    "start_time": "2022-08-09T09:55:57.655Z"
   },
   {
    "duration": 24,
    "start_time": "2022-08-09T09:56:06.020Z"
   },
   {
    "duration": 1361,
    "start_time": "2022-08-09T09:56:24.217Z"
   },
   {
    "duration": 697,
    "start_time": "2022-08-09T09:56:25.580Z"
   },
   {
    "duration": 8,
    "start_time": "2022-08-09T09:56:26.278Z"
   },
   {
    "duration": 23,
    "start_time": "2022-08-09T09:56:26.288Z"
   },
   {
    "duration": 22,
    "start_time": "2022-08-09T09:56:26.313Z"
   },
   {
    "duration": 161,
    "start_time": "2022-08-09T09:56:26.337Z"
   },
   {
    "duration": 18,
    "start_time": "2022-08-09T09:56:26.500Z"
   },
   {
    "duration": 34,
    "start_time": "2022-08-09T09:56:26.519Z"
   },
   {
    "duration": 3,
    "start_time": "2022-08-09T09:58:08.286Z"
   },
   {
    "duration": 674,
    "start_time": "2022-08-09T09:58:08.291Z"
   },
   {
    "duration": 7,
    "start_time": "2022-08-09T09:58:08.967Z"
   },
   {
    "duration": 8,
    "start_time": "2022-08-09T09:58:08.975Z"
   },
   {
    "duration": 28,
    "start_time": "2022-08-09T09:58:08.985Z"
   },
   {
    "duration": 139,
    "start_time": "2022-08-09T09:58:09.015Z"
   },
   {
    "duration": 16,
    "start_time": "2022-08-09T09:58:09.156Z"
   },
   {
    "duration": 30,
    "start_time": "2022-08-09T09:58:13.958Z"
   },
   {
    "duration": 1332,
    "start_time": "2022-08-09T09:58:53.675Z"
   },
   {
    "duration": 683,
    "start_time": "2022-08-09T09:58:55.010Z"
   },
   {
    "duration": 7,
    "start_time": "2022-08-09T09:58:55.695Z"
   },
   {
    "duration": 13,
    "start_time": "2022-08-09T09:58:55.704Z"
   },
   {
    "duration": 16,
    "start_time": "2022-08-09T09:58:55.719Z"
   },
   {
    "duration": 152,
    "start_time": "2022-08-09T09:58:55.736Z"
   },
   {
    "duration": 24,
    "start_time": "2022-08-09T09:58:55.890Z"
   },
   {
    "duration": 33,
    "start_time": "2022-08-09T09:58:55.915Z"
   },
   {
    "duration": 125,
    "start_time": "2022-08-09T10:00:13.631Z"
   },
   {
    "duration": 27,
    "start_time": "2022-08-09T10:00:38.608Z"
   },
   {
    "duration": 11,
    "start_time": "2022-08-09T10:03:32.635Z"
   },
   {
    "duration": 26,
    "start_time": "2022-08-09T10:03:48.152Z"
   },
   {
    "duration": 211,
    "start_time": "2022-08-09T10:08:55.236Z"
   },
   {
    "duration": 117,
    "start_time": "2022-08-09T10:09:06.732Z"
   },
   {
    "duration": 105,
    "start_time": "2022-08-09T10:09:21.518Z"
   },
   {
    "duration": 115,
    "start_time": "2022-08-09T10:09:35.513Z"
   },
   {
    "duration": 111,
    "start_time": "2022-08-09T10:09:45.135Z"
   },
   {
    "duration": 171,
    "start_time": "2022-08-09T10:09:51.893Z"
   },
   {
    "duration": 933,
    "start_time": "2022-08-09T11:18:35.069Z"
   },
   {
    "duration": 2,
    "start_time": "2022-08-09T11:19:12.339Z"
   },
   {
    "duration": 720,
    "start_time": "2022-08-09T11:19:12.343Z"
   },
   {
    "duration": 6,
    "start_time": "2022-08-09T11:19:13.065Z"
   },
   {
    "duration": 9,
    "start_time": "2022-08-09T11:19:13.072Z"
   },
   {
    "duration": 28,
    "start_time": "2022-08-09T11:19:13.083Z"
   },
   {
    "duration": 135,
    "start_time": "2022-08-09T11:19:13.112Z"
   },
   {
    "duration": 16,
    "start_time": "2022-08-09T11:19:13.249Z"
   },
   {
    "duration": 123,
    "start_time": "2022-08-09T11:19:13.267Z"
   },
   {
    "duration": 42,
    "start_time": "2022-08-09T11:19:13.392Z"
   },
   {
    "duration": 27,
    "start_time": "2022-08-09T11:19:13.436Z"
   },
   {
    "duration": 1085,
    "start_time": "2022-08-09T11:19:16.933Z"
   },
   {
    "duration": 10,
    "start_time": "2022-08-09T11:19:30.355Z"
   },
   {
    "duration": 12,
    "start_time": "2022-08-09T11:20:32.227Z"
   },
   {
    "duration": 48,
    "start_time": "2022-08-09T11:20:41.686Z"
   },
   {
    "duration": 1233,
    "start_time": "2022-08-09T11:20:50.129Z"
   },
   {
    "duration": 671,
    "start_time": "2022-08-09T11:20:51.364Z"
   },
   {
    "duration": 7,
    "start_time": "2022-08-09T11:20:52.036Z"
   },
   {
    "duration": 9,
    "start_time": "2022-08-09T11:20:52.046Z"
   },
   {
    "duration": 17,
    "start_time": "2022-08-09T11:20:52.056Z"
   },
   {
    "duration": 158,
    "start_time": "2022-08-09T11:20:52.074Z"
   },
   {
    "duration": 18,
    "start_time": "2022-08-09T11:20:52.233Z"
   },
   {
    "duration": 132,
    "start_time": "2022-08-09T11:20:52.253Z"
   },
   {
    "duration": 53,
    "start_time": "2022-08-09T11:20:53.087Z"
   },
   {
    "duration": 72,
    "start_time": "2022-08-09T11:21:27.125Z"
   },
   {
    "duration": 81,
    "start_time": "2022-08-09T11:21:41.423Z"
   },
   {
    "duration": 20,
    "start_time": "2022-08-09T11:21:51.165Z"
   },
   {
    "duration": 25,
    "start_time": "2022-08-09T11:22:04.687Z"
   },
   {
    "duration": 6,
    "start_time": "2022-08-09T11:22:13.363Z"
   },
   {
    "duration": 8,
    "start_time": "2022-08-09T11:29:29.464Z"
   },
   {
    "duration": 23,
    "start_time": "2022-08-09T11:29:38.932Z"
   },
   {
    "duration": 46,
    "start_time": "2022-08-09T11:36:27.609Z"
   },
   {
    "duration": 35,
    "start_time": "2022-08-09T11:36:42.735Z"
   },
   {
    "duration": 1236,
    "start_time": "2022-08-09T11:37:12.817Z"
   },
   {
    "duration": 660,
    "start_time": "2022-08-09T11:37:14.054Z"
   },
   {
    "duration": 6,
    "start_time": "2022-08-09T11:37:14.716Z"
   },
   {
    "duration": 8,
    "start_time": "2022-08-09T11:37:14.724Z"
   },
   {
    "duration": 20,
    "start_time": "2022-08-09T11:37:14.733Z"
   },
   {
    "duration": 160,
    "start_time": "2022-08-09T11:37:14.754Z"
   },
   {
    "duration": 18,
    "start_time": "2022-08-09T11:37:14.915Z"
   },
   {
    "duration": 141,
    "start_time": "2022-08-09T11:37:14.934Z"
   },
   {
    "duration": 38,
    "start_time": "2022-08-09T11:37:15.076Z"
   },
   {
    "duration": 70,
    "start_time": "2022-08-09T11:37:15.116Z"
   },
   {
    "duration": 157,
    "start_time": "2022-08-09T11:37:15.187Z"
   },
   {
    "duration": 5,
    "start_time": "2022-08-09T11:37:33.791Z"
   },
   {
    "duration": 19,
    "start_time": "2022-08-09T11:37:48.480Z"
   },
   {
    "duration": 18,
    "start_time": "2022-08-09T11:37:56.783Z"
   },
   {
    "duration": 27,
    "start_time": "2022-08-09T11:38:02.526Z"
   },
   {
    "duration": 55,
    "start_time": "2022-08-09T11:38:15.356Z"
   },
   {
    "duration": 13,
    "start_time": "2022-08-09T11:38:27.746Z"
   },
   {
    "duration": 13,
    "start_time": "2022-08-09T11:38:31.381Z"
   },
   {
    "duration": 13,
    "start_time": "2022-08-09T11:38:42.800Z"
   },
   {
    "duration": 8,
    "start_time": "2022-08-09T11:38:54.553Z"
   },
   {
    "duration": 8,
    "start_time": "2022-08-09T11:38:56.576Z"
   },
   {
    "duration": 2,
    "start_time": "2022-08-09T11:39:04.865Z"
   },
   {
    "duration": 9,
    "start_time": "2022-08-09T11:39:11.760Z"
   },
   {
    "duration": 12,
    "start_time": "2022-08-09T11:39:36.339Z"
   },
   {
    "duration": 7,
    "start_time": "2022-08-09T11:39:39.786Z"
   },
   {
    "duration": 1395,
    "start_time": "2022-08-09T11:39:47.425Z"
   },
   {
    "duration": 662,
    "start_time": "2022-08-09T11:39:48.822Z"
   },
   {
    "duration": 7,
    "start_time": "2022-08-09T11:39:49.486Z"
   },
   {
    "duration": 16,
    "start_time": "2022-08-09T11:39:49.495Z"
   },
   {
    "duration": 16,
    "start_time": "2022-08-09T11:39:49.512Z"
   },
   {
    "duration": 149,
    "start_time": "2022-08-09T11:39:49.529Z"
   },
   {
    "duration": 17,
    "start_time": "2022-08-09T11:39:49.679Z"
   },
   {
    "duration": 132,
    "start_time": "2022-08-09T11:39:49.698Z"
   },
   {
    "duration": 42,
    "start_time": "2022-08-09T11:39:49.832Z"
   },
   {
    "duration": 37,
    "start_time": "2022-08-09T11:39:49.876Z"
   },
   {
    "duration": 37,
    "start_time": "2022-08-09T11:39:49.915Z"
   },
   {
    "duration": 15,
    "start_time": "2022-08-09T11:39:49.954Z"
   },
   {
    "duration": 22,
    "start_time": "2022-08-09T11:42:27.502Z"
   },
   {
    "duration": 10741,
    "start_time": "2022-08-09T11:50:19.533Z"
   },
   {
    "duration": 0,
    "start_time": "2022-08-09T11:50:30.275Z"
   },
   {
    "duration": 9,
    "start_time": "2022-08-09T11:50:49.694Z"
   },
   {
    "duration": 5,
    "start_time": "2022-08-09T11:51:17.064Z"
   },
   {
    "duration": 4,
    "start_time": "2022-08-09T11:51:56.390Z"
   },
   {
    "duration": 4,
    "start_time": "2022-08-09T11:51:59.775Z"
   },
   {
    "duration": 5,
    "start_time": "2022-08-09T11:52:06.396Z"
   },
   {
    "duration": 7,
    "start_time": "2022-08-09T11:52:09.372Z"
   },
   {
    "duration": 580,
    "start_time": "2022-08-09T11:52:30.104Z"
   },
   {
    "duration": 397,
    "start_time": "2022-08-09T11:54:28.242Z"
   },
   {
    "duration": 4,
    "start_time": "2022-08-09T11:54:46.006Z"
   },
   {
    "duration": 10,
    "start_time": "2022-08-09T12:37:20.445Z"
   },
   {
    "duration": 17,
    "start_time": "2022-08-09T12:40:00.120Z"
   },
   {
    "duration": 1448,
    "start_time": "2022-08-09T12:40:41.397Z"
   },
   {
    "duration": 680,
    "start_time": "2022-08-09T12:40:42.848Z"
   },
   {
    "duration": 8,
    "start_time": "2022-08-09T12:40:43.530Z"
   },
   {
    "duration": 12,
    "start_time": "2022-08-09T12:40:43.540Z"
   },
   {
    "duration": 18,
    "start_time": "2022-08-09T12:40:43.553Z"
   },
   {
    "duration": 160,
    "start_time": "2022-08-09T12:40:43.573Z"
   },
   {
    "duration": 16,
    "start_time": "2022-08-09T12:40:43.734Z"
   },
   {
    "duration": 126,
    "start_time": "2022-08-09T12:40:43.751Z"
   },
   {
    "duration": 46,
    "start_time": "2022-08-09T12:40:43.878Z"
   },
   {
    "duration": 25,
    "start_time": "2022-08-09T12:40:43.926Z"
   },
   {
    "duration": 28,
    "start_time": "2022-08-09T12:40:43.952Z"
   },
   {
    "duration": 132,
    "start_time": "2022-08-09T12:40:43.982Z"
   },
   {
    "duration": 6,
    "start_time": "2022-08-09T12:41:29.413Z"
   },
   {
    "duration": 5,
    "start_time": "2022-08-09T12:41:38.967Z"
   },
   {
    "duration": 5,
    "start_time": "2022-08-09T12:41:58.631Z"
   },
   {
    "duration": 456,
    "start_time": "2022-08-09T12:42:31.136Z"
   },
   {
    "duration": 1454,
    "start_time": "2022-08-09T12:43:32.310Z"
   },
   {
    "duration": 877,
    "start_time": "2022-08-09T12:43:52.596Z"
   },
   {
    "duration": 1390,
    "start_time": "2022-08-09T12:44:48.197Z"
   },
   {
    "duration": 3,
    "start_time": "2022-08-09T12:45:16.202Z"
   },
   {
    "duration": 13,
    "start_time": "2022-08-09T12:55:43.201Z"
   },
   {
    "duration": 6,
    "start_time": "2022-08-09T12:56:43.107Z"
   },
   {
    "duration": 336,
    "start_time": "2022-08-09T13:26:06.430Z"
   },
   {
    "duration": 258,
    "start_time": "2022-08-09T13:26:28.808Z"
   },
   {
    "duration": 344,
    "start_time": "2022-08-09T13:26:44.371Z"
   },
   {
    "duration": 7,
    "start_time": "2022-08-09T13:27:13.264Z"
   },
   {
    "duration": 16,
    "start_time": "2022-08-09T13:27:22.020Z"
   },
   {
    "duration": 142,
    "start_time": "2022-08-09T13:28:12.989Z"
   },
   {
    "duration": 207,
    "start_time": "2022-08-09T13:29:25.259Z"
   },
   {
    "duration": 184,
    "start_time": "2022-08-09T13:30:27.814Z"
   },
   {
    "duration": 9,
    "start_time": "2022-08-09T13:31:06.206Z"
   },
   {
    "duration": 15,
    "start_time": "2022-08-09T13:31:14.805Z"
   },
   {
    "duration": 157,
    "start_time": "2022-08-09T13:31:40.118Z"
   },
   {
    "duration": 171,
    "start_time": "2022-08-09T13:31:52.663Z"
   },
   {
    "duration": 135,
    "start_time": "2022-08-09T13:32:13.438Z"
   },
   {
    "duration": 153,
    "start_time": "2022-08-09T13:33:21.383Z"
   },
   {
    "duration": 182,
    "start_time": "2022-08-09T13:33:42.506Z"
   },
   {
    "duration": 221,
    "start_time": "2022-08-09T13:35:31.328Z"
   },
   {
    "duration": 143,
    "start_time": "2022-08-09T13:35:47.615Z"
   },
   {
    "duration": 46,
    "start_time": "2022-08-09T20:31:35.812Z"
   },
   {
    "duration": 1333,
    "start_time": "2022-08-09T20:31:43.004Z"
   },
   {
    "duration": 2854,
    "start_time": "2022-08-09T20:31:44.339Z"
   },
   {
    "duration": 7,
    "start_time": "2022-08-09T20:31:47.195Z"
   },
   {
    "duration": 14,
    "start_time": "2022-08-09T20:31:47.204Z"
   },
   {
    "duration": 27,
    "start_time": "2022-08-09T20:31:47.220Z"
   },
   {
    "duration": 138,
    "start_time": "2022-08-09T20:31:47.249Z"
   },
   {
    "duration": 16,
    "start_time": "2022-08-09T20:31:47.389Z"
   },
   {
    "duration": 126,
    "start_time": "2022-08-09T20:31:47.406Z"
   },
   {
    "duration": 49,
    "start_time": "2022-08-09T20:31:47.533Z"
   },
   {
    "duration": 28,
    "start_time": "2022-08-09T20:31:47.584Z"
   },
   {
    "duration": 52,
    "start_time": "2022-08-09T20:31:47.613Z"
   },
   {
    "duration": 3,
    "start_time": "2022-08-09T20:31:47.667Z"
   },
   {
    "duration": 17,
    "start_time": "2022-08-09T20:31:47.671Z"
   },
   {
    "duration": 151,
    "start_time": "2022-08-09T20:31:49.842Z"
   },
   {
    "duration": 159,
    "start_time": "2022-08-09T20:31:54.532Z"
   },
   {
    "duration": 157,
    "start_time": "2022-08-09T20:33:27.618Z"
   },
   {
    "duration": 146,
    "start_time": "2022-08-09T20:43:16.048Z"
   },
   {
    "duration": 7,
    "start_time": "2022-08-09T20:49:38.985Z"
   },
   {
    "duration": 201,
    "start_time": "2022-08-09T20:49:46.034Z"
   },
   {
    "duration": 125,
    "start_time": "2022-08-09T20:49:54.405Z"
   },
   {
    "duration": 163,
    "start_time": "2022-08-09T20:50:20.987Z"
   },
   {
    "duration": 140,
    "start_time": "2022-08-09T20:50:50.537Z"
   },
   {
    "duration": 156,
    "start_time": "2022-08-09T20:51:00.421Z"
   },
   {
    "duration": 159,
    "start_time": "2022-08-09T20:51:31.077Z"
   },
   {
    "duration": 80,
    "start_time": "2022-08-09T20:51:38.891Z"
   },
   {
    "duration": 133,
    "start_time": "2022-08-09T20:51:53.527Z"
   },
   {
    "duration": 107,
    "start_time": "2022-08-09T20:52:22.771Z"
   },
   {
    "duration": 109,
    "start_time": "2022-08-09T20:52:36.306Z"
   },
   {
    "duration": 123,
    "start_time": "2022-08-09T20:52:39.573Z"
   },
   {
    "duration": 273,
    "start_time": "2022-08-09T20:53:04.694Z"
   },
   {
    "duration": 0,
    "start_time": "2022-08-09T20:54:30.799Z"
   },
   {
    "duration": 260,
    "start_time": "2022-08-09T20:54:38.045Z"
   },
   {
    "duration": 234,
    "start_time": "2022-08-09T20:54:46.822Z"
   },
   {
    "duration": 355,
    "start_time": "2022-08-09T20:55:07.541Z"
   },
   {
    "duration": 373,
    "start_time": "2022-08-09T20:56:13.604Z"
   },
   {
    "duration": 351,
    "start_time": "2022-08-09T20:56:21.639Z"
   },
   {
    "duration": 350,
    "start_time": "2022-08-09T20:56:36.139Z"
   },
   {
    "duration": 350,
    "start_time": "2022-08-09T20:56:53.458Z"
   },
   {
    "duration": 422,
    "start_time": "2022-08-09T20:57:05.213Z"
   },
   {
    "duration": 356,
    "start_time": "2022-08-09T20:57:42.430Z"
   },
   {
    "duration": 350,
    "start_time": "2022-08-09T20:58:56.893Z"
   },
   {
    "duration": 330,
    "start_time": "2022-08-09T21:02:11.108Z"
   },
   {
    "duration": 348,
    "start_time": "2022-08-09T21:02:17.154Z"
   },
   {
    "duration": 123,
    "start_time": "2022-08-09T21:02:27.576Z"
   },
   {
    "duration": 369,
    "start_time": "2022-08-09T21:02:30.652Z"
   },
   {
    "duration": 394,
    "start_time": "2022-08-09T21:02:40.256Z"
   },
   {
    "duration": 371,
    "start_time": "2022-08-09T21:02:47.938Z"
   },
   {
    "duration": 334,
    "start_time": "2022-08-09T21:03:41.164Z"
   },
   {
    "duration": 332,
    "start_time": "2022-08-09T21:04:41.838Z"
   },
   {
    "duration": 340,
    "start_time": "2022-08-09T21:07:27.144Z"
   },
   {
    "duration": 378,
    "start_time": "2022-08-09T21:09:10.281Z"
   },
   {
    "duration": 3,
    "start_time": "2022-08-09T21:09:31.335Z"
   },
   {
    "duration": 351,
    "start_time": "2022-08-09T21:09:40.236Z"
   },
   {
    "duration": 334,
    "start_time": "2022-08-09T21:10:44.367Z"
   },
   {
    "duration": 327,
    "start_time": "2022-08-09T21:11:52.731Z"
   },
   {
    "duration": 327,
    "start_time": "2022-08-09T21:12:08.731Z"
   },
   {
    "duration": 333,
    "start_time": "2022-08-09T21:12:16.261Z"
   },
   {
    "duration": 330,
    "start_time": "2022-08-09T21:12:22.588Z"
   },
   {
    "duration": 324,
    "start_time": "2022-08-09T21:13:24.473Z"
   },
   {
    "duration": 2553,
    "start_time": "2022-08-09T21:13:38.223Z"
   },
   {
    "duration": 51,
    "start_time": "2022-08-10T06:30:04.037Z"
   },
   {
    "duration": 1549,
    "start_time": "2022-08-10T06:30:11.204Z"
   },
   {
    "duration": 3209,
    "start_time": "2022-08-10T06:30:12.757Z"
   },
   {
    "duration": 9,
    "start_time": "2022-08-10T06:30:15.967Z"
   },
   {
    "duration": 14,
    "start_time": "2022-08-10T06:30:15.978Z"
   },
   {
    "duration": 23,
    "start_time": "2022-08-10T06:30:15.993Z"
   },
   {
    "duration": 146,
    "start_time": "2022-08-10T06:30:16.018Z"
   },
   {
    "duration": 17,
    "start_time": "2022-08-10T06:30:16.166Z"
   },
   {
    "duration": 131,
    "start_time": "2022-08-10T06:30:16.184Z"
   },
   {
    "duration": 35,
    "start_time": "2022-08-10T06:30:16.316Z"
   },
   {
    "duration": 24,
    "start_time": "2022-08-10T06:30:16.354Z"
   },
   {
    "duration": 49,
    "start_time": "2022-08-10T06:30:16.380Z"
   },
   {
    "duration": 3,
    "start_time": "2022-08-10T06:30:16.431Z"
   },
   {
    "duration": 19,
    "start_time": "2022-08-10T06:30:16.435Z"
   },
   {
    "duration": 149,
    "start_time": "2022-08-10T06:30:16.455Z"
   },
   {
    "duration": 154,
    "start_time": "2022-08-10T06:30:16.606Z"
   },
   {
    "duration": 162,
    "start_time": "2022-08-10T06:30:16.762Z"
   },
   {
    "duration": 488,
    "start_time": "2022-08-10T06:30:19.930Z"
   },
   {
    "duration": 360,
    "start_time": "2022-08-10T06:30:39.716Z"
   },
   {
    "duration": 368,
    "start_time": "2022-08-10T06:32:06.115Z"
   },
   {
    "duration": 217,
    "start_time": "2022-08-10T06:32:50.628Z"
   },
   {
    "duration": 157,
    "start_time": "2022-08-10T06:33:04.985Z"
   },
   {
    "duration": 4,
    "start_time": "2022-08-10T06:35:44.798Z"
   },
   {
    "duration": 4,
    "start_time": "2022-08-10T06:35:56.977Z"
   },
   {
    "duration": 375,
    "start_time": "2022-08-10T06:36:03.536Z"
   },
   {
    "duration": 56,
    "start_time": "2022-08-10T06:47:32.827Z"
   },
   {
    "duration": 5,
    "start_time": "2022-08-10T06:47:38.296Z"
   },
   {
    "duration": 9,
    "start_time": "2022-08-10T06:49:29.423Z"
   },
   {
    "duration": 26,
    "start_time": "2022-08-10T06:50:29.762Z"
   },
   {
    "duration": 365,
    "start_time": "2022-08-10T06:51:41.439Z"
   },
   {
    "duration": 151,
    "start_time": "2022-08-10T06:51:49.013Z"
   },
   {
    "duration": 278,
    "start_time": "2022-08-10T06:52:14.068Z"
   },
   {
    "duration": 614,
    "start_time": "2022-08-10T06:55:14.439Z"
   },
   {
    "duration": 387,
    "start_time": "2022-08-10T06:55:32.542Z"
   },
   {
    "duration": 792,
    "start_time": "2022-08-10T06:56:04.601Z"
   },
   {
    "duration": 202,
    "start_time": "2022-08-10T06:56:40.336Z"
   },
   {
    "duration": 164,
    "start_time": "2022-08-10T06:57:18.750Z"
   },
   {
    "duration": 160,
    "start_time": "2022-08-10T06:57:25.538Z"
   },
   {
    "duration": 270,
    "start_time": "2022-08-10T06:58:09.897Z"
   },
   {
    "duration": 218,
    "start_time": "2022-08-10T06:58:28.219Z"
   },
   {
    "duration": 236,
    "start_time": "2022-08-10T06:58:42.870Z"
   },
   {
    "duration": 248,
    "start_time": "2022-08-10T06:58:55.367Z"
   },
   {
    "duration": 247,
    "start_time": "2022-08-10T07:00:07.289Z"
   },
   {
    "duration": 249,
    "start_time": "2022-08-10T07:00:30.939Z"
   },
   {
    "duration": 338,
    "start_time": "2022-08-10T07:01:05.100Z"
   },
   {
    "duration": 902,
    "start_time": "2022-08-10T07:12:03.216Z"
   },
   {
    "duration": 1010,
    "start_time": "2022-08-10T07:12:24.796Z"
   },
   {
    "duration": 1103,
    "start_time": "2022-08-10T07:12:31.898Z"
   },
   {
    "duration": 26,
    "start_time": "2022-08-10T07:15:34.897Z"
   },
   {
    "duration": 24,
    "start_time": "2022-08-10T07:45:48.598Z"
   },
   {
    "duration": 35,
    "start_time": "2022-08-10T07:45:58.570Z"
   },
   {
    "duration": 237,
    "start_time": "2022-08-10T07:46:23.531Z"
   },
   {
    "duration": 1004,
    "start_time": "2022-08-10T07:46:27.142Z"
   },
   {
    "duration": 25,
    "start_time": "2022-08-10T07:46:32.901Z"
   },
   {
    "duration": 32,
    "start_time": "2022-08-10T07:47:37.670Z"
   },
   {
    "duration": 52,
    "start_time": "2022-08-10T07:48:38.297Z"
   },
   {
    "duration": 50,
    "start_time": "2022-08-10T07:54:47.737Z"
   },
   {
    "duration": 16,
    "start_time": "2022-08-10T07:55:09.760Z"
   },
   {
    "duration": 18,
    "start_time": "2022-08-10T07:55:32.703Z"
   },
   {
    "duration": 62,
    "start_time": "2022-08-10T07:56:06.605Z"
   },
   {
    "duration": 19,
    "start_time": "2022-08-10T07:56:14.102Z"
   },
   {
    "duration": 90,
    "start_time": "2022-08-10T07:56:56.735Z"
   },
   {
    "duration": 3,
    "start_time": "2022-08-10T07:58:21.726Z"
   },
   {
    "duration": 1686,
    "start_time": "2022-08-11T11:25:01.130Z"
   },
   {
    "duration": 3037,
    "start_time": "2022-08-11T11:25:02.818Z"
   },
   {
    "duration": 7,
    "start_time": "2022-08-11T11:25:05.856Z"
   },
   {
    "duration": 16,
    "start_time": "2022-08-11T11:25:05.864Z"
   },
   {
    "duration": 17,
    "start_time": "2022-08-11T11:25:05.882Z"
   },
   {
    "duration": 155,
    "start_time": "2022-08-11T11:25:05.900Z"
   },
   {
    "duration": 16,
    "start_time": "2022-08-11T11:25:06.056Z"
   },
   {
    "duration": 138,
    "start_time": "2022-08-11T11:25:06.073Z"
   },
   {
    "duration": 42,
    "start_time": "2022-08-11T11:25:06.213Z"
   },
   {
    "duration": 24,
    "start_time": "2022-08-11T11:25:06.256Z"
   },
   {
    "duration": 65,
    "start_time": "2022-08-11T11:25:06.282Z"
   },
   {
    "duration": 27,
    "start_time": "2022-08-11T11:25:06.348Z"
   },
   {
    "duration": 3,
    "start_time": "2022-08-11T11:25:06.376Z"
   },
   {
    "duration": 8,
    "start_time": "2022-08-11T11:25:06.381Z"
   },
   {
    "duration": 179,
    "start_time": "2022-08-11T11:25:06.390Z"
   },
   {
    "duration": 175,
    "start_time": "2022-08-11T11:25:06.570Z"
   },
   {
    "duration": 164,
    "start_time": "2022-08-11T11:25:06.747Z"
   },
   {
    "duration": 471,
    "start_time": "2022-08-11T11:25:06.914Z"
   },
   {
    "duration": 269,
    "start_time": "2022-08-11T11:25:07.387Z"
   },
   {
    "duration": 1030,
    "start_time": "2022-08-11T11:25:07.658Z"
   },
   {
    "duration": 72,
    "start_time": "2022-08-11T11:25:08.690Z"
   },
   {
    "duration": 17,
    "start_time": "2022-08-11T11:25:08.763Z"
   },
   {
    "duration": 125,
    "start_time": "2022-08-11T11:28:03.023Z"
   },
   {
    "duration": 776,
    "start_time": "2022-08-11T11:28:50.707Z"
   },
   {
    "duration": 7,
    "start_time": "2022-08-11T11:29:10.241Z"
   },
   {
    "duration": 11,
    "start_time": "2022-08-11T11:29:17.681Z"
   },
   {
    "duration": 14,
    "start_time": "2022-08-11T11:31:02.293Z"
   },
   {
    "duration": 8,
    "start_time": "2022-08-11T11:32:16.598Z"
   },
   {
    "duration": 1312,
    "start_time": "2022-08-11T11:32:32.962Z"
   },
   {
    "duration": 678,
    "start_time": "2022-08-11T11:32:34.275Z"
   },
   {
    "duration": 7,
    "start_time": "2022-08-11T11:32:34.954Z"
   },
   {
    "duration": 13,
    "start_time": "2022-08-11T11:32:34.963Z"
   },
   {
    "duration": 34,
    "start_time": "2022-08-11T11:32:34.977Z"
   },
   {
    "duration": 153,
    "start_time": "2022-08-11T11:32:35.013Z"
   },
   {
    "duration": 15,
    "start_time": "2022-08-11T11:32:35.168Z"
   },
   {
    "duration": 134,
    "start_time": "2022-08-11T11:32:35.185Z"
   },
   {
    "duration": 38,
    "start_time": "2022-08-11T11:32:35.321Z"
   },
   {
    "duration": 24,
    "start_time": "2022-08-11T11:32:35.362Z"
   },
   {
    "duration": 59,
    "start_time": "2022-08-11T11:32:35.387Z"
   },
   {
    "duration": 32,
    "start_time": "2022-08-11T11:32:35.448Z"
   },
   {
    "duration": 2,
    "start_time": "2022-08-11T11:32:35.482Z"
   },
   {
    "duration": 26,
    "start_time": "2022-08-11T11:32:35.485Z"
   },
   {
    "duration": 145,
    "start_time": "2022-08-11T11:32:35.513Z"
   },
   {
    "duration": 147,
    "start_time": "2022-08-11T11:32:35.660Z"
   },
   {
    "duration": 162,
    "start_time": "2022-08-11T11:32:35.808Z"
   },
   {
    "duration": 468,
    "start_time": "2022-08-11T11:32:35.971Z"
   },
   {
    "duration": 265,
    "start_time": "2022-08-11T11:32:36.441Z"
   },
   {
    "duration": 953,
    "start_time": "2022-08-11T11:32:36.707Z"
   },
   {
    "duration": 63,
    "start_time": "2022-08-11T11:32:37.662Z"
   },
   {
    "duration": 35,
    "start_time": "2022-08-11T11:32:37.728Z"
   },
   {
    "duration": 21,
    "start_time": "2022-08-11T11:35:55.159Z"
   },
   {
    "duration": 24,
    "start_time": "2022-08-11T12:21:16.334Z"
   },
   {
    "duration": 3,
    "start_time": "2022-08-11T12:39:22.846Z"
   },
   {
    "duration": 127,
    "start_time": "2022-08-11T12:39:24.177Z"
   },
   {
    "duration": 2,
    "start_time": "2022-08-11T12:39:38.345Z"
   },
   {
    "duration": 9,
    "start_time": "2022-08-11T12:41:38.333Z"
   },
   {
    "duration": 12,
    "start_time": "2022-08-11T12:41:46.457Z"
   },
   {
    "duration": 4,
    "start_time": "2022-08-11T12:41:48.459Z"
   },
   {
    "duration": 80,
    "start_time": "2022-08-11T12:41:50.085Z"
   },
   {
    "duration": 47,
    "start_time": "2022-08-11T12:42:25.235Z"
   },
   {
    "duration": 3,
    "start_time": "2022-08-11T12:42:31.059Z"
   },
   {
    "duration": 18,
    "start_time": "2022-08-11T12:42:31.069Z"
   },
   {
    "duration": 142,
    "start_time": "2022-08-11T12:42:31.089Z"
   },
   {
    "duration": 148,
    "start_time": "2022-08-11T12:42:31.232Z"
   },
   {
    "duration": 192,
    "start_time": "2022-08-11T12:42:31.382Z"
   },
   {
    "duration": 498,
    "start_time": "2022-08-11T12:42:31.576Z"
   },
   {
    "duration": 298,
    "start_time": "2022-08-11T12:42:32.076Z"
   },
   {
    "duration": 1200,
    "start_time": "2022-08-11T12:42:32.377Z"
   },
   {
    "duration": 13,
    "start_time": "2022-08-11T12:42:33.579Z"
   },
   {
    "duration": 45,
    "start_time": "2022-08-11T12:42:33.594Z"
   },
   {
    "duration": 13,
    "start_time": "2022-08-11T12:42:33.641Z"
   },
   {
    "duration": 2,
    "start_time": "2022-08-11T12:42:33.656Z"
   },
   {
    "duration": 5,
    "start_time": "2022-08-11T12:42:33.660Z"
   },
   {
    "duration": 1445,
    "start_time": "2022-08-11T12:42:33.667Z"
   },
   {
    "duration": 136,
    "start_time": "2022-08-11T12:42:48.891Z"
   },
   {
    "duration": 287,
    "start_time": "2022-08-11T12:43:10.629Z"
   },
   {
    "duration": 3,
    "start_time": "2022-08-11T12:44:38.871Z"
   },
   {
    "duration": 269,
    "start_time": "2022-08-11T12:44:45.950Z"
   },
   {
    "duration": 4,
    "start_time": "2022-08-11T12:45:42.608Z"
   },
   {
    "duration": 285,
    "start_time": "2022-08-11T12:45:44.530Z"
   },
   {
    "duration": 3,
    "start_time": "2022-08-11T12:46:03.167Z"
   },
   {
    "duration": 162,
    "start_time": "2022-08-11T12:46:06.557Z"
   },
   {
    "duration": 12,
    "start_time": "2022-08-11T12:47:36.403Z"
   },
   {
    "duration": 4,
    "start_time": "2022-08-11T12:47:40.321Z"
   },
   {
    "duration": 9,
    "start_time": "2022-08-11T12:48:01.266Z"
   },
   {
    "duration": 4,
    "start_time": "2022-08-11T12:48:05.560Z"
   },
   {
    "duration": 15,
    "start_time": "2022-08-11T12:49:03.688Z"
   },
   {
    "duration": 8,
    "start_time": "2022-08-11T12:49:28.321Z"
   },
   {
    "duration": 1238,
    "start_time": "2022-08-11T12:56:53.213Z"
   },
   {
    "duration": 2,
    "start_time": "2022-08-11T12:56:54.453Z"
   },
   {
    "duration": 647,
    "start_time": "2022-08-11T12:56:54.457Z"
   },
   {
    "duration": 10,
    "start_time": "2022-08-11T12:56:55.105Z"
   },
   {
    "duration": 14,
    "start_time": "2022-08-11T12:56:55.117Z"
   },
   {
    "duration": 18,
    "start_time": "2022-08-11T12:56:55.132Z"
   },
   {
    "duration": 156,
    "start_time": "2022-08-11T12:56:55.152Z"
   },
   {
    "duration": 16,
    "start_time": "2022-08-11T12:56:55.309Z"
   },
   {
    "duration": 126,
    "start_time": "2022-08-11T12:56:55.326Z"
   },
   {
    "duration": 38,
    "start_time": "2022-08-11T12:56:55.454Z"
   },
   {
    "duration": 33,
    "start_time": "2022-08-11T12:56:55.494Z"
   },
   {
    "duration": 33,
    "start_time": "2022-08-11T12:56:55.529Z"
   },
   {
    "duration": 61,
    "start_time": "2022-08-11T12:56:55.563Z"
   },
   {
    "duration": 3,
    "start_time": "2022-08-11T12:56:55.627Z"
   },
   {
    "duration": 9,
    "start_time": "2022-08-11T12:56:55.631Z"
   },
   {
    "duration": 149,
    "start_time": "2022-08-11T12:56:55.641Z"
   },
   {
    "duration": 146,
    "start_time": "2022-08-11T12:56:55.791Z"
   },
   {
    "duration": 158,
    "start_time": "2022-08-11T12:56:55.939Z"
   },
   {
    "duration": 420,
    "start_time": "2022-08-11T12:56:56.099Z"
   },
   {
    "duration": 251,
    "start_time": "2022-08-11T12:56:56.521Z"
   },
   {
    "duration": 933,
    "start_time": "2022-08-11T12:56:56.774Z"
   },
   {
    "duration": 59,
    "start_time": "2022-08-11T12:56:57.709Z"
   },
   {
    "duration": 21,
    "start_time": "2022-08-11T12:56:57.769Z"
   },
   {
    "duration": 29,
    "start_time": "2022-08-11T12:56:57.792Z"
   },
   {
    "duration": 2,
    "start_time": "2022-08-11T12:56:57.822Z"
   },
   {
    "duration": 11,
    "start_time": "2022-08-11T12:56:57.826Z"
   },
   {
    "duration": 5,
    "start_time": "2022-08-11T12:56:57.839Z"
   },
   {
    "duration": 272,
    "start_time": "2022-08-11T12:56:57.845Z"
   },
   {
    "duration": 397,
    "start_time": "2022-08-11T12:56:58.119Z"
   },
   {
    "duration": 2,
    "start_time": "2022-08-11T12:59:18.313Z"
   },
   {
    "duration": 3,
    "start_time": "2022-08-11T12:59:26.362Z"
   },
   {
    "duration": 4,
    "start_time": "2022-08-11T12:59:33.574Z"
   },
   {
    "duration": 3,
    "start_time": "2022-08-11T12:59:37.954Z"
   },
   {
    "duration": 4,
    "start_time": "2022-08-11T12:59:42.893Z"
   },
   {
    "duration": 1296,
    "start_time": "2022-08-11T15:50:05.128Z"
   },
   {
    "duration": 2,
    "start_time": "2022-08-11T15:50:06.425Z"
   },
   {
    "duration": 660,
    "start_time": "2022-08-11T15:50:06.429Z"
   },
   {
    "duration": 7,
    "start_time": "2022-08-11T15:50:07.091Z"
   },
   {
    "duration": 23,
    "start_time": "2022-08-11T15:50:07.099Z"
   },
   {
    "duration": 16,
    "start_time": "2022-08-11T15:50:07.124Z"
   },
   {
    "duration": 142,
    "start_time": "2022-08-11T15:50:07.141Z"
   },
   {
    "duration": 15,
    "start_time": "2022-08-11T15:50:07.285Z"
   },
   {
    "duration": 121,
    "start_time": "2022-08-11T15:50:07.302Z"
   },
   {
    "duration": 42,
    "start_time": "2022-08-11T15:50:07.425Z"
   },
   {
    "duration": 43,
    "start_time": "2022-08-11T15:50:07.468Z"
   },
   {
    "duration": 33,
    "start_time": "2022-08-11T15:50:07.513Z"
   },
   {
    "duration": 37,
    "start_time": "2022-08-11T15:50:07.548Z"
   },
   {
    "duration": 3,
    "start_time": "2022-08-11T15:50:07.587Z"
   },
   {
    "duration": 22,
    "start_time": "2022-08-11T15:50:07.592Z"
   },
   {
    "duration": 142,
    "start_time": "2022-08-11T15:50:07.615Z"
   },
   {
    "duration": 156,
    "start_time": "2022-08-11T15:50:07.758Z"
   },
   {
    "duration": 157,
    "start_time": "2022-08-11T15:50:07.916Z"
   },
   {
    "duration": 421,
    "start_time": "2022-08-11T15:50:08.075Z"
   },
   {
    "duration": 249,
    "start_time": "2022-08-11T15:50:08.498Z"
   },
   {
    "duration": 926,
    "start_time": "2022-08-11T15:50:08.748Z"
   },
   {
    "duration": 66,
    "start_time": "2022-08-11T15:50:09.676Z"
   },
   {
    "duration": 23,
    "start_time": "2022-08-11T15:50:09.744Z"
   },
   {
    "duration": 12,
    "start_time": "2022-08-11T15:50:09.768Z"
   },
   {
    "duration": 5,
    "start_time": "2022-08-11T15:50:09.782Z"
   },
   {
    "duration": 4,
    "start_time": "2022-08-11T15:50:09.811Z"
   },
   {
    "duration": 4,
    "start_time": "2022-08-11T15:50:09.817Z"
   },
   {
    "duration": 291,
    "start_time": "2022-08-11T15:50:09.822Z"
   },
   {
    "duration": 304,
    "start_time": "2022-08-11T15:50:10.115Z"
   },
   {
    "duration": 92,
    "start_time": "2022-08-11T15:50:10.421Z"
   },
   {
    "duration": 3,
    "start_time": "2022-08-11T18:33:03.754Z"
   },
   {
    "duration": 5,
    "start_time": "2022-08-11T18:33:03.759Z"
   },
   {
    "duration": 649,
    "start_time": "2022-08-11T18:33:03.804Z"
   },
   {
    "duration": 6,
    "start_time": "2022-08-11T18:33:04.455Z"
   },
   {
    "duration": 13,
    "start_time": "2022-08-11T18:33:04.462Z"
   },
   {
    "duration": 19,
    "start_time": "2022-08-11T18:33:04.476Z"
   },
   {
    "duration": 143,
    "start_time": "2022-08-11T18:33:04.497Z"
   },
   {
    "duration": 15,
    "start_time": "2022-08-11T18:33:04.642Z"
   },
   {
    "duration": 118,
    "start_time": "2022-08-11T18:33:04.659Z"
   },
   {
    "duration": 62,
    "start_time": "2022-08-11T18:33:04.778Z"
   },
   {
    "duration": 23,
    "start_time": "2022-08-11T18:33:04.841Z"
   },
   {
    "duration": 73,
    "start_time": "2022-08-11T18:33:04.866Z"
   },
   {
    "duration": 36,
    "start_time": "2022-08-11T18:33:04.940Z"
   },
   {
    "duration": 3,
    "start_time": "2022-08-11T18:33:04.978Z"
   },
   {
    "duration": 9,
    "start_time": "2022-08-11T18:33:04.983Z"
   },
   {
    "duration": 145,
    "start_time": "2022-08-11T18:33:05.012Z"
   },
   {
    "duration": 161,
    "start_time": "2022-08-11T18:33:05.158Z"
   },
   {
    "duration": 157,
    "start_time": "2022-08-11T18:33:05.320Z"
   },
   {
    "duration": 455,
    "start_time": "2022-08-11T18:33:05.479Z"
   },
   {
    "duration": 246,
    "start_time": "2022-08-11T18:33:05.936Z"
   },
   {
    "duration": 865,
    "start_time": "2022-08-11T18:33:06.184Z"
   },
   {
    "duration": 66,
    "start_time": "2022-08-11T18:33:07.051Z"
   },
   {
    "duration": 25,
    "start_time": "2022-08-11T18:33:07.118Z"
   },
   {
    "duration": 10,
    "start_time": "2022-08-11T18:33:07.145Z"
   },
   {
    "duration": 2,
    "start_time": "2022-08-11T18:33:07.157Z"
   },
   {
    "duration": 5,
    "start_time": "2022-08-11T18:33:07.160Z"
   },
   {
    "duration": 4,
    "start_time": "2022-08-11T18:33:07.167Z"
   },
   {
    "duration": 343,
    "start_time": "2022-08-11T18:33:07.173Z"
   },
   {
    "duration": 398,
    "start_time": "2022-08-11T18:33:07.518Z"
   },
   {
    "duration": 6,
    "start_time": "2022-08-11T18:33:07.918Z"
   },
   {
    "duration": 324,
    "start_time": "2022-08-11T18:33:38.495Z"
   },
   {
    "duration": 128,
    "start_time": "2022-08-11T18:35:47.362Z"
   },
   {
    "duration": 113,
    "start_time": "2022-08-11T18:37:59.025Z"
   },
   {
    "duration": 4,
    "start_time": "2022-08-11T18:46:38.400Z"
   },
   {
    "duration": 104678,
    "start_time": "2022-08-11T18:47:30.036Z"
   },
   {
    "duration": 359832,
    "start_time": "2022-08-11T18:51:04.889Z"
   },
   {
    "duration": 1585,
    "start_time": "2022-08-11T18:58:57.727Z"
   },
   {
    "duration": 1459,
    "start_time": "2022-08-15T09:11:01.771Z"
   },
   {
    "duration": 2,
    "start_time": "2022-08-15T09:11:03.232Z"
   },
   {
    "duration": 3603,
    "start_time": "2022-08-15T09:11:03.236Z"
   },
   {
    "duration": 8,
    "start_time": "2022-08-15T09:11:06.841Z"
   },
   {
    "duration": 13,
    "start_time": "2022-08-15T09:11:06.851Z"
   },
   {
    "duration": 17,
    "start_time": "2022-08-15T09:11:06.866Z"
   },
   {
    "duration": 139,
    "start_time": "2022-08-15T09:11:06.884Z"
   },
   {
    "duration": 16,
    "start_time": "2022-08-15T09:11:07.025Z"
   },
   {
    "duration": 114,
    "start_time": "2022-08-15T09:11:07.042Z"
   },
   {
    "duration": 38,
    "start_time": "2022-08-15T09:11:07.157Z"
   },
   {
    "duration": 23,
    "start_time": "2022-08-15T09:11:07.196Z"
   },
   {
    "duration": 47,
    "start_time": "2022-08-15T09:11:07.220Z"
   },
   {
    "duration": 42,
    "start_time": "2022-08-15T09:11:07.268Z"
   },
   {
    "duration": 2,
    "start_time": "2022-08-15T09:11:07.313Z"
   },
   {
    "duration": 23,
    "start_time": "2022-08-15T09:11:07.316Z"
   },
   {
    "duration": 136,
    "start_time": "2022-08-15T09:11:07.341Z"
   },
   {
    "duration": 137,
    "start_time": "2022-08-15T09:11:07.478Z"
   },
   {
    "duration": 156,
    "start_time": "2022-08-15T09:11:07.616Z"
   },
   {
    "duration": 392,
    "start_time": "2022-08-15T09:11:07.774Z"
   },
   {
    "duration": 230,
    "start_time": "2022-08-15T09:11:08.168Z"
   },
   {
    "duration": 988,
    "start_time": "2022-08-15T09:11:08.400Z"
   },
   {
    "duration": 65,
    "start_time": "2022-08-15T09:11:09.390Z"
   },
   {
    "duration": 20,
    "start_time": "2022-08-15T09:11:09.457Z"
   },
   {
    "duration": 43,
    "start_time": "2022-08-15T09:11:09.479Z"
   },
   {
    "duration": 23,
    "start_time": "2022-08-15T09:11:09.524Z"
   },
   {
    "duration": 29,
    "start_time": "2022-08-15T09:11:09.548Z"
   },
   {
    "duration": 28,
    "start_time": "2022-08-15T09:11:09.578Z"
   },
   {
    "duration": 5261,
    "start_time": "2022-08-15T09:11:28.478Z"
   },
   {
    "duration": 16,
    "start_time": "2022-08-15T09:18:47.133Z"
   },
   {
    "duration": 1292,
    "start_time": "2022-08-15T09:19:32.042Z"
   },
   {
    "duration": 2,
    "start_time": "2022-08-15T09:19:33.336Z"
   },
   {
    "duration": 651,
    "start_time": "2022-08-15T09:19:33.340Z"
   },
   {
    "duration": 7,
    "start_time": "2022-08-15T09:19:33.993Z"
   },
   {
    "duration": 12,
    "start_time": "2022-08-15T09:19:34.003Z"
   },
   {
    "duration": 32,
    "start_time": "2022-08-15T09:19:34.016Z"
   },
   {
    "duration": 132,
    "start_time": "2022-08-15T09:19:34.049Z"
   },
   {
    "duration": 16,
    "start_time": "2022-08-15T09:19:34.182Z"
   },
   {
    "duration": 129,
    "start_time": "2022-08-15T09:19:34.199Z"
   },
   {
    "duration": 47,
    "start_time": "2022-08-15T09:19:34.330Z"
   },
   {
    "duration": 24,
    "start_time": "2022-08-15T09:19:34.379Z"
   },
   {
    "duration": 53,
    "start_time": "2022-08-15T09:19:34.405Z"
   },
   {
    "duration": 20,
    "start_time": "2022-08-15T09:19:36.955Z"
   },
   {
    "duration": 4,
    "start_time": "2022-08-15T09:20:07.741Z"
   },
   {
    "duration": 8,
    "start_time": "2022-08-15T09:20:27.281Z"
   },
   {
    "duration": 5,
    "start_time": "2022-08-15T09:21:13.836Z"
   },
   {
    "duration": 6,
    "start_time": "2022-08-15T09:21:20.687Z"
   },
   {
    "duration": 5,
    "start_time": "2022-08-15T09:21:38.646Z"
   },
   {
    "duration": 4,
    "start_time": "2022-08-15T09:21:57.797Z"
   },
   {
    "duration": 4,
    "start_time": "2022-08-15T09:22:02.967Z"
   },
   {
    "duration": 20,
    "start_time": "2022-08-15T09:26:42.432Z"
   },
   {
    "duration": 23,
    "start_time": "2022-08-15T09:26:53.731Z"
   },
   {
    "duration": 36,
    "start_time": "2022-08-15T09:26:59.726Z"
   },
   {
    "duration": 23,
    "start_time": "2022-08-15T09:27:13.443Z"
   },
   {
    "duration": 19,
    "start_time": "2022-08-15T09:27:52.354Z"
   },
   {
    "duration": 102,
    "start_time": "2022-08-15T09:51:14.566Z"
   },
   {
    "duration": 23,
    "start_time": "2022-08-15T09:52:33.920Z"
   },
   {
    "duration": 26,
    "start_time": "2022-08-15T09:52:49.902Z"
   },
   {
    "duration": 17,
    "start_time": "2022-08-15T09:55:16.625Z"
   },
   {
    "duration": 9,
    "start_time": "2022-08-15T10:00:31.388Z"
   },
   {
    "duration": 17,
    "start_time": "2022-08-15T10:00:41.648Z"
   },
   {
    "duration": 21,
    "start_time": "2022-08-15T10:00:43.108Z"
   },
   {
    "duration": 5,
    "start_time": "2022-08-15T10:00:49.767Z"
   },
   {
    "duration": 250024,
    "start_time": "2022-08-15T10:00:51.629Z"
   },
   {
    "duration": 0,
    "start_time": "2022-08-15T10:05:01.656Z"
   },
   {
    "duration": 2601,
    "start_time": "2022-08-15T10:05:09.342Z"
   },
   {
    "duration": 5996,
    "start_time": "2022-08-15T10:05:18.003Z"
   },
   {
    "duration": 12,
    "start_time": "2022-08-15T10:05:57.116Z"
   },
   {
    "duration": 1274,
    "start_time": "2022-08-15T10:06:20.567Z"
   },
   {
    "duration": 2,
    "start_time": "2022-08-15T10:06:21.843Z"
   },
   {
    "duration": 674,
    "start_time": "2022-08-15T10:06:21.847Z"
   },
   {
    "duration": 8,
    "start_time": "2022-08-15T10:06:22.522Z"
   },
   {
    "duration": 12,
    "start_time": "2022-08-15T10:06:22.539Z"
   },
   {
    "duration": 16,
    "start_time": "2022-08-15T10:06:22.552Z"
   },
   {
    "duration": 143,
    "start_time": "2022-08-15T10:06:22.569Z"
   },
   {
    "duration": 16,
    "start_time": "2022-08-15T10:06:22.713Z"
   },
   {
    "duration": 113,
    "start_time": "2022-08-15T10:06:22.738Z"
   },
   {
    "duration": 41,
    "start_time": "2022-08-15T10:06:22.852Z"
   },
   {
    "duration": 23,
    "start_time": "2022-08-15T10:06:22.894Z"
   },
   {
    "duration": 53,
    "start_time": "2022-08-15T10:06:22.919Z"
   },
   {
    "duration": 20,
    "start_time": "2022-08-15T10:06:22.973Z"
   },
   {
    "duration": 54,
    "start_time": "2022-08-15T10:06:22.995Z"
   },
   {
    "duration": 7,
    "start_time": "2022-08-15T10:06:23.050Z"
   },
   {
    "duration": 144,
    "start_time": "2022-08-15T10:06:23.058Z"
   },
   {
    "duration": 161,
    "start_time": "2022-08-15T10:06:23.204Z"
   },
   {
    "duration": 168,
    "start_time": "2022-08-15T10:06:23.368Z"
   },
   {
    "duration": 421,
    "start_time": "2022-08-15T10:06:23.539Z"
   },
   {
    "duration": 232,
    "start_time": "2022-08-15T10:06:23.961Z"
   },
   {
    "duration": 999,
    "start_time": "2022-08-15T10:06:24.195Z"
   },
   {
    "duration": 63,
    "start_time": "2022-08-15T10:06:25.196Z"
   },
   {
    "duration": 23,
    "start_time": "2022-08-15T10:06:25.261Z"
   },
   {
    "duration": 16,
    "start_time": "2022-08-15T10:06:25.285Z"
   },
   {
    "duration": 7,
    "start_time": "2022-08-15T10:06:25.303Z"
   },
   {
    "duration": 2228,
    "start_time": "2022-08-15T10:08:15.211Z"
   },
   {
    "duration": 5236,
    "start_time": "2022-08-15T10:08:21.139Z"
   },
   {
    "duration": 140,
    "start_time": "2022-08-15T10:08:48.837Z"
   },
   {
    "duration": 5,
    "start_time": "2022-08-15T10:09:18.540Z"
   },
   {
    "duration": 11,
    "start_time": "2022-08-15T10:09:23.408Z"
   },
   {
    "duration": 307,
    "start_time": "2022-08-15T10:09:50.633Z"
   },
   {
    "duration": 16,
    "start_time": "2022-08-15T10:10:32.556Z"
   },
   {
    "duration": 7,
    "start_time": "2022-08-15T10:10:51.390Z"
   },
   {
    "duration": 195,
    "start_time": "2022-08-15T10:11:04.039Z"
   },
   {
    "duration": 21,
    "start_time": "2022-08-15T10:12:22.219Z"
   },
   {
    "duration": 12,
    "start_time": "2022-08-15T10:12:31.914Z"
   },
   {
    "duration": 22,
    "start_time": "2022-08-15T10:14:58.581Z"
   },
   {
    "duration": 882,
    "start_time": "2022-08-15T10:16:06.967Z"
   },
   {
    "duration": 6,
    "start_time": "2022-08-15T10:16:20.849Z"
   },
   {
    "duration": 11,
    "start_time": "2022-08-15T10:16:35.680Z"
   },
   {
    "duration": 6,
    "start_time": "2022-08-15T10:16:42.370Z"
   },
   {
    "duration": 6,
    "start_time": "2022-08-15T10:16:59.476Z"
   },
   {
    "duration": 20,
    "start_time": "2022-08-15T10:17:19.527Z"
   },
   {
    "duration": 126,
    "start_time": "2022-08-15T11:01:22.256Z"
   },
   {
    "duration": 9,
    "start_time": "2022-08-15T11:09:48.817Z"
   },
   {
    "duration": 19,
    "start_time": "2022-08-15T11:09:56.590Z"
   },
   {
    "duration": 8,
    "start_time": "2022-08-15T11:10:14.766Z"
   },
   {
    "duration": 10,
    "start_time": "2022-08-15T11:10:16.632Z"
   },
   {
    "duration": 179,
    "start_time": "2022-08-15T11:10:24.066Z"
   },
   {
    "duration": 8,
    "start_time": "2022-08-15T11:12:04.063Z"
   },
   {
    "duration": 15,
    "start_time": "2022-08-15T11:12:51.373Z"
   },
   {
    "duration": 14,
    "start_time": "2022-08-15T11:13:00.232Z"
   },
   {
    "duration": 12,
    "start_time": "2022-08-15T11:16:25.236Z"
   },
   {
    "duration": 13,
    "start_time": "2022-08-15T11:17:07.823Z"
   },
   {
    "duration": 1292,
    "start_time": "2022-08-15T11:17:25.906Z"
   },
   {
    "duration": 2,
    "start_time": "2022-08-15T11:17:27.200Z"
   },
   {
    "duration": 685,
    "start_time": "2022-08-15T11:17:27.204Z"
   },
   {
    "duration": 15,
    "start_time": "2022-08-15T11:17:27.891Z"
   },
   {
    "duration": 31,
    "start_time": "2022-08-15T11:17:27.908Z"
   },
   {
    "duration": 16,
    "start_time": "2022-08-15T11:17:27.941Z"
   },
   {
    "duration": 148,
    "start_time": "2022-08-15T11:17:27.958Z"
   },
   {
    "duration": 14,
    "start_time": "2022-08-15T11:17:28.108Z"
   },
   {
    "duration": 128,
    "start_time": "2022-08-15T11:17:28.124Z"
   },
   {
    "duration": 41,
    "start_time": "2022-08-15T11:17:28.253Z"
   },
   {
    "duration": 44,
    "start_time": "2022-08-15T11:17:28.295Z"
   },
   {
    "duration": 34,
    "start_time": "2022-08-15T11:17:28.341Z"
   },
   {
    "duration": 19,
    "start_time": "2022-08-15T11:17:28.377Z"
   },
   {
    "duration": 56,
    "start_time": "2022-08-15T11:17:28.398Z"
   },
   {
    "duration": 169,
    "start_time": "2022-08-15T11:17:28.455Z"
   },
   {
    "duration": 12,
    "start_time": "2022-08-15T11:17:28.626Z"
   },
   {
    "duration": 135,
    "start_time": "2022-08-15T11:17:28.639Z"
   },
   {
    "duration": 169,
    "start_time": "2022-08-15T11:17:28.776Z"
   },
   {
    "duration": 235,
    "start_time": "2022-08-15T11:17:28.947Z"
   },
   {
    "duration": 337,
    "start_time": "2022-08-15T11:17:29.183Z"
   },
   {
    "duration": 246,
    "start_time": "2022-08-15T11:17:29.522Z"
   },
   {
    "duration": 958,
    "start_time": "2022-08-15T11:17:29.770Z"
   },
   {
    "duration": 63,
    "start_time": "2022-08-15T11:17:30.730Z"
   },
   {
    "duration": 22,
    "start_time": "2022-08-15T11:17:30.795Z"
   },
   {
    "duration": 15,
    "start_time": "2022-08-15T11:17:34.432Z"
   },
   {
    "duration": 3,
    "start_time": "2022-08-15T11:17:36.481Z"
   },
   {
    "duration": 8,
    "start_time": "2022-08-15T11:17:44.894Z"
   },
   {
    "duration": 14,
    "start_time": "2022-08-15T11:17:47.497Z"
   },
   {
    "duration": 1544,
    "start_time": "2022-08-15T11:17:57.098Z"
   },
   {
    "duration": 4430,
    "start_time": "2022-08-15T11:18:09.473Z"
   },
   {
    "duration": 264486,
    "start_time": "2022-08-15T11:18:16.851Z"
   },
   {
    "duration": 677,
    "start_time": "2022-08-15T11:27:39.768Z"
   },
   {
    "duration": 3,
    "start_time": "2022-08-15T11:27:42.347Z"
   },
   {
    "duration": 121983,
    "start_time": "2022-08-15T11:28:53.970Z"
   },
   {
    "duration": 797,
    "start_time": "2022-08-15T11:30:55.955Z"
   },
   {
    "duration": 120174,
    "start_time": "2022-08-15T11:32:55.192Z"
   },
   {
    "duration": 3,
    "start_time": "2022-08-15T11:35:27.069Z"
   },
   {
    "duration": 4,
    "start_time": "2022-08-15T11:35:34.419Z"
   },
   {
    "duration": 552,
    "start_time": "2022-08-15T11:35:47.588Z"
   },
   {
    "duration": 97,
    "start_time": "2022-08-15T12:22:15.094Z"
   },
   {
    "duration": 1311,
    "start_time": "2022-08-15T12:29:43.124Z"
   },
   {
    "duration": 2,
    "start_time": "2022-08-15T12:29:44.706Z"
   },
   {
    "duration": 717,
    "start_time": "2022-08-15T12:30:10.417Z"
   },
   {
    "duration": 8,
    "start_time": "2022-08-15T12:30:49.740Z"
   },
   {
    "duration": 12,
    "start_time": "2022-08-15T12:33:07.764Z"
   },
   {
    "duration": 17,
    "start_time": "2022-08-15T12:33:18.345Z"
   },
   {
    "duration": 124,
    "start_time": "2022-08-15T12:34:48.005Z"
   },
   {
    "duration": 17,
    "start_time": "2022-08-15T12:35:47.638Z"
   },
   {
    "duration": 115,
    "start_time": "2022-08-15T12:42:24.197Z"
   },
   {
    "duration": 51,
    "start_time": "2022-08-15T12:42:58.179Z"
   },
   {
    "duration": 31,
    "start_time": "2022-08-15T12:43:53.177Z"
   },
   {
    "duration": 26,
    "start_time": "2022-08-15T12:43:56.471Z"
   },
   {
    "duration": 34,
    "start_time": "2022-08-15T12:44:00.465Z"
   },
   {
    "duration": 35,
    "start_time": "2022-08-15T12:45:01.255Z"
   },
   {
    "duration": 18,
    "start_time": "2022-08-15T12:45:31.967Z"
   },
   {
    "duration": 17,
    "start_time": "2022-08-15T12:45:40.235Z"
   },
   {
    "duration": 36,
    "start_time": "2022-08-15T12:51:57.254Z"
   },
   {
    "duration": 7,
    "start_time": "2022-08-15T12:52:33.220Z"
   },
   {
    "duration": 131,
    "start_time": "2022-08-15T12:53:03.270Z"
   },
   {
    "duration": 135,
    "start_time": "2022-08-15T12:53:10.069Z"
   },
   {
    "duration": 155,
    "start_time": "2022-08-15T12:53:15.429Z"
   },
   {
    "duration": 415,
    "start_time": "2022-08-15T12:53:33.436Z"
   },
   {
    "duration": 323,
    "start_time": "2022-08-15T12:54:14.882Z"
   },
   {
    "duration": 240,
    "start_time": "2022-08-15T12:56:10.232Z"
   },
   {
    "duration": 968,
    "start_time": "2022-08-15T12:56:49.477Z"
   },
   {
    "duration": 60,
    "start_time": "2022-08-15T13:02:25.436Z"
   },
   {
    "duration": 22,
    "start_time": "2022-08-15T13:02:35.922Z"
   },
   {
    "duration": 16,
    "start_time": "2022-08-15T13:04:44.556Z"
   },
   {
    "duration": 104,
    "start_time": "2022-08-15T13:04:59.357Z"
   },
   {
    "duration": 17,
    "start_time": "2022-08-15T13:05:52.978Z"
   },
   {
    "duration": 270514,
    "start_time": "2022-08-15T13:17:10.207Z"
   },
   {
    "duration": 3,
    "start_time": "2022-08-15T13:24:50.693Z"
   },
   {
    "duration": 2027,
    "start_time": "2022-08-15T13:24:54.911Z"
   },
   {
    "duration": 4912,
    "start_time": "2022-08-15T13:25:02.905Z"
   },
   {
    "duration": 13,
    "start_time": "2022-08-15T13:25:55.906Z"
   },
   {
    "duration": 20,
    "start_time": "2022-08-15T13:29:56.655Z"
   },
   {
    "duration": 1499,
    "start_time": "2022-08-15T13:30:17.151Z"
   },
   {
    "duration": 10,
    "start_time": "2022-08-15T13:30:28.194Z"
   },
   {
    "duration": 3,
    "start_time": "2022-08-15T13:30:41.966Z"
   },
   {
    "duration": 17,
    "start_time": "2022-08-15T13:30:50.648Z"
   },
   {
    "duration": 9,
    "start_time": "2022-08-15T13:30:58.025Z"
   },
   {
    "duration": 4,
    "start_time": "2022-08-15T13:35:43.773Z"
   },
   {
    "duration": 1270,
    "start_time": "2022-08-15T13:36:51.517Z"
   },
   {
    "duration": 696,
    "start_time": "2022-08-15T13:36:52.790Z"
   },
   {
    "duration": 7,
    "start_time": "2022-08-15T13:36:53.488Z"
   },
   {
    "duration": 20,
    "start_time": "2022-08-15T13:36:53.496Z"
   },
   {
    "duration": 140,
    "start_time": "2022-08-15T13:36:53.518Z"
   },
   {
    "duration": 18,
    "start_time": "2022-08-15T13:36:53.659Z"
   },
   {
    "duration": 137,
    "start_time": "2022-08-15T13:36:53.678Z"
   },
   {
    "duration": 50,
    "start_time": "2022-08-15T13:36:53.817Z"
   },
   {
    "duration": 24,
    "start_time": "2022-08-15T13:36:53.869Z"
   },
   {
    "duration": 48,
    "start_time": "2022-08-15T13:36:53.895Z"
   },
   {
    "duration": 14,
    "start_time": "2022-08-15T13:36:53.945Z"
   },
   {
    "duration": 5,
    "start_time": "2022-08-15T13:38:56.143Z"
   },
   {
    "duration": 13,
    "start_time": "2022-08-15T13:39:04.529Z"
   },
   {
    "duration": 36,
    "start_time": "2022-08-15T13:43:38.657Z"
   },
   {
    "duration": 16,
    "start_time": "2022-08-15T13:43:50.596Z"
   },
   {
    "duration": 6,
    "start_time": "2022-08-15T13:44:04.487Z"
   },
   {
    "duration": 148,
    "start_time": "2022-08-15T13:44:06.212Z"
   },
   {
    "duration": 945,
    "start_time": "2022-08-15T13:44:14.355Z"
   },
   {
    "duration": 298,
    "start_time": "2022-08-15T13:44:38.460Z"
   },
   {
    "duration": 136,
    "start_time": "2022-08-15T13:44:44.496Z"
   },
   {
    "duration": 139,
    "start_time": "2022-08-15T13:44:47.064Z"
   },
   {
    "duration": 355,
    "start_time": "2022-08-15T13:44:49.611Z"
   },
   {
    "duration": 960,
    "start_time": "2022-08-15T13:44:55.376Z"
   },
   {
    "duration": 70,
    "start_time": "2022-08-15T13:44:58.389Z"
   },
   {
    "duration": 25,
    "start_time": "2022-08-15T13:45:01.822Z"
   },
   {
    "duration": 17,
    "start_time": "2022-08-15T13:45:14.455Z"
   },
   {
    "duration": 6,
    "start_time": "2022-08-15T13:45:31.907Z"
   },
   {
    "duration": 1443,
    "start_time": "2022-08-15T13:45:34.510Z"
   },
   {
    "duration": 4770,
    "start_time": "2022-08-15T13:45:38.054Z"
   },
   {
    "duration": 9,
    "start_time": "2022-08-15T13:45:53.201Z"
   },
   {
    "duration": 10,
    "start_time": "2022-08-15T13:46:18.565Z"
   },
   {
    "duration": 119858,
    "start_time": "2022-08-15T13:46:44.553Z"
   },
   {
    "duration": 95,
    "start_time": "2022-08-15T14:47:40.646Z"
   },
   {
    "duration": 59,
    "start_time": "2022-08-15T15:45:07.964Z"
   },
   {
    "duration": 1885,
    "start_time": "2022-08-15T15:45:20.487Z"
   },
   {
    "duration": 2453,
    "start_time": "2022-08-15T15:45:22.374Z"
   },
   {
    "duration": 9,
    "start_time": "2022-08-15T15:45:24.829Z"
   },
   {
    "duration": 47,
    "start_time": "2022-08-15T15:45:24.840Z"
   },
   {
    "duration": 154,
    "start_time": "2022-08-15T15:45:24.890Z"
   },
   {
    "duration": 20,
    "start_time": "2022-08-15T15:45:25.046Z"
   },
   {
    "duration": 136,
    "start_time": "2022-08-15T15:45:25.068Z"
   },
   {
    "duration": 89,
    "start_time": "2022-08-15T15:45:25.206Z"
   },
   {
    "duration": 33,
    "start_time": "2022-08-15T15:45:25.298Z"
   },
   {
    "duration": 73,
    "start_time": "2022-08-15T15:45:25.333Z"
   },
   {
    "duration": 20,
    "start_time": "2022-08-15T15:45:25.408Z"
   },
   {
    "duration": 62,
    "start_time": "2022-08-15T15:45:25.430Z"
   },
   {
    "duration": 8,
    "start_time": "2022-08-15T15:45:25.494Z"
   },
   {
    "duration": 186,
    "start_time": "2022-08-15T15:45:25.506Z"
   },
   {
    "duration": 184,
    "start_time": "2022-08-15T15:45:25.695Z"
   },
   {
    "duration": 185,
    "start_time": "2022-08-15T15:45:25.882Z"
   },
   {
    "duration": 492,
    "start_time": "2022-08-15T15:45:26.069Z"
   },
   {
    "duration": 1887,
    "start_time": "2022-08-15T15:45:31.077Z"
   },
   {
    "duration": 1819,
    "start_time": "2022-08-15T15:46:04.234Z"
   },
   {
    "duration": 287,
    "start_time": "2022-08-15T15:46:23.602Z"
   },
   {
    "duration": 4,
    "start_time": "2022-08-15T15:56:19.419Z"
   },
   {
    "duration": 1034,
    "start_time": "2022-08-15T15:56:19.425Z"
   },
   {
    "duration": 12,
    "start_time": "2022-08-15T15:56:20.463Z"
   },
   {
    "duration": 59,
    "start_time": "2022-08-15T15:56:20.477Z"
   },
   {
    "duration": 198,
    "start_time": "2022-08-15T15:56:20.539Z"
   },
   {
    "duration": 21,
    "start_time": "2022-08-15T15:56:20.739Z"
   },
   {
    "duration": 169,
    "start_time": "2022-08-15T15:56:20.762Z"
   },
   {
    "duration": 41,
    "start_time": "2022-08-15T15:56:20.932Z"
   },
   {
    "duration": 47,
    "start_time": "2022-08-15T15:56:20.976Z"
   },
   {
    "duration": 66,
    "start_time": "2022-08-15T15:56:21.026Z"
   },
   {
    "duration": 27,
    "start_time": "2022-08-15T15:56:21.097Z"
   },
   {
    "duration": 25,
    "start_time": "2022-08-15T15:56:21.127Z"
   },
   {
    "duration": 29,
    "start_time": "2022-08-15T15:56:21.154Z"
   },
   {
    "duration": 234,
    "start_time": "2022-08-15T15:56:21.186Z"
   },
   {
    "duration": 215,
    "start_time": "2022-08-15T15:56:21.422Z"
   },
   {
    "duration": 379,
    "start_time": "2022-08-15T15:56:21.639Z"
   },
   {
    "duration": 521,
    "start_time": "2022-08-15T15:56:22.020Z"
   },
   {
    "duration": 345,
    "start_time": "2022-08-15T15:56:22.544Z"
   },
   {
    "duration": 1814,
    "start_time": "2022-08-15T15:56:22.891Z"
   },
   {
    "duration": 0,
    "start_time": "2022-08-15T15:56:24.706Z"
   },
   {
    "duration": 0,
    "start_time": "2022-08-15T15:56:24.708Z"
   },
   {
    "duration": 0,
    "start_time": "2022-08-15T15:56:24.710Z"
   },
   {
    "duration": 0,
    "start_time": "2022-08-15T15:56:24.711Z"
   },
   {
    "duration": 1204,
    "start_time": "2022-08-15T16:12:23.824Z"
   },
   {
    "duration": 11,
    "start_time": "2022-08-15T16:13:07.812Z"
   },
   {
    "duration": 2193,
    "start_time": "2022-08-15T16:13:18.831Z"
   },
   {
    "duration": 0,
    "start_time": "2022-08-15T16:13:21.026Z"
   },
   {
    "duration": 1527,
    "start_time": "2022-08-15T16:13:23.458Z"
   },
   {
    "duration": 101,
    "start_time": "2022-08-15T16:13:39.854Z"
   },
   {
    "duration": 1667,
    "start_time": "2022-08-15T16:13:43.322Z"
   },
   {
    "duration": 28,
    "start_time": "2022-08-15T16:13:47.923Z"
   },
   {
    "duration": 4,
    "start_time": "2022-08-15T16:13:51.883Z"
   },
   {
    "duration": 1739,
    "start_time": "2022-08-15T16:14:00.162Z"
   },
   {
    "duration": 1381,
    "start_time": "2022-08-15T16:14:43.013Z"
   },
   {
    "duration": 1663,
    "start_time": "2022-08-15T16:14:47.634Z"
   },
   {
    "duration": 4,
    "start_time": "2022-08-15T16:27:34.348Z"
   },
   {
    "duration": 312,
    "start_time": "2022-08-15T16:36:50.488Z"
   },
   {
    "duration": 336,
    "start_time": "2022-08-15T16:37:07.858Z"
   },
   {
    "duration": 386,
    "start_time": "2022-08-15T16:39:17.707Z"
   },
   {
    "duration": 4,
    "start_time": "2022-08-15T16:40:01.506Z"
   },
   {
    "duration": 387,
    "start_time": "2022-08-15T16:40:06.906Z"
   },
   {
    "duration": 422,
    "start_time": "2022-08-15T16:40:27.471Z"
   },
   {
    "duration": 4,
    "start_time": "2022-08-15T16:42:09.750Z"
   },
   {
    "duration": 481,
    "start_time": "2022-08-15T16:42:13.422Z"
   },
   {
    "duration": 1203,
    "start_time": "2022-08-15T16:42:23.088Z"
   },
   {
    "duration": 1544,
    "start_time": "2022-08-16T07:34:45.417Z"
   },
   {
    "duration": 2005,
    "start_time": "2022-08-16T07:34:46.962Z"
   },
   {
    "duration": 8,
    "start_time": "2022-08-16T07:34:48.969Z"
   },
   {
    "duration": 3,
    "start_time": "2022-08-16T07:34:59.575Z"
   },
   {
    "duration": 641,
    "start_time": "2022-08-16T07:34:59.582Z"
   },
   {
    "duration": 7,
    "start_time": "2022-08-16T07:35:00.225Z"
   },
   {
    "duration": 26,
    "start_time": "2022-08-16T07:35:00.233Z"
   },
   {
    "duration": 139,
    "start_time": "2022-08-16T07:35:00.262Z"
   },
   {
    "duration": 16,
    "start_time": "2022-08-16T07:35:00.403Z"
   },
   {
    "duration": 136,
    "start_time": "2022-08-16T07:35:00.421Z"
   },
   {
    "duration": 43,
    "start_time": "2022-08-16T07:35:00.559Z"
   },
   {
    "duration": 27,
    "start_time": "2022-08-16T07:35:00.603Z"
   },
   {
    "duration": 54,
    "start_time": "2022-08-16T07:35:00.631Z"
   },
   {
    "duration": 17,
    "start_time": "2022-08-16T07:35:00.687Z"
   },
   {
    "duration": 8,
    "start_time": "2022-08-16T07:35:00.706Z"
   },
   {
    "duration": 18,
    "start_time": "2022-08-16T07:35:00.715Z"
   },
   {
    "duration": 151,
    "start_time": "2022-08-16T07:35:00.735Z"
   },
   {
    "duration": 163,
    "start_time": "2022-08-16T07:35:00.887Z"
   },
   {
    "duration": 155,
    "start_time": "2022-08-16T07:35:01.055Z"
   },
   {
    "duration": 418,
    "start_time": "2022-08-16T07:35:01.212Z"
   },
   {
    "duration": 239,
    "start_time": "2022-08-16T07:35:01.632Z"
   },
   {
    "duration": 1015,
    "start_time": "2022-08-16T07:35:01.873Z"
   },
   {
    "duration": 92,
    "start_time": "2022-08-16T07:35:02.889Z"
   },
   {
    "duration": 15916,
    "start_time": "2022-08-16T07:35:02.983Z"
   },
   {
    "duration": 0,
    "start_time": "2022-08-16T07:35:18.902Z"
   },
   {
    "duration": 0,
    "start_time": "2022-08-16T07:35:18.903Z"
   },
   {
    "duration": 0,
    "start_time": "2022-08-16T07:35:18.904Z"
   },
   {
    "duration": 0,
    "start_time": "2022-08-16T07:35:18.905Z"
   },
   {
    "duration": 0,
    "start_time": "2022-08-16T07:35:18.907Z"
   },
   {
    "duration": 0,
    "start_time": "2022-08-16T07:35:18.908Z"
   },
   {
    "duration": 1,
    "start_time": "2022-08-16T07:35:18.909Z"
   },
   {
    "duration": 0,
    "start_time": "2022-08-16T07:35:18.911Z"
   },
   {
    "duration": 1304,
    "start_time": "2022-08-16T07:51:06.832Z"
   },
   {
    "duration": 22,
    "start_time": "2022-08-16T07:51:13.446Z"
   },
   {
    "duration": 3,
    "start_time": "2022-08-16T07:51:44.723Z"
   },
   {
    "duration": 251,
    "start_time": "2022-08-16T07:51:54.716Z"
   },
   {
    "duration": 2341,
    "start_time": "2022-08-16T07:52:05.619Z"
   },
   {
    "duration": 239108,
    "start_time": "2022-08-16T08:23:56.769Z"
   },
   {
    "duration": 10,
    "start_time": "2022-08-16T08:29:32.384Z"
   },
   {
    "duration": 3,
    "start_time": "2022-08-16T08:32:27.179Z"
   },
   {
    "duration": 1269,
    "start_time": "2022-08-16T08:32:42.232Z"
   },
   {
    "duration": 1365,
    "start_time": "2022-08-16T08:33:09.578Z"
   },
   {
    "duration": 27,
    "start_time": "2022-08-16T08:33:18.138Z"
   },
   {
    "duration": 523,
    "start_time": "2022-08-16T08:33:27.793Z"
   },
   {
    "duration": 4,
    "start_time": "2022-08-16T08:35:54.826Z"
   },
   {
    "duration": 1148075,
    "start_time": "2022-08-16T08:35:57.857Z"
   },
   {
    "duration": 7374,
    "start_time": "2022-08-16T08:56:39.109Z"
   },
   {
    "duration": 109062,
    "start_time": "2022-08-16T08:56:55.531Z"
   },
   {
    "duration": 11770,
    "start_time": "2022-08-16T08:59:03.852Z"
   },
   {
    "duration": 105,
    "start_time": "2022-08-16T08:59:28.045Z"
   },
   {
    "duration": 108145,
    "start_time": "2022-08-16T08:59:39.039Z"
   },
   {
    "duration": 96,
    "start_time": "2022-08-16T09:06:51.699Z"
   },
   {
    "duration": 215,
    "start_time": "2022-08-16T09:07:01.660Z"
   },
   {
    "duration": 15332,
    "start_time": "2022-08-16T09:08:00.306Z"
   },
   {
    "duration": 59664,
    "start_time": "2022-08-16T09:08:20.848Z"
   },
   {
    "duration": 4,
    "start_time": "2022-08-16T09:11:20.313Z"
   },
   {
    "duration": 3,
    "start_time": "2022-08-16T09:13:42.974Z"
   },
   {
    "duration": 433,
    "start_time": "2022-08-16T09:13:52.523Z"
   },
   {
    "duration": 3,
    "start_time": "2022-08-16T09:14:30.149Z"
   },
   {
    "duration": 349,
    "start_time": "2022-08-16T09:14:33.615Z"
   },
   {
    "duration": 44,
    "start_time": "2022-08-16T09:15:13.390Z"
   },
   {
    "duration": 1380,
    "start_time": "2022-08-16T09:15:32.017Z"
   },
   {
    "duration": 2083,
    "start_time": "2022-08-16T09:15:33.399Z"
   },
   {
    "duration": 8,
    "start_time": "2022-08-16T09:15:35.484Z"
   },
   {
    "duration": 13,
    "start_time": "2022-08-16T09:15:35.493Z"
   },
   {
    "duration": 141,
    "start_time": "2022-08-16T09:15:35.509Z"
   },
   {
    "duration": 21,
    "start_time": "2022-08-16T09:15:35.651Z"
   },
   {
    "duration": 141,
    "start_time": "2022-08-16T09:15:35.675Z"
   },
   {
    "duration": 69,
    "start_time": "2022-08-16T09:15:35.817Z"
   },
   {
    "duration": 27,
    "start_time": "2022-08-16T09:15:35.889Z"
   },
   {
    "duration": 45,
    "start_time": "2022-08-16T09:15:35.918Z"
   },
   {
    "duration": 22,
    "start_time": "2022-08-16T09:15:35.970Z"
   },
   {
    "duration": 3,
    "start_time": "2022-08-16T09:15:35.993Z"
   },
   {
    "duration": 11,
    "start_time": "2022-08-16T09:15:35.997Z"
   },
   {
    "duration": 156,
    "start_time": "2022-08-16T09:15:36.011Z"
   },
   {
    "duration": 148,
    "start_time": "2022-08-16T09:15:36.169Z"
   },
   {
    "duration": 174,
    "start_time": "2022-08-16T09:15:36.318Z"
   },
   {
    "duration": 487,
    "start_time": "2022-08-16T09:15:36.493Z"
   },
   {
    "duration": 269,
    "start_time": "2022-08-16T09:15:36.982Z"
   },
   {
    "duration": 1185,
    "start_time": "2022-08-16T09:15:37.255Z"
   },
   {
    "duration": 123,
    "start_time": "2022-08-16T09:15:38.442Z"
   },
   {
    "duration": 29,
    "start_time": "2022-08-16T09:15:38.567Z"
   },
   {
    "duration": 10,
    "start_time": "2022-08-16T09:15:38.598Z"
   },
   {
    "duration": 4,
    "start_time": "2022-08-16T09:15:38.609Z"
   },
   {
    "duration": 10,
    "start_time": "2022-08-16T09:15:38.615Z"
   },
   {
    "duration": 3864,
    "start_time": "2022-08-16T09:15:38.627Z"
   },
   {
    "duration": 4,
    "start_time": "2022-08-16T09:22:58.988Z"
   },
   {
    "duration": 55,
    "start_time": "2022-08-16T09:23:22.577Z"
   },
   {
    "duration": 3,
    "start_time": "2022-08-16T09:23:34.545Z"
   },
   {
    "duration": 1459,
    "start_time": "2022-08-16T09:23:44.972Z"
   },
   {
    "duration": 2162,
    "start_time": "2022-08-16T09:23:46.433Z"
   },
   {
    "duration": 9,
    "start_time": "2022-08-16T09:23:48.597Z"
   },
   {
    "duration": 36,
    "start_time": "2022-08-16T09:23:48.608Z"
   },
   {
    "duration": 147,
    "start_time": "2022-08-16T09:23:48.647Z"
   },
   {
    "duration": 18,
    "start_time": "2022-08-16T09:23:48.796Z"
   },
   {
    "duration": 161,
    "start_time": "2022-08-16T09:23:48.816Z"
   },
   {
    "duration": 47,
    "start_time": "2022-08-16T09:23:48.979Z"
   },
   {
    "duration": 52,
    "start_time": "2022-08-16T09:23:49.028Z"
   },
   {
    "duration": 39,
    "start_time": "2022-08-16T09:23:49.082Z"
   },
   {
    "duration": 35,
    "start_time": "2022-08-16T09:23:49.123Z"
   },
   {
    "duration": 3,
    "start_time": "2022-08-16T09:23:49.167Z"
   },
   {
    "duration": 12,
    "start_time": "2022-08-16T09:23:49.172Z"
   },
   {
    "duration": 156,
    "start_time": "2022-08-16T09:23:49.187Z"
   },
   {
    "duration": 168,
    "start_time": "2022-08-16T09:23:49.345Z"
   },
   {
    "duration": 185,
    "start_time": "2022-08-16T09:23:49.515Z"
   },
   {
    "duration": 454,
    "start_time": "2022-08-16T09:23:49.702Z"
   },
   {
    "duration": 282,
    "start_time": "2022-08-16T09:23:50.158Z"
   },
   {
    "duration": 1105,
    "start_time": "2022-08-16T09:23:50.442Z"
   },
   {
    "duration": 111,
    "start_time": "2022-08-16T09:23:51.549Z"
   },
   {
    "duration": 25,
    "start_time": "2022-08-16T09:23:51.661Z"
   },
   {
    "duration": 10,
    "start_time": "2022-08-16T09:23:51.688Z"
   },
   {
    "duration": 2,
    "start_time": "2022-08-16T09:23:51.701Z"
   },
   {
    "duration": 3,
    "start_time": "2022-08-16T09:36:31.132Z"
   },
   {
    "duration": 218,
    "start_time": "2022-08-16T09:36:32.839Z"
   },
   {
    "duration": 6492,
    "start_time": "2022-08-16T09:36:48.039Z"
   },
   {
    "duration": 81349,
    "start_time": "2022-08-16T09:37:11.714Z"
   },
   {
    "duration": 102,
    "start_time": "2022-08-16T09:41:01.942Z"
   },
   {
    "duration": 46715,
    "start_time": "2022-08-16T09:41:33.551Z"
   },
   {
    "duration": 3,
    "start_time": "2022-08-16T09:42:34.756Z"
   },
   {
    "duration": 54942,
    "start_time": "2022-08-16T09:45:10.937Z"
   },
   {
    "duration": 4,
    "start_time": "2022-08-16T09:46:12.723Z"
   },
   {
    "duration": 2741,
    "start_time": "2022-08-16T09:46:29.925Z"
   },
   {
    "duration": 2824,
    "start_time": "2022-08-16T09:46:49.838Z"
   },
   {
    "duration": 47431,
    "start_time": "2022-08-16T09:49:59.099Z"
   },
   {
    "duration": 1728,
    "start_time": "2022-08-16T09:50:46.532Z"
   },
   {
    "duration": 1624,
    "start_time": "2022-08-16T09:54:40.531Z"
   },
   {
    "duration": 3,
    "start_time": "2022-08-16T10:03:49.580Z"
   },
   {
    "duration": 1376,
    "start_time": "2022-08-16T10:04:01.283Z"
   },
   {
    "duration": 1378,
    "start_time": "2022-08-16T10:04:55.239Z"
   },
   {
    "duration": 1928,
    "start_time": "2022-08-16T10:04:56.618Z"
   },
   {
    "duration": 8,
    "start_time": "2022-08-16T10:04:58.547Z"
   },
   {
    "duration": 14,
    "start_time": "2022-08-16T10:04:58.557Z"
   },
   {
    "duration": 130,
    "start_time": "2022-08-16T10:04:58.573Z"
   },
   {
    "duration": 16,
    "start_time": "2022-08-16T10:04:58.704Z"
   },
   {
    "duration": 126,
    "start_time": "2022-08-16T10:04:58.721Z"
   },
   {
    "duration": 41,
    "start_time": "2022-08-16T10:04:58.849Z"
   },
   {
    "duration": 26,
    "start_time": "2022-08-16T10:04:58.892Z"
   },
   {
    "duration": 56,
    "start_time": "2022-08-16T10:04:58.920Z"
   },
   {
    "duration": 21,
    "start_time": "2022-08-16T10:04:58.979Z"
   },
   {
    "duration": 1296,
    "start_time": "2022-08-16T10:05:38.076Z"
   },
   {
    "duration": 0,
    "start_time": "2022-08-16T10:05:39.374Z"
   },
   {
    "duration": 0,
    "start_time": "2022-08-16T10:05:39.376Z"
   },
   {
    "duration": 0,
    "start_time": "2022-08-16T10:05:39.377Z"
   },
   {
    "duration": 0,
    "start_time": "2022-08-16T10:05:39.379Z"
   },
   {
    "duration": 0,
    "start_time": "2022-08-16T10:05:39.380Z"
   },
   {
    "duration": 0,
    "start_time": "2022-08-16T10:05:39.381Z"
   },
   {
    "duration": 0,
    "start_time": "2022-08-16T10:05:39.383Z"
   },
   {
    "duration": 0,
    "start_time": "2022-08-16T10:05:39.384Z"
   },
   {
    "duration": 0,
    "start_time": "2022-08-16T10:05:39.385Z"
   },
   {
    "duration": 0,
    "start_time": "2022-08-16T10:05:39.387Z"
   },
   {
    "duration": 0,
    "start_time": "2022-08-16T10:05:39.388Z"
   },
   {
    "duration": 0,
    "start_time": "2022-08-16T10:05:39.389Z"
   },
   {
    "duration": 0,
    "start_time": "2022-08-16T10:05:39.390Z"
   },
   {
    "duration": 5,
    "start_time": "2022-08-16T10:05:45.474Z"
   },
   {
    "duration": 634,
    "start_time": "2022-08-16T10:05:45.481Z"
   },
   {
    "duration": 8,
    "start_time": "2022-08-16T10:05:46.116Z"
   },
   {
    "duration": 15,
    "start_time": "2022-08-16T10:05:46.125Z"
   },
   {
    "duration": 139,
    "start_time": "2022-08-16T10:05:46.142Z"
   },
   {
    "duration": 17,
    "start_time": "2022-08-16T10:05:46.282Z"
   },
   {
    "duration": 120,
    "start_time": "2022-08-16T10:05:46.301Z"
   },
   {
    "duration": 46,
    "start_time": "2022-08-16T10:05:46.423Z"
   },
   {
    "duration": 39,
    "start_time": "2022-08-16T10:05:46.471Z"
   },
   {
    "duration": 59,
    "start_time": "2022-08-16T10:05:46.511Z"
   },
   {
    "duration": 21,
    "start_time": "2022-08-16T10:05:46.572Z"
   },
   {
    "duration": 3,
    "start_time": "2022-08-16T10:05:46.594Z"
   },
   {
    "duration": 7,
    "start_time": "2022-08-16T10:05:46.599Z"
   },
   {
    "duration": 175,
    "start_time": "2022-08-16T10:05:46.608Z"
   },
   {
    "duration": 234,
    "start_time": "2022-08-16T10:05:46.785Z"
   },
   {
    "duration": 154,
    "start_time": "2022-08-16T10:05:47.020Z"
   },
   {
    "duration": 418,
    "start_time": "2022-08-16T10:05:47.176Z"
   },
   {
    "duration": 290,
    "start_time": "2022-08-16T10:05:47.596Z"
   },
   {
    "duration": 1036,
    "start_time": "2022-08-16T10:05:47.887Z"
   },
   {
    "duration": 92,
    "start_time": "2022-08-16T10:05:48.925Z"
   },
   {
    "duration": 38,
    "start_time": "2022-08-16T10:05:49.019Z"
   },
   {
    "duration": 10,
    "start_time": "2022-08-16T10:05:49.059Z"
   },
   {
    "duration": 2,
    "start_time": "2022-08-16T10:05:49.072Z"
   },
   {
    "duration": 14,
    "start_time": "2022-08-16T10:05:49.076Z"
   },
   {
    "duration": 1491,
    "start_time": "2022-08-16T10:06:11.725Z"
   },
   {
    "duration": 2047,
    "start_time": "2022-08-16T10:06:13.217Z"
   },
   {
    "duration": 10,
    "start_time": "2022-08-16T10:06:15.267Z"
   },
   {
    "duration": 17,
    "start_time": "2022-08-16T10:06:15.280Z"
   },
   {
    "duration": 178,
    "start_time": "2022-08-16T10:06:15.299Z"
   },
   {
    "duration": 17,
    "start_time": "2022-08-16T10:06:15.479Z"
   },
   {
    "duration": 132,
    "start_time": "2022-08-16T10:06:15.498Z"
   },
   {
    "duration": 53,
    "start_time": "2022-08-16T10:06:15.632Z"
   },
   {
    "duration": 34,
    "start_time": "2022-08-16T10:06:15.686Z"
   },
   {
    "duration": 54,
    "start_time": "2022-08-16T10:06:15.723Z"
   },
   {
    "duration": 25,
    "start_time": "2022-08-16T10:06:15.780Z"
   },
   {
    "duration": 3,
    "start_time": "2022-08-16T10:06:15.807Z"
   },
   {
    "duration": 13,
    "start_time": "2022-08-16T10:06:15.812Z"
   },
   {
    "duration": 196,
    "start_time": "2022-08-16T10:06:15.828Z"
   },
   {
    "duration": 207,
    "start_time": "2022-08-16T10:06:16.026Z"
   },
   {
    "duration": 168,
    "start_time": "2022-08-16T10:06:16.235Z"
   },
   {
    "duration": 555,
    "start_time": "2022-08-16T10:06:16.405Z"
   },
   {
    "duration": 260,
    "start_time": "2022-08-16T10:06:16.961Z"
   },
   {
    "duration": 1129,
    "start_time": "2022-08-16T10:06:17.223Z"
   },
   {
    "duration": 102,
    "start_time": "2022-08-16T10:06:18.355Z"
   },
   {
    "duration": 29,
    "start_time": "2022-08-16T10:06:18.459Z"
   },
   {
    "duration": 8,
    "start_time": "2022-08-16T10:06:18.491Z"
   },
   {
    "duration": 5,
    "start_time": "2022-08-16T10:06:18.501Z"
   },
   {
    "duration": 4,
    "start_time": "2022-08-16T10:06:27.470Z"
   },
   {
    "duration": 1344,
    "start_time": "2022-08-16T10:07:09.711Z"
   },
   {
    "duration": 1992,
    "start_time": "2022-08-16T10:07:11.056Z"
   },
   {
    "duration": 9,
    "start_time": "2022-08-16T10:07:13.049Z"
   },
   {
    "duration": 13,
    "start_time": "2022-08-16T10:07:13.060Z"
   },
   {
    "duration": 152,
    "start_time": "2022-08-16T10:07:13.075Z"
   },
   {
    "duration": 27,
    "start_time": "2022-08-16T10:07:13.228Z"
   },
   {
    "duration": 125,
    "start_time": "2022-08-16T10:07:13.257Z"
   },
   {
    "duration": 52,
    "start_time": "2022-08-16T10:07:13.384Z"
   },
   {
    "duration": 39,
    "start_time": "2022-08-16T10:07:13.438Z"
   },
   {
    "duration": 37,
    "start_time": "2022-08-16T10:07:13.479Z"
   },
   {
    "duration": 40,
    "start_time": "2022-08-16T10:07:13.518Z"
   },
   {
    "duration": 3,
    "start_time": "2022-08-16T10:07:13.559Z"
   },
   {
    "duration": 9,
    "start_time": "2022-08-16T10:07:13.563Z"
   },
   {
    "duration": 155,
    "start_time": "2022-08-16T10:07:13.573Z"
   },
   {
    "duration": 156,
    "start_time": "2022-08-16T10:07:13.729Z"
   },
   {
    "duration": 159,
    "start_time": "2022-08-16T10:07:13.887Z"
   },
   {
    "duration": 439,
    "start_time": "2022-08-16T10:07:14.047Z"
   },
   {
    "duration": 260,
    "start_time": "2022-08-16T10:07:14.487Z"
   },
   {
    "duration": 1021,
    "start_time": "2022-08-16T10:07:14.755Z"
   },
   {
    "duration": 91,
    "start_time": "2022-08-16T10:07:15.778Z"
   },
   {
    "duration": 24,
    "start_time": "2022-08-16T10:07:15.871Z"
   },
   {
    "duration": 9,
    "start_time": "2022-08-16T10:07:15.896Z"
   },
   {
    "duration": 2,
    "start_time": "2022-08-16T10:07:15.907Z"
   },
   {
    "duration": 7,
    "start_time": "2022-08-16T10:07:15.911Z"
   },
   {
    "duration": 11,
    "start_time": "2022-08-16T10:07:38.844Z"
   },
   {
    "duration": 41,
    "start_time": "2022-08-16T10:07:41.609Z"
   },
   {
    "duration": 1335,
    "start_time": "2022-08-16T10:07:50.415Z"
   },
   {
    "duration": 1962,
    "start_time": "2022-08-16T10:07:51.752Z"
   },
   {
    "duration": 8,
    "start_time": "2022-08-16T10:07:53.716Z"
   },
   {
    "duration": 15,
    "start_time": "2022-08-16T10:07:53.725Z"
   },
   {
    "duration": 129,
    "start_time": "2022-08-16T10:07:53.742Z"
   },
   {
    "duration": 17,
    "start_time": "2022-08-16T10:07:53.873Z"
   },
   {
    "duration": 133,
    "start_time": "2022-08-16T10:07:53.891Z"
   },
   {
    "duration": 49,
    "start_time": "2022-08-16T10:07:54.026Z"
   },
   {
    "duration": 27,
    "start_time": "2022-08-16T10:07:54.077Z"
   },
   {
    "duration": 53,
    "start_time": "2022-08-16T10:07:54.105Z"
   },
   {
    "duration": 17,
    "start_time": "2022-08-16T10:07:54.160Z"
   },
   {
    "duration": 2,
    "start_time": "2022-08-16T10:07:54.179Z"
   },
   {
    "duration": 8,
    "start_time": "2022-08-16T10:07:54.183Z"
   },
   {
    "duration": 166,
    "start_time": "2022-08-16T10:07:54.194Z"
   },
   {
    "duration": 148,
    "start_time": "2022-08-16T10:07:54.361Z"
   },
   {
    "duration": 163,
    "start_time": "2022-08-16T10:07:54.511Z"
   },
   {
    "duration": 455,
    "start_time": "2022-08-16T10:07:54.676Z"
   },
   {
    "duration": 258,
    "start_time": "2022-08-16T10:07:55.133Z"
   },
   {
    "duration": 1019,
    "start_time": "2022-08-16T10:07:55.392Z"
   },
   {
    "duration": 108,
    "start_time": "2022-08-16T10:07:56.413Z"
   },
   {
    "duration": 23,
    "start_time": "2022-08-16T10:07:56.523Z"
   },
   {
    "duration": 8,
    "start_time": "2022-08-16T10:07:56.548Z"
   },
   {
    "duration": 3,
    "start_time": "2022-08-16T10:07:56.558Z"
   },
   {
    "duration": 5,
    "start_time": "2022-08-16T10:07:56.563Z"
   },
   {
    "duration": 588,
    "start_time": "2022-08-16T10:07:56.569Z"
   },
   {
    "duration": 341,
    "start_time": "2022-08-16T10:07:59.615Z"
   },
   {
    "duration": 67,
    "start_time": "2022-08-16T10:08:30.488Z"
   },
   {
    "duration": 3,
    "start_time": "2022-08-16T10:08:48.082Z"
   },
   {
    "duration": 1831,
    "start_time": "2022-08-16T10:08:52.132Z"
   },
   {
    "duration": 4353,
    "start_time": "2022-08-16T10:09:10.568Z"
   },
   {
    "duration": 3697,
    "start_time": "2022-08-16T10:09:34.902Z"
   },
   {
    "duration": 1291,
    "start_time": "2022-08-16T10:10:42.006Z"
   },
   {
    "duration": 654,
    "start_time": "2022-08-16T10:10:43.299Z"
   },
   {
    "duration": 9,
    "start_time": "2022-08-16T10:10:43.955Z"
   },
   {
    "duration": 13,
    "start_time": "2022-08-16T10:10:43.965Z"
   },
   {
    "duration": 144,
    "start_time": "2022-08-16T10:10:43.980Z"
   },
   {
    "duration": 16,
    "start_time": "2022-08-16T10:10:44.125Z"
   },
   {
    "duration": 142,
    "start_time": "2022-08-16T10:10:44.142Z"
   },
   {
    "duration": 40,
    "start_time": "2022-08-16T10:10:44.285Z"
   },
   {
    "duration": 41,
    "start_time": "2022-08-16T10:10:44.327Z"
   },
   {
    "duration": 37,
    "start_time": "2022-08-16T10:10:44.370Z"
   },
   {
    "duration": 31,
    "start_time": "2022-08-16T10:10:44.409Z"
   },
   {
    "duration": 16,
    "start_time": "2022-08-16T10:10:44.442Z"
   },
   {
    "duration": 9,
    "start_time": "2022-08-16T10:10:44.460Z"
   },
   {
    "duration": 156,
    "start_time": "2022-08-16T10:10:44.472Z"
   },
   {
    "duration": 173,
    "start_time": "2022-08-16T10:10:44.630Z"
   },
   {
    "duration": 178,
    "start_time": "2022-08-16T10:10:44.805Z"
   },
   {
    "duration": 474,
    "start_time": "2022-08-16T10:10:44.985Z"
   },
   {
    "duration": 263,
    "start_time": "2022-08-16T10:10:45.461Z"
   },
   {
    "duration": 1134,
    "start_time": "2022-08-16T10:10:45.726Z"
   },
   {
    "duration": 101,
    "start_time": "2022-08-16T10:10:46.863Z"
   },
   {
    "duration": 27,
    "start_time": "2022-08-16T10:10:46.965Z"
   },
   {
    "duration": 13,
    "start_time": "2022-08-16T10:10:46.994Z"
   },
   {
    "duration": 3,
    "start_time": "2022-08-16T10:10:47.009Z"
   },
   {
    "duration": 11,
    "start_time": "2022-08-16T10:10:47.014Z"
   },
   {
    "duration": 3,
    "start_time": "2022-08-16T10:11:11.202Z"
   },
   {
    "duration": 2537,
    "start_time": "2022-08-16T10:11:15.235Z"
   },
   {
    "duration": 371,
    "start_time": "2022-08-16T10:20:35.785Z"
   },
   {
    "duration": 3,
    "start_time": "2022-08-16T10:20:39.111Z"
   },
   {
    "duration": 109,
    "start_time": "2022-08-16T10:20:40.977Z"
   },
   {
    "duration": 26,
    "start_time": "2022-08-16T10:32:33.425Z"
   },
   {
    "duration": 4,
    "start_time": "2022-08-16T10:32:39.256Z"
   },
   {
    "duration": 3,
    "start_time": "2022-08-16T10:33:05.335Z"
   },
   {
    "duration": 375,
    "start_time": "2022-08-16T10:33:08.281Z"
   },
   {
    "duration": 3,
    "start_time": "2022-08-16T10:33:18.799Z"
   },
   {
    "duration": 242,
    "start_time": "2022-08-16T10:33:21.016Z"
   },
   {
    "duration": 3,
    "start_time": "2022-08-16T10:33:37.202Z"
   },
   {
    "duration": 282,
    "start_time": "2022-08-16T10:33:41.477Z"
   },
   {
    "duration": 3,
    "start_time": "2022-08-16T10:36:06.920Z"
   },
   {
    "duration": 296,
    "start_time": "2022-08-16T10:36:08.860Z"
   },
   {
    "duration": 2,
    "start_time": "2022-08-16T10:41:15.560Z"
   },
   {
    "duration": 10,
    "start_time": "2022-08-16T10:41:20.991Z"
   },
   {
    "duration": 107,
    "start_time": "2022-08-16T10:41:39.122Z"
   },
   {
    "duration": 15,
    "start_time": "2022-08-16T10:41:42.550Z"
   },
   {
    "duration": 324,
    "start_time": "2022-08-16T10:46:15.034Z"
   },
   {
    "duration": 8,
    "start_time": "2022-08-16T10:46:23.330Z"
   },
   {
    "duration": 9,
    "start_time": "2022-08-16T10:47:30.152Z"
   },
   {
    "duration": 264,
    "start_time": "2022-08-16T10:47:40.692Z"
   },
   {
    "duration": 8,
    "start_time": "2022-08-16T10:47:44.709Z"
   },
   {
    "duration": 8,
    "start_time": "2022-08-16T10:51:35.870Z"
   },
   {
    "duration": 12,
    "start_time": "2022-08-16T10:52:40.122Z"
   },
   {
    "duration": 236,
    "start_time": "2022-08-16T10:53:56.631Z"
   },
   {
    "duration": 527,
    "start_time": "2022-08-16T10:54:53.530Z"
   },
   {
    "duration": 47321,
    "start_time": "2022-08-16T10:55:54.992Z"
   },
   {
    "duration": 1845,
    "start_time": "2022-08-16T10:56:42.315Z"
   },
   {
    "duration": 3,
    "start_time": "2022-08-16T10:56:52.409Z"
   },
   {
    "duration": 5,
    "start_time": "2022-08-16T10:57:57.410Z"
   },
   {
    "duration": 254,
    "start_time": "2022-08-16T10:57:59.707Z"
   },
   {
    "duration": 3,
    "start_time": "2022-08-16T10:59:33.540Z"
   },
   {
    "duration": 192,
    "start_time": "2022-08-16T10:59:35.769Z"
   },
   {
    "duration": 3,
    "start_time": "2022-08-16T11:00:15.093Z"
   },
   {
    "duration": 268,
    "start_time": "2022-08-16T11:00:16.888Z"
   },
   {
    "duration": 3,
    "start_time": "2022-08-16T11:02:47.231Z"
   },
   {
    "duration": 46520,
    "start_time": "2022-08-16T11:02:51.883Z"
   },
   {
    "duration": 3,
    "start_time": "2022-08-16T11:03:41.998Z"
   },
   {
    "duration": 158,
    "start_time": "2022-08-16T11:03:44.406Z"
   },
   {
    "duration": 3,
    "start_time": "2022-08-16T11:03:56.106Z"
   },
   {
    "duration": 246,
    "start_time": "2022-08-16T11:03:58.310Z"
   },
   {
    "duration": 46875,
    "start_time": "2022-08-16T11:04:09.121Z"
   },
   {
    "duration": 4,
    "start_time": "2022-08-16T11:06:03.637Z"
   },
   {
    "duration": 3,
    "start_time": "2022-08-16T11:10:43.362Z"
   },
   {
    "duration": 308,
    "start_time": "2022-08-16T11:10:47.147Z"
   },
   {
    "duration": 3,
    "start_time": "2022-08-16T11:11:08.823Z"
   },
   {
    "duration": 394,
    "start_time": "2022-08-16T11:11:11.774Z"
   },
   {
    "duration": 3,
    "start_time": "2022-08-16T11:11:43.453Z"
   },
   {
    "duration": 2005,
    "start_time": "2022-08-16T11:11:49.462Z"
   },
   {
    "duration": 4,
    "start_time": "2022-08-16T11:12:27.841Z"
   },
   {
    "duration": 3,
    "start_time": "2022-08-16T11:12:29.396Z"
   },
   {
    "duration": 1626,
    "start_time": "2022-08-16T11:12:33.179Z"
   },
   {
    "duration": 5039,
    "start_time": "2022-08-16T11:15:57.600Z"
   },
   {
    "duration": 2819,
    "start_time": "2022-08-16T11:16:08.972Z"
   },
   {
    "duration": 6773,
    "start_time": "2022-08-16T11:16:16.688Z"
   },
   {
    "duration": 1323,
    "start_time": "2022-08-16T11:16:45.049Z"
   },
   {
    "duration": 645,
    "start_time": "2022-08-16T11:16:46.374Z"
   },
   {
    "duration": 7,
    "start_time": "2022-08-16T11:16:47.020Z"
   },
   {
    "duration": 13,
    "start_time": "2022-08-16T11:16:47.029Z"
   },
   {
    "duration": 126,
    "start_time": "2022-08-16T11:16:47.055Z"
   },
   {
    "duration": 15,
    "start_time": "2022-08-16T11:16:47.183Z"
   },
   {
    "duration": 141,
    "start_time": "2022-08-16T11:16:47.199Z"
   },
   {
    "duration": 52,
    "start_time": "2022-08-16T11:16:47.342Z"
   },
   {
    "duration": 34,
    "start_time": "2022-08-16T11:16:47.396Z"
   },
   {
    "duration": 57,
    "start_time": "2022-08-16T11:16:47.433Z"
   },
   {
    "duration": 19,
    "start_time": "2022-08-16T11:16:47.492Z"
   },
   {
    "duration": 10,
    "start_time": "2022-08-16T11:16:47.513Z"
   },
   {
    "duration": 13,
    "start_time": "2022-08-16T11:16:47.525Z"
   },
   {
    "duration": 159,
    "start_time": "2022-08-16T11:16:47.540Z"
   },
   {
    "duration": 145,
    "start_time": "2022-08-16T11:16:47.701Z"
   },
   {
    "duration": 148,
    "start_time": "2022-08-16T11:16:47.847Z"
   },
   {
    "duration": 420,
    "start_time": "2022-08-16T11:16:47.996Z"
   },
   {
    "duration": 242,
    "start_time": "2022-08-16T11:16:48.418Z"
   },
   {
    "duration": 994,
    "start_time": "2022-08-16T11:16:48.662Z"
   },
   {
    "duration": 80,
    "start_time": "2022-08-16T11:16:49.657Z"
   },
   {
    "duration": 24,
    "start_time": "2022-08-16T11:16:49.739Z"
   },
   {
    "duration": 9,
    "start_time": "2022-08-16T11:16:49.764Z"
   },
   {
    "duration": 11,
    "start_time": "2022-08-16T11:16:49.774Z"
   },
   {
    "duration": 3,
    "start_time": "2022-08-16T11:17:05.270Z"
   },
   {
    "duration": 17098,
    "start_time": "2022-08-16T11:17:12.389Z"
   },
   {
    "duration": 0,
    "start_time": "2022-08-16T11:18:43.466Z"
   },
   {
    "duration": 4,
    "start_time": "2022-08-16T11:18:53.059Z"
   },
   {
    "duration": 599,
    "start_time": "2022-08-16T11:18:53.064Z"
   },
   {
    "duration": 8,
    "start_time": "2022-08-16T11:18:53.665Z"
   },
   {
    "duration": 15,
    "start_time": "2022-08-16T11:18:53.675Z"
   },
   {
    "duration": 135,
    "start_time": "2022-08-16T11:18:53.692Z"
   },
   {
    "duration": 27,
    "start_time": "2022-08-16T11:18:53.828Z"
   },
   {
    "duration": 106,
    "start_time": "2022-08-16T11:18:53.856Z"
   },
   {
    "duration": 31,
    "start_time": "2022-08-16T11:18:53.963Z"
   },
   {
    "duration": 24,
    "start_time": "2022-08-16T11:18:53.996Z"
   },
   {
    "duration": 52,
    "start_time": "2022-08-16T11:18:54.021Z"
   },
   {
    "duration": 15,
    "start_time": "2022-08-16T11:18:54.075Z"
   },
   {
    "duration": 2,
    "start_time": "2022-08-16T11:18:54.091Z"
   },
   {
    "duration": 9,
    "start_time": "2022-08-16T11:18:54.094Z"
   },
   {
    "duration": 145,
    "start_time": "2022-08-16T11:18:54.104Z"
   },
   {
    "duration": 144,
    "start_time": "2022-08-16T11:18:54.250Z"
   },
   {
    "duration": 150,
    "start_time": "2022-08-16T11:18:54.395Z"
   },
   {
    "duration": 437,
    "start_time": "2022-08-16T11:18:54.546Z"
   },
   {
    "duration": 237,
    "start_time": "2022-08-16T11:18:54.984Z"
   },
   {
    "duration": 970,
    "start_time": "2022-08-16T11:18:55.222Z"
   },
   {
    "duration": 71,
    "start_time": "2022-08-16T11:18:56.193Z"
   },
   {
    "duration": 26,
    "start_time": "2022-08-16T11:18:56.265Z"
   },
   {
    "duration": 9,
    "start_time": "2022-08-16T11:18:56.293Z"
   },
   {
    "duration": 2,
    "start_time": "2022-08-16T11:18:56.304Z"
   },
   {
    "duration": 3,
    "start_time": "2022-08-16T11:18:56.310Z"
   },
   {
    "duration": 453,
    "start_time": "2022-08-16T11:18:56.315Z"
   },
   {
    "duration": 35819,
    "start_time": "2022-08-16T11:23:08.982Z"
   },
   {
    "duration": 97,
    "start_time": "2022-08-16T11:23:58.866Z"
   },
   {
    "duration": 10,
    "start_time": "2022-08-16T11:28:15.094Z"
   },
   {
    "duration": 4,
    "start_time": "2022-08-16T11:28:21.034Z"
   },
   {
    "duration": 3,
    "start_time": "2022-08-16T11:28:24.531Z"
   },
   {
    "duration": 1748,
    "start_time": "2022-08-16T11:28:33.511Z"
   },
   {
    "duration": 1575,
    "start_time": "2022-08-16T11:28:50.281Z"
   },
   {
    "duration": 254,
    "start_time": "2022-08-16T11:30:26.008Z"
   },
   {
    "duration": 253,
    "start_time": "2022-08-16T11:30:42.203Z"
   },
   {
    "duration": 259,
    "start_time": "2022-08-16T11:31:10.408Z"
   },
   {
    "duration": 2,
    "start_time": "2022-08-16T11:31:19.680Z"
   },
   {
    "duration": 229,
    "start_time": "2022-08-16T11:31:23.630Z"
   },
   {
    "duration": 299,
    "start_time": "2022-08-16T11:31:30.963Z"
   },
   {
    "duration": 3,
    "start_time": "2022-08-16T11:35:47.173Z"
   },
   {
    "duration": 350,
    "start_time": "2022-08-16T11:35:52.111Z"
   },
   {
    "duration": 3,
    "start_time": "2022-08-16T11:36:15.381Z"
   },
   {
    "duration": 376,
    "start_time": "2022-08-16T11:36:18.686Z"
   },
   {
    "duration": 2143,
    "start_time": "2022-08-16T11:36:44.500Z"
   },
   {
    "duration": 3,
    "start_time": "2022-08-16T11:37:35.575Z"
   },
   {
    "duration": 4,
    "start_time": "2022-08-16T11:38:24.402Z"
   },
   {
    "duration": 1830,
    "start_time": "2022-08-16T11:38:27.810Z"
   },
   {
    "duration": 4,
    "start_time": "2022-08-16T11:39:38.383Z"
   },
   {
    "duration": 252,
    "start_time": "2022-08-16T11:39:42.208Z"
   },
   {
    "duration": 4,
    "start_time": "2022-08-16T11:39:54.132Z"
   },
   {
    "duration": 415,
    "start_time": "2022-08-16T11:39:58.240Z"
   },
   {
    "duration": 6,
    "start_time": "2022-08-16T11:40:17.451Z"
   },
   {
    "duration": 516,
    "start_time": "2022-08-16T11:40:20.544Z"
   },
   {
    "duration": 3,
    "start_time": "2022-08-16T11:41:33.164Z"
   },
   {
    "duration": 300,
    "start_time": "2022-08-16T11:41:49.270Z"
   },
   {
    "duration": 5,
    "start_time": "2022-08-16T11:42:02.347Z"
   },
   {
    "duration": 394,
    "start_time": "2022-08-16T11:42:05.077Z"
   },
   {
    "duration": 4,
    "start_time": "2022-08-16T11:42:33.751Z"
   },
   {
    "duration": 324,
    "start_time": "2022-08-16T11:42:37.537Z"
   },
   {
    "duration": 400,
    "start_time": "2022-08-16T11:42:39.956Z"
   },
   {
    "duration": 5,
    "start_time": "2022-08-16T11:43:00.616Z"
   },
   {
    "duration": 418,
    "start_time": "2022-08-16T11:43:07.752Z"
   },
   {
    "duration": 109,
    "start_time": "2022-08-16T11:43:47.741Z"
   },
   {
    "duration": 4,
    "start_time": "2022-08-16T11:43:52.604Z"
   },
   {
    "duration": 289,
    "start_time": "2022-08-16T11:43:57.367Z"
   },
   {
    "duration": 120,
    "start_time": "2022-08-16T11:45:20.114Z"
   },
   {
    "duration": 9,
    "start_time": "2022-08-16T11:45:25.354Z"
   },
   {
    "duration": 314,
    "start_time": "2022-08-16T11:45:31.648Z"
   },
   {
    "duration": 3,
    "start_time": "2022-08-16T11:45:54.712Z"
   },
   {
    "duration": 114,
    "start_time": "2022-08-16T11:46:21.873Z"
   },
   {
    "duration": 4,
    "start_time": "2022-08-16T11:46:24.116Z"
   },
   {
    "duration": 191,
    "start_time": "2022-08-16T11:46:28.676Z"
   },
   {
    "duration": 4,
    "start_time": "2022-08-16T11:46:55.035Z"
   },
   {
    "duration": 1160,
    "start_time": "2022-08-16T11:47:30.601Z"
   },
   {
    "duration": 1049,
    "start_time": "2022-08-16T11:47:50.221Z"
   },
   {
    "duration": 11,
    "start_time": "2022-08-16T11:48:09.653Z"
   },
   {
    "duration": 430,
    "start_time": "2022-08-16T11:48:21.542Z"
   },
   {
    "duration": 4,
    "start_time": "2022-08-16T11:50:10.897Z"
   },
   {
    "duration": 367,
    "start_time": "2022-08-16T11:50:19.590Z"
   },
   {
    "duration": 5,
    "start_time": "2022-08-16T11:50:27.770Z"
   },
   {
    "duration": 623,
    "start_time": "2022-08-16T11:50:31.533Z"
   },
   {
    "duration": 5,
    "start_time": "2022-08-16T11:51:08.711Z"
   },
   {
    "duration": 422,
    "start_time": "2022-08-16T11:51:12.934Z"
   },
   {
    "duration": 3,
    "start_time": "2022-08-16T11:52:09.785Z"
   },
   {
    "duration": 296,
    "start_time": "2022-08-16T11:52:15.472Z"
   },
   {
    "duration": 4,
    "start_time": "2022-08-16T11:52:45.680Z"
   },
   {
    "duration": 296,
    "start_time": "2022-08-16T11:52:49.267Z"
   },
   {
    "duration": 78,
    "start_time": "2022-08-16T11:54:04.068Z"
   },
   {
    "duration": 4,
    "start_time": "2022-08-16T11:56:01.117Z"
   },
   {
    "duration": 3,
    "start_time": "2022-08-16T11:56:25.736Z"
   },
   {
    "duration": 15013,
    "start_time": "2022-08-16T11:57:20.134Z"
   },
   {
    "duration": 2607,
    "start_time": "2022-08-16T11:57:41.670Z"
   },
   {
    "duration": 664,
    "start_time": "2022-08-16T11:58:44.934Z"
   },
   {
    "duration": 1445,
    "start_time": "2022-08-16T11:59:15.733Z"
   },
   {
    "duration": 54463,
    "start_time": "2022-08-16T11:59:46.511Z"
   },
   {
    "duration": 90,
    "start_time": "2022-08-16T12:01:20.247Z"
   },
   {
    "duration": 382,
    "start_time": "2022-08-16T12:01:31.989Z"
   },
   {
    "duration": 608,
    "start_time": "2022-08-16T12:02:00.773Z"
   },
   {
    "duration": 7,
    "start_time": "2022-08-16T12:02:31.957Z"
   },
   {
    "duration": 377,
    "start_time": "2022-08-16T12:02:56.496Z"
   },
   {
    "duration": 1067,
    "start_time": "2022-08-16T12:03:07.799Z"
   },
   {
    "duration": 1042,
    "start_time": "2022-08-16T12:03:36.944Z"
   },
   {
    "duration": 386,
    "start_time": "2022-08-16T12:04:17.484Z"
   },
   {
    "duration": 266,
    "start_time": "2022-08-16T12:04:38.019Z"
   },
   {
    "duration": 1412,
    "start_time": "2022-08-16T12:04:46.370Z"
   },
   {
    "duration": 323,
    "start_time": "2022-08-16T12:04:49.735Z"
   },
   {
    "duration": 483,
    "start_time": "2022-08-16T12:05:03.282Z"
   },
   {
    "duration": 922,
    "start_time": "2022-08-16T12:05:52.151Z"
   },
   {
    "duration": 1319,
    "start_time": "2022-08-16T12:06:04.670Z"
   },
   {
    "duration": 1066,
    "start_time": "2022-08-16T12:06:16.517Z"
   },
   {
    "duration": 792,
    "start_time": "2022-08-16T12:06:32.672Z"
   },
   {
    "duration": 725,
    "start_time": "2022-08-16T12:06:50.136Z"
   },
   {
    "duration": 1499,
    "start_time": "2022-08-16T12:06:56.584Z"
   },
   {
    "duration": 563,
    "start_time": "2022-08-16T12:07:17.521Z"
   },
   {
    "duration": 439,
    "start_time": "2022-08-16T12:08:44.536Z"
   },
   {
    "duration": 453,
    "start_time": "2022-08-16T12:09:21.406Z"
   },
   {
    "duration": 490,
    "start_time": "2022-08-16T12:09:38.470Z"
   },
   {
    "duration": 5,
    "start_time": "2022-08-16T12:09:44.055Z"
   },
   {
    "duration": 626,
    "start_time": "2022-08-16T12:09:47.151Z"
   },
   {
    "duration": 4,
    "start_time": "2022-08-16T12:13:04.202Z"
   },
   {
    "duration": 178,
    "start_time": "2022-08-16T12:13:12.179Z"
   },
   {
    "duration": 3,
    "start_time": "2022-08-16T12:15:04.953Z"
   },
   {
    "duration": 2,
    "start_time": "2022-08-16T12:15:12.635Z"
   },
   {
    "duration": 13434,
    "start_time": "2022-08-16T12:16:12.004Z"
   },
   {
    "duration": 3,
    "start_time": "2022-08-16T12:16:45.095Z"
   },
   {
    "duration": 58934,
    "start_time": "2022-08-16T12:16:46.605Z"
   },
   {
    "duration": 4,
    "start_time": "2022-08-16T12:21:17.346Z"
   },
   {
    "duration": 2434,
    "start_time": "2022-08-16T12:21:38.232Z"
   },
   {
    "duration": 2320,
    "start_time": "2022-08-16T12:22:02.438Z"
   },
   {
    "duration": 8231,
    "start_time": "2022-08-16T12:24:43.132Z"
   },
   {
    "duration": 7548,
    "start_time": "2022-08-16T12:24:57.759Z"
   },
   {
    "duration": 574751,
    "start_time": "2022-08-16T12:26:22.279Z"
   },
   {
    "duration": 5,
    "start_time": "2022-08-16T13:53:09.385Z"
   },
   {
    "duration": 1273953,
    "start_time": "2022-08-16T13:53:42.491Z"
   },
   {
    "duration": 4,
    "start_time": "2022-08-16T14:15:03.537Z"
   },
   {
    "duration": 4551,
    "start_time": "2022-08-16T14:16:03.228Z"
   },
   {
    "duration": 22,
    "start_time": "2022-08-16T14:16:59.706Z"
   },
   {
    "duration": 56501,
    "start_time": "2022-08-16T14:17:34.346Z"
   },
   {
    "duration": 56770,
    "start_time": "2022-08-16T14:19:17.404Z"
   },
   {
    "duration": 4,
    "start_time": "2022-08-16T14:23:03.136Z"
   },
   {
    "duration": 3054,
    "start_time": "2022-08-16T14:24:19.782Z"
   },
   {
    "duration": 754632,
    "start_time": "2022-08-16T14:25:32.771Z"
   },
   {
    "duration": 4,
    "start_time": "2022-08-16T14:40:07.179Z"
   },
   {
    "duration": 9,
    "start_time": "2022-08-16T14:41:49.682Z"
   },
   {
    "duration": 11,
    "start_time": "2022-08-16T14:41:58.386Z"
   },
   {
    "duration": 9,
    "start_time": "2022-08-16T14:42:05.341Z"
   },
   {
    "duration": 24,
    "start_time": "2022-08-16T14:42:12.954Z"
   },
   {
    "duration": 8,
    "start_time": "2022-08-16T14:42:59.137Z"
   },
   {
    "duration": 7,
    "start_time": "2022-08-16T14:43:16.957Z"
   },
   {
    "duration": 7,
    "start_time": "2022-08-16T14:43:30.997Z"
   },
   {
    "duration": 11,
    "start_time": "2022-08-16T14:43:41.093Z"
   },
   {
    "duration": 7,
    "start_time": "2022-08-16T14:43:50.335Z"
   },
   {
    "duration": 19,
    "start_time": "2022-08-16T14:43:59.952Z"
   },
   {
    "duration": 12,
    "start_time": "2022-08-16T14:44:15.274Z"
   },
   {
    "duration": 14,
    "start_time": "2022-08-16T14:44:37.374Z"
   },
   {
    "duration": 21,
    "start_time": "2022-08-16T14:45:17.897Z"
   },
   {
    "duration": 10,
    "start_time": "2022-08-16T14:45:32.899Z"
   },
   {
    "duration": 10,
    "start_time": "2022-08-16T14:45:39.442Z"
   },
   {
    "duration": 26,
    "start_time": "2022-08-16T14:45:53.670Z"
   },
   {
    "duration": 7,
    "start_time": "2022-08-16T14:46:46.436Z"
   },
   {
    "duration": 13,
    "start_time": "2022-08-16T14:46:50.719Z"
   },
   {
    "duration": 9,
    "start_time": "2022-08-16T14:47:01.174Z"
   },
   {
    "duration": 67028,
    "start_time": "2022-08-16T14:47:52.050Z"
   },
   {
    "duration": 66549,
    "start_time": "2022-08-16T14:49:24.270Z"
   },
   {
    "duration": 1438,
    "start_time": "2022-08-16T20:01:02.204Z"
   },
   {
    "duration": 1859,
    "start_time": "2022-08-16T20:01:03.645Z"
   },
   {
    "duration": 7,
    "start_time": "2022-08-16T20:01:05.505Z"
   },
   {
    "duration": 13,
    "start_time": "2022-08-16T20:01:05.514Z"
   },
   {
    "duration": 135,
    "start_time": "2022-08-16T20:01:05.529Z"
   },
   {
    "duration": 18,
    "start_time": "2022-08-16T20:01:05.666Z"
   },
   {
    "duration": 134,
    "start_time": "2022-08-16T20:01:05.685Z"
   },
   {
    "duration": 47,
    "start_time": "2022-08-16T20:01:05.821Z"
   },
   {
    "duration": 26,
    "start_time": "2022-08-16T20:01:05.869Z"
   },
   {
    "duration": 39,
    "start_time": "2022-08-16T20:01:05.896Z"
   },
   {
    "duration": 16,
    "start_time": "2022-08-16T20:01:05.955Z"
   },
   {
    "duration": 3,
    "start_time": "2022-08-16T20:01:05.973Z"
   },
   {
    "duration": 8,
    "start_time": "2022-08-16T20:01:05.977Z"
   },
   {
    "duration": 162,
    "start_time": "2022-08-16T20:01:05.987Z"
   },
   {
    "duration": 139,
    "start_time": "2022-08-16T20:01:06.154Z"
   },
   {
    "duration": 160,
    "start_time": "2022-08-16T20:01:06.294Z"
   },
   {
    "duration": 441,
    "start_time": "2022-08-16T20:01:06.456Z"
   },
   {
    "duration": 251,
    "start_time": "2022-08-16T20:01:06.899Z"
   },
   {
    "duration": 1101,
    "start_time": "2022-08-16T20:01:07.151Z"
   },
   {
    "duration": 83,
    "start_time": "2022-08-16T20:01:08.254Z"
   },
   {
    "duration": 24,
    "start_time": "2022-08-16T20:01:08.339Z"
   },
   {
    "duration": 22,
    "start_time": "2022-08-16T20:01:15.844Z"
   },
   {
    "duration": 4,
    "start_time": "2022-08-16T20:02:43.510Z"
   },
   {
    "duration": 5040,
    "start_time": "2022-08-16T20:12:32.286Z"
   },
   {
    "duration": 11888,
    "start_time": "2022-08-16T20:13:34.492Z"
   },
   {
    "duration": 24246,
    "start_time": "2022-08-16T20:14:13.046Z"
   },
   {
    "duration": 950,
    "start_time": "2022-08-16T20:15:43.453Z"
   },
   {
    "duration": 8,
    "start_time": "2022-08-16T20:16:13.847Z"
   },
   {
    "duration": 967,
    "start_time": "2022-08-16T20:16:28.405Z"
   },
   {
    "duration": 119459,
    "start_time": "2022-08-16T20:18:22.751Z"
   },
   {
    "duration": 904,
    "start_time": "2022-08-16T20:20:32.369Z"
   },
   {
    "duration": 58325,
    "start_time": "2022-08-16T20:20:56.045Z"
   },
   {
    "duration": 918,
    "start_time": "2022-08-16T20:22:07.456Z"
   },
   {
    "duration": 131,
    "start_time": "2022-08-16T20:23:38.233Z"
   },
   {
    "duration": 699581,
    "start_time": "2022-08-16T20:24:22.370Z"
   },
   {
    "duration": 9,
    "start_time": "2022-08-16T20:36:35.790Z"
   },
   {
    "duration": 43246,
    "start_time": "2022-08-16T20:36:43.417Z"
   },
   {
    "duration": 3554,
    "start_time": "2022-08-16T20:39:38.973Z"
   },
   {
    "duration": 2647,
    "start_time": "2022-08-16T20:44:11.134Z"
   },
   {
    "duration": 3597,
    "start_time": "2022-08-16T20:49:45.770Z"
   },
   {
    "duration": 10,
    "start_time": "2022-08-16T20:50:24.149Z"
   },
   {
    "duration": 9,
    "start_time": "2022-08-16T20:51:35.889Z"
   },
   {
    "duration": 3801,
    "start_time": "2022-08-16T20:51:57.371Z"
   },
   {
    "duration": 3564,
    "start_time": "2022-08-16T20:53:07.534Z"
   },
   {
    "duration": 4492,
    "start_time": "2022-08-16T20:54:39.050Z"
   },
   {
    "duration": 4571,
    "start_time": "2022-08-16T20:55:03.332Z"
   },
   {
    "duration": 4460,
    "start_time": "2022-08-16T20:55:25.932Z"
   },
   {
    "duration": 4648,
    "start_time": "2022-08-16T20:57:12.494Z"
   },
   {
    "duration": 926,
    "start_time": "2022-08-16T21:05:27.138Z"
   },
   {
    "duration": 44028,
    "start_time": "2022-08-16T21:09:53.419Z"
   },
   {
    "duration": 10,
    "start_time": "2022-08-16T21:10:45.725Z"
   },
   {
    "duration": 16,
    "start_time": "2022-08-16T21:11:57.424Z"
   },
   {
    "duration": 10,
    "start_time": "2022-08-16T21:12:06.120Z"
   },
   {
    "duration": 4,
    "start_time": "2022-08-16T21:16:46.645Z"
   },
   {
    "duration": 22,
    "start_time": "2022-08-16T21:16:57.056Z"
   },
   {
    "duration": 18,
    "start_time": "2022-08-16T21:17:13.419Z"
   },
   {
    "duration": 15,
    "start_time": "2022-08-16T21:17:27.380Z"
   },
   {
    "duration": 2865,
    "start_time": "2022-08-16T21:18:07.946Z"
   },
   {
    "duration": 44816,
    "start_time": "2022-08-16T21:18:51.286Z"
   },
   {
    "duration": 72,
    "start_time": "2022-08-16T21:20:46.010Z"
   },
   {
    "duration": 7,
    "start_time": "2022-08-16T21:21:19.921Z"
   },
   {
    "duration": 1060,
    "start_time": "2022-08-16T21:21:23.567Z"
   },
   {
    "duration": 981,
    "start_time": "2022-08-16T21:22:21.448Z"
   },
   {
    "duration": 1001,
    "start_time": "2022-08-16T21:22:37.730Z"
   },
   {
    "duration": 14,
    "start_time": "2022-08-16T21:24:27.129Z"
   },
   {
    "duration": 1518,
    "start_time": "2022-08-16T21:25:05.829Z"
   },
   {
    "duration": 759,
    "start_time": "2022-08-16T21:25:07.350Z"
   },
   {
    "duration": 7,
    "start_time": "2022-08-16T21:25:08.111Z"
   },
   {
    "duration": 13,
    "start_time": "2022-08-16T21:25:08.119Z"
   },
   {
    "duration": 145,
    "start_time": "2022-08-16T21:25:08.134Z"
   },
   {
    "duration": 16,
    "start_time": "2022-08-16T21:25:08.281Z"
   },
   {
    "duration": 132,
    "start_time": "2022-08-16T21:25:08.299Z"
   },
   {
    "duration": 57,
    "start_time": "2022-08-16T21:25:08.432Z"
   },
   {
    "duration": 25,
    "start_time": "2022-08-16T21:25:08.490Z"
   },
   {
    "duration": 47,
    "start_time": "2022-08-16T21:25:08.517Z"
   },
   {
    "duration": 117,
    "start_time": "2022-08-16T21:25:08.565Z"
   },
   {
    "duration": 0,
    "start_time": "2022-08-16T21:25:08.684Z"
   },
   {
    "duration": 0,
    "start_time": "2022-08-16T21:25:08.685Z"
   },
   {
    "duration": 0,
    "start_time": "2022-08-16T21:25:08.686Z"
   },
   {
    "duration": 0,
    "start_time": "2022-08-16T21:25:08.687Z"
   },
   {
    "duration": 0,
    "start_time": "2022-08-16T21:25:08.688Z"
   },
   {
    "duration": 0,
    "start_time": "2022-08-16T21:25:08.689Z"
   },
   {
    "duration": 0,
    "start_time": "2022-08-16T21:25:08.690Z"
   },
   {
    "duration": 0,
    "start_time": "2022-08-16T21:25:08.691Z"
   },
   {
    "duration": 0,
    "start_time": "2022-08-16T21:25:08.692Z"
   },
   {
    "duration": 0,
    "start_time": "2022-08-16T21:25:08.693Z"
   },
   {
    "duration": 0,
    "start_time": "2022-08-16T21:25:08.694Z"
   },
   {
    "duration": 18,
    "start_time": "2022-08-16T21:25:41.825Z"
   },
   {
    "duration": 1332,
    "start_time": "2022-08-16T21:26:13.721Z"
   },
   {
    "duration": 715,
    "start_time": "2022-08-16T21:26:15.055Z"
   },
   {
    "duration": 9,
    "start_time": "2022-08-16T21:26:15.772Z"
   },
   {
    "duration": 19,
    "start_time": "2022-08-16T21:26:15.783Z"
   },
   {
    "duration": 157,
    "start_time": "2022-08-16T21:26:15.805Z"
   },
   {
    "duration": 21,
    "start_time": "2022-08-16T21:26:15.964Z"
   },
   {
    "duration": 128,
    "start_time": "2022-08-16T21:26:15.987Z"
   },
   {
    "duration": 57,
    "start_time": "2022-08-16T21:26:16.117Z"
   },
   {
    "duration": 26,
    "start_time": "2022-08-16T21:26:16.176Z"
   },
   {
    "duration": 55,
    "start_time": "2022-08-16T21:26:16.203Z"
   },
   {
    "duration": 27,
    "start_time": "2022-08-16T21:26:16.262Z"
   },
   {
    "duration": 2,
    "start_time": "2022-08-16T21:26:16.291Z"
   },
   {
    "duration": 11,
    "start_time": "2022-08-16T21:26:16.296Z"
   },
   {
    "duration": 189,
    "start_time": "2022-08-16T21:26:16.310Z"
   },
   {
    "duration": 170,
    "start_time": "2022-08-16T21:26:16.500Z"
   },
   {
    "duration": 185,
    "start_time": "2022-08-16T21:26:16.672Z"
   },
   {
    "duration": 467,
    "start_time": "2022-08-16T21:26:16.859Z"
   },
   {
    "duration": 335,
    "start_time": "2022-08-16T21:26:17.327Z"
   },
   {
    "duration": 1068,
    "start_time": "2022-08-16T21:26:17.670Z"
   },
   {
    "duration": 106,
    "start_time": "2022-08-16T21:26:18.739Z"
   },
   {
    "duration": 26,
    "start_time": "2022-08-16T21:26:18.847Z"
   },
   {
    "duration": 24,
    "start_time": "2022-08-16T21:26:20.644Z"
   },
   {
    "duration": 3,
    "start_time": "2022-08-16T21:26:25.103Z"
   },
   {
    "duration": 3,
    "start_time": "2022-08-16T21:26:26.527Z"
   },
   {
    "duration": 1100,
    "start_time": "2022-08-16T21:26:30.741Z"
   },
   {
    "duration": 16,
    "start_time": "2022-08-16T21:27:00.354Z"
   },
   {
    "duration": 1024,
    "start_time": "2022-08-16T21:27:07.410Z"
   },
   {
    "duration": 946,
    "start_time": "2022-08-16T21:27:30.045Z"
   },
   {
    "duration": 1019,
    "start_time": "2022-08-16T21:27:50.150Z"
   },
   {
    "duration": 254,
    "start_time": "2022-08-16T21:27:54.613Z"
   },
   {
    "duration": 226,
    "start_time": "2022-08-16T21:28:05.470Z"
   },
   {
    "duration": 968,
    "start_time": "2022-08-16T21:29:13.475Z"
   },
   {
    "duration": 1385,
    "start_time": "2022-08-16T21:33:51.006Z"
   },
   {
    "duration": 706,
    "start_time": "2022-08-16T21:33:52.393Z"
   },
   {
    "duration": 8,
    "start_time": "2022-08-16T21:33:53.101Z"
   },
   {
    "duration": 13,
    "start_time": "2022-08-16T21:33:53.111Z"
   },
   {
    "duration": 156,
    "start_time": "2022-08-16T21:33:53.126Z"
   },
   {
    "duration": 19,
    "start_time": "2022-08-16T21:33:53.284Z"
   },
   {
    "duration": 133,
    "start_time": "2022-08-16T21:33:53.305Z"
   },
   {
    "duration": 53,
    "start_time": "2022-08-16T21:33:53.440Z"
   },
   {
    "duration": 24,
    "start_time": "2022-08-16T21:33:53.494Z"
   },
   {
    "duration": 56,
    "start_time": "2022-08-16T21:33:53.519Z"
   },
   {
    "duration": 18,
    "start_time": "2022-08-16T21:33:53.577Z"
   },
   {
    "duration": 2,
    "start_time": "2022-08-16T21:33:53.597Z"
   },
   {
    "duration": 8,
    "start_time": "2022-08-16T21:33:53.600Z"
   },
   {
    "duration": 162,
    "start_time": "2022-08-16T21:33:53.610Z"
   },
   {
    "duration": 151,
    "start_time": "2022-08-16T21:33:53.774Z"
   },
   {
    "duration": 166,
    "start_time": "2022-08-16T21:33:53.927Z"
   },
   {
    "duration": 459,
    "start_time": "2022-08-16T21:33:54.095Z"
   },
   {
    "duration": 276,
    "start_time": "2022-08-16T21:33:54.556Z"
   },
   {
    "duration": 1242,
    "start_time": "2022-08-16T21:33:54.834Z"
   },
   {
    "duration": 88,
    "start_time": "2022-08-16T21:33:56.078Z"
   },
   {
    "duration": 29,
    "start_time": "2022-08-16T21:33:56.167Z"
   },
   {
    "duration": 8,
    "start_time": "2022-08-16T21:33:56.198Z"
   },
   {
    "duration": 2,
    "start_time": "2022-08-16T21:33:56.209Z"
   },
   {
    "duration": 4,
    "start_time": "2022-08-16T21:33:59.918Z"
   },
   {
    "duration": 343,
    "start_time": "2022-08-16T21:34:22.807Z"
   },
   {
    "duration": 9,
    "start_time": "2022-08-16T21:34:30.180Z"
   },
   {
    "duration": 218,
    "start_time": "2022-08-16T21:34:39.323Z"
   },
   {
    "duration": 175201,
    "start_time": "2022-08-16T21:34:59.669Z"
   },
   {
    "duration": 574,
    "start_time": "2022-08-16T21:38:33.312Z"
   },
   {
    "duration": 220,
    "start_time": "2022-08-16T21:39:02.178Z"
   },
   {
    "duration": 6494,
    "start_time": "2022-08-16T21:39:26.216Z"
   },
   {
    "duration": 17675,
    "start_time": "2022-08-16T21:39:40.837Z"
   },
   {
    "duration": 6449,
    "start_time": "2022-08-16T21:40:22.414Z"
   },
   {
    "duration": 6672,
    "start_time": "2022-08-16T21:40:45.653Z"
   },
   {
    "duration": 3683,
    "start_time": "2022-08-16T21:41:26.692Z"
   },
   {
    "duration": 687,
    "start_time": "2022-08-16T21:41:47.970Z"
   },
   {
    "duration": 10,
    "start_time": "2022-08-16T21:41:51.744Z"
   },
   {
    "duration": 636,
    "start_time": "2022-08-16T21:41:55.229Z"
   },
   {
    "duration": 3771,
    "start_time": "2022-08-16T21:42:52.818Z"
   },
   {
    "duration": 3792,
    "start_time": "2022-08-16T21:43:00.267Z"
   },
   {
    "duration": 909,
    "start_time": "2022-08-16T21:43:35.666Z"
   },
   {
    "duration": 3842,
    "start_time": "2022-08-16T21:43:43.771Z"
   },
   {
    "duration": 975,
    "start_time": "2022-08-16T21:51:02.974Z"
   },
   {
    "duration": 3,
    "start_time": "2022-08-16T21:51:36.995Z"
   },
   {
    "duration": 4808,
    "start_time": "2022-08-16T21:51:39.690Z"
   },
   {
    "duration": 204237,
    "start_time": "2022-08-16T22:00:07.286Z"
   },
   {
    "duration": 53,
    "start_time": "2022-08-17T07:54:45.298Z"
   },
   {
    "duration": 1601,
    "start_time": "2022-08-17T07:58:12.215Z"
   },
   {
    "duration": 1944,
    "start_time": "2022-08-17T07:58:13.818Z"
   },
   {
    "duration": 8,
    "start_time": "2022-08-17T07:58:15.764Z"
   },
   {
    "duration": 15,
    "start_time": "2022-08-17T07:58:15.774Z"
   },
   {
    "duration": 145,
    "start_time": "2022-08-17T07:58:15.791Z"
   },
   {
    "duration": 20,
    "start_time": "2022-08-17T07:58:15.938Z"
   },
   {
    "duration": 149,
    "start_time": "2022-08-17T07:58:15.959Z"
   },
   {
    "duration": 44,
    "start_time": "2022-08-17T07:58:16.110Z"
   },
   {
    "duration": 45,
    "start_time": "2022-08-17T07:58:16.156Z"
   },
   {
    "duration": 37,
    "start_time": "2022-08-17T07:58:16.204Z"
   },
   {
    "duration": 16,
    "start_time": "2022-08-17T07:58:16.244Z"
   },
   {
    "duration": 2,
    "start_time": "2022-08-17T07:58:16.262Z"
   },
   {
    "duration": 36,
    "start_time": "2022-08-17T07:58:16.266Z"
   },
   {
    "duration": 159,
    "start_time": "2022-08-17T07:58:16.303Z"
   },
   {
    "duration": 165,
    "start_time": "2022-08-17T07:58:16.464Z"
   },
   {
    "duration": 185,
    "start_time": "2022-08-17T07:58:16.631Z"
   },
   {
    "duration": 477,
    "start_time": "2022-08-17T07:58:16.818Z"
   },
   {
    "duration": 285,
    "start_time": "2022-08-17T07:58:17.296Z"
   },
   {
    "duration": 1181,
    "start_time": "2022-08-17T07:58:17.583Z"
   },
   {
    "duration": 104,
    "start_time": "2022-08-17T07:58:18.765Z"
   },
   {
    "duration": 24,
    "start_time": "2022-08-17T07:58:18.870Z"
   },
   {
    "duration": 10,
    "start_time": "2022-08-17T07:58:18.896Z"
   },
   {
    "duration": 4,
    "start_time": "2022-08-17T07:58:18.907Z"
   },
   {
    "duration": 5,
    "start_time": "2022-08-17T07:58:18.913Z"
   },
   {
    "duration": 9,
    "start_time": "2022-08-17T07:58:18.920Z"
   },
   {
    "duration": 465427,
    "start_time": "2022-08-17T07:58:18.931Z"
   },
   {
    "duration": 2661,
    "start_time": "2022-08-17T08:06:04.360Z"
   },
   {
    "duration": 140513,
    "start_time": "2022-08-17T08:06:07.024Z"
   },
   {
    "duration": 131092,
    "start_time": "2022-08-17T08:08:27.539Z"
   },
   {
    "duration": 95,
    "start_time": "2022-08-17T08:10:38.632Z"
   },
   {
    "duration": 0,
    "start_time": "2022-08-17T08:10:38.729Z"
   },
   {
    "duration": 0,
    "start_time": "2022-08-17T08:10:38.730Z"
   },
   {
    "duration": 0,
    "start_time": "2022-08-17T08:10:38.731Z"
   },
   {
    "duration": 0,
    "start_time": "2022-08-17T08:10:38.733Z"
   },
   {
    "duration": 1992,
    "start_time": "2022-08-17T08:11:16.605Z"
   },
   {
    "duration": 8,
    "start_time": "2022-08-17T08:11:26.644Z"
   },
   {
    "duration": 691,
    "start_time": "2022-08-17T08:11:33.168Z"
   },
   {
    "duration": 710,
    "start_time": "2022-08-17T08:11:45.923Z"
   },
   {
    "duration": 34090,
    "start_time": "2022-08-17T08:11:51.679Z"
   },
   {
    "duration": 9,
    "start_time": "2022-08-17T08:12:47.181Z"
   },
   {
    "duration": 33643,
    "start_time": "2022-08-17T08:13:28.684Z"
   },
   {
    "duration": 8,
    "start_time": "2022-08-17T08:14:43.736Z"
   },
   {
    "duration": 688,
    "start_time": "2022-08-17T08:21:21.595Z"
   },
   {
    "duration": 2689,
    "start_time": "2022-08-17T08:23:28.800Z"
   },
   {
    "duration": 702,
    "start_time": "2022-08-17T08:26:07.861Z"
   },
   {
    "duration": 18,
    "start_time": "2022-08-17T08:27:22.683Z"
   },
   {
    "duration": 1363,
    "start_time": "2022-08-17T08:29:01.728Z"
   },
   {
    "duration": 740,
    "start_time": "2022-08-17T08:29:03.094Z"
   },
   {
    "duration": 8,
    "start_time": "2022-08-17T08:29:03.835Z"
   },
   {
    "duration": 22,
    "start_time": "2022-08-17T08:29:03.845Z"
   },
   {
    "duration": 151,
    "start_time": "2022-08-17T08:29:03.868Z"
   },
   {
    "duration": 18,
    "start_time": "2022-08-17T08:29:04.021Z"
   },
   {
    "duration": 141,
    "start_time": "2022-08-17T08:29:04.041Z"
   },
   {
    "duration": 52,
    "start_time": "2022-08-17T08:29:04.184Z"
   },
   {
    "duration": 30,
    "start_time": "2022-08-17T08:29:04.237Z"
   },
   {
    "duration": 56,
    "start_time": "2022-08-17T08:29:04.269Z"
   },
   {
    "duration": 133,
    "start_time": "2022-08-17T08:29:04.327Z"
   },
   {
    "duration": 0,
    "start_time": "2022-08-17T08:29:04.462Z"
   },
   {
    "duration": 0,
    "start_time": "2022-08-17T08:29:04.463Z"
   },
   {
    "duration": 0,
    "start_time": "2022-08-17T08:29:04.464Z"
   },
   {
    "duration": 0,
    "start_time": "2022-08-17T08:29:04.465Z"
   },
   {
    "duration": 0,
    "start_time": "2022-08-17T08:29:04.466Z"
   },
   {
    "duration": 0,
    "start_time": "2022-08-17T08:29:04.468Z"
   },
   {
    "duration": 0,
    "start_time": "2022-08-17T08:29:04.468Z"
   },
   {
    "duration": 0,
    "start_time": "2022-08-17T08:29:04.470Z"
   },
   {
    "duration": 0,
    "start_time": "2022-08-17T08:29:04.471Z"
   },
   {
    "duration": 0,
    "start_time": "2022-08-17T08:29:04.492Z"
   },
   {
    "duration": 0,
    "start_time": "2022-08-17T08:29:04.494Z"
   },
   {
    "duration": 0,
    "start_time": "2022-08-17T08:29:04.495Z"
   },
   {
    "duration": 0,
    "start_time": "2022-08-17T08:29:04.498Z"
   },
   {
    "duration": 0,
    "start_time": "2022-08-17T08:29:04.499Z"
   },
   {
    "duration": 0,
    "start_time": "2022-08-17T08:29:04.501Z"
   },
   {
    "duration": 0,
    "start_time": "2022-08-17T08:29:04.502Z"
   },
   {
    "duration": 0,
    "start_time": "2022-08-17T08:29:04.503Z"
   },
   {
    "duration": 0,
    "start_time": "2022-08-17T08:29:04.505Z"
   },
   {
    "duration": 0,
    "start_time": "2022-08-17T08:29:04.507Z"
   },
   {
    "duration": 0,
    "start_time": "2022-08-17T08:29:04.508Z"
   },
   {
    "duration": 0,
    "start_time": "2022-08-17T08:29:04.509Z"
   },
   {
    "duration": 0,
    "start_time": "2022-08-17T08:29:04.511Z"
   },
   {
    "duration": 0,
    "start_time": "2022-08-17T08:29:04.512Z"
   },
   {
    "duration": 26,
    "start_time": "2022-08-17T08:33:29.299Z"
   },
   {
    "duration": 15,
    "start_time": "2022-08-17T08:34:13.373Z"
   },
   {
    "duration": 19,
    "start_time": "2022-08-17T08:36:57.199Z"
   },
   {
    "duration": 1424,
    "start_time": "2022-08-17T08:38:48.380Z"
   },
   {
    "duration": 713,
    "start_time": "2022-08-17T08:38:49.806Z"
   },
   {
    "duration": 8,
    "start_time": "2022-08-17T08:38:50.521Z"
   },
   {
    "duration": 14,
    "start_time": "2022-08-17T08:38:50.530Z"
   },
   {
    "duration": 161,
    "start_time": "2022-08-17T08:38:50.546Z"
   },
   {
    "duration": 21,
    "start_time": "2022-08-17T08:38:50.709Z"
   },
   {
    "duration": 151,
    "start_time": "2022-08-17T08:38:50.732Z"
   },
   {
    "duration": 51,
    "start_time": "2022-08-17T08:38:50.884Z"
   },
   {
    "duration": 27,
    "start_time": "2022-08-17T08:38:50.937Z"
   },
   {
    "duration": 57,
    "start_time": "2022-08-17T08:38:50.967Z"
   },
   {
    "duration": 18,
    "start_time": "2022-08-17T08:38:51.026Z"
   },
   {
    "duration": 5,
    "start_time": "2022-08-17T08:38:51.046Z"
   },
   {
    "duration": 9,
    "start_time": "2022-08-17T08:38:51.053Z"
   },
   {
    "duration": 182,
    "start_time": "2022-08-17T08:38:51.064Z"
   },
   {
    "duration": 207,
    "start_time": "2022-08-17T08:38:51.248Z"
   },
   {
    "duration": 208,
    "start_time": "2022-08-17T08:38:51.457Z"
   },
   {
    "duration": 499,
    "start_time": "2022-08-17T08:38:51.667Z"
   },
   {
    "duration": 287,
    "start_time": "2022-08-17T08:38:52.167Z"
   },
   {
    "duration": 1147,
    "start_time": "2022-08-17T08:38:52.457Z"
   },
   {
    "duration": 95,
    "start_time": "2022-08-17T08:38:53.606Z"
   },
   {
    "duration": 25,
    "start_time": "2022-08-17T08:38:53.702Z"
   },
   {
    "duration": 10,
    "start_time": "2022-08-17T08:38:53.729Z"
   },
   {
    "duration": 3,
    "start_time": "2022-08-17T08:38:53.741Z"
   },
   {
    "duration": 9,
    "start_time": "2022-08-17T08:38:53.746Z"
   },
   {
    "duration": 7,
    "start_time": "2022-08-17T08:38:53.756Z"
   },
   {
    "duration": 359793,
    "start_time": "2022-08-17T08:38:53.764Z"
   },
   {
    "duration": 2776,
    "start_time": "2022-08-17T08:44:53.559Z"
   },
   {
    "duration": 141133,
    "start_time": "2022-08-17T08:44:56.338Z"
   },
   {
    "duration": 80972,
    "start_time": "2022-08-17T08:47:17.473Z"
   },
   {
    "duration": 1445,
    "start_time": "2022-08-17T08:48:38.447Z"
   },
   {
    "duration": 214,
    "start_time": "2022-08-17T08:48:39.895Z"
   },
   {
    "duration": 0,
    "start_time": "2022-08-17T08:48:40.111Z"
   },
   {
    "duration": 0,
    "start_time": "2022-08-17T08:48:40.113Z"
   },
   {
    "duration": 0,
    "start_time": "2022-08-17T08:48:40.114Z"
   },
   {
    "duration": 18,
    "start_time": "2022-08-17T09:02:09.858Z"
   },
   {
    "duration": 1498,
    "start_time": "2022-08-17T09:04:11.498Z"
   },
   {
    "duration": 753,
    "start_time": "2022-08-17T09:04:12.998Z"
   },
   {
    "duration": 9,
    "start_time": "2022-08-17T09:04:13.753Z"
   },
   {
    "duration": 29,
    "start_time": "2022-08-17T09:04:13.765Z"
   },
   {
    "duration": 156,
    "start_time": "2022-08-17T09:04:13.795Z"
   },
   {
    "duration": 21,
    "start_time": "2022-08-17T09:04:13.952Z"
   },
   {
    "duration": 143,
    "start_time": "2022-08-17T09:04:13.975Z"
   },
   {
    "duration": 45,
    "start_time": "2022-08-17T09:04:14.119Z"
   },
   {
    "duration": 42,
    "start_time": "2022-08-17T09:04:14.165Z"
   },
   {
    "duration": 39,
    "start_time": "2022-08-17T09:04:14.210Z"
   },
   {
    "duration": 16,
    "start_time": "2022-08-17T09:04:14.251Z"
   },
   {
    "duration": 24,
    "start_time": "2022-08-17T09:04:14.269Z"
   },
   {
    "duration": 6,
    "start_time": "2022-08-17T09:04:14.295Z"
   },
   {
    "duration": 197,
    "start_time": "2022-08-17T09:04:14.303Z"
   },
   {
    "duration": 192,
    "start_time": "2022-08-17T09:04:14.504Z"
   },
   {
    "duration": 181,
    "start_time": "2022-08-17T09:04:14.698Z"
   },
   {
    "duration": 476,
    "start_time": "2022-08-17T09:04:14.881Z"
   },
   {
    "duration": 286,
    "start_time": "2022-08-17T09:04:15.359Z"
   },
   {
    "duration": 1108,
    "start_time": "2022-08-17T09:04:15.646Z"
   },
   {
    "duration": 100,
    "start_time": "2022-08-17T09:04:16.757Z"
   },
   {
    "duration": 27,
    "start_time": "2022-08-17T09:04:16.859Z"
   },
   {
    "duration": 11,
    "start_time": "2022-08-17T09:04:16.888Z"
   },
   {
    "duration": 5,
    "start_time": "2022-08-17T09:04:16.901Z"
   },
   {
    "duration": 7,
    "start_time": "2022-08-17T09:04:16.908Z"
   },
   {
    "duration": 7,
    "start_time": "2022-08-17T09:04:16.917Z"
   },
   {
    "duration": 2763,
    "start_time": "2022-08-17T09:04:22.976Z"
   },
   {
    "duration": 80918,
    "start_time": "2022-08-17T09:04:29.794Z"
   },
   {
    "duration": 8,
    "start_time": "2022-08-17T09:09:22.073Z"
   },
   {
    "duration": 815,
    "start_time": "2022-08-17T09:09:24.645Z"
   },
   {
    "duration": 0,
    "start_time": "2022-08-17T09:09:25.461Z"
   },
   {
    "duration": 0,
    "start_time": "2022-08-17T09:09:25.463Z"
   },
   {
    "duration": 21,
    "start_time": "2022-08-17T09:11:32.037Z"
   },
   {
    "duration": 16,
    "start_time": "2022-08-17T09:11:51.565Z"
   },
   {
    "duration": 7,
    "start_time": "2022-08-17T09:12:30.923Z"
   },
   {
    "duration": 19,
    "start_time": "2022-08-17T09:12:56.063Z"
   },
   {
    "duration": 1411,
    "start_time": "2022-08-17T09:13:48.397Z"
   },
   {
    "duration": 731,
    "start_time": "2022-08-17T09:13:49.810Z"
   },
   {
    "duration": 9,
    "start_time": "2022-08-17T09:13:50.543Z"
   },
   {
    "duration": 27,
    "start_time": "2022-08-17T09:13:50.553Z"
   },
   {
    "duration": 166,
    "start_time": "2022-08-17T09:13:50.583Z"
   },
   {
    "duration": 19,
    "start_time": "2022-08-17T09:13:50.751Z"
   },
   {
    "duration": 144,
    "start_time": "2022-08-17T09:13:50.772Z"
   },
   {
    "duration": 45,
    "start_time": "2022-08-17T09:13:50.918Z"
   },
   {
    "duration": 40,
    "start_time": "2022-08-17T09:13:50.964Z"
   },
   {
    "duration": 41,
    "start_time": "2022-08-17T09:13:51.007Z"
   },
   {
    "duration": 18,
    "start_time": "2022-08-17T09:13:51.050Z"
   },
   {
    "duration": 23,
    "start_time": "2022-08-17T09:13:51.070Z"
   },
   {
    "duration": 26,
    "start_time": "2022-08-17T09:13:51.095Z"
   },
   {
    "duration": 172,
    "start_time": "2022-08-17T09:13:51.123Z"
   },
   {
    "duration": 177,
    "start_time": "2022-08-17T09:13:51.296Z"
   },
   {
    "duration": 183,
    "start_time": "2022-08-17T09:13:51.475Z"
   },
   {
    "duration": 470,
    "start_time": "2022-08-17T09:13:51.659Z"
   },
   {
    "duration": 289,
    "start_time": "2022-08-17T09:13:52.131Z"
   },
   {
    "duration": 1159,
    "start_time": "2022-08-17T09:13:52.421Z"
   },
   {
    "duration": 99,
    "start_time": "2022-08-17T09:13:53.582Z"
   },
   {
    "duration": 24,
    "start_time": "2022-08-17T09:13:53.682Z"
   },
   {
    "duration": 9,
    "start_time": "2022-08-17T09:13:53.708Z"
   },
   {
    "duration": 3,
    "start_time": "2022-08-17T09:13:53.719Z"
   },
   {
    "duration": 5,
    "start_time": "2022-08-17T09:13:53.724Z"
   },
   {
    "duration": 8,
    "start_time": "2022-08-17T09:13:53.730Z"
   },
   {
    "duration": 360526,
    "start_time": "2022-08-17T09:13:53.740Z"
   },
   {
    "duration": 2702,
    "start_time": "2022-08-17T09:19:54.267Z"
   },
   {
    "duration": 140873,
    "start_time": "2022-08-17T09:19:56.971Z"
   },
   {
    "duration": 80580,
    "start_time": "2022-08-17T09:22:17.846Z"
   },
   {
    "duration": 1973,
    "start_time": "2022-08-17T09:23:38.427Z"
   },
   {
    "duration": 98,
    "start_time": "2022-08-17T09:23:40.402Z"
   },
   {
    "duration": 93,
    "start_time": "2022-08-17T09:23:40.503Z"
   },
   {
    "duration": 814,
    "start_time": "2022-08-17T09:23:40.598Z"
   },
   {
    "duration": 0,
    "start_time": "2022-08-17T09:23:41.414Z"
   },
   {
    "duration": 0,
    "start_time": "2022-08-17T09:23:41.415Z"
   },
   {
    "duration": 18,
    "start_time": "2022-08-17T09:32:05.044Z"
   },
   {
    "duration": 14,
    "start_time": "2022-08-17T09:32:15.114Z"
   },
   {
    "duration": 10,
    "start_time": "2022-08-17T09:32:29.727Z"
   },
   {
    "duration": 9,
    "start_time": "2022-08-17T09:33:41.305Z"
   },
   {
    "duration": 1631,
    "start_time": "2022-08-17T09:36:04.248Z"
   },
   {
    "duration": 708,
    "start_time": "2022-08-17T09:36:05.881Z"
   },
   {
    "duration": 10,
    "start_time": "2022-08-17T09:36:06.590Z"
   },
   {
    "duration": 17,
    "start_time": "2022-08-17T09:36:06.602Z"
   },
   {
    "duration": 168,
    "start_time": "2022-08-17T09:36:06.621Z"
   },
   {
    "duration": 19,
    "start_time": "2022-08-17T09:36:06.792Z"
   },
   {
    "duration": 146,
    "start_time": "2022-08-17T09:36:06.813Z"
   },
   {
    "duration": 54,
    "start_time": "2022-08-17T09:36:06.960Z"
   },
   {
    "duration": 25,
    "start_time": "2022-08-17T09:36:07.015Z"
   },
   {
    "duration": 58,
    "start_time": "2022-08-17T09:36:07.042Z"
   },
   {
    "duration": 20,
    "start_time": "2022-08-17T09:36:07.102Z"
   },
   {
    "duration": 4,
    "start_time": "2022-08-17T09:36:07.124Z"
   },
   {
    "duration": 10,
    "start_time": "2022-08-17T09:36:07.129Z"
   },
   {
    "duration": 185,
    "start_time": "2022-08-17T09:36:07.141Z"
   },
   {
    "duration": 179,
    "start_time": "2022-08-17T09:36:07.327Z"
   },
   {
    "duration": 187,
    "start_time": "2022-08-17T09:36:07.508Z"
   },
   {
    "duration": 504,
    "start_time": "2022-08-17T09:36:07.696Z"
   },
   {
    "duration": 326,
    "start_time": "2022-08-17T09:36:08.203Z"
   },
   {
    "duration": 1217,
    "start_time": "2022-08-17T09:36:08.530Z"
   },
   {
    "duration": 88,
    "start_time": "2022-08-17T09:36:09.749Z"
   },
   {
    "duration": 24,
    "start_time": "2022-08-17T09:36:09.838Z"
   },
   {
    "duration": 12,
    "start_time": "2022-08-17T09:36:09.864Z"
   },
   {
    "duration": 3,
    "start_time": "2022-08-17T09:36:09.878Z"
   },
   {
    "duration": 6,
    "start_time": "2022-08-17T09:36:09.883Z"
   },
   {
    "duration": 8,
    "start_time": "2022-08-17T09:36:09.891Z"
   },
   {
    "duration": 2732,
    "start_time": "2022-08-17T09:36:14.566Z"
   },
   {
    "duration": 80789,
    "start_time": "2022-08-17T09:36:23.269Z"
   },
   {
    "duration": 1738,
    "start_time": "2022-08-17T09:37:44.060Z"
   },
   {
    "duration": 8,
    "start_time": "2022-08-17T09:37:59.960Z"
   },
   {
    "duration": 703,
    "start_time": "2022-08-17T09:38:06.206Z"
   },
   {
    "duration": 20375,
    "start_time": "2022-08-17T09:38:12.635Z"
   },
   {
    "duration": 9,
    "start_time": "2022-08-17T09:38:37.634Z"
   },
   {
    "duration": 2195,
    "start_time": "2022-08-17T11:34:31.520Z"
   },
   {
    "duration": 1951,
    "start_time": "2022-08-17T11:34:33.718Z"
   },
   {
    "duration": 8,
    "start_time": "2022-08-17T11:34:35.671Z"
   },
   {
    "duration": 14,
    "start_time": "2022-08-17T11:34:35.681Z"
   },
   {
    "duration": 150,
    "start_time": "2022-08-17T11:34:35.697Z"
   },
   {
    "duration": 17,
    "start_time": "2022-08-17T11:34:35.848Z"
   },
   {
    "duration": 141,
    "start_time": "2022-08-17T11:34:35.867Z"
   },
   {
    "duration": 44,
    "start_time": "2022-08-17T11:34:36.009Z"
   },
   {
    "duration": 39,
    "start_time": "2022-08-17T11:34:36.055Z"
   },
   {
    "duration": 38,
    "start_time": "2022-08-17T11:34:36.096Z"
   },
   {
    "duration": 19,
    "start_time": "2022-08-17T11:34:36.136Z"
   },
   {
    "duration": 3,
    "start_time": "2022-08-17T11:34:36.156Z"
   },
   {
    "duration": 12,
    "start_time": "2022-08-17T11:34:36.160Z"
   },
   {
    "duration": 158,
    "start_time": "2022-08-17T11:34:36.192Z"
   },
   {
    "duration": 165,
    "start_time": "2022-08-17T11:34:36.351Z"
   },
   {
    "duration": 180,
    "start_time": "2022-08-17T11:34:36.518Z"
   },
   {
    "duration": 459,
    "start_time": "2022-08-17T11:34:36.700Z"
   },
   {
    "duration": 288,
    "start_time": "2022-08-17T11:34:37.160Z"
   },
   {
    "duration": 1236,
    "start_time": "2022-08-17T11:34:37.449Z"
   },
   {
    "duration": 90,
    "start_time": "2022-08-17T11:34:38.687Z"
   },
   {
    "duration": 23,
    "start_time": "2022-08-17T11:34:38.779Z"
   },
   {
    "duration": 11,
    "start_time": "2022-08-17T11:34:38.804Z"
   },
   {
    "duration": 4,
    "start_time": "2022-08-17T11:34:38.817Z"
   },
   {
    "duration": 5,
    "start_time": "2022-08-17T11:34:38.823Z"
   },
   {
    "duration": 5,
    "start_time": "2022-08-17T11:34:38.829Z"
   },
   {
    "duration": 1619,
    "start_time": "2022-08-17T11:34:46.781Z"
   },
   {
    "duration": 3,
    "start_time": "2022-08-17T11:35:09.612Z"
   },
   {
    "duration": 1663,
    "start_time": "2022-08-17T11:35:16.934Z"
   },
   {
    "duration": 6,
    "start_time": "2022-08-17T11:35:29.585Z"
   },
   {
    "duration": 2,
    "start_time": "2022-08-17T11:35:33.907Z"
   },
   {
    "duration": 1641,
    "start_time": "2022-08-17T11:35:39.954Z"
   },
   {
    "duration": 4,
    "start_time": "2022-08-17T11:36:30.125Z"
   },
   {
    "duration": 4,
    "start_time": "2022-08-17T11:36:33.189Z"
   },
   {
    "duration": 1872,
    "start_time": "2022-08-17T11:36:37.422Z"
   },
   {
    "duration": 3,
    "start_time": "2022-08-17T11:37:52.351Z"
   },
   {
    "duration": 3,
    "start_time": "2022-08-17T11:37:54.925Z"
   },
   {
    "duration": 1711,
    "start_time": "2022-08-17T11:37:59.487Z"
   },
   {
    "duration": 16,
    "start_time": "2022-08-17T11:39:07.424Z"
   },
   {
    "duration": 1900,
    "start_time": "2022-08-17T11:41:02.518Z"
   },
   {
    "duration": 679,
    "start_time": "2022-08-17T11:41:04.420Z"
   },
   {
    "duration": 8,
    "start_time": "2022-08-17T11:41:05.101Z"
   },
   {
    "duration": 31,
    "start_time": "2022-08-17T11:41:05.111Z"
   },
   {
    "duration": 150,
    "start_time": "2022-08-17T11:41:05.144Z"
   },
   {
    "duration": 19,
    "start_time": "2022-08-17T11:41:05.295Z"
   },
   {
    "duration": 153,
    "start_time": "2022-08-17T11:41:05.316Z"
   },
   {
    "duration": 54,
    "start_time": "2022-08-17T11:41:05.471Z"
   },
   {
    "duration": 26,
    "start_time": "2022-08-17T11:41:05.526Z"
   },
   {
    "duration": 60,
    "start_time": "2022-08-17T11:41:05.554Z"
   },
   {
    "duration": 20,
    "start_time": "2022-08-17T11:41:05.616Z"
   },
   {
    "duration": 3,
    "start_time": "2022-08-17T11:41:05.638Z"
   },
   {
    "duration": 8,
    "start_time": "2022-08-17T11:41:05.643Z"
   },
   {
    "duration": 187,
    "start_time": "2022-08-17T11:41:05.652Z"
   },
   {
    "duration": 166,
    "start_time": "2022-08-17T11:41:05.841Z"
   },
   {
    "duration": 179,
    "start_time": "2022-08-17T11:41:06.009Z"
   },
   {
    "duration": 479,
    "start_time": "2022-08-17T11:41:06.190Z"
   },
   {
    "duration": 297,
    "start_time": "2022-08-17T11:41:06.671Z"
   },
   {
    "duration": 1151,
    "start_time": "2022-08-17T11:41:06.970Z"
   },
   {
    "duration": 103,
    "start_time": "2022-08-17T11:41:08.122Z"
   },
   {
    "duration": 28,
    "start_time": "2022-08-17T11:41:08.227Z"
   },
   {
    "duration": 34,
    "start_time": "2022-08-17T11:41:08.258Z"
   },
   {
    "duration": 30,
    "start_time": "2022-08-17T11:41:08.294Z"
   },
   {
    "duration": 11,
    "start_time": "2022-08-17T11:41:08.326Z"
   },
   {
    "duration": 10,
    "start_time": "2022-08-17T11:41:08.340Z"
   },
   {
    "duration": 1632,
    "start_time": "2022-08-17T11:44:22.868Z"
   },
   {
    "duration": 17,
    "start_time": "2022-08-17T11:44:46.789Z"
   },
   {
    "duration": 9,
    "start_time": "2022-08-17T11:45:04.141Z"
   },
   {
    "duration": 15,
    "start_time": "2022-08-17T11:45:30.989Z"
   },
   {
    "duration": 134,
    "start_time": "2022-08-17T11:47:50.046Z"
   },
   {
    "duration": 2783,
    "start_time": "2022-08-17T11:48:03.950Z"
   },
   {
    "duration": 694,
    "start_time": "2022-08-17T11:48:12.946Z"
   },
   {
    "duration": 20,
    "start_time": "2022-08-17T11:49:49.264Z"
   },
   {
    "duration": 5,
    "start_time": "2022-08-17T11:50:17.937Z"
   },
   {
    "duration": 774,
    "start_time": "2022-08-17T11:50:17.944Z"
   },
   {
    "duration": 7,
    "start_time": "2022-08-17T11:50:18.719Z"
   },
   {
    "duration": 16,
    "start_time": "2022-08-17T11:50:18.728Z"
   },
   {
    "duration": 150,
    "start_time": "2022-08-17T11:50:18.745Z"
   },
   {
    "duration": 17,
    "start_time": "2022-08-17T11:50:18.897Z"
   },
   {
    "duration": 134,
    "start_time": "2022-08-17T11:50:18.915Z"
   },
   {
    "duration": 48,
    "start_time": "2022-08-17T11:50:19.050Z"
   },
   {
    "duration": 25,
    "start_time": "2022-08-17T11:50:19.100Z"
   },
   {
    "duration": 33,
    "start_time": "2022-08-17T11:50:19.126Z"
   },
   {
    "duration": 40,
    "start_time": "2022-08-17T11:50:19.160Z"
   },
   {
    "duration": 2,
    "start_time": "2022-08-17T11:50:19.202Z"
   },
   {
    "duration": 8,
    "start_time": "2022-08-17T11:50:19.206Z"
   },
   {
    "duration": 170,
    "start_time": "2022-08-17T11:50:19.215Z"
   },
   {
    "duration": 168,
    "start_time": "2022-08-17T11:50:19.392Z"
   },
   {
    "duration": 177,
    "start_time": "2022-08-17T11:50:19.562Z"
   },
   {
    "duration": 527,
    "start_time": "2022-08-17T11:50:19.740Z"
   },
   {
    "duration": 280,
    "start_time": "2022-08-17T11:50:20.269Z"
   },
   {
    "duration": 1143,
    "start_time": "2022-08-17T11:50:20.550Z"
   },
   {
    "duration": 68,
    "start_time": "2022-08-17T11:50:21.694Z"
   },
   {
    "duration": 38,
    "start_time": "2022-08-17T11:50:21.764Z"
   },
   {
    "duration": 8,
    "start_time": "2022-08-17T11:50:21.804Z"
   },
   {
    "duration": 4,
    "start_time": "2022-08-17T11:50:21.813Z"
   },
   {
    "duration": 5,
    "start_time": "2022-08-17T11:50:21.819Z"
   },
   {
    "duration": 4,
    "start_time": "2022-08-17T11:50:21.826Z"
   },
   {
    "duration": 2745,
    "start_time": "2022-08-17T11:50:32.540Z"
   },
   {
    "duration": 10,
    "start_time": "2022-08-17T11:50:41.654Z"
   },
   {
    "duration": 678,
    "start_time": "2022-08-17T11:50:46.183Z"
   },
   {
    "duration": 49,
    "start_time": "2022-08-17T11:52:59.989Z"
   },
   {
    "duration": 6,
    "start_time": "2022-08-17T11:53:07.067Z"
   },
   {
    "duration": 1976,
    "start_time": "2022-08-17T11:53:31.128Z"
   },
   {
    "duration": 723,
    "start_time": "2022-08-17T11:53:33.105Z"
   },
   {
    "duration": 8,
    "start_time": "2022-08-17T11:53:33.830Z"
   },
   {
    "duration": 13,
    "start_time": "2022-08-17T11:53:33.840Z"
   },
   {
    "duration": 167,
    "start_time": "2022-08-17T11:53:33.854Z"
   },
   {
    "duration": 18,
    "start_time": "2022-08-17T11:53:34.023Z"
   },
   {
    "duration": 143,
    "start_time": "2022-08-17T11:53:34.043Z"
   },
   {
    "duration": 48,
    "start_time": "2022-08-17T11:53:34.193Z"
   },
   {
    "duration": 27,
    "start_time": "2022-08-17T11:53:34.243Z"
   },
   {
    "duration": 46,
    "start_time": "2022-08-17T11:53:34.292Z"
   },
   {
    "duration": 20,
    "start_time": "2022-08-17T11:53:34.341Z"
   },
   {
    "duration": 5,
    "start_time": "2022-08-17T11:53:34.363Z"
   },
   {
    "duration": 27,
    "start_time": "2022-08-17T11:53:34.370Z"
   },
   {
    "duration": 176,
    "start_time": "2022-08-17T11:53:34.400Z"
   },
   {
    "duration": 178,
    "start_time": "2022-08-17T11:53:34.577Z"
   },
   {
    "duration": 179,
    "start_time": "2022-08-17T11:53:34.756Z"
   },
   {
    "duration": 491,
    "start_time": "2022-08-17T11:53:34.937Z"
   },
   {
    "duration": 280,
    "start_time": "2022-08-17T11:53:35.430Z"
   },
   {
    "duration": 1132,
    "start_time": "2022-08-17T11:53:35.711Z"
   },
   {
    "duration": 92,
    "start_time": "2022-08-17T11:53:36.845Z"
   },
   {
    "duration": 23,
    "start_time": "2022-08-17T11:53:36.938Z"
   },
   {
    "duration": 9,
    "start_time": "2022-08-17T11:53:36.963Z"
   },
   {
    "duration": 3,
    "start_time": "2022-08-17T11:53:36.973Z"
   },
   {
    "duration": 14,
    "start_time": "2022-08-17T11:53:36.978Z"
   },
   {
    "duration": 3,
    "start_time": "2022-08-17T11:53:46.547Z"
   },
   {
    "duration": 2658,
    "start_time": "2022-08-17T11:53:50.720Z"
   },
   {
    "duration": 9,
    "start_time": "2022-08-17T11:53:58.833Z"
   },
   {
    "duration": 12,
    "start_time": "2022-08-17T11:54:00.554Z"
   },
   {
    "duration": 12,
    "start_time": "2022-08-17T11:54:03.784Z"
   },
   {
    "duration": 1766,
    "start_time": "2022-08-17T12:26:25.424Z"
   },
   {
    "duration": 2015,
    "start_time": "2022-08-17T12:26:27.193Z"
   },
   {
    "duration": 9,
    "start_time": "2022-08-17T12:26:29.210Z"
   },
   {
    "duration": 14,
    "start_time": "2022-08-17T12:26:29.222Z"
   },
   {
    "duration": 190,
    "start_time": "2022-08-17T12:26:29.237Z"
   },
   {
    "duration": 20,
    "start_time": "2022-08-17T12:26:29.429Z"
   },
   {
    "duration": 164,
    "start_time": "2022-08-17T12:26:29.450Z"
   },
   {
    "duration": 56,
    "start_time": "2022-08-17T12:26:29.615Z"
   },
   {
    "duration": 31,
    "start_time": "2022-08-17T12:26:29.672Z"
   },
   {
    "duration": 39,
    "start_time": "2022-08-17T12:26:29.706Z"
   },
   {
    "duration": 28,
    "start_time": "2022-08-17T12:26:29.747Z"
   },
   {
    "duration": 17,
    "start_time": "2022-08-17T12:26:29.777Z"
   },
   {
    "duration": 7,
    "start_time": "2022-08-17T12:26:29.797Z"
   },
   {
    "duration": 198,
    "start_time": "2022-08-17T12:26:29.806Z"
   },
   {
    "duration": 185,
    "start_time": "2022-08-17T12:26:30.006Z"
   },
   {
    "duration": 191,
    "start_time": "2022-08-17T12:26:30.196Z"
   },
   {
    "duration": 527,
    "start_time": "2022-08-17T12:26:30.389Z"
   },
   {
    "duration": 315,
    "start_time": "2022-08-17T12:26:30.918Z"
   },
   {
    "duration": 1347,
    "start_time": "2022-08-17T12:26:31.235Z"
   },
   {
    "duration": 117,
    "start_time": "2022-08-17T12:26:32.584Z"
   },
   {
    "duration": 25,
    "start_time": "2022-08-17T12:26:32.703Z"
   },
   {
    "duration": 11,
    "start_time": "2022-08-17T12:26:32.731Z"
   },
   {
    "duration": 11,
    "start_time": "2022-08-17T12:26:32.744Z"
   },
   {
    "duration": 6,
    "start_time": "2022-08-17T12:26:32.756Z"
   },
   {
    "duration": 8,
    "start_time": "2022-08-17T12:26:32.764Z"
   },
   {
    "duration": 239445,
    "start_time": "2022-08-17T12:26:32.774Z"
   },
   {
    "duration": 1804,
    "start_time": "2022-08-17T12:30:32.221Z"
   },
   {
    "duration": 86248,
    "start_time": "2022-08-17T12:30:34.029Z"
   },
   {
    "duration": 53025,
    "start_time": "2022-08-17T12:32:00.279Z"
   },
   {
    "duration": 2764,
    "start_time": "2022-08-17T12:32:53.306Z"
   },
   {
    "duration": 245,
    "start_time": "2022-08-17T12:32:56.072Z"
   },
   {
    "duration": 0,
    "start_time": "2022-08-17T12:32:56.319Z"
   },
   {
    "duration": 0,
    "start_time": "2022-08-17T12:32:56.321Z"
   },
   {
    "duration": 0,
    "start_time": "2022-08-17T12:32:56.323Z"
   },
   {
    "duration": 0,
    "start_time": "2022-08-17T12:32:56.324Z"
   },
   {
    "duration": 0,
    "start_time": "2022-08-17T12:32:56.325Z"
   },
   {
    "duration": 25,
    "start_time": "2022-08-17T12:34:56.708Z"
   },
   {
    "duration": 2627,
    "start_time": "2022-08-17T12:35:24.980Z"
   },
   {
    "duration": 792,
    "start_time": "2022-08-17T12:35:27.612Z"
   },
   {
    "duration": 8,
    "start_time": "2022-08-17T12:35:28.406Z"
   },
   {
    "duration": 14,
    "start_time": "2022-08-17T12:35:28.416Z"
   },
   {
    "duration": 194,
    "start_time": "2022-08-17T12:35:28.432Z"
   },
   {
    "duration": 20,
    "start_time": "2022-08-17T12:35:28.627Z"
   },
   {
    "duration": 164,
    "start_time": "2022-08-17T12:35:28.649Z"
   },
   {
    "duration": 72,
    "start_time": "2022-08-17T12:35:28.815Z"
   },
   {
    "duration": 29,
    "start_time": "2022-08-17T12:35:28.889Z"
   },
   {
    "duration": 50,
    "start_time": "2022-08-17T12:35:28.920Z"
   },
   {
    "duration": 18,
    "start_time": "2022-08-17T12:35:38.618Z"
   },
   {
    "duration": 6,
    "start_time": "2022-08-17T12:36:07.076Z"
   },
   {
    "duration": 770,
    "start_time": "2022-08-17T12:36:07.085Z"
   },
   {
    "duration": 15,
    "start_time": "2022-08-17T12:36:07.857Z"
   },
   {
    "duration": 17,
    "start_time": "2022-08-17T12:36:07.875Z"
   },
   {
    "duration": 190,
    "start_time": "2022-08-17T12:36:07.898Z"
   },
   {
    "duration": 21,
    "start_time": "2022-08-17T12:36:08.090Z"
   },
   {
    "duration": 169,
    "start_time": "2022-08-17T12:36:08.113Z"
   },
   {
    "duration": 40,
    "start_time": "2022-08-17T12:36:08.284Z"
   },
   {
    "duration": 46,
    "start_time": "2022-08-17T12:36:08.326Z"
   },
   {
    "duration": 39,
    "start_time": "2022-08-17T12:36:08.374Z"
   },
   {
    "duration": 14,
    "start_time": "2022-08-17T12:36:08.415Z"
   },
   {
    "duration": 8,
    "start_time": "2022-08-17T12:36:08.431Z"
   },
   {
    "duration": 35,
    "start_time": "2022-08-17T12:36:08.441Z"
   },
   {
    "duration": 198,
    "start_time": "2022-08-17T12:36:08.478Z"
   },
   {
    "duration": 183,
    "start_time": "2022-08-17T12:36:08.678Z"
   },
   {
    "duration": 308,
    "start_time": "2022-08-17T12:36:08.867Z"
   },
   {
    "duration": 474,
    "start_time": "2022-08-17T12:36:09.179Z"
   },
   {
    "duration": 309,
    "start_time": "2022-08-17T12:36:09.655Z"
   },
   {
    "duration": 1339,
    "start_time": "2022-08-17T12:36:09.967Z"
   },
   {
    "duration": 109,
    "start_time": "2022-08-17T12:36:11.308Z"
   },
   {
    "duration": 24,
    "start_time": "2022-08-17T12:36:11.419Z"
   },
   {
    "duration": 9,
    "start_time": "2022-08-17T12:36:11.445Z"
   },
   {
    "duration": 5,
    "start_time": "2022-08-17T12:36:11.455Z"
   },
   {
    "duration": 131,
    "start_time": "2022-08-17T12:36:20.047Z"
   },
   {
    "duration": 4,
    "start_time": "2022-08-17T12:36:21.933Z"
   },
   {
    "duration": 3,
    "start_time": "2022-08-17T12:36:31.955Z"
   },
   {
    "duration": 4999,
    "start_time": "2022-08-17T12:36:33.618Z"
   },
   {
    "duration": 1782,
    "start_time": "2022-08-17T12:36:46.724Z"
   },
   {
    "duration": 31661,
    "start_time": "2022-08-17T12:36:53.046Z"
   },
   {
    "duration": 3494,
    "start_time": "2022-08-17T12:37:27.080Z"
   },
   {
    "duration": 9,
    "start_time": "2022-08-17T12:37:34.561Z"
   },
   {
    "duration": 487,
    "start_time": "2022-08-17T12:37:53.626Z"
   },
   {
    "duration": 14,
    "start_time": "2022-08-17T12:38:11.977Z"
   },
   {
    "duration": 15,
    "start_time": "2022-08-17T12:38:14.497Z"
   },
   {
    "duration": 1613,
    "start_time": "2022-08-17T12:39:42.781Z"
   },
   {
    "duration": 746,
    "start_time": "2022-08-17T12:39:44.396Z"
   },
   {
    "duration": 8,
    "start_time": "2022-08-17T12:39:45.144Z"
   },
   {
    "duration": 26,
    "start_time": "2022-08-17T12:39:45.154Z"
   },
   {
    "duration": 167,
    "start_time": "2022-08-17T12:39:45.182Z"
   },
   {
    "duration": 34,
    "start_time": "2022-08-17T12:39:45.350Z"
   },
   {
    "duration": 157,
    "start_time": "2022-08-17T12:39:45.386Z"
   },
   {
    "duration": 57,
    "start_time": "2022-08-17T12:39:45.545Z"
   },
   {
    "duration": 26,
    "start_time": "2022-08-17T12:39:45.604Z"
   },
   {
    "duration": 64,
    "start_time": "2022-08-17T12:39:45.633Z"
   },
   {
    "duration": 14,
    "start_time": "2022-08-17T12:39:45.699Z"
   },
   {
    "duration": 3,
    "start_time": "2022-08-17T12:39:45.714Z"
   },
   {
    "duration": 11,
    "start_time": "2022-08-17T12:39:45.719Z"
   },
   {
    "duration": 200,
    "start_time": "2022-08-17T12:39:45.732Z"
   },
   {
    "duration": 182,
    "start_time": "2022-08-17T12:39:45.934Z"
   },
   {
    "duration": 192,
    "start_time": "2022-08-17T12:39:46.118Z"
   },
   {
    "duration": 617,
    "start_time": "2022-08-17T12:39:46.312Z"
   },
   {
    "duration": 305,
    "start_time": "2022-08-17T12:39:46.931Z"
   },
   {
    "duration": 1203,
    "start_time": "2022-08-17T12:39:47.238Z"
   },
   {
    "duration": 122,
    "start_time": "2022-08-17T12:39:48.443Z"
   },
   {
    "duration": 28,
    "start_time": "2022-08-17T12:39:48.567Z"
   },
   {
    "duration": 10,
    "start_time": "2022-08-17T12:39:51.613Z"
   },
   {
    "duration": 4,
    "start_time": "2022-08-17T12:39:54.795Z"
   },
   {
    "duration": 4,
    "start_time": "2022-08-17T12:39:57.668Z"
   },
   {
    "duration": 1707,
    "start_time": "2022-08-17T12:40:03.369Z"
   },
   {
    "duration": 227256,
    "start_time": "2022-08-17T12:40:19.274Z"
   },
   {
    "duration": 648,
    "start_time": "2022-08-17T12:44:52.255Z"
   },
   {
    "duration": 673928,
    "start_time": "2022-08-17T12:45:12.887Z"
   },
   {
    "duration": 614,
    "start_time": "2022-08-17T12:57:14.180Z"
   },
   {
    "duration": 10923,
    "start_time": "2022-08-17T12:57:59.192Z"
   },
   {
    "duration": 2258,
    "start_time": "2022-08-17T13:05:31.119Z"
   },
   {
    "duration": 10,
    "start_time": "2022-08-17T13:05:42.669Z"
   },
   {
    "duration": 181,
    "start_time": "2022-08-17T13:05:52.289Z"
   },
   {
    "duration": 3056,
    "start_time": "2022-08-17T13:05:54.990Z"
   },
   {
    "duration": 11,
    "start_time": "2022-08-17T13:06:03.221Z"
   },
   {
    "duration": 12,
    "start_time": "2022-08-17T13:09:32.533Z"
   },
   {
    "duration": 10,
    "start_time": "2022-08-17T13:09:34.404Z"
   },
   {
    "duration": 1609,
    "start_time": "2022-08-17T13:18:50.664Z"
   },
   {
    "duration": 754,
    "start_time": "2022-08-17T13:18:52.276Z"
   },
   {
    "duration": 10,
    "start_time": "2022-08-17T13:18:53.032Z"
   },
   {
    "duration": 50,
    "start_time": "2022-08-17T13:18:53.044Z"
   },
   {
    "duration": 189,
    "start_time": "2022-08-17T13:18:53.096Z"
   },
   {
    "duration": 23,
    "start_time": "2022-08-17T13:18:53.288Z"
   },
   {
    "duration": 167,
    "start_time": "2022-08-17T13:18:53.313Z"
   },
   {
    "duration": 55,
    "start_time": "2022-08-17T13:18:53.483Z"
   },
   {
    "duration": 52,
    "start_time": "2022-08-17T13:18:53.539Z"
   },
   {
    "duration": 49,
    "start_time": "2022-08-17T13:18:53.595Z"
   },
   {
    "duration": 37,
    "start_time": "2022-08-17T13:18:53.645Z"
   },
   {
    "duration": 15,
    "start_time": "2022-08-17T13:18:53.684Z"
   },
   {
    "duration": 23,
    "start_time": "2022-08-17T13:18:53.701Z"
   },
   {
    "duration": 212,
    "start_time": "2022-08-17T13:18:53.726Z"
   },
   {
    "duration": 194,
    "start_time": "2022-08-17T13:18:53.940Z"
   },
   {
    "duration": 201,
    "start_time": "2022-08-17T13:18:54.136Z"
   },
   {
    "duration": 535,
    "start_time": "2022-08-17T13:18:54.339Z"
   },
   {
    "duration": 329,
    "start_time": "2022-08-17T13:18:54.876Z"
   },
   {
    "duration": 1336,
    "start_time": "2022-08-17T13:18:55.207Z"
   },
   {
    "duration": 139,
    "start_time": "2022-08-17T13:18:56.545Z"
   },
   {
    "duration": 31,
    "start_time": "2022-08-17T13:18:56.687Z"
   },
   {
    "duration": 30,
    "start_time": "2022-08-17T13:18:56.720Z"
   },
   {
    "duration": 5,
    "start_time": "2022-08-17T13:18:56.752Z"
   },
   {
    "duration": 5,
    "start_time": "2022-08-17T13:18:56.759Z"
   },
   {
    "duration": 230073,
    "start_time": "2022-08-17T13:18:56.766Z"
   },
   {
    "duration": 721,
    "start_time": "2022-08-17T13:22:46.841Z"
   },
   {
    "duration": 33784,
    "start_time": "2022-08-17T13:22:47.563Z"
   },
   {
    "duration": 12147,
    "start_time": "2022-08-17T13:23:21.350Z"
   },
   {
    "duration": 4473,
    "start_time": "2022-08-17T13:23:33.501Z"
   },
   {
    "duration": 18,
    "start_time": "2022-08-17T13:23:37.977Z"
   },
   {
    "duration": 77,
    "start_time": "2022-08-17T13:23:37.998Z"
   },
   {
    "duration": 29,
    "start_time": "2022-08-17T13:23:38.078Z"
   },
   {
    "duration": 200,
    "start_time": "2022-08-17T13:23:38.109Z"
   },
   {
    "duration": 3054,
    "start_time": "2022-08-17T13:23:38.310Z"
   },
   {
    "duration": 12,
    "start_time": "2022-08-17T13:23:41.368Z"
   },
   {
    "duration": 727,
    "start_time": "2022-08-17T13:24:46.166Z"
   },
   {
    "duration": 19566,
    "start_time": "2022-08-17T13:25:00.686Z"
   },
   {
    "duration": 170,
    "start_time": "2022-08-17T13:25:45.699Z"
   },
   {
    "duration": 4826,
    "start_time": "2022-08-17T13:25:47.382Z"
   }
  ],
  "kernelspec": {
   "display_name": "Python 3 (ipykernel)",
   "language": "python",
   "name": "python3"
  },
  "language_info": {
   "codemirror_mode": {
    "name": "ipython",
    "version": 3
   },
   "file_extension": ".py",
   "mimetype": "text/x-python",
   "name": "python",
   "nbconvert_exporter": "python",
   "pygments_lexer": "ipython3",
   "version": "3.9.5"
  },
  "toc": {
   "base_numbering": 1,
   "nav_menu": {},
   "number_sections": true,
   "sideBar": true,
   "skip_h1_title": true,
   "title_cell": "Содержание",
   "title_sidebar": "Contents",
   "toc_cell": true,
   "toc_position": {},
   "toc_section_display": true,
   "toc_window_display": true
  }
 },
 "nbformat": 4,
 "nbformat_minor": 2
}
