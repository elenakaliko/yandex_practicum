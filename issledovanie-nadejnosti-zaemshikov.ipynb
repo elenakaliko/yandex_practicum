{
 "cells": [
  {
   "cell_type": "markdown",
   "id": "ab295a36",
   "metadata": {},
   "source": [
    "# Исследование надежности заемщиков."
   ]
  },
  {
   "cell_type": "markdown",
   "id": "76bc4473",
   "metadata": {},
   "source": [
    "Задачи, поставленные в рамках данного исследования: <br>\n",
    "1) Выяснить, имеется ли зависимость между: <br>\n",
    "    - количеством детей и возвратом кредита в срок <br>\n",
    "    - семейным положением и возвратом кредита в срок <br>\n",
    "    - уровнем дохода и возвратом кредита в срок <br>\n",
    "2) Выяснить, как разные цели кредита влияют на его возврат в срок <br>\n",
    "3) На основании выявленных зависимостей сделать предложения для улучшения методики расчета индивидуального кредитного скоринга клиентов."
   ]
  },
  {
   "cell_type": "markdown",
   "id": "c391e368",
   "metadata": {},
   "source": [
    "## Обзор данных"
   ]
  },
  {
   "cell_type": "code",
   "execution_count": 1,
   "id": "e731ac87",
   "metadata": {},
   "outputs": [
    {
     "name": "stdout",
     "output_type": "stream",
     "text": [
      "<class 'pandas.core.frame.DataFrame'>\n",
      "RangeIndex: 21525 entries, 0 to 21524\n",
      "Data columns (total 12 columns):\n",
      " #   Column            Non-Null Count  Dtype  \n",
      "---  ------            --------------  -----  \n",
      " 0   children          21525 non-null  int64  \n",
      " 1   days_employed     19351 non-null  float64\n",
      " 2   dob_years         21525 non-null  int64  \n",
      " 3   education         21525 non-null  object \n",
      " 4   education_id      21525 non-null  int64  \n",
      " 5   family_status     21525 non-null  object \n",
      " 6   family_status_id  21525 non-null  int64  \n",
      " 7   gender            21525 non-null  object \n",
      " 8   income_type       21525 non-null  object \n",
      " 9   debt              21525 non-null  int64  \n",
      " 10  total_income      19351 non-null  float64\n",
      " 11  purpose           21525 non-null  object \n",
      "dtypes: float64(2), int64(5), object(5)\n",
      "memory usage: 2.0+ MB\n"
     ]
    },
    {
     "data": {
      "text/html": [
       "<div>\n",
       "<style scoped>\n",
       "    .dataframe tbody tr th:only-of-type {\n",
       "        vertical-align: middle;\n",
       "    }\n",
       "\n",
       "    .dataframe tbody tr th {\n",
       "        vertical-align: top;\n",
       "    }\n",
       "\n",
       "    .dataframe thead th {\n",
       "        text-align: right;\n",
       "    }\n",
       "</style>\n",
       "<table border=\"1\" class=\"dataframe\">\n",
       "  <thead>\n",
       "    <tr style=\"text-align: right;\">\n",
       "      <th></th>\n",
       "      <th>children</th>\n",
       "      <th>days_employed</th>\n",
       "      <th>dob_years</th>\n",
       "      <th>education</th>\n",
       "      <th>education_id</th>\n",
       "      <th>family_status</th>\n",
       "      <th>family_status_id</th>\n",
       "      <th>gender</th>\n",
       "      <th>income_type</th>\n",
       "      <th>debt</th>\n",
       "      <th>total_income</th>\n",
       "      <th>purpose</th>\n",
       "    </tr>\n",
       "  </thead>\n",
       "  <tbody>\n",
       "    <tr>\n",
       "      <th>0</th>\n",
       "      <td>1</td>\n",
       "      <td>-8437.673028</td>\n",
       "      <td>42</td>\n",
       "      <td>высшее</td>\n",
       "      <td>0</td>\n",
       "      <td>женат / замужем</td>\n",
       "      <td>0</td>\n",
       "      <td>F</td>\n",
       "      <td>сотрудник</td>\n",
       "      <td>0</td>\n",
       "      <td>253875.639453</td>\n",
       "      <td>покупка жилья</td>\n",
       "    </tr>\n",
       "    <tr>\n",
       "      <th>1</th>\n",
       "      <td>1</td>\n",
       "      <td>-4024.803754</td>\n",
       "      <td>36</td>\n",
       "      <td>среднее</td>\n",
       "      <td>1</td>\n",
       "      <td>женат / замужем</td>\n",
       "      <td>0</td>\n",
       "      <td>F</td>\n",
       "      <td>сотрудник</td>\n",
       "      <td>0</td>\n",
       "      <td>112080.014102</td>\n",
       "      <td>приобретение автомобиля</td>\n",
       "    </tr>\n",
       "    <tr>\n",
       "      <th>2</th>\n",
       "      <td>0</td>\n",
       "      <td>-5623.422610</td>\n",
       "      <td>33</td>\n",
       "      <td>Среднее</td>\n",
       "      <td>1</td>\n",
       "      <td>женат / замужем</td>\n",
       "      <td>0</td>\n",
       "      <td>M</td>\n",
       "      <td>сотрудник</td>\n",
       "      <td>0</td>\n",
       "      <td>145885.952297</td>\n",
       "      <td>покупка жилья</td>\n",
       "    </tr>\n",
       "    <tr>\n",
       "      <th>3</th>\n",
       "      <td>3</td>\n",
       "      <td>-4124.747207</td>\n",
       "      <td>32</td>\n",
       "      <td>среднее</td>\n",
       "      <td>1</td>\n",
       "      <td>женат / замужем</td>\n",
       "      <td>0</td>\n",
       "      <td>M</td>\n",
       "      <td>сотрудник</td>\n",
       "      <td>0</td>\n",
       "      <td>267628.550329</td>\n",
       "      <td>дополнительное образование</td>\n",
       "    </tr>\n",
       "    <tr>\n",
       "      <th>4</th>\n",
       "      <td>0</td>\n",
       "      <td>340266.072047</td>\n",
       "      <td>53</td>\n",
       "      <td>среднее</td>\n",
       "      <td>1</td>\n",
       "      <td>гражданский брак</td>\n",
       "      <td>1</td>\n",
       "      <td>F</td>\n",
       "      <td>пенсионер</td>\n",
       "      <td>0</td>\n",
       "      <td>158616.077870</td>\n",
       "      <td>сыграть свадьбу</td>\n",
       "    </tr>\n",
       "    <tr>\n",
       "      <th>5</th>\n",
       "      <td>0</td>\n",
       "      <td>-926.185831</td>\n",
       "      <td>27</td>\n",
       "      <td>высшее</td>\n",
       "      <td>0</td>\n",
       "      <td>гражданский брак</td>\n",
       "      <td>1</td>\n",
       "      <td>M</td>\n",
       "      <td>компаньон</td>\n",
       "      <td>0</td>\n",
       "      <td>255763.565419</td>\n",
       "      <td>покупка жилья</td>\n",
       "    </tr>\n",
       "    <tr>\n",
       "      <th>6</th>\n",
       "      <td>0</td>\n",
       "      <td>-2879.202052</td>\n",
       "      <td>43</td>\n",
       "      <td>высшее</td>\n",
       "      <td>0</td>\n",
       "      <td>женат / замужем</td>\n",
       "      <td>0</td>\n",
       "      <td>F</td>\n",
       "      <td>компаньон</td>\n",
       "      <td>0</td>\n",
       "      <td>240525.971920</td>\n",
       "      <td>операции с жильем</td>\n",
       "    </tr>\n",
       "    <tr>\n",
       "      <th>7</th>\n",
       "      <td>0</td>\n",
       "      <td>-152.779569</td>\n",
       "      <td>50</td>\n",
       "      <td>СРЕДНЕЕ</td>\n",
       "      <td>1</td>\n",
       "      <td>женат / замужем</td>\n",
       "      <td>0</td>\n",
       "      <td>M</td>\n",
       "      <td>сотрудник</td>\n",
       "      <td>0</td>\n",
       "      <td>135823.934197</td>\n",
       "      <td>образование</td>\n",
       "    </tr>\n",
       "    <tr>\n",
       "      <th>8</th>\n",
       "      <td>2</td>\n",
       "      <td>-6929.865299</td>\n",
       "      <td>35</td>\n",
       "      <td>ВЫСШЕЕ</td>\n",
       "      <td>0</td>\n",
       "      <td>гражданский брак</td>\n",
       "      <td>1</td>\n",
       "      <td>F</td>\n",
       "      <td>сотрудник</td>\n",
       "      <td>0</td>\n",
       "      <td>95856.832424</td>\n",
       "      <td>на проведение свадьбы</td>\n",
       "    </tr>\n",
       "    <tr>\n",
       "      <th>9</th>\n",
       "      <td>0</td>\n",
       "      <td>-2188.756445</td>\n",
       "      <td>41</td>\n",
       "      <td>среднее</td>\n",
       "      <td>1</td>\n",
       "      <td>женат / замужем</td>\n",
       "      <td>0</td>\n",
       "      <td>M</td>\n",
       "      <td>сотрудник</td>\n",
       "      <td>0</td>\n",
       "      <td>144425.938277</td>\n",
       "      <td>покупка жилья для семьи</td>\n",
       "    </tr>\n",
       "    <tr>\n",
       "      <th>10</th>\n",
       "      <td>2</td>\n",
       "      <td>-4171.483647</td>\n",
       "      <td>36</td>\n",
       "      <td>высшее</td>\n",
       "      <td>0</td>\n",
       "      <td>женат / замужем</td>\n",
       "      <td>0</td>\n",
       "      <td>M</td>\n",
       "      <td>компаньон</td>\n",
       "      <td>0</td>\n",
       "      <td>113943.491460</td>\n",
       "      <td>покупка недвижимости</td>\n",
       "    </tr>\n",
       "    <tr>\n",
       "      <th>11</th>\n",
       "      <td>0</td>\n",
       "      <td>-792.701887</td>\n",
       "      <td>40</td>\n",
       "      <td>среднее</td>\n",
       "      <td>1</td>\n",
       "      <td>женат / замужем</td>\n",
       "      <td>0</td>\n",
       "      <td>F</td>\n",
       "      <td>сотрудник</td>\n",
       "      <td>0</td>\n",
       "      <td>77069.234271</td>\n",
       "      <td>покупка коммерческой недвижимости</td>\n",
       "    </tr>\n",
       "    <tr>\n",
       "      <th>12</th>\n",
       "      <td>0</td>\n",
       "      <td>NaN</td>\n",
       "      <td>65</td>\n",
       "      <td>среднее</td>\n",
       "      <td>1</td>\n",
       "      <td>гражданский брак</td>\n",
       "      <td>1</td>\n",
       "      <td>M</td>\n",
       "      <td>пенсионер</td>\n",
       "      <td>0</td>\n",
       "      <td>NaN</td>\n",
       "      <td>сыграть свадьбу</td>\n",
       "    </tr>\n",
       "    <tr>\n",
       "      <th>13</th>\n",
       "      <td>0</td>\n",
       "      <td>-1846.641941</td>\n",
       "      <td>54</td>\n",
       "      <td>неоконченное высшее</td>\n",
       "      <td>2</td>\n",
       "      <td>женат / замужем</td>\n",
       "      <td>0</td>\n",
       "      <td>F</td>\n",
       "      <td>сотрудник</td>\n",
       "      <td>0</td>\n",
       "      <td>130458.228857</td>\n",
       "      <td>приобретение автомобиля</td>\n",
       "    </tr>\n",
       "    <tr>\n",
       "      <th>14</th>\n",
       "      <td>0</td>\n",
       "      <td>-1844.956182</td>\n",
       "      <td>56</td>\n",
       "      <td>высшее</td>\n",
       "      <td>0</td>\n",
       "      <td>гражданский брак</td>\n",
       "      <td>1</td>\n",
       "      <td>F</td>\n",
       "      <td>компаньон</td>\n",
       "      <td>1</td>\n",
       "      <td>165127.911772</td>\n",
       "      <td>покупка жилой недвижимости</td>\n",
       "    </tr>\n",
       "  </tbody>\n",
       "</table>\n",
       "</div>"
      ],
      "text/plain": [
       "    children  days_employed  dob_years            education  education_id  \\\n",
       "0          1   -8437.673028         42               высшее             0   \n",
       "1          1   -4024.803754         36              среднее             1   \n",
       "2          0   -5623.422610         33              Среднее             1   \n",
       "3          3   -4124.747207         32              среднее             1   \n",
       "4          0  340266.072047         53              среднее             1   \n",
       "5          0    -926.185831         27               высшее             0   \n",
       "6          0   -2879.202052         43               высшее             0   \n",
       "7          0    -152.779569         50              СРЕДНЕЕ             1   \n",
       "8          2   -6929.865299         35               ВЫСШЕЕ             0   \n",
       "9          0   -2188.756445         41              среднее             1   \n",
       "10         2   -4171.483647         36               высшее             0   \n",
       "11         0    -792.701887         40              среднее             1   \n",
       "12         0            NaN         65              среднее             1   \n",
       "13         0   -1846.641941         54  неоконченное высшее             2   \n",
       "14         0   -1844.956182         56               высшее             0   \n",
       "\n",
       "       family_status  family_status_id gender income_type  debt  \\\n",
       "0    женат / замужем                 0      F   сотрудник     0   \n",
       "1    женат / замужем                 0      F   сотрудник     0   \n",
       "2    женат / замужем                 0      M   сотрудник     0   \n",
       "3    женат / замужем                 0      M   сотрудник     0   \n",
       "4   гражданский брак                 1      F   пенсионер     0   \n",
       "5   гражданский брак                 1      M   компаньон     0   \n",
       "6    женат / замужем                 0      F   компаньон     0   \n",
       "7    женат / замужем                 0      M   сотрудник     0   \n",
       "8   гражданский брак                 1      F   сотрудник     0   \n",
       "9    женат / замужем                 0      M   сотрудник     0   \n",
       "10   женат / замужем                 0      M   компаньон     0   \n",
       "11   женат / замужем                 0      F   сотрудник     0   \n",
       "12  гражданский брак                 1      M   пенсионер     0   \n",
       "13   женат / замужем                 0      F   сотрудник     0   \n",
       "14  гражданский брак                 1      F   компаньон     1   \n",
       "\n",
       "     total_income                            purpose  \n",
       "0   253875.639453                      покупка жилья  \n",
       "1   112080.014102            приобретение автомобиля  \n",
       "2   145885.952297                      покупка жилья  \n",
       "3   267628.550329         дополнительное образование  \n",
       "4   158616.077870                    сыграть свадьбу  \n",
       "5   255763.565419                      покупка жилья  \n",
       "6   240525.971920                  операции с жильем  \n",
       "7   135823.934197                        образование  \n",
       "8    95856.832424              на проведение свадьбы  \n",
       "9   144425.938277            покупка жилья для семьи  \n",
       "10  113943.491460               покупка недвижимости  \n",
       "11   77069.234271  покупка коммерческой недвижимости  \n",
       "12            NaN                    сыграть свадьбу  \n",
       "13  130458.228857            приобретение автомобиля  \n",
       "14  165127.911772         покупка жилой недвижимости  "
      ]
     },
     "metadata": {},
     "output_type": "display_data"
    }
   ],
   "source": [
    "import pandas as pd\n",
    "import seaborn as sb\n",
    "data = pd.read_csv('/datasets/data.csv')\n",
    "data.info()\n",
    "display(data.head(15))"
   ]
  },
  {
   "cell_type": "markdown",
   "id": "12292e65",
   "metadata": {},
   "source": [
    "## Предобработка данных"
   ]
  },
  {
   "cell_type": "markdown",
   "id": "6b58cbe7",
   "metadata": {},
   "source": [
    "### Заполнение пропусков"
   ]
  },
  {
   "cell_type": "code",
   "execution_count": 2,
   "id": "33746cc8",
   "metadata": {},
   "outputs": [
    {
     "data": {
      "text/plain": [
       "'Количество пропущенных значений в столбце total_income 2174'"
      ]
     },
     "metadata": {},
     "output_type": "display_data"
    },
    {
     "data": {
      "text/plain": [
       "'Доля пропущенных значений в столбце total_income 10.1%'"
      ]
     },
     "metadata": {},
     "output_type": "display_data"
    },
    {
     "data": {
      "text/html": [
       "<div>\n",
       "<style scoped>\n",
       "    .dataframe tbody tr th:only-of-type {\n",
       "        vertical-align: middle;\n",
       "    }\n",
       "\n",
       "    .dataframe tbody tr th {\n",
       "        vertical-align: top;\n",
       "    }\n",
       "\n",
       "    .dataframe thead th {\n",
       "        text-align: right;\n",
       "    }\n",
       "</style>\n",
       "<table border=\"1\" class=\"dataframe\">\n",
       "  <thead>\n",
       "    <tr style=\"text-align: right;\">\n",
       "      <th></th>\n",
       "      <th>children</th>\n",
       "      <th>days_employed</th>\n",
       "      <th>dob_years</th>\n",
       "      <th>education</th>\n",
       "      <th>education_id</th>\n",
       "      <th>family_status</th>\n",
       "      <th>family_status_id</th>\n",
       "      <th>gender</th>\n",
       "      <th>income_type</th>\n",
       "      <th>debt</th>\n",
       "      <th>total_income</th>\n",
       "      <th>purpose</th>\n",
       "    </tr>\n",
       "  </thead>\n",
       "  <tbody>\n",
       "    <tr>\n",
       "      <th>12</th>\n",
       "      <td>0</td>\n",
       "      <td>NaN</td>\n",
       "      <td>65</td>\n",
       "      <td>среднее</td>\n",
       "      <td>1</td>\n",
       "      <td>гражданский брак</td>\n",
       "      <td>1</td>\n",
       "      <td>M</td>\n",
       "      <td>пенсионер</td>\n",
       "      <td>0</td>\n",
       "      <td>NaN</td>\n",
       "      <td>сыграть свадьбу</td>\n",
       "    </tr>\n",
       "    <tr>\n",
       "      <th>26</th>\n",
       "      <td>0</td>\n",
       "      <td>NaN</td>\n",
       "      <td>41</td>\n",
       "      <td>среднее</td>\n",
       "      <td>1</td>\n",
       "      <td>женат / замужем</td>\n",
       "      <td>0</td>\n",
       "      <td>M</td>\n",
       "      <td>госслужащий</td>\n",
       "      <td>0</td>\n",
       "      <td>NaN</td>\n",
       "      <td>образование</td>\n",
       "    </tr>\n",
       "    <tr>\n",
       "      <th>29</th>\n",
       "      <td>0</td>\n",
       "      <td>NaN</td>\n",
       "      <td>63</td>\n",
       "      <td>среднее</td>\n",
       "      <td>1</td>\n",
       "      <td>Не женат / не замужем</td>\n",
       "      <td>4</td>\n",
       "      <td>F</td>\n",
       "      <td>пенсионер</td>\n",
       "      <td>0</td>\n",
       "      <td>NaN</td>\n",
       "      <td>строительство жилой недвижимости</td>\n",
       "    </tr>\n",
       "    <tr>\n",
       "      <th>41</th>\n",
       "      <td>0</td>\n",
       "      <td>NaN</td>\n",
       "      <td>50</td>\n",
       "      <td>среднее</td>\n",
       "      <td>1</td>\n",
       "      <td>женат / замужем</td>\n",
       "      <td>0</td>\n",
       "      <td>F</td>\n",
       "      <td>госслужащий</td>\n",
       "      <td>0</td>\n",
       "      <td>NaN</td>\n",
       "      <td>сделка с подержанным автомобилем</td>\n",
       "    </tr>\n",
       "    <tr>\n",
       "      <th>55</th>\n",
       "      <td>0</td>\n",
       "      <td>NaN</td>\n",
       "      <td>54</td>\n",
       "      <td>среднее</td>\n",
       "      <td>1</td>\n",
       "      <td>гражданский брак</td>\n",
       "      <td>1</td>\n",
       "      <td>F</td>\n",
       "      <td>пенсионер</td>\n",
       "      <td>1</td>\n",
       "      <td>NaN</td>\n",
       "      <td>сыграть свадьбу</td>\n",
       "    </tr>\n",
       "    <tr>\n",
       "      <th>65</th>\n",
       "      <td>0</td>\n",
       "      <td>NaN</td>\n",
       "      <td>21</td>\n",
       "      <td>среднее</td>\n",
       "      <td>1</td>\n",
       "      <td>Не женат / не замужем</td>\n",
       "      <td>4</td>\n",
       "      <td>M</td>\n",
       "      <td>компаньон</td>\n",
       "      <td>0</td>\n",
       "      <td>NaN</td>\n",
       "      <td>операции с коммерческой недвижимостью</td>\n",
       "    </tr>\n",
       "    <tr>\n",
       "      <th>67</th>\n",
       "      <td>0</td>\n",
       "      <td>NaN</td>\n",
       "      <td>52</td>\n",
       "      <td>высшее</td>\n",
       "      <td>0</td>\n",
       "      <td>женат / замужем</td>\n",
       "      <td>0</td>\n",
       "      <td>F</td>\n",
       "      <td>пенсионер</td>\n",
       "      <td>0</td>\n",
       "      <td>NaN</td>\n",
       "      <td>покупка жилья для семьи</td>\n",
       "    </tr>\n",
       "    <tr>\n",
       "      <th>72</th>\n",
       "      <td>1</td>\n",
       "      <td>NaN</td>\n",
       "      <td>32</td>\n",
       "      <td>высшее</td>\n",
       "      <td>0</td>\n",
       "      <td>женат / замужем</td>\n",
       "      <td>0</td>\n",
       "      <td>M</td>\n",
       "      <td>госслужащий</td>\n",
       "      <td>0</td>\n",
       "      <td>NaN</td>\n",
       "      <td>операции с коммерческой недвижимостью</td>\n",
       "    </tr>\n",
       "    <tr>\n",
       "      <th>82</th>\n",
       "      <td>2</td>\n",
       "      <td>NaN</td>\n",
       "      <td>50</td>\n",
       "      <td>высшее</td>\n",
       "      <td>0</td>\n",
       "      <td>женат / замужем</td>\n",
       "      <td>0</td>\n",
       "      <td>F</td>\n",
       "      <td>сотрудник</td>\n",
       "      <td>0</td>\n",
       "      <td>NaN</td>\n",
       "      <td>жилье</td>\n",
       "    </tr>\n",
       "    <tr>\n",
       "      <th>83</th>\n",
       "      <td>0</td>\n",
       "      <td>NaN</td>\n",
       "      <td>52</td>\n",
       "      <td>среднее</td>\n",
       "      <td>1</td>\n",
       "      <td>женат / замужем</td>\n",
       "      <td>0</td>\n",
       "      <td>M</td>\n",
       "      <td>сотрудник</td>\n",
       "      <td>0</td>\n",
       "      <td>NaN</td>\n",
       "      <td>жилье</td>\n",
       "    </tr>\n",
       "    <tr>\n",
       "      <th>90</th>\n",
       "      <td>2</td>\n",
       "      <td>NaN</td>\n",
       "      <td>35</td>\n",
       "      <td>высшее</td>\n",
       "      <td>0</td>\n",
       "      <td>женат / замужем</td>\n",
       "      <td>0</td>\n",
       "      <td>F</td>\n",
       "      <td>сотрудник</td>\n",
       "      <td>0</td>\n",
       "      <td>NaN</td>\n",
       "      <td>операции с жильем</td>\n",
       "    </tr>\n",
       "    <tr>\n",
       "      <th>94</th>\n",
       "      <td>1</td>\n",
       "      <td>NaN</td>\n",
       "      <td>34</td>\n",
       "      <td>высшее</td>\n",
       "      <td>0</td>\n",
       "      <td>гражданский брак</td>\n",
       "      <td>1</td>\n",
       "      <td>F</td>\n",
       "      <td>компаньон</td>\n",
       "      <td>0</td>\n",
       "      <td>NaN</td>\n",
       "      <td>на проведение свадьбы</td>\n",
       "    </tr>\n",
       "    <tr>\n",
       "      <th>96</th>\n",
       "      <td>0</td>\n",
       "      <td>NaN</td>\n",
       "      <td>44</td>\n",
       "      <td>СРЕДНЕЕ</td>\n",
       "      <td>1</td>\n",
       "      <td>женат / замужем</td>\n",
       "      <td>0</td>\n",
       "      <td>F</td>\n",
       "      <td>сотрудник</td>\n",
       "      <td>0</td>\n",
       "      <td>NaN</td>\n",
       "      <td>покупка жилой недвижимости</td>\n",
       "    </tr>\n",
       "    <tr>\n",
       "      <th>97</th>\n",
       "      <td>0</td>\n",
       "      <td>NaN</td>\n",
       "      <td>47</td>\n",
       "      <td>высшее</td>\n",
       "      <td>0</td>\n",
       "      <td>женат / замужем</td>\n",
       "      <td>0</td>\n",
       "      <td>F</td>\n",
       "      <td>сотрудник</td>\n",
       "      <td>0</td>\n",
       "      <td>NaN</td>\n",
       "      <td>профильное образование</td>\n",
       "    </tr>\n",
       "    <tr>\n",
       "      <th>120</th>\n",
       "      <td>0</td>\n",
       "      <td>NaN</td>\n",
       "      <td>46</td>\n",
       "      <td>среднее</td>\n",
       "      <td>1</td>\n",
       "      <td>женат / замужем</td>\n",
       "      <td>0</td>\n",
       "      <td>F</td>\n",
       "      <td>сотрудник</td>\n",
       "      <td>0</td>\n",
       "      <td>NaN</td>\n",
       "      <td>высшее образование</td>\n",
       "    </tr>\n",
       "  </tbody>\n",
       "</table>\n",
       "</div>"
      ],
      "text/plain": [
       "     children  days_employed  dob_years education  education_id  \\\n",
       "12          0            NaN         65   среднее             1   \n",
       "26          0            NaN         41   среднее             1   \n",
       "29          0            NaN         63   среднее             1   \n",
       "41          0            NaN         50   среднее             1   \n",
       "55          0            NaN         54   среднее             1   \n",
       "65          0            NaN         21   среднее             1   \n",
       "67          0            NaN         52    высшее             0   \n",
       "72          1            NaN         32    высшее             0   \n",
       "82          2            NaN         50    высшее             0   \n",
       "83          0            NaN         52   среднее             1   \n",
       "90          2            NaN         35    высшее             0   \n",
       "94          1            NaN         34    высшее             0   \n",
       "96          0            NaN         44   СРЕДНЕЕ             1   \n",
       "97          0            NaN         47    высшее             0   \n",
       "120         0            NaN         46   среднее             1   \n",
       "\n",
       "             family_status  family_status_id gender  income_type  debt  \\\n",
       "12        гражданский брак                 1      M    пенсионер     0   \n",
       "26         женат / замужем                 0      M  госслужащий     0   \n",
       "29   Не женат / не замужем                 4      F    пенсионер     0   \n",
       "41         женат / замужем                 0      F  госслужащий     0   \n",
       "55        гражданский брак                 1      F    пенсионер     1   \n",
       "65   Не женат / не замужем                 4      M    компаньон     0   \n",
       "67         женат / замужем                 0      F    пенсионер     0   \n",
       "72         женат / замужем                 0      M  госслужащий     0   \n",
       "82         женат / замужем                 0      F    сотрудник     0   \n",
       "83         женат / замужем                 0      M    сотрудник     0   \n",
       "90         женат / замужем                 0      F    сотрудник     0   \n",
       "94        гражданский брак                 1      F    компаньон     0   \n",
       "96         женат / замужем                 0      F    сотрудник     0   \n",
       "97         женат / замужем                 0      F    сотрудник     0   \n",
       "120        женат / замужем                 0      F    сотрудник     0   \n",
       "\n",
       "     total_income                                purpose  \n",
       "12            NaN                        сыграть свадьбу  \n",
       "26            NaN                            образование  \n",
       "29            NaN       строительство жилой недвижимости  \n",
       "41            NaN       сделка с подержанным автомобилем  \n",
       "55            NaN                        сыграть свадьбу  \n",
       "65            NaN  операции с коммерческой недвижимостью  \n",
       "67            NaN                покупка жилья для семьи  \n",
       "72            NaN  операции с коммерческой недвижимостью  \n",
       "82            NaN                                  жилье  \n",
       "83            NaN                                  жилье  \n",
       "90            NaN                      операции с жильем  \n",
       "94            NaN                  на проведение свадьбы  \n",
       "96            NaN             покупка жилой недвижимости  \n",
       "97            NaN                 профильное образование  \n",
       "120           NaN                     высшее образование  "
      ]
     },
     "metadata": {},
     "output_type": "display_data"
    },
    {
     "data": {
      "text/plain": [
       "income_type\n",
       "безработный        131339.751676\n",
       "в декрете           53829.130729\n",
       "госслужащий        150447.935283\n",
       "компаньон          172357.950966\n",
       "пенсионер          118514.486412\n",
       "предприниматель    499163.144947\n",
       "сотрудник          142594.396847\n",
       "студент             98201.625314\n",
       "Name: total_income, dtype: float64"
      ]
     },
     "metadata": {},
     "output_type": "display_data"
    },
    {
     "data": {
      "text/plain": [
       "0"
      ]
     },
     "execution_count": 2,
     "metadata": {},
     "output_type": "execute_result"
    }
   ],
   "source": [
    "missed_total_income = data[data['total_income'].isna() == True]['income_type'].count() #подсчет количества значений NaN в колонке total_income\n",
    "share_missed_total_income = data[data['total_income'].isna() == True]['income_type'].count() / data['income_type'].count()\n",
    "display(f'Количество пропущенных значений в столбце total_income {missed_total_income}')\n",
    "display(f'Доля пропущенных значений в столбце total_income{share_missed_total_income: .1%}')\n",
    "\n",
    "income_median = data['total_income'].median()\n",
    "\n",
    "#расчет медианы по каждой категории для последующего заполнения ими значений стажа\n",
    "display(data.groupby(by='income_type')['total_income'].median())\n",
    "\n",
    "def inc_median_filler(total_income):       #cоздание функции, присваивающей значение медианы в заивисмости от категории дохода\n",
    "    if total_income == 'безработный' : \n",
    "        return  131339.751676 \n",
    "    elif total_income == 'в декрете' : \n",
    "        return 53829.130729\n",
    "    elif total_income =='госслужащий' : \n",
    "        return 145017.937533\n",
    "    elif total_income == 'компаньон' : \n",
    "        return 162439.637095\n",
    "    elif total_income == 'пенсионер' : \n",
    "        return 128621.510044\n",
    "    elif total_income == 'предприниматель' : \n",
    "        return 322090.541240\n",
    "    elif total_income == 'сотрудник' : \n",
    "        return 145017.937533\n",
    "    elif total_income == 'студент' : \n",
    "        return 98201.625314\n",
    "\n",
    "data['income_median'] = data['income_type'].apply(inc_median_filler)\n",
    "data['total_income'] = data['total_income'].fillna(data['income_median'])\n",
    "\n",
    "data['total_income'].isnull().sum() #проверка количества оставшихся nullевых значений"
   ]
  },
  {
   "cell_type": "markdown",
   "id": "fe4d3bf3",
   "metadata": {},
   "source": [
    "**Комментарий к шагу 2.1** <br>\n",
    "1) В столбце total_income 2174 пропущенных значений, что составляет 10% от общего количества строк. Т.к. количество значений достаточно велико, то нельзя их просто исключить из выборки - необходимо заполнить их симулированными значениями. <br> <br>\n",
    "2) Исходя из сэмпла строк с пропущенными значениями, можно сделать вывод, что пропущенные значения в столбце доходов связаны с пропущенными значениями в столбце days_employed (количество отработанных дней).<br>\n",
    "Вероятно, данные были пропущены при копировании или же были рассчитаны по формуле, завязанной на значение колонки days_employed. <br><br>\n",
    "3) В данном случае заполнение медианным значением по типу дохода является оптимальным решением, т.к. медиана является наиболее репрезентативной при наличии большой выборки и существенного разброса значений, а также в данном случае позволяет учесть разницу в доходах различных категорий занятости."
   ]
  },
  {
   "cell_type": "markdown",
   "id": "57a4b24e",
   "metadata": {},
   "source": [
    "### Проверка данных на аномалии и исправления."
   ]
  },
  {
   "cell_type": "code",
   "execution_count": 3,
   "id": "90961969",
   "metadata": {},
   "outputs": [
    {
     "data": {
      "text/plain": [
       "'Общее число ошибочных линий в колонке children: 123, что составляет 0.6%'"
      ]
     },
     "metadata": {},
     "output_type": "display_data"
    }
   ],
   "source": [
    "#проверка на аномалии столбца children\n",
    "data['children'].value_counts()\n",
    "mistakes_children = data[(data['children'] == 20) | (data['children'] == -1)]['gender'].count()\n",
    "mistakes_children_rate = data[(data['children'] == 20) | (data['children'] == -1)]['gender'].count() / data['gender'].count()\n",
    "display(f'Общее число ошибочных линий в колонке children: {mistakes_children}, что составляет {mistakes_children_rate :.01%}')\n",
    "data = data.loc[(data['children'] >= 0) & (data['children'] <20)] # т.к. количество ошибочных данных в этой колонке составляет всего 0,6%, их потеря не является критичной, поэтому мы можем удалить эти данные ииз датасета путем перезаписи"
   ]
  },
  {
   "cell_type": "code",
   "execution_count": 4,
   "id": "4044e0ba",
   "metadata": {},
   "outputs": [
    {
     "data": {
      "text/plain": [
       "income_type\n",
       "безработный        366413.652744\n",
       "в декрете            3296.759962\n",
       "госслужащий          2689.137274\n",
       "компаньон            1555.947387\n",
       "пенсионер          365286.622650\n",
       "предприниматель       520.848083\n",
       "сотрудник            1572.328285\n",
       "студент               578.751554\n",
       "Name: days_employed, dtype: float64"
      ]
     },
     "metadata": {},
     "output_type": "display_data"
    },
    {
     "data": {
      "text/plain": [
       "0"
      ]
     },
     "execution_count": 4,
     "metadata": {},
     "output_type": "execute_result"
    }
   ],
   "source": [
    "#проверка на аномалии столбца days_employed\n",
    "#значения days_employed должны соответствовать следующим параметрам: 1. не быть NaN, 2.быть больше нуля, 3. быть меньше dob_years - 14*, переведенных в дни; * - 14 это минимально допустимый возраст начала стажа\n",
    "\n",
    "#проверка первого пункта:\n",
    "data['days_employed'].isna().sum() # --> 2162 строки с NaN, это много, т.ч. их нельзя убирать из датасета; необходимо заменить их на медианное значение по категориям\n",
    "\n",
    "#проверка второго пункта\n",
    "data[data['days_employed'] < 0]['days_employed'].count() # --> 15735 строк с отрицательными значениями = большинство! очевидно, надо заменить их на такие же положительные\n",
    "data['days_employed'] = abs(data['days_employed']) #берем все значения по модулю\n",
    "\n",
    "#проверка третьего пункта\n",
    "data[data['days_employed'] > (data['dob_years']-14)*365]['dob_years'].count() # --> 3430 строк с такими значениями, необходимо установить их происхождение\n",
    "data['income_type'].value_counts()\n",
    "data[data['days_employed'] > (data['dob_years']-14)*365]['income_type'].value_counts() #--> основная проблема среди пенсионеров (3412 из 3792)\n",
    "\n",
    "#посчитаем медианы по каждой категории для последующего заполнения ими значений стажа\n",
    "display(data.groupby(by='income_type')['days_employed'].median())\n",
    "\n",
    "def median_filler(income_type):       #cоздание функции, присваивающей значение медианы в заивисмости от категории дохода\n",
    "    if income_type == 'безработный' : \n",
    "        return 366413.652744 \n",
    "    elif income_type == 'в декрете' : \n",
    "        return 3296.759962\n",
    "    elif income_type =='госслужащий' : \n",
    "        return 2689.137274\n",
    "    elif income_type == 'компаньон' : \n",
    "        return 1555.947387\n",
    "    elif income_type == 'пенсионер' : \n",
    "        return 365286.622650\n",
    "    elif income_type == 'предприниматель' : \n",
    "        return 520.848083\n",
    "    elif income_type == 'сотрудник' : \n",
    "        return 1572.328285\n",
    "    elif income_type == 'студент' : \n",
    "        return 578.751554\n",
    "\n",
    "data['new_median'] = data['income_type'].apply(median_filler)\n",
    "data['days_employed'] = data['days_employed'].fillna(data['new_median'])\n",
    "\n",
    "data['days_employed'].isnull().sum() #проверка количества оставшихся nullевых значения"
   ]
  },
  {
   "cell_type": "code",
   "execution_count": 5,
   "id": "37ada5e1",
   "metadata": {},
   "outputs": [
    {
     "data": {
      "text/plain": [
       "'Общее число ошибочных линий в колонке dob_years 58, что составляет 0.3%'"
      ]
     },
     "metadata": {},
     "output_type": "display_data"
    }
   ],
   "source": [
    "#проверка на аномалии столбца dob_years\n",
    "data['dob_years'].unique()\n",
    "mistakes_dob_years = data['dob_years'].nunique()\n",
    "mistakes_dob_years_rate = (data['dob_years'].nunique())/ (data['gender'].count())\n",
    "display(f'Общее число ошибочных линий в колонке dob_years {mistakes_dob_years}, что составляет {mistakes_dob_years_rate :.01%}')\n",
    "data = data[data['dob_years'] != 0] # т.к. количество ошибочных данных в этой колонке составляет всего 0,3%, их потеря не является критичной, поэтому мы можем удалить эти данные ииз датасета путем перезаписи"
   ]
  },
  {
   "cell_type": "code",
   "execution_count": 6,
   "id": "708d237d",
   "metadata": {},
   "outputs": [
    {
     "data": {
      "text/html": [
       "<div>\n",
       "<style scoped>\n",
       "    .dataframe tbody tr th:only-of-type {\n",
       "        vertical-align: middle;\n",
       "    }\n",
       "\n",
       "    .dataframe tbody tr th {\n",
       "        vertical-align: top;\n",
       "    }\n",
       "\n",
       "    .dataframe thead th {\n",
       "        text-align: right;\n",
       "    }\n",
       "</style>\n",
       "<table border=\"1\" class=\"dataframe\">\n",
       "  <thead>\n",
       "    <tr style=\"text-align: right;\">\n",
       "      <th></th>\n",
       "      <th>education</th>\n",
       "      <th>education_id</th>\n",
       "    </tr>\n",
       "    <tr>\n",
       "      <th>education</th>\n",
       "      <th></th>\n",
       "      <th></th>\n",
       "    </tr>\n",
       "  </thead>\n",
       "  <tbody>\n",
       "    <tr>\n",
       "      <th>ВЫСШЕЕ</th>\n",
       "      <td>270</td>\n",
       "      <td>270</td>\n",
       "    </tr>\n",
       "    <tr>\n",
       "      <th>Высшее</th>\n",
       "      <td>266</td>\n",
       "      <td>266</td>\n",
       "    </tr>\n",
       "    <tr>\n",
       "      <th>НАЧАЛЬНОЕ</th>\n",
       "      <td>17</td>\n",
       "      <td>17</td>\n",
       "    </tr>\n",
       "    <tr>\n",
       "      <th>НЕОКОНЧЕННОЕ ВЫСШЕЕ</th>\n",
       "      <td>29</td>\n",
       "      <td>29</td>\n",
       "    </tr>\n",
       "    <tr>\n",
       "      <th>Начальное</th>\n",
       "      <td>15</td>\n",
       "      <td>15</td>\n",
       "    </tr>\n",
       "    <tr>\n",
       "      <th>Неоконченное высшее</th>\n",
       "      <td>47</td>\n",
       "      <td>47</td>\n",
       "    </tr>\n",
       "    <tr>\n",
       "      <th>СРЕДНЕЕ</th>\n",
       "      <td>764</td>\n",
       "      <td>764</td>\n",
       "    </tr>\n",
       "    <tr>\n",
       "      <th>Среднее</th>\n",
       "      <td>700</td>\n",
       "      <td>700</td>\n",
       "    </tr>\n",
       "    <tr>\n",
       "      <th>УЧЕНАЯ СТЕПЕНЬ</th>\n",
       "      <td>1</td>\n",
       "      <td>1</td>\n",
       "    </tr>\n",
       "    <tr>\n",
       "      <th>Ученая степень</th>\n",
       "      <td>1</td>\n",
       "      <td>1</td>\n",
       "    </tr>\n",
       "    <tr>\n",
       "      <th>высшее</th>\n",
       "      <td>4666</td>\n",
       "      <td>4666</td>\n",
       "    </tr>\n",
       "    <tr>\n",
       "      <th>начальное</th>\n",
       "      <td>250</td>\n",
       "      <td>250</td>\n",
       "    </tr>\n",
       "    <tr>\n",
       "      <th>неоконченное высшее</th>\n",
       "      <td>663</td>\n",
       "      <td>663</td>\n",
       "    </tr>\n",
       "    <tr>\n",
       "      <th>среднее</th>\n",
       "      <td>13609</td>\n",
       "      <td>13609</td>\n",
       "    </tr>\n",
       "    <tr>\n",
       "      <th>ученая степень</th>\n",
       "      <td>4</td>\n",
       "      <td>4</td>\n",
       "    </tr>\n",
       "  </tbody>\n",
       "</table>\n",
       "</div>"
      ],
      "text/plain": [
       "                     education  education_id\n",
       "education                                   \n",
       "ВЫСШЕЕ                     270           270\n",
       "Высшее                     266           266\n",
       "НАЧАЛЬНОЕ                   17            17\n",
       "НЕОКОНЧЕННОЕ ВЫСШЕЕ         29            29\n",
       "Начальное                   15            15\n",
       "Неоконченное высшее         47            47\n",
       "СРЕДНЕЕ                    764           764\n",
       "Среднее                    700           700\n",
       "УЧЕНАЯ СТЕПЕНЬ               1             1\n",
       "Ученая степень               1             1\n",
       "высшее                    4666          4666\n",
       "начальное                  250           250\n",
       "неоконченное высшее        663           663\n",
       "среднее                  13609         13609\n",
       "ученая степень               4             4"
      ]
     },
     "execution_count": 6,
     "metadata": {},
     "output_type": "execute_result"
    }
   ],
   "source": [
    "#проверка на аномалии столбцов education & education_id\n",
    "data['education_id'].value_counts()\n",
    "data.groupby(by='education')[['education','education_id']].count() # нет несоответствий между данными education_id & education"
   ]
  },
  {
   "cell_type": "code",
   "execution_count": 7,
   "id": "ccefac3f",
   "metadata": {},
   "outputs": [
    {
     "data": {
      "text/html": [
       "<div>\n",
       "<style scoped>\n",
       "    .dataframe tbody tr th:only-of-type {\n",
       "        vertical-align: middle;\n",
       "    }\n",
       "\n",
       "    .dataframe tbody tr th {\n",
       "        vertical-align: top;\n",
       "    }\n",
       "\n",
       "    .dataframe thead th {\n",
       "        text-align: right;\n",
       "    }\n",
       "</style>\n",
       "<table border=\"1\" class=\"dataframe\">\n",
       "  <thead>\n",
       "    <tr style=\"text-align: right;\">\n",
       "      <th></th>\n",
       "      <th>family_status</th>\n",
       "      <th>family_status_id</th>\n",
       "    </tr>\n",
       "    <tr>\n",
       "      <th>family_status_id</th>\n",
       "      <th></th>\n",
       "      <th></th>\n",
       "    </tr>\n",
       "  </thead>\n",
       "  <tbody>\n",
       "    <tr>\n",
       "      <th>0</th>\n",
       "      <td>12254</td>\n",
       "      <td>12254</td>\n",
       "    </tr>\n",
       "    <tr>\n",
       "      <th>1</th>\n",
       "      <td>4139</td>\n",
       "      <td>4139</td>\n",
       "    </tr>\n",
       "    <tr>\n",
       "      <th>2</th>\n",
       "      <td>947</td>\n",
       "      <td>947</td>\n",
       "    </tr>\n",
       "    <tr>\n",
       "      <th>3</th>\n",
       "      <td>1179</td>\n",
       "      <td>1179</td>\n",
       "    </tr>\n",
       "    <tr>\n",
       "      <th>4</th>\n",
       "      <td>2783</td>\n",
       "      <td>2783</td>\n",
       "    </tr>\n",
       "  </tbody>\n",
       "</table>\n",
       "</div>"
      ],
      "text/plain": [
       "                  family_status  family_status_id\n",
       "family_status_id                                 \n",
       "0                         12254             12254\n",
       "1                          4139              4139\n",
       "2                           947               947\n",
       "3                          1179              1179\n",
       "4                          2783              2783"
      ]
     },
     "execution_count": 7,
     "metadata": {},
     "output_type": "execute_result"
    }
   ],
   "source": [
    "#проверка на аномалии столбцов family_status & family_status_id\n",
    "data['family_status'].value_counts()\n",
    "data.groupby(by='family_status_id')[['family_status','family_status_id']].count() # нет несоответствий между данными education_id & education"
   ]
  },
  {
   "cell_type": "code",
   "execution_count": 8,
   "id": "33fd646c",
   "metadata": {},
   "outputs": [
    {
     "data": {
      "text/plain": [
       "array(['F', 'M', 'XNA'], dtype=object)"
      ]
     },
     "metadata": {},
     "output_type": "display_data"
    }
   ],
   "source": [
    "#проверка на аномалии столбца gender\n",
    "display(data['gender'].unique()) # аномальное значение в графе \"пол\"\n",
    "data[data['gender']== 'XNA']['gender'].count() #подсчет кол-ва строк с аномалией (1 строка)\n",
    "data = data.loc[data['gender'] != 'XNA'] # можем убрать эту строку, т.к. это не повлияет на расчет\n"
   ]
  },
  {
   "cell_type": "code",
   "execution_count": 9,
   "id": "73c141b2",
   "metadata": {},
   "outputs": [
    {
     "data": {
      "text/plain": [
       "0    19577\n",
       "1     1724\n",
       "Name: debt, dtype: int64"
      ]
     },
     "metadata": {},
     "output_type": "display_data"
    },
    {
     "data": {
      "text/plain": [
       "сотрудник          10996\n",
       "компаньон           5033\n",
       "пенсионер           3819\n",
       "госслужащий         1447\n",
       "предприниматель        2\n",
       "безработный            2\n",
       "студент                1\n",
       "в декрете              1\n",
       "Name: income_type, dtype: int64"
      ]
     },
     "metadata": {},
     "output_type": "display_data"
    },
    {
     "data": {
      "text/plain": [
       "свадьба                                   791\n",
       "на проведение свадьбы                     768\n",
       "сыграть свадьбу                           764\n",
       "операции с недвижимостью                  670\n",
       "покупка коммерческой недвижимости         658\n",
       "покупка жилья для сдачи                   649\n",
       "операции с коммерческой недвижимостью     644\n",
       "операции с жильем                         642\n",
       "покупка жилья для семьи                   639\n",
       "жилье                                     636\n",
       "покупка жилья                             635\n",
       "недвижимость                              628\n",
       "операции со своей недвижимостью           626\n",
       "строительство собственной недвижимости    626\n",
       "строительство недвижимости                620\n",
       "строительство жилой недвижимости          619\n",
       "покупка своего жилья                      618\n",
       "покупка недвижимости                      615\n",
       "ремонт жилью                              607\n",
       "покупка жилой недвижимости                600\n",
       "на покупку своего автомобиля              501\n",
       "заняться высшим образованием              493\n",
       "автомобиль                                488\n",
       "сделка с подержанным автомобилем          482\n",
       "автомобили                                474\n",
       "свой автомобиль                           472\n",
       "на покупку подержанного автомобиля        472\n",
       "на покупку автомобиля                     466\n",
       "приобретение автомобиля                   458\n",
       "дополнительное образование                455\n",
       "сделка с автомобилем                      454\n",
       "высшее образование                        444\n",
       "получение дополнительного образования     443\n",
       "получение образования                     440\n",
       "образование                               439\n",
       "профильное образование                    431\n",
       "получение высшего образования             423\n",
       "заняться образованием                     411\n",
       "Name: purpose, dtype: int64"
      ]
     },
     "metadata": {},
     "output_type": "display_data"
    }
   ],
   "source": [
    "#проверка на аномалии столбцов debt, income_type, purpose\n",
    "display(data['debt'].value_counts()) # OK\n",
    "display(data['income_type'].value_counts()) # OK\n",
    "display(data['purpose'].value_counts()) # есть относительные повторы, но не идентичные; они будут позже категоризированы"
   ]
  },
  {
   "cell_type": "markdown",
   "id": "b52667e0",
   "metadata": {},
   "source": [
    "**Комментарий к шагу 2.2**<br><br>\n",
    "Проверка на аномалии дала нам следующую информацию: <br>\n",
    "1) Поля debt, income_type, purpose, family_status, family_status_id, education, eduction_id не содержат аномалий и пропуском и могут быть использованы в работе полностью. <br><br>\n",
    "2) Поле children содержит аномальные значения(-1 и 20), нехарактерные для данного столбца по смыслу. Поскольку количество аномальных значений небольшое, то их исключение из датасета не повлияет на качество анализа. <br>\n",
    "Возможные причины возникновения аномалии: ошибки при ручном вводе или копировании из другого файла. <br><br>\n",
    "3) Поле dob_years содержит в себе данные сомнительного качества - часть данных выражена отрицательной величиной, данные для пенсионеров  и безработных, вероятно, выражены в каких-то других единицах измерения (не дни). Поскольку этот столбец не принципиально важен для цели анализа, данные обработаны и приведены в порядок на основании догадок о происходждении аномалий. <br>\n",
    "Возможной причиной возникновения ошибки является неправильное ведение базы данных по стажу. Необходимо выяснить точные причины возникновения аномалии и устранить их.<br><br>\n",
    "4) Поле gender содержит аномальное значение XNA, поскольку количество минимально (1 строка), то эта строка была убрана из датасета.<br><br>\n",
    "5) Поле total_income содержит определенное количество незаполненных значений. Т.к. это ключевой показатель, заполнение нулевых значений крайне важно. Для этого использовались медианные значения для каждой категории дохода, это позволило учесть различия в доходах разных категорий клиентов.\n"
   ]
  },
  {
   "cell_type": "markdown",
   "id": "c13e19dd",
   "metadata": {},
   "source": [
    "### Изменение типов данных."
   ]
  },
  {
   "cell_type": "code",
   "execution_count": 10,
   "id": "15299ba4",
   "metadata": {},
   "outputs": [
    {
     "name": "stdout",
     "output_type": "stream",
     "text": [
      "<class 'pandas.core.frame.DataFrame'>\n",
      "Int64Index: 21301 entries, 0 to 21524\n",
      "Data columns (total 14 columns):\n",
      " #   Column            Non-Null Count  Dtype  \n",
      "---  ------            --------------  -----  \n",
      " 0   children          21301 non-null  int64  \n",
      " 1   days_employed     21301 non-null  float64\n",
      " 2   dob_years         21301 non-null  int64  \n",
      " 3   education         21301 non-null  object \n",
      " 4   education_id      21301 non-null  int64  \n",
      " 5   family_status     21301 non-null  object \n",
      " 6   family_status_id  21301 non-null  int64  \n",
      " 7   gender            21301 non-null  object \n",
      " 8   income_type       21301 non-null  object \n",
      " 9   debt              21301 non-null  int64  \n",
      " 10  total_income      21301 non-null  int64  \n",
      " 11  purpose           21301 non-null  object \n",
      " 12  income_median     21301 non-null  float64\n",
      " 13  new_median        21301 non-null  float64\n",
      "dtypes: float64(3), int64(6), object(5)\n",
      "memory usage: 2.4+ MB\n"
     ]
    }
   ],
   "source": [
    "data['total_income'] = data['total_income'].astype('int') # total_income переведен в целочисленные значения\n",
    "data.info()"
   ]
  },
  {
   "cell_type": "markdown",
   "id": "9d091095",
   "metadata": {},
   "source": [
    "### Удаление дубликатов."
   ]
  },
  {
   "cell_type": "code",
   "execution_count": 11,
   "id": "fd619391",
   "metadata": {},
   "outputs": [
    {
     "data": {
      "text/plain": [
       "среднее                15073\n",
       "высшее                  5202\n",
       "неоконченное высшее      738\n",
       "начальное                282\n",
       "ученая степень             6\n",
       "Name: education, dtype: int64"
      ]
     },
     "execution_count": 11,
     "metadata": {},
     "output_type": "execute_result"
    }
   ],
   "source": [
    "#проверка на неяные дубликаты столбца education\n",
    "data['education'].value_counts()\n",
    "data['education'] = data['education'].str.lower() # приведение всех данных в столбце к нижнему регистру\n",
    "data['education'].value_counts()"
   ]
  },
  {
   "cell_type": "code",
   "execution_count": 12,
   "id": "1bf2e868",
   "metadata": {},
   "outputs": [
    {
     "name": "stdout",
     "output_type": "stream",
     "text": [
      "<class 'pandas.core.frame.DataFrame'>\n",
      "Int64Index: 21230 entries, 0 to 21524\n",
      "Data columns (total 14 columns):\n",
      " #   Column            Non-Null Count  Dtype  \n",
      "---  ------            --------------  -----  \n",
      " 0   children          21230 non-null  int64  \n",
      " 1   days_employed     21230 non-null  float64\n",
      " 2   dob_years         21230 non-null  int64  \n",
      " 3   education         21230 non-null  object \n",
      " 4   education_id      21230 non-null  int64  \n",
      " 5   family_status     21230 non-null  object \n",
      " 6   family_status_id  21230 non-null  int64  \n",
      " 7   gender            21230 non-null  object \n",
      " 8   income_type       21230 non-null  object \n",
      " 9   debt              21230 non-null  int64  \n",
      " 10  total_income      21230 non-null  int64  \n",
      " 11  purpose           21230 non-null  object \n",
      " 12  income_median     21230 non-null  float64\n",
      " 13  new_median        21230 non-null  float64\n",
      "dtypes: float64(3), int64(6), object(5)\n",
      "memory usage: 2.4+ MB\n"
     ]
    }
   ],
   "source": [
    "# подсчет и удаление явных дубликатов\n",
    "data.duplicated().sum() # подсчет количества явных дубликатов\n",
    "data = data.drop_duplicates() # удаление явных дубликатов\n",
    "data.info()"
   ]
  },
  {
   "cell_type": "markdown",
   "id": "8e9ac874",
   "metadata": {},
   "source": [
    "**Комментарий к шагу 2.4**\n",
    "\n",
    "1) Анализ уникальных значений (*unique()*) в столбце education показал, что одни и те же значения внесены с различным регистром. Все значения в этом столбце были приведены в нижний регистр. Остальные столбцы были проверены в шаге 2.3 и не содержат повторяющихся значений с различающимся регистром. <br>\n",
    "После этого можно приступать к удалению явных дубликатов (которые могли быть скрыты от фильтра при помощи регистра) методом drop_duplicates().<br>\n",
    "2) Причина возникновения дубликатов в датасете скорее всего носит технологический характер - задвоение данных при выгрузке из системы. Маловероятно, чтобы данные по одним и тем же клиентам вносились дважды."
   ]
  },
  {
   "cell_type": "markdown",
   "id": "7ae78b1e",
   "metadata": {},
   "source": [
    "### Формирование дополнительных датафреймов словарей, декомпозиция исходного датафрейма."
   ]
  },
  {
   "cell_type": "code",
   "execution_count": 13,
   "id": "3d543181",
   "metadata": {},
   "outputs": [
    {
     "data": {
      "text/html": [
       "<div>\n",
       "<style scoped>\n",
       "    .dataframe tbody tr th:only-of-type {\n",
       "        vertical-align: middle;\n",
       "    }\n",
       "\n",
       "    .dataframe tbody tr th {\n",
       "        vertical-align: top;\n",
       "    }\n",
       "\n",
       "    .dataframe thead th {\n",
       "        text-align: right;\n",
       "    }\n",
       "</style>\n",
       "<table border=\"1\" class=\"dataframe\">\n",
       "  <thead>\n",
       "    <tr style=\"text-align: right;\">\n",
       "      <th></th>\n",
       "      <th>education</th>\n",
       "      <th>education_id</th>\n",
       "    </tr>\n",
       "  </thead>\n",
       "  <tbody>\n",
       "    <tr>\n",
       "      <th>0</th>\n",
       "      <td>высшее</td>\n",
       "      <td>0</td>\n",
       "    </tr>\n",
       "    <tr>\n",
       "      <th>1</th>\n",
       "      <td>среднее</td>\n",
       "      <td>1</td>\n",
       "    </tr>\n",
       "    <tr>\n",
       "      <th>2</th>\n",
       "      <td>неоконченное высшее</td>\n",
       "      <td>2</td>\n",
       "    </tr>\n",
       "    <tr>\n",
       "      <th>3</th>\n",
       "      <td>начальное</td>\n",
       "      <td>3</td>\n",
       "    </tr>\n",
       "    <tr>\n",
       "      <th>4</th>\n",
       "      <td>ученая степень</td>\n",
       "      <td>4</td>\n",
       "    </tr>\n",
       "  </tbody>\n",
       "</table>\n",
       "</div>"
      ],
      "text/plain": [
       "             education  education_id\n",
       "0               высшее             0\n",
       "1              среднее             1\n",
       "2  неоконченное высшее             2\n",
       "3            начальное             3\n",
       "4       ученая степень             4"
      ]
     },
     "metadata": {},
     "output_type": "display_data"
    }
   ],
   "source": [
    "# формирование словаря education\n",
    "education_dict = data[['education', 'education_id']].drop_duplicates().reset_index(drop = True)\n",
    "display(education_dict)"
   ]
  },
  {
   "cell_type": "code",
   "execution_count": 14,
   "id": "cf118790",
   "metadata": {},
   "outputs": [
    {
     "data": {
      "text/html": [
       "<div>\n",
       "<style scoped>\n",
       "    .dataframe tbody tr th:only-of-type {\n",
       "        vertical-align: middle;\n",
       "    }\n",
       "\n",
       "    .dataframe tbody tr th {\n",
       "        vertical-align: top;\n",
       "    }\n",
       "\n",
       "    .dataframe thead th {\n",
       "        text-align: right;\n",
       "    }\n",
       "</style>\n",
       "<table border=\"1\" class=\"dataframe\">\n",
       "  <thead>\n",
       "    <tr style=\"text-align: right;\">\n",
       "      <th></th>\n",
       "      <th>family_status</th>\n",
       "      <th>family_status_id</th>\n",
       "    </tr>\n",
       "  </thead>\n",
       "  <tbody>\n",
       "    <tr>\n",
       "      <th>0</th>\n",
       "      <td>женат / замужем</td>\n",
       "      <td>0</td>\n",
       "    </tr>\n",
       "    <tr>\n",
       "      <th>1</th>\n",
       "      <td>гражданский брак</td>\n",
       "      <td>1</td>\n",
       "    </tr>\n",
       "    <tr>\n",
       "      <th>2</th>\n",
       "      <td>вдовец / вдова</td>\n",
       "      <td>2</td>\n",
       "    </tr>\n",
       "    <tr>\n",
       "      <th>3</th>\n",
       "      <td>в разводе</td>\n",
       "      <td>3</td>\n",
       "    </tr>\n",
       "    <tr>\n",
       "      <th>4</th>\n",
       "      <td>Не женат / не замужем</td>\n",
       "      <td>4</td>\n",
       "    </tr>\n",
       "  </tbody>\n",
       "</table>\n",
       "</div>"
      ],
      "text/plain": [
       "           family_status  family_status_id\n",
       "0        женат / замужем                 0\n",
       "1       гражданский брак                 1\n",
       "2         вдовец / вдова                 2\n",
       "3              в разводе                 3\n",
       "4  Не женат / не замужем                 4"
      ]
     },
     "metadata": {},
     "output_type": "display_data"
    }
   ],
   "source": [
    "# формирование словаря family_status\n",
    "family_status_dict = data[['family_status', 'family_status_id']].drop_duplicates().reset_index(drop = True)\n",
    "display(family_status_dict)"
   ]
  },
  {
   "cell_type": "code",
   "execution_count": 15,
   "id": "cfcca346",
   "metadata": {},
   "outputs": [
    {
     "name": "stdout",
     "output_type": "stream",
     "text": [
      "<class 'pandas.core.frame.DataFrame'>\n",
      "Int64Index: 21230 entries, 0 to 21524\n",
      "Data columns (total 10 columns):\n",
      " #   Column            Non-Null Count  Dtype  \n",
      "---  ------            --------------  -----  \n",
      " 0   children          21230 non-null  int64  \n",
      " 1   days_employed     21230 non-null  float64\n",
      " 2   dob_years         21230 non-null  int64  \n",
      " 3   education_id      21230 non-null  int64  \n",
      " 4   family_status_id  21230 non-null  int64  \n",
      " 5   gender            21230 non-null  object \n",
      " 6   income_type       21230 non-null  object \n",
      " 7   debt              21230 non-null  int64  \n",
      " 8   total_income      21230 non-null  int64  \n",
      " 9   purpose           21230 non-null  object \n",
      "dtypes: float64(1), int64(6), object(3)\n",
      "memory usage: 1.8+ MB\n"
     ]
    }
   ],
   "source": [
    "# убираем лишние столбцы education, family_status\n",
    "data = data[['children', 'days_employed', 'dob_years', 'education_id', 'family_status_id', 'gender', 'income_type', 'debt', 'total_income', 'purpose']]\n",
    "data.info() # просмотр данных о таблице"
   ]
  },
  {
   "cell_type": "markdown",
   "id": "d8cf0add",
   "metadata": {},
   "source": [
    "### Категоризация дохода."
   ]
  },
  {
   "cell_type": "code",
   "execution_count": 16,
   "id": "dd96598a",
   "metadata": {},
   "outputs": [
    {
     "data": {
      "text/html": [
       "<div>\n",
       "<style scoped>\n",
       "    .dataframe tbody tr th:only-of-type {\n",
       "        vertical-align: middle;\n",
       "    }\n",
       "\n",
       "    .dataframe tbody tr th {\n",
       "        vertical-align: top;\n",
       "    }\n",
       "\n",
       "    .dataframe thead th {\n",
       "        text-align: right;\n",
       "    }\n",
       "</style>\n",
       "<table border=\"1\" class=\"dataframe\">\n",
       "  <thead>\n",
       "    <tr style=\"text-align: right;\">\n",
       "      <th></th>\n",
       "      <th>children</th>\n",
       "      <th>days_employed</th>\n",
       "      <th>dob_years</th>\n",
       "      <th>education_id</th>\n",
       "      <th>family_status_id</th>\n",
       "      <th>gender</th>\n",
       "      <th>income_type</th>\n",
       "      <th>debt</th>\n",
       "      <th>total_income</th>\n",
       "      <th>purpose</th>\n",
       "      <th>income_category</th>\n",
       "    </tr>\n",
       "  </thead>\n",
       "  <tbody>\n",
       "    <tr>\n",
       "      <th>0</th>\n",
       "      <td>1</td>\n",
       "      <td>8437.673028</td>\n",
       "      <td>42</td>\n",
       "      <td>0</td>\n",
       "      <td>0</td>\n",
       "      <td>F</td>\n",
       "      <td>сотрудник</td>\n",
       "      <td>0</td>\n",
       "      <td>253875</td>\n",
       "      <td>покупка жилья</td>\n",
       "      <td>B</td>\n",
       "    </tr>\n",
       "    <tr>\n",
       "      <th>1</th>\n",
       "      <td>1</td>\n",
       "      <td>4024.803754</td>\n",
       "      <td>36</td>\n",
       "      <td>1</td>\n",
       "      <td>0</td>\n",
       "      <td>F</td>\n",
       "      <td>сотрудник</td>\n",
       "      <td>0</td>\n",
       "      <td>112080</td>\n",
       "      <td>приобретение автомобиля</td>\n",
       "      <td>C</td>\n",
       "    </tr>\n",
       "    <tr>\n",
       "      <th>2</th>\n",
       "      <td>0</td>\n",
       "      <td>5623.422610</td>\n",
       "      <td>33</td>\n",
       "      <td>1</td>\n",
       "      <td>0</td>\n",
       "      <td>M</td>\n",
       "      <td>сотрудник</td>\n",
       "      <td>0</td>\n",
       "      <td>145885</td>\n",
       "      <td>покупка жилья</td>\n",
       "      <td>C</td>\n",
       "    </tr>\n",
       "    <tr>\n",
       "      <th>3</th>\n",
       "      <td>3</td>\n",
       "      <td>4124.747207</td>\n",
       "      <td>32</td>\n",
       "      <td>1</td>\n",
       "      <td>0</td>\n",
       "      <td>M</td>\n",
       "      <td>сотрудник</td>\n",
       "      <td>0</td>\n",
       "      <td>267628</td>\n",
       "      <td>дополнительное образование</td>\n",
       "      <td>B</td>\n",
       "    </tr>\n",
       "    <tr>\n",
       "      <th>4</th>\n",
       "      <td>0</td>\n",
       "      <td>340266.072047</td>\n",
       "      <td>53</td>\n",
       "      <td>1</td>\n",
       "      <td>1</td>\n",
       "      <td>F</td>\n",
       "      <td>пенсионер</td>\n",
       "      <td>0</td>\n",
       "      <td>158616</td>\n",
       "      <td>сыграть свадьбу</td>\n",
       "      <td>C</td>\n",
       "    </tr>\n",
       "    <tr>\n",
       "      <th>5</th>\n",
       "      <td>0</td>\n",
       "      <td>926.185831</td>\n",
       "      <td>27</td>\n",
       "      <td>0</td>\n",
       "      <td>1</td>\n",
       "      <td>M</td>\n",
       "      <td>компаньон</td>\n",
       "      <td>0</td>\n",
       "      <td>255763</td>\n",
       "      <td>покупка жилья</td>\n",
       "      <td>B</td>\n",
       "    </tr>\n",
       "    <tr>\n",
       "      <th>6</th>\n",
       "      <td>0</td>\n",
       "      <td>2879.202052</td>\n",
       "      <td>43</td>\n",
       "      <td>0</td>\n",
       "      <td>0</td>\n",
       "      <td>F</td>\n",
       "      <td>компаньон</td>\n",
       "      <td>0</td>\n",
       "      <td>240525</td>\n",
       "      <td>операции с жильем</td>\n",
       "      <td>B</td>\n",
       "    </tr>\n",
       "    <tr>\n",
       "      <th>7</th>\n",
       "      <td>0</td>\n",
       "      <td>152.779569</td>\n",
       "      <td>50</td>\n",
       "      <td>1</td>\n",
       "      <td>0</td>\n",
       "      <td>M</td>\n",
       "      <td>сотрудник</td>\n",
       "      <td>0</td>\n",
       "      <td>135823</td>\n",
       "      <td>образование</td>\n",
       "      <td>C</td>\n",
       "    </tr>\n",
       "    <tr>\n",
       "      <th>8</th>\n",
       "      <td>2</td>\n",
       "      <td>6929.865299</td>\n",
       "      <td>35</td>\n",
       "      <td>0</td>\n",
       "      <td>1</td>\n",
       "      <td>F</td>\n",
       "      <td>сотрудник</td>\n",
       "      <td>0</td>\n",
       "      <td>95856</td>\n",
       "      <td>на проведение свадьбы</td>\n",
       "      <td>C</td>\n",
       "    </tr>\n",
       "    <tr>\n",
       "      <th>9</th>\n",
       "      <td>0</td>\n",
       "      <td>2188.756445</td>\n",
       "      <td>41</td>\n",
       "      <td>1</td>\n",
       "      <td>0</td>\n",
       "      <td>M</td>\n",
       "      <td>сотрудник</td>\n",
       "      <td>0</td>\n",
       "      <td>144425</td>\n",
       "      <td>покупка жилья для семьи</td>\n",
       "      <td>C</td>\n",
       "    </tr>\n",
       "    <tr>\n",
       "      <th>10</th>\n",
       "      <td>2</td>\n",
       "      <td>4171.483647</td>\n",
       "      <td>36</td>\n",
       "      <td>0</td>\n",
       "      <td>0</td>\n",
       "      <td>M</td>\n",
       "      <td>компаньон</td>\n",
       "      <td>0</td>\n",
       "      <td>113943</td>\n",
       "      <td>покупка недвижимости</td>\n",
       "      <td>C</td>\n",
       "    </tr>\n",
       "    <tr>\n",
       "      <th>11</th>\n",
       "      <td>0</td>\n",
       "      <td>792.701887</td>\n",
       "      <td>40</td>\n",
       "      <td>1</td>\n",
       "      <td>0</td>\n",
       "      <td>F</td>\n",
       "      <td>сотрудник</td>\n",
       "      <td>0</td>\n",
       "      <td>77069</td>\n",
       "      <td>покупка коммерческой недвижимости</td>\n",
       "      <td>C</td>\n",
       "    </tr>\n",
       "    <tr>\n",
       "      <th>12</th>\n",
       "      <td>0</td>\n",
       "      <td>365286.622650</td>\n",
       "      <td>65</td>\n",
       "      <td>1</td>\n",
       "      <td>1</td>\n",
       "      <td>M</td>\n",
       "      <td>пенсионер</td>\n",
       "      <td>0</td>\n",
       "      <td>128621</td>\n",
       "      <td>сыграть свадьбу</td>\n",
       "      <td>C</td>\n",
       "    </tr>\n",
       "    <tr>\n",
       "      <th>13</th>\n",
       "      <td>0</td>\n",
       "      <td>1846.641941</td>\n",
       "      <td>54</td>\n",
       "      <td>2</td>\n",
       "      <td>0</td>\n",
       "      <td>F</td>\n",
       "      <td>сотрудник</td>\n",
       "      <td>0</td>\n",
       "      <td>130458</td>\n",
       "      <td>приобретение автомобиля</td>\n",
       "      <td>C</td>\n",
       "    </tr>\n",
       "    <tr>\n",
       "      <th>14</th>\n",
       "      <td>0</td>\n",
       "      <td>1844.956182</td>\n",
       "      <td>56</td>\n",
       "      <td>0</td>\n",
       "      <td>1</td>\n",
       "      <td>F</td>\n",
       "      <td>компаньон</td>\n",
       "      <td>1</td>\n",
       "      <td>165127</td>\n",
       "      <td>покупка жилой недвижимости</td>\n",
       "      <td>C</td>\n",
       "    </tr>\n",
       "    <tr>\n",
       "      <th>15</th>\n",
       "      <td>1</td>\n",
       "      <td>972.364419</td>\n",
       "      <td>26</td>\n",
       "      <td>1</td>\n",
       "      <td>0</td>\n",
       "      <td>F</td>\n",
       "      <td>сотрудник</td>\n",
       "      <td>0</td>\n",
       "      <td>116820</td>\n",
       "      <td>строительство собственной недвижимости</td>\n",
       "      <td>C</td>\n",
       "    </tr>\n",
       "    <tr>\n",
       "      <th>16</th>\n",
       "      <td>0</td>\n",
       "      <td>1719.934226</td>\n",
       "      <td>35</td>\n",
       "      <td>1</td>\n",
       "      <td>0</td>\n",
       "      <td>F</td>\n",
       "      <td>сотрудник</td>\n",
       "      <td>0</td>\n",
       "      <td>289202</td>\n",
       "      <td>недвижимость</td>\n",
       "      <td>B</td>\n",
       "    </tr>\n",
       "    <tr>\n",
       "      <th>17</th>\n",
       "      <td>0</td>\n",
       "      <td>2369.999720</td>\n",
       "      <td>33</td>\n",
       "      <td>0</td>\n",
       "      <td>1</td>\n",
       "      <td>M</td>\n",
       "      <td>сотрудник</td>\n",
       "      <td>0</td>\n",
       "      <td>90410</td>\n",
       "      <td>строительство недвижимости</td>\n",
       "      <td>C</td>\n",
       "    </tr>\n",
       "    <tr>\n",
       "      <th>18</th>\n",
       "      <td>0</td>\n",
       "      <td>400281.136913</td>\n",
       "      <td>53</td>\n",
       "      <td>1</td>\n",
       "      <td>2</td>\n",
       "      <td>F</td>\n",
       "      <td>пенсионер</td>\n",
       "      <td>0</td>\n",
       "      <td>56823</td>\n",
       "      <td>на покупку подержанного автомобиля</td>\n",
       "      <td>C</td>\n",
       "    </tr>\n",
       "    <tr>\n",
       "      <th>19</th>\n",
       "      <td>0</td>\n",
       "      <td>10038.818549</td>\n",
       "      <td>48</td>\n",
       "      <td>1</td>\n",
       "      <td>3</td>\n",
       "      <td>F</td>\n",
       "      <td>сотрудник</td>\n",
       "      <td>0</td>\n",
       "      <td>242831</td>\n",
       "      <td>на покупку своего автомобиля</td>\n",
       "      <td>B</td>\n",
       "    </tr>\n",
       "  </tbody>\n",
       "</table>\n",
       "</div>"
      ],
      "text/plain": [
       "    children  days_employed  dob_years  education_id  family_status_id gender  \\\n",
       "0          1    8437.673028         42             0                 0      F   \n",
       "1          1    4024.803754         36             1                 0      F   \n",
       "2          0    5623.422610         33             1                 0      M   \n",
       "3          3    4124.747207         32             1                 0      M   \n",
       "4          0  340266.072047         53             1                 1      F   \n",
       "5          0     926.185831         27             0                 1      M   \n",
       "6          0    2879.202052         43             0                 0      F   \n",
       "7          0     152.779569         50             1                 0      M   \n",
       "8          2    6929.865299         35             0                 1      F   \n",
       "9          0    2188.756445         41             1                 0      M   \n",
       "10         2    4171.483647         36             0                 0      M   \n",
       "11         0     792.701887         40             1                 0      F   \n",
       "12         0  365286.622650         65             1                 1      M   \n",
       "13         0    1846.641941         54             2                 0      F   \n",
       "14         0    1844.956182         56             0                 1      F   \n",
       "15         1     972.364419         26             1                 0      F   \n",
       "16         0    1719.934226         35             1                 0      F   \n",
       "17         0    2369.999720         33             0                 1      M   \n",
       "18         0  400281.136913         53             1                 2      F   \n",
       "19         0   10038.818549         48             1                 3      F   \n",
       "\n",
       "   income_type  debt  total_income                                 purpose  \\\n",
       "0    сотрудник     0        253875                           покупка жилья   \n",
       "1    сотрудник     0        112080                 приобретение автомобиля   \n",
       "2    сотрудник     0        145885                           покупка жилья   \n",
       "3    сотрудник     0        267628              дополнительное образование   \n",
       "4    пенсионер     0        158616                         сыграть свадьбу   \n",
       "5    компаньон     0        255763                           покупка жилья   \n",
       "6    компаньон     0        240525                       операции с жильем   \n",
       "7    сотрудник     0        135823                             образование   \n",
       "8    сотрудник     0         95856                   на проведение свадьбы   \n",
       "9    сотрудник     0        144425                 покупка жилья для семьи   \n",
       "10   компаньон     0        113943                    покупка недвижимости   \n",
       "11   сотрудник     0         77069       покупка коммерческой недвижимости   \n",
       "12   пенсионер     0        128621                         сыграть свадьбу   \n",
       "13   сотрудник     0        130458                 приобретение автомобиля   \n",
       "14   компаньон     1        165127              покупка жилой недвижимости   \n",
       "15   сотрудник     0        116820  строительство собственной недвижимости   \n",
       "16   сотрудник     0        289202                            недвижимость   \n",
       "17   сотрудник     0         90410              строительство недвижимости   \n",
       "18   пенсионер     0         56823      на покупку подержанного автомобиля   \n",
       "19   сотрудник     0        242831            на покупку своего автомобиля   \n",
       "\n",
       "   income_category  \n",
       "0                B  \n",
       "1                C  \n",
       "2                C  \n",
       "3                B  \n",
       "4                C  \n",
       "5                B  \n",
       "6                B  \n",
       "7                C  \n",
       "8                C  \n",
       "9                C  \n",
       "10               C  \n",
       "11               C  \n",
       "12               C  \n",
       "13               C  \n",
       "14               C  \n",
       "15               C  \n",
       "16               B  \n",
       "17               C  \n",
       "18               C  \n",
       "19               B  "
      ]
     },
     "metadata": {},
     "output_type": "display_data"
    }
   ],
   "source": [
    "#создание нового столбца датасета с категорией дохода\n",
    "def income_categorization(total_income): #создание функции, возвращающей категорию дохода в зависимости от суммы\n",
    "    try: \n",
    "        if 0 <= total_income <= 30000:\n",
    "            return 'E'\n",
    "        elif 30001 <= total_income <= 50000:\n",
    "            return 'D'\n",
    "        elif 50001 <= total_income <= 200000:\n",
    "            return 'C'\n",
    "        elif 200001 <= total_income <= 1000000:\n",
    "            return 'B'\n",
    "        elif total_income >= 1000001:\n",
    "            return 'A'\n",
    "    except: \n",
    "        'Category not defined'\n",
    "data['income_category'] = data['total_income'].apply(income_categorization)\n",
    "display(data.head(20))\n"
   ]
  },
  {
   "cell_type": "markdown",
   "id": "01089fae",
   "metadata": {},
   "source": [
    "### Категоризация целей кредита."
   ]
  },
  {
   "cell_type": "code",
   "execution_count": 17,
   "id": "59936aec",
   "metadata": {},
   "outputs": [
    {
     "data": {
      "text/html": [
       "<div>\n",
       "<style scoped>\n",
       "    .dataframe tbody tr th:only-of-type {\n",
       "        vertical-align: middle;\n",
       "    }\n",
       "\n",
       "    .dataframe tbody tr th {\n",
       "        vertical-align: top;\n",
       "    }\n",
       "\n",
       "    .dataframe thead th {\n",
       "        text-align: right;\n",
       "    }\n",
       "</style>\n",
       "<table border=\"1\" class=\"dataframe\">\n",
       "  <thead>\n",
       "    <tr style=\"text-align: right;\">\n",
       "      <th></th>\n",
       "      <th>children</th>\n",
       "      <th>days_employed</th>\n",
       "      <th>dob_years</th>\n",
       "      <th>education_id</th>\n",
       "      <th>family_status_id</th>\n",
       "      <th>gender</th>\n",
       "      <th>income_type</th>\n",
       "      <th>debt</th>\n",
       "      <th>total_income</th>\n",
       "      <th>purpose</th>\n",
       "      <th>income_category</th>\n",
       "      <th>purpose_category</th>\n",
       "    </tr>\n",
       "  </thead>\n",
       "  <tbody>\n",
       "    <tr>\n",
       "      <th>0</th>\n",
       "      <td>1</td>\n",
       "      <td>8437.673028</td>\n",
       "      <td>42</td>\n",
       "      <td>0</td>\n",
       "      <td>0</td>\n",
       "      <td>F</td>\n",
       "      <td>сотрудник</td>\n",
       "      <td>0</td>\n",
       "      <td>253875</td>\n",
       "      <td>покупка жилья</td>\n",
       "      <td>B</td>\n",
       "      <td>операции с недвижимостью</td>\n",
       "    </tr>\n",
       "    <tr>\n",
       "      <th>1</th>\n",
       "      <td>1</td>\n",
       "      <td>4024.803754</td>\n",
       "      <td>36</td>\n",
       "      <td>1</td>\n",
       "      <td>0</td>\n",
       "      <td>F</td>\n",
       "      <td>сотрудник</td>\n",
       "      <td>0</td>\n",
       "      <td>112080</td>\n",
       "      <td>приобретение автомобиля</td>\n",
       "      <td>C</td>\n",
       "      <td>операции с автомобилем</td>\n",
       "    </tr>\n",
       "    <tr>\n",
       "      <th>2</th>\n",
       "      <td>0</td>\n",
       "      <td>5623.422610</td>\n",
       "      <td>33</td>\n",
       "      <td>1</td>\n",
       "      <td>0</td>\n",
       "      <td>M</td>\n",
       "      <td>сотрудник</td>\n",
       "      <td>0</td>\n",
       "      <td>145885</td>\n",
       "      <td>покупка жилья</td>\n",
       "      <td>C</td>\n",
       "      <td>операции с недвижимостью</td>\n",
       "    </tr>\n",
       "    <tr>\n",
       "      <th>3</th>\n",
       "      <td>3</td>\n",
       "      <td>4124.747207</td>\n",
       "      <td>32</td>\n",
       "      <td>1</td>\n",
       "      <td>0</td>\n",
       "      <td>M</td>\n",
       "      <td>сотрудник</td>\n",
       "      <td>0</td>\n",
       "      <td>267628</td>\n",
       "      <td>дополнительное образование</td>\n",
       "      <td>B</td>\n",
       "      <td>получение образования</td>\n",
       "    </tr>\n",
       "    <tr>\n",
       "      <th>4</th>\n",
       "      <td>0</td>\n",
       "      <td>340266.072047</td>\n",
       "      <td>53</td>\n",
       "      <td>1</td>\n",
       "      <td>1</td>\n",
       "      <td>F</td>\n",
       "      <td>пенсионер</td>\n",
       "      <td>0</td>\n",
       "      <td>158616</td>\n",
       "      <td>сыграть свадьбу</td>\n",
       "      <td>C</td>\n",
       "      <td>проведение свадьбы</td>\n",
       "    </tr>\n",
       "    <tr>\n",
       "      <th>5</th>\n",
       "      <td>0</td>\n",
       "      <td>926.185831</td>\n",
       "      <td>27</td>\n",
       "      <td>0</td>\n",
       "      <td>1</td>\n",
       "      <td>M</td>\n",
       "      <td>компаньон</td>\n",
       "      <td>0</td>\n",
       "      <td>255763</td>\n",
       "      <td>покупка жилья</td>\n",
       "      <td>B</td>\n",
       "      <td>операции с недвижимостью</td>\n",
       "    </tr>\n",
       "    <tr>\n",
       "      <th>6</th>\n",
       "      <td>0</td>\n",
       "      <td>2879.202052</td>\n",
       "      <td>43</td>\n",
       "      <td>0</td>\n",
       "      <td>0</td>\n",
       "      <td>F</td>\n",
       "      <td>компаньон</td>\n",
       "      <td>0</td>\n",
       "      <td>240525</td>\n",
       "      <td>операции с жильем</td>\n",
       "      <td>B</td>\n",
       "      <td>операции с недвижимостью</td>\n",
       "    </tr>\n",
       "    <tr>\n",
       "      <th>7</th>\n",
       "      <td>0</td>\n",
       "      <td>152.779569</td>\n",
       "      <td>50</td>\n",
       "      <td>1</td>\n",
       "      <td>0</td>\n",
       "      <td>M</td>\n",
       "      <td>сотрудник</td>\n",
       "      <td>0</td>\n",
       "      <td>135823</td>\n",
       "      <td>образование</td>\n",
       "      <td>C</td>\n",
       "      <td>получение образования</td>\n",
       "    </tr>\n",
       "    <tr>\n",
       "      <th>8</th>\n",
       "      <td>2</td>\n",
       "      <td>6929.865299</td>\n",
       "      <td>35</td>\n",
       "      <td>0</td>\n",
       "      <td>1</td>\n",
       "      <td>F</td>\n",
       "      <td>сотрудник</td>\n",
       "      <td>0</td>\n",
       "      <td>95856</td>\n",
       "      <td>на проведение свадьбы</td>\n",
       "      <td>C</td>\n",
       "      <td>проведение свадьбы</td>\n",
       "    </tr>\n",
       "    <tr>\n",
       "      <th>9</th>\n",
       "      <td>0</td>\n",
       "      <td>2188.756445</td>\n",
       "      <td>41</td>\n",
       "      <td>1</td>\n",
       "      <td>0</td>\n",
       "      <td>M</td>\n",
       "      <td>сотрудник</td>\n",
       "      <td>0</td>\n",
       "      <td>144425</td>\n",
       "      <td>покупка жилья для семьи</td>\n",
       "      <td>C</td>\n",
       "      <td>операции с недвижимостью</td>\n",
       "    </tr>\n",
       "    <tr>\n",
       "      <th>10</th>\n",
       "      <td>2</td>\n",
       "      <td>4171.483647</td>\n",
       "      <td>36</td>\n",
       "      <td>0</td>\n",
       "      <td>0</td>\n",
       "      <td>M</td>\n",
       "      <td>компаньон</td>\n",
       "      <td>0</td>\n",
       "      <td>113943</td>\n",
       "      <td>покупка недвижимости</td>\n",
       "      <td>C</td>\n",
       "      <td>операции с недвижимостью</td>\n",
       "    </tr>\n",
       "    <tr>\n",
       "      <th>11</th>\n",
       "      <td>0</td>\n",
       "      <td>792.701887</td>\n",
       "      <td>40</td>\n",
       "      <td>1</td>\n",
       "      <td>0</td>\n",
       "      <td>F</td>\n",
       "      <td>сотрудник</td>\n",
       "      <td>0</td>\n",
       "      <td>77069</td>\n",
       "      <td>покупка коммерческой недвижимости</td>\n",
       "      <td>C</td>\n",
       "      <td>операции с недвижимостью</td>\n",
       "    </tr>\n",
       "    <tr>\n",
       "      <th>12</th>\n",
       "      <td>0</td>\n",
       "      <td>365286.622650</td>\n",
       "      <td>65</td>\n",
       "      <td>1</td>\n",
       "      <td>1</td>\n",
       "      <td>M</td>\n",
       "      <td>пенсионер</td>\n",
       "      <td>0</td>\n",
       "      <td>128621</td>\n",
       "      <td>сыграть свадьбу</td>\n",
       "      <td>C</td>\n",
       "      <td>проведение свадьбы</td>\n",
       "    </tr>\n",
       "    <tr>\n",
       "      <th>13</th>\n",
       "      <td>0</td>\n",
       "      <td>1846.641941</td>\n",
       "      <td>54</td>\n",
       "      <td>2</td>\n",
       "      <td>0</td>\n",
       "      <td>F</td>\n",
       "      <td>сотрудник</td>\n",
       "      <td>0</td>\n",
       "      <td>130458</td>\n",
       "      <td>приобретение автомобиля</td>\n",
       "      <td>C</td>\n",
       "      <td>операции с автомобилем</td>\n",
       "    </tr>\n",
       "    <tr>\n",
       "      <th>14</th>\n",
       "      <td>0</td>\n",
       "      <td>1844.956182</td>\n",
       "      <td>56</td>\n",
       "      <td>0</td>\n",
       "      <td>1</td>\n",
       "      <td>F</td>\n",
       "      <td>компаньон</td>\n",
       "      <td>1</td>\n",
       "      <td>165127</td>\n",
       "      <td>покупка жилой недвижимости</td>\n",
       "      <td>C</td>\n",
       "      <td>операции с недвижимостью</td>\n",
       "    </tr>\n",
       "    <tr>\n",
       "      <th>15</th>\n",
       "      <td>1</td>\n",
       "      <td>972.364419</td>\n",
       "      <td>26</td>\n",
       "      <td>1</td>\n",
       "      <td>0</td>\n",
       "      <td>F</td>\n",
       "      <td>сотрудник</td>\n",
       "      <td>0</td>\n",
       "      <td>116820</td>\n",
       "      <td>строительство собственной недвижимости</td>\n",
       "      <td>C</td>\n",
       "      <td>операции с недвижимостью</td>\n",
       "    </tr>\n",
       "    <tr>\n",
       "      <th>16</th>\n",
       "      <td>0</td>\n",
       "      <td>1719.934226</td>\n",
       "      <td>35</td>\n",
       "      <td>1</td>\n",
       "      <td>0</td>\n",
       "      <td>F</td>\n",
       "      <td>сотрудник</td>\n",
       "      <td>0</td>\n",
       "      <td>289202</td>\n",
       "      <td>недвижимость</td>\n",
       "      <td>B</td>\n",
       "      <td>операции с недвижимостью</td>\n",
       "    </tr>\n",
       "    <tr>\n",
       "      <th>17</th>\n",
       "      <td>0</td>\n",
       "      <td>2369.999720</td>\n",
       "      <td>33</td>\n",
       "      <td>0</td>\n",
       "      <td>1</td>\n",
       "      <td>M</td>\n",
       "      <td>сотрудник</td>\n",
       "      <td>0</td>\n",
       "      <td>90410</td>\n",
       "      <td>строительство недвижимости</td>\n",
       "      <td>C</td>\n",
       "      <td>операции с недвижимостью</td>\n",
       "    </tr>\n",
       "    <tr>\n",
       "      <th>18</th>\n",
       "      <td>0</td>\n",
       "      <td>400281.136913</td>\n",
       "      <td>53</td>\n",
       "      <td>1</td>\n",
       "      <td>2</td>\n",
       "      <td>F</td>\n",
       "      <td>пенсионер</td>\n",
       "      <td>0</td>\n",
       "      <td>56823</td>\n",
       "      <td>на покупку подержанного автомобиля</td>\n",
       "      <td>C</td>\n",
       "      <td>операции с автомобилем</td>\n",
       "    </tr>\n",
       "    <tr>\n",
       "      <th>19</th>\n",
       "      <td>0</td>\n",
       "      <td>10038.818549</td>\n",
       "      <td>48</td>\n",
       "      <td>1</td>\n",
       "      <td>3</td>\n",
       "      <td>F</td>\n",
       "      <td>сотрудник</td>\n",
       "      <td>0</td>\n",
       "      <td>242831</td>\n",
       "      <td>на покупку своего автомобиля</td>\n",
       "      <td>B</td>\n",
       "      <td>операции с автомобилем</td>\n",
       "    </tr>\n",
       "  </tbody>\n",
       "</table>\n",
       "</div>"
      ],
      "text/plain": [
       "    children  days_employed  dob_years  education_id  family_status_id gender  \\\n",
       "0          1    8437.673028         42             0                 0      F   \n",
       "1          1    4024.803754         36             1                 0      F   \n",
       "2          0    5623.422610         33             1                 0      M   \n",
       "3          3    4124.747207         32             1                 0      M   \n",
       "4          0  340266.072047         53             1                 1      F   \n",
       "5          0     926.185831         27             0                 1      M   \n",
       "6          0    2879.202052         43             0                 0      F   \n",
       "7          0     152.779569         50             1                 0      M   \n",
       "8          2    6929.865299         35             0                 1      F   \n",
       "9          0    2188.756445         41             1                 0      M   \n",
       "10         2    4171.483647         36             0                 0      M   \n",
       "11         0     792.701887         40             1                 0      F   \n",
       "12         0  365286.622650         65             1                 1      M   \n",
       "13         0    1846.641941         54             2                 0      F   \n",
       "14         0    1844.956182         56             0                 1      F   \n",
       "15         1     972.364419         26             1                 0      F   \n",
       "16         0    1719.934226         35             1                 0      F   \n",
       "17         0    2369.999720         33             0                 1      M   \n",
       "18         0  400281.136913         53             1                 2      F   \n",
       "19         0   10038.818549         48             1                 3      F   \n",
       "\n",
       "   income_type  debt  total_income                                 purpose  \\\n",
       "0    сотрудник     0        253875                           покупка жилья   \n",
       "1    сотрудник     0        112080                 приобретение автомобиля   \n",
       "2    сотрудник     0        145885                           покупка жилья   \n",
       "3    сотрудник     0        267628              дополнительное образование   \n",
       "4    пенсионер     0        158616                         сыграть свадьбу   \n",
       "5    компаньон     0        255763                           покупка жилья   \n",
       "6    компаньон     0        240525                       операции с жильем   \n",
       "7    сотрудник     0        135823                             образование   \n",
       "8    сотрудник     0         95856                   на проведение свадьбы   \n",
       "9    сотрудник     0        144425                 покупка жилья для семьи   \n",
       "10   компаньон     0        113943                    покупка недвижимости   \n",
       "11   сотрудник     0         77069       покупка коммерческой недвижимости   \n",
       "12   пенсионер     0        128621                         сыграть свадьбу   \n",
       "13   сотрудник     0        130458                 приобретение автомобиля   \n",
       "14   компаньон     1        165127              покупка жилой недвижимости   \n",
       "15   сотрудник     0        116820  строительство собственной недвижимости   \n",
       "16   сотрудник     0        289202                            недвижимость   \n",
       "17   сотрудник     0         90410              строительство недвижимости   \n",
       "18   пенсионер     0         56823      на покупку подержанного автомобиля   \n",
       "19   сотрудник     0        242831            на покупку своего автомобиля   \n",
       "\n",
       "   income_category          purpose_category  \n",
       "0                B  операции с недвижимостью  \n",
       "1                C    операции с автомобилем  \n",
       "2                C  операции с недвижимостью  \n",
       "3                B     получение образования  \n",
       "4                C        проведение свадьбы  \n",
       "5                B  операции с недвижимостью  \n",
       "6                B  операции с недвижимостью  \n",
       "7                C     получение образования  \n",
       "8                C        проведение свадьбы  \n",
       "9                C  операции с недвижимостью  \n",
       "10               C  операции с недвижимостью  \n",
       "11               C  операции с недвижимостью  \n",
       "12               C        проведение свадьбы  \n",
       "13               C    операции с автомобилем  \n",
       "14               C  операции с недвижимостью  \n",
       "15               C  операции с недвижимостью  \n",
       "16               B  операции с недвижимостью  \n",
       "17               C  операции с недвижимостью  \n",
       "18               C    операции с автомобилем  \n",
       "19               B    операции с автомобилем  "
      ]
     },
     "execution_count": 17,
     "metadata": {},
     "output_type": "execute_result"
    }
   ],
   "source": [
    "#создание нового столбца с категорией целей кредита\n",
    "def purpose_categorization(purpose): #создание функции, возвращающей категорию цели кредита\n",
    "    try:\n",
    "        if 'автомобил' in purpose:\n",
    "            return 'операции с автомобилем'\n",
    "        elif 'недвижим' in purpose or \"жиль\" in purpose:\n",
    "            return'операции с недвижимостью' \n",
    "        elif 'свадьб' in purpose:\n",
    "            return'проведение свадьбы'\n",
    "        elif 'образован' in purpose:\n",
    "            return'получение образования'\n",
    "        else:\n",
    "            return \"прочее\"\n",
    "    except:\n",
    "        return 'Error'\n",
    "\n",
    "data['purpose_category'] = data['purpose'].apply(purpose_categorization)\n",
    "data.head(20)"
   ]
  },
  {
   "cell_type": "markdown",
   "id": "1ce3f531",
   "metadata": {},
   "source": [
    "## Ответы на вопросы."
   ]
  },
  {
   "cell_type": "markdown",
   "id": "a4ffe22f",
   "metadata": {},
   "source": [
    "### Вопрос 1: Есть ли зависимость между количеством детей и возвратом кредита в срок?"
   ]
  },
  {
   "cell_type": "markdown",
   "id": "972e2fd8",
   "metadata": {},
   "source": [
    "Для того, чтобы ответить на этот вопрос, необходимо сравнить уровень задержек в выплатах (в процентах от общего количества выданных кредитов) для каждой категории."
   ]
  },
  {
   "cell_type": "code",
   "execution_count": 18,
   "id": "5220ed78",
   "metadata": {},
   "outputs": [
    {
     "data": {
      "text/html": [
       "<div>\n",
       "<style scoped>\n",
       "    .dataframe tbody tr th:only-of-type {\n",
       "        vertical-align: middle;\n",
       "    }\n",
       "\n",
       "    .dataframe tbody tr th {\n",
       "        vertical-align: top;\n",
       "    }\n",
       "\n",
       "    .dataframe thead tr th {\n",
       "        text-align: left;\n",
       "    }\n",
       "\n",
       "    .dataframe thead tr:last-of-type th {\n",
       "        text-align: right;\n",
       "    }\n",
       "</style>\n",
       "<table border=\"1\" class=\"dataframe\">\n",
       "  <thead>\n",
       "    <tr>\n",
       "      <th></th>\n",
       "      <th>sum</th>\n",
       "      <th>count</th>\n",
       "      <th>mean</th>\n",
       "    </tr>\n",
       "    <tr>\n",
       "      <th></th>\n",
       "      <th>debt</th>\n",
       "      <th>debt</th>\n",
       "      <th>debt</th>\n",
       "    </tr>\n",
       "    <tr>\n",
       "      <th>children</th>\n",
       "      <th></th>\n",
       "      <th></th>\n",
       "      <th></th>\n",
       "    </tr>\n",
       "  </thead>\n",
       "  <tbody>\n",
       "    <tr>\n",
       "      <th>0</th>\n",
       "      <td>1058</td>\n",
       "      <td>14021</td>\n",
       "      <td>0.075458</td>\n",
       "    </tr>\n",
       "    <tr>\n",
       "      <th>1</th>\n",
       "      <td>441</td>\n",
       "      <td>4792</td>\n",
       "      <td>0.092028</td>\n",
       "    </tr>\n",
       "    <tr>\n",
       "      <th>2</th>\n",
       "      <td>194</td>\n",
       "      <td>2039</td>\n",
       "      <td>0.095145</td>\n",
       "    </tr>\n",
       "    <tr>\n",
       "      <th>3</th>\n",
       "      <td>27</td>\n",
       "      <td>328</td>\n",
       "      <td>0.082317</td>\n",
       "    </tr>\n",
       "    <tr>\n",
       "      <th>4</th>\n",
       "      <td>4</td>\n",
       "      <td>41</td>\n",
       "      <td>0.097561</td>\n",
       "    </tr>\n",
       "    <tr>\n",
       "      <th>5</th>\n",
       "      <td>0</td>\n",
       "      <td>9</td>\n",
       "      <td>0.000000</td>\n",
       "    </tr>\n",
       "  </tbody>\n",
       "</table>\n",
       "</div>"
      ],
      "text/plain": [
       "           sum  count      mean\n",
       "          debt   debt      debt\n",
       "children                       \n",
       "0         1058  14021  0.075458\n",
       "1          441   4792  0.092028\n",
       "2          194   2039  0.095145\n",
       "3           27    328  0.082317\n",
       "4            4     41  0.097561\n",
       "5            0      9  0.000000"
      ]
     },
     "metadata": {},
     "output_type": "display_data"
    }
   ],
   "source": [
    "# построим сводную таблицу с данными по задержкам выплат в зависимости от количества детей\n",
    "pivot_children = pd.pivot_table(data, \n",
    "                                index = 'children',  \n",
    "                                values = 'debt', \n",
    "                                aggfunc = ['sum', 'count', 'mean']) # sum - количество задержек по кредиту, count - общее количество кредитов в категории, mean - доля задержек в общем количестве кредитов\n",
    "display(pivot_children)"
   ]
  },
  {
   "cell_type": "markdown",
   "id": "f7edf839",
   "metadata": {},
   "source": [
    "Количество данных о семьях с 3, 4 и 5 детьми слишком мало, чтобы быть достаточно репрезентативным. Поэтому для более точного результата, необходимо оъединить эти данные с данными о 2 детях."
   ]
  },
  {
   "cell_type": "code",
   "execution_count": 19,
   "id": "67412536",
   "metadata": {},
   "outputs": [
    {
     "data": {
      "text/html": [
       "<div>\n",
       "<style scoped>\n",
       "    .dataframe tbody tr th:only-of-type {\n",
       "        vertical-align: middle;\n",
       "    }\n",
       "\n",
       "    .dataframe tbody tr th {\n",
       "        vertical-align: top;\n",
       "    }\n",
       "\n",
       "    .dataframe thead tr th {\n",
       "        text-align: left;\n",
       "    }\n",
       "\n",
       "    .dataframe thead tr:last-of-type th {\n",
       "        text-align: right;\n",
       "    }\n",
       "</style>\n",
       "<table border=\"1\" class=\"dataframe\">\n",
       "  <thead>\n",
       "    <tr>\n",
       "      <th></th>\n",
       "      <th>sum</th>\n",
       "      <th>count</th>\n",
       "      <th>mean</th>\n",
       "    </tr>\n",
       "    <tr>\n",
       "      <th></th>\n",
       "      <th>debt</th>\n",
       "      <th>debt</th>\n",
       "      <th>debt</th>\n",
       "    </tr>\n",
       "    <tr>\n",
       "      <th>children_category</th>\n",
       "      <th></th>\n",
       "      <th></th>\n",
       "      <th></th>\n",
       "    </tr>\n",
       "  </thead>\n",
       "  <tbody>\n",
       "    <tr>\n",
       "      <th>1 child</th>\n",
       "      <td>441</td>\n",
       "      <td>4792</td>\n",
       "      <td>0.092028</td>\n",
       "    </tr>\n",
       "    <tr>\n",
       "      <th>2 children or more</th>\n",
       "      <td>225</td>\n",
       "      <td>2417</td>\n",
       "      <td>0.093091</td>\n",
       "    </tr>\n",
       "    <tr>\n",
       "      <th>no children</th>\n",
       "      <td>1058</td>\n",
       "      <td>14021</td>\n",
       "      <td>0.075458</td>\n",
       "    </tr>\n",
       "  </tbody>\n",
       "</table>\n",
       "</div>"
      ],
      "text/plain": [
       "                     sum  count      mean\n",
       "                    debt   debt      debt\n",
       "children_category                        \n",
       "1 child              441   4792  0.092028\n",
       "2 children or more   225   2417  0.093091\n",
       "no children         1058  14021  0.075458"
      ]
     },
     "execution_count": 19,
     "metadata": {},
     "output_type": "execute_result"
    }
   ],
   "source": [
    "#проведем категоризацию данных, чтобы объединить 2, 3, 4 и 5 детей в одну категорию\n",
    "def children_category(number): #создание функции для категоризации\n",
    "    if number == 0:\n",
    "        return 'no children'\n",
    "    elif number == 1:\n",
    "        return '1 child'\n",
    "    else:\n",
    "        return '2 children or more'\n",
    "data['children_category'] = data['children'].apply(children_category)\n",
    "\n",
    "pd.pivot_table(data, index = 'children_category', values = 'debt', aggfunc = ['sum', 'count', 'mean']) #сводная таблица по обновленному датасету"
   ]
  },
  {
   "cell_type": "markdown",
   "id": "18936255",
   "metadata": {},
   "source": [
    "**Вывод 1:**"
   ]
  },
  {
   "cell_type": "markdown",
   "id": "17326cf9",
   "metadata": {},
   "source": [
    "   Анализ данных показал, что данные по количеству задержек кредитов различаются в зависимости от количества детей. <br><br>\n",
    "Клиенты без детей задерживают выплаты по кредиту, в среднем, в 7.5% случаев, в то время как клиенты с детьми - в 9.2% случаев. <br>\n",
    "Среди клиентов с детьми есть незначительное отклонение для семей с 3 детьми (8.2% против 9.3% с 1-2 детьми), что может быть результатом малой выборки и недостаточной репрезентативности данных, по сравнению с другими категориями.<br><br>\n",
    "**Рекомендация**: учитывать наличие детей при расчете индивидуального скоринга клиента."
   ]
  },
  {
   "cell_type": "markdown",
   "id": "38838be7",
   "metadata": {},
   "source": [
    "### Вопрос 2: Есть ли зависимость между семейным положением и возвратом кредита в срок?"
   ]
  },
  {
   "cell_type": "markdown",
   "id": "53510d7c",
   "metadata": {},
   "source": [
    "Для того, чтобы ответить на этот вопрос, необходимо сравнить уровень задержек в выплатах (в процентах от общего количества выданных кредитов) для каждого типа семейного положения."
   ]
  },
  {
   "cell_type": "code",
   "execution_count": 1,
   "id": "e3ec3f5a",
   "metadata": {},
   "outputs": [
    {
     "ename": "NameError",
     "evalue": "name 'pd' is not defined",
     "output_type": "error",
     "traceback": [
      "\u001b[0;31m---------------------------------------------------------------------------\u001b[0m",
      "\u001b[0;31mNameError\u001b[0m                                 Traceback (most recent call last)",
      "\u001b[0;32m/tmp/ipykernel_25/4008236456.py\u001b[0m in \u001b[0;36m<module>\u001b[0;34m\u001b[0m\n\u001b[1;32m      1\u001b[0m \u001b[0;31m# построим сводную таблицу с данными по задержкам выплат в зависимости от семейного положения\u001b[0m\u001b[0;34m\u001b[0m\u001b[0;34m\u001b[0m\u001b[0m\n\u001b[1;32m      2\u001b[0m \u001b[0;32mimport\u001b[0m \u001b[0mwarnings\u001b[0m\u001b[0;34m\u001b[0m\u001b[0;34m\u001b[0m\u001b[0m\n\u001b[0;32m----> 3\u001b[0;31m pivot_family_status = pd.pivot_table(data, \n\u001b[0m\u001b[1;32m      4\u001b[0m                \u001b[0mindex\u001b[0m \u001b[0;34m=\u001b[0m \u001b[0;34m'family_status_id'\u001b[0m\u001b[0;34m,\u001b[0m\u001b[0;34m\u001b[0m\u001b[0;34m\u001b[0m\u001b[0m\n\u001b[1;32m      5\u001b[0m                \u001b[0mvalues\u001b[0m \u001b[0;34m=\u001b[0m \u001b[0;34m'debt'\u001b[0m\u001b[0;34m,\u001b[0m\u001b[0;34m\u001b[0m\u001b[0;34m\u001b[0m\u001b[0m\n",
      "\u001b[0;31mNameError\u001b[0m: name 'pd' is not defined"
     ]
    }
   ],
   "source": [
    "# построим сводную таблицу с данными по задержкам выплат в зависимости от семейного положения\n",
    "import warnings\n",
    "pivot_family_status = pd.pivot_table(data, \n",
    "               index = 'family_status_id',  \n",
    "               values = 'debt', \n",
    "               aggfunc = ['sum', 'count', 'mean']).reset_index() # sum - количество задержек по кредиту, count - общее количество кредитов в категории, mean - доля задержек в общем количестве кредитов \n",
    "\n",
    "final_pivot_family_status = pivot_family_status.merge(right=family_status_dict, on = 'family_status_id', how = 'left')\n",
    "\n",
    "display(final_pivot_family_status[[('sum', 'debt'), ('count', 'debt'), ('mean', 'debt'), 'family_status']])                               \n",
    "warnings.filterwarnings(\"ignore\")"
   ]
  },
  {
   "cell_type": "markdown",
   "id": "7415a058",
   "metadata": {},
   "source": [
    "**Вывод 2:**"
   ]
  },
  {
   "cell_type": "markdown",
   "id": "83399405",
   "metadata": {},
   "source": [
    "Анализ данных показал, что в зависимости от семейного статуса процент задержек оплаты кредита различается. <br>\n",
    "Наиболее дисциплинированные заемщики имеют статус \"вдовец/вдова\", наиболее частую просрочку (по сравнению с другими категориями) показывают категории \"не женат/ не замужем\" и \"гражданский брак\". Возможно, это так же связано с более молодым возрастом клиентов. <br> <br>\n",
    "**Рекомендации**: учитывать семейное положение в оценке индивидуального скоринга. Изучить взаимосвязь между возрастом, семейным положением и возвратом кредитов в срок."
   ]
  },
  {
   "cell_type": "markdown",
   "id": "7977c7b7",
   "metadata": {},
   "source": [
    "### Вопрос 3: Есть ли зависимость между уровнем дохода и возвратом кредита в срок?"
   ]
  },
  {
   "cell_type": "markdown",
   "id": "904fc145",
   "metadata": {},
   "source": [
    "Для того, чтобы ответить на этот вопрос, необходимо сравнить уровень задержек в выплатах (в процентах от общего количества выданных кредитов) для каждой категории доходов."
   ]
  },
  {
   "cell_type": "code",
   "execution_count": 21,
   "id": "abd350d2",
   "metadata": {},
   "outputs": [
    {
     "data": {
      "text/html": [
       "<div>\n",
       "<style scoped>\n",
       "    .dataframe tbody tr th:only-of-type {\n",
       "        vertical-align: middle;\n",
       "    }\n",
       "\n",
       "    .dataframe tbody tr th {\n",
       "        vertical-align: top;\n",
       "    }\n",
       "\n",
       "    .dataframe thead tr th {\n",
       "        text-align: left;\n",
       "    }\n",
       "\n",
       "    .dataframe thead tr:last-of-type th {\n",
       "        text-align: right;\n",
       "    }\n",
       "</style>\n",
       "<table border=\"1\" class=\"dataframe\">\n",
       "  <thead>\n",
       "    <tr>\n",
       "      <th></th>\n",
       "      <th>sum</th>\n",
       "      <th>count</th>\n",
       "      <th>mean</th>\n",
       "    </tr>\n",
       "    <tr>\n",
       "      <th></th>\n",
       "      <th>debt</th>\n",
       "      <th>debt</th>\n",
       "      <th>debt</th>\n",
       "    </tr>\n",
       "    <tr>\n",
       "      <th>income_category</th>\n",
       "      <th></th>\n",
       "      <th></th>\n",
       "      <th></th>\n",
       "    </tr>\n",
       "  </thead>\n",
       "  <tbody>\n",
       "    <tr>\n",
       "      <th>E</th>\n",
       "      <td>2</td>\n",
       "      <td>22</td>\n",
       "      <td>0.090909</td>\n",
       "    </tr>\n",
       "    <tr>\n",
       "      <th>C</th>\n",
       "      <td>1346</td>\n",
       "      <td>15849</td>\n",
       "      <td>0.084926</td>\n",
       "    </tr>\n",
       "    <tr>\n",
       "      <th>A</th>\n",
       "      <td>2</td>\n",
       "      <td>25</td>\n",
       "      <td>0.080000</td>\n",
       "    </tr>\n",
       "    <tr>\n",
       "      <th>B</th>\n",
       "      <td>353</td>\n",
       "      <td>4987</td>\n",
       "      <td>0.070784</td>\n",
       "    </tr>\n",
       "    <tr>\n",
       "      <th>D</th>\n",
       "      <td>21</td>\n",
       "      <td>347</td>\n",
       "      <td>0.060519</td>\n",
       "    </tr>\n",
       "  </tbody>\n",
       "</table>\n",
       "</div>"
      ],
      "text/plain": [
       "                  sum  count      mean\n",
       "                 debt   debt      debt\n",
       "income_category                       \n",
       "E                   2     22  0.090909\n",
       "C                1346  15849  0.084926\n",
       "A                   2     25  0.080000\n",
       "B                 353   4987  0.070784\n",
       "D                  21    347  0.060519"
      ]
     },
     "metadata": {},
     "output_type": "display_data"
    }
   ],
   "source": [
    "# построим сводную таблицу с данными по задержкам выплат в зависимости от количества детей\n",
    "pivot_income = pd.pivot_table(data, \n",
    "                                index = 'income_category',  \n",
    "                                values = 'debt', \n",
    "                                aggfunc = ['sum', 'count', 'mean']) # sum - количество задержек по кредиту, count - общее количество кредитов в категории, mean - доля задержек в общем количестве кредитов\n",
    "display(pivot_income.sort_values(by=([( 'mean', 'debt')]), ascending = False))"
   ]
  },
  {
   "cell_type": "markdown",
   "id": "d98f4b2c",
   "metadata": {},
   "source": [
    "*Комментарий:*<br>\n",
    "Мы видим, что по полученным данным нельзя сделать однозначных выводов, т.к. <br>1) категории неодинаковы между собой по количеству клиентов, <br>2) не наблюдается тенденций в изменении доли задержек по мере роста или убывания дохода. \n",
    "Возможно, категоризация по доходу в данном случае была проведена неверно. <br>\n",
    "Необходимо провести новую категоризацию, поделив выборку на более-менее равные промежутки. "
   ]
  },
  {
   "cell_type": "code",
   "execution_count": 22,
   "id": "7dea9747",
   "metadata": {},
   "outputs": [
    {
     "data": {
      "text/plain": [
       "<AxesSubplot:xlabel='total_income', ylabel='debt'>"
      ]
     },
     "execution_count": 22,
     "metadata": {},
     "output_type": "execute_result"
    },
    {
     "data": {
      "image/png": "[encoded data removed]",
      "text/plain": [
       "<Figure size 432x288 with 1 Axes>"
      ]
     },
     "metadata": {
      "needs_background": "light"
     },
     "output_type": "display_data"
    }
   ],
   "source": [
    "new_data_total_income = data[['total_income', 'debt']].sort_values(by = 'total_income', ascending = True) #сортируем данные, чтобы затем разбить их последовательно  на группы\n",
    "new_data_total_income['index'] = range(len(data)) #добавляем новое поле, на основании которого будем присваивать категорию (группу). Категоризация проводится по рангу, а не по самой сумме дохода.\n",
    "\n",
    "def new_category_income(index): #возьмем промежутки по 110 значений, т.к. 21230 делится нацело на 110\n",
    "    return int((index)/110+1)\n",
    "\n",
    "new_data_total_income['category'] = new_data_total_income['index'].apply(new_category_income) #заполнили данные о группе в колонке 'category'   \n",
    "\n",
    "new_data_total_income_plot = pd.pivot_table(new_data_total_income, \n",
    "                                            index = 'category', \n",
    "                                            values = ['debt', 'total_income'], \n",
    "                                            aggfunc= 'mean')\n",
    "sb.barplot(x = new_data_total_income_plot['total_income'], y = new_data_total_income_plot['debt']) #иллюстрация [не]зависимости средней задержки по кредиту в группах от роста дохода (слева направо)"
   ]
  },
  {
   "cell_type": "markdown",
   "id": "4787a633",
   "metadata": {},
   "source": [
    "**Вывод 3:** <br>\n",
    "На графике мы так же видим, что нет прямой зависимости между доходом и задержкой кредитов, т.к. экстремумы встречаются во всех категориях, хотя и незначительно снижаются в зоне более высоких доходов (справа). <br><br>\n",
    "**Рекоммендации**: <br> 1) не найдено достаточно оснований для учитывания доходов в расчет индивидуального скоринга.<br>\n",
    "2) рекоммендуется проверить данные о доходах еще раз и скорректировать их, с учето того, что потери в этих данных составляли порядка 10% и могли существенно повлиять на результаты анализа."
   ]
  },
  {
   "cell_type": "markdown",
   "id": "b7d09ede",
   "metadata": {},
   "source": [
    "### Вопрос 4:  Как разные цели кредита влияют на его возврат в срок?"
   ]
  },
  {
   "cell_type": "code",
   "execution_count": 23,
   "id": "aa69f55e",
   "metadata": {},
   "outputs": [
    {
     "data": {
      "text/plain": [
       "purpose_category\n",
       "операции с автомобилем      0.093236\n",
       "операции с недвижимостью    0.072596\n",
       "получение образования       0.092947\n",
       "проведение свадьбы          0.078730\n",
       "Name: debt, dtype: float64"
      ]
     },
     "metadata": {},
     "output_type": "display_data"
    },
    {
     "data": {
      "text/plain": [
       "<AxesSubplot:ylabel='debt'>"
      ]
     },
     "execution_count": 23,
     "metadata": {},
     "output_type": "execute_result"
    },
    {
     "data": {
      "image/png": "[encoded data removed]",
      "text/plain": [
       "<Figure size 432x288 with 1 Axes>"
      ]
     },
     "metadata": {
      "needs_background": "light"
     },
     "output_type": "display_data"
    }
   ],
   "source": [
    "data_purpose = data.groupby(by = 'purpose_category')['debt'].mean()\n",
    "display(data_purpose)\n",
    "sb.barplot(x = ['операции с автомобилем', 'операции с недвижимостью','получение образования', \"проведение свадьбы\"], y = data_purpose)"
   ]
  },
  {
   "cell_type": "markdown",
   "id": "64bedcda",
   "metadata": {},
   "source": [
    "**Вывод 4:** <br>\n",
    "На графике мы видим, что операции с автомобилем и получение образования имеют больший процент задержек по сравнению с остальными категориями. <br><br>\n",
    "**Рекоммендация**: <br> \n",
    "рекоммендуется учесть эти категории как категории повышенного риска при расчете индивидуального кредитного скоринга клиентов."
   ]
  },
  {
   "cell_type": "markdown",
   "id": "8c3881ec",
   "metadata": {},
   "source": [
    "## Общий вывод:\n"
   ]
  },
  {
   "cell_type": "markdown",
   "id": "5230d5fd",
   "metadata": {},
   "source": [
    "Проведенный анализ данных дал нам следующие результаты и позволил сделать следующие выводы: <br><br>\n",
    "1. Общий уровень качества данных - удовлетворительный, за исключением столбца dob_years, данные в котором выглядят недостаточно достоверно. Необходимо связаться с разработчиками для детальной проработки этого вопроса.<br><br>\n",
    "2. Выявлены определенные взаимосвязи между количеством задержек по выплате кредитов в зависимости от семейного положения и количества детей:\n",
    "- наиболее частую просрочку (по сравнению с другими категориями) показывают категории \"не женат/ не замужем\" и \"гражданский брак\"<br>\n",
    "- наиболее частую просрочку показывают клиенты с детьми<br>\n",
    "- наиболее частые просрочки случаются при кредитах на операции с автомобилем и на образование.<br>\n",
    "Рекоммендуется использовать эти данные при расчете индивиуального кредитного скоринга клиентов.<br><br>\n",
    "3. Не выявлено прямой взаимосвязи между категорией дохода и задержкой по выплате кредита. Это связано с недостаточной репрезентативностью выборки по определенным группам. <br>\n",
    "Анализ по более узким категориям дохода показал тенденцию к некоторому снижению количества задержек по кредитам при росте дохода клиента. Возможно, потребуется более детальное изучение этой взаимосвязи.\n"
   ]
  },
  {
   "cell_type": "markdown",
   "id": "574f5eb9",
   "metadata": {},
   "source": [
    "<div class=\"alert alert-success\">\n",
    "<b>Комментарий ревьюера ✔️:</b> Ты хорошо постаралась, проект отличный и я готов его принять! Однако, я все же отправлю тебе его еще раз, чтобы ознакомиться с результатами проверки) Недостатки указанные желтым цветом можешь учесть и исправить, но настаивать на их отработке я не буду."
   ]
  },
  {
   "cell_type": "markdown",
   "id": "a1a48769",
   "metadata": {},
   "source": [
    "<div class=\"alert alert-info\"> <b>Комментарий студента:</b> Большое спасибо за хорошую оценку, я даже не ожидала! Уже после того, как отправила на ревью проект и начала проходить новый модуль, оказалось, что некоторые вещи, которые хотелось сделать в этом анализе, но не знала как или получалось слишком долго / некрасиво, мы оказывается проходим только в следующем блоке! жаль не получилось применить здесь, но надеюсь к следующему проекту это решится. Спасибо еще раз и хорошего дня! </div>"
   ]
  }
 ],
 "metadata": {
  "ExecuteTimeLog": [
   {
    "duration": 485,
    "start_time": "2022-05-11T10:26:34.021Z"
   },
   {
    "duration": 89,
    "start_time": "2022-05-11T10:28:42.463Z"
   },
   {
    "duration": 123,
    "start_time": "2022-05-11T10:28:50.053Z"
   },
   {
    "duration": 10,
    "start_time": "2022-05-11T10:36:41.013Z"
   },
   {
    "duration": 24,
    "start_time": "2022-05-11T10:37:04.128Z"
   },
   {
    "duration": 23,
    "start_time": "2022-05-11T10:37:15.769Z"
   },
   {
    "duration": 10,
    "start_time": "2022-05-11T10:37:50.631Z"
   },
   {
    "duration": 7,
    "start_time": "2022-05-11T10:38:05.506Z"
   },
   {
    "duration": 11,
    "start_time": "2022-05-11T10:38:16.116Z"
   },
   {
    "duration": 20,
    "start_time": "2022-05-11T10:38:36.404Z"
   },
   {
    "duration": 7,
    "start_time": "2022-05-11T10:38:49.268Z"
   },
   {
    "duration": 7,
    "start_time": "2022-05-11T10:39:07.439Z"
   },
   {
    "duration": 9,
    "start_time": "2022-05-11T10:39:20.115Z"
   },
   {
    "duration": 7,
    "start_time": "2022-05-11T10:39:28.700Z"
   },
   {
    "duration": 21,
    "start_time": "2022-05-11T10:39:45.646Z"
   },
   {
    "duration": 22,
    "start_time": "2022-05-11T10:39:56.663Z"
   },
   {
    "duration": 7,
    "start_time": "2022-05-11T10:40:45.232Z"
   },
   {
    "duration": 20,
    "start_time": "2022-05-11T10:41:21.884Z"
   },
   {
    "duration": 23,
    "start_time": "2022-05-11T10:42:41.853Z"
   },
   {
    "duration": 7,
    "start_time": "2022-05-11T10:42:51.698Z"
   },
   {
    "duration": 22,
    "start_time": "2022-05-11T10:43:19.753Z"
   },
   {
    "duration": 17,
    "start_time": "2022-05-11T11:18:56.697Z"
   },
   {
    "duration": 12,
    "start_time": "2022-05-11T11:19:16.670Z"
   },
   {
    "duration": 5,
    "start_time": "2022-05-11T11:19:41.515Z"
   },
   {
    "duration": 11,
    "start_time": "2022-05-11T11:19:54.189Z"
   },
   {
    "duration": 14,
    "start_time": "2022-05-11T11:20:12.429Z"
   },
   {
    "duration": 6,
    "start_time": "2022-05-11T11:21:02.449Z"
   },
   {
    "duration": 6,
    "start_time": "2022-05-11T11:21:07.530Z"
   },
   {
    "duration": 6,
    "start_time": "2022-05-11T11:21:14.737Z"
   },
   {
    "duration": 5,
    "start_time": "2022-05-11T11:21:22.597Z"
   },
   {
    "duration": 4,
    "start_time": "2022-05-11T11:21:29.087Z"
   },
   {
    "duration": 5,
    "start_time": "2022-05-11T11:21:35.288Z"
   },
   {
    "duration": 12,
    "start_time": "2022-05-11T11:23:20.305Z"
   },
   {
    "duration": 11,
    "start_time": "2022-05-11T11:23:25.309Z"
   },
   {
    "duration": 12,
    "start_time": "2022-05-11T11:23:29.498Z"
   },
   {
    "duration": 10,
    "start_time": "2022-05-11T11:23:39.997Z"
   },
   {
    "duration": 24,
    "start_time": "2022-05-11T11:24:30.291Z"
   },
   {
    "duration": 23,
    "start_time": "2022-05-11T11:27:00.444Z"
   },
   {
    "duration": 2524,
    "start_time": "2022-05-11T11:27:31.675Z"
   },
   {
    "duration": 2587,
    "start_time": "2022-05-11T11:27:34.781Z"
   },
   {
    "duration": 4464,
    "start_time": "2022-05-11T11:28:05.887Z"
   },
   {
    "duration": 2473,
    "start_time": "2022-05-11T11:29:07.550Z"
   },
   {
    "duration": 2824,
    "start_time": "2022-05-11T11:33:17.619Z"
   },
   {
    "duration": 2390,
    "start_time": "2022-05-11T11:34:26.441Z"
   },
   {
    "duration": 0,
    "start_time": "2022-05-11T11:35:36.291Z"
   },
   {
    "duration": 3621,
    "start_time": "2022-05-11T11:35:46.767Z"
   },
   {
    "duration": 3264,
    "start_time": "2022-05-11T11:36:02.926Z"
   },
   {
    "duration": 2413,
    "start_time": "2022-05-11T11:44:05.976Z"
   },
   {
    "duration": 2394,
    "start_time": "2022-05-11T11:44:32.865Z"
   },
   {
    "duration": 53,
    "start_time": "2022-05-11T11:45:03.770Z"
   },
   {
    "duration": 873,
    "start_time": "2022-05-11T11:45:18.059Z"
   },
   {
    "duration": 22,
    "start_time": "2022-05-11T11:45:18.935Z"
   },
   {
    "duration": 21,
    "start_time": "2022-05-11T11:45:33.244Z"
   },
   {
    "duration": 24,
    "start_time": "2022-05-11T11:46:38.451Z"
   },
   {
    "duration": 24,
    "start_time": "2022-05-11T11:47:05.150Z"
   },
   {
    "duration": 25,
    "start_time": "2022-05-11T11:47:40.161Z"
   },
   {
    "duration": 515,
    "start_time": "2022-05-11T11:50:16.771Z"
   },
   {
    "duration": 38,
    "start_time": "2022-05-11T11:50:17.288Z"
   },
   {
    "duration": 21,
    "start_time": "2022-05-11T13:16:10.563Z"
   },
   {
    "duration": 1171,
    "start_time": "2022-05-11T13:26:34.332Z"
   },
   {
    "duration": 110,
    "start_time": "2022-05-11T13:29:34.451Z"
   },
   {
    "duration": 9,
    "start_time": "2022-05-11T13:30:10.697Z"
   },
   {
    "duration": 9,
    "start_time": "2022-05-11T13:30:35.795Z"
   },
   {
    "duration": 157,
    "start_time": "2022-05-11T13:31:08.439Z"
   },
   {
    "duration": 26,
    "start_time": "2022-05-11T13:33:00.676Z"
   },
   {
    "duration": 8,
    "start_time": "2022-05-11T13:33:05.568Z"
   },
   {
    "duration": 0,
    "start_time": "2022-05-11T13:35:15.801Z"
   },
   {
    "duration": 8424,
    "start_time": "2022-05-11T13:35:20.409Z"
   },
   {
    "duration": 247,
    "start_time": "2022-05-11T13:36:16.052Z"
   },
   {
    "duration": 244,
    "start_time": "2022-05-11T13:36:29.164Z"
   },
   {
    "duration": 491,
    "start_time": "2022-05-11T13:36:37.656Z"
   },
   {
    "duration": 42,
    "start_time": "2022-05-11T13:36:38.149Z"
   },
   {
    "duration": 218,
    "start_time": "2022-05-11T13:36:38.192Z"
   },
   {
    "duration": 25,
    "start_time": "2022-05-11T13:36:58.861Z"
   },
   {
    "duration": 24,
    "start_time": "2022-05-11T13:46:00.137Z"
   },
   {
    "duration": 26,
    "start_time": "2022-05-11T13:46:52.829Z"
   },
   {
    "duration": 28,
    "start_time": "2022-05-11T13:47:01.017Z"
   },
   {
    "duration": 25,
    "start_time": "2022-05-11T13:49:12.681Z"
   },
   {
    "duration": 23,
    "start_time": "2022-05-11T13:49:53.376Z"
   },
   {
    "duration": 18,
    "start_time": "2022-05-11T13:52:52.330Z"
   },
   {
    "duration": 18,
    "start_time": "2022-05-11T13:53:06.500Z"
   },
   {
    "duration": 1019,
    "start_time": "2022-05-11T13:57:40.358Z"
   },
   {
    "duration": 5,
    "start_time": "2022-05-11T13:59:37.749Z"
   },
   {
    "duration": 109,
    "start_time": "2022-05-11T13:59:56.924Z"
   },
   {
    "duration": 12,
    "start_time": "2022-05-11T14:00:14.198Z"
   },
   {
    "duration": 7,
    "start_time": "2022-05-11T14:00:25.610Z"
   },
   {
    "duration": 24,
    "start_time": "2022-05-11T14:03:14.591Z"
   },
   {
    "duration": 35,
    "start_time": "2022-05-11T14:04:11.216Z"
   },
   {
    "duration": 24,
    "start_time": "2022-05-11T14:04:38.463Z"
   },
   {
    "duration": 33,
    "start_time": "2022-05-11T14:05:32.833Z"
   },
   {
    "duration": 218,
    "start_time": "2022-05-11T14:07:36.903Z"
   },
   {
    "duration": 36,
    "start_time": "2022-05-11T14:08:33.425Z"
   },
   {
    "duration": 30,
    "start_time": "2022-05-11T14:09:13.954Z"
   },
   {
    "duration": 32,
    "start_time": "2022-05-11T14:09:32.502Z"
   },
   {
    "duration": 30,
    "start_time": "2022-05-11T14:09:39.628Z"
   },
   {
    "duration": 18,
    "start_time": "2022-05-11T14:11:42.668Z"
   },
   {
    "duration": 18,
    "start_time": "2022-05-11T14:11:48.856Z"
   },
   {
    "duration": 513,
    "start_time": "2022-05-11T14:12:19.650Z"
   },
   {
    "duration": 39,
    "start_time": "2022-05-11T14:12:20.165Z"
   },
   {
    "duration": 100,
    "start_time": "2022-05-11T14:12:20.205Z"
   },
   {
    "duration": 13,
    "start_time": "2022-05-11T14:12:45.401Z"
   },
   {
    "duration": 6,
    "start_time": "2022-05-11T14:14:50.994Z"
   },
   {
    "duration": 6,
    "start_time": "2022-05-11T14:15:06.899Z"
   },
   {
    "duration": 5,
    "start_time": "2022-05-11T14:15:57.756Z"
   },
   {
    "duration": 8,
    "start_time": "2022-05-11T14:16:27.593Z"
   },
   {
    "duration": 5,
    "start_time": "2022-05-11T14:16:35.540Z"
   },
   {
    "duration": 19,
    "start_time": "2022-05-11T14:17:42.950Z"
   },
   {
    "duration": 10,
    "start_time": "2022-05-11T14:18:48.068Z"
   },
   {
    "duration": 19,
    "start_time": "2022-05-11T14:19:10.198Z"
   },
   {
    "duration": 27,
    "start_time": "2022-05-11T14:20:39.940Z"
   },
   {
    "duration": 28,
    "start_time": "2022-05-11T14:20:44.514Z"
   },
   {
    "duration": 191,
    "start_time": "2022-05-11T14:22:59.485Z"
   },
   {
    "duration": 430,
    "start_time": "2022-05-11T14:23:31.234Z"
   },
   {
    "duration": 211,
    "start_time": "2022-05-11T14:25:01.035Z"
   },
   {
    "duration": 29,
    "start_time": "2022-05-11T14:25:10.850Z"
   },
   {
    "duration": 41,
    "start_time": "2022-05-11T14:25:34.042Z"
   },
   {
    "duration": 234,
    "start_time": "2022-05-11T14:25:54.864Z"
   },
   {
    "duration": 41,
    "start_time": "2022-05-11T14:26:07.006Z"
   },
   {
    "duration": 25,
    "start_time": "2022-05-11T14:26:27.256Z"
   },
   {
    "duration": 26,
    "start_time": "2022-05-11T14:26:53.690Z"
   },
   {
    "duration": 30,
    "start_time": "2022-05-11T14:27:11.729Z"
   },
   {
    "duration": 34,
    "start_time": "2022-05-11T14:28:17.004Z"
   },
   {
    "duration": 6,
    "start_time": "2022-05-11T14:29:54.173Z"
   },
   {
    "duration": 15,
    "start_time": "2022-05-11T14:34:07.964Z"
   },
   {
    "duration": 10,
    "start_time": "2022-05-11T14:34:40.181Z"
   },
   {
    "duration": 12,
    "start_time": "2022-05-11T14:36:10.274Z"
   },
   {
    "duration": 21,
    "start_time": "2022-05-11T14:38:33.704Z"
   },
   {
    "duration": 193,
    "start_time": "2022-05-11T14:39:07.162Z"
   },
   {
    "duration": 7,
    "start_time": "2022-05-11T14:39:12.732Z"
   },
   {
    "duration": 12,
    "start_time": "2022-05-11T14:39:34.007Z"
   },
   {
    "duration": 11,
    "start_time": "2022-05-11T14:41:07.063Z"
   },
   {
    "duration": 6,
    "start_time": "2022-05-11T14:41:11.487Z"
   },
   {
    "duration": 12,
    "start_time": "2022-05-11T14:41:19.160Z"
   },
   {
    "duration": 11,
    "start_time": "2022-05-11T14:41:57.866Z"
   },
   {
    "duration": 3,
    "start_time": "2022-05-11T14:43:47.183Z"
   },
   {
    "duration": 9,
    "start_time": "2022-05-11T14:44:06.828Z"
   },
   {
    "duration": 12,
    "start_time": "2022-05-11T14:45:09.681Z"
   },
   {
    "duration": 6,
    "start_time": "2022-05-11T14:47:12.829Z"
   },
   {
    "duration": 6,
    "start_time": "2022-05-11T14:47:36.259Z"
   },
   {
    "duration": 7,
    "start_time": "2022-05-11T14:47:53.680Z"
   },
   {
    "duration": 6,
    "start_time": "2022-05-11T14:48:38.807Z"
   },
   {
    "duration": 5,
    "start_time": "2022-05-11T15:25:59.515Z"
   },
   {
    "duration": 14,
    "start_time": "2022-05-11T15:26:11.031Z"
   },
   {
    "duration": 8,
    "start_time": "2022-05-11T15:27:47.683Z"
   },
   {
    "duration": 13,
    "start_time": "2022-05-11T15:27:57.950Z"
   },
   {
    "duration": 19,
    "start_time": "2022-05-11T15:30:22.385Z"
   },
   {
    "duration": 27,
    "start_time": "2022-05-11T15:30:32.489Z"
   },
   {
    "duration": 17,
    "start_time": "2022-05-11T15:31:37.226Z"
   },
   {
    "duration": 20,
    "start_time": "2022-05-11T15:31:40.278Z"
   },
   {
    "duration": 27,
    "start_time": "2022-05-11T15:32:09.800Z"
   },
   {
    "duration": 18,
    "start_time": "2022-05-11T15:32:35.035Z"
   },
   {
    "duration": 25,
    "start_time": "2022-05-11T15:32:40.718Z"
   },
   {
    "duration": 512,
    "start_time": "2022-05-11T15:33:12.548Z"
   },
   {
    "duration": 60,
    "start_time": "2022-05-11T15:33:13.063Z"
   },
   {
    "duration": 15,
    "start_time": "2022-05-11T15:33:13.125Z"
   },
   {
    "duration": 30,
    "start_time": "2022-05-11T15:33:13.142Z"
   },
   {
    "duration": 15,
    "start_time": "2022-05-11T15:33:13.173Z"
   },
   {
    "duration": 43,
    "start_time": "2022-05-11T15:33:13.190Z"
   },
   {
    "duration": 13,
    "start_time": "2022-05-11T15:33:13.235Z"
   },
   {
    "duration": 8,
    "start_time": "2022-05-11T15:33:13.250Z"
   },
   {
    "duration": 202,
    "start_time": "2022-05-11T15:33:13.260Z"
   },
   {
    "duration": 0,
    "start_time": "2022-05-11T15:33:13.464Z"
   },
   {
    "duration": 0,
    "start_time": "2022-05-11T15:33:13.465Z"
   },
   {
    "duration": 548,
    "start_time": "2022-05-11T15:33:26.017Z"
   },
   {
    "duration": 39,
    "start_time": "2022-05-11T15:33:26.567Z"
   },
   {
    "duration": 27,
    "start_time": "2022-05-11T15:33:26.608Z"
   },
   {
    "duration": 40,
    "start_time": "2022-05-11T15:33:26.638Z"
   },
   {
    "duration": 21,
    "start_time": "2022-05-11T15:33:26.680Z"
   },
   {
    "duration": 30,
    "start_time": "2022-05-11T15:33:26.703Z"
   },
   {
    "duration": 14,
    "start_time": "2022-05-11T15:33:26.735Z"
   },
   {
    "duration": 15,
    "start_time": "2022-05-11T15:33:26.751Z"
   },
   {
    "duration": 4,
    "start_time": "2022-05-11T15:33:26.768Z"
   },
   {
    "duration": 20,
    "start_time": "2022-05-11T15:33:26.775Z"
   },
   {
    "duration": 49,
    "start_time": "2022-05-11T15:33:26.797Z"
   },
   {
    "duration": 19,
    "start_time": "2022-05-11T15:34:30.834Z"
   },
   {
    "duration": 15,
    "start_time": "2022-05-11T15:34:36.305Z"
   },
   {
    "duration": 14,
    "start_time": "2022-05-11T15:34:46.426Z"
   },
   {
    "duration": 207,
    "start_time": "2022-05-11T15:37:28.782Z"
   },
   {
    "duration": 231,
    "start_time": "2022-05-11T15:37:41.229Z"
   },
   {
    "duration": 195,
    "start_time": "2022-05-11T15:37:53.647Z"
   },
   {
    "duration": 206,
    "start_time": "2022-05-11T15:38:08.160Z"
   },
   {
    "duration": 181,
    "start_time": "2022-05-11T15:38:12.205Z"
   },
   {
    "duration": 209,
    "start_time": "2022-05-11T15:38:40.425Z"
   },
   {
    "duration": 221,
    "start_time": "2022-05-11T15:39:36.545Z"
   },
   {
    "duration": 557,
    "start_time": "2022-05-11T15:39:44.790Z"
   },
   {
    "duration": 43,
    "start_time": "2022-05-11T15:39:45.350Z"
   },
   {
    "duration": 35,
    "start_time": "2022-05-11T15:39:45.396Z"
   },
   {
    "duration": 203,
    "start_time": "2022-05-11T15:39:45.434Z"
   },
   {
    "duration": 0,
    "start_time": "2022-05-11T15:39:45.640Z"
   },
   {
    "duration": 0,
    "start_time": "2022-05-11T15:39:45.641Z"
   },
   {
    "duration": 0,
    "start_time": "2022-05-11T15:39:45.643Z"
   },
   {
    "duration": 0,
    "start_time": "2022-05-11T15:39:45.644Z"
   },
   {
    "duration": 0,
    "start_time": "2022-05-11T15:39:45.646Z"
   },
   {
    "duration": 0,
    "start_time": "2022-05-11T15:39:45.647Z"
   },
   {
    "duration": 0,
    "start_time": "2022-05-11T15:39:45.648Z"
   },
   {
    "duration": 27,
    "start_time": "2022-05-11T15:40:14.903Z"
   },
   {
    "duration": 16,
    "start_time": "2022-05-11T15:41:10.505Z"
   },
   {
    "duration": 26,
    "start_time": "2022-05-11T15:41:19.924Z"
   },
   {
    "duration": 22,
    "start_time": "2022-05-11T15:41:28.892Z"
   },
   {
    "duration": 22,
    "start_time": "2022-05-11T15:42:17.964Z"
   },
   {
    "duration": 20,
    "start_time": "2022-05-11T15:42:39.331Z"
   },
   {
    "duration": 23,
    "start_time": "2022-05-11T15:42:44.396Z"
   },
   {
    "duration": 477,
    "start_time": "2022-05-11T15:42:51.965Z"
   },
   {
    "duration": 41,
    "start_time": "2022-05-11T15:42:52.444Z"
   },
   {
    "duration": 47,
    "start_time": "2022-05-11T15:42:52.487Z"
   },
   {
    "duration": 41,
    "start_time": "2022-05-11T15:42:52.536Z"
   },
   {
    "duration": 48,
    "start_time": "2022-05-11T15:42:52.579Z"
   },
   {
    "duration": 17,
    "start_time": "2022-05-11T15:42:52.629Z"
   },
   {
    "duration": 14,
    "start_time": "2022-05-11T15:42:52.648Z"
   },
   {
    "duration": 11,
    "start_time": "2022-05-11T15:42:52.664Z"
   },
   {
    "duration": 2,
    "start_time": "2022-05-11T15:42:52.677Z"
   },
   {
    "duration": 50,
    "start_time": "2022-05-11T15:42:52.682Z"
   },
   {
    "duration": 44,
    "start_time": "2022-05-11T15:42:52.734Z"
   },
   {
    "duration": 28,
    "start_time": "2022-05-11T15:43:33.819Z"
   },
   {
    "duration": 39,
    "start_time": "2022-05-11T15:43:38.747Z"
   },
   {
    "duration": 22,
    "start_time": "2022-05-11T15:44:43.954Z"
   },
   {
    "duration": 21,
    "start_time": "2022-05-11T15:44:49.569Z"
   },
   {
    "duration": 15,
    "start_time": "2022-05-11T15:44:56.619Z"
   },
   {
    "duration": 530,
    "start_time": "2022-05-11T15:45:07.019Z"
   },
   {
    "duration": 42,
    "start_time": "2022-05-11T15:45:07.552Z"
   },
   {
    "duration": 48,
    "start_time": "2022-05-11T15:45:07.596Z"
   },
   {
    "duration": 23,
    "start_time": "2022-05-11T15:45:07.647Z"
   },
   {
    "duration": 27,
    "start_time": "2022-05-11T15:45:07.672Z"
   },
   {
    "duration": 35,
    "start_time": "2022-05-11T15:45:07.701Z"
   },
   {
    "duration": 24,
    "start_time": "2022-05-11T15:45:07.738Z"
   },
   {
    "duration": 14,
    "start_time": "2022-05-11T15:45:07.764Z"
   },
   {
    "duration": 14,
    "start_time": "2022-05-11T15:45:07.779Z"
   },
   {
    "duration": 37,
    "start_time": "2022-05-11T15:45:07.795Z"
   },
   {
    "duration": 51,
    "start_time": "2022-05-11T15:45:07.834Z"
   },
   {
    "duration": 22,
    "start_time": "2022-05-11T15:49:26.031Z"
   },
   {
    "duration": 19,
    "start_time": "2022-05-11T15:49:30.333Z"
   },
   {
    "duration": 15,
    "start_time": "2022-05-11T15:49:31.974Z"
   },
   {
    "duration": 26,
    "start_time": "2022-05-11T15:49:35.066Z"
   },
   {
    "duration": 82,
    "start_time": "2022-05-11T15:49:37.687Z"
   },
   {
    "duration": 38,
    "start_time": "2022-05-11T15:49:47.747Z"
   },
   {
    "duration": 17,
    "start_time": "2022-05-11T15:49:59.729Z"
   },
   {
    "duration": 554,
    "start_time": "2022-05-11T15:50:07.338Z"
   },
   {
    "duration": 44,
    "start_time": "2022-05-11T15:50:07.894Z"
   },
   {
    "duration": 30,
    "start_time": "2022-05-11T15:50:07.940Z"
   },
   {
    "duration": 63,
    "start_time": "2022-05-11T15:50:07.973Z"
   },
   {
    "duration": 20,
    "start_time": "2022-05-11T15:50:08.038Z"
   },
   {
    "duration": 24,
    "start_time": "2022-05-11T15:50:08.060Z"
   },
   {
    "duration": 37,
    "start_time": "2022-05-11T15:50:08.087Z"
   },
   {
    "duration": 4,
    "start_time": "2022-05-11T15:50:08.126Z"
   },
   {
    "duration": 43,
    "start_time": "2022-05-11T15:50:08.131Z"
   },
   {
    "duration": 38,
    "start_time": "2022-05-11T15:50:08.178Z"
   },
   {
    "duration": 48,
    "start_time": "2022-05-11T15:50:40.060Z"
   },
   {
    "duration": 475,
    "start_time": "2022-05-11T15:50:53.864Z"
   },
   {
    "duration": 41,
    "start_time": "2022-05-11T15:50:54.341Z"
   },
   {
    "duration": 52,
    "start_time": "2022-05-11T15:50:54.384Z"
   },
   {
    "duration": 24,
    "start_time": "2022-05-11T15:50:54.438Z"
   },
   {
    "duration": 13,
    "start_time": "2022-05-11T15:50:54.464Z"
   },
   {
    "duration": 13,
    "start_time": "2022-05-11T15:50:54.479Z"
   },
   {
    "duration": 37,
    "start_time": "2022-05-11T15:50:54.494Z"
   },
   {
    "duration": 3,
    "start_time": "2022-05-11T15:50:54.533Z"
   },
   {
    "duration": 17,
    "start_time": "2022-05-11T15:50:54.537Z"
   },
   {
    "duration": 20,
    "start_time": "2022-05-11T15:50:54.557Z"
   },
   {
    "duration": 67,
    "start_time": "2022-05-11T15:50:54.579Z"
   },
   {
    "duration": 45,
    "start_time": "2022-05-11T15:51:14.238Z"
   },
   {
    "duration": 14,
    "start_time": "2022-05-11T15:51:57.169Z"
   },
   {
    "duration": 15,
    "start_time": "2022-05-11T15:53:07.616Z"
   },
   {
    "duration": 17,
    "start_time": "2022-05-11T15:54:24.576Z"
   },
   {
    "duration": 12,
    "start_time": "2022-05-11T15:55:17.834Z"
   },
   {
    "duration": 9,
    "start_time": "2022-05-11T15:55:33.017Z"
   },
   {
    "duration": 12,
    "start_time": "2022-05-11T15:57:32.770Z"
   },
   {
    "duration": 12,
    "start_time": "2022-05-11T15:58:10.908Z"
   },
   {
    "duration": 22,
    "start_time": "2022-05-11T15:58:44.462Z"
   },
   {
    "duration": 39,
    "start_time": "2022-05-11T15:58:48.492Z"
   },
   {
    "duration": 6,
    "start_time": "2022-05-11T16:17:04.944Z"
   },
   {
    "duration": 12,
    "start_time": "2022-05-11T16:17:14.796Z"
   },
   {
    "duration": 12,
    "start_time": "2022-05-11T16:17:54.639Z"
   },
   {
    "duration": 75,
    "start_time": "2022-05-11T16:19:22.026Z"
   },
   {
    "duration": 11,
    "start_time": "2022-05-11T16:19:29.423Z"
   },
   {
    "duration": 11,
    "start_time": "2022-05-11T16:22:43.905Z"
   },
   {
    "duration": 5,
    "start_time": "2022-05-11T16:23:34.814Z"
   },
   {
    "duration": 19,
    "start_time": "2022-05-11T16:23:51.296Z"
   },
   {
    "duration": 14,
    "start_time": "2022-05-11T16:31:30.115Z"
   },
   {
    "duration": 6,
    "start_time": "2022-05-11T16:35:17.762Z"
   },
   {
    "duration": 5,
    "start_time": "2022-05-11T16:35:22.800Z"
   },
   {
    "duration": 18,
    "start_time": "2022-05-11T16:36:05.347Z"
   },
   {
    "duration": 4,
    "start_time": "2022-05-11T16:36:44.467Z"
   },
   {
    "duration": 7,
    "start_time": "2022-05-11T16:36:55.101Z"
   },
   {
    "duration": 23,
    "start_time": "2022-05-11T16:39:02.735Z"
   },
   {
    "duration": 25,
    "start_time": "2022-05-11T16:39:19.723Z"
   },
   {
    "duration": 22,
    "start_time": "2022-05-11T16:39:42.349Z"
   },
   {
    "duration": 10,
    "start_time": "2022-05-11T16:52:59.411Z"
   },
   {
    "duration": 24,
    "start_time": "2022-05-11T16:53:09.879Z"
   },
   {
    "duration": 25,
    "start_time": "2022-05-11T16:53:20.459Z"
   },
   {
    "duration": 23,
    "start_time": "2022-05-11T16:53:48.151Z"
   },
   {
    "duration": 542,
    "start_time": "2022-05-11T16:55:41.384Z"
   },
   {
    "duration": 39,
    "start_time": "2022-05-11T16:55:41.928Z"
   },
   {
    "duration": 27,
    "start_time": "2022-05-11T16:55:41.968Z"
   },
   {
    "duration": 47,
    "start_time": "2022-05-11T16:55:41.997Z"
   },
   {
    "duration": 13,
    "start_time": "2022-05-11T16:55:42.046Z"
   },
   {
    "duration": 16,
    "start_time": "2022-05-11T16:55:42.061Z"
   },
   {
    "duration": 15,
    "start_time": "2022-05-11T16:55:42.078Z"
   },
   {
    "duration": 37,
    "start_time": "2022-05-11T16:55:42.095Z"
   },
   {
    "duration": 3,
    "start_time": "2022-05-11T16:55:42.134Z"
   },
   {
    "duration": 23,
    "start_time": "2022-05-11T16:55:42.140Z"
   },
   {
    "duration": 23,
    "start_time": "2022-05-11T16:55:42.165Z"
   },
   {
    "duration": 76,
    "start_time": "2022-05-11T16:55:42.190Z"
   },
   {
    "duration": 12,
    "start_time": "2022-05-11T16:55:42.268Z"
   },
   {
    "duration": 15,
    "start_time": "2022-05-11T16:55:42.282Z"
   },
   {
    "duration": 22,
    "start_time": "2022-05-11T16:55:42.322Z"
   },
   {
    "duration": 28,
    "start_time": "2022-05-11T16:55:42.346Z"
   },
   {
    "duration": 47,
    "start_time": "2022-05-11T16:55:42.376Z"
   },
   {
    "duration": 83,
    "start_time": "2022-05-12T07:18:11.934Z"
   },
   {
    "duration": 497,
    "start_time": "2022-05-12T07:18:26.729Z"
   },
   {
    "duration": 675,
    "start_time": "2022-05-12T07:18:41.556Z"
   },
   {
    "duration": 70,
    "start_time": "2022-05-12T07:18:42.233Z"
   },
   {
    "duration": 34,
    "start_time": "2022-05-12T07:18:42.305Z"
   },
   {
    "duration": 58,
    "start_time": "2022-05-12T07:18:42.342Z"
   },
   {
    "duration": 19,
    "start_time": "2022-05-12T07:18:42.403Z"
   },
   {
    "duration": 16,
    "start_time": "2022-05-12T07:18:42.424Z"
   },
   {
    "duration": 60,
    "start_time": "2022-05-12T07:18:42.442Z"
   },
   {
    "duration": 17,
    "start_time": "2022-05-12T07:18:42.505Z"
   },
   {
    "duration": 3,
    "start_time": "2022-05-12T07:18:42.525Z"
   },
   {
    "duration": 23,
    "start_time": "2022-05-12T07:18:42.531Z"
   },
   {
    "duration": 65,
    "start_time": "2022-05-12T07:18:42.556Z"
   },
   {
    "duration": 79,
    "start_time": "2022-05-12T07:18:42.623Z"
   },
   {
    "duration": 20,
    "start_time": "2022-05-12T07:18:42.704Z"
   },
   {
    "duration": 17,
    "start_time": "2022-05-12T07:18:42.727Z"
   },
   {
    "duration": 63,
    "start_time": "2022-05-12T07:18:42.746Z"
   },
   {
    "duration": 34,
    "start_time": "2022-05-12T07:18:42.811Z"
   },
   {
    "duration": 63,
    "start_time": "2022-05-12T07:18:42.847Z"
   },
   {
    "duration": 108,
    "start_time": "2022-05-12T07:18:42.914Z"
   },
   {
    "duration": 19,
    "start_time": "2022-05-12T07:25:06.334Z"
   },
   {
    "duration": 24,
    "start_time": "2022-05-12T07:25:28.864Z"
   },
   {
    "duration": 34,
    "start_time": "2022-05-12T07:26:11.987Z"
   },
   {
    "duration": 23,
    "start_time": "2022-05-12T07:26:41.283Z"
   },
   {
    "duration": 16,
    "start_time": "2022-05-12T07:30:18.823Z"
   },
   {
    "duration": 1528,
    "start_time": "2022-05-12T07:31:36.996Z"
   },
   {
    "duration": 17,
    "start_time": "2022-05-12T07:31:57.166Z"
   },
   {
    "duration": 30,
    "start_time": "2022-05-12T07:32:51.457Z"
   },
   {
    "duration": 33,
    "start_time": "2022-05-12T07:34:16.918Z"
   },
   {
    "duration": 36,
    "start_time": "2022-05-12T07:34:43.089Z"
   },
   {
    "duration": 324,
    "start_time": "2022-05-12T07:40:39.036Z"
   },
   {
    "duration": 286,
    "start_time": "2022-05-12T07:40:51.247Z"
   },
   {
    "duration": 246,
    "start_time": "2022-05-12T07:40:58.961Z"
   },
   {
    "duration": 222,
    "start_time": "2022-05-12T07:41:08.131Z"
   },
   {
    "duration": 283,
    "start_time": "2022-05-12T07:41:14.875Z"
   },
   {
    "duration": 28,
    "start_time": "2022-05-12T07:41:24.450Z"
   },
   {
    "duration": 40,
    "start_time": "2022-05-12T07:41:39.474Z"
   },
   {
    "duration": 39,
    "start_time": "2022-05-12T07:41:45.764Z"
   },
   {
    "duration": 3481,
    "start_time": "2022-05-12T07:53:24.291Z"
   },
   {
    "duration": 29,
    "start_time": "2022-05-12T07:53:41.252Z"
   },
   {
    "duration": 30,
    "start_time": "2022-05-12T07:53:47.126Z"
   },
   {
    "duration": 39,
    "start_time": "2022-05-12T07:53:55.592Z"
   },
   {
    "duration": 40,
    "start_time": "2022-05-12T07:54:09.419Z"
   },
   {
    "duration": 3563,
    "start_time": "2022-05-12T07:54:36.512Z"
   },
   {
    "duration": 39,
    "start_time": "2022-05-12T07:55:17.822Z"
   },
   {
    "duration": 55,
    "start_time": "2022-05-12T07:55:39.340Z"
   },
   {
    "duration": 119,
    "start_time": "2022-05-12T08:02:18.745Z"
   },
   {
    "duration": 39,
    "start_time": "2022-05-12T08:09:45.457Z"
   },
   {
    "duration": 58,
    "start_time": "2022-05-12T08:09:48.295Z"
   },
   {
    "duration": 39,
    "start_time": "2022-05-12T08:14:42.808Z"
   },
   {
    "duration": 211,
    "start_time": "2022-05-12T09:44:00.601Z"
   },
   {
    "duration": 19,
    "start_time": "2022-05-12T09:44:43.540Z"
   },
   {
    "duration": 18,
    "start_time": "2022-05-12T09:45:20.675Z"
   },
   {
    "duration": 19,
    "start_time": "2022-05-12T09:46:04.835Z"
   },
   {
    "duration": 51,
    "start_time": "2022-05-12T09:46:12.425Z"
   },
   {
    "duration": 47,
    "start_time": "2022-05-12T09:51:58.689Z"
   },
   {
    "duration": 35,
    "start_time": "2022-05-12T09:52:59.861Z"
   },
   {
    "duration": 45,
    "start_time": "2022-05-12T09:53:08.463Z"
   },
   {
    "duration": 55,
    "start_time": "2022-05-12T09:53:34.697Z"
   },
   {
    "duration": 41,
    "start_time": "2022-05-12T09:53:42.203Z"
   },
   {
    "duration": 47,
    "start_time": "2022-05-12T09:56:05.824Z"
   },
   {
    "duration": 42,
    "start_time": "2022-05-12T09:56:19.708Z"
   },
   {
    "duration": 42,
    "start_time": "2022-05-12T09:58:56.489Z"
   },
   {
    "duration": 42,
    "start_time": "2022-05-12T09:59:12.602Z"
   },
   {
    "duration": 58,
    "start_time": "2022-05-12T10:00:17.775Z"
   },
   {
    "duration": 246,
    "start_time": "2022-05-12T10:00:44.031Z"
   },
   {
    "duration": 46,
    "start_time": "2022-05-12T10:01:28.002Z"
   },
   {
    "duration": 1884,
    "start_time": "2022-05-12T10:33:28.956Z"
   },
   {
    "duration": 11802,
    "start_time": "2022-05-12T10:35:13.321Z"
   },
   {
    "duration": 275,
    "start_time": "2022-05-12T10:35:43.568Z"
   },
   {
    "duration": 3515,
    "start_time": "2022-05-12T10:42:26.834Z"
   },
   {
    "duration": 8223,
    "start_time": "2022-05-12T10:42:49.527Z"
   },
   {
    "duration": 3809,
    "start_time": "2022-05-12T10:43:02.263Z"
   },
   {
    "duration": 3472,
    "start_time": "2022-05-12T10:43:22.188Z"
   },
   {
    "duration": 3784,
    "start_time": "2022-05-12T10:43:42.445Z"
   },
   {
    "duration": 3584,
    "start_time": "2022-05-12T10:44:01.295Z"
   },
   {
    "duration": 285,
    "start_time": "2022-05-12T10:45:54.717Z"
   },
   {
    "duration": 51,
    "start_time": "2022-05-12T10:46:05.107Z"
   },
   {
    "duration": 3651,
    "start_time": "2022-05-12T10:46:15.053Z"
   },
   {
    "duration": 3579,
    "start_time": "2022-05-12T10:46:48.024Z"
   },
   {
    "duration": 49,
    "start_time": "2022-05-12T10:47:33.041Z"
   },
   {
    "duration": 21,
    "start_time": "2022-05-12T10:47:47.728Z"
   },
   {
    "duration": 20,
    "start_time": "2022-05-12T10:48:06.408Z"
   },
   {
    "duration": 21,
    "start_time": "2022-05-12T10:48:30.287Z"
   },
   {
    "duration": 61,
    "start_time": "2022-05-12T10:49:27.225Z"
   },
   {
    "duration": 35,
    "start_time": "2022-05-12T10:49:45.514Z"
   },
   {
    "duration": 41,
    "start_time": "2022-05-12T10:50:02.609Z"
   },
   {
    "duration": 1673,
    "start_time": "2022-05-12T10:50:17.248Z"
   },
   {
    "duration": 83,
    "start_time": "2022-05-12T10:50:18.924Z"
   },
   {
    "duration": 36,
    "start_time": "2022-05-12T10:50:19.010Z"
   },
   {
    "duration": 73,
    "start_time": "2022-05-12T10:50:19.051Z"
   },
   {
    "duration": 20,
    "start_time": "2022-05-12T10:50:19.127Z"
   },
   {
    "duration": 47,
    "start_time": "2022-05-12T10:50:19.150Z"
   },
   {
    "duration": 15,
    "start_time": "2022-05-12T10:50:19.200Z"
   },
   {
    "duration": 19,
    "start_time": "2022-05-12T10:50:19.218Z"
   },
   {
    "duration": 4,
    "start_time": "2022-05-12T10:50:19.239Z"
   },
   {
    "duration": 24,
    "start_time": "2022-05-12T10:50:19.293Z"
   },
   {
    "duration": 28,
    "start_time": "2022-05-12T10:50:19.320Z"
   },
   {
    "duration": 94,
    "start_time": "2022-05-12T10:50:19.351Z"
   },
   {
    "duration": 16,
    "start_time": "2022-05-12T10:50:19.448Z"
   },
   {
    "duration": 34,
    "start_time": "2022-05-12T10:50:19.466Z"
   },
   {
    "duration": 23,
    "start_time": "2022-05-12T10:50:19.502Z"
   },
   {
    "duration": 34,
    "start_time": "2022-05-12T10:50:19.527Z"
   },
   {
    "duration": 35,
    "start_time": "2022-05-12T10:50:19.593Z"
   },
   {
    "duration": 38,
    "start_time": "2022-05-12T10:50:19.630Z"
   },
   {
    "duration": 54,
    "start_time": "2022-05-12T10:50:19.694Z"
   },
   {
    "duration": 98,
    "start_time": "2022-05-12T10:50:19.750Z"
   },
   {
    "duration": 63,
    "start_time": "2022-05-12T10:50:19.851Z"
   },
   {
    "duration": 49,
    "start_time": "2022-05-12T10:50:58.953Z"
   },
   {
    "duration": 176,
    "start_time": "2022-05-12T10:53:26.305Z"
   },
   {
    "duration": 291,
    "start_time": "2022-05-12T10:53:40.004Z"
   },
   {
    "duration": 59,
    "start_time": "2022-05-12T10:55:25.975Z"
   },
   {
    "duration": 70,
    "start_time": "2022-05-12T10:55:55.064Z"
   },
   {
    "duration": 398,
    "start_time": "2022-05-12T10:56:05.639Z"
   },
   {
    "duration": 1777,
    "start_time": "2022-05-12T11:01:48.754Z"
   },
   {
    "duration": 75,
    "start_time": "2022-05-12T11:01:50.534Z"
   },
   {
    "duration": 46,
    "start_time": "2022-05-12T11:01:50.612Z"
   },
   {
    "duration": 62,
    "start_time": "2022-05-12T11:01:50.662Z"
   },
   {
    "duration": 25,
    "start_time": "2022-05-12T11:01:50.727Z"
   },
   {
    "duration": 49,
    "start_time": "2022-05-12T11:01:50.754Z"
   },
   {
    "duration": 20,
    "start_time": "2022-05-12T11:01:50.806Z"
   },
   {
    "duration": 17,
    "start_time": "2022-05-12T11:01:50.829Z"
   },
   {
    "duration": 50,
    "start_time": "2022-05-12T11:01:50.849Z"
   },
   {
    "duration": 26,
    "start_time": "2022-05-12T11:01:50.903Z"
   },
   {
    "duration": 25,
    "start_time": "2022-05-12T11:01:50.931Z"
   },
   {
    "duration": 88,
    "start_time": "2022-05-12T11:01:50.958Z"
   },
   {
    "duration": 15,
    "start_time": "2022-05-12T11:01:51.048Z"
   },
   {
    "duration": 38,
    "start_time": "2022-05-12T11:01:51.066Z"
   },
   {
    "duration": 24,
    "start_time": "2022-05-12T11:01:51.107Z"
   },
   {
    "duration": 59,
    "start_time": "2022-05-12T11:01:51.133Z"
   },
   {
    "duration": 34,
    "start_time": "2022-05-12T11:01:51.196Z"
   },
   {
    "duration": 67,
    "start_time": "2022-05-12T11:01:51.232Z"
   },
   {
    "duration": 51,
    "start_time": "2022-05-12T11:01:51.302Z"
   },
   {
    "duration": 72,
    "start_time": "2022-05-12T11:01:51.355Z"
   },
   {
    "duration": 65,
    "start_time": "2022-05-12T11:01:51.429Z"
   },
   {
    "duration": 38,
    "start_time": "2022-05-12T11:03:14.137Z"
   },
   {
    "duration": 41,
    "start_time": "2022-05-12T11:03:20.175Z"
   },
   {
    "duration": 34,
    "start_time": "2022-05-12T11:04:08.891Z"
   },
   {
    "duration": 41,
    "start_time": "2022-05-12T11:04:14.898Z"
   },
   {
    "duration": 18,
    "start_time": "2022-05-12T11:13:17.874Z"
   },
   {
    "duration": 924,
    "start_time": "2022-05-12T11:19:48.473Z"
   },
   {
    "duration": 22,
    "start_time": "2022-05-12T11:20:02.493Z"
   },
   {
    "duration": 25,
    "start_time": "2022-05-12T11:21:47.438Z"
   },
   {
    "duration": 32,
    "start_time": "2022-05-12T11:21:59.074Z"
   },
   {
    "duration": 14,
    "start_time": "2022-05-12T11:22:17.489Z"
   },
   {
    "duration": 17,
    "start_time": "2022-05-12T11:23:21.611Z"
   },
   {
    "duration": 23,
    "start_time": "2022-05-12T11:24:39.021Z"
   },
   {
    "duration": 16,
    "start_time": "2022-05-12T11:26:03.443Z"
   },
   {
    "duration": 12,
    "start_time": "2022-05-12T11:26:23.382Z"
   },
   {
    "duration": 155,
    "start_time": "2022-05-12T11:27:11.227Z"
   },
   {
    "duration": 9,
    "start_time": "2022-05-12T11:28:37.827Z"
   },
   {
    "duration": 16,
    "start_time": "2022-05-12T11:29:43.899Z"
   },
   {
    "duration": 19,
    "start_time": "2022-05-12T11:30:02.494Z"
   },
   {
    "duration": 23,
    "start_time": "2022-05-12T11:30:26.933Z"
   },
   {
    "duration": 17,
    "start_time": "2022-05-12T11:30:35.991Z"
   },
   {
    "duration": 58,
    "start_time": "2022-05-12T11:31:06.579Z"
   },
   {
    "duration": 45,
    "start_time": "2022-05-12T11:31:33.698Z"
   },
   {
    "duration": 37,
    "start_time": "2022-05-12T11:32:00.549Z"
   },
   {
    "duration": 35,
    "start_time": "2022-05-12T11:32:09.865Z"
   },
   {
    "duration": 42,
    "start_time": "2022-05-12T11:32:17.703Z"
   },
   {
    "duration": 38,
    "start_time": "2022-05-12T11:32:24.498Z"
   },
   {
    "duration": 39,
    "start_time": "2022-05-12T11:32:30.862Z"
   },
   {
    "duration": 38,
    "start_time": "2022-05-12T11:32:48.019Z"
   },
   {
    "duration": 37,
    "start_time": "2022-05-12T11:32:57.491Z"
   },
   {
    "duration": 42,
    "start_time": "2022-05-12T11:33:33.087Z"
   },
   {
    "duration": 61,
    "start_time": "2022-05-12T11:33:47.521Z"
   },
   {
    "duration": 70,
    "start_time": "2022-05-12T11:35:34.038Z"
   },
   {
    "duration": 48,
    "start_time": "2022-05-12T11:36:00.903Z"
   },
   {
    "duration": 48,
    "start_time": "2022-05-12T11:36:48.314Z"
   },
   {
    "duration": 73,
    "start_time": "2022-05-12T11:37:13.633Z"
   },
   {
    "duration": 67,
    "start_time": "2022-05-12T11:37:39.093Z"
   },
   {
    "duration": 71,
    "start_time": "2022-05-12T11:37:52.111Z"
   },
   {
    "duration": 289,
    "start_time": "2022-05-12T11:41:01.823Z"
   },
   {
    "duration": 12722,
    "start_time": "2022-05-12T11:41:41.725Z"
   },
   {
    "duration": 6601,
    "start_time": "2022-05-12T11:42:37.167Z"
   },
   {
    "duration": 6672,
    "start_time": "2022-05-12T11:44:07.194Z"
   },
   {
    "duration": 250,
    "start_time": "2022-05-12T11:47:23.393Z"
   },
   {
    "duration": 229,
    "start_time": "2022-05-12T11:47:34.740Z"
   },
   {
    "duration": 225,
    "start_time": "2022-05-12T11:47:58.202Z"
   },
   {
    "duration": 233,
    "start_time": "2022-05-12T11:48:31.102Z"
   },
   {
    "duration": 50,
    "start_time": "2022-05-12T11:48:44.297Z"
   },
   {
    "duration": 84,
    "start_time": "2022-05-12T11:49:00.507Z"
   },
   {
    "duration": 67,
    "start_time": "2022-05-12T11:50:25.946Z"
   },
   {
    "duration": 217,
    "start_time": "2022-05-12T11:50:48.579Z"
   },
   {
    "duration": 67,
    "start_time": "2022-05-12T11:50:50.873Z"
   },
   {
    "duration": 4687,
    "start_time": "2022-05-12T11:52:04.869Z"
   },
   {
    "duration": 6365,
    "start_time": "2022-05-12T11:53:03.653Z"
   },
   {
    "duration": 3765,
    "start_time": "2022-05-12T11:54:11.814Z"
   },
   {
    "duration": 3110,
    "start_time": "2022-05-12T11:55:42.085Z"
   },
   {
    "duration": 9,
    "start_time": "2022-05-12T12:07:19.762Z"
   },
   {
    "duration": 16,
    "start_time": "2022-05-12T12:07:30.993Z"
   },
   {
    "duration": 68,
    "start_time": "2022-05-12T12:09:24.605Z"
   },
   {
    "duration": 226,
    "start_time": "2022-05-12T12:10:20.156Z"
   },
   {
    "duration": 218,
    "start_time": "2022-05-12T12:10:28.785Z"
   },
   {
    "duration": 246,
    "start_time": "2022-05-12T12:10:44.737Z"
   },
   {
    "duration": 266,
    "start_time": "2022-05-12T12:11:01.013Z"
   },
   {
    "duration": 243,
    "start_time": "2022-05-12T12:11:24.026Z"
   },
   {
    "duration": 50,
    "start_time": "2022-05-12T12:11:50.645Z"
   },
   {
    "duration": 57,
    "start_time": "2022-05-12T12:12:35.697Z"
   },
   {
    "duration": 234,
    "start_time": "2022-05-12T12:12:40.760Z"
   },
   {
    "duration": 483,
    "start_time": "2022-05-12T12:12:47.476Z"
   },
   {
    "duration": 225,
    "start_time": "2022-05-12T12:13:53.259Z"
   },
   {
    "duration": 51,
    "start_time": "2022-05-12T12:14:03.657Z"
   },
   {
    "duration": 47,
    "start_time": "2022-05-12T12:14:23.505Z"
   },
   {
    "duration": 80,
    "start_time": "2022-05-12T12:14:43.021Z"
   },
   {
    "duration": 57,
    "start_time": "2022-05-12T12:15:47.988Z"
   },
   {
    "duration": 65,
    "start_time": "2022-05-12T12:16:01.614Z"
   },
   {
    "duration": 91,
    "start_time": "2022-05-12T12:16:32.578Z"
   },
   {
    "duration": 63,
    "start_time": "2022-05-12T12:17:40.006Z"
   },
   {
    "duration": 86,
    "start_time": "2022-05-12T12:18:36.976Z"
   },
   {
    "duration": 58,
    "start_time": "2022-05-12T12:19:00.326Z"
   },
   {
    "duration": 34,
    "start_time": "2022-05-12T12:19:48.291Z"
   },
   {
    "duration": 306,
    "start_time": "2022-05-12T12:19:59.961Z"
   },
   {
    "duration": 39,
    "start_time": "2022-05-12T12:20:08.934Z"
   },
   {
    "duration": 40,
    "start_time": "2022-05-12T12:20:26.826Z"
   },
   {
    "duration": 50,
    "start_time": "2022-05-12T12:20:32.694Z"
   },
   {
    "duration": 79,
    "start_time": "2022-05-12T12:21:48.938Z"
   },
   {
    "duration": 57,
    "start_time": "2022-05-12T12:23:19.787Z"
   },
   {
    "duration": 62,
    "start_time": "2022-05-12T12:24:26.587Z"
   },
   {
    "duration": 45,
    "start_time": "2022-05-13T15:23:06.034Z"
   },
   {
    "duration": 1429,
    "start_time": "2022-05-13T15:23:18.958Z"
   },
   {
    "duration": 36,
    "start_time": "2022-05-13T15:23:20.389Z"
   },
   {
    "duration": 51,
    "start_time": "2022-05-13T15:23:20.427Z"
   },
   {
    "duration": 5,
    "start_time": "2022-05-13T15:23:20.480Z"
   },
   {
    "duration": 38,
    "start_time": "2022-05-13T15:23:20.487Z"
   },
   {
    "duration": 18,
    "start_time": "2022-05-13T15:23:20.527Z"
   },
   {
    "duration": 40,
    "start_time": "2022-05-13T15:23:20.547Z"
   },
   {
    "duration": 15,
    "start_time": "2022-05-13T15:23:20.589Z"
   },
   {
    "duration": 11,
    "start_time": "2022-05-13T15:23:20.605Z"
   },
   {
    "duration": 4,
    "start_time": "2022-05-13T15:23:20.620Z"
   },
   {
    "duration": 46,
    "start_time": "2022-05-13T15:23:20.626Z"
   },
   {
    "duration": 19,
    "start_time": "2022-05-13T15:23:20.674Z"
   },
   {
    "duration": 40,
    "start_time": "2022-05-13T15:23:20.695Z"
   },
   {
    "duration": 36,
    "start_time": "2022-05-13T15:23:20.737Z"
   },
   {
    "duration": 12,
    "start_time": "2022-05-13T15:23:20.775Z"
   },
   {
    "duration": 15,
    "start_time": "2022-05-13T15:23:20.788Z"
   },
   {
    "duration": 21,
    "start_time": "2022-05-13T15:23:20.805Z"
   },
   {
    "duration": 54,
    "start_time": "2022-05-13T15:23:20.828Z"
   },
   {
    "duration": 25,
    "start_time": "2022-05-13T15:23:20.884Z"
   },
   {
    "duration": 37,
    "start_time": "2022-05-13T15:23:20.911Z"
   },
   {
    "duration": 52,
    "start_time": "2022-05-13T15:23:20.950Z"
   },
   {
    "duration": 26,
    "start_time": "2022-05-13T15:23:21.004Z"
   },
   {
    "duration": 2767,
    "start_time": "2022-05-13T15:23:21.032Z"
   },
   {
    "duration": 8,
    "start_time": "2022-05-13T15:23:23.801Z"
   },
   {
    "duration": 8,
    "start_time": "2022-05-13T15:27:23.965Z"
   },
   {
    "duration": 99,
    "start_time": "2022-05-13T15:29:37.094Z"
   },
   {
    "duration": 9,
    "start_time": "2022-05-13T15:30:25.981Z"
   },
   {
    "duration": 10,
    "start_time": "2022-05-13T15:32:30.228Z"
   },
   {
    "duration": 9,
    "start_time": "2022-05-13T15:33:58.927Z"
   },
   {
    "duration": 13,
    "start_time": "2022-05-13T15:34:40.171Z"
   },
   {
    "duration": 15,
    "start_time": "2022-05-13T15:35:44.604Z"
   },
   {
    "duration": 12,
    "start_time": "2022-05-13T15:39:19.554Z"
   },
   {
    "duration": 12,
    "start_time": "2022-05-13T15:39:43.435Z"
   },
   {
    "duration": 19,
    "start_time": "2022-05-13T15:41:40.007Z"
   },
   {
    "duration": 24,
    "start_time": "2022-05-13T15:41:51.801Z"
   },
   {
    "duration": 23,
    "start_time": "2022-05-13T15:43:16.161Z"
   },
   {
    "duration": 24,
    "start_time": "2022-05-13T15:43:32.660Z"
   },
   {
    "duration": 1216,
    "start_time": "2022-05-13T15:44:27.687Z"
   },
   {
    "duration": 35,
    "start_time": "2022-05-13T15:44:28.905Z"
   },
   {
    "duration": 45,
    "start_time": "2022-05-13T15:44:28.941Z"
   },
   {
    "duration": 117,
    "start_time": "2022-05-13T15:44:28.988Z"
   },
   {
    "duration": 0,
    "start_time": "2022-05-13T15:44:29.107Z"
   },
   {
    "duration": 0,
    "start_time": "2022-05-13T15:44:29.109Z"
   },
   {
    "duration": 0,
    "start_time": "2022-05-13T15:44:29.110Z"
   },
   {
    "duration": 0,
    "start_time": "2022-05-13T15:44:29.111Z"
   },
   {
    "duration": 0,
    "start_time": "2022-05-13T15:44:29.112Z"
   },
   {
    "duration": 0,
    "start_time": "2022-05-13T15:44:29.113Z"
   },
   {
    "duration": 0,
    "start_time": "2022-05-13T15:44:29.113Z"
   },
   {
    "duration": 0,
    "start_time": "2022-05-13T15:44:29.115Z"
   },
   {
    "duration": 0,
    "start_time": "2022-05-13T15:44:29.116Z"
   },
   {
    "duration": 0,
    "start_time": "2022-05-13T15:44:29.117Z"
   },
   {
    "duration": 0,
    "start_time": "2022-05-13T15:44:29.117Z"
   },
   {
    "duration": 0,
    "start_time": "2022-05-13T15:44:29.118Z"
   },
   {
    "duration": 0,
    "start_time": "2022-05-13T15:44:29.119Z"
   },
   {
    "duration": 0,
    "start_time": "2022-05-13T15:44:29.120Z"
   },
   {
    "duration": 0,
    "start_time": "2022-05-13T15:44:29.121Z"
   },
   {
    "duration": 0,
    "start_time": "2022-05-13T15:44:29.122Z"
   },
   {
    "duration": 0,
    "start_time": "2022-05-13T15:44:29.123Z"
   },
   {
    "duration": 0,
    "start_time": "2022-05-13T15:44:29.124Z"
   },
   {
    "duration": 0,
    "start_time": "2022-05-13T15:44:29.125Z"
   },
   {
    "duration": 0,
    "start_time": "2022-05-13T15:44:29.125Z"
   },
   {
    "duration": 27,
    "start_time": "2022-05-13T15:45:01.187Z"
   },
   {
    "duration": 202,
    "start_time": "2022-05-13T15:45:59.330Z"
   },
   {
    "duration": 22,
    "start_time": "2022-05-13T15:50:18.042Z"
   },
   {
    "duration": 17,
    "start_time": "2022-05-13T15:50:22.372Z"
   },
   {
    "duration": 24,
    "start_time": "2022-05-13T15:55:28.331Z"
   },
   {
    "duration": 24,
    "start_time": "2022-05-13T15:57:28.497Z"
   },
   {
    "duration": 15,
    "start_time": "2022-05-13T15:59:18.685Z"
   },
   {
    "duration": 17,
    "start_time": "2022-05-13T15:59:28.305Z"
   },
   {
    "duration": 22,
    "start_time": "2022-05-13T16:09:30.141Z"
   },
   {
    "duration": 15,
    "start_time": "2022-05-13T16:09:39.085Z"
   },
   {
    "duration": 15,
    "start_time": "2022-05-13T16:09:41.957Z"
   },
   {
    "duration": 22,
    "start_time": "2022-05-13T16:10:04.636Z"
   },
   {
    "duration": 1465,
    "start_time": "2022-05-13T16:11:02.864Z"
   },
   {
    "duration": 1884,
    "start_time": "2022-05-13T16:11:09.938Z"
   },
   {
    "duration": 1891,
    "start_time": "2022-05-13T16:11:38.043Z"
   },
   {
    "duration": 27,
    "start_time": "2022-05-13T16:11:59.184Z"
   },
   {
    "duration": 18,
    "start_time": "2022-05-13T16:12:18.554Z"
   },
   {
    "duration": 25,
    "start_time": "2022-05-13T16:12:50.555Z"
   },
   {
    "duration": 1412,
    "start_time": "2022-05-13T16:12:56.784Z"
   },
   {
    "duration": 1514,
    "start_time": "2022-05-13T16:13:04.585Z"
   },
   {
    "duration": 31,
    "start_time": "2022-05-13T16:14:35.863Z"
   },
   {
    "duration": 1964,
    "start_time": "2022-05-13T16:16:18.862Z"
   },
   {
    "duration": 1963,
    "start_time": "2022-05-13T16:17:56.884Z"
   },
   {
    "duration": 1452,
    "start_time": "2022-05-13T16:18:45.319Z"
   },
   {
    "duration": 1402,
    "start_time": "2022-05-13T16:18:56.042Z"
   },
   {
    "duration": 950,
    "start_time": "2022-05-13T16:19:05.558Z"
   },
   {
    "duration": 17,
    "start_time": "2022-05-13T16:19:22.627Z"
   },
   {
    "duration": 907,
    "start_time": "2022-05-13T16:19:41.955Z"
   },
   {
    "duration": 23,
    "start_time": "2022-05-13T16:20:18.784Z"
   },
   {
    "duration": 18,
    "start_time": "2022-05-13T16:20:42.787Z"
   },
   {
    "duration": 128,
    "start_time": "2022-05-13T16:21:10.973Z"
   },
   {
    "duration": 1414,
    "start_time": "2022-05-13T16:21:24.771Z"
   },
   {
    "duration": 1794,
    "start_time": "2022-05-13T16:22:34.820Z"
   },
   {
    "duration": 1652,
    "start_time": "2022-05-13T16:23:04.636Z"
   },
   {
    "duration": 1174,
    "start_time": "2022-05-13T16:23:13.535Z"
   },
   {
    "duration": 32,
    "start_time": "2022-05-13T16:23:14.711Z"
   },
   {
    "duration": 42,
    "start_time": "2022-05-13T16:23:14.745Z"
   },
   {
    "duration": 17,
    "start_time": "2022-05-13T16:23:14.789Z"
   },
   {
    "duration": 18,
    "start_time": "2022-05-13T16:23:14.808Z"
   },
   {
    "duration": 11,
    "start_time": "2022-05-13T16:23:14.827Z"
   },
   {
    "duration": 43,
    "start_time": "2022-05-13T16:23:14.839Z"
   },
   {
    "duration": 10,
    "start_time": "2022-05-13T16:23:14.884Z"
   },
   {
    "duration": 13,
    "start_time": "2022-05-13T16:23:14.896Z"
   },
   {
    "duration": 2,
    "start_time": "2022-05-13T16:23:14.911Z"
   },
   {
    "duration": 19,
    "start_time": "2022-05-13T16:23:14.914Z"
   },
   {
    "duration": 40,
    "start_time": "2022-05-13T16:23:14.935Z"
   },
   {
    "duration": 42,
    "start_time": "2022-05-13T16:23:14.977Z"
   },
   {
    "duration": 11,
    "start_time": "2022-05-13T16:23:15.021Z"
   },
   {
    "duration": 10,
    "start_time": "2022-05-13T16:23:15.034Z"
   },
   {
    "duration": 42,
    "start_time": "2022-05-13T16:23:15.045Z"
   },
   {
    "duration": 22,
    "start_time": "2022-05-13T16:23:15.089Z"
   },
   {
    "duration": 21,
    "start_time": "2022-05-13T16:23:15.113Z"
   },
   {
    "duration": 47,
    "start_time": "2022-05-13T16:23:15.136Z"
   },
   {
    "duration": 34,
    "start_time": "2022-05-13T16:23:15.185Z"
   },
   {
    "duration": 56,
    "start_time": "2022-05-13T16:23:15.220Z"
   },
   {
    "duration": 29,
    "start_time": "2022-05-13T16:23:15.278Z"
   },
   {
    "duration": 2906,
    "start_time": "2022-05-13T16:23:15.309Z"
   },
   {
    "duration": 9,
    "start_time": "2022-05-13T16:23:18.216Z"
   },
   {
    "duration": 16,
    "start_time": "2022-05-13T16:23:24.553Z"
   },
   {
    "duration": 16,
    "start_time": "2022-05-13T16:23:27.608Z"
   },
   {
    "duration": 107,
    "start_time": "2022-05-13T16:23:32.740Z"
   },
   {
    "duration": 27,
    "start_time": "2022-05-13T16:28:12.199Z"
   },
   {
    "duration": 29,
    "start_time": "2022-05-13T16:29:28.381Z"
   },
   {
    "duration": 25,
    "start_time": "2022-05-13T16:30:03.514Z"
   },
   {
    "duration": 27,
    "start_time": "2022-05-13T16:30:32.144Z"
   },
   {
    "duration": 23,
    "start_time": "2022-05-13T16:31:02.349Z"
   },
   {
    "duration": 27,
    "start_time": "2022-05-13T16:31:14.388Z"
   },
   {
    "duration": 27,
    "start_time": "2022-05-13T16:31:22.852Z"
   },
   {
    "duration": 1209,
    "start_time": "2022-05-13T16:31:42.274Z"
   },
   {
    "duration": 36,
    "start_time": "2022-05-13T16:31:43.485Z"
   },
   {
    "duration": 22,
    "start_time": "2022-05-13T16:31:43.523Z"
   },
   {
    "duration": 37,
    "start_time": "2022-05-13T16:31:43.570Z"
   },
   {
    "duration": 13,
    "start_time": "2022-05-13T16:31:43.609Z"
   },
   {
    "duration": 8,
    "start_time": "2022-05-13T16:31:43.623Z"
   },
   {
    "duration": 9,
    "start_time": "2022-05-13T16:31:43.632Z"
   },
   {
    "duration": 7,
    "start_time": "2022-05-13T16:31:43.671Z"
   },
   {
    "duration": 12,
    "start_time": "2022-05-13T16:31:43.680Z"
   },
   {
    "duration": 2,
    "start_time": "2022-05-13T16:31:43.695Z"
   },
   {
    "duration": 12,
    "start_time": "2022-05-13T16:31:43.699Z"
   },
   {
    "duration": 9,
    "start_time": "2022-05-13T16:31:43.712Z"
   },
   {
    "duration": 53,
    "start_time": "2022-05-13T16:31:43.723Z"
   },
   {
    "duration": 8,
    "start_time": "2022-05-13T16:31:43.777Z"
   },
   {
    "duration": 8,
    "start_time": "2022-05-13T16:31:43.787Z"
   },
   {
    "duration": 12,
    "start_time": "2022-05-13T16:31:43.797Z"
   },
   {
    "duration": 11,
    "start_time": "2022-05-13T16:31:43.810Z"
   },
   {
    "duration": 12,
    "start_time": "2022-05-13T16:31:43.823Z"
   },
   {
    "duration": 21,
    "start_time": "2022-05-13T16:31:43.870Z"
   },
   {
    "duration": 23,
    "start_time": "2022-05-13T16:31:43.893Z"
   },
   {
    "duration": 141,
    "start_time": "2022-05-13T16:31:43.918Z"
   },
   {
    "duration": 0,
    "start_time": "2022-05-13T16:31:44.061Z"
   },
   {
    "duration": 0,
    "start_time": "2022-05-13T16:31:44.063Z"
   },
   {
    "duration": 0,
    "start_time": "2022-05-13T16:31:44.071Z"
   },
   {
    "duration": 25,
    "start_time": "2022-05-13T16:32:11.240Z"
   },
   {
    "duration": 1137,
    "start_time": "2022-05-13T16:32:23.416Z"
   },
   {
    "duration": 33,
    "start_time": "2022-05-13T16:32:24.555Z"
   },
   {
    "duration": 21,
    "start_time": "2022-05-13T16:32:24.590Z"
   },
   {
    "duration": 76,
    "start_time": "2022-05-13T16:32:24.614Z"
   },
   {
    "duration": 19,
    "start_time": "2022-05-13T16:32:24.691Z"
   },
   {
    "duration": 11,
    "start_time": "2022-05-13T16:32:24.711Z"
   },
   {
    "duration": 11,
    "start_time": "2022-05-13T16:32:24.723Z"
   },
   {
    "duration": 38,
    "start_time": "2022-05-13T16:32:24.735Z"
   },
   {
    "duration": 13,
    "start_time": "2022-05-13T16:32:24.775Z"
   },
   {
    "duration": 2,
    "start_time": "2022-05-13T16:32:24.790Z"
   },
   {
    "duration": 15,
    "start_time": "2022-05-13T16:32:24.794Z"
   },
   {
    "duration": 17,
    "start_time": "2022-05-13T16:32:24.811Z"
   },
   {
    "duration": 69,
    "start_time": "2022-05-13T16:32:24.829Z"
   },
   {
    "duration": 11,
    "start_time": "2022-05-13T16:32:24.900Z"
   },
   {
    "duration": 11,
    "start_time": "2022-05-13T16:32:24.913Z"
   },
   {
    "duration": 15,
    "start_time": "2022-05-13T16:32:24.926Z"
   },
   {
    "duration": 23,
    "start_time": "2022-05-13T16:32:24.971Z"
   },
   {
    "duration": 22,
    "start_time": "2022-05-13T16:32:24.996Z"
   },
   {
    "duration": 25,
    "start_time": "2022-05-13T16:32:25.020Z"
   },
   {
    "duration": 34,
    "start_time": "2022-05-13T16:32:25.072Z"
   },
   {
    "duration": 33,
    "start_time": "2022-05-13T16:32:25.107Z"
   },
   {
    "duration": 54,
    "start_time": "2022-05-13T16:32:25.142Z"
   },
   {
    "duration": 2798,
    "start_time": "2022-05-13T16:32:25.198Z"
   },
   {
    "duration": 9,
    "start_time": "2022-05-13T16:32:27.998Z"
   },
   {
    "duration": 47,
    "start_time": "2022-05-13T16:33:21.719Z"
   },
   {
    "duration": 37,
    "start_time": "2022-05-13T16:33:30.385Z"
   },
   {
    "duration": 33,
    "start_time": "2022-05-13T16:33:37.752Z"
   },
   {
    "duration": 1695,
    "start_time": "2022-05-13T16:34:00.267Z"
   },
   {
    "duration": 1359,
    "start_time": "2022-05-13T16:36:24.231Z"
   },
   {
    "duration": 1371,
    "start_time": "2022-05-13T16:36:55.374Z"
   },
   {
    "duration": 1403,
    "start_time": "2022-05-13T16:38:23.457Z"
   },
   {
    "duration": 1234,
    "start_time": "2022-05-13T16:38:54.638Z"
   },
   {
    "duration": 37,
    "start_time": "2022-05-13T16:38:55.874Z"
   },
   {
    "duration": 23,
    "start_time": "2022-05-13T16:38:55.913Z"
   },
   {
    "duration": 70,
    "start_time": "2022-05-13T16:38:55.938Z"
   },
   {
    "duration": 21,
    "start_time": "2022-05-13T16:38:56.010Z"
   },
   {
    "duration": 41,
    "start_time": "2022-05-13T16:38:56.033Z"
   },
   {
    "duration": 12,
    "start_time": "2022-05-13T16:38:56.076Z"
   },
   {
    "duration": 10,
    "start_time": "2022-05-13T16:38:56.090Z"
   },
   {
    "duration": 13,
    "start_time": "2022-05-13T16:38:56.102Z"
   },
   {
    "duration": 2,
    "start_time": "2022-05-13T16:38:56.118Z"
   },
   {
    "duration": 50,
    "start_time": "2022-05-13T16:38:56.122Z"
   },
   {
    "duration": 19,
    "start_time": "2022-05-13T16:38:56.173Z"
   },
   {
    "duration": 43,
    "start_time": "2022-05-13T16:38:56.194Z"
   },
   {
    "duration": 36,
    "start_time": "2022-05-13T16:38:56.239Z"
   },
   {
    "duration": 12,
    "start_time": "2022-05-13T16:38:56.277Z"
   },
   {
    "duration": 15,
    "start_time": "2022-05-13T16:38:56.290Z"
   },
   {
    "duration": 20,
    "start_time": "2022-05-13T16:38:56.307Z"
   },
   {
    "duration": 45,
    "start_time": "2022-05-13T16:38:56.329Z"
   },
   {
    "duration": 28,
    "start_time": "2022-05-13T16:38:56.376Z"
   },
   {
    "duration": 33,
    "start_time": "2022-05-13T16:38:56.406Z"
   },
   {
    "duration": 55,
    "start_time": "2022-05-13T16:38:56.441Z"
   },
   {
    "duration": 27,
    "start_time": "2022-05-13T16:38:56.497Z"
   },
   {
    "duration": 2830,
    "start_time": "2022-05-13T16:38:56.526Z"
   },
   {
    "duration": 19,
    "start_time": "2022-05-13T16:38:59.358Z"
   },
   {
    "duration": 40,
    "start_time": "2022-05-13T16:39:34.626Z"
   },
   {
    "duration": 1679,
    "start_time": "2022-05-13T16:39:49.285Z"
   },
   {
    "duration": 1433,
    "start_time": "2022-05-13T16:40:54.695Z"
   },
   {
    "duration": 1247,
    "start_time": "2022-05-13T16:41:04.921Z"
   },
   {
    "duration": 37,
    "start_time": "2022-05-13T16:41:06.170Z"
   },
   {
    "duration": 25,
    "start_time": "2022-05-13T16:41:06.208Z"
   },
   {
    "duration": 1569,
    "start_time": "2022-05-13T16:41:06.236Z"
   },
   {
    "duration": 0,
    "start_time": "2022-05-13T16:41:07.807Z"
   },
   {
    "duration": 0,
    "start_time": "2022-05-13T16:41:07.809Z"
   },
   {
    "duration": 0,
    "start_time": "2022-05-13T16:41:07.810Z"
   },
   {
    "duration": 0,
    "start_time": "2022-05-13T16:41:07.811Z"
   },
   {
    "duration": 0,
    "start_time": "2022-05-13T16:41:07.813Z"
   },
   {
    "duration": 0,
    "start_time": "2022-05-13T16:41:07.815Z"
   },
   {
    "duration": 0,
    "start_time": "2022-05-13T16:41:07.816Z"
   },
   {
    "duration": 0,
    "start_time": "2022-05-13T16:41:07.817Z"
   },
   {
    "duration": 0,
    "start_time": "2022-05-13T16:41:07.818Z"
   },
   {
    "duration": 0,
    "start_time": "2022-05-13T16:41:07.819Z"
   },
   {
    "duration": 0,
    "start_time": "2022-05-13T16:41:07.820Z"
   },
   {
    "duration": 0,
    "start_time": "2022-05-13T16:41:07.821Z"
   },
   {
    "duration": 0,
    "start_time": "2022-05-13T16:41:07.822Z"
   },
   {
    "duration": 0,
    "start_time": "2022-05-13T16:41:07.823Z"
   },
   {
    "duration": 0,
    "start_time": "2022-05-13T16:41:07.824Z"
   },
   {
    "duration": 0,
    "start_time": "2022-05-13T16:41:07.825Z"
   },
   {
    "duration": 0,
    "start_time": "2022-05-13T16:41:07.826Z"
   },
   {
    "duration": 0,
    "start_time": "2022-05-13T16:41:07.827Z"
   },
   {
    "duration": 0,
    "start_time": "2022-05-13T16:41:07.828Z"
   },
   {
    "duration": 0,
    "start_time": "2022-05-13T16:41:07.829Z"
   },
   {
    "duration": 1321,
    "start_time": "2022-05-13T16:43:03.306Z"
   },
   {
    "duration": 1250,
    "start_time": "2022-05-13T16:43:16.098Z"
   },
   {
    "duration": 62,
    "start_time": "2022-05-13T16:43:17.351Z"
   },
   {
    "duration": 34,
    "start_time": "2022-05-13T16:43:17.415Z"
   },
   {
    "duration": 60,
    "start_time": "2022-05-13T16:43:17.472Z"
   },
   {
    "duration": 22,
    "start_time": "2022-05-13T16:43:17.572Z"
   },
   {
    "duration": 12,
    "start_time": "2022-05-13T16:43:17.596Z"
   },
   {
    "duration": 12,
    "start_time": "2022-05-13T16:43:17.610Z"
   },
   {
    "duration": 52,
    "start_time": "2022-05-13T16:43:17.624Z"
   },
   {
    "duration": 15,
    "start_time": "2022-05-13T16:43:17.678Z"
   },
   {
    "duration": 3,
    "start_time": "2022-05-13T16:43:17.695Z"
   },
   {
    "duration": 19,
    "start_time": "2022-05-13T16:43:17.699Z"
   },
   {
    "duration": 19,
    "start_time": "2022-05-13T16:43:17.720Z"
   },
   {
    "duration": 42,
    "start_time": "2022-05-13T16:43:17.771Z"
   },
   {
    "duration": 12,
    "start_time": "2022-05-13T16:43:17.815Z"
   },
   {
    "duration": 11,
    "start_time": "2022-05-13T16:43:17.828Z"
   },
   {
    "duration": 49,
    "start_time": "2022-05-13T16:43:17.841Z"
   },
   {
    "duration": 35,
    "start_time": "2022-05-13T16:43:17.892Z"
   },
   {
    "duration": 50,
    "start_time": "2022-05-13T16:43:17.929Z"
   },
   {
    "duration": 38,
    "start_time": "2022-05-13T16:43:17.981Z"
   },
   {
    "duration": 68,
    "start_time": "2022-05-13T16:43:18.022Z"
   },
   {
    "duration": 53,
    "start_time": "2022-05-13T16:43:18.092Z"
   },
   {
    "duration": 61,
    "start_time": "2022-05-13T16:43:18.147Z"
   },
   {
    "duration": 3190,
    "start_time": "2022-05-13T16:43:18.210Z"
   },
   {
    "duration": 8,
    "start_time": "2022-05-13T16:43:21.402Z"
   },
   {
    "duration": 34,
    "start_time": "2022-05-13T16:43:33.219Z"
   },
   {
    "duration": 39,
    "start_time": "2022-05-13T16:45:34.762Z"
   },
   {
    "duration": 1414,
    "start_time": "2022-05-13T16:45:41.155Z"
   },
   {
    "duration": 1172,
    "start_time": "2022-05-13T16:46:18.987Z"
   },
   {
    "duration": 38,
    "start_time": "2022-05-13T16:46:20.161Z"
   },
   {
    "duration": 22,
    "start_time": "2022-05-13T16:46:20.200Z"
   },
   {
    "duration": 1408,
    "start_time": "2022-05-13T16:46:20.224Z"
   },
   {
    "duration": 0,
    "start_time": "2022-05-13T16:46:21.634Z"
   },
   {
    "duration": 0,
    "start_time": "2022-05-13T16:46:21.635Z"
   },
   {
    "duration": 0,
    "start_time": "2022-05-13T16:46:21.636Z"
   },
   {
    "duration": 0,
    "start_time": "2022-05-13T16:46:21.637Z"
   },
   {
    "duration": 0,
    "start_time": "2022-05-13T16:46:21.638Z"
   },
   {
    "duration": 0,
    "start_time": "2022-05-13T16:46:21.639Z"
   },
   {
    "duration": 0,
    "start_time": "2022-05-13T16:46:21.640Z"
   },
   {
    "duration": 0,
    "start_time": "2022-05-13T16:46:21.641Z"
   },
   {
    "duration": 0,
    "start_time": "2022-05-13T16:46:21.642Z"
   },
   {
    "duration": 0,
    "start_time": "2022-05-13T16:46:21.643Z"
   },
   {
    "duration": 0,
    "start_time": "2022-05-13T16:46:21.645Z"
   },
   {
    "duration": 0,
    "start_time": "2022-05-13T16:46:21.646Z"
   },
   {
    "duration": 0,
    "start_time": "2022-05-13T16:46:21.647Z"
   },
   {
    "duration": 0,
    "start_time": "2022-05-13T16:46:21.648Z"
   },
   {
    "duration": 0,
    "start_time": "2022-05-13T16:46:21.649Z"
   },
   {
    "duration": 0,
    "start_time": "2022-05-13T16:46:21.650Z"
   },
   {
    "duration": 0,
    "start_time": "2022-05-13T16:46:21.651Z"
   },
   {
    "duration": 0,
    "start_time": "2022-05-13T16:46:21.652Z"
   },
   {
    "duration": 0,
    "start_time": "2022-05-13T16:46:21.653Z"
   },
   {
    "duration": 0,
    "start_time": "2022-05-13T16:46:21.654Z"
   },
   {
    "duration": 1331,
    "start_time": "2022-05-13T16:47:26.491Z"
   },
   {
    "duration": 1663,
    "start_time": "2022-05-13T16:48:17.622Z"
   },
   {
    "duration": 1298,
    "start_time": "2022-05-13T16:48:52.745Z"
   },
   {
    "duration": 1278,
    "start_time": "2022-05-13T16:48:55.278Z"
   },
   {
    "duration": 1401,
    "start_time": "2022-05-13T16:49:58.815Z"
   },
   {
    "duration": 1236,
    "start_time": "2022-05-13T16:50:14.539Z"
   },
   {
    "duration": 34,
    "start_time": "2022-05-13T16:50:15.777Z"
   },
   {
    "duration": 23,
    "start_time": "2022-05-13T16:50:15.812Z"
   },
   {
    "duration": 73,
    "start_time": "2022-05-13T16:50:15.837Z"
   },
   {
    "duration": 19,
    "start_time": "2022-05-13T16:50:15.911Z"
   },
   {
    "duration": 41,
    "start_time": "2022-05-13T16:50:15.931Z"
   },
   {
    "duration": 11,
    "start_time": "2022-05-13T16:50:15.973Z"
   },
   {
    "duration": 10,
    "start_time": "2022-05-13T16:50:15.986Z"
   },
   {
    "duration": 14,
    "start_time": "2022-05-13T16:50:15.997Z"
   },
   {
    "duration": 3,
    "start_time": "2022-05-13T16:50:16.013Z"
   },
   {
    "duration": 22,
    "start_time": "2022-05-13T16:50:16.017Z"
   },
   {
    "duration": 47,
    "start_time": "2022-05-13T16:50:16.040Z"
   },
   {
    "duration": 46,
    "start_time": "2022-05-13T16:50:16.088Z"
   },
   {
    "duration": 12,
    "start_time": "2022-05-13T16:50:16.136Z"
   },
   {
    "duration": 31,
    "start_time": "2022-05-13T16:50:16.150Z"
   },
   {
    "duration": 16,
    "start_time": "2022-05-13T16:50:16.182Z"
   },
   {
    "duration": 21,
    "start_time": "2022-05-13T16:50:16.200Z"
   },
   {
    "duration": 50,
    "start_time": "2022-05-13T16:50:16.223Z"
   },
   {
    "duration": 24,
    "start_time": "2022-05-13T16:50:16.275Z"
   },
   {
    "duration": 33,
    "start_time": "2022-05-13T16:50:16.301Z"
   },
   {
    "duration": 63,
    "start_time": "2022-05-13T16:50:16.336Z"
   },
   {
    "duration": 29,
    "start_time": "2022-05-13T16:50:16.401Z"
   },
   {
    "duration": 2832,
    "start_time": "2022-05-13T16:50:16.432Z"
   },
   {
    "duration": 10,
    "start_time": "2022-05-13T16:50:19.266Z"
   },
   {
    "duration": 40,
    "start_time": "2022-05-13T16:51:19.796Z"
   },
   {
    "duration": 50,
    "start_time": "2022-05-13T16:51:24.744Z"
   },
   {
    "duration": 51,
    "start_time": "2022-05-13T16:51:53.447Z"
   },
   {
    "duration": 50,
    "start_time": "2022-05-13T16:52:07.845Z"
   },
   {
    "duration": 46,
    "start_time": "2022-05-13T16:52:27.113Z"
   },
   {
    "duration": 1676,
    "start_time": "2022-05-13T16:52:45.051Z"
   },
   {
    "duration": 36,
    "start_time": "2022-05-13T16:52:47.505Z"
   },
   {
    "duration": 47,
    "start_time": "2022-05-13T16:52:55.059Z"
   },
   {
    "duration": 58,
    "start_time": "2022-05-13T16:53:47.793Z"
   },
   {
    "duration": 34,
    "start_time": "2022-05-13T16:54:50.663Z"
   },
   {
    "duration": 1395,
    "start_time": "2022-05-13T16:55:51.340Z"
   },
   {
    "duration": 1405,
    "start_time": "2022-05-13T16:57:29.713Z"
   },
   {
    "duration": 1364,
    "start_time": "2022-05-13T16:58:09.548Z"
   },
   {
    "duration": 1330,
    "start_time": "2022-05-13T16:58:40.395Z"
   },
   {
    "duration": 1323,
    "start_time": "2022-05-13T17:01:58.711Z"
   },
   {
    "duration": 1356,
    "start_time": "2022-05-13T17:02:19.669Z"
   },
   {
    "duration": 1175,
    "start_time": "2022-05-13T17:02:50.833Z"
   },
   {
    "duration": 34,
    "start_time": "2022-05-13T17:02:52.010Z"
   },
   {
    "duration": 44,
    "start_time": "2022-05-13T17:02:52.046Z"
   },
   {
    "duration": 1607,
    "start_time": "2022-05-13T17:02:52.092Z"
   },
   {
    "duration": 0,
    "start_time": "2022-05-13T17:02:53.701Z"
   },
   {
    "duration": 0,
    "start_time": "2022-05-13T17:02:53.703Z"
   },
   {
    "duration": 0,
    "start_time": "2022-05-13T17:02:53.704Z"
   },
   {
    "duration": 0,
    "start_time": "2022-05-13T17:02:53.705Z"
   },
   {
    "duration": 0,
    "start_time": "2022-05-13T17:02:53.706Z"
   },
   {
    "duration": 0,
    "start_time": "2022-05-13T17:02:53.707Z"
   },
   {
    "duration": 0,
    "start_time": "2022-05-13T17:02:53.708Z"
   },
   {
    "duration": 0,
    "start_time": "2022-05-13T17:02:53.709Z"
   },
   {
    "duration": 0,
    "start_time": "2022-05-13T17:02:53.710Z"
   },
   {
    "duration": 0,
    "start_time": "2022-05-13T17:02:53.711Z"
   },
   {
    "duration": 0,
    "start_time": "2022-05-13T17:02:53.712Z"
   },
   {
    "duration": 0,
    "start_time": "2022-05-13T17:02:53.713Z"
   },
   {
    "duration": 0,
    "start_time": "2022-05-13T17:02:53.714Z"
   },
   {
    "duration": 1,
    "start_time": "2022-05-13T17:02:53.715Z"
   },
   {
    "duration": 0,
    "start_time": "2022-05-13T17:02:53.717Z"
   },
   {
    "duration": 0,
    "start_time": "2022-05-13T17:02:53.717Z"
   },
   {
    "duration": 0,
    "start_time": "2022-05-13T17:02:53.718Z"
   },
   {
    "duration": 0,
    "start_time": "2022-05-13T17:02:53.719Z"
   },
   {
    "duration": 0,
    "start_time": "2022-05-13T17:02:53.720Z"
   },
   {
    "duration": 0,
    "start_time": "2022-05-13T17:02:53.721Z"
   },
   {
    "duration": 58,
    "start_time": "2022-05-19T16:23:08.761Z"
   }
  ],
  "kernelspec": {
   "display_name": "Python 3 (ipykernel)",
   "language": "python",
   "name": "python3"
  },
  "language_info": {
   "codemirror_mode": {
    "name": "ipython",
    "version": 3
   },
   "file_extension": ".py",
   "mimetype": "text/x-python",
   "name": "python",
   "nbconvert_exporter": "python",
   "pygments_lexer": "ipython3",
   "version": "3.9.5"
  },
  "toc": {
   "base_numbering": 1,
   "nav_menu": {},
   "number_sections": true,
   "sideBar": true,
   "skip_h1_title": true,
   "title_cell": "Table of Contents",
   "title_sidebar": "Contents",
   "toc_cell": false,
   "toc_position": {},
   "toc_section_display": true,
   "toc_window_display": false
  }
 },
 "nbformat": 4,
 "nbformat_minor": 5
}
