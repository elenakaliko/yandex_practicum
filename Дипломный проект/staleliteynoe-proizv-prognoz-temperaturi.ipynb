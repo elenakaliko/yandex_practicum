{
 "cells": [
  {
   "cell_type": "markdown",
   "metadata": {},
   "source": [
    "# Дипломный проект: создание модели предсказания температуры на сталелитейном предприятии\n",
    "Чтобы оптимизировать производственные расходы, металлургический комбинат ООО «Так закаляем сталь» решил уменьшить потребление электроэнергии на этапе обработки стали. <br>\n",
    "Наша задача: построить модель, которая предскажет температуру стали."
   ]
  },
  {
   "cell_type": "markdown",
   "metadata": {},
   "source": [
    "## Описание данных\n",
    "\n",
    "Данные состоят из файлов, полученных из разных источников:\n",
    "\n",
    "- `data_arc.csv` — данные об электродах;\n",
    "- `data_bulk.csv` — данные о подаче сыпучих материалов (объём);\n",
    "- `data_bulk_time.csv` *—* данные о подаче сыпучих материалов (время);\n",
    "- `data_gas.csv` — данные о продувке сплава газом;\n",
    "- `data_temp.csv` — результаты измерения температуры;\n",
    "- `data_wire.csv` — данные о проволочных материалах (объём);\n",
    "- `data_wire_time.csv` — данные о проволочных материалах (время).\n",
    "\n",
    "Во всех файлах столбец `key` содержит номер партии. В файлах может быть несколько строк с одинаковым значением `key`: они соответствуют разным итерациям обработки.\n",
    "\n",
    "## Описание этапа обработки\n",
    "\n",
    "Сталь обрабатывают в металлическом ковше вместимостью около 100 тонн. Чтобы ковш выдерживал высокие температуры, изнутри его облицовывают огнеупорным кирпичом. Расплавленную сталь заливают в ковш и подогревают до нужной температуры графитовыми электродами. Они установлены в крышке ковша. \n",
    "\n",
    "Из сплава выводится сера (десульфурация), добавлением примесей корректируется химический состав и отбираются пробы. Сталь легируют — изменяют её состав — подавая куски сплава из бункера для сыпучих материалов или проволоку через специальный трайб-аппарат (англ. tribe, «масса»).\n",
    "\n",
    "Перед тем как первый раз ввести легирующие добавки, измеряют температуру стали и производят её химический анализ. Потом температуру на несколько минут повышают, добавляют легирующие материалы и продувают сплав инертным газом. Затем его перемешивают и снова проводят измерения. Такой цикл повторяется до достижения целевого химического состава и оптимальной температуры плавки.\n",
    "\n",
    "Тогда расплавленная сталь отправляется на доводку металла или поступает в машину непрерывной разливки. Оттуда готовый продукт выходит в виде заготовок-слябов (англ. *slab*, «плита»)."
   ]
  },
  {
   "cell_type": "markdown",
   "metadata": {},
   "source": [
    "## План работы\n",
    "1. Преданализ и обработка данных - устранение аномальных значений, дубликатов, пропусков.\n",
    "Заполнение пропусков нулями там, где это возможно.\n",
    "2. Feature engineering в таблицах, где одной партии соответствует несколько строк: data_arc, data_temp. \n",
    "3. Объединение таблиц в один общий массив данных по номеру партии. Оставляем только те партии, где есть все данные.\n",
    "4. Feature engineering данных на базе полного датасета. Проверка признаков на внутреннюю корреляцию и элиминирование тех признаков, которые имеют этот показатель выше 0.5.\n",
    "5. Выделение 25% данных для тестовой выборки.\n",
    "6. Подготовка признаков: разделение на features & target, масштабирование признаков при помощи scaling.\n",
    "7. Обучение регрессионных моделей: Logistic regression, Decision Tree Regressor, SGDRegressor, CatBoost, Gradient Boosting методом кросс-валидации, ключевая метрика - МАЕ. Подбор параметров моделей.\n",
    "8. Сравнение показателей по разным моделям и выбор лучшей модели.\n",
    "9. Тестирование лучшей модели на тестовой выборке и расчет финального значения метрики. <br> <br>\n",
    "Вопросов к заданию нет."
   ]
  },
  {
   "cell_type": "markdown",
   "metadata": {},
   "source": [
    "## Преданализ и предобработка данных"
   ]
  },
  {
   "cell_type": "markdown",
   "metadata": {},
   "source": [
    "### Обзор данных"
   ]
  },
  {
   "cell_type": "code",
   "execution_count": 1,
   "metadata": {},
   "outputs": [],
   "source": [
    "import pandas as pd\n",
    "import matplotlib.pyplot as plt\n",
    "import seaborn as sns\n",
    "import numpy as np\n",
    "import datetime as dt\n",
    "\n",
    "from sklearn.preprocessing import  StandardScaler\n",
    "from sklearn.model_selection import train_test_split\n",
    "from sklearn.tree import DecisionTreeRegressor\n",
    "from sklearn.linear_model import LinearRegression, SGDRegressor\n",
    "from sklearn.dummy import DummyRegressor\n",
    "from catboost import CatBoostRegressor\n",
    "from sklearn.metrics import mean_absolute_error\n",
    "from sklearn.model_selection import GridSearchCV, cross_val_score\n",
    "\n",
    "import warnings\n",
    "warnings.filterwarnings(\"ignore\")\n",
    "\n",
    "rs = 13022023"
   ]
  },
  {
   "cell_type": "code",
   "execution_count": 2,
   "metadata": {},
   "outputs": [],
   "source": [
    "#импорт данных в переменные\n",
    "data_arc = pd.read_csv('/datasets/final_steel/data_arc.csv')\n",
    "data_bulk = pd.read_csv('/datasets/final_steel/data_bulk.csv')\n",
    "data_bulk_time = pd.read_csv('/datasets/final_steel/data_bulk_time.csv')\n",
    "data_gas = pd.read_csv('/datasets/final_steel/data_gas.csv')\n",
    "data_temp = pd.read_csv('/datasets/final_steel/data_temp.csv')\n",
    "data_wire = pd.read_csv('/datasets/final_steel/data_wire.csv')\n",
    "data_wire_time = pd.read_csv('/datasets/final_steel/data_wire_time.csv')"
   ]
  },
  {
   "cell_type": "code",
   "execution_count": 3,
   "metadata": {},
   "outputs": [
    {
     "data": {
      "text/html": [
       "<div>\n",
       "<style scoped>\n",
       "    .dataframe tbody tr th:only-of-type {\n",
       "        vertical-align: middle;\n",
       "    }\n",
       "\n",
       "    .dataframe tbody tr th {\n",
       "        vertical-align: top;\n",
       "    }\n",
       "\n",
       "    .dataframe thead th {\n",
       "        text-align: right;\n",
       "    }\n",
       "</style>\n",
       "<table border=\"1\" class=\"dataframe\">\n",
       "  <thead>\n",
       "    <tr style=\"text-align: right;\">\n",
       "      <th></th>\n",
       "      <th>key</th>\n",
       "      <th>Начало нагрева дугой</th>\n",
       "      <th>Конец нагрева дугой</th>\n",
       "      <th>Активная мощность</th>\n",
       "      <th>Реактивная мощность</th>\n",
       "    </tr>\n",
       "  </thead>\n",
       "  <tbody>\n",
       "    <tr>\n",
       "      <th>14866</th>\n",
       "      <td>3240</td>\n",
       "      <td>2019-09-01 02:35:24</td>\n",
       "      <td>2019-09-01 02:37:25</td>\n",
       "      <td>0.411601</td>\n",
       "      <td>0.274390</td>\n",
       "    </tr>\n",
       "    <tr>\n",
       "      <th>14867</th>\n",
       "      <td>3240</td>\n",
       "      <td>2019-09-01 02:40:55</td>\n",
       "      <td>2019-09-01 02:43:28</td>\n",
       "      <td>0.521811</td>\n",
       "      <td>0.378517</td>\n",
       "    </tr>\n",
       "    <tr>\n",
       "      <th>14868</th>\n",
       "      <td>3240</td>\n",
       "      <td>2019-09-01 03:08:38</td>\n",
       "      <td>2019-09-01 03:11:08</td>\n",
       "      <td>0.518065</td>\n",
       "      <td>0.528780</td>\n",
       "    </tr>\n",
       "    <tr>\n",
       "      <th>14869</th>\n",
       "      <td>3240</td>\n",
       "      <td>2019-09-01 03:12:34</td>\n",
       "      <td>2019-09-01 03:17:08</td>\n",
       "      <td>0.983723</td>\n",
       "      <td>0.884585</td>\n",
       "    </tr>\n",
       "    <tr>\n",
       "      <th>14870</th>\n",
       "      <td>3240</td>\n",
       "      <td>2019-09-01 03:31:47</td>\n",
       "      <td>2019-09-01 03:34:08</td>\n",
       "      <td>0.548882</td>\n",
       "      <td>0.416994</td>\n",
       "    </tr>\n",
       "    <tr>\n",
       "      <th>14871</th>\n",
       "      <td>3241</td>\n",
       "      <td>2019-09-01 03:58:58</td>\n",
       "      <td>2019-09-01 04:01:35</td>\n",
       "      <td>0.533670</td>\n",
       "      <td>0.354439</td>\n",
       "    </tr>\n",
       "    <tr>\n",
       "      <th>14872</th>\n",
       "      <td>3241</td>\n",
       "      <td>2019-09-01 04:05:04</td>\n",
       "      <td>2019-09-01 04:08:04</td>\n",
       "      <td>0.676604</td>\n",
       "      <td>0.523631</td>\n",
       "    </tr>\n",
       "    <tr>\n",
       "      <th>14873</th>\n",
       "      <td>3241</td>\n",
       "      <td>2019-09-01 04:16:41</td>\n",
       "      <td>2019-09-01 04:19:45</td>\n",
       "      <td>0.733899</td>\n",
       "      <td>0.475654</td>\n",
       "    </tr>\n",
       "    <tr>\n",
       "      <th>14874</th>\n",
       "      <td>3241</td>\n",
       "      <td>2019-09-01 04:31:51</td>\n",
       "      <td>2019-09-01 04:32:48</td>\n",
       "      <td>0.220694</td>\n",
       "      <td>0.145768</td>\n",
       "    </tr>\n",
       "    <tr>\n",
       "      <th>14875</th>\n",
       "      <td>3241</td>\n",
       "      <td>2019-09-01 04:34:47</td>\n",
       "      <td>2019-09-01 04:36:08</td>\n",
       "      <td>0.306580</td>\n",
       "      <td>0.196708</td>\n",
       "    </tr>\n",
       "  </tbody>\n",
       "</table>\n",
       "</div>"
      ],
      "text/plain": [
       "        key Начало нагрева дугой  Конец нагрева дугой  Активная мощность  \\\n",
       "14866  3240  2019-09-01 02:35:24  2019-09-01 02:37:25           0.411601   \n",
       "14867  3240  2019-09-01 02:40:55  2019-09-01 02:43:28           0.521811   \n",
       "14868  3240  2019-09-01 03:08:38  2019-09-01 03:11:08           0.518065   \n",
       "14869  3240  2019-09-01 03:12:34  2019-09-01 03:17:08           0.983723   \n",
       "14870  3240  2019-09-01 03:31:47  2019-09-01 03:34:08           0.548882   \n",
       "14871  3241  2019-09-01 03:58:58  2019-09-01 04:01:35           0.533670   \n",
       "14872  3241  2019-09-01 04:05:04  2019-09-01 04:08:04           0.676604   \n",
       "14873  3241  2019-09-01 04:16:41  2019-09-01 04:19:45           0.733899   \n",
       "14874  3241  2019-09-01 04:31:51  2019-09-01 04:32:48           0.220694   \n",
       "14875  3241  2019-09-01 04:34:47  2019-09-01 04:36:08           0.306580   \n",
       "\n",
       "       Реактивная мощность  \n",
       "14866             0.274390  \n",
       "14867             0.378517  \n",
       "14868             0.528780  \n",
       "14869             0.884585  \n",
       "14870             0.416994  \n",
       "14871             0.354439  \n",
       "14872             0.523631  \n",
       "14873             0.475654  \n",
       "14874             0.145768  \n",
       "14875             0.196708  "
      ]
     },
     "metadata": {},
     "output_type": "display_data"
    },
    {
     "data": {
      "text/html": [
       "<div>\n",
       "<style scoped>\n",
       "    .dataframe tbody tr th:only-of-type {\n",
       "        vertical-align: middle;\n",
       "    }\n",
       "\n",
       "    .dataframe tbody tr th {\n",
       "        vertical-align: top;\n",
       "    }\n",
       "\n",
       "    .dataframe thead th {\n",
       "        text-align: right;\n",
       "    }\n",
       "</style>\n",
       "<table border=\"1\" class=\"dataframe\">\n",
       "  <thead>\n",
       "    <tr style=\"text-align: right;\">\n",
       "      <th></th>\n",
       "      <th>key</th>\n",
       "      <th>Активная мощность</th>\n",
       "      <th>Реактивная мощность</th>\n",
       "    </tr>\n",
       "  </thead>\n",
       "  <tbody>\n",
       "    <tr>\n",
       "      <th>count</th>\n",
       "      <td>14876.000000</td>\n",
       "      <td>14876.000000</td>\n",
       "      <td>14876.000000</td>\n",
       "    </tr>\n",
       "    <tr>\n",
       "      <th>mean</th>\n",
       "      <td>1615.220422</td>\n",
       "      <td>0.670441</td>\n",
       "      <td>0.452592</td>\n",
       "    </tr>\n",
       "    <tr>\n",
       "      <th>std</th>\n",
       "      <td>934.571502</td>\n",
       "      <td>0.408159</td>\n",
       "      <td>5.878702</td>\n",
       "    </tr>\n",
       "    <tr>\n",
       "      <th>min</th>\n",
       "      <td>1.000000</td>\n",
       "      <td>0.030002</td>\n",
       "      <td>-715.504924</td>\n",
       "    </tr>\n",
       "    <tr>\n",
       "      <th>25%</th>\n",
       "      <td>806.000000</td>\n",
       "      <td>0.395297</td>\n",
       "      <td>0.290991</td>\n",
       "    </tr>\n",
       "    <tr>\n",
       "      <th>50%</th>\n",
       "      <td>1617.000000</td>\n",
       "      <td>0.555517</td>\n",
       "      <td>0.415962</td>\n",
       "    </tr>\n",
       "    <tr>\n",
       "      <th>75%</th>\n",
       "      <td>2429.000000</td>\n",
       "      <td>0.857034</td>\n",
       "      <td>0.637371</td>\n",
       "    </tr>\n",
       "    <tr>\n",
       "      <th>max</th>\n",
       "      <td>3241.000000</td>\n",
       "      <td>3.731596</td>\n",
       "      <td>2.676388</td>\n",
       "    </tr>\n",
       "  </tbody>\n",
       "</table>\n",
       "</div>"
      ],
      "text/plain": [
       "                key  Активная мощность  Реактивная мощность\n",
       "count  14876.000000       14876.000000         14876.000000\n",
       "mean    1615.220422           0.670441             0.452592\n",
       "std      934.571502           0.408159             5.878702\n",
       "min        1.000000           0.030002          -715.504924\n",
       "25%      806.000000           0.395297             0.290991\n",
       "50%     1617.000000           0.555517             0.415962\n",
       "75%     2429.000000           0.857034             0.637371\n",
       "max     3241.000000           3.731596             2.676388"
      ]
     },
     "execution_count": 3,
     "metadata": {},
     "output_type": "execute_result"
    }
   ],
   "source": [
    "# данные по электродам\n",
    "display(data_arc.tail(10))\n",
    "data_arc.describe()"
   ]
  },
  {
   "cell_type": "markdown",
   "metadata": {},
   "source": [
    "В датасете 14876 объектов, 3241 партия. Присутствуют выбросы в столбце Реактивная мощность."
   ]
  },
  {
   "cell_type": "code",
   "execution_count": 4,
   "metadata": {},
   "outputs": [
    {
     "data": {
      "text/html": [
       "<div>\n",
       "<style scoped>\n",
       "    .dataframe tbody tr th:only-of-type {\n",
       "        vertical-align: middle;\n",
       "    }\n",
       "\n",
       "    .dataframe tbody tr th {\n",
       "        vertical-align: top;\n",
       "    }\n",
       "\n",
       "    .dataframe thead th {\n",
       "        text-align: right;\n",
       "    }\n",
       "</style>\n",
       "<table border=\"1\" class=\"dataframe\">\n",
       "  <thead>\n",
       "    <tr style=\"text-align: right;\">\n",
       "      <th></th>\n",
       "      <th>key</th>\n",
       "      <th>Bulk 1</th>\n",
       "      <th>Bulk 2</th>\n",
       "      <th>Bulk 3</th>\n",
       "      <th>Bulk 4</th>\n",
       "      <th>Bulk 5</th>\n",
       "      <th>Bulk 6</th>\n",
       "      <th>Bulk 7</th>\n",
       "      <th>Bulk 8</th>\n",
       "      <th>Bulk 9</th>\n",
       "      <th>Bulk 10</th>\n",
       "      <th>Bulk 11</th>\n",
       "      <th>Bulk 12</th>\n",
       "      <th>Bulk 13</th>\n",
       "      <th>Bulk 14</th>\n",
       "      <th>Bulk 15</th>\n",
       "    </tr>\n",
       "  </thead>\n",
       "  <tbody>\n",
       "    <tr>\n",
       "      <th>3119</th>\n",
       "      <td>3232</td>\n",
       "      <td>NaN</td>\n",
       "      <td>NaN</td>\n",
       "      <td>22.0</td>\n",
       "      <td>NaN</td>\n",
       "      <td>NaN</td>\n",
       "      <td>NaN</td>\n",
       "      <td>NaN</td>\n",
       "      <td>NaN</td>\n",
       "      <td>NaN</td>\n",
       "      <td>NaN</td>\n",
       "      <td>NaN</td>\n",
       "      <td>252.0</td>\n",
       "      <td>NaN</td>\n",
       "      <td>92.0</td>\n",
       "      <td>204.0</td>\n",
       "    </tr>\n",
       "    <tr>\n",
       "      <th>3120</th>\n",
       "      <td>3233</td>\n",
       "      <td>NaN</td>\n",
       "      <td>NaN</td>\n",
       "      <td>NaN</td>\n",
       "      <td>NaN</td>\n",
       "      <td>NaN</td>\n",
       "      <td>NaN</td>\n",
       "      <td>NaN</td>\n",
       "      <td>NaN</td>\n",
       "      <td>NaN</td>\n",
       "      <td>NaN</td>\n",
       "      <td>NaN</td>\n",
       "      <td>254.0</td>\n",
       "      <td>NaN</td>\n",
       "      <td>114.0</td>\n",
       "      <td>204.0</td>\n",
       "    </tr>\n",
       "    <tr>\n",
       "      <th>3121</th>\n",
       "      <td>3234</td>\n",
       "      <td>NaN</td>\n",
       "      <td>NaN</td>\n",
       "      <td>NaN</td>\n",
       "      <td>NaN</td>\n",
       "      <td>NaN</td>\n",
       "      <td>NaN</td>\n",
       "      <td>NaN</td>\n",
       "      <td>NaN</td>\n",
       "      <td>NaN</td>\n",
       "      <td>NaN</td>\n",
       "      <td>NaN</td>\n",
       "      <td>NaN</td>\n",
       "      <td>NaN</td>\n",
       "      <td>262.0</td>\n",
       "      <td>204.0</td>\n",
       "    </tr>\n",
       "    <tr>\n",
       "      <th>3122</th>\n",
       "      <td>3235</td>\n",
       "      <td>NaN</td>\n",
       "      <td>NaN</td>\n",
       "      <td>NaN</td>\n",
       "      <td>NaN</td>\n",
       "      <td>NaN</td>\n",
       "      <td>NaN</td>\n",
       "      <td>NaN</td>\n",
       "      <td>NaN</td>\n",
       "      <td>NaN</td>\n",
       "      <td>NaN</td>\n",
       "      <td>NaN</td>\n",
       "      <td>204.0</td>\n",
       "      <td>NaN</td>\n",
       "      <td>118.0</td>\n",
       "      <td>206.0</td>\n",
       "    </tr>\n",
       "    <tr>\n",
       "      <th>3123</th>\n",
       "      <td>3236</td>\n",
       "      <td>NaN</td>\n",
       "      <td>NaN</td>\n",
       "      <td>42.0</td>\n",
       "      <td>NaN</td>\n",
       "      <td>NaN</td>\n",
       "      <td>NaN</td>\n",
       "      <td>NaN</td>\n",
       "      <td>NaN</td>\n",
       "      <td>NaN</td>\n",
       "      <td>NaN</td>\n",
       "      <td>NaN</td>\n",
       "      <td>258.0</td>\n",
       "      <td>NaN</td>\n",
       "      <td>132.0</td>\n",
       "      <td>208.0</td>\n",
       "    </tr>\n",
       "    <tr>\n",
       "      <th>3124</th>\n",
       "      <td>3237</td>\n",
       "      <td>NaN</td>\n",
       "      <td>NaN</td>\n",
       "      <td>170.0</td>\n",
       "      <td>NaN</td>\n",
       "      <td>NaN</td>\n",
       "      <td>NaN</td>\n",
       "      <td>NaN</td>\n",
       "      <td>NaN</td>\n",
       "      <td>NaN</td>\n",
       "      <td>NaN</td>\n",
       "      <td>NaN</td>\n",
       "      <td>252.0</td>\n",
       "      <td>NaN</td>\n",
       "      <td>130.0</td>\n",
       "      <td>206.0</td>\n",
       "    </tr>\n",
       "    <tr>\n",
       "      <th>3125</th>\n",
       "      <td>3238</td>\n",
       "      <td>NaN</td>\n",
       "      <td>NaN</td>\n",
       "      <td>126.0</td>\n",
       "      <td>NaN</td>\n",
       "      <td>NaN</td>\n",
       "      <td>NaN</td>\n",
       "      <td>NaN</td>\n",
       "      <td>NaN</td>\n",
       "      <td>NaN</td>\n",
       "      <td>NaN</td>\n",
       "      <td>NaN</td>\n",
       "      <td>254.0</td>\n",
       "      <td>NaN</td>\n",
       "      <td>108.0</td>\n",
       "      <td>106.0</td>\n",
       "    </tr>\n",
       "    <tr>\n",
       "      <th>3126</th>\n",
       "      <td>3239</td>\n",
       "      <td>NaN</td>\n",
       "      <td>NaN</td>\n",
       "      <td>NaN</td>\n",
       "      <td>NaN</td>\n",
       "      <td>NaN</td>\n",
       "      <td>114.0</td>\n",
       "      <td>NaN</td>\n",
       "      <td>NaN</td>\n",
       "      <td>NaN</td>\n",
       "      <td>NaN</td>\n",
       "      <td>NaN</td>\n",
       "      <td>158.0</td>\n",
       "      <td>NaN</td>\n",
       "      <td>270.0</td>\n",
       "      <td>88.0</td>\n",
       "    </tr>\n",
       "    <tr>\n",
       "      <th>3127</th>\n",
       "      <td>3240</td>\n",
       "      <td>NaN</td>\n",
       "      <td>NaN</td>\n",
       "      <td>NaN</td>\n",
       "      <td>NaN</td>\n",
       "      <td>NaN</td>\n",
       "      <td>26.0</td>\n",
       "      <td>NaN</td>\n",
       "      <td>NaN</td>\n",
       "      <td>NaN</td>\n",
       "      <td>NaN</td>\n",
       "      <td>NaN</td>\n",
       "      <td>NaN</td>\n",
       "      <td>NaN</td>\n",
       "      <td>192.0</td>\n",
       "      <td>54.0</td>\n",
       "    </tr>\n",
       "    <tr>\n",
       "      <th>3128</th>\n",
       "      <td>3241</td>\n",
       "      <td>NaN</td>\n",
       "      <td>NaN</td>\n",
       "      <td>NaN</td>\n",
       "      <td>NaN</td>\n",
       "      <td>NaN</td>\n",
       "      <td>NaN</td>\n",
       "      <td>NaN</td>\n",
       "      <td>NaN</td>\n",
       "      <td>NaN</td>\n",
       "      <td>NaN</td>\n",
       "      <td>NaN</td>\n",
       "      <td>NaN</td>\n",
       "      <td>NaN</td>\n",
       "      <td>180.0</td>\n",
       "      <td>52.0</td>\n",
       "    </tr>\n",
       "  </tbody>\n",
       "</table>\n",
       "</div>"
      ],
      "text/plain": [
       "       key  Bulk 1  Bulk 2  Bulk 3  Bulk 4  Bulk 5  Bulk 6  Bulk 7  Bulk 8  \\\n",
       "3119  3232     NaN     NaN    22.0     NaN     NaN     NaN     NaN     NaN   \n",
       "3120  3233     NaN     NaN     NaN     NaN     NaN     NaN     NaN     NaN   \n",
       "3121  3234     NaN     NaN     NaN     NaN     NaN     NaN     NaN     NaN   \n",
       "3122  3235     NaN     NaN     NaN     NaN     NaN     NaN     NaN     NaN   \n",
       "3123  3236     NaN     NaN    42.0     NaN     NaN     NaN     NaN     NaN   \n",
       "3124  3237     NaN     NaN   170.0     NaN     NaN     NaN     NaN     NaN   \n",
       "3125  3238     NaN     NaN   126.0     NaN     NaN     NaN     NaN     NaN   \n",
       "3126  3239     NaN     NaN     NaN     NaN     NaN   114.0     NaN     NaN   \n",
       "3127  3240     NaN     NaN     NaN     NaN     NaN    26.0     NaN     NaN   \n",
       "3128  3241     NaN     NaN     NaN     NaN     NaN     NaN     NaN     NaN   \n",
       "\n",
       "      Bulk 9  Bulk 10  Bulk 11  Bulk 12  Bulk 13  Bulk 14  Bulk 15  \n",
       "3119     NaN      NaN      NaN    252.0      NaN     92.0    204.0  \n",
       "3120     NaN      NaN      NaN    254.0      NaN    114.0    204.0  \n",
       "3121     NaN      NaN      NaN      NaN      NaN    262.0    204.0  \n",
       "3122     NaN      NaN      NaN    204.0      NaN    118.0    206.0  \n",
       "3123     NaN      NaN      NaN    258.0      NaN    132.0    208.0  \n",
       "3124     NaN      NaN      NaN    252.0      NaN    130.0    206.0  \n",
       "3125     NaN      NaN      NaN    254.0      NaN    108.0    106.0  \n",
       "3126     NaN      NaN      NaN    158.0      NaN    270.0     88.0  \n",
       "3127     NaN      NaN      NaN      NaN      NaN    192.0     54.0  \n",
       "3128     NaN      NaN      NaN      NaN      NaN    180.0     52.0  "
      ]
     },
     "metadata": {},
     "output_type": "display_data"
    },
    {
     "data": {
      "text/html": [
       "<div>\n",
       "<style scoped>\n",
       "    .dataframe tbody tr th:only-of-type {\n",
       "        vertical-align: middle;\n",
       "    }\n",
       "\n",
       "    .dataframe tbody tr th {\n",
       "        vertical-align: top;\n",
       "    }\n",
       "\n",
       "    .dataframe thead th {\n",
       "        text-align: right;\n",
       "    }\n",
       "</style>\n",
       "<table border=\"1\" class=\"dataframe\">\n",
       "  <thead>\n",
       "    <tr style=\"text-align: right;\">\n",
       "      <th></th>\n",
       "      <th>key</th>\n",
       "      <th>Bulk 1</th>\n",
       "      <th>Bulk 2</th>\n",
       "      <th>Bulk 3</th>\n",
       "      <th>Bulk 4</th>\n",
       "      <th>Bulk 5</th>\n",
       "      <th>Bulk 6</th>\n",
       "      <th>Bulk 7</th>\n",
       "      <th>Bulk 8</th>\n",
       "      <th>Bulk 9</th>\n",
       "      <th>Bulk 10</th>\n",
       "      <th>Bulk 11</th>\n",
       "      <th>Bulk 12</th>\n",
       "      <th>Bulk 13</th>\n",
       "      <th>Bulk 14</th>\n",
       "      <th>Bulk 15</th>\n",
       "    </tr>\n",
       "  </thead>\n",
       "  <tbody>\n",
       "    <tr>\n",
       "      <th>count</th>\n",
       "      <td>3129.000000</td>\n",
       "      <td>252.000000</td>\n",
       "      <td>22.000000</td>\n",
       "      <td>1298.000000</td>\n",
       "      <td>1014.000000</td>\n",
       "      <td>77.000000</td>\n",
       "      <td>576.000000</td>\n",
       "      <td>25.000000</td>\n",
       "      <td>1.0</td>\n",
       "      <td>19.000000</td>\n",
       "      <td>176.000000</td>\n",
       "      <td>177.000000</td>\n",
       "      <td>2450.000000</td>\n",
       "      <td>18.000000</td>\n",
       "      <td>2806.000000</td>\n",
       "      <td>2248.000000</td>\n",
       "    </tr>\n",
       "    <tr>\n",
       "      <th>mean</th>\n",
       "      <td>1624.383509</td>\n",
       "      <td>39.242063</td>\n",
       "      <td>253.045455</td>\n",
       "      <td>113.879045</td>\n",
       "      <td>104.394477</td>\n",
       "      <td>107.025974</td>\n",
       "      <td>118.925347</td>\n",
       "      <td>305.600000</td>\n",
       "      <td>49.0</td>\n",
       "      <td>76.315789</td>\n",
       "      <td>83.284091</td>\n",
       "      <td>76.819209</td>\n",
       "      <td>260.471020</td>\n",
       "      <td>181.111111</td>\n",
       "      <td>170.284747</td>\n",
       "      <td>160.513345</td>\n",
       "    </tr>\n",
       "    <tr>\n",
       "      <th>std</th>\n",
       "      <td>933.337642</td>\n",
       "      <td>18.277654</td>\n",
       "      <td>21.180578</td>\n",
       "      <td>75.483494</td>\n",
       "      <td>48.184126</td>\n",
       "      <td>81.790646</td>\n",
       "      <td>72.057776</td>\n",
       "      <td>191.022904</td>\n",
       "      <td>NaN</td>\n",
       "      <td>21.720581</td>\n",
       "      <td>26.060347</td>\n",
       "      <td>59.655365</td>\n",
       "      <td>120.649269</td>\n",
       "      <td>46.088009</td>\n",
       "      <td>65.868652</td>\n",
       "      <td>51.765319</td>\n",
       "    </tr>\n",
       "    <tr>\n",
       "      <th>min</th>\n",
       "      <td>1.000000</td>\n",
       "      <td>10.000000</td>\n",
       "      <td>228.000000</td>\n",
       "      <td>6.000000</td>\n",
       "      <td>12.000000</td>\n",
       "      <td>11.000000</td>\n",
       "      <td>17.000000</td>\n",
       "      <td>47.000000</td>\n",
       "      <td>49.0</td>\n",
       "      <td>63.000000</td>\n",
       "      <td>24.000000</td>\n",
       "      <td>8.000000</td>\n",
       "      <td>53.000000</td>\n",
       "      <td>151.000000</td>\n",
       "      <td>16.000000</td>\n",
       "      <td>1.000000</td>\n",
       "    </tr>\n",
       "    <tr>\n",
       "      <th>25%</th>\n",
       "      <td>816.000000</td>\n",
       "      <td>27.000000</td>\n",
       "      <td>242.000000</td>\n",
       "      <td>58.000000</td>\n",
       "      <td>72.000000</td>\n",
       "      <td>70.000000</td>\n",
       "      <td>69.750000</td>\n",
       "      <td>155.000000</td>\n",
       "      <td>49.0</td>\n",
       "      <td>66.000000</td>\n",
       "      <td>64.000000</td>\n",
       "      <td>25.000000</td>\n",
       "      <td>204.000000</td>\n",
       "      <td>153.250000</td>\n",
       "      <td>119.000000</td>\n",
       "      <td>105.000000</td>\n",
       "    </tr>\n",
       "    <tr>\n",
       "      <th>50%</th>\n",
       "      <td>1622.000000</td>\n",
       "      <td>31.000000</td>\n",
       "      <td>251.500000</td>\n",
       "      <td>97.500000</td>\n",
       "      <td>102.000000</td>\n",
       "      <td>86.000000</td>\n",
       "      <td>100.000000</td>\n",
       "      <td>298.000000</td>\n",
       "      <td>49.0</td>\n",
       "      <td>68.000000</td>\n",
       "      <td>86.500000</td>\n",
       "      <td>64.000000</td>\n",
       "      <td>208.000000</td>\n",
       "      <td>155.500000</td>\n",
       "      <td>151.000000</td>\n",
       "      <td>160.000000</td>\n",
       "    </tr>\n",
       "    <tr>\n",
       "      <th>75%</th>\n",
       "      <td>2431.000000</td>\n",
       "      <td>46.000000</td>\n",
       "      <td>257.750000</td>\n",
       "      <td>152.000000</td>\n",
       "      <td>133.000000</td>\n",
       "      <td>132.000000</td>\n",
       "      <td>157.000000</td>\n",
       "      <td>406.000000</td>\n",
       "      <td>49.0</td>\n",
       "      <td>70.500000</td>\n",
       "      <td>102.000000</td>\n",
       "      <td>106.000000</td>\n",
       "      <td>316.000000</td>\n",
       "      <td>203.500000</td>\n",
       "      <td>205.750000</td>\n",
       "      <td>205.000000</td>\n",
       "    </tr>\n",
       "    <tr>\n",
       "      <th>max</th>\n",
       "      <td>3241.000000</td>\n",
       "      <td>185.000000</td>\n",
       "      <td>325.000000</td>\n",
       "      <td>454.000000</td>\n",
       "      <td>281.000000</td>\n",
       "      <td>603.000000</td>\n",
       "      <td>503.000000</td>\n",
       "      <td>772.000000</td>\n",
       "      <td>49.0</td>\n",
       "      <td>147.000000</td>\n",
       "      <td>159.000000</td>\n",
       "      <td>313.000000</td>\n",
       "      <td>1849.000000</td>\n",
       "      <td>305.000000</td>\n",
       "      <td>636.000000</td>\n",
       "      <td>405.000000</td>\n",
       "    </tr>\n",
       "  </tbody>\n",
       "</table>\n",
       "</div>"
      ],
      "text/plain": [
       "               key      Bulk 1      Bulk 2       Bulk 3       Bulk 4  \\\n",
       "count  3129.000000  252.000000   22.000000  1298.000000  1014.000000   \n",
       "mean   1624.383509   39.242063  253.045455   113.879045   104.394477   \n",
       "std     933.337642   18.277654   21.180578    75.483494    48.184126   \n",
       "min       1.000000   10.000000  228.000000     6.000000    12.000000   \n",
       "25%     816.000000   27.000000  242.000000    58.000000    72.000000   \n",
       "50%    1622.000000   31.000000  251.500000    97.500000   102.000000   \n",
       "75%    2431.000000   46.000000  257.750000   152.000000   133.000000   \n",
       "max    3241.000000  185.000000  325.000000   454.000000   281.000000   \n",
       "\n",
       "           Bulk 5      Bulk 6      Bulk 7  Bulk 8      Bulk 9     Bulk 10  \\\n",
       "count   77.000000  576.000000   25.000000     1.0   19.000000  176.000000   \n",
       "mean   107.025974  118.925347  305.600000    49.0   76.315789   83.284091   \n",
       "std     81.790646   72.057776  191.022904     NaN   21.720581   26.060347   \n",
       "min     11.000000   17.000000   47.000000    49.0   63.000000   24.000000   \n",
       "25%     70.000000   69.750000  155.000000    49.0   66.000000   64.000000   \n",
       "50%     86.000000  100.000000  298.000000    49.0   68.000000   86.500000   \n",
       "75%    132.000000  157.000000  406.000000    49.0   70.500000  102.000000   \n",
       "max    603.000000  503.000000  772.000000    49.0  147.000000  159.000000   \n",
       "\n",
       "          Bulk 11      Bulk 12     Bulk 13      Bulk 14      Bulk 15  \n",
       "count  177.000000  2450.000000   18.000000  2806.000000  2248.000000  \n",
       "mean    76.819209   260.471020  181.111111   170.284747   160.513345  \n",
       "std     59.655365   120.649269   46.088009    65.868652    51.765319  \n",
       "min      8.000000    53.000000  151.000000    16.000000     1.000000  \n",
       "25%     25.000000   204.000000  153.250000   119.000000   105.000000  \n",
       "50%     64.000000   208.000000  155.500000   151.000000   160.000000  \n",
       "75%    106.000000   316.000000  203.500000   205.750000   205.000000  \n",
       "max    313.000000  1849.000000  305.000000   636.000000   405.000000  "
      ]
     },
     "execution_count": 4,
     "metadata": {},
     "output_type": "execute_result"
    }
   ],
   "source": [
    "# данные о подаче сыпучих материалов (объём)\n",
    "display(data_bulk.tail(10))\n",
    "data_bulk.describe()"
   ]
  },
  {
   "cell_type": "markdown",
   "metadata": {},
   "source": [
    "В датасете 3129 записей по 3241 партиям. Это значит что некоторые партии пропущены, по ним данные отсутствуют. \n",
    "В некоторых столбцах количество заполненных строк значительно меньше, чем в остальных. Такие данные предлагается исключить из выборки как нерепрезентативные и бесполезные для модели."
   ]
  },
  {
   "cell_type": "code",
   "execution_count": 5,
   "metadata": {},
   "outputs": [
    {
     "data": {
      "text/html": [
       "<div>\n",
       "<style scoped>\n",
       "    .dataframe tbody tr th:only-of-type {\n",
       "        vertical-align: middle;\n",
       "    }\n",
       "\n",
       "    .dataframe tbody tr th {\n",
       "        vertical-align: top;\n",
       "    }\n",
       "\n",
       "    .dataframe thead th {\n",
       "        text-align: right;\n",
       "    }\n",
       "</style>\n",
       "<table border=\"1\" class=\"dataframe\">\n",
       "  <thead>\n",
       "    <tr style=\"text-align: right;\">\n",
       "      <th></th>\n",
       "      <th>key</th>\n",
       "      <th>Bulk 1</th>\n",
       "      <th>Bulk 2</th>\n",
       "      <th>Bulk 3</th>\n",
       "      <th>Bulk 4</th>\n",
       "      <th>Bulk 5</th>\n",
       "      <th>Bulk 6</th>\n",
       "      <th>Bulk 7</th>\n",
       "      <th>Bulk 8</th>\n",
       "      <th>Bulk 9</th>\n",
       "      <th>Bulk 10</th>\n",
       "      <th>Bulk 11</th>\n",
       "      <th>Bulk 12</th>\n",
       "      <th>Bulk 13</th>\n",
       "      <th>Bulk 14</th>\n",
       "      <th>Bulk 15</th>\n",
       "    </tr>\n",
       "  </thead>\n",
       "  <tbody>\n",
       "    <tr>\n",
       "      <th>3119</th>\n",
       "      <td>3232</td>\n",
       "      <td>NaN</td>\n",
       "      <td>NaN</td>\n",
       "      <td>2019-08-31 20:03:29</td>\n",
       "      <td>NaN</td>\n",
       "      <td>NaN</td>\n",
       "      <td>NaN</td>\n",
       "      <td>NaN</td>\n",
       "      <td>NaN</td>\n",
       "      <td>NaN</td>\n",
       "      <td>NaN</td>\n",
       "      <td>NaN</td>\n",
       "      <td>2019-08-31 19:58:36</td>\n",
       "      <td>NaN</td>\n",
       "      <td>2019-08-31 19:58:36</td>\n",
       "      <td>2019-08-31 19:58:36</td>\n",
       "    </tr>\n",
       "    <tr>\n",
       "      <th>3120</th>\n",
       "      <td>3233</td>\n",
       "      <td>NaN</td>\n",
       "      <td>NaN</td>\n",
       "      <td>NaN</td>\n",
       "      <td>NaN</td>\n",
       "      <td>NaN</td>\n",
       "      <td>NaN</td>\n",
       "      <td>NaN</td>\n",
       "      <td>NaN</td>\n",
       "      <td>NaN</td>\n",
       "      <td>NaN</td>\n",
       "      <td>NaN</td>\n",
       "      <td>2019-08-31 20:26:21</td>\n",
       "      <td>NaN</td>\n",
       "      <td>2019-08-31 20:26:21</td>\n",
       "      <td>2019-08-31 20:26:21</td>\n",
       "    </tr>\n",
       "    <tr>\n",
       "      <th>3121</th>\n",
       "      <td>3234</td>\n",
       "      <td>NaN</td>\n",
       "      <td>NaN</td>\n",
       "      <td>NaN</td>\n",
       "      <td>NaN</td>\n",
       "      <td>NaN</td>\n",
       "      <td>NaN</td>\n",
       "      <td>NaN</td>\n",
       "      <td>NaN</td>\n",
       "      <td>NaN</td>\n",
       "      <td>NaN</td>\n",
       "      <td>NaN</td>\n",
       "      <td>NaN</td>\n",
       "      <td>NaN</td>\n",
       "      <td>2019-08-31 20:58:45</td>\n",
       "      <td>2019-08-31 20:58:45</td>\n",
       "    </tr>\n",
       "    <tr>\n",
       "      <th>3122</th>\n",
       "      <td>3235</td>\n",
       "      <td>NaN</td>\n",
       "      <td>NaN</td>\n",
       "      <td>NaN</td>\n",
       "      <td>NaN</td>\n",
       "      <td>NaN</td>\n",
       "      <td>NaN</td>\n",
       "      <td>NaN</td>\n",
       "      <td>NaN</td>\n",
       "      <td>NaN</td>\n",
       "      <td>NaN</td>\n",
       "      <td>NaN</td>\n",
       "      <td>2019-08-31 21:29:26</td>\n",
       "      <td>NaN</td>\n",
       "      <td>2019-08-31 21:29:26</td>\n",
       "      <td>2019-08-31 21:29:26</td>\n",
       "    </tr>\n",
       "    <tr>\n",
       "      <th>3123</th>\n",
       "      <td>3236</td>\n",
       "      <td>NaN</td>\n",
       "      <td>NaN</td>\n",
       "      <td>2019-08-31 22:20:30</td>\n",
       "      <td>NaN</td>\n",
       "      <td>NaN</td>\n",
       "      <td>NaN</td>\n",
       "      <td>NaN</td>\n",
       "      <td>NaN</td>\n",
       "      <td>NaN</td>\n",
       "      <td>NaN</td>\n",
       "      <td>NaN</td>\n",
       "      <td>2019-08-31 22:11:55</td>\n",
       "      <td>NaN</td>\n",
       "      <td>2019-08-31 22:11:55</td>\n",
       "      <td>2019-08-31 22:11:55</td>\n",
       "    </tr>\n",
       "    <tr>\n",
       "      <th>3124</th>\n",
       "      <td>3237</td>\n",
       "      <td>NaN</td>\n",
       "      <td>NaN</td>\n",
       "      <td>2019-08-31 22:51:28</td>\n",
       "      <td>NaN</td>\n",
       "      <td>NaN</td>\n",
       "      <td>NaN</td>\n",
       "      <td>NaN</td>\n",
       "      <td>NaN</td>\n",
       "      <td>NaN</td>\n",
       "      <td>NaN</td>\n",
       "      <td>NaN</td>\n",
       "      <td>2019-08-31 22:46:52</td>\n",
       "      <td>NaN</td>\n",
       "      <td>2019-08-31 22:46:52</td>\n",
       "      <td>2019-08-31 22:46:52</td>\n",
       "    </tr>\n",
       "    <tr>\n",
       "      <th>3125</th>\n",
       "      <td>3238</td>\n",
       "      <td>NaN</td>\n",
       "      <td>NaN</td>\n",
       "      <td>2019-08-31 23:39:11</td>\n",
       "      <td>NaN</td>\n",
       "      <td>NaN</td>\n",
       "      <td>NaN</td>\n",
       "      <td>NaN</td>\n",
       "      <td>NaN</td>\n",
       "      <td>NaN</td>\n",
       "      <td>NaN</td>\n",
       "      <td>NaN</td>\n",
       "      <td>2019-08-31 23:33:09</td>\n",
       "      <td>NaN</td>\n",
       "      <td>2019-08-31 23:33:09</td>\n",
       "      <td>2019-08-31 23:33:09</td>\n",
       "    </tr>\n",
       "    <tr>\n",
       "      <th>3126</th>\n",
       "      <td>3239</td>\n",
       "      <td>NaN</td>\n",
       "      <td>NaN</td>\n",
       "      <td>NaN</td>\n",
       "      <td>NaN</td>\n",
       "      <td>NaN</td>\n",
       "      <td>2019-09-01 01:51:58</td>\n",
       "      <td>NaN</td>\n",
       "      <td>NaN</td>\n",
       "      <td>NaN</td>\n",
       "      <td>NaN</td>\n",
       "      <td>NaN</td>\n",
       "      <td>2019-09-01 01:39:41</td>\n",
       "      <td>NaN</td>\n",
       "      <td>2019-09-01 01:33:25</td>\n",
       "      <td>2019-09-01 01:33:25</td>\n",
       "    </tr>\n",
       "    <tr>\n",
       "      <th>3127</th>\n",
       "      <td>3240</td>\n",
       "      <td>NaN</td>\n",
       "      <td>NaN</td>\n",
       "      <td>NaN</td>\n",
       "      <td>NaN</td>\n",
       "      <td>NaN</td>\n",
       "      <td>2019-09-01 03:12:40</td>\n",
       "      <td>NaN</td>\n",
       "      <td>NaN</td>\n",
       "      <td>NaN</td>\n",
       "      <td>NaN</td>\n",
       "      <td>NaN</td>\n",
       "      <td>NaN</td>\n",
       "      <td>NaN</td>\n",
       "      <td>2019-09-01 02:41:27</td>\n",
       "      <td>2019-09-01 02:41:27</td>\n",
       "    </tr>\n",
       "    <tr>\n",
       "      <th>3128</th>\n",
       "      <td>3241</td>\n",
       "      <td>NaN</td>\n",
       "      <td>NaN</td>\n",
       "      <td>NaN</td>\n",
       "      <td>NaN</td>\n",
       "      <td>NaN</td>\n",
       "      <td>NaN</td>\n",
       "      <td>NaN</td>\n",
       "      <td>NaN</td>\n",
       "      <td>NaN</td>\n",
       "      <td>NaN</td>\n",
       "      <td>NaN</td>\n",
       "      <td>NaN</td>\n",
       "      <td>NaN</td>\n",
       "      <td>2019-09-01 04:05:34</td>\n",
       "      <td>2019-09-01 04:05:34</td>\n",
       "    </tr>\n",
       "  </tbody>\n",
       "</table>\n",
       "</div>"
      ],
      "text/plain": [
       "       key Bulk 1 Bulk 2               Bulk 3 Bulk 4 Bulk 5  \\\n",
       "3119  3232    NaN    NaN  2019-08-31 20:03:29    NaN    NaN   \n",
       "3120  3233    NaN    NaN                  NaN    NaN    NaN   \n",
       "3121  3234    NaN    NaN                  NaN    NaN    NaN   \n",
       "3122  3235    NaN    NaN                  NaN    NaN    NaN   \n",
       "3123  3236    NaN    NaN  2019-08-31 22:20:30    NaN    NaN   \n",
       "3124  3237    NaN    NaN  2019-08-31 22:51:28    NaN    NaN   \n",
       "3125  3238    NaN    NaN  2019-08-31 23:39:11    NaN    NaN   \n",
       "3126  3239    NaN    NaN                  NaN    NaN    NaN   \n",
       "3127  3240    NaN    NaN                  NaN    NaN    NaN   \n",
       "3128  3241    NaN    NaN                  NaN    NaN    NaN   \n",
       "\n",
       "                   Bulk 6 Bulk 7 Bulk 8 Bulk 9 Bulk 10 Bulk 11  \\\n",
       "3119                  NaN    NaN    NaN    NaN     NaN     NaN   \n",
       "3120                  NaN    NaN    NaN    NaN     NaN     NaN   \n",
       "3121                  NaN    NaN    NaN    NaN     NaN     NaN   \n",
       "3122                  NaN    NaN    NaN    NaN     NaN     NaN   \n",
       "3123                  NaN    NaN    NaN    NaN     NaN     NaN   \n",
       "3124                  NaN    NaN    NaN    NaN     NaN     NaN   \n",
       "3125                  NaN    NaN    NaN    NaN     NaN     NaN   \n",
       "3126  2019-09-01 01:51:58    NaN    NaN    NaN     NaN     NaN   \n",
       "3127  2019-09-01 03:12:40    NaN    NaN    NaN     NaN     NaN   \n",
       "3128                  NaN    NaN    NaN    NaN     NaN     NaN   \n",
       "\n",
       "                  Bulk 12 Bulk 13              Bulk 14              Bulk 15  \n",
       "3119  2019-08-31 19:58:36     NaN  2019-08-31 19:58:36  2019-08-31 19:58:36  \n",
       "3120  2019-08-31 20:26:21     NaN  2019-08-31 20:26:21  2019-08-31 20:26:21  \n",
       "3121                  NaN     NaN  2019-08-31 20:58:45  2019-08-31 20:58:45  \n",
       "3122  2019-08-31 21:29:26     NaN  2019-08-31 21:29:26  2019-08-31 21:29:26  \n",
       "3123  2019-08-31 22:11:55     NaN  2019-08-31 22:11:55  2019-08-31 22:11:55  \n",
       "3124  2019-08-31 22:46:52     NaN  2019-08-31 22:46:52  2019-08-31 22:46:52  \n",
       "3125  2019-08-31 23:33:09     NaN  2019-08-31 23:33:09  2019-08-31 23:33:09  \n",
       "3126  2019-09-01 01:39:41     NaN  2019-09-01 01:33:25  2019-09-01 01:33:25  \n",
       "3127                  NaN     NaN  2019-09-01 02:41:27  2019-09-01 02:41:27  \n",
       "3128                  NaN     NaN  2019-09-01 04:05:34  2019-09-01 04:05:34  "
      ]
     },
     "metadata": {},
     "output_type": "display_data"
    },
    {
     "data": {
      "text/html": [
       "<div>\n",
       "<style scoped>\n",
       "    .dataframe tbody tr th:only-of-type {\n",
       "        vertical-align: middle;\n",
       "    }\n",
       "\n",
       "    .dataframe tbody tr th {\n",
       "        vertical-align: top;\n",
       "    }\n",
       "\n",
       "    .dataframe thead th {\n",
       "        text-align: right;\n",
       "    }\n",
       "</style>\n",
       "<table border=\"1\" class=\"dataframe\">\n",
       "  <thead>\n",
       "    <tr style=\"text-align: right;\">\n",
       "      <th></th>\n",
       "      <th>key</th>\n",
       "      <th>Bulk 1</th>\n",
       "      <th>Bulk 2</th>\n",
       "      <th>Bulk 3</th>\n",
       "      <th>Bulk 4</th>\n",
       "      <th>Bulk 5</th>\n",
       "      <th>Bulk 6</th>\n",
       "      <th>Bulk 7</th>\n",
       "      <th>Bulk 8</th>\n",
       "      <th>Bulk 9</th>\n",
       "      <th>Bulk 10</th>\n",
       "      <th>Bulk 11</th>\n",
       "      <th>Bulk 12</th>\n",
       "      <th>Bulk 13</th>\n",
       "      <th>Bulk 14</th>\n",
       "      <th>Bulk 15</th>\n",
       "    </tr>\n",
       "  </thead>\n",
       "  <tbody>\n",
       "    <tr>\n",
       "      <th>count</th>\n",
       "      <td>3129.000000</td>\n",
       "      <td>252</td>\n",
       "      <td>22</td>\n",
       "      <td>1298</td>\n",
       "      <td>1014</td>\n",
       "      <td>77</td>\n",
       "      <td>576</td>\n",
       "      <td>25</td>\n",
       "      <td>1</td>\n",
       "      <td>19</td>\n",
       "      <td>176</td>\n",
       "      <td>177</td>\n",
       "      <td>2450</td>\n",
       "      <td>18</td>\n",
       "      <td>2806</td>\n",
       "      <td>2248</td>\n",
       "    </tr>\n",
       "    <tr>\n",
       "      <th>unique</th>\n",
       "      <td>NaN</td>\n",
       "      <td>252</td>\n",
       "      <td>22</td>\n",
       "      <td>1298</td>\n",
       "      <td>1014</td>\n",
       "      <td>77</td>\n",
       "      <td>576</td>\n",
       "      <td>25</td>\n",
       "      <td>1</td>\n",
       "      <td>19</td>\n",
       "      <td>176</td>\n",
       "      <td>177</td>\n",
       "      <td>2450</td>\n",
       "      <td>18</td>\n",
       "      <td>2806</td>\n",
       "      <td>2248</td>\n",
       "    </tr>\n",
       "    <tr>\n",
       "      <th>top</th>\n",
       "      <td>NaN</td>\n",
       "      <td>2019-05-28 03:53:36</td>\n",
       "      <td>2019-08-08 10:16:41</td>\n",
       "      <td>2019-05-19 00:40:15</td>\n",
       "      <td>2019-05-07 22:59:48</td>\n",
       "      <td>2019-08-08 10:16:41</td>\n",
       "      <td>2019-08-07 06:26:20</td>\n",
       "      <td>2019-07-23 11:52:43</td>\n",
       "      <td>2019-07-05 17:46:11</td>\n",
       "      <td>2019-08-11 12:13:43</td>\n",
       "      <td>2019-05-17 08:34:33</td>\n",
       "      <td>2019-07-01 19:17:54</td>\n",
       "      <td>2019-05-05 00:39:35</td>\n",
       "      <td>2019-05-05 00:39:35</td>\n",
       "      <td>2019-06-05 03:19:27</td>\n",
       "      <td>2019-05-05 00:39:35</td>\n",
       "    </tr>\n",
       "    <tr>\n",
       "      <th>freq</th>\n",
       "      <td>NaN</td>\n",
       "      <td>1</td>\n",
       "      <td>1</td>\n",
       "      <td>1</td>\n",
       "      <td>1</td>\n",
       "      <td>1</td>\n",
       "      <td>1</td>\n",
       "      <td>1</td>\n",
       "      <td>1</td>\n",
       "      <td>1</td>\n",
       "      <td>1</td>\n",
       "      <td>1</td>\n",
       "      <td>1</td>\n",
       "      <td>1</td>\n",
       "      <td>1</td>\n",
       "      <td>1</td>\n",
       "    </tr>\n",
       "    <tr>\n",
       "      <th>mean</th>\n",
       "      <td>1624.383509</td>\n",
       "      <td>NaN</td>\n",
       "      <td>NaN</td>\n",
       "      <td>NaN</td>\n",
       "      <td>NaN</td>\n",
       "      <td>NaN</td>\n",
       "      <td>NaN</td>\n",
       "      <td>NaN</td>\n",
       "      <td>NaN</td>\n",
       "      <td>NaN</td>\n",
       "      <td>NaN</td>\n",
       "      <td>NaN</td>\n",
       "      <td>NaN</td>\n",
       "      <td>NaN</td>\n",
       "      <td>NaN</td>\n",
       "      <td>NaN</td>\n",
       "    </tr>\n",
       "    <tr>\n",
       "      <th>std</th>\n",
       "      <td>933.337642</td>\n",
       "      <td>NaN</td>\n",
       "      <td>NaN</td>\n",
       "      <td>NaN</td>\n",
       "      <td>NaN</td>\n",
       "      <td>NaN</td>\n",
       "      <td>NaN</td>\n",
       "      <td>NaN</td>\n",
       "      <td>NaN</td>\n",
       "      <td>NaN</td>\n",
       "      <td>NaN</td>\n",
       "      <td>NaN</td>\n",
       "      <td>NaN</td>\n",
       "      <td>NaN</td>\n",
       "      <td>NaN</td>\n",
       "      <td>NaN</td>\n",
       "    </tr>\n",
       "    <tr>\n",
       "      <th>min</th>\n",
       "      <td>1.000000</td>\n",
       "      <td>NaN</td>\n",
       "      <td>NaN</td>\n",
       "      <td>NaN</td>\n",
       "      <td>NaN</td>\n",
       "      <td>NaN</td>\n",
       "      <td>NaN</td>\n",
       "      <td>NaN</td>\n",
       "      <td>NaN</td>\n",
       "      <td>NaN</td>\n",
       "      <td>NaN</td>\n",
       "      <td>NaN</td>\n",
       "      <td>NaN</td>\n",
       "      <td>NaN</td>\n",
       "      <td>NaN</td>\n",
       "      <td>NaN</td>\n",
       "    </tr>\n",
       "    <tr>\n",
       "      <th>25%</th>\n",
       "      <td>816.000000</td>\n",
       "      <td>NaN</td>\n",
       "      <td>NaN</td>\n",
       "      <td>NaN</td>\n",
       "      <td>NaN</td>\n",
       "      <td>NaN</td>\n",
       "      <td>NaN</td>\n",
       "      <td>NaN</td>\n",
       "      <td>NaN</td>\n",
       "      <td>NaN</td>\n",
       "      <td>NaN</td>\n",
       "      <td>NaN</td>\n",
       "      <td>NaN</td>\n",
       "      <td>NaN</td>\n",
       "      <td>NaN</td>\n",
       "      <td>NaN</td>\n",
       "    </tr>\n",
       "    <tr>\n",
       "      <th>50%</th>\n",
       "      <td>1622.000000</td>\n",
       "      <td>NaN</td>\n",
       "      <td>NaN</td>\n",
       "      <td>NaN</td>\n",
       "      <td>NaN</td>\n",
       "      <td>NaN</td>\n",
       "      <td>NaN</td>\n",
       "      <td>NaN</td>\n",
       "      <td>NaN</td>\n",
       "      <td>NaN</td>\n",
       "      <td>NaN</td>\n",
       "      <td>NaN</td>\n",
       "      <td>NaN</td>\n",
       "      <td>NaN</td>\n",
       "      <td>NaN</td>\n",
       "      <td>NaN</td>\n",
       "    </tr>\n",
       "    <tr>\n",
       "      <th>75%</th>\n",
       "      <td>2431.000000</td>\n",
       "      <td>NaN</td>\n",
       "      <td>NaN</td>\n",
       "      <td>NaN</td>\n",
       "      <td>NaN</td>\n",
       "      <td>NaN</td>\n",
       "      <td>NaN</td>\n",
       "      <td>NaN</td>\n",
       "      <td>NaN</td>\n",
       "      <td>NaN</td>\n",
       "      <td>NaN</td>\n",
       "      <td>NaN</td>\n",
       "      <td>NaN</td>\n",
       "      <td>NaN</td>\n",
       "      <td>NaN</td>\n",
       "      <td>NaN</td>\n",
       "    </tr>\n",
       "    <tr>\n",
       "      <th>max</th>\n",
       "      <td>3241.000000</td>\n",
       "      <td>NaN</td>\n",
       "      <td>NaN</td>\n",
       "      <td>NaN</td>\n",
       "      <td>NaN</td>\n",
       "      <td>NaN</td>\n",
       "      <td>NaN</td>\n",
       "      <td>NaN</td>\n",
       "      <td>NaN</td>\n",
       "      <td>NaN</td>\n",
       "      <td>NaN</td>\n",
       "      <td>NaN</td>\n",
       "      <td>NaN</td>\n",
       "      <td>NaN</td>\n",
       "      <td>NaN</td>\n",
       "      <td>NaN</td>\n",
       "    </tr>\n",
       "  </tbody>\n",
       "</table>\n",
       "</div>"
      ],
      "text/plain": [
       "                key               Bulk 1               Bulk 2  \\\n",
       "count   3129.000000                  252                   22   \n",
       "unique          NaN                  252                   22   \n",
       "top             NaN  2019-05-28 03:53:36  2019-08-08 10:16:41   \n",
       "freq            NaN                    1                    1   \n",
       "mean    1624.383509                  NaN                  NaN   \n",
       "std      933.337642                  NaN                  NaN   \n",
       "min        1.000000                  NaN                  NaN   \n",
       "25%      816.000000                  NaN                  NaN   \n",
       "50%     1622.000000                  NaN                  NaN   \n",
       "75%     2431.000000                  NaN                  NaN   \n",
       "max     3241.000000                  NaN                  NaN   \n",
       "\n",
       "                     Bulk 3               Bulk 4               Bulk 5  \\\n",
       "count                  1298                 1014                   77   \n",
       "unique                 1298                 1014                   77   \n",
       "top     2019-05-19 00:40:15  2019-05-07 22:59:48  2019-08-08 10:16:41   \n",
       "freq                      1                    1                    1   \n",
       "mean                    NaN                  NaN                  NaN   \n",
       "std                     NaN                  NaN                  NaN   \n",
       "min                     NaN                  NaN                  NaN   \n",
       "25%                     NaN                  NaN                  NaN   \n",
       "50%                     NaN                  NaN                  NaN   \n",
       "75%                     NaN                  NaN                  NaN   \n",
       "max                     NaN                  NaN                  NaN   \n",
       "\n",
       "                     Bulk 6               Bulk 7               Bulk 8  \\\n",
       "count                   576                   25                    1   \n",
       "unique                  576                   25                    1   \n",
       "top     2019-08-07 06:26:20  2019-07-23 11:52:43  2019-07-05 17:46:11   \n",
       "freq                      1                    1                    1   \n",
       "mean                    NaN                  NaN                  NaN   \n",
       "std                     NaN                  NaN                  NaN   \n",
       "min                     NaN                  NaN                  NaN   \n",
       "25%                     NaN                  NaN                  NaN   \n",
       "50%                     NaN                  NaN                  NaN   \n",
       "75%                     NaN                  NaN                  NaN   \n",
       "max                     NaN                  NaN                  NaN   \n",
       "\n",
       "                     Bulk 9              Bulk 10              Bulk 11  \\\n",
       "count                    19                  176                  177   \n",
       "unique                   19                  176                  177   \n",
       "top     2019-08-11 12:13:43  2019-05-17 08:34:33  2019-07-01 19:17:54   \n",
       "freq                      1                    1                    1   \n",
       "mean                    NaN                  NaN                  NaN   \n",
       "std                     NaN                  NaN                  NaN   \n",
       "min                     NaN                  NaN                  NaN   \n",
       "25%                     NaN                  NaN                  NaN   \n",
       "50%                     NaN                  NaN                  NaN   \n",
       "75%                     NaN                  NaN                  NaN   \n",
       "max                     NaN                  NaN                  NaN   \n",
       "\n",
       "                    Bulk 12              Bulk 13              Bulk 14  \\\n",
       "count                  2450                   18                 2806   \n",
       "unique                 2450                   18                 2806   \n",
       "top     2019-05-05 00:39:35  2019-05-05 00:39:35  2019-06-05 03:19:27   \n",
       "freq                      1                    1                    1   \n",
       "mean                    NaN                  NaN                  NaN   \n",
       "std                     NaN                  NaN                  NaN   \n",
       "min                     NaN                  NaN                  NaN   \n",
       "25%                     NaN                  NaN                  NaN   \n",
       "50%                     NaN                  NaN                  NaN   \n",
       "75%                     NaN                  NaN                  NaN   \n",
       "max                     NaN                  NaN                  NaN   \n",
       "\n",
       "                    Bulk 15  \n",
       "count                  2248  \n",
       "unique                 2248  \n",
       "top     2019-05-05 00:39:35  \n",
       "freq                      1  \n",
       "mean                    NaN  \n",
       "std                     NaN  \n",
       "min                     NaN  \n",
       "25%                     NaN  \n",
       "50%                     NaN  \n",
       "75%                     NaN  \n",
       "max                     NaN  "
      ]
     },
     "execution_count": 5,
     "metadata": {},
     "output_type": "execute_result"
    }
   ],
   "source": [
    "# данные о подаче сыпучих материалов (время)\n",
    "display(data_bulk_time.tail(10))\n",
    "data_bulk_time.describe(include ='all')"
   ]
  },
  {
   "cell_type": "markdown",
   "metadata": {},
   "source": [
    "В датасете то же количество объектов, что и в предыдущем. К этим данным должны быть применены те же правила предобработки, что и к предыдущему датасету."
   ]
  },
  {
   "cell_type": "code",
   "execution_count": 6,
   "metadata": {
    "scrolled": true
   },
   "outputs": [
    {
     "data": {
      "text/html": [
       "<div>\n",
       "<style scoped>\n",
       "    .dataframe tbody tr th:only-of-type {\n",
       "        vertical-align: middle;\n",
       "    }\n",
       "\n",
       "    .dataframe tbody tr th {\n",
       "        vertical-align: top;\n",
       "    }\n",
       "\n",
       "    .dataframe thead th {\n",
       "        text-align: right;\n",
       "    }\n",
       "</style>\n",
       "<table border=\"1\" class=\"dataframe\">\n",
       "  <thead>\n",
       "    <tr style=\"text-align: right;\">\n",
       "      <th></th>\n",
       "      <th>key</th>\n",
       "      <th>Газ 1</th>\n",
       "    </tr>\n",
       "  </thead>\n",
       "  <tbody>\n",
       "    <tr>\n",
       "      <th>3229</th>\n",
       "      <td>3232</td>\n",
       "      <td>8.630453</td>\n",
       "    </tr>\n",
       "    <tr>\n",
       "      <th>3230</th>\n",
       "      <td>3233</td>\n",
       "      <td>7.366606</td>\n",
       "    </tr>\n",
       "    <tr>\n",
       "      <th>3231</th>\n",
       "      <td>3234</td>\n",
       "      <td>9.110702</td>\n",
       "    </tr>\n",
       "    <tr>\n",
       "      <th>3232</th>\n",
       "      <td>3235</td>\n",
       "      <td>5.710729</td>\n",
       "    </tr>\n",
       "    <tr>\n",
       "      <th>3233</th>\n",
       "      <td>3236</td>\n",
       "      <td>6.958647</td>\n",
       "    </tr>\n",
       "    <tr>\n",
       "      <th>3234</th>\n",
       "      <td>3237</td>\n",
       "      <td>5.543905</td>\n",
       "    </tr>\n",
       "    <tr>\n",
       "      <th>3235</th>\n",
       "      <td>3238</td>\n",
       "      <td>6.745669</td>\n",
       "    </tr>\n",
       "    <tr>\n",
       "      <th>3236</th>\n",
       "      <td>3239</td>\n",
       "      <td>16.023518</td>\n",
       "    </tr>\n",
       "    <tr>\n",
       "      <th>3237</th>\n",
       "      <td>3240</td>\n",
       "      <td>11.863103</td>\n",
       "    </tr>\n",
       "    <tr>\n",
       "      <th>3238</th>\n",
       "      <td>3241</td>\n",
       "      <td>12.680959</td>\n",
       "    </tr>\n",
       "  </tbody>\n",
       "</table>\n",
       "</div>"
      ],
      "text/plain": [
       "       key      Газ 1\n",
       "3229  3232   8.630453\n",
       "3230  3233   7.366606\n",
       "3231  3234   9.110702\n",
       "3232  3235   5.710729\n",
       "3233  3236   6.958647\n",
       "3234  3237   5.543905\n",
       "3235  3238   6.745669\n",
       "3236  3239  16.023518\n",
       "3237  3240  11.863103\n",
       "3238  3241  12.680959"
      ]
     },
     "metadata": {},
     "output_type": "display_data"
    },
    {
     "data": {
      "text/html": [
       "<div>\n",
       "<style scoped>\n",
       "    .dataframe tbody tr th:only-of-type {\n",
       "        vertical-align: middle;\n",
       "    }\n",
       "\n",
       "    .dataframe tbody tr th {\n",
       "        vertical-align: top;\n",
       "    }\n",
       "\n",
       "    .dataframe thead th {\n",
       "        text-align: right;\n",
       "    }\n",
       "</style>\n",
       "<table border=\"1\" class=\"dataframe\">\n",
       "  <thead>\n",
       "    <tr style=\"text-align: right;\">\n",
       "      <th></th>\n",
       "      <th>key</th>\n",
       "      <th>Газ 1</th>\n",
       "    </tr>\n",
       "  </thead>\n",
       "  <tbody>\n",
       "    <tr>\n",
       "      <th>count</th>\n",
       "      <td>3239.000000</td>\n",
       "      <td>3239.000000</td>\n",
       "    </tr>\n",
       "    <tr>\n",
       "      <th>mean</th>\n",
       "      <td>1621.861377</td>\n",
       "      <td>11.002062</td>\n",
       "    </tr>\n",
       "    <tr>\n",
       "      <th>std</th>\n",
       "      <td>935.386334</td>\n",
       "      <td>6.220327</td>\n",
       "    </tr>\n",
       "    <tr>\n",
       "      <th>min</th>\n",
       "      <td>1.000000</td>\n",
       "      <td>0.008399</td>\n",
       "    </tr>\n",
       "    <tr>\n",
       "      <th>25%</th>\n",
       "      <td>812.500000</td>\n",
       "      <td>7.043089</td>\n",
       "    </tr>\n",
       "    <tr>\n",
       "      <th>50%</th>\n",
       "      <td>1622.000000</td>\n",
       "      <td>9.836267</td>\n",
       "    </tr>\n",
       "    <tr>\n",
       "      <th>75%</th>\n",
       "      <td>2431.500000</td>\n",
       "      <td>13.769915</td>\n",
       "    </tr>\n",
       "    <tr>\n",
       "      <th>max</th>\n",
       "      <td>3241.000000</td>\n",
       "      <td>77.995040</td>\n",
       "    </tr>\n",
       "  </tbody>\n",
       "</table>\n",
       "</div>"
      ],
      "text/plain": [
       "               key        Газ 1\n",
       "count  3239.000000  3239.000000\n",
       "mean   1621.861377    11.002062\n",
       "std     935.386334     6.220327\n",
       "min       1.000000     0.008399\n",
       "25%     812.500000     7.043089\n",
       "50%    1622.000000     9.836267\n",
       "75%    2431.500000    13.769915\n",
       "max    3241.000000    77.995040"
      ]
     },
     "execution_count": 6,
     "metadata": {},
     "output_type": "execute_result"
    }
   ],
   "source": [
    "# данные о продувке сплава газом\n",
    "display(data_gas.tail(10))\n",
    "data_gas.describe()"
   ]
  },
  {
   "cell_type": "markdown",
   "metadata": {},
   "source": [
    "В датасете 3239 объектов по 3241 партии. Это значит, что некоторые партии пропущены, по ним данных нет.\n",
    "Есть вероятность того, что в столбце Газ1 есть выбросы в сторону минимума и максимума, необходимо более детальное исследование распределения данных."
   ]
  },
  {
   "cell_type": "code",
   "execution_count": 7,
   "metadata": {},
   "outputs": [
    {
     "data": {
      "text/html": [
       "<div>\n",
       "<style scoped>\n",
       "    .dataframe tbody tr th:only-of-type {\n",
       "        vertical-align: middle;\n",
       "    }\n",
       "\n",
       "    .dataframe tbody tr th {\n",
       "        vertical-align: top;\n",
       "    }\n",
       "\n",
       "    .dataframe thead th {\n",
       "        text-align: right;\n",
       "    }\n",
       "</style>\n",
       "<table border=\"1\" class=\"dataframe\">\n",
       "  <thead>\n",
       "    <tr style=\"text-align: right;\">\n",
       "      <th></th>\n",
       "      <th>key</th>\n",
       "      <th>Время замера</th>\n",
       "      <th>Температура</th>\n",
       "    </tr>\n",
       "  </thead>\n",
       "  <tbody>\n",
       "    <tr>\n",
       "      <th>15897</th>\n",
       "      <td>3240</td>\n",
       "      <td>2019-09-01 03:12:19</td>\n",
       "      <td>NaN</td>\n",
       "    </tr>\n",
       "    <tr>\n",
       "      <th>15898</th>\n",
       "      <td>3240</td>\n",
       "      <td>2019-09-01 03:19:09</td>\n",
       "      <td>NaN</td>\n",
       "    </tr>\n",
       "    <tr>\n",
       "      <th>15899</th>\n",
       "      <td>3240</td>\n",
       "      <td>2019-09-01 03:31:27</td>\n",
       "      <td>NaN</td>\n",
       "    </tr>\n",
       "    <tr>\n",
       "      <th>15900</th>\n",
       "      <td>3240</td>\n",
       "      <td>2019-09-01 03:34:31</td>\n",
       "      <td>NaN</td>\n",
       "    </tr>\n",
       "    <tr>\n",
       "      <th>15901</th>\n",
       "      <td>3240</td>\n",
       "      <td>2019-09-01 03:35:16</td>\n",
       "      <td>NaN</td>\n",
       "    </tr>\n",
       "    <tr>\n",
       "      <th>15902</th>\n",
       "      <td>3241</td>\n",
       "      <td>2019-09-01 04:03:30</td>\n",
       "      <td>1586.0</td>\n",
       "    </tr>\n",
       "    <tr>\n",
       "      <th>15903</th>\n",
       "      <td>3241</td>\n",
       "      <td>2019-09-01 04:16:12</td>\n",
       "      <td>NaN</td>\n",
       "    </tr>\n",
       "    <tr>\n",
       "      <th>15904</th>\n",
       "      <td>3241</td>\n",
       "      <td>2019-09-01 04:22:39</td>\n",
       "      <td>NaN</td>\n",
       "    </tr>\n",
       "    <tr>\n",
       "      <th>15905</th>\n",
       "      <td>3241</td>\n",
       "      <td>2019-09-01 04:33:42</td>\n",
       "      <td>NaN</td>\n",
       "    </tr>\n",
       "    <tr>\n",
       "      <th>15906</th>\n",
       "      <td>3241</td>\n",
       "      <td>2019-09-01 04:38:08</td>\n",
       "      <td>NaN</td>\n",
       "    </tr>\n",
       "  </tbody>\n",
       "</table>\n",
       "</div>"
      ],
      "text/plain": [
       "        key         Время замера  Температура\n",
       "15897  3240  2019-09-01 03:12:19          NaN\n",
       "15898  3240  2019-09-01 03:19:09          NaN\n",
       "15899  3240  2019-09-01 03:31:27          NaN\n",
       "15900  3240  2019-09-01 03:34:31          NaN\n",
       "15901  3240  2019-09-01 03:35:16          NaN\n",
       "15902  3241  2019-09-01 04:03:30       1586.0\n",
       "15903  3241  2019-09-01 04:16:12          NaN\n",
       "15904  3241  2019-09-01 04:22:39          NaN\n",
       "15905  3241  2019-09-01 04:33:42          NaN\n",
       "15906  3241  2019-09-01 04:38:08          NaN"
      ]
     },
     "metadata": {},
     "output_type": "display_data"
    },
    {
     "data": {
      "text/html": [
       "<div>\n",
       "<style scoped>\n",
       "    .dataframe tbody tr th:only-of-type {\n",
       "        vertical-align: middle;\n",
       "    }\n",
       "\n",
       "    .dataframe tbody tr th {\n",
       "        vertical-align: top;\n",
       "    }\n",
       "\n",
       "    .dataframe thead th {\n",
       "        text-align: right;\n",
       "    }\n",
       "</style>\n",
       "<table border=\"1\" class=\"dataframe\">\n",
       "  <thead>\n",
       "    <tr style=\"text-align: right;\">\n",
       "      <th></th>\n",
       "      <th>key</th>\n",
       "      <th>Температура</th>\n",
       "    </tr>\n",
       "  </thead>\n",
       "  <tbody>\n",
       "    <tr>\n",
       "      <th>count</th>\n",
       "      <td>15907.000000</td>\n",
       "      <td>13006.000000</td>\n",
       "    </tr>\n",
       "    <tr>\n",
       "      <th>mean</th>\n",
       "      <td>1607.880870</td>\n",
       "      <td>1591.840920</td>\n",
       "    </tr>\n",
       "    <tr>\n",
       "      <th>std</th>\n",
       "      <td>942.212073</td>\n",
       "      <td>21.375851</td>\n",
       "    </tr>\n",
       "    <tr>\n",
       "      <th>min</th>\n",
       "      <td>1.000000</td>\n",
       "      <td>1191.000000</td>\n",
       "    </tr>\n",
       "    <tr>\n",
       "      <th>25%</th>\n",
       "      <td>790.000000</td>\n",
       "      <td>1581.000000</td>\n",
       "    </tr>\n",
       "    <tr>\n",
       "      <th>50%</th>\n",
       "      <td>1618.000000</td>\n",
       "      <td>1591.000000</td>\n",
       "    </tr>\n",
       "    <tr>\n",
       "      <th>75%</th>\n",
       "      <td>2427.000000</td>\n",
       "      <td>1601.000000</td>\n",
       "    </tr>\n",
       "    <tr>\n",
       "      <th>max</th>\n",
       "      <td>3241.000000</td>\n",
       "      <td>1705.000000</td>\n",
       "    </tr>\n",
       "  </tbody>\n",
       "</table>\n",
       "</div>"
      ],
      "text/plain": [
       "                key   Температура\n",
       "count  15907.000000  13006.000000\n",
       "mean    1607.880870   1591.840920\n",
       "std      942.212073     21.375851\n",
       "min        1.000000   1191.000000\n",
       "25%      790.000000   1581.000000\n",
       "50%     1618.000000   1591.000000\n",
       "75%     2427.000000   1601.000000\n",
       "max     3241.000000   1705.000000"
      ]
     },
     "execution_count": 7,
     "metadata": {},
     "output_type": "execute_result"
    }
   ],
   "source": [
    "# результаты измерения температуры\n",
    "display(data_temp.tail(10))\n",
    "data_temp.describe()"
   ]
  },
  {
   "cell_type": "markdown",
   "metadata": {},
   "source": [
    "Данные по измеренной температуре имеют пропуски, которые должны быть исключены. Также есть данные, которые достаточно отдалены от средней (более чем на 3 стандартных отклонения), и необходимо исследовать их дополнительно на предмет выбросов."
   ]
  },
  {
   "cell_type": "code",
   "execution_count": 8,
   "metadata": {
    "scrolled": true
   },
   "outputs": [
    {
     "data": {
      "text/html": [
       "<div>\n",
       "<style scoped>\n",
       "    .dataframe tbody tr th:only-of-type {\n",
       "        vertical-align: middle;\n",
       "    }\n",
       "\n",
       "    .dataframe tbody tr th {\n",
       "        vertical-align: top;\n",
       "    }\n",
       "\n",
       "    .dataframe thead th {\n",
       "        text-align: right;\n",
       "    }\n",
       "</style>\n",
       "<table border=\"1\" class=\"dataframe\">\n",
       "  <thead>\n",
       "    <tr style=\"text-align: right;\">\n",
       "      <th></th>\n",
       "      <th>key</th>\n",
       "      <th>Wire 1</th>\n",
       "      <th>Wire 2</th>\n",
       "      <th>Wire 3</th>\n",
       "      <th>Wire 4</th>\n",
       "      <th>Wire 5</th>\n",
       "      <th>Wire 6</th>\n",
       "      <th>Wire 7</th>\n",
       "      <th>Wire 8</th>\n",
       "      <th>Wire 9</th>\n",
       "    </tr>\n",
       "  </thead>\n",
       "  <tbody>\n",
       "    <tr>\n",
       "      <th>3071</th>\n",
       "      <td>3232</td>\n",
       "      <td>15.069600</td>\n",
       "      <td>NaN</td>\n",
       "      <td>NaN</td>\n",
       "      <td>NaN</td>\n",
       "      <td>NaN</td>\n",
       "      <td>NaN</td>\n",
       "      <td>NaN</td>\n",
       "      <td>NaN</td>\n",
       "      <td>NaN</td>\n",
       "    </tr>\n",
       "    <tr>\n",
       "      <th>3072</th>\n",
       "      <td>3233</td>\n",
       "      <td>107.147033</td>\n",
       "      <td>NaN</td>\n",
       "      <td>NaN</td>\n",
       "      <td>NaN</td>\n",
       "      <td>NaN</td>\n",
       "      <td>NaN</td>\n",
       "      <td>NaN</td>\n",
       "      <td>NaN</td>\n",
       "      <td>NaN</td>\n",
       "    </tr>\n",
       "    <tr>\n",
       "      <th>3073</th>\n",
       "      <td>3234</td>\n",
       "      <td>110.160957</td>\n",
       "      <td>NaN</td>\n",
       "      <td>NaN</td>\n",
       "      <td>NaN</td>\n",
       "      <td>NaN</td>\n",
       "      <td>NaN</td>\n",
       "      <td>NaN</td>\n",
       "      <td>NaN</td>\n",
       "      <td>NaN</td>\n",
       "    </tr>\n",
       "    <tr>\n",
       "      <th>3074</th>\n",
       "      <td>3235</td>\n",
       "      <td>125.099525</td>\n",
       "      <td>NaN</td>\n",
       "      <td>NaN</td>\n",
       "      <td>NaN</td>\n",
       "      <td>NaN</td>\n",
       "      <td>NaN</td>\n",
       "      <td>NaN</td>\n",
       "      <td>NaN</td>\n",
       "      <td>NaN</td>\n",
       "    </tr>\n",
       "    <tr>\n",
       "      <th>3075</th>\n",
       "      <td>3236</td>\n",
       "      <td>101.162880</td>\n",
       "      <td>NaN</td>\n",
       "      <td>NaN</td>\n",
       "      <td>NaN</td>\n",
       "      <td>NaN</td>\n",
       "      <td>NaN</td>\n",
       "      <td>NaN</td>\n",
       "      <td>NaN</td>\n",
       "      <td>NaN</td>\n",
       "    </tr>\n",
       "    <tr>\n",
       "      <th>3076</th>\n",
       "      <td>3237</td>\n",
       "      <td>38.088959</td>\n",
       "      <td>NaN</td>\n",
       "      <td>NaN</td>\n",
       "      <td>NaN</td>\n",
       "      <td>NaN</td>\n",
       "      <td>NaN</td>\n",
       "      <td>NaN</td>\n",
       "      <td>NaN</td>\n",
       "      <td>NaN</td>\n",
       "    </tr>\n",
       "    <tr>\n",
       "      <th>3077</th>\n",
       "      <td>3238</td>\n",
       "      <td>56.128799</td>\n",
       "      <td>NaN</td>\n",
       "      <td>NaN</td>\n",
       "      <td>NaN</td>\n",
       "      <td>NaN</td>\n",
       "      <td>NaN</td>\n",
       "      <td>NaN</td>\n",
       "      <td>NaN</td>\n",
       "      <td>NaN</td>\n",
       "    </tr>\n",
       "    <tr>\n",
       "      <th>3078</th>\n",
       "      <td>3239</td>\n",
       "      <td>143.357761</td>\n",
       "      <td>NaN</td>\n",
       "      <td>NaN</td>\n",
       "      <td>NaN</td>\n",
       "      <td>NaN</td>\n",
       "      <td>NaN</td>\n",
       "      <td>NaN</td>\n",
       "      <td>NaN</td>\n",
       "      <td>NaN</td>\n",
       "    </tr>\n",
       "    <tr>\n",
       "      <th>3079</th>\n",
       "      <td>3240</td>\n",
       "      <td>34.070400</td>\n",
       "      <td>NaN</td>\n",
       "      <td>NaN</td>\n",
       "      <td>NaN</td>\n",
       "      <td>NaN</td>\n",
       "      <td>NaN</td>\n",
       "      <td>NaN</td>\n",
       "      <td>NaN</td>\n",
       "      <td>NaN</td>\n",
       "    </tr>\n",
       "    <tr>\n",
       "      <th>3080</th>\n",
       "      <td>3241</td>\n",
       "      <td>63.117595</td>\n",
       "      <td>NaN</td>\n",
       "      <td>NaN</td>\n",
       "      <td>NaN</td>\n",
       "      <td>NaN</td>\n",
       "      <td>NaN</td>\n",
       "      <td>NaN</td>\n",
       "      <td>NaN</td>\n",
       "      <td>NaN</td>\n",
       "    </tr>\n",
       "  </tbody>\n",
       "</table>\n",
       "</div>"
      ],
      "text/plain": [
       "       key      Wire 1  Wire 2  Wire 3  Wire 4  Wire 5  Wire 6  Wire 7  \\\n",
       "3071  3232   15.069600     NaN     NaN     NaN     NaN     NaN     NaN   \n",
       "3072  3233  107.147033     NaN     NaN     NaN     NaN     NaN     NaN   \n",
       "3073  3234  110.160957     NaN     NaN     NaN     NaN     NaN     NaN   \n",
       "3074  3235  125.099525     NaN     NaN     NaN     NaN     NaN     NaN   \n",
       "3075  3236  101.162880     NaN     NaN     NaN     NaN     NaN     NaN   \n",
       "3076  3237   38.088959     NaN     NaN     NaN     NaN     NaN     NaN   \n",
       "3077  3238   56.128799     NaN     NaN     NaN     NaN     NaN     NaN   \n",
       "3078  3239  143.357761     NaN     NaN     NaN     NaN     NaN     NaN   \n",
       "3079  3240   34.070400     NaN     NaN     NaN     NaN     NaN     NaN   \n",
       "3080  3241   63.117595     NaN     NaN     NaN     NaN     NaN     NaN   \n",
       "\n",
       "      Wire 8  Wire 9  \n",
       "3071     NaN     NaN  \n",
       "3072     NaN     NaN  \n",
       "3073     NaN     NaN  \n",
       "3074     NaN     NaN  \n",
       "3075     NaN     NaN  \n",
       "3076     NaN     NaN  \n",
       "3077     NaN     NaN  \n",
       "3078     NaN     NaN  \n",
       "3079     NaN     NaN  \n",
       "3080     NaN     NaN  "
      ]
     },
     "metadata": {},
     "output_type": "display_data"
    },
    {
     "data": {
      "text/html": [
       "<div>\n",
       "<style scoped>\n",
       "    .dataframe tbody tr th:only-of-type {\n",
       "        vertical-align: middle;\n",
       "    }\n",
       "\n",
       "    .dataframe tbody tr th {\n",
       "        vertical-align: top;\n",
       "    }\n",
       "\n",
       "    .dataframe thead th {\n",
       "        text-align: right;\n",
       "    }\n",
       "</style>\n",
       "<table border=\"1\" class=\"dataframe\">\n",
       "  <thead>\n",
       "    <tr style=\"text-align: right;\">\n",
       "      <th></th>\n",
       "      <th>key</th>\n",
       "      <th>Wire 1</th>\n",
       "      <th>Wire 2</th>\n",
       "      <th>Wire 3</th>\n",
       "      <th>Wire 4</th>\n",
       "      <th>Wire 5</th>\n",
       "      <th>Wire 6</th>\n",
       "      <th>Wire 7</th>\n",
       "      <th>Wire 8</th>\n",
       "      <th>Wire 9</th>\n",
       "    </tr>\n",
       "  </thead>\n",
       "  <tbody>\n",
       "    <tr>\n",
       "      <th>count</th>\n",
       "      <td>3081.000000</td>\n",
       "      <td>3055.000000</td>\n",
       "      <td>1079.000000</td>\n",
       "      <td>63.000000</td>\n",
       "      <td>14.000000</td>\n",
       "      <td>1.000</td>\n",
       "      <td>73.000000</td>\n",
       "      <td>11.000000</td>\n",
       "      <td>19.000000</td>\n",
       "      <td>29.000000</td>\n",
       "    </tr>\n",
       "    <tr>\n",
       "      <th>mean</th>\n",
       "      <td>1623.426485</td>\n",
       "      <td>100.895853</td>\n",
       "      <td>50.577323</td>\n",
       "      <td>189.482681</td>\n",
       "      <td>57.442841</td>\n",
       "      <td>15.132</td>\n",
       "      <td>48.016974</td>\n",
       "      <td>10.039007</td>\n",
       "      <td>53.625193</td>\n",
       "      <td>34.155752</td>\n",
       "    </tr>\n",
       "    <tr>\n",
       "      <th>std</th>\n",
       "      <td>932.996726</td>\n",
       "      <td>42.012518</td>\n",
       "      <td>39.320216</td>\n",
       "      <td>99.513444</td>\n",
       "      <td>28.824667</td>\n",
       "      <td>NaN</td>\n",
       "      <td>33.919845</td>\n",
       "      <td>8.610584</td>\n",
       "      <td>16.881728</td>\n",
       "      <td>19.931616</td>\n",
       "    </tr>\n",
       "    <tr>\n",
       "      <th>min</th>\n",
       "      <td>1.000000</td>\n",
       "      <td>1.918800</td>\n",
       "      <td>0.030160</td>\n",
       "      <td>0.144144</td>\n",
       "      <td>24.148801</td>\n",
       "      <td>15.132</td>\n",
       "      <td>0.034320</td>\n",
       "      <td>0.234208</td>\n",
       "      <td>45.076721</td>\n",
       "      <td>4.622800</td>\n",
       "    </tr>\n",
       "    <tr>\n",
       "      <th>25%</th>\n",
       "      <td>823.000000</td>\n",
       "      <td>72.115684</td>\n",
       "      <td>20.193680</td>\n",
       "      <td>95.135044</td>\n",
       "      <td>40.807002</td>\n",
       "      <td>15.132</td>\n",
       "      <td>25.053600</td>\n",
       "      <td>6.762756</td>\n",
       "      <td>46.094879</td>\n",
       "      <td>22.058401</td>\n",
       "    </tr>\n",
       "    <tr>\n",
       "      <th>50%</th>\n",
       "      <td>1619.000000</td>\n",
       "      <td>100.158234</td>\n",
       "      <td>40.142956</td>\n",
       "      <td>235.194977</td>\n",
       "      <td>45.234282</td>\n",
       "      <td>15.132</td>\n",
       "      <td>42.076324</td>\n",
       "      <td>9.017009</td>\n",
       "      <td>46.279999</td>\n",
       "      <td>30.066399</td>\n",
       "    </tr>\n",
       "    <tr>\n",
       "      <th>75%</th>\n",
       "      <td>2434.000000</td>\n",
       "      <td>126.060483</td>\n",
       "      <td>70.227558</td>\n",
       "      <td>276.252014</td>\n",
       "      <td>76.124619</td>\n",
       "      <td>15.132</td>\n",
       "      <td>64.212723</td>\n",
       "      <td>11.886057</td>\n",
       "      <td>48.089603</td>\n",
       "      <td>43.862003</td>\n",
       "    </tr>\n",
       "    <tr>\n",
       "      <th>max</th>\n",
       "      <td>3241.000000</td>\n",
       "      <td>330.314424</td>\n",
       "      <td>282.780152</td>\n",
       "      <td>385.008668</td>\n",
       "      <td>113.231044</td>\n",
       "      <td>15.132</td>\n",
       "      <td>180.454575</td>\n",
       "      <td>32.847674</td>\n",
       "      <td>102.762401</td>\n",
       "      <td>90.053604</td>\n",
       "    </tr>\n",
       "  </tbody>\n",
       "</table>\n",
       "</div>"
      ],
      "text/plain": [
       "               key       Wire 1       Wire 2      Wire 3      Wire 4  Wire 5  \\\n",
       "count  3081.000000  3055.000000  1079.000000   63.000000   14.000000   1.000   \n",
       "mean   1623.426485   100.895853    50.577323  189.482681   57.442841  15.132   \n",
       "std     932.996726    42.012518    39.320216   99.513444   28.824667     NaN   \n",
       "min       1.000000     1.918800     0.030160    0.144144   24.148801  15.132   \n",
       "25%     823.000000    72.115684    20.193680   95.135044   40.807002  15.132   \n",
       "50%    1619.000000   100.158234    40.142956  235.194977   45.234282  15.132   \n",
       "75%    2434.000000   126.060483    70.227558  276.252014   76.124619  15.132   \n",
       "max    3241.000000   330.314424   282.780152  385.008668  113.231044  15.132   \n",
       "\n",
       "           Wire 6     Wire 7      Wire 8     Wire 9  \n",
       "count   73.000000  11.000000   19.000000  29.000000  \n",
       "mean    48.016974  10.039007   53.625193  34.155752  \n",
       "std     33.919845   8.610584   16.881728  19.931616  \n",
       "min      0.034320   0.234208   45.076721   4.622800  \n",
       "25%     25.053600   6.762756   46.094879  22.058401  \n",
       "50%     42.076324   9.017009   46.279999  30.066399  \n",
       "75%     64.212723  11.886057   48.089603  43.862003  \n",
       "max    180.454575  32.847674  102.762401  90.053604  "
      ]
     },
     "execution_count": 8,
     "metadata": {},
     "output_type": "execute_result"
    }
   ],
   "source": [
    "# данные о проволочных материалах (объём)\n",
    "display(data_wire.tail(10))\n",
    "data_wire.describe()"
   ]
  },
  {
   "cell_type": "markdown",
   "metadata": {},
   "source": [
    "В датасете 3081 объект по 3241 партии, это значит, что не по всем партиям имеется информация. По некоторым столбцам заполненных данных имеется недостаточное количество, их будет сложно использовать для обучения модели."
   ]
  },
  {
   "cell_type": "code",
   "execution_count": 9,
   "metadata": {},
   "outputs": [
    {
     "data": {
      "text/html": [
       "<div>\n",
       "<style scoped>\n",
       "    .dataframe tbody tr th:only-of-type {\n",
       "        vertical-align: middle;\n",
       "    }\n",
       "\n",
       "    .dataframe tbody tr th {\n",
       "        vertical-align: top;\n",
       "    }\n",
       "\n",
       "    .dataframe thead th {\n",
       "        text-align: right;\n",
       "    }\n",
       "</style>\n",
       "<table border=\"1\" class=\"dataframe\">\n",
       "  <thead>\n",
       "    <tr style=\"text-align: right;\">\n",
       "      <th></th>\n",
       "      <th>key</th>\n",
       "      <th>Wire 1</th>\n",
       "      <th>Wire 2</th>\n",
       "      <th>Wire 3</th>\n",
       "      <th>Wire 4</th>\n",
       "      <th>Wire 5</th>\n",
       "      <th>Wire 6</th>\n",
       "      <th>Wire 7</th>\n",
       "      <th>Wire 8</th>\n",
       "      <th>Wire 9</th>\n",
       "    </tr>\n",
       "  </thead>\n",
       "  <tbody>\n",
       "    <tr>\n",
       "      <th>3071</th>\n",
       "      <td>3232</td>\n",
       "      <td>2019-08-31 20:02:30</td>\n",
       "      <td>NaN</td>\n",
       "      <td>NaN</td>\n",
       "      <td>NaN</td>\n",
       "      <td>NaN</td>\n",
       "      <td>NaN</td>\n",
       "      <td>NaN</td>\n",
       "      <td>NaN</td>\n",
       "      <td>NaN</td>\n",
       "    </tr>\n",
       "    <tr>\n",
       "      <th>3072</th>\n",
       "      <td>3233</td>\n",
       "      <td>2019-08-31 20:31:24</td>\n",
       "      <td>NaN</td>\n",
       "      <td>NaN</td>\n",
       "      <td>NaN</td>\n",
       "      <td>NaN</td>\n",
       "      <td>NaN</td>\n",
       "      <td>NaN</td>\n",
       "      <td>NaN</td>\n",
       "      <td>NaN</td>\n",
       "    </tr>\n",
       "    <tr>\n",
       "      <th>3073</th>\n",
       "      <td>3234</td>\n",
       "      <td>2019-08-31 21:03:52</td>\n",
       "      <td>NaN</td>\n",
       "      <td>NaN</td>\n",
       "      <td>NaN</td>\n",
       "      <td>NaN</td>\n",
       "      <td>NaN</td>\n",
       "      <td>NaN</td>\n",
       "      <td>NaN</td>\n",
       "      <td>NaN</td>\n",
       "    </tr>\n",
       "    <tr>\n",
       "      <th>3074</th>\n",
       "      <td>3235</td>\n",
       "      <td>2019-08-31 21:33:01</td>\n",
       "      <td>NaN</td>\n",
       "      <td>NaN</td>\n",
       "      <td>NaN</td>\n",
       "      <td>NaN</td>\n",
       "      <td>NaN</td>\n",
       "      <td>NaN</td>\n",
       "      <td>NaN</td>\n",
       "      <td>NaN</td>\n",
       "    </tr>\n",
       "    <tr>\n",
       "      <th>3075</th>\n",
       "      <td>3236</td>\n",
       "      <td>2019-08-31 22:19:43</td>\n",
       "      <td>NaN</td>\n",
       "      <td>NaN</td>\n",
       "      <td>NaN</td>\n",
       "      <td>NaN</td>\n",
       "      <td>NaN</td>\n",
       "      <td>NaN</td>\n",
       "      <td>NaN</td>\n",
       "      <td>NaN</td>\n",
       "    </tr>\n",
       "    <tr>\n",
       "      <th>3076</th>\n",
       "      <td>3237</td>\n",
       "      <td>2019-08-31 22:50:20</td>\n",
       "      <td>NaN</td>\n",
       "      <td>NaN</td>\n",
       "      <td>NaN</td>\n",
       "      <td>NaN</td>\n",
       "      <td>NaN</td>\n",
       "      <td>NaN</td>\n",
       "      <td>NaN</td>\n",
       "      <td>NaN</td>\n",
       "    </tr>\n",
       "    <tr>\n",
       "      <th>3077</th>\n",
       "      <td>3238</td>\n",
       "      <td>2019-08-31 23:38:24</td>\n",
       "      <td>NaN</td>\n",
       "      <td>NaN</td>\n",
       "      <td>NaN</td>\n",
       "      <td>NaN</td>\n",
       "      <td>NaN</td>\n",
       "      <td>NaN</td>\n",
       "      <td>NaN</td>\n",
       "      <td>NaN</td>\n",
       "    </tr>\n",
       "    <tr>\n",
       "      <th>3078</th>\n",
       "      <td>3239</td>\n",
       "      <td>2019-09-01 01:50:43</td>\n",
       "      <td>NaN</td>\n",
       "      <td>NaN</td>\n",
       "      <td>NaN</td>\n",
       "      <td>NaN</td>\n",
       "      <td>NaN</td>\n",
       "      <td>NaN</td>\n",
       "      <td>NaN</td>\n",
       "      <td>NaN</td>\n",
       "    </tr>\n",
       "    <tr>\n",
       "      <th>3079</th>\n",
       "      <td>3240</td>\n",
       "      <td>2019-09-01 03:12:02</td>\n",
       "      <td>NaN</td>\n",
       "      <td>NaN</td>\n",
       "      <td>NaN</td>\n",
       "      <td>NaN</td>\n",
       "      <td>NaN</td>\n",
       "      <td>NaN</td>\n",
       "      <td>NaN</td>\n",
       "      <td>NaN</td>\n",
       "    </tr>\n",
       "    <tr>\n",
       "      <th>3080</th>\n",
       "      <td>3241</td>\n",
       "      <td>2019-09-01 04:16:01</td>\n",
       "      <td>NaN</td>\n",
       "      <td>NaN</td>\n",
       "      <td>NaN</td>\n",
       "      <td>NaN</td>\n",
       "      <td>NaN</td>\n",
       "      <td>NaN</td>\n",
       "      <td>NaN</td>\n",
       "      <td>NaN</td>\n",
       "    </tr>\n",
       "  </tbody>\n",
       "</table>\n",
       "</div>"
      ],
      "text/plain": [
       "       key               Wire 1 Wire 2 Wire 3 Wire 4 Wire 5 Wire 6 Wire 7  \\\n",
       "3071  3232  2019-08-31 20:02:30    NaN    NaN    NaN    NaN    NaN    NaN   \n",
       "3072  3233  2019-08-31 20:31:24    NaN    NaN    NaN    NaN    NaN    NaN   \n",
       "3073  3234  2019-08-31 21:03:52    NaN    NaN    NaN    NaN    NaN    NaN   \n",
       "3074  3235  2019-08-31 21:33:01    NaN    NaN    NaN    NaN    NaN    NaN   \n",
       "3075  3236  2019-08-31 22:19:43    NaN    NaN    NaN    NaN    NaN    NaN   \n",
       "3076  3237  2019-08-31 22:50:20    NaN    NaN    NaN    NaN    NaN    NaN   \n",
       "3077  3238  2019-08-31 23:38:24    NaN    NaN    NaN    NaN    NaN    NaN   \n",
       "3078  3239  2019-09-01 01:50:43    NaN    NaN    NaN    NaN    NaN    NaN   \n",
       "3079  3240  2019-09-01 03:12:02    NaN    NaN    NaN    NaN    NaN    NaN   \n",
       "3080  3241  2019-09-01 04:16:01    NaN    NaN    NaN    NaN    NaN    NaN   \n",
       "\n",
       "     Wire 8 Wire 9  \n",
       "3071    NaN    NaN  \n",
       "3072    NaN    NaN  \n",
       "3073    NaN    NaN  \n",
       "3074    NaN    NaN  \n",
       "3075    NaN    NaN  \n",
       "3076    NaN    NaN  \n",
       "3077    NaN    NaN  \n",
       "3078    NaN    NaN  \n",
       "3079    NaN    NaN  \n",
       "3080    NaN    NaN  "
      ]
     },
     "metadata": {},
     "output_type": "display_data"
    },
    {
     "data": {
      "text/html": [
       "<div>\n",
       "<style scoped>\n",
       "    .dataframe tbody tr th:only-of-type {\n",
       "        vertical-align: middle;\n",
       "    }\n",
       "\n",
       "    .dataframe tbody tr th {\n",
       "        vertical-align: top;\n",
       "    }\n",
       "\n",
       "    .dataframe thead th {\n",
       "        text-align: right;\n",
       "    }\n",
       "</style>\n",
       "<table border=\"1\" class=\"dataframe\">\n",
       "  <thead>\n",
       "    <tr style=\"text-align: right;\">\n",
       "      <th></th>\n",
       "      <th>key</th>\n",
       "    </tr>\n",
       "  </thead>\n",
       "  <tbody>\n",
       "    <tr>\n",
       "      <th>count</th>\n",
       "      <td>3081.000000</td>\n",
       "    </tr>\n",
       "    <tr>\n",
       "      <th>mean</th>\n",
       "      <td>1623.426485</td>\n",
       "    </tr>\n",
       "    <tr>\n",
       "      <th>std</th>\n",
       "      <td>932.996726</td>\n",
       "    </tr>\n",
       "    <tr>\n",
       "      <th>min</th>\n",
       "      <td>1.000000</td>\n",
       "    </tr>\n",
       "    <tr>\n",
       "      <th>25%</th>\n",
       "      <td>823.000000</td>\n",
       "    </tr>\n",
       "    <tr>\n",
       "      <th>50%</th>\n",
       "      <td>1619.000000</td>\n",
       "    </tr>\n",
       "    <tr>\n",
       "      <th>75%</th>\n",
       "      <td>2434.000000</td>\n",
       "    </tr>\n",
       "    <tr>\n",
       "      <th>max</th>\n",
       "      <td>3241.000000</td>\n",
       "    </tr>\n",
       "  </tbody>\n",
       "</table>\n",
       "</div>"
      ],
      "text/plain": [
       "               key\n",
       "count  3081.000000\n",
       "mean   1623.426485\n",
       "std     932.996726\n",
       "min       1.000000\n",
       "25%     823.000000\n",
       "50%    1619.000000\n",
       "75%    2434.000000\n",
       "max    3241.000000"
      ]
     },
     "execution_count": 9,
     "metadata": {},
     "output_type": "execute_result"
    }
   ],
   "source": [
    "# данные о проволочных материалах (время)\n",
    "display(data_wire_time.tail(10))\n",
    "data_wire_time.describe()"
   ]
  },
  {
   "cell_type": "markdown",
   "metadata": {},
   "source": [
    "В датасете то же количество объектов, что и в предыдущем. К этим данным должны быть применены те же правила предобработки, что и к предыдущему датасету."
   ]
  },
  {
   "cell_type": "markdown",
   "metadata": {},
   "source": [
    "### Анализ данных"
   ]
  },
  {
   "cell_type": "markdown",
   "metadata": {},
   "source": [
    "Для начала переназовем столбцы в таблицах для более удобного обращения к ним впоследствии."
   ]
  },
  {
   "cell_type": "code",
   "execution_count": 10,
   "metadata": {},
   "outputs": [],
   "source": [
    "data_arc = data_arc.rename(columns = {'Начало нагрева дугой':'heating_start', 'Конец нагрева дугой':'heating_end',\n",
    "       'Активная мощность':'active_power', 'Реактивная мощность':'reactive_power'})\n",
    "data_bulk = data_bulk.rename(columns = {'Bulk 1':'bulk_1', 'Bulk 2':'bulk_2', 'Bulk 3':'bulk_3', 'Bulk 4':'bulk_4', \n",
    "                                        'Bulk 5':'bulk_5', 'Bulk 6':'bulk_6', 'Bulk 7':'bulk_7', 'Bulk 8':'bulk_8', \n",
    "                                        'Bulk 9':'bulk_9', 'Bulk 10':'bulk_10', 'Bulk 11':'bulk_11', 'Bulk 12':'bulk_12',\n",
    "                                        'Bulk 13':'bulk_13', 'Bulk 14':'bulk_14', 'Bulk 15':'bulk_15'})\n",
    "data_bulk_time = data_bulk_time.rename(columns = {'Bulk 1':'bulk_1', 'Bulk 2':'bulk_2', 'Bulk 3':'bulk_3', 'Bulk 4':'bulk_4', \n",
    "                                        'Bulk 5':'bulk_5', 'Bulk 6':'bulk_6', 'Bulk 7':'bulk_7', 'Bulk 8':'bulk_8', \n",
    "                                        'Bulk 9':'bulk_9', 'Bulk 10':'bulk_10', 'Bulk 11':'bulk_11', 'Bulk 12':'bulk_12',\n",
    "                                        'Bulk 13':'bulk_13', 'Bulk 14':'bulk_14', 'Bulk 15':'bulk_15'})\n",
    "data_gas = data_gas.rename(columns = {'Газ 1': 'gas_total'})\n",
    "data_temp = data_temp.rename(columns = {'Время замера':'time_stamp', 'Температура':'measured_temp'})\n",
    "data_wire = data_wire.rename(columns = {'Wire 1':'wire_1', 'Wire 2':'wire_2', 'Wire 3':'wire_3', 'Wire 4':'wire_4', \n",
    "                                        'Wire 5':'wire_5', 'Wire 6':'wire_6', 'Wire 7':'wire_7', 'Wire 8':'wire_8', 'Wire 9':'wire_9'})\n",
    "data_wire_time = data_wire_time.rename(columns = {'Wire 1':'wire_1', 'Wire 2':'wire_2', 'Wire 3':'wire_3', 'Wire 4':'wire_4', \n",
    "                                        'Wire 5':'wire_5', 'Wire 6':'wire_6', 'Wire 7':'wire_7', 'Wire 8':'wire_8', 'Wire 9':'wire_9'})"
   ]
  },
  {
   "cell_type": "code",
   "execution_count": 11,
   "metadata": {},
   "outputs": [
    {
     "data": {
      "text/plain": [
       "Index(['key', 'bulk_1', 'bulk_2', 'bulk_3', 'bulk_4', 'bulk_5', 'bulk_6',\n",
       "       'bulk_7', 'bulk_8', 'bulk_9', 'bulk_10', 'bulk_11', 'bulk_12',\n",
       "       'bulk_13', 'bulk_14', 'bulk_15'],\n",
       "      dtype='object')"
      ]
     },
     "execution_count": 11,
     "metadata": {},
     "output_type": "execute_result"
    }
   ],
   "source": [
    "# проверим как прошла замена на примере одного из датасетов\n",
    "data_bulk.columns"
   ]
  },
  {
   "cell_type": "markdown",
   "metadata": {},
   "source": [
    "Исследуем данные на графиках для более наглядной визуализации и легкой интерпретации."
   ]
  },
  {
   "cell_type": "code",
   "execution_count": 12,
   "metadata": {},
   "outputs": [],
   "source": [
    "#создадим функцию для выведения графика Гистограмма\n",
    "def hist_graph(data, bins):\n",
    "    try:\n",
    "        for column in data.columns:\n",
    "            plt.hist(data[column], bins = bins)\n",
    "            plt.ylabel('Кол-во объектов')\n",
    "            plt.title('Распределение данных')\n",
    "            plt.grid(which = 'major')\n",
    "            plt.legend(data.columns)\n",
    "        plt.show;\n",
    "    except:\n",
    "        plt.hist(data, bins = bins)\n",
    "        plt.ylabel('Кол-во объектов')\n",
    "        plt.title('Распределение данных')\n",
    "        plt.grid(which = 'major')\n",
    "        plt.show;"
   ]
  },
  {
   "cell_type": "code",
   "execution_count": 13,
   "metadata": {},
   "outputs": [],
   "source": [
    "#создадим функцию для выведения графика Ящик с усами\n",
    "def box_plot_graph(data, figsize = (9,9)):\n",
    "    data.plot(kind = 'box', figsize=figsize)\n",
    "    plt.title('Диаграмма \"Ящик с усами\"')\n",
    "    plt.show;"
   ]
  },
  {
   "cell_type": "code",
   "execution_count": 14,
   "metadata": {},
   "outputs": [
    {
     "data": {
      "image/png": "[encoded data removed]",
      "text/plain": [
       "<Figure size 432x288 with 1 Axes>"
      ]
     },
     "metadata": {
      "needs_background": "light"
     },
     "output_type": "display_data"
    }
   ],
   "source": [
    "data_arc = data_arc[data_arc['reactive_power']>0] # тк в этом столбце были выбросы и аномалии, уберем их\n",
    "hist_graph(data_arc[['active_power', 'reactive_power']], 20)"
   ]
  },
  {
   "cell_type": "code",
   "execution_count": 15,
   "metadata": {},
   "outputs": [
    {
     "data": {
      "image/png": "[encoded data removed]",
      "text/plain": [
       "<Figure size 648x648 with 1 Axes>"
      ]
     },
     "metadata": {
      "needs_background": "light"
     },
     "output_type": "display_data"
    }
   ],
   "source": [
    "box_plot_graph(data_arc[['active_power', 'reactive_power']])"
   ]
  },
  {
   "cell_type": "code",
   "execution_count": 16,
   "metadata": {},
   "outputs": [
    {
     "data": {
      "image/png": "[encoded data removed]",
      "text/plain": [
       "<Figure size 1080x432 with 1 Axes>"
      ]
     },
     "metadata": {
      "needs_background": "light"
     },
     "output_type": "display_data"
    }
   ],
   "source": [
    "box_plot_graph(data_bulk.drop(['key'], axis = 1), figsize=(15,6))"
   ]
  },
  {
   "cell_type": "code",
   "execution_count": 17,
   "metadata": {
    "scrolled": true
   },
   "outputs": [
    {
     "data": {
      "image/png": "[encoded data removed]",
      "text/plain": [
       "<Figure size 432x288 with 1 Axes>"
      ]
     },
     "metadata": {
      "needs_background": "light"
     },
     "output_type": "display_data"
    }
   ],
   "source": [
    "hist_graph(data_gas['gas_total'], 20)"
   ]
  },
  {
   "cell_type": "code",
   "execution_count": 18,
   "metadata": {},
   "outputs": [
    {
     "data": {
      "image/png": "[encoded data removed]",
      "text/plain": [
       "<Figure size 432x432 with 1 Axes>"
      ]
     },
     "metadata": {
      "needs_background": "light"
     },
     "output_type": "display_data"
    }
   ],
   "source": [
    "box_plot_graph(data_gas['gas_total'], figsize = (6,6))"
   ]
  },
  {
   "cell_type": "code",
   "execution_count": 19,
   "metadata": {},
   "outputs": [
    {
     "data": {
      "image/png": "[encoded data removed]",
      "text/plain": [
       "<Figure size 432x288 with 1 Axes>"
      ]
     },
     "metadata": {
      "needs_background": "light"
     },
     "output_type": "display_data"
    }
   ],
   "source": [
    "hist_graph(data_temp['measured_temp'], 50)"
   ]
  },
  {
   "cell_type": "code",
   "execution_count": 20,
   "metadata": {},
   "outputs": [
    {
     "data": {
      "image/png": "[encoded data removed]",
      "text/plain": [
       "<Figure size 360x648 with 1 Axes>"
      ]
     },
     "metadata": {
      "needs_background": "light"
     },
     "output_type": "display_data"
    }
   ],
   "source": [
    "box_plot_graph(data_temp['measured_temp'], figsize=(5,9))"
   ]
  },
  {
   "cell_type": "code",
   "execution_count": 21,
   "metadata": {},
   "outputs": [
    {
     "data": {
      "image/png": "[encoded data removed]",
      "text/plain": [
       "<Figure size 432x288 with 1 Axes>"
      ]
     },
     "metadata": {
      "needs_background": "light"
     },
     "output_type": "display_data"
    }
   ],
   "source": [
    "hist_graph(data_wire.drop(['key'], axis =1), 50)"
   ]
  },
  {
   "cell_type": "code",
   "execution_count": 22,
   "metadata": {},
   "outputs": [
    {
     "data": {
      "image/png": "[encoded data removed]",
      "text/plain": [
       "<Figure size 720x360 with 1 Axes>"
      ]
     },
     "metadata": {
      "needs_background": "light"
     },
     "output_type": "display_data"
    }
   ],
   "source": [
    "box_plot_graph(data_wire.drop(['key'], axis =1), figsize=(10,5))"
   ]
  },
  {
   "cell_type": "markdown",
   "metadata": {},
   "source": [
    "**Выводы по графикам** <br>\n",
    "При предобработке и подготовке данных для обучения моделей нам необходимо будет учесть следующее:\n",
    "1. В таблице data_arc данные распределены нормально. Были аномалии в столбце reactive_power, которые пришлось исключить  до визуализации.\n",
    "2. В таблице data_bulk есть аномалии в столбцах bulk_5 и bulk_12. \n",
    "3. В таблице data_gas данные распределены нормально. Есть единичные аномалии (от 40 и выше), но производство сообщило, что все данные по газу реальны. Оставим их для обучения модели.\n",
    "4. В таблице data_temp данные распределены нормально и 99% значений сосредоточены между значениями 1500 и 1700. Значение вне этих диапазонов можно отбросить как аномальные.\n",
    "5. В таблице data_wire мы видим, что основное количество данных - в столбцах wire_1 & wire_2. Там же имеются аномальные значение - свыше 200 в wire_1 и свыше 150 в wire_2. Данные в wire_3 распределены равномерно, выбросов нет. Данных по остальным столбцам недостаточно, чтобы явно судить о выбросах. <br>\n",
    "На этапе подготовки данных для моделей мы очистим данные от аномалий."
   ]
  },
  {
   "cell_type": "markdown",
   "metadata": {},
   "source": [
    "### Oчистка данных от аномалий"
   ]
  },
  {
   "cell_type": "markdown",
   "metadata": {},
   "source": [
    "Для начала выясним, есть ли в наших данных пропуски и дубликаты. Дубликаты необходимо удалить в любом случае, а пропуски необходимо удалить (в случае если это критично незаполненный пункт данных таргета или признаков) или заменить на соответствующее значение (если это некритичный или легко восполнимый пункт данных)."
   ]
  },
  {
   "cell_type": "code",
   "execution_count": 23,
   "metadata": {},
   "outputs": [],
   "source": [
    "#создадим функцию выявления количества пропусков  и дубликатов\n",
    "def null_duplicates(data):\n",
    "    null = np.array(data.isnull().sum())\n",
    "    if null.sum()>0:\n",
    "        print('Есть пропуски в строках таблицы:')\n",
    "        print(data.isnull().sum())\n",
    "    else:\n",
    "        print('Пропусков в датасете нет.')\n",
    "    if data.duplicated().sum() >0:\n",
    "        print('Есть дубликаты в строках таблицы:', data.is_duplicated().sum())\n",
    "    else:\n",
    "        print('Дубликатов в датасете нет.')"
   ]
  },
  {
   "cell_type": "code",
   "execution_count": 24,
   "metadata": {},
   "outputs": [
    {
     "name": "stdout",
     "output_type": "stream",
     "text": [
      "Пропусков в датасете нет.\n",
      "Дубликатов в датасете нет.\n"
     ]
    }
   ],
   "source": [
    "null_duplicates(data_arc)"
   ]
  },
  {
   "cell_type": "code",
   "execution_count": 25,
   "metadata": {},
   "outputs": [
    {
     "name": "stdout",
     "output_type": "stream",
     "text": [
      "Есть пропуски в строках таблицы:\n",
      "key           0\n",
      "bulk_1     2877\n",
      "bulk_2     3107\n",
      "bulk_3     1831\n",
      "bulk_4     2115\n",
      "bulk_5     3052\n",
      "bulk_6     2553\n",
      "bulk_7     3104\n",
      "bulk_8     3128\n",
      "bulk_9     3110\n",
      "bulk_10    2953\n",
      "bulk_11    2952\n",
      "bulk_12     679\n",
      "bulk_13    3111\n",
      "bulk_14     323\n",
      "bulk_15     881\n",
      "dtype: int64\n",
      "Дубликатов в датасете нет.\n"
     ]
    }
   ],
   "source": [
    "null_duplicates(data_bulk)"
   ]
  },
  {
   "cell_type": "code",
   "execution_count": 26,
   "metadata": {},
   "outputs": [
    {
     "name": "stdout",
     "output_type": "stream",
     "text": [
      "Есть пропуски в строках таблицы:\n",
      "key           0\n",
      "bulk_1     2877\n",
      "bulk_2     3107\n",
      "bulk_3     1831\n",
      "bulk_4     2115\n",
      "bulk_5     3052\n",
      "bulk_6     2553\n",
      "bulk_7     3104\n",
      "bulk_8     3128\n",
      "bulk_9     3110\n",
      "bulk_10    2953\n",
      "bulk_11    2952\n",
      "bulk_12     679\n",
      "bulk_13    3111\n",
      "bulk_14     323\n",
      "bulk_15     881\n",
      "dtype: int64\n",
      "Дубликатов в датасете нет.\n"
     ]
    }
   ],
   "source": [
    "null_duplicates(data_bulk_time)"
   ]
  },
  {
   "cell_type": "code",
   "execution_count": 27,
   "metadata": {},
   "outputs": [
    {
     "name": "stdout",
     "output_type": "stream",
     "text": [
      "Пропусков в датасете нет.\n",
      "Дубликатов в датасете нет.\n"
     ]
    }
   ],
   "source": [
    "null_duplicates(data_gas)"
   ]
  },
  {
   "cell_type": "code",
   "execution_count": 28,
   "metadata": {},
   "outputs": [
    {
     "name": "stdout",
     "output_type": "stream",
     "text": [
      "Есть пропуски в строках таблицы:\n",
      "key                 0\n",
      "time_stamp          0\n",
      "measured_temp    2901\n",
      "dtype: int64\n",
      "Дубликатов в датасете нет.\n"
     ]
    }
   ],
   "source": [
    "null_duplicates(data_temp)"
   ]
  },
  {
   "cell_type": "code",
   "execution_count": 29,
   "metadata": {},
   "outputs": [
    {
     "name": "stdout",
     "output_type": "stream",
     "text": [
      "Есть пропуски в строках таблицы:\n",
      "key          0\n",
      "wire_1      26\n",
      "wire_2    2002\n",
      "wire_3    3018\n",
      "wire_4    3067\n",
      "wire_5    3080\n",
      "wire_6    3008\n",
      "wire_7    3070\n",
      "wire_8    3062\n",
      "wire_9    3052\n",
      "dtype: int64\n",
      "Дубликатов в датасете нет.\n"
     ]
    }
   ],
   "source": [
    "null_duplicates(data_wire)"
   ]
  },
  {
   "cell_type": "code",
   "execution_count": 30,
   "metadata": {},
   "outputs": [
    {
     "name": "stdout",
     "output_type": "stream",
     "text": [
      "Есть пропуски в строках таблицы:\n",
      "key          0\n",
      "wire_1      26\n",
      "wire_2    2002\n",
      "wire_3    3018\n",
      "wire_4    3067\n",
      "wire_5    3080\n",
      "wire_6    3008\n",
      "wire_7    3070\n",
      "wire_8    3062\n",
      "wire_9    3052\n",
      "dtype: int64\n",
      "Дубликатов в датасете нет.\n"
     ]
    }
   ],
   "source": [
    "null_duplicates(data_wire_time)"
   ]
  },
  {
   "cell_type": "markdown",
   "metadata": {},
   "source": [
    "Дубликатов во всех имеющихся датасетах невыявлено. Пропуски есть в таблицах wire и bulk. Это соответстует техпроцессу: на стадии легирования добавляются не всегда одни и те же добавки. Если та или иная добавка не была добавлена, то система заполняет данные как N/a, хотя фактически количество добавленного материала просто равно 0. <br>\n",
    "Мы можем заменить пропущенные данные в таблицах на 0. <br>"
   ]
  },
  {
   "cell_type": "code",
   "execution_count": 31,
   "metadata": {},
   "outputs": [],
   "source": [
    "data_bulk = data_bulk.fillna(0)\n",
    "data_bulk_time = data_bulk_time.fillna(0)\n",
    "data_wire = data_wire.fillna(0)\n",
    "data_wire_time = data_wire_time.fillna(0)"
   ]
  },
  {
   "cell_type": "code",
   "execution_count": 32,
   "metadata": {},
   "outputs": [
    {
     "data": {
      "text/html": [
       "<div>\n",
       "<style scoped>\n",
       "    .dataframe tbody tr th:only-of-type {\n",
       "        vertical-align: middle;\n",
       "    }\n",
       "\n",
       "    .dataframe tbody tr th {\n",
       "        vertical-align: top;\n",
       "    }\n",
       "\n",
       "    .dataframe thead th {\n",
       "        text-align: right;\n",
       "    }\n",
       "</style>\n",
       "<table border=\"1\" class=\"dataframe\">\n",
       "  <thead>\n",
       "    <tr style=\"text-align: right;\">\n",
       "      <th></th>\n",
       "      <th>key</th>\n",
       "      <th>wire_1</th>\n",
       "      <th>wire_2</th>\n",
       "      <th>wire_3</th>\n",
       "      <th>wire_4</th>\n",
       "      <th>wire_5</th>\n",
       "      <th>wire_6</th>\n",
       "      <th>wire_7</th>\n",
       "      <th>wire_8</th>\n",
       "      <th>wire_9</th>\n",
       "    </tr>\n",
       "  </thead>\n",
       "  <tbody>\n",
       "    <tr>\n",
       "      <th>3076</th>\n",
       "      <td>3237</td>\n",
       "      <td>38.088959</td>\n",
       "      <td>0.0</td>\n",
       "      <td>0.0</td>\n",
       "      <td>0.0</td>\n",
       "      <td>0.0</td>\n",
       "      <td>0.0</td>\n",
       "      <td>0.0</td>\n",
       "      <td>0.0</td>\n",
       "      <td>0.0</td>\n",
       "    </tr>\n",
       "    <tr>\n",
       "      <th>3077</th>\n",
       "      <td>3238</td>\n",
       "      <td>56.128799</td>\n",
       "      <td>0.0</td>\n",
       "      <td>0.0</td>\n",
       "      <td>0.0</td>\n",
       "      <td>0.0</td>\n",
       "      <td>0.0</td>\n",
       "      <td>0.0</td>\n",
       "      <td>0.0</td>\n",
       "      <td>0.0</td>\n",
       "    </tr>\n",
       "    <tr>\n",
       "      <th>3078</th>\n",
       "      <td>3239</td>\n",
       "      <td>143.357761</td>\n",
       "      <td>0.0</td>\n",
       "      <td>0.0</td>\n",
       "      <td>0.0</td>\n",
       "      <td>0.0</td>\n",
       "      <td>0.0</td>\n",
       "      <td>0.0</td>\n",
       "      <td>0.0</td>\n",
       "      <td>0.0</td>\n",
       "    </tr>\n",
       "    <tr>\n",
       "      <th>3079</th>\n",
       "      <td>3240</td>\n",
       "      <td>34.070400</td>\n",
       "      <td>0.0</td>\n",
       "      <td>0.0</td>\n",
       "      <td>0.0</td>\n",
       "      <td>0.0</td>\n",
       "      <td>0.0</td>\n",
       "      <td>0.0</td>\n",
       "      <td>0.0</td>\n",
       "      <td>0.0</td>\n",
       "    </tr>\n",
       "    <tr>\n",
       "      <th>3080</th>\n",
       "      <td>3241</td>\n",
       "      <td>63.117595</td>\n",
       "      <td>0.0</td>\n",
       "      <td>0.0</td>\n",
       "      <td>0.0</td>\n",
       "      <td>0.0</td>\n",
       "      <td>0.0</td>\n",
       "      <td>0.0</td>\n",
       "      <td>0.0</td>\n",
       "      <td>0.0</td>\n",
       "    </tr>\n",
       "  </tbody>\n",
       "</table>\n",
       "</div>"
      ],
      "text/plain": [
       "       key      wire_1  wire_2  wire_3  wire_4  wire_5  wire_6  wire_7  \\\n",
       "3076  3237   38.088959     0.0     0.0     0.0     0.0     0.0     0.0   \n",
       "3077  3238   56.128799     0.0     0.0     0.0     0.0     0.0     0.0   \n",
       "3078  3239  143.357761     0.0     0.0     0.0     0.0     0.0     0.0   \n",
       "3079  3240   34.070400     0.0     0.0     0.0     0.0     0.0     0.0   \n",
       "3080  3241   63.117595     0.0     0.0     0.0     0.0     0.0     0.0   \n",
       "\n",
       "      wire_8  wire_9  \n",
       "3076     0.0     0.0  \n",
       "3077     0.0     0.0  \n",
       "3078     0.0     0.0  \n",
       "3079     0.0     0.0  \n",
       "3080     0.0     0.0  "
      ]
     },
     "metadata": {},
     "output_type": "display_data"
    },
    {
     "name": "stdout",
     "output_type": "stream",
     "text": [
      "<class 'pandas.core.frame.DataFrame'>\n",
      "RangeIndex: 3081 entries, 0 to 3080\n",
      "Data columns (total 10 columns):\n",
      " #   Column  Non-Null Count  Dtype  \n",
      "---  ------  --------------  -----  \n",
      " 0   key     3081 non-null   int64  \n",
      " 1   wire_1  3081 non-null   float64\n",
      " 2   wire_2  3081 non-null   float64\n",
      " 3   wire_3  3081 non-null   float64\n",
      " 4   wire_4  3081 non-null   float64\n",
      " 5   wire_5  3081 non-null   float64\n",
      " 6   wire_6  3081 non-null   float64\n",
      " 7   wire_7  3081 non-null   float64\n",
      " 8   wire_8  3081 non-null   float64\n",
      " 9   wire_9  3081 non-null   float64\n",
      "dtypes: float64(9), int64(1)\n",
      "memory usage: 240.8 KB\n"
     ]
    }
   ],
   "source": [
    "#чтобы убедиться, что замена прошла корректно, выведем на экран любой один датасет\n",
    "display(data_wire.tail())\n",
    "data_wire.info()"
   ]
  },
  {
   "cell_type": "markdown",
   "metadata": {},
   "source": [
    "Также есть пропуски в таблице temp. Т.к. это ключевая таблица, которая содержит значения таргета, нам необходимо подробнее изучить пропущенные значения."
   ]
  },
  {
   "cell_type": "code",
   "execution_count": 33,
   "metadata": {
    "scrolled": true
   },
   "outputs": [
    {
     "data": {
      "text/html": [
       "<div>\n",
       "<style scoped>\n",
       "    .dataframe tbody tr th:only-of-type {\n",
       "        vertical-align: middle;\n",
       "    }\n",
       "\n",
       "    .dataframe tbody tr th {\n",
       "        vertical-align: top;\n",
       "    }\n",
       "\n",
       "    .dataframe thead th {\n",
       "        text-align: right;\n",
       "    }\n",
       "</style>\n",
       "<table border=\"1\" class=\"dataframe\">\n",
       "  <thead>\n",
       "    <tr style=\"text-align: right;\">\n",
       "      <th></th>\n",
       "      <th>key</th>\n",
       "      <th>time_stamp</th>\n",
       "      <th>measured_temp</th>\n",
       "    </tr>\n",
       "  </thead>\n",
       "  <tbody>\n",
       "    <tr>\n",
       "      <th>12268</th>\n",
       "      <td>2500</td>\n",
       "      <td>2019-08-06 03:24:43</td>\n",
       "      <td>NaN</td>\n",
       "    </tr>\n",
       "    <tr>\n",
       "      <th>12269</th>\n",
       "      <td>2500</td>\n",
       "      <td>2019-08-06 03:25:16</td>\n",
       "      <td>NaN</td>\n",
       "    </tr>\n",
       "    <tr>\n",
       "      <th>12270</th>\n",
       "      <td>2500</td>\n",
       "      <td>2019-08-06 03:28:21</td>\n",
       "      <td>NaN</td>\n",
       "    </tr>\n",
       "    <tr>\n",
       "      <th>12272</th>\n",
       "      <td>2501</td>\n",
       "      <td>2019-08-06 04:01:59</td>\n",
       "      <td>NaN</td>\n",
       "    </tr>\n",
       "    <tr>\n",
       "      <th>12273</th>\n",
       "      <td>2501</td>\n",
       "      <td>2019-08-06 04:14:35</td>\n",
       "      <td>NaN</td>\n",
       "    </tr>\n",
       "    <tr>\n",
       "      <th>...</th>\n",
       "      <td>...</td>\n",
       "      <td>...</td>\n",
       "      <td>...</td>\n",
       "    </tr>\n",
       "    <tr>\n",
       "      <th>15901</th>\n",
       "      <td>3240</td>\n",
       "      <td>2019-09-01 03:35:16</td>\n",
       "      <td>NaN</td>\n",
       "    </tr>\n",
       "    <tr>\n",
       "      <th>15903</th>\n",
       "      <td>3241</td>\n",
       "      <td>2019-09-01 04:16:12</td>\n",
       "      <td>NaN</td>\n",
       "    </tr>\n",
       "    <tr>\n",
       "      <th>15904</th>\n",
       "      <td>3241</td>\n",
       "      <td>2019-09-01 04:22:39</td>\n",
       "      <td>NaN</td>\n",
       "    </tr>\n",
       "    <tr>\n",
       "      <th>15905</th>\n",
       "      <td>3241</td>\n",
       "      <td>2019-09-01 04:33:42</td>\n",
       "      <td>NaN</td>\n",
       "    </tr>\n",
       "    <tr>\n",
       "      <th>15906</th>\n",
       "      <td>3241</td>\n",
       "      <td>2019-09-01 04:38:08</td>\n",
       "      <td>NaN</td>\n",
       "    </tr>\n",
       "  </tbody>\n",
       "</table>\n",
       "<p>2901 rows × 3 columns</p>\n",
       "</div>"
      ],
      "text/plain": [
       "        key           time_stamp  measured_temp\n",
       "12268  2500  2019-08-06 03:24:43            NaN\n",
       "12269  2500  2019-08-06 03:25:16            NaN\n",
       "12270  2500  2019-08-06 03:28:21            NaN\n",
       "12272  2501  2019-08-06 04:01:59            NaN\n",
       "12273  2501  2019-08-06 04:14:35            NaN\n",
       "...     ...                  ...            ...\n",
       "15901  3240  2019-09-01 03:35:16            NaN\n",
       "15903  3241  2019-09-01 04:16:12            NaN\n",
       "15904  3241  2019-09-01 04:22:39            NaN\n",
       "15905  3241  2019-09-01 04:33:42            NaN\n",
       "15906  3241  2019-09-01 04:38:08            NaN\n",
       "\n",
       "[2901 rows x 3 columns]"
      ]
     },
     "execution_count": 33,
     "metadata": {},
     "output_type": "execute_result"
    }
   ],
   "source": [
    "rejected_batch = data_temp[data_temp['measured_temp'].isnull() == True]\n",
    "rejected_batch"
   ]
  },
  {
   "cell_type": "code",
   "execution_count": 34,
   "metadata": {},
   "outputs": [
    {
     "data": {
      "text/plain": [
       "array([2500, 2501, 2502, 2503, 2504, 2505, 2506, 2507, 2508, 2509, 2510,\n",
       "       2511, 2512, 2513, 2514, 2515, 2516, 2517, 2518, 2519, 2520, 2521,\n",
       "       2522, 2523, 2524, 2525, 2526, 2527, 2528, 2529, 2530, 2531, 2532,\n",
       "       2533, 2534, 2535, 2536, 2537, 2538, 2539, 2540, 2541, 2542, 2543,\n",
       "       2544, 2545, 2546, 2547, 2548, 2549, 2550, 2551, 2552, 2553, 2554,\n",
       "       2555, 2556, 2557, 2558, 2559, 2560, 2561, 2562, 2563, 2564, 2565,\n",
       "       2566, 2567, 2568, 2569, 2570, 2571, 2572, 2573, 2574, 2575, 2576,\n",
       "       2577, 2578, 2579, 2580, 2581, 2582, 2583, 2584, 2585, 2586, 2587,\n",
       "       2588, 2589, 2590, 2591, 2592, 2593, 2594, 2595, 2596, 2597, 2598,\n",
       "       2599, 2600, 2601, 2602, 2603, 2604, 2605, 2606, 2607, 2608, 2609,\n",
       "       2610, 2611, 2612, 2613, 2614, 2615, 2616, 2617, 2618, 2619, 2620,\n",
       "       2621, 2622, 2623, 2624, 2625, 2626, 2627, 2628, 2629, 2630, 2631,\n",
       "       2632, 2633, 2634, 2635, 2636, 2637, 2638, 2639, 2640, 2641, 2642,\n",
       "       2643, 2644, 2645, 2646, 2647, 2648, 2649, 2650, 2651, 2652, 2653,\n",
       "       2654, 2655, 2656, 2657, 2658, 2659, 2660, 2661, 2662, 2663, 2664,\n",
       "       2665, 2666, 2667, 2668, 2669, 2670, 2671, 2672, 2673, 2674, 2675,\n",
       "       2676, 2677, 2678, 2679, 2680, 2681, 2682, 2684, 2685, 2686, 2687,\n",
       "       2688, 2689, 2690, 2691, 2692, 2693, 2694, 2695, 2696, 2697, 2698,\n",
       "       2699, 2700, 2701, 2702, 2703, 2704, 2705, 2706, 2707, 2708, 2709,\n",
       "       2710, 2711, 2712, 2713, 2714, 2715, 2716, 2717, 2718, 2719, 2720,\n",
       "       2721, 2722, 2723, 2724, 2725, 2726, 2727, 2728, 2729, 2730, 2731,\n",
       "       2732, 2733, 2734, 2735, 2736, 2737, 2738, 2739, 2740, 2741, 2742,\n",
       "       2743, 2744, 2745, 2746, 2747, 2748, 2749, 2750, 2751, 2752, 2753,\n",
       "       2754, 2755, 2756, 2757, 2758, 2759, 2760, 2761, 2762, 2763, 2764,\n",
       "       2765, 2766, 2767, 2768, 2769, 2770, 2771, 2772, 2773, 2774, 2775,\n",
       "       2776, 2777, 2778, 2779, 2780, 2781, 2782, 2783, 2784, 2785, 2786,\n",
       "       2787, 2788, 2789, 2790, 2791, 2792, 2793, 2794, 2795, 2796, 2797,\n",
       "       2798, 2799, 2800, 2801, 2802, 2803, 2804, 2805, 2806, 2807, 2808,\n",
       "       2809, 2810, 2811, 2812, 2813, 2814, 2815, 2816, 2817, 2818, 2819,\n",
       "       2820, 2821, 2822, 2823, 2824, 2825, 2826, 2827, 2828, 2829, 2830,\n",
       "       2831, 2832, 2833, 2834, 2835, 2836, 2837, 2838, 2839, 2840, 2841,\n",
       "       2842, 2843, 2844, 2845, 2846, 2847, 2848, 2849, 2850, 2851, 2852,\n",
       "       2853, 2854, 2855, 2856, 2857, 2858, 2859, 2860, 2861, 2862, 2863,\n",
       "       2864, 2865, 2866, 2867, 2868, 2869, 2870, 2871, 2872, 2873, 2874,\n",
       "       2875, 2876, 2877, 2878, 2879, 2880, 2881, 2882, 2883, 2884, 2885,\n",
       "       2886, 2887, 2888, 2889, 2890, 2891, 2892, 2893, 2894, 2895, 2896,\n",
       "       2897, 2898, 2899, 2900, 2901, 2902, 2903, 2904, 2905, 2906, 2907,\n",
       "       2908, 2909, 2910, 2911, 2912, 2913, 2914, 2915, 2916, 2917, 2918,\n",
       "       2919, 2920, 2921, 2922, 2923, 2924, 2925, 2926, 2927, 2928, 2929,\n",
       "       2930, 2931, 2932, 2933, 2934, 2935, 2936, 2937, 2938, 2939, 2940,\n",
       "       2941, 2942, 2943, 2944, 2945, 2946, 2947, 2948, 2949, 2950, 2951,\n",
       "       2952, 2953, 2954, 2955, 2956, 2957, 2958, 2959, 2960, 2961, 2962,\n",
       "       2963, 2964, 2965, 2966, 2967, 2968, 2969, 2970, 2971, 2972, 2973,\n",
       "       2974, 2975, 2976, 2977, 2978, 2979, 2980, 2981, 2982, 2983, 2984,\n",
       "       2985, 2986, 2987, 2988, 2989, 2990, 2991, 2992, 2993, 2994, 2995,\n",
       "       2996, 2997, 2998, 2999, 3000, 3001, 3002, 3003, 3004, 3005, 3006,\n",
       "       3007, 3008, 3009, 3010, 3011, 3012, 3013, 3014, 3015, 3016, 3017,\n",
       "       3018, 3019, 3020, 3021, 3022, 3023, 3024, 3025, 3026, 3027, 3028,\n",
       "       3029, 3030, 3031, 3032, 3033, 3034, 3035, 3036, 3037, 3038, 3039,\n",
       "       3040, 3041, 3042, 3043, 3044, 3045, 3046, 3047, 3048, 3049, 3050,\n",
       "       3051, 3052, 3053, 3054, 3055, 3056, 3057, 3058, 3059, 3060, 3061,\n",
       "       3062, 3063, 3064, 3065, 3066, 3067, 3068, 3069, 3070, 3071, 3072,\n",
       "       3073, 3074, 3075, 3076, 3077, 3078, 3079, 3080, 3081, 3082, 3083,\n",
       "       3084, 3085, 3086, 3087, 3088, 3089, 3090, 3091, 3092, 3093, 3094,\n",
       "       3095, 3096, 3097, 3098, 3099, 3100, 3101, 3102, 3103, 3104, 3105,\n",
       "       3106, 3107, 3108, 3109, 3110, 3111, 3112, 3113, 3114, 3115, 3116,\n",
       "       3117, 3118, 3119, 3120, 3121, 3122, 3123, 3124, 3125, 3126, 3127,\n",
       "       3128, 3129, 3130, 3131, 3132, 3133, 3134, 3135, 3136, 3137, 3138,\n",
       "       3139, 3140, 3141, 3142, 3143, 3144, 3145, 3146, 3147, 3148, 3149,\n",
       "       3150, 3151, 3152, 3153, 3154, 3155, 3156, 3157, 3158, 3159, 3160,\n",
       "       3161, 3162, 3163, 3164, 3165, 3166, 3167, 3168, 3169, 3170, 3171,\n",
       "       3172, 3173, 3174, 3175, 3176, 3177, 3178, 3179, 3180, 3181, 3182,\n",
       "       3183, 3184, 3185, 3186, 3187, 3188, 3189, 3190, 3191, 3192, 3193,\n",
       "       3194, 3195, 3196, 3197, 3198, 3199, 3201, 3202, 3203, 3204, 3205,\n",
       "       3206, 3208, 3209, 3210, 3211, 3212, 3213, 3214, 3215, 3216, 3217,\n",
       "       3218, 3219, 3220, 3221, 3222, 3223, 3224, 3225, 3226, 3227, 3228,\n",
       "       3229, 3230, 3231, 3232, 3233, 3234, 3235, 3236, 3237, 3238, 3239,\n",
       "       3240, 3241])"
      ]
     },
     "execution_count": 34,
     "metadata": {},
     "output_type": "execute_result"
    }
   ],
   "source": [
    "batch_num= rejected_batch['key'].unique()\n",
    "batch_num"
   ]
  },
  {
   "cell_type": "markdown",
   "metadata": {},
   "source": [
    "У нас есть список партий, в которых данные по измерениям температуры неполные. Очевидно, что после 2500-й партии данные по измерениям у нас неполные. <br>\n",
    "Из таблицы с температурами нас интересуют только первое измерение (это входная температура сплава) и последнее измерение температуры (это наш целевой признак). Остальные пропуски для нас не важны, их мы можем убрать из датасета. <br>\n",
    "Мы соберем номера тех партий, где отсутствуют первое или последнее измерение, и после исключим эти партии из датасета."
   ]
  },
  {
   "cell_type": "code",
   "execution_count": 35,
   "metadata": {},
   "outputs": [
    {
     "data": {
      "text/html": [
       "<div>\n",
       "<style scoped>\n",
       "    .dataframe tbody tr th:only-of-type {\n",
       "        vertical-align: middle;\n",
       "    }\n",
       "\n",
       "    .dataframe tbody tr th {\n",
       "        vertical-align: top;\n",
       "    }\n",
       "\n",
       "    .dataframe thead th {\n",
       "        text-align: right;\n",
       "    }\n",
       "</style>\n",
       "<table border=\"1\" class=\"dataframe\">\n",
       "  <thead>\n",
       "    <tr style=\"text-align: right;\">\n",
       "      <th></th>\n",
       "      <th>key</th>\n",
       "      <th>time_stamp</th>\n",
       "      <th>measured_temp</th>\n",
       "    </tr>\n",
       "  </thead>\n",
       "  <tbody>\n",
       "    <tr>\n",
       "      <th>12267</th>\n",
       "      <td>2500</td>\n",
       "      <td>2019-08-06 03:11:31</td>\n",
       "      <td>1539.0</td>\n",
       "    </tr>\n",
       "    <tr>\n",
       "      <th>12268</th>\n",
       "      <td>2500</td>\n",
       "      <td>2019-08-06 03:24:43</td>\n",
       "      <td>NaN</td>\n",
       "    </tr>\n",
       "    <tr>\n",
       "      <th>12269</th>\n",
       "      <td>2500</td>\n",
       "      <td>2019-08-06 03:25:16</td>\n",
       "      <td>NaN</td>\n",
       "    </tr>\n",
       "    <tr>\n",
       "      <th>12270</th>\n",
       "      <td>2500</td>\n",
       "      <td>2019-08-06 03:28:21</td>\n",
       "      <td>NaN</td>\n",
       "    </tr>\n",
       "    <tr>\n",
       "      <th>12271</th>\n",
       "      <td>2501</td>\n",
       "      <td>2019-08-06 03:44:42</td>\n",
       "      <td>1587.0</td>\n",
       "    </tr>\n",
       "  </tbody>\n",
       "</table>\n",
       "</div>"
      ],
      "text/plain": [
       "        key           time_stamp  measured_temp\n",
       "12267  2500  2019-08-06 03:11:31         1539.0\n",
       "12268  2500  2019-08-06 03:24:43            NaN\n",
       "12269  2500  2019-08-06 03:25:16            NaN\n",
       "12270  2500  2019-08-06 03:28:21            NaN\n",
       "12271  2501  2019-08-06 03:44:42         1587.0"
      ]
     },
     "metadata": {},
     "output_type": "display_data"
    },
    {
     "data": {
      "text/plain": [
       "[2500,\n",
       " 2501,\n",
       " 2502,\n",
       " 2503,\n",
       " 2504,\n",
       " 2505,\n",
       " 2506,\n",
       " 2507,\n",
       " 2508,\n",
       " 2509,\n",
       " 2510,\n",
       " 2511,\n",
       " 2512,\n",
       " 2513,\n",
       " 2514,\n",
       " 2515,\n",
       " 2516,\n",
       " 2517,\n",
       " 2518,\n",
       " 2519,\n",
       " 2520,\n",
       " 2521,\n",
       " 2522,\n",
       " 2523,\n",
       " 2524,\n",
       " 2525,\n",
       " 2526,\n",
       " 2527,\n",
       " 2528,\n",
       " 2529,\n",
       " 2530,\n",
       " 2531,\n",
       " 2532,\n",
       " 2533,\n",
       " 2534,\n",
       " 2535,\n",
       " 2536,\n",
       " 2537,\n",
       " 2538,\n",
       " 2539,\n",
       " 2540,\n",
       " 2541,\n",
       " 2542,\n",
       " 2543,\n",
       " 2544,\n",
       " 2545,\n",
       " 2546,\n",
       " 2547,\n",
       " 2548,\n",
       " 2549,\n",
       " 2550,\n",
       " 2551,\n",
       " 2552,\n",
       " 2553,\n",
       " 2554,\n",
       " 2555,\n",
       " 2556,\n",
       " 2557,\n",
       " 2558,\n",
       " 2559,\n",
       " 2560,\n",
       " 2561,\n",
       " 2562,\n",
       " 2563,\n",
       " 2564,\n",
       " 2565,\n",
       " 2566,\n",
       " 2567,\n",
       " 2568,\n",
       " 2569,\n",
       " 2570,\n",
       " 2571,\n",
       " 2572,\n",
       " 2573,\n",
       " 2574,\n",
       " 2575,\n",
       " 2576,\n",
       " 2577,\n",
       " 2578,\n",
       " 2579,\n",
       " 2580,\n",
       " 2581,\n",
       " 2582,\n",
       " 2583,\n",
       " 2584,\n",
       " 2585,\n",
       " 2586,\n",
       " 2587,\n",
       " 2588,\n",
       " 2589,\n",
       " 2590,\n",
       " 2591,\n",
       " 2592,\n",
       " 2593,\n",
       " 2594,\n",
       " 2595,\n",
       " 2596,\n",
       " 2597,\n",
       " 2598,\n",
       " 2599,\n",
       " 2600,\n",
       " 2601,\n",
       " 2602,\n",
       " 2603,\n",
       " 2604,\n",
       " 2605,\n",
       " 2606,\n",
       " 2607,\n",
       " 2608,\n",
       " 2609,\n",
       " 2610,\n",
       " 2611,\n",
       " 2612,\n",
       " 2613,\n",
       " 2614,\n",
       " 2615,\n",
       " 2616,\n",
       " 2617,\n",
       " 2618,\n",
       " 2619,\n",
       " 2620,\n",
       " 2621,\n",
       " 2622,\n",
       " 2623,\n",
       " 2624,\n",
       " 2625,\n",
       " 2626,\n",
       " 2627,\n",
       " 2628,\n",
       " 2629,\n",
       " 2630,\n",
       " 2631,\n",
       " 2632,\n",
       " 2633,\n",
       " 2634,\n",
       " 2635,\n",
       " 2636,\n",
       " 2637,\n",
       " 2638,\n",
       " 2639,\n",
       " 2640,\n",
       " 2641,\n",
       " 2642,\n",
       " 2643,\n",
       " 2644,\n",
       " 2645,\n",
       " 2646,\n",
       " 2647,\n",
       " 2648,\n",
       " 2649,\n",
       " 2650,\n",
       " 2651,\n",
       " 2652,\n",
       " 2653,\n",
       " 2654,\n",
       " 2655,\n",
       " 2656,\n",
       " 2657,\n",
       " 2658,\n",
       " 2659,\n",
       " 2660,\n",
       " 2661,\n",
       " 2662,\n",
       " 2663,\n",
       " 2664,\n",
       " 2665,\n",
       " 2666,\n",
       " 2667,\n",
       " 2668,\n",
       " 2669,\n",
       " 2670,\n",
       " 2671,\n",
       " 2672,\n",
       " 2673,\n",
       " 2674,\n",
       " 2675,\n",
       " 2676,\n",
       " 2677,\n",
       " 2678,\n",
       " 2679,\n",
       " 2680,\n",
       " 2681,\n",
       " 2682,\n",
       " 2684,\n",
       " 2685,\n",
       " 2686,\n",
       " 2687,\n",
       " 2688,\n",
       " 2689,\n",
       " 2690,\n",
       " 2691,\n",
       " 2692,\n",
       " 2693,\n",
       " 2694,\n",
       " 2695,\n",
       " 2696,\n",
       " 2697,\n",
       " 2698,\n",
       " 2699,\n",
       " 2700,\n",
       " 2701,\n",
       " 2702,\n",
       " 2703,\n",
       " 2704,\n",
       " 2705,\n",
       " 2706,\n",
       " 2707,\n",
       " 2708,\n",
       " 2709,\n",
       " 2710,\n",
       " 2711,\n",
       " 2712,\n",
       " 2713,\n",
       " 2714,\n",
       " 2715,\n",
       " 2716,\n",
       " 2717,\n",
       " 2718,\n",
       " 2719,\n",
       " 2720,\n",
       " 2721,\n",
       " 2722,\n",
       " 2723,\n",
       " 2724,\n",
       " 2725,\n",
       " 2726,\n",
       " 2727,\n",
       " 2728,\n",
       " 2729,\n",
       " 2730,\n",
       " 2731,\n",
       " 2732,\n",
       " 2733,\n",
       " 2734,\n",
       " 2735,\n",
       " 2736,\n",
       " 2737,\n",
       " 2738,\n",
       " 2739,\n",
       " 2740,\n",
       " 2741,\n",
       " 2742,\n",
       " 2743,\n",
       " 2744,\n",
       " 2745,\n",
       " 2746,\n",
       " 2747,\n",
       " 2748,\n",
       " 2749,\n",
       " 2750,\n",
       " 2751,\n",
       " 2752,\n",
       " 2753,\n",
       " 2754,\n",
       " 2755,\n",
       " 2756,\n",
       " 2757,\n",
       " 2758,\n",
       " 2759,\n",
       " 2760,\n",
       " 2761,\n",
       " 2762,\n",
       " 2763,\n",
       " 2764,\n",
       " 2765,\n",
       " 2766,\n",
       " 2767,\n",
       " 2768,\n",
       " 2769,\n",
       " 2770,\n",
       " 2771,\n",
       " 2772,\n",
       " 2773,\n",
       " 2774,\n",
       " 2775,\n",
       " 2776,\n",
       " 2777,\n",
       " 2778,\n",
       " 2779,\n",
       " 2780,\n",
       " 2781,\n",
       " 2782,\n",
       " 2783,\n",
       " 2784,\n",
       " 2785,\n",
       " 2786,\n",
       " 2787,\n",
       " 2788,\n",
       " 2789,\n",
       " 2790,\n",
       " 2791,\n",
       " 2792,\n",
       " 2793,\n",
       " 2794,\n",
       " 2795,\n",
       " 2796,\n",
       " 2797,\n",
       " 2798,\n",
       " 2799,\n",
       " 2800,\n",
       " 2801,\n",
       " 2802,\n",
       " 2803,\n",
       " 2804,\n",
       " 2805,\n",
       " 2806,\n",
       " 2807,\n",
       " 2808,\n",
       " 2809,\n",
       " 2810,\n",
       " 2811,\n",
       " 2812,\n",
       " 2813,\n",
       " 2814,\n",
       " 2815,\n",
       " 2816,\n",
       " 2817,\n",
       " 2818,\n",
       " 2819,\n",
       " 2820,\n",
       " 2821,\n",
       " 2822,\n",
       " 2823,\n",
       " 2824,\n",
       " 2825,\n",
       " 2826,\n",
       " 2827,\n",
       " 2828,\n",
       " 2829,\n",
       " 2830,\n",
       " 2831,\n",
       " 2832,\n",
       " 2833,\n",
       " 2834,\n",
       " 2835,\n",
       " 2836,\n",
       " 2837,\n",
       " 2838,\n",
       " 2839,\n",
       " 2840,\n",
       " 2841,\n",
       " 2842,\n",
       " 2843,\n",
       " 2844,\n",
       " 2845,\n",
       " 2846,\n",
       " 2847,\n",
       " 2848,\n",
       " 2849,\n",
       " 2850,\n",
       " 2851,\n",
       " 2852,\n",
       " 2853,\n",
       " 2854,\n",
       " 2855,\n",
       " 2856,\n",
       " 2857,\n",
       " 2858,\n",
       " 2859,\n",
       " 2860,\n",
       " 2861,\n",
       " 2862,\n",
       " 2863,\n",
       " 2864,\n",
       " 2865,\n",
       " 2866,\n",
       " 2867,\n",
       " 2868,\n",
       " 2869,\n",
       " 2870,\n",
       " 2871,\n",
       " 2872,\n",
       " 2873,\n",
       " 2874,\n",
       " 2875,\n",
       " 2876,\n",
       " 2877,\n",
       " 2878,\n",
       " 2879,\n",
       " 2880,\n",
       " 2881,\n",
       " 2882,\n",
       " 2883,\n",
       " 2884,\n",
       " 2885,\n",
       " 2886,\n",
       " 2887,\n",
       " 2888,\n",
       " 2889,\n",
       " 2890,\n",
       " 2891,\n",
       " 2892,\n",
       " 2893,\n",
       " 2894,\n",
       " 2895,\n",
       " 2896,\n",
       " 2897,\n",
       " 2898,\n",
       " 2899,\n",
       " 2900,\n",
       " 2901,\n",
       " 2902,\n",
       " 2903,\n",
       " 2904,\n",
       " 2905,\n",
       " 2906,\n",
       " 2907,\n",
       " 2908,\n",
       " 2909,\n",
       " 2910,\n",
       " 2911,\n",
       " 2912,\n",
       " 2913,\n",
       " 2914,\n",
       " 2915,\n",
       " 2916,\n",
       " 2917,\n",
       " 2918,\n",
       " 2919,\n",
       " 2920,\n",
       " 2921,\n",
       " 2922,\n",
       " 2923,\n",
       " 2924,\n",
       " 2925,\n",
       " 2926,\n",
       " 2927,\n",
       " 2928,\n",
       " 2929,\n",
       " 2930,\n",
       " 2931,\n",
       " 2932,\n",
       " 2933,\n",
       " 2934,\n",
       " 2935,\n",
       " 2936,\n",
       " 2937,\n",
       " 2938,\n",
       " 2939,\n",
       " 2940,\n",
       " 2941,\n",
       " 2942,\n",
       " 2943,\n",
       " 2944,\n",
       " 2945,\n",
       " 2946,\n",
       " 2947,\n",
       " 2948,\n",
       " 2949,\n",
       " 2950,\n",
       " 2951,\n",
       " 2952,\n",
       " 2953,\n",
       " 2954,\n",
       " 2955,\n",
       " 2956,\n",
       " 2957,\n",
       " 2958,\n",
       " 2959,\n",
       " 2960,\n",
       " 2961,\n",
       " 2962,\n",
       " 2963,\n",
       " 2964,\n",
       " 2965,\n",
       " 2966,\n",
       " 2967,\n",
       " 2968,\n",
       " 2969,\n",
       " 2970,\n",
       " 2971,\n",
       " 2972,\n",
       " 2973,\n",
       " 2974,\n",
       " 2975,\n",
       " 2976,\n",
       " 2977,\n",
       " 2978,\n",
       " 2979,\n",
       " 2980,\n",
       " 2981,\n",
       " 2982,\n",
       " 2983,\n",
       " 2984,\n",
       " 2985,\n",
       " 2986,\n",
       " 2987,\n",
       " 2988,\n",
       " 2989,\n",
       " 2990,\n",
       " 2991,\n",
       " 2992,\n",
       " 2993,\n",
       " 2994,\n",
       " 2995,\n",
       " 2996,\n",
       " 2997,\n",
       " 2998,\n",
       " 2999,\n",
       " 3000,\n",
       " 3001,\n",
       " 3002,\n",
       " 3003,\n",
       " 3004,\n",
       " 3005,\n",
       " 3006,\n",
       " 3007,\n",
       " 3008,\n",
       " 3009,\n",
       " 3010,\n",
       " 3011,\n",
       " 3012,\n",
       " 3013,\n",
       " 3014,\n",
       " 3015,\n",
       " 3016,\n",
       " 3017,\n",
       " 3018,\n",
       " 3019,\n",
       " 3020,\n",
       " 3021,\n",
       " 3022,\n",
       " 3023,\n",
       " 3024,\n",
       " 3025,\n",
       " 3026,\n",
       " 3027,\n",
       " 3028,\n",
       " 3029,\n",
       " 3030,\n",
       " 3031,\n",
       " 3032,\n",
       " 3033,\n",
       " 3034,\n",
       " 3035,\n",
       " 3036,\n",
       " 3037,\n",
       " 3038,\n",
       " 3039,\n",
       " 3040,\n",
       " 3041,\n",
       " 3042,\n",
       " 3043,\n",
       " 3044,\n",
       " 3045,\n",
       " 3046,\n",
       " 3047,\n",
       " 3048,\n",
       " 3049,\n",
       " 3050,\n",
       " 3051,\n",
       " 3052,\n",
       " 3053,\n",
       " 3054,\n",
       " 3055,\n",
       " 3056,\n",
       " 3057,\n",
       " 3058,\n",
       " 3059,\n",
       " 3060,\n",
       " 3061,\n",
       " 3062,\n",
       " 3063,\n",
       " 3064,\n",
       " 3065,\n",
       " 3066,\n",
       " 3067,\n",
       " 3068,\n",
       " 3069,\n",
       " 3070,\n",
       " 3071,\n",
       " 3072,\n",
       " 3073,\n",
       " 3074,\n",
       " 3075,\n",
       " 3076,\n",
       " 3077,\n",
       " 3078,\n",
       " 3079,\n",
       " 3080,\n",
       " 3081,\n",
       " 3082,\n",
       " 3083,\n",
       " 3084,\n",
       " 3085,\n",
       " 3086,\n",
       " 3087,\n",
       " 3088,\n",
       " 3089,\n",
       " 3090,\n",
       " 3091,\n",
       " 3092,\n",
       " 3093,\n",
       " 3094,\n",
       " 3095,\n",
       " 3096,\n",
       " 3097,\n",
       " 3098,\n",
       " 3099,\n",
       " 3100,\n",
       " 3101,\n",
       " 3102,\n",
       " 3103,\n",
       " 3104,\n",
       " 3105,\n",
       " 3106,\n",
       " 3107,\n",
       " 3108,\n",
       " 3109,\n",
       " 3110,\n",
       " 3111,\n",
       " 3112,\n",
       " 3113,\n",
       " 3114,\n",
       " 3115,\n",
       " 3116,\n",
       " 3117,\n",
       " 3118,\n",
       " 3119,\n",
       " 3120,\n",
       " 3121,\n",
       " 3122,\n",
       " 3123,\n",
       " 3124,\n",
       " 3125,\n",
       " 3126,\n",
       " 3127,\n",
       " 3128,\n",
       " 3129,\n",
       " 3130,\n",
       " 3131,\n",
       " 3132,\n",
       " 3133,\n",
       " 3134,\n",
       " 3135,\n",
       " 3136,\n",
       " 3137,\n",
       " 3138,\n",
       " 3139,\n",
       " 3140,\n",
       " 3141,\n",
       " 3142,\n",
       " 3143,\n",
       " 3144,\n",
       " 3145,\n",
       " 3146,\n",
       " 3147,\n",
       " 3148,\n",
       " 3149,\n",
       " 3150,\n",
       " 3151,\n",
       " 3152,\n",
       " 3153,\n",
       " 3154,\n",
       " 3155,\n",
       " 3156,\n",
       " 3157,\n",
       " 3158,\n",
       " 3159,\n",
       " 3160,\n",
       " 3161,\n",
       " 3162,\n",
       " 3163,\n",
       " 3164,\n",
       " 3165,\n",
       " 3166,\n",
       " 3167,\n",
       " 3168,\n",
       " 3169,\n",
       " 3170,\n",
       " 3171,\n",
       " 3172,\n",
       " 3173,\n",
       " 3174,\n",
       " 3175,\n",
       " 3176,\n",
       " 3177,\n",
       " 3178,\n",
       " 3179,\n",
       " 3180,\n",
       " 3181,\n",
       " 3182,\n",
       " 3183,\n",
       " 3184,\n",
       " 3185,\n",
       " 3186,\n",
       " 3187,\n",
       " 3188,\n",
       " 3189,\n",
       " 3190,\n",
       " 3191,\n",
       " 3192,\n",
       " 3193,\n",
       " 3194,\n",
       " 3195,\n",
       " 3196,\n",
       " 3197,\n",
       " 3198,\n",
       " 3199,\n",
       " 3201,\n",
       " 3202,\n",
       " 3203,\n",
       " 3204,\n",
       " 3205,\n",
       " 3206,\n",
       " 3208,\n",
       " 3209,\n",
       " 3210,\n",
       " 3211,\n",
       " 3212,\n",
       " 3213,\n",
       " 3214,\n",
       " 3215,\n",
       " 3216,\n",
       " 3217,\n",
       " 3218,\n",
       " 3219,\n",
       " 3220,\n",
       " 3221,\n",
       " 3222,\n",
       " 3223,\n",
       " 3224,\n",
       " 3225,\n",
       " 3226,\n",
       " 3227,\n",
       " 3228,\n",
       " 3229,\n",
       " 3230,\n",
       " 3231,\n",
       " 3232,\n",
       " 3233,\n",
       " 3234,\n",
       " 3235,\n",
       " 3236,\n",
       " 3237,\n",
       " 3238,\n",
       " 3239,\n",
       " 3240,\n",
       " 3241]"
      ]
     },
     "execution_count": 35,
     "metadata": {},
     "output_type": "execute_result"
    }
   ],
   "source": [
    "#отфильтровываем все партии с null значениями\n",
    "rejected_batch = data_temp.query('key in @batch_num')\n",
    "display(rejected_batch.head())\n",
    "\n",
    "#проверяем на заполнение первого и последнего измерения в каждой партии\n",
    "rejected_batch=rejected_batch.fillna(0)  #заполняем пропущенные значения нулями\n",
    "final_batch_num = []\n",
    "for batch in batch_num:                  #проверяем, если нулю равная первая или последняя запись в партии, запоминаем партию\n",
    "    table = rejected_batch[rejected_batch['key']==batch]\n",
    "    if table.iloc[0,2]==0 or table.iloc[-1,2]==0:\n",
    "        final_batch_num.append(batch)\n",
    "final_batch_num"
   ]
  },
  {
   "cell_type": "markdown",
   "metadata": {},
   "source": [
    "Похоже, что в отфильтрованном списке партий все те же самые значения, но это не так важно. Теперь мы уверены, что удалим из датасета только те партии, в которых не содержится нужной нам информации."
   ]
  },
  {
   "cell_type": "code",
   "execution_count": 36,
   "metadata": {},
   "outputs": [
    {
     "name": "stdout",
     "output_type": "stream",
     "text": [
      "<class 'pandas.core.frame.DataFrame'>\n",
      "Int64Index: 12267 entries, 0 to 12266\n",
      "Data columns (total 3 columns):\n",
      " #   Column         Non-Null Count  Dtype  \n",
      "---  ------         --------------  -----  \n",
      " 0   key            12267 non-null  int64  \n",
      " 1   time_stamp     12267 non-null  object \n",
      " 2   measured_temp  12267 non-null  float64\n",
      "dtypes: float64(1), int64(1), object(1)\n",
      "memory usage: 383.3+ KB\n"
     ]
    }
   ],
   "source": [
    "data_temp = data_temp.query('key not in @final_batch_num')\n",
    "data_temp.info()"
   ]
  },
  {
   "cell_type": "markdown",
   "metadata": {},
   "source": [
    "Теперь необходимо отбросить аномальные значения (они перечислены в выводах по графикам)."
   ]
  },
  {
   "cell_type": "code",
   "execution_count": 37,
   "metadata": {},
   "outputs": [
    {
     "data": {
      "text/html": [
       "<div>\n",
       "<style scoped>\n",
       "    .dataframe tbody tr th:only-of-type {\n",
       "        vertical-align: middle;\n",
       "    }\n",
       "\n",
       "    .dataframe tbody tr th {\n",
       "        vertical-align: top;\n",
       "    }\n",
       "\n",
       "    .dataframe thead th {\n",
       "        text-align: right;\n",
       "    }\n",
       "</style>\n",
       "<table border=\"1\" class=\"dataframe\">\n",
       "  <thead>\n",
       "    <tr style=\"text-align: right;\">\n",
       "      <th></th>\n",
       "      <th>key</th>\n",
       "      <th>time_stamp</th>\n",
       "      <th>measured_temp</th>\n",
       "    </tr>\n",
       "  </thead>\n",
       "  <tbody>\n",
       "    <tr>\n",
       "      <th>12262</th>\n",
       "      <td>2498</td>\n",
       "      <td>2019-08-06 02:19:26</td>\n",
       "      <td>1593.0</td>\n",
       "    </tr>\n",
       "    <tr>\n",
       "      <th>12263</th>\n",
       "      <td>2498</td>\n",
       "      <td>2019-08-06 02:25:31</td>\n",
       "      <td>1594.0</td>\n",
       "    </tr>\n",
       "    <tr>\n",
       "      <th>12264</th>\n",
       "      <td>2499</td>\n",
       "      <td>2019-08-06 02:40:25</td>\n",
       "      <td>1569.0</td>\n",
       "    </tr>\n",
       "    <tr>\n",
       "      <th>12265</th>\n",
       "      <td>2499</td>\n",
       "      <td>2019-08-06 02:54:24</td>\n",
       "      <td>1604.0</td>\n",
       "    </tr>\n",
       "    <tr>\n",
       "      <th>12266</th>\n",
       "      <td>2499</td>\n",
       "      <td>2019-08-06 03:00:28</td>\n",
       "      <td>1603.0</td>\n",
       "    </tr>\n",
       "  </tbody>\n",
       "</table>\n",
       "</div>"
      ],
      "text/plain": [
       "        key           time_stamp  measured_temp\n",
       "12262  2498  2019-08-06 02:19:26         1593.0\n",
       "12263  2498  2019-08-06 02:25:31         1594.0\n",
       "12264  2499  2019-08-06 02:40:25         1569.0\n",
       "12265  2499  2019-08-06 02:54:24         1604.0\n",
       "12266  2499  2019-08-06 03:00:28         1603.0"
      ]
     },
     "metadata": {},
     "output_type": "display_data"
    },
    {
     "data": {
      "text/html": [
       "<div>\n",
       "<style scoped>\n",
       "    .dataframe tbody tr th:only-of-type {\n",
       "        vertical-align: middle;\n",
       "    }\n",
       "\n",
       "    .dataframe tbody tr th {\n",
       "        vertical-align: top;\n",
       "    }\n",
       "\n",
       "    .dataframe thead th {\n",
       "        text-align: right;\n",
       "    }\n",
       "</style>\n",
       "<table border=\"1\" class=\"dataframe\">\n",
       "  <thead>\n",
       "    <tr style=\"text-align: right;\">\n",
       "      <th></th>\n",
       "      <th>key</th>\n",
       "      <th>measured_temp</th>\n",
       "    </tr>\n",
       "  </thead>\n",
       "  <tbody>\n",
       "    <tr>\n",
       "      <th>count</th>\n",
       "      <td>12257.000000</td>\n",
       "      <td>12257.000000</td>\n",
       "    </tr>\n",
       "    <tr>\n",
       "      <th>mean</th>\n",
       "      <td>1235.602187</td>\n",
       "      <td>1592.121318</td>\n",
       "    </tr>\n",
       "    <tr>\n",
       "      <th>std</th>\n",
       "      <td>729.502502</td>\n",
       "      <td>19.385397</td>\n",
       "    </tr>\n",
       "    <tr>\n",
       "      <th>min</th>\n",
       "      <td>1.000000</td>\n",
       "      <td>1519.000000</td>\n",
       "    </tr>\n",
       "    <tr>\n",
       "      <th>25%</th>\n",
       "      <td>602.000000</td>\n",
       "      <td>1581.000000</td>\n",
       "    </tr>\n",
       "    <tr>\n",
       "      <th>50%</th>\n",
       "      <td>1238.000000</td>\n",
       "      <td>1591.000000</td>\n",
       "    </tr>\n",
       "    <tr>\n",
       "      <th>75%</th>\n",
       "      <td>1874.000000</td>\n",
       "      <td>1601.000000</td>\n",
       "    </tr>\n",
       "    <tr>\n",
       "      <th>max</th>\n",
       "      <td>2499.000000</td>\n",
       "      <td>1696.000000</td>\n",
       "    </tr>\n",
       "  </tbody>\n",
       "</table>\n",
       "</div>"
      ],
      "text/plain": [
       "                key  measured_temp\n",
       "count  12257.000000   12257.000000\n",
       "mean    1235.602187    1592.121318\n",
       "std      729.502502      19.385397\n",
       "min        1.000000    1519.000000\n",
       "25%      602.000000    1581.000000\n",
       "50%     1238.000000    1591.000000\n",
       "75%     1874.000000    1601.000000\n",
       "max     2499.000000    1696.000000"
      ]
     },
     "execution_count": 37,
     "metadata": {},
     "output_type": "execute_result"
    }
   ],
   "source": [
    "# data_temp - значения вне границ 1500 и 1700\n",
    "data_temp = data_temp.query('measured_temp >1500 and measured_temp<1700')\n",
    "# посмотрим на фрагмент датасета  и его статистики после преобразования\n",
    "display(data_temp.tail())\n",
    "data_temp.describe()"
   ]
  },
  {
   "cell_type": "code",
   "execution_count": 38,
   "metadata": {},
   "outputs": [
    {
     "data": {
      "text/html": [
       "<div>\n",
       "<style scoped>\n",
       "    .dataframe tbody tr th:only-of-type {\n",
       "        vertical-align: middle;\n",
       "    }\n",
       "\n",
       "    .dataframe tbody tr th {\n",
       "        vertical-align: top;\n",
       "    }\n",
       "\n",
       "    .dataframe thead th {\n",
       "        text-align: right;\n",
       "    }\n",
       "</style>\n",
       "<table border=\"1\" class=\"dataframe\">\n",
       "  <thead>\n",
       "    <tr style=\"text-align: right;\">\n",
       "      <th></th>\n",
       "      <th>key</th>\n",
       "      <th>bulk_1</th>\n",
       "      <th>bulk_2</th>\n",
       "      <th>bulk_3</th>\n",
       "      <th>bulk_4</th>\n",
       "      <th>bulk_5</th>\n",
       "      <th>bulk_6</th>\n",
       "      <th>bulk_7</th>\n",
       "      <th>bulk_8</th>\n",
       "      <th>bulk_9</th>\n",
       "      <th>bulk_10</th>\n",
       "      <th>bulk_11</th>\n",
       "      <th>bulk_12</th>\n",
       "      <th>bulk_13</th>\n",
       "      <th>bulk_14</th>\n",
       "      <th>bulk_15</th>\n",
       "    </tr>\n",
       "  </thead>\n",
       "  <tbody>\n",
       "    <tr>\n",
       "      <th>3119</th>\n",
       "      <td>3232</td>\n",
       "      <td>0.0</td>\n",
       "      <td>0.0</td>\n",
       "      <td>22.0</td>\n",
       "      <td>0.0</td>\n",
       "      <td>0.0</td>\n",
       "      <td>0.0</td>\n",
       "      <td>0.0</td>\n",
       "      <td>0.0</td>\n",
       "      <td>0.0</td>\n",
       "      <td>0.0</td>\n",
       "      <td>0.0</td>\n",
       "      <td>252.0</td>\n",
       "      <td>0.0</td>\n",
       "      <td>92.0</td>\n",
       "      <td>204.0</td>\n",
       "    </tr>\n",
       "    <tr>\n",
       "      <th>3120</th>\n",
       "      <td>3233</td>\n",
       "      <td>0.0</td>\n",
       "      <td>0.0</td>\n",
       "      <td>0.0</td>\n",
       "      <td>0.0</td>\n",
       "      <td>0.0</td>\n",
       "      <td>0.0</td>\n",
       "      <td>0.0</td>\n",
       "      <td>0.0</td>\n",
       "      <td>0.0</td>\n",
       "      <td>0.0</td>\n",
       "      <td>0.0</td>\n",
       "      <td>254.0</td>\n",
       "      <td>0.0</td>\n",
       "      <td>114.0</td>\n",
       "      <td>204.0</td>\n",
       "    </tr>\n",
       "    <tr>\n",
       "      <th>3121</th>\n",
       "      <td>3234</td>\n",
       "      <td>0.0</td>\n",
       "      <td>0.0</td>\n",
       "      <td>0.0</td>\n",
       "      <td>0.0</td>\n",
       "      <td>0.0</td>\n",
       "      <td>0.0</td>\n",
       "      <td>0.0</td>\n",
       "      <td>0.0</td>\n",
       "      <td>0.0</td>\n",
       "      <td>0.0</td>\n",
       "      <td>0.0</td>\n",
       "      <td>0.0</td>\n",
       "      <td>0.0</td>\n",
       "      <td>262.0</td>\n",
       "      <td>204.0</td>\n",
       "    </tr>\n",
       "    <tr>\n",
       "      <th>3122</th>\n",
       "      <td>3235</td>\n",
       "      <td>0.0</td>\n",
       "      <td>0.0</td>\n",
       "      <td>0.0</td>\n",
       "      <td>0.0</td>\n",
       "      <td>0.0</td>\n",
       "      <td>0.0</td>\n",
       "      <td>0.0</td>\n",
       "      <td>0.0</td>\n",
       "      <td>0.0</td>\n",
       "      <td>0.0</td>\n",
       "      <td>0.0</td>\n",
       "      <td>204.0</td>\n",
       "      <td>0.0</td>\n",
       "      <td>118.0</td>\n",
       "      <td>206.0</td>\n",
       "    </tr>\n",
       "    <tr>\n",
       "      <th>3123</th>\n",
       "      <td>3236</td>\n",
       "      <td>0.0</td>\n",
       "      <td>0.0</td>\n",
       "      <td>42.0</td>\n",
       "      <td>0.0</td>\n",
       "      <td>0.0</td>\n",
       "      <td>0.0</td>\n",
       "      <td>0.0</td>\n",
       "      <td>0.0</td>\n",
       "      <td>0.0</td>\n",
       "      <td>0.0</td>\n",
       "      <td>0.0</td>\n",
       "      <td>258.0</td>\n",
       "      <td>0.0</td>\n",
       "      <td>132.0</td>\n",
       "      <td>208.0</td>\n",
       "    </tr>\n",
       "    <tr>\n",
       "      <th>3124</th>\n",
       "      <td>3237</td>\n",
       "      <td>0.0</td>\n",
       "      <td>0.0</td>\n",
       "      <td>170.0</td>\n",
       "      <td>0.0</td>\n",
       "      <td>0.0</td>\n",
       "      <td>0.0</td>\n",
       "      <td>0.0</td>\n",
       "      <td>0.0</td>\n",
       "      <td>0.0</td>\n",
       "      <td>0.0</td>\n",
       "      <td>0.0</td>\n",
       "      <td>252.0</td>\n",
       "      <td>0.0</td>\n",
       "      <td>130.0</td>\n",
       "      <td>206.0</td>\n",
       "    </tr>\n",
       "    <tr>\n",
       "      <th>3125</th>\n",
       "      <td>3238</td>\n",
       "      <td>0.0</td>\n",
       "      <td>0.0</td>\n",
       "      <td>126.0</td>\n",
       "      <td>0.0</td>\n",
       "      <td>0.0</td>\n",
       "      <td>0.0</td>\n",
       "      <td>0.0</td>\n",
       "      <td>0.0</td>\n",
       "      <td>0.0</td>\n",
       "      <td>0.0</td>\n",
       "      <td>0.0</td>\n",
       "      <td>254.0</td>\n",
       "      <td>0.0</td>\n",
       "      <td>108.0</td>\n",
       "      <td>106.0</td>\n",
       "    </tr>\n",
       "    <tr>\n",
       "      <th>3126</th>\n",
       "      <td>3239</td>\n",
       "      <td>0.0</td>\n",
       "      <td>0.0</td>\n",
       "      <td>0.0</td>\n",
       "      <td>0.0</td>\n",
       "      <td>0.0</td>\n",
       "      <td>114.0</td>\n",
       "      <td>0.0</td>\n",
       "      <td>0.0</td>\n",
       "      <td>0.0</td>\n",
       "      <td>0.0</td>\n",
       "      <td>0.0</td>\n",
       "      <td>158.0</td>\n",
       "      <td>0.0</td>\n",
       "      <td>270.0</td>\n",
       "      <td>88.0</td>\n",
       "    </tr>\n",
       "    <tr>\n",
       "      <th>3127</th>\n",
       "      <td>3240</td>\n",
       "      <td>0.0</td>\n",
       "      <td>0.0</td>\n",
       "      <td>0.0</td>\n",
       "      <td>0.0</td>\n",
       "      <td>0.0</td>\n",
       "      <td>26.0</td>\n",
       "      <td>0.0</td>\n",
       "      <td>0.0</td>\n",
       "      <td>0.0</td>\n",
       "      <td>0.0</td>\n",
       "      <td>0.0</td>\n",
       "      <td>0.0</td>\n",
       "      <td>0.0</td>\n",
       "      <td>192.0</td>\n",
       "      <td>54.0</td>\n",
       "    </tr>\n",
       "    <tr>\n",
       "      <th>3128</th>\n",
       "      <td>3241</td>\n",
       "      <td>0.0</td>\n",
       "      <td>0.0</td>\n",
       "      <td>0.0</td>\n",
       "      <td>0.0</td>\n",
       "      <td>0.0</td>\n",
       "      <td>0.0</td>\n",
       "      <td>0.0</td>\n",
       "      <td>0.0</td>\n",
       "      <td>0.0</td>\n",
       "      <td>0.0</td>\n",
       "      <td>0.0</td>\n",
       "      <td>0.0</td>\n",
       "      <td>0.0</td>\n",
       "      <td>180.0</td>\n",
       "      <td>52.0</td>\n",
       "    </tr>\n",
       "  </tbody>\n",
       "</table>\n",
       "</div>"
      ],
      "text/plain": [
       "       key  bulk_1  bulk_2  bulk_3  bulk_4  bulk_5  bulk_6  bulk_7  bulk_8  \\\n",
       "3119  3232     0.0     0.0    22.0     0.0     0.0     0.0     0.0     0.0   \n",
       "3120  3233     0.0     0.0     0.0     0.0     0.0     0.0     0.0     0.0   \n",
       "3121  3234     0.0     0.0     0.0     0.0     0.0     0.0     0.0     0.0   \n",
       "3122  3235     0.0     0.0     0.0     0.0     0.0     0.0     0.0     0.0   \n",
       "3123  3236     0.0     0.0    42.0     0.0     0.0     0.0     0.0     0.0   \n",
       "3124  3237     0.0     0.0   170.0     0.0     0.0     0.0     0.0     0.0   \n",
       "3125  3238     0.0     0.0   126.0     0.0     0.0     0.0     0.0     0.0   \n",
       "3126  3239     0.0     0.0     0.0     0.0     0.0   114.0     0.0     0.0   \n",
       "3127  3240     0.0     0.0     0.0     0.0     0.0    26.0     0.0     0.0   \n",
       "3128  3241     0.0     0.0     0.0     0.0     0.0     0.0     0.0     0.0   \n",
       "\n",
       "      bulk_9  bulk_10  bulk_11  bulk_12  bulk_13  bulk_14  bulk_15  \n",
       "3119     0.0      0.0      0.0    252.0      0.0     92.0    204.0  \n",
       "3120     0.0      0.0      0.0    254.0      0.0    114.0    204.0  \n",
       "3121     0.0      0.0      0.0      0.0      0.0    262.0    204.0  \n",
       "3122     0.0      0.0      0.0    204.0      0.0    118.0    206.0  \n",
       "3123     0.0      0.0      0.0    258.0      0.0    132.0    208.0  \n",
       "3124     0.0      0.0      0.0    252.0      0.0    130.0    206.0  \n",
       "3125     0.0      0.0      0.0    254.0      0.0    108.0    106.0  \n",
       "3126     0.0      0.0      0.0    158.0      0.0    270.0     88.0  \n",
       "3127     0.0      0.0      0.0      0.0      0.0    192.0     54.0  \n",
       "3128     0.0      0.0      0.0      0.0      0.0    180.0     52.0  "
      ]
     },
     "metadata": {},
     "output_type": "display_data"
    },
    {
     "data": {
      "text/html": [
       "<div>\n",
       "<style scoped>\n",
       "    .dataframe tbody tr th:only-of-type {\n",
       "        vertical-align: middle;\n",
       "    }\n",
       "\n",
       "    .dataframe tbody tr th {\n",
       "        vertical-align: top;\n",
       "    }\n",
       "\n",
       "    .dataframe thead th {\n",
       "        text-align: right;\n",
       "    }\n",
       "</style>\n",
       "<table border=\"1\" class=\"dataframe\">\n",
       "  <thead>\n",
       "    <tr style=\"text-align: right;\">\n",
       "      <th></th>\n",
       "      <th>key</th>\n",
       "      <th>bulk_1</th>\n",
       "      <th>bulk_2</th>\n",
       "      <th>bulk_3</th>\n",
       "      <th>bulk_4</th>\n",
       "      <th>bulk_5</th>\n",
       "      <th>bulk_6</th>\n",
       "      <th>bulk_7</th>\n",
       "      <th>bulk_8</th>\n",
       "      <th>bulk_9</th>\n",
       "      <th>bulk_10</th>\n",
       "      <th>bulk_11</th>\n",
       "      <th>bulk_12</th>\n",
       "      <th>bulk_13</th>\n",
       "      <th>bulk_14</th>\n",
       "      <th>bulk_15</th>\n",
       "    </tr>\n",
       "  </thead>\n",
       "  <tbody>\n",
       "    <tr>\n",
       "      <th>count</th>\n",
       "      <td>3127.000000</td>\n",
       "      <td>3127.000000</td>\n",
       "      <td>3127.000000</td>\n",
       "      <td>3127.000000</td>\n",
       "      <td>3127.000000</td>\n",
       "      <td>3127.000000</td>\n",
       "      <td>3127.000000</td>\n",
       "      <td>3127.000000</td>\n",
       "      <td>3127.000000</td>\n",
       "      <td>3127.000000</td>\n",
       "      <td>3127.000000</td>\n",
       "      <td>3127.000000</td>\n",
       "      <td>3127.000000</td>\n",
       "      <td>3127.000000</td>\n",
       "      <td>3127.000000</td>\n",
       "      <td>3127.000000</td>\n",
       "    </tr>\n",
       "    <tr>\n",
       "      <th>mean</th>\n",
       "      <td>1624.741286</td>\n",
       "      <td>3.103294</td>\n",
       "      <td>1.780301</td>\n",
       "      <td>47.165974</td>\n",
       "      <td>33.824113</td>\n",
       "      <td>2.442597</td>\n",
       "      <td>21.906300</td>\n",
       "      <td>2.313399</td>\n",
       "      <td>0.015670</td>\n",
       "      <td>0.463703</td>\n",
       "      <td>4.687560</td>\n",
       "      <td>4.348257</td>\n",
       "      <td>203.420211</td>\n",
       "      <td>1.042533</td>\n",
       "      <td>152.569236</td>\n",
       "      <td>115.359770</td>\n",
       "    </tr>\n",
       "    <tr>\n",
       "      <th>std</th>\n",
       "      <td>933.339685</td>\n",
       "      <td>11.418543</td>\n",
       "      <td>21.224617</td>\n",
       "      <td>74.188575</td>\n",
       "      <td>56.050719</td>\n",
       "      <td>17.958449</td>\n",
       "      <td>55.507568</td>\n",
       "      <td>31.128112</td>\n",
       "      <td>0.876258</td>\n",
       "      <td>6.156356</td>\n",
       "      <td>20.163422</td>\n",
       "      <td>22.706575</td>\n",
       "      <td>148.581897</td>\n",
       "      <td>14.118742</td>\n",
       "      <td>80.649643</td>\n",
       "      <td>84.490298</td>\n",
       "    </tr>\n",
       "    <tr>\n",
       "      <th>min</th>\n",
       "      <td>1.000000</td>\n",
       "      <td>0.000000</td>\n",
       "      <td>0.000000</td>\n",
       "      <td>0.000000</td>\n",
       "      <td>0.000000</td>\n",
       "      <td>0.000000</td>\n",
       "      <td>0.000000</td>\n",
       "      <td>0.000000</td>\n",
       "      <td>0.000000</td>\n",
       "      <td>0.000000</td>\n",
       "      <td>0.000000</td>\n",
       "      <td>0.000000</td>\n",
       "      <td>0.000000</td>\n",
       "      <td>0.000000</td>\n",
       "      <td>0.000000</td>\n",
       "      <td>0.000000</td>\n",
       "    </tr>\n",
       "    <tr>\n",
       "      <th>25%</th>\n",
       "      <td>816.500000</td>\n",
       "      <td>0.000000</td>\n",
       "      <td>0.000000</td>\n",
       "      <td>0.000000</td>\n",
       "      <td>0.000000</td>\n",
       "      <td>0.000000</td>\n",
       "      <td>0.000000</td>\n",
       "      <td>0.000000</td>\n",
       "      <td>0.000000</td>\n",
       "      <td>0.000000</td>\n",
       "      <td>0.000000</td>\n",
       "      <td>0.000000</td>\n",
       "      <td>105.000000</td>\n",
       "      <td>0.000000</td>\n",
       "      <td>104.000000</td>\n",
       "      <td>0.000000</td>\n",
       "    </tr>\n",
       "    <tr>\n",
       "      <th>50%</th>\n",
       "      <td>1622.000000</td>\n",
       "      <td>0.000000</td>\n",
       "      <td>0.000000</td>\n",
       "      <td>0.000000</td>\n",
       "      <td>0.000000</td>\n",
       "      <td>0.000000</td>\n",
       "      <td>0.000000</td>\n",
       "      <td>0.000000</td>\n",
       "      <td>0.000000</td>\n",
       "      <td>0.000000</td>\n",
       "      <td>0.000000</td>\n",
       "      <td>0.000000</td>\n",
       "      <td>206.000000</td>\n",
       "      <td>0.000000</td>\n",
       "      <td>148.000000</td>\n",
       "      <td>106.000000</td>\n",
       "    </tr>\n",
       "    <tr>\n",
       "      <th>75%</th>\n",
       "      <td>2431.500000</td>\n",
       "      <td>0.000000</td>\n",
       "      <td>0.000000</td>\n",
       "      <td>79.000000</td>\n",
       "      <td>68.000000</td>\n",
       "      <td>0.000000</td>\n",
       "      <td>0.000000</td>\n",
       "      <td>0.000000</td>\n",
       "      <td>0.000000</td>\n",
       "      <td>0.000000</td>\n",
       "      <td>0.000000</td>\n",
       "      <td>0.000000</td>\n",
       "      <td>263.000000</td>\n",
       "      <td>0.000000</td>\n",
       "      <td>202.000000</td>\n",
       "      <td>204.000000</td>\n",
       "    </tr>\n",
       "    <tr>\n",
       "      <th>max</th>\n",
       "      <td>3241.000000</td>\n",
       "      <td>118.000000</td>\n",
       "      <td>325.000000</td>\n",
       "      <td>454.000000</td>\n",
       "      <td>281.000000</td>\n",
       "      <td>293.000000</td>\n",
       "      <td>503.000000</td>\n",
       "      <td>772.000000</td>\n",
       "      <td>49.000000</td>\n",
       "      <td>147.000000</td>\n",
       "      <td>159.000000</td>\n",
       "      <td>313.000000</td>\n",
       "      <td>853.000000</td>\n",
       "      <td>305.000000</td>\n",
       "      <td>601.000000</td>\n",
       "      <td>405.000000</td>\n",
       "    </tr>\n",
       "  </tbody>\n",
       "</table>\n",
       "</div>"
      ],
      "text/plain": [
       "               key       bulk_1       bulk_2       bulk_3       bulk_4  \\\n",
       "count  3127.000000  3127.000000  3127.000000  3127.000000  3127.000000   \n",
       "mean   1624.741286     3.103294     1.780301    47.165974    33.824113   \n",
       "std     933.339685    11.418543    21.224617    74.188575    56.050719   \n",
       "min       1.000000     0.000000     0.000000     0.000000     0.000000   \n",
       "25%     816.500000     0.000000     0.000000     0.000000     0.000000   \n",
       "50%    1622.000000     0.000000     0.000000     0.000000     0.000000   \n",
       "75%    2431.500000     0.000000     0.000000    79.000000    68.000000   \n",
       "max    3241.000000   118.000000   325.000000   454.000000   281.000000   \n",
       "\n",
       "            bulk_5       bulk_6       bulk_7       bulk_8       bulk_9  \\\n",
       "count  3127.000000  3127.000000  3127.000000  3127.000000  3127.000000   \n",
       "mean      2.442597    21.906300     2.313399     0.015670     0.463703   \n",
       "std      17.958449    55.507568    31.128112     0.876258     6.156356   \n",
       "min       0.000000     0.000000     0.000000     0.000000     0.000000   \n",
       "25%       0.000000     0.000000     0.000000     0.000000     0.000000   \n",
       "50%       0.000000     0.000000     0.000000     0.000000     0.000000   \n",
       "75%       0.000000     0.000000     0.000000     0.000000     0.000000   \n",
       "max     293.000000   503.000000   772.000000    49.000000   147.000000   \n",
       "\n",
       "           bulk_10      bulk_11      bulk_12      bulk_13      bulk_14  \\\n",
       "count  3127.000000  3127.000000  3127.000000  3127.000000  3127.000000   \n",
       "mean      4.687560     4.348257   203.420211     1.042533   152.569236   \n",
       "std      20.163422    22.706575   148.581897    14.118742    80.649643   \n",
       "min       0.000000     0.000000     0.000000     0.000000     0.000000   \n",
       "25%       0.000000     0.000000   105.000000     0.000000   104.000000   \n",
       "50%       0.000000     0.000000   206.000000     0.000000   148.000000   \n",
       "75%       0.000000     0.000000   263.000000     0.000000   202.000000   \n",
       "max     159.000000   313.000000   853.000000   305.000000   601.000000   \n",
       "\n",
       "           bulk_15  \n",
       "count  3127.000000  \n",
       "mean    115.359770  \n",
       "std      84.490298  \n",
       "min       0.000000  \n",
       "25%       0.000000  \n",
       "50%     106.000000  \n",
       "75%     204.000000  \n",
       "max     405.000000  "
      ]
     },
     "execution_count": 38,
     "metadata": {},
     "output_type": "execute_result"
    }
   ],
   "source": [
    "# data_bulk: уберем строки с bulk_5 более 500 и bulk_12 более 1000\n",
    "data_bulk = data_bulk.query('bulk_5 < 500 and bulk_12 <1000')\n",
    "display(data_bulk.tail(10))\n",
    "data_bulk.describe()"
   ]
  },
  {
   "cell_type": "code",
   "execution_count": 39,
   "metadata": {},
   "outputs": [
    {
     "data": {
      "text/html": [
       "<div>\n",
       "<style scoped>\n",
       "    .dataframe tbody tr th:only-of-type {\n",
       "        vertical-align: middle;\n",
       "    }\n",
       "\n",
       "    .dataframe tbody tr th {\n",
       "        vertical-align: top;\n",
       "    }\n",
       "\n",
       "    .dataframe thead th {\n",
       "        text-align: right;\n",
       "    }\n",
       "</style>\n",
       "<table border=\"1\" class=\"dataframe\">\n",
       "  <thead>\n",
       "    <tr style=\"text-align: right;\">\n",
       "      <th></th>\n",
       "      <th>key</th>\n",
       "      <th>wire_1</th>\n",
       "      <th>wire_2</th>\n",
       "      <th>wire_3</th>\n",
       "      <th>wire_4</th>\n",
       "      <th>wire_5</th>\n",
       "      <th>wire_6</th>\n",
       "      <th>wire_7</th>\n",
       "      <th>wire_8</th>\n",
       "      <th>wire_9</th>\n",
       "    </tr>\n",
       "  </thead>\n",
       "  <tbody>\n",
       "    <tr>\n",
       "      <th>3071</th>\n",
       "      <td>3232</td>\n",
       "      <td>15.069600</td>\n",
       "      <td>0.0</td>\n",
       "      <td>0.0</td>\n",
       "      <td>0.0</td>\n",
       "      <td>0.0</td>\n",
       "      <td>0.0</td>\n",
       "      <td>0.0</td>\n",
       "      <td>0.0</td>\n",
       "      <td>0.0</td>\n",
       "    </tr>\n",
       "    <tr>\n",
       "      <th>3072</th>\n",
       "      <td>3233</td>\n",
       "      <td>107.147033</td>\n",
       "      <td>0.0</td>\n",
       "      <td>0.0</td>\n",
       "      <td>0.0</td>\n",
       "      <td>0.0</td>\n",
       "      <td>0.0</td>\n",
       "      <td>0.0</td>\n",
       "      <td>0.0</td>\n",
       "      <td>0.0</td>\n",
       "    </tr>\n",
       "    <tr>\n",
       "      <th>3073</th>\n",
       "      <td>3234</td>\n",
       "      <td>110.160957</td>\n",
       "      <td>0.0</td>\n",
       "      <td>0.0</td>\n",
       "      <td>0.0</td>\n",
       "      <td>0.0</td>\n",
       "      <td>0.0</td>\n",
       "      <td>0.0</td>\n",
       "      <td>0.0</td>\n",
       "      <td>0.0</td>\n",
       "    </tr>\n",
       "    <tr>\n",
       "      <th>3074</th>\n",
       "      <td>3235</td>\n",
       "      <td>125.099525</td>\n",
       "      <td>0.0</td>\n",
       "      <td>0.0</td>\n",
       "      <td>0.0</td>\n",
       "      <td>0.0</td>\n",
       "      <td>0.0</td>\n",
       "      <td>0.0</td>\n",
       "      <td>0.0</td>\n",
       "      <td>0.0</td>\n",
       "    </tr>\n",
       "    <tr>\n",
       "      <th>3075</th>\n",
       "      <td>3236</td>\n",
       "      <td>101.162880</td>\n",
       "      <td>0.0</td>\n",
       "      <td>0.0</td>\n",
       "      <td>0.0</td>\n",
       "      <td>0.0</td>\n",
       "      <td>0.0</td>\n",
       "      <td>0.0</td>\n",
       "      <td>0.0</td>\n",
       "      <td>0.0</td>\n",
       "    </tr>\n",
       "    <tr>\n",
       "      <th>3076</th>\n",
       "      <td>3237</td>\n",
       "      <td>38.088959</td>\n",
       "      <td>0.0</td>\n",
       "      <td>0.0</td>\n",
       "      <td>0.0</td>\n",
       "      <td>0.0</td>\n",
       "      <td>0.0</td>\n",
       "      <td>0.0</td>\n",
       "      <td>0.0</td>\n",
       "      <td>0.0</td>\n",
       "    </tr>\n",
       "    <tr>\n",
       "      <th>3077</th>\n",
       "      <td>3238</td>\n",
       "      <td>56.128799</td>\n",
       "      <td>0.0</td>\n",
       "      <td>0.0</td>\n",
       "      <td>0.0</td>\n",
       "      <td>0.0</td>\n",
       "      <td>0.0</td>\n",
       "      <td>0.0</td>\n",
       "      <td>0.0</td>\n",
       "      <td>0.0</td>\n",
       "    </tr>\n",
       "    <tr>\n",
       "      <th>3078</th>\n",
       "      <td>3239</td>\n",
       "      <td>143.357761</td>\n",
       "      <td>0.0</td>\n",
       "      <td>0.0</td>\n",
       "      <td>0.0</td>\n",
       "      <td>0.0</td>\n",
       "      <td>0.0</td>\n",
       "      <td>0.0</td>\n",
       "      <td>0.0</td>\n",
       "      <td>0.0</td>\n",
       "    </tr>\n",
       "    <tr>\n",
       "      <th>3079</th>\n",
       "      <td>3240</td>\n",
       "      <td>34.070400</td>\n",
       "      <td>0.0</td>\n",
       "      <td>0.0</td>\n",
       "      <td>0.0</td>\n",
       "      <td>0.0</td>\n",
       "      <td>0.0</td>\n",
       "      <td>0.0</td>\n",
       "      <td>0.0</td>\n",
       "      <td>0.0</td>\n",
       "    </tr>\n",
       "    <tr>\n",
       "      <th>3080</th>\n",
       "      <td>3241</td>\n",
       "      <td>63.117595</td>\n",
       "      <td>0.0</td>\n",
       "      <td>0.0</td>\n",
       "      <td>0.0</td>\n",
       "      <td>0.0</td>\n",
       "      <td>0.0</td>\n",
       "      <td>0.0</td>\n",
       "      <td>0.0</td>\n",
       "      <td>0.0</td>\n",
       "    </tr>\n",
       "  </tbody>\n",
       "</table>\n",
       "</div>"
      ],
      "text/plain": [
       "       key      wire_1  wire_2  wire_3  wire_4  wire_5  wire_6  wire_7  \\\n",
       "3071  3232   15.069600     0.0     0.0     0.0     0.0     0.0     0.0   \n",
       "3072  3233  107.147033     0.0     0.0     0.0     0.0     0.0     0.0   \n",
       "3073  3234  110.160957     0.0     0.0     0.0     0.0     0.0     0.0   \n",
       "3074  3235  125.099525     0.0     0.0     0.0     0.0     0.0     0.0   \n",
       "3075  3236  101.162880     0.0     0.0     0.0     0.0     0.0     0.0   \n",
       "3076  3237   38.088959     0.0     0.0     0.0     0.0     0.0     0.0   \n",
       "3077  3238   56.128799     0.0     0.0     0.0     0.0     0.0     0.0   \n",
       "3078  3239  143.357761     0.0     0.0     0.0     0.0     0.0     0.0   \n",
       "3079  3240   34.070400     0.0     0.0     0.0     0.0     0.0     0.0   \n",
       "3080  3241   63.117595     0.0     0.0     0.0     0.0     0.0     0.0   \n",
       "\n",
       "      wire_8  wire_9  \n",
       "3071     0.0     0.0  \n",
       "3072     0.0     0.0  \n",
       "3073     0.0     0.0  \n",
       "3074     0.0     0.0  \n",
       "3075     0.0     0.0  \n",
       "3076     0.0     0.0  \n",
       "3077     0.0     0.0  \n",
       "3078     0.0     0.0  \n",
       "3079     0.0     0.0  \n",
       "3080     0.0     0.0  "
      ]
     },
     "metadata": {},
     "output_type": "display_data"
    },
    {
     "data": {
      "text/html": [
       "<div>\n",
       "<style scoped>\n",
       "    .dataframe tbody tr th:only-of-type {\n",
       "        vertical-align: middle;\n",
       "    }\n",
       "\n",
       "    .dataframe tbody tr th {\n",
       "        vertical-align: top;\n",
       "    }\n",
       "\n",
       "    .dataframe thead th {\n",
       "        text-align: right;\n",
       "    }\n",
       "</style>\n",
       "<table border=\"1\" class=\"dataframe\">\n",
       "  <thead>\n",
       "    <tr style=\"text-align: right;\">\n",
       "      <th></th>\n",
       "      <th>key</th>\n",
       "      <th>wire_1</th>\n",
       "      <th>wire_2</th>\n",
       "      <th>wire_3</th>\n",
       "      <th>wire_4</th>\n",
       "      <th>wire_5</th>\n",
       "      <th>wire_6</th>\n",
       "      <th>wire_7</th>\n",
       "      <th>wire_8</th>\n",
       "      <th>wire_9</th>\n",
       "    </tr>\n",
       "  </thead>\n",
       "  <tbody>\n",
       "    <tr>\n",
       "      <th>count</th>\n",
       "      <td>3008.000000</td>\n",
       "      <td>3008.000000</td>\n",
       "      <td>3008.000000</td>\n",
       "      <td>3008.000000</td>\n",
       "      <td>3008.000000</td>\n",
       "      <td>3008.000000</td>\n",
       "      <td>3008.000000</td>\n",
       "      <td>3008.000000</td>\n",
       "      <td>3008.000000</td>\n",
       "      <td>3008.000000</td>\n",
       "    </tr>\n",
       "    <tr>\n",
       "      <th>mean</th>\n",
       "      <td>1627.420878</td>\n",
       "      <td>98.171941</td>\n",
       "      <td>16.125045</td>\n",
       "      <td>3.612043</td>\n",
       "      <td>0.267354</td>\n",
       "      <td>0.005031</td>\n",
       "      <td>1.165306</td>\n",
       "      <td>0.036712</td>\n",
       "      <td>0.338723</td>\n",
       "      <td>0.276751</td>\n",
       "    </tr>\n",
       "    <tr>\n",
       "      <th>std</th>\n",
       "      <td>938.160023</td>\n",
       "      <td>40.416363</td>\n",
       "      <td>29.387609</td>\n",
       "      <td>29.115205</td>\n",
       "      <td>4.345478</td>\n",
       "      <td>0.275904</td>\n",
       "      <td>9.064421</td>\n",
       "      <td>0.783511</td>\n",
       "      <td>4.445372</td>\n",
       "      <td>3.559032</td>\n",
       "    </tr>\n",
       "    <tr>\n",
       "      <th>min</th>\n",
       "      <td>1.000000</td>\n",
       "      <td>0.000000</td>\n",
       "      <td>0.000000</td>\n",
       "      <td>0.000000</td>\n",
       "      <td>0.000000</td>\n",
       "      <td>0.000000</td>\n",
       "      <td>0.000000</td>\n",
       "      <td>0.000000</td>\n",
       "      <td>0.000000</td>\n",
       "      <td>0.000000</td>\n",
       "    </tr>\n",
       "    <tr>\n",
       "      <th>25%</th>\n",
       "      <td>818.750000</td>\n",
       "      <td>70.106405</td>\n",
       "      <td>0.000000</td>\n",
       "      <td>0.000000</td>\n",
       "      <td>0.000000</td>\n",
       "      <td>0.000000</td>\n",
       "      <td>0.000000</td>\n",
       "      <td>0.000000</td>\n",
       "      <td>0.000000</td>\n",
       "      <td>0.000000</td>\n",
       "    </tr>\n",
       "    <tr>\n",
       "      <th>50%</th>\n",
       "      <td>1630.500000</td>\n",
       "      <td>100.070877</td>\n",
       "      <td>0.000000</td>\n",
       "      <td>0.000000</td>\n",
       "      <td>0.000000</td>\n",
       "      <td>0.000000</td>\n",
       "      <td>0.000000</td>\n",
       "      <td>0.000000</td>\n",
       "      <td>0.000000</td>\n",
       "      <td>0.000000</td>\n",
       "    </tr>\n",
       "    <tr>\n",
       "      <th>75%</th>\n",
       "      <td>2443.250000</td>\n",
       "      <td>124.211884</td>\n",
       "      <td>21.232639</td>\n",
       "      <td>0.000000</td>\n",
       "      <td>0.000000</td>\n",
       "      <td>0.000000</td>\n",
       "      <td>0.000000</td>\n",
       "      <td>0.000000</td>\n",
       "      <td>0.000000</td>\n",
       "      <td>0.000000</td>\n",
       "    </tr>\n",
       "    <tr>\n",
       "      <th>max</th>\n",
       "      <td>3241.000000</td>\n",
       "      <td>199.882806</td>\n",
       "      <td>148.930079</td>\n",
       "      <td>385.008668</td>\n",
       "      <td>113.231044</td>\n",
       "      <td>15.132000</td>\n",
       "      <td>180.454575</td>\n",
       "      <td>32.847674</td>\n",
       "      <td>102.762401</td>\n",
       "      <td>90.053604</td>\n",
       "    </tr>\n",
       "  </tbody>\n",
       "</table>\n",
       "</div>"
      ],
      "text/plain": [
       "               key       wire_1       wire_2       wire_3       wire_4  \\\n",
       "count  3008.000000  3008.000000  3008.000000  3008.000000  3008.000000   \n",
       "mean   1627.420878    98.171941    16.125045     3.612043     0.267354   \n",
       "std     938.160023    40.416363    29.387609    29.115205     4.345478   \n",
       "min       1.000000     0.000000     0.000000     0.000000     0.000000   \n",
       "25%     818.750000    70.106405     0.000000     0.000000     0.000000   \n",
       "50%    1630.500000   100.070877     0.000000     0.000000     0.000000   \n",
       "75%    2443.250000   124.211884    21.232639     0.000000     0.000000   \n",
       "max    3241.000000   199.882806   148.930079   385.008668   113.231044   \n",
       "\n",
       "            wire_5       wire_6       wire_7       wire_8       wire_9  \n",
       "count  3008.000000  3008.000000  3008.000000  3008.000000  3008.000000  \n",
       "mean      0.005031     1.165306     0.036712     0.338723     0.276751  \n",
       "std       0.275904     9.064421     0.783511     4.445372     3.559032  \n",
       "min       0.000000     0.000000     0.000000     0.000000     0.000000  \n",
       "25%       0.000000     0.000000     0.000000     0.000000     0.000000  \n",
       "50%       0.000000     0.000000     0.000000     0.000000     0.000000  \n",
       "75%       0.000000     0.000000     0.000000     0.000000     0.000000  \n",
       "max      15.132000   180.454575    32.847674   102.762401    90.053604  "
      ]
     },
     "execution_count": 39,
     "metadata": {},
     "output_type": "execute_result"
    }
   ],
   "source": [
    "# data_wire: wire_1 < 200 & wire_2 < 150\n",
    "data_wire = data_wire.query('wire_1 < 200 and wire_2 <150')\n",
    "display(data_wire.tail(10))\n",
    "data_wire.describe()"
   ]
  },
  {
   "cell_type": "markdown",
   "metadata": {},
   "source": [
    "Итак, мы обработали и подготовили все данные для последующего обучения моделей и тестирования."
   ]
  },
  {
   "cell_type": "markdown",
   "metadata": {},
   "source": [
    "## Подготовка обучающей и тестовой выборки и обучение модели"
   ]
  },
  {
   "cell_type": "markdown",
   "metadata": {},
   "source": [
    "### Подготовка данных\n",
    "Для обучения модели нам необходимо выбрать данные, которые могут стать адекватными признаками для обучения.\n",
    "Мы будем использовать данные следующих таблиц: <br>\n",
    "- data_arc\n",
    "- data_bulk\n",
    "- data_temp\n",
    "- data_gas\n",
    "- data_wire <br><br>\n",
    "Таблицы data_bulk_time & data_wire_time не будут использоваться, т.к. содержат только данные о времени добавления ингридиентов, которые не могут быть соотнесены между таблицами, т.к. тайминговые датчики на разных стадиях показывают разное время. <br>\n",
    "При этом данные в таблицах data_arc и data_temp должны быть агрегрированы по партиям. <br>\n",
    "Мы объединим все таблицы в одну и оставим только те партии, которые содержат данные по всем полезным признакам. <br>\n",
    "В качестве целевого признака мы будем использовать измеренную температуру в поле measured_temp таблицы data_temp, сделанную на последнем этапе. Температуру на первом этапе мы будем использовать в качестве признака."
   ]
  },
  {
   "cell_type": "code",
   "execution_count": 40,
   "metadata": {},
   "outputs": [
    {
     "name": "stdout",
     "output_type": "stream",
     "text": [
      "<class 'pandas.core.frame.DataFrame'>\n",
      "Int64Index: 14875 entries, 0 to 14875\n",
      "Data columns (total 5 columns):\n",
      " #   Column          Non-Null Count  Dtype  \n",
      "---  ------          --------------  -----  \n",
      " 0   key             14875 non-null  int64  \n",
      " 1   heating_start   14875 non-null  object \n",
      " 2   heating_end     14875 non-null  object \n",
      " 3   active_power    14875 non-null  float64\n",
      " 4   reactive_power  14875 non-null  float64\n",
      "dtypes: float64(2), int64(1), object(2)\n",
      "memory usage: 697.3+ KB\n"
     ]
    },
    {
     "data": {
      "text/plain": [
       "None"
      ]
     },
     "metadata": {},
     "output_type": "display_data"
    },
    {
     "name": "stdout",
     "output_type": "stream",
     "text": [
      "<class 'pandas.core.frame.DataFrame'>\n",
      "Int64Index: 14875 entries, 0 to 14875\n",
      "Data columns (total 5 columns):\n",
      " #   Column          Non-Null Count  Dtype         \n",
      "---  ------          --------------  -----         \n",
      " 0   key             14875 non-null  int64         \n",
      " 1   heating_start   14875 non-null  datetime64[ns]\n",
      " 2   heating_end     14875 non-null  datetime64[ns]\n",
      " 3   active_power    14875 non-null  float64       \n",
      " 4   reactive_power  14875 non-null  float64       \n",
      "dtypes: datetime64[ns](2), float64(2), int64(1)\n",
      "memory usage: 697.3 KB\n"
     ]
    }
   ],
   "source": [
    "# Для начала поработаем с таблицей data_arc - извлечем из данных новые признаки: \n",
    "# длительность нагрева, кол-во нагревов, полную мощность\n",
    "# проверим тип данных и приведем даты к нужному типу\n",
    "display(data_arc.info())\n",
    "data_arc['heating_start']= pd.to_datetime(data_arc['heating_start'], format = '%Y/%m/%d %H:%M:%S')\n",
    "data_arc['heating_end']= pd.to_datetime(data_arc['heating_end'], format = '%Y/%m/%d %H:%M:%S')\n",
    "data_arc.info()"
   ]
  },
  {
   "cell_type": "code",
   "execution_count": 41,
   "metadata": {},
   "outputs": [
    {
     "data": {
      "text/html": [
       "<div>\n",
       "<style scoped>\n",
       "    .dataframe tbody tr th:only-of-type {\n",
       "        vertical-align: middle;\n",
       "    }\n",
       "\n",
       "    .dataframe tbody tr th {\n",
       "        vertical-align: top;\n",
       "    }\n",
       "\n",
       "    .dataframe thead th {\n",
       "        text-align: right;\n",
       "    }\n",
       "</style>\n",
       "<table border=\"1\" class=\"dataframe\">\n",
       "  <thead>\n",
       "    <tr style=\"text-align: right;\">\n",
       "      <th></th>\n",
       "      <th>key</th>\n",
       "      <th>heating_start</th>\n",
       "      <th>heating_end</th>\n",
       "      <th>active_power</th>\n",
       "      <th>reactive_power</th>\n",
       "      <th>heat_length_s</th>\n",
       "      <th>apparent_power</th>\n",
       "    </tr>\n",
       "  </thead>\n",
       "  <tbody>\n",
       "    <tr>\n",
       "      <th>0</th>\n",
       "      <td>1</td>\n",
       "      <td>2019-05-03 11:02:14</td>\n",
       "      <td>2019-05-03 11:06:02</td>\n",
       "      <td>0.976059</td>\n",
       "      <td>0.687084</td>\n",
       "      <td>228</td>\n",
       "      <td>1.193639</td>\n",
       "    </tr>\n",
       "    <tr>\n",
       "      <th>1</th>\n",
       "      <td>1</td>\n",
       "      <td>2019-05-03 11:07:28</td>\n",
       "      <td>2019-05-03 11:10:33</td>\n",
       "      <td>0.805607</td>\n",
       "      <td>0.520285</td>\n",
       "      <td>185</td>\n",
       "      <td>0.959010</td>\n",
       "    </tr>\n",
       "    <tr>\n",
       "      <th>2</th>\n",
       "      <td>1</td>\n",
       "      <td>2019-05-03 11:11:44</td>\n",
       "      <td>2019-05-03 11:14:36</td>\n",
       "      <td>0.744363</td>\n",
       "      <td>0.498805</td>\n",
       "      <td>172</td>\n",
       "      <td>0.896038</td>\n",
       "    </tr>\n",
       "    <tr>\n",
       "      <th>3</th>\n",
       "      <td>1</td>\n",
       "      <td>2019-05-03 11:18:14</td>\n",
       "      <td>2019-05-03 11:24:19</td>\n",
       "      <td>1.659363</td>\n",
       "      <td>1.062669</td>\n",
       "      <td>365</td>\n",
       "      <td>1.970470</td>\n",
       "    </tr>\n",
       "    <tr>\n",
       "      <th>4</th>\n",
       "      <td>1</td>\n",
       "      <td>2019-05-03 11:26:09</td>\n",
       "      <td>2019-05-03 11:28:37</td>\n",
       "      <td>0.692755</td>\n",
       "      <td>0.414397</td>\n",
       "      <td>148</td>\n",
       "      <td>0.807239</td>\n",
       "    </tr>\n",
       "  </tbody>\n",
       "</table>\n",
       "</div>"
      ],
      "text/plain": [
       "   key       heating_start         heating_end  active_power  reactive_power  \\\n",
       "0    1 2019-05-03 11:02:14 2019-05-03 11:06:02      0.976059        0.687084   \n",
       "1    1 2019-05-03 11:07:28 2019-05-03 11:10:33      0.805607        0.520285   \n",
       "2    1 2019-05-03 11:11:44 2019-05-03 11:14:36      0.744363        0.498805   \n",
       "3    1 2019-05-03 11:18:14 2019-05-03 11:24:19      1.659363        1.062669   \n",
       "4    1 2019-05-03 11:26:09 2019-05-03 11:28:37      0.692755        0.414397   \n",
       "\n",
       "   heat_length_s  apparent_power  \n",
       "0            228        1.193639  \n",
       "1            185        0.959010  \n",
       "2            172        0.896038  \n",
       "3            365        1.970470  \n",
       "4            148        0.807239  "
      ]
     },
     "execution_count": 41,
     "metadata": {},
     "output_type": "execute_result"
    }
   ],
   "source": [
    "# создадим дополнительный столбец с продолжительностью нагрева\n",
    "data_arc['heat_length_s'] = pd.TimedeltaIndex(data_arc['heating_end'] - data_arc['heating_start']).seconds\n",
    "# и еще один дополнительный столбец - полная мощность = квадратный корень из суммы квадратов активной и реактивной мощностей\n",
    "data_arc['apparent_power'] = np.sqrt(data_arc['active_power']**2 + data_arc['reactive_power']**2)\n",
    "data_arc.head()"
   ]
  },
  {
   "cell_type": "code",
   "execution_count": 42,
   "metadata": {},
   "outputs": [
    {
     "data": {
      "text/html": [
       "<div>\n",
       "<style scoped>\n",
       "    .dataframe tbody tr th:only-of-type {\n",
       "        vertical-align: middle;\n",
       "    }\n",
       "\n",
       "    .dataframe tbody tr th {\n",
       "        vertical-align: top;\n",
       "    }\n",
       "\n",
       "    .dataframe thead th {\n",
       "        text-align: right;\n",
       "    }\n",
       "</style>\n",
       "<table border=\"1\" class=\"dataframe\">\n",
       "  <thead>\n",
       "    <tr style=\"text-align: right;\">\n",
       "      <th></th>\n",
       "      <th>active_power</th>\n",
       "      <th>apparent_power</th>\n",
       "      <th>heat_length_s</th>\n",
       "      <th>heating_count</th>\n",
       "      <th>reactive_power</th>\n",
       "    </tr>\n",
       "    <tr>\n",
       "      <th>key</th>\n",
       "      <th></th>\n",
       "      <th></th>\n",
       "      <th></th>\n",
       "      <th></th>\n",
       "      <th></th>\n",
       "    </tr>\n",
       "  </thead>\n",
       "  <tbody>\n",
       "    <tr>\n",
       "      <th>1</th>\n",
       "      <td>0.975629</td>\n",
       "      <td>1.165279</td>\n",
       "      <td>1098</td>\n",
       "      <td>5</td>\n",
       "      <td>0.636648</td>\n",
       "    </tr>\n",
       "    <tr>\n",
       "      <th>2</th>\n",
       "      <td>0.763150</td>\n",
       "      <td>0.912304</td>\n",
       "      <td>811</td>\n",
       "      <td>4</td>\n",
       "      <td>0.499528</td>\n",
       "    </tr>\n",
       "    <tr>\n",
       "      <th>3</th>\n",
       "      <td>0.505176</td>\n",
       "      <td>0.597907</td>\n",
       "      <td>655</td>\n",
       "      <td>5</td>\n",
       "      <td>0.319815</td>\n",
       "    </tr>\n",
       "    <tr>\n",
       "      <th>4</th>\n",
       "      <td>0.802313</td>\n",
       "      <td>0.953741</td>\n",
       "      <td>741</td>\n",
       "      <td>4</td>\n",
       "      <td>0.515074</td>\n",
       "    </tr>\n",
       "    <tr>\n",
       "      <th>5</th>\n",
       "      <td>0.836793</td>\n",
       "      <td>1.008939</td>\n",
       "      <td>869</td>\n",
       "      <td>4</td>\n",
       "      <td>0.563161</td>\n",
       "    </tr>\n",
       "  </tbody>\n",
       "</table>\n",
       "</div>"
      ],
      "text/plain": [
       "     active_power  apparent_power  heat_length_s  heating_count  \\\n",
       "key                                                               \n",
       "1        0.975629        1.165279           1098              5   \n",
       "2        0.763150        0.912304            811              4   \n",
       "3        0.505176        0.597907            655              5   \n",
       "4        0.802313        0.953741            741              4   \n",
       "5        0.836793        1.008939            869              4   \n",
       "\n",
       "     reactive_power  \n",
       "key                  \n",
       "1          0.636648  \n",
       "2          0.499528  \n",
       "3          0.319815  \n",
       "4          0.515074  \n",
       "5          0.563161  "
      ]
     },
     "execution_count": 42,
     "metadata": {},
     "output_type": "execute_result"
    }
   ],
   "source": [
    "data_arc_pivot = pd.pivot_table(data_arc, index = 'key', \n",
    "                                values = ['active_power', 'reactive_power', 'heat_length_s', 'apparent_power', 'heating_start'],\n",
    "                               aggfunc = {'active_power':'mean', \n",
    "                                          'reactive_power':'mean', \n",
    "                                          'heat_length_s':'sum', \n",
    "                                          'apparent_power':'mean', 'heating_start':'count'})\n",
    "data_arc_pivot.rename(columns = {'heating_start':'heating_count'}, inplace = True)\n",
    "data_arc_pivot.head()"
   ]
  },
  {
   "cell_type": "code",
   "execution_count": 43,
   "metadata": {},
   "outputs": [
    {
     "data": {
      "text/html": [
       "<div>\n",
       "<style scoped>\n",
       "    .dataframe tbody tr th:only-of-type {\n",
       "        vertical-align: middle;\n",
       "    }\n",
       "\n",
       "    .dataframe tbody tr th {\n",
       "        vertical-align: top;\n",
       "    }\n",
       "\n",
       "    .dataframe thead th {\n",
       "        text-align: right;\n",
       "    }\n",
       "</style>\n",
       "<table border=\"1\" class=\"dataframe\">\n",
       "  <thead>\n",
       "    <tr style=\"text-align: right;\">\n",
       "      <th></th>\n",
       "      <th>key</th>\n",
       "      <th>time_stamp</th>\n",
       "      <th>measured_temp</th>\n",
       "      <th>first_temp</th>\n",
       "      <th>last_temp</th>\n",
       "    </tr>\n",
       "  </thead>\n",
       "  <tbody>\n",
       "    <tr>\n",
       "      <th>0</th>\n",
       "      <td>1</td>\n",
       "      <td>2019-05-03 11:16:18</td>\n",
       "      <td>1571.0</td>\n",
       "      <td>1571.0</td>\n",
       "      <td>0.0</td>\n",
       "    </tr>\n",
       "    <tr>\n",
       "      <th>1</th>\n",
       "      <td>1</td>\n",
       "      <td>2019-05-03 11:25:53</td>\n",
       "      <td>1604.0</td>\n",
       "      <td>0.0</td>\n",
       "      <td>0.0</td>\n",
       "    </tr>\n",
       "    <tr>\n",
       "      <th>2</th>\n",
       "      <td>1</td>\n",
       "      <td>2019-05-03 11:29:11</td>\n",
       "      <td>1618.0</td>\n",
       "      <td>0.0</td>\n",
       "      <td>0.0</td>\n",
       "    </tr>\n",
       "    <tr>\n",
       "      <th>3</th>\n",
       "      <td>1</td>\n",
       "      <td>2019-05-03 11:30:01</td>\n",
       "      <td>1601.0</td>\n",
       "      <td>0.0</td>\n",
       "      <td>0.0</td>\n",
       "    </tr>\n",
       "    <tr>\n",
       "      <th>4</th>\n",
       "      <td>1</td>\n",
       "      <td>2019-05-03 11:30:39</td>\n",
       "      <td>1613.0</td>\n",
       "      <td>0.0</td>\n",
       "      <td>1613.0</td>\n",
       "    </tr>\n",
       "    <tr>\n",
       "      <th>5</th>\n",
       "      <td>2</td>\n",
       "      <td>2019-05-03 11:37:27</td>\n",
       "      <td>1581.0</td>\n",
       "      <td>1581.0</td>\n",
       "      <td>0.0</td>\n",
       "    </tr>\n",
       "    <tr>\n",
       "      <th>6</th>\n",
       "      <td>2</td>\n",
       "      <td>2019-05-03 11:38:00</td>\n",
       "      <td>1577.0</td>\n",
       "      <td>0.0</td>\n",
       "      <td>0.0</td>\n",
       "    </tr>\n",
       "    <tr>\n",
       "      <th>7</th>\n",
       "      <td>2</td>\n",
       "      <td>2019-05-03 11:49:38</td>\n",
       "      <td>1589.0</td>\n",
       "      <td>0.0</td>\n",
       "      <td>0.0</td>\n",
       "    </tr>\n",
       "    <tr>\n",
       "      <th>8</th>\n",
       "      <td>2</td>\n",
       "      <td>2019-05-03 11:55:50</td>\n",
       "      <td>1604.0</td>\n",
       "      <td>0.0</td>\n",
       "      <td>0.0</td>\n",
       "    </tr>\n",
       "    <tr>\n",
       "      <th>9</th>\n",
       "      <td>2</td>\n",
       "      <td>2019-05-03 11:58:24</td>\n",
       "      <td>1608.0</td>\n",
       "      <td>0.0</td>\n",
       "      <td>0.0</td>\n",
       "    </tr>\n",
       "  </tbody>\n",
       "</table>\n",
       "</div>"
      ],
      "text/plain": [
       "   key           time_stamp  measured_temp  first_temp  last_temp\n",
       "0    1  2019-05-03 11:16:18         1571.0      1571.0        0.0\n",
       "1    1  2019-05-03 11:25:53         1604.0         0.0        0.0\n",
       "2    1  2019-05-03 11:29:11         1618.0         0.0        0.0\n",
       "3    1  2019-05-03 11:30:01         1601.0         0.0        0.0\n",
       "4    1  2019-05-03 11:30:39         1613.0         0.0     1613.0\n",
       "5    2  2019-05-03 11:37:27         1581.0      1581.0        0.0\n",
       "6    2  2019-05-03 11:38:00         1577.0         0.0        0.0\n",
       "7    2  2019-05-03 11:49:38         1589.0         0.0        0.0\n",
       "8    2  2019-05-03 11:55:50         1604.0         0.0        0.0\n",
       "9    2  2019-05-03 11:58:24         1608.0         0.0        0.0"
      ]
     },
     "execution_count": 43,
     "metadata": {},
     "output_type": "execute_result"
    }
   ],
   "source": [
    "# в датасете data_temp нам нужны только первое и последнее значения температуры\n",
    "# напишем функцию, которая возвращает только значение первой или последней записи для партии\n",
    "# определим первую запись для партию как ту, у которой значение key не равно предыдущему\n",
    "# а последнюю запись - как ту, у которой значение key не равно последующей записи\n",
    "\n",
    "def first(line):\n",
    "    cell = line['first_temp']\n",
    "    if cell == True:\n",
    "        return line['measured_temp']\n",
    "    else:\n",
    "        return 0\n",
    "    \n",
    "def last(line):\n",
    "    cell = line['last_temp']\n",
    "    if cell == True:\n",
    "        return line['measured_temp']\n",
    "    else:\n",
    "        return 0\n",
    "data_temp['first_temp'] = data_temp['key']!= data_temp['key'].shift(1)\n",
    "data_temp['last_temp'] = data_temp['key']!= data_temp['key'].shift(-1)\n",
    "data_temp['first_temp'] = data_temp.apply(first, axis =1)\n",
    "data_temp['last_temp'] = data_temp.apply(last, axis =1)\n",
    "data_temp.head(10)"
   ]
  },
  {
   "cell_type": "code",
   "execution_count": 44,
   "metadata": {},
   "outputs": [
    {
     "data": {
      "text/html": [
       "<div>\n",
       "<style scoped>\n",
       "    .dataframe tbody tr th:only-of-type {\n",
       "        vertical-align: middle;\n",
       "    }\n",
       "\n",
       "    .dataframe tbody tr th {\n",
       "        vertical-align: top;\n",
       "    }\n",
       "\n",
       "    .dataframe thead th {\n",
       "        text-align: right;\n",
       "    }\n",
       "</style>\n",
       "<table border=\"1\" class=\"dataframe\">\n",
       "  <thead>\n",
       "    <tr style=\"text-align: right;\">\n",
       "      <th></th>\n",
       "      <th>first_temp</th>\n",
       "      <th>last_temp</th>\n",
       "    </tr>\n",
       "    <tr>\n",
       "      <th>key</th>\n",
       "      <th></th>\n",
       "      <th></th>\n",
       "    </tr>\n",
       "  </thead>\n",
       "  <tbody>\n",
       "    <tr>\n",
       "      <th>1</th>\n",
       "      <td>1571</td>\n",
       "      <td>1613</td>\n",
       "    </tr>\n",
       "    <tr>\n",
       "      <th>2</th>\n",
       "      <td>1581</td>\n",
       "      <td>1602</td>\n",
       "    </tr>\n",
       "    <tr>\n",
       "      <th>3</th>\n",
       "      <td>1596</td>\n",
       "      <td>1599</td>\n",
       "    </tr>\n",
       "    <tr>\n",
       "      <th>4</th>\n",
       "      <td>1601</td>\n",
       "      <td>1625</td>\n",
       "    </tr>\n",
       "    <tr>\n",
       "      <th>5</th>\n",
       "      <td>1576</td>\n",
       "      <td>1602</td>\n",
       "    </tr>\n",
       "  </tbody>\n",
       "</table>\n",
       "</div>"
      ],
      "text/plain": [
       "     first_temp  last_temp\n",
       "key                       \n",
       "1          1571       1613\n",
       "2          1581       1602\n",
       "3          1596       1599\n",
       "4          1601       1625\n",
       "5          1576       1602"
      ]
     },
     "execution_count": 44,
     "metadata": {},
     "output_type": "execute_result"
    }
   ],
   "source": [
    "data_temp_pivot = pd.pivot_table(data_temp, index = 'key', values = ['first_temp', 'last_temp'], aggfunc ='max')\n",
    "data_temp_pivot = data_temp_pivot.astype('int')\n",
    "data_temp_pivot.head()"
   ]
  },
  {
   "cell_type": "code",
   "execution_count": 45,
   "metadata": {},
   "outputs": [
    {
     "data": {
      "text/html": [
       "<div>\n",
       "<style scoped>\n",
       "    .dataframe tbody tr th:only-of-type {\n",
       "        vertical-align: middle;\n",
       "    }\n",
       "\n",
       "    .dataframe tbody tr th {\n",
       "        vertical-align: top;\n",
       "    }\n",
       "\n",
       "    .dataframe thead th {\n",
       "        text-align: right;\n",
       "    }\n",
       "</style>\n",
       "<table border=\"1\" class=\"dataframe\">\n",
       "  <thead>\n",
       "    <tr style=\"text-align: right;\">\n",
       "      <th></th>\n",
       "      <th>key</th>\n",
       "      <th>bulk_1</th>\n",
       "      <th>bulk_2</th>\n",
       "      <th>bulk_3</th>\n",
       "      <th>bulk_4</th>\n",
       "      <th>bulk_5</th>\n",
       "      <th>bulk_6</th>\n",
       "      <th>bulk_7</th>\n",
       "      <th>bulk_8</th>\n",
       "      <th>bulk_9</th>\n",
       "      <th>bulk_10</th>\n",
       "      <th>bulk_11</th>\n",
       "      <th>bulk_12</th>\n",
       "      <th>bulk_13</th>\n",
       "      <th>bulk_14</th>\n",
       "      <th>bulk_15</th>\n",
       "      <th>count_bulk</th>\n",
       "    </tr>\n",
       "  </thead>\n",
       "  <tbody>\n",
       "    <tr>\n",
       "      <th>0</th>\n",
       "      <td>1</td>\n",
       "      <td>0.0</td>\n",
       "      <td>0.0</td>\n",
       "      <td>0.0</td>\n",
       "      <td>43.0</td>\n",
       "      <td>0.0</td>\n",
       "      <td>0.0</td>\n",
       "      <td>0.0</td>\n",
       "      <td>0.0</td>\n",
       "      <td>0.0</td>\n",
       "      <td>0.0</td>\n",
       "      <td>0.0</td>\n",
       "      <td>206.0</td>\n",
       "      <td>0.0</td>\n",
       "      <td>150.0</td>\n",
       "      <td>154.0</td>\n",
       "      <td>4</td>\n",
       "    </tr>\n",
       "    <tr>\n",
       "      <th>1</th>\n",
       "      <td>2</td>\n",
       "      <td>0.0</td>\n",
       "      <td>0.0</td>\n",
       "      <td>0.0</td>\n",
       "      <td>73.0</td>\n",
       "      <td>0.0</td>\n",
       "      <td>0.0</td>\n",
       "      <td>0.0</td>\n",
       "      <td>0.0</td>\n",
       "      <td>0.0</td>\n",
       "      <td>0.0</td>\n",
       "      <td>0.0</td>\n",
       "      <td>206.0</td>\n",
       "      <td>0.0</td>\n",
       "      <td>149.0</td>\n",
       "      <td>154.0</td>\n",
       "      <td>4</td>\n",
       "    </tr>\n",
       "    <tr>\n",
       "      <th>2</th>\n",
       "      <td>3</td>\n",
       "      <td>0.0</td>\n",
       "      <td>0.0</td>\n",
       "      <td>0.0</td>\n",
       "      <td>34.0</td>\n",
       "      <td>0.0</td>\n",
       "      <td>0.0</td>\n",
       "      <td>0.0</td>\n",
       "      <td>0.0</td>\n",
       "      <td>0.0</td>\n",
       "      <td>0.0</td>\n",
       "      <td>0.0</td>\n",
       "      <td>205.0</td>\n",
       "      <td>0.0</td>\n",
       "      <td>152.0</td>\n",
       "      <td>153.0</td>\n",
       "      <td>4</td>\n",
       "    </tr>\n",
       "    <tr>\n",
       "      <th>3</th>\n",
       "      <td>4</td>\n",
       "      <td>0.0</td>\n",
       "      <td>0.0</td>\n",
       "      <td>0.0</td>\n",
       "      <td>81.0</td>\n",
       "      <td>0.0</td>\n",
       "      <td>0.0</td>\n",
       "      <td>0.0</td>\n",
       "      <td>0.0</td>\n",
       "      <td>0.0</td>\n",
       "      <td>0.0</td>\n",
       "      <td>0.0</td>\n",
       "      <td>207.0</td>\n",
       "      <td>0.0</td>\n",
       "      <td>153.0</td>\n",
       "      <td>154.0</td>\n",
       "      <td>4</td>\n",
       "    </tr>\n",
       "    <tr>\n",
       "      <th>4</th>\n",
       "      <td>5</td>\n",
       "      <td>0.0</td>\n",
       "      <td>0.0</td>\n",
       "      <td>0.0</td>\n",
       "      <td>78.0</td>\n",
       "      <td>0.0</td>\n",
       "      <td>0.0</td>\n",
       "      <td>0.0</td>\n",
       "      <td>0.0</td>\n",
       "      <td>0.0</td>\n",
       "      <td>0.0</td>\n",
       "      <td>0.0</td>\n",
       "      <td>203.0</td>\n",
       "      <td>0.0</td>\n",
       "      <td>151.0</td>\n",
       "      <td>152.0</td>\n",
       "      <td>4</td>\n",
       "    </tr>\n",
       "  </tbody>\n",
       "</table>\n",
       "</div>"
      ],
      "text/plain": [
       "   key  bulk_1  bulk_2  bulk_3  bulk_4  bulk_5  bulk_6  bulk_7  bulk_8  \\\n",
       "0    1     0.0     0.0     0.0    43.0     0.0     0.0     0.0     0.0   \n",
       "1    2     0.0     0.0     0.0    73.0     0.0     0.0     0.0     0.0   \n",
       "2    3     0.0     0.0     0.0    34.0     0.0     0.0     0.0     0.0   \n",
       "3    4     0.0     0.0     0.0    81.0     0.0     0.0     0.0     0.0   \n",
       "4    5     0.0     0.0     0.0    78.0     0.0     0.0     0.0     0.0   \n",
       "\n",
       "   bulk_9  bulk_10  bulk_11  bulk_12  bulk_13  bulk_14  bulk_15  count_bulk  \n",
       "0     0.0      0.0      0.0    206.0      0.0    150.0    154.0           4  \n",
       "1     0.0      0.0      0.0    206.0      0.0    149.0    154.0           4  \n",
       "2     0.0      0.0      0.0    205.0      0.0    152.0    153.0           4  \n",
       "3     0.0      0.0      0.0    207.0      0.0    153.0    154.0           4  \n",
       "4     0.0      0.0      0.0    203.0      0.0    151.0    152.0           4  "
      ]
     },
     "execution_count": 45,
     "metadata": {},
     "output_type": "execute_result"
    }
   ],
   "source": [
    "# в таблицах data_bulk и data_wire дополнительным признаком может быть количество добавленных ингридиентов для каждой партии\n",
    "data_bulk['count_bulk'] = np.sum(data_bulk>0, axis =1)-1\n",
    "data_wire['count_wire'] = np.sum(data_wire>0, axis = 1)-1\n",
    "data_bulk.head()"
   ]
  },
  {
   "cell_type": "markdown",
   "metadata": {},
   "source": [
    "Мы можем приступить к объединению признаков в единую таблицу. За базу нам необходимо взять таблицу, содержащую целевой признак - это таблица data_temp_pivot (целевой признак - 'last temp'). К ней мы последовательно будем присоединять признаки из других таблиц - только для тех партий, которые содержатся в базовой таблице."
   ]
  },
  {
   "cell_type": "code",
   "execution_count": 46,
   "metadata": {},
   "outputs": [
    {
     "name": "stdout",
     "output_type": "stream",
     "text": [
      "<class 'pandas.core.frame.DataFrame'>\n",
      "Int64Index: 2473 entries, 1 to 2499\n",
      "Data columns (total 8 columns):\n",
      " #   Column          Non-Null Count  Dtype  \n",
      "---  ------          --------------  -----  \n",
      " 0   first_temp      2473 non-null   int64  \n",
      " 1   last_temp       2473 non-null   int64  \n",
      " 2   active_power    2473 non-null   float64\n",
      " 3   apparent_power  2473 non-null   float64\n",
      " 4   heat_length_s   2473 non-null   int64  \n",
      " 5   heating_count   2473 non-null   int64  \n",
      " 6   reactive_power  2473 non-null   float64\n",
      " 7   gas_total       2473 non-null   float64\n",
      "dtypes: float64(4), int64(4)\n",
      "memory usage: 173.9 KB\n"
     ]
    }
   ],
   "source": [
    "final_dataset = data_temp_pivot.merge(data_arc_pivot, left_index = True, right_index = True, how = 'inner')\n",
    "data_gas.set_index(['key'], drop = True, inplace = True)\n",
    "final_dataset = final_dataset.merge(data_gas, how = 'inner', left_index = True, right_on = 'key', copy = False)\n",
    "final_dataset.info()"
   ]
  },
  {
   "cell_type": "markdown",
   "metadata": {},
   "source": [
    "Далее мы будем объединять эту таблицу с данными таблиц data_bulk & data_wire. <br>\n",
    "Не все столбцы в этих таблицах нам необходимы - если ингридиент добавлялся менее чем в 10% случаев, модель не сумеет его правильно обработать. Поэтому такие столбцы нам копировать не нужно."
   ]
  },
  {
   "cell_type": "code",
   "execution_count": 47,
   "metadata": {},
   "outputs": [
    {
     "data": {
      "text/html": [
       "<div>\n",
       "<style scoped>\n",
       "    .dataframe tbody tr th:only-of-type {\n",
       "        vertical-align: middle;\n",
       "    }\n",
       "\n",
       "    .dataframe tbody tr th {\n",
       "        vertical-align: top;\n",
       "    }\n",
       "\n",
       "    .dataframe thead th {\n",
       "        text-align: right;\n",
       "    }\n",
       "</style>\n",
       "<table border=\"1\" class=\"dataframe\">\n",
       "  <thead>\n",
       "    <tr style=\"text-align: right;\">\n",
       "      <th></th>\n",
       "      <th>bulk_1</th>\n",
       "      <th>bulk_3</th>\n",
       "      <th>bulk_4</th>\n",
       "      <th>bulk_5</th>\n",
       "      <th>bulk_6</th>\n",
       "      <th>bulk_10</th>\n",
       "      <th>bulk_11</th>\n",
       "      <th>bulk_12</th>\n",
       "      <th>bulk_14</th>\n",
       "      <th>bulk_15</th>\n",
       "      <th>count_bulk</th>\n",
       "    </tr>\n",
       "    <tr>\n",
       "      <th>key</th>\n",
       "      <th></th>\n",
       "      <th></th>\n",
       "      <th></th>\n",
       "      <th></th>\n",
       "      <th></th>\n",
       "      <th></th>\n",
       "      <th></th>\n",
       "      <th></th>\n",
       "      <th></th>\n",
       "      <th></th>\n",
       "      <th></th>\n",
       "    </tr>\n",
       "  </thead>\n",
       "  <tbody>\n",
       "    <tr>\n",
       "      <th>1</th>\n",
       "      <td>0.0</td>\n",
       "      <td>0.0</td>\n",
       "      <td>43.0</td>\n",
       "      <td>0.0</td>\n",
       "      <td>0.0</td>\n",
       "      <td>0.0</td>\n",
       "      <td>0.0</td>\n",
       "      <td>206.0</td>\n",
       "      <td>150.0</td>\n",
       "      <td>154.0</td>\n",
       "      <td>4</td>\n",
       "    </tr>\n",
       "    <tr>\n",
       "      <th>2</th>\n",
       "      <td>0.0</td>\n",
       "      <td>0.0</td>\n",
       "      <td>73.0</td>\n",
       "      <td>0.0</td>\n",
       "      <td>0.0</td>\n",
       "      <td>0.0</td>\n",
       "      <td>0.0</td>\n",
       "      <td>206.0</td>\n",
       "      <td>149.0</td>\n",
       "      <td>154.0</td>\n",
       "      <td>4</td>\n",
       "    </tr>\n",
       "    <tr>\n",
       "      <th>3</th>\n",
       "      <td>0.0</td>\n",
       "      <td>0.0</td>\n",
       "      <td>34.0</td>\n",
       "      <td>0.0</td>\n",
       "      <td>0.0</td>\n",
       "      <td>0.0</td>\n",
       "      <td>0.0</td>\n",
       "      <td>205.0</td>\n",
       "      <td>152.0</td>\n",
       "      <td>153.0</td>\n",
       "      <td>4</td>\n",
       "    </tr>\n",
       "    <tr>\n",
       "      <th>4</th>\n",
       "      <td>0.0</td>\n",
       "      <td>0.0</td>\n",
       "      <td>81.0</td>\n",
       "      <td>0.0</td>\n",
       "      <td>0.0</td>\n",
       "      <td>0.0</td>\n",
       "      <td>0.0</td>\n",
       "      <td>207.0</td>\n",
       "      <td>153.0</td>\n",
       "      <td>154.0</td>\n",
       "      <td>4</td>\n",
       "    </tr>\n",
       "    <tr>\n",
       "      <th>5</th>\n",
       "      <td>0.0</td>\n",
       "      <td>0.0</td>\n",
       "      <td>78.0</td>\n",
       "      <td>0.0</td>\n",
       "      <td>0.0</td>\n",
       "      <td>0.0</td>\n",
       "      <td>0.0</td>\n",
       "      <td>203.0</td>\n",
       "      <td>151.0</td>\n",
       "      <td>152.0</td>\n",
       "      <td>4</td>\n",
       "    </tr>\n",
       "  </tbody>\n",
       "</table>\n",
       "</div>"
      ],
      "text/plain": [
       "     bulk_1  bulk_3  bulk_4  bulk_5  bulk_6  bulk_10  bulk_11  bulk_12  \\\n",
       "key                                                                      \n",
       "1       0.0     0.0    43.0     0.0     0.0      0.0      0.0    206.0   \n",
       "2       0.0     0.0    73.0     0.0     0.0      0.0      0.0    206.0   \n",
       "3       0.0     0.0    34.0     0.0     0.0      0.0      0.0    205.0   \n",
       "4       0.0     0.0    81.0     0.0     0.0      0.0      0.0    207.0   \n",
       "5       0.0     0.0    78.0     0.0     0.0      0.0      0.0    203.0   \n",
       "\n",
       "     bulk_14  bulk_15  count_bulk  \n",
       "key                                \n",
       "1      150.0    154.0           4  \n",
       "2      149.0    154.0           4  \n",
       "3      152.0    153.0           4  \n",
       "4      153.0    154.0           4  \n",
       "5      151.0    152.0           4  "
      ]
     },
     "execution_count": 47,
     "metadata": {},
     "output_type": "execute_result"
    }
   ],
   "source": [
    "#уберем из таблиц столбцы, где кол-во заполненных строк менее 10% = 30\n",
    "#сначала сделаем индекс таблице по столбцу key, чтобы потом его тоже убрать\n",
    "data_bulk.set_index(['key'], drop = True, inplace = True)\n",
    "data_wire.set_index(['key'], drop = True, inplace = True)\n",
    "data_bulk = data_bulk.drop(['bulk_2', 'bulk_7', 'bulk_8', 'bulk_9', 'bulk_13'], axis=1)\n",
    "data_wire = data_wire.drop(['wire_4', 'wire_5', 'wire_7', 'wire_8', 'wire_9'], axis=1)\n",
    "data_bulk.head()"
   ]
  },
  {
   "cell_type": "code",
   "execution_count": 48,
   "metadata": {},
   "outputs": [
    {
     "data": {
      "text/html": [
       "<div>\n",
       "<style scoped>\n",
       "    .dataframe tbody tr th:only-of-type {\n",
       "        vertical-align: middle;\n",
       "    }\n",
       "\n",
       "    .dataframe tbody tr th {\n",
       "        vertical-align: top;\n",
       "    }\n",
       "\n",
       "    .dataframe thead th {\n",
       "        text-align: right;\n",
       "    }\n",
       "</style>\n",
       "<table border=\"1\" class=\"dataframe\">\n",
       "  <thead>\n",
       "    <tr style=\"text-align: right;\">\n",
       "      <th></th>\n",
       "      <th>first_temp</th>\n",
       "      <th>last_temp</th>\n",
       "      <th>active_power</th>\n",
       "      <th>apparent_power</th>\n",
       "      <th>heat_length_s</th>\n",
       "      <th>heating_count</th>\n",
       "      <th>reactive_power</th>\n",
       "      <th>gas_total</th>\n",
       "    </tr>\n",
       "    <tr>\n",
       "      <th>key</th>\n",
       "      <th></th>\n",
       "      <th></th>\n",
       "      <th></th>\n",
       "      <th></th>\n",
       "      <th></th>\n",
       "      <th></th>\n",
       "      <th></th>\n",
       "      <th></th>\n",
       "    </tr>\n",
       "  </thead>\n",
       "  <tbody>\n",
       "    <tr>\n",
       "      <th>1</th>\n",
       "      <td>1571</td>\n",
       "      <td>1613</td>\n",
       "      <td>0.975629</td>\n",
       "      <td>1.165279</td>\n",
       "      <td>1098</td>\n",
       "      <td>5</td>\n",
       "      <td>0.636648</td>\n",
       "      <td>29.749986</td>\n",
       "    </tr>\n",
       "    <tr>\n",
       "      <th>2</th>\n",
       "      <td>1581</td>\n",
       "      <td>1602</td>\n",
       "      <td>0.763150</td>\n",
       "      <td>0.912304</td>\n",
       "      <td>811</td>\n",
       "      <td>4</td>\n",
       "      <td>0.499528</td>\n",
       "      <td>12.555561</td>\n",
       "    </tr>\n",
       "    <tr>\n",
       "      <th>3</th>\n",
       "      <td>1596</td>\n",
       "      <td>1599</td>\n",
       "      <td>0.505176</td>\n",
       "      <td>0.597907</td>\n",
       "      <td>655</td>\n",
       "      <td>5</td>\n",
       "      <td>0.319815</td>\n",
       "      <td>28.554793</td>\n",
       "    </tr>\n",
       "    <tr>\n",
       "      <th>4</th>\n",
       "      <td>1601</td>\n",
       "      <td>1625</td>\n",
       "      <td>0.802313</td>\n",
       "      <td>0.953741</td>\n",
       "      <td>741</td>\n",
       "      <td>4</td>\n",
       "      <td>0.515074</td>\n",
       "      <td>18.841219</td>\n",
       "    </tr>\n",
       "    <tr>\n",
       "      <th>5</th>\n",
       "      <td>1576</td>\n",
       "      <td>1602</td>\n",
       "      <td>0.836793</td>\n",
       "      <td>1.008939</td>\n",
       "      <td>869</td>\n",
       "      <td>4</td>\n",
       "      <td>0.563161</td>\n",
       "      <td>5.413692</td>\n",
       "    </tr>\n",
       "    <tr>\n",
       "      <th>...</th>\n",
       "      <td>...</td>\n",
       "      <td>...</td>\n",
       "      <td>...</td>\n",
       "      <td>...</td>\n",
       "      <td>...</td>\n",
       "      <td>...</td>\n",
       "      <td>...</td>\n",
       "      <td>...</td>\n",
       "    </tr>\n",
       "    <tr>\n",
       "      <th>2495</th>\n",
       "      <td>1570</td>\n",
       "      <td>1591</td>\n",
       "      <td>0.802673</td>\n",
       "      <td>0.996717</td>\n",
       "      <td>723</td>\n",
       "      <td>4</td>\n",
       "      <td>0.590194</td>\n",
       "      <td>7.125735</td>\n",
       "    </tr>\n",
       "    <tr>\n",
       "      <th>2496</th>\n",
       "      <td>1554</td>\n",
       "      <td>1591</td>\n",
       "      <td>0.700511</td>\n",
       "      <td>0.842839</td>\n",
       "      <td>940</td>\n",
       "      <td>6</td>\n",
       "      <td>0.468364</td>\n",
       "      <td>9.412616</td>\n",
       "    </tr>\n",
       "    <tr>\n",
       "      <th>2497</th>\n",
       "      <td>1571</td>\n",
       "      <td>1589</td>\n",
       "      <td>0.737460</td>\n",
       "      <td>0.961672</td>\n",
       "      <td>569</td>\n",
       "      <td>3</td>\n",
       "      <td>0.617090</td>\n",
       "      <td>6.271699</td>\n",
       "    </tr>\n",
       "    <tr>\n",
       "      <th>2498</th>\n",
       "      <td>1591</td>\n",
       "      <td>1594</td>\n",
       "      <td>0.681745</td>\n",
       "      <td>0.828750</td>\n",
       "      <td>750</td>\n",
       "      <td>5</td>\n",
       "      <td>0.471086</td>\n",
       "      <td>14.953657</td>\n",
       "    </tr>\n",
       "    <tr>\n",
       "      <th>2499</th>\n",
       "      <td>1569</td>\n",
       "      <td>1603</td>\n",
       "      <td>1.024608</td>\n",
       "      <td>1.238253</td>\n",
       "      <td>883</td>\n",
       "      <td>4</td>\n",
       "      <td>0.694466</td>\n",
       "      <td>11.336151</td>\n",
       "    </tr>\n",
       "  </tbody>\n",
       "</table>\n",
       "<p>2473 rows × 8 columns</p>\n",
       "</div>"
      ],
      "text/plain": [
       "      first_temp  last_temp  active_power  apparent_power  heat_length_s  \\\n",
       "key                                                                        \n",
       "1           1571       1613      0.975629        1.165279           1098   \n",
       "2           1581       1602      0.763150        0.912304            811   \n",
       "3           1596       1599      0.505176        0.597907            655   \n",
       "4           1601       1625      0.802313        0.953741            741   \n",
       "5           1576       1602      0.836793        1.008939            869   \n",
       "...          ...        ...           ...             ...            ...   \n",
       "2495        1570       1591      0.802673        0.996717            723   \n",
       "2496        1554       1591      0.700511        0.842839            940   \n",
       "2497        1571       1589      0.737460        0.961672            569   \n",
       "2498        1591       1594      0.681745        0.828750            750   \n",
       "2499        1569       1603      1.024608        1.238253            883   \n",
       "\n",
       "      heating_count  reactive_power  gas_total  \n",
       "key                                             \n",
       "1                 5        0.636648  29.749986  \n",
       "2                 4        0.499528  12.555561  \n",
       "3                 5        0.319815  28.554793  \n",
       "4                 4        0.515074  18.841219  \n",
       "5                 4        0.563161   5.413692  \n",
       "...             ...             ...        ...  \n",
       "2495              4        0.590194   7.125735  \n",
       "2496              6        0.468364   9.412616  \n",
       "2497              3        0.617090   6.271699  \n",
       "2498              5        0.471086  14.953657  \n",
       "2499              4        0.694466  11.336151  \n",
       "\n",
       "[2473 rows x 8 columns]"
      ]
     },
     "execution_count": 48,
     "metadata": {},
     "output_type": "execute_result"
    }
   ],
   "source": [
    "final_dataset"
   ]
  },
  {
   "cell_type": "code",
   "execution_count": 49,
   "metadata": {},
   "outputs": [
    {
     "data": {
      "text/html": [
       "<div>\n",
       "<style scoped>\n",
       "    .dataframe tbody tr th:only-of-type {\n",
       "        vertical-align: middle;\n",
       "    }\n",
       "\n",
       "    .dataframe tbody tr th {\n",
       "        vertical-align: top;\n",
       "    }\n",
       "\n",
       "    .dataframe thead th {\n",
       "        text-align: right;\n",
       "    }\n",
       "</style>\n",
       "<table border=\"1\" class=\"dataframe\">\n",
       "  <thead>\n",
       "    <tr style=\"text-align: right;\">\n",
       "      <th></th>\n",
       "      <th>first_temp</th>\n",
       "      <th>last_temp</th>\n",
       "      <th>active_power</th>\n",
       "      <th>apparent_power</th>\n",
       "      <th>heat_length_s</th>\n",
       "      <th>heating_count</th>\n",
       "      <th>reactive_power</th>\n",
       "      <th>gas_total</th>\n",
       "      <th>bulk_1</th>\n",
       "      <th>bulk_3</th>\n",
       "      <th>...</th>\n",
       "      <th>bulk_11</th>\n",
       "      <th>bulk_12</th>\n",
       "      <th>bulk_14</th>\n",
       "      <th>bulk_15</th>\n",
       "      <th>count_bulk</th>\n",
       "      <th>wire_1</th>\n",
       "      <th>wire_2</th>\n",
       "      <th>wire_3</th>\n",
       "      <th>wire_6</th>\n",
       "      <th>count_wire</th>\n",
       "    </tr>\n",
       "    <tr>\n",
       "      <th>key</th>\n",
       "      <th></th>\n",
       "      <th></th>\n",
       "      <th></th>\n",
       "      <th></th>\n",
       "      <th></th>\n",
       "      <th></th>\n",
       "      <th></th>\n",
       "      <th></th>\n",
       "      <th></th>\n",
       "      <th></th>\n",
       "      <th></th>\n",
       "      <th></th>\n",
       "      <th></th>\n",
       "      <th></th>\n",
       "      <th></th>\n",
       "      <th></th>\n",
       "      <th></th>\n",
       "      <th></th>\n",
       "      <th></th>\n",
       "      <th></th>\n",
       "      <th></th>\n",
       "    </tr>\n",
       "  </thead>\n",
       "  <tbody>\n",
       "    <tr>\n",
       "      <th>1</th>\n",
       "      <td>1571</td>\n",
       "      <td>1613</td>\n",
       "      <td>0.975629</td>\n",
       "      <td>1.165279</td>\n",
       "      <td>1098</td>\n",
       "      <td>5</td>\n",
       "      <td>0.636648</td>\n",
       "      <td>29.749986</td>\n",
       "      <td>0.0</td>\n",
       "      <td>0.0</td>\n",
       "      <td>...</td>\n",
       "      <td>0.0</td>\n",
       "      <td>206.0</td>\n",
       "      <td>150.0</td>\n",
       "      <td>154.0</td>\n",
       "      <td>4</td>\n",
       "      <td>60.059998</td>\n",
       "      <td>0.00000</td>\n",
       "      <td>0.0</td>\n",
       "      <td>0.0</td>\n",
       "      <td>1</td>\n",
       "    </tr>\n",
       "    <tr>\n",
       "      <th>2</th>\n",
       "      <td>1581</td>\n",
       "      <td>1602</td>\n",
       "      <td>0.763150</td>\n",
       "      <td>0.912304</td>\n",
       "      <td>811</td>\n",
       "      <td>4</td>\n",
       "      <td>0.499528</td>\n",
       "      <td>12.555561</td>\n",
       "      <td>0.0</td>\n",
       "      <td>0.0</td>\n",
       "      <td>...</td>\n",
       "      <td>0.0</td>\n",
       "      <td>206.0</td>\n",
       "      <td>149.0</td>\n",
       "      <td>154.0</td>\n",
       "      <td>4</td>\n",
       "      <td>96.052315</td>\n",
       "      <td>0.00000</td>\n",
       "      <td>0.0</td>\n",
       "      <td>0.0</td>\n",
       "      <td>1</td>\n",
       "    </tr>\n",
       "    <tr>\n",
       "      <th>3</th>\n",
       "      <td>1596</td>\n",
       "      <td>1599</td>\n",
       "      <td>0.505176</td>\n",
       "      <td>0.597907</td>\n",
       "      <td>655</td>\n",
       "      <td>5</td>\n",
       "      <td>0.319815</td>\n",
       "      <td>28.554793</td>\n",
       "      <td>0.0</td>\n",
       "      <td>0.0</td>\n",
       "      <td>...</td>\n",
       "      <td>0.0</td>\n",
       "      <td>205.0</td>\n",
       "      <td>152.0</td>\n",
       "      <td>153.0</td>\n",
       "      <td>4</td>\n",
       "      <td>91.160157</td>\n",
       "      <td>0.00000</td>\n",
       "      <td>0.0</td>\n",
       "      <td>0.0</td>\n",
       "      <td>1</td>\n",
       "    </tr>\n",
       "    <tr>\n",
       "      <th>4</th>\n",
       "      <td>1601</td>\n",
       "      <td>1625</td>\n",
       "      <td>0.802313</td>\n",
       "      <td>0.953741</td>\n",
       "      <td>741</td>\n",
       "      <td>4</td>\n",
       "      <td>0.515074</td>\n",
       "      <td>18.841219</td>\n",
       "      <td>0.0</td>\n",
       "      <td>0.0</td>\n",
       "      <td>...</td>\n",
       "      <td>0.0</td>\n",
       "      <td>207.0</td>\n",
       "      <td>153.0</td>\n",
       "      <td>154.0</td>\n",
       "      <td>4</td>\n",
       "      <td>89.063515</td>\n",
       "      <td>0.00000</td>\n",
       "      <td>0.0</td>\n",
       "      <td>0.0</td>\n",
       "      <td>1</td>\n",
       "    </tr>\n",
       "    <tr>\n",
       "      <th>5</th>\n",
       "      <td>1576</td>\n",
       "      <td>1602</td>\n",
       "      <td>0.836793</td>\n",
       "      <td>1.008939</td>\n",
       "      <td>869</td>\n",
       "      <td>4</td>\n",
       "      <td>0.563161</td>\n",
       "      <td>5.413692</td>\n",
       "      <td>0.0</td>\n",
       "      <td>0.0</td>\n",
       "      <td>...</td>\n",
       "      <td>0.0</td>\n",
       "      <td>203.0</td>\n",
       "      <td>151.0</td>\n",
       "      <td>152.0</td>\n",
       "      <td>4</td>\n",
       "      <td>89.238236</td>\n",
       "      <td>9.11456</td>\n",
       "      <td>0.0</td>\n",
       "      <td>0.0</td>\n",
       "      <td>2</td>\n",
       "    </tr>\n",
       "  </tbody>\n",
       "</table>\n",
       "<p>5 rows × 24 columns</p>\n",
       "</div>"
      ],
      "text/plain": [
       "     first_temp  last_temp  active_power  apparent_power  heat_length_s  \\\n",
       "key                                                                       \n",
       "1          1571       1613      0.975629        1.165279           1098   \n",
       "2          1581       1602      0.763150        0.912304            811   \n",
       "3          1596       1599      0.505176        0.597907            655   \n",
       "4          1601       1625      0.802313        0.953741            741   \n",
       "5          1576       1602      0.836793        1.008939            869   \n",
       "\n",
       "     heating_count  reactive_power  gas_total  bulk_1  bulk_3  ...  bulk_11  \\\n",
       "key                                                            ...            \n",
       "1                5        0.636648  29.749986     0.0     0.0  ...      0.0   \n",
       "2                4        0.499528  12.555561     0.0     0.0  ...      0.0   \n",
       "3                5        0.319815  28.554793     0.0     0.0  ...      0.0   \n",
       "4                4        0.515074  18.841219     0.0     0.0  ...      0.0   \n",
       "5                4        0.563161   5.413692     0.0     0.0  ...      0.0   \n",
       "\n",
       "     bulk_12  bulk_14  bulk_15  count_bulk     wire_1   wire_2  wire_3  \\\n",
       "key                                                                      \n",
       "1      206.0    150.0    154.0           4  60.059998  0.00000     0.0   \n",
       "2      206.0    149.0    154.0           4  96.052315  0.00000     0.0   \n",
       "3      205.0    152.0    153.0           4  91.160157  0.00000     0.0   \n",
       "4      207.0    153.0    154.0           4  89.063515  0.00000     0.0   \n",
       "5      203.0    151.0    152.0           4  89.238236  9.11456     0.0   \n",
       "\n",
       "     wire_6  count_wire  \n",
       "key                      \n",
       "1       0.0           1  \n",
       "2       0.0           1  \n",
       "3       0.0           1  \n",
       "4       0.0           1  \n",
       "5       0.0           2  \n",
       "\n",
       "[5 rows x 24 columns]"
      ]
     },
     "metadata": {},
     "output_type": "display_data"
    },
    {
     "name": "stdout",
     "output_type": "stream",
     "text": [
      "<class 'pandas.core.frame.DataFrame'>\n",
      "Int64Index: 2264 entries, 1 to 2499\n",
      "Data columns (total 24 columns):\n",
      " #   Column          Non-Null Count  Dtype  \n",
      "---  ------          --------------  -----  \n",
      " 0   first_temp      2264 non-null   int64  \n",
      " 1   last_temp       2264 non-null   int64  \n",
      " 2   active_power    2264 non-null   float64\n",
      " 3   apparent_power  2264 non-null   float64\n",
      " 4   heat_length_s   2264 non-null   int64  \n",
      " 5   heating_count   2264 non-null   int64  \n",
      " 6   reactive_power  2264 non-null   float64\n",
      " 7   gas_total       2264 non-null   float64\n",
      " 8   bulk_1          2264 non-null   float64\n",
      " 9   bulk_3          2264 non-null   float64\n",
      " 10  bulk_4          2264 non-null   float64\n",
      " 11  bulk_5          2264 non-null   float64\n",
      " 12  bulk_6          2264 non-null   float64\n",
      " 13  bulk_10         2264 non-null   float64\n",
      " 14  bulk_11         2264 non-null   float64\n",
      " 15  bulk_12         2264 non-null   float64\n",
      " 16  bulk_14         2264 non-null   float64\n",
      " 17  bulk_15         2264 non-null   float64\n",
      " 18  count_bulk      2264 non-null   int64  \n",
      " 19  wire_1          2264 non-null   float64\n",
      " 20  wire_2          2264 non-null   float64\n",
      " 21  wire_3          2264 non-null   float64\n",
      " 22  wire_6          2264 non-null   float64\n",
      " 23  count_wire      2264 non-null   int64  \n",
      "dtypes: float64(18), int64(6)\n",
      "memory usage: 442.2 KB\n"
     ]
    }
   ],
   "source": [
    "final_dataset = final_dataset.merge(data_bulk, left_index = True, \n",
    "                                    right_index = True, how = 'inner', copy= False)\n",
    "final_dataset = final_dataset.merge(data_wire, left_index = True, \n",
    "                                    right_index = True, how = 'inner', copy = False)\n",
    "display(final_dataset.head())\n",
    "final_dataset.info()"
   ]
  },
  {
   "cell_type": "markdown",
   "metadata": {},
   "source": [
    "Итого, в нашем датасете осталось всего 2242 партии и 24 столбца, из которых один - last_temp - целевой признак и 23 признака могут быть использованы для обучения. <br>\n",
    "Прежде чем приступать к обучению моделей, исследуем признаки на корреляцию и взаимозависимость при помощи инструмента corr_matrix."
   ]
  },
  {
   "cell_type": "code",
   "execution_count": 50,
   "metadata": {},
   "outputs": [
    {
     "data": {
      "text/html": [
       "<style  type=\"text/css\" >\n",
       "#T_45a22_row0_col0,#T_45a22_row1_col1,#T_45a22_row2_col2,#T_45a22_row3_col3,#T_45a22_row4_col4,#T_45a22_row5_col5,#T_45a22_row6_col6,#T_45a22_row7_col7,#T_45a22_row8_col8,#T_45a22_row9_col9,#T_45a22_row10_col10,#T_45a22_row11_col11,#T_45a22_row12_col12,#T_45a22_row13_col13,#T_45a22_row14_col14,#T_45a22_row15_col15,#T_45a22_row16_col16,#T_45a22_row17_col17,#T_45a22_row18_col18,#T_45a22_row19_col19,#T_45a22_row20_col20,#T_45a22_row21_col21,#T_45a22_row22_col22,#T_45a22_row23_col23{\n",
       "            background-color:  #b40426;\n",
       "            color:  #f1f1f1;\n",
       "        }#T_45a22_row0_col1,#T_45a22_row2_col17,#T_45a22_row6_col16{\n",
       "            background-color:  #c6d6f1;\n",
       "            color:  #000000;\n",
       "        }#T_45a22_row0_col2,#T_45a22_row0_col3,#T_45a22_row0_col4,#T_45a22_row0_col5,#T_45a22_row0_col6,#T_45a22_row0_col16,#T_45a22_row1_col8,#T_45a22_row1_col14,#T_45a22_row2_col0,#T_45a22_row3_col0,#T_45a22_row9_col10,#T_45a22_row10_col9,#T_45a22_row10_col12,#T_45a22_row10_col14,#T_45a22_row10_col20,#T_45a22_row10_col23,#T_45a22_row12_col19,#T_45a22_row13_col7,#T_45a22_row15_col11,#T_45a22_row15_col21,#T_45a22_row19_col14,#T_45a22_row19_col22,#T_45a22_row20_col1,#T_45a22_row20_col13,#T_45a22_row21_col18,#T_45a22_row23_col13,#T_45a22_row23_col15,#T_45a22_row23_col17{\n",
       "            background-color:  #3b4cc0;\n",
       "            color:  #f1f1f1;\n",
       "        }#T_45a22_row0_col7,#T_45a22_row1_col22,#T_45a22_row9_col11,#T_45a22_row12_col15,#T_45a22_row20_col8{\n",
       "            background-color:  #465ecf;\n",
       "            color:  #f1f1f1;\n",
       "        }#T_45a22_row0_col8,#T_45a22_row7_col17,#T_45a22_row12_col7,#T_45a22_row13_col17,#T_45a22_row16_col10,#T_45a22_row16_col19,#T_45a22_row19_col13{\n",
       "            background-color:  #6b8df0;\n",
       "            color:  #000000;\n",
       "        }#T_45a22_row0_col9,#T_45a22_row11_col1,#T_45a22_row14_col10,#T_45a22_row22_col18,#T_45a22_row23_col14{\n",
       "            background-color:  #6485ec;\n",
       "            color:  #000000;\n",
       "        }#T_45a22_row0_col10,#T_45a22_row14_col6,#T_45a22_row18_col9{\n",
       "            background-color:  #b1cbfc;\n",
       "            color:  #000000;\n",
       "        }#T_45a22_row0_col11,#T_45a22_row2_col22,#T_45a22_row3_col22,#T_45a22_row4_col8,#T_45a22_row6_col23,#T_45a22_row7_col14,#T_45a22_row9_col15,#T_45a22_row11_col18,#T_45a22_row13_col15,#T_45a22_row18_col11,#T_45a22_row23_col7,#T_45a22_row23_col16{\n",
       "            background-color:  #6a8bef;\n",
       "            color:  #000000;\n",
       "        }#T_45a22_row0_col12,#T_45a22_row3_col19,#T_45a22_row11_col14,#T_45a22_row12_col8,#T_45a22_row13_col23,#T_45a22_row22_col15,#T_45a22_row22_col19{\n",
       "            background-color:  #5673e0;\n",
       "            color:  #000000;\n",
       "        }#T_45a22_row0_col13,#T_45a22_row10_col8,#T_45a22_row15_col20,#T_45a22_row22_col7{\n",
       "            background-color:  #6282ea;\n",
       "            color:  #000000;\n",
       "        }#T_45a22_row0_col14,#T_45a22_row12_col17,#T_45a22_row17_col11{\n",
       "            background-color:  #3d50c3;\n",
       "            color:  #f1f1f1;\n",
       "        }#T_45a22_row0_col15,#T_45a22_row0_col17,#T_45a22_row1_col12,#T_45a22_row11_col15,#T_45a22_row12_col11{\n",
       "            background-color:  #4b64d5;\n",
       "            color:  #f1f1f1;\n",
       "        }#T_45a22_row0_col18,#T_45a22_row1_col23,#T_45a22_row2_col11,#T_45a22_row16_col11,#T_45a22_row20_col18,#T_45a22_row23_col1,#T_45a22_row23_col18{\n",
       "            background-color:  #3e51c5;\n",
       "            color:  #f1f1f1;\n",
       "        }#T_45a22_row0_col19,#T_45a22_row7_col3,#T_45a22_row17_col1{\n",
       "            background-color:  #bfd3f6;\n",
       "            color:  #000000;\n",
       "        }#T_45a22_row0_col20,#T_45a22_row2_col7,#T_45a22_row2_col19,#T_45a22_row4_col11,#T_45a22_row6_col21,#T_45a22_row10_col22,#T_45a22_row16_col21,#T_45a22_row19_col23,#T_45a22_row22_col1{\n",
       "            background-color:  #5b7ae5;\n",
       "            color:  #000000;\n",
       "        }#T_45a22_row0_col21,#T_45a22_row9_col14,#T_45a22_row14_col19,#T_45a22_row19_col8{\n",
       "            background-color:  #5a78e4;\n",
       "            color:  #000000;\n",
       "        }#T_45a22_row0_col22,#T_45a22_row2_col14,#T_45a22_row6_col8,#T_45a22_row11_col7,#T_45a22_row17_col13,#T_45a22_row19_col18,#T_45a22_row19_col20,#T_45a22_row21_col1{\n",
       "            background-color:  #6687ed;\n",
       "            color:  #000000;\n",
       "        }#T_45a22_row0_col23,#T_45a22_row3_col8,#T_45a22_row9_col22,#T_45a22_row13_col12,#T_45a22_row14_col22,#T_45a22_row21_col7,#T_45a22_row23_col8{\n",
       "            background-color:  #6180e9;\n",
       "            color:  #000000;\n",
       "        }#T_45a22_row1_col0,#T_45a22_row16_col6,#T_45a22_row16_col15,#T_45a22_row17_col6{\n",
       "            background-color:  #e5d8d1;\n",
       "            color:  #000000;\n",
       "        }#T_45a22_row1_col2{\n",
       "            background-color:  #d6dce4;\n",
       "            color:  #000000;\n",
       "        }#T_45a22_row1_col3{\n",
       "            background-color:  #d2dbe8;\n",
       "            color:  #000000;\n",
       "        }#T_45a22_row1_col4,#T_45a22_row18_col6{\n",
       "            background-color:  #d8dce2;\n",
       "            color:  #000000;\n",
       "        }#T_45a22_row1_col5,#T_45a22_row8_col16,#T_45a22_row10_col3,#T_45a22_row15_col10,#T_45a22_row23_col6{\n",
       "            background-color:  #a1c0ff;\n",
       "            color:  #000000;\n",
       "        }#T_45a22_row1_col6{\n",
       "            background-color:  #c7d7f0;\n",
       "            color:  #000000;\n",
       "        }#T_45a22_row1_col7,#T_45a22_row1_col21,#T_45a22_row11_col13,#T_45a22_row12_col21,#T_45a22_row13_col14,#T_45a22_row14_col17,#T_45a22_row16_col22,#T_45a22_row21_col13{\n",
       "            background-color:  #4f69d9;\n",
       "            color:  #000000;\n",
       "        }#T_45a22_row1_col9,#T_45a22_row7_col11,#T_45a22_row11_col9,#T_45a22_row12_col18,#T_45a22_row21_col10{\n",
       "            background-color:  #7a9df8;\n",
       "            color:  #000000;\n",
       "        }#T_45a22_row1_col10,#T_45a22_row7_col6,#T_45a22_row7_col16,#T_45a22_row8_col15,#T_45a22_row9_col3,#T_45a22_row12_col3{\n",
       "            background-color:  #b6cefa;\n",
       "            color:  #000000;\n",
       "        }#T_45a22_row1_col11,#T_45a22_row12_col10,#T_45a22_row18_col21,#T_45a22_row20_col15,#T_45a22_row20_col17{\n",
       "            background-color:  #445acc;\n",
       "            color:  #f1f1f1;\n",
       "        }#T_45a22_row1_col13,#T_45a22_row3_col14,#T_45a22_row4_col21,#T_45a22_row6_col22,#T_45a22_row19_col21{\n",
       "            background-color:  #6788ee;\n",
       "            color:  #000000;\n",
       "        }#T_45a22_row1_col15,#T_45a22_row7_col0,#T_45a22_row9_col4,#T_45a22_row22_col0,#T_45a22_row23_col22{\n",
       "            background-color:  #b2ccfb;\n",
       "            color:  #000000;\n",
       "        }#T_45a22_row1_col16,#T_45a22_row4_col20,#T_45a22_row7_col10,#T_45a22_row12_col0,#T_45a22_row13_col19,#T_45a22_row16_col8,#T_45a22_row16_col20,#T_45a22_row18_col19,#T_45a22_row19_col9{\n",
       "            background-color:  #8caffe;\n",
       "            color:  #000000;\n",
       "        }#T_45a22_row1_col17,#T_45a22_row5_col18,#T_45a22_row12_col6,#T_45a22_row16_col12{\n",
       "            background-color:  #afcafc;\n",
       "            color:  #000000;\n",
       "        }#T_45a22_row1_col18,#T_45a22_row9_col16,#T_45a22_row18_col22{\n",
       "            background-color:  #7093f3;\n",
       "            color:  #000000;\n",
       "        }#T_45a22_row1_col19,#T_45a22_row10_col19{\n",
       "            background-color:  #cdd9ec;\n",
       "            color:  #000000;\n",
       "        }#T_45a22_row1_col20,#T_45a22_row11_col17{\n",
       "            background-color:  #485fd1;\n",
       "            color:  #f1f1f1;\n",
       "        }#T_45a22_row2_col1,#T_45a22_row11_col22,#T_45a22_row12_col20,#T_45a22_row15_col19,#T_45a22_row20_col3,#T_45a22_row21_col3{\n",
       "            background-color:  #adc9fd;\n",
       "            color:  #000000;\n",
       "        }#T_45a22_row2_col3,#T_45a22_row3_col2{\n",
       "            background-color:  #b50927;\n",
       "            color:  #f1f1f1;\n",
       "        }#T_45a22_row2_col4{\n",
       "            background-color:  #f7af91;\n",
       "            color:  #000000;\n",
       "        }#T_45a22_row2_col5,#T_45a22_row2_col10,#T_45a22_row3_col5,#T_45a22_row20_col16{\n",
       "            background-color:  #799cf8;\n",
       "            color:  #000000;\n",
       "        }#T_45a22_row2_col6,#T_45a22_row6_col2{\n",
       "            background-color:  #c73635;\n",
       "            color:  #f1f1f1;\n",
       "        }#T_45a22_row2_col8,#T_45a22_row2_col21,#T_45a22_row8_col17,#T_45a22_row15_col13,#T_45a22_row18_col23,#T_45a22_row22_col14{\n",
       "            background-color:  #5e7de7;\n",
       "            color:  #000000;\n",
       "        }#T_45a22_row2_col9,#T_45a22_row7_col19,#T_45a22_row13_col4,#T_45a22_row14_col20{\n",
       "            background-color:  #97b8ff;\n",
       "            color:  #000000;\n",
       "        }#T_45a22_row2_col12,#T_45a22_row7_col8,#T_45a22_row16_col9{\n",
       "            background-color:  #89acfd;\n",
       "            color:  #000000;\n",
       "        }#T_45a22_row2_col13,#T_45a22_row3_col13,#T_45a22_row4_col13,#T_45a22_row14_col1,#T_45a22_row15_col22,#T_45a22_row20_col7,#T_45a22_row22_col13,#T_45a22_row22_col17{\n",
       "            background-color:  #536edd;\n",
       "            color:  #000000;\n",
       "        }#T_45a22_row2_col15,#T_45a22_row3_col15{\n",
       "            background-color:  #d7dce3;\n",
       "            color:  #000000;\n",
       "        }#T_45a22_row2_col16,#T_45a22_row21_col23{\n",
       "            background-color:  #d1dae9;\n",
       "            color:  #000000;\n",
       "        }#T_45a22_row2_col18,#T_45a22_row3_col1,#T_45a22_row10_col1,#T_45a22_row13_col3,#T_45a22_row21_col6,#T_45a22_row23_col3{\n",
       "            background-color:  #a7c5fe;\n",
       "            color:  #000000;\n",
       "        }#T_45a22_row2_col20,#T_45a22_row7_col1,#T_45a22_row7_col22,#T_45a22_row10_col15,#T_45a22_row13_col1,#T_45a22_row14_col5,#T_45a22_row17_col9,#T_45a22_row19_col17,#T_45a22_row22_col10{\n",
       "            background-color:  #82a6fb;\n",
       "            color:  #000000;\n",
       "        }#T_45a22_row2_col23,#T_45a22_row5_col21,#T_45a22_row10_col5,#T_45a22_row13_col9,#T_45a22_row21_col11{\n",
       "            background-color:  #6e90f2;\n",
       "            color:  #000000;\n",
       "        }#T_45a22_row3_col4{\n",
       "            background-color:  #f7ad90;\n",
       "            color:  #000000;\n",
       "        }#T_45a22_row3_col6,#T_45a22_row6_col3{\n",
       "            background-color:  #bb1b2c;\n",
       "            color:  #f1f1f1;\n",
       "        }#T_45a22_row3_col7,#T_45a22_row5_col13,#T_45a22_row11_col16,#T_45a22_row14_col15,#T_45a22_row17_col8{\n",
       "            background-color:  #5875e1;\n",
       "            color:  #000000;\n",
       "        }#T_45a22_row3_col9,#T_45a22_row5_col17,#T_45a22_row8_col22,#T_45a22_row9_col0,#T_45a22_row9_col12,#T_45a22_row11_col5{\n",
       "            background-color:  #90b2fe;\n",
       "            color:  #000000;\n",
       "        }#T_45a22_row3_col10,#T_45a22_row6_col5,#T_45a22_row6_col10,#T_45a22_row11_col21{\n",
       "            background-color:  #779af7;\n",
       "            color:  #000000;\n",
       "        }#T_45a22_row3_col11,#T_45a22_row9_col13,#T_45a22_row20_col10{\n",
       "            background-color:  #3f53c6;\n",
       "            color:  #f1f1f1;\n",
       "        }#T_45a22_row3_col12,#T_45a22_row5_col23,#T_45a22_row22_col8,#T_45a22_row22_col9{\n",
       "            background-color:  #88abfd;\n",
       "            color:  #000000;\n",
       "        }#T_45a22_row3_col16,#T_45a22_row10_col0{\n",
       "            background-color:  #cedaeb;\n",
       "            color:  #000000;\n",
       "        }#T_45a22_row3_col17,#T_45a22_row23_col21{\n",
       "            background-color:  #c4d5f3;\n",
       "            color:  #000000;\n",
       "        }#T_45a22_row3_col18,#T_45a22_row5_col1,#T_45a22_row7_col12,#T_45a22_row20_col4,#T_45a22_row21_col4{\n",
       "            background-color:  #a5c3fe;\n",
       "            color:  #000000;\n",
       "        }#T_45a22_row3_col20,#T_45a22_row8_col5,#T_45a22_row9_col19,#T_45a22_row16_col0,#T_45a22_row21_col5{\n",
       "            background-color:  #81a4fb;\n",
       "            color:  #000000;\n",
       "        }#T_45a22_row3_col21,#T_45a22_row9_col21,#T_45a22_row10_col11,#T_45a22_row13_col16,#T_45a22_row17_col12,#T_45a22_row19_col7,#T_45a22_row19_col16,#T_45a22_row21_col8,#T_45a22_row22_col16{\n",
       "            background-color:  #5d7ce6;\n",
       "            color:  #000000;\n",
       "        }#T_45a22_row3_col23,#T_45a22_row4_col22,#T_45a22_row8_col11,#T_45a22_row18_col20,#T_45a22_row21_col16{\n",
       "            background-color:  #6c8ff1;\n",
       "            color:  #000000;\n",
       "        }#T_45a22_row4_col0,#T_45a22_row8_col13,#T_45a22_row8_col14,#T_45a22_row9_col8,#T_45a22_row15_col14,#T_45a22_row17_col23,#T_45a22_row20_col11{\n",
       "            background-color:  #506bda;\n",
       "            color:  #000000;\n",
       "        }#T_45a22_row4_col1,#T_45a22_row5_col7,#T_45a22_row22_col23{\n",
       "            background-color:  #c0d4f5;\n",
       "            color:  #000000;\n",
       "        }#T_45a22_row4_col2{\n",
       "            background-color:  #f7a688;\n",
       "            color:  #000000;\n",
       "        }#T_45a22_row4_col3{\n",
       "            background-color:  #f6a586;\n",
       "            color:  #000000;\n",
       "        }#T_45a22_row4_col5{\n",
       "            background-color:  #e8765c;\n",
       "            color:  #000000;\n",
       "        }#T_45a22_row4_col6{\n",
       "            background-color:  #f7ac8e;\n",
       "            color:  #000000;\n",
       "        }#T_45a22_row4_col7,#T_45a22_row6_col17,#T_45a22_row9_col2{\n",
       "            background-color:  #bbd1f8;\n",
       "            color:  #000000;\n",
       "        }#T_45a22_row4_col9,#T_45a22_row5_col19,#T_45a22_row17_col5,#T_45a22_row18_col12,#T_45a22_row21_col20{\n",
       "            background-color:  #9fbfff;\n",
       "            color:  #000000;\n",
       "        }#T_45a22_row4_col10,#T_45a22_row4_col23,#T_45a22_row8_col12,#T_45a22_row10_col17,#T_45a22_row14_col18,#T_45a22_row20_col21{\n",
       "            background-color:  #7da0f9;\n",
       "            color:  #000000;\n",
       "        }#T_45a22_row4_col12,#T_45a22_row8_col18,#T_45a22_row9_col6,#T_45a22_row13_col2,#T_45a22_row23_col2{\n",
       "            background-color:  #a9c6fd;\n",
       "            color:  #000000;\n",
       "        }#T_45a22_row4_col14,#T_45a22_row11_col12,#T_45a22_row20_col14{\n",
       "            background-color:  #7597f6;\n",
       "            color:  #000000;\n",
       "        }#T_45a22_row4_col15{\n",
       "            background-color:  #e2dad5;\n",
       "            color:  #000000;\n",
       "        }#T_45a22_row4_col16{\n",
       "            background-color:  #e6d7cf;\n",
       "            color:  #000000;\n",
       "        }#T_45a22_row4_col17,#T_45a22_row12_col2{\n",
       "            background-color:  #b7cff9;\n",
       "            color:  #000000;\n",
       "        }#T_45a22_row4_col18,#T_45a22_row8_col0,#T_45a22_row15_col1{\n",
       "            background-color:  #bcd2f7;\n",
       "            color:  #000000;\n",
       "        }#T_45a22_row4_col19,#T_45a22_row6_col12,#T_45a22_row9_col18,#T_45a22_row18_col14,#T_45a22_row21_col9,#T_45a22_row21_col19{\n",
       "            background-color:  #85a8fc;\n",
       "            color:  #000000;\n",
       "        }#T_45a22_row5_col0,#T_45a22_row6_col20,#T_45a22_row8_col9,#T_45a22_row8_col19,#T_45a22_row9_col23{\n",
       "            background-color:  #80a3fa;\n",
       "            color:  #000000;\n",
       "        }#T_45a22_row5_col2,#T_45a22_row8_col3,#T_45a22_row8_col6,#T_45a22_row13_col0,#T_45a22_row14_col2,#T_45a22_row14_col3,#T_45a22_row14_col12,#T_45a22_row22_col2,#T_45a22_row22_col3{\n",
       "            background-color:  #b5cdfa;\n",
       "            color:  #000000;\n",
       "        }#T_45a22_row5_col3,#T_45a22_row8_col2{\n",
       "            background-color:  #b3cdfb;\n",
       "            color:  #000000;\n",
       "        }#T_45a22_row5_col4{\n",
       "            background-color:  #e36b54;\n",
       "            color:  #000000;\n",
       "        }#T_45a22_row5_col6,#T_45a22_row14_col4,#T_45a22_row16_col17,#T_45a22_row20_col2,#T_45a22_row21_col2,#T_45a22_row22_col6{\n",
       "            background-color:  #aec9fc;\n",
       "            color:  #000000;\n",
       "        }#T_45a22_row5_col8,#T_45a22_row6_col14,#T_45a22_row9_col1,#T_45a22_row17_col20{\n",
       "            background-color:  #688aef;\n",
       "            color:  #000000;\n",
       "        }#T_45a22_row5_col9,#T_45a22_row12_col16,#T_45a22_row19_col4,#T_45a22_row22_col11,#T_45a22_row23_col4{\n",
       "            background-color:  #a3c2fe;\n",
       "            color:  #000000;\n",
       "        }#T_45a22_row5_col10,#T_45a22_row14_col9,#T_45a22_row14_col16,#T_45a22_row19_col6,#T_45a22_row23_col5{\n",
       "            background-color:  #84a7fc;\n",
       "            color:  #000000;\n",
       "        }#T_45a22_row5_col11,#T_45a22_row11_col19,#T_45a22_row18_col13,#T_45a22_row22_col12,#T_45a22_row23_col11{\n",
       "            background-color:  #7699f6;\n",
       "            color:  #000000;\n",
       "        }#T_45a22_row5_col12,#T_45a22_row20_col6,#T_45a22_row22_col4{\n",
       "            background-color:  #a6c4fe;\n",
       "            color:  #000000;\n",
       "        }#T_45a22_row5_col14,#T_45a22_row5_col22,#T_45a22_row11_col8,#T_45a22_row13_col5,#T_45a22_row13_col10,#T_45a22_row16_col23,#T_45a22_row21_col12,#T_45a22_row22_col20{\n",
       "            background-color:  #6f92f3;\n",
       "            color:  #000000;\n",
       "        }#T_45a22_row5_col15,#T_45a22_row17_col16{\n",
       "            background-color:  #bad0f8;\n",
       "            color:  #000000;\n",
       "        }#T_45a22_row5_col16,#T_45a22_row19_col1{\n",
       "            background-color:  #c9d7f0;\n",
       "            color:  #000000;\n",
       "        }#T_45a22_row5_col20,#T_45a22_row9_col5,#T_45a22_row11_col10,#T_45a22_row18_col1,#T_45a22_row19_col3{\n",
       "            background-color:  #8fb1fe;\n",
       "            color:  #000000;\n",
       "        }#T_45a22_row6_col0,#T_45a22_row10_col13{\n",
       "            background-color:  #4055c8;\n",
       "            color:  #f1f1f1;\n",
       "        }#T_45a22_row6_col1,#T_45a22_row6_col18,#T_45a22_row10_col6,#T_45a22_row11_col2,#T_45a22_row18_col0{\n",
       "            background-color:  #9dbdff;\n",
       "            color:  #000000;\n",
       "        }#T_45a22_row6_col4,#T_45a22_row15_col17{\n",
       "            background-color:  #f7b396;\n",
       "            color:  #000000;\n",
       "        }#T_45a22_row6_col7,#T_45a22_row6_col13,#T_45a22_row6_col19,#T_45a22_row10_col16,#T_45a22_row10_col21{\n",
       "            background-color:  #516ddb;\n",
       "            color:  #000000;\n",
       "        }#T_45a22_row6_col9,#T_45a22_row18_col7{\n",
       "            background-color:  #86a9fc;\n",
       "            color:  #000000;\n",
       "        }#T_45a22_row6_col11,#T_45a22_row21_col15{\n",
       "            background-color:  #4257c9;\n",
       "            color:  #f1f1f1;\n",
       "        }#T_45a22_row6_col15,#T_45a22_row19_col10{\n",
       "            background-color:  #d3dbe7;\n",
       "            color:  #000000;\n",
       "        }#T_45a22_row7_col2,#T_45a22_row12_col4,#T_45a22_row15_col5{\n",
       "            background-color:  #c1d4f4;\n",
       "            color:  #000000;\n",
       "        }#T_45a22_row7_col4{\n",
       "            background-color:  #ead4c8;\n",
       "            color:  #000000;\n",
       "        }#T_45a22_row7_col5{\n",
       "            background-color:  #dadce0;\n",
       "            color:  #000000;\n",
       "        }#T_45a22_row7_col9,#T_45a22_row11_col23,#T_45a22_row19_col5{\n",
       "            background-color:  #94b6ff;\n",
       "            color:  #000000;\n",
       "        }#T_45a22_row7_col13,#T_45a22_row13_col21{\n",
       "            background-color:  #5470de;\n",
       "            color:  #000000;\n",
       "        }#T_45a22_row7_col15,#T_45a22_row9_col20,#T_45a22_row22_col21{\n",
       "            background-color:  #96b7ff;\n",
       "            color:  #000000;\n",
       "        }#T_45a22_row7_col18,#T_45a22_row12_col9,#T_45a22_row15_col0,#T_45a22_row21_col22{\n",
       "            background-color:  #98b9ff;\n",
       "            color:  #000000;\n",
       "        }#T_45a22_row7_col20,#T_45a22_row10_col4,#T_45a22_row14_col0,#T_45a22_row19_col2,#T_45a22_row23_col12{\n",
       "            background-color:  #93b5fe;\n",
       "            color:  #000000;\n",
       "        }#T_45a22_row7_col21,#T_45a22_row8_col23,#T_45a22_row11_col20,#T_45a22_row20_col5,#T_45a22_row22_col5{\n",
       "            background-color:  #7ea1fa;\n",
       "            color:  #000000;\n",
       "        }#T_45a22_row7_col23,#T_45a22_row12_col14{\n",
       "            background-color:  #9bbcff;\n",
       "            color:  #000000;\n",
       "        }#T_45a22_row8_col1,#T_45a22_row9_col17,#T_45a22_row12_col22,#T_45a22_row13_col22{\n",
       "            background-color:  #5977e3;\n",
       "            color:  #000000;\n",
       "        }#T_45a22_row8_col4,#T_45a22_row15_col8,#T_45a22_row21_col0{\n",
       "            background-color:  #abc8fd;\n",
       "            color:  #000000;\n",
       "        }#T_45a22_row8_col7,#T_45a22_row10_col18,#T_45a22_row15_col7,#T_45a22_row16_col14{\n",
       "            background-color:  #7396f5;\n",
       "            color:  #000000;\n",
       "        }#T_45a22_row8_col10,#T_45a22_row16_col1,#T_45a22_row16_col7,#T_45a22_row23_col9{\n",
       "            background-color:  #92b4fe;\n",
       "            color:  #000000;\n",
       "        }#T_45a22_row8_col20,#T_45a22_row13_col18{\n",
       "            background-color:  #7295f4;\n",
       "            color:  #000000;\n",
       "        }#T_45a22_row8_col21,#T_45a22_row13_col20,#T_45a22_row23_col19{\n",
       "            background-color:  #6384eb;\n",
       "            color:  #000000;\n",
       "        }#T_45a22_row9_col7,#T_45a22_row13_col8,#T_45a22_row14_col11,#T_45a22_row17_col14,#T_45a22_row19_col11,#T_45a22_row20_col22,#T_45a22_row23_col10{\n",
       "            background-color:  #4e68d8;\n",
       "            color:  #000000;\n",
       "        }#T_45a22_row10_col2,#T_45a22_row11_col4,#T_45a22_row13_col6,#T_45a22_row17_col10,#T_45a22_row18_col10{\n",
       "            background-color:  #a2c1ff;\n",
       "            color:  #000000;\n",
       "        }#T_45a22_row10_col7{\n",
       "            background-color:  #455cce;\n",
       "            color:  #f1f1f1;\n",
       "        }#T_45a22_row11_col0{\n",
       "            background-color:  #bed2f6;\n",
       "            color:  #000000;\n",
       "        }#T_45a22_row11_col3,#T_45a22_row17_col0,#T_45a22_row17_col19,#T_45a22_row23_col0{\n",
       "            background-color:  #9ebeff;\n",
       "            color:  #000000;\n",
       "        }#T_45a22_row11_col6,#T_45a22_row12_col5,#T_45a22_row19_col15,#T_45a22_row20_col9{\n",
       "            background-color:  #9abbff;\n",
       "            color:  #000000;\n",
       "        }#T_45a22_row12_col1{\n",
       "            background-color:  #4358cb;\n",
       "            color:  #f1f1f1;\n",
       "        }#T_45a22_row12_col13,#T_45a22_row17_col21,#T_45a22_row19_col12,#T_45a22_row21_col17{\n",
       "            background-color:  #3c4ec2;\n",
       "            color:  #f1f1f1;\n",
       "        }#T_45a22_row12_col23,#T_45a22_row15_col9{\n",
       "            background-color:  #8badfd;\n",
       "            color:  #000000;\n",
       "        }#T_45a22_row13_col11,#T_45a22_row16_col13{\n",
       "            background-color:  #4961d2;\n",
       "            color:  #f1f1f1;\n",
       "        }#T_45a22_row14_col7,#T_45a22_row17_col7{\n",
       "            background-color:  #4c66d6;\n",
       "            color:  #000000;\n",
       "        }#T_45a22_row14_col8,#T_45a22_row14_col13,#T_45a22_row15_col23{\n",
       "            background-color:  #4a63d3;\n",
       "            color:  #f1f1f1;\n",
       "        }#T_45a22_row14_col21,#T_45a22_row17_col22,#T_45a22_row21_col14{\n",
       "            background-color:  #5572df;\n",
       "            color:  #000000;\n",
       "        }#T_45a22_row14_col23{\n",
       "            background-color:  #7b9ff9;\n",
       "            color:  #000000;\n",
       "        }#T_45a22_row15_col2,#T_45a22_row15_col3{\n",
       "            background-color:  #f2cab5;\n",
       "            color:  #000000;\n",
       "        }#T_45a22_row15_col4{\n",
       "            background-color:  #f2c9b4;\n",
       "            color:  #000000;\n",
       "        }#T_45a22_row15_col6{\n",
       "            background-color:  #efcebd;\n",
       "            color:  #000000;\n",
       "        }#T_45a22_row15_col12,#T_45a22_row20_col19{\n",
       "            background-color:  #5f7fe8;\n",
       "            color:  #000000;\n",
       "        }#T_45a22_row15_col16{\n",
       "            background-color:  #e9d5cb;\n",
       "            color:  #000000;\n",
       "        }#T_45a22_row15_col18{\n",
       "            background-color:  #f5c1a9;\n",
       "            color:  #000000;\n",
       "        }#T_45a22_row16_col2{\n",
       "            background-color:  #edd1c2;\n",
       "            color:  #000000;\n",
       "        }#T_45a22_row16_col3,#T_45a22_row17_col2{\n",
       "            background-color:  #edd2c3;\n",
       "            color:  #000000;\n",
       "        }#T_45a22_row16_col4{\n",
       "            background-color:  #f3c8b2;\n",
       "            color:  #000000;\n",
       "        }#T_45a22_row16_col5{\n",
       "            background-color:  #cad8ef;\n",
       "            color:  #000000;\n",
       "        }#T_45a22_row16_col18{\n",
       "            background-color:  #d4dbe6;\n",
       "            color:  #000000;\n",
       "        }#T_45a22_row17_col3{\n",
       "            background-color:  #ebd3c6;\n",
       "            color:  #000000;\n",
       "        }#T_45a22_row17_col4{\n",
       "            background-color:  #dcdddd;\n",
       "            color:  #000000;\n",
       "        }#T_45a22_row17_col15{\n",
       "            background-color:  #f7b093;\n",
       "            color:  #000000;\n",
       "        }#T_45a22_row17_col18{\n",
       "            background-color:  #f7b99e;\n",
       "            color:  #000000;\n",
       "        }#T_45a22_row18_col2{\n",
       "            background-color:  #e1dad6;\n",
       "            color:  #000000;\n",
       "        }#T_45a22_row18_col3,#T_45a22_row18_col16{\n",
       "            background-color:  #dfdbd9;\n",
       "            color:  #000000;\n",
       "        }#T_45a22_row18_col4{\n",
       "            background-color:  #e4d9d2;\n",
       "            color:  #000000;\n",
       "        }#T_45a22_row18_col5{\n",
       "            background-color:  #c3d5f4;\n",
       "            color:  #000000;\n",
       "        }#T_45a22_row18_col8,#T_45a22_row20_col12{\n",
       "            background-color:  #aac7fd;\n",
       "            color:  #000000;\n",
       "        }#T_45a22_row18_col15{\n",
       "            background-color:  #f7bca1;\n",
       "            color:  #000000;\n",
       "        }#T_45a22_row18_col17{\n",
       "            background-color:  #f7b599;\n",
       "            color:  #000000;\n",
       "        }#T_45a22_row19_col0{\n",
       "            background-color:  #dedcdb;\n",
       "            color:  #000000;\n",
       "        }#T_45a22_row20_col0{\n",
       "            background-color:  #8db0fe;\n",
       "            color:  #000000;\n",
       "        }#T_45a22_row20_col23{\n",
       "            background-color:  #f6a283;\n",
       "            color:  #000000;\n",
       "        }#T_45a22_row23_col20{\n",
       "            background-color:  #f59d7e;\n",
       "            color:  #000000;\n",
       "        }</style><table id=\"T_45a22_\" ><thead>    <tr>        <th class=\"blank level0\" ></th>        <th class=\"col_heading level0 col0\" >first_temp</th>        <th class=\"col_heading level0 col1\" >last_temp</th>        <th class=\"col_heading level0 col2\" >active_power</th>        <th class=\"col_heading level0 col3\" >apparent_power</th>        <th class=\"col_heading level0 col4\" >heat_length_s</th>        <th class=\"col_heading level0 col5\" >heating_count</th>        <th class=\"col_heading level0 col6\" >reactive_power</th>        <th class=\"col_heading level0 col7\" >gas_total</th>        <th class=\"col_heading level0 col8\" >bulk_1</th>        <th class=\"col_heading level0 col9\" >bulk_3</th>        <th class=\"col_heading level0 col10\" >bulk_4</th>        <th class=\"col_heading level0 col11\" >bulk_5</th>        <th class=\"col_heading level0 col12\" >bulk_6</th>        <th class=\"col_heading level0 col13\" >bulk_10</th>        <th class=\"col_heading level0 col14\" >bulk_11</th>        <th class=\"col_heading level0 col15\" >bulk_12</th>        <th class=\"col_heading level0 col16\" >bulk_14</th>        <th class=\"col_heading level0 col17\" >bulk_15</th>        <th class=\"col_heading level0 col18\" >count_bulk</th>        <th class=\"col_heading level0 col19\" >wire_1</th>        <th class=\"col_heading level0 col20\" >wire_2</th>        <th class=\"col_heading level0 col21\" >wire_3</th>        <th class=\"col_heading level0 col22\" >wire_6</th>        <th class=\"col_heading level0 col23\" >count_wire</th>    </tr></thead><tbody>\n",
       "                <tr>\n",
       "                        <th id=\"T_45a22_level0_row0\" class=\"row_heading level0 row0\" >first_temp</th>\n",
       "                        <td id=\"T_45a22_row0_col0\" class=\"data row0 col0\" >1.000000</td>\n",
       "                        <td id=\"T_45a22_row0_col1\" class=\"data row0 col1\" >0.294322</td>\n",
       "                        <td id=\"T_45a22_row0_col2\" class=\"data row0 col2\" >-0.516792</td>\n",
       "                        <td id=\"T_45a22_row0_col3\" class=\"data row0 col3\" >-0.514999</td>\n",
       "                        <td id=\"T_45a22_row0_col4\" class=\"data row0 col4\" >-0.405820</td>\n",
       "                        <td id=\"T_45a22_row0_col5\" class=\"data row0 col5\" >-0.194925</td>\n",
       "                        <td id=\"T_45a22_row0_col6\" class=\"data row0 col6\" >-0.484556</td>\n",
       "                        <td id=\"T_45a22_row0_col7\" class=\"data row0 col7\" >0.027063</td>\n",
       "                        <td id=\"T_45a22_row0_col8\" class=\"data row0 col8\" >0.075426</td>\n",
       "                        <td id=\"T_45a22_row0_col9\" class=\"data row0 col9\" >-0.123565</td>\n",
       "                        <td id=\"T_45a22_row0_col10\" class=\"data row0 col10\" >0.164035</td>\n",
       "                        <td id=\"T_45a22_row0_col11\" class=\"data row0 col11\" >0.078779</td>\n",
       "                        <td id=\"T_45a22_row0_col12\" class=\"data row0 col12\" >-0.139158</td>\n",
       "                        <td id=\"T_45a22_row0_col13\" class=\"data row0 col13\" >0.035161</td>\n",
       "                        <td id=\"T_45a22_row0_col14\" class=\"data row0 col14\" >-0.109887</td>\n",
       "                        <td id=\"T_45a22_row0_col15\" class=\"data row0 col15\" >-0.087972</td>\n",
       "                        <td id=\"T_45a22_row0_col16\" class=\"data row0 col16\" >-0.186573</td>\n",
       "                        <td id=\"T_45a22_row0_col17\" class=\"data row0 col17\" >-0.060975</td>\n",
       "                        <td id=\"T_45a22_row0_col18\" class=\"data row0 col18\" >-0.070262</td>\n",
       "                        <td id=\"T_45a22_row0_col19\" class=\"data row0 col19\" >0.247849</td>\n",
       "                        <td id=\"T_45a22_row0_col20\" class=\"data row0 col20\" >-0.135001</td>\n",
       "                        <td id=\"T_45a22_row0_col21\" class=\"data row0 col21\" >-0.004715</td>\n",
       "                        <td id=\"T_45a22_row0_col22\" class=\"data row0 col22\" >0.022817</td>\n",
       "                        <td id=\"T_45a22_row0_col23\" class=\"data row0 col23\" >-0.062795</td>\n",
       "            </tr>\n",
       "            <tr>\n",
       "                        <th id=\"T_45a22_level0_row1\" class=\"row_heading level0 row1\" >last_temp</th>\n",
       "                        <td id=\"T_45a22_row1_col0\" class=\"data row1 col0\" >0.294322</td>\n",
       "                        <td id=\"T_45a22_row1_col1\" class=\"data row1 col1\" >1.000000</td>\n",
       "                        <td id=\"T_45a22_row1_col2\" class=\"data row1 col2\" >0.202572</td>\n",
       "                        <td id=\"T_45a22_row1_col3\" class=\"data row1 col3\" >0.182919</td>\n",
       "                        <td id=\"T_45a22_row1_col4\" class=\"data row1 col4\" >0.270275</td>\n",
       "                        <td id=\"T_45a22_row1_col5\" class=\"data row1 col5\" >0.173726</td>\n",
       "                        <td id=\"T_45a22_row1_col6\" class=\"data row1 col6\" >0.142970</td>\n",
       "                        <td id=\"T_45a22_row1_col7\" class=\"data row1 col7\" >0.055415</td>\n",
       "                        <td id=\"T_45a22_row1_col8\" class=\"data row1 col8\" >-0.095637</td>\n",
       "                        <td id=\"T_45a22_row1_col9\" class=\"data row1 col9\" >-0.038012</td>\n",
       "                        <td id=\"T_45a22_row1_col10\" class=\"data row1 col10\" >0.181629</td>\n",
       "                        <td id=\"T_45a22_row1_col11\" class=\"data row1 col11\" >-0.050130</td>\n",
       "                        <td id=\"T_45a22_row1_col12\" class=\"data row1 col12\" >-0.180496</td>\n",
       "                        <td id=\"T_45a22_row1_col13\" class=\"data row1 col13\" >0.051987</td>\n",
       "                        <td id=\"T_45a22_row1_col14\" class=\"data row1 col14\" >-0.116741</td>\n",
       "                        <td id=\"T_45a22_row1_col15\" class=\"data row1 col15\" >0.259713</td>\n",
       "                        <td id=\"T_45a22_row1_col16\" class=\"data row1 col16\" >0.106826</td>\n",
       "                        <td id=\"T_45a22_row1_col17\" class=\"data row1 col17\" >0.267370</td>\n",
       "                        <td id=\"T_45a22_row1_col18\" class=\"data row1 col18\" >0.098639</td>\n",
       "                        <td id=\"T_45a22_row1_col19\" class=\"data row1 col19\" >0.305285</td>\n",
       "                        <td id=\"T_45a22_row1_col20\" class=\"data row1 col20\" >-0.214416</td>\n",
       "                        <td id=\"T_45a22_row1_col21\" class=\"data row1 col21\" >-0.047311</td>\n",
       "                        <td id=\"T_45a22_row1_col22\" class=\"data row1 col22\" >-0.085836</td>\n",
       "                        <td id=\"T_45a22_row1_col23\" class=\"data row1 col23\" >-0.196016</td>\n",
       "            </tr>\n",
       "            <tr>\n",
       "                        <th id=\"T_45a22_level0_row2\" class=\"row_heading level0 row2\" >active_power</th>\n",
       "                        <td id=\"T_45a22_row2_col0\" class=\"data row2 col0\" >-0.516792</td>\n",
       "                        <td id=\"T_45a22_row2_col1\" class=\"data row2 col1\" >0.202572</td>\n",
       "                        <td id=\"T_45a22_row2_col2\" class=\"data row2 col2\" >1.000000</td>\n",
       "                        <td id=\"T_45a22_row2_col3\" class=\"data row2 col3\" >0.988324</td>\n",
       "                        <td id=\"T_45a22_row2_col4\" class=\"data row2 col4\" >0.567958</td>\n",
       "                        <td id=\"T_45a22_row2_col5\" class=\"data row2 col5\" >0.034341</td>\n",
       "                        <td id=\"T_45a22_row2_col6\" class=\"data row2 col6\" >0.922658</td>\n",
       "                        <td id=\"T_45a22_row2_col7\" class=\"data row2 col7\" >0.094417</td>\n",
       "                        <td id=\"T_45a22_row2_col8\" class=\"data row2 col8\" >0.030380</td>\n",
       "                        <td id=\"T_45a22_row2_col9\" class=\"data row2 col9\" >0.064498</td>\n",
       "                        <td id=\"T_45a22_row2_col10\" class=\"data row2 col10\" >-0.046141</td>\n",
       "                        <td id=\"T_45a22_row2_col11\" class=\"data row2 col11\" >-0.068715</td>\n",
       "                        <td id=\"T_45a22_row2_col12\" class=\"data row2 col12\" >0.048158</td>\n",
       "                        <td id=\"T_45a22_row2_col13\" class=\"data row2 col13\" >-0.015250</td>\n",
       "                        <td id=\"T_45a22_row2_col14\" class=\"data row2 col14\" >0.034256</td>\n",
       "                        <td id=\"T_45a22_row2_col15\" class=\"data row2 col15\" >0.400370</td>\n",
       "                        <td id=\"T_45a22_row2_col16\" class=\"data row2 col16\" >0.353197</td>\n",
       "                        <td id=\"T_45a22_row2_col17\" class=\"data row2 col17\" >0.347628</td>\n",
       "                        <td id=\"T_45a22_row2_col18\" class=\"data row2 col18\" >0.267048</td>\n",
       "                        <td id=\"T_45a22_row2_col19\" class=\"data row2 col19\" >-0.111900</td>\n",
       "                        <td id=\"T_45a22_row2_col20\" class=\"data row2 col20\" >0.008131</td>\n",
       "                        <td id=\"T_45a22_row2_col21\" class=\"data row2 col21\" >0.008056</td>\n",
       "                        <td id=\"T_45a22_row2_col22\" class=\"data row2 col22\" >0.037829</td>\n",
       "                        <td id=\"T_45a22_row2_col23\" class=\"data row2 col23\" >-0.015832</td>\n",
       "            </tr>\n",
       "            <tr>\n",
       "                        <th id=\"T_45a22_level0_row3\" class=\"row_heading level0 row3\" >apparent_power</th>\n",
       "                        <td id=\"T_45a22_row3_col0\" class=\"data row3 col0\" >-0.514999</td>\n",
       "                        <td id=\"T_45a22_row3_col1\" class=\"data row3 col1\" >0.182919</td>\n",
       "                        <td id=\"T_45a22_row3_col2\" class=\"data row3 col2\" >0.988324</td>\n",
       "                        <td id=\"T_45a22_row3_col3\" class=\"data row3 col3\" >1.000000</td>\n",
       "                        <td id=\"T_45a22_row3_col4\" class=\"data row3 col4\" >0.574474</td>\n",
       "                        <td id=\"T_45a22_row3_col5\" class=\"data row3 col5\" >0.034852</td>\n",
       "                        <td id=\"T_45a22_row3_col6\" class=\"data row3 col6\" >0.970395</td>\n",
       "                        <td id=\"T_45a22_row3_col7\" class=\"data row3 col7\" >0.085072</td>\n",
       "                        <td id=\"T_45a22_row3_col8\" class=\"data row3 col8\" >0.040119</td>\n",
       "                        <td id=\"T_45a22_row3_col9\" class=\"data row3 col9\" >0.042415</td>\n",
       "                        <td id=\"T_45a22_row3_col10\" class=\"data row3 col10\" >-0.048360</td>\n",
       "                        <td id=\"T_45a22_row3_col11\" class=\"data row3 col11\" >-0.064943</td>\n",
       "                        <td id=\"T_45a22_row3_col12\" class=\"data row3 col12\" >0.044917</td>\n",
       "                        <td id=\"T_45a22_row3_col13\" class=\"data row3 col13\" >-0.018232</td>\n",
       "                        <td id=\"T_45a22_row3_col14\" class=\"data row3 col14\" >0.038124</td>\n",
       "                        <td id=\"T_45a22_row3_col15\" class=\"data row3 col15\" >0.399785</td>\n",
       "                        <td id=\"T_45a22_row3_col16\" class=\"data row3 col16\" >0.343141</td>\n",
       "                        <td id=\"T_45a22_row3_col17\" class=\"data row3 col17\" >0.337141</td>\n",
       "                        <td id=\"T_45a22_row3_col18\" class=\"data row3 col18\" >0.258310</td>\n",
       "                        <td id=\"T_45a22_row3_col19\" class=\"data row3 col19\" >-0.129633</td>\n",
       "                        <td id=\"T_45a22_row3_col20\" class=\"data row3 col20\" >0.003934</td>\n",
       "                        <td id=\"T_45a22_row3_col21\" class=\"data row3 col21\" >0.003893</td>\n",
       "                        <td id=\"T_45a22_row3_col22\" class=\"data row3 col22\" >0.035604</td>\n",
       "                        <td id=\"T_45a22_row3_col23\" class=\"data row3 col23\" >-0.021974</td>\n",
       "            </tr>\n",
       "            <tr>\n",
       "                        <th id=\"T_45a22_level0_row4\" class=\"row_heading level0 row4\" >heat_length_s</th>\n",
       "                        <td id=\"T_45a22_row4_col0\" class=\"data row4 col0\" >-0.405820</td>\n",
       "                        <td id=\"T_45a22_row4_col1\" class=\"data row4 col1\" >0.270275</td>\n",
       "                        <td id=\"T_45a22_row4_col2\" class=\"data row4 col2\" >0.567958</td>\n",
       "                        <td id=\"T_45a22_row4_col3\" class=\"data row4 col3\" >0.574474</td>\n",
       "                        <td id=\"T_45a22_row4_col4\" class=\"data row4 col4\" >1.000000</td>\n",
       "                        <td id=\"T_45a22_row4_col5\" class=\"data row4 col5\" >0.794869</td>\n",
       "                        <td id=\"T_45a22_row4_col6\" class=\"data row4 col6\" >0.553641</td>\n",
       "                        <td id=\"T_45a22_row4_col7\" class=\"data row4 col7\" >0.378445</td>\n",
       "                        <td id=\"T_45a22_row4_col8\" class=\"data row4 col8\" >0.068748</td>\n",
       "                        <td id=\"T_45a22_row4_col9\" class=\"data row4 col9\" >0.097924</td>\n",
       "                        <td id=\"T_45a22_row4_col10\" class=\"data row4 col10\" >-0.032244</td>\n",
       "                        <td id=\"T_45a22_row4_col11\" class=\"data row4 col11\" >0.030013</td>\n",
       "                        <td id=\"T_45a22_row4_col12\" class=\"data row4 col12\" >0.162804</td>\n",
       "                        <td id=\"T_45a22_row4_col13\" class=\"data row4 col13\" >-0.015053</td>\n",
       "                        <td id=\"T_45a22_row4_col14\" class=\"data row4 col14\" >0.082722</td>\n",
       "                        <td id=\"T_45a22_row4_col15\" class=\"data row4 col15\" >0.450547</td>\n",
       "                        <td id=\"T_45a22_row4_col16\" class=\"data row4 col16\" >0.451743</td>\n",
       "                        <td id=\"T_45a22_row4_col17\" class=\"data row4 col17\" >0.296155</td>\n",
       "                        <td id=\"T_45a22_row4_col18\" class=\"data row4 col18\" >0.337870</td>\n",
       "                        <td id=\"T_45a22_row4_col19\" class=\"data row4 col19\" >0.038370</td>\n",
       "                        <td id=\"T_45a22_row4_col20\" class=\"data row4 col20\" >0.040894</td>\n",
       "                        <td id=\"T_45a22_row4_col21\" class=\"data row4 col21\" >0.039681</td>\n",
       "                        <td id=\"T_45a22_row4_col22\" class=\"data row4 col22\" >0.044871</td>\n",
       "                        <td id=\"T_45a22_row4_col23\" class=\"data row4 col23\" >0.035845</td>\n",
       "            </tr>\n",
       "            <tr>\n",
       "                        <th id=\"T_45a22_level0_row5\" class=\"row_heading level0 row5\" >heating_count</th>\n",
       "                        <td id=\"T_45a22_row5_col0\" class=\"data row5 col0\" >-0.194925</td>\n",
       "                        <td id=\"T_45a22_row5_col1\" class=\"data row5 col1\" >0.173726</td>\n",
       "                        <td id=\"T_45a22_row5_col2\" class=\"data row5 col2\" >0.034341</td>\n",
       "                        <td id=\"T_45a22_row5_col3\" class=\"data row5 col3\" >0.034852</td>\n",
       "                        <td id=\"T_45a22_row5_col4\" class=\"data row5 col4\" >0.794869</td>\n",
       "                        <td id=\"T_45a22_row5_col5\" class=\"data row5 col5\" >1.000000</td>\n",
       "                        <td id=\"T_45a22_row5_col6\" class=\"data row5 col6\" >0.029151</td>\n",
       "                        <td id=\"T_45a22_row5_col7\" class=\"data row5 col7\" >0.392857</td>\n",
       "                        <td id=\"T_45a22_row5_col8\" class=\"data row5 col8\" >0.065774</td>\n",
       "                        <td id=\"T_45a22_row5_col9\" class=\"data row5 col9\" >0.109728</td>\n",
       "                        <td id=\"T_45a22_row5_col10\" class=\"data row5 col10\" >-0.003242</td>\n",
       "                        <td id=\"T_45a22_row5_col11\" class=\"data row5 col11\" >0.117290</td>\n",
       "                        <td id=\"T_45a22_row5_col12\" class=\"data row5 col12\" >0.149302</td>\n",
       "                        <td id=\"T_45a22_row5_col13\" class=\"data row5 col13\" >0.001676</td>\n",
       "                        <td id=\"T_45a22_row5_col14\" class=\"data row5 col14\" >0.067156</td>\n",
       "                        <td id=\"T_45a22_row5_col15\" class=\"data row5 col15\" >0.286161</td>\n",
       "                        <td id=\"T_45a22_row5_col16\" class=\"data row5 col16\" >0.320601</td>\n",
       "                        <td id=\"T_45a22_row5_col17\" class=\"data row5 col17\" >0.166838</td>\n",
       "                        <td id=\"T_45a22_row5_col18\" class=\"data row5 col18\" >0.294240</td>\n",
       "                        <td id=\"T_45a22_row5_col19\" class=\"data row5 col19\" >0.130631</td>\n",
       "                        <td id=\"T_45a22_row5_col20\" class=\"data row5 col20\" >0.053150</td>\n",
       "                        <td id=\"T_45a22_row5_col21\" class=\"data row5 col21\" >0.061830</td>\n",
       "                        <td id=\"T_45a22_row5_col22\" class=\"data row5 col22\" >0.056605</td>\n",
       "                        <td id=\"T_45a22_row5_col23\" class=\"data row5 col23\" >0.073463</td>\n",
       "            </tr>\n",
       "            <tr>\n",
       "                        <th id=\"T_45a22_level0_row6\" class=\"row_heading level0 row6\" >reactive_power</th>\n",
       "                        <td id=\"T_45a22_row6_col0\" class=\"data row6 col0\" >-0.484556</td>\n",
       "                        <td id=\"T_45a22_row6_col1\" class=\"data row6 col1\" >0.142970</td>\n",
       "                        <td id=\"T_45a22_row6_col2\" class=\"data row6 col2\" >0.922658</td>\n",
       "                        <td id=\"T_45a22_row6_col3\" class=\"data row6 col3\" >0.970395</td>\n",
       "                        <td id=\"T_45a22_row6_col4\" class=\"data row6 col4\" >0.553641</td>\n",
       "                        <td id=\"T_45a22_row6_col5\" class=\"data row6 col5\" >0.029151</td>\n",
       "                        <td id=\"T_45a22_row6_col6\" class=\"data row6 col6\" >1.000000</td>\n",
       "                        <td id=\"T_45a22_row6_col7\" class=\"data row6 col7\" >0.064400</td>\n",
       "                        <td id=\"T_45a22_row6_col8\" class=\"data row6 col8\" >0.056646</td>\n",
       "                        <td id=\"T_45a22_row6_col9\" class=\"data row6 col9\" >0.002994</td>\n",
       "                        <td id=\"T_45a22_row6_col10\" class=\"data row6 col10\" >-0.049145</td>\n",
       "                        <td id=\"T_45a22_row6_col11\" class=\"data row6 col11\" >-0.056190</td>\n",
       "                        <td id=\"T_45a22_row6_col12\" class=\"data row6 col12\" >0.035850</td>\n",
       "                        <td id=\"T_45a22_row6_col13\" class=\"data row6 col13\" >-0.021599</td>\n",
       "                        <td id=\"T_45a22_row6_col14\" class=\"data row6 col14\" >0.041630</td>\n",
       "                        <td id=\"T_45a22_row6_col15\" class=\"data row6 col15\" >0.381605</td>\n",
       "                        <td id=\"T_45a22_row6_col16\" class=\"data row6 col16\" >0.309806</td>\n",
       "                        <td id=\"T_45a22_row6_col17\" class=\"data row6 col17\" >0.307085</td>\n",
       "                        <td id=\"T_45a22_row6_col18\" class=\"data row6 col18\" >0.233581</td>\n",
       "                        <td id=\"T_45a22_row6_col19\" class=\"data row6 col19\" >-0.152308</td>\n",
       "                        <td id=\"T_45a22_row6_col20\" class=\"data row6 col20\" >-0.004331</td>\n",
       "                        <td id=\"T_45a22_row6_col21\" class=\"data row6 col21\" >-0.003101</td>\n",
       "                        <td id=\"T_45a22_row6_col22\" class=\"data row6 col22\" >0.029837</td>\n",
       "                        <td id=\"T_45a22_row6_col23\" class=\"data row6 col23\" >-0.032176</td>\n",
       "            </tr>\n",
       "            <tr>\n",
       "                        <th id=\"T_45a22_level0_row7\" class=\"row_heading level0 row7\" >gas_total</th>\n",
       "                        <td id=\"T_45a22_row7_col0\" class=\"data row7 col0\" >0.027063</td>\n",
       "                        <td id=\"T_45a22_row7_col1\" class=\"data row7 col1\" >0.055415</td>\n",
       "                        <td id=\"T_45a22_row7_col2\" class=\"data row7 col2\" >0.094417</td>\n",
       "                        <td id=\"T_45a22_row7_col3\" class=\"data row7 col3\" >0.085072</td>\n",
       "                        <td id=\"T_45a22_row7_col4\" class=\"data row7 col4\" >0.378445</td>\n",
       "                        <td id=\"T_45a22_row7_col5\" class=\"data row7 col5\" >0.392857</td>\n",
       "                        <td id=\"T_45a22_row7_col6\" class=\"data row7 col6\" >0.064400</td>\n",
       "                        <td id=\"T_45a22_row7_col7\" class=\"data row7 col7\" >1.000000</td>\n",
       "                        <td id=\"T_45a22_row7_col8\" class=\"data row7 col8\" >0.168746</td>\n",
       "                        <td id=\"T_45a22_row7_col9\" class=\"data row7 col9\" >0.053863</td>\n",
       "                        <td id=\"T_45a22_row7_col10\" class=\"data row7 col10\" >0.024308</td>\n",
       "                        <td id=\"T_45a22_row7_col11\" class=\"data row7 col11\" >0.128128</td>\n",
       "                        <td id=\"T_45a22_row7_col12\" class=\"data row7 col12\" >0.144588</td>\n",
       "                        <td id=\"T_45a22_row7_col13\" class=\"data row7 col13\" >-0.012528</td>\n",
       "                        <td id=\"T_45a22_row7_col14\" class=\"data row7 col14\" >0.048593</td>\n",
       "                        <td id=\"T_45a22_row7_col15\" class=\"data row7 col15\" >0.167252</td>\n",
       "                        <td id=\"T_45a22_row7_col16\" class=\"data row7 col16\" >0.253600</td>\n",
       "                        <td id=\"T_45a22_row7_col17\" class=\"data row7 col17\" >0.049961</td>\n",
       "                        <td id=\"T_45a22_row7_col18\" class=\"data row7 col18\" >0.221715</td>\n",
       "                        <td id=\"T_45a22_row7_col19\" class=\"data row7 col19\" >0.100723</td>\n",
       "                        <td id=\"T_45a22_row7_col20\" class=\"data row7 col20\" >0.066883</td>\n",
       "                        <td id=\"T_45a22_row7_col21\" class=\"data row7 col21\" >0.112464</td>\n",
       "                        <td id=\"T_45a22_row7_col22\" class=\"data row7 col22\" >0.116721</td>\n",
       "                        <td id=\"T_45a22_row7_col23\" class=\"data row7 col23\" >0.137834</td>\n",
       "            </tr>\n",
       "            <tr>\n",
       "                        <th id=\"T_45a22_level0_row8\" class=\"row_heading level0 row8\" >bulk_1</th>\n",
       "                        <td id=\"T_45a22_row8_col0\" class=\"data row8 col0\" >0.075426</td>\n",
       "                        <td id=\"T_45a22_row8_col1\" class=\"data row8 col1\" >-0.095637</td>\n",
       "                        <td id=\"T_45a22_row8_col2\" class=\"data row8 col2\" >0.030380</td>\n",
       "                        <td id=\"T_45a22_row8_col3\" class=\"data row8 col3\" >0.040119</td>\n",
       "                        <td id=\"T_45a22_row8_col4\" class=\"data row8 col4\" >0.068748</td>\n",
       "                        <td id=\"T_45a22_row8_col5\" class=\"data row8 col5\" >0.065774</td>\n",
       "                        <td id=\"T_45a22_row8_col6\" class=\"data row8 col6\" >0.056646</td>\n",
       "                        <td id=\"T_45a22_row8_col7\" class=\"data row8 col7\" >0.168746</td>\n",
       "                        <td id=\"T_45a22_row8_col8\" class=\"data row8 col8\" >1.000000</td>\n",
       "                        <td id=\"T_45a22_row8_col9\" class=\"data row8 col9\" >-0.018477</td>\n",
       "                        <td id=\"T_45a22_row8_col10\" class=\"data row8 col10\" >0.044846</td>\n",
       "                        <td id=\"T_45a22_row8_col11\" class=\"data row8 col11\" >0.087413</td>\n",
       "                        <td id=\"T_45a22_row8_col12\" class=\"data row8 col12\" >0.003782</td>\n",
       "                        <td id=\"T_45a22_row8_col13\" class=\"data row8 col13\" >-0.026136</td>\n",
       "                        <td id=\"T_45a22_row8_col14\" class=\"data row8 col14\" >-0.038685</td>\n",
       "                        <td id=\"T_45a22_row8_col15\" class=\"data row8 col15\" >0.272616</td>\n",
       "                        <td id=\"T_45a22_row8_col16\" class=\"data row8 col16\" >0.176510</td>\n",
       "                        <td id=\"T_45a22_row8_col17\" class=\"data row8 col17\" >0.007202</td>\n",
       "                        <td id=\"T_45a22_row8_col18\" class=\"data row8 col18\" >0.272273</td>\n",
       "                        <td id=\"T_45a22_row8_col19\" class=\"data row8 col19\" >0.017312</td>\n",
       "                        <td id=\"T_45a22_row8_col20\" class=\"data row8 col20\" >-0.051086</td>\n",
       "                        <td id=\"T_45a22_row8_col21\" class=\"data row8 col21\" >0.024928</td>\n",
       "                        <td id=\"T_45a22_row8_col22\" class=\"data row8 col22\" >0.161197</td>\n",
       "                        <td id=\"T_45a22_row8_col23\" class=\"data row8 col23\" >0.039262</td>\n",
       "            </tr>\n",
       "            <tr>\n",
       "                        <th id=\"T_45a22_level0_row9\" class=\"row_heading level0 row9\" >bulk_3</th>\n",
       "                        <td id=\"T_45a22_row9_col0\" class=\"data row9 col0\" >-0.123565</td>\n",
       "                        <td id=\"T_45a22_row9_col1\" class=\"data row9 col1\" >-0.038012</td>\n",
       "                        <td id=\"T_45a22_row9_col2\" class=\"data row9 col2\" >0.064498</td>\n",
       "                        <td id=\"T_45a22_row9_col3\" class=\"data row9 col3\" >0.042415</td>\n",
       "                        <td id=\"T_45a22_row9_col4\" class=\"data row9 col4\" >0.097924</td>\n",
       "                        <td id=\"T_45a22_row9_col5\" class=\"data row9 col5\" >0.109728</td>\n",
       "                        <td id=\"T_45a22_row9_col6\" class=\"data row9 col6\" >0.002994</td>\n",
       "                        <td id=\"T_45a22_row9_col7\" class=\"data row9 col7\" >0.053863</td>\n",
       "                        <td id=\"T_45a22_row9_col8\" class=\"data row9 col8\" >-0.018477</td>\n",
       "                        <td id=\"T_45a22_row9_col9\" class=\"data row9 col9\" >1.000000</td>\n",
       "                        <td id=\"T_45a22_row9_col10\" class=\"data row9 col10\" >-0.295715</td>\n",
       "                        <td id=\"T_45a22_row9_col11\" class=\"data row9 col11\" >-0.041499</td>\n",
       "                        <td id=\"T_45a22_row9_col12\" class=\"data row9 col12\" >0.071799</td>\n",
       "                        <td id=\"T_45a22_row9_col13\" class=\"data row9 col13\" >-0.085817</td>\n",
       "                        <td id=\"T_45a22_row9_col14\" class=\"data row9 col14\" >-0.005562</td>\n",
       "                        <td id=\"T_45a22_row9_col15\" class=\"data row9 col15\" >0.019659</td>\n",
       "                        <td id=\"T_45a22_row9_col16\" class=\"data row9 col16\" >0.015478</td>\n",
       "                        <td id=\"T_45a22_row9_col17\" class=\"data row9 col17\" >-0.011479</td>\n",
       "                        <td id=\"T_45a22_row9_col18\" class=\"data row9 col18\" >0.163274</td>\n",
       "                        <td id=\"T_45a22_row9_col19\" class=\"data row9 col19\" >0.025450</td>\n",
       "                        <td id=\"T_45a22_row9_col20\" class=\"data row9 col20\" >0.076185</td>\n",
       "                        <td id=\"T_45a22_row9_col21\" class=\"data row9 col21\" >0.002612</td>\n",
       "                        <td id=\"T_45a22_row9_col22\" class=\"data row9 col22\" >0.008440</td>\n",
       "                        <td id=\"T_45a22_row9_col23\" class=\"data row9 col23\" >0.047226</td>\n",
       "            </tr>\n",
       "            <tr>\n",
       "                        <th id=\"T_45a22_level0_row10\" class=\"row_heading level0 row10\" >bulk_4</th>\n",
       "                        <td id=\"T_45a22_row10_col0\" class=\"data row10 col0\" >0.164035</td>\n",
       "                        <td id=\"T_45a22_row10_col1\" class=\"data row10 col1\" >0.181629</td>\n",
       "                        <td id=\"T_45a22_row10_col2\" class=\"data row10 col2\" >-0.046141</td>\n",
       "                        <td id=\"T_45a22_row10_col3\" class=\"data row10 col3\" >-0.048360</td>\n",
       "                        <td id=\"T_45a22_row10_col4\" class=\"data row10 col4\" >-0.032244</td>\n",
       "                        <td id=\"T_45a22_row10_col5\" class=\"data row10 col5\" >-0.003242</td>\n",
       "                        <td id=\"T_45a22_row10_col6\" class=\"data row10 col6\" >-0.049145</td>\n",
       "                        <td id=\"T_45a22_row10_col7\" class=\"data row10 col7\" >0.024308</td>\n",
       "                        <td id=\"T_45a22_row10_col8\" class=\"data row10 col8\" >0.044846</td>\n",
       "                        <td id=\"T_45a22_row10_col9\" class=\"data row10 col9\" >-0.295715</td>\n",
       "                        <td id=\"T_45a22_row10_col10\" class=\"data row10 col10\" >1.000000</td>\n",
       "                        <td id=\"T_45a22_row10_col11\" class=\"data row10 col11\" >0.033695</td>\n",
       "                        <td id=\"T_45a22_row10_col12\" class=\"data row10 col12\" >-0.252113</td>\n",
       "                        <td id=\"T_45a22_row10_col13\" class=\"data row10 col13\" >-0.082954</td>\n",
       "                        <td id=\"T_45a22_row10_col14\" class=\"data row10 col14\" >-0.120878</td>\n",
       "                        <td id=\"T_45a22_row10_col15\" class=\"data row10 col15\" >0.102552</td>\n",
       "                        <td id=\"T_45a22_row10_col16\" class=\"data row10 col16\" >-0.095143</td>\n",
       "                        <td id=\"T_45a22_row10_col17\" class=\"data row10 col17\" >0.105716</td>\n",
       "                        <td id=\"T_45a22_row10_col18\" class=\"data row10 col18\" >0.107856</td>\n",
       "                        <td id=\"T_45a22_row10_col19\" class=\"data row10 col19\" >0.304142</td>\n",
       "                        <td id=\"T_45a22_row10_col20\" class=\"data row10 col20\" >-0.273407</td>\n",
       "                        <td id=\"T_45a22_row10_col21\" class=\"data row10 col21\" >-0.037626</td>\n",
       "                        <td id=\"T_45a22_row10_col22\" class=\"data row10 col22\" >-0.011443</td>\n",
       "                        <td id=\"T_45a22_row10_col23\" class=\"data row10 col23\" >-0.213224</td>\n",
       "            </tr>\n",
       "            <tr>\n",
       "                        <th id=\"T_45a22_level0_row11\" class=\"row_heading level0 row11\" >bulk_5</th>\n",
       "                        <td id=\"T_45a22_row11_col0\" class=\"data row11 col0\" >0.078779</td>\n",
       "                        <td id=\"T_45a22_row11_col1\" class=\"data row11 col1\" >-0.050130</td>\n",
       "                        <td id=\"T_45a22_row11_col2\" class=\"data row11 col2\" >-0.068715</td>\n",
       "                        <td id=\"T_45a22_row11_col3\" class=\"data row11 col3\" >-0.064943</td>\n",
       "                        <td id=\"T_45a22_row11_col4\" class=\"data row11 col4\" >0.030013</td>\n",
       "                        <td id=\"T_45a22_row11_col5\" class=\"data row11 col5\" >0.117290</td>\n",
       "                        <td id=\"T_45a22_row11_col6\" class=\"data row11 col6\" >-0.056190</td>\n",
       "                        <td id=\"T_45a22_row11_col7\" class=\"data row11 col7\" >0.128128</td>\n",
       "                        <td id=\"T_45a22_row11_col8\" class=\"data row11 col8\" >0.087413</td>\n",
       "                        <td id=\"T_45a22_row11_col9\" class=\"data row11 col9\" >-0.041499</td>\n",
       "                        <td id=\"T_45a22_row11_col10\" class=\"data row11 col10\" >0.033695</td>\n",
       "                        <td id=\"T_45a22_row11_col11\" class=\"data row11 col11\" >1.000000</td>\n",
       "                        <td id=\"T_45a22_row11_col12\" class=\"data row11 col12\" >-0.023367</td>\n",
       "                        <td id=\"T_45a22_row11_col13\" class=\"data row11 col13\" >-0.030575</td>\n",
       "                        <td id=\"T_45a22_row11_col14\" class=\"data row11 col14\" >-0.016256</td>\n",
       "                        <td id=\"T_45a22_row11_col15\" class=\"data row11 col15\" >-0.085603</td>\n",
       "                        <td id=\"T_45a22_row11_col16\" class=\"data row11 col16\" >-0.072501</td>\n",
       "                        <td id=\"T_45a22_row11_col17\" class=\"data row11 col17\" >-0.075067</td>\n",
       "                        <td id=\"T_45a22_row11_col18\" class=\"data row11 col18\" >0.078542</td>\n",
       "                        <td id=\"T_45a22_row11_col19\" class=\"data row11 col19\" >-0.016888</td>\n",
       "                        <td id=\"T_45a22_row11_col20\" class=\"data row11 col20\" >-0.008150</td>\n",
       "                        <td id=\"T_45a22_row11_col21\" class=\"data row11 col21\" >0.091790</td>\n",
       "                        <td id=\"T_45a22_row11_col22\" class=\"data row11 col22\" >0.253711</td>\n",
       "                        <td id=\"T_45a22_row11_col23\" class=\"data row11 col23\" >0.115411</td>\n",
       "            </tr>\n",
       "            <tr>\n",
       "                        <th id=\"T_45a22_level0_row12\" class=\"row_heading level0 row12\" >bulk_6</th>\n",
       "                        <td id=\"T_45a22_row12_col0\" class=\"data row12 col0\" >-0.139158</td>\n",
       "                        <td id=\"T_45a22_row12_col1\" class=\"data row12 col1\" >-0.180496</td>\n",
       "                        <td id=\"T_45a22_row12_col2\" class=\"data row12 col2\" >0.048158</td>\n",
       "                        <td id=\"T_45a22_row12_col3\" class=\"data row12 col3\" >0.044917</td>\n",
       "                        <td id=\"T_45a22_row12_col4\" class=\"data row12 col4\" >0.162804</td>\n",
       "                        <td id=\"T_45a22_row12_col5\" class=\"data row12 col5\" >0.149302</td>\n",
       "                        <td id=\"T_45a22_row12_col6\" class=\"data row12 col6\" >0.035850</td>\n",
       "                        <td id=\"T_45a22_row12_col7\" class=\"data row12 col7\" >0.144588</td>\n",
       "                        <td id=\"T_45a22_row12_col8\" class=\"data row12 col8\" >0.003782</td>\n",
       "                        <td id=\"T_45a22_row12_col9\" class=\"data row12 col9\" >0.071799</td>\n",
       "                        <td id=\"T_45a22_row12_col10\" class=\"data row12 col10\" >-0.252113</td>\n",
       "                        <td id=\"T_45a22_row12_col11\" class=\"data row12 col11\" >-0.023367</td>\n",
       "                        <td id=\"T_45a22_row12_col12\" class=\"data row12 col12\" >1.000000</td>\n",
       "                        <td id=\"T_45a22_row12_col13\" class=\"data row12 col13\" >-0.097828</td>\n",
       "                        <td id=\"T_45a22_row12_col14\" class=\"data row12 col14\" >0.204246</td>\n",
       "                        <td id=\"T_45a22_row12_col15\" class=\"data row12 col15\" >-0.105013</td>\n",
       "                        <td id=\"T_45a22_row12_col16\" class=\"data row12 col16\" >0.186619</td>\n",
       "                        <td id=\"T_45a22_row12_col17\" class=\"data row12 col17\" >-0.113294</td>\n",
       "                        <td id=\"T_45a22_row12_col18\" class=\"data row12 col18\" >0.127637</td>\n",
       "                        <td id=\"T_45a22_row12_col19\" class=\"data row12 col19\" >-0.245975</td>\n",
       "                        <td id=\"T_45a22_row12_col20\" class=\"data row12 col20\" >0.163737</td>\n",
       "                        <td id=\"T_45a22_row12_col21\" class=\"data row12 col21\" >-0.046663</td>\n",
       "                        <td id=\"T_45a22_row12_col22\" class=\"data row12 col22\" >-0.020207</td>\n",
       "                        <td id=\"T_45a22_row12_col23\" class=\"data row12 col23\" >0.082410</td>\n",
       "            </tr>\n",
       "            <tr>\n",
       "                        <th id=\"T_45a22_level0_row13\" class=\"row_heading level0 row13\" >bulk_10</th>\n",
       "                        <td id=\"T_45a22_row13_col0\" class=\"data row13 col0\" >0.035161</td>\n",
       "                        <td id=\"T_45a22_row13_col1\" class=\"data row13 col1\" >0.051987</td>\n",
       "                        <td id=\"T_45a22_row13_col2\" class=\"data row13 col2\" >-0.015250</td>\n",
       "                        <td id=\"T_45a22_row13_col3\" class=\"data row13 col3\" >-0.018232</td>\n",
       "                        <td id=\"T_45a22_row13_col4\" class=\"data row13 col4\" >-0.015053</td>\n",
       "                        <td id=\"T_45a22_row13_col5\" class=\"data row13 col5\" >0.001676</td>\n",
       "                        <td id=\"T_45a22_row13_col6\" class=\"data row13 col6\" >-0.021599</td>\n",
       "                        <td id=\"T_45a22_row13_col7\" class=\"data row13 col7\" >-0.012528</td>\n",
       "                        <td id=\"T_45a22_row13_col8\" class=\"data row13 col8\" >-0.026136</td>\n",
       "                        <td id=\"T_45a22_row13_col9\" class=\"data row13 col9\" >-0.085817</td>\n",
       "                        <td id=\"T_45a22_row13_col10\" class=\"data row13 col10\" >-0.082954</td>\n",
       "                        <td id=\"T_45a22_row13_col11\" class=\"data row13 col11\" >-0.030575</td>\n",
       "                        <td id=\"T_45a22_row13_col12\" class=\"data row13 col12\" >-0.097828</td>\n",
       "                        <td id=\"T_45a22_row13_col13\" class=\"data row13 col13\" >1.000000</td>\n",
       "                        <td id=\"T_45a22_row13_col14\" class=\"data row13 col14\" >-0.046303</td>\n",
       "                        <td id=\"T_45a22_row13_col15\" class=\"data row13 col15\" >0.022355</td>\n",
       "                        <td id=\"T_45a22_row13_col16\" class=\"data row13 col16\" >-0.052936</td>\n",
       "                        <td id=\"T_45a22_row13_col17\" class=\"data row13 col17\" >0.047466</td>\n",
       "                        <td id=\"T_45a22_row13_col18\" class=\"data row13 col18\" >0.100984</td>\n",
       "                        <td id=\"T_45a22_row13_col19\" class=\"data row13 col19\" >0.065062</td>\n",
       "                        <td id=\"T_45a22_row13_col20\" class=\"data row13 col20\" >-0.105103</td>\n",
       "                        <td id=\"T_45a22_row13_col21\" class=\"data row13 col21\" >-0.028002</td>\n",
       "                        <td id=\"T_45a22_row13_col22\" class=\"data row13 col22\" >-0.018142</td>\n",
       "                        <td id=\"T_45a22_row13_col23\" class=\"data row13 col23\" >-0.101543</td>\n",
       "            </tr>\n",
       "            <tr>\n",
       "                        <th id=\"T_45a22_level0_row14\" class=\"row_heading level0 row14\" >bulk_11</th>\n",
       "                        <td id=\"T_45a22_row14_col0\" class=\"data row14 col0\" >-0.109887</td>\n",
       "                        <td id=\"T_45a22_row14_col1\" class=\"data row14 col1\" >-0.116741</td>\n",
       "                        <td id=\"T_45a22_row14_col2\" class=\"data row14 col2\" >0.034256</td>\n",
       "                        <td id=\"T_45a22_row14_col3\" class=\"data row14 col3\" >0.038124</td>\n",
       "                        <td id=\"T_45a22_row14_col4\" class=\"data row14 col4\" >0.082722</td>\n",
       "                        <td id=\"T_45a22_row14_col5\" class=\"data row14 col5\" >0.067156</td>\n",
       "                        <td id=\"T_45a22_row14_col6\" class=\"data row14 col6\" >0.041630</td>\n",
       "                        <td id=\"T_45a22_row14_col7\" class=\"data row14 col7\" >0.048593</td>\n",
       "                        <td id=\"T_45a22_row14_col8\" class=\"data row14 col8\" >-0.038685</td>\n",
       "                        <td id=\"T_45a22_row14_col9\" class=\"data row14 col9\" >-0.005562</td>\n",
       "                        <td id=\"T_45a22_row14_col10\" class=\"data row14 col10\" >-0.120878</td>\n",
       "                        <td id=\"T_45a22_row14_col11\" class=\"data row14 col11\" >-0.016256</td>\n",
       "                        <td id=\"T_45a22_row14_col12\" class=\"data row14 col12\" >0.204246</td>\n",
       "                        <td id=\"T_45a22_row14_col13\" class=\"data row14 col13\" >-0.046303</td>\n",
       "                        <td id=\"T_45a22_row14_col14\" class=\"data row14 col14\" >1.000000</td>\n",
       "                        <td id=\"T_45a22_row14_col15\" class=\"data row14 col15\" >-0.040470</td>\n",
       "                        <td id=\"T_45a22_row14_col16\" class=\"data row14 col16\" >0.079903</td>\n",
       "                        <td id=\"T_45a22_row14_col17\" class=\"data row14 col17\" >-0.049585</td>\n",
       "                        <td id=\"T_45a22_row14_col18\" class=\"data row14 col18\" >0.134414</td>\n",
       "                        <td id=\"T_45a22_row14_col19\" class=\"data row14 col19\" >-0.117347</td>\n",
       "                        <td id=\"T_45a22_row14_col20\" class=\"data row14 col20\" >0.083235</td>\n",
       "                        <td id=\"T_45a22_row14_col21\" class=\"data row14 col21\" >-0.022078</td>\n",
       "                        <td id=\"T_45a22_row14_col22\" class=\"data row14 col22\" >0.008128</td>\n",
       "                        <td id=\"T_45a22_row14_col23\" class=\"data row14 col23\" >0.030511</td>\n",
       "            </tr>\n",
       "            <tr>\n",
       "                        <th id=\"T_45a22_level0_row15\" class=\"row_heading level0 row15\" >bulk_12</th>\n",
       "                        <td id=\"T_45a22_row15_col0\" class=\"data row15 col0\" >-0.087972</td>\n",
       "                        <td id=\"T_45a22_row15_col1\" class=\"data row15 col1\" >0.259713</td>\n",
       "                        <td id=\"T_45a22_row15_col2\" class=\"data row15 col2\" >0.400370</td>\n",
       "                        <td id=\"T_45a22_row15_col3\" class=\"data row15 col3\" >0.399785</td>\n",
       "                        <td id=\"T_45a22_row15_col4\" class=\"data row15 col4\" >0.450547</td>\n",
       "                        <td id=\"T_45a22_row15_col5\" class=\"data row15 col5\" >0.286161</td>\n",
       "                        <td id=\"T_45a22_row15_col6\" class=\"data row15 col6\" >0.381605</td>\n",
       "                        <td id=\"T_45a22_row15_col7\" class=\"data row15 col7\" >0.167252</td>\n",
       "                        <td id=\"T_45a22_row15_col8\" class=\"data row15 col8\" >0.272616</td>\n",
       "                        <td id=\"T_45a22_row15_col9\" class=\"data row15 col9\" >0.019659</td>\n",
       "                        <td id=\"T_45a22_row15_col10\" class=\"data row15 col10\" >0.102552</td>\n",
       "                        <td id=\"T_45a22_row15_col11\" class=\"data row15 col11\" >-0.085603</td>\n",
       "                        <td id=\"T_45a22_row15_col12\" class=\"data row15 col12\" >-0.105013</td>\n",
       "                        <td id=\"T_45a22_row15_col13\" class=\"data row15 col13\" >0.022355</td>\n",
       "                        <td id=\"T_45a22_row15_col14\" class=\"data row15 col14\" >-0.040470</td>\n",
       "                        <td id=\"T_45a22_row15_col15\" class=\"data row15 col15\" >1.000000</td>\n",
       "                        <td id=\"T_45a22_row15_col16\" class=\"data row15 col16\" >0.464363</td>\n",
       "                        <td id=\"T_45a22_row15_col17\" class=\"data row15 col17\" >0.641754</td>\n",
       "                        <td id=\"T_45a22_row15_col18\" class=\"data row15 col18\" >0.603831</td>\n",
       "                        <td id=\"T_45a22_row15_col19\" class=\"data row15 col19\" >0.179588</td>\n",
       "                        <td id=\"T_45a22_row15_col20\" class=\"data row15 col20\" >-0.113044</td>\n",
       "                        <td id=\"T_45a22_row15_col21\" class=\"data row15 col21\" >-0.121968</td>\n",
       "                        <td id=\"T_45a22_row15_col22\" class=\"data row15 col22\" >-0.043994</td>\n",
       "                        <td id=\"T_45a22_row15_col23\" class=\"data row15 col23\" >-0.151514</td>\n",
       "            </tr>\n",
       "            <tr>\n",
       "                        <th id=\"T_45a22_level0_row16\" class=\"row_heading level0 row16\" >bulk_14</th>\n",
       "                        <td id=\"T_45a22_row16_col0\" class=\"data row16 col0\" >-0.186573</td>\n",
       "                        <td id=\"T_45a22_row16_col1\" class=\"data row16 col1\" >0.106826</td>\n",
       "                        <td id=\"T_45a22_row16_col2\" class=\"data row16 col2\" >0.353197</td>\n",
       "                        <td id=\"T_45a22_row16_col3\" class=\"data row16 col3\" >0.343141</td>\n",
       "                        <td id=\"T_45a22_row16_col4\" class=\"data row16 col4\" >0.451743</td>\n",
       "                        <td id=\"T_45a22_row16_col5\" class=\"data row16 col5\" >0.320601</td>\n",
       "                        <td id=\"T_45a22_row16_col6\" class=\"data row16 col6\" >0.309806</td>\n",
       "                        <td id=\"T_45a22_row16_col7\" class=\"data row16 col7\" >0.253600</td>\n",
       "                        <td id=\"T_45a22_row16_col8\" class=\"data row16 col8\" >0.176510</td>\n",
       "                        <td id=\"T_45a22_row16_col9\" class=\"data row16 col9\" >0.015478</td>\n",
       "                        <td id=\"T_45a22_row16_col10\" class=\"data row16 col10\" >-0.095143</td>\n",
       "                        <td id=\"T_45a22_row16_col11\" class=\"data row16 col11\" >-0.072501</td>\n",
       "                        <td id=\"T_45a22_row16_col12\" class=\"data row16 col12\" >0.186619</td>\n",
       "                        <td id=\"T_45a22_row16_col13\" class=\"data row16 col13\" >-0.052936</td>\n",
       "                        <td id=\"T_45a22_row16_col14\" class=\"data row16 col14\" >0.079903</td>\n",
       "                        <td id=\"T_45a22_row16_col15\" class=\"data row16 col15\" >0.464363</td>\n",
       "                        <td id=\"T_45a22_row16_col16\" class=\"data row16 col16\" >1.000000</td>\n",
       "                        <td id=\"T_45a22_row16_col17\" class=\"data row16 col17\" >0.265872</td>\n",
       "                        <td id=\"T_45a22_row16_col18\" class=\"data row16 col18\" >0.419496</td>\n",
       "                        <td id=\"T_45a22_row16_col19\" class=\"data row16 col19\" >-0.053415</td>\n",
       "                        <td id=\"T_45a22_row16_col20\" class=\"data row16 col20\" >0.041844</td>\n",
       "                        <td id=\"T_45a22_row16_col21\" class=\"data row16 col21\" >-0.000608</td>\n",
       "                        <td id=\"T_45a22_row16_col22\" class=\"data row16 col22\" >-0.053769</td>\n",
       "                        <td id=\"T_45a22_row16_col23\" class=\"data row16 col23\" >-0.010144</td>\n",
       "            </tr>\n",
       "            <tr>\n",
       "                        <th id=\"T_45a22_level0_row17\" class=\"row_heading level0 row17\" >bulk_15</th>\n",
       "                        <td id=\"T_45a22_row17_col0\" class=\"data row17 col0\" >-0.060975</td>\n",
       "                        <td id=\"T_45a22_row17_col1\" class=\"data row17 col1\" >0.267370</td>\n",
       "                        <td id=\"T_45a22_row17_col2\" class=\"data row17 col2\" >0.347628</td>\n",
       "                        <td id=\"T_45a22_row17_col3\" class=\"data row17 col3\" >0.337141</td>\n",
       "                        <td id=\"T_45a22_row17_col4\" class=\"data row17 col4\" >0.296155</td>\n",
       "                        <td id=\"T_45a22_row17_col5\" class=\"data row17 col5\" >0.166838</td>\n",
       "                        <td id=\"T_45a22_row17_col6\" class=\"data row17 col6\" >0.307085</td>\n",
       "                        <td id=\"T_45a22_row17_col7\" class=\"data row17 col7\" >0.049961</td>\n",
       "                        <td id=\"T_45a22_row17_col8\" class=\"data row17 col8\" >0.007202</td>\n",
       "                        <td id=\"T_45a22_row17_col9\" class=\"data row17 col9\" >-0.011479</td>\n",
       "                        <td id=\"T_45a22_row17_col10\" class=\"data row17 col10\" >0.105716</td>\n",
       "                        <td id=\"T_45a22_row17_col11\" class=\"data row17 col11\" >-0.075067</td>\n",
       "                        <td id=\"T_45a22_row17_col12\" class=\"data row17 col12\" >-0.113294</td>\n",
       "                        <td id=\"T_45a22_row17_col13\" class=\"data row17 col13\" >0.047466</td>\n",
       "                        <td id=\"T_45a22_row17_col14\" class=\"data row17 col14\" >-0.049585</td>\n",
       "                        <td id=\"T_45a22_row17_col15\" class=\"data row17 col15\" >0.641754</td>\n",
       "                        <td id=\"T_45a22_row17_col16\" class=\"data row17 col16\" >0.265872</td>\n",
       "                        <td id=\"T_45a22_row17_col17\" class=\"data row17 col17\" >1.000000</td>\n",
       "                        <td id=\"T_45a22_row17_col18\" class=\"data row17 col18\" >0.633019</td>\n",
       "                        <td id=\"T_45a22_row17_col19\" class=\"data row17 col19\" >0.124889</td>\n",
       "                        <td id=\"T_45a22_row17_col20\" class=\"data row17 col20\" >-0.088995</td>\n",
       "                        <td id=\"T_45a22_row17_col21\" class=\"data row17 col21\" >-0.116808</td>\n",
       "                        <td id=\"T_45a22_row17_col22\" class=\"data row17 col22\" >-0.033499</td>\n",
       "                        <td id=\"T_45a22_row17_col23\" class=\"data row17 col23\" >-0.124584</td>\n",
       "            </tr>\n",
       "            <tr>\n",
       "                        <th id=\"T_45a22_level0_row18\" class=\"row_heading level0 row18\" >count_bulk</th>\n",
       "                        <td id=\"T_45a22_row18_col0\" class=\"data row18 col0\" >-0.070262</td>\n",
       "                        <td id=\"T_45a22_row18_col1\" class=\"data row18 col1\" >0.098639</td>\n",
       "                        <td id=\"T_45a22_row18_col2\" class=\"data row18 col2\" >0.267048</td>\n",
       "                        <td id=\"T_45a22_row18_col3\" class=\"data row18 col3\" >0.258310</td>\n",
       "                        <td id=\"T_45a22_row18_col4\" class=\"data row18 col4\" >0.337870</td>\n",
       "                        <td id=\"T_45a22_row18_col5\" class=\"data row18 col5\" >0.294240</td>\n",
       "                        <td id=\"T_45a22_row18_col6\" class=\"data row18 col6\" >0.233581</td>\n",
       "                        <td id=\"T_45a22_row18_col7\" class=\"data row18 col7\" >0.221715</td>\n",
       "                        <td id=\"T_45a22_row18_col8\" class=\"data row18 col8\" >0.272273</td>\n",
       "                        <td id=\"T_45a22_row18_col9\" class=\"data row18 col9\" >0.163274</td>\n",
       "                        <td id=\"T_45a22_row18_col10\" class=\"data row18 col10\" >0.107856</td>\n",
       "                        <td id=\"T_45a22_row18_col11\" class=\"data row18 col11\" >0.078542</td>\n",
       "                        <td id=\"T_45a22_row18_col12\" class=\"data row18 col12\" >0.127637</td>\n",
       "                        <td id=\"T_45a22_row18_col13\" class=\"data row18 col13\" >0.100984</td>\n",
       "                        <td id=\"T_45a22_row18_col14\" class=\"data row18 col14\" >0.134414</td>\n",
       "                        <td id=\"T_45a22_row18_col15\" class=\"data row18 col15\" >0.603831</td>\n",
       "                        <td id=\"T_45a22_row18_col16\" class=\"data row18 col16\" >0.419496</td>\n",
       "                        <td id=\"T_45a22_row18_col17\" class=\"data row18 col17\" >0.633019</td>\n",
       "                        <td id=\"T_45a22_row18_col18\" class=\"data row18 col18\" >1.000000</td>\n",
       "                        <td id=\"T_45a22_row18_col19\" class=\"data row18 col19\" >0.064491</td>\n",
       "                        <td id=\"T_45a22_row18_col20\" class=\"data row18 col20\" >-0.069832</td>\n",
       "                        <td id=\"T_45a22_row18_col21\" class=\"data row18 col21\" >-0.086282</td>\n",
       "                        <td id=\"T_45a22_row18_col22\" class=\"data row18 col22\" >0.060704</td>\n",
       "                        <td id=\"T_45a22_row18_col23\" class=\"data row18 col23\" >-0.073212</td>\n",
       "            </tr>\n",
       "            <tr>\n",
       "                        <th id=\"T_45a22_level0_row19\" class=\"row_heading level0 row19\" >wire_1</th>\n",
       "                        <td id=\"T_45a22_row19_col0\" class=\"data row19 col0\" >0.247849</td>\n",
       "                        <td id=\"T_45a22_row19_col1\" class=\"data row19 col1\" >0.305285</td>\n",
       "                        <td id=\"T_45a22_row19_col2\" class=\"data row19 col2\" >-0.111900</td>\n",
       "                        <td id=\"T_45a22_row19_col3\" class=\"data row19 col3\" >-0.129633</td>\n",
       "                        <td id=\"T_45a22_row19_col4\" class=\"data row19 col4\" >0.038370</td>\n",
       "                        <td id=\"T_45a22_row19_col5\" class=\"data row19 col5\" >0.130631</td>\n",
       "                        <td id=\"T_45a22_row19_col6\" class=\"data row19 col6\" >-0.152308</td>\n",
       "                        <td id=\"T_45a22_row19_col7\" class=\"data row19 col7\" >0.100723</td>\n",
       "                        <td id=\"T_45a22_row19_col8\" class=\"data row19 col8\" >0.017312</td>\n",
       "                        <td id=\"T_45a22_row19_col9\" class=\"data row19 col9\" >0.025450</td>\n",
       "                        <td id=\"T_45a22_row19_col10\" class=\"data row19 col10\" >0.304142</td>\n",
       "                        <td id=\"T_45a22_row19_col11\" class=\"data row19 col11\" >-0.016888</td>\n",
       "                        <td id=\"T_45a22_row19_col12\" class=\"data row19 col12\" >-0.245975</td>\n",
       "                        <td id=\"T_45a22_row19_col13\" class=\"data row19 col13\" >0.065062</td>\n",
       "                        <td id=\"T_45a22_row19_col14\" class=\"data row19 col14\" >-0.117347</td>\n",
       "                        <td id=\"T_45a22_row19_col15\" class=\"data row19 col15\" >0.179588</td>\n",
       "                        <td id=\"T_45a22_row19_col16\" class=\"data row19 col16\" >-0.053415</td>\n",
       "                        <td id=\"T_45a22_row19_col17\" class=\"data row19 col17\" >0.124889</td>\n",
       "                        <td id=\"T_45a22_row19_col18\" class=\"data row19 col18\" >0.064491</td>\n",
       "                        <td id=\"T_45a22_row19_col19\" class=\"data row19 col19\" >1.000000</td>\n",
       "                        <td id=\"T_45a22_row19_col20\" class=\"data row19 col20\" >-0.098195</td>\n",
       "                        <td id=\"T_45a22_row19_col21\" class=\"data row19 col21\" >0.037294</td>\n",
       "                        <td id=\"T_45a22_row19_col22\" class=\"data row19 col22\" >-0.132823</td>\n",
       "                        <td id=\"T_45a22_row19_col23\" class=\"data row19 col23\" >-0.080705</td>\n",
       "            </tr>\n",
       "            <tr>\n",
       "                        <th id=\"T_45a22_level0_row20\" class=\"row_heading level0 row20\" >wire_2</th>\n",
       "                        <td id=\"T_45a22_row20_col0\" class=\"data row20 col0\" >-0.135001</td>\n",
       "                        <td id=\"T_45a22_row20_col1\" class=\"data row20 col1\" >-0.214416</td>\n",
       "                        <td id=\"T_45a22_row20_col2\" class=\"data row20 col2\" >0.008131</td>\n",
       "                        <td id=\"T_45a22_row20_col3\" class=\"data row20 col3\" >0.003934</td>\n",
       "                        <td id=\"T_45a22_row20_col4\" class=\"data row20 col4\" >0.040894</td>\n",
       "                        <td id=\"T_45a22_row20_col5\" class=\"data row20 col5\" >0.053150</td>\n",
       "                        <td id=\"T_45a22_row20_col6\" class=\"data row20 col6\" >-0.004331</td>\n",
       "                        <td id=\"T_45a22_row20_col7\" class=\"data row20 col7\" >0.066883</td>\n",
       "                        <td id=\"T_45a22_row20_col8\" class=\"data row20 col8\" >-0.051086</td>\n",
       "                        <td id=\"T_45a22_row20_col9\" class=\"data row20 col9\" >0.076185</td>\n",
       "                        <td id=\"T_45a22_row20_col10\" class=\"data row20 col10\" >-0.273407</td>\n",
       "                        <td id=\"T_45a22_row20_col11\" class=\"data row20 col11\" >-0.008150</td>\n",
       "                        <td id=\"T_45a22_row20_col12\" class=\"data row20 col12\" >0.163737</td>\n",
       "                        <td id=\"T_45a22_row20_col13\" class=\"data row20 col13\" >-0.105103</td>\n",
       "                        <td id=\"T_45a22_row20_col14\" class=\"data row20 col14\" >0.083235</td>\n",
       "                        <td id=\"T_45a22_row20_col15\" class=\"data row20 col15\" >-0.113044</td>\n",
       "                        <td id=\"T_45a22_row20_col16\" class=\"data row20 col16\" >0.041844</td>\n",
       "                        <td id=\"T_45a22_row20_col17\" class=\"data row20 col17\" >-0.088995</td>\n",
       "                        <td id=\"T_45a22_row20_col18\" class=\"data row20 col18\" >-0.069832</td>\n",
       "                        <td id=\"T_45a22_row20_col19\" class=\"data row20 col19\" >-0.098195</td>\n",
       "                        <td id=\"T_45a22_row20_col20\" class=\"data row20 col20\" >1.000000</td>\n",
       "                        <td id=\"T_45a22_row20_col21\" class=\"data row20 col21\" >0.110065</td>\n",
       "                        <td id=\"T_45a22_row20_col22\" class=\"data row20 col22\" >-0.062009</td>\n",
       "                        <td id=\"T_45a22_row20_col23\" class=\"data row20 col23\" >0.669005</td>\n",
       "            </tr>\n",
       "            <tr>\n",
       "                        <th id=\"T_45a22_level0_row21\" class=\"row_heading level0 row21\" >wire_3</th>\n",
       "                        <td id=\"T_45a22_row21_col0\" class=\"data row21 col0\" >-0.004715</td>\n",
       "                        <td id=\"T_45a22_row21_col1\" class=\"data row21 col1\" >-0.047311</td>\n",
       "                        <td id=\"T_45a22_row21_col2\" class=\"data row21 col2\" >0.008056</td>\n",
       "                        <td id=\"T_45a22_row21_col3\" class=\"data row21 col3\" >0.003893</td>\n",
       "                        <td id=\"T_45a22_row21_col4\" class=\"data row21 col4\" >0.039681</td>\n",
       "                        <td id=\"T_45a22_row21_col5\" class=\"data row21 col5\" >0.061830</td>\n",
       "                        <td id=\"T_45a22_row21_col6\" class=\"data row21 col6\" >-0.003101</td>\n",
       "                        <td id=\"T_45a22_row21_col7\" class=\"data row21 col7\" >0.112464</td>\n",
       "                        <td id=\"T_45a22_row21_col8\" class=\"data row21 col8\" >0.024928</td>\n",
       "                        <td id=\"T_45a22_row21_col9\" class=\"data row21 col9\" >0.002612</td>\n",
       "                        <td id=\"T_45a22_row21_col10\" class=\"data row21 col10\" >-0.037626</td>\n",
       "                        <td id=\"T_45a22_row21_col11\" class=\"data row21 col11\" >0.091790</td>\n",
       "                        <td id=\"T_45a22_row21_col12\" class=\"data row21 col12\" >-0.046663</td>\n",
       "                        <td id=\"T_45a22_row21_col13\" class=\"data row21 col13\" >-0.028002</td>\n",
       "                        <td id=\"T_45a22_row21_col14\" class=\"data row21 col14\" >-0.022078</td>\n",
       "                        <td id=\"T_45a22_row21_col15\" class=\"data row21 col15\" >-0.121968</td>\n",
       "                        <td id=\"T_45a22_row21_col16\" class=\"data row21 col16\" >-0.000608</td>\n",
       "                        <td id=\"T_45a22_row21_col17\" class=\"data row21 col17\" >-0.116808</td>\n",
       "                        <td id=\"T_45a22_row21_col18\" class=\"data row21 col18\" >-0.086282</td>\n",
       "                        <td id=\"T_45a22_row21_col19\" class=\"data row21 col19\" >0.037294</td>\n",
       "                        <td id=\"T_45a22_row21_col20\" class=\"data row21 col20\" >0.110065</td>\n",
       "                        <td id=\"T_45a22_row21_col21\" class=\"data row21 col21\" >1.000000</td>\n",
       "                        <td id=\"T_45a22_row21_col22\" class=\"data row21 col22\" >0.187918</td>\n",
       "                        <td id=\"T_45a22_row21_col23\" class=\"data row21 col23\" >0.340021</td>\n",
       "            </tr>\n",
       "            <tr>\n",
       "                        <th id=\"T_45a22_level0_row22\" class=\"row_heading level0 row22\" >wire_6</th>\n",
       "                        <td id=\"T_45a22_row22_col0\" class=\"data row22 col0\" >0.022817</td>\n",
       "                        <td id=\"T_45a22_row22_col1\" class=\"data row22 col1\" >-0.085836</td>\n",
       "                        <td id=\"T_45a22_row22_col2\" class=\"data row22 col2\" >0.037829</td>\n",
       "                        <td id=\"T_45a22_row22_col3\" class=\"data row22 col3\" >0.035604</td>\n",
       "                        <td id=\"T_45a22_row22_col4\" class=\"data row22 col4\" >0.044871</td>\n",
       "                        <td id=\"T_45a22_row22_col5\" class=\"data row22 col5\" >0.056605</td>\n",
       "                        <td id=\"T_45a22_row22_col6\" class=\"data row22 col6\" >0.029837</td>\n",
       "                        <td id=\"T_45a22_row22_col7\" class=\"data row22 col7\" >0.116721</td>\n",
       "                        <td id=\"T_45a22_row22_col8\" class=\"data row22 col8\" >0.161197</td>\n",
       "                        <td id=\"T_45a22_row22_col9\" class=\"data row22 col9\" >0.008440</td>\n",
       "                        <td id=\"T_45a22_row22_col10\" class=\"data row22 col10\" >-0.011443</td>\n",
       "                        <td id=\"T_45a22_row22_col11\" class=\"data row22 col11\" >0.253711</td>\n",
       "                        <td id=\"T_45a22_row22_col12\" class=\"data row22 col12\" >-0.020207</td>\n",
       "                        <td id=\"T_45a22_row22_col13\" class=\"data row22 col13\" >-0.018142</td>\n",
       "                        <td id=\"T_45a22_row22_col14\" class=\"data row22 col14\" >0.008128</td>\n",
       "                        <td id=\"T_45a22_row22_col15\" class=\"data row22 col15\" >-0.043994</td>\n",
       "                        <td id=\"T_45a22_row22_col16\" class=\"data row22 col16\" >-0.053769</td>\n",
       "                        <td id=\"T_45a22_row22_col17\" class=\"data row22 col17\" >-0.033499</td>\n",
       "                        <td id=\"T_45a22_row22_col18\" class=\"data row22 col18\" >0.060704</td>\n",
       "                        <td id=\"T_45a22_row22_col19\" class=\"data row22 col19\" >-0.132823</td>\n",
       "                        <td id=\"T_45a22_row22_col20\" class=\"data row22 col20\" >-0.062009</td>\n",
       "                        <td id=\"T_45a22_row22_col21\" class=\"data row22 col21\" >0.187918</td>\n",
       "                        <td id=\"T_45a22_row22_col22\" class=\"data row22 col22\" >1.000000</td>\n",
       "                        <td id=\"T_45a22_row22_col23\" class=\"data row22 col23\" >0.271036</td>\n",
       "            </tr>\n",
       "            <tr>\n",
       "                        <th id=\"T_45a22_level0_row23\" class=\"row_heading level0 row23\" >count_wire</th>\n",
       "                        <td id=\"T_45a22_row23_col0\" class=\"data row23 col0\" >-0.062795</td>\n",
       "                        <td id=\"T_45a22_row23_col1\" class=\"data row23 col1\" >-0.196016</td>\n",
       "                        <td id=\"T_45a22_row23_col2\" class=\"data row23 col2\" >-0.015832</td>\n",
       "                        <td id=\"T_45a22_row23_col3\" class=\"data row23 col3\" >-0.021974</td>\n",
       "                        <td id=\"T_45a22_row23_col4\" class=\"data row23 col4\" >0.035845</td>\n",
       "                        <td id=\"T_45a22_row23_col5\" class=\"data row23 col5\" >0.073463</td>\n",
       "                        <td id=\"T_45a22_row23_col6\" class=\"data row23 col6\" >-0.032176</td>\n",
       "                        <td id=\"T_45a22_row23_col7\" class=\"data row23 col7\" >0.137834</td>\n",
       "                        <td id=\"T_45a22_row23_col8\" class=\"data row23 col8\" >0.039262</td>\n",
       "                        <td id=\"T_45a22_row23_col9\" class=\"data row23 col9\" >0.047226</td>\n",
       "                        <td id=\"T_45a22_row23_col10\" class=\"data row23 col10\" >-0.213224</td>\n",
       "                        <td id=\"T_45a22_row23_col11\" class=\"data row23 col11\" >0.115411</td>\n",
       "                        <td id=\"T_45a22_row23_col12\" class=\"data row23 col12\" >0.082410</td>\n",
       "                        <td id=\"T_45a22_row23_col13\" class=\"data row23 col13\" >-0.101543</td>\n",
       "                        <td id=\"T_45a22_row23_col14\" class=\"data row23 col14\" >0.030511</td>\n",
       "                        <td id=\"T_45a22_row23_col15\" class=\"data row23 col15\" >-0.151514</td>\n",
       "                        <td id=\"T_45a22_row23_col16\" class=\"data row23 col16\" >-0.010144</td>\n",
       "                        <td id=\"T_45a22_row23_col17\" class=\"data row23 col17\" >-0.124584</td>\n",
       "                        <td id=\"T_45a22_row23_col18\" class=\"data row23 col18\" >-0.073212</td>\n",
       "                        <td id=\"T_45a22_row23_col19\" class=\"data row23 col19\" >-0.080705</td>\n",
       "                        <td id=\"T_45a22_row23_col20\" class=\"data row23 col20\" >0.669005</td>\n",
       "                        <td id=\"T_45a22_row23_col21\" class=\"data row23 col21\" >0.340021</td>\n",
       "                        <td id=\"T_45a22_row23_col22\" class=\"data row23 col22\" >0.271036</td>\n",
       "                        <td id=\"T_45a22_row23_col23\" class=\"data row23 col23\" >1.000000</td>\n",
       "            </tr>\n",
       "    </tbody></table>"
      ],
      "text/plain": [
       "<pandas.io.formats.style.Styler at 0x7f3096593a60>"
      ]
     },
     "execution_count": 50,
     "metadata": {},
     "output_type": "execute_result"
    }
   ],
   "source": [
    "corr_matrix = final_dataset.corr()\n",
    "corr_matrix.style.background_gradient(cmap='coolwarm')"
   ]
  },
  {
   "cell_type": "markdown",
   "metadata": {},
   "source": [
    "Высокая корреляция (более |0.5|) наблюдается между следующими признаками:\n",
    "1. между heat_length <-> heating_count => можно исключить последний\n",
    "2. между active_power, apparent_power, reactive_power, heat_length => из них можем оставить только один признак, и это должен быть apparent_power, т.к. он уже включает в себя активную и реактивную мощности\n",
    "3. между bulk_12, bulk_15 и count_bulk, но это объяснимо тех процессом, так что убирать ничего не будем\n",
    "4. между wire_2 и count_wire, но это также объяснимо с точки зрения тех процесса, убрать не будем"
   ]
  },
  {
   "cell_type": "code",
   "execution_count": 51,
   "metadata": {},
   "outputs": [
    {
     "data": {
      "text/html": [
       "<style  type=\"text/css\" >\n",
       "#T_171a7_row0_col0,#T_171a7_row1_col1,#T_171a7_row2_col2,#T_171a7_row3_col3,#T_171a7_row4_col4,#T_171a7_row5_col5,#T_171a7_row6_col6,#T_171a7_row7_col7,#T_171a7_row8_col8,#T_171a7_row9_col9,#T_171a7_row10_col10,#T_171a7_row11_col11,#T_171a7_row12_col12,#T_171a7_row13_col13,#T_171a7_row14_col14,#T_171a7_row15_col15,#T_171a7_row16_col16,#T_171a7_row17_col17,#T_171a7_row18_col18,#T_171a7_row19_col19,#T_171a7_row20_col20{\n",
       "            background-color:  #b40426;\n",
       "            color:  #f1f1f1;\n",
       "        }#T_171a7_row0_col1{\n",
       "            background-color:  #c6d6f1;\n",
       "            color:  #000000;\n",
       "        }#T_171a7_row0_col2,#T_171a7_row0_col3,#T_171a7_row0_col13,#T_171a7_row1_col5,#T_171a7_row1_col11,#T_171a7_row2_col0,#T_171a7_row6_col7,#T_171a7_row7_col6,#T_171a7_row7_col9,#T_171a7_row7_col11,#T_171a7_row7_col17,#T_171a7_row7_col20,#T_171a7_row9_col16,#T_171a7_row10_col4,#T_171a7_row12_col8,#T_171a7_row12_col18,#T_171a7_row16_col11,#T_171a7_row16_col19,#T_171a7_row17_col1,#T_171a7_row17_col10,#T_171a7_row18_col15,#T_171a7_row20_col10,#T_171a7_row20_col12,#T_171a7_row20_col14{\n",
       "            background-color:  #3b4cc0;\n",
       "            color:  #f1f1f1;\n",
       "        }#T_171a7_row0_col4,#T_171a7_row1_col19,#T_171a7_row6_col8,#T_171a7_row9_col12,#T_171a7_row17_col5{\n",
       "            background-color:  #465ecf;\n",
       "            color:  #f1f1f1;\n",
       "        }#T_171a7_row0_col5,#T_171a7_row4_col14,#T_171a7_row9_col4,#T_171a7_row10_col14,#T_171a7_row13_col7,#T_171a7_row13_col16,#T_171a7_row16_col10{\n",
       "            background-color:  #6b8df0;\n",
       "            color:  #000000;\n",
       "        }#T_171a7_row0_col6,#T_171a7_row8_col1,#T_171a7_row11_col7,#T_171a7_row19_col15,#T_171a7_row20_col11{\n",
       "            background-color:  #6485ec;\n",
       "            color:  #000000;\n",
       "        }#T_171a7_row0_col7,#T_171a7_row15_col6,#T_171a7_row19_col0{\n",
       "            background-color:  #b1cbfc;\n",
       "            color:  #000000;\n",
       "        }#T_171a7_row0_col8,#T_171a7_row2_col19,#T_171a7_row3_col5,#T_171a7_row4_col11,#T_171a7_row6_col12,#T_171a7_row8_col15,#T_171a7_row10_col12,#T_171a7_row15_col8,#T_171a7_row20_col4,#T_171a7_row20_col13{\n",
       "            background-color:  #6a8bef;\n",
       "            color:  #000000;\n",
       "        }#T_171a7_row0_col9,#T_171a7_row2_col16,#T_171a7_row8_col11,#T_171a7_row9_col5,#T_171a7_row10_col20,#T_171a7_row19_col12,#T_171a7_row19_col16{\n",
       "            background-color:  #5673e0;\n",
       "            color:  #000000;\n",
       "        }#T_171a7_row0_col10,#T_171a7_row7_col5,#T_171a7_row12_col17,#T_171a7_row19_col4{\n",
       "            background-color:  #6282ea;\n",
       "            color:  #000000;\n",
       "        }#T_171a7_row0_col11,#T_171a7_row9_col14,#T_171a7_row14_col8{\n",
       "            background-color:  #3d50c3;\n",
       "            color:  #f1f1f1;\n",
       "        }#T_171a7_row0_col12,#T_171a7_row0_col14,#T_171a7_row1_col9,#T_171a7_row8_col12,#T_171a7_row9_col8{\n",
       "            background-color:  #4b64d5;\n",
       "            color:  #f1f1f1;\n",
       "        }#T_171a7_row0_col15,#T_171a7_row1_col20,#T_171a7_row13_col8,#T_171a7_row17_col15,#T_171a7_row20_col1,#T_171a7_row20_col15{\n",
       "            background-color:  #3e51c5;\n",
       "            color:  #f1f1f1;\n",
       "        }#T_171a7_row0_col16,#T_171a7_row4_col2,#T_171a7_row14_col1{\n",
       "            background-color:  #bfd3f6;\n",
       "            color:  #000000;\n",
       "        }#T_171a7_row0_col17,#T_171a7_row3_col8,#T_171a7_row7_col19,#T_171a7_row13_col18,#T_171a7_row16_col20,#T_171a7_row19_col1{\n",
       "            background-color:  #5b7ae5;\n",
       "            color:  #000000;\n",
       "        }#T_171a7_row0_col18,#T_171a7_row6_col11,#T_171a7_row11_col16,#T_171a7_row16_col5{\n",
       "            background-color:  #5a78e4;\n",
       "            color:  #000000;\n",
       "        }#T_171a7_row0_col19,#T_171a7_row8_col4,#T_171a7_row14_col10,#T_171a7_row16_col15,#T_171a7_row16_col17,#T_171a7_row18_col1{\n",
       "            background-color:  #6687ed;\n",
       "            color:  #000000;\n",
       "        }#T_171a7_row0_col20,#T_171a7_row2_col5,#T_171a7_row6_col19,#T_171a7_row10_col9,#T_171a7_row11_col19,#T_171a7_row18_col4,#T_171a7_row20_col5{\n",
       "            background-color:  #6180e9;\n",
       "            color:  #000000;\n",
       "        }#T_171a7_row1_col0,#T_171a7_row13_col12{\n",
       "            background-color:  #e5d8d1;\n",
       "            color:  #000000;\n",
       "        }#T_171a7_row1_col2{\n",
       "            background-color:  #d2dbe8;\n",
       "            color:  #000000;\n",
       "        }#T_171a7_row1_col3{\n",
       "            background-color:  #d8dce2;\n",
       "            color:  #000000;\n",
       "        }#T_171a7_row1_col4,#T_171a7_row1_col18,#T_171a7_row8_col10,#T_171a7_row9_col18,#T_171a7_row10_col11,#T_171a7_row11_col14,#T_171a7_row13_col19,#T_171a7_row18_col10{\n",
       "            background-color:  #4f69d9;\n",
       "            color:  #000000;\n",
       "        }#T_171a7_row1_col6,#T_171a7_row4_col8,#T_171a7_row8_col6,#T_171a7_row9_col15,#T_171a7_row18_col7{\n",
       "            background-color:  #7a9df8;\n",
       "            color:  #000000;\n",
       "        }#T_171a7_row1_col7,#T_171a7_row4_col13,#T_171a7_row5_col12,#T_171a7_row6_col2,#T_171a7_row9_col2{\n",
       "            background-color:  #b6cefa;\n",
       "            color:  #000000;\n",
       "        }#T_171a7_row1_col8,#T_171a7_row9_col7,#T_171a7_row15_col18,#T_171a7_row17_col12,#T_171a7_row17_col14{\n",
       "            background-color:  #445acc;\n",
       "            color:  #f1f1f1;\n",
       "        }#T_171a7_row1_col10,#T_171a7_row2_col11,#T_171a7_row3_col18,#T_171a7_row16_col18{\n",
       "            background-color:  #6788ee;\n",
       "            color:  #000000;\n",
       "        }#T_171a7_row1_col12,#T_171a7_row4_col0,#T_171a7_row6_col3,#T_171a7_row20_col19{\n",
       "            background-color:  #b2ccfb;\n",
       "            color:  #000000;\n",
       "        }#T_171a7_row1_col13,#T_171a7_row3_col17,#T_171a7_row4_col7,#T_171a7_row9_col0,#T_171a7_row10_col16,#T_171a7_row13_col5,#T_171a7_row13_col17,#T_171a7_row15_col16,#T_171a7_row16_col6{\n",
       "            background-color:  #8caffe;\n",
       "            color:  #000000;\n",
       "        }#T_171a7_row1_col14,#T_171a7_row13_col9{\n",
       "            background-color:  #afcafc;\n",
       "            color:  #000000;\n",
       "        }#T_171a7_row1_col15,#T_171a7_row6_col13,#T_171a7_row15_col19{\n",
       "            background-color:  #7093f3;\n",
       "            color:  #000000;\n",
       "        }#T_171a7_row1_col16,#T_171a7_row7_col16{\n",
       "            background-color:  #cdd9ec;\n",
       "            color:  #000000;\n",
       "        }#T_171a7_row1_col17,#T_171a7_row8_col14{\n",
       "            background-color:  #485fd1;\n",
       "            color:  #f1f1f1;\n",
       "        }#T_171a7_row2_col1,#T_171a7_row7_col1,#T_171a7_row10_col2,#T_171a7_row20_col2{\n",
       "            background-color:  #a7c5fe;\n",
       "            color:  #000000;\n",
       "        }#T_171a7_row2_col3{\n",
       "            background-color:  #f7ad90;\n",
       "            color:  #000000;\n",
       "        }#T_171a7_row2_col4,#T_171a7_row8_col13,#T_171a7_row11_col12,#T_171a7_row14_col5{\n",
       "            background-color:  #5875e1;\n",
       "            color:  #000000;\n",
       "        }#T_171a7_row2_col6,#T_171a7_row5_col19,#T_171a7_row6_col0,#T_171a7_row6_col9{\n",
       "            background-color:  #90b2fe;\n",
       "            color:  #000000;\n",
       "        }#T_171a7_row2_col7,#T_171a7_row8_col18{\n",
       "            background-color:  #779af7;\n",
       "            color:  #000000;\n",
       "        }#T_171a7_row2_col8,#T_171a7_row6_col10,#T_171a7_row17_col7{\n",
       "            background-color:  #3f53c6;\n",
       "            color:  #f1f1f1;\n",
       "        }#T_171a7_row2_col9,#T_171a7_row19_col5,#T_171a7_row19_col6{\n",
       "            background-color:  #88abfd;\n",
       "            color:  #000000;\n",
       "        }#T_171a7_row2_col10,#T_171a7_row3_col10,#T_171a7_row11_col1,#T_171a7_row12_col19,#T_171a7_row17_col4,#T_171a7_row19_col10,#T_171a7_row19_col14{\n",
       "            background-color:  #536edd;\n",
       "            color:  #000000;\n",
       "        }#T_171a7_row2_col12{\n",
       "            background-color:  #d7dce3;\n",
       "            color:  #000000;\n",
       "        }#T_171a7_row2_col13,#T_171a7_row7_col0{\n",
       "            background-color:  #cedaeb;\n",
       "            color:  #000000;\n",
       "        }#T_171a7_row2_col14,#T_171a7_row20_col18{\n",
       "            background-color:  #c4d5f3;\n",
       "            color:  #000000;\n",
       "        }#T_171a7_row2_col15,#T_171a7_row4_col9,#T_171a7_row17_col3,#T_171a7_row18_col3{\n",
       "            background-color:  #a5c3fe;\n",
       "            color:  #000000;\n",
       "        }#T_171a7_row2_col17,#T_171a7_row6_col16,#T_171a7_row13_col0{\n",
       "            background-color:  #81a4fb;\n",
       "            color:  #000000;\n",
       "        }#T_171a7_row2_col18,#T_171a7_row6_col18,#T_171a7_row7_col8,#T_171a7_row10_col13,#T_171a7_row14_col9,#T_171a7_row16_col4,#T_171a7_row16_col13,#T_171a7_row18_col5,#T_171a7_row19_col13{\n",
       "            background-color:  #5d7ce6;\n",
       "            color:  #000000;\n",
       "        }#T_171a7_row2_col20,#T_171a7_row3_col19,#T_171a7_row5_col8,#T_171a7_row15_col17,#T_171a7_row18_col13{\n",
       "            background-color:  #6c8ff1;\n",
       "            color:  #000000;\n",
       "        }#T_171a7_row3_col0,#T_171a7_row5_col10,#T_171a7_row5_col11,#T_171a7_row6_col5,#T_171a7_row12_col11,#T_171a7_row14_col20,#T_171a7_row17_col8{\n",
       "            background-color:  #506bda;\n",
       "            color:  #000000;\n",
       "        }#T_171a7_row3_col1,#T_171a7_row19_col20{\n",
       "            background-color:  #c0d4f5;\n",
       "            color:  #000000;\n",
       "        }#T_171a7_row3_col2{\n",
       "            background-color:  #f6a586;\n",
       "            color:  #000000;\n",
       "        }#T_171a7_row3_col4{\n",
       "            background-color:  #bbd1f8;\n",
       "            color:  #000000;\n",
       "        }#T_171a7_row3_col6,#T_171a7_row15_col9,#T_171a7_row18_col17{\n",
       "            background-color:  #9fbfff;\n",
       "            color:  #000000;\n",
       "        }#T_171a7_row3_col7,#T_171a7_row3_col20,#T_171a7_row5_col9,#T_171a7_row7_col14,#T_171a7_row11_col15,#T_171a7_row17_col18{\n",
       "            background-color:  #7da0f9;\n",
       "            color:  #000000;\n",
       "        }#T_171a7_row3_col9,#T_171a7_row5_col15{\n",
       "            background-color:  #a9c6fd;\n",
       "            color:  #000000;\n",
       "        }#T_171a7_row3_col11,#T_171a7_row8_col9,#T_171a7_row17_col11{\n",
       "            background-color:  #7597f6;\n",
       "            color:  #000000;\n",
       "        }#T_171a7_row3_col12{\n",
       "            background-color:  #e2dad5;\n",
       "            color:  #000000;\n",
       "        }#T_171a7_row3_col13{\n",
       "            background-color:  #e6d7cf;\n",
       "            color:  #000000;\n",
       "        }#T_171a7_row3_col14{\n",
       "            background-color:  #b7cff9;\n",
       "            color:  #000000;\n",
       "        }#T_171a7_row3_col15,#T_171a7_row5_col0,#T_171a7_row12_col1{\n",
       "            background-color:  #bcd2f7;\n",
       "            color:  #000000;\n",
       "        }#T_171a7_row3_col16,#T_171a7_row6_col15,#T_171a7_row15_col11,#T_171a7_row18_col6,#T_171a7_row18_col16{\n",
       "            background-color:  #85a8fc;\n",
       "            color:  #000000;\n",
       "        }#T_171a7_row4_col1,#T_171a7_row4_col19,#T_171a7_row7_col12,#T_171a7_row10_col1,#T_171a7_row14_col6,#T_171a7_row16_col14,#T_171a7_row19_col7{\n",
       "            background-color:  #82a6fb;\n",
       "            color:  #000000;\n",
       "        }#T_171a7_row4_col3{\n",
       "            background-color:  #ead4c8;\n",
       "            color:  #000000;\n",
       "        }#T_171a7_row4_col5,#T_171a7_row13_col6{\n",
       "            background-color:  #89acfd;\n",
       "            color:  #000000;\n",
       "        }#T_171a7_row4_col6,#T_171a7_row8_col20{\n",
       "            background-color:  #94b6ff;\n",
       "            color:  #000000;\n",
       "        }#T_171a7_row4_col10,#T_171a7_row10_col18{\n",
       "            background-color:  #5470de;\n",
       "            color:  #000000;\n",
       "        }#T_171a7_row4_col12,#T_171a7_row6_col17,#T_171a7_row19_col18{\n",
       "            background-color:  #96b7ff;\n",
       "            color:  #000000;\n",
       "        }#T_171a7_row4_col15,#T_171a7_row9_col6,#T_171a7_row12_col0,#T_171a7_row18_col19{\n",
       "            background-color:  #98b9ff;\n",
       "            color:  #000000;\n",
       "        }#T_171a7_row4_col16,#T_171a7_row10_col3,#T_171a7_row11_col17{\n",
       "            background-color:  #97b8ff;\n",
       "            color:  #000000;\n",
       "        }#T_171a7_row4_col17,#T_171a7_row7_col3,#T_171a7_row11_col0,#T_171a7_row20_col9{\n",
       "            background-color:  #93b5fe;\n",
       "            color:  #000000;\n",
       "        }#T_171a7_row4_col18,#T_171a7_row5_col20,#T_171a7_row8_col17{\n",
       "            background-color:  #7ea1fa;\n",
       "            color:  #000000;\n",
       "        }#T_171a7_row4_col20,#T_171a7_row9_col11{\n",
       "            background-color:  #9bbcff;\n",
       "            color:  #000000;\n",
       "        }#T_171a7_row5_col1,#T_171a7_row6_col14,#T_171a7_row9_col19,#T_171a7_row10_col19{\n",
       "            background-color:  #5977e3;\n",
       "            color:  #000000;\n",
       "        }#T_171a7_row5_col2,#T_171a7_row11_col2,#T_171a7_row11_col9,#T_171a7_row19_col2{\n",
       "            background-color:  #b5cdfa;\n",
       "            color:  #000000;\n",
       "        }#T_171a7_row5_col3,#T_171a7_row12_col5,#T_171a7_row18_col0{\n",
       "            background-color:  #abc8fd;\n",
       "            color:  #000000;\n",
       "        }#T_171a7_row5_col4,#T_171a7_row7_col15,#T_171a7_row12_col4,#T_171a7_row13_col11{\n",
       "            background-color:  #7396f5;\n",
       "            color:  #000000;\n",
       "        }#T_171a7_row5_col6,#T_171a7_row5_col16,#T_171a7_row6_col20{\n",
       "            background-color:  #80a3fa;\n",
       "            color:  #000000;\n",
       "        }#T_171a7_row5_col7,#T_171a7_row13_col1,#T_171a7_row13_col4,#T_171a7_row20_col6{\n",
       "            background-color:  #92b4fe;\n",
       "            color:  #000000;\n",
       "        }#T_171a7_row5_col13,#T_171a7_row7_col2,#T_171a7_row12_col7{\n",
       "            background-color:  #a1c0ff;\n",
       "            color:  #000000;\n",
       "        }#T_171a7_row5_col14,#T_171a7_row12_col10,#T_171a7_row15_col20,#T_171a7_row19_col11{\n",
       "            background-color:  #5e7de7;\n",
       "            color:  #000000;\n",
       "        }#T_171a7_row5_col17,#T_171a7_row10_col15{\n",
       "            background-color:  #7295f4;\n",
       "            color:  #000000;\n",
       "        }#T_171a7_row5_col18,#T_171a7_row10_col17,#T_171a7_row20_col16{\n",
       "            background-color:  #6384eb;\n",
       "            color:  #000000;\n",
       "        }#T_171a7_row6_col1,#T_171a7_row14_col17{\n",
       "            background-color:  #688aef;\n",
       "            color:  #000000;\n",
       "        }#T_171a7_row6_col4,#T_171a7_row10_col5,#T_171a7_row11_col8,#T_171a7_row14_col11,#T_171a7_row16_col8,#T_171a7_row17_col19,#T_171a7_row20_col7{\n",
       "            background-color:  #4e68d8;\n",
       "            color:  #000000;\n",
       "        }#T_171a7_row7_col4{\n",
       "            background-color:  #455cce;\n",
       "            color:  #f1f1f1;\n",
       "        }#T_171a7_row7_col10{\n",
       "            background-color:  #4055c8;\n",
       "            color:  #f1f1f1;\n",
       "        }#T_171a7_row7_col13,#T_171a7_row7_col18{\n",
       "            background-color:  #516ddb;\n",
       "            color:  #000000;\n",
       "        }#T_171a7_row8_col0{\n",
       "            background-color:  #bed2f6;\n",
       "            color:  #000000;\n",
       "        }#T_171a7_row8_col2,#T_171a7_row14_col0,#T_171a7_row14_col16,#T_171a7_row20_col0{\n",
       "            background-color:  #9ebeff;\n",
       "            color:  #000000;\n",
       "        }#T_171a7_row8_col3,#T_171a7_row14_col7,#T_171a7_row15_col7{\n",
       "            background-color:  #a2c1ff;\n",
       "            color:  #000000;\n",
       "        }#T_171a7_row8_col5,#T_171a7_row10_col7,#T_171a7_row13_col20,#T_171a7_row18_col9,#T_171a7_row19_col17{\n",
       "            background-color:  #6f92f3;\n",
       "            color:  #000000;\n",
       "        }#T_171a7_row8_col7,#T_171a7_row15_col1,#T_171a7_row16_col2{\n",
       "            background-color:  #8fb1fe;\n",
       "            color:  #000000;\n",
       "        }#T_171a7_row8_col16,#T_171a7_row15_col10,#T_171a7_row19_col9,#T_171a7_row20_col8{\n",
       "            background-color:  #7699f6;\n",
       "            color:  #000000;\n",
       "        }#T_171a7_row8_col19,#T_171a7_row9_col17,#T_171a7_row12_col16,#T_171a7_row17_col2,#T_171a7_row18_col2{\n",
       "            background-color:  #adc9fd;\n",
       "            color:  #000000;\n",
       "        }#T_171a7_row9_col1{\n",
       "            background-color:  #4358cb;\n",
       "            color:  #f1f1f1;\n",
       "        }#T_171a7_row9_col3{\n",
       "            background-color:  #c1d4f4;\n",
       "            color:  #000000;\n",
       "        }#T_171a7_row9_col10,#T_171a7_row14_col18,#T_171a7_row16_col9,#T_171a7_row18_col14{\n",
       "            background-color:  #3c4ec2;\n",
       "            color:  #f1f1f1;\n",
       "        }#T_171a7_row9_col13,#T_171a7_row16_col3,#T_171a7_row19_col8,#T_171a7_row20_col3{\n",
       "            background-color:  #a3c2fe;\n",
       "            color:  #000000;\n",
       "        }#T_171a7_row9_col20,#T_171a7_row12_col6{\n",
       "            background-color:  #8badfd;\n",
       "            color:  #000000;\n",
       "        }#T_171a7_row10_col0{\n",
       "            background-color:  #b3cdfb;\n",
       "            color:  #000000;\n",
       "        }#T_171a7_row10_col6,#T_171a7_row18_col8{\n",
       "            background-color:  #6e90f2;\n",
       "            color:  #000000;\n",
       "        }#T_171a7_row10_col8,#T_171a7_row13_col10{\n",
       "            background-color:  #4961d2;\n",
       "            color:  #f1f1f1;\n",
       "        }#T_171a7_row11_col3,#T_171a7_row13_col14{\n",
       "            background-color:  #aec9fc;\n",
       "            color:  #000000;\n",
       "        }#T_171a7_row11_col4,#T_171a7_row14_col4{\n",
       "            background-color:  #4c66d6;\n",
       "            color:  #000000;\n",
       "        }#T_171a7_row11_col5,#T_171a7_row11_col10,#T_171a7_row12_col20{\n",
       "            background-color:  #4a63d3;\n",
       "            color:  #f1f1f1;\n",
       "        }#T_171a7_row11_col6,#T_171a7_row11_col13{\n",
       "            background-color:  #84a7fc;\n",
       "            color:  #000000;\n",
       "        }#T_171a7_row11_col18,#T_171a7_row14_col19,#T_171a7_row18_col11{\n",
       "            background-color:  #5572df;\n",
       "            color:  #000000;\n",
       "        }#T_171a7_row11_col20{\n",
       "            background-color:  #7b9ff9;\n",
       "            color:  #000000;\n",
       "        }#T_171a7_row12_col2{\n",
       "            background-color:  #f2cab5;\n",
       "            color:  #000000;\n",
       "        }#T_171a7_row12_col3{\n",
       "            background-color:  #f2c9b4;\n",
       "            color:  #000000;\n",
       "        }#T_171a7_row12_col9,#T_171a7_row17_col16{\n",
       "            background-color:  #5f7fe8;\n",
       "            color:  #000000;\n",
       "        }#T_171a7_row12_col13{\n",
       "            background-color:  #e9d5cb;\n",
       "            color:  #000000;\n",
       "        }#T_171a7_row12_col14{\n",
       "            background-color:  #f7b396;\n",
       "            color:  #000000;\n",
       "        }#T_171a7_row12_col15{\n",
       "            background-color:  #f5c1a9;\n",
       "            color:  #000000;\n",
       "        }#T_171a7_row13_col2{\n",
       "            background-color:  #edd2c3;\n",
       "            color:  #000000;\n",
       "        }#T_171a7_row13_col3{\n",
       "            background-color:  #f3c8b2;\n",
       "            color:  #000000;\n",
       "        }#T_171a7_row13_col15{\n",
       "            background-color:  #d4dbe6;\n",
       "            color:  #000000;\n",
       "        }#T_171a7_row14_col2{\n",
       "            background-color:  #ebd3c6;\n",
       "            color:  #000000;\n",
       "        }#T_171a7_row14_col3{\n",
       "            background-color:  #dcdddd;\n",
       "            color:  #000000;\n",
       "        }#T_171a7_row14_col12{\n",
       "            background-color:  #f7b093;\n",
       "            color:  #000000;\n",
       "        }#T_171a7_row14_col13{\n",
       "            background-color:  #bad0f8;\n",
       "            color:  #000000;\n",
       "        }#T_171a7_row14_col15{\n",
       "            background-color:  #f7b99e;\n",
       "            color:  #000000;\n",
       "        }#T_171a7_row15_col0{\n",
       "            background-color:  #9dbdff;\n",
       "            color:  #000000;\n",
       "        }#T_171a7_row15_col2,#T_171a7_row15_col13{\n",
       "            background-color:  #dfdbd9;\n",
       "            color:  #000000;\n",
       "        }#T_171a7_row15_col3{\n",
       "            background-color:  #e4d9d2;\n",
       "            color:  #000000;\n",
       "        }#T_171a7_row15_col4{\n",
       "            background-color:  #86a9fc;\n",
       "            color:  #000000;\n",
       "        }#T_171a7_row15_col5,#T_171a7_row17_col9{\n",
       "            background-color:  #aac7fd;\n",
       "            color:  #000000;\n",
       "        }#T_171a7_row15_col12{\n",
       "            background-color:  #f7bca1;\n",
       "            color:  #000000;\n",
       "        }#T_171a7_row15_col14{\n",
       "            background-color:  #f7b599;\n",
       "            color:  #000000;\n",
       "        }#T_171a7_row16_col0{\n",
       "            background-color:  #dddcdc;\n",
       "            color:  #000000;\n",
       "        }#T_171a7_row16_col1{\n",
       "            background-color:  #c9d7f0;\n",
       "            color:  #000000;\n",
       "        }#T_171a7_row16_col7{\n",
       "            background-color:  #d3dbe7;\n",
       "            color:  #000000;\n",
       "        }#T_171a7_row16_col12,#T_171a7_row17_col6{\n",
       "            background-color:  #9abbff;\n",
       "            color:  #000000;\n",
       "        }#T_171a7_row17_col0{\n",
       "            background-color:  #8db0fe;\n",
       "            color:  #000000;\n",
       "        }#T_171a7_row17_col13{\n",
       "            background-color:  #799cf8;\n",
       "            color:  #000000;\n",
       "        }#T_171a7_row17_col20{\n",
       "            background-color:  #f6a283;\n",
       "            color:  #000000;\n",
       "        }#T_171a7_row18_col12{\n",
       "            background-color:  #4257c9;\n",
       "            color:  #f1f1f1;\n",
       "        }#T_171a7_row18_col20{\n",
       "            background-color:  #d1dae9;\n",
       "            color:  #000000;\n",
       "        }#T_171a7_row19_col3{\n",
       "            background-color:  #a6c4fe;\n",
       "            color:  #000000;\n",
       "        }#T_171a7_row20_col17{\n",
       "            background-color:  #f59d7e;\n",
       "            color:  #000000;\n",
       "        }</style><table id=\"T_171a7_\" ><thead>    <tr>        <th class=\"blank level0\" ></th>        <th class=\"col_heading level0 col0\" >first_temp</th>        <th class=\"col_heading level0 col1\" >last_temp</th>        <th class=\"col_heading level0 col2\" >apparent_power</th>        <th class=\"col_heading level0 col3\" >heat_length_s</th>        <th class=\"col_heading level0 col4\" >gas_total</th>        <th class=\"col_heading level0 col5\" >bulk_1</th>        <th class=\"col_heading level0 col6\" >bulk_3</th>        <th class=\"col_heading level0 col7\" >bulk_4</th>        <th class=\"col_heading level0 col8\" >bulk_5</th>        <th class=\"col_heading level0 col9\" >bulk_6</th>        <th class=\"col_heading level0 col10\" >bulk_10</th>        <th class=\"col_heading level0 col11\" >bulk_11</th>        <th class=\"col_heading level0 col12\" >bulk_12</th>        <th class=\"col_heading level0 col13\" >bulk_14</th>        <th class=\"col_heading level0 col14\" >bulk_15</th>        <th class=\"col_heading level0 col15\" >count_bulk</th>        <th class=\"col_heading level0 col16\" >wire_1</th>        <th class=\"col_heading level0 col17\" >wire_2</th>        <th class=\"col_heading level0 col18\" >wire_3</th>        <th class=\"col_heading level0 col19\" >wire_6</th>        <th class=\"col_heading level0 col20\" >count_wire</th>    </tr></thead><tbody>\n",
       "                <tr>\n",
       "                        <th id=\"T_171a7_level0_row0\" class=\"row_heading level0 row0\" >first_temp</th>\n",
       "                        <td id=\"T_171a7_row0_col0\" class=\"data row0 col0\" >1.000000</td>\n",
       "                        <td id=\"T_171a7_row0_col1\" class=\"data row0 col1\" >0.294322</td>\n",
       "                        <td id=\"T_171a7_row0_col2\" class=\"data row0 col2\" >-0.514999</td>\n",
       "                        <td id=\"T_171a7_row0_col3\" class=\"data row0 col3\" >-0.405820</td>\n",
       "                        <td id=\"T_171a7_row0_col4\" class=\"data row0 col4\" >0.027063</td>\n",
       "                        <td id=\"T_171a7_row0_col5\" class=\"data row0 col5\" >0.075426</td>\n",
       "                        <td id=\"T_171a7_row0_col6\" class=\"data row0 col6\" >-0.123565</td>\n",
       "                        <td id=\"T_171a7_row0_col7\" class=\"data row0 col7\" >0.164035</td>\n",
       "                        <td id=\"T_171a7_row0_col8\" class=\"data row0 col8\" >0.078779</td>\n",
       "                        <td id=\"T_171a7_row0_col9\" class=\"data row0 col9\" >-0.139158</td>\n",
       "                        <td id=\"T_171a7_row0_col10\" class=\"data row0 col10\" >0.035161</td>\n",
       "                        <td id=\"T_171a7_row0_col11\" class=\"data row0 col11\" >-0.109887</td>\n",
       "                        <td id=\"T_171a7_row0_col12\" class=\"data row0 col12\" >-0.087972</td>\n",
       "                        <td id=\"T_171a7_row0_col13\" class=\"data row0 col13\" >-0.186573</td>\n",
       "                        <td id=\"T_171a7_row0_col14\" class=\"data row0 col14\" >-0.060975</td>\n",
       "                        <td id=\"T_171a7_row0_col15\" class=\"data row0 col15\" >-0.070262</td>\n",
       "                        <td id=\"T_171a7_row0_col16\" class=\"data row0 col16\" >0.247849</td>\n",
       "                        <td id=\"T_171a7_row0_col17\" class=\"data row0 col17\" >-0.135001</td>\n",
       "                        <td id=\"T_171a7_row0_col18\" class=\"data row0 col18\" >-0.004715</td>\n",
       "                        <td id=\"T_171a7_row0_col19\" class=\"data row0 col19\" >0.022817</td>\n",
       "                        <td id=\"T_171a7_row0_col20\" class=\"data row0 col20\" >-0.062795</td>\n",
       "            </tr>\n",
       "            <tr>\n",
       "                        <th id=\"T_171a7_level0_row1\" class=\"row_heading level0 row1\" >last_temp</th>\n",
       "                        <td id=\"T_171a7_row1_col0\" class=\"data row1 col0\" >0.294322</td>\n",
       "                        <td id=\"T_171a7_row1_col1\" class=\"data row1 col1\" >1.000000</td>\n",
       "                        <td id=\"T_171a7_row1_col2\" class=\"data row1 col2\" >0.182919</td>\n",
       "                        <td id=\"T_171a7_row1_col3\" class=\"data row1 col3\" >0.270275</td>\n",
       "                        <td id=\"T_171a7_row1_col4\" class=\"data row1 col4\" >0.055415</td>\n",
       "                        <td id=\"T_171a7_row1_col5\" class=\"data row1 col5\" >-0.095637</td>\n",
       "                        <td id=\"T_171a7_row1_col6\" class=\"data row1 col6\" >-0.038012</td>\n",
       "                        <td id=\"T_171a7_row1_col7\" class=\"data row1 col7\" >0.181629</td>\n",
       "                        <td id=\"T_171a7_row1_col8\" class=\"data row1 col8\" >-0.050130</td>\n",
       "                        <td id=\"T_171a7_row1_col9\" class=\"data row1 col9\" >-0.180496</td>\n",
       "                        <td id=\"T_171a7_row1_col10\" class=\"data row1 col10\" >0.051987</td>\n",
       "                        <td id=\"T_171a7_row1_col11\" class=\"data row1 col11\" >-0.116741</td>\n",
       "                        <td id=\"T_171a7_row1_col12\" class=\"data row1 col12\" >0.259713</td>\n",
       "                        <td id=\"T_171a7_row1_col13\" class=\"data row1 col13\" >0.106826</td>\n",
       "                        <td id=\"T_171a7_row1_col14\" class=\"data row1 col14\" >0.267370</td>\n",
       "                        <td id=\"T_171a7_row1_col15\" class=\"data row1 col15\" >0.098639</td>\n",
       "                        <td id=\"T_171a7_row1_col16\" class=\"data row1 col16\" >0.305285</td>\n",
       "                        <td id=\"T_171a7_row1_col17\" class=\"data row1 col17\" >-0.214416</td>\n",
       "                        <td id=\"T_171a7_row1_col18\" class=\"data row1 col18\" >-0.047311</td>\n",
       "                        <td id=\"T_171a7_row1_col19\" class=\"data row1 col19\" >-0.085836</td>\n",
       "                        <td id=\"T_171a7_row1_col20\" class=\"data row1 col20\" >-0.196016</td>\n",
       "            </tr>\n",
       "            <tr>\n",
       "                        <th id=\"T_171a7_level0_row2\" class=\"row_heading level0 row2\" >apparent_power</th>\n",
       "                        <td id=\"T_171a7_row2_col0\" class=\"data row2 col0\" >-0.514999</td>\n",
       "                        <td id=\"T_171a7_row2_col1\" class=\"data row2 col1\" >0.182919</td>\n",
       "                        <td id=\"T_171a7_row2_col2\" class=\"data row2 col2\" >1.000000</td>\n",
       "                        <td id=\"T_171a7_row2_col3\" class=\"data row2 col3\" >0.574474</td>\n",
       "                        <td id=\"T_171a7_row2_col4\" class=\"data row2 col4\" >0.085072</td>\n",
       "                        <td id=\"T_171a7_row2_col5\" class=\"data row2 col5\" >0.040119</td>\n",
       "                        <td id=\"T_171a7_row2_col6\" class=\"data row2 col6\" >0.042415</td>\n",
       "                        <td id=\"T_171a7_row2_col7\" class=\"data row2 col7\" >-0.048360</td>\n",
       "                        <td id=\"T_171a7_row2_col8\" class=\"data row2 col8\" >-0.064943</td>\n",
       "                        <td id=\"T_171a7_row2_col9\" class=\"data row2 col9\" >0.044917</td>\n",
       "                        <td id=\"T_171a7_row2_col10\" class=\"data row2 col10\" >-0.018232</td>\n",
       "                        <td id=\"T_171a7_row2_col11\" class=\"data row2 col11\" >0.038124</td>\n",
       "                        <td id=\"T_171a7_row2_col12\" class=\"data row2 col12\" >0.399785</td>\n",
       "                        <td id=\"T_171a7_row2_col13\" class=\"data row2 col13\" >0.343141</td>\n",
       "                        <td id=\"T_171a7_row2_col14\" class=\"data row2 col14\" >0.337141</td>\n",
       "                        <td id=\"T_171a7_row2_col15\" class=\"data row2 col15\" >0.258310</td>\n",
       "                        <td id=\"T_171a7_row2_col16\" class=\"data row2 col16\" >-0.129633</td>\n",
       "                        <td id=\"T_171a7_row2_col17\" class=\"data row2 col17\" >0.003934</td>\n",
       "                        <td id=\"T_171a7_row2_col18\" class=\"data row2 col18\" >0.003893</td>\n",
       "                        <td id=\"T_171a7_row2_col19\" class=\"data row2 col19\" >0.035604</td>\n",
       "                        <td id=\"T_171a7_row2_col20\" class=\"data row2 col20\" >-0.021974</td>\n",
       "            </tr>\n",
       "            <tr>\n",
       "                        <th id=\"T_171a7_level0_row3\" class=\"row_heading level0 row3\" >heat_length_s</th>\n",
       "                        <td id=\"T_171a7_row3_col0\" class=\"data row3 col0\" >-0.405820</td>\n",
       "                        <td id=\"T_171a7_row3_col1\" class=\"data row3 col1\" >0.270275</td>\n",
       "                        <td id=\"T_171a7_row3_col2\" class=\"data row3 col2\" >0.574474</td>\n",
       "                        <td id=\"T_171a7_row3_col3\" class=\"data row3 col3\" >1.000000</td>\n",
       "                        <td id=\"T_171a7_row3_col4\" class=\"data row3 col4\" >0.378445</td>\n",
       "                        <td id=\"T_171a7_row3_col5\" class=\"data row3 col5\" >0.068748</td>\n",
       "                        <td id=\"T_171a7_row3_col6\" class=\"data row3 col6\" >0.097924</td>\n",
       "                        <td id=\"T_171a7_row3_col7\" class=\"data row3 col7\" >-0.032244</td>\n",
       "                        <td id=\"T_171a7_row3_col8\" class=\"data row3 col8\" >0.030013</td>\n",
       "                        <td id=\"T_171a7_row3_col9\" class=\"data row3 col9\" >0.162804</td>\n",
       "                        <td id=\"T_171a7_row3_col10\" class=\"data row3 col10\" >-0.015053</td>\n",
       "                        <td id=\"T_171a7_row3_col11\" class=\"data row3 col11\" >0.082722</td>\n",
       "                        <td id=\"T_171a7_row3_col12\" class=\"data row3 col12\" >0.450547</td>\n",
       "                        <td id=\"T_171a7_row3_col13\" class=\"data row3 col13\" >0.451743</td>\n",
       "                        <td id=\"T_171a7_row3_col14\" class=\"data row3 col14\" >0.296155</td>\n",
       "                        <td id=\"T_171a7_row3_col15\" class=\"data row3 col15\" >0.337870</td>\n",
       "                        <td id=\"T_171a7_row3_col16\" class=\"data row3 col16\" >0.038370</td>\n",
       "                        <td id=\"T_171a7_row3_col17\" class=\"data row3 col17\" >0.040894</td>\n",
       "                        <td id=\"T_171a7_row3_col18\" class=\"data row3 col18\" >0.039681</td>\n",
       "                        <td id=\"T_171a7_row3_col19\" class=\"data row3 col19\" >0.044871</td>\n",
       "                        <td id=\"T_171a7_row3_col20\" class=\"data row3 col20\" >0.035845</td>\n",
       "            </tr>\n",
       "            <tr>\n",
       "                        <th id=\"T_171a7_level0_row4\" class=\"row_heading level0 row4\" >gas_total</th>\n",
       "                        <td id=\"T_171a7_row4_col0\" class=\"data row4 col0\" >0.027063</td>\n",
       "                        <td id=\"T_171a7_row4_col1\" class=\"data row4 col1\" >0.055415</td>\n",
       "                        <td id=\"T_171a7_row4_col2\" class=\"data row4 col2\" >0.085072</td>\n",
       "                        <td id=\"T_171a7_row4_col3\" class=\"data row4 col3\" >0.378445</td>\n",
       "                        <td id=\"T_171a7_row4_col4\" class=\"data row4 col4\" >1.000000</td>\n",
       "                        <td id=\"T_171a7_row4_col5\" class=\"data row4 col5\" >0.168746</td>\n",
       "                        <td id=\"T_171a7_row4_col6\" class=\"data row4 col6\" >0.053863</td>\n",
       "                        <td id=\"T_171a7_row4_col7\" class=\"data row4 col7\" >0.024308</td>\n",
       "                        <td id=\"T_171a7_row4_col8\" class=\"data row4 col8\" >0.128128</td>\n",
       "                        <td id=\"T_171a7_row4_col9\" class=\"data row4 col9\" >0.144588</td>\n",
       "                        <td id=\"T_171a7_row4_col10\" class=\"data row4 col10\" >-0.012528</td>\n",
       "                        <td id=\"T_171a7_row4_col11\" class=\"data row4 col11\" >0.048593</td>\n",
       "                        <td id=\"T_171a7_row4_col12\" class=\"data row4 col12\" >0.167252</td>\n",
       "                        <td id=\"T_171a7_row4_col13\" class=\"data row4 col13\" >0.253600</td>\n",
       "                        <td id=\"T_171a7_row4_col14\" class=\"data row4 col14\" >0.049961</td>\n",
       "                        <td id=\"T_171a7_row4_col15\" class=\"data row4 col15\" >0.221715</td>\n",
       "                        <td id=\"T_171a7_row4_col16\" class=\"data row4 col16\" >0.100723</td>\n",
       "                        <td id=\"T_171a7_row4_col17\" class=\"data row4 col17\" >0.066883</td>\n",
       "                        <td id=\"T_171a7_row4_col18\" class=\"data row4 col18\" >0.112464</td>\n",
       "                        <td id=\"T_171a7_row4_col19\" class=\"data row4 col19\" >0.116721</td>\n",
       "                        <td id=\"T_171a7_row4_col20\" class=\"data row4 col20\" >0.137834</td>\n",
       "            </tr>\n",
       "            <tr>\n",
       "                        <th id=\"T_171a7_level0_row5\" class=\"row_heading level0 row5\" >bulk_1</th>\n",
       "                        <td id=\"T_171a7_row5_col0\" class=\"data row5 col0\" >0.075426</td>\n",
       "                        <td id=\"T_171a7_row5_col1\" class=\"data row5 col1\" >-0.095637</td>\n",
       "                        <td id=\"T_171a7_row5_col2\" class=\"data row5 col2\" >0.040119</td>\n",
       "                        <td id=\"T_171a7_row5_col3\" class=\"data row5 col3\" >0.068748</td>\n",
       "                        <td id=\"T_171a7_row5_col4\" class=\"data row5 col4\" >0.168746</td>\n",
       "                        <td id=\"T_171a7_row5_col5\" class=\"data row5 col5\" >1.000000</td>\n",
       "                        <td id=\"T_171a7_row5_col6\" class=\"data row5 col6\" >-0.018477</td>\n",
       "                        <td id=\"T_171a7_row5_col7\" class=\"data row5 col7\" >0.044846</td>\n",
       "                        <td id=\"T_171a7_row5_col8\" class=\"data row5 col8\" >0.087413</td>\n",
       "                        <td id=\"T_171a7_row5_col9\" class=\"data row5 col9\" >0.003782</td>\n",
       "                        <td id=\"T_171a7_row5_col10\" class=\"data row5 col10\" >-0.026136</td>\n",
       "                        <td id=\"T_171a7_row5_col11\" class=\"data row5 col11\" >-0.038685</td>\n",
       "                        <td id=\"T_171a7_row5_col12\" class=\"data row5 col12\" >0.272616</td>\n",
       "                        <td id=\"T_171a7_row5_col13\" class=\"data row5 col13\" >0.176510</td>\n",
       "                        <td id=\"T_171a7_row5_col14\" class=\"data row5 col14\" >0.007202</td>\n",
       "                        <td id=\"T_171a7_row5_col15\" class=\"data row5 col15\" >0.272273</td>\n",
       "                        <td id=\"T_171a7_row5_col16\" class=\"data row5 col16\" >0.017312</td>\n",
       "                        <td id=\"T_171a7_row5_col17\" class=\"data row5 col17\" >-0.051086</td>\n",
       "                        <td id=\"T_171a7_row5_col18\" class=\"data row5 col18\" >0.024928</td>\n",
       "                        <td id=\"T_171a7_row5_col19\" class=\"data row5 col19\" >0.161197</td>\n",
       "                        <td id=\"T_171a7_row5_col20\" class=\"data row5 col20\" >0.039262</td>\n",
       "            </tr>\n",
       "            <tr>\n",
       "                        <th id=\"T_171a7_level0_row6\" class=\"row_heading level0 row6\" >bulk_3</th>\n",
       "                        <td id=\"T_171a7_row6_col0\" class=\"data row6 col0\" >-0.123565</td>\n",
       "                        <td id=\"T_171a7_row6_col1\" class=\"data row6 col1\" >-0.038012</td>\n",
       "                        <td id=\"T_171a7_row6_col2\" class=\"data row6 col2\" >0.042415</td>\n",
       "                        <td id=\"T_171a7_row6_col3\" class=\"data row6 col3\" >0.097924</td>\n",
       "                        <td id=\"T_171a7_row6_col4\" class=\"data row6 col4\" >0.053863</td>\n",
       "                        <td id=\"T_171a7_row6_col5\" class=\"data row6 col5\" >-0.018477</td>\n",
       "                        <td id=\"T_171a7_row6_col6\" class=\"data row6 col6\" >1.000000</td>\n",
       "                        <td id=\"T_171a7_row6_col7\" class=\"data row6 col7\" >-0.295715</td>\n",
       "                        <td id=\"T_171a7_row6_col8\" class=\"data row6 col8\" >-0.041499</td>\n",
       "                        <td id=\"T_171a7_row6_col9\" class=\"data row6 col9\" >0.071799</td>\n",
       "                        <td id=\"T_171a7_row6_col10\" class=\"data row6 col10\" >-0.085817</td>\n",
       "                        <td id=\"T_171a7_row6_col11\" class=\"data row6 col11\" >-0.005562</td>\n",
       "                        <td id=\"T_171a7_row6_col12\" class=\"data row6 col12\" >0.019659</td>\n",
       "                        <td id=\"T_171a7_row6_col13\" class=\"data row6 col13\" >0.015478</td>\n",
       "                        <td id=\"T_171a7_row6_col14\" class=\"data row6 col14\" >-0.011479</td>\n",
       "                        <td id=\"T_171a7_row6_col15\" class=\"data row6 col15\" >0.163274</td>\n",
       "                        <td id=\"T_171a7_row6_col16\" class=\"data row6 col16\" >0.025450</td>\n",
       "                        <td id=\"T_171a7_row6_col17\" class=\"data row6 col17\" >0.076185</td>\n",
       "                        <td id=\"T_171a7_row6_col18\" class=\"data row6 col18\" >0.002612</td>\n",
       "                        <td id=\"T_171a7_row6_col19\" class=\"data row6 col19\" >0.008440</td>\n",
       "                        <td id=\"T_171a7_row6_col20\" class=\"data row6 col20\" >0.047226</td>\n",
       "            </tr>\n",
       "            <tr>\n",
       "                        <th id=\"T_171a7_level0_row7\" class=\"row_heading level0 row7\" >bulk_4</th>\n",
       "                        <td id=\"T_171a7_row7_col0\" class=\"data row7 col0\" >0.164035</td>\n",
       "                        <td id=\"T_171a7_row7_col1\" class=\"data row7 col1\" >0.181629</td>\n",
       "                        <td id=\"T_171a7_row7_col2\" class=\"data row7 col2\" >-0.048360</td>\n",
       "                        <td id=\"T_171a7_row7_col3\" class=\"data row7 col3\" >-0.032244</td>\n",
       "                        <td id=\"T_171a7_row7_col4\" class=\"data row7 col4\" >0.024308</td>\n",
       "                        <td id=\"T_171a7_row7_col5\" class=\"data row7 col5\" >0.044846</td>\n",
       "                        <td id=\"T_171a7_row7_col6\" class=\"data row7 col6\" >-0.295715</td>\n",
       "                        <td id=\"T_171a7_row7_col7\" class=\"data row7 col7\" >1.000000</td>\n",
       "                        <td id=\"T_171a7_row7_col8\" class=\"data row7 col8\" >0.033695</td>\n",
       "                        <td id=\"T_171a7_row7_col9\" class=\"data row7 col9\" >-0.252113</td>\n",
       "                        <td id=\"T_171a7_row7_col10\" class=\"data row7 col10\" >-0.082954</td>\n",
       "                        <td id=\"T_171a7_row7_col11\" class=\"data row7 col11\" >-0.120878</td>\n",
       "                        <td id=\"T_171a7_row7_col12\" class=\"data row7 col12\" >0.102552</td>\n",
       "                        <td id=\"T_171a7_row7_col13\" class=\"data row7 col13\" >-0.095143</td>\n",
       "                        <td id=\"T_171a7_row7_col14\" class=\"data row7 col14\" >0.105716</td>\n",
       "                        <td id=\"T_171a7_row7_col15\" class=\"data row7 col15\" >0.107856</td>\n",
       "                        <td id=\"T_171a7_row7_col16\" class=\"data row7 col16\" >0.304142</td>\n",
       "                        <td id=\"T_171a7_row7_col17\" class=\"data row7 col17\" >-0.273407</td>\n",
       "                        <td id=\"T_171a7_row7_col18\" class=\"data row7 col18\" >-0.037626</td>\n",
       "                        <td id=\"T_171a7_row7_col19\" class=\"data row7 col19\" >-0.011443</td>\n",
       "                        <td id=\"T_171a7_row7_col20\" class=\"data row7 col20\" >-0.213224</td>\n",
       "            </tr>\n",
       "            <tr>\n",
       "                        <th id=\"T_171a7_level0_row8\" class=\"row_heading level0 row8\" >bulk_5</th>\n",
       "                        <td id=\"T_171a7_row8_col0\" class=\"data row8 col0\" >0.078779</td>\n",
       "                        <td id=\"T_171a7_row8_col1\" class=\"data row8 col1\" >-0.050130</td>\n",
       "                        <td id=\"T_171a7_row8_col2\" class=\"data row8 col2\" >-0.064943</td>\n",
       "                        <td id=\"T_171a7_row8_col3\" class=\"data row8 col3\" >0.030013</td>\n",
       "                        <td id=\"T_171a7_row8_col4\" class=\"data row8 col4\" >0.128128</td>\n",
       "                        <td id=\"T_171a7_row8_col5\" class=\"data row8 col5\" >0.087413</td>\n",
       "                        <td id=\"T_171a7_row8_col6\" class=\"data row8 col6\" >-0.041499</td>\n",
       "                        <td id=\"T_171a7_row8_col7\" class=\"data row8 col7\" >0.033695</td>\n",
       "                        <td id=\"T_171a7_row8_col8\" class=\"data row8 col8\" >1.000000</td>\n",
       "                        <td id=\"T_171a7_row8_col9\" class=\"data row8 col9\" >-0.023367</td>\n",
       "                        <td id=\"T_171a7_row8_col10\" class=\"data row8 col10\" >-0.030575</td>\n",
       "                        <td id=\"T_171a7_row8_col11\" class=\"data row8 col11\" >-0.016256</td>\n",
       "                        <td id=\"T_171a7_row8_col12\" class=\"data row8 col12\" >-0.085603</td>\n",
       "                        <td id=\"T_171a7_row8_col13\" class=\"data row8 col13\" >-0.072501</td>\n",
       "                        <td id=\"T_171a7_row8_col14\" class=\"data row8 col14\" >-0.075067</td>\n",
       "                        <td id=\"T_171a7_row8_col15\" class=\"data row8 col15\" >0.078542</td>\n",
       "                        <td id=\"T_171a7_row8_col16\" class=\"data row8 col16\" >-0.016888</td>\n",
       "                        <td id=\"T_171a7_row8_col17\" class=\"data row8 col17\" >-0.008150</td>\n",
       "                        <td id=\"T_171a7_row8_col18\" class=\"data row8 col18\" >0.091790</td>\n",
       "                        <td id=\"T_171a7_row8_col19\" class=\"data row8 col19\" >0.253711</td>\n",
       "                        <td id=\"T_171a7_row8_col20\" class=\"data row8 col20\" >0.115411</td>\n",
       "            </tr>\n",
       "            <tr>\n",
       "                        <th id=\"T_171a7_level0_row9\" class=\"row_heading level0 row9\" >bulk_6</th>\n",
       "                        <td id=\"T_171a7_row9_col0\" class=\"data row9 col0\" >-0.139158</td>\n",
       "                        <td id=\"T_171a7_row9_col1\" class=\"data row9 col1\" >-0.180496</td>\n",
       "                        <td id=\"T_171a7_row9_col2\" class=\"data row9 col2\" >0.044917</td>\n",
       "                        <td id=\"T_171a7_row9_col3\" class=\"data row9 col3\" >0.162804</td>\n",
       "                        <td id=\"T_171a7_row9_col4\" class=\"data row9 col4\" >0.144588</td>\n",
       "                        <td id=\"T_171a7_row9_col5\" class=\"data row9 col5\" >0.003782</td>\n",
       "                        <td id=\"T_171a7_row9_col6\" class=\"data row9 col6\" >0.071799</td>\n",
       "                        <td id=\"T_171a7_row9_col7\" class=\"data row9 col7\" >-0.252113</td>\n",
       "                        <td id=\"T_171a7_row9_col8\" class=\"data row9 col8\" >-0.023367</td>\n",
       "                        <td id=\"T_171a7_row9_col9\" class=\"data row9 col9\" >1.000000</td>\n",
       "                        <td id=\"T_171a7_row9_col10\" class=\"data row9 col10\" >-0.097828</td>\n",
       "                        <td id=\"T_171a7_row9_col11\" class=\"data row9 col11\" >0.204246</td>\n",
       "                        <td id=\"T_171a7_row9_col12\" class=\"data row9 col12\" >-0.105013</td>\n",
       "                        <td id=\"T_171a7_row9_col13\" class=\"data row9 col13\" >0.186619</td>\n",
       "                        <td id=\"T_171a7_row9_col14\" class=\"data row9 col14\" >-0.113294</td>\n",
       "                        <td id=\"T_171a7_row9_col15\" class=\"data row9 col15\" >0.127637</td>\n",
       "                        <td id=\"T_171a7_row9_col16\" class=\"data row9 col16\" >-0.245975</td>\n",
       "                        <td id=\"T_171a7_row9_col17\" class=\"data row9 col17\" >0.163737</td>\n",
       "                        <td id=\"T_171a7_row9_col18\" class=\"data row9 col18\" >-0.046663</td>\n",
       "                        <td id=\"T_171a7_row9_col19\" class=\"data row9 col19\" >-0.020207</td>\n",
       "                        <td id=\"T_171a7_row9_col20\" class=\"data row9 col20\" >0.082410</td>\n",
       "            </tr>\n",
       "            <tr>\n",
       "                        <th id=\"T_171a7_level0_row10\" class=\"row_heading level0 row10\" >bulk_10</th>\n",
       "                        <td id=\"T_171a7_row10_col0\" class=\"data row10 col0\" >0.035161</td>\n",
       "                        <td id=\"T_171a7_row10_col1\" class=\"data row10 col1\" >0.051987</td>\n",
       "                        <td id=\"T_171a7_row10_col2\" class=\"data row10 col2\" >-0.018232</td>\n",
       "                        <td id=\"T_171a7_row10_col3\" class=\"data row10 col3\" >-0.015053</td>\n",
       "                        <td id=\"T_171a7_row10_col4\" class=\"data row10 col4\" >-0.012528</td>\n",
       "                        <td id=\"T_171a7_row10_col5\" class=\"data row10 col5\" >-0.026136</td>\n",
       "                        <td id=\"T_171a7_row10_col6\" class=\"data row10 col6\" >-0.085817</td>\n",
       "                        <td id=\"T_171a7_row10_col7\" class=\"data row10 col7\" >-0.082954</td>\n",
       "                        <td id=\"T_171a7_row10_col8\" class=\"data row10 col8\" >-0.030575</td>\n",
       "                        <td id=\"T_171a7_row10_col9\" class=\"data row10 col9\" >-0.097828</td>\n",
       "                        <td id=\"T_171a7_row10_col10\" class=\"data row10 col10\" >1.000000</td>\n",
       "                        <td id=\"T_171a7_row10_col11\" class=\"data row10 col11\" >-0.046303</td>\n",
       "                        <td id=\"T_171a7_row10_col12\" class=\"data row10 col12\" >0.022355</td>\n",
       "                        <td id=\"T_171a7_row10_col13\" class=\"data row10 col13\" >-0.052936</td>\n",
       "                        <td id=\"T_171a7_row10_col14\" class=\"data row10 col14\" >0.047466</td>\n",
       "                        <td id=\"T_171a7_row10_col15\" class=\"data row10 col15\" >0.100984</td>\n",
       "                        <td id=\"T_171a7_row10_col16\" class=\"data row10 col16\" >0.065062</td>\n",
       "                        <td id=\"T_171a7_row10_col17\" class=\"data row10 col17\" >-0.105103</td>\n",
       "                        <td id=\"T_171a7_row10_col18\" class=\"data row10 col18\" >-0.028002</td>\n",
       "                        <td id=\"T_171a7_row10_col19\" class=\"data row10 col19\" >-0.018142</td>\n",
       "                        <td id=\"T_171a7_row10_col20\" class=\"data row10 col20\" >-0.101543</td>\n",
       "            </tr>\n",
       "            <tr>\n",
       "                        <th id=\"T_171a7_level0_row11\" class=\"row_heading level0 row11\" >bulk_11</th>\n",
       "                        <td id=\"T_171a7_row11_col0\" class=\"data row11 col0\" >-0.109887</td>\n",
       "                        <td id=\"T_171a7_row11_col1\" class=\"data row11 col1\" >-0.116741</td>\n",
       "                        <td id=\"T_171a7_row11_col2\" class=\"data row11 col2\" >0.038124</td>\n",
       "                        <td id=\"T_171a7_row11_col3\" class=\"data row11 col3\" >0.082722</td>\n",
       "                        <td id=\"T_171a7_row11_col4\" class=\"data row11 col4\" >0.048593</td>\n",
       "                        <td id=\"T_171a7_row11_col5\" class=\"data row11 col5\" >-0.038685</td>\n",
       "                        <td id=\"T_171a7_row11_col6\" class=\"data row11 col6\" >-0.005562</td>\n",
       "                        <td id=\"T_171a7_row11_col7\" class=\"data row11 col7\" >-0.120878</td>\n",
       "                        <td id=\"T_171a7_row11_col8\" class=\"data row11 col8\" >-0.016256</td>\n",
       "                        <td id=\"T_171a7_row11_col9\" class=\"data row11 col9\" >0.204246</td>\n",
       "                        <td id=\"T_171a7_row11_col10\" class=\"data row11 col10\" >-0.046303</td>\n",
       "                        <td id=\"T_171a7_row11_col11\" class=\"data row11 col11\" >1.000000</td>\n",
       "                        <td id=\"T_171a7_row11_col12\" class=\"data row11 col12\" >-0.040470</td>\n",
       "                        <td id=\"T_171a7_row11_col13\" class=\"data row11 col13\" >0.079903</td>\n",
       "                        <td id=\"T_171a7_row11_col14\" class=\"data row11 col14\" >-0.049585</td>\n",
       "                        <td id=\"T_171a7_row11_col15\" class=\"data row11 col15\" >0.134414</td>\n",
       "                        <td id=\"T_171a7_row11_col16\" class=\"data row11 col16\" >-0.117347</td>\n",
       "                        <td id=\"T_171a7_row11_col17\" class=\"data row11 col17\" >0.083235</td>\n",
       "                        <td id=\"T_171a7_row11_col18\" class=\"data row11 col18\" >-0.022078</td>\n",
       "                        <td id=\"T_171a7_row11_col19\" class=\"data row11 col19\" >0.008128</td>\n",
       "                        <td id=\"T_171a7_row11_col20\" class=\"data row11 col20\" >0.030511</td>\n",
       "            </tr>\n",
       "            <tr>\n",
       "                        <th id=\"T_171a7_level0_row12\" class=\"row_heading level0 row12\" >bulk_12</th>\n",
       "                        <td id=\"T_171a7_row12_col0\" class=\"data row12 col0\" >-0.087972</td>\n",
       "                        <td id=\"T_171a7_row12_col1\" class=\"data row12 col1\" >0.259713</td>\n",
       "                        <td id=\"T_171a7_row12_col2\" class=\"data row12 col2\" >0.399785</td>\n",
       "                        <td id=\"T_171a7_row12_col3\" class=\"data row12 col3\" >0.450547</td>\n",
       "                        <td id=\"T_171a7_row12_col4\" class=\"data row12 col4\" >0.167252</td>\n",
       "                        <td id=\"T_171a7_row12_col5\" class=\"data row12 col5\" >0.272616</td>\n",
       "                        <td id=\"T_171a7_row12_col6\" class=\"data row12 col6\" >0.019659</td>\n",
       "                        <td id=\"T_171a7_row12_col7\" class=\"data row12 col7\" >0.102552</td>\n",
       "                        <td id=\"T_171a7_row12_col8\" class=\"data row12 col8\" >-0.085603</td>\n",
       "                        <td id=\"T_171a7_row12_col9\" class=\"data row12 col9\" >-0.105013</td>\n",
       "                        <td id=\"T_171a7_row12_col10\" class=\"data row12 col10\" >0.022355</td>\n",
       "                        <td id=\"T_171a7_row12_col11\" class=\"data row12 col11\" >-0.040470</td>\n",
       "                        <td id=\"T_171a7_row12_col12\" class=\"data row12 col12\" >1.000000</td>\n",
       "                        <td id=\"T_171a7_row12_col13\" class=\"data row12 col13\" >0.464363</td>\n",
       "                        <td id=\"T_171a7_row12_col14\" class=\"data row12 col14\" >0.641754</td>\n",
       "                        <td id=\"T_171a7_row12_col15\" class=\"data row12 col15\" >0.603831</td>\n",
       "                        <td id=\"T_171a7_row12_col16\" class=\"data row12 col16\" >0.179588</td>\n",
       "                        <td id=\"T_171a7_row12_col17\" class=\"data row12 col17\" >-0.113044</td>\n",
       "                        <td id=\"T_171a7_row12_col18\" class=\"data row12 col18\" >-0.121968</td>\n",
       "                        <td id=\"T_171a7_row12_col19\" class=\"data row12 col19\" >-0.043994</td>\n",
       "                        <td id=\"T_171a7_row12_col20\" class=\"data row12 col20\" >-0.151514</td>\n",
       "            </tr>\n",
       "            <tr>\n",
       "                        <th id=\"T_171a7_level0_row13\" class=\"row_heading level0 row13\" >bulk_14</th>\n",
       "                        <td id=\"T_171a7_row13_col0\" class=\"data row13 col0\" >-0.186573</td>\n",
       "                        <td id=\"T_171a7_row13_col1\" class=\"data row13 col1\" >0.106826</td>\n",
       "                        <td id=\"T_171a7_row13_col2\" class=\"data row13 col2\" >0.343141</td>\n",
       "                        <td id=\"T_171a7_row13_col3\" class=\"data row13 col3\" >0.451743</td>\n",
       "                        <td id=\"T_171a7_row13_col4\" class=\"data row13 col4\" >0.253600</td>\n",
       "                        <td id=\"T_171a7_row13_col5\" class=\"data row13 col5\" >0.176510</td>\n",
       "                        <td id=\"T_171a7_row13_col6\" class=\"data row13 col6\" >0.015478</td>\n",
       "                        <td id=\"T_171a7_row13_col7\" class=\"data row13 col7\" >-0.095143</td>\n",
       "                        <td id=\"T_171a7_row13_col8\" class=\"data row13 col8\" >-0.072501</td>\n",
       "                        <td id=\"T_171a7_row13_col9\" class=\"data row13 col9\" >0.186619</td>\n",
       "                        <td id=\"T_171a7_row13_col10\" class=\"data row13 col10\" >-0.052936</td>\n",
       "                        <td id=\"T_171a7_row13_col11\" class=\"data row13 col11\" >0.079903</td>\n",
       "                        <td id=\"T_171a7_row13_col12\" class=\"data row13 col12\" >0.464363</td>\n",
       "                        <td id=\"T_171a7_row13_col13\" class=\"data row13 col13\" >1.000000</td>\n",
       "                        <td id=\"T_171a7_row13_col14\" class=\"data row13 col14\" >0.265872</td>\n",
       "                        <td id=\"T_171a7_row13_col15\" class=\"data row13 col15\" >0.419496</td>\n",
       "                        <td id=\"T_171a7_row13_col16\" class=\"data row13 col16\" >-0.053415</td>\n",
       "                        <td id=\"T_171a7_row13_col17\" class=\"data row13 col17\" >0.041844</td>\n",
       "                        <td id=\"T_171a7_row13_col18\" class=\"data row13 col18\" >-0.000608</td>\n",
       "                        <td id=\"T_171a7_row13_col19\" class=\"data row13 col19\" >-0.053769</td>\n",
       "                        <td id=\"T_171a7_row13_col20\" class=\"data row13 col20\" >-0.010144</td>\n",
       "            </tr>\n",
       "            <tr>\n",
       "                        <th id=\"T_171a7_level0_row14\" class=\"row_heading level0 row14\" >bulk_15</th>\n",
       "                        <td id=\"T_171a7_row14_col0\" class=\"data row14 col0\" >-0.060975</td>\n",
       "                        <td id=\"T_171a7_row14_col1\" class=\"data row14 col1\" >0.267370</td>\n",
       "                        <td id=\"T_171a7_row14_col2\" class=\"data row14 col2\" >0.337141</td>\n",
       "                        <td id=\"T_171a7_row14_col3\" class=\"data row14 col3\" >0.296155</td>\n",
       "                        <td id=\"T_171a7_row14_col4\" class=\"data row14 col4\" >0.049961</td>\n",
       "                        <td id=\"T_171a7_row14_col5\" class=\"data row14 col5\" >0.007202</td>\n",
       "                        <td id=\"T_171a7_row14_col6\" class=\"data row14 col6\" >-0.011479</td>\n",
       "                        <td id=\"T_171a7_row14_col7\" class=\"data row14 col7\" >0.105716</td>\n",
       "                        <td id=\"T_171a7_row14_col8\" class=\"data row14 col8\" >-0.075067</td>\n",
       "                        <td id=\"T_171a7_row14_col9\" class=\"data row14 col9\" >-0.113294</td>\n",
       "                        <td id=\"T_171a7_row14_col10\" class=\"data row14 col10\" >0.047466</td>\n",
       "                        <td id=\"T_171a7_row14_col11\" class=\"data row14 col11\" >-0.049585</td>\n",
       "                        <td id=\"T_171a7_row14_col12\" class=\"data row14 col12\" >0.641754</td>\n",
       "                        <td id=\"T_171a7_row14_col13\" class=\"data row14 col13\" >0.265872</td>\n",
       "                        <td id=\"T_171a7_row14_col14\" class=\"data row14 col14\" >1.000000</td>\n",
       "                        <td id=\"T_171a7_row14_col15\" class=\"data row14 col15\" >0.633019</td>\n",
       "                        <td id=\"T_171a7_row14_col16\" class=\"data row14 col16\" >0.124889</td>\n",
       "                        <td id=\"T_171a7_row14_col17\" class=\"data row14 col17\" >-0.088995</td>\n",
       "                        <td id=\"T_171a7_row14_col18\" class=\"data row14 col18\" >-0.116808</td>\n",
       "                        <td id=\"T_171a7_row14_col19\" class=\"data row14 col19\" >-0.033499</td>\n",
       "                        <td id=\"T_171a7_row14_col20\" class=\"data row14 col20\" >-0.124584</td>\n",
       "            </tr>\n",
       "            <tr>\n",
       "                        <th id=\"T_171a7_level0_row15\" class=\"row_heading level0 row15\" >count_bulk</th>\n",
       "                        <td id=\"T_171a7_row15_col0\" class=\"data row15 col0\" >-0.070262</td>\n",
       "                        <td id=\"T_171a7_row15_col1\" class=\"data row15 col1\" >0.098639</td>\n",
       "                        <td id=\"T_171a7_row15_col2\" class=\"data row15 col2\" >0.258310</td>\n",
       "                        <td id=\"T_171a7_row15_col3\" class=\"data row15 col3\" >0.337870</td>\n",
       "                        <td id=\"T_171a7_row15_col4\" class=\"data row15 col4\" >0.221715</td>\n",
       "                        <td id=\"T_171a7_row15_col5\" class=\"data row15 col5\" >0.272273</td>\n",
       "                        <td id=\"T_171a7_row15_col6\" class=\"data row15 col6\" >0.163274</td>\n",
       "                        <td id=\"T_171a7_row15_col7\" class=\"data row15 col7\" >0.107856</td>\n",
       "                        <td id=\"T_171a7_row15_col8\" class=\"data row15 col8\" >0.078542</td>\n",
       "                        <td id=\"T_171a7_row15_col9\" class=\"data row15 col9\" >0.127637</td>\n",
       "                        <td id=\"T_171a7_row15_col10\" class=\"data row15 col10\" >0.100984</td>\n",
       "                        <td id=\"T_171a7_row15_col11\" class=\"data row15 col11\" >0.134414</td>\n",
       "                        <td id=\"T_171a7_row15_col12\" class=\"data row15 col12\" >0.603831</td>\n",
       "                        <td id=\"T_171a7_row15_col13\" class=\"data row15 col13\" >0.419496</td>\n",
       "                        <td id=\"T_171a7_row15_col14\" class=\"data row15 col14\" >0.633019</td>\n",
       "                        <td id=\"T_171a7_row15_col15\" class=\"data row15 col15\" >1.000000</td>\n",
       "                        <td id=\"T_171a7_row15_col16\" class=\"data row15 col16\" >0.064491</td>\n",
       "                        <td id=\"T_171a7_row15_col17\" class=\"data row15 col17\" >-0.069832</td>\n",
       "                        <td id=\"T_171a7_row15_col18\" class=\"data row15 col18\" >-0.086282</td>\n",
       "                        <td id=\"T_171a7_row15_col19\" class=\"data row15 col19\" >0.060704</td>\n",
       "                        <td id=\"T_171a7_row15_col20\" class=\"data row15 col20\" >-0.073212</td>\n",
       "            </tr>\n",
       "            <tr>\n",
       "                        <th id=\"T_171a7_level0_row16\" class=\"row_heading level0 row16\" >wire_1</th>\n",
       "                        <td id=\"T_171a7_row16_col0\" class=\"data row16 col0\" >0.247849</td>\n",
       "                        <td id=\"T_171a7_row16_col1\" class=\"data row16 col1\" >0.305285</td>\n",
       "                        <td id=\"T_171a7_row16_col2\" class=\"data row16 col2\" >-0.129633</td>\n",
       "                        <td id=\"T_171a7_row16_col3\" class=\"data row16 col3\" >0.038370</td>\n",
       "                        <td id=\"T_171a7_row16_col4\" class=\"data row16 col4\" >0.100723</td>\n",
       "                        <td id=\"T_171a7_row16_col5\" class=\"data row16 col5\" >0.017312</td>\n",
       "                        <td id=\"T_171a7_row16_col6\" class=\"data row16 col6\" >0.025450</td>\n",
       "                        <td id=\"T_171a7_row16_col7\" class=\"data row16 col7\" >0.304142</td>\n",
       "                        <td id=\"T_171a7_row16_col8\" class=\"data row16 col8\" >-0.016888</td>\n",
       "                        <td id=\"T_171a7_row16_col9\" class=\"data row16 col9\" >-0.245975</td>\n",
       "                        <td id=\"T_171a7_row16_col10\" class=\"data row16 col10\" >0.065062</td>\n",
       "                        <td id=\"T_171a7_row16_col11\" class=\"data row16 col11\" >-0.117347</td>\n",
       "                        <td id=\"T_171a7_row16_col12\" class=\"data row16 col12\" >0.179588</td>\n",
       "                        <td id=\"T_171a7_row16_col13\" class=\"data row16 col13\" >-0.053415</td>\n",
       "                        <td id=\"T_171a7_row16_col14\" class=\"data row16 col14\" >0.124889</td>\n",
       "                        <td id=\"T_171a7_row16_col15\" class=\"data row16 col15\" >0.064491</td>\n",
       "                        <td id=\"T_171a7_row16_col16\" class=\"data row16 col16\" >1.000000</td>\n",
       "                        <td id=\"T_171a7_row16_col17\" class=\"data row16 col17\" >-0.098195</td>\n",
       "                        <td id=\"T_171a7_row16_col18\" class=\"data row16 col18\" >0.037294</td>\n",
       "                        <td id=\"T_171a7_row16_col19\" class=\"data row16 col19\" >-0.132823</td>\n",
       "                        <td id=\"T_171a7_row16_col20\" class=\"data row16 col20\" >-0.080705</td>\n",
       "            </tr>\n",
       "            <tr>\n",
       "                        <th id=\"T_171a7_level0_row17\" class=\"row_heading level0 row17\" >wire_2</th>\n",
       "                        <td id=\"T_171a7_row17_col0\" class=\"data row17 col0\" >-0.135001</td>\n",
       "                        <td id=\"T_171a7_row17_col1\" class=\"data row17 col1\" >-0.214416</td>\n",
       "                        <td id=\"T_171a7_row17_col2\" class=\"data row17 col2\" >0.003934</td>\n",
       "                        <td id=\"T_171a7_row17_col3\" class=\"data row17 col3\" >0.040894</td>\n",
       "                        <td id=\"T_171a7_row17_col4\" class=\"data row17 col4\" >0.066883</td>\n",
       "                        <td id=\"T_171a7_row17_col5\" class=\"data row17 col5\" >-0.051086</td>\n",
       "                        <td id=\"T_171a7_row17_col6\" class=\"data row17 col6\" >0.076185</td>\n",
       "                        <td id=\"T_171a7_row17_col7\" class=\"data row17 col7\" >-0.273407</td>\n",
       "                        <td id=\"T_171a7_row17_col8\" class=\"data row17 col8\" >-0.008150</td>\n",
       "                        <td id=\"T_171a7_row17_col9\" class=\"data row17 col9\" >0.163737</td>\n",
       "                        <td id=\"T_171a7_row17_col10\" class=\"data row17 col10\" >-0.105103</td>\n",
       "                        <td id=\"T_171a7_row17_col11\" class=\"data row17 col11\" >0.083235</td>\n",
       "                        <td id=\"T_171a7_row17_col12\" class=\"data row17 col12\" >-0.113044</td>\n",
       "                        <td id=\"T_171a7_row17_col13\" class=\"data row17 col13\" >0.041844</td>\n",
       "                        <td id=\"T_171a7_row17_col14\" class=\"data row17 col14\" >-0.088995</td>\n",
       "                        <td id=\"T_171a7_row17_col15\" class=\"data row17 col15\" >-0.069832</td>\n",
       "                        <td id=\"T_171a7_row17_col16\" class=\"data row17 col16\" >-0.098195</td>\n",
       "                        <td id=\"T_171a7_row17_col17\" class=\"data row17 col17\" >1.000000</td>\n",
       "                        <td id=\"T_171a7_row17_col18\" class=\"data row17 col18\" >0.110065</td>\n",
       "                        <td id=\"T_171a7_row17_col19\" class=\"data row17 col19\" >-0.062009</td>\n",
       "                        <td id=\"T_171a7_row17_col20\" class=\"data row17 col20\" >0.669005</td>\n",
       "            </tr>\n",
       "            <tr>\n",
       "                        <th id=\"T_171a7_level0_row18\" class=\"row_heading level0 row18\" >wire_3</th>\n",
       "                        <td id=\"T_171a7_row18_col0\" class=\"data row18 col0\" >-0.004715</td>\n",
       "                        <td id=\"T_171a7_row18_col1\" class=\"data row18 col1\" >-0.047311</td>\n",
       "                        <td id=\"T_171a7_row18_col2\" class=\"data row18 col2\" >0.003893</td>\n",
       "                        <td id=\"T_171a7_row18_col3\" class=\"data row18 col3\" >0.039681</td>\n",
       "                        <td id=\"T_171a7_row18_col4\" class=\"data row18 col4\" >0.112464</td>\n",
       "                        <td id=\"T_171a7_row18_col5\" class=\"data row18 col5\" >0.024928</td>\n",
       "                        <td id=\"T_171a7_row18_col6\" class=\"data row18 col6\" >0.002612</td>\n",
       "                        <td id=\"T_171a7_row18_col7\" class=\"data row18 col7\" >-0.037626</td>\n",
       "                        <td id=\"T_171a7_row18_col8\" class=\"data row18 col8\" >0.091790</td>\n",
       "                        <td id=\"T_171a7_row18_col9\" class=\"data row18 col9\" >-0.046663</td>\n",
       "                        <td id=\"T_171a7_row18_col10\" class=\"data row18 col10\" >-0.028002</td>\n",
       "                        <td id=\"T_171a7_row18_col11\" class=\"data row18 col11\" >-0.022078</td>\n",
       "                        <td id=\"T_171a7_row18_col12\" class=\"data row18 col12\" >-0.121968</td>\n",
       "                        <td id=\"T_171a7_row18_col13\" class=\"data row18 col13\" >-0.000608</td>\n",
       "                        <td id=\"T_171a7_row18_col14\" class=\"data row18 col14\" >-0.116808</td>\n",
       "                        <td id=\"T_171a7_row18_col15\" class=\"data row18 col15\" >-0.086282</td>\n",
       "                        <td id=\"T_171a7_row18_col16\" class=\"data row18 col16\" >0.037294</td>\n",
       "                        <td id=\"T_171a7_row18_col17\" class=\"data row18 col17\" >0.110065</td>\n",
       "                        <td id=\"T_171a7_row18_col18\" class=\"data row18 col18\" >1.000000</td>\n",
       "                        <td id=\"T_171a7_row18_col19\" class=\"data row18 col19\" >0.187918</td>\n",
       "                        <td id=\"T_171a7_row18_col20\" class=\"data row18 col20\" >0.340021</td>\n",
       "            </tr>\n",
       "            <tr>\n",
       "                        <th id=\"T_171a7_level0_row19\" class=\"row_heading level0 row19\" >wire_6</th>\n",
       "                        <td id=\"T_171a7_row19_col0\" class=\"data row19 col0\" >0.022817</td>\n",
       "                        <td id=\"T_171a7_row19_col1\" class=\"data row19 col1\" >-0.085836</td>\n",
       "                        <td id=\"T_171a7_row19_col2\" class=\"data row19 col2\" >0.035604</td>\n",
       "                        <td id=\"T_171a7_row19_col3\" class=\"data row19 col3\" >0.044871</td>\n",
       "                        <td id=\"T_171a7_row19_col4\" class=\"data row19 col4\" >0.116721</td>\n",
       "                        <td id=\"T_171a7_row19_col5\" class=\"data row19 col5\" >0.161197</td>\n",
       "                        <td id=\"T_171a7_row19_col6\" class=\"data row19 col6\" >0.008440</td>\n",
       "                        <td id=\"T_171a7_row19_col7\" class=\"data row19 col7\" >-0.011443</td>\n",
       "                        <td id=\"T_171a7_row19_col8\" class=\"data row19 col8\" >0.253711</td>\n",
       "                        <td id=\"T_171a7_row19_col9\" class=\"data row19 col9\" >-0.020207</td>\n",
       "                        <td id=\"T_171a7_row19_col10\" class=\"data row19 col10\" >-0.018142</td>\n",
       "                        <td id=\"T_171a7_row19_col11\" class=\"data row19 col11\" >0.008128</td>\n",
       "                        <td id=\"T_171a7_row19_col12\" class=\"data row19 col12\" >-0.043994</td>\n",
       "                        <td id=\"T_171a7_row19_col13\" class=\"data row19 col13\" >-0.053769</td>\n",
       "                        <td id=\"T_171a7_row19_col14\" class=\"data row19 col14\" >-0.033499</td>\n",
       "                        <td id=\"T_171a7_row19_col15\" class=\"data row19 col15\" >0.060704</td>\n",
       "                        <td id=\"T_171a7_row19_col16\" class=\"data row19 col16\" >-0.132823</td>\n",
       "                        <td id=\"T_171a7_row19_col17\" class=\"data row19 col17\" >-0.062009</td>\n",
       "                        <td id=\"T_171a7_row19_col18\" class=\"data row19 col18\" >0.187918</td>\n",
       "                        <td id=\"T_171a7_row19_col19\" class=\"data row19 col19\" >1.000000</td>\n",
       "                        <td id=\"T_171a7_row19_col20\" class=\"data row19 col20\" >0.271036</td>\n",
       "            </tr>\n",
       "            <tr>\n",
       "                        <th id=\"T_171a7_level0_row20\" class=\"row_heading level0 row20\" >count_wire</th>\n",
       "                        <td id=\"T_171a7_row20_col0\" class=\"data row20 col0\" >-0.062795</td>\n",
       "                        <td id=\"T_171a7_row20_col1\" class=\"data row20 col1\" >-0.196016</td>\n",
       "                        <td id=\"T_171a7_row20_col2\" class=\"data row20 col2\" >-0.021974</td>\n",
       "                        <td id=\"T_171a7_row20_col3\" class=\"data row20 col3\" >0.035845</td>\n",
       "                        <td id=\"T_171a7_row20_col4\" class=\"data row20 col4\" >0.137834</td>\n",
       "                        <td id=\"T_171a7_row20_col5\" class=\"data row20 col5\" >0.039262</td>\n",
       "                        <td id=\"T_171a7_row20_col6\" class=\"data row20 col6\" >0.047226</td>\n",
       "                        <td id=\"T_171a7_row20_col7\" class=\"data row20 col7\" >-0.213224</td>\n",
       "                        <td id=\"T_171a7_row20_col8\" class=\"data row20 col8\" >0.115411</td>\n",
       "                        <td id=\"T_171a7_row20_col9\" class=\"data row20 col9\" >0.082410</td>\n",
       "                        <td id=\"T_171a7_row20_col10\" class=\"data row20 col10\" >-0.101543</td>\n",
       "                        <td id=\"T_171a7_row20_col11\" class=\"data row20 col11\" >0.030511</td>\n",
       "                        <td id=\"T_171a7_row20_col12\" class=\"data row20 col12\" >-0.151514</td>\n",
       "                        <td id=\"T_171a7_row20_col13\" class=\"data row20 col13\" >-0.010144</td>\n",
       "                        <td id=\"T_171a7_row20_col14\" class=\"data row20 col14\" >-0.124584</td>\n",
       "                        <td id=\"T_171a7_row20_col15\" class=\"data row20 col15\" >-0.073212</td>\n",
       "                        <td id=\"T_171a7_row20_col16\" class=\"data row20 col16\" >-0.080705</td>\n",
       "                        <td id=\"T_171a7_row20_col17\" class=\"data row20 col17\" >0.669005</td>\n",
       "                        <td id=\"T_171a7_row20_col18\" class=\"data row20 col18\" >0.340021</td>\n",
       "                        <td id=\"T_171a7_row20_col19\" class=\"data row20 col19\" >0.271036</td>\n",
       "                        <td id=\"T_171a7_row20_col20\" class=\"data row20 col20\" >1.000000</td>\n",
       "            </tr>\n",
       "    </tbody></table>"
      ],
      "text/plain": [
       "<pandas.io.formats.style.Styler at 0x7f30962707f0>"
      ]
     },
     "execution_count": 51,
     "metadata": {},
     "output_type": "execute_result"
    }
   ],
   "source": [
    "final_dataset= final_dataset.drop(['active_power', 'reactive_power', 'heating_count'], axis =1)\n",
    "corr_matrix =final_dataset.corr()\n",
    "corr_matrix.style.background_gradient(cmap='coolwarm')"
   ]
  },
  {
   "cell_type": "markdown",
   "metadata": {},
   "source": [
    "В итоге, после проверки корреляции у нас осталось 19 признаков, на которых мы будем обучать наши модели."
   ]
  },
  {
   "cell_type": "markdown",
   "metadata": {},
   "source": [
    "### Подготовка обучающей и тестовой выборки"
   ]
  },
  {
   "cell_type": "markdown",
   "metadata": {},
   "source": [
    "По условиям задачи, 25% от нашего финального датасета мы резервируем для тестирования модели. Это вполне адекватная доля при условии, что наш датасет очень небольшой."
   ]
  },
  {
   "cell_type": "code",
   "execution_count": 52,
   "metadata": {},
   "outputs": [],
   "source": [
    "features = final_dataset.drop(['last_temp'], axis =1)\n",
    "target = final_dataset['last_temp']\n",
    "features_train,features_test, target_train,  target_test = train_test_split(features, target,\n",
    "                                                                            test_size = 0.25,\n",
    "                                                                            random_state = rs)"
   ]
  },
  {
   "cell_type": "markdown",
   "metadata": {},
   "source": [
    "Признаки, используемые для обучения, мы должны масштабировать до обучения модели, чтобы сбалансировать вес всех признаков между собой."
   ]
  },
  {
   "cell_type": "code",
   "execution_count": 53,
   "metadata": {},
   "outputs": [
    {
     "data": {
      "text/html": [
       "<div>\n",
       "<style scoped>\n",
       "    .dataframe tbody tr th:only-of-type {\n",
       "        vertical-align: middle;\n",
       "    }\n",
       "\n",
       "    .dataframe tbody tr th {\n",
       "        vertical-align: top;\n",
       "    }\n",
       "\n",
       "    .dataframe thead th {\n",
       "        text-align: right;\n",
       "    }\n",
       "</style>\n",
       "<table border=\"1\" class=\"dataframe\">\n",
       "  <thead>\n",
       "    <tr style=\"text-align: right;\">\n",
       "      <th></th>\n",
       "      <th>first_temp</th>\n",
       "      <th>apparent_power</th>\n",
       "      <th>heat_length_s</th>\n",
       "      <th>gas_total</th>\n",
       "      <th>bulk_1</th>\n",
       "      <th>bulk_3</th>\n",
       "      <th>bulk_4</th>\n",
       "      <th>bulk_5</th>\n",
       "      <th>bulk_6</th>\n",
       "      <th>bulk_10</th>\n",
       "      <th>bulk_11</th>\n",
       "      <th>bulk_12</th>\n",
       "      <th>bulk_14</th>\n",
       "      <th>bulk_15</th>\n",
       "      <th>count_bulk</th>\n",
       "      <th>wire_1</th>\n",
       "      <th>wire_2</th>\n",
       "      <th>wire_3</th>\n",
       "      <th>wire_6</th>\n",
       "      <th>count_wire</th>\n",
       "    </tr>\n",
       "  </thead>\n",
       "  <tbody>\n",
       "    <tr>\n",
       "      <th>0</th>\n",
       "      <td>0.136807</td>\n",
       "      <td>-0.395994</td>\n",
       "      <td>-1.148075</td>\n",
       "      <td>-0.326166</td>\n",
       "      <td>-0.283544</td>\n",
       "      <td>2.546679</td>\n",
       "      <td>-0.634208</td>\n",
       "      <td>-0.131006</td>\n",
       "      <td>-0.399492</td>\n",
       "      <td>-0.241482</td>\n",
       "      <td>-0.188736</td>\n",
       "      <td>1.025873</td>\n",
       "      <td>0.515122</td>\n",
       "      <td>-0.229747</td>\n",
       "      <td>0.330241</td>\n",
       "      <td>-0.301909</td>\n",
       "      <td>-0.550152</td>\n",
       "      <td>-0.108753</td>\n",
       "      <td>-0.113738</td>\n",
       "      <td>-0.697268</td>\n",
       "    </tr>\n",
       "    <tr>\n",
       "      <th>1</th>\n",
       "      <td>0.179721</td>\n",
       "      <td>-1.058049</td>\n",
       "      <td>-0.064178</td>\n",
       "      <td>0.313736</td>\n",
       "      <td>-0.283544</td>\n",
       "      <td>-0.627978</td>\n",
       "      <td>-0.634208</td>\n",
       "      <td>-0.131006</td>\n",
       "      <td>1.949823</td>\n",
       "      <td>-0.241482</td>\n",
       "      <td>-0.188736</td>\n",
       "      <td>-0.678916</td>\n",
       "      <td>1.970965</td>\n",
       "      <td>-1.430271</td>\n",
       "      <td>-0.489567</td>\n",
       "      <td>-1.540021</td>\n",
       "      <td>-0.550152</td>\n",
       "      <td>-0.108753</td>\n",
       "      <td>-0.113738</td>\n",
       "      <td>-0.697268</td>\n",
       "    </tr>\n",
       "    <tr>\n",
       "      <th>2</th>\n",
       "      <td>0.394295</td>\n",
       "      <td>-0.998648</td>\n",
       "      <td>-0.761404</td>\n",
       "      <td>-0.796214</td>\n",
       "      <td>-0.283544</td>\n",
       "      <td>0.479775</td>\n",
       "      <td>1.180884</td>\n",
       "      <td>-0.131006</td>\n",
       "      <td>-0.399492</td>\n",
       "      <td>-0.241482</td>\n",
       "      <td>-0.188736</td>\n",
       "      <td>-0.020696</td>\n",
       "      <td>-0.533578</td>\n",
       "      <td>-0.217861</td>\n",
       "      <td>1.150048</td>\n",
       "      <td>0.280304</td>\n",
       "      <td>-0.550152</td>\n",
       "      <td>-0.108753</td>\n",
       "      <td>-0.113738</td>\n",
       "      <td>-0.697268</td>\n",
       "    </tr>\n",
       "    <tr>\n",
       "      <th>3</th>\n",
       "      <td>0.694699</td>\n",
       "      <td>-2.132835</td>\n",
       "      <td>-1.540836</td>\n",
       "      <td>0.035914</td>\n",
       "      <td>-0.283544</td>\n",
       "      <td>-0.627978</td>\n",
       "      <td>2.010641</td>\n",
       "      <td>-0.131006</td>\n",
       "      <td>-0.399492</td>\n",
       "      <td>-0.241482</td>\n",
       "      <td>-0.188736</td>\n",
       "      <td>-0.672334</td>\n",
       "      <td>-0.101760</td>\n",
       "      <td>-0.788407</td>\n",
       "      <td>0.330241</td>\n",
       "      <td>0.499847</td>\n",
       "      <td>-0.550152</td>\n",
       "      <td>-0.108753</td>\n",
       "      <td>-0.113738</td>\n",
       "      <td>-0.697268</td>\n",
       "    </tr>\n",
       "    <tr>\n",
       "      <th>4</th>\n",
       "      <td>-0.678574</td>\n",
       "      <td>-0.208111</td>\n",
       "      <td>0.285957</td>\n",
       "      <td>-0.413547</td>\n",
       "      <td>-0.283544</td>\n",
       "      <td>-0.627978</td>\n",
       "      <td>1.371037</td>\n",
       "      <td>-0.131006</td>\n",
       "      <td>-0.399492</td>\n",
       "      <td>-0.241482</td>\n",
       "      <td>-0.188736</td>\n",
       "      <td>0.683598</td>\n",
       "      <td>0.552135</td>\n",
       "      <td>0.424003</td>\n",
       "      <td>0.330241</td>\n",
       "      <td>-0.495222</td>\n",
       "      <td>-0.550152</td>\n",
       "      <td>-0.108753</td>\n",
       "      <td>-0.113738</td>\n",
       "      <td>-0.697268</td>\n",
       "    </tr>\n",
       "    <tr>\n",
       "      <th>...</th>\n",
       "      <td>...</td>\n",
       "      <td>...</td>\n",
       "      <td>...</td>\n",
       "      <td>...</td>\n",
       "      <td>...</td>\n",
       "      <td>...</td>\n",
       "      <td>...</td>\n",
       "      <td>...</td>\n",
       "      <td>...</td>\n",
       "      <td>...</td>\n",
       "      <td>...</td>\n",
       "      <td>...</td>\n",
       "      <td>...</td>\n",
       "      <td>...</td>\n",
       "      <td>...</td>\n",
       "      <td>...</td>\n",
       "      <td>...</td>\n",
       "      <td>...</td>\n",
       "      <td>...</td>\n",
       "      <td>...</td>\n",
       "    </tr>\n",
       "    <tr>\n",
       "      <th>1693</th>\n",
       "      <td>0.780528</td>\n",
       "      <td>-0.964983</td>\n",
       "      <td>-0.262081</td>\n",
       "      <td>-0.000815</td>\n",
       "      <td>-0.283544</td>\n",
       "      <td>-0.627978</td>\n",
       "      <td>-0.634208</td>\n",
       "      <td>-0.131006</td>\n",
       "      <td>0.992025</td>\n",
       "      <td>-0.241482</td>\n",
       "      <td>-0.188736</td>\n",
       "      <td>-1.370046</td>\n",
       "      <td>1.206031</td>\n",
       "      <td>0.982663</td>\n",
       "      <td>-0.489567</td>\n",
       "      <td>-0.712187</td>\n",
       "      <td>1.254490</td>\n",
       "      <td>-0.108753</td>\n",
       "      <td>-0.113738</td>\n",
       "      <td>1.113070</td>\n",
       "    </tr>\n",
       "    <tr>\n",
       "      <th>1694</th>\n",
       "      <td>-0.807319</td>\n",
       "      <td>0.879209</td>\n",
       "      <td>-0.015464</td>\n",
       "      <td>-1.597891</td>\n",
       "      <td>-0.283544</td>\n",
       "      <td>-0.627978</td>\n",
       "      <td>0.852439</td>\n",
       "      <td>-0.131006</td>\n",
       "      <td>-0.399492</td>\n",
       "      <td>-0.241482</td>\n",
       "      <td>-0.188736</td>\n",
       "      <td>-0.007532</td>\n",
       "      <td>-0.644617</td>\n",
       "      <td>-0.217861</td>\n",
       "      <td>0.330241</td>\n",
       "      <td>0.183648</td>\n",
       "      <td>-0.550152</td>\n",
       "      <td>-0.108753</td>\n",
       "      <td>-0.113738</td>\n",
       "      <td>-0.697268</td>\n",
       "    </tr>\n",
       "    <tr>\n",
       "      <th>1695</th>\n",
       "      <td>2.196716</td>\n",
       "      <td>0.668842</td>\n",
       "      <td>1.707811</td>\n",
       "      <td>-0.036539</td>\n",
       "      <td>-0.283544</td>\n",
       "      <td>1.425417</td>\n",
       "      <td>-0.634208</td>\n",
       "      <td>-0.131006</td>\n",
       "      <td>-0.399492</td>\n",
       "      <td>-0.241482</td>\n",
       "      <td>-0.188736</td>\n",
       "      <td>1.973709</td>\n",
       "      <td>0.626161</td>\n",
       "      <td>1.006436</td>\n",
       "      <td>0.330241</td>\n",
       "      <td>-0.909138</td>\n",
       "      <td>0.710885</td>\n",
       "      <td>-0.108753</td>\n",
       "      <td>-0.113738</td>\n",
       "      <td>1.113070</td>\n",
       "    </tr>\n",
       "    <tr>\n",
       "      <th>1696</th>\n",
       "      <td>-0.635659</td>\n",
       "      <td>-0.412959</td>\n",
       "      <td>-0.045910</td>\n",
       "      <td>-0.288582</td>\n",
       "      <td>-0.283544</td>\n",
       "      <td>-0.627978</td>\n",
       "      <td>-0.634208</td>\n",
       "      <td>-0.131006</td>\n",
       "      <td>-0.399492</td>\n",
       "      <td>-0.241482</td>\n",
       "      <td>-0.188736</td>\n",
       "      <td>1.341818</td>\n",
       "      <td>1.317069</td>\n",
       "      <td>0.994549</td>\n",
       "      <td>-0.489567</td>\n",
       "      <td>-2.126934</td>\n",
       "      <td>-0.550152</td>\n",
       "      <td>-0.108753</td>\n",
       "      <td>-0.113738</td>\n",
       "      <td>-0.697268</td>\n",
       "    </tr>\n",
       "    <tr>\n",
       "      <th>1697</th>\n",
       "      <td>-0.292341</td>\n",
       "      <td>-0.006132</td>\n",
       "      <td>0.718298</td>\n",
       "      <td>-0.939380</td>\n",
       "      <td>-0.283544</td>\n",
       "      <td>0.439247</td>\n",
       "      <td>-0.634208</td>\n",
       "      <td>-0.131006</td>\n",
       "      <td>-0.399492</td>\n",
       "      <td>-0.241482</td>\n",
       "      <td>-0.188736</td>\n",
       "      <td>-0.014114</td>\n",
       "      <td>3.019665</td>\n",
       "      <td>0.412117</td>\n",
       "      <td>0.330241</td>\n",
       "      <td>-0.011939</td>\n",
       "      <td>2.403412</td>\n",
       "      <td>-0.108753</td>\n",
       "      <td>-0.113738</td>\n",
       "      <td>1.113070</td>\n",
       "    </tr>\n",
       "  </tbody>\n",
       "</table>\n",
       "<p>1698 rows × 20 columns</p>\n",
       "</div>"
      ],
      "text/plain": [
       "      first_temp  apparent_power  heat_length_s  gas_total    bulk_1  \\\n",
       "0       0.136807       -0.395994      -1.148075  -0.326166 -0.283544   \n",
       "1       0.179721       -1.058049      -0.064178   0.313736 -0.283544   \n",
       "2       0.394295       -0.998648      -0.761404  -0.796214 -0.283544   \n",
       "3       0.694699       -2.132835      -1.540836   0.035914 -0.283544   \n",
       "4      -0.678574       -0.208111       0.285957  -0.413547 -0.283544   \n",
       "...          ...             ...            ...        ...       ...   \n",
       "1693    0.780528       -0.964983      -0.262081  -0.000815 -0.283544   \n",
       "1694   -0.807319        0.879209      -0.015464  -1.597891 -0.283544   \n",
       "1695    2.196716        0.668842       1.707811  -0.036539 -0.283544   \n",
       "1696   -0.635659       -0.412959      -0.045910  -0.288582 -0.283544   \n",
       "1697   -0.292341       -0.006132       0.718298  -0.939380 -0.283544   \n",
       "\n",
       "        bulk_3    bulk_4    bulk_5    bulk_6   bulk_10   bulk_11   bulk_12  \\\n",
       "0     2.546679 -0.634208 -0.131006 -0.399492 -0.241482 -0.188736  1.025873   \n",
       "1    -0.627978 -0.634208 -0.131006  1.949823 -0.241482 -0.188736 -0.678916   \n",
       "2     0.479775  1.180884 -0.131006 -0.399492 -0.241482 -0.188736 -0.020696   \n",
       "3    -0.627978  2.010641 -0.131006 -0.399492 -0.241482 -0.188736 -0.672334   \n",
       "4    -0.627978  1.371037 -0.131006 -0.399492 -0.241482 -0.188736  0.683598   \n",
       "...        ...       ...       ...       ...       ...       ...       ...   \n",
       "1693 -0.627978 -0.634208 -0.131006  0.992025 -0.241482 -0.188736 -1.370046   \n",
       "1694 -0.627978  0.852439 -0.131006 -0.399492 -0.241482 -0.188736 -0.007532   \n",
       "1695  1.425417 -0.634208 -0.131006 -0.399492 -0.241482 -0.188736  1.973709   \n",
       "1696 -0.627978 -0.634208 -0.131006 -0.399492 -0.241482 -0.188736  1.341818   \n",
       "1697  0.439247 -0.634208 -0.131006 -0.399492 -0.241482 -0.188736 -0.014114   \n",
       "\n",
       "       bulk_14   bulk_15  count_bulk    wire_1    wire_2    wire_3    wire_6  \\\n",
       "0     0.515122 -0.229747    0.330241 -0.301909 -0.550152 -0.108753 -0.113738   \n",
       "1     1.970965 -1.430271   -0.489567 -1.540021 -0.550152 -0.108753 -0.113738   \n",
       "2    -0.533578 -0.217861    1.150048  0.280304 -0.550152 -0.108753 -0.113738   \n",
       "3    -0.101760 -0.788407    0.330241  0.499847 -0.550152 -0.108753 -0.113738   \n",
       "4     0.552135  0.424003    0.330241 -0.495222 -0.550152 -0.108753 -0.113738   \n",
       "...        ...       ...         ...       ...       ...       ...       ...   \n",
       "1693  1.206031  0.982663   -0.489567 -0.712187  1.254490 -0.108753 -0.113738   \n",
       "1694 -0.644617 -0.217861    0.330241  0.183648 -0.550152 -0.108753 -0.113738   \n",
       "1695  0.626161  1.006436    0.330241 -0.909138  0.710885 -0.108753 -0.113738   \n",
       "1696  1.317069  0.994549   -0.489567 -2.126934 -0.550152 -0.108753 -0.113738   \n",
       "1697  3.019665  0.412117    0.330241 -0.011939  2.403412 -0.108753 -0.113738   \n",
       "\n",
       "      count_wire  \n",
       "0      -0.697268  \n",
       "1      -0.697268  \n",
       "2      -0.697268  \n",
       "3      -0.697268  \n",
       "4      -0.697268  \n",
       "...          ...  \n",
       "1693    1.113070  \n",
       "1694   -0.697268  \n",
       "1695    1.113070  \n",
       "1696   -0.697268  \n",
       "1697    1.113070  \n",
       "\n",
       "[1698 rows x 20 columns]"
      ]
     },
     "execution_count": 53,
     "metadata": {},
     "output_type": "execute_result"
    }
   ],
   "source": [
    "scaler = StandardScaler()\n",
    "scaler.fit(features_train)\n",
    "features_scaled = pd.DataFrame(scaler.transform(features_train), columns = features_train.columns)\n",
    "features_test_scaled = scaler.transform(features_test)\n",
    "features_scaled\n"
   ]
  },
  {
   "cell_type": "markdown",
   "metadata": {},
   "source": [
    "Теперь все готово к выбору и обучению моделей."
   ]
  },
  {
   "cell_type": "markdown",
   "metadata": {},
   "source": [
    "Мы будем использовать GridSearchCV для подбора параметров моделей, запоминать метрики и лучшие параметры моделей. Напишем для этого простую функцию."
   ]
  },
  {
   "cell_type": "code",
   "execution_count": 54,
   "metadata": {},
   "outputs": [],
   "source": [
    "def model_select(model, params, features, target, cv=5):\n",
    "    clf = GridSearchCV(model, param_grid = params, scoring = 'neg_mean_absolute_error', cv=cv, verbose =0)\n",
    "    clf.fit(features, target)\n",
    "    score = abs(clf.best_score_)\n",
    "    params = clf.best_params_\n",
    "    print('Лучший результат метрики МАЕ модели: ', score)\n",
    "    print('при следующих параметрах:')\n",
    "    print(params)\n",
    "    return score, params"
   ]
  },
  {
   "cell_type": "markdown",
   "metadata": {},
   "source": [
    "Для начала создадим Dummy модель, которая делает предсказанием простым средним, чтобы иметь референс для сравнения."
   ]
  },
  {
   "cell_type": "markdown",
   "metadata": {},
   "source": [
    "**Модель Dummy**"
   ]
  },
  {
   "cell_type": "code",
   "execution_count": 55,
   "metadata": {},
   "outputs": [
    {
     "name": "stdout",
     "output_type": "stream",
     "text": [
      "MAE модели-заглушки: 8.031051703246241\n"
     ]
    }
   ],
   "source": [
    "dummy = DummyRegressor(strategy = 'mean')\n",
    "dummy.fit(features_scaled, target_train)\n",
    "dummy_result=abs(np.mean(cross_val_score(dummy, X=features_scaled, \n",
    "                                     y=target_train, \n",
    "                                     scoring='neg_mean_absolute_error', cv=5)))\n",
    "print('MAE модели-заглушки:', dummy_result)"
   ]
  },
  {
   "cell_type": "markdown",
   "metadata": {},
   "source": [
    "**Модель Decision Tree Regressor**"
   ]
  },
  {
   "cell_type": "code",
   "execution_count": 56,
   "metadata": {},
   "outputs": [
    {
     "name": "stdout",
     "output_type": "stream",
     "text": [
      "Лучший результат метрики МАЕ модели:  7.238392632050262\n",
      "при следующих параметрах:\n",
      "{'max_depth': 8, 'min_samples_leaf': 7}\n"
     ]
    }
   ],
   "source": [
    "model_DTR = DecisionTreeRegressor(random_state = rs)\n",
    "params = {'max_depth':(2,8), 'min_samples_leaf': (1,7)}\n",
    "DTR_score, DTR_params= model_select(model_DTR, params, features_scaled, target_train)"
   ]
  },
  {
   "cell_type": "markdown",
   "metadata": {},
   "source": [
    "**Модель Linear Regression**"
   ]
  },
  {
   "cell_type": "code",
   "execution_count": 57,
   "metadata": {},
   "outputs": [
    {
     "name": "stdout",
     "output_type": "stream",
     "text": [
      "Лучший результат метрики МАЕ модели:  6.203227399141907\n",
      "при следующих параметрах:\n",
      "{'fit_intercept': 'True', 'n_jobs': 1}\n"
     ]
    }
   ],
   "source": [
    "model_LR = LinearRegression()\n",
    "params = {'n_jobs':range(1, 5), \n",
    "          'fit_intercept': ('True', 'False')}\n",
    "LR_score, LR_params = model_select(model_LR, params, features_scaled, target_train)"
   ]
  },
  {
   "cell_type": "markdown",
   "metadata": {},
   "source": [
    "**Модель SGD Regressor**"
   ]
  },
  {
   "cell_type": "code",
   "execution_count": 58,
   "metadata": {},
   "outputs": [
    {
     "name": "stdout",
     "output_type": "stream",
     "text": [
      "Лучший результат метрики МАЕ модели:  6.229865531787928\n",
      "при следующих параметрах:\n",
      "{'alpha': 0.01, 'max_iter': 31}\n"
     ]
    }
   ],
   "source": [
    "model_SGD = SGDRegressor(shuffle= True, random_state = rs)\n",
    "params = {'alpha':[0.01, 0.001, 0.0001, 0.00001], 'max_iter':range(1, 101, 10)}\n",
    "SGD_score, SGD_params = model_select(model_SGD, params, features_scaled, target_train)"
   ]
  },
  {
   "cell_type": "markdown",
   "metadata": {},
   "source": [
    "**Модель CatBoostRegressor**"
   ]
  },
  {
   "cell_type": "code",
   "execution_count": 59,
   "metadata": {},
   "outputs": [
    {
     "name": "stdout",
     "output_type": "stream",
     "text": [
      "Лучший результат метрики МАЕ модели:  5.870654689255377\n",
      "при следующих параметрах:\n",
      "{'iterations': 160, 'learning_rate': 0.1, 'max_depth': 5}\n"
     ]
    }
   ],
   "source": [
    "model_CBR = CatBoostRegressor(loss_function=\"RMSE\", verbose=0)\n",
    "params = {'iterations':range(100, 201, 20), \n",
    "          'learning_rate':[0.1, 0.03, 0.01, 0.003, 0.001, 0.0001], \n",
    "          'max_depth':range(3, 9)}\n",
    "CBR_score, CBR_params = model_select(model_CBR, params, features_scaled, target_train)"
   ]
  },
  {
   "cell_type": "markdown",
   "metadata": {},
   "source": [
    "Cоздадим таблицу с результатами всех моделей для сравнительного анализа."
   ]
  },
  {
   "cell_type": "code",
   "execution_count": 61,
   "metadata": {},
   "outputs": [
    {
     "name": "stdout",
     "output_type": "stream",
     "text": [
      "Сравнительная таблица результатов обучения моделей\n"
     ]
    },
    {
     "data": {
      "text/html": [
       "<div>\n",
       "<style scoped>\n",
       "    .dataframe tbody tr th:only-of-type {\n",
       "        vertical-align: middle;\n",
       "    }\n",
       "\n",
       "    .dataframe tbody tr th {\n",
       "        vertical-align: top;\n",
       "    }\n",
       "\n",
       "    .dataframe thead th {\n",
       "        text-align: right;\n",
       "    }\n",
       "</style>\n",
       "<table border=\"1\" class=\"dataframe\">\n",
       "  <thead>\n",
       "    <tr style=\"text-align: right;\">\n",
       "      <th></th>\n",
       "      <th>MAE</th>\n",
       "    </tr>\n",
       "  </thead>\n",
       "  <tbody>\n",
       "    <tr>\n",
       "      <th>Dummy</th>\n",
       "      <td>-8.031052</td>\n",
       "    </tr>\n",
       "    <tr>\n",
       "      <th>DecisionTreeRegressor</th>\n",
       "      <td>7.238393</td>\n",
       "    </tr>\n",
       "    <tr>\n",
       "      <th>LinearRegression</th>\n",
       "      <td>6.203227</td>\n",
       "    </tr>\n",
       "    <tr>\n",
       "      <th>SGD Regressor</th>\n",
       "      <td>6.229866</td>\n",
       "    </tr>\n",
       "    <tr>\n",
       "      <th>CatBoostRegressor</th>\n",
       "      <td>5.870655</td>\n",
       "    </tr>\n",
       "  </tbody>\n",
       "</table>\n",
       "</div>"
      ],
      "text/plain": [
       "                            MAE\n",
       "Dummy                 -8.031052\n",
       "DecisionTreeRegressor  7.238393\n",
       "LinearRegression       6.203227\n",
       "SGD Regressor          6.229866\n",
       "CatBoostRegressor      5.870655"
      ]
     },
     "metadata": {},
     "output_type": "display_data"
    }
   ],
   "source": [
    "index = ['Dummy', 'DecisionTreeRegressor', 'LinearRegression', 'SGD Regressor', 'CatBoostRegressor']\n",
    "table = pd.DataFrame(data=(dummy_result, DTR_score, LR_score, SGD_score, CBR_score), index= index, columns=['MAE'])\n",
    "table.style.background_gradient(cmap='coolwarm')\n",
    "print('Сравнительная таблица результатов обучения моделей:')\n",
    "display(table)"
   ]
  },
  {
   "cell_type": "markdown",
   "metadata": {},
   "source": [
    "Очевидно, что лучший результат показала модель CatBoostRegressor. <br>\n",
    "Проверим результаты работы модели на тестовой выборке на лучших параметрах."
   ]
  },
  {
   "cell_type": "code",
   "execution_count": 62,
   "metadata": {},
   "outputs": [
    {
     "data": {
      "text/plain": [
       "{'iterations': 160, 'learning_rate': 0.1, 'max_depth': 5}"
      ]
     },
     "execution_count": 62,
     "metadata": {},
     "output_type": "execute_result"
    }
   ],
   "source": [
    "CBR_params"
   ]
  },
  {
   "cell_type": "code",
   "execution_count": 64,
   "metadata": {},
   "outputs": [
    {
     "name": "stdout",
     "output_type": "stream",
     "text": [
      "Показатель метрики МАЕ модели CatBoost на тестовой выборке: 5.769144168070243\n"
     ]
    }
   ],
   "source": [
    "model_CBR = CatBoostRegressor(loss_function ='RMSE', iterations = 160, learning_rate =0.1, max_depth =5, verbose=0)\n",
    "model_CBR.fit(features_scaled, target_train)\n",
    "MAE = mean_absolute_error(model_CBR.predict(features_test_scaled), target_test)\n",
    "print('Показатель метрики МАЕ модели CatBoost на тестовой выборке:', MAE)"
   ]
  },
  {
   "cell_type": "markdown",
   "metadata": {},
   "source": [
    "# Итоговый вывод"
   ]
  },
  {
   "cell_type": "markdown",
   "metadata": {},
   "source": [
    "Итак, в ходе нашего исследования мы предприняли следующие шаги:\n",
    "1. Выгрузили данные и сделали предпросмотр.\n",
    "2. Очистили данные от аномалий.\n",
    "3. Проанализировали статистические показатели данных.\n",
    "4. Выявили признаки, которые необходимо использовать для обучения модели, а также создали несколько дополнительных. Отмели те данные, которые не имеют добавленной ценности при обучении модели.\n",
    "5. Объединили таблицы в единый датасет признаков, включив в него только те партии, данные по которым содержали всю необходимую нам информацию.\n",
    "6. Разбили данные на тестовую и трейновую выборки. Масштабировали признаки.\n",
    "7. Обучили несколько моделей регрессии, получили предсказания и показатель метрики для каждой методом кросс-валидации. Подобрали оптимальные параметры для каждой модели. Также создали константную модель-заглушку для референса.\n",
    "8. Выбрали модель с оптимальным показателем метрики и провели тестирование модели.\n",
    "9. Убедились, что результат предсказания модели выходит на необходимый уровень точности - отклонение не более 6 градусов."
   ]
  },
  {
   "cell_type": "markdown",
   "metadata": {},
   "source": [
    "В ходе работы мы полностью придерживались изначально намеченного плана. Никаких дополнительных и непредвиденных этапов не потребовалось."
   ]
  },
  {
   "cell_type": "markdown",
   "metadata": {},
   "source": [
    "Характерные особенности проекта, с которыми пришлось столкнуться в ходе выполнения проекта:\n",
    "1. Разрозненная выборка данных, распределенная по разным таблицам. Для получения полного датасета признаков потребовалось объединение всех данных в единый датасет по ключу - полю с номером партии 'key'. \n",
    "2. Тайминговые характеристики каждого из датасетов не соответствовали остальным, поэтому часть полезной информации не могла быть получена (например, временной разрыв между нагреванием и измерением температуры, между добавлением ингридиентов и нагревание, и пр.) <br> Можно рекомендовать производственному департаменту синхронизировать тайминговые устройства различных этапов, для получение дополнительных источников информация для модели.\n",
    "3. Из-за недостаточного количества данных по некоторым этапам (например, добавление опреденных видов ингридиентов во время легирования стали) эти данные пришлось вообще отбросить. Это значит что при необходимости модель не сможет обработать информацию такого рода и выдать корректный результат. <br> Можно рекомендовать собрать дополнительную расширенную информацию, включающую в себя репрезентативное количество данных по редким ингридиентам, и впоследствии переобучить модель на новых данных.\n"
   ]
  },
  {
   "cell_type": "markdown",
   "metadata": {},
   "source": [
    "Для нашей модели мы выделили определенный набор признаков, которые могут принести пользу при обучении модели: <br>\n",
    "    - first_temp - температура сплава на входе <br>\n",
    "    - apparent_power - полная мощность, рассчитанная как функция от активной и реактивной мощности. Сами активная и реактивная мощность были исключены из признаков, т.к. имеют высокий процент корреляции между собой и с признаком полной мощности <br>\n",
    "    - heat_length_s - продолжительность нагрева в секундах, рассчитанная как суммарная разница между моментом начала нагревания и окончания нагревания сплава <br>\n",
    "    - gas_total - суммарное количество потребленного газа при продувании, на партию <br>\n",
    "    - признаки с количеством потребленных ингридиентов (хим.добавок bulk и проволоки wire) <br>\n",
    "Некоторые признаки, в том числе дополнительно рассчитанные на предыдущих этапах, пришлось исключить после проверки признаков на корреляцию. Это важно в том числе и для того, чтобы не повышать значимость одних и тех же физических факторов, влияющих на процесс, путем увеличения количества признаков, завязанных на этот фактор."
   ]
  },
  {
   "cell_type": "markdown",
   "metadata": {},
   "source": [
    "После обучения различных моделей регрессии и сравнения результатов, мы сделали вывод, что:\n",
    "1. Регрессия дерева решений **Decision Tree regressor*** плохо справляется с поставленной задачей, ее показатель МАЕ ***7.3*** не сильно опережает показатель константной модели, просто прогнозирующей результат как среднее арифметичское температур трейновой выборки (***8.0***).\n",
    "2. ***Линейная регрессия*** и ***градиентный спуск*** дают практически одинаковые (и в целом неплохие) результаты на уровне МАЕ ***6.2***.\n",
    "3. Лидером среди использованных моделей стала ***CatBoost*** с показателем МАЕ на трейновой выборке ***5.8***. Бустинговые модели, как правило, хорошо проявляют себя в задачах подобного типа, т.к. последовательно объединяют несколько более \"слабых\" деревьев решений. Бустинг имеет несколько итераций, каждая из которых минимизирует функцию потерь и измеряет \"расстояние\" до оптимального значения. <br>\n",
    "В нашем случае оптимальное количество итераций *iterations*, подобранное при помощи GridSearchCV, равно *160*, что позволяет нам, с одной стороны, достаточно глубоко проработать внутренние зависимости и приблизиться к оптимальному результату, а с другой, - не переобучить модель избыточным количеством итераций. <br>\n",
    "Распространенным недостатком бустинговых моделей по сравнению с более простыми моделями является время обучения и предсказания. Однако в нашем случае, в том числе за счет скорости обучения *learning_rate = 0.1*, эта проблема неактуальна - модель обучается достаточно быстро. <br>\n",
    "Максимально разрешенная глубина каждого дерева в рамках ансамбля бустингов нашей модели *max_depth = 5*, что так же помогает бороться с переобучением, по сравнению с более глубокими деревьями."
   ]
  },
  {
   "cell_type": "markdown",
   "metadata": {},
   "source": [
    "**ВАЖНО!** Оптимальная метрика в 5,8 на валидационной выборке и 5,7 на тестовой выборке достигается при наличии однородных данных по имеющимся признакам и не настроена на предсказание радикально отличающихся параметров.\n",
    "При возможности / наличии новых дополнительных данных, указанных в пунктах выше, потребуется переобучение модели на релевантных данных."
   ]
  },
  {
   "cell_type": "markdown",
   "metadata": {},
   "source": [
    "**Рекомендации**. Рекомендуется использовать данную модель для предсказания температуры сплава, и таким образом достичь цели компании - экономии средств за счет оптимизации количество использованной электроэнергии."
   ]
  }
 ],
 "metadata": {
  "ExecuteTimeLog": [
   {
    "duration": 402,
    "start_time": "2023-02-13T17:13:01.635Z"
   },
   {
    "duration": 190,
    "start_time": "2023-02-13T17:13:04.378Z"
   },
   {
    "duration": 18,
    "start_time": "2023-02-13T17:13:09.656Z"
   },
   {
    "duration": 131,
    "start_time": "2023-02-13T17:15:02.272Z"
   },
   {
    "duration": 479,
    "start_time": "2023-02-13T17:16:15.819Z"
   },
   {
    "duration": 20,
    "start_time": "2023-02-13T17:19:47.600Z"
   },
   {
    "duration": 19,
    "start_time": "2023-02-13T17:19:59.049Z"
   },
   {
    "duration": 9,
    "start_time": "2023-02-13T17:20:06.600Z"
   },
   {
    "duration": 12,
    "start_time": "2023-02-13T17:20:24.172Z"
   },
   {
    "duration": 14,
    "start_time": "2023-02-13T17:20:31.480Z"
   },
   {
    "duration": 6,
    "start_time": "2023-02-13T17:20:33.840Z"
   },
   {
    "duration": 22,
    "start_time": "2023-02-13T17:20:49.926Z"
   },
   {
    "duration": 47,
    "start_time": "2023-02-15T07:06:33.359Z"
   },
   {
    "duration": 389,
    "start_time": "2023-02-15T07:06:37.921Z"
   },
   {
    "duration": 661,
    "start_time": "2023-02-15T07:06:39.825Z"
   },
   {
    "duration": 16,
    "start_time": "2023-02-15T07:06:40.646Z"
   },
   {
    "duration": 9,
    "start_time": "2023-02-15T07:06:42.445Z"
   },
   {
    "duration": 26,
    "start_time": "2023-02-15T07:07:09.109Z"
   },
   {
    "duration": 19,
    "start_time": "2023-02-15T07:07:19.884Z"
   },
   {
    "duration": 30,
    "start_time": "2023-02-15T07:07:34.885Z"
   },
   {
    "duration": 67,
    "start_time": "2023-02-15T07:18:16.327Z"
   },
   {
    "duration": 28,
    "start_time": "2023-02-15T07:22:09.698Z"
   },
   {
    "duration": 24,
    "start_time": "2023-02-15T07:22:22.144Z"
   },
   {
    "duration": 41,
    "start_time": "2023-02-15T07:22:59.680Z"
   },
   {
    "duration": 21,
    "start_time": "2023-02-15T07:23:15.084Z"
   },
   {
    "duration": 22,
    "start_time": "2023-02-15T07:23:20.736Z"
   },
   {
    "duration": 23,
    "start_time": "2023-02-15T07:23:38.350Z"
   },
   {
    "duration": 65,
    "start_time": "2023-02-15T07:24:19.786Z"
   },
   {
    "duration": 25,
    "start_time": "2023-02-15T07:27:21.587Z"
   },
   {
    "duration": 20,
    "start_time": "2023-02-15T07:34:39.347Z"
   },
   {
    "duration": 41,
    "start_time": "2023-02-15T07:50:32.843Z"
   },
   {
    "duration": 25,
    "start_time": "2023-02-15T08:05:51.924Z"
   },
   {
    "duration": 424,
    "start_time": "2023-02-15T08:10:24.608Z"
   },
   {
    "duration": 145,
    "start_time": "2023-02-15T08:33:51.222Z"
   },
   {
    "duration": 14,
    "start_time": "2023-02-15T08:39:16.076Z"
   },
   {
    "duration": 5,
    "start_time": "2023-02-15T08:39:26.441Z"
   },
   {
    "duration": 4,
    "start_time": "2023-02-15T08:40:35.508Z"
   },
   {
    "duration": 7,
    "start_time": "2023-02-15T08:40:45.779Z"
   },
   {
    "duration": 7,
    "start_time": "2023-02-15T08:40:53.609Z"
   },
   {
    "duration": 8,
    "start_time": "2023-02-15T08:40:58.024Z"
   },
   {
    "duration": 3,
    "start_time": "2023-02-15T08:41:02.696Z"
   },
   {
    "duration": 4,
    "start_time": "2023-02-15T08:41:05.703Z"
   },
   {
    "duration": 8,
    "start_time": "2023-02-15T08:41:09.297Z"
   },
   {
    "duration": 7,
    "start_time": "2023-02-15T08:41:14.334Z"
   },
   {
    "duration": 4,
    "start_time": "2023-02-15T08:41:20.444Z"
   },
   {
    "duration": 119,
    "start_time": "2023-02-15T08:41:53.529Z"
   },
   {
    "duration": 169,
    "start_time": "2023-02-15T08:42:13.238Z"
   },
   {
    "duration": 145,
    "start_time": "2023-02-15T08:42:55.389Z"
   },
   {
    "duration": 237,
    "start_time": "2023-02-15T08:43:21.590Z"
   },
   {
    "duration": 142,
    "start_time": "2023-02-15T08:43:36.630Z"
   },
   {
    "duration": 158,
    "start_time": "2023-02-15T08:43:54.253Z"
   },
   {
    "duration": 155,
    "start_time": "2023-02-15T08:44:10.072Z"
   },
   {
    "duration": 157,
    "start_time": "2023-02-15T08:44:18.618Z"
   },
   {
    "duration": 158,
    "start_time": "2023-02-15T08:44:35.845Z"
   },
   {
    "duration": 5,
    "start_time": "2023-02-15T08:51:10.969Z"
   },
   {
    "duration": 3,
    "start_time": "2023-02-15T08:56:48.979Z"
   },
   {
    "duration": 5,
    "start_time": "2023-02-15T08:56:51.535Z"
   },
   {
    "duration": 6,
    "start_time": "2023-02-15T08:57:02.108Z"
   },
   {
    "duration": 5,
    "start_time": "2023-02-15T08:57:05.536Z"
   },
   {
    "duration": 158,
    "start_time": "2023-02-15T08:58:51.997Z"
   },
   {
    "duration": 65,
    "start_time": "2023-02-15T08:59:15.997Z"
   },
   {
    "duration": 10,
    "start_time": "2023-02-15T09:00:47.837Z"
   },
   {
    "duration": 4,
    "start_time": "2023-02-15T09:00:53.155Z"
   },
   {
    "duration": 5,
    "start_time": "2023-02-15T09:00:55.310Z"
   },
   {
    "duration": 5,
    "start_time": "2023-02-15T09:02:07.644Z"
   },
   {
    "duration": 4,
    "start_time": "2023-02-15T09:03:13.084Z"
   },
   {
    "duration": 5,
    "start_time": "2023-02-15T09:03:26.078Z"
   },
   {
    "duration": 4,
    "start_time": "2023-02-15T09:06:49.902Z"
   },
   {
    "duration": 6,
    "start_time": "2023-02-15T09:06:53.893Z"
   },
   {
    "duration": 5,
    "start_time": "2023-02-15T09:06:56.276Z"
   },
   {
    "duration": 5,
    "start_time": "2023-02-15T09:07:02.227Z"
   },
   {
    "duration": 4,
    "start_time": "2023-02-15T09:07:05.761Z"
   },
   {
    "duration": 8,
    "start_time": "2023-02-15T09:07:27.677Z"
   },
   {
    "duration": 4,
    "start_time": "2023-02-15T09:07:29.977Z"
   },
   {
    "duration": 4,
    "start_time": "2023-02-15T09:07:34.924Z"
   },
   {
    "duration": 10,
    "start_time": "2023-02-15T09:09:29.493Z"
   },
   {
    "duration": 5,
    "start_time": "2023-02-15T09:09:30.641Z"
   },
   {
    "duration": 4,
    "start_time": "2023-02-15T09:09:35.260Z"
   },
   {
    "duration": 14,
    "start_time": "2023-02-15T09:10:48.953Z"
   },
   {
    "duration": 10,
    "start_time": "2023-02-15T09:11:08.050Z"
   },
   {
    "duration": 5,
    "start_time": "2023-02-15T09:11:12.482Z"
   },
   {
    "duration": 5,
    "start_time": "2023-02-15T09:11:44.056Z"
   },
   {
    "duration": 11,
    "start_time": "2023-02-15T09:14:17.059Z"
   },
   {
    "duration": 5,
    "start_time": "2023-02-15T09:14:18.580Z"
   },
   {
    "duration": 5,
    "start_time": "2023-02-15T09:15:16.843Z"
   },
   {
    "duration": 4,
    "start_time": "2023-02-15T09:15:28.250Z"
   },
   {
    "duration": 13,
    "start_time": "2023-02-15T09:16:03.201Z"
   },
   {
    "duration": 4,
    "start_time": "2023-02-15T09:16:04.766Z"
   },
   {
    "duration": 5,
    "start_time": "2023-02-15T09:18:19.628Z"
   },
   {
    "duration": 171,
    "start_time": "2023-02-15T09:18:45.798Z"
   },
   {
    "duration": 185,
    "start_time": "2023-02-15T09:19:23.772Z"
   },
   {
    "duration": 93,
    "start_time": "2023-02-15T09:21:12.969Z"
   },
   {
    "duration": 66,
    "start_time": "2023-02-15T09:21:17.387Z"
   },
   {
    "duration": 67,
    "start_time": "2023-02-15T09:21:20.471Z"
   },
   {
    "duration": 179,
    "start_time": "2023-02-15T09:21:24.565Z"
   },
   {
    "duration": 194,
    "start_time": "2023-02-15T09:23:00.142Z"
   },
   {
    "duration": 337,
    "start_time": "2023-02-15T09:23:29.070Z"
   },
   {
    "duration": 280,
    "start_time": "2023-02-15T09:23:50.702Z"
   },
   {
    "duration": 10,
    "start_time": "2023-02-15T09:25:03.709Z"
   },
   {
    "duration": 2024,
    "start_time": "2023-02-15T09:26:01.211Z"
   },
   {
    "duration": 103,
    "start_time": "2023-02-15T09:26:32.554Z"
   },
   {
    "duration": 46,
    "start_time": "2023-02-15T09:26:42.284Z"
   },
   {
    "duration": 18,
    "start_time": "2023-02-15T09:27:17.654Z"
   },
   {
    "duration": 16,
    "start_time": "2023-02-15T09:30:41.963Z"
   },
   {
    "duration": 130,
    "start_time": "2023-02-15T09:31:06.053Z"
   },
   {
    "duration": 101,
    "start_time": "2023-02-15T09:31:12.263Z"
   },
   {
    "duration": 98,
    "start_time": "2023-02-15T09:31:16.621Z"
   },
   {
    "duration": 99,
    "start_time": "2023-02-15T09:31:54.899Z"
   },
   {
    "duration": 104,
    "start_time": "2023-02-15T09:32:55.209Z"
   },
   {
    "duration": 0,
    "start_time": "2023-02-15T09:33:57.955Z"
   },
   {
    "duration": 102,
    "start_time": "2023-02-15T09:34:24.553Z"
   },
   {
    "duration": 116,
    "start_time": "2023-02-15T09:35:17.953Z"
   },
   {
    "duration": 122,
    "start_time": "2023-02-15T09:36:14.689Z"
   },
   {
    "duration": 27,
    "start_time": "2023-02-15T09:37:03.990Z"
   },
   {
    "duration": 112,
    "start_time": "2023-02-15T09:37:16.695Z"
   },
   {
    "duration": 107,
    "start_time": "2023-02-15T09:37:23.750Z"
   },
   {
    "duration": 106,
    "start_time": "2023-02-15T09:38:52.521Z"
   },
   {
    "duration": 110,
    "start_time": "2023-02-15T09:38:56.668Z"
   },
   {
    "duration": 105,
    "start_time": "2023-02-15T09:39:03.320Z"
   },
   {
    "duration": 105,
    "start_time": "2023-02-15T09:39:11.181Z"
   },
   {
    "duration": 103,
    "start_time": "2023-02-15T09:40:29.608Z"
   },
   {
    "duration": 915,
    "start_time": "2023-02-15T09:41:22.486Z"
   },
   {
    "duration": 22,
    "start_time": "2023-02-15T09:41:36.235Z"
   },
   {
    "duration": 110,
    "start_time": "2023-02-15T09:42:28.615Z"
   },
   {
    "duration": 102,
    "start_time": "2023-02-15T09:42:37.321Z"
   },
   {
    "duration": 144,
    "start_time": "2023-02-15T09:43:10.127Z"
   },
   {
    "duration": 6,
    "start_time": "2023-02-15T09:44:37.082Z"
   },
   {
    "duration": 135,
    "start_time": "2023-02-15T09:44:46.011Z"
   },
   {
    "duration": 114,
    "start_time": "2023-02-15T09:49:06.987Z"
   },
   {
    "duration": 359,
    "start_time": "2023-02-15T09:50:53.289Z"
   },
   {
    "duration": 112,
    "start_time": "2023-02-15T09:53:05.287Z"
   },
   {
    "duration": 23,
    "start_time": "2023-02-15T09:53:26.024Z"
   },
   {
    "duration": 17,
    "start_time": "2023-02-15T09:53:36.456Z"
   },
   {
    "duration": 10,
    "start_time": "2023-02-15T09:54:26.644Z"
   },
   {
    "duration": 282,
    "start_time": "2023-02-15T09:54:32.167Z"
   },
   {
    "duration": 159,
    "start_time": "2023-02-15T09:54:58.883Z"
   },
   {
    "duration": 112,
    "start_time": "2023-02-15T09:55:03.096Z"
   },
   {
    "duration": 286,
    "start_time": "2023-02-15T09:55:23.469Z"
   },
   {
    "duration": 305,
    "start_time": "2023-02-15T09:58:50.292Z"
   },
   {
    "duration": 62,
    "start_time": "2023-02-15T09:59:28.890Z"
   },
   {
    "duration": 15,
    "start_time": "2023-02-15T09:59:41.375Z"
   },
   {
    "duration": 18,
    "start_time": "2023-02-15T09:59:50.024Z"
   },
   {
    "duration": 16,
    "start_time": "2023-02-15T10:00:10.393Z"
   },
   {
    "duration": 15,
    "start_time": "2023-02-15T10:00:44.220Z"
   },
   {
    "duration": 14,
    "start_time": "2023-02-15T10:00:51.503Z"
   },
   {
    "duration": 147,
    "start_time": "2023-02-15T10:01:04.213Z"
   },
   {
    "duration": 13,
    "start_time": "2023-02-15T10:01:24.818Z"
   },
   {
    "duration": 78,
    "start_time": "2023-02-15T10:01:43.197Z"
   },
   {
    "duration": 368,
    "start_time": "2023-02-15T10:01:46.353Z"
   },
   {
    "duration": 58,
    "start_time": "2023-02-15T10:02:11.801Z"
   },
   {
    "duration": 105,
    "start_time": "2023-02-15T10:02:36.689Z"
   },
   {
    "duration": 327,
    "start_time": "2023-02-15T10:02:57.271Z"
   },
   {
    "duration": 395,
    "start_time": "2023-02-15T10:03:05.951Z"
   },
   {
    "duration": 46,
    "start_time": "2023-02-15T15:37:48.371Z"
   },
   {
    "duration": 1504,
    "start_time": "2023-02-15T15:37:59.415Z"
   },
   {
    "duration": 452,
    "start_time": "2023-02-15T15:38:00.920Z"
   },
   {
    "duration": 30,
    "start_time": "2023-02-15T15:38:01.374Z"
   },
   {
    "duration": 69,
    "start_time": "2023-02-15T15:38:01.406Z"
   },
   {
    "duration": 70,
    "start_time": "2023-02-15T15:38:01.477Z"
   },
   {
    "duration": 21,
    "start_time": "2023-02-15T15:38:01.549Z"
   },
   {
    "duration": 22,
    "start_time": "2023-02-15T15:38:01.572Z"
   },
   {
    "duration": 75,
    "start_time": "2023-02-15T15:38:01.596Z"
   },
   {
    "duration": 24,
    "start_time": "2023-02-15T15:38:01.674Z"
   },
   {
    "duration": 33,
    "start_time": "2023-02-15T15:38:01.701Z"
   },
   {
    "duration": 7,
    "start_time": "2023-02-15T15:38:01.737Z"
   },
   {
    "duration": 138,
    "start_time": "2023-02-15T15:38:01.746Z"
   },
   {
    "duration": 142,
    "start_time": "2023-02-15T15:38:01.886Z"
   },
   {
    "duration": 324,
    "start_time": "2023-02-15T15:38:02.031Z"
   },
   {
    "duration": 294,
    "start_time": "2023-02-15T15:38:04.837Z"
   },
   {
    "duration": 292,
    "start_time": "2023-02-15T15:38:18.328Z"
   },
   {
    "duration": 3,
    "start_time": "2023-02-15T15:53:50.499Z"
   },
   {
    "duration": 3,
    "start_time": "2023-02-15T15:54:34.615Z"
   },
   {
    "duration": 365,
    "start_time": "2023-02-15T15:56:57.629Z"
   },
   {
    "duration": 136,
    "start_time": "2023-02-15T15:57:12.388Z"
   },
   {
    "duration": 4,
    "start_time": "2023-02-15T15:57:30.957Z"
   },
   {
    "duration": 4,
    "start_time": "2023-02-15T15:57:52.311Z"
   },
   {
    "duration": 277,
    "start_time": "2023-02-15T15:57:54.622Z"
   },
   {
    "duration": 3,
    "start_time": "2023-02-15T15:58:09.647Z"
   },
   {
    "duration": 3,
    "start_time": "2023-02-15T15:58:13.108Z"
   },
   {
    "duration": 313,
    "start_time": "2023-02-15T15:58:15.386Z"
   },
   {
    "duration": 4,
    "start_time": "2023-02-15T15:58:50.795Z"
   },
   {
    "duration": 344,
    "start_time": "2023-02-15T15:58:52.578Z"
   },
   {
    "duration": 4,
    "start_time": "2023-02-15T16:00:02.378Z"
   },
   {
    "duration": 301,
    "start_time": "2023-02-15T16:00:03.976Z"
   },
   {
    "duration": 4,
    "start_time": "2023-02-15T16:00:28.822Z"
   },
   {
    "duration": 381,
    "start_time": "2023-02-15T16:00:30.685Z"
   },
   {
    "duration": 3,
    "start_time": "2023-02-15T16:00:36.016Z"
   },
   {
    "duration": 288,
    "start_time": "2023-02-15T16:00:37.893Z"
   },
   {
    "duration": 4,
    "start_time": "2023-02-15T16:00:50.371Z"
   },
   {
    "duration": 214,
    "start_time": "2023-02-15T16:00:51.857Z"
   },
   {
    "duration": 4,
    "start_time": "2023-02-15T16:01:55.495Z"
   },
   {
    "duration": 274,
    "start_time": "2023-02-15T16:01:57.948Z"
   },
   {
    "duration": 202,
    "start_time": "2023-02-15T16:02:13.487Z"
   },
   {
    "duration": 148,
    "start_time": "2023-02-15T16:02:47.323Z"
   },
   {
    "duration": 199,
    "start_time": "2023-02-15T16:02:59.032Z"
   },
   {
    "duration": 279,
    "start_time": "2023-02-15T16:03:25.700Z"
   },
   {
    "duration": 138,
    "start_time": "2023-02-15T16:03:34.717Z"
   },
   {
    "duration": 15,
    "start_time": "2023-02-15T16:06:02.835Z"
   },
   {
    "duration": 548,
    "start_time": "2023-02-15T16:06:14.608Z"
   },
   {
    "duration": 1154,
    "start_time": "2023-02-15T16:06:47.108Z"
   },
   {
    "duration": 523,
    "start_time": "2023-02-15T16:07:00.515Z"
   },
   {
    "duration": 2280,
    "start_time": "2023-02-15T16:07:11.655Z"
   },
   {
    "duration": 401,
    "start_time": "2023-02-15T16:07:20.381Z"
   },
   {
    "duration": 883,
    "start_time": "2023-02-15T16:07:28.580Z"
   },
   {
    "duration": 10,
    "start_time": "2023-02-15T16:08:05.891Z"
   },
   {
    "duration": 275,
    "start_time": "2023-02-15T16:08:18.932Z"
   },
   {
    "duration": 281,
    "start_time": "2023-02-15T16:08:28.148Z"
   },
   {
    "duration": 4,
    "start_time": "2023-02-15T16:09:15.657Z"
   },
   {
    "duration": 221,
    "start_time": "2023-02-15T16:09:17.238Z"
   },
   {
    "duration": 1081,
    "start_time": "2023-02-15T16:09:23.195Z"
   },
   {
    "duration": 4,
    "start_time": "2023-02-15T16:10:49.704Z"
   },
   {
    "duration": 455,
    "start_time": "2023-02-15T16:10:53.228Z"
   },
   {
    "duration": 4,
    "start_time": "2023-02-15T16:11:22.828Z"
   },
   {
    "duration": 218,
    "start_time": "2023-02-15T16:11:24.749Z"
   },
   {
    "duration": 3,
    "start_time": "2023-02-15T16:11:47.999Z"
   },
   {
    "duration": 171,
    "start_time": "2023-02-15T16:11:49.625Z"
   },
   {
    "duration": 3,
    "start_time": "2023-02-15T16:12:20.271Z"
   },
   {
    "duration": 215,
    "start_time": "2023-02-15T16:12:21.493Z"
   },
   {
    "duration": 4,
    "start_time": "2023-02-15T16:12:26.718Z"
   },
   {
    "duration": 452,
    "start_time": "2023-02-15T16:12:29.865Z"
   },
   {
    "duration": 2921,
    "start_time": "2023-02-15T16:12:40.260Z"
   },
   {
    "duration": 4,
    "start_time": "2023-02-15T16:13:00.608Z"
   },
   {
    "duration": 213,
    "start_time": "2023-02-15T16:13:02.732Z"
   },
   {
    "duration": 336,
    "start_time": "2023-02-15T16:13:35.777Z"
   },
   {
    "duration": 1058,
    "start_time": "2023-02-15T16:14:05.796Z"
   },
   {
    "duration": 1081,
    "start_time": "2023-02-15T16:14:24.607Z"
   },
   {
    "duration": 348,
    "start_time": "2023-02-15T16:16:10.249Z"
   },
   {
    "duration": 198,
    "start_time": "2023-02-15T16:16:45.268Z"
   },
   {
    "duration": 12,
    "start_time": "2023-02-15T16:17:08.657Z"
   },
   {
    "duration": 215,
    "start_time": "2023-02-15T16:17:45.926Z"
   },
   {
    "duration": 6,
    "start_time": "2023-02-15T16:19:20.472Z"
   },
   {
    "duration": 151,
    "start_time": "2023-02-15T16:19:35.602Z"
   },
   {
    "duration": 4,
    "start_time": "2023-02-15T16:20:08.483Z"
   },
   {
    "duration": 1085,
    "start_time": "2023-02-15T16:20:14.663Z"
   },
   {
    "duration": 162,
    "start_time": "2023-02-15T16:20:20.053Z"
   },
   {
    "duration": 135,
    "start_time": "2023-02-15T16:20:57.227Z"
   },
   {
    "duration": 112,
    "start_time": "2023-02-15T16:21:13.231Z"
   },
   {
    "duration": 250,
    "start_time": "2023-02-15T16:23:16.620Z"
   },
   {
    "duration": 241,
    "start_time": "2023-02-15T16:23:28.323Z"
   },
   {
    "duration": 200,
    "start_time": "2023-02-15T16:23:34.227Z"
   },
   {
    "duration": 118,
    "start_time": "2023-02-15T16:24:08.233Z"
   },
   {
    "duration": 998,
    "start_time": "2023-02-15T16:25:25.635Z"
   },
   {
    "duration": 232,
    "start_time": "2023-02-15T16:26:30.567Z"
   },
   {
    "duration": 205,
    "start_time": "2023-02-15T16:26:41.103Z"
   },
   {
    "duration": 9,
    "start_time": "2023-02-15T16:37:27.694Z"
   },
   {
    "duration": 109,
    "start_time": "2023-02-15T16:37:33.768Z"
   },
   {
    "duration": 1168,
    "start_time": "2023-02-15T17:36:20.785Z"
   },
   {
    "duration": 179,
    "start_time": "2023-02-15T17:36:21.955Z"
   },
   {
    "duration": 34,
    "start_time": "2023-02-15T17:36:22.136Z"
   },
   {
    "duration": 88,
    "start_time": "2023-02-15T17:36:22.172Z"
   },
   {
    "duration": 71,
    "start_time": "2023-02-15T17:36:22.262Z"
   },
   {
    "duration": 22,
    "start_time": "2023-02-15T17:36:22.335Z"
   },
   {
    "duration": 24,
    "start_time": "2023-02-15T17:36:22.359Z"
   },
   {
    "duration": 77,
    "start_time": "2023-02-15T17:36:22.385Z"
   },
   {
    "duration": 21,
    "start_time": "2023-02-15T17:36:22.464Z"
   },
   {
    "duration": 11,
    "start_time": "2023-02-15T17:36:22.486Z"
   },
   {
    "duration": 31,
    "start_time": "2023-02-15T17:36:22.499Z"
   },
   {
    "duration": 9,
    "start_time": "2023-02-15T17:36:22.531Z"
   },
   {
    "duration": 9,
    "start_time": "2023-02-15T17:36:22.541Z"
   },
   {
    "duration": 293,
    "start_time": "2023-02-15T17:36:22.552Z"
   },
   {
    "duration": 186,
    "start_time": "2023-02-15T17:36:22.847Z"
   },
   {
    "duration": 1128,
    "start_time": "2023-02-15T17:36:23.034Z"
   },
   {
    "duration": 299,
    "start_time": "2023-02-15T17:36:24.165Z"
   },
   {
    "duration": 170,
    "start_time": "2023-02-15T17:36:24.466Z"
   },
   {
    "duration": 135,
    "start_time": "2023-02-15T17:36:24.638Z"
   },
   {
    "duration": 205,
    "start_time": "2023-02-15T17:36:24.775Z"
   },
   {
    "duration": 154,
    "start_time": "2023-02-15T17:36:24.982Z"
   },
   {
    "duration": 1042,
    "start_time": "2023-02-15T17:36:25.138Z"
   },
   {
    "duration": 247,
    "start_time": "2023-02-15T17:36:26.182Z"
   },
   {
    "duration": 58,
    "start_time": "2023-02-16T04:56:02.210Z"
   },
   {
    "duration": 48,
    "start_time": "2023-02-16T08:53:43.818Z"
   },
   {
    "duration": 1306,
    "start_time": "2023-02-16T08:53:52.552Z"
   },
   {
    "duration": 617,
    "start_time": "2023-02-16T08:53:53.860Z"
   },
   {
    "duration": 38,
    "start_time": "2023-02-16T08:53:54.478Z"
   },
   {
    "duration": 79,
    "start_time": "2023-02-16T08:53:54.517Z"
   },
   {
    "duration": 64,
    "start_time": "2023-02-16T08:53:54.603Z"
   },
   {
    "duration": 42,
    "start_time": "2023-02-16T08:53:54.669Z"
   },
   {
    "duration": 25,
    "start_time": "2023-02-16T08:53:54.717Z"
   },
   {
    "duration": 69,
    "start_time": "2023-02-16T08:53:54.744Z"
   },
   {
    "duration": 28,
    "start_time": "2023-02-16T08:53:54.817Z"
   },
   {
    "duration": 15,
    "start_time": "2023-02-16T08:53:54.847Z"
   },
   {
    "duration": 13,
    "start_time": "2023-02-16T08:53:54.864Z"
   },
   {
    "duration": 6,
    "start_time": "2023-02-16T08:53:54.879Z"
   },
   {
    "duration": 57,
    "start_time": "2023-02-16T08:53:54.887Z"
   },
   {
    "duration": 339,
    "start_time": "2023-02-16T08:53:54.947Z"
   },
   {
    "duration": 167,
    "start_time": "2023-02-16T08:53:55.289Z"
   },
   {
    "duration": 342,
    "start_time": "2023-02-16T08:53:55.458Z"
   },
   {
    "duration": 158,
    "start_time": "2023-02-16T08:53:55.807Z"
   },
   {
    "duration": 125,
    "start_time": "2023-02-16T08:53:55.966Z"
   },
   {
    "duration": 203,
    "start_time": "2023-02-16T08:53:56.092Z"
   },
   {
    "duration": 126,
    "start_time": "2023-02-16T08:53:56.297Z"
   },
   {
    "duration": 1102,
    "start_time": "2023-02-16T08:53:56.425Z"
   },
   {
    "duration": 217,
    "start_time": "2023-02-16T08:53:57.528Z"
   },
   {
    "duration": 8,
    "start_time": "2023-02-16T08:53:57.748Z"
   },
   {
    "duration": 4,
    "start_time": "2023-02-16T08:59:10.345Z"
   },
   {
    "duration": 76,
    "start_time": "2023-02-16T08:59:27.062Z"
   },
   {
    "duration": 5,
    "start_time": "2023-02-16T08:59:28.400Z"
   },
   {
    "duration": 17,
    "start_time": "2023-02-16T08:59:29.857Z"
   },
   {
    "duration": 44,
    "start_time": "2023-02-16T09:02:09.357Z"
   },
   {
    "duration": 5,
    "start_time": "2023-02-16T09:03:59.176Z"
   },
   {
    "duration": 21,
    "start_time": "2023-02-16T09:04:02.361Z"
   },
   {
    "duration": 4,
    "start_time": "2023-02-16T09:04:21.720Z"
   },
   {
    "duration": 5,
    "start_time": "2023-02-16T09:04:34.714Z"
   },
   {
    "duration": 16,
    "start_time": "2023-02-16T09:04:37.336Z"
   },
   {
    "duration": 4,
    "start_time": "2023-02-16T09:05:04.432Z"
   },
   {
    "duration": 15,
    "start_time": "2023-02-16T09:05:08.085Z"
   },
   {
    "duration": 4,
    "start_time": "2023-02-16T09:06:22.695Z"
   },
   {
    "duration": 16,
    "start_time": "2023-02-16T09:06:30.163Z"
   },
   {
    "duration": 4,
    "start_time": "2023-02-16T09:06:41.179Z"
   },
   {
    "duration": 21,
    "start_time": "2023-02-16T09:06:42.895Z"
   },
   {
    "duration": 9,
    "start_time": "2023-02-16T09:09:42.435Z"
   },
   {
    "duration": 10,
    "start_time": "2023-02-16T09:09:46.077Z"
   },
   {
    "duration": 19,
    "start_time": "2023-02-16T09:09:58.184Z"
   },
   {
    "duration": 7,
    "start_time": "2023-02-16T09:10:14.431Z"
   },
   {
    "duration": 11,
    "start_time": "2023-02-16T09:10:21.530Z"
   },
   {
    "duration": 8,
    "start_time": "2023-02-16T09:10:33.540Z"
   },
   {
    "duration": 15,
    "start_time": "2023-02-16T09:10:42.067Z"
   },
   {
    "duration": 19,
    "start_time": "2023-02-16T09:17:44.743Z"
   },
   {
    "duration": 13,
    "start_time": "2023-02-16T09:18:32.438Z"
   },
   {
    "duration": 24,
    "start_time": "2023-02-16T09:19:45.832Z"
   },
   {
    "duration": 323,
    "start_time": "2023-02-16T09:24:15.063Z"
   },
   {
    "duration": 7,
    "start_time": "2023-02-16T09:26:00.125Z"
   },
   {
    "duration": 13,
    "start_time": "2023-02-16T09:26:12.786Z"
   },
   {
    "duration": 16,
    "start_time": "2023-02-16T09:26:23.736Z"
   },
   {
    "duration": 20,
    "start_time": "2023-02-16T09:27:10.098Z"
   },
   {
    "duration": 1160,
    "start_time": "2023-02-16T09:32:12.647Z"
   },
   {
    "duration": 187,
    "start_time": "2023-02-16T09:32:13.809Z"
   },
   {
    "duration": 33,
    "start_time": "2023-02-16T09:32:13.997Z"
   },
   {
    "duration": 65,
    "start_time": "2023-02-16T09:32:14.032Z"
   },
   {
    "duration": 57,
    "start_time": "2023-02-16T09:32:14.104Z"
   },
   {
    "duration": 18,
    "start_time": "2023-02-16T09:32:14.162Z"
   },
   {
    "duration": 18,
    "start_time": "2023-02-16T09:32:14.204Z"
   },
   {
    "duration": 43,
    "start_time": "2023-02-16T09:32:14.224Z"
   },
   {
    "duration": 42,
    "start_time": "2023-02-16T09:32:14.268Z"
   },
   {
    "duration": 11,
    "start_time": "2023-02-16T09:32:14.311Z"
   },
   {
    "duration": 9,
    "start_time": "2023-02-16T09:32:14.323Z"
   },
   {
    "duration": 4,
    "start_time": "2023-02-16T09:32:14.334Z"
   },
   {
    "duration": 11,
    "start_time": "2023-02-16T09:32:14.339Z"
   },
   {
    "duration": 186,
    "start_time": "2023-02-16T09:32:27.040Z"
   },
   {
    "duration": 97,
    "start_time": "2023-02-16T09:33:08.489Z"
   },
   {
    "duration": 57,
    "start_time": "2023-02-16T09:33:10.080Z"
   },
   {
    "duration": 4,
    "start_time": "2023-02-16T09:33:17.356Z"
   },
   {
    "duration": 13,
    "start_time": "2023-02-16T09:33:20.050Z"
   },
   {
    "duration": 17,
    "start_time": "2023-02-16T09:33:33.063Z"
   },
   {
    "duration": 22,
    "start_time": "2023-02-16T09:33:50.690Z"
   },
   {
    "duration": 16,
    "start_time": "2023-02-16T09:33:57.354Z"
   },
   {
    "duration": 5,
    "start_time": "2023-02-16T09:35:23.167Z"
   },
   {
    "duration": 16,
    "start_time": "2023-02-16T09:35:26.285Z"
   },
   {
    "duration": 19,
    "start_time": "2023-02-16T09:35:47.952Z"
   },
   {
    "duration": 19,
    "start_time": "2023-02-16T09:35:56.876Z"
   },
   {
    "duration": 17,
    "start_time": "2023-02-16T09:36:03.298Z"
   },
   {
    "duration": 6,
    "start_time": "2023-02-16T09:36:19.123Z"
   },
   {
    "duration": 3,
    "start_time": "2023-02-16T09:36:46.868Z"
   },
   {
    "duration": 16,
    "start_time": "2023-02-16T09:36:49.632Z"
   },
   {
    "duration": 23,
    "start_time": "2023-02-16T09:37:01.680Z"
   },
   {
    "duration": 27,
    "start_time": "2023-02-16T09:37:05.935Z"
   },
   {
    "duration": 11,
    "start_time": "2023-02-16T09:37:10.363Z"
   },
   {
    "duration": 8,
    "start_time": "2023-02-16T09:37:14.137Z"
   },
   {
    "duration": 10,
    "start_time": "2023-02-16T09:37:22.374Z"
   },
   {
    "duration": 7,
    "start_time": "2023-02-16T09:37:34.585Z"
   },
   {
    "duration": 15,
    "start_time": "2023-02-16T09:37:36.463Z"
   },
   {
    "duration": 13,
    "start_time": "2023-02-16T09:37:45.349Z"
   },
   {
    "duration": 12,
    "start_time": "2023-02-16T09:48:05.167Z"
   },
   {
    "duration": 52,
    "start_time": "2023-02-16T09:48:29.142Z"
   },
   {
    "duration": 14,
    "start_time": "2023-02-16T09:48:41.200Z"
   },
   {
    "duration": 15,
    "start_time": "2023-02-16T09:49:39.686Z"
   },
   {
    "duration": 5,
    "start_time": "2023-02-16T09:53:28.533Z"
   },
   {
    "duration": 7,
    "start_time": "2023-02-16T09:53:49.235Z"
   },
   {
    "duration": 11,
    "start_time": "2023-02-16T10:06:49.171Z"
   },
   {
    "duration": 6,
    "start_time": "2023-02-16T10:06:51.742Z"
   },
   {
    "duration": 12,
    "start_time": "2023-02-16T10:06:54.853Z"
   },
   {
    "duration": 12,
    "start_time": "2023-02-16T10:07:06.078Z"
   },
   {
    "duration": 10,
    "start_time": "2023-02-16T10:07:22.067Z"
   },
   {
    "duration": 123,
    "start_time": "2023-02-16T10:16:26.335Z"
   },
   {
    "duration": 1136,
    "start_time": "2023-02-16T10:16:35.433Z"
   },
   {
    "duration": 3,
    "start_time": "2023-02-16T10:30:11.335Z"
   },
   {
    "duration": 218,
    "start_time": "2023-02-16T10:30:11.340Z"
   },
   {
    "duration": 30,
    "start_time": "2023-02-16T10:30:11.560Z"
   },
   {
    "duration": 70,
    "start_time": "2023-02-16T10:30:11.592Z"
   },
   {
    "duration": 72,
    "start_time": "2023-02-16T10:30:11.665Z"
   },
   {
    "duration": 22,
    "start_time": "2023-02-16T10:30:11.739Z"
   },
   {
    "duration": 40,
    "start_time": "2023-02-16T10:30:11.764Z"
   },
   {
    "duration": 45,
    "start_time": "2023-02-16T10:30:11.806Z"
   },
   {
    "duration": 20,
    "start_time": "2023-02-16T10:30:11.852Z"
   },
   {
    "duration": 37,
    "start_time": "2023-02-16T10:30:11.874Z"
   },
   {
    "duration": 10,
    "start_time": "2023-02-16T10:30:11.913Z"
   },
   {
    "duration": 10,
    "start_time": "2023-02-16T10:30:11.925Z"
   },
   {
    "duration": 9,
    "start_time": "2023-02-16T10:30:11.937Z"
   },
   {
    "duration": 229,
    "start_time": "2023-02-16T10:30:11.948Z"
   },
   {
    "duration": 153,
    "start_time": "2023-02-16T10:30:12.179Z"
   },
   {
    "duration": 301,
    "start_time": "2023-02-16T10:30:12.334Z"
   },
   {
    "duration": 158,
    "start_time": "2023-02-16T10:30:12.637Z"
   },
   {
    "duration": 119,
    "start_time": "2023-02-16T10:30:12.803Z"
   },
   {
    "duration": 281,
    "start_time": "2023-02-16T10:30:12.923Z"
   },
   {
    "duration": 109,
    "start_time": "2023-02-16T10:30:13.205Z"
   },
   {
    "duration": 919,
    "start_time": "2023-02-16T10:30:13.315Z"
   },
   {
    "duration": 222,
    "start_time": "2023-02-16T10:30:14.236Z"
   },
   {
    "duration": 4,
    "start_time": "2023-02-16T10:30:14.460Z"
   },
   {
    "duration": 27,
    "start_time": "2023-02-16T10:30:14.466Z"
   },
   {
    "duration": 16,
    "start_time": "2023-02-16T10:30:14.495Z"
   },
   {
    "duration": 116,
    "start_time": "2023-02-16T10:30:14.513Z"
   },
   {
    "duration": 7,
    "start_time": "2023-02-16T10:30:14.630Z"
   },
   {
    "duration": 16,
    "start_time": "2023-02-16T10:30:14.638Z"
   },
   {
    "duration": 9,
    "start_time": "2023-02-16T10:30:14.655Z"
   },
   {
    "duration": 15,
    "start_time": "2023-02-16T10:30:14.665Z"
   },
   {
    "duration": 37,
    "start_time": "2023-02-16T10:30:14.682Z"
   },
   {
    "duration": 24,
    "start_time": "2023-02-16T10:30:14.721Z"
   },
   {
    "duration": 10,
    "start_time": "2023-02-16T10:30:14.747Z"
   },
   {
    "duration": 6,
    "start_time": "2023-02-16T10:30:14.759Z"
   },
   {
    "duration": 1096,
    "start_time": "2023-02-16T10:30:27.974Z"
   },
   {
    "duration": 818,
    "start_time": "2023-02-16T10:33:24.481Z"
   },
   {
    "duration": 986,
    "start_time": "2023-02-16T10:33:29.434Z"
   },
   {
    "duration": 934,
    "start_time": "2023-02-16T10:33:40.447Z"
   },
   {
    "duration": 885,
    "start_time": "2023-02-16T10:33:48.395Z"
   },
   {
    "duration": 19,
    "start_time": "2023-02-16T10:34:03.356Z"
   },
   {
    "duration": 12,
    "start_time": "2023-02-16T10:34:07.593Z"
   },
   {
    "duration": 49,
    "start_time": "2023-02-16T10:34:27.388Z"
   },
   {
    "duration": 12,
    "start_time": "2023-02-16T10:34:32.838Z"
   },
   {
    "duration": 13,
    "start_time": "2023-02-16T10:34:39.333Z"
   },
   {
    "duration": 13,
    "start_time": "2023-02-16T10:34:58.398Z"
   },
   {
    "duration": 14,
    "start_time": "2023-02-16T10:35:04.320Z"
   },
   {
    "duration": 11,
    "start_time": "2023-02-16T10:35:10.644Z"
   },
   {
    "duration": 18,
    "start_time": "2023-02-16T10:35:43.642Z"
   },
   {
    "duration": 19,
    "start_time": "2023-02-16T10:36:01.829Z"
   },
   {
    "duration": 21,
    "start_time": "2023-02-16T10:36:19.285Z"
   },
   {
    "duration": 23,
    "start_time": "2023-02-16T10:36:36.698Z"
   },
   {
    "duration": 25,
    "start_time": "2023-02-16T10:36:47.681Z"
   },
   {
    "duration": 18,
    "start_time": "2023-02-16T10:37:41.771Z"
   },
   {
    "duration": 372,
    "start_time": "2023-02-16T10:38:30.257Z"
   },
   {
    "duration": 373,
    "start_time": "2023-02-16T10:38:51.634Z"
   },
   {
    "duration": 412,
    "start_time": "2023-02-16T10:39:00.946Z"
   },
   {
    "duration": 15,
    "start_time": "2023-02-16T10:42:31.339Z"
   },
   {
    "duration": 16,
    "start_time": "2023-02-16T10:42:41.743Z"
   },
   {
    "duration": 3,
    "start_time": "2023-02-16T10:43:02.651Z"
   },
   {
    "duration": 201,
    "start_time": "2023-02-16T10:43:02.656Z"
   },
   {
    "duration": 24,
    "start_time": "2023-02-16T10:43:02.858Z"
   },
   {
    "duration": 69,
    "start_time": "2023-02-16T10:43:02.884Z"
   },
   {
    "duration": 65,
    "start_time": "2023-02-16T10:43:02.955Z"
   },
   {
    "duration": 17,
    "start_time": "2023-02-16T10:43:03.022Z"
   },
   {
    "duration": 18,
    "start_time": "2023-02-16T10:43:03.040Z"
   },
   {
    "duration": 71,
    "start_time": "2023-02-16T10:43:03.060Z"
   },
   {
    "duration": 21,
    "start_time": "2023-02-16T10:43:03.134Z"
   },
   {
    "duration": 11,
    "start_time": "2023-02-16T10:43:03.157Z"
   },
   {
    "duration": 7,
    "start_time": "2023-02-16T10:43:03.170Z"
   },
   {
    "duration": 31,
    "start_time": "2023-02-16T10:43:03.179Z"
   },
   {
    "duration": 7,
    "start_time": "2023-02-16T10:43:03.212Z"
   },
   {
    "duration": 217,
    "start_time": "2023-02-16T10:43:03.221Z"
   },
   {
    "duration": 148,
    "start_time": "2023-02-16T10:43:03.440Z"
   },
   {
    "duration": 289,
    "start_time": "2023-02-16T10:43:03.590Z"
   },
   {
    "duration": 163,
    "start_time": "2023-02-16T10:43:03.881Z"
   },
   {
    "duration": 118,
    "start_time": "2023-02-16T10:43:04.046Z"
   },
   {
    "duration": 318,
    "start_time": "2023-02-16T10:43:04.166Z"
   },
   {
    "duration": 133,
    "start_time": "2023-02-16T10:43:04.486Z"
   },
   {
    "duration": 881,
    "start_time": "2023-02-16T10:43:04.620Z"
   },
   {
    "duration": 207,
    "start_time": "2023-02-16T10:43:05.504Z"
   },
   {
    "duration": 4,
    "start_time": "2023-02-16T10:43:05.713Z"
   },
   {
    "duration": 25,
    "start_time": "2023-02-16T10:43:05.721Z"
   },
   {
    "duration": 11,
    "start_time": "2023-02-16T10:43:05.748Z"
   },
   {
    "duration": 14,
    "start_time": "2023-02-16T10:43:05.760Z"
   },
   {
    "duration": 30,
    "start_time": "2023-02-16T10:43:05.776Z"
   },
   {
    "duration": 17,
    "start_time": "2023-02-16T10:43:05.808Z"
   },
   {
    "duration": 149,
    "start_time": "2023-02-16T10:43:05.826Z"
   },
   {
    "duration": 16,
    "start_time": "2023-02-16T10:43:05.976Z"
   },
   {
    "duration": 12,
    "start_time": "2023-02-16T10:43:06.003Z"
   },
   {
    "duration": 21,
    "start_time": "2023-02-16T10:43:06.017Z"
   },
   {
    "duration": 9,
    "start_time": "2023-02-16T10:43:06.040Z"
   },
   {
    "duration": 5,
    "start_time": "2023-02-16T10:43:06.051Z"
   },
   {
    "duration": 416,
    "start_time": "2023-02-16T10:43:06.057Z"
   },
   {
    "duration": 12,
    "start_time": "2023-02-16T10:43:08.279Z"
   },
   {
    "duration": 1292,
    "start_time": "2023-02-16T15:51:31.153Z"
   },
   {
    "duration": 604,
    "start_time": "2023-02-16T15:51:32.448Z"
   },
   {
    "duration": 28,
    "start_time": "2023-02-16T15:51:33.053Z"
   },
   {
    "duration": 71,
    "start_time": "2023-02-16T15:51:33.083Z"
   },
   {
    "duration": 63,
    "start_time": "2023-02-16T15:51:33.156Z"
   },
   {
    "duration": 30,
    "start_time": "2023-02-16T15:51:33.220Z"
   },
   {
    "duration": 23,
    "start_time": "2023-02-16T15:51:33.252Z"
   },
   {
    "duration": 65,
    "start_time": "2023-02-16T15:51:33.277Z"
   },
   {
    "duration": 20,
    "start_time": "2023-02-16T15:51:33.351Z"
   },
   {
    "duration": 12,
    "start_time": "2023-02-16T15:51:33.372Z"
   },
   {
    "duration": 7,
    "start_time": "2023-02-16T15:51:33.385Z"
   },
   {
    "duration": 6,
    "start_time": "2023-02-16T15:51:33.393Z"
   },
   {
    "duration": 8,
    "start_time": "2023-02-16T15:51:33.400Z"
   },
   {
    "duration": 249,
    "start_time": "2023-02-16T15:51:33.411Z"
   },
   {
    "duration": 145,
    "start_time": "2023-02-16T15:51:33.661Z"
   },
   {
    "duration": 283,
    "start_time": "2023-02-16T15:51:33.809Z"
   },
   {
    "duration": 158,
    "start_time": "2023-02-16T15:51:34.093Z"
   },
   {
    "duration": 113,
    "start_time": "2023-02-16T15:51:34.255Z"
   },
   {
    "duration": 222,
    "start_time": "2023-02-16T15:51:34.370Z"
   },
   {
    "duration": 143,
    "start_time": "2023-02-16T15:51:34.594Z"
   },
   {
    "duration": 1003,
    "start_time": "2023-02-16T15:51:34.741Z"
   },
   {
    "duration": 254,
    "start_time": "2023-02-16T15:51:35.747Z"
   },
   {
    "duration": 4,
    "start_time": "2023-02-16T15:51:36.003Z"
   },
   {
    "duration": 41,
    "start_time": "2023-02-16T15:51:36.009Z"
   },
   {
    "duration": 14,
    "start_time": "2023-02-16T15:51:36.052Z"
   },
   {
    "duration": 16,
    "start_time": "2023-02-16T15:51:36.068Z"
   },
   {
    "duration": 19,
    "start_time": "2023-02-16T15:51:36.086Z"
   },
   {
    "duration": 19,
    "start_time": "2023-02-16T15:51:36.107Z"
   },
   {
    "duration": 24,
    "start_time": "2023-02-16T15:51:36.128Z"
   },
   {
    "duration": 18,
    "start_time": "2023-02-16T15:51:36.155Z"
   },
   {
    "duration": 12,
    "start_time": "2023-02-16T15:51:36.175Z"
   },
   {
    "duration": 22,
    "start_time": "2023-02-16T15:51:36.189Z"
   },
   {
    "duration": 32,
    "start_time": "2023-02-16T15:51:36.212Z"
   },
   {
    "duration": 8,
    "start_time": "2023-02-16T15:51:36.246Z"
   },
   {
    "duration": 419,
    "start_time": "2023-02-16T15:51:36.255Z"
   },
   {
    "duration": 12,
    "start_time": "2023-02-16T15:51:36.675Z"
   },
   {
    "duration": 25,
    "start_time": "2023-02-16T15:51:36.689Z"
   },
   {
    "duration": 58,
    "start_time": "2023-02-16T16:01:53.368Z"
   },
   {
    "duration": 191,
    "start_time": "2023-02-16T16:10:00.115Z"
   },
   {
    "duration": 80,
    "start_time": "2023-02-16T16:10:21.906Z"
   },
   {
    "duration": 88,
    "start_time": "2023-02-16T16:10:44.667Z"
   },
   {
    "duration": 83,
    "start_time": "2023-02-16T16:17:02.977Z"
   },
   {
    "duration": 55,
    "start_time": "2023-02-16T16:18:14.973Z"
   },
   {
    "duration": 12,
    "start_time": "2023-02-16T16:46:42.914Z"
   },
   {
    "duration": 18,
    "start_time": "2023-02-16T16:50:02.670Z"
   },
   {
    "duration": 25,
    "start_time": "2023-02-16T16:52:11.771Z"
   },
   {
    "duration": 1470,
    "start_time": "2023-02-17T07:46:08.651Z"
   },
   {
    "duration": 624,
    "start_time": "2023-02-17T07:46:10.124Z"
   },
   {
    "duration": 32,
    "start_time": "2023-02-17T07:46:10.750Z"
   },
   {
    "duration": 103,
    "start_time": "2023-02-17T07:46:10.784Z"
   },
   {
    "duration": 66,
    "start_time": "2023-02-17T07:46:10.890Z"
   },
   {
    "duration": 20,
    "start_time": "2023-02-17T07:46:10.958Z"
   },
   {
    "duration": 44,
    "start_time": "2023-02-17T07:46:10.979Z"
   },
   {
    "duration": 57,
    "start_time": "2023-02-17T07:46:11.024Z"
   },
   {
    "duration": 22,
    "start_time": "2023-02-17T07:46:11.083Z"
   },
   {
    "duration": 24,
    "start_time": "2023-02-17T07:46:11.106Z"
   },
   {
    "duration": 75,
    "start_time": "2023-02-17T07:46:11.132Z"
   },
   {
    "duration": 40,
    "start_time": "2023-02-17T07:46:11.209Z"
   },
   {
    "duration": 58,
    "start_time": "2023-02-17T07:46:11.251Z"
   },
   {
    "duration": 315,
    "start_time": "2023-02-17T07:46:11.312Z"
   },
   {
    "duration": 164,
    "start_time": "2023-02-17T07:46:11.629Z"
   },
   {
    "duration": 321,
    "start_time": "2023-02-17T07:46:11.795Z"
   },
   {
    "duration": 178,
    "start_time": "2023-02-17T07:46:12.117Z"
   },
   {
    "duration": 128,
    "start_time": "2023-02-17T07:46:12.296Z"
   },
   {
    "duration": 197,
    "start_time": "2023-02-17T07:46:12.426Z"
   },
   {
    "duration": 221,
    "start_time": "2023-02-17T07:46:12.625Z"
   },
   {
    "duration": 955,
    "start_time": "2023-02-17T07:46:12.848Z"
   },
   {
    "duration": 244,
    "start_time": "2023-02-17T07:46:13.806Z"
   },
   {
    "duration": 5,
    "start_time": "2023-02-17T07:46:14.052Z"
   },
   {
    "duration": 70,
    "start_time": "2023-02-17T07:46:14.058Z"
   },
   {
    "duration": 35,
    "start_time": "2023-02-17T07:46:14.130Z"
   },
   {
    "duration": 41,
    "start_time": "2023-02-17T07:46:14.167Z"
   },
   {
    "duration": 11,
    "start_time": "2023-02-17T07:46:14.211Z"
   },
   {
    "duration": 40,
    "start_time": "2023-02-17T07:46:14.224Z"
   },
   {
    "duration": 26,
    "start_time": "2023-02-17T07:46:14.265Z"
   },
   {
    "duration": 38,
    "start_time": "2023-02-17T07:46:14.293Z"
   },
   {
    "duration": 50,
    "start_time": "2023-02-17T07:46:14.332Z"
   },
   {
    "duration": 45,
    "start_time": "2023-02-17T07:46:14.384Z"
   },
   {
    "duration": 32,
    "start_time": "2023-02-17T07:46:14.431Z"
   },
   {
    "duration": 18,
    "start_time": "2023-02-17T07:46:14.465Z"
   },
   {
    "duration": 420,
    "start_time": "2023-02-17T07:46:14.485Z"
   },
   {
    "duration": 12,
    "start_time": "2023-02-17T07:46:14.907Z"
   },
   {
    "duration": 41,
    "start_time": "2023-02-17T07:46:14.921Z"
   },
   {
    "duration": 93,
    "start_time": "2023-02-17T07:46:14.964Z"
   },
   {
    "duration": 57,
    "start_time": "2023-02-17T07:46:15.059Z"
   },
   {
    "duration": 130,
    "start_time": "2023-02-17T07:46:15.137Z"
   },
   {
    "duration": 11,
    "start_time": "2023-02-17T07:51:10.953Z"
   },
   {
    "duration": 133,
    "start_time": "2023-02-17T08:11:45.050Z"
   },
   {
    "duration": 31,
    "start_time": "2023-02-17T08:11:56.001Z"
   },
   {
    "duration": 24,
    "start_time": "2023-02-17T08:17:18.598Z"
   },
   {
    "duration": 25,
    "start_time": "2023-02-17T08:18:57.161Z"
   },
   {
    "duration": 25,
    "start_time": "2023-02-17T08:20:17.549Z"
   },
   {
    "duration": 24,
    "start_time": "2023-02-17T08:20:43.578Z"
   },
   {
    "duration": 22,
    "start_time": "2023-02-17T08:34:09.457Z"
   },
   {
    "duration": 25,
    "start_time": "2023-02-17T08:34:51.152Z"
   },
   {
    "duration": 29,
    "start_time": "2023-02-17T08:35:34.308Z"
   },
   {
    "duration": 21,
    "start_time": "2023-02-17T08:37:41.553Z"
   },
   {
    "duration": 30,
    "start_time": "2023-02-17T08:38:36.083Z"
   },
   {
    "duration": 136,
    "start_time": "2023-02-17T08:38:50.705Z"
   },
   {
    "duration": 36,
    "start_time": "2023-02-17T08:41:21.893Z"
   },
   {
    "duration": 12,
    "start_time": "2023-02-17T08:41:31.569Z"
   },
   {
    "duration": 8,
    "start_time": "2023-02-17T08:42:49.093Z"
   },
   {
    "duration": 12,
    "start_time": "2023-02-17T08:43:05.065Z"
   },
   {
    "duration": 7,
    "start_time": "2023-02-17T08:43:45.315Z"
   },
   {
    "duration": 5,
    "start_time": "2023-02-17T08:44:00.894Z"
   },
   {
    "duration": 12,
    "start_time": "2023-02-17T08:44:12.482Z"
   },
   {
    "duration": 3,
    "start_time": "2023-02-17T08:50:39.247Z"
   },
   {
    "duration": 14,
    "start_time": "2023-02-17T08:50:45.021Z"
   },
   {
    "duration": 55,
    "start_time": "2023-02-17T08:52:32.156Z"
   },
   {
    "duration": 15,
    "start_time": "2023-02-17T08:52:35.522Z"
   },
   {
    "duration": 14,
    "start_time": "2023-02-17T08:54:38.985Z"
   },
   {
    "duration": 15,
    "start_time": "2023-02-17T08:54:54.923Z"
   },
   {
    "duration": 14,
    "start_time": "2023-02-17T08:55:21.807Z"
   },
   {
    "duration": 15,
    "start_time": "2023-02-17T08:56:17.455Z"
   },
   {
    "duration": 14,
    "start_time": "2023-02-17T08:56:24.695Z"
   },
   {
    "duration": 4,
    "start_time": "2023-02-17T09:27:01.176Z"
   },
   {
    "duration": 220,
    "start_time": "2023-02-17T09:27:01.182Z"
   },
   {
    "duration": 37,
    "start_time": "2023-02-17T09:27:01.405Z"
   },
   {
    "duration": 72,
    "start_time": "2023-02-17T09:27:01.444Z"
   },
   {
    "duration": 76,
    "start_time": "2023-02-17T09:27:01.518Z"
   },
   {
    "duration": 41,
    "start_time": "2023-02-17T09:27:01.595Z"
   },
   {
    "duration": 26,
    "start_time": "2023-02-17T09:27:01.639Z"
   },
   {
    "duration": 69,
    "start_time": "2023-02-17T09:27:01.667Z"
   },
   {
    "duration": 23,
    "start_time": "2023-02-17T09:27:01.739Z"
   },
   {
    "duration": 44,
    "start_time": "2023-02-17T09:27:01.765Z"
   },
   {
    "duration": 86,
    "start_time": "2023-02-17T09:27:01.811Z"
   },
   {
    "duration": 72,
    "start_time": "2023-02-17T09:27:01.899Z"
   },
   {
    "duration": 26,
    "start_time": "2023-02-17T09:27:01.975Z"
   },
   {
    "duration": 250,
    "start_time": "2023-02-17T09:27:02.004Z"
   },
   {
    "duration": 165,
    "start_time": "2023-02-17T09:27:02.256Z"
   },
   {
    "duration": 324,
    "start_time": "2023-02-17T09:27:02.424Z"
   },
   {
    "duration": 169,
    "start_time": "2023-02-17T09:27:02.750Z"
   },
   {
    "duration": 131,
    "start_time": "2023-02-17T09:27:02.922Z"
   },
   {
    "duration": 307,
    "start_time": "2023-02-17T09:27:03.055Z"
   },
   {
    "duration": 125,
    "start_time": "2023-02-17T09:27:03.365Z"
   },
   {
    "duration": 912,
    "start_time": "2023-02-17T09:27:03.492Z"
   },
   {
    "duration": 247,
    "start_time": "2023-02-17T09:27:04.406Z"
   },
   {
    "duration": 5,
    "start_time": "2023-02-17T09:27:04.655Z"
   },
   {
    "duration": 31,
    "start_time": "2023-02-17T09:27:04.661Z"
   },
   {
    "duration": 13,
    "start_time": "2023-02-17T09:27:04.694Z"
   },
   {
    "duration": 149,
    "start_time": "2023-02-17T09:27:04.709Z"
   },
   {
    "duration": 7,
    "start_time": "2023-02-17T09:27:04.859Z"
   },
   {
    "duration": 17,
    "start_time": "2023-02-17T09:27:04.867Z"
   },
   {
    "duration": 22,
    "start_time": "2023-02-17T09:27:04.886Z"
   },
   {
    "duration": 27,
    "start_time": "2023-02-17T09:27:04.909Z"
   },
   {
    "duration": 13,
    "start_time": "2023-02-17T09:27:04.938Z"
   },
   {
    "duration": 26,
    "start_time": "2023-02-17T09:27:04.952Z"
   },
   {
    "duration": 13,
    "start_time": "2023-02-17T09:27:04.980Z"
   },
   {
    "duration": 6,
    "start_time": "2023-02-17T09:27:04.995Z"
   },
   {
    "duration": 443,
    "start_time": "2023-02-17T09:27:05.002Z"
   },
   {
    "duration": 14,
    "start_time": "2023-02-17T09:27:05.447Z"
   },
   {
    "duration": 27,
    "start_time": "2023-02-17T09:27:05.465Z"
   },
   {
    "duration": 96,
    "start_time": "2023-02-17T09:27:05.493Z"
   },
   {
    "duration": 67,
    "start_time": "2023-02-17T09:27:05.591Z"
   },
   {
    "duration": 28,
    "start_time": "2023-02-17T09:27:05.659Z"
   },
   {
    "duration": 16,
    "start_time": "2023-02-17T09:28:42.777Z"
   },
   {
    "duration": 19,
    "start_time": "2023-02-17T09:28:55.336Z"
   },
   {
    "duration": 18,
    "start_time": "2023-02-17T09:51:31.344Z"
   },
   {
    "duration": 6912,
    "start_time": "2023-02-17T09:51:54.684Z"
   },
   {
    "duration": 17,
    "start_time": "2023-02-17T09:52:09.680Z"
   },
   {
    "duration": 16,
    "start_time": "2023-02-17T09:52:24.548Z"
   },
   {
    "duration": 18,
    "start_time": "2023-02-17T09:52:27.026Z"
   },
   {
    "duration": 17,
    "start_time": "2023-02-17T09:53:04.471Z"
   },
   {
    "duration": 12,
    "start_time": "2023-02-17T09:54:53.171Z"
   },
   {
    "duration": 10,
    "start_time": "2023-02-17T09:55:31.272Z"
   },
   {
    "duration": 13,
    "start_time": "2023-02-17T09:58:46.619Z"
   },
   {
    "duration": 18,
    "start_time": "2023-02-17T09:58:54.779Z"
   },
   {
    "duration": 10,
    "start_time": "2023-02-17T09:59:30.234Z"
   },
   {
    "duration": 11,
    "start_time": "2023-02-17T09:59:37.399Z"
   },
   {
    "duration": 11,
    "start_time": "2023-02-17T10:00:52.557Z"
   },
   {
    "duration": 3,
    "start_time": "2023-02-17T10:01:00.181Z"
   },
   {
    "duration": 12,
    "start_time": "2023-02-17T10:01:05.620Z"
   },
   {
    "duration": 14,
    "start_time": "2023-02-17T10:01:39.836Z"
   },
   {
    "duration": 12,
    "start_time": "2023-02-17T10:01:55.671Z"
   },
   {
    "duration": 15,
    "start_time": "2023-02-17T10:02:35.619Z"
   },
   {
    "duration": 11,
    "start_time": "2023-02-17T10:02:46.048Z"
   },
   {
    "duration": 15,
    "start_time": "2023-02-17T10:07:51.678Z"
   },
   {
    "duration": 14,
    "start_time": "2023-02-17T10:08:00.900Z"
   },
   {
    "duration": 15,
    "start_time": "2023-02-17T10:08:14.093Z"
   },
   {
    "duration": 13,
    "start_time": "2023-02-17T10:08:35.821Z"
   },
   {
    "duration": 16,
    "start_time": "2023-02-17T10:09:04.416Z"
   },
   {
    "duration": 11,
    "start_time": "2023-02-17T10:10:54.476Z"
   },
   {
    "duration": 358,
    "start_time": "2023-02-17T10:11:37.593Z"
   },
   {
    "duration": 14,
    "start_time": "2023-02-17T10:12:29.723Z"
   },
   {
    "duration": 16,
    "start_time": "2023-02-17T10:12:49.816Z"
   },
   {
    "duration": 22,
    "start_time": "2023-02-17T10:12:57.409Z"
   },
   {
    "duration": 20,
    "start_time": "2023-02-17T10:13:31.275Z"
   },
   {
    "duration": 15,
    "start_time": "2023-02-17T10:13:56.793Z"
   },
   {
    "duration": 19,
    "start_time": "2023-02-17T10:13:58.714Z"
   },
   {
    "duration": 19,
    "start_time": "2023-02-17T10:15:19.099Z"
   },
   {
    "duration": 19,
    "start_time": "2023-02-17T10:15:42.543Z"
   },
   {
    "duration": 18,
    "start_time": "2023-02-17T10:15:49.979Z"
   },
   {
    "duration": 9,
    "start_time": "2023-02-17T10:16:50.628Z"
   },
   {
    "duration": 11,
    "start_time": "2023-02-17T10:17:08.504Z"
   },
   {
    "duration": 16,
    "start_time": "2023-02-17T10:17:28.117Z"
   },
   {
    "duration": 11,
    "start_time": "2023-02-17T10:17:55.477Z"
   },
   {
    "duration": 21,
    "start_time": "2023-02-17T10:19:23.570Z"
   },
   {
    "duration": 23,
    "start_time": "2023-02-17T10:20:25.447Z"
   },
   {
    "duration": 23,
    "start_time": "2023-02-17T10:20:29.048Z"
   },
   {
    "duration": 22,
    "start_time": "2023-02-17T10:20:42.732Z"
   },
   {
    "duration": 27,
    "start_time": "2023-02-17T10:35:34.090Z"
   },
   {
    "duration": 1224,
    "start_time": "2023-02-17T10:38:34.487Z"
   },
   {
    "duration": 205,
    "start_time": "2023-02-17T10:38:35.713Z"
   },
   {
    "duration": 31,
    "start_time": "2023-02-17T10:38:35.920Z"
   },
   {
    "duration": 84,
    "start_time": "2023-02-17T10:38:35.952Z"
   },
   {
    "duration": 63,
    "start_time": "2023-02-17T10:38:36.039Z"
   },
   {
    "duration": 39,
    "start_time": "2023-02-17T10:38:36.103Z"
   },
   {
    "duration": 23,
    "start_time": "2023-02-17T10:38:36.144Z"
   },
   {
    "duration": 45,
    "start_time": "2023-02-17T10:38:36.168Z"
   },
   {
    "duration": 24,
    "start_time": "2023-02-17T10:38:36.236Z"
   },
   {
    "duration": 18,
    "start_time": "2023-02-17T10:38:36.263Z"
   },
   {
    "duration": 6,
    "start_time": "2023-02-17T10:38:36.282Z"
   },
   {
    "duration": 11,
    "start_time": "2023-02-17T10:38:36.289Z"
   },
   {
    "duration": 13,
    "start_time": "2023-02-17T10:38:36.301Z"
   },
   {
    "duration": 265,
    "start_time": "2023-02-17T10:38:36.317Z"
   },
   {
    "duration": 159,
    "start_time": "2023-02-17T10:38:36.584Z"
   },
   {
    "duration": 318,
    "start_time": "2023-02-17T10:38:36.745Z"
   },
   {
    "duration": 174,
    "start_time": "2023-02-17T10:38:37.064Z"
   },
   {
    "duration": 149,
    "start_time": "2023-02-17T10:38:37.240Z"
   },
   {
    "duration": 206,
    "start_time": "2023-02-17T10:38:37.391Z"
   },
   {
    "duration": 127,
    "start_time": "2023-02-17T10:38:37.599Z"
   },
   {
    "duration": 1136,
    "start_time": "2023-02-17T10:38:37.728Z"
   },
   {
    "duration": 244,
    "start_time": "2023-02-17T10:38:38.867Z"
   },
   {
    "duration": 4,
    "start_time": "2023-02-17T10:38:39.114Z"
   },
   {
    "duration": 52,
    "start_time": "2023-02-17T10:38:39.120Z"
   },
   {
    "duration": 9,
    "start_time": "2023-02-17T10:38:39.174Z"
   },
   {
    "duration": 15,
    "start_time": "2023-02-17T10:38:39.185Z"
   },
   {
    "duration": 6,
    "start_time": "2023-02-17T10:38:39.202Z"
   },
   {
    "duration": 19,
    "start_time": "2023-02-17T10:38:39.210Z"
   },
   {
    "duration": 23,
    "start_time": "2023-02-17T10:38:39.231Z"
   },
   {
    "duration": 12,
    "start_time": "2023-02-17T10:38:39.256Z"
   },
   {
    "duration": 13,
    "start_time": "2023-02-17T10:38:39.270Z"
   },
   {
    "duration": 27,
    "start_time": "2023-02-17T10:38:39.285Z"
   },
   {
    "duration": 16,
    "start_time": "2023-02-17T10:38:39.337Z"
   },
   {
    "duration": 15,
    "start_time": "2023-02-17T10:38:39.355Z"
   },
   {
    "duration": 449,
    "start_time": "2023-02-17T10:38:39.372Z"
   },
   {
    "duration": 22,
    "start_time": "2023-02-17T10:38:39.823Z"
   },
   {
    "duration": 24,
    "start_time": "2023-02-17T10:38:39.848Z"
   },
   {
    "duration": 108,
    "start_time": "2023-02-17T10:38:39.874Z"
   },
   {
    "duration": 65,
    "start_time": "2023-02-17T10:38:39.983Z"
   },
   {
    "duration": 37,
    "start_time": "2023-02-17T10:38:40.050Z"
   },
   {
    "duration": 31,
    "start_time": "2023-02-17T10:38:40.092Z"
   },
   {
    "duration": 34,
    "start_time": "2023-02-17T10:38:40.137Z"
   },
   {
    "duration": 55,
    "start_time": "2023-02-17T11:09:04.012Z"
   },
   {
    "duration": 331,
    "start_time": "2023-02-17T11:09:09.274Z"
   },
   {
    "duration": 246,
    "start_time": "2023-02-17T11:10:12.216Z"
   },
   {
    "duration": 220,
    "start_time": "2023-02-17T11:10:23.417Z"
   },
   {
    "duration": 188,
    "start_time": "2023-02-17T11:13:35.049Z"
   },
   {
    "duration": 5,
    "start_time": "2023-02-17T11:14:48.713Z"
   },
   {
    "duration": 17,
    "start_time": "2023-02-17T11:15:48.339Z"
   },
   {
    "duration": 17,
    "start_time": "2023-02-17T11:16:10.424Z"
   },
   {
    "duration": 6,
    "start_time": "2023-02-17T11:22:31.599Z"
   },
   {
    "duration": 13,
    "start_time": "2023-02-17T11:22:36.784Z"
   },
   {
    "duration": 15,
    "start_time": "2023-02-17T11:22:45.862Z"
   },
   {
    "duration": 17,
    "start_time": "2023-02-17T11:22:53.452Z"
   },
   {
    "duration": 8403,
    "start_time": "2023-02-17T11:25:23.251Z"
   },
   {
    "duration": 7893,
    "start_time": "2023-02-17T11:25:38.709Z"
   },
   {
    "duration": 4,
    "start_time": "2023-02-17T11:26:39.874Z"
   },
   {
    "duration": 247,
    "start_time": "2023-02-17T11:26:39.880Z"
   },
   {
    "duration": 37,
    "start_time": "2023-02-17T11:26:40.129Z"
   },
   {
    "duration": 87,
    "start_time": "2023-02-17T11:26:40.169Z"
   },
   {
    "duration": 63,
    "start_time": "2023-02-17T11:26:40.258Z"
   },
   {
    "duration": 35,
    "start_time": "2023-02-17T11:26:40.337Z"
   },
   {
    "duration": 44,
    "start_time": "2023-02-17T11:26:40.375Z"
   },
   {
    "duration": 129,
    "start_time": "2023-02-17T11:26:40.422Z"
   },
   {
    "duration": 26,
    "start_time": "2023-02-17T11:26:40.553Z"
   },
   {
    "duration": 13,
    "start_time": "2023-02-17T11:26:40.583Z"
   },
   {
    "duration": 56,
    "start_time": "2023-02-17T11:26:40.598Z"
   },
   {
    "duration": 43,
    "start_time": "2023-02-17T11:26:40.657Z"
   },
   {
    "duration": 66,
    "start_time": "2023-02-17T11:26:40.703Z"
   },
   {
    "duration": 285,
    "start_time": "2023-02-17T11:26:40.771Z"
   },
   {
    "duration": 173,
    "start_time": "2023-02-17T11:26:41.059Z"
   },
   {
    "duration": 354,
    "start_time": "2023-02-17T11:26:41.234Z"
   },
   {
    "duration": 213,
    "start_time": "2023-02-17T11:26:41.590Z"
   },
   {
    "duration": 150,
    "start_time": "2023-02-17T11:26:41.805Z"
   },
   {
    "duration": 336,
    "start_time": "2023-02-17T11:26:41.957Z"
   },
   {
    "duration": 152,
    "start_time": "2023-02-17T11:26:42.295Z"
   },
   {
    "duration": 1117,
    "start_time": "2023-02-17T11:26:42.457Z"
   },
   {
    "duration": 286,
    "start_time": "2023-02-17T11:26:43.576Z"
   },
   {
    "duration": 4,
    "start_time": "2023-02-17T11:26:43.864Z"
   },
   {
    "duration": 53,
    "start_time": "2023-02-17T11:26:43.871Z"
   },
   {
    "duration": 18,
    "start_time": "2023-02-17T11:26:43.927Z"
   },
   {
    "duration": 221,
    "start_time": "2023-02-17T11:26:43.947Z"
   },
   {
    "duration": 9,
    "start_time": "2023-02-17T11:26:44.170Z"
   },
   {
    "duration": 35,
    "start_time": "2023-02-17T11:26:44.184Z"
   },
   {
    "duration": 39,
    "start_time": "2023-02-17T11:26:44.222Z"
   },
   {
    "duration": 44,
    "start_time": "2023-02-17T11:26:44.264Z"
   },
   {
    "duration": 44,
    "start_time": "2023-02-17T11:26:44.310Z"
   },
   {
    "duration": 44,
    "start_time": "2023-02-17T11:26:44.356Z"
   },
   {
    "duration": 91,
    "start_time": "2023-02-17T11:26:44.402Z"
   },
   {
    "duration": 28,
    "start_time": "2023-02-17T11:26:44.496Z"
   },
   {
    "duration": 457,
    "start_time": "2023-02-17T11:26:44.526Z"
   },
   {
    "duration": 14,
    "start_time": "2023-02-17T11:26:44.985Z"
   },
   {
    "duration": 58,
    "start_time": "2023-02-17T11:26:45.002Z"
   },
   {
    "duration": 123,
    "start_time": "2023-02-17T11:26:45.062Z"
   },
   {
    "duration": 92,
    "start_time": "2023-02-17T11:26:45.187Z"
   },
   {
    "duration": 37,
    "start_time": "2023-02-17T11:26:45.281Z"
   },
   {
    "duration": 26,
    "start_time": "2023-02-17T11:26:45.321Z"
   },
   {
    "duration": 34,
    "start_time": "2023-02-17T11:26:45.361Z"
   },
   {
    "duration": 67,
    "start_time": "2023-02-17T11:27:09.192Z"
   },
   {
    "duration": 1370,
    "start_time": "2023-02-17T11:27:26.561Z"
   },
   {
    "duration": 737,
    "start_time": "2023-02-17T11:27:27.933Z"
   },
   {
    "duration": 36,
    "start_time": "2023-02-17T11:27:28.672Z"
   },
   {
    "duration": 104,
    "start_time": "2023-02-17T11:27:28.711Z"
   },
   {
    "duration": 103,
    "start_time": "2023-02-17T11:27:28.818Z"
   },
   {
    "duration": 40,
    "start_time": "2023-02-17T11:27:28.923Z"
   },
   {
    "duration": 28,
    "start_time": "2023-02-17T11:27:28.965Z"
   },
   {
    "duration": 110,
    "start_time": "2023-02-17T11:27:28.995Z"
   },
   {
    "duration": 42,
    "start_time": "2023-02-17T11:27:29.107Z"
   },
   {
    "duration": 33,
    "start_time": "2023-02-17T11:27:29.154Z"
   },
   {
    "duration": 46,
    "start_time": "2023-02-17T11:27:29.188Z"
   },
   {
    "duration": 41,
    "start_time": "2023-02-17T11:27:29.236Z"
   },
   {
    "duration": 15,
    "start_time": "2023-02-17T11:27:29.280Z"
   },
   {
    "duration": 320,
    "start_time": "2023-02-17T11:27:29.297Z"
   },
   {
    "duration": 180,
    "start_time": "2023-02-17T11:27:29.619Z"
   },
   {
    "duration": 350,
    "start_time": "2023-02-17T11:27:29.802Z"
   },
   {
    "duration": 200,
    "start_time": "2023-02-17T11:27:30.154Z"
   },
   {
    "duration": 135,
    "start_time": "2023-02-17T11:27:30.358Z"
   },
   {
    "duration": 224,
    "start_time": "2023-02-17T11:27:30.495Z"
   },
   {
    "duration": 144,
    "start_time": "2023-02-17T11:27:30.721Z"
   },
   {
    "duration": 1185,
    "start_time": "2023-02-17T11:27:30.867Z"
   },
   {
    "duration": 276,
    "start_time": "2023-02-17T11:27:32.054Z"
   },
   {
    "duration": 7,
    "start_time": "2023-02-17T11:27:32.332Z"
   },
   {
    "duration": 66,
    "start_time": "2023-02-17T11:27:32.341Z"
   },
   {
    "duration": 10,
    "start_time": "2023-02-17T11:27:32.409Z"
   },
   {
    "duration": 23,
    "start_time": "2023-02-17T11:27:32.421Z"
   },
   {
    "duration": 30,
    "start_time": "2023-02-17T11:27:32.448Z"
   },
   {
    "duration": 22,
    "start_time": "2023-02-17T11:27:32.482Z"
   },
   {
    "duration": 11,
    "start_time": "2023-02-17T11:27:32.506Z"
   },
   {
    "duration": 24,
    "start_time": "2023-02-17T11:27:32.520Z"
   },
   {
    "duration": 40,
    "start_time": "2023-02-17T11:27:32.548Z"
   },
   {
    "duration": 23,
    "start_time": "2023-02-17T11:27:32.589Z"
   },
   {
    "duration": 17,
    "start_time": "2023-02-17T11:27:32.614Z"
   },
   {
    "duration": 12,
    "start_time": "2023-02-17T11:27:32.633Z"
   },
   {
    "duration": 471,
    "start_time": "2023-02-17T11:27:32.647Z"
   },
   {
    "duration": 28,
    "start_time": "2023-02-17T11:27:33.119Z"
   },
   {
    "duration": 29,
    "start_time": "2023-02-17T11:27:33.153Z"
   },
   {
    "duration": 101,
    "start_time": "2023-02-17T11:27:33.183Z"
   },
   {
    "duration": 75,
    "start_time": "2023-02-17T11:27:33.286Z"
   },
   {
    "duration": 33,
    "start_time": "2023-02-17T11:27:33.366Z"
   },
   {
    "duration": 43,
    "start_time": "2023-02-17T11:27:33.402Z"
   },
   {
    "duration": 29,
    "start_time": "2023-02-17T11:27:33.451Z"
   },
   {
    "duration": 11101,
    "start_time": "2023-02-17T11:27:33.482Z"
   },
   {
    "duration": 44,
    "start_time": "2023-02-17T11:30:57.090Z"
   },
   {
    "duration": 119,
    "start_time": "2023-02-17T11:31:08.088Z"
   },
   {
    "duration": 95,
    "start_time": "2023-02-17T11:31:19.073Z"
   },
   {
    "duration": 138,
    "start_time": "2023-02-17T11:31:25.452Z"
   },
   {
    "duration": 26,
    "start_time": "2023-02-17T11:35:24.696Z"
   },
   {
    "duration": 11,
    "start_time": "2023-02-17T11:38:54.211Z"
   },
   {
    "duration": 215,
    "start_time": "2023-02-17T11:39:17.149Z"
   },
   {
    "duration": 1339,
    "start_time": "2023-02-17T11:39:34.324Z"
   },
   {
    "duration": 207,
    "start_time": "2023-02-17T11:39:35.665Z"
   },
   {
    "duration": 31,
    "start_time": "2023-02-17T11:39:35.874Z"
   },
   {
    "duration": 71,
    "start_time": "2023-02-17T11:39:35.907Z"
   },
   {
    "duration": 73,
    "start_time": "2023-02-17T11:39:35.979Z"
   },
   {
    "duration": 20,
    "start_time": "2023-02-17T11:39:36.055Z"
   },
   {
    "duration": 21,
    "start_time": "2023-02-17T11:39:36.077Z"
   },
   {
    "duration": 70,
    "start_time": "2023-02-17T11:39:36.100Z"
   },
   {
    "duration": 20,
    "start_time": "2023-02-17T11:39:36.171Z"
   },
   {
    "duration": 11,
    "start_time": "2023-02-17T11:39:36.193Z"
   },
   {
    "duration": 9,
    "start_time": "2023-02-17T11:39:36.206Z"
   },
   {
    "duration": 19,
    "start_time": "2023-02-17T11:39:36.237Z"
   },
   {
    "duration": 7,
    "start_time": "2023-02-17T11:39:36.258Z"
   },
   {
    "duration": 250,
    "start_time": "2023-02-17T11:39:36.267Z"
   },
   {
    "duration": 169,
    "start_time": "2023-02-17T11:39:36.519Z"
   },
   {
    "duration": 323,
    "start_time": "2023-02-17T11:39:36.689Z"
   },
   {
    "duration": 185,
    "start_time": "2023-02-17T11:39:37.014Z"
   },
   {
    "duration": 153,
    "start_time": "2023-02-17T11:39:37.201Z"
   },
   {
    "duration": 206,
    "start_time": "2023-02-17T11:39:37.356Z"
   },
   {
    "duration": 124,
    "start_time": "2023-02-17T11:39:37.564Z"
   },
   {
    "duration": 1076,
    "start_time": "2023-02-17T11:39:37.690Z"
   },
   {
    "duration": 241,
    "start_time": "2023-02-17T11:39:38.768Z"
   },
   {
    "duration": 5,
    "start_time": "2023-02-17T11:39:39.012Z"
   },
   {
    "duration": 38,
    "start_time": "2023-02-17T11:39:39.019Z"
   },
   {
    "duration": 10,
    "start_time": "2023-02-17T11:39:39.059Z"
   },
   {
    "duration": 17,
    "start_time": "2023-02-17T11:39:39.071Z"
   },
   {
    "duration": 7,
    "start_time": "2023-02-17T11:39:39.090Z"
   },
   {
    "duration": 50,
    "start_time": "2023-02-17T11:39:39.100Z"
   },
   {
    "duration": 9,
    "start_time": "2023-02-17T11:39:39.152Z"
   },
   {
    "duration": 17,
    "start_time": "2023-02-17T11:39:39.163Z"
   },
   {
    "duration": 16,
    "start_time": "2023-02-17T11:39:39.181Z"
   },
   {
    "duration": 22,
    "start_time": "2023-02-17T11:39:39.198Z"
   },
   {
    "duration": 14,
    "start_time": "2023-02-17T11:39:39.242Z"
   },
   {
    "duration": 9,
    "start_time": "2023-02-17T11:39:39.258Z"
   },
   {
    "duration": 444,
    "start_time": "2023-02-17T11:39:39.269Z"
   },
   {
    "duration": 34,
    "start_time": "2023-02-17T11:39:39.716Z"
   },
   {
    "duration": 25,
    "start_time": "2023-02-17T11:39:39.752Z"
   },
   {
    "duration": 89,
    "start_time": "2023-02-17T11:39:39.778Z"
   },
   {
    "duration": 49,
    "start_time": "2023-02-17T11:39:39.868Z"
   },
   {
    "duration": 56,
    "start_time": "2023-02-17T11:39:39.919Z"
   },
   {
    "duration": 16,
    "start_time": "2023-02-17T11:39:39.976Z"
   },
   {
    "duration": 25,
    "start_time": "2023-02-17T11:39:39.994Z"
   },
   {
    "duration": 210,
    "start_time": "2023-02-17T11:39:40.021Z"
   },
   {
    "duration": 206,
    "start_time": "2023-02-17T11:40:28.821Z"
   },
   {
    "duration": 19,
    "start_time": "2023-02-17T11:42:30.580Z"
   },
   {
    "duration": 22,
    "start_time": "2023-02-17T11:42:47.099Z"
   },
   {
    "duration": 121,
    "start_time": "2023-02-17T11:42:54.884Z"
   },
   {
    "duration": 18,
    "start_time": "2023-02-17T11:43:20.031Z"
   },
   {
    "duration": 11,
    "start_time": "2023-02-17T11:45:59.326Z"
   },
   {
    "duration": 16,
    "start_time": "2023-02-17T11:52:53.641Z"
   },
   {
    "duration": 10,
    "start_time": "2023-02-17T11:52:59.067Z"
   },
   {
    "duration": 12,
    "start_time": "2023-02-17T11:53:03.103Z"
   },
   {
    "duration": 6,
    "start_time": "2023-02-17T11:53:15.329Z"
   },
   {
    "duration": 5,
    "start_time": "2023-02-17T11:53:35.763Z"
   },
   {
    "duration": 34,
    "start_time": "2023-02-17T11:54:04.487Z"
   },
   {
    "duration": 34,
    "start_time": "2023-02-17T11:54:23.263Z"
   },
   {
    "duration": 41,
    "start_time": "2023-02-17T11:54:27.553Z"
   },
   {
    "duration": 7,
    "start_time": "2023-02-17T11:54:52.365Z"
   },
   {
    "duration": 25,
    "start_time": "2023-02-17T11:55:02.372Z"
   },
   {
    "duration": 25,
    "start_time": "2023-02-17T11:56:42.361Z"
   },
   {
    "duration": 25,
    "start_time": "2023-02-17T11:57:09.063Z"
   },
   {
    "duration": 1250,
    "start_time": "2023-02-17T11:57:18.981Z"
   },
   {
    "duration": 232,
    "start_time": "2023-02-17T11:57:20.238Z"
   },
   {
    "duration": 32,
    "start_time": "2023-02-17T11:57:20.472Z"
   },
   {
    "duration": 95,
    "start_time": "2023-02-17T11:57:20.507Z"
   },
   {
    "duration": 70,
    "start_time": "2023-02-17T11:57:20.603Z"
   },
   {
    "duration": 24,
    "start_time": "2023-02-17T11:57:20.675Z"
   },
   {
    "duration": 48,
    "start_time": "2023-02-17T11:57:20.700Z"
   },
   {
    "duration": 86,
    "start_time": "2023-02-17T11:57:20.751Z"
   },
   {
    "duration": 29,
    "start_time": "2023-02-17T11:57:20.839Z"
   },
   {
    "duration": 26,
    "start_time": "2023-02-17T11:57:20.872Z"
   },
   {
    "duration": 26,
    "start_time": "2023-02-17T11:57:20.899Z"
   },
   {
    "duration": 35,
    "start_time": "2023-02-17T11:57:20.926Z"
   },
   {
    "duration": 36,
    "start_time": "2023-02-17T11:57:20.963Z"
   },
   {
    "duration": 292,
    "start_time": "2023-02-17T11:57:21.001Z"
   },
   {
    "duration": 190,
    "start_time": "2023-02-17T11:57:21.295Z"
   },
   {
    "duration": 356,
    "start_time": "2023-02-17T11:57:21.487Z"
   },
   {
    "duration": 184,
    "start_time": "2023-02-17T11:57:21.849Z"
   },
   {
    "duration": 139,
    "start_time": "2023-02-17T11:57:22.036Z"
   },
   {
    "duration": 239,
    "start_time": "2023-02-17T11:57:22.177Z"
   },
   {
    "duration": 141,
    "start_time": "2023-02-17T11:57:22.418Z"
   },
   {
    "duration": 1130,
    "start_time": "2023-02-17T11:57:22.561Z"
   },
   {
    "duration": 272,
    "start_time": "2023-02-17T11:57:23.693Z"
   },
   {
    "duration": 4,
    "start_time": "2023-02-17T11:57:23.967Z"
   },
   {
    "duration": 36,
    "start_time": "2023-02-17T11:57:23.972Z"
   },
   {
    "duration": 25,
    "start_time": "2023-02-17T11:57:24.010Z"
   },
   {
    "duration": 40,
    "start_time": "2023-02-17T11:57:24.046Z"
   },
   {
    "duration": 19,
    "start_time": "2023-02-17T11:57:24.088Z"
   },
   {
    "duration": 33,
    "start_time": "2023-02-17T11:57:24.110Z"
   },
   {
    "duration": 39,
    "start_time": "2023-02-17T11:57:24.144Z"
   },
   {
    "duration": 30,
    "start_time": "2023-02-17T11:57:24.185Z"
   },
   {
    "duration": 83,
    "start_time": "2023-02-17T11:57:24.217Z"
   },
   {
    "duration": 49,
    "start_time": "2023-02-17T11:57:24.302Z"
   },
   {
    "duration": 36,
    "start_time": "2023-02-17T11:57:24.354Z"
   },
   {
    "duration": 10,
    "start_time": "2023-02-17T11:57:24.392Z"
   },
   {
    "duration": 456,
    "start_time": "2023-02-17T11:57:24.404Z"
   },
   {
    "duration": 17,
    "start_time": "2023-02-17T11:57:24.862Z"
   },
   {
    "duration": 64,
    "start_time": "2023-02-17T11:57:24.880Z"
   },
   {
    "duration": 95,
    "start_time": "2023-02-17T11:57:24.946Z"
   },
   {
    "duration": 65,
    "start_time": "2023-02-17T11:57:25.047Z"
   },
   {
    "duration": 55,
    "start_time": "2023-02-17T11:57:25.114Z"
   },
   {
    "duration": 31,
    "start_time": "2023-02-17T11:57:25.172Z"
   },
   {
    "duration": 37,
    "start_time": "2023-02-17T11:57:25.205Z"
   },
   {
    "duration": 254,
    "start_time": "2023-02-17T11:57:25.244Z"
   },
   {
    "duration": 15,
    "start_time": "2023-02-17T11:57:25.500Z"
   },
   {
    "duration": 29,
    "start_time": "2023-02-17T11:57:25.516Z"
   },
   {
    "duration": 67,
    "start_time": "2023-02-17T11:57:25.549Z"
   },
   {
    "duration": 6,
    "start_time": "2023-02-17T11:58:01.558Z"
   },
   {
    "duration": 6,
    "start_time": "2023-02-17T11:58:07.161Z"
   },
   {
    "duration": 119,
    "start_time": "2023-02-17T12:01:59.855Z"
   },
   {
    "duration": 12,
    "start_time": "2023-02-17T12:02:08.556Z"
   },
   {
    "duration": 28,
    "start_time": "2023-02-17T12:02:28.831Z"
   },
   {
    "duration": 20,
    "start_time": "2023-02-17T12:14:00.476Z"
   },
   {
    "duration": 15,
    "start_time": "2023-02-17T12:15:56.062Z"
   },
   {
    "duration": 10,
    "start_time": "2023-02-17T12:16:10.800Z"
   },
   {
    "duration": 24,
    "start_time": "2023-02-17T12:16:20.101Z"
   },
   {
    "duration": 21,
    "start_time": "2023-02-17T12:17:26.648Z"
   },
   {
    "duration": 19,
    "start_time": "2023-02-17T12:22:38.165Z"
   },
   {
    "duration": 5,
    "start_time": "2023-02-17T12:22:47.630Z"
   },
   {
    "duration": 21,
    "start_time": "2023-02-17T12:29:10.958Z"
   },
   {
    "duration": 1181,
    "start_time": "2023-02-17T12:29:50.093Z"
   },
   {
    "duration": 233,
    "start_time": "2023-02-17T12:29:51.276Z"
   },
   {
    "duration": 49,
    "start_time": "2023-02-17T12:29:51.511Z"
   },
   {
    "duration": 101,
    "start_time": "2023-02-17T12:29:51.562Z"
   },
   {
    "duration": 98,
    "start_time": "2023-02-17T12:29:51.665Z"
   },
   {
    "duration": 25,
    "start_time": "2023-02-17T12:29:51.766Z"
   },
   {
    "duration": 70,
    "start_time": "2023-02-17T12:29:51.793Z"
   },
   {
    "duration": 49,
    "start_time": "2023-02-17T12:29:51.866Z"
   },
   {
    "duration": 54,
    "start_time": "2023-02-17T12:29:51.917Z"
   },
   {
    "duration": 14,
    "start_time": "2023-02-17T12:29:51.975Z"
   },
   {
    "duration": 12,
    "start_time": "2023-02-17T12:29:51.991Z"
   },
   {
    "duration": 9,
    "start_time": "2023-02-17T12:29:52.005Z"
   },
   {
    "duration": 14,
    "start_time": "2023-02-17T12:29:52.016Z"
   },
   {
    "duration": 271,
    "start_time": "2023-02-17T12:29:52.033Z"
   },
   {
    "duration": 173,
    "start_time": "2023-02-17T12:29:52.305Z"
   },
   {
    "duration": 331,
    "start_time": "2023-02-17T12:29:52.480Z"
   },
   {
    "duration": 183,
    "start_time": "2023-02-17T12:29:52.814Z"
   },
   {
    "duration": 152,
    "start_time": "2023-02-17T12:29:53.000Z"
   },
   {
    "duration": 215,
    "start_time": "2023-02-17T12:29:53.154Z"
   },
   {
    "duration": 138,
    "start_time": "2023-02-17T12:29:53.371Z"
   },
   {
    "duration": 1168,
    "start_time": "2023-02-17T12:29:53.511Z"
   },
   {
    "duration": 246,
    "start_time": "2023-02-17T12:29:54.682Z"
   },
   {
    "duration": 10,
    "start_time": "2023-02-17T12:29:54.930Z"
   },
   {
    "duration": 80,
    "start_time": "2023-02-17T12:29:54.942Z"
   },
   {
    "duration": 30,
    "start_time": "2023-02-17T12:29:55.024Z"
   },
   {
    "duration": 28,
    "start_time": "2023-02-17T12:29:55.056Z"
   },
   {
    "duration": 21,
    "start_time": "2023-02-17T12:29:55.086Z"
   },
   {
    "duration": 17,
    "start_time": "2023-02-17T12:29:55.109Z"
   },
   {
    "duration": 34,
    "start_time": "2023-02-17T12:29:55.128Z"
   },
   {
    "duration": 13,
    "start_time": "2023-02-17T12:29:55.164Z"
   },
   {
    "duration": 12,
    "start_time": "2023-02-17T12:29:55.178Z"
   },
   {
    "duration": 22,
    "start_time": "2023-02-17T12:29:55.192Z"
   },
   {
    "duration": 40,
    "start_time": "2023-02-17T12:29:55.215Z"
   },
   {
    "duration": 6,
    "start_time": "2023-02-17T12:29:55.257Z"
   },
   {
    "duration": 440,
    "start_time": "2023-02-17T12:29:55.265Z"
   },
   {
    "duration": 14,
    "start_time": "2023-02-17T12:29:55.707Z"
   },
   {
    "duration": 54,
    "start_time": "2023-02-17T12:29:55.723Z"
   },
   {
    "duration": 131,
    "start_time": "2023-02-17T12:29:55.779Z"
   },
   {
    "duration": 67,
    "start_time": "2023-02-17T12:29:55.911Z"
   },
   {
    "duration": 32,
    "start_time": "2023-02-17T12:29:55.980Z"
   },
   {
    "duration": 21,
    "start_time": "2023-02-17T12:29:56.039Z"
   },
   {
    "duration": 33,
    "start_time": "2023-02-17T12:29:56.062Z"
   },
   {
    "duration": 255,
    "start_time": "2023-02-17T12:29:56.097Z"
   },
   {
    "duration": 23,
    "start_time": "2023-02-17T12:29:56.354Z"
   },
   {
    "duration": 9,
    "start_time": "2023-02-17T12:29:56.379Z"
   },
   {
    "duration": 63,
    "start_time": "2023-02-17T12:29:56.391Z"
   },
   {
    "duration": 17,
    "start_time": "2023-02-17T12:29:56.458Z"
   },
   {
    "duration": 132,
    "start_time": "2023-02-17T12:29:56.477Z"
   },
   {
    "duration": 20,
    "start_time": "2023-02-17T12:31:00.234Z"
   },
   {
    "duration": 13,
    "start_time": "2023-02-17T12:31:21.790Z"
   },
   {
    "duration": 13,
    "start_time": "2023-02-17T12:32:23.528Z"
   },
   {
    "duration": 1335,
    "start_time": "2023-02-17T12:33:02.283Z"
   },
   {
    "duration": 240,
    "start_time": "2023-02-17T12:33:03.620Z"
   },
   {
    "duration": 49,
    "start_time": "2023-02-17T12:33:03.862Z"
   },
   {
    "duration": 112,
    "start_time": "2023-02-17T12:33:03.915Z"
   },
   {
    "duration": 74,
    "start_time": "2023-02-17T12:33:04.029Z"
   },
   {
    "duration": 51,
    "start_time": "2023-02-17T12:33:04.106Z"
   },
   {
    "duration": 26,
    "start_time": "2023-02-17T12:33:04.162Z"
   },
   {
    "duration": 84,
    "start_time": "2023-02-17T12:33:04.190Z"
   },
   {
    "duration": 38,
    "start_time": "2023-02-17T12:33:04.276Z"
   },
   {
    "duration": 73,
    "start_time": "2023-02-17T12:33:04.316Z"
   },
   {
    "duration": 91,
    "start_time": "2023-02-17T12:33:04.392Z"
   },
   {
    "duration": 28,
    "start_time": "2023-02-17T12:33:04.485Z"
   },
   {
    "duration": 49,
    "start_time": "2023-02-17T12:33:04.515Z"
   },
   {
    "duration": 339,
    "start_time": "2023-02-17T12:33:04.568Z"
   },
   {
    "duration": 173,
    "start_time": "2023-02-17T12:33:04.909Z"
   },
   {
    "duration": 348,
    "start_time": "2023-02-17T12:33:05.084Z"
   },
   {
    "duration": 197,
    "start_time": "2023-02-17T12:33:05.436Z"
   },
   {
    "duration": 144,
    "start_time": "2023-02-17T12:33:05.637Z"
   },
   {
    "duration": 247,
    "start_time": "2023-02-17T12:33:05.783Z"
   },
   {
    "duration": 135,
    "start_time": "2023-02-17T12:33:06.033Z"
   },
   {
    "duration": 1188,
    "start_time": "2023-02-17T12:33:06.170Z"
   },
   {
    "duration": 243,
    "start_time": "2023-02-17T12:33:07.359Z"
   },
   {
    "duration": 5,
    "start_time": "2023-02-17T12:33:07.604Z"
   },
   {
    "duration": 62,
    "start_time": "2023-02-17T12:33:07.611Z"
   },
   {
    "duration": 20,
    "start_time": "2023-02-17T12:33:07.676Z"
   },
   {
    "duration": 29,
    "start_time": "2023-02-17T12:33:07.698Z"
   },
   {
    "duration": 34,
    "start_time": "2023-02-17T12:33:07.729Z"
   },
   {
    "duration": 46,
    "start_time": "2023-02-17T12:33:07.764Z"
   },
   {
    "duration": 41,
    "start_time": "2023-02-17T12:33:07.813Z"
   },
   {
    "duration": 42,
    "start_time": "2023-02-17T12:33:07.862Z"
   },
   {
    "duration": 17,
    "start_time": "2023-02-17T12:33:07.905Z"
   },
   {
    "duration": 50,
    "start_time": "2023-02-17T12:33:07.924Z"
   },
   {
    "duration": 34,
    "start_time": "2023-02-17T12:33:07.976Z"
   },
   {
    "duration": 20,
    "start_time": "2023-02-17T12:33:08.013Z"
   },
   {
    "duration": 442,
    "start_time": "2023-02-17T12:33:08.035Z"
   },
   {
    "duration": 15,
    "start_time": "2023-02-17T12:33:08.479Z"
   },
   {
    "duration": 55,
    "start_time": "2023-02-17T12:33:08.496Z"
   },
   {
    "duration": 100,
    "start_time": "2023-02-17T12:33:08.556Z"
   },
   {
    "duration": 51,
    "start_time": "2023-02-17T12:33:08.658Z"
   },
   {
    "duration": 56,
    "start_time": "2023-02-17T12:33:08.711Z"
   },
   {
    "duration": 14,
    "start_time": "2023-02-17T12:33:08.771Z"
   },
   {
    "duration": 63,
    "start_time": "2023-02-17T12:33:08.788Z"
   },
   {
    "duration": 276,
    "start_time": "2023-02-17T12:33:08.854Z"
   },
   {
    "duration": 31,
    "start_time": "2023-02-17T12:33:09.144Z"
   },
   {
    "duration": 31,
    "start_time": "2023-02-17T12:33:09.177Z"
   },
   {
    "duration": 50,
    "start_time": "2023-02-17T12:33:09.210Z"
   },
   {
    "duration": 16,
    "start_time": "2023-02-17T12:33:09.263Z"
   },
   {
    "duration": 8,
    "start_time": "2023-02-17T12:33:09.281Z"
   },
   {
    "duration": 1356,
    "start_time": "2023-02-17T12:33:51.564Z"
   },
   {
    "duration": 224,
    "start_time": "2023-02-17T12:33:52.922Z"
   },
   {
    "duration": 36,
    "start_time": "2023-02-17T12:33:53.148Z"
   },
   {
    "duration": 98,
    "start_time": "2023-02-17T12:33:53.185Z"
   },
   {
    "duration": 95,
    "start_time": "2023-02-17T12:33:53.285Z"
   },
   {
    "duration": 21,
    "start_time": "2023-02-17T12:33:53.382Z"
   },
   {
    "duration": 46,
    "start_time": "2023-02-17T12:33:53.405Z"
   },
   {
    "duration": 51,
    "start_time": "2023-02-17T12:33:53.454Z"
   },
   {
    "duration": 38,
    "start_time": "2023-02-17T12:33:53.506Z"
   },
   {
    "duration": 21,
    "start_time": "2023-02-17T12:33:53.546Z"
   },
   {
    "duration": 38,
    "start_time": "2023-02-17T12:33:53.570Z"
   },
   {
    "duration": 27,
    "start_time": "2023-02-17T12:33:53.609Z"
   },
   {
    "duration": 46,
    "start_time": "2023-02-17T12:33:53.638Z"
   },
   {
    "duration": 291,
    "start_time": "2023-02-17T12:33:53.689Z"
   },
   {
    "duration": 175,
    "start_time": "2023-02-17T12:33:53.981Z"
   },
   {
    "duration": 365,
    "start_time": "2023-02-17T12:33:54.158Z"
   },
   {
    "duration": 192,
    "start_time": "2023-02-17T12:33:54.526Z"
   },
   {
    "duration": 147,
    "start_time": "2023-02-17T12:33:54.720Z"
   },
   {
    "duration": 251,
    "start_time": "2023-02-17T12:33:54.870Z"
   },
   {
    "duration": 146,
    "start_time": "2023-02-17T12:33:55.123Z"
   },
   {
    "duration": 1226,
    "start_time": "2023-02-17T12:33:55.271Z"
   },
   {
    "duration": 270,
    "start_time": "2023-02-17T12:33:56.499Z"
   },
   {
    "duration": 5,
    "start_time": "2023-02-17T12:33:56.771Z"
   },
   {
    "duration": 49,
    "start_time": "2023-02-17T12:33:56.778Z"
   },
   {
    "duration": 44,
    "start_time": "2023-02-17T12:33:56.830Z"
   },
   {
    "duration": 18,
    "start_time": "2023-02-17T12:33:56.877Z"
   },
   {
    "duration": 30,
    "start_time": "2023-02-17T12:33:56.899Z"
   },
   {
    "duration": 50,
    "start_time": "2023-02-17T12:33:56.932Z"
   },
   {
    "duration": 29,
    "start_time": "2023-02-17T12:33:56.985Z"
   },
   {
    "duration": 17,
    "start_time": "2023-02-17T12:33:57.016Z"
   },
   {
    "duration": 48,
    "start_time": "2023-02-17T12:33:57.036Z"
   },
   {
    "duration": 52,
    "start_time": "2023-02-17T12:33:57.086Z"
   },
   {
    "duration": 46,
    "start_time": "2023-02-17T12:33:57.140Z"
   },
   {
    "duration": 7,
    "start_time": "2023-02-17T12:33:57.188Z"
   },
   {
    "duration": 507,
    "start_time": "2023-02-17T12:33:57.196Z"
   },
   {
    "duration": 17,
    "start_time": "2023-02-17T12:33:57.705Z"
   },
   {
    "duration": 34,
    "start_time": "2023-02-17T12:33:57.736Z"
   },
   {
    "duration": 108,
    "start_time": "2023-02-17T12:33:57.771Z"
   },
   {
    "duration": 77,
    "start_time": "2023-02-17T12:33:57.881Z"
   },
   {
    "duration": 40,
    "start_time": "2023-02-17T12:33:57.962Z"
   },
   {
    "duration": 41,
    "start_time": "2023-02-17T12:33:58.006Z"
   },
   {
    "duration": 31,
    "start_time": "2023-02-17T12:33:58.053Z"
   },
   {
    "duration": 221,
    "start_time": "2023-02-17T12:33:58.086Z"
   },
   {
    "duration": 32,
    "start_time": "2023-02-17T12:33:58.309Z"
   },
   {
    "duration": 14,
    "start_time": "2023-02-17T12:33:58.343Z"
   },
   {
    "duration": 43,
    "start_time": "2023-02-17T12:33:58.359Z"
   },
   {
    "duration": 38,
    "start_time": "2023-02-17T12:33:58.404Z"
   },
   {
    "duration": 164,
    "start_time": "2023-02-17T12:33:58.444Z"
   },
   {
    "duration": 37,
    "start_time": "2023-02-17T12:34:20.714Z"
   },
   {
    "duration": 38,
    "start_time": "2023-02-17T12:34:49.311Z"
   },
   {
    "duration": 22,
    "start_time": "2023-02-17T12:40:14.469Z"
   },
   {
    "duration": 10,
    "start_time": "2023-02-17T12:40:50.348Z"
   },
   {
    "duration": 10,
    "start_time": "2023-02-17T12:41:02.484Z"
   },
   {
    "duration": 11,
    "start_time": "2023-02-17T12:41:13.679Z"
   },
   {
    "duration": 13,
    "start_time": "2023-02-17T12:42:19.624Z"
   },
   {
    "duration": 24,
    "start_time": "2023-02-17T12:42:30.728Z"
   },
   {
    "duration": 25,
    "start_time": "2023-02-17T12:43:27.005Z"
   },
   {
    "duration": 31,
    "start_time": "2023-02-17T12:44:10.680Z"
   },
   {
    "duration": 32,
    "start_time": "2023-02-17T12:44:36.261Z"
   },
   {
    "duration": 42,
    "start_time": "2023-02-17T12:46:03.054Z"
   },
   {
    "duration": 36,
    "start_time": "2023-02-17T12:46:26.492Z"
   },
   {
    "duration": 15,
    "start_time": "2023-02-17T12:46:51.477Z"
   },
   {
    "duration": 1285,
    "start_time": "2023-02-17T12:47:17.158Z"
   },
   {
    "duration": 237,
    "start_time": "2023-02-17T12:47:18.448Z"
   },
   {
    "duration": 34,
    "start_time": "2023-02-17T12:47:18.689Z"
   },
   {
    "duration": 96,
    "start_time": "2023-02-17T12:47:18.725Z"
   },
   {
    "duration": 73,
    "start_time": "2023-02-17T12:47:18.823Z"
   },
   {
    "duration": 20,
    "start_time": "2023-02-17T12:47:18.897Z"
   },
   {
    "duration": 49,
    "start_time": "2023-02-17T12:47:18.919Z"
   },
   {
    "duration": 64,
    "start_time": "2023-02-17T12:47:18.970Z"
   },
   {
    "duration": 22,
    "start_time": "2023-02-17T12:47:19.042Z"
   },
   {
    "duration": 31,
    "start_time": "2023-02-17T12:47:19.067Z"
   },
   {
    "duration": 48,
    "start_time": "2023-02-17T12:47:19.100Z"
   },
   {
    "duration": 27,
    "start_time": "2023-02-17T12:47:19.151Z"
   },
   {
    "duration": 33,
    "start_time": "2023-02-17T12:47:19.180Z"
   },
   {
    "duration": 336,
    "start_time": "2023-02-17T12:47:19.215Z"
   },
   {
    "duration": 155,
    "start_time": "2023-02-17T12:47:19.552Z"
   },
   {
    "duration": 339,
    "start_time": "2023-02-17T12:47:19.709Z"
   },
   {
    "duration": 182,
    "start_time": "2023-02-17T12:47:20.050Z"
   },
   {
    "duration": 135,
    "start_time": "2023-02-17T12:47:20.234Z"
   },
   {
    "duration": 219,
    "start_time": "2023-02-17T12:47:20.371Z"
   },
   {
    "duration": 131,
    "start_time": "2023-02-17T12:47:20.592Z"
   },
   {
    "duration": 1167,
    "start_time": "2023-02-17T12:47:20.725Z"
   },
   {
    "duration": 258,
    "start_time": "2023-02-17T12:47:21.894Z"
   },
   {
    "duration": 5,
    "start_time": "2023-02-17T12:47:22.154Z"
   },
   {
    "duration": 58,
    "start_time": "2023-02-17T12:47:22.161Z"
   },
   {
    "duration": 49,
    "start_time": "2023-02-17T12:47:22.220Z"
   },
   {
    "duration": 51,
    "start_time": "2023-02-17T12:47:22.271Z"
   },
   {
    "duration": 42,
    "start_time": "2023-02-17T12:47:22.323Z"
   },
   {
    "duration": 28,
    "start_time": "2023-02-17T12:47:22.370Z"
   },
   {
    "duration": 21,
    "start_time": "2023-02-17T12:47:22.401Z"
   },
   {
    "duration": 45,
    "start_time": "2023-02-17T12:47:22.424Z"
   },
   {
    "duration": 56,
    "start_time": "2023-02-17T12:47:22.471Z"
   },
   {
    "duration": 48,
    "start_time": "2023-02-17T12:47:22.529Z"
   },
   {
    "duration": 33,
    "start_time": "2023-02-17T12:47:22.579Z"
   },
   {
    "duration": 42,
    "start_time": "2023-02-17T12:47:22.614Z"
   },
   {
    "duration": 425,
    "start_time": "2023-02-17T12:47:22.658Z"
   },
   {
    "duration": 14,
    "start_time": "2023-02-17T12:47:23.085Z"
   },
   {
    "duration": 44,
    "start_time": "2023-02-17T12:47:23.100Z"
   },
   {
    "duration": 99,
    "start_time": "2023-02-17T12:47:23.151Z"
   },
   {
    "duration": 58,
    "start_time": "2023-02-17T12:47:23.252Z"
   },
   {
    "duration": 48,
    "start_time": "2023-02-17T12:47:23.311Z"
   },
   {
    "duration": 26,
    "start_time": "2023-02-17T12:47:23.361Z"
   },
   {
    "duration": 33,
    "start_time": "2023-02-17T12:47:23.389Z"
   },
   {
    "duration": 212,
    "start_time": "2023-02-17T12:47:23.423Z"
   },
   {
    "duration": 22,
    "start_time": "2023-02-17T12:47:23.637Z"
   },
   {
    "duration": 29,
    "start_time": "2023-02-17T12:47:23.661Z"
   },
   {
    "duration": 52,
    "start_time": "2023-02-17T12:47:23.692Z"
   },
   {
    "duration": 28,
    "start_time": "2023-02-17T12:47:23.745Z"
   },
   {
    "duration": 40,
    "start_time": "2023-02-17T12:47:23.776Z"
   },
   {
    "duration": 139,
    "start_time": "2023-02-17T12:47:23.819Z"
   },
   {
    "duration": 22,
    "start_time": "2023-02-17T12:47:48.606Z"
   },
   {
    "duration": 1399,
    "start_time": "2023-02-17T12:48:00.352Z"
   },
   {
    "duration": 220,
    "start_time": "2023-02-17T12:48:01.753Z"
   },
   {
    "duration": 35,
    "start_time": "2023-02-17T12:48:01.975Z"
   },
   {
    "duration": 95,
    "start_time": "2023-02-17T12:48:02.012Z"
   },
   {
    "duration": 78,
    "start_time": "2023-02-17T12:48:02.109Z"
   },
   {
    "duration": 21,
    "start_time": "2023-02-17T12:48:02.189Z"
   },
   {
    "duration": 60,
    "start_time": "2023-02-17T12:48:02.212Z"
   },
   {
    "duration": 58,
    "start_time": "2023-02-17T12:48:02.274Z"
   },
   {
    "duration": 28,
    "start_time": "2023-02-17T12:48:02.334Z"
   },
   {
    "duration": 12,
    "start_time": "2023-02-17T12:48:02.365Z"
   },
   {
    "duration": 10,
    "start_time": "2023-02-17T12:48:02.379Z"
   },
   {
    "duration": 45,
    "start_time": "2023-02-17T12:48:02.391Z"
   },
   {
    "duration": 58,
    "start_time": "2023-02-17T12:48:02.438Z"
   },
   {
    "duration": 331,
    "start_time": "2023-02-17T12:48:02.498Z"
   },
   {
    "duration": 230,
    "start_time": "2023-02-17T12:48:02.836Z"
   },
   {
    "duration": 333,
    "start_time": "2023-02-17T12:48:03.068Z"
   },
   {
    "duration": 184,
    "start_time": "2023-02-17T12:48:03.403Z"
   },
   {
    "duration": 138,
    "start_time": "2023-02-17T12:48:03.589Z"
   },
   {
    "duration": 225,
    "start_time": "2023-02-17T12:48:03.729Z"
   },
   {
    "duration": 118,
    "start_time": "2023-02-17T12:48:03.956Z"
   },
   {
    "duration": 1183,
    "start_time": "2023-02-17T12:48:04.076Z"
   },
   {
    "duration": 252,
    "start_time": "2023-02-17T12:48:05.261Z"
   },
   {
    "duration": 5,
    "start_time": "2023-02-17T12:48:05.515Z"
   },
   {
    "duration": 74,
    "start_time": "2023-02-17T12:48:05.522Z"
   },
   {
    "duration": 71,
    "start_time": "2023-02-17T12:48:05.598Z"
   },
   {
    "duration": 37,
    "start_time": "2023-02-17T12:48:05.671Z"
   },
   {
    "duration": 22,
    "start_time": "2023-02-17T12:48:05.710Z"
   },
   {
    "duration": 54,
    "start_time": "2023-02-17T12:48:05.737Z"
   },
   {
    "duration": 21,
    "start_time": "2023-02-17T12:48:05.792Z"
   },
   {
    "duration": 48,
    "start_time": "2023-02-17T12:48:05.815Z"
   },
   {
    "duration": 32,
    "start_time": "2023-02-17T12:48:05.864Z"
   },
   {
    "duration": 46,
    "start_time": "2023-02-17T12:48:05.898Z"
   },
   {
    "duration": 23,
    "start_time": "2023-02-17T12:48:05.945Z"
   },
   {
    "duration": 17,
    "start_time": "2023-02-17T12:48:05.970Z"
   },
   {
    "duration": 477,
    "start_time": "2023-02-17T12:48:05.989Z"
   },
   {
    "duration": 13,
    "start_time": "2023-02-17T12:48:06.468Z"
   },
   {
    "duration": 45,
    "start_time": "2023-02-17T12:48:06.483Z"
   },
   {
    "duration": 84,
    "start_time": "2023-02-17T12:48:06.536Z"
   },
   {
    "duration": 84,
    "start_time": "2023-02-17T12:48:06.622Z"
   },
   {
    "duration": 51,
    "start_time": "2023-02-17T12:48:06.708Z"
   },
   {
    "duration": 19,
    "start_time": "2023-02-17T12:48:06.762Z"
   },
   {
    "duration": 23,
    "start_time": "2023-02-17T12:48:06.784Z"
   },
   {
    "duration": 258,
    "start_time": "2023-02-17T12:48:06.809Z"
   },
   {
    "duration": 20,
    "start_time": "2023-02-17T12:48:07.069Z"
   },
   {
    "duration": 13,
    "start_time": "2023-02-17T12:48:07.091Z"
   },
   {
    "duration": 59,
    "start_time": "2023-02-17T12:48:07.105Z"
   },
   {
    "duration": 46,
    "start_time": "2023-02-17T12:48:07.166Z"
   },
   {
    "duration": 44,
    "start_time": "2023-02-17T12:48:07.214Z"
   },
   {
    "duration": 94,
    "start_time": "2023-02-17T12:48:07.261Z"
   },
   {
    "duration": 163,
    "start_time": "2023-02-17T12:49:25.292Z"
   },
   {
    "duration": 1341,
    "start_time": "2023-02-17T12:50:16.182Z"
   },
   {
    "duration": 206,
    "start_time": "2023-02-17T12:50:17.525Z"
   },
   {
    "duration": 40,
    "start_time": "2023-02-17T12:50:17.733Z"
   },
   {
    "duration": 86,
    "start_time": "2023-02-17T12:50:17.775Z"
   },
   {
    "duration": 88,
    "start_time": "2023-02-17T12:50:17.862Z"
   },
   {
    "duration": 21,
    "start_time": "2023-02-17T12:50:17.951Z"
   },
   {
    "duration": 31,
    "start_time": "2023-02-17T12:50:17.973Z"
   },
   {
    "duration": 76,
    "start_time": "2023-02-17T12:50:18.006Z"
   },
   {
    "duration": 26,
    "start_time": "2023-02-17T12:50:18.084Z"
   },
   {
    "duration": 43,
    "start_time": "2023-02-17T12:50:18.114Z"
   },
   {
    "duration": 8,
    "start_time": "2023-02-17T12:50:18.159Z"
   },
   {
    "duration": 12,
    "start_time": "2023-02-17T12:50:18.169Z"
   },
   {
    "duration": 8,
    "start_time": "2023-02-17T12:50:18.183Z"
   },
   {
    "duration": 275,
    "start_time": "2023-02-17T12:50:18.192Z"
   },
   {
    "duration": 200,
    "start_time": "2023-02-17T12:50:18.469Z"
   },
   {
    "duration": 351,
    "start_time": "2023-02-17T12:50:18.671Z"
   },
   {
    "duration": 197,
    "start_time": "2023-02-17T12:50:19.024Z"
   },
   {
    "duration": 147,
    "start_time": "2023-02-17T12:50:19.222Z"
   },
   {
    "duration": 228,
    "start_time": "2023-02-17T12:50:19.372Z"
   },
   {
    "duration": 128,
    "start_time": "2023-02-17T12:50:19.601Z"
   },
   {
    "duration": 1105,
    "start_time": "2023-02-17T12:50:19.736Z"
   },
   {
    "duration": 236,
    "start_time": "2023-02-17T12:50:20.854Z"
   },
   {
    "duration": 4,
    "start_time": "2023-02-17T12:50:21.092Z"
   },
   {
    "duration": 37,
    "start_time": "2023-02-17T12:50:21.098Z"
   },
   {
    "duration": 14,
    "start_time": "2023-02-17T12:50:21.147Z"
   },
   {
    "duration": 31,
    "start_time": "2023-02-17T12:50:21.164Z"
   },
   {
    "duration": 9,
    "start_time": "2023-02-17T12:50:21.197Z"
   },
   {
    "duration": 30,
    "start_time": "2023-02-17T12:50:21.211Z"
   },
   {
    "duration": 18,
    "start_time": "2023-02-17T12:50:21.243Z"
   },
   {
    "duration": 16,
    "start_time": "2023-02-17T12:50:21.263Z"
   },
   {
    "duration": 14,
    "start_time": "2023-02-17T12:50:21.281Z"
   },
   {
    "duration": 31,
    "start_time": "2023-02-17T12:50:21.297Z"
   },
   {
    "duration": 15,
    "start_time": "2023-02-17T12:50:21.338Z"
   },
   {
    "duration": 11,
    "start_time": "2023-02-17T12:50:21.356Z"
   },
   {
    "duration": 483,
    "start_time": "2023-02-17T12:50:21.369Z"
   },
   {
    "duration": 20,
    "start_time": "2023-02-17T12:50:21.854Z"
   },
   {
    "duration": 26,
    "start_time": "2023-02-17T12:50:21.876Z"
   },
   {
    "duration": 101,
    "start_time": "2023-02-17T12:50:21.904Z"
   },
   {
    "duration": 67,
    "start_time": "2023-02-17T12:50:22.007Z"
   },
   {
    "duration": 32,
    "start_time": "2023-02-17T12:50:22.075Z"
   },
   {
    "duration": 47,
    "start_time": "2023-02-17T12:50:22.109Z"
   },
   {
    "duration": 26,
    "start_time": "2023-02-17T12:50:22.159Z"
   },
   {
    "duration": 224,
    "start_time": "2023-02-17T12:50:22.186Z"
   },
   {
    "duration": 40,
    "start_time": "2023-02-17T12:50:22.413Z"
   },
   {
    "duration": 11,
    "start_time": "2023-02-17T12:50:22.455Z"
   },
   {
    "duration": 42,
    "start_time": "2023-02-17T12:50:22.468Z"
   },
   {
    "duration": 18,
    "start_time": "2023-02-17T12:50:22.512Z"
   },
   {
    "duration": 33,
    "start_time": "2023-02-17T12:50:22.531Z"
   },
   {
    "duration": 135,
    "start_time": "2023-02-17T12:50:22.566Z"
   },
   {
    "duration": 1378,
    "start_time": "2023-02-18T09:58:01.565Z"
   },
   {
    "duration": 637,
    "start_time": "2023-02-18T09:58:02.945Z"
   },
   {
    "duration": 32,
    "start_time": "2023-02-18T09:58:03.584Z"
   },
   {
    "duration": 70,
    "start_time": "2023-02-18T09:58:03.618Z"
   },
   {
    "duration": 72,
    "start_time": "2023-02-18T09:58:03.690Z"
   },
   {
    "duration": 24,
    "start_time": "2023-02-18T09:58:03.763Z"
   },
   {
    "duration": 48,
    "start_time": "2023-02-18T09:58:03.789Z"
   },
   {
    "duration": 50,
    "start_time": "2023-02-18T09:58:03.838Z"
   },
   {
    "duration": 43,
    "start_time": "2023-02-18T09:58:03.891Z"
   },
   {
    "duration": 12,
    "start_time": "2023-02-18T09:58:03.936Z"
   },
   {
    "duration": 6,
    "start_time": "2023-02-18T09:58:03.950Z"
   },
   {
    "duration": 7,
    "start_time": "2023-02-18T09:58:03.958Z"
   },
   {
    "duration": 13,
    "start_time": "2023-02-18T09:58:03.966Z"
   },
   {
    "duration": 253,
    "start_time": "2023-02-18T09:58:03.982Z"
   },
   {
    "duration": 155,
    "start_time": "2023-02-18T09:58:04.236Z"
   },
   {
    "duration": 417,
    "start_time": "2023-02-18T09:58:04.392Z"
   },
   {
    "duration": 185,
    "start_time": "2023-02-18T09:58:04.815Z"
   },
   {
    "duration": 163,
    "start_time": "2023-02-18T09:58:05.003Z"
   },
   {
    "duration": 200,
    "start_time": "2023-02-18T09:58:05.168Z"
   },
   {
    "duration": 121,
    "start_time": "2023-02-18T09:58:05.370Z"
   },
   {
    "duration": 979,
    "start_time": "2023-02-18T09:58:05.493Z"
   },
   {
    "duration": 216,
    "start_time": "2023-02-18T09:58:06.474Z"
   },
   {
    "duration": 4,
    "start_time": "2023-02-18T09:58:06.692Z"
   },
   {
    "duration": 29,
    "start_time": "2023-02-18T09:58:06.697Z"
   },
   {
    "duration": 10,
    "start_time": "2023-02-18T09:58:06.727Z"
   },
   {
    "duration": 15,
    "start_time": "2023-02-18T09:58:06.739Z"
   },
   {
    "duration": 6,
    "start_time": "2023-02-18T09:58:06.755Z"
   },
   {
    "duration": 16,
    "start_time": "2023-02-18T09:58:06.763Z"
   },
   {
    "duration": 43,
    "start_time": "2023-02-18T09:58:06.781Z"
   },
   {
    "duration": 17,
    "start_time": "2023-02-18T09:58:06.826Z"
   },
   {
    "duration": 20,
    "start_time": "2023-02-18T09:58:06.845Z"
   },
   {
    "duration": 57,
    "start_time": "2023-02-18T09:58:06.867Z"
   },
   {
    "duration": 12,
    "start_time": "2023-02-18T09:58:06.925Z"
   },
   {
    "duration": 6,
    "start_time": "2023-02-18T09:58:06.938Z"
   },
   {
    "duration": 438,
    "start_time": "2023-02-18T09:58:06.945Z"
   },
   {
    "duration": 13,
    "start_time": "2023-02-18T09:58:07.384Z"
   },
   {
    "duration": 38,
    "start_time": "2023-02-18T09:58:07.398Z"
   },
   {
    "duration": 95,
    "start_time": "2023-02-18T09:58:07.437Z"
   },
   {
    "duration": 50,
    "start_time": "2023-02-18T09:58:07.534Z"
   },
   {
    "duration": 51,
    "start_time": "2023-02-18T09:58:07.586Z"
   },
   {
    "duration": 14,
    "start_time": "2023-02-18T09:58:07.641Z"
   },
   {
    "duration": 23,
    "start_time": "2023-02-18T09:58:07.656Z"
   },
   {
    "duration": 202,
    "start_time": "2023-02-18T09:58:07.680Z"
   },
   {
    "duration": 14,
    "start_time": "2023-02-18T09:58:07.884Z"
   },
   {
    "duration": 23,
    "start_time": "2023-02-18T09:58:07.899Z"
   },
   {
    "duration": 24,
    "start_time": "2023-02-18T09:58:07.924Z"
   },
   {
    "duration": 17,
    "start_time": "2023-02-18T09:58:07.950Z"
   },
   {
    "duration": 19,
    "start_time": "2023-02-18T09:58:07.968Z"
   },
   {
    "duration": 144,
    "start_time": "2023-02-18T09:58:07.988Z"
   },
   {
    "duration": 34,
    "start_time": "2023-02-18T09:58:33.371Z"
   },
   {
    "duration": 11,
    "start_time": "2023-02-18T09:58:52.748Z"
   },
   {
    "duration": 1141,
    "start_time": "2023-02-18T09:59:06.948Z"
   },
   {
    "duration": 197,
    "start_time": "2023-02-18T09:59:08.091Z"
   },
   {
    "duration": 38,
    "start_time": "2023-02-18T09:59:08.291Z"
   },
   {
    "duration": 67,
    "start_time": "2023-02-18T09:59:08.332Z"
   },
   {
    "duration": 71,
    "start_time": "2023-02-18T09:59:08.401Z"
   },
   {
    "duration": 20,
    "start_time": "2023-02-18T09:59:08.474Z"
   },
   {
    "duration": 38,
    "start_time": "2023-02-18T09:59:08.496Z"
   },
   {
    "duration": 45,
    "start_time": "2023-02-18T09:59:08.536Z"
   },
   {
    "duration": 46,
    "start_time": "2023-02-18T09:59:08.583Z"
   },
   {
    "duration": 12,
    "start_time": "2023-02-18T09:59:08.631Z"
   },
   {
    "duration": 4,
    "start_time": "2023-02-18T09:59:08.645Z"
   },
   {
    "duration": 6,
    "start_time": "2023-02-18T09:59:08.651Z"
   },
   {
    "duration": 17,
    "start_time": "2023-02-18T09:59:08.658Z"
   },
   {
    "duration": 251,
    "start_time": "2023-02-18T09:59:08.677Z"
   },
   {
    "duration": 160,
    "start_time": "2023-02-18T09:59:08.930Z"
   },
   {
    "duration": 319,
    "start_time": "2023-02-18T09:59:09.092Z"
   },
   {
    "duration": 170,
    "start_time": "2023-02-18T09:59:09.413Z"
   },
   {
    "duration": 140,
    "start_time": "2023-02-18T09:59:09.584Z"
   },
   {
    "duration": 222,
    "start_time": "2023-02-18T09:59:09.726Z"
   },
   {
    "duration": 138,
    "start_time": "2023-02-18T09:59:09.950Z"
   },
   {
    "duration": 976,
    "start_time": "2023-02-18T09:59:10.089Z"
   },
   {
    "duration": 222,
    "start_time": "2023-02-18T09:59:11.066Z"
   },
   {
    "duration": 4,
    "start_time": "2023-02-18T09:59:11.289Z"
   },
   {
    "duration": 28,
    "start_time": "2023-02-18T09:59:11.295Z"
   },
   {
    "duration": 10,
    "start_time": "2023-02-18T09:59:11.324Z"
   },
   {
    "duration": 16,
    "start_time": "2023-02-18T09:59:11.335Z"
   },
   {
    "duration": 9,
    "start_time": "2023-02-18T09:59:11.352Z"
   },
   {
    "duration": 14,
    "start_time": "2023-02-18T09:59:11.365Z"
   },
   {
    "duration": 43,
    "start_time": "2023-02-18T09:59:11.381Z"
   },
   {
    "duration": 12,
    "start_time": "2023-02-18T09:59:11.425Z"
   },
   {
    "duration": 13,
    "start_time": "2023-02-18T09:59:11.439Z"
   },
   {
    "duration": 24,
    "start_time": "2023-02-18T09:59:11.454Z"
   },
   {
    "duration": 45,
    "start_time": "2023-02-18T09:59:11.480Z"
   },
   {
    "duration": 6,
    "start_time": "2023-02-18T09:59:11.527Z"
   },
   {
    "duration": 391,
    "start_time": "2023-02-18T09:59:11.534Z"
   },
   {
    "duration": 13,
    "start_time": "2023-02-18T09:59:11.926Z"
   },
   {
    "duration": 21,
    "start_time": "2023-02-18T09:59:11.941Z"
   },
   {
    "duration": 98,
    "start_time": "2023-02-18T09:59:11.964Z"
   },
   {
    "duration": 65,
    "start_time": "2023-02-18T09:59:12.064Z"
   },
   {
    "duration": 29,
    "start_time": "2023-02-18T09:59:12.130Z"
   },
   {
    "duration": 14,
    "start_time": "2023-02-18T09:59:12.161Z"
   },
   {
    "duration": 48,
    "start_time": "2023-02-18T09:59:12.176Z"
   },
   {
    "duration": 211,
    "start_time": "2023-02-18T09:59:12.226Z"
   },
   {
    "duration": 14,
    "start_time": "2023-02-18T09:59:12.440Z"
   },
   {
    "duration": 9,
    "start_time": "2023-02-18T09:59:12.456Z"
   },
   {
    "duration": 24,
    "start_time": "2023-02-18T09:59:12.467Z"
   },
   {
    "duration": 44,
    "start_time": "2023-02-18T09:59:12.493Z"
   },
   {
    "duration": 18,
    "start_time": "2023-02-18T09:59:18.037Z"
   },
   {
    "duration": 21,
    "start_time": "2023-02-18T09:59:44.053Z"
   },
   {
    "duration": 36,
    "start_time": "2023-02-18T09:59:53.380Z"
   },
   {
    "duration": 36,
    "start_time": "2023-02-18T10:02:32.131Z"
   },
   {
    "duration": 113,
    "start_time": "2023-02-18T10:02:42.227Z"
   },
   {
    "duration": 38,
    "start_time": "2023-02-18T10:03:03.166Z"
   },
   {
    "duration": 43,
    "start_time": "2023-02-18T10:03:48.971Z"
   },
   {
    "duration": 1070,
    "start_time": "2023-02-18T10:04:26.565Z"
   },
   {
    "duration": 192,
    "start_time": "2023-02-18T10:04:27.637Z"
   },
   {
    "duration": 33,
    "start_time": "2023-02-18T10:04:27.831Z"
   },
   {
    "duration": 84,
    "start_time": "2023-02-18T10:04:27.866Z"
   },
   {
    "duration": 68,
    "start_time": "2023-02-18T10:04:27.953Z"
   },
   {
    "duration": 19,
    "start_time": "2023-02-18T10:04:28.023Z"
   },
   {
    "duration": 19,
    "start_time": "2023-02-18T10:04:28.043Z"
   },
   {
    "duration": 69,
    "start_time": "2023-02-18T10:04:28.064Z"
   },
   {
    "duration": 19,
    "start_time": "2023-02-18T10:04:28.135Z"
   },
   {
    "duration": 10,
    "start_time": "2023-02-18T10:04:28.156Z"
   },
   {
    "duration": 5,
    "start_time": "2023-02-18T10:04:28.168Z"
   },
   {
    "duration": 5,
    "start_time": "2023-02-18T10:04:28.175Z"
   },
   {
    "duration": 9,
    "start_time": "2023-02-18T10:04:28.181Z"
   },
   {
    "duration": 244,
    "start_time": "2023-02-18T10:04:28.193Z"
   },
   {
    "duration": 142,
    "start_time": "2023-02-18T10:04:28.439Z"
   },
   {
    "duration": 279,
    "start_time": "2023-02-18T10:04:28.582Z"
   },
   {
    "duration": 155,
    "start_time": "2023-02-18T10:04:28.863Z"
   },
   {
    "duration": 115,
    "start_time": "2023-02-18T10:04:29.020Z"
   },
   {
    "duration": 186,
    "start_time": "2023-02-18T10:04:29.137Z"
   },
   {
    "duration": 116,
    "start_time": "2023-02-18T10:04:29.324Z"
   },
   {
    "duration": 944,
    "start_time": "2023-02-18T10:04:29.441Z"
   },
   {
    "duration": 208,
    "start_time": "2023-02-18T10:04:30.387Z"
   },
   {
    "duration": 4,
    "start_time": "2023-02-18T10:04:30.596Z"
   },
   {
    "duration": 52,
    "start_time": "2023-02-18T10:04:30.601Z"
   },
   {
    "duration": 37,
    "start_time": "2023-02-18T10:04:30.655Z"
   },
   {
    "duration": 38,
    "start_time": "2023-02-18T10:04:30.694Z"
   },
   {
    "duration": 18,
    "start_time": "2023-02-18T10:04:30.734Z"
   },
   {
    "duration": 19,
    "start_time": "2023-02-18T10:04:30.754Z"
   },
   {
    "duration": 23,
    "start_time": "2023-02-18T10:04:30.774Z"
   },
   {
    "duration": 31,
    "start_time": "2023-02-18T10:04:30.799Z"
   },
   {
    "duration": 37,
    "start_time": "2023-02-18T10:04:30.831Z"
   },
   {
    "duration": 34,
    "start_time": "2023-02-18T10:04:30.870Z"
   },
   {
    "duration": 19,
    "start_time": "2023-02-18T10:04:30.906Z"
   },
   {
    "duration": 8,
    "start_time": "2023-02-18T10:04:30.927Z"
   },
   {
    "duration": 383,
    "start_time": "2023-02-18T10:04:30.937Z"
   },
   {
    "duration": 13,
    "start_time": "2023-02-18T10:04:31.323Z"
   },
   {
    "duration": 24,
    "start_time": "2023-02-18T10:04:31.338Z"
   },
   {
    "duration": 98,
    "start_time": "2023-02-18T10:04:31.364Z"
   },
   {
    "duration": 61,
    "start_time": "2023-02-18T10:04:31.466Z"
   },
   {
    "duration": 28,
    "start_time": "2023-02-18T10:04:31.530Z"
   },
   {
    "duration": 15,
    "start_time": "2023-02-18T10:04:31.561Z"
   },
   {
    "duration": 52,
    "start_time": "2023-02-18T10:04:31.578Z"
   },
   {
    "duration": 178,
    "start_time": "2023-02-18T10:04:31.632Z"
   },
   {
    "duration": 15,
    "start_time": "2023-02-18T10:04:31.812Z"
   },
   {
    "duration": 8,
    "start_time": "2023-02-18T10:04:31.828Z"
   },
   {
    "duration": 27,
    "start_time": "2023-02-18T10:04:31.837Z"
   },
   {
    "duration": 15,
    "start_time": "2023-02-18T10:04:31.865Z"
   },
   {
    "duration": 50,
    "start_time": "2023-02-18T10:04:31.881Z"
   },
   {
    "duration": 16,
    "start_time": "2023-02-18T10:04:57.743Z"
   },
   {
    "duration": 1159,
    "start_time": "2023-02-18T10:05:11.423Z"
   },
   {
    "duration": 209,
    "start_time": "2023-02-18T10:05:12.584Z"
   },
   {
    "duration": 28,
    "start_time": "2023-02-18T10:05:12.794Z"
   },
   {
    "duration": 69,
    "start_time": "2023-02-18T10:05:12.825Z"
   },
   {
    "duration": 68,
    "start_time": "2023-02-18T10:05:12.896Z"
   },
   {
    "duration": 19,
    "start_time": "2023-02-18T10:05:12.965Z"
   },
   {
    "duration": 41,
    "start_time": "2023-02-18T10:05:12.986Z"
   },
   {
    "duration": 41,
    "start_time": "2023-02-18T10:05:13.029Z"
   },
   {
    "duration": 19,
    "start_time": "2023-02-18T10:05:13.072Z"
   },
   {
    "duration": 33,
    "start_time": "2023-02-18T10:05:13.093Z"
   },
   {
    "duration": 6,
    "start_time": "2023-02-18T10:05:13.129Z"
   },
   {
    "duration": 4,
    "start_time": "2023-02-18T10:05:13.137Z"
   },
   {
    "duration": 8,
    "start_time": "2023-02-18T10:05:13.143Z"
   },
   {
    "duration": 224,
    "start_time": "2023-02-18T10:05:13.152Z"
   },
   {
    "duration": 147,
    "start_time": "2023-02-18T10:05:13.378Z"
   },
   {
    "duration": 290,
    "start_time": "2023-02-18T10:05:13.527Z"
   },
   {
    "duration": 156,
    "start_time": "2023-02-18T10:05:13.820Z"
   },
   {
    "duration": 118,
    "start_time": "2023-02-18T10:05:13.977Z"
   },
   {
    "duration": 185,
    "start_time": "2023-02-18T10:05:14.096Z"
   },
   {
    "duration": 113,
    "start_time": "2023-02-18T10:05:14.283Z"
   },
   {
    "duration": 1090,
    "start_time": "2023-02-18T10:05:14.397Z"
   },
   {
    "duration": 217,
    "start_time": "2023-02-18T10:05:15.489Z"
   },
   {
    "duration": 4,
    "start_time": "2023-02-18T10:05:15.708Z"
   },
   {
    "duration": 32,
    "start_time": "2023-02-18T10:05:15.714Z"
   },
   {
    "duration": 10,
    "start_time": "2023-02-18T10:05:15.747Z"
   },
   {
    "duration": 23,
    "start_time": "2023-02-18T10:05:15.759Z"
   },
   {
    "duration": 5,
    "start_time": "2023-02-18T10:05:15.784Z"
   },
   {
    "duration": 29,
    "start_time": "2023-02-18T10:05:15.792Z"
   },
   {
    "duration": 10,
    "start_time": "2023-02-18T10:05:15.822Z"
   },
   {
    "duration": 14,
    "start_time": "2023-02-18T10:05:15.833Z"
   },
   {
    "duration": 12,
    "start_time": "2023-02-18T10:05:15.849Z"
   },
   {
    "duration": 26,
    "start_time": "2023-02-18T10:05:15.862Z"
   },
   {
    "duration": 40,
    "start_time": "2023-02-18T10:05:15.890Z"
   },
   {
    "duration": 7,
    "start_time": "2023-02-18T10:05:15.932Z"
   },
   {
    "duration": 388,
    "start_time": "2023-02-18T10:05:15.941Z"
   },
   {
    "duration": 13,
    "start_time": "2023-02-18T10:05:16.332Z"
   },
   {
    "duration": 23,
    "start_time": "2023-02-18T10:05:16.347Z"
   },
   {
    "duration": 93,
    "start_time": "2023-02-18T10:05:16.371Z"
   },
   {
    "duration": 63,
    "start_time": "2023-02-18T10:05:16.465Z"
   },
   {
    "duration": 28,
    "start_time": "2023-02-18T10:05:16.530Z"
   },
   {
    "duration": 14,
    "start_time": "2023-02-18T10:05:16.560Z"
   },
   {
    "duration": 45,
    "start_time": "2023-02-18T10:05:16.576Z"
   },
   {
    "duration": 170,
    "start_time": "2023-02-18T10:05:16.623Z"
   },
   {
    "duration": 12,
    "start_time": "2023-02-18T10:05:16.795Z"
   },
   {
    "duration": 17,
    "start_time": "2023-02-18T10:05:16.809Z"
   },
   {
    "duration": 31,
    "start_time": "2023-02-18T10:05:16.827Z"
   },
   {
    "duration": 17,
    "start_time": "2023-02-18T10:05:24.454Z"
   },
   {
    "duration": 116,
    "start_time": "2023-02-18T10:06:16.809Z"
   },
   {
    "duration": 1177,
    "start_time": "2023-02-18T10:06:28.868Z"
   },
   {
    "duration": 205,
    "start_time": "2023-02-18T10:06:30.048Z"
   },
   {
    "duration": 30,
    "start_time": "2023-02-18T10:06:30.254Z"
   },
   {
    "duration": 73,
    "start_time": "2023-02-18T10:06:30.286Z"
   },
   {
    "duration": 69,
    "start_time": "2023-02-18T10:06:30.360Z"
   },
   {
    "duration": 21,
    "start_time": "2023-02-18T10:06:30.432Z"
   },
   {
    "duration": 20,
    "start_time": "2023-02-18T10:06:30.455Z"
   },
   {
    "duration": 78,
    "start_time": "2023-02-18T10:06:30.477Z"
   },
   {
    "duration": 19,
    "start_time": "2023-02-18T10:06:30.557Z"
   },
   {
    "duration": 11,
    "start_time": "2023-02-18T10:06:30.580Z"
   },
   {
    "duration": 36,
    "start_time": "2023-02-18T10:06:30.593Z"
   },
   {
    "duration": 24,
    "start_time": "2023-02-18T10:06:30.631Z"
   },
   {
    "duration": 36,
    "start_time": "2023-02-18T10:06:30.656Z"
   },
   {
    "duration": 255,
    "start_time": "2023-02-18T10:06:30.694Z"
   },
   {
    "duration": 157,
    "start_time": "2023-02-18T10:06:30.951Z"
   },
   {
    "duration": 318,
    "start_time": "2023-02-18T10:06:31.110Z"
   },
   {
    "duration": 165,
    "start_time": "2023-02-18T10:06:31.431Z"
   },
   {
    "duration": 141,
    "start_time": "2023-02-18T10:06:31.598Z"
   },
   {
    "duration": 207,
    "start_time": "2023-02-18T10:06:31.741Z"
   },
   {
    "duration": 116,
    "start_time": "2023-02-18T10:06:31.949Z"
   },
   {
    "duration": 1033,
    "start_time": "2023-02-18T10:06:32.067Z"
   },
   {
    "duration": 252,
    "start_time": "2023-02-18T10:06:33.102Z"
   },
   {
    "duration": 4,
    "start_time": "2023-02-18T10:06:33.356Z"
   },
   {
    "duration": 22,
    "start_time": "2023-02-18T10:06:33.362Z"
   },
   {
    "duration": 10,
    "start_time": "2023-02-18T10:06:33.386Z"
   },
   {
    "duration": 49,
    "start_time": "2023-02-18T10:06:33.398Z"
   },
   {
    "duration": 6,
    "start_time": "2023-02-18T10:06:33.449Z"
   },
   {
    "duration": 13,
    "start_time": "2023-02-18T10:06:33.458Z"
   },
   {
    "duration": 9,
    "start_time": "2023-02-18T10:06:33.473Z"
   },
   {
    "duration": 54,
    "start_time": "2023-02-18T10:06:33.484Z"
   },
   {
    "duration": 17,
    "start_time": "2023-02-18T10:06:33.542Z"
   },
   {
    "duration": 21,
    "start_time": "2023-02-18T10:06:33.560Z"
   },
   {
    "duration": 51,
    "start_time": "2023-02-18T10:06:33.583Z"
   },
   {
    "duration": 12,
    "start_time": "2023-02-18T10:06:33.638Z"
   },
   {
    "duration": 485,
    "start_time": "2023-02-18T10:06:33.652Z"
   },
   {
    "duration": 16,
    "start_time": "2023-02-18T10:06:34.140Z"
   },
   {
    "duration": 24,
    "start_time": "2023-02-18T10:06:34.158Z"
   },
   {
    "duration": 111,
    "start_time": "2023-02-18T10:06:34.184Z"
   },
   {
    "duration": 77,
    "start_time": "2023-02-18T10:06:34.297Z"
   },
   {
    "duration": 56,
    "start_time": "2023-02-18T10:06:34.376Z"
   },
   {
    "duration": 23,
    "start_time": "2023-02-18T10:06:34.440Z"
   },
   {
    "duration": 54,
    "start_time": "2023-02-18T10:06:34.465Z"
   },
   {
    "duration": 268,
    "start_time": "2023-02-18T10:06:34.525Z"
   },
   {
    "duration": 17,
    "start_time": "2023-02-18T10:06:34.795Z"
   },
   {
    "duration": 27,
    "start_time": "2023-02-18T10:06:34.822Z"
   },
   {
    "duration": 36,
    "start_time": "2023-02-18T10:06:34.852Z"
   },
   {
    "duration": 128,
    "start_time": "2023-02-18T10:06:36.783Z"
   },
   {
    "duration": 31,
    "start_time": "2023-02-18T10:06:48.518Z"
   },
   {
    "duration": 18,
    "start_time": "2023-02-18T10:07:02.856Z"
   },
   {
    "duration": 41,
    "start_time": "2023-02-18T10:07:15.736Z"
   },
   {
    "duration": 16,
    "start_time": "2023-02-18T10:14:47.029Z"
   },
   {
    "duration": 442,
    "start_time": "2023-02-18T10:15:00.039Z"
   },
   {
    "duration": 33,
    "start_time": "2023-02-18T10:15:59.265Z"
   },
   {
    "duration": 524,
    "start_time": "2023-02-18T10:16:21.591Z"
   },
   {
    "duration": 145,
    "start_time": "2023-02-18T10:16:35.370Z"
   },
   {
    "duration": 423,
    "start_time": "2023-02-18T10:16:47.740Z"
   },
   {
    "duration": 192,
    "start_time": "2023-02-18T10:18:19.248Z"
   },
   {
    "duration": 5375,
    "start_time": "2023-02-18T10:18:31.339Z"
   },
   {
    "duration": 736,
    "start_time": "2023-02-18T10:20:04.329Z"
   },
   {
    "duration": 567,
    "start_time": "2023-02-18T10:21:10.133Z"
   },
   {
    "duration": 74,
    "start_time": "2023-02-18T10:22:12.588Z"
   },
   {
    "duration": 98,
    "start_time": "2023-02-18T10:22:20.181Z"
   },
   {
    "duration": 13,
    "start_time": "2023-02-18T10:26:12.927Z"
   },
   {
    "duration": 10,
    "start_time": "2023-02-18T10:26:50.551Z"
   },
   {
    "duration": 91,
    "start_time": "2023-02-18T10:27:07.461Z"
   },
   {
    "duration": 23,
    "start_time": "2023-02-18T10:42:34.365Z"
   },
   {
    "duration": 71,
    "start_time": "2023-02-18T10:42:51.240Z"
   },
   {
    "duration": 1093,
    "start_time": "2023-02-18T10:44:22.957Z"
   },
   {
    "duration": 213,
    "start_time": "2023-02-18T10:44:24.052Z"
   },
   {
    "duration": 30,
    "start_time": "2023-02-18T10:44:24.267Z"
   },
   {
    "duration": 75,
    "start_time": "2023-02-18T10:44:24.299Z"
   },
   {
    "duration": 79,
    "start_time": "2023-02-18T10:44:24.376Z"
   },
   {
    "duration": 18,
    "start_time": "2023-02-18T10:44:24.457Z"
   },
   {
    "duration": 30,
    "start_time": "2023-02-18T10:44:24.476Z"
   },
   {
    "duration": 65,
    "start_time": "2023-02-18T10:44:24.525Z"
   },
   {
    "duration": 47,
    "start_time": "2023-02-18T10:44:24.592Z"
   },
   {
    "duration": 13,
    "start_time": "2023-02-18T10:44:24.643Z"
   },
   {
    "duration": 6,
    "start_time": "2023-02-18T10:44:24.659Z"
   },
   {
    "duration": 5,
    "start_time": "2023-02-18T10:44:24.667Z"
   },
   {
    "duration": 11,
    "start_time": "2023-02-18T10:44:24.673Z"
   },
   {
    "duration": 278,
    "start_time": "2023-02-18T10:44:24.686Z"
   },
   {
    "duration": 186,
    "start_time": "2023-02-18T10:44:24.966Z"
   },
   {
    "duration": 316,
    "start_time": "2023-02-18T10:44:25.154Z"
   },
   {
    "duration": 168,
    "start_time": "2023-02-18T10:44:25.472Z"
   },
   {
    "duration": 130,
    "start_time": "2023-02-18T10:44:25.642Z"
   },
   {
    "duration": 201,
    "start_time": "2023-02-18T10:44:25.773Z"
   },
   {
    "duration": 123,
    "start_time": "2023-02-18T10:44:25.976Z"
   },
   {
    "duration": 995,
    "start_time": "2023-02-18T10:44:26.101Z"
   },
   {
    "duration": 221,
    "start_time": "2023-02-18T10:44:27.097Z"
   },
   {
    "duration": 13,
    "start_time": "2023-02-18T10:44:27.321Z"
   },
   {
    "duration": 22,
    "start_time": "2023-02-18T10:44:27.335Z"
   },
   {
    "duration": 10,
    "start_time": "2023-02-18T10:44:27.358Z"
   },
   {
    "duration": 46,
    "start_time": "2023-02-18T10:44:27.370Z"
   },
   {
    "duration": 8,
    "start_time": "2023-02-18T10:44:27.418Z"
   },
   {
    "duration": 39,
    "start_time": "2023-02-18T10:44:27.434Z"
   },
   {
    "duration": 8,
    "start_time": "2023-02-18T10:44:27.475Z"
   },
   {
    "duration": 13,
    "start_time": "2023-02-18T10:44:27.485Z"
   },
   {
    "duration": 12,
    "start_time": "2023-02-18T10:44:27.500Z"
   },
   {
    "duration": 26,
    "start_time": "2023-02-18T10:44:27.521Z"
   },
   {
    "duration": 12,
    "start_time": "2023-02-18T10:44:27.548Z"
   },
   {
    "duration": 7,
    "start_time": "2023-02-18T10:44:27.562Z"
   },
   {
    "duration": 401,
    "start_time": "2023-02-18T10:44:27.571Z"
   },
   {
    "duration": 12,
    "start_time": "2023-02-18T10:44:27.974Z"
   },
   {
    "duration": 47,
    "start_time": "2023-02-18T10:44:27.988Z"
   },
   {
    "duration": 67,
    "start_time": "2023-02-18T10:44:28.036Z"
   },
   {
    "duration": 81,
    "start_time": "2023-02-18T10:44:28.104Z"
   },
   {
    "duration": 47,
    "start_time": "2023-02-18T10:44:28.187Z"
   },
   {
    "duration": 15,
    "start_time": "2023-02-18T10:44:28.236Z"
   },
   {
    "duration": 22,
    "start_time": "2023-02-18T10:44:28.253Z"
   },
   {
    "duration": 203,
    "start_time": "2023-02-18T10:44:28.277Z"
   },
   {
    "duration": 13,
    "start_time": "2023-02-18T10:44:28.482Z"
   },
   {
    "duration": 51,
    "start_time": "2023-02-18T10:44:28.496Z"
   },
   {
    "duration": 16,
    "start_time": "2023-02-18T10:44:28.549Z"
   },
   {
    "duration": 18,
    "start_time": "2023-02-18T10:44:28.566Z"
   },
   {
    "duration": 31,
    "start_time": "2023-02-18T10:44:28.586Z"
   },
   {
    "duration": 52,
    "start_time": "2023-02-18T10:44:28.619Z"
   },
   {
    "duration": 125,
    "start_time": "2023-02-18T10:44:28.673Z"
   },
   {
    "duration": 81,
    "start_time": "2023-02-18T10:44:28.800Z"
   },
   {
    "duration": 60,
    "start_time": "2023-02-18T10:47:04.575Z"
   },
   {
    "duration": 12,
    "start_time": "2023-02-18T10:47:09.233Z"
   },
   {
    "duration": 408,
    "start_time": "2023-02-18T10:54:17.237Z"
   },
   {
    "duration": 17,
    "start_time": "2023-02-18T10:55:38.503Z"
   },
   {
    "duration": 1430,
    "start_time": "2023-02-18T10:57:50.397Z"
   },
   {
    "duration": 238,
    "start_time": "2023-02-18T10:57:51.836Z"
   },
   {
    "duration": 29,
    "start_time": "2023-02-18T10:57:52.076Z"
   },
   {
    "duration": 82,
    "start_time": "2023-02-18T10:57:52.107Z"
   },
   {
    "duration": 71,
    "start_time": "2023-02-18T10:57:52.190Z"
   },
   {
    "duration": 19,
    "start_time": "2023-02-18T10:57:52.264Z"
   },
   {
    "duration": 45,
    "start_time": "2023-02-18T10:57:52.284Z"
   },
   {
    "duration": 49,
    "start_time": "2023-02-18T10:57:52.330Z"
   },
   {
    "duration": 22,
    "start_time": "2023-02-18T10:57:52.382Z"
   },
   {
    "duration": 19,
    "start_time": "2023-02-18T10:57:52.421Z"
   },
   {
    "duration": 29,
    "start_time": "2023-02-18T10:57:52.442Z"
   },
   {
    "duration": 4,
    "start_time": "2023-02-18T10:57:52.473Z"
   },
   {
    "duration": 7,
    "start_time": "2023-02-18T10:57:52.479Z"
   },
   {
    "duration": 288,
    "start_time": "2023-02-18T10:57:52.487Z"
   },
   {
    "duration": 173,
    "start_time": "2023-02-18T10:57:52.777Z"
   },
   {
    "duration": 382,
    "start_time": "2023-02-18T10:57:52.953Z"
   },
   {
    "duration": 244,
    "start_time": "2023-02-18T10:57:53.336Z"
   },
   {
    "duration": 129,
    "start_time": "2023-02-18T10:57:53.583Z"
   },
   {
    "duration": 242,
    "start_time": "2023-02-18T10:57:53.714Z"
   },
   {
    "duration": 118,
    "start_time": "2023-02-18T10:57:53.958Z"
   },
   {
    "duration": 1098,
    "start_time": "2023-02-18T10:57:54.079Z"
   },
   {
    "duration": 342,
    "start_time": "2023-02-18T10:57:55.178Z"
   },
   {
    "duration": 9,
    "start_time": "2023-02-18T10:57:55.522Z"
   },
   {
    "duration": 51,
    "start_time": "2023-02-18T10:57:55.532Z"
   },
   {
    "duration": 10,
    "start_time": "2023-02-18T10:57:55.585Z"
   },
   {
    "duration": 17,
    "start_time": "2023-02-18T10:57:55.597Z"
   },
   {
    "duration": 7,
    "start_time": "2023-02-18T10:57:55.615Z"
   },
   {
    "duration": 48,
    "start_time": "2023-02-18T10:57:55.625Z"
   },
   {
    "duration": 9,
    "start_time": "2023-02-18T10:57:55.675Z"
   },
   {
    "duration": 13,
    "start_time": "2023-02-18T10:57:55.685Z"
   },
   {
    "duration": 18,
    "start_time": "2023-02-18T10:57:55.700Z"
   },
   {
    "duration": 47,
    "start_time": "2023-02-18T10:57:55.721Z"
   },
   {
    "duration": 13,
    "start_time": "2023-02-18T10:57:55.770Z"
   },
   {
    "duration": 16,
    "start_time": "2023-02-18T10:57:55.785Z"
   },
   {
    "duration": 401,
    "start_time": "2023-02-18T10:57:55.803Z"
   },
   {
    "duration": 19,
    "start_time": "2023-02-18T10:57:56.205Z"
   },
   {
    "duration": 33,
    "start_time": "2023-02-18T10:57:56.226Z"
   },
   {
    "duration": 103,
    "start_time": "2023-02-18T10:57:56.261Z"
   },
   {
    "duration": 67,
    "start_time": "2023-02-18T10:57:56.367Z"
   },
   {
    "duration": 35,
    "start_time": "2023-02-18T10:57:56.441Z"
   },
   {
    "duration": 16,
    "start_time": "2023-02-18T10:57:56.478Z"
   },
   {
    "duration": 34,
    "start_time": "2023-02-18T10:57:56.496Z"
   },
   {
    "duration": 218,
    "start_time": "2023-02-18T10:57:56.533Z"
   },
   {
    "duration": 14,
    "start_time": "2023-02-18T10:57:56.753Z"
   },
   {
    "duration": 25,
    "start_time": "2023-02-18T10:57:56.768Z"
   },
   {
    "duration": 35,
    "start_time": "2023-02-18T10:57:56.795Z"
   },
   {
    "duration": 22,
    "start_time": "2023-02-18T10:57:56.836Z"
   },
   {
    "duration": 30,
    "start_time": "2023-02-18T10:57:56.860Z"
   },
   {
    "duration": 43,
    "start_time": "2023-02-18T10:57:56.891Z"
   },
   {
    "duration": 157,
    "start_time": "2023-02-18T10:57:56.935Z"
   },
   {
    "duration": 73,
    "start_time": "2023-02-18T10:57:57.095Z"
   },
   {
    "duration": 93,
    "start_time": "2023-02-18T10:57:57.170Z"
   },
   {
    "duration": 0,
    "start_time": "2023-02-18T10:57:57.265Z"
   },
   {
    "duration": 74,
    "start_time": "2023-02-18T10:58:12.600Z"
   },
   {
    "duration": 6,
    "start_time": "2023-02-18T10:58:25.454Z"
   },
   {
    "duration": 39,
    "start_time": "2023-02-18T11:08:41.682Z"
   },
   {
    "duration": 110,
    "start_time": "2023-02-18T11:08:53.593Z"
   },
   {
    "duration": 29,
    "start_time": "2023-02-18T11:08:57.410Z"
   },
   {
    "duration": 7,
    "start_time": "2023-02-18T11:09:46.790Z"
   },
   {
    "duration": 13,
    "start_time": "2023-02-18T11:09:48.510Z"
   },
   {
    "duration": 14,
    "start_time": "2023-02-18T11:10:19.966Z"
   },
   {
    "duration": 38,
    "start_time": "2023-02-18T11:10:59.920Z"
   },
   {
    "duration": 16,
    "start_time": "2023-02-18T11:11:15.754Z"
   },
   {
    "duration": 35,
    "start_time": "2023-02-18T11:11:35.870Z"
   },
   {
    "duration": 8,
    "start_time": "2023-02-18T11:11:52.869Z"
   },
   {
    "duration": 15,
    "start_time": "2023-02-18T11:11:56.922Z"
   },
   {
    "duration": 30,
    "start_time": "2023-02-18T11:12:03.139Z"
   },
   {
    "duration": 28,
    "start_time": "2023-02-18T11:12:10.937Z"
   },
   {
    "duration": 32,
    "start_time": "2023-02-18T11:12:23.722Z"
   },
   {
    "duration": 11,
    "start_time": "2023-02-18T11:19:35.711Z"
   },
   {
    "duration": 11,
    "start_time": "2023-02-18T11:19:47.881Z"
   },
   {
    "duration": 14,
    "start_time": "2023-02-18T11:19:50.382Z"
   },
   {
    "duration": 11,
    "start_time": "2023-02-18T11:20:01.230Z"
   },
   {
    "duration": 23,
    "start_time": "2023-02-18T11:20:29.336Z"
   },
   {
    "duration": 15,
    "start_time": "2023-02-18T11:21:07.744Z"
   },
   {
    "duration": 16,
    "start_time": "2023-02-18T11:22:13.341Z"
   },
   {
    "duration": 119,
    "start_time": "2023-02-18T11:22:54.713Z"
   },
   {
    "duration": 11,
    "start_time": "2023-02-18T11:34:27.117Z"
   },
   {
    "duration": 3,
    "start_time": "2023-02-18T11:37:24.317Z"
   },
   {
    "duration": 4,
    "start_time": "2023-02-18T12:00:32.517Z"
   },
   {
    "duration": 24,
    "start_time": "2023-02-18T12:03:48.606Z"
   },
   {
    "duration": 4,
    "start_time": "2023-02-18T12:04:21.625Z"
   },
   {
    "duration": 106,
    "start_time": "2023-02-18T12:04:23.469Z"
   },
   {
    "duration": 133,
    "start_time": "2023-02-18T12:04:49.793Z"
   },
   {
    "duration": 112,
    "start_time": "2023-02-18T12:05:02.371Z"
   },
   {
    "duration": 108,
    "start_time": "2023-02-18T12:05:04.800Z"
   },
   {
    "duration": 106,
    "start_time": "2023-02-18T12:05:19.892Z"
   },
   {
    "duration": 3,
    "start_time": "2023-02-18T12:06:57.780Z"
   },
   {
    "duration": 145,
    "start_time": "2023-02-18T12:06:59.451Z"
   },
   {
    "duration": 4,
    "start_time": "2023-02-18T12:07:28.345Z"
   },
   {
    "duration": 106,
    "start_time": "2023-02-18T12:07:30.151Z"
   },
   {
    "duration": 3,
    "start_time": "2023-02-18T12:07:38.237Z"
   },
   {
    "duration": 175,
    "start_time": "2023-02-18T12:07:41.793Z"
   },
   {
    "duration": 182,
    "start_time": "2023-02-18T12:13:56.111Z"
   },
   {
    "duration": 4,
    "start_time": "2023-02-18T12:20:11.911Z"
   },
   {
    "duration": 260,
    "start_time": "2023-02-18T12:20:44.442Z"
   },
   {
    "duration": 4,
    "start_time": "2023-02-18T12:21:05.526Z"
   },
   {
    "duration": 183,
    "start_time": "2023-02-18T12:21:07.499Z"
   },
   {
    "duration": 4,
    "start_time": "2023-02-18T12:21:14.244Z"
   },
   {
    "duration": 174,
    "start_time": "2023-02-18T12:21:16.032Z"
   },
   {
    "duration": 173,
    "start_time": "2023-02-18T12:21:43.460Z"
   },
   {
    "duration": 43,
    "start_time": "2023-02-18T12:31:12.352Z"
   },
   {
    "duration": 4,
    "start_time": "2023-02-18T12:31:28.891Z"
   },
   {
    "duration": 24,
    "start_time": "2023-02-18T12:33:17.635Z"
   },
   {
    "duration": 33,
    "start_time": "2023-02-18T12:40:39.401Z"
   },
   {
    "duration": 4,
    "start_time": "2023-02-18T12:41:21.714Z"
   },
   {
    "duration": 46343,
    "start_time": "2023-02-18T12:43:10.255Z"
   },
   {
    "duration": 4,
    "start_time": "2023-02-18T12:44:44.763Z"
   },
   {
    "duration": 11092,
    "start_time": "2023-02-18T12:44:49.797Z"
   },
   {
    "duration": 30880,
    "start_time": "2023-02-18T12:45:09.492Z"
   },
   {
    "duration": 4,
    "start_time": "2023-02-18T12:45:50.051Z"
   },
   {
    "duration": 22547,
    "start_time": "2023-02-18T12:46:12.893Z"
   },
   {
    "duration": 45853,
    "start_time": "2023-02-18T12:47:03.236Z"
   },
   {
    "duration": 5,
    "start_time": "2023-02-18T12:49:34.713Z"
   },
   {
    "duration": 43997,
    "start_time": "2023-02-18T12:50:57.381Z"
   },
   {
    "duration": 176,
    "start_time": "2023-02-18T12:51:45.762Z"
   },
   {
    "duration": 36,
    "start_time": "2023-02-18T12:59:51.449Z"
   },
   {
    "duration": 43,
    "start_time": "2023-02-18T13:00:09.549Z"
   },
   {
    "duration": 2497,
    "start_time": "2023-02-18T13:00:31.757Z"
   },
   {
    "duration": 27,
    "start_time": "2023-02-18T13:01:06.558Z"
   },
   {
    "duration": 2219,
    "start_time": "2023-02-18T13:01:11.401Z"
   },
   {
    "duration": 2312,
    "start_time": "2023-02-18T13:01:28.848Z"
   },
   {
    "duration": 4,
    "start_time": "2023-02-19T10:47:43.268Z"
   },
   {
    "duration": 4,
    "start_time": "2023-02-19T10:49:39.530Z"
   },
   {
    "duration": 192,
    "start_time": "2023-02-19T10:49:39.535Z"
   },
   {
    "duration": 23,
    "start_time": "2023-02-19T10:49:39.728Z"
   },
   {
    "duration": 63,
    "start_time": "2023-02-19T10:49:39.753Z"
   },
   {
    "duration": 54,
    "start_time": "2023-02-19T10:49:39.818Z"
   },
   {
    "duration": 31,
    "start_time": "2023-02-19T10:49:39.873Z"
   },
   {
    "duration": 19,
    "start_time": "2023-02-19T10:49:39.906Z"
   },
   {
    "duration": 49,
    "start_time": "2023-02-19T10:49:39.926Z"
   },
   {
    "duration": 40,
    "start_time": "2023-02-19T10:49:39.977Z"
   },
   {
    "duration": 11,
    "start_time": "2023-02-19T10:49:40.019Z"
   },
   {
    "duration": 16,
    "start_time": "2023-02-19T10:49:40.032Z"
   },
   {
    "duration": 24,
    "start_time": "2023-02-19T10:49:40.050Z"
   },
   {
    "duration": 35,
    "start_time": "2023-02-19T10:49:40.076Z"
   },
   {
    "duration": 230,
    "start_time": "2023-02-19T10:49:40.114Z"
   },
   {
    "duration": 140,
    "start_time": "2023-02-19T10:49:40.346Z"
   },
   {
    "duration": 278,
    "start_time": "2023-02-19T10:49:40.488Z"
   },
   {
    "duration": 154,
    "start_time": "2023-02-19T10:49:40.767Z"
   },
   {
    "duration": 115,
    "start_time": "2023-02-19T10:49:40.922Z"
   },
   {
    "duration": 199,
    "start_time": "2023-02-19T10:49:41.038Z"
   },
   {
    "duration": 117,
    "start_time": "2023-02-19T10:49:41.238Z"
   },
   {
    "duration": 947,
    "start_time": "2023-02-19T10:49:41.357Z"
   },
   {
    "duration": 213,
    "start_time": "2023-02-19T10:49:42.306Z"
   },
   {
    "duration": 4,
    "start_time": "2023-02-19T10:49:42.521Z"
   },
   {
    "duration": 32,
    "start_time": "2023-02-19T10:49:42.526Z"
   },
   {
    "duration": 10,
    "start_time": "2023-02-19T10:49:42.560Z"
   },
   {
    "duration": 33,
    "start_time": "2023-02-19T10:49:42.571Z"
   },
   {
    "duration": 5,
    "start_time": "2023-02-19T10:49:42.606Z"
   },
   {
    "duration": 13,
    "start_time": "2023-02-19T10:49:42.613Z"
   },
   {
    "duration": 8,
    "start_time": "2023-02-19T10:49:42.628Z"
   },
   {
    "duration": 17,
    "start_time": "2023-02-19T10:49:42.638Z"
   },
   {
    "duration": 47,
    "start_time": "2023-02-19T10:49:42.657Z"
   },
   {
    "duration": 21,
    "start_time": "2023-02-19T10:49:42.705Z"
   },
   {
    "duration": 11,
    "start_time": "2023-02-19T10:49:42.727Z"
   },
   {
    "duration": 6,
    "start_time": "2023-02-19T10:49:42.739Z"
   },
   {
    "duration": 414,
    "start_time": "2023-02-19T10:49:42.746Z"
   },
   {
    "duration": 12,
    "start_time": "2023-02-19T10:49:43.162Z"
   },
   {
    "duration": 38,
    "start_time": "2023-02-19T10:49:43.175Z"
   },
   {
    "duration": 67,
    "start_time": "2023-02-19T10:49:43.215Z"
   },
   {
    "duration": 67,
    "start_time": "2023-02-19T10:49:43.284Z"
   },
   {
    "duration": 27,
    "start_time": "2023-02-19T10:49:43.352Z"
   },
   {
    "duration": 13,
    "start_time": "2023-02-19T10:49:43.403Z"
   },
   {
    "duration": 19,
    "start_time": "2023-02-19T10:49:43.417Z"
   },
   {
    "duration": 175,
    "start_time": "2023-02-19T10:49:43.437Z"
   },
   {
    "duration": 13,
    "start_time": "2023-02-19T10:49:43.614Z"
   },
   {
    "duration": 21,
    "start_time": "2023-02-19T10:49:43.629Z"
   },
   {
    "duration": 14,
    "start_time": "2023-02-19T10:49:43.652Z"
   },
   {
    "duration": 43,
    "start_time": "2023-02-19T10:49:43.668Z"
   },
   {
    "duration": 18,
    "start_time": "2023-02-19T10:49:43.713Z"
   },
   {
    "duration": 35,
    "start_time": "2023-02-19T10:49:43.733Z"
   },
   {
    "duration": 89,
    "start_time": "2023-02-19T10:49:43.769Z"
   },
   {
    "duration": 72,
    "start_time": "2023-02-19T10:49:43.860Z"
   },
   {
    "duration": 8,
    "start_time": "2023-02-19T10:49:43.933Z"
   },
   {
    "duration": 33,
    "start_time": "2023-02-19T10:49:43.942Z"
   },
   {
    "duration": 3,
    "start_time": "2023-02-19T10:50:33.757Z"
   },
   {
    "duration": 196,
    "start_time": "2023-02-19T10:50:37.552Z"
   },
   {
    "duration": 43,
    "start_time": "2023-02-19T10:50:42.200Z"
   },
   {
    "duration": 969154,
    "start_time": "2023-02-19T10:50:56.714Z"
   },
   {
    "duration": 653438,
    "start_time": "2023-02-19T11:07:10.247Z"
   },
   {
    "duration": 2302,
    "start_time": "2023-02-19T14:28:11.911Z"
   },
   {
    "duration": 1264109,
    "start_time": "2023-02-19T14:31:47.414Z"
   },
   {
    "duration": 1377,
    "start_time": "2023-02-19T14:52:51.525Z"
   },
   {
    "duration": 11,
    "start_time": "2023-02-19T14:53:43.899Z"
   },
   {
    "duration": 15,
    "start_time": "2023-02-19T14:53:51.780Z"
   },
   {
    "duration": 4,
    "start_time": "2023-02-19T14:54:12.413Z"
   },
   {
    "duration": 22,
    "start_time": "2023-02-19T14:54:16.804Z"
   },
   {
    "duration": 1530,
    "start_time": "2023-02-19T14:56:06.266Z"
   },
   {
    "duration": 44278,
    "start_time": "2023-02-19T14:56:17.725Z"
   },
   {
    "duration": 67254,
    "start_time": "2023-02-19T15:03:14.253Z"
   },
   {
    "duration": 1300967,
    "start_time": "2023-02-19T15:06:12.192Z"
   },
   {
    "duration": 1486,
    "start_time": "2023-02-19T15:41:56.812Z"
   },
   {
    "duration": 1373,
    "start_time": "2023-02-19T15:42:19.446Z"
   },
   {
    "duration": 1436,
    "start_time": "2023-02-19T15:43:25.411Z"
   },
   {
    "duration": 2109,
    "start_time": "2023-02-19T15:44:01.940Z"
   },
   {
    "duration": 925,
    "start_time": "2023-02-19T15:44:09.746Z"
   },
   {
    "duration": 1449,
    "start_time": "2023-02-19T15:44:20.147Z"
   },
   {
    "duration": 1455,
    "start_time": "2023-02-19T15:44:29.877Z"
   },
   {
    "duration": 1502,
    "start_time": "2023-02-19T15:44:40.031Z"
   },
   {
    "duration": 1389,
    "start_time": "2023-02-19T15:44:48.913Z"
   },
   {
    "duration": 1507,
    "start_time": "2023-02-19T15:44:57.478Z"
   },
   {
    "duration": 1526,
    "start_time": "2023-02-19T15:45:05.239Z"
   },
   {
    "duration": 2097588,
    "start_time": "2023-02-19T15:45:36.149Z"
   },
   {
    "duration": 0,
    "start_time": "2023-02-19T16:20:33.740Z"
   },
   {
    "duration": 0,
    "start_time": "2023-02-19T16:20:33.740Z"
   },
   {
    "duration": 1397,
    "start_time": "2023-02-19T16:20:54.229Z"
   },
   {
    "duration": 182,
    "start_time": "2023-02-19T16:20:55.629Z"
   },
   {
    "duration": 27,
    "start_time": "2023-02-19T16:20:55.812Z"
   },
   {
    "duration": 78,
    "start_time": "2023-02-19T16:20:55.840Z"
   },
   {
    "duration": 56,
    "start_time": "2023-02-19T16:20:55.920Z"
   },
   {
    "duration": 36,
    "start_time": "2023-02-19T16:20:55.978Z"
   },
   {
    "duration": 19,
    "start_time": "2023-02-19T16:20:56.015Z"
   },
   {
    "duration": 69,
    "start_time": "2023-02-19T16:20:56.035Z"
   },
   {
    "duration": 20,
    "start_time": "2023-02-19T16:20:56.105Z"
   },
   {
    "duration": 10,
    "start_time": "2023-02-19T16:20:56.127Z"
   },
   {
    "duration": 5,
    "start_time": "2023-02-19T16:20:56.138Z"
   },
   {
    "duration": 5,
    "start_time": "2023-02-19T16:20:56.145Z"
   },
   {
    "duration": 7,
    "start_time": "2023-02-19T16:20:56.152Z"
   },
   {
    "duration": 252,
    "start_time": "2023-02-19T16:20:56.162Z"
   },
   {
    "duration": 154,
    "start_time": "2023-02-19T16:20:56.416Z"
   },
   {
    "duration": 413,
    "start_time": "2023-02-19T16:20:56.571Z"
   },
   {
    "duration": 165,
    "start_time": "2023-02-19T16:20:56.986Z"
   },
   {
    "duration": 141,
    "start_time": "2023-02-19T16:20:57.153Z"
   },
   {
    "duration": 207,
    "start_time": "2023-02-19T16:20:57.296Z"
   },
   {
    "duration": 114,
    "start_time": "2023-02-19T16:20:57.505Z"
   },
   {
    "duration": 1043,
    "start_time": "2023-02-19T16:20:57.620Z"
   },
   {
    "duration": 221,
    "start_time": "2023-02-19T16:20:58.664Z"
   },
   {
    "duration": 4,
    "start_time": "2023-02-19T16:20:58.886Z"
   },
   {
    "duration": 25,
    "start_time": "2023-02-19T16:20:58.892Z"
   },
   {
    "duration": 11,
    "start_time": "2023-02-19T16:20:58.919Z"
   },
   {
    "duration": 15,
    "start_time": "2023-02-19T16:20:58.932Z"
   },
   {
    "duration": 5,
    "start_time": "2023-02-19T16:20:58.949Z"
   },
   {
    "duration": 14,
    "start_time": "2023-02-19T16:20:58.956Z"
   },
   {
    "duration": 39,
    "start_time": "2023-02-19T16:20:58.972Z"
   },
   {
    "duration": 13,
    "start_time": "2023-02-19T16:20:59.013Z"
   },
   {
    "duration": 14,
    "start_time": "2023-02-19T16:20:59.028Z"
   },
   {
    "duration": 24,
    "start_time": "2023-02-19T16:20:59.044Z"
   },
   {
    "duration": 12,
    "start_time": "2023-02-19T16:20:59.104Z"
   },
   {
    "duration": 18,
    "start_time": "2023-02-19T16:20:59.118Z"
   },
   {
    "duration": 391,
    "start_time": "2023-02-19T16:20:59.137Z"
   },
   {
    "duration": 12,
    "start_time": "2023-02-19T16:20:59.530Z"
   },
   {
    "duration": 20,
    "start_time": "2023-02-19T16:20:59.544Z"
   },
   {
    "duration": 94,
    "start_time": "2023-02-19T16:20:59.566Z"
   },
   {
    "duration": 63,
    "start_time": "2023-02-19T16:20:59.662Z"
   },
   {
    "duration": 38,
    "start_time": "2023-02-19T16:20:59.727Z"
   },
   {
    "duration": 15,
    "start_time": "2023-02-19T16:20:59.770Z"
   },
   {
    "duration": 21,
    "start_time": "2023-02-19T16:20:59.803Z"
   },
   {
    "duration": 182,
    "start_time": "2023-02-19T16:20:59.825Z"
   },
   {
    "duration": 14,
    "start_time": "2023-02-19T16:21:00.009Z"
   },
   {
    "duration": 24,
    "start_time": "2023-02-19T16:21:00.025Z"
   },
   {
    "duration": 15,
    "start_time": "2023-02-19T16:21:00.050Z"
   },
   {
    "duration": 49,
    "start_time": "2023-02-19T16:21:00.067Z"
   },
   {
    "duration": 52,
    "start_time": "2023-02-19T16:21:00.117Z"
   },
   {
    "duration": 55,
    "start_time": "2023-02-19T16:21:00.171Z"
   },
   {
    "duration": 142,
    "start_time": "2023-02-19T16:21:00.228Z"
   },
   {
    "duration": 69,
    "start_time": "2023-02-19T16:21:00.372Z"
   },
   {
    "duration": 6,
    "start_time": "2023-02-19T16:21:00.443Z"
   },
   {
    "duration": 35,
    "start_time": "2023-02-19T16:21:00.451Z"
   },
   {
    "duration": 4,
    "start_time": "2023-02-19T16:21:00.503Z"
   },
   {
    "duration": 211,
    "start_time": "2023-02-19T16:21:00.508Z"
   },
   {
    "duration": 43467,
    "start_time": "2023-02-19T16:21:00.721Z"
   },
   {
    "duration": 1405,
    "start_time": "2023-02-19T16:21:44.190Z"
   },
   {
    "duration": 1004803,
    "start_time": "2023-02-19T16:21:45.597Z"
   },
   {
    "duration": 10,
    "start_time": "2023-02-19T16:38:30.402Z"
   },
   {
    "duration": 27,
    "start_time": "2023-02-19T16:38:30.413Z"
   },
   {
    "duration": 1576,
    "start_time": "2023-02-19T16:38:30.442Z"
   },
   {
    "duration": 1952,
    "start_time": "2023-02-19T16:43:50.884Z"
   },
   {
    "duration": 93,
    "start_time": "2023-02-20T07:39:13.803Z"
   },
   {
    "duration": 61,
    "start_time": "2023-02-20T07:40:23.412Z"
   },
   {
    "duration": 1689,
    "start_time": "2023-02-20T09:39:50.310Z"
   },
   {
    "duration": 603,
    "start_time": "2023-02-20T09:39:52.001Z"
   },
   {
    "duration": 28,
    "start_time": "2023-02-20T09:39:52.606Z"
   },
   {
    "duration": 72,
    "start_time": "2023-02-20T09:39:52.636Z"
   },
   {
    "duration": 57,
    "start_time": "2023-02-20T09:39:52.710Z"
   },
   {
    "duration": 36,
    "start_time": "2023-02-20T09:39:52.769Z"
   },
   {
    "duration": 21,
    "start_time": "2023-02-20T09:39:52.807Z"
   },
   {
    "duration": 63,
    "start_time": "2023-02-20T09:39:52.829Z"
   },
   {
    "duration": 21,
    "start_time": "2023-02-20T09:39:52.894Z"
   },
   {
    "duration": 14,
    "start_time": "2023-02-20T09:39:52.916Z"
   },
   {
    "duration": 6,
    "start_time": "2023-02-20T09:39:52.931Z"
   },
   {
    "duration": 6,
    "start_time": "2023-02-20T09:39:52.939Z"
   },
   {
    "duration": 9,
    "start_time": "2023-02-20T09:39:52.946Z"
   },
   {
    "duration": 258,
    "start_time": "2023-02-20T09:39:52.959Z"
   },
   {
    "duration": 153,
    "start_time": "2023-02-20T09:39:53.219Z"
   },
   {
    "duration": 358,
    "start_time": "2023-02-20T09:39:53.374Z"
   },
   {
    "duration": 184,
    "start_time": "2023-02-20T09:39:53.734Z"
   },
   {
    "duration": 122,
    "start_time": "2023-02-20T09:39:53.920Z"
   },
   {
    "duration": 193,
    "start_time": "2023-02-20T09:39:54.044Z"
   },
   {
    "duration": 115,
    "start_time": "2023-02-20T09:39:54.239Z"
   },
   {
    "duration": 991,
    "start_time": "2023-02-20T09:39:54.355Z"
   },
   {
    "duration": 209,
    "start_time": "2023-02-20T09:39:55.347Z"
   },
   {
    "duration": 4,
    "start_time": "2023-02-20T09:39:55.558Z"
   },
   {
    "duration": 28,
    "start_time": "2023-02-20T09:39:55.563Z"
   },
   {
    "duration": 9,
    "start_time": "2023-02-20T09:39:55.593Z"
   },
   {
    "duration": 15,
    "start_time": "2023-02-20T09:39:55.604Z"
   },
   {
    "duration": 6,
    "start_time": "2023-02-20T09:39:55.620Z"
   },
   {
    "duration": 14,
    "start_time": "2023-02-20T09:39:55.628Z"
   },
   {
    "duration": 7,
    "start_time": "2023-02-20T09:39:55.644Z"
   },
   {
    "duration": 49,
    "start_time": "2023-02-20T09:39:55.652Z"
   },
   {
    "duration": 11,
    "start_time": "2023-02-20T09:39:55.702Z"
   },
   {
    "duration": 20,
    "start_time": "2023-02-20T09:39:55.715Z"
   },
   {
    "duration": 11,
    "start_time": "2023-02-20T09:39:55.736Z"
   },
   {
    "duration": 17,
    "start_time": "2023-02-20T09:39:55.748Z"
   },
   {
    "duration": 391,
    "start_time": "2023-02-20T09:39:55.766Z"
   },
   {
    "duration": 12,
    "start_time": "2023-02-20T09:39:56.158Z"
   },
   {
    "duration": 32,
    "start_time": "2023-02-20T09:39:56.171Z"
   },
   {
    "duration": 89,
    "start_time": "2023-02-20T09:39:56.205Z"
   },
   {
    "duration": 52,
    "start_time": "2023-02-20T09:39:56.296Z"
   },
   {
    "duration": 47,
    "start_time": "2023-02-20T09:39:56.350Z"
   },
   {
    "duration": 14,
    "start_time": "2023-02-20T09:39:56.400Z"
   },
   {
    "duration": 125,
    "start_time": "2023-02-20T09:39:56.416Z"
   },
   {
    "duration": 30,
    "start_time": "2023-02-20T09:40:20.915Z"
   },
   {
    "duration": 170,
    "start_time": "2023-02-20T09:41:07.163Z"
   },
   {
    "duration": 14,
    "start_time": "2023-02-20T09:41:11.723Z"
   },
   {
    "duration": 3,
    "start_time": "2023-02-20T09:42:11.460Z"
   },
   {
    "duration": 191,
    "start_time": "2023-02-20T09:42:11.465Z"
   },
   {
    "duration": 23,
    "start_time": "2023-02-20T09:42:11.657Z"
   },
   {
    "duration": 63,
    "start_time": "2023-02-20T09:42:11.681Z"
   },
   {
    "duration": 66,
    "start_time": "2023-02-20T09:42:11.746Z"
   },
   {
    "duration": 21,
    "start_time": "2023-02-20T09:42:11.814Z"
   },
   {
    "duration": 19,
    "start_time": "2023-02-20T09:42:11.837Z"
   },
   {
    "duration": 67,
    "start_time": "2023-02-20T09:42:11.858Z"
   },
   {
    "duration": 19,
    "start_time": "2023-02-20T09:42:11.926Z"
   },
   {
    "duration": 10,
    "start_time": "2023-02-20T09:42:11.946Z"
   },
   {
    "duration": 9,
    "start_time": "2023-02-20T09:42:11.958Z"
   },
   {
    "duration": 24,
    "start_time": "2023-02-20T09:42:11.969Z"
   },
   {
    "duration": 11,
    "start_time": "2023-02-20T09:42:11.997Z"
   },
   {
    "duration": 212,
    "start_time": "2023-02-20T09:42:12.009Z"
   },
   {
    "duration": 144,
    "start_time": "2023-02-20T09:42:12.223Z"
   },
   {
    "duration": 283,
    "start_time": "2023-02-20T09:42:12.369Z"
   },
   {
    "duration": 150,
    "start_time": "2023-02-20T09:42:12.653Z"
   },
   {
    "duration": 109,
    "start_time": "2023-02-20T09:42:12.805Z"
   },
   {
    "duration": 185,
    "start_time": "2023-02-20T09:42:12.916Z"
   },
   {
    "duration": 211,
    "start_time": "2023-02-20T09:42:13.102Z"
   },
   {
    "duration": 877,
    "start_time": "2023-02-20T09:42:13.314Z"
   },
   {
    "duration": 206,
    "start_time": "2023-02-20T09:42:14.193Z"
   },
   {
    "duration": 4,
    "start_time": "2023-02-20T09:42:14.401Z"
   },
   {
    "duration": 46,
    "start_time": "2023-02-20T09:42:14.407Z"
   },
   {
    "duration": 16,
    "start_time": "2023-02-20T09:42:14.455Z"
   },
   {
    "duration": 22,
    "start_time": "2023-02-20T09:42:14.473Z"
   },
   {
    "duration": 32,
    "start_time": "2023-02-20T09:42:14.496Z"
   },
   {
    "duration": 28,
    "start_time": "2023-02-20T09:42:14.529Z"
   },
   {
    "duration": 26,
    "start_time": "2023-02-20T09:42:14.558Z"
   },
   {
    "duration": 25,
    "start_time": "2023-02-20T09:42:14.586Z"
   },
   {
    "duration": 34,
    "start_time": "2023-02-20T09:42:14.612Z"
   },
   {
    "duration": 29,
    "start_time": "2023-02-20T09:42:14.647Z"
   },
   {
    "duration": 22,
    "start_time": "2023-02-20T09:42:14.677Z"
   },
   {
    "duration": 30,
    "start_time": "2023-02-20T09:42:14.701Z"
   },
   {
    "duration": 371,
    "start_time": "2023-02-20T09:42:14.733Z"
   },
   {
    "duration": 12,
    "start_time": "2023-02-20T09:42:15.105Z"
   },
   {
    "duration": 26,
    "start_time": "2023-02-20T09:42:15.121Z"
   },
   {
    "duration": 85,
    "start_time": "2023-02-20T09:42:15.149Z"
   },
   {
    "duration": 59,
    "start_time": "2023-02-20T09:42:15.236Z"
   },
   {
    "duration": 26,
    "start_time": "2023-02-20T09:42:15.296Z"
   },
   {
    "duration": 25,
    "start_time": "2023-02-20T09:42:15.324Z"
   },
   {
    "duration": 36,
    "start_time": "2023-02-20T09:42:15.351Z"
   },
   {
    "duration": 169,
    "start_time": "2023-02-20T09:42:15.389Z"
   },
   {
    "duration": 12,
    "start_time": "2023-02-20T09:42:15.560Z"
   },
   {
    "duration": 46,
    "start_time": "2023-02-20T09:42:15.573Z"
   },
   {
    "duration": 18,
    "start_time": "2023-02-20T09:42:15.621Z"
   },
   {
    "duration": 32,
    "start_time": "2023-02-20T09:42:15.640Z"
   },
   {
    "duration": 41,
    "start_time": "2023-02-20T09:42:15.674Z"
   },
   {
    "duration": 67,
    "start_time": "2023-02-20T09:42:15.716Z"
   },
   {
    "duration": 223,
    "start_time": "2023-02-20T09:42:15.785Z"
   },
   {
    "duration": 76,
    "start_time": "2023-02-20T09:42:16.010Z"
   },
   {
    "duration": 5,
    "start_time": "2023-02-20T09:42:16.088Z"
   },
   {
    "duration": 52,
    "start_time": "2023-02-20T09:42:16.095Z"
   },
   {
    "duration": 8,
    "start_time": "2023-02-20T09:42:16.148Z"
   },
   {
    "duration": 4,
    "start_time": "2023-02-20T09:42:39.158Z"
   },
   {
    "duration": 13,
    "start_time": "2023-02-20T09:43:00.784Z"
   },
   {
    "duration": 5,
    "start_time": "2023-02-20T09:43:28.887Z"
   },
   {
    "duration": 5,
    "start_time": "2023-02-20T09:49:41.011Z"
   },
   {
    "duration": 11,
    "start_time": "2023-02-20T09:50:10.194Z"
   },
   {
    "duration": 11,
    "start_time": "2023-02-20T09:50:16.775Z"
   },
   {
    "duration": 15,
    "start_time": "2023-02-20T09:54:59.749Z"
   },
   {
    "duration": 15,
    "start_time": "2023-02-20T09:55:14.676Z"
   },
   {
    "duration": 10,
    "start_time": "2023-02-20T09:56:10.072Z"
   },
   {
    "duration": 11,
    "start_time": "2023-02-20T09:56:16.420Z"
   },
   {
    "duration": 12,
    "start_time": "2023-02-20T09:56:41.283Z"
   },
   {
    "duration": 14,
    "start_time": "2023-02-20T10:02:26.121Z"
   },
   {
    "duration": 11,
    "start_time": "2023-02-20T10:08:32.533Z"
   },
   {
    "duration": 1098,
    "start_time": "2023-02-20T10:08:38.696Z"
   },
   {
    "duration": 10,
    "start_time": "2023-02-20T10:13:27.639Z"
   },
   {
    "duration": 1835,
    "start_time": "2023-02-21T07:08:04.709Z"
   },
   {
    "duration": 501,
    "start_time": "2023-02-21T07:08:06.546Z"
   },
   {
    "duration": 31,
    "start_time": "2023-02-21T07:08:07.048Z"
   },
   {
    "duration": 72,
    "start_time": "2023-02-21T07:08:07.081Z"
   },
   {
    "duration": 76,
    "start_time": "2023-02-21T07:08:07.155Z"
   },
   {
    "duration": 18,
    "start_time": "2023-02-21T07:08:07.233Z"
   },
   {
    "duration": 51,
    "start_time": "2023-02-21T07:08:07.253Z"
   },
   {
    "duration": 50,
    "start_time": "2023-02-21T07:08:07.307Z"
   },
   {
    "duration": 43,
    "start_time": "2023-02-21T07:08:07.358Z"
   },
   {
    "duration": 13,
    "start_time": "2023-02-21T07:08:07.406Z"
   },
   {
    "duration": 35,
    "start_time": "2023-02-21T07:08:07.420Z"
   },
   {
    "duration": 19,
    "start_time": "2023-02-21T07:08:07.457Z"
   },
   {
    "duration": 33,
    "start_time": "2023-02-21T07:08:07.478Z"
   },
   {
    "duration": 253,
    "start_time": "2023-02-21T07:08:07.513Z"
   },
   {
    "duration": 168,
    "start_time": "2023-02-21T07:08:07.768Z"
   },
   {
    "duration": 387,
    "start_time": "2023-02-21T07:08:07.938Z"
   },
   {
    "duration": 183,
    "start_time": "2023-02-21T07:08:08.327Z"
   },
   {
    "duration": 130,
    "start_time": "2023-02-21T07:08:08.513Z"
   },
   {
    "duration": 215,
    "start_time": "2023-02-21T07:08:08.645Z"
   },
   {
    "duration": 119,
    "start_time": "2023-02-21T07:08:08.861Z"
   },
   {
    "duration": 1058,
    "start_time": "2023-02-21T07:08:08.981Z"
   },
   {
    "duration": 227,
    "start_time": "2023-02-21T07:08:10.041Z"
   },
   {
    "duration": 4,
    "start_time": "2023-02-21T07:08:10.270Z"
   },
   {
    "duration": 43,
    "start_time": "2023-02-21T07:08:10.276Z"
   },
   {
    "duration": 9,
    "start_time": "2023-02-21T07:08:10.321Z"
   },
   {
    "duration": 25,
    "start_time": "2023-02-21T07:08:10.332Z"
   },
   {
    "duration": 14,
    "start_time": "2023-02-21T07:08:10.359Z"
   },
   {
    "duration": 29,
    "start_time": "2023-02-21T07:08:10.377Z"
   },
   {
    "duration": 25,
    "start_time": "2023-02-21T07:08:10.412Z"
   },
   {
    "duration": 13,
    "start_time": "2023-02-21T07:08:10.439Z"
   },
   {
    "duration": 11,
    "start_time": "2023-02-21T07:08:10.454Z"
   },
   {
    "duration": 28,
    "start_time": "2023-02-21T07:08:10.467Z"
   },
   {
    "duration": 18,
    "start_time": "2023-02-21T07:08:10.496Z"
   },
   {
    "duration": 6,
    "start_time": "2023-02-21T07:08:10.516Z"
   },
   {
    "duration": 432,
    "start_time": "2023-02-21T07:08:10.524Z"
   },
   {
    "duration": 12,
    "start_time": "2023-02-21T07:08:10.957Z"
   },
   {
    "duration": 48,
    "start_time": "2023-02-21T07:08:10.971Z"
   },
   {
    "duration": 86,
    "start_time": "2023-02-21T07:08:11.020Z"
   },
   {
    "duration": 54,
    "start_time": "2023-02-21T07:08:11.108Z"
   },
   {
    "duration": 55,
    "start_time": "2023-02-21T07:08:11.163Z"
   },
   {
    "duration": 15,
    "start_time": "2023-02-21T07:08:11.220Z"
   },
   {
    "duration": 23,
    "start_time": "2023-02-21T07:08:11.237Z"
   },
   {
    "duration": 217,
    "start_time": "2023-02-21T07:08:11.262Z"
   },
   {
    "duration": 26,
    "start_time": "2023-02-21T07:08:11.487Z"
   },
   {
    "duration": 31,
    "start_time": "2023-02-21T07:08:11.515Z"
   },
   {
    "duration": 25,
    "start_time": "2023-02-21T07:08:11.547Z"
   },
   {
    "duration": 41,
    "start_time": "2023-02-21T07:08:11.574Z"
   },
   {
    "duration": 34,
    "start_time": "2023-02-21T07:08:11.621Z"
   },
   {
    "duration": 57,
    "start_time": "2023-02-21T07:08:11.656Z"
   },
   {
    "duration": 153,
    "start_time": "2023-02-21T07:08:11.715Z"
   },
   {
    "duration": 82,
    "start_time": "2023-02-21T07:08:11.870Z"
   },
   {
    "duration": 6,
    "start_time": "2023-02-21T07:08:11.954Z"
   },
   {
    "duration": 46,
    "start_time": "2023-02-21T07:08:11.962Z"
   },
   {
    "duration": 4,
    "start_time": "2023-02-21T07:08:12.009Z"
   },
   {
    "duration": 20,
    "start_time": "2023-02-21T07:08:12.015Z"
   },
   {
    "duration": 228,
    "start_time": "2023-02-21T07:08:12.037Z"
   },
   {
    "duration": 2049,
    "start_time": "2023-02-21T07:08:12.267Z"
   },
   {
    "duration": 1947,
    "start_time": "2023-02-21T07:08:14.386Z"
   },
   {
    "duration": 1470376,
    "start_time": "2023-02-21T07:08:16.336Z"
   },
   {
    "duration": 139,
    "start_time": "2023-02-21T07:32:46.714Z"
   },
   {
    "duration": 0,
    "start_time": "2023-02-21T07:32:46.855Z"
   },
   {
    "duration": 0,
    "start_time": "2023-02-21T07:32:46.856Z"
   },
   {
    "duration": 12,
    "start_time": "2023-02-21T07:37:33.231Z"
   },
   {
    "duration": 5,
    "start_time": "2023-02-21T07:39:05.219Z"
   },
   {
    "duration": 1913,
    "start_time": "2023-02-21T07:39:06.652Z"
   },
   {
    "duration": 1024,
    "start_time": "2023-02-21T07:39:21.656Z"
   }
  ],
  "kernelspec": {
   "display_name": "Python 3 (ipykernel)",
   "language": "python",
   "name": "python3"
  },
  "language_info": {
   "codemirror_mode": {
    "name": "ipython",
    "version": 3
   },
   "file_extension": ".py",
   "mimetype": "text/x-python",
   "name": "python",
   "nbconvert_exporter": "python",
   "pygments_lexer": "ipython3",
   "version": "3.9.5"
  },
  "toc": {
   "base_numbering": 1,
   "nav_menu": {
    "height": "264.4px",
    "width": "454.4px"
   },
   "number_sections": true,
   "sideBar": true,
   "skip_h1_title": true,
   "title_cell": "Table of Contents",
   "title_sidebar": "Contents",
   "toc_cell": false,
   "toc_position": {},
   "toc_section_display": true,
   "toc_window_display": false
  }
 },
 "nbformat": 4,
 "nbformat_minor": 2
}
