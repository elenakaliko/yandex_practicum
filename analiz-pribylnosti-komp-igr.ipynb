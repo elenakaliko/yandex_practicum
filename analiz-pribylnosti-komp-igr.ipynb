{
 "cells": [
  {
   "cell_type": "markdown",
   "metadata": {},
   "source": [
    "# Сборный проект. Прогнозирование успешности компьютерных игр."
   ]
  },
  {
   "cell_type": "markdown",
   "metadata": {},
   "source": [
    "В нашем распоряжении таблица с данными о продажах видео-игр по регионам, а так же рейтинге этих игр - экспертной оценке и оценке юзеров, а также возрастной группе. <br><br>\n",
    "**Цель исследования:** На основе данных из открытых источников необходимо спрогнозировать успешность видео-игр на 2017 год, основываясь на данных по предыдущим годам. <br><br>\n",
    "Основной показатель успешности компьютерной игры - это сумма продаж (кол-во проданных единиц продукции), т.е. индикатор популярности игры. Вторичным показателем успешности игры является ее высокий рейтинг среди критиков и юзеров. <br>\n",
    "Мы исследуем взаимосвязи суммы продаж и платформы, жанра, года релиза, рейтингов.<br><br>\n",
    "**План исследования:** <br>\n",
    "1. Провести анализ количества игр по годам и по платформам, отбросить устаревшие данные.<br>\n",
    "2. Проанализировать динамику продаж на различных платформах. <br>\n",
    "3. Прояснить различия между профилями клиентов по регионам. <br>\n",
    "4. Проверить следующие гипотезы: о равенстве средних рейтингов платформ Xbox One &  PC; о неравенстве средних рейтингов жанров Action & Sports. "
   ]
  },
  {
   "cell_type": "markdown",
   "metadata": {},
   "source": [
    "## Чтение и предобработка данных"
   ]
  },
  {
   "cell_type": "code",
   "execution_count": 1,
   "metadata": {},
   "outputs": [],
   "source": [
    "# импорт библиотек\n",
    "import pandas as pd\n",
    "import numpy as np\n",
    "import matplotlib.pyplot as plt\n",
    "import math\n",
    "from scipy import stats as st"
   ]
  },
  {
   "cell_type": "code",
   "execution_count": 2,
   "metadata": {},
   "outputs": [
    {
     "name": "stdout",
     "output_type": "stream",
     "text": [
      "<class 'pandas.core.frame.DataFrame'>\n",
      "RangeIndex: 16715 entries, 0 to 16714\n",
      "Data columns (total 11 columns):\n",
      " #   Column           Non-Null Count  Dtype  \n",
      "---  ------           --------------  -----  \n",
      " 0   Name             16713 non-null  object \n",
      " 1   Platform         16715 non-null  object \n",
      " 2   Year_of_Release  16446 non-null  float64\n",
      " 3   Genre            16713 non-null  object \n",
      " 4   NA_sales         16715 non-null  float64\n",
      " 5   EU_sales         16715 non-null  float64\n",
      " 6   JP_sales         16715 non-null  float64\n",
      " 7   Other_sales      16715 non-null  float64\n",
      " 8   Critic_Score     8137 non-null   float64\n",
      " 9   User_Score       10014 non-null  object \n",
      " 10  Rating           9949 non-null   object \n",
      "dtypes: float64(6), object(5)\n",
      "memory usage: 1.4+ MB\n"
     ]
    },
    {
     "data": {
      "text/html": [
       "<div>\n",
       "<style scoped>\n",
       "    .dataframe tbody tr th:only-of-type {\n",
       "        vertical-align: middle;\n",
       "    }\n",
       "\n",
       "    .dataframe tbody tr th {\n",
       "        vertical-align: top;\n",
       "    }\n",
       "\n",
       "    .dataframe thead th {\n",
       "        text-align: right;\n",
       "    }\n",
       "</style>\n",
       "<table border=\"1\" class=\"dataframe\">\n",
       "  <thead>\n",
       "    <tr style=\"text-align: right;\">\n",
       "      <th></th>\n",
       "      <th>Name</th>\n",
       "      <th>Platform</th>\n",
       "      <th>Year_of_Release</th>\n",
       "      <th>Genre</th>\n",
       "      <th>NA_sales</th>\n",
       "      <th>EU_sales</th>\n",
       "      <th>JP_sales</th>\n",
       "      <th>Other_sales</th>\n",
       "      <th>Critic_Score</th>\n",
       "      <th>User_Score</th>\n",
       "      <th>Rating</th>\n",
       "    </tr>\n",
       "  </thead>\n",
       "  <tbody>\n",
       "    <tr>\n",
       "      <th>0</th>\n",
       "      <td>Wii Sports</td>\n",
       "      <td>Wii</td>\n",
       "      <td>2006.0</td>\n",
       "      <td>Sports</td>\n",
       "      <td>41.36</td>\n",
       "      <td>28.96</td>\n",
       "      <td>3.77</td>\n",
       "      <td>8.45</td>\n",
       "      <td>76.0</td>\n",
       "      <td>8</td>\n",
       "      <td>E</td>\n",
       "    </tr>\n",
       "    <tr>\n",
       "      <th>1</th>\n",
       "      <td>Super Mario Bros.</td>\n",
       "      <td>NES</td>\n",
       "      <td>1985.0</td>\n",
       "      <td>Platform</td>\n",
       "      <td>29.08</td>\n",
       "      <td>3.58</td>\n",
       "      <td>6.81</td>\n",
       "      <td>0.77</td>\n",
       "      <td>NaN</td>\n",
       "      <td>NaN</td>\n",
       "      <td>NaN</td>\n",
       "    </tr>\n",
       "    <tr>\n",
       "      <th>2</th>\n",
       "      <td>Mario Kart Wii</td>\n",
       "      <td>Wii</td>\n",
       "      <td>2008.0</td>\n",
       "      <td>Racing</td>\n",
       "      <td>15.68</td>\n",
       "      <td>12.76</td>\n",
       "      <td>3.79</td>\n",
       "      <td>3.29</td>\n",
       "      <td>82.0</td>\n",
       "      <td>8.3</td>\n",
       "      <td>E</td>\n",
       "    </tr>\n",
       "    <tr>\n",
       "      <th>3</th>\n",
       "      <td>Wii Sports Resort</td>\n",
       "      <td>Wii</td>\n",
       "      <td>2009.0</td>\n",
       "      <td>Sports</td>\n",
       "      <td>15.61</td>\n",
       "      <td>10.93</td>\n",
       "      <td>3.28</td>\n",
       "      <td>2.95</td>\n",
       "      <td>80.0</td>\n",
       "      <td>8</td>\n",
       "      <td>E</td>\n",
       "    </tr>\n",
       "    <tr>\n",
       "      <th>4</th>\n",
       "      <td>Pokemon Red/Pokemon Blue</td>\n",
       "      <td>GB</td>\n",
       "      <td>1996.0</td>\n",
       "      <td>Role-Playing</td>\n",
       "      <td>11.27</td>\n",
       "      <td>8.89</td>\n",
       "      <td>10.22</td>\n",
       "      <td>1.00</td>\n",
       "      <td>NaN</td>\n",
       "      <td>NaN</td>\n",
       "      <td>NaN</td>\n",
       "    </tr>\n",
       "  </tbody>\n",
       "</table>\n",
       "</div>"
      ],
      "text/plain": [
       "                       Name Platform  Year_of_Release         Genre  NA_sales  \\\n",
       "0                Wii Sports      Wii           2006.0        Sports     41.36   \n",
       "1         Super Mario Bros.      NES           1985.0      Platform     29.08   \n",
       "2            Mario Kart Wii      Wii           2008.0        Racing     15.68   \n",
       "3         Wii Sports Resort      Wii           2009.0        Sports     15.61   \n",
       "4  Pokemon Red/Pokemon Blue       GB           1996.0  Role-Playing     11.27   \n",
       "\n",
       "   EU_sales  JP_sales  Other_sales  Critic_Score User_Score Rating  \n",
       "0     28.96      3.77         8.45          76.0          8      E  \n",
       "1      3.58      6.81         0.77           NaN        NaN    NaN  \n",
       "2     12.76      3.79         3.29          82.0        8.3      E  \n",
       "3     10.93      3.28         2.95          80.0          8      E  \n",
       "4      8.89     10.22         1.00           NaN        NaN    NaN  "
      ]
     },
     "execution_count": 2,
     "metadata": {},
     "output_type": "execute_result"
    }
   ],
   "source": [
    "# чтение файла\n",
    "data = pd.read_csv('/datasets/games.csv')\n",
    "data.info()\n",
    "data.head()"
   ]
  },
  {
   "cell_type": "markdown",
   "metadata": {},
   "source": [
    "**Вывод**: Общее количество строк - 16715, в столбцах Name, Year_of_release, Genre, Critic_Score, User_score, Rating пропущены значения.\n"
   ]
  },
  {
   "cell_type": "code",
   "execution_count": 3,
   "metadata": {},
   "outputs": [
    {
     "data": {
      "text/plain": [
       "Index(['name', 'platform', 'year_of_release', 'genre', 'na_sales', 'eu_sales',\n",
       "       'jp_sales', 'other_sales', 'critic_score', 'user_score', 'rating'],\n",
       "      dtype='object')"
      ]
     },
     "execution_count": 3,
     "metadata": {},
     "output_type": "execute_result"
    }
   ],
   "source": [
    "# приведем названия столбцов к нижнему регистру\n",
    "data.columns = data.columns.str.lower()\n",
    "data.columns"
   ]
  },
  {
   "cell_type": "code",
   "execution_count": 4,
   "metadata": {},
   "outputs": [
    {
     "data": {
      "text/plain": [
       "0"
      ]
     },
     "execution_count": 4,
     "metadata": {},
     "output_type": "execute_result"
    }
   ],
   "source": [
    "data.duplicated().sum()"
   ]
  },
  {
   "cell_type": "markdown",
   "metadata": {},
   "source": [
    "Явных дубликатов в таблице нет. <br>\n",
    "Изучим поподробнее пропуски."
   ]
  },
  {
   "cell_type": "code",
   "execution_count": 5,
   "metadata": {},
   "outputs": [
    {
     "data": {
      "text/html": [
       "<div>\n",
       "<style scoped>\n",
       "    .dataframe tbody tr th:only-of-type {\n",
       "        vertical-align: middle;\n",
       "    }\n",
       "\n",
       "    .dataframe tbody tr th {\n",
       "        vertical-align: top;\n",
       "    }\n",
       "\n",
       "    .dataframe thead th {\n",
       "        text-align: right;\n",
       "    }\n",
       "</style>\n",
       "<table border=\"1\" class=\"dataframe\">\n",
       "  <thead>\n",
       "    <tr style=\"text-align: right;\">\n",
       "      <th></th>\n",
       "      <th>name</th>\n",
       "      <th>platform</th>\n",
       "      <th>year_of_release</th>\n",
       "      <th>genre</th>\n",
       "      <th>na_sales</th>\n",
       "      <th>eu_sales</th>\n",
       "      <th>jp_sales</th>\n",
       "      <th>other_sales</th>\n",
       "      <th>critic_score</th>\n",
       "      <th>user_score</th>\n",
       "      <th>rating</th>\n",
       "    </tr>\n",
       "  </thead>\n",
       "  <tbody>\n",
       "    <tr>\n",
       "      <th>659</th>\n",
       "      <td>NaN</td>\n",
       "      <td>GEN</td>\n",
       "      <td>1993.0</td>\n",
       "      <td>NaN</td>\n",
       "      <td>1.78</td>\n",
       "      <td>0.53</td>\n",
       "      <td>0.00</td>\n",
       "      <td>0.08</td>\n",
       "      <td>NaN</td>\n",
       "      <td>NaN</td>\n",
       "      <td>NaN</td>\n",
       "    </tr>\n",
       "    <tr>\n",
       "      <th>14244</th>\n",
       "      <td>NaN</td>\n",
       "      <td>GEN</td>\n",
       "      <td>1993.0</td>\n",
       "      <td>NaN</td>\n",
       "      <td>0.00</td>\n",
       "      <td>0.00</td>\n",
       "      <td>0.03</td>\n",
       "      <td>0.00</td>\n",
       "      <td>NaN</td>\n",
       "      <td>NaN</td>\n",
       "      <td>NaN</td>\n",
       "    </tr>\n",
       "  </tbody>\n",
       "</table>\n",
       "</div>"
      ],
      "text/plain": [
       "      name platform  year_of_release genre  na_sales  eu_sales  jp_sales  \\\n",
       "659    NaN      GEN           1993.0   NaN      1.78      0.53      0.00   \n",
       "14244  NaN      GEN           1993.0   NaN      0.00      0.00      0.03   \n",
       "\n",
       "       other_sales  critic_score user_score rating  \n",
       "659           0.08           NaN        NaN    NaN  \n",
       "14244         0.00           NaN        NaN    NaN  "
      ]
     },
     "metadata": {},
     "output_type": "display_data"
    }
   ],
   "source": [
    "# посмотрим на строки с пропущенными значениями столбца Name\n",
    "display(data[data['name'].isna()== True])\n",
    "# данные за 1993 год с очень малыми продажами - можем пренебречь этими двумя строками (эти же строки выводятся \n",
    "# в статистике null'овых значений по столбцу genre; убьем одним махом двух зайцев)\n",
    "data = data.dropna(subset = ['name'])"
   ]
  },
  {
   "cell_type": "code",
   "execution_count": 6,
   "metadata": {},
   "outputs": [
    {
     "data": {
      "text/html": [
       "<div>\n",
       "<style scoped>\n",
       "    .dataframe tbody tr th:only-of-type {\n",
       "        vertical-align: middle;\n",
       "    }\n",
       "\n",
       "    .dataframe tbody tr th {\n",
       "        vertical-align: top;\n",
       "    }\n",
       "\n",
       "    .dataframe thead th {\n",
       "        text-align: right;\n",
       "    }\n",
       "</style>\n",
       "<table border=\"1\" class=\"dataframe\">\n",
       "  <thead>\n",
       "    <tr style=\"text-align: right;\">\n",
       "      <th></th>\n",
       "      <th>name</th>\n",
       "      <th>platform</th>\n",
       "      <th>year_of_release</th>\n",
       "      <th>genre</th>\n",
       "      <th>na_sales</th>\n",
       "      <th>eu_sales</th>\n",
       "      <th>jp_sales</th>\n",
       "      <th>other_sales</th>\n",
       "      <th>critic_score</th>\n",
       "      <th>user_score</th>\n",
       "      <th>rating</th>\n",
       "    </tr>\n",
       "  </thead>\n",
       "  <tbody>\n",
       "    <tr>\n",
       "      <th>183</th>\n",
       "      <td>Madden NFL 2004</td>\n",
       "      <td>PS2</td>\n",
       "      <td>NaN</td>\n",
       "      <td>Sports</td>\n",
       "      <td>4.26</td>\n",
       "      <td>0.26</td>\n",
       "      <td>0.01</td>\n",
       "      <td>0.71</td>\n",
       "      <td>94.0</td>\n",
       "      <td>8.5</td>\n",
       "      <td>E</td>\n",
       "    </tr>\n",
       "    <tr>\n",
       "      <th>377</th>\n",
       "      <td>FIFA Soccer 2004</td>\n",
       "      <td>PS2</td>\n",
       "      <td>NaN</td>\n",
       "      <td>Sports</td>\n",
       "      <td>0.59</td>\n",
       "      <td>2.36</td>\n",
       "      <td>0.04</td>\n",
       "      <td>0.51</td>\n",
       "      <td>84.0</td>\n",
       "      <td>6.4</td>\n",
       "      <td>E</td>\n",
       "    </tr>\n",
       "    <tr>\n",
       "      <th>456</th>\n",
       "      <td>LEGO Batman: The Videogame</td>\n",
       "      <td>Wii</td>\n",
       "      <td>NaN</td>\n",
       "      <td>Action</td>\n",
       "      <td>1.80</td>\n",
       "      <td>0.97</td>\n",
       "      <td>0.00</td>\n",
       "      <td>0.29</td>\n",
       "      <td>74.0</td>\n",
       "      <td>7.9</td>\n",
       "      <td>E10+</td>\n",
       "    </tr>\n",
       "    <tr>\n",
       "      <th>475</th>\n",
       "      <td>wwe Smackdown vs. Raw 2006</td>\n",
       "      <td>PS2</td>\n",
       "      <td>NaN</td>\n",
       "      <td>Fighting</td>\n",
       "      <td>1.57</td>\n",
       "      <td>1.02</td>\n",
       "      <td>0.00</td>\n",
       "      <td>0.41</td>\n",
       "      <td>NaN</td>\n",
       "      <td>NaN</td>\n",
       "      <td>NaN</td>\n",
       "    </tr>\n",
       "    <tr>\n",
       "      <th>609</th>\n",
       "      <td>Space Invaders</td>\n",
       "      <td>2600</td>\n",
       "      <td>NaN</td>\n",
       "      <td>Shooter</td>\n",
       "      <td>2.36</td>\n",
       "      <td>0.14</td>\n",
       "      <td>0.00</td>\n",
       "      <td>0.03</td>\n",
       "      <td>NaN</td>\n",
       "      <td>NaN</td>\n",
       "      <td>NaN</td>\n",
       "    </tr>\n",
       "    <tr>\n",
       "      <th>...</th>\n",
       "      <td>...</td>\n",
       "      <td>...</td>\n",
       "      <td>...</td>\n",
       "      <td>...</td>\n",
       "      <td>...</td>\n",
       "      <td>...</td>\n",
       "      <td>...</td>\n",
       "      <td>...</td>\n",
       "      <td>...</td>\n",
       "      <td>...</td>\n",
       "      <td>...</td>\n",
       "    </tr>\n",
       "    <tr>\n",
       "      <th>16373</th>\n",
       "      <td>PDC World Championship Darts 2008</td>\n",
       "      <td>PSP</td>\n",
       "      <td>NaN</td>\n",
       "      <td>Sports</td>\n",
       "      <td>0.01</td>\n",
       "      <td>0.00</td>\n",
       "      <td>0.00</td>\n",
       "      <td>0.00</td>\n",
       "      <td>43.0</td>\n",
       "      <td>tbd</td>\n",
       "      <td>E10+</td>\n",
       "    </tr>\n",
       "    <tr>\n",
       "      <th>16405</th>\n",
       "      <td>Freaky Flyers</td>\n",
       "      <td>GC</td>\n",
       "      <td>NaN</td>\n",
       "      <td>Racing</td>\n",
       "      <td>0.01</td>\n",
       "      <td>0.00</td>\n",
       "      <td>0.00</td>\n",
       "      <td>0.00</td>\n",
       "      <td>69.0</td>\n",
       "      <td>6.5</td>\n",
       "      <td>T</td>\n",
       "    </tr>\n",
       "    <tr>\n",
       "      <th>16448</th>\n",
       "      <td>Inversion</td>\n",
       "      <td>PC</td>\n",
       "      <td>NaN</td>\n",
       "      <td>Shooter</td>\n",
       "      <td>0.01</td>\n",
       "      <td>0.00</td>\n",
       "      <td>0.00</td>\n",
       "      <td>0.00</td>\n",
       "      <td>59.0</td>\n",
       "      <td>6.7</td>\n",
       "      <td>M</td>\n",
       "    </tr>\n",
       "    <tr>\n",
       "      <th>16458</th>\n",
       "      <td>Hakuouki: Shinsengumi Kitan</td>\n",
       "      <td>PS3</td>\n",
       "      <td>NaN</td>\n",
       "      <td>Adventure</td>\n",
       "      <td>0.01</td>\n",
       "      <td>0.00</td>\n",
       "      <td>0.00</td>\n",
       "      <td>0.00</td>\n",
       "      <td>NaN</td>\n",
       "      <td>NaN</td>\n",
       "      <td>NaN</td>\n",
       "    </tr>\n",
       "    <tr>\n",
       "      <th>16522</th>\n",
       "      <td>Virtua Quest</td>\n",
       "      <td>GC</td>\n",
       "      <td>NaN</td>\n",
       "      <td>Role-Playing</td>\n",
       "      <td>0.01</td>\n",
       "      <td>0.00</td>\n",
       "      <td>0.00</td>\n",
       "      <td>0.00</td>\n",
       "      <td>55.0</td>\n",
       "      <td>5.5</td>\n",
       "      <td>T</td>\n",
       "    </tr>\n",
       "  </tbody>\n",
       "</table>\n",
       "<p>269 rows × 11 columns</p>\n",
       "</div>"
      ],
      "text/plain": [
       "                                    name platform  year_of_release  \\\n",
       "183                      Madden NFL 2004      PS2              NaN   \n",
       "377                     FIFA Soccer 2004      PS2              NaN   \n",
       "456           LEGO Batman: The Videogame      Wii              NaN   \n",
       "475           wwe Smackdown vs. Raw 2006      PS2              NaN   \n",
       "609                       Space Invaders     2600              NaN   \n",
       "...                                  ...      ...              ...   \n",
       "16373  PDC World Championship Darts 2008      PSP              NaN   \n",
       "16405                      Freaky Flyers       GC              NaN   \n",
       "16448                          Inversion       PC              NaN   \n",
       "16458        Hakuouki: Shinsengumi Kitan      PS3              NaN   \n",
       "16522                       Virtua Quest       GC              NaN   \n",
       "\n",
       "              genre  na_sales  eu_sales  jp_sales  other_sales  critic_score  \\\n",
       "183          Sports      4.26      0.26      0.01         0.71          94.0   \n",
       "377          Sports      0.59      2.36      0.04         0.51          84.0   \n",
       "456          Action      1.80      0.97      0.00         0.29          74.0   \n",
       "475        Fighting      1.57      1.02      0.00         0.41           NaN   \n",
       "609         Shooter      2.36      0.14      0.00         0.03           NaN   \n",
       "...             ...       ...       ...       ...          ...           ...   \n",
       "16373        Sports      0.01      0.00      0.00         0.00          43.0   \n",
       "16405        Racing      0.01      0.00      0.00         0.00          69.0   \n",
       "16448       Shooter      0.01      0.00      0.00         0.00          59.0   \n",
       "16458     Adventure      0.01      0.00      0.00         0.00           NaN   \n",
       "16522  Role-Playing      0.01      0.00      0.00         0.00          55.0   \n",
       "\n",
       "      user_score rating  \n",
       "183          8.5      E  \n",
       "377          6.4      E  \n",
       "456          7.9   E10+  \n",
       "475          NaN    NaN  \n",
       "609          NaN    NaN  \n",
       "...          ...    ...  \n",
       "16373        tbd   E10+  \n",
       "16405        6.5      T  \n",
       "16448        6.7      M  \n",
       "16458        NaN    NaN  \n",
       "16522        5.5      T  \n",
       "\n",
       "[269 rows x 11 columns]"
      ]
     },
     "metadata": {},
     "output_type": "display_data"
    }
   ],
   "source": [
    "# посмотрим на строки с пропущенными значениями столбца year of release\n",
    "display(data[data['year_of_release'].isna()== True])\n",
    "# посчитаем долю кол-ва пропущенных значений от всего кол-ва строк\n",
    "data['year_of_release'].isna().sum() / data['year_of_release'].isna().count()*100\n",
    "# всего 1,6% - это немного, можем удалить эти строки, их потеря не повлияет существенно на результаты анализа\n",
    "data = data.dropna(subset = ['year_of_release'])"
   ]
  },
  {
   "cell_type": "code",
   "execution_count": 7,
   "metadata": {},
   "outputs": [
    {
     "data": {
      "text/html": [
       "<div>\n",
       "<style scoped>\n",
       "    .dataframe tbody tr th:only-of-type {\n",
       "        vertical-align: middle;\n",
       "    }\n",
       "\n",
       "    .dataframe tbody tr th {\n",
       "        vertical-align: top;\n",
       "    }\n",
       "\n",
       "    .dataframe thead th {\n",
       "        text-align: right;\n",
       "    }\n",
       "</style>\n",
       "<table border=\"1\" class=\"dataframe\">\n",
       "  <thead>\n",
       "    <tr style=\"text-align: right;\">\n",
       "      <th></th>\n",
       "      <th>name</th>\n",
       "      <th>platform</th>\n",
       "      <th>year_of_release</th>\n",
       "      <th>genre</th>\n",
       "      <th>na_sales</th>\n",
       "      <th>eu_sales</th>\n",
       "      <th>jp_sales</th>\n",
       "      <th>other_sales</th>\n",
       "      <th>critic_score</th>\n",
       "      <th>user_score</th>\n",
       "      <th>rating</th>\n",
       "    </tr>\n",
       "  </thead>\n",
       "  <tbody>\n",
       "    <tr>\n",
       "      <th>1</th>\n",
       "      <td>Super Mario Bros.</td>\n",
       "      <td>NES</td>\n",
       "      <td>1985.0</td>\n",
       "      <td>Platform</td>\n",
       "      <td>29.08</td>\n",
       "      <td>3.58</td>\n",
       "      <td>6.81</td>\n",
       "      <td>0.77</td>\n",
       "      <td>NaN</td>\n",
       "      <td>NaN</td>\n",
       "      <td>NaN</td>\n",
       "    </tr>\n",
       "    <tr>\n",
       "      <th>4</th>\n",
       "      <td>Pokemon Red/Pokemon Blue</td>\n",
       "      <td>GB</td>\n",
       "      <td>1996.0</td>\n",
       "      <td>Role-Playing</td>\n",
       "      <td>11.27</td>\n",
       "      <td>8.89</td>\n",
       "      <td>10.22</td>\n",
       "      <td>1.00</td>\n",
       "      <td>NaN</td>\n",
       "      <td>NaN</td>\n",
       "      <td>NaN</td>\n",
       "    </tr>\n",
       "    <tr>\n",
       "      <th>5</th>\n",
       "      <td>Tetris</td>\n",
       "      <td>GB</td>\n",
       "      <td>1989.0</td>\n",
       "      <td>Puzzle</td>\n",
       "      <td>23.20</td>\n",
       "      <td>2.26</td>\n",
       "      <td>4.22</td>\n",
       "      <td>0.58</td>\n",
       "      <td>NaN</td>\n",
       "      <td>NaN</td>\n",
       "      <td>NaN</td>\n",
       "    </tr>\n",
       "    <tr>\n",
       "      <th>9</th>\n",
       "      <td>Duck Hunt</td>\n",
       "      <td>NES</td>\n",
       "      <td>1984.0</td>\n",
       "      <td>Shooter</td>\n",
       "      <td>26.93</td>\n",
       "      <td>0.63</td>\n",
       "      <td>0.28</td>\n",
       "      <td>0.47</td>\n",
       "      <td>NaN</td>\n",
       "      <td>NaN</td>\n",
       "      <td>NaN</td>\n",
       "    </tr>\n",
       "    <tr>\n",
       "      <th>10</th>\n",
       "      <td>Nintendogs</td>\n",
       "      <td>DS</td>\n",
       "      <td>2005.0</td>\n",
       "      <td>Simulation</td>\n",
       "      <td>9.05</td>\n",
       "      <td>10.95</td>\n",
       "      <td>1.93</td>\n",
       "      <td>2.74</td>\n",
       "      <td>NaN</td>\n",
       "      <td>NaN</td>\n",
       "      <td>NaN</td>\n",
       "    </tr>\n",
       "    <tr>\n",
       "      <th>...</th>\n",
       "      <td>...</td>\n",
       "      <td>...</td>\n",
       "      <td>...</td>\n",
       "      <td>...</td>\n",
       "      <td>...</td>\n",
       "      <td>...</td>\n",
       "      <td>...</td>\n",
       "      <td>...</td>\n",
       "      <td>...</td>\n",
       "      <td>...</td>\n",
       "      <td>...</td>\n",
       "    </tr>\n",
       "    <tr>\n",
       "      <th>16710</th>\n",
       "      <td>Samurai Warriors: Sanada Maru</td>\n",
       "      <td>PS3</td>\n",
       "      <td>2016.0</td>\n",
       "      <td>Action</td>\n",
       "      <td>0.00</td>\n",
       "      <td>0.00</td>\n",
       "      <td>0.01</td>\n",
       "      <td>0.00</td>\n",
       "      <td>NaN</td>\n",
       "      <td>NaN</td>\n",
       "      <td>NaN</td>\n",
       "    </tr>\n",
       "    <tr>\n",
       "      <th>16711</th>\n",
       "      <td>LMA Manager 2007</td>\n",
       "      <td>X360</td>\n",
       "      <td>2006.0</td>\n",
       "      <td>Sports</td>\n",
       "      <td>0.00</td>\n",
       "      <td>0.01</td>\n",
       "      <td>0.00</td>\n",
       "      <td>0.00</td>\n",
       "      <td>NaN</td>\n",
       "      <td>NaN</td>\n",
       "      <td>NaN</td>\n",
       "    </tr>\n",
       "    <tr>\n",
       "      <th>16712</th>\n",
       "      <td>Haitaka no Psychedelica</td>\n",
       "      <td>PSV</td>\n",
       "      <td>2016.0</td>\n",
       "      <td>Adventure</td>\n",
       "      <td>0.00</td>\n",
       "      <td>0.00</td>\n",
       "      <td>0.01</td>\n",
       "      <td>0.00</td>\n",
       "      <td>NaN</td>\n",
       "      <td>NaN</td>\n",
       "      <td>NaN</td>\n",
       "    </tr>\n",
       "    <tr>\n",
       "      <th>16713</th>\n",
       "      <td>Spirits &amp; Spells</td>\n",
       "      <td>GBA</td>\n",
       "      <td>2003.0</td>\n",
       "      <td>Platform</td>\n",
       "      <td>0.01</td>\n",
       "      <td>0.00</td>\n",
       "      <td>0.00</td>\n",
       "      <td>0.00</td>\n",
       "      <td>NaN</td>\n",
       "      <td>NaN</td>\n",
       "      <td>NaN</td>\n",
       "    </tr>\n",
       "    <tr>\n",
       "      <th>16714</th>\n",
       "      <td>Winning Post 8 2016</td>\n",
       "      <td>PSV</td>\n",
       "      <td>2016.0</td>\n",
       "      <td>Simulation</td>\n",
       "      <td>0.00</td>\n",
       "      <td>0.00</td>\n",
       "      <td>0.01</td>\n",
       "      <td>0.00</td>\n",
       "      <td>NaN</td>\n",
       "      <td>NaN</td>\n",
       "      <td>NaN</td>\n",
       "    </tr>\n",
       "  </tbody>\n",
       "</table>\n",
       "<p>8461 rows × 11 columns</p>\n",
       "</div>"
      ],
      "text/plain": [
       "                                name platform  year_of_release         genre  \\\n",
       "1                  Super Mario Bros.      NES           1985.0      Platform   \n",
       "4           Pokemon Red/Pokemon Blue       GB           1996.0  Role-Playing   \n",
       "5                             Tetris       GB           1989.0        Puzzle   \n",
       "9                          Duck Hunt      NES           1984.0       Shooter   \n",
       "10                        Nintendogs       DS           2005.0    Simulation   \n",
       "...                              ...      ...              ...           ...   \n",
       "16710  Samurai Warriors: Sanada Maru      PS3           2016.0        Action   \n",
       "16711               LMA Manager 2007     X360           2006.0        Sports   \n",
       "16712        Haitaka no Psychedelica      PSV           2016.0     Adventure   \n",
       "16713               Spirits & Spells      GBA           2003.0      Platform   \n",
       "16714            Winning Post 8 2016      PSV           2016.0    Simulation   \n",
       "\n",
       "       na_sales  eu_sales  jp_sales  other_sales  critic_score user_score  \\\n",
       "1         29.08      3.58      6.81         0.77           NaN        NaN   \n",
       "4         11.27      8.89     10.22         1.00           NaN        NaN   \n",
       "5         23.20      2.26      4.22         0.58           NaN        NaN   \n",
       "9         26.93      0.63      0.28         0.47           NaN        NaN   \n",
       "10         9.05     10.95      1.93         2.74           NaN        NaN   \n",
       "...         ...       ...       ...          ...           ...        ...   \n",
       "16710      0.00      0.00      0.01         0.00           NaN        NaN   \n",
       "16711      0.00      0.01      0.00         0.00           NaN        NaN   \n",
       "16712      0.00      0.00      0.01         0.00           NaN        NaN   \n",
       "16713      0.01      0.00      0.00         0.00           NaN        NaN   \n",
       "16714      0.00      0.00      0.01         0.00           NaN        NaN   \n",
       "\n",
       "      rating  \n",
       "1        NaN  \n",
       "4        NaN  \n",
       "5        NaN  \n",
       "9        NaN  \n",
       "10       NaN  \n",
       "...      ...  \n",
       "16710    NaN  \n",
       "16711    NaN  \n",
       "16712    NaN  \n",
       "16713    NaN  \n",
       "16714    NaN  \n",
       "\n",
       "[8461 rows x 11 columns]"
      ]
     },
     "metadata": {},
     "output_type": "display_data"
    }
   ],
   "source": [
    "# посмотрим на строки с пропущенными значениями столбца critic_score\n",
    "display(data[data['critic_score'].isna()== True])"
   ]
  },
  {
   "cell_type": "markdown",
   "metadata": {},
   "source": [
    "Строк с Nan много, но мы не можем избавиться от них, т.к. будет утеряно много ценных данных для анализа по продажам, в том числе за последние года. Мы отфильтруем эти значения позже, при анализе корреляции оценки и продаж."
   ]
  },
  {
   "cell_type": "code",
   "execution_count": 8,
   "metadata": {},
   "outputs": [],
   "source": [
    "# необходимо привести столбцы к правильному типу: int64 для столбца year of release, float для столбца user_score\n",
    "data['year_of_release'].unique()\n",
    "data['year_of_release'].value_counts()\n",
    "data['year_of_release'].isnull().sum() /  data['year_of_release'].isnull().count()*100\n",
    "data['year_of_release'] = data['year_of_release'].astype('int')\n",
    "#data.info()"
   ]
  },
  {
   "cell_type": "code",
   "execution_count": 9,
   "metadata": {},
   "outputs": [
    {
     "data": {
      "text/html": [
       "<div>\n",
       "<style scoped>\n",
       "    .dataframe tbody tr th:only-of-type {\n",
       "        vertical-align: middle;\n",
       "    }\n",
       "\n",
       "    .dataframe tbody tr th {\n",
       "        vertical-align: top;\n",
       "    }\n",
       "\n",
       "    .dataframe thead th {\n",
       "        text-align: right;\n",
       "    }\n",
       "</style>\n",
       "<table border=\"1\" class=\"dataframe\">\n",
       "  <thead>\n",
       "    <tr style=\"text-align: right;\">\n",
       "      <th></th>\n",
       "      <th>name</th>\n",
       "      <th>platform</th>\n",
       "      <th>year_of_release</th>\n",
       "      <th>genre</th>\n",
       "      <th>na_sales</th>\n",
       "      <th>eu_sales</th>\n",
       "      <th>jp_sales</th>\n",
       "      <th>other_sales</th>\n",
       "      <th>critic_score</th>\n",
       "      <th>user_score</th>\n",
       "      <th>rating</th>\n",
       "    </tr>\n",
       "  </thead>\n",
       "  <tbody>\n",
       "    <tr>\n",
       "      <th>119</th>\n",
       "      <td>Zumba Fitness</td>\n",
       "      <td>Wii</td>\n",
       "      <td>2010</td>\n",
       "      <td>Sports</td>\n",
       "      <td>3.45</td>\n",
       "      <td>2.59</td>\n",
       "      <td>0.0</td>\n",
       "      <td>0.66</td>\n",
       "      <td>NaN</td>\n",
       "      <td>tbd</td>\n",
       "      <td>E</td>\n",
       "    </tr>\n",
       "    <tr>\n",
       "      <th>301</th>\n",
       "      <td>Namco Museum: 50th Anniversary</td>\n",
       "      <td>PS2</td>\n",
       "      <td>2005</td>\n",
       "      <td>Misc</td>\n",
       "      <td>2.08</td>\n",
       "      <td>1.35</td>\n",
       "      <td>0.0</td>\n",
       "      <td>0.54</td>\n",
       "      <td>61.0</td>\n",
       "      <td>tbd</td>\n",
       "      <td>E10+</td>\n",
       "    </tr>\n",
       "    <tr>\n",
       "      <th>520</th>\n",
       "      <td>Zumba Fitness 2</td>\n",
       "      <td>Wii</td>\n",
       "      <td>2011</td>\n",
       "      <td>Sports</td>\n",
       "      <td>1.51</td>\n",
       "      <td>1.03</td>\n",
       "      <td>0.0</td>\n",
       "      <td>0.27</td>\n",
       "      <td>NaN</td>\n",
       "      <td>tbd</td>\n",
       "      <td>T</td>\n",
       "    </tr>\n",
       "    <tr>\n",
       "      <th>645</th>\n",
       "      <td>uDraw Studio</td>\n",
       "      <td>Wii</td>\n",
       "      <td>2010</td>\n",
       "      <td>Misc</td>\n",
       "      <td>1.65</td>\n",
       "      <td>0.57</td>\n",
       "      <td>0.0</td>\n",
       "      <td>0.20</td>\n",
       "      <td>71.0</td>\n",
       "      <td>tbd</td>\n",
       "      <td>E</td>\n",
       "    </tr>\n",
       "    <tr>\n",
       "      <th>718</th>\n",
       "      <td>Just Dance Kids</td>\n",
       "      <td>Wii</td>\n",
       "      <td>2010</td>\n",
       "      <td>Misc</td>\n",
       "      <td>1.52</td>\n",
       "      <td>0.54</td>\n",
       "      <td>0.0</td>\n",
       "      <td>0.18</td>\n",
       "      <td>NaN</td>\n",
       "      <td>tbd</td>\n",
       "      <td>E</td>\n",
       "    </tr>\n",
       "    <tr>\n",
       "      <th>...</th>\n",
       "      <td>...</td>\n",
       "      <td>...</td>\n",
       "      <td>...</td>\n",
       "      <td>...</td>\n",
       "      <td>...</td>\n",
       "      <td>...</td>\n",
       "      <td>...</td>\n",
       "      <td>...</td>\n",
       "      <td>...</td>\n",
       "      <td>...</td>\n",
       "      <td>...</td>\n",
       "    </tr>\n",
       "    <tr>\n",
       "      <th>16695</th>\n",
       "      <td>Planet Monsters</td>\n",
       "      <td>GBA</td>\n",
       "      <td>2001</td>\n",
       "      <td>Action</td>\n",
       "      <td>0.01</td>\n",
       "      <td>0.00</td>\n",
       "      <td>0.0</td>\n",
       "      <td>0.00</td>\n",
       "      <td>67.0</td>\n",
       "      <td>tbd</td>\n",
       "      <td>E</td>\n",
       "    </tr>\n",
       "    <tr>\n",
       "      <th>16697</th>\n",
       "      <td>Bust-A-Move 3000</td>\n",
       "      <td>GC</td>\n",
       "      <td>2003</td>\n",
       "      <td>Puzzle</td>\n",
       "      <td>0.01</td>\n",
       "      <td>0.00</td>\n",
       "      <td>0.0</td>\n",
       "      <td>0.00</td>\n",
       "      <td>53.0</td>\n",
       "      <td>tbd</td>\n",
       "      <td>E</td>\n",
       "    </tr>\n",
       "    <tr>\n",
       "      <th>16698</th>\n",
       "      <td>Mega Brain Boost</td>\n",
       "      <td>DS</td>\n",
       "      <td>2008</td>\n",
       "      <td>Puzzle</td>\n",
       "      <td>0.01</td>\n",
       "      <td>0.00</td>\n",
       "      <td>0.0</td>\n",
       "      <td>0.00</td>\n",
       "      <td>48.0</td>\n",
       "      <td>tbd</td>\n",
       "      <td>E</td>\n",
       "    </tr>\n",
       "    <tr>\n",
       "      <th>16704</th>\n",
       "      <td>Plushees</td>\n",
       "      <td>DS</td>\n",
       "      <td>2008</td>\n",
       "      <td>Simulation</td>\n",
       "      <td>0.01</td>\n",
       "      <td>0.00</td>\n",
       "      <td>0.0</td>\n",
       "      <td>0.00</td>\n",
       "      <td>NaN</td>\n",
       "      <td>tbd</td>\n",
       "      <td>E</td>\n",
       "    </tr>\n",
       "    <tr>\n",
       "      <th>16706</th>\n",
       "      <td>Men in Black II: Alien Escape</td>\n",
       "      <td>GC</td>\n",
       "      <td>2003</td>\n",
       "      <td>Shooter</td>\n",
       "      <td>0.01</td>\n",
       "      <td>0.00</td>\n",
       "      <td>0.0</td>\n",
       "      <td>0.00</td>\n",
       "      <td>NaN</td>\n",
       "      <td>tbd</td>\n",
       "      <td>T</td>\n",
       "    </tr>\n",
       "  </tbody>\n",
       "</table>\n",
       "<p>2376 rows × 11 columns</p>\n",
       "</div>"
      ],
      "text/plain": [
       "                                 name platform  year_of_release       genre  \\\n",
       "119                     Zumba Fitness      Wii             2010      Sports   \n",
       "301    Namco Museum: 50th Anniversary      PS2             2005        Misc   \n",
       "520                   Zumba Fitness 2      Wii             2011      Sports   \n",
       "645                      uDraw Studio      Wii             2010        Misc   \n",
       "718                   Just Dance Kids      Wii             2010        Misc   \n",
       "...                               ...      ...              ...         ...   \n",
       "16695                 Planet Monsters      GBA             2001      Action   \n",
       "16697                Bust-A-Move 3000       GC             2003      Puzzle   \n",
       "16698                Mega Brain Boost       DS             2008      Puzzle   \n",
       "16704                        Plushees       DS             2008  Simulation   \n",
       "16706   Men in Black II: Alien Escape       GC             2003     Shooter   \n",
       "\n",
       "       na_sales  eu_sales  jp_sales  other_sales  critic_score user_score  \\\n",
       "119        3.45      2.59       0.0         0.66           NaN        tbd   \n",
       "301        2.08      1.35       0.0         0.54          61.0        tbd   \n",
       "520        1.51      1.03       0.0         0.27           NaN        tbd   \n",
       "645        1.65      0.57       0.0         0.20          71.0        tbd   \n",
       "718        1.52      0.54       0.0         0.18           NaN        tbd   \n",
       "...         ...       ...       ...          ...           ...        ...   \n",
       "16695      0.01      0.00       0.0         0.00          67.0        tbd   \n",
       "16697      0.01      0.00       0.0         0.00          53.0        tbd   \n",
       "16698      0.01      0.00       0.0         0.00          48.0        tbd   \n",
       "16704      0.01      0.00       0.0         0.00           NaN        tbd   \n",
       "16706      0.01      0.00       0.0         0.00           NaN        tbd   \n",
       "\n",
       "      rating  \n",
       "119        E  \n",
       "301     E10+  \n",
       "520        T  \n",
       "645        E  \n",
       "718        E  \n",
       "...      ...  \n",
       "16695      E  \n",
       "16697      E  \n",
       "16698      E  \n",
       "16704      E  \n",
       "16706      T  \n",
       "\n",
       "[2376 rows x 11 columns]"
      ]
     },
     "metadata": {},
     "output_type": "display_data"
    }
   ],
   "source": [
    "# 'user_score' не может быть напрямую переведен в тип float, т.к. содержит заменитель пропуска \"tbd\" (\"to be defined\"), \n",
    "# т.е. этот рейтинг должны (или собирались) определить в будущем. Посмотрим на строки с пропущенными значениями столбца year of release\n",
    "display(data[data['user_score']== 'tbd'])"
   ]
  },
  {
   "cell_type": "code",
   "execution_count": 10,
   "metadata": {},
   "outputs": [
    {
     "name": "stdout",
     "output_type": "stream",
     "text": [
      "<class 'pandas.core.frame.DataFrame'>\n",
      "Int64Index: 16444 entries, 0 to 16714\n",
      "Data columns (total 11 columns):\n",
      " #   Column           Non-Null Count  Dtype  \n",
      "---  ------           --------------  -----  \n",
      " 0   name             16444 non-null  object \n",
      " 1   platform         16444 non-null  object \n",
      " 2   year_of_release  16444 non-null  int64  \n",
      " 3   genre            16444 non-null  object \n",
      " 4   na_sales         16444 non-null  float64\n",
      " 5   eu_sales         16444 non-null  float64\n",
      " 6   jp_sales         16444 non-null  float64\n",
      " 7   other_sales      16444 non-null  float64\n",
      " 8   critic_score     7983 non-null   float64\n",
      " 9   user_score       7463 non-null   float64\n",
      " 10  rating           9768 non-null   object \n",
      "dtypes: float64(6), int64(1), object(4)\n",
      "memory usage: 1.5+ MB\n"
     ]
    }
   ],
   "source": [
    "data['user_score'] = data['user_score'].replace({'tbd':np.nan})\n",
    "data['user_score'] = data['user_score'].astype('float')\n",
    "data['user_score'].value_counts()\n",
    "\n",
    "data.info()"
   ]
  },
  {
   "cell_type": "markdown",
   "metadata": {},
   "source": [
    "В столбцах critic_score & user_score много пропущенных значение - оценка этих игр не была определена. Можно заменить NaN на 0, принимая для нашего исследования как данность, что 0 в этих столбцах не означает плохую оценку, а означает отсутствие оценки."
   ]
  },
  {
   "cell_type": "code",
   "execution_count": 11,
   "metadata": {},
   "outputs": [
    {
     "name": "stdout",
     "output_type": "stream",
     "text": [
      "<class 'pandas.core.frame.DataFrame'>\n",
      "Int64Index: 16444 entries, 0 to 16714\n",
      "Data columns (total 11 columns):\n",
      " #   Column           Non-Null Count  Dtype  \n",
      "---  ------           --------------  -----  \n",
      " 0   name             16444 non-null  object \n",
      " 1   platform         16444 non-null  object \n",
      " 2   year_of_release  16444 non-null  int64  \n",
      " 3   genre            16444 non-null  object \n",
      " 4   na_sales         16444 non-null  float64\n",
      " 5   eu_sales         16444 non-null  float64\n",
      " 6   jp_sales         16444 non-null  float64\n",
      " 7   other_sales      16444 non-null  float64\n",
      " 8   critic_score     16444 non-null  float64\n",
      " 9   user_score       16444 non-null  float64\n",
      " 10  rating           16444 non-null  object \n",
      "dtypes: float64(6), int64(1), object(4)\n",
      "memory usage: 1.5+ MB\n"
     ]
    }
   ],
   "source": [
    "data['critic_score'] = data['critic_score'].fillna(0)\n",
    "data['user_score'] = data['user_score'].fillna(0)\n",
    "data['rating'] = data['rating'].fillna(\"0\")\n",
    "data.info()"
   ]
  },
  {
   "cell_type": "code",
   "execution_count": 12,
   "metadata": {},
   "outputs": [
    {
     "data": {
      "text/html": [
       "<div>\n",
       "<style scoped>\n",
       "    .dataframe tbody tr th:only-of-type {\n",
       "        vertical-align: middle;\n",
       "    }\n",
       "\n",
       "    .dataframe tbody tr th {\n",
       "        vertical-align: top;\n",
       "    }\n",
       "\n",
       "    .dataframe thead th {\n",
       "        text-align: right;\n",
       "    }\n",
       "</style>\n",
       "<table border=\"1\" class=\"dataframe\">\n",
       "  <thead>\n",
       "    <tr style=\"text-align: right;\">\n",
       "      <th></th>\n",
       "      <th>name</th>\n",
       "      <th>platform</th>\n",
       "      <th>year_of_release</th>\n",
       "      <th>genre</th>\n",
       "      <th>na_sales</th>\n",
       "      <th>eu_sales</th>\n",
       "      <th>jp_sales</th>\n",
       "      <th>other_sales</th>\n",
       "      <th>total_sales</th>\n",
       "      <th>critic_score</th>\n",
       "      <th>user_score</th>\n",
       "      <th>rating</th>\n",
       "    </tr>\n",
       "  </thead>\n",
       "  <tbody>\n",
       "    <tr>\n",
       "      <th>0</th>\n",
       "      <td>Wii Sports</td>\n",
       "      <td>Wii</td>\n",
       "      <td>2006</td>\n",
       "      <td>Sports</td>\n",
       "      <td>41.36</td>\n",
       "      <td>28.96</td>\n",
       "      <td>3.77</td>\n",
       "      <td>8.45</td>\n",
       "      <td>82.54</td>\n",
       "      <td>76.0</td>\n",
       "      <td>8.0</td>\n",
       "      <td>E</td>\n",
       "    </tr>\n",
       "    <tr>\n",
       "      <th>1</th>\n",
       "      <td>Super Mario Bros.</td>\n",
       "      <td>NES</td>\n",
       "      <td>1985</td>\n",
       "      <td>Platform</td>\n",
       "      <td>29.08</td>\n",
       "      <td>3.58</td>\n",
       "      <td>6.81</td>\n",
       "      <td>0.77</td>\n",
       "      <td>40.24</td>\n",
       "      <td>0.0</td>\n",
       "      <td>0.0</td>\n",
       "      <td>0</td>\n",
       "    </tr>\n",
       "    <tr>\n",
       "      <th>2</th>\n",
       "      <td>Mario Kart Wii</td>\n",
       "      <td>Wii</td>\n",
       "      <td>2008</td>\n",
       "      <td>Racing</td>\n",
       "      <td>15.68</td>\n",
       "      <td>12.76</td>\n",
       "      <td>3.79</td>\n",
       "      <td>3.29</td>\n",
       "      <td>35.52</td>\n",
       "      <td>82.0</td>\n",
       "      <td>8.3</td>\n",
       "      <td>E</td>\n",
       "    </tr>\n",
       "    <tr>\n",
       "      <th>3</th>\n",
       "      <td>Wii Sports Resort</td>\n",
       "      <td>Wii</td>\n",
       "      <td>2009</td>\n",
       "      <td>Sports</td>\n",
       "      <td>15.61</td>\n",
       "      <td>10.93</td>\n",
       "      <td>3.28</td>\n",
       "      <td>2.95</td>\n",
       "      <td>32.77</td>\n",
       "      <td>80.0</td>\n",
       "      <td>8.0</td>\n",
       "      <td>E</td>\n",
       "    </tr>\n",
       "    <tr>\n",
       "      <th>4</th>\n",
       "      <td>Pokemon Red/Pokemon Blue</td>\n",
       "      <td>GB</td>\n",
       "      <td>1996</td>\n",
       "      <td>Role-Playing</td>\n",
       "      <td>11.27</td>\n",
       "      <td>8.89</td>\n",
       "      <td>10.22</td>\n",
       "      <td>1.00</td>\n",
       "      <td>31.38</td>\n",
       "      <td>0.0</td>\n",
       "      <td>0.0</td>\n",
       "      <td>0</td>\n",
       "    </tr>\n",
       "  </tbody>\n",
       "</table>\n",
       "</div>"
      ],
      "text/plain": [
       "                       name platform  year_of_release         genre  na_sales  \\\n",
       "0                Wii Sports      Wii             2006        Sports     41.36   \n",
       "1         Super Mario Bros.      NES             1985      Platform     29.08   \n",
       "2            Mario Kart Wii      Wii             2008        Racing     15.68   \n",
       "3         Wii Sports Resort      Wii             2009        Sports     15.61   \n",
       "4  Pokemon Red/Pokemon Blue       GB             1996  Role-Playing     11.27   \n",
       "\n",
       "   eu_sales  jp_sales  other_sales  total_sales  critic_score  user_score  \\\n",
       "0     28.96      3.77         8.45        82.54          76.0         8.0   \n",
       "1      3.58      6.81         0.77        40.24           0.0         0.0   \n",
       "2     12.76      3.79         3.29        35.52          82.0         8.3   \n",
       "3     10.93      3.28         2.95        32.77          80.0         8.0   \n",
       "4      8.89     10.22         1.00        31.38           0.0         0.0   \n",
       "\n",
       "  rating  \n",
       "0      E  \n",
       "1      0  \n",
       "2      E  \n",
       "3      E  \n",
       "4      0  "
      ]
     },
     "execution_count": 12,
     "metadata": {},
     "output_type": "execute_result"
    }
   ],
   "source": [
    "# добавим столбец с общими продажами по всем трем регионам\n",
    "data.insert(8, 'total_sales', data['na_sales']+ data['eu_sales'] + data['jp_sales'] +data['other_sales'])\n",
    "data.head()\n"
   ]
  },
  {
   "cell_type": "markdown",
   "metadata": {},
   "source": [
    "В качестве предобработки данных мы сделали следующее: <br>\n",
    "1) привели названия столбцов к строчному регистру <br>\n",
    "2) проанализировали столбцы на пропуски и избавились от null'овых значений в столбцах name, genre и year_of_release. Значения в этих столбцах критически важны для анализа, а заменить их мы ничем не можем, т.к. не располагаем достаточной информацией. В то же время, количество пропущенных строк менее 2% от общего датасета, так что можно этими данными пренебречь. <br>\n",
    "3) также обнаружены пропуски в столбцах critic_score, user_score, rating, но количество пропусков в этих строках велико (около половины) и мы не можем просто удалить их.  Мы заменили их на 0, принимая как данность, что в данном контексте 0 - это не низкий рейтинг, а отсутствие рейтинга. <br>\n",
    "Мы отфильтруем null'овые значения при детальном анализе именно рейтинга и скоринга, а для анализа по продажам и годам будем использовать эти строки наравне с другими. <br>\n",
    "4) данные по столбцу year_of_release приведены к целочисленному типу, а данные по столбцу user_score - к типу float.<br>\n",
    "5) добавили столбец с общими продажами по всем регионам."
   ]
  },
  {
   "cell_type": "markdown",
   "metadata": {},
   "source": [
    "## Анализ данных"
   ]
  },
  {
   "cell_type": "markdown",
   "metadata": {},
   "source": [
    "### Анализ количества игр по годам и определение актуального периода"
   ]
  },
  {
   "cell_type": "code",
   "execution_count": 13,
   "metadata": {
    "scrolled": true
   },
   "outputs": [
    {
     "data": {
      "text/html": [
       "<div>\n",
       "<style scoped>\n",
       "    .dataframe tbody tr th:only-of-type {\n",
       "        vertical-align: middle;\n",
       "    }\n",
       "\n",
       "    .dataframe tbody tr th {\n",
       "        vertical-align: top;\n",
       "    }\n",
       "\n",
       "    .dataframe thead th {\n",
       "        text-align: right;\n",
       "    }\n",
       "</style>\n",
       "<table border=\"1\" class=\"dataframe\">\n",
       "  <thead>\n",
       "    <tr style=\"text-align: right;\">\n",
       "      <th></th>\n",
       "      <th>name</th>\n",
       "      <th>total_sales</th>\n",
       "    </tr>\n",
       "    <tr>\n",
       "      <th>year_of_release</th>\n",
       "      <th></th>\n",
       "      <th></th>\n",
       "    </tr>\n",
       "  </thead>\n",
       "  <tbody>\n",
       "    <tr>\n",
       "      <th>1980</th>\n",
       "      <td>9</td>\n",
       "      <td>1.264444</td>\n",
       "    </tr>\n",
       "    <tr>\n",
       "      <th>1981</th>\n",
       "      <td>46</td>\n",
       "      <td>0.775652</td>\n",
       "    </tr>\n",
       "    <tr>\n",
       "      <th>1982</th>\n",
       "      <td>36</td>\n",
       "      <td>0.802222</td>\n",
       "    </tr>\n",
       "    <tr>\n",
       "      <th>1983</th>\n",
       "      <td>17</td>\n",
       "      <td>0.988235</td>\n",
       "    </tr>\n",
       "    <tr>\n",
       "      <th>1984</th>\n",
       "      <td>14</td>\n",
       "      <td>3.596429</td>\n",
       "    </tr>\n",
       "    <tr>\n",
       "      <th>1985</th>\n",
       "      <td>14</td>\n",
       "      <td>3.853571</td>\n",
       "    </tr>\n",
       "    <tr>\n",
       "      <th>1986</th>\n",
       "      <td>21</td>\n",
       "      <td>1.765714</td>\n",
       "    </tr>\n",
       "    <tr>\n",
       "      <th>1987</th>\n",
       "      <td>16</td>\n",
       "      <td>1.356250</td>\n",
       "    </tr>\n",
       "    <tr>\n",
       "      <th>1988</th>\n",
       "      <td>15</td>\n",
       "      <td>3.147333</td>\n",
       "    </tr>\n",
       "    <tr>\n",
       "      <th>1989</th>\n",
       "      <td>17</td>\n",
       "      <td>4.320588</td>\n",
       "    </tr>\n",
       "    <tr>\n",
       "      <th>1990</th>\n",
       "      <td>16</td>\n",
       "      <td>3.085625</td>\n",
       "    </tr>\n",
       "    <tr>\n",
       "      <th>1991</th>\n",
       "      <td>41</td>\n",
       "      <td>0.786098</td>\n",
       "    </tr>\n",
       "    <tr>\n",
       "      <th>1992</th>\n",
       "      <td>43</td>\n",
       "      <td>1.771163</td>\n",
       "    </tr>\n",
       "    <tr>\n",
       "      <th>1993</th>\n",
       "      <td>60</td>\n",
       "      <td>0.766500</td>\n",
       "    </tr>\n",
       "    <tr>\n",
       "      <th>1994</th>\n",
       "      <td>121</td>\n",
       "      <td>0.654793</td>\n",
       "    </tr>\n",
       "    <tr>\n",
       "      <th>1995</th>\n",
       "      <td>219</td>\n",
       "      <td>0.402374</td>\n",
       "    </tr>\n",
       "    <tr>\n",
       "      <th>1996</th>\n",
       "      <td>263</td>\n",
       "      <td>0.757224</td>\n",
       "    </tr>\n",
       "    <tr>\n",
       "      <th>1997</th>\n",
       "      <td>289</td>\n",
       "      <td>0.695744</td>\n",
       "    </tr>\n",
       "    <tr>\n",
       "      <th>1998</th>\n",
       "      <td>379</td>\n",
       "      <td>0.676280</td>\n",
       "    </tr>\n",
       "    <tr>\n",
       "      <th>1999</th>\n",
       "      <td>338</td>\n",
       "      <td>0.742929</td>\n",
       "    </tr>\n",
       "    <tr>\n",
       "      <th>2000</th>\n",
       "      <td>350</td>\n",
       "      <td>0.576171</td>\n",
       "    </tr>\n",
       "    <tr>\n",
       "      <th>2001</th>\n",
       "      <td>482</td>\n",
       "      <td>0.687676</td>\n",
       "    </tr>\n",
       "    <tr>\n",
       "      <th>2002</th>\n",
       "      <td>829</td>\n",
       "      <td>0.476441</td>\n",
       "    </tr>\n",
       "    <tr>\n",
       "      <th>2003</th>\n",
       "      <td>775</td>\n",
       "      <td>0.461342</td>\n",
       "    </tr>\n",
       "    <tr>\n",
       "      <th>2004</th>\n",
       "      <td>762</td>\n",
       "      <td>0.549449</td>\n",
       "    </tr>\n",
       "    <tr>\n",
       "      <th>2005</th>\n",
       "      <td>939</td>\n",
       "      <td>0.487561</td>\n",
       "    </tr>\n",
       "    <tr>\n",
       "      <th>2006</th>\n",
       "      <td>1006</td>\n",
       "      <td>0.514622</td>\n",
       "    </tr>\n",
       "    <tr>\n",
       "      <th>2007</th>\n",
       "      <td>1197</td>\n",
       "      <td>0.505221</td>\n",
       "    </tr>\n",
       "    <tr>\n",
       "      <th>2008</th>\n",
       "      <td>1427</td>\n",
       "      <td>0.470568</td>\n",
       "    </tr>\n",
       "    <tr>\n",
       "      <th>2009</th>\n",
       "      <td>1426</td>\n",
       "      <td>0.462006</td>\n",
       "    </tr>\n",
       "    <tr>\n",
       "      <th>2010</th>\n",
       "      <td>1255</td>\n",
       "      <td>0.470223</td>\n",
       "    </tr>\n",
       "    <tr>\n",
       "      <th>2011</th>\n",
       "      <td>1136</td>\n",
       "      <td>0.446813</td>\n",
       "    </tr>\n",
       "    <tr>\n",
       "      <th>2012</th>\n",
       "      <td>653</td>\n",
       "      <td>0.544931</td>\n",
       "    </tr>\n",
       "    <tr>\n",
       "      <th>2013</th>\n",
       "      <td>544</td>\n",
       "      <td>0.664044</td>\n",
       "    </tr>\n",
       "    <tr>\n",
       "      <th>2014</th>\n",
       "      <td>581</td>\n",
       "      <td>0.570620</td>\n",
       "    </tr>\n",
       "    <tr>\n",
       "      <th>2015</th>\n",
       "      <td>606</td>\n",
       "      <td>0.442211</td>\n",
       "    </tr>\n",
       "    <tr>\n",
       "      <th>2016</th>\n",
       "      <td>502</td>\n",
       "      <td>0.258845</td>\n",
       "    </tr>\n",
       "  </tbody>\n",
       "</table>\n",
       "</div>"
      ],
      "text/plain": [
       "                 name  total_sales\n",
       "year_of_release                   \n",
       "1980                9     1.264444\n",
       "1981               46     0.775652\n",
       "1982               36     0.802222\n",
       "1983               17     0.988235\n",
       "1984               14     3.596429\n",
       "1985               14     3.853571\n",
       "1986               21     1.765714\n",
       "1987               16     1.356250\n",
       "1988               15     3.147333\n",
       "1989               17     4.320588\n",
       "1990               16     3.085625\n",
       "1991               41     0.786098\n",
       "1992               43     1.771163\n",
       "1993               60     0.766500\n",
       "1994              121     0.654793\n",
       "1995              219     0.402374\n",
       "1996              263     0.757224\n",
       "1997              289     0.695744\n",
       "1998              379     0.676280\n",
       "1999              338     0.742929\n",
       "2000              350     0.576171\n",
       "2001              482     0.687676\n",
       "2002              829     0.476441\n",
       "2003              775     0.461342\n",
       "2004              762     0.549449\n",
       "2005              939     0.487561\n",
       "2006             1006     0.514622\n",
       "2007             1197     0.505221\n",
       "2008             1427     0.470568\n",
       "2009             1426     0.462006\n",
       "2010             1255     0.470223\n",
       "2011             1136     0.446813\n",
       "2012              653     0.544931\n",
       "2013              544     0.664044\n",
       "2014              581     0.570620\n",
       "2015              606     0.442211\n",
       "2016              502     0.258845"
      ]
     },
     "execution_count": 13,
     "metadata": {},
     "output_type": "execute_result"
    }
   ],
   "source": [
    "data.pivot_table(index = 'year_of_release', values = ['name', 'total_sales'], aggfunc = {'total_sales':'mean','name':'count'}).sort_values(by ='year_of_release')"
   ]
  },
  {
   "cell_type": "code",
   "execution_count": 14,
   "metadata": {},
   "outputs": [
    {
     "data": {
      "image/png": "[encoded data removed]",
      "text/plain": [
       "<Figure size 432x288 with 1 Axes>"
      ]
     },
     "metadata": {
      "needs_background": "light"
     },
     "output_type": "display_data"
    }
   ],
   "source": [
    "data.pivot_table(index = 'year_of_release', \n",
    "                 values = 'name', \n",
    "                 aggfunc = 'count').sort_values(by ='year_of_release').plot(kind ='bar', \n",
    "                                                                            legend = False, \n",
    "                                                                            title = 'Количество игр, выпущенных с 1980г.')\n",
    "plt.xlabel('Годы')\n",
    "plt.ylabel('Игры, шт.')\n",
    "plt.show();"
   ]
  },
  {
   "cell_type": "markdown",
   "metadata": {},
   "source": [
    "Пиковые годы - с 2005 по 2011, когда выходило максимальное количество игр в год (1000 и больше). Данные за 1993 и ранее можно отбросить, в те годы выпускалось менее 100 игр в год."
   ]
  },
  {
   "cell_type": "code",
   "execution_count": 15,
   "metadata": {},
   "outputs": [],
   "source": [
    "data = data.query('year_of_release > 1993')"
   ]
  },
  {
   "cell_type": "code",
   "execution_count": 16,
   "metadata": {},
   "outputs": [
    {
     "data": {
      "image/png": "[encoded data removed]",
      "text/plain": [
       "<Figure size 432x288 with 1 Axes>"
      ]
     },
     "metadata": {
      "needs_background": "light"
     },
     "output_type": "display_data"
    },
    {
     "data": {
      "image/png": "[encoded data removed]",
      "text/plain": [
       "<Figure size 432x288 with 1 Axes>"
      ]
     },
     "metadata": {
      "needs_background": "light"
     },
     "output_type": "display_data"
    },
    {
     "data": {
      "image/png": "[encoded data removed]",
      "text/plain": [
       "<Figure size 432x288 with 1 Axes>"
      ]
     },
     "metadata": {
      "needs_background": "light"
     },
     "output_type": "display_data"
    },
    {
     "data": {
      "image/png": "[encoded data removed]",
      "text/plain": [
       "<Figure size 432x288 with 1 Axes>"
      ]
     },
     "metadata": {
      "needs_background": "light"
     },
     "output_type": "display_data"
    },
    {
     "data": {
      "image/png": "[encoded data removed]",
      "text/plain": [
       "<Figure size 432x288 with 1 Axes>"
      ]
     },
     "metadata": {
      "needs_background": "light"
     },
     "output_type": "display_data"
    },
    {
     "data": {
      "image/png": "[encoded data removed]",
      "text/plain": [
       "<Figure size 432x288 with 1 Axes>"
      ]
     },
     "metadata": {
      "needs_background": "light"
     },
     "output_type": "display_data"
    }
   ],
   "source": [
    "# построим графики по нескольким значимым платформам\n",
    "platform_list = data.pivot_table(index = 'platform', values = 'total_sales', aggfunc='sum').sort_values(by ='total_sales', ascending = False)\n",
    "platform_list = platform_list.query('total_sales > 700')\n",
    "platform_pivot=data.query('platform in @platform_list.index').pivot_table(index = ['platform','year_of_release'], values = 'total_sales', aggfunc='sum').fillna(0)\n",
    "for platform in platform_list.index:\n",
    "    platform_pivot.loc[platform].plot(kind = 'bar', title = platform)\n",
    "    plt.xlabel('Год')\n",
    "    plt.ylabel('Общие продажи, млн.штук')"
   ]
  },
  {
   "cell_type": "markdown",
   "metadata": {},
   "source": [
    "По графикам видно, что, как правило, на одной платформе игры выпускаются в течение 10 лет. Пиковые продажи в большинстве случаев приходятся на середину периода. То есть время существования одной платформы - примерно 10 лет. <br><br>\n",
    "Для целей проекта нам необходимо определить, какие данные являются актуальныим и могут быть использованы для прогнозирования на 2017 год. Нам необходимо брать данные только по тем платформам, которые продаются в этом году."
   ]
  },
  {
   "cell_type": "code",
   "execution_count": 17,
   "metadata": {
    "scrolled": true
   },
   "outputs": [
    {
     "data": {
      "text/html": [
       "<div>\n",
       "<style scoped>\n",
       "    .dataframe tbody tr th:only-of-type {\n",
       "        vertical-align: middle;\n",
       "    }\n",
       "\n",
       "    .dataframe tbody tr th {\n",
       "        vertical-align: top;\n",
       "    }\n",
       "\n",
       "    .dataframe thead th {\n",
       "        text-align: right;\n",
       "    }\n",
       "</style>\n",
       "<table border=\"1\" class=\"dataframe\">\n",
       "  <thead>\n",
       "    <tr style=\"text-align: right;\">\n",
       "      <th>year_of_release</th>\n",
       "      <th>1994</th>\n",
       "      <th>1995</th>\n",
       "      <th>1996</th>\n",
       "      <th>1997</th>\n",
       "      <th>1998</th>\n",
       "      <th>1999</th>\n",
       "      <th>2000</th>\n",
       "      <th>2001</th>\n",
       "      <th>2002</th>\n",
       "      <th>2003</th>\n",
       "      <th>...</th>\n",
       "      <th>2007</th>\n",
       "      <th>2008</th>\n",
       "      <th>2009</th>\n",
       "      <th>2010</th>\n",
       "      <th>2011</th>\n",
       "      <th>2012</th>\n",
       "      <th>2013</th>\n",
       "      <th>2014</th>\n",
       "      <th>2015</th>\n",
       "      <th>2016</th>\n",
       "    </tr>\n",
       "    <tr>\n",
       "      <th>platform</th>\n",
       "      <th></th>\n",
       "      <th></th>\n",
       "      <th></th>\n",
       "      <th></th>\n",
       "      <th></th>\n",
       "      <th></th>\n",
       "      <th></th>\n",
       "      <th></th>\n",
       "      <th></th>\n",
       "      <th></th>\n",
       "      <th></th>\n",
       "      <th></th>\n",
       "      <th></th>\n",
       "      <th></th>\n",
       "      <th></th>\n",
       "      <th></th>\n",
       "      <th></th>\n",
       "      <th></th>\n",
       "      <th></th>\n",
       "      <th></th>\n",
       "      <th></th>\n",
       "    </tr>\n",
       "  </thead>\n",
       "  <tbody>\n",
       "    <tr>\n",
       "      <th>3DS</th>\n",
       "      <td></td>\n",
       "      <td></td>\n",
       "      <td></td>\n",
       "      <td></td>\n",
       "      <td></td>\n",
       "      <td></td>\n",
       "      <td></td>\n",
       "      <td></td>\n",
       "      <td></td>\n",
       "      <td></td>\n",
       "      <td>...</td>\n",
       "      <td></td>\n",
       "      <td></td>\n",
       "      <td></td>\n",
       "      <td></td>\n",
       "      <td>63.2</td>\n",
       "      <td>51.36</td>\n",
       "      <td>56.57</td>\n",
       "      <td>43.76</td>\n",
       "      <td>27.78</td>\n",
       "      <td>15.14</td>\n",
       "    </tr>\n",
       "    <tr>\n",
       "      <th>PC</th>\n",
       "      <td>12.87</td>\n",
       "      <td>4.22</td>\n",
       "      <td>10.58</td>\n",
       "      <td>11.27</td>\n",
       "      <td>3.26</td>\n",
       "      <td>4.74</td>\n",
       "      <td>4.66</td>\n",
       "      <td>5.47</td>\n",
       "      <td>8.57</td>\n",
       "      <td>8.84</td>\n",
       "      <td>...</td>\n",
       "      <td>9.28</td>\n",
       "      <td>12.42</td>\n",
       "      <td>16.91</td>\n",
       "      <td>24.28</td>\n",
       "      <td>35.03</td>\n",
       "      <td>23.22</td>\n",
       "      <td>12.38</td>\n",
       "      <td>13.28</td>\n",
       "      <td>8.52</td>\n",
       "      <td>5.25</td>\n",
       "    </tr>\n",
       "    <tr>\n",
       "      <th>PS3</th>\n",
       "      <td></td>\n",
       "      <td></td>\n",
       "      <td></td>\n",
       "      <td></td>\n",
       "      <td></td>\n",
       "      <td></td>\n",
       "      <td></td>\n",
       "      <td></td>\n",
       "      <td></td>\n",
       "      <td></td>\n",
       "      <td>...</td>\n",
       "      <td>73.19</td>\n",
       "      <td>118.52</td>\n",
       "      <td>130.93</td>\n",
       "      <td>142.17</td>\n",
       "      <td>156.78</td>\n",
       "      <td>107.36</td>\n",
       "      <td>113.25</td>\n",
       "      <td>47.76</td>\n",
       "      <td>16.82</td>\n",
       "      <td>3.60</td>\n",
       "    </tr>\n",
       "    <tr>\n",
       "      <th>PS4</th>\n",
       "      <td></td>\n",
       "      <td></td>\n",
       "      <td></td>\n",
       "      <td></td>\n",
       "      <td></td>\n",
       "      <td></td>\n",
       "      <td></td>\n",
       "      <td></td>\n",
       "      <td></td>\n",
       "      <td></td>\n",
       "      <td>...</td>\n",
       "      <td></td>\n",
       "      <td></td>\n",
       "      <td></td>\n",
       "      <td></td>\n",
       "      <td></td>\n",
       "      <td></td>\n",
       "      <td>25.99</td>\n",
       "      <td>100.00</td>\n",
       "      <td>118.90</td>\n",
       "      <td>69.25</td>\n",
       "    </tr>\n",
       "    <tr>\n",
       "      <th>PSV</th>\n",
       "      <td></td>\n",
       "      <td></td>\n",
       "      <td></td>\n",
       "      <td></td>\n",
       "      <td></td>\n",
       "      <td></td>\n",
       "      <td></td>\n",
       "      <td></td>\n",
       "      <td></td>\n",
       "      <td></td>\n",
       "      <td>...</td>\n",
       "      <td></td>\n",
       "      <td></td>\n",
       "      <td></td>\n",
       "      <td></td>\n",
       "      <td>4.63</td>\n",
       "      <td>16.19</td>\n",
       "      <td>10.59</td>\n",
       "      <td>11.90</td>\n",
       "      <td>6.25</td>\n",
       "      <td>4.25</td>\n",
       "    </tr>\n",
       "    <tr>\n",
       "      <th>Wii</th>\n",
       "      <td></td>\n",
       "      <td></td>\n",
       "      <td></td>\n",
       "      <td></td>\n",
       "      <td></td>\n",
       "      <td></td>\n",
       "      <td></td>\n",
       "      <td></td>\n",
       "      <td></td>\n",
       "      <td></td>\n",
       "      <td>...</td>\n",
       "      <td>152.77</td>\n",
       "      <td>171.32</td>\n",
       "      <td>206.97</td>\n",
       "      <td>127.95</td>\n",
       "      <td>59.65</td>\n",
       "      <td>21.71</td>\n",
       "      <td>8.59</td>\n",
       "      <td>3.75</td>\n",
       "      <td>1.14</td>\n",
       "      <td>0.18</td>\n",
       "    </tr>\n",
       "    <tr>\n",
       "      <th>WiiU</th>\n",
       "      <td></td>\n",
       "      <td></td>\n",
       "      <td></td>\n",
       "      <td></td>\n",
       "      <td></td>\n",
       "      <td></td>\n",
       "      <td></td>\n",
       "      <td></td>\n",
       "      <td></td>\n",
       "      <td></td>\n",
       "      <td>...</td>\n",
       "      <td></td>\n",
       "      <td></td>\n",
       "      <td></td>\n",
       "      <td></td>\n",
       "      <td></td>\n",
       "      <td>17.56</td>\n",
       "      <td>21.65</td>\n",
       "      <td>22.03</td>\n",
       "      <td>16.35</td>\n",
       "      <td>4.60</td>\n",
       "    </tr>\n",
       "    <tr>\n",
       "      <th>X360</th>\n",
       "      <td></td>\n",
       "      <td></td>\n",
       "      <td></td>\n",
       "      <td></td>\n",
       "      <td></td>\n",
       "      <td></td>\n",
       "      <td></td>\n",
       "      <td></td>\n",
       "      <td></td>\n",
       "      <td></td>\n",
       "      <td>...</td>\n",
       "      <td>95.41</td>\n",
       "      <td>135.26</td>\n",
       "      <td>120.29</td>\n",
       "      <td>170.03</td>\n",
       "      <td>143.84</td>\n",
       "      <td>99.74</td>\n",
       "      <td>88.58</td>\n",
       "      <td>34.74</td>\n",
       "      <td>11.96</td>\n",
       "      <td>1.52</td>\n",
       "    </tr>\n",
       "    <tr>\n",
       "      <th>XOne</th>\n",
       "      <td></td>\n",
       "      <td></td>\n",
       "      <td></td>\n",
       "      <td></td>\n",
       "      <td></td>\n",
       "      <td></td>\n",
       "      <td></td>\n",
       "      <td></td>\n",
       "      <td></td>\n",
       "      <td></td>\n",
       "      <td>...</td>\n",
       "      <td></td>\n",
       "      <td></td>\n",
       "      <td></td>\n",
       "      <td></td>\n",
       "      <td></td>\n",
       "      <td></td>\n",
       "      <td>18.96</td>\n",
       "      <td>54.07</td>\n",
       "      <td>60.14</td>\n",
       "      <td>26.15</td>\n",
       "    </tr>\n",
       "  </tbody>\n",
       "</table>\n",
       "<p>9 rows × 23 columns</p>\n",
       "</div>"
      ],
      "text/plain": [
       "year_of_release   1994  1995   1996   1997  1998  1999  2000  2001  2002  \\\n",
       "platform                                                                   \n",
       "3DS                                                                        \n",
       "PC               12.87  4.22  10.58  11.27  3.26  4.74  4.66  5.47  8.57   \n",
       "PS3                                                                        \n",
       "PS4                                                                        \n",
       "PSV                                                                        \n",
       "Wii                                                                        \n",
       "WiiU                                                                       \n",
       "X360                                                                       \n",
       "XOne                                                                       \n",
       "\n",
       "year_of_release  2003  ...    2007    2008    2009    2010    2011    2012  \\\n",
       "platform               ...                                                   \n",
       "3DS                    ...                                    63.2   51.36   \n",
       "PC               8.84  ...    9.28   12.42   16.91   24.28   35.03   23.22   \n",
       "PS3                    ...   73.19  118.52  130.93  142.17  156.78  107.36   \n",
       "PS4                    ...                                                   \n",
       "PSV                    ...                                    4.63   16.19   \n",
       "Wii                    ...  152.77  171.32  206.97  127.95   59.65   21.71   \n",
       "WiiU                   ...                                           17.56   \n",
       "X360                   ...   95.41  135.26  120.29  170.03  143.84   99.74   \n",
       "XOne                   ...                                                   \n",
       "\n",
       "year_of_release    2013    2014    2015   2016  \n",
       "platform                                        \n",
       "3DS               56.57   43.76   27.78  15.14  \n",
       "PC                12.38   13.28    8.52   5.25  \n",
       "PS3              113.25   47.76   16.82   3.60  \n",
       "PS4               25.99  100.00  118.90  69.25  \n",
       "PSV               10.59   11.90    6.25   4.25  \n",
       "Wii                8.59    3.75    1.14   0.18  \n",
       "WiiU              21.65   22.03   16.35   4.60  \n",
       "X360              88.58   34.74   11.96   1.52  \n",
       "XOne              18.96   54.07   60.14  26.15  \n",
       "\n",
       "[9 rows x 23 columns]"
      ]
     },
     "execution_count": 17,
     "metadata": {},
     "output_type": "execute_result"
    }
   ],
   "source": [
    "# отфильтруем все платформы, которые продаются на данный момент\n",
    "pf_list = data.query('year_of_release ==2016')['platform'].unique()\n",
    "data.query('platform in @pf_list').pivot_table(index = 'platform', columns = 'year_of_release', values = 'total_sales', aggfunc = 'sum').fillna('')"
   ]
  },
  {
   "cell_type": "markdown",
   "metadata": {},
   "source": [
    "По таблице видно, что начиная с 2013 года в продаже появляются игры по всем актуальным на данный момент платформам. Примем этот промежуток с 2013 по 2016 как актуальные данные, подходящие для прогноза."
   ]
  },
  {
   "cell_type": "code",
   "execution_count": 18,
   "metadata": {},
   "outputs": [
    {
     "data": {
      "text/html": [
       "<div>\n",
       "<style scoped>\n",
       "    .dataframe tbody tr th:only-of-type {\n",
       "        vertical-align: middle;\n",
       "    }\n",
       "\n",
       "    .dataframe tbody tr th {\n",
       "        vertical-align: top;\n",
       "    }\n",
       "\n",
       "    .dataframe thead th {\n",
       "        text-align: right;\n",
       "    }\n",
       "</style>\n",
       "<table border=\"1\" class=\"dataframe\">\n",
       "  <thead>\n",
       "    <tr style=\"text-align: right;\">\n",
       "      <th>year_of_release</th>\n",
       "      <th>2013</th>\n",
       "      <th>2014</th>\n",
       "      <th>2015</th>\n",
       "      <th>2016</th>\n",
       "    </tr>\n",
       "    <tr>\n",
       "      <th>platform</th>\n",
       "      <th></th>\n",
       "      <th></th>\n",
       "      <th></th>\n",
       "      <th></th>\n",
       "    </tr>\n",
       "  </thead>\n",
       "  <tbody>\n",
       "    <tr>\n",
       "      <th>3DS</th>\n",
       "      <td>56.57</td>\n",
       "      <td>43.76</td>\n",
       "      <td>27.78</td>\n",
       "      <td>15.14</td>\n",
       "    </tr>\n",
       "    <tr>\n",
       "      <th>PC</th>\n",
       "      <td>12.38</td>\n",
       "      <td>13.28</td>\n",
       "      <td>8.52</td>\n",
       "      <td>5.25</td>\n",
       "    </tr>\n",
       "    <tr>\n",
       "      <th>PS3</th>\n",
       "      <td>113.25</td>\n",
       "      <td>47.76</td>\n",
       "      <td>16.82</td>\n",
       "      <td>3.60</td>\n",
       "    </tr>\n",
       "    <tr>\n",
       "      <th>PS4</th>\n",
       "      <td>25.99</td>\n",
       "      <td>100.00</td>\n",
       "      <td>118.90</td>\n",
       "      <td>69.25</td>\n",
       "    </tr>\n",
       "    <tr>\n",
       "      <th>PSV</th>\n",
       "      <td>10.59</td>\n",
       "      <td>11.90</td>\n",
       "      <td>6.25</td>\n",
       "      <td>4.25</td>\n",
       "    </tr>\n",
       "    <tr>\n",
       "      <th>Wii</th>\n",
       "      <td>8.59</td>\n",
       "      <td>3.75</td>\n",
       "      <td>1.14</td>\n",
       "      <td>0.18</td>\n",
       "    </tr>\n",
       "    <tr>\n",
       "      <th>WiiU</th>\n",
       "      <td>21.65</td>\n",
       "      <td>22.03</td>\n",
       "      <td>16.35</td>\n",
       "      <td>4.60</td>\n",
       "    </tr>\n",
       "    <tr>\n",
       "      <th>X360</th>\n",
       "      <td>88.58</td>\n",
       "      <td>34.74</td>\n",
       "      <td>11.96</td>\n",
       "      <td>1.52</td>\n",
       "    </tr>\n",
       "    <tr>\n",
       "      <th>XOne</th>\n",
       "      <td>18.96</td>\n",
       "      <td>54.07</td>\n",
       "      <td>60.14</td>\n",
       "      <td>26.15</td>\n",
       "    </tr>\n",
       "  </tbody>\n",
       "</table>\n",
       "</div>"
      ],
      "text/plain": [
       "year_of_release    2013    2014    2015   2016\n",
       "platform                                      \n",
       "3DS               56.57   43.76   27.78  15.14\n",
       "PC                12.38   13.28    8.52   5.25\n",
       "PS3              113.25   47.76   16.82   3.60\n",
       "PS4               25.99  100.00  118.90  69.25\n",
       "PSV               10.59   11.90    6.25   4.25\n",
       "Wii                8.59    3.75    1.14   0.18\n",
       "WiiU              21.65   22.03   16.35   4.60\n",
       "X360              88.58   34.74   11.96   1.52\n",
       "XOne              18.96   54.07   60.14  26.15"
      ]
     },
     "execution_count": 18,
     "metadata": {},
     "output_type": "execute_result"
    }
   ],
   "source": [
    "# самые актуальные платформы\n",
    "actual_data = data.query('year_of_release >= 2013 & platform in @pf_list')\n",
    "actual_pivot = actual_data.pivot_table(index = 'platform', columns ='year_of_release', values = 'total_sales', aggfunc = 'sum').fillna('')\n",
    "actual_pivot"
   ]
  },
  {
   "cell_type": "code",
   "execution_count": 19,
   "metadata": {},
   "outputs": [
    {
     "data": {
      "image/png": "[encoded data removed]",
      "text/plain": [
       "<Figure size 432x288 with 1 Axes>"
      ]
     },
     "metadata": {
      "needs_background": "light"
     },
     "output_type": "display_data"
    }
   ],
   "source": [
    "actual_pivot.T.plot(title = 'График продаж по актуальным платформам')\n",
    "plt.xlabel('Год')\n",
    "plt.ylabel('Продажи, млн.штук')\n",
    "plt.xlim(2012, 2017);"
   ]
  },
  {
   "cell_type": "markdown",
   "metadata": {},
   "source": [
    "Мы отобрали только те платформы, которые имели продажи в 2016 году, т.к. если на какой-то платформе игры перестали выходить в 2016, то уже в 2017 их точно не будет - это видно из графиков продаж по платформам - они не прерываются. <br>\n",
    "Наиболее перспективными представляются платформы, которые находятся в начале или середине жизненного цикла - их продажи будут максимальны в ближайший год. Судя по графику, это **PS4, XOne, 3DS**. Так же можно добавить **WiiU** в этот список, хотя его продажи в 2016 значительно снизились по сравнению с 2015. Но это скорее всего связано, что статистика продаж за 2016 не полная. <br>\n",
    "Явным образом на спад идут **PS3, X360, Wii**. Этот факт тоже должен быть учтен в рекомендациях."
   ]
  },
  {
   "cell_type": "code",
   "execution_count": 20,
   "metadata": {},
   "outputs": [
    {
     "data": {
      "image/png": "[encoded data removed]",
      "text/plain": [
       "<Figure size 432x288 with 1 Axes>"
      ]
     },
     "metadata": {
      "needs_background": "light"
     },
     "output_type": "display_data"
    },
    {
     "data": {
      "image/png": "[encoded data removed]",
      "text/plain": [
       "<Figure size 432x288 with 1 Axes>"
      ]
     },
     "metadata": {
      "needs_background": "light"
     },
     "output_type": "display_data"
    }
   ],
   "source": [
    "# построим график \"ящик с усами\" по платформам\n",
    "actual_data.pivot_table(\n",
    "        index= 'name', \n",
    "        columns = 'platform', \n",
    "        values = 'total_sales').boxplot(meanline=True, showcaps=True, \n",
    "                showbox=True, showfliers=False, grid = False)\n",
    "plt.ylim(0, 2)\n",
    "plt.show();\n",
    "\n",
    "actual_data.pivot_table(\n",
    "        index= 'name', \n",
    "        columns = 'platform', \n",
    "        values = 'total_sales').boxplot(meanline=True, showcaps=True, \n",
    "                showbox=True, grid = False)\n",
    "\n",
    "plt.show();"
   ]
  },
  {
   "cell_type": "markdown",
   "metadata": {},
   "source": [
    "На графике видно, что по платформам PS3, PS4, X360, XOne медианные продажи выше, чем по другим платформам, а разброс значений достаточно большой. Из этого можно сделать вывод, что отдельные игры на этих платформах имеют более высокие продажи с большей долей вероятности, чем по другим. <br> Соответственно, можно рекомендовать обратить внимание на эти платформы."
   ]
  },
  {
   "cell_type": "code",
   "execution_count": 21,
   "metadata": {},
   "outputs": [
    {
     "data": {
      "image/png": "[encoded data removed]",
      "text/plain": [
       "<Figure size 432x288 with 1 Axes>"
      ]
     },
     "metadata": {
      "needs_background": "light"
     },
     "output_type": "display_data"
    },
    {
     "data": {
      "text/plain": [
       "0.2792743632324718"
      ]
     },
     "execution_count": 21,
     "metadata": {},
     "output_type": "execute_result"
    }
   ],
   "source": [
    "# возьмем одну из популярных платформ - PS3 -  и изучим корреляцию продаж и скоринга\n",
    "correl_data = actual_data.query('platform == \"PS3\" & total_sales>0')[['total_sales', 'critic_score', 'user_score']]\n",
    "correl_data.query('critic_score >0').plot(kind = 'scatter', x='critic_score', y = 'total_sales') # уберем нулевые значения, которыми мы вначале заменяли NaN\n",
    "plt.ylabel('Глобальные продажи, млн. копий')\n",
    "plt.xlabel('Оценка критиков (от 1 до 100)')\n",
    "plt.show();\n",
    "correl_data['critic_score'].corr(correl_data['total_sales'])"
   ]
  },
  {
   "cell_type": "code",
   "execution_count": 22,
   "metadata": {},
   "outputs": [
    {
     "data": {
      "image/png": "[encoded data removed]",
      "text/plain": [
       "<Figure size 432x288 with 1 Axes>"
      ]
     },
     "metadata": {
      "needs_background": "light"
     },
     "output_type": "display_data"
    },
    {
     "data": {
      "text/plain": [
       "0.20209116183305123"
      ]
     },
     "execution_count": 22,
     "metadata": {},
     "output_type": "execute_result"
    }
   ],
   "source": [
    "correl_data.query('user_score >0').plot(kind = 'scatter', x='user_score', y = 'total_sales') # уберем нулевые значения, которыми мы вначале заменяли NaN\n",
    "plt.ylabel('Глобальные продажи, млн. копий')\n",
    "plt.xlabel('Оценка юзеров (от 0 до 10)')\n",
    "plt.show();\n",
    "correl_data['user_score'].corr(correl_data['total_sales'])"
   ]
  },
  {
   "cell_type": "markdown",
   "metadata": {},
   "source": [
    "Очевидно, что особой корреляции между продажами и оценками экспертов / клиентов не наблюдается. <br> Хотя по графику и заметно, что по-настоящему успешными в продажах смогли стать только игры с высоким рейтингом (70 и более). Но обратной зависимости не наблюдается - даже игры с крайне высоким (от 90  до 100) экспертным рейтингом могли иметь не очень высокие продажи. <br>\n",
    "Однозначного вывода о продажах по экспертному рейтингу сделать нельзя."
   ]
  },
  {
   "cell_type": "code",
   "execution_count": 23,
   "metadata": {},
   "outputs": [
    {
     "data": {
      "text/html": [
       "<div>\n",
       "<style scoped>\n",
       "    .dataframe tbody tr th:only-of-type {\n",
       "        vertical-align: middle;\n",
       "    }\n",
       "\n",
       "    .dataframe tbody tr th {\n",
       "        vertical-align: top;\n",
       "    }\n",
       "\n",
       "    .dataframe thead th {\n",
       "        text-align: right;\n",
       "    }\n",
       "</style>\n",
       "<table border=\"1\" class=\"dataframe\">\n",
       "  <thead>\n",
       "    <tr style=\"text-align: right;\">\n",
       "      <th></th>\n",
       "      <th>critic_score</th>\n",
       "      <th>user_score</th>\n",
       "    </tr>\n",
       "  </thead>\n",
       "  <tbody>\n",
       "    <tr>\n",
       "      <th>PS4</th>\n",
       "      <td>0.22755</td>\n",
       "      <td>0.113116</td>\n",
       "    </tr>\n",
       "    <tr>\n",
       "      <th>3DS</th>\n",
       "      <td>0.061113</td>\n",
       "      <td>0.047497</td>\n",
       "    </tr>\n",
       "    <tr>\n",
       "      <th>XOne</th>\n",
       "      <td>0.274839</td>\n",
       "      <td>0.116563</td>\n",
       "    </tr>\n",
       "    <tr>\n",
       "      <th>WiiU</th>\n",
       "      <td>0.294148</td>\n",
       "      <td>0.252811</td>\n",
       "    </tr>\n",
       "    <tr>\n",
       "      <th>PS3</th>\n",
       "      <td>0.279274</td>\n",
       "      <td>0.202091</td>\n",
       "    </tr>\n",
       "    <tr>\n",
       "      <th>PC</th>\n",
       "      <td>0.1857</td>\n",
       "      <td>0.040887</td>\n",
       "    </tr>\n",
       "    <tr>\n",
       "      <th>X360</th>\n",
       "      <td>0.246573</td>\n",
       "      <td>0.068817</td>\n",
       "    </tr>\n",
       "    <tr>\n",
       "      <th>PSV</th>\n",
       "      <td>0.320714</td>\n",
       "      <td>0.324964</td>\n",
       "    </tr>\n",
       "    <tr>\n",
       "      <th>Wii</th>\n",
       "      <td>NaN</td>\n",
       "      <td>0.799656</td>\n",
       "    </tr>\n",
       "  </tbody>\n",
       "</table>\n",
       "</div>"
      ],
      "text/plain": [
       "     critic_score user_score\n",
       "PS4       0.22755   0.113116\n",
       "3DS      0.061113   0.047497\n",
       "XOne     0.274839   0.116563\n",
       "WiiU     0.294148   0.252811\n",
       "PS3      0.279274   0.202091\n",
       "PC         0.1857   0.040887\n",
       "X360     0.246573   0.068817\n",
       "PSV      0.320714   0.324964\n",
       "Wii           NaN   0.799656"
      ]
     },
     "execution_count": 23,
     "metadata": {},
     "output_type": "execute_result"
    }
   ],
   "source": [
    "#сравним результаты с корреляцией на других платформах\n",
    "cor_pf = pd.DataFrame(index = ['critic_score', 'user_score'], columns = pf_list)\n",
    "for platform in pf_list:\n",
    "    cor_data = actual_data.query('platform == @platform')\n",
    "    cor_pf.loc['critic_score', platform] = cor_data['critic_score'].corr(cor_data['total_sales'])\n",
    "    cor_pf.loc['user_score', platform] = cor_data['user_score'].corr(cor_data['total_sales'])\n",
    "    \n",
    "cor_pf.T"
   ]
  },
  {
   "cell_type": "markdown",
   "metadata": {},
   "source": [
    "Если проанализировать данные из таблицы с цифрами корреляции по актуальным платформам, видно, что в целом ситуация похожа на корреляцию по платформе PS3: слабый показатель корреляции Пирсона на уровне 0,2 - 0,3 для экспертных оценок и еще меньше - для оценок пользователей. <br>\n",
    "Данные по экспертным оценкам Wii отсутствуют полностью, поэтому у нас стоит NaN, а по клиентским оценкам данных крайне мало, и они не показательны. Из-за этого данные по корреляции на платформе wii выбиваются из общей статистики."
   ]
  },
  {
   "cell_type": "markdown",
   "metadata": {},
   "source": [
    "Изучим распределение игр по жанрам, и выявим наиболее популярные."
   ]
  },
  {
   "cell_type": "code",
   "execution_count": 24,
   "metadata": {},
   "outputs": [
    {
     "data": {
      "text/html": [
       "<div>\n",
       "<style scoped>\n",
       "    .dataframe tbody tr th:only-of-type {\n",
       "        vertical-align: middle;\n",
       "    }\n",
       "\n",
       "    .dataframe tbody tr th {\n",
       "        vertical-align: top;\n",
       "    }\n",
       "\n",
       "    .dataframe thead th {\n",
       "        text-align: right;\n",
       "    }\n",
       "</style>\n",
       "<table border=\"1\" class=\"dataframe\">\n",
       "  <thead>\n",
       "    <tr style=\"text-align: right;\">\n",
       "      <th></th>\n",
       "      <th>count</th>\n",
       "      <th>mean</th>\n",
       "      <th>sum</th>\n",
       "    </tr>\n",
       "    <tr>\n",
       "      <th>genre</th>\n",
       "      <th></th>\n",
       "      <th></th>\n",
       "      <th></th>\n",
       "    </tr>\n",
       "  </thead>\n",
       "  <tbody>\n",
       "    <tr>\n",
       "      <th>Platform</th>\n",
       "      <td>819</td>\n",
       "      <td>0.782161</td>\n",
       "      <td>640.59</td>\n",
       "    </tr>\n",
       "    <tr>\n",
       "      <th>Shooter</th>\n",
       "      <td>1258</td>\n",
       "      <td>0.776025</td>\n",
       "      <td>976.24</td>\n",
       "    </tr>\n",
       "    <tr>\n",
       "      <th>Role-Playing</th>\n",
       "      <td>1451</td>\n",
       "      <td>0.617229</td>\n",
       "      <td>895.60</td>\n",
       "    </tr>\n",
       "    <tr>\n",
       "      <th>Racing</th>\n",
       "      <td>1211</td>\n",
       "      <td>0.573567</td>\n",
       "      <td>694.59</td>\n",
       "    </tr>\n",
       "    <tr>\n",
       "      <th>Sports</th>\n",
       "      <td>2260</td>\n",
       "      <td>0.560504</td>\n",
       "      <td>1266.74</td>\n",
       "    </tr>\n",
       "    <tr>\n",
       "      <th>Action</th>\n",
       "      <td>3226</td>\n",
       "      <td>0.510422</td>\n",
       "      <td>1646.62</td>\n",
       "    </tr>\n",
       "    <tr>\n",
       "      <th>Fighting</th>\n",
       "      <td>814</td>\n",
       "      <td>0.504975</td>\n",
       "      <td>411.05</td>\n",
       "    </tr>\n",
       "    <tr>\n",
       "      <th>Misc</th>\n",
       "      <td>1707</td>\n",
       "      <td>0.454909</td>\n",
       "      <td>776.53</td>\n",
       "    </tr>\n",
       "    <tr>\n",
       "      <th>Simulation</th>\n",
       "      <td>849</td>\n",
       "      <td>0.449753</td>\n",
       "      <td>381.84</td>\n",
       "    </tr>\n",
       "    <tr>\n",
       "      <th>Puzzle</th>\n",
       "      <td>536</td>\n",
       "      <td>0.298321</td>\n",
       "      <td>159.90</td>\n",
       "    </tr>\n",
       "    <tr>\n",
       "      <th>Strategy</th>\n",
       "      <td>664</td>\n",
       "      <td>0.256702</td>\n",
       "      <td>170.45</td>\n",
       "    </tr>\n",
       "    <tr>\n",
       "      <th>Adventure</th>\n",
       "      <td>1284</td>\n",
       "      <td>0.166659</td>\n",
       "      <td>213.99</td>\n",
       "    </tr>\n",
       "  </tbody>\n",
       "</table>\n",
       "</div>"
      ],
      "text/plain": [
       "              count      mean      sum\n",
       "genre                                 \n",
       "Platform        819  0.782161   640.59\n",
       "Shooter        1258  0.776025   976.24\n",
       "Role-Playing   1451  0.617229   895.60\n",
       "Racing         1211  0.573567   694.59\n",
       "Sports         2260  0.560504  1266.74\n",
       "Action         3226  0.510422  1646.62\n",
       "Fighting        814  0.504975   411.05\n",
       "Misc           1707  0.454909   776.53\n",
       "Simulation      849  0.449753   381.84\n",
       "Puzzle          536  0.298321   159.90\n",
       "Strategy        664  0.256702   170.45\n",
       "Adventure      1284  0.166659   213.99"
      ]
     },
     "execution_count": 24,
     "metadata": {},
     "output_type": "execute_result"
    }
   ],
   "source": [
    "# жанры за все время\n",
    "data.pivot_table(index = 'genre', values = 'total_sales', aggfunc = {'sum', 'mean', 'count'}).sort_values(by ='mean', ascending = False)"
   ]
  },
  {
   "cell_type": "markdown",
   "metadata": {},
   "source": [
    "По таблице явно видны жанры-лидеры - это Platform и Shooter. Средние продажи в этих жанрах - 0,77 млн на одну игру. Adventure - явный аутсайдер (всего 0,166 млн на одну игру в среднем, хотя игр в таком жанре выпускается довольно много). <br>\n",
    "Посмотрим, изменилась ли статистика предпочитаемых жанров за последнее десятилетие."
   ]
  },
  {
   "cell_type": "code",
   "execution_count": 25,
   "metadata": {},
   "outputs": [
    {
     "data": {
      "text/html": [
       "<div>\n",
       "<style scoped>\n",
       "    .dataframe tbody tr th:only-of-type {\n",
       "        vertical-align: middle;\n",
       "    }\n",
       "\n",
       "    .dataframe tbody tr th {\n",
       "        vertical-align: top;\n",
       "    }\n",
       "\n",
       "    .dataframe thead th {\n",
       "        text-align: right;\n",
       "    }\n",
       "</style>\n",
       "<table border=\"1\" class=\"dataframe\">\n",
       "  <thead>\n",
       "    <tr style=\"text-align: right;\">\n",
       "      <th></th>\n",
       "      <th>count</th>\n",
       "      <th>mean</th>\n",
       "      <th>sum</th>\n",
       "    </tr>\n",
       "    <tr>\n",
       "      <th>genre</th>\n",
       "      <th></th>\n",
       "      <th></th>\n",
       "      <th></th>\n",
       "    </tr>\n",
       "  </thead>\n",
       "  <tbody>\n",
       "    <tr>\n",
       "      <th>Shooter</th>\n",
       "      <td>187</td>\n",
       "      <td>1.245882</td>\n",
       "      <td>232.98</td>\n",
       "    </tr>\n",
       "    <tr>\n",
       "      <th>Sports</th>\n",
       "      <td>208</td>\n",
       "      <td>0.720817</td>\n",
       "      <td>149.93</td>\n",
       "    </tr>\n",
       "    <tr>\n",
       "      <th>Platform</th>\n",
       "      <td>72</td>\n",
       "      <td>0.582500</td>\n",
       "      <td>41.94</td>\n",
       "    </tr>\n",
       "    <tr>\n",
       "      <th>Role-Playing</th>\n",
       "      <td>285</td>\n",
       "      <td>0.508281</td>\n",
       "      <td>144.86</td>\n",
       "    </tr>\n",
       "    <tr>\n",
       "      <th>Racing</th>\n",
       "      <td>85</td>\n",
       "      <td>0.469294</td>\n",
       "      <td>39.89</td>\n",
       "    </tr>\n",
       "    <tr>\n",
       "      <th>Fighting</th>\n",
       "      <td>79</td>\n",
       "      <td>0.446709</td>\n",
       "      <td>35.29</td>\n",
       "    </tr>\n",
       "    <tr>\n",
       "      <th>Misc</th>\n",
       "      <td>146</td>\n",
       "      <td>0.428562</td>\n",
       "      <td>62.57</td>\n",
       "    </tr>\n",
       "    <tr>\n",
       "      <th>Action</th>\n",
       "      <td>752</td>\n",
       "      <td>0.426210</td>\n",
       "      <td>320.51</td>\n",
       "    </tr>\n",
       "    <tr>\n",
       "      <th>Simulation</th>\n",
       "      <td>61</td>\n",
       "      <td>0.353279</td>\n",
       "      <td>21.55</td>\n",
       "    </tr>\n",
       "    <tr>\n",
       "      <th>Puzzle</th>\n",
       "      <td>17</td>\n",
       "      <td>0.186471</td>\n",
       "      <td>3.17</td>\n",
       "    </tr>\n",
       "    <tr>\n",
       "      <th>Strategy</th>\n",
       "      <td>55</td>\n",
       "      <td>0.182909</td>\n",
       "      <td>10.06</td>\n",
       "    </tr>\n",
       "    <tr>\n",
       "      <th>Adventure</th>\n",
       "      <td>211</td>\n",
       "      <td>0.108531</td>\n",
       "      <td>22.90</td>\n",
       "    </tr>\n",
       "  </tbody>\n",
       "</table>\n",
       "</div>"
      ],
      "text/plain": [
       "              count      mean     sum\n",
       "genre                                \n",
       "Shooter         187  1.245882  232.98\n",
       "Sports          208  0.720817  149.93\n",
       "Platform         72  0.582500   41.94\n",
       "Role-Playing    285  0.508281  144.86\n",
       "Racing           85  0.469294   39.89\n",
       "Fighting         79  0.446709   35.29\n",
       "Misc            146  0.428562   62.57\n",
       "Action          752  0.426210  320.51\n",
       "Simulation       61  0.353279   21.55\n",
       "Puzzle           17  0.186471    3.17\n",
       "Strategy         55  0.182909   10.06\n",
       "Adventure       211  0.108531   22.90"
      ]
     },
     "execution_count": 25,
     "metadata": {},
     "output_type": "execute_result"
    }
   ],
   "source": [
    "# жанры за актуальный период\n",
    "genre_pivot= actual_data.pivot_table(index = 'genre',\n",
    "                        values = 'total_sales', \n",
    "                        aggfunc = {'sum', 'mean', 'count'}).sort_values(by ='mean', ascending = False)\n",
    "genre_pivot"
   ]
  },
  {
   "cell_type": "code",
   "execution_count": 26,
   "metadata": {},
   "outputs": [
    {
     "data": {
      "text/plain": [
       "genre\n",
       "Shooter         1.245882\n",
       "Sports          0.720817\n",
       "Platform        0.582500\n",
       "Role-Playing    0.508281\n",
       "Racing          0.469294\n",
       "Name: mean, dtype: float64"
      ]
     },
     "execution_count": 26,
     "metadata": {},
     "output_type": "execute_result"
    },
    {
     "data": {
      "image/png": "[encoded data removed]",
      "text/plain": [
       "<Figure size 432x288 with 1 Axes>"
      ]
     },
     "metadata": {
      "needs_background": "light"
     },
     "output_type": "display_data"
    }
   ],
   "source": [
    "genre_pivot['mean'].plot(kind = 'bar', title= 'Топ жанров за последние 10 лет', color='green')\n",
    "plt.xlabel('Жанры')\n",
    "plt.ylabel('Продажи, млн. копий');\n",
    "genre_pivot[0:5]['mean'] # топ-5 жанров"
   ]
  },
  {
   "cell_type": "markdown",
   "metadata": {},
   "source": [
    "Топ-5 жанров в последние 10 лет те же, что в среднем за все время: Shooter, Sports, Platform, Role-playing, Racing. Очевидно, за последние годы шутеры набирают все большую популярность и вышли на первое место. Adventure по-прежнему в аутсайдерах."
   ]
  },
  {
   "cell_type": "markdown",
   "metadata": {},
   "source": [
    "### Профиль пользователей разных регионов"
   ]
  },
  {
   "cell_type": "markdown",
   "metadata": {},
   "source": [
    "Определим для пользователя каждого региона (NA, EU, JP): <br>\n",
    "•\tСамые популярные платформы (топ-5);<br>\n",
    "•\tСамые популярные жанры (топ-5);<br>\n",
    "•\tВлияет ли рейтинг ESRB на продажи в отдельном регионе<br>\n"
   ]
  },
  {
   "cell_type": "code",
   "execution_count": 27,
   "metadata": {},
   "outputs": [],
   "source": [
    "# для начала сгруппируем данные по регионам. Каждому региону соответствуют данные, где есть продажи (>0)\n",
    "na_data = actual_data.query('na_sales >0')\n",
    "eu_data = actual_data.query('eu_sales >0')\n",
    "jp_data = actual_data.query('jp_sales >0')"
   ]
  },
  {
   "cell_type": "code",
   "execution_count": 28,
   "metadata": {},
   "outputs": [
    {
     "name": "stdout",
     "output_type": "stream",
     "text": [
      "Топ-5 жанров по Северной Америке\n"
     ]
    },
    {
     "data": {
      "text/html": [
       "<div>\n",
       "<style scoped>\n",
       "    .dataframe tbody tr th:only-of-type {\n",
       "        vertical-align: middle;\n",
       "    }\n",
       "\n",
       "    .dataframe tbody tr th {\n",
       "        vertical-align: top;\n",
       "    }\n",
       "\n",
       "    .dataframe thead th {\n",
       "        text-align: right;\n",
       "    }\n",
       "</style>\n",
       "<table border=\"1\" class=\"dataframe\">\n",
       "  <thead>\n",
       "    <tr style=\"text-align: right;\">\n",
       "      <th></th>\n",
       "      <th>na_sales</th>\n",
       "    </tr>\n",
       "    <tr>\n",
       "      <th>platform</th>\n",
       "      <th></th>\n",
       "    </tr>\n",
       "  </thead>\n",
       "  <tbody>\n",
       "    <tr>\n",
       "      <th>PS4</th>\n",
       "      <td>108.74</td>\n",
       "    </tr>\n",
       "    <tr>\n",
       "      <th>XOne</th>\n",
       "      <td>93.12</td>\n",
       "    </tr>\n",
       "    <tr>\n",
       "      <th>X360</th>\n",
       "      <td>81.66</td>\n",
       "    </tr>\n",
       "    <tr>\n",
       "      <th>PS3</th>\n",
       "      <td>63.50</td>\n",
       "    </tr>\n",
       "    <tr>\n",
       "      <th>3DS</th>\n",
       "      <td>38.20</td>\n",
       "    </tr>\n",
       "  </tbody>\n",
       "</table>\n",
       "</div>"
      ],
      "text/plain": [
       "          na_sales\n",
       "platform          \n",
       "PS4         108.74\n",
       "XOne         93.12\n",
       "X360         81.66\n",
       "PS3          63.50\n",
       "3DS          38.20"
      ]
     },
     "metadata": {},
     "output_type": "display_data"
    },
    {
     "data": {
      "image/png": "[encoded data removed]",
      "text/plain": [
       "<Figure size 432x288 with 1 Axes>"
      ]
     },
     "metadata": {
      "needs_background": "light"
     },
     "output_type": "display_data"
    },
    {
     "name": "stdout",
     "output_type": "stream",
     "text": [
      "Топ-5 жанров по Европе\n"
     ]
    },
    {
     "data": {
      "text/html": [
       "<div>\n",
       "<style scoped>\n",
       "    .dataframe tbody tr th:only-of-type {\n",
       "        vertical-align: middle;\n",
       "    }\n",
       "\n",
       "    .dataframe tbody tr th {\n",
       "        vertical-align: top;\n",
       "    }\n",
       "\n",
       "    .dataframe thead th {\n",
       "        text-align: right;\n",
       "    }\n",
       "</style>\n",
       "<table border=\"1\" class=\"dataframe\">\n",
       "  <thead>\n",
       "    <tr style=\"text-align: right;\">\n",
       "      <th></th>\n",
       "      <th>eu_sales</th>\n",
       "    </tr>\n",
       "    <tr>\n",
       "      <th>platform</th>\n",
       "      <th></th>\n",
       "    </tr>\n",
       "  </thead>\n",
       "  <tbody>\n",
       "    <tr>\n",
       "      <th>PS4</th>\n",
       "      <td>141.09</td>\n",
       "    </tr>\n",
       "    <tr>\n",
       "      <th>PS3</th>\n",
       "      <td>67.81</td>\n",
       "    </tr>\n",
       "    <tr>\n",
       "      <th>XOne</th>\n",
       "      <td>51.59</td>\n",
       "    </tr>\n",
       "    <tr>\n",
       "      <th>X360</th>\n",
       "      <td>42.52</td>\n",
       "    </tr>\n",
       "    <tr>\n",
       "      <th>3DS</th>\n",
       "      <td>30.96</td>\n",
       "    </tr>\n",
       "  </tbody>\n",
       "</table>\n",
       "</div>"
      ],
      "text/plain": [
       "          eu_sales\n",
       "platform          \n",
       "PS4         141.09\n",
       "PS3          67.81\n",
       "XOne         51.59\n",
       "X360         42.52\n",
       "3DS          30.96"
      ]
     },
     "metadata": {},
     "output_type": "display_data"
    },
    {
     "data": {
      "image/png": "[encoded data removed]",
      "text/plain": [
       "<Figure size 432x288 with 1 Axes>"
      ]
     },
     "metadata": {
      "needs_background": "light"
     },
     "output_type": "display_data"
    },
    {
     "name": "stdout",
     "output_type": "stream",
     "text": [
      "Топ-5 жанров по Японии\n"
     ]
    },
    {
     "data": {
      "text/html": [
       "<div>\n",
       "<style scoped>\n",
       "    .dataframe tbody tr th:only-of-type {\n",
       "        vertical-align: middle;\n",
       "    }\n",
       "\n",
       "    .dataframe tbody tr th {\n",
       "        vertical-align: top;\n",
       "    }\n",
       "\n",
       "    .dataframe thead th {\n",
       "        text-align: right;\n",
       "    }\n",
       "</style>\n",
       "<table border=\"1\" class=\"dataframe\">\n",
       "  <thead>\n",
       "    <tr style=\"text-align: right;\">\n",
       "      <th></th>\n",
       "      <th>jp_sales</th>\n",
       "    </tr>\n",
       "    <tr>\n",
       "      <th>platform</th>\n",
       "      <th></th>\n",
       "    </tr>\n",
       "  </thead>\n",
       "  <tbody>\n",
       "    <tr>\n",
       "      <th>3DS</th>\n",
       "      <td>67.81</td>\n",
       "    </tr>\n",
       "    <tr>\n",
       "      <th>PS3</th>\n",
       "      <td>23.35</td>\n",
       "    </tr>\n",
       "    <tr>\n",
       "      <th>PSV</th>\n",
       "      <td>18.59</td>\n",
       "    </tr>\n",
       "    <tr>\n",
       "      <th>PS4</th>\n",
       "      <td>15.96</td>\n",
       "    </tr>\n",
       "    <tr>\n",
       "      <th>WiiU</th>\n",
       "      <td>10.88</td>\n",
       "    </tr>\n",
       "  </tbody>\n",
       "</table>\n",
       "</div>"
      ],
      "text/plain": [
       "          jp_sales\n",
       "platform          \n",
       "3DS          67.81\n",
       "PS3          23.35\n",
       "PSV          18.59\n",
       "PS4          15.96\n",
       "WiiU         10.88"
      ]
     },
     "metadata": {},
     "output_type": "display_data"
    },
    {
     "data": {
      "image/png": "[encoded data removed]",
      "text/plain": [
       "<Figure size 432x288 with 1 Axes>"
      ]
     },
     "metadata": {
      "needs_background": "light"
     },
     "output_type": "display_data"
    }
   ],
   "source": [
    "# Top-5 платформ\n",
    "top_pf_na = na_data.pivot_table(index = 'platform',\n",
    "                    values = 'na_sales', \n",
    "                    aggfunc ='sum').sort_values(by = 'na_sales', ascending = False)\n",
    "print('Топ-5 жанров по Северной Америке')\n",
    "display(top_pf_na[0:5])\n",
    "top_pf_na.plot(kind ='bar', title = 'Рейтинг платформ в регионе Северная Америка', color = 'purple');\n",
    "plt.xlabel('Название платформы')\n",
    "plt.ylabel('Объем продаж, млн копий')\n",
    "plt.show();\n",
    "\n",
    "top_pf_eu = eu_data.pivot_table(index = 'platform',\n",
    "                    values = 'eu_sales', \n",
    "                    aggfunc ='sum').sort_values(by = 'eu_sales', ascending = False)\n",
    "print('Топ-5 жанров по Европе')\n",
    "display(top_pf_eu[0:5])\n",
    "top_pf_eu.plot(kind ='bar', title = 'Рейтинг платформ в регионе Европа');\n",
    "plt.xlabel('Название платформы')\n",
    "plt.ylabel('Объем продаж, млн копий')\n",
    "plt.show();\n",
    "\n",
    "top_pf_jp = jp_data.pivot_table(index = 'platform',\n",
    "                    values = 'jp_sales', \n",
    "                    aggfunc ='sum').sort_values(by = 'jp_sales', ascending = False)\n",
    "print('Топ-5 жанров по Японии')\n",
    "display(top_pf_jp[0:5])\n",
    "top_pf_jp.plot(kind ='bar', title = 'Рейтинг платформ в регионе Япония', color = 'red');\n",
    "plt.xlabel('Название платформы')\n",
    "plt.ylabel('Объем продаж, млн копий');"
   ]
  },
  {
   "cell_type": "markdown",
   "metadata": {},
   "source": [
    "Посмотрим, как ведет себя каждая платформа в трех регионах."
   ]
  },
  {
   "cell_type": "code",
   "execution_count": 29,
   "metadata": {},
   "outputs": [
    {
     "data": {
      "image/png": "[encoded data removed]",
      "text/plain": [
       "<Figure size 432x288 with 1 Axes>"
      ]
     },
     "metadata": {
      "needs_background": "light"
     },
     "output_type": "display_data"
    },
    {
     "data": {
      "image/png": "[encoded data removed]",
      "text/plain": [
       "<Figure size 432x288 with 1 Axes>"
      ]
     },
     "metadata": {
      "needs_background": "light"
     },
     "output_type": "display_data"
    },
    {
     "data": {
      "image/png": "[encoded data removed]",
      "text/plain": [
       "<Figure size 432x288 with 1 Axes>"
      ]
     },
     "metadata": {
      "needs_background": "light"
     },
     "output_type": "display_data"
    },
    {
     "data": {
      "image/png": "[encoded data removed]",
      "text/plain": [
       "<Figure size 432x288 with 1 Axes>"
      ]
     },
     "metadata": {
      "needs_background": "light"
     },
     "output_type": "display_data"
    },
    {
     "data": {
      "image/png": "[encoded data removed]",
      "text/plain": [
       "<Figure size 432x288 with 1 Axes>"
      ]
     },
     "metadata": {
      "needs_background": "light"
     },
     "output_type": "display_data"
    },
    {
     "data": {
      "image/png": "[encoded data removed]",
      "text/plain": [
       "<Figure size 432x288 with 1 Axes>"
      ]
     },
     "metadata": {
      "needs_background": "light"
     },
     "output_type": "display_data"
    },
    {
     "data": {
      "image/png": "[encoded data removed]",
      "text/plain": [
       "<Figure size 432x288 with 1 Axes>"
      ]
     },
     "metadata": {
      "needs_background": "light"
     },
     "output_type": "display_data"
    },
    {
     "data": {
      "image/png": "[encoded data removed]",
      "text/plain": [
       "<Figure size 432x288 with 1 Axes>"
      ]
     },
     "metadata": {
      "needs_background": "light"
     },
     "output_type": "display_data"
    },
    {
     "data": {
      "image/png": "[encoded data removed]",
      "text/plain": [
       "<Figure size 432x288 with 1 Axes>"
      ]
     },
     "metadata": {
      "needs_background": "light"
     },
     "output_type": "display_data"
    }
   ],
   "source": [
    "graph = actual_data.pivot_table(index = ['platform', 'year_of_release'],\n",
    "                        values ={'na_sales', 'jp_sales', 'eu_sales'})\n",
    "for pf in pf_list:\n",
    "    graph.query('platform == @pf').plot(title = pf)\n",
    "    plt.xlabel('Годы');"
   ]
  },
  {
   "cell_type": "markdown",
   "metadata": {},
   "source": [
    "Графики тренда продаж почти у каждой платформы нисходящие к 2016 году, но это скорее всего связано с тем, что данные за 2-16 год неполные. <br>\n",
    "Главный вывод из этих графиков: интересы клиентов из Северной Америки и Европы очень похожи (соответственно, и продажи по платформам тоже), а вот для Японии характерны особенности. <br><br>\n",
    "В Японии почти не продаются игры на платформах PS4, XOne, PC, X360, Wii, зато гораздо больше, чем в других регионах, популярна платформа **PSV**. Наибольший интерес в этой стране так же представляет **3DS**. <br><br>\n",
    "В Северной Америке и Европе, судя по графика, умирающими являются платформы PS3, PSV, X360 и, возможно, Wii и PS4. Для этих регионов можно рекомендовать в качестве наиболее высокопотенциальных **XOne, WiiU, 3DS. PC** это стабильная платформа с долгой историей, и ее тоже в принципе можно порекомендовать."
   ]
  },
  {
   "cell_type": "code",
   "execution_count": 30,
   "metadata": {},
   "outputs": [
    {
     "name": "stdout",
     "output_type": "stream",
     "text": [
      "Топ-5 жанров по Северной Америке\n"
     ]
    },
    {
     "data": {
      "text/html": [
       "<div>\n",
       "<style scoped>\n",
       "    .dataframe tbody tr th:only-of-type {\n",
       "        vertical-align: middle;\n",
       "    }\n",
       "\n",
       "    .dataframe tbody tr th {\n",
       "        vertical-align: top;\n",
       "    }\n",
       "\n",
       "    .dataframe thead th {\n",
       "        text-align: right;\n",
       "    }\n",
       "</style>\n",
       "<table border=\"1\" class=\"dataframe\">\n",
       "  <thead>\n",
       "    <tr style=\"text-align: right;\">\n",
       "      <th></th>\n",
       "      <th>na_sales</th>\n",
       "    </tr>\n",
       "    <tr>\n",
       "      <th>genre</th>\n",
       "      <th></th>\n",
       "    </tr>\n",
       "  </thead>\n",
       "  <tbody>\n",
       "    <tr>\n",
       "      <th>Action</th>\n",
       "      <td>125.83</td>\n",
       "    </tr>\n",
       "    <tr>\n",
       "      <th>Shooter</th>\n",
       "      <td>109.74</td>\n",
       "    </tr>\n",
       "    <tr>\n",
       "      <th>Sports</th>\n",
       "      <td>65.27</td>\n",
       "    </tr>\n",
       "    <tr>\n",
       "      <th>Role-Playing</th>\n",
       "      <td>46.40</td>\n",
       "    </tr>\n",
       "    <tr>\n",
       "      <th>Misc</th>\n",
       "      <td>27.46</td>\n",
       "    </tr>\n",
       "  </tbody>\n",
       "</table>\n",
       "</div>"
      ],
      "text/plain": [
       "              na_sales\n",
       "genre                 \n",
       "Action          125.83\n",
       "Shooter         109.74\n",
       "Sports           65.27\n",
       "Role-Playing     46.40\n",
       "Misc             27.46"
      ]
     },
     "metadata": {},
     "output_type": "display_data"
    },
    {
     "data": {
      "image/png": "[encoded data removed]",
      "text/plain": [
       "<Figure size 432x288 with 1 Axes>"
      ]
     },
     "metadata": {
      "needs_background": "light"
     },
     "output_type": "display_data"
    },
    {
     "name": "stdout",
     "output_type": "stream",
     "text": [
      "Топ-5 жанров по Европе\n"
     ]
    },
    {
     "data": {
      "text/html": [
       "<div>\n",
       "<style scoped>\n",
       "    .dataframe tbody tr th:only-of-type {\n",
       "        vertical-align: middle;\n",
       "    }\n",
       "\n",
       "    .dataframe tbody tr th {\n",
       "        vertical-align: top;\n",
       "    }\n",
       "\n",
       "    .dataframe thead th {\n",
       "        text-align: right;\n",
       "    }\n",
       "</style>\n",
       "<table border=\"1\" class=\"dataframe\">\n",
       "  <thead>\n",
       "    <tr style=\"text-align: right;\">\n",
       "      <th></th>\n",
       "      <th>eu_sales</th>\n",
       "    </tr>\n",
       "    <tr>\n",
       "      <th>genre</th>\n",
       "      <th></th>\n",
       "    </tr>\n",
       "  </thead>\n",
       "  <tbody>\n",
       "    <tr>\n",
       "      <th>Action</th>\n",
       "      <td>117.87</td>\n",
       "    </tr>\n",
       "    <tr>\n",
       "      <th>Shooter</th>\n",
       "      <td>87.86</td>\n",
       "    </tr>\n",
       "    <tr>\n",
       "      <th>Sports</th>\n",
       "      <td>60.34</td>\n",
       "    </tr>\n",
       "    <tr>\n",
       "      <th>Role-Playing</th>\n",
       "      <td>36.97</td>\n",
       "    </tr>\n",
       "    <tr>\n",
       "      <th>Racing</th>\n",
       "      <td>20.19</td>\n",
       "    </tr>\n",
       "  </tbody>\n",
       "</table>\n",
       "</div>"
      ],
      "text/plain": [
       "              eu_sales\n",
       "genre                 \n",
       "Action          117.87\n",
       "Shooter          87.86\n",
       "Sports           60.34\n",
       "Role-Playing     36.97\n",
       "Racing           20.19"
      ]
     },
     "metadata": {},
     "output_type": "display_data"
    },
    {
     "data": {
      "image/png": "[encoded data removed]",
      "text/plain": [
       "<Figure size 432x288 with 1 Axes>"
      ]
     },
     "metadata": {
      "needs_background": "light"
     },
     "output_type": "display_data"
    },
    {
     "name": "stdout",
     "output_type": "stream",
     "text": [
      "Топ-5 жанров по Японии\n"
     ]
    },
    {
     "data": {
      "text/html": [
       "<div>\n",
       "<style scoped>\n",
       "    .dataframe tbody tr th:only-of-type {\n",
       "        vertical-align: middle;\n",
       "    }\n",
       "\n",
       "    .dataframe tbody tr th {\n",
       "        vertical-align: top;\n",
       "    }\n",
       "\n",
       "    .dataframe thead th {\n",
       "        text-align: right;\n",
       "    }\n",
       "</style>\n",
       "<table border=\"1\" class=\"dataframe\">\n",
       "  <thead>\n",
       "    <tr style=\"text-align: right;\">\n",
       "      <th></th>\n",
       "      <th>jp_sales</th>\n",
       "    </tr>\n",
       "    <tr>\n",
       "      <th>genre</th>\n",
       "      <th></th>\n",
       "    </tr>\n",
       "  </thead>\n",
       "  <tbody>\n",
       "    <tr>\n",
       "      <th>Role-Playing</th>\n",
       "      <td>50.01</td>\n",
       "    </tr>\n",
       "    <tr>\n",
       "      <th>Action</th>\n",
       "      <td>39.65</td>\n",
       "    </tr>\n",
       "    <tr>\n",
       "      <th>Misc</th>\n",
       "      <td>9.03</td>\n",
       "    </tr>\n",
       "    <tr>\n",
       "      <th>Fighting</th>\n",
       "      <td>7.63</td>\n",
       "    </tr>\n",
       "    <tr>\n",
       "      <th>Shooter</th>\n",
       "      <td>6.61</td>\n",
       "    </tr>\n",
       "  </tbody>\n",
       "</table>\n",
       "</div>"
      ],
      "text/plain": [
       "              jp_sales\n",
       "genre                 \n",
       "Role-Playing     50.01\n",
       "Action           39.65\n",
       "Misc              9.03\n",
       "Fighting          7.63\n",
       "Shooter           6.61"
      ]
     },
     "metadata": {},
     "output_type": "display_data"
    },
    {
     "data": {
      "image/png": "[encoded data removed]",
      "text/plain": [
       "<Figure size 432x288 with 1 Axes>"
      ]
     },
     "metadata": {
      "needs_background": "light"
     },
     "output_type": "display_data"
    }
   ],
   "source": [
    "# Top-5 жанров\n",
    "top_genre_na = na_data.pivot_table(index = 'genre',\n",
    "                    values = 'na_sales', \n",
    "                    aggfunc ='sum').sort_values(by = 'na_sales', ascending = False)\n",
    "print('Топ-5 жанров по Северной Америке')\n",
    "display(top_genre_na[0:5])\n",
    "top_genre_na.plot(kind ='bar', title = 'Топ жанров в регионе Северная Америка', color = 'purple');\n",
    "plt.xlabel('Жанр')\n",
    "plt.ylabel('Объем продаж, млн копий');\n",
    "plt.show();\n",
    "\n",
    "top_genre_eu = eu_data.pivot_table(index = 'genre',\n",
    "                    values = 'eu_sales', \n",
    "                    aggfunc ='sum').sort_values(by = 'eu_sales', ascending = False)\n",
    "print('Топ-5 жанров по Европе')\n",
    "display(top_genre_eu[0:5])\n",
    "top_genre_eu.plot(kind ='bar', title = 'Топ жанров в регионе Европа');\n",
    "plt.xlabel('Жанр')\n",
    "plt.ylabel('Объем продаж, млн копий')\n",
    "plt.show();\n",
    "\n",
    "top_genre_jp = jp_data.pivot_table(index = 'genre',\n",
    "                    values = 'jp_sales', \n",
    "                    aggfunc ='sum').sort_values(by = 'jp_sales', ascending = False)\n",
    "print('Топ-5 жанров по Японии')\n",
    "display(top_genre_jp[0:5])\n",
    "top_genre_jp.plot(kind ='bar', title = 'Топ жанров в регионе Япония', color='red');\n",
    "plt.xlabel('Жанр')\n",
    "plt.ylabel('Объем продаж, млн копий');\n"
   ]
  },
  {
   "cell_type": "markdown",
   "metadata": {},
   "source": [
    "Топ-5 жанров в Северной Америке и Европе совпадает почти полностью, а вот в Японии с большим отрывом лидирует Role-Playing (РПГ), а вот шутеры совсем не популярны, в отличие от других регионов, где они №3. Это несколько противоречит общему ТОПу, в котором шутеры занимают первое место - но это объясняется, видимо, высокими продажами в регионе others. <br>\n",
    "Также в Японии игры в жанре Platform более популярны, чем Racing, поэтому они вошли в топ, в сравнении с Европой И С.А."
   ]
  },
  {
   "cell_type": "code",
   "execution_count": 31,
   "metadata": {},
   "outputs": [
    {
     "data": {
      "text/html": [
       "<div>\n",
       "<style scoped>\n",
       "    .dataframe tbody tr th:only-of-type {\n",
       "        vertical-align: middle;\n",
       "    }\n",
       "\n",
       "    .dataframe tbody tr th {\n",
       "        vertical-align: top;\n",
       "    }\n",
       "\n",
       "    .dataframe thead th {\n",
       "        text-align: right;\n",
       "    }\n",
       "</style>\n",
       "<table border=\"1\" class=\"dataframe\">\n",
       "  <thead>\n",
       "    <tr style=\"text-align: right;\">\n",
       "      <th></th>\n",
       "      <th>eu_sales</th>\n",
       "      <th>jp_sales</th>\n",
       "      <th>na_sales</th>\n",
       "    </tr>\n",
       "    <tr>\n",
       "      <th>rating</th>\n",
       "      <th></th>\n",
       "      <th></th>\n",
       "      <th></th>\n",
       "    </tr>\n",
       "  </thead>\n",
       "  <tbody>\n",
       "    <tr>\n",
       "      <th>M</th>\n",
       "      <td>143.85</td>\n",
       "      <td>13.20</td>\n",
       "      <td>165.21</td>\n",
       "    </tr>\n",
       "    <tr>\n",
       "      <th>0</th>\n",
       "      <td>74.69</td>\n",
       "      <td>34.00</td>\n",
       "      <td>89.18</td>\n",
       "    </tr>\n",
       "    <tr>\n",
       "      <th>E</th>\n",
       "      <td>78.71</td>\n",
       "      <td>14.64</td>\n",
       "      <td>78.94</td>\n",
       "    </tr>\n",
       "    <tr>\n",
       "      <th>E10+</th>\n",
       "      <td>41.10</td>\n",
       "      <td>4.97</td>\n",
       "      <td>54.02</td>\n",
       "    </tr>\n",
       "    <tr>\n",
       "      <th>T</th>\n",
       "      <td>39.78</td>\n",
       "      <td>14.36</td>\n",
       "      <td>49.79</td>\n",
       "    </tr>\n",
       "  </tbody>\n",
       "</table>\n",
       "</div>"
      ],
      "text/plain": [
       "        eu_sales  jp_sales  na_sales\n",
       "rating                              \n",
       "M         143.85     13.20    165.21\n",
       "0          74.69     34.00     89.18\n",
       "E          78.71     14.64     78.94\n",
       "E10+       41.10      4.97     54.02\n",
       "T          39.78     14.36     49.79"
      ]
     },
     "metadata": {},
     "output_type": "display_data"
    },
    {
     "data": {
      "image/png": "[encoded data removed]",
      "text/plain": [
       "<Figure size 432x288 with 1 Axes>"
      ]
     },
     "metadata": {
      "needs_background": "light"
     },
     "output_type": "display_data"
    },
    {
     "data": {
      "image/png": "[encoded data removed]",
      "text/plain": [
       "<Figure size 432x288 with 1 Axes>"
      ]
     },
     "metadata": {
      "needs_background": "light"
     },
     "output_type": "display_data"
    },
    {
     "data": {
      "image/png": "[encoded data removed]",
      "text/plain": [
       "<Figure size 432x288 with 1 Axes>"
      ]
     },
     "metadata": {
      "needs_background": "light"
     },
     "output_type": "display_data"
    }
   ],
   "source": [
    "#влияет ли рейтинг ESRB на продажи?\n",
    "# т.к. по категориальным данным, к которым относится рейтинг, мы не можем посчитать коэффициент корреляции Пирсона, \n",
    "# можно посмотреть распределение продаж по каждой оценке рейтинга\n",
    "display(na_data.pivot_table(index = 'rating', values =['na_sales', 'eu_sales', 'jp_sales'], aggfunc ='sum').sort_values(by ='na_sales', ascending = False))\n",
    "\n",
    "# визуализируем на графиках\n",
    "na_data.pivot_table(index = 'rating', \n",
    "                    values ='na_sales', \n",
    "                    aggfunc ='sum').sort_values(by ='rating', \n",
    "                                                ascending = False).plot(kind = 'bar', \n",
    "                                                                        title = 'Продажи по региону Северная Америка',\n",
    "                                                                        color = 'purple')\n",
    "plt.xlabel('ESRB рейтинг')\n",
    "plt.ylabel('Продажи, млн. копий');\n",
    "\n",
    "eu_data.pivot_table(index = 'rating', \n",
    "                    values ='eu_sales', \n",
    "                    aggfunc ='sum').sort_values(by ='rating', \n",
    "                                                ascending = False).plot(kind = 'bar', \n",
    "                                                                        title = 'Продажи по региону Европа')\n",
    "plt.xlabel('ESRB рейтинг')\n",
    "plt.ylabel('Продажи, млн. копий');\n",
    "\n",
    "jp_data.pivot_table(index = 'rating', \n",
    "                    values ='jp_sales', \n",
    "                    aggfunc ='sum').sort_values(by ='rating', \n",
    "                                                ascending = False).plot(kind = 'bar', \n",
    "                                                                        title = 'Продажи по региону Япония',\n",
    "                                                                        color = 'red')\n",
    "plt.xlabel('ESRB рейтинг')\n",
    "plt.ylabel('Продажи, млн. копий');"
   ]
  },
  {
   "cell_type": "markdown",
   "metadata": {},
   "source": [
    "Графики распределения суммарных продаж по Северной Америке и Европе практически идентичны, максимум продаж приходится на рейтинг \"М\" (\"Взрослый\"), следом идет \"Е\" (\"Everyone\" = \"Все\"). На третьем месте по продажам игры без рейтинга. Наименее востребованы игры Е10+ и Т (дети и подростки). <br>\n",
    "В Японии подавляющее большинство проданных игр не имеет рейтинга. Видимо, в этой стране возрастной рейтинг не важен для пользователей, \"все играют во всё\"."
   ]
  },
  {
   "cell_type": "markdown",
   "metadata": {},
   "source": [
    "## Проверка гипотез"
   ]
  },
  {
   "cell_type": "markdown",
   "metadata": {},
   "source": [
    "**Гипотеза 1:** Средние пользовательские рейтинги платформ Xbox One и PC одинаковые (нулевая гипотеза). <br>\n",
    "Альтернативная гипотеза: Средние пользовательские рейтинги этих платформ различаются."
   ]
  },
  {
   "cell_type": "code",
   "execution_count": 38,
   "metadata": {},
   "outputs": [
    {
     "name": "stdout",
     "output_type": "stream",
     "text": [
      "P-value нулевой гипотезы: 0.24875948537089854, а это значит, что...\n",
      "Нулевая гипотеза не может быть отвергнута\n"
     ]
    }
   ],
   "source": [
    "data_xbox = actual_data.query('platform == \"XOne\"')['user_score'].dropna()\n",
    "data_pc = actual_data.query('platform ==\"PC\"')['user_score'].dropna()\n",
    "\n",
    "alpha = 0.05\n",
    "\n",
    "result = st.ttest_ind(data_xbox, data_pc) # мы не знаем дисперсии выборок, но оставим equal_var = True\n",
    "\n",
    "print(f'P-value нулевой гипотезы: {result.pvalue}, а это значит, что...')\n",
    "if result.pvalue < alpha:\n",
    "    print('Нулевая гипотеза может быть отвергнута')\n",
    "else:\n",
    "    print('Нулевая гипотеза не может быть отвергнута')\n",
    "    "
   ]
  },
  {
   "cell_type": "code",
   "execution_count": 40,
   "metadata": {},
   "outputs": [
    {
     "name": "stdout",
     "output_type": "stream",
     "text": [
      "Статистика разности: -1.8162727286589562\n",
      "Выборочное среднее для Action: 4.805263157894737\n",
      "Выборочное среднее для Sports: 5.141798941798942\n"
     ]
    }
   ],
   "source": [
    "#посмотрим на вторичные показатели проверки гипотез: статистику разности и выборочные средние  \n",
    "print(f'Статистика разности: {result.statistic}')\n",
    "print(f'Выборочное среднее для Xbox One: {data_xbox.mean()}')\n",
    "print(f'Выборочное среднее для PC: {data_pc.mean()}')"
   ]
  },
  {
   "cell_type": "markdown",
   "metadata": {},
   "source": [
    "Нулевая гипотеза не может быть отвергнута, то есть - есть шанс, что средние генеральных совокупностей совпадают. Исходя из выборочных средних, можно действительно допустить, что оценки платформ совпадут - обе они около 5, хоть и есть определенный разброс."
   ]
  },
  {
   "cell_type": "markdown",
   "metadata": {},
   "source": [
    "**Гипотеза 2:** Средние пользовательские рейтинги жанров Action и Sports разные. <br>\n",
    "Нулевая гипотеза: Средние рейтинги жанров совпадают. Альтернативная гипотеза: среднией рейтинги жанров различаются."
   ]
  },
  {
   "cell_type": "code",
   "execution_count": 39,
   "metadata": {},
   "outputs": [
    {
     "name": "stdout",
     "output_type": "stream",
     "text": [
      "P-value нулевой гипотезы: 0.06964098496099129, а это значит, что...\n",
      "Нулевая гипотеза не может быть отвергнута\n"
     ]
    }
   ],
   "source": [
    "data_action = actual_data.query('genre == \"Action\"')['user_score'].dropna()\n",
    "data_sports = actual_data.query('genre ==\"Sports\"')['user_score'].dropna()\n",
    "\n",
    "alpha = 0.05\n",
    "\n",
    "result = st.ttest_ind(data_action, data_sports) # мы не знаем дисперсии выборок, но оставим equal_var = True\n",
    "\n",
    "print(f'P-value нулевой гипотезы: {result.pvalue}, а это значит, что...')\n",
    "if result.pvalue < alpha:\n",
    "    print('Нулевая гипотеза может быть отвергнута')\n",
    "else:\n",
    "    print('Нулевая гипотеза не может быть отвергнута')\n"
   ]
  },
  {
   "cell_type": "markdown",
   "metadata": {},
   "source": [
    "Результат показал, что мы не можем отвергнуть гипотезу о том, что средние по двум жанрам совпадают, но статистическая значимость попадает в \"сомнительный\" промежуток: остаетстся 7% вероятности, что при тех средних, которые посчитаны для выборок по Action & Sports, средние генеральных совокупностей совпадают. То есть: 93% вероятности, что они различаются (наша задача доказать именно это). <br>\n",
    "Т.к. это все же пограничное значение, следует посмотреть вторичные показатели статистической проверки гипотез: статистику разности и выборочные средние."
   ]
  },
  {
   "cell_type": "code",
   "execution_count": 34,
   "metadata": {},
   "outputs": [
    {
     "name": "stdout",
     "output_type": "stream",
     "text": [
      "Статистика разности: 6.023752568091716\n",
      "Выборочное среднее для Action: 3.929448233106014\n",
      "Выборочное среднее для Sports: 3.3249999999999997\n"
     ]
    }
   ],
   "source": [
    "#посмотрим на вторичные показатели проверки гипотез: статистику разности и выборочные средние  \n",
    "print(f'Статистика разности: {result.statistic}')\n",
    "print(f'Выборочное среднее для Action: {data_action.mean()}')\n",
    "print(f'Выборочное среднее для Sports: {data_sports.mean()}')"
   ]
  },
  {
   "cell_type": "markdown",
   "metadata": {},
   "source": [
    "Статистика разности достаточно велика, а выборочные средние так же немного различаются. С учетом результата p-value, можно говорить о том, что наша гипотеза о том, что средние рейтинги для Action и Sports различаются, подтвердилась, во всяком случае, она точно не может быть отвергнута."
   ]
  },
  {
   "cell_type": "markdown",
   "metadata": {},
   "source": [
    "## Общий вывод"
   ]
  },
  {
   "cell_type": "markdown",
   "metadata": {},
   "source": [
    "В нашей работе мы исследовали данные из открытых источников о продажах видео-игр за последние 40 лет в различных регионах. На основании этих данных мы провели анализ и пришли к следующим заключениям: <br>\n",
    "1. При планировании продаж на 2017 год следует сфокусировать основное внимание на следующих платформах: **PS4, Xbox One, 3DS, WiiU**, т.к. эти платформы находятся в стадии активного роста. Среди жанров наиболее перспективными являются **Shooter, Racing, Sports, Platform, Aсtion и Role Playing** (засчет Японии).<br><br>\n",
    "2. Профили покупателей в Северной Америке и Европе практически совпадают, а вот интересы клиентов в *Японии* отличаются: \n",
    "- они более всего заинтересованы в играх в жанре Role Playing и Action и совсем не заинтересованы в Shooter.<br>\n",
    "- Они предпочитают платформы 3DS & PSV. <br>\n",
    "- Они не обращают внимания на возрастной рейтинг. <br>\n",
    "При этом покупатели в *Северной Америке и Европе*: <br>\n",
    "- Интересуются бОльшим количеством платформ: это PS3/PS4, Wii / WiiU, Xbox One, 3DS. <br>\n",
    "- Предпочитают следующие жанры: Shooter, Racing, Sports, Platform, Aсtion. <br>\n",
    "- Больше всего покупают игры с возрастным ограничение М.<br><br>\n",
    "3. Оценки, ни пользовательские, ни экспертные, напрямую не влияют на количество проданных копий, хотя игры-бестселлеры имели хорошие оценки.\n",
    "<br><br>\n",
    "4. Наша гипотеза о том, что рейтинг платформ Xbox One & PC одинаковый, не смогла быть опровергнута, а средние рейтинги (4,8 против 5,1) различаются не слишком сильно. <br>\n",
    "Гипотеза о том, что средняя оценка игр в жанре Action & Sports не одинакова, подтвердилась (оценка Action'a больше)."
   ]
  },
  {
   "cell_type": "code",
   "execution_count": null,
   "metadata": {},
   "outputs": [],
   "source": []
  }
 ],
 "metadata": {
  "ExecuteTimeLog": [
   {
    "duration": 52,
    "start_time": "2022-06-19T09:08:12.260Z"
   },
   {
    "duration": 1192,
    "start_time": "2022-06-19T09:08:14.708Z"
   },
   {
    "duration": 199,
    "start_time": "2022-06-19T09:08:16.433Z"
   },
   {
    "duration": 69,
    "start_time": "2022-06-19T09:17:23.411Z"
   },
   {
    "duration": 4,
    "start_time": "2022-06-19T09:17:27.150Z"
   },
   {
    "duration": 5,
    "start_time": "2022-06-19T09:17:51.435Z"
   },
   {
    "duration": 16,
    "start_time": "2022-06-19T09:21:22.012Z"
   },
   {
    "duration": 6,
    "start_time": "2022-06-19T09:21:55.757Z"
   },
   {
    "duration": 34,
    "start_time": "2022-06-19T09:22:14.954Z"
   },
   {
    "duration": 4,
    "start_time": "2022-06-19T09:27:50.814Z"
   },
   {
    "duration": 16,
    "start_time": "2022-06-19T09:27:54.636Z"
   },
   {
    "duration": 12,
    "start_time": "2022-06-19T09:28:03.679Z"
   },
   {
    "duration": 29,
    "start_time": "2022-06-19T09:28:58.770Z"
   },
   {
    "duration": 7,
    "start_time": "2022-06-19T09:29:41.091Z"
   },
   {
    "duration": 62,
    "start_time": "2022-06-19T09:30:08.551Z"
   },
   {
    "duration": 4,
    "start_time": "2022-06-19T09:30:11.793Z"
   },
   {
    "duration": 11,
    "start_time": "2022-06-19T09:30:46.450Z"
   },
   {
    "duration": 10,
    "start_time": "2022-06-19T09:32:14.211Z"
   },
   {
    "duration": 30,
    "start_time": "2022-06-19T09:33:07.942Z"
   },
   {
    "duration": 23,
    "start_time": "2022-06-19T09:33:41.611Z"
   },
   {
    "duration": 23,
    "start_time": "2022-06-19T09:34:12.854Z"
   },
   {
    "duration": 25,
    "start_time": "2022-06-19T09:41:51.752Z"
   },
   {
    "duration": 39,
    "start_time": "2022-06-19T09:44:01.079Z"
   },
   {
    "duration": 26,
    "start_time": "2022-06-19T09:46:20.068Z"
   },
   {
    "duration": 4,
    "start_time": "2022-06-19T09:49:18.752Z"
   },
   {
    "duration": 16,
    "start_time": "2022-06-19T09:49:40.761Z"
   },
   {
    "duration": 20,
    "start_time": "2022-06-19T09:52:23.114Z"
   },
   {
    "duration": 23,
    "start_time": "2022-06-19T09:53:32.300Z"
   },
   {
    "duration": 5,
    "start_time": "2022-06-19T09:53:55.054Z"
   },
   {
    "duration": 11,
    "start_time": "2022-06-19T09:58:19.917Z"
   },
   {
    "duration": 10,
    "start_time": "2022-06-19T09:58:43.014Z"
   },
   {
    "duration": 19,
    "start_time": "2022-06-19T09:58:48.553Z"
   },
   {
    "duration": 5,
    "start_time": "2022-06-19T10:19:29.192Z"
   },
   {
    "duration": 18,
    "start_time": "2022-06-19T10:20:03.223Z"
   },
   {
    "duration": 18,
    "start_time": "2022-06-19T10:25:32.013Z"
   },
   {
    "duration": 7,
    "start_time": "2022-06-19T10:25:43.620Z"
   },
   {
    "duration": 13,
    "start_time": "2022-06-19T10:26:11.477Z"
   },
   {
    "duration": 1147,
    "start_time": "2022-06-19T10:26:36.973Z"
   },
   {
    "duration": 81,
    "start_time": "2022-06-19T10:26:38.122Z"
   },
   {
    "duration": 5,
    "start_time": "2022-06-19T10:26:38.205Z"
   },
   {
    "duration": 20,
    "start_time": "2022-06-19T10:26:38.212Z"
   },
   {
    "duration": 23,
    "start_time": "2022-06-19T10:26:38.234Z"
   },
   {
    "duration": 32,
    "start_time": "2022-06-19T10:26:38.259Z"
   },
   {
    "duration": 50,
    "start_time": "2022-06-19T10:26:38.293Z"
   },
   {
    "duration": 4,
    "start_time": "2022-06-19T10:26:38.345Z"
   },
   {
    "duration": 29,
    "start_time": "2022-06-19T10:26:38.350Z"
   },
   {
    "duration": 33,
    "start_time": "2022-06-19T10:26:38.381Z"
   },
   {
    "duration": 37,
    "start_time": "2022-06-19T10:26:38.416Z"
   },
   {
    "duration": 1077,
    "start_time": "2022-06-19T10:27:02.021Z"
   },
   {
    "duration": 75,
    "start_time": "2022-06-19T10:27:03.100Z"
   },
   {
    "duration": 5,
    "start_time": "2022-06-19T10:27:03.177Z"
   },
   {
    "duration": 19,
    "start_time": "2022-06-19T10:27:03.184Z"
   },
   {
    "duration": 19,
    "start_time": "2022-06-19T10:27:03.205Z"
   },
   {
    "duration": 27,
    "start_time": "2022-06-19T10:27:03.242Z"
   },
   {
    "duration": 23,
    "start_time": "2022-06-19T10:27:03.270Z"
   },
   {
    "duration": 4,
    "start_time": "2022-06-19T10:27:03.295Z"
   },
   {
    "duration": 46,
    "start_time": "2022-06-19T10:27:03.300Z"
   },
   {
    "duration": 21,
    "start_time": "2022-06-19T10:27:03.349Z"
   },
   {
    "duration": 18,
    "start_time": "2022-06-19T10:27:03.372Z"
   },
   {
    "duration": 24,
    "start_time": "2022-06-19T10:32:08.169Z"
   },
   {
    "duration": 1145,
    "start_time": "2022-06-19T10:32:41.847Z"
   },
   {
    "duration": 74,
    "start_time": "2022-06-19T10:32:42.994Z"
   },
   {
    "duration": 5,
    "start_time": "2022-06-19T10:32:43.071Z"
   },
   {
    "duration": 20,
    "start_time": "2022-06-19T10:32:43.079Z"
   },
   {
    "duration": 42,
    "start_time": "2022-06-19T10:32:43.101Z"
   },
   {
    "duration": 34,
    "start_time": "2022-06-19T10:32:43.145Z"
   },
   {
    "duration": 37,
    "start_time": "2022-06-19T10:32:43.181Z"
   },
   {
    "duration": 21,
    "start_time": "2022-06-19T10:32:43.221Z"
   },
   {
    "duration": 27,
    "start_time": "2022-06-19T10:32:43.245Z"
   },
   {
    "duration": 21,
    "start_time": "2022-06-19T10:32:43.275Z"
   },
   {
    "duration": 20,
    "start_time": "2022-06-19T10:32:43.298Z"
   },
   {
    "duration": 45,
    "start_time": "2022-06-19T10:32:43.320Z"
   },
   {
    "duration": 106,
    "start_time": "2022-06-19T10:34:32.055Z"
   },
   {
    "duration": 12,
    "start_time": "2022-06-19T10:35:35.775Z"
   },
   {
    "duration": 1045,
    "start_time": "2022-06-19T10:35:57.863Z"
   },
   {
    "duration": 80,
    "start_time": "2022-06-19T10:35:58.910Z"
   },
   {
    "duration": 5,
    "start_time": "2022-06-19T10:35:58.991Z"
   },
   {
    "duration": 23,
    "start_time": "2022-06-19T10:35:58.998Z"
   },
   {
    "duration": 33,
    "start_time": "2022-06-19T10:35:59.024Z"
   },
   {
    "duration": 27,
    "start_time": "2022-06-19T10:35:59.059Z"
   },
   {
    "duration": 25,
    "start_time": "2022-06-19T10:36:12.215Z"
   },
   {
    "duration": 16,
    "start_time": "2022-06-19T10:36:30.695Z"
   },
   {
    "duration": 19,
    "start_time": "2022-06-19T10:37:08.846Z"
   },
   {
    "duration": 15,
    "start_time": "2022-06-19T10:37:38.594Z"
   },
   {
    "duration": 22,
    "start_time": "2022-06-19T10:37:43.248Z"
   },
   {
    "duration": 20,
    "start_time": "2022-06-19T10:37:46.346Z"
   },
   {
    "duration": 1599,
    "start_time": "2022-06-19T11:33:01.990Z"
   },
   {
    "duration": 314,
    "start_time": "2022-06-19T11:33:03.592Z"
   },
   {
    "duration": 6,
    "start_time": "2022-06-19T11:33:03.909Z"
   },
   {
    "duration": 87,
    "start_time": "2022-06-19T11:33:03.918Z"
   },
   {
    "duration": 40,
    "start_time": "2022-06-19T11:33:04.010Z"
   },
   {
    "duration": 78,
    "start_time": "2022-06-19T11:33:04.051Z"
   },
   {
    "duration": 43,
    "start_time": "2022-06-19T11:33:04.132Z"
   },
   {
    "duration": 84,
    "start_time": "2022-06-19T11:33:04.180Z"
   },
   {
    "duration": 39,
    "start_time": "2022-06-19T11:33:04.266Z"
   },
   {
    "duration": 249,
    "start_time": "2022-06-19T11:33:04.307Z"
   },
   {
    "duration": 0,
    "start_time": "2022-06-19T11:33:04.559Z"
   },
   {
    "duration": 0,
    "start_time": "2022-06-19T11:33:04.560Z"
   },
   {
    "duration": 19,
    "start_time": "2022-06-19T11:37:06.871Z"
   },
   {
    "duration": 6,
    "start_time": "2022-06-19T11:37:17.857Z"
   },
   {
    "duration": 28,
    "start_time": "2022-06-19T11:37:40.617Z"
   },
   {
    "duration": 10,
    "start_time": "2022-06-19T11:37:49.391Z"
   },
   {
    "duration": 11,
    "start_time": "2022-06-19T11:38:35.349Z"
   },
   {
    "duration": 10,
    "start_time": "2022-06-19T11:38:54.658Z"
   },
   {
    "duration": 6,
    "start_time": "2022-06-19T11:39:00.862Z"
   },
   {
    "duration": 14,
    "start_time": "2022-06-19T11:39:22.888Z"
   },
   {
    "duration": 6,
    "start_time": "2022-06-19T11:39:49.581Z"
   },
   {
    "duration": 11,
    "start_time": "2022-06-19T11:39:56.954Z"
   },
   {
    "duration": 6,
    "start_time": "2022-06-19T11:40:04.978Z"
   },
   {
    "duration": 5,
    "start_time": "2022-06-19T11:40:37.778Z"
   },
   {
    "duration": 8,
    "start_time": "2022-06-19T11:40:46.597Z"
   },
   {
    "duration": 10,
    "start_time": "2022-06-19T11:41:15.297Z"
   },
   {
    "duration": 9,
    "start_time": "2022-06-19T11:41:43.997Z"
   },
   {
    "duration": 16,
    "start_time": "2022-06-19T11:41:59.638Z"
   },
   {
    "duration": 8,
    "start_time": "2022-06-19T11:42:50.679Z"
   },
   {
    "duration": 6,
    "start_time": "2022-06-19T11:44:08.297Z"
   },
   {
    "duration": 35,
    "start_time": "2022-06-19T11:44:28.618Z"
   },
   {
    "duration": 1351,
    "start_time": "2022-06-19T11:44:52.799Z"
   },
   {
    "duration": 155,
    "start_time": "2022-06-19T11:44:54.160Z"
   },
   {
    "duration": 15,
    "start_time": "2022-06-19T11:44:54.319Z"
   },
   {
    "duration": 122,
    "start_time": "2022-06-19T11:44:54.336Z"
   },
   {
    "duration": 50,
    "start_time": "2022-06-19T11:44:56.592Z"
   },
   {
    "duration": 81,
    "start_time": "2022-06-19T11:45:54.697Z"
   },
   {
    "duration": 47,
    "start_time": "2022-06-19T11:45:56.257Z"
   },
   {
    "duration": 50,
    "start_time": "2022-06-19T11:46:49.370Z"
   },
   {
    "duration": 69,
    "start_time": "2022-06-19T11:46:52.181Z"
   },
   {
    "duration": 10,
    "start_time": "2022-06-19T11:47:00.997Z"
   },
   {
    "duration": 48,
    "start_time": "2022-06-19T11:47:04.997Z"
   },
   {
    "duration": 58,
    "start_time": "2022-06-19T11:47:16.892Z"
   },
   {
    "duration": 17,
    "start_time": "2022-06-19T11:47:35.702Z"
   },
   {
    "duration": 168,
    "start_time": "2022-06-19T11:47:40.153Z"
   },
   {
    "duration": 57,
    "start_time": "2022-06-19T11:47:46.386Z"
   },
   {
    "duration": 35,
    "start_time": "2022-06-19T11:49:04.371Z"
   },
   {
    "duration": 35,
    "start_time": "2022-06-19T11:49:21.774Z"
   },
   {
    "duration": 47,
    "start_time": "2022-06-19T11:51:41.943Z"
   },
   {
    "duration": 29,
    "start_time": "2022-06-19T11:52:17.653Z"
   },
   {
    "duration": 44,
    "start_time": "2022-06-19T11:52:29.177Z"
   },
   {
    "duration": 35,
    "start_time": "2022-06-19T11:52:39.556Z"
   },
   {
    "duration": 28,
    "start_time": "2022-06-19T11:53:28.861Z"
   },
   {
    "duration": 32,
    "start_time": "2022-06-19T11:55:40.210Z"
   },
   {
    "duration": 24,
    "start_time": "2022-06-19T11:56:43.492Z"
   },
   {
    "duration": 44,
    "start_time": "2022-06-19T11:56:58.635Z"
   },
   {
    "duration": 37,
    "start_time": "2022-06-19T11:57:06.292Z"
   },
   {
    "duration": 29,
    "start_time": "2022-06-19T11:57:20.983Z"
   },
   {
    "duration": 53,
    "start_time": "2022-06-19T11:59:09.917Z"
   },
   {
    "duration": 82,
    "start_time": "2022-06-19T12:03:24.857Z"
   },
   {
    "duration": 76,
    "start_time": "2022-06-19T12:13:40.716Z"
   },
   {
    "duration": 47,
    "start_time": "2022-06-19T12:18:26.515Z"
   },
   {
    "duration": 13,
    "start_time": "2022-06-19T12:30:26.515Z"
   },
   {
    "duration": 89,
    "start_time": "2022-06-19T12:32:42.316Z"
   },
   {
    "duration": 36,
    "start_time": "2022-06-19T12:32:48.521Z"
   },
   {
    "duration": 48,
    "start_time": "2022-06-19T12:33:10.755Z"
   },
   {
    "duration": 90,
    "start_time": "2022-06-19T12:33:16.126Z"
   },
   {
    "duration": 48,
    "start_time": "2022-06-19T12:34:10.451Z"
   },
   {
    "duration": 55,
    "start_time": "2022-06-19T12:34:26.263Z"
   },
   {
    "duration": 31,
    "start_time": "2022-06-19T12:34:31.076Z"
   },
   {
    "duration": 79,
    "start_time": "2022-06-19T12:34:39.828Z"
   },
   {
    "duration": 50,
    "start_time": "2022-06-19T12:36:56.652Z"
   },
   {
    "duration": 1384,
    "start_time": "2022-06-19T12:37:28.960Z"
   },
   {
    "duration": 100,
    "start_time": "2022-06-19T12:37:30.347Z"
   },
   {
    "duration": 6,
    "start_time": "2022-06-19T12:37:30.451Z"
   },
   {
    "duration": 55,
    "start_time": "2022-06-19T12:37:30.459Z"
   },
   {
    "duration": 26,
    "start_time": "2022-06-19T12:37:30.517Z"
   },
   {
    "duration": 38,
    "start_time": "2022-06-19T12:37:30.545Z"
   },
   {
    "duration": 53,
    "start_time": "2022-06-19T12:37:30.585Z"
   },
   {
    "duration": 26,
    "start_time": "2022-06-19T12:37:30.640Z"
   },
   {
    "duration": 22,
    "start_time": "2022-06-19T12:37:30.668Z"
   },
   {
    "duration": 22,
    "start_time": "2022-06-19T12:37:30.693Z"
   },
   {
    "duration": 35,
    "start_time": "2022-06-19T12:37:30.718Z"
   },
   {
    "duration": 38,
    "start_time": "2022-06-19T12:37:30.755Z"
   },
   {
    "duration": 177,
    "start_time": "2022-06-19T12:37:30.796Z"
   },
   {
    "duration": 53,
    "start_time": "2022-06-19T12:38:30.066Z"
   },
   {
    "duration": 51,
    "start_time": "2022-06-19T12:38:37.103Z"
   },
   {
    "duration": 27,
    "start_time": "2022-06-19T13:06:27.343Z"
   },
   {
    "duration": 68,
    "start_time": "2022-06-19T13:06:58.480Z"
   },
   {
    "duration": 36,
    "start_time": "2022-06-19T13:07:08.003Z"
   },
   {
    "duration": 14,
    "start_time": "2022-06-19T13:09:41.155Z"
   },
   {
    "duration": 17,
    "start_time": "2022-06-19T13:09:46.564Z"
   },
   {
    "duration": 184,
    "start_time": "2022-06-19T13:09:49.091Z"
   },
   {
    "duration": 20,
    "start_time": "2022-06-19T13:10:18.546Z"
   },
   {
    "duration": 261,
    "start_time": "2022-06-19T13:10:20.860Z"
   },
   {
    "duration": 158,
    "start_time": "2022-06-19T13:11:15.094Z"
   },
   {
    "duration": 32,
    "start_time": "2022-06-19T13:11:40.771Z"
   },
   {
    "duration": 22,
    "start_time": "2022-06-19T13:12:17.040Z"
   },
   {
    "duration": 18,
    "start_time": "2022-06-19T13:12:40.723Z"
   },
   {
    "duration": 23,
    "start_time": "2022-06-19T13:12:55.597Z"
   },
   {
    "duration": 55,
    "start_time": "2022-06-19T13:18:54.848Z"
   },
   {
    "duration": 84,
    "start_time": "2022-06-19T13:19:19.897Z"
   },
   {
    "duration": 56,
    "start_time": "2022-06-19T13:19:32.280Z"
   },
   {
    "duration": 9,
    "start_time": "2022-06-19T13:21:02.463Z"
   },
   {
    "duration": 80,
    "start_time": "2022-06-19T13:21:07.081Z"
   },
   {
    "duration": 52,
    "start_time": "2022-06-19T13:21:35.220Z"
   },
   {
    "duration": 81,
    "start_time": "2022-06-19T13:22:26.867Z"
   },
   {
    "duration": 65,
    "start_time": "2022-06-19T13:23:04.683Z"
   },
   {
    "duration": 58,
    "start_time": "2022-06-19T13:23:22.285Z"
   },
   {
    "duration": 31,
    "start_time": "2022-06-19T13:23:51.020Z"
   },
   {
    "duration": 198,
    "start_time": "2022-06-19T13:23:54.459Z"
   },
   {
    "duration": 1272,
    "start_time": "2022-06-19T13:24:00.275Z"
   },
   {
    "duration": 1282,
    "start_time": "2022-06-19T13:24:45.907Z"
   },
   {
    "duration": 1176,
    "start_time": "2022-06-19T13:25:07.680Z"
   },
   {
    "duration": 1154,
    "start_time": "2022-06-19T13:25:14.101Z"
   },
   {
    "duration": 1359,
    "start_time": "2022-06-19T13:26:32.267Z"
   },
   {
    "duration": 1317,
    "start_time": "2022-06-19T13:26:48.096Z"
   },
   {
    "duration": 64,
    "start_time": "2022-06-19T19:51:52.626Z"
   },
   {
    "duration": 1261,
    "start_time": "2022-06-19T19:51:57.614Z"
   },
   {
    "duration": 149,
    "start_time": "2022-06-19T19:51:58.877Z"
   },
   {
    "duration": 5,
    "start_time": "2022-06-19T19:51:59.028Z"
   },
   {
    "duration": 20,
    "start_time": "2022-06-19T19:51:59.036Z"
   },
   {
    "duration": 19,
    "start_time": "2022-06-19T19:51:59.058Z"
   },
   {
    "duration": 53,
    "start_time": "2022-06-19T19:51:59.078Z"
   },
   {
    "duration": 28,
    "start_time": "2022-06-19T19:51:59.132Z"
   },
   {
    "duration": 21,
    "start_time": "2022-06-19T19:51:59.162Z"
   },
   {
    "duration": 2,
    "start_time": "2022-06-19T19:51:59.184Z"
   },
   {
    "duration": 35,
    "start_time": "2022-06-19T19:51:59.188Z"
   },
   {
    "duration": 16,
    "start_time": "2022-06-19T19:51:59.225Z"
   },
   {
    "duration": 23,
    "start_time": "2022-06-19T19:51:59.243Z"
   },
   {
    "duration": 9,
    "start_time": "2022-06-19T19:51:59.268Z"
   },
   {
    "duration": 1084,
    "start_time": "2022-06-19T19:51:59.279Z"
   },
   {
    "duration": 31,
    "start_time": "2022-06-19T19:52:00.364Z"
   },
   {
    "duration": 87,
    "start_time": "2022-06-19T19:58:42.805Z"
   },
   {
    "duration": 18,
    "start_time": "2022-06-19T19:58:47.025Z"
   },
   {
    "duration": 337,
    "start_time": "2022-06-19T19:58:50.140Z"
   },
   {
    "duration": 29,
    "start_time": "2022-06-19T20:00:36.244Z"
   },
   {
    "duration": 15,
    "start_time": "2022-06-19T20:01:16.667Z"
   },
   {
    "duration": 20,
    "start_time": "2022-06-19T20:01:27.787Z"
   },
   {
    "duration": 338,
    "start_time": "2022-06-19T20:01:31.915Z"
   },
   {
    "duration": 6,
    "start_time": "2022-06-19T20:01:47.990Z"
   },
   {
    "duration": 17,
    "start_time": "2022-06-19T20:02:02.456Z"
   },
   {
    "duration": 22,
    "start_time": "2022-06-19T20:05:06.327Z"
   },
   {
    "duration": 15,
    "start_time": "2022-06-19T20:05:54.615Z"
   },
   {
    "duration": 18,
    "start_time": "2022-06-19T20:06:44.068Z"
   },
   {
    "duration": 36,
    "start_time": "2022-06-19T20:06:51.782Z"
   },
   {
    "duration": 419,
    "start_time": "2022-06-19T20:07:27.207Z"
   },
   {
    "duration": 11,
    "start_time": "2022-06-19T20:07:40.233Z"
   },
   {
    "duration": 415,
    "start_time": "2022-06-19T20:11:40.850Z"
   },
   {
    "duration": 31,
    "start_time": "2022-06-19T20:12:07.507Z"
   },
   {
    "duration": 512,
    "start_time": "2022-06-19T20:13:03.890Z"
   },
   {
    "duration": 129,
    "start_time": "2022-06-19T20:13:24.916Z"
   },
   {
    "duration": 121,
    "start_time": "2022-06-19T20:14:38.778Z"
   },
   {
    "duration": 204,
    "start_time": "2022-06-19T20:15:18.265Z"
   },
   {
    "duration": 1135,
    "start_time": "2022-06-19T20:15:27.093Z"
   },
   {
    "duration": 86,
    "start_time": "2022-06-19T20:15:28.230Z"
   },
   {
    "duration": 7,
    "start_time": "2022-06-19T20:15:28.318Z"
   },
   {
    "duration": 28,
    "start_time": "2022-06-19T20:15:28.327Z"
   },
   {
    "duration": 28,
    "start_time": "2022-06-19T20:15:28.357Z"
   },
   {
    "duration": 45,
    "start_time": "2022-06-19T20:15:28.388Z"
   },
   {
    "duration": 33,
    "start_time": "2022-06-19T20:15:28.435Z"
   },
   {
    "duration": 27,
    "start_time": "2022-06-19T20:15:28.469Z"
   },
   {
    "duration": 34,
    "start_time": "2022-06-19T20:15:28.498Z"
   },
   {
    "duration": 9,
    "start_time": "2022-06-19T20:15:28.534Z"
   },
   {
    "duration": 28,
    "start_time": "2022-06-19T20:15:28.544Z"
   },
   {
    "duration": 24,
    "start_time": "2022-06-19T20:15:28.575Z"
   },
   {
    "duration": 29,
    "start_time": "2022-06-19T20:15:28.601Z"
   },
   {
    "duration": 1342,
    "start_time": "2022-06-19T20:15:28.634Z"
   },
   {
    "duration": 22,
    "start_time": "2022-06-19T20:15:29.978Z"
   },
   {
    "duration": 42,
    "start_time": "2022-06-19T20:15:30.003Z"
   },
   {
    "duration": 246,
    "start_time": "2022-06-19T20:15:30.047Z"
   },
   {
    "duration": 176,
    "start_time": "2022-06-19T20:16:08.075Z"
   },
   {
    "duration": 137,
    "start_time": "2022-06-19T20:16:41.053Z"
   },
   {
    "duration": 121,
    "start_time": "2022-06-19T20:16:54.740Z"
   },
   {
    "duration": 14,
    "start_time": "2022-06-19T20:16:59.495Z"
   },
   {
    "duration": 115,
    "start_time": "2022-06-19T20:17:05.082Z"
   },
   {
    "duration": 271,
    "start_time": "2022-06-19T20:19:37.942Z"
   },
   {
    "duration": 398,
    "start_time": "2022-06-19T20:19:57.457Z"
   },
   {
    "duration": 15,
    "start_time": "2022-06-19T20:20:17.796Z"
   },
   {
    "duration": 113,
    "start_time": "2022-06-19T20:23:08.270Z"
   },
   {
    "duration": 131,
    "start_time": "2022-06-19T20:23:28.429Z"
   },
   {
    "duration": 141,
    "start_time": "2022-06-19T20:23:57.920Z"
   },
   {
    "duration": 115,
    "start_time": "2022-06-19T20:24:13.654Z"
   },
   {
    "duration": 125,
    "start_time": "2022-06-19T20:24:21.603Z"
   },
   {
    "duration": 27,
    "start_time": "2022-06-19T20:24:59.735Z"
   },
   {
    "duration": 25,
    "start_time": "2022-06-19T20:30:09.979Z"
   },
   {
    "duration": 161,
    "start_time": "2022-06-19T20:30:19.980Z"
   },
   {
    "duration": 39,
    "start_time": "2022-06-19T20:30:32.221Z"
   },
   {
    "duration": 22,
    "start_time": "2022-06-19T20:32:42.920Z"
   },
   {
    "duration": 428,
    "start_time": "2022-06-19T20:33:03.271Z"
   },
   {
    "duration": 51,
    "start_time": "2022-06-19T20:40:09.331Z"
   },
   {
    "duration": 146,
    "start_time": "2022-06-19T20:42:01.137Z"
   },
   {
    "duration": 123,
    "start_time": "2022-06-19T20:42:17.577Z"
   },
   {
    "duration": 501,
    "start_time": "2022-06-19T20:42:30.403Z"
   },
   {
    "duration": 244,
    "start_time": "2022-06-19T20:42:57.738Z"
   },
   {
    "duration": 204,
    "start_time": "2022-06-19T20:43:33.584Z"
   },
   {
    "duration": 244,
    "start_time": "2022-06-19T20:44:28.154Z"
   },
   {
    "duration": 217,
    "start_time": "2022-06-19T20:45:29.479Z"
   },
   {
    "duration": 238,
    "start_time": "2022-06-19T20:45:39.888Z"
   },
   {
    "duration": 356,
    "start_time": "2022-06-19T20:45:51.918Z"
   },
   {
    "duration": 258,
    "start_time": "2022-06-19T20:46:09.335Z"
   },
   {
    "duration": 223,
    "start_time": "2022-06-19T20:46:19.719Z"
   },
   {
    "duration": 1170,
    "start_time": "2022-06-19T20:48:16.254Z"
   },
   {
    "duration": 78,
    "start_time": "2022-06-19T20:48:17.427Z"
   },
   {
    "duration": 8,
    "start_time": "2022-06-19T20:48:17.507Z"
   },
   {
    "duration": 26,
    "start_time": "2022-06-19T20:48:17.518Z"
   },
   {
    "duration": 27,
    "start_time": "2022-06-19T20:48:17.546Z"
   },
   {
    "duration": 60,
    "start_time": "2022-06-19T20:48:17.575Z"
   },
   {
    "duration": 24,
    "start_time": "2022-06-19T20:48:17.637Z"
   },
   {
    "duration": 25,
    "start_time": "2022-06-19T20:48:17.663Z"
   },
   {
    "duration": 4,
    "start_time": "2022-06-19T20:48:17.690Z"
   },
   {
    "duration": 8,
    "start_time": "2022-06-19T20:48:17.722Z"
   },
   {
    "duration": 37,
    "start_time": "2022-06-19T20:48:17.732Z"
   },
   {
    "duration": 19,
    "start_time": "2022-06-19T20:48:17.771Z"
   },
   {
    "duration": 11,
    "start_time": "2022-06-19T20:48:17.793Z"
   },
   {
    "duration": 1221,
    "start_time": "2022-06-19T20:48:17.824Z"
   },
   {
    "duration": 30,
    "start_time": "2022-06-19T20:48:19.047Z"
   },
   {
    "duration": 45,
    "start_time": "2022-06-19T20:48:19.079Z"
   },
   {
    "duration": 277,
    "start_time": "2022-06-19T20:48:19.127Z"
   },
   {
    "duration": 237,
    "start_time": "2022-06-19T20:52:09.830Z"
   },
   {
    "duration": 255,
    "start_time": "2022-06-19T20:53:10.113Z"
   },
   {
    "duration": 341,
    "start_time": "2022-06-19T20:53:19.058Z"
   },
   {
    "duration": 267,
    "start_time": "2022-06-19T20:53:42.716Z"
   },
   {
    "duration": 226,
    "start_time": "2022-06-19T20:53:56.067Z"
   },
   {
    "duration": 213,
    "start_time": "2022-06-19T20:54:01.952Z"
   },
   {
    "duration": 227,
    "start_time": "2022-06-19T20:54:26.373Z"
   },
   {
    "duration": 360,
    "start_time": "2022-06-19T20:54:34.277Z"
   },
   {
    "duration": 19,
    "start_time": "2022-06-19T20:54:43.750Z"
   },
   {
    "duration": 242,
    "start_time": "2022-06-19T20:54:50.512Z"
   },
   {
    "duration": 35,
    "start_time": "2022-06-19T20:58:45.003Z"
   },
   {
    "duration": 34,
    "start_time": "2022-06-19T21:00:01.075Z"
   },
   {
    "duration": 28,
    "start_time": "2022-06-19T21:00:12.296Z"
   },
   {
    "duration": 8,
    "start_time": "2022-06-19T21:00:21.919Z"
   },
   {
    "duration": 9,
    "start_time": "2022-06-19T21:00:31.621Z"
   },
   {
    "duration": 25,
    "start_time": "2022-06-19T21:00:37.697Z"
   },
   {
    "duration": 11,
    "start_time": "2022-06-19T21:00:57.086Z"
   },
   {
    "duration": 12,
    "start_time": "2022-06-19T21:01:17.560Z"
   },
   {
    "duration": 11,
    "start_time": "2022-06-19T21:01:44.519Z"
   },
   {
    "duration": 11,
    "start_time": "2022-06-19T21:01:52.189Z"
   },
   {
    "duration": 11,
    "start_time": "2022-06-19T21:02:10.999Z"
   },
   {
    "duration": 10,
    "start_time": "2022-06-19T21:02:17.987Z"
   },
   {
    "duration": 16,
    "start_time": "2022-06-19T21:03:44.256Z"
   },
   {
    "duration": 296,
    "start_time": "2022-06-19T21:03:54.651Z"
   },
   {
    "duration": 335,
    "start_time": "2022-06-19T21:04:05.607Z"
   },
   {
    "duration": 119,
    "start_time": "2022-06-19T21:06:28.193Z"
   },
   {
    "duration": 28,
    "start_time": "2022-06-19T21:07:40.245Z"
   },
   {
    "duration": 225,
    "start_time": "2022-06-19T21:07:57.500Z"
   },
   {
    "duration": 121,
    "start_time": "2022-06-19T21:08:05.171Z"
   },
   {
    "duration": 146,
    "start_time": "2022-06-19T21:08:23.710Z"
   },
   {
    "duration": 213,
    "start_time": "2022-06-19T21:09:12.946Z"
   },
   {
    "duration": 124,
    "start_time": "2022-06-19T21:09:36.437Z"
   },
   {
    "duration": 9558,
    "start_time": "2022-06-19T21:10:45.061Z"
   },
   {
    "duration": 146,
    "start_time": "2022-06-19T21:11:06.437Z"
   },
   {
    "duration": 205,
    "start_time": "2022-06-19T21:11:25.501Z"
   },
   {
    "duration": 15,
    "start_time": "2022-06-19T21:11:43.601Z"
   },
   {
    "duration": 94,
    "start_time": "2022-06-19T21:12:07.827Z"
   },
   {
    "duration": 21,
    "start_time": "2022-06-19T21:13:09.640Z"
   },
   {
    "duration": 889,
    "start_time": "2022-06-19T21:13:13.413Z"
   },
   {
    "duration": 18,
    "start_time": "2022-06-19T21:14:05.966Z"
   },
   {
    "duration": 941,
    "start_time": "2022-06-19T21:14:49.015Z"
   },
   {
    "duration": 20,
    "start_time": "2022-06-19T21:20:31.446Z"
   },
   {
    "duration": 30,
    "start_time": "2022-06-19T21:20:41.420Z"
   },
   {
    "duration": 25,
    "start_time": "2022-06-19T21:24:08.858Z"
   },
   {
    "duration": 25,
    "start_time": "2022-06-19T21:25:05.509Z"
   },
   {
    "duration": 31,
    "start_time": "2022-06-19T21:29:19.482Z"
   },
   {
    "duration": 25,
    "start_time": "2022-06-19T21:32:26.536Z"
   },
   {
    "duration": 23,
    "start_time": "2022-06-19T21:32:56.800Z"
   },
   {
    "duration": 27,
    "start_time": "2022-06-19T21:34:17.978Z"
   },
   {
    "duration": 210,
    "start_time": "2022-06-19T21:34:45.761Z"
   },
   {
    "duration": 173,
    "start_time": "2022-06-19T21:35:01.174Z"
   },
   {
    "duration": 349,
    "start_time": "2022-06-19T21:35:21.087Z"
   },
   {
    "duration": 169,
    "start_time": "2022-06-19T21:35:39.822Z"
   },
   {
    "duration": 10,
    "start_time": "2022-06-19T21:37:37.854Z"
   },
   {
    "duration": 14,
    "start_time": "2022-06-19T21:43:24.587Z"
   },
   {
    "duration": 25,
    "start_time": "2022-06-19T21:44:47.127Z"
   },
   {
    "duration": 19,
    "start_time": "2022-06-19T21:45:28.990Z"
   },
   {
    "duration": 21,
    "start_time": "2022-06-19T21:46:29.611Z"
   },
   {
    "duration": 9,
    "start_time": "2022-06-19T21:47:10.393Z"
   },
   {
    "duration": 27,
    "start_time": "2022-06-19T21:47:30.387Z"
   },
   {
    "duration": 14,
    "start_time": "2022-06-19T21:47:34.298Z"
   },
   {
    "duration": 14,
    "start_time": "2022-06-19T21:49:10.424Z"
   },
   {
    "duration": 11,
    "start_time": "2022-06-19T21:50:11.661Z"
   },
   {
    "duration": 11,
    "start_time": "2022-06-19T21:50:57.281Z"
   },
   {
    "duration": 28,
    "start_time": "2022-06-19T21:51:04.167Z"
   },
   {
    "duration": 1172,
    "start_time": "2022-06-19T21:51:21.539Z"
   },
   {
    "duration": 79,
    "start_time": "2022-06-19T21:51:22.713Z"
   },
   {
    "duration": 5,
    "start_time": "2022-06-19T21:51:22.794Z"
   },
   {
    "duration": 19,
    "start_time": "2022-06-19T21:51:22.801Z"
   },
   {
    "duration": 20,
    "start_time": "2022-06-19T21:51:22.822Z"
   },
   {
    "duration": 25,
    "start_time": "2022-06-19T21:51:22.844Z"
   },
   {
    "duration": 20,
    "start_time": "2022-06-19T21:51:22.871Z"
   },
   {
    "duration": 23,
    "start_time": "2022-06-19T21:51:22.924Z"
   },
   {
    "duration": 119,
    "start_time": "2022-06-19T21:51:22.949Z"
   },
   {
    "duration": 0,
    "start_time": "2022-06-19T21:51:23.070Z"
   },
   {
    "duration": 0,
    "start_time": "2022-06-19T21:51:23.071Z"
   },
   {
    "duration": 0,
    "start_time": "2022-06-19T21:51:23.072Z"
   },
   {
    "duration": 0,
    "start_time": "2022-06-19T21:51:23.074Z"
   },
   {
    "duration": 0,
    "start_time": "2022-06-19T21:51:23.077Z"
   },
   {
    "duration": 0,
    "start_time": "2022-06-19T21:51:23.079Z"
   },
   {
    "duration": 0,
    "start_time": "2022-06-19T21:51:23.080Z"
   },
   {
    "duration": 0,
    "start_time": "2022-06-19T21:51:23.082Z"
   },
   {
    "duration": 0,
    "start_time": "2022-06-19T21:51:23.083Z"
   },
   {
    "duration": 0,
    "start_time": "2022-06-19T21:51:23.085Z"
   },
   {
    "duration": 0,
    "start_time": "2022-06-19T21:51:23.087Z"
   },
   {
    "duration": 0,
    "start_time": "2022-06-19T21:51:23.088Z"
   },
   {
    "duration": 0,
    "start_time": "2022-06-19T21:51:23.123Z"
   },
   {
    "duration": 25,
    "start_time": "2022-06-19T21:52:07.914Z"
   },
   {
    "duration": 18,
    "start_time": "2022-06-19T21:53:22.938Z"
   },
   {
    "duration": 22,
    "start_time": "2022-06-19T21:53:47.813Z"
   },
   {
    "duration": 10,
    "start_time": "2022-06-19T21:56:27.194Z"
   },
   {
    "duration": 8,
    "start_time": "2022-06-19T21:56:38.266Z"
   },
   {
    "duration": 28,
    "start_time": "2022-06-19T21:56:48.788Z"
   },
   {
    "duration": 76,
    "start_time": "2022-06-19T21:58:29.612Z"
   },
   {
    "duration": 18,
    "start_time": "2022-06-19T21:58:41.044Z"
   },
   {
    "duration": 28,
    "start_time": "2022-06-19T21:59:07.005Z"
   },
   {
    "duration": 19,
    "start_time": "2022-06-19T21:59:41.017Z"
   },
   {
    "duration": 21,
    "start_time": "2022-06-19T21:59:59.418Z"
   },
   {
    "duration": 24,
    "start_time": "2022-06-19T22:00:11.583Z"
   },
   {
    "duration": 27,
    "start_time": "2022-06-19T22:00:30.381Z"
   },
   {
    "duration": 14,
    "start_time": "2022-06-19T22:00:41.416Z"
   },
   {
    "duration": 28,
    "start_time": "2022-06-19T22:00:54.649Z"
   },
   {
    "duration": 19,
    "start_time": "2022-06-19T22:01:22.740Z"
   },
   {
    "duration": 29,
    "start_time": "2022-06-19T22:04:36.457Z"
   },
   {
    "duration": 24,
    "start_time": "2022-06-19T22:05:58.778Z"
   },
   {
    "duration": 8,
    "start_time": "2022-06-19T22:06:02.903Z"
   },
   {
    "duration": 3,
    "start_time": "2022-06-19T22:06:21.367Z"
   },
   {
    "duration": 7,
    "start_time": "2022-06-19T22:06:28.488Z"
   },
   {
    "duration": 134,
    "start_time": "2022-06-19T22:06:49.705Z"
   },
   {
    "duration": 10,
    "start_time": "2022-06-19T22:07:10.993Z"
   },
   {
    "duration": 10,
    "start_time": "2022-06-19T22:07:29.039Z"
   },
   {
    "duration": 30,
    "start_time": "2022-06-19T22:08:07.417Z"
   },
   {
    "duration": 25,
    "start_time": "2022-06-19T22:08:14.337Z"
   },
   {
    "duration": 24,
    "start_time": "2022-06-19T22:08:18.573Z"
   },
   {
    "duration": 32,
    "start_time": "2022-06-19T22:08:33.708Z"
   },
   {
    "duration": 20,
    "start_time": "2022-06-19T22:08:53.777Z"
   },
   {
    "duration": 20,
    "start_time": "2022-06-19T22:09:11.449Z"
   },
   {
    "duration": 10,
    "start_time": "2022-06-19T22:09:51.555Z"
   },
   {
    "duration": 13,
    "start_time": "2022-06-19T22:10:15.836Z"
   },
   {
    "duration": 11,
    "start_time": "2022-06-19T22:10:31.340Z"
   },
   {
    "duration": 3,
    "start_time": "2022-06-19T22:10:49.044Z"
   },
   {
    "duration": 91,
    "start_time": "2022-06-19T22:10:49.048Z"
   },
   {
    "duration": 5,
    "start_time": "2022-06-19T22:10:49.141Z"
   },
   {
    "duration": 18,
    "start_time": "2022-06-19T22:10:49.147Z"
   },
   {
    "duration": 16,
    "start_time": "2022-06-19T22:10:49.167Z"
   },
   {
    "duration": 49,
    "start_time": "2022-06-19T22:10:49.184Z"
   },
   {
    "duration": 35,
    "start_time": "2022-06-19T22:10:49.239Z"
   },
   {
    "duration": 24,
    "start_time": "2022-06-19T22:10:49.276Z"
   },
   {
    "duration": 17,
    "start_time": "2022-06-19T22:10:58.413Z"
   },
   {
    "duration": 24,
    "start_time": "2022-06-19T22:11:05.937Z"
   },
   {
    "duration": 31,
    "start_time": "2022-06-19T22:11:14.307Z"
   },
   {
    "duration": 20,
    "start_time": "2022-06-19T22:11:20.643Z"
   },
   {
    "duration": 59,
    "start_time": "2022-06-19T22:16:50.850Z"
   },
   {
    "duration": 10,
    "start_time": "2022-06-19T22:17:39.581Z"
   },
   {
    "duration": 10,
    "start_time": "2022-06-19T22:17:48.299Z"
   },
   {
    "duration": 980,
    "start_time": "2022-06-19T22:18:27.200Z"
   },
   {
    "duration": 85,
    "start_time": "2022-06-19T22:18:28.182Z"
   },
   {
    "duration": 5,
    "start_time": "2022-06-19T22:18:28.268Z"
   },
   {
    "duration": 18,
    "start_time": "2022-06-19T22:18:28.275Z"
   },
   {
    "duration": 48,
    "start_time": "2022-06-19T22:18:28.295Z"
   },
   {
    "duration": 26,
    "start_time": "2022-06-19T22:18:28.346Z"
   },
   {
    "duration": 18,
    "start_time": "2022-06-19T22:18:28.373Z"
   },
   {
    "duration": 47,
    "start_time": "2022-06-19T22:18:28.393Z"
   },
   {
    "duration": 17,
    "start_time": "2022-06-19T22:18:28.441Z"
   },
   {
    "duration": 9,
    "start_time": "2022-06-19T22:18:28.460Z"
   },
   {
    "duration": 26,
    "start_time": "2022-06-19T22:18:28.470Z"
   },
   {
    "duration": 29,
    "start_time": "2022-06-19T22:18:28.498Z"
   },
   {
    "duration": 24,
    "start_time": "2022-06-19T22:18:28.536Z"
   },
   {
    "duration": 1089,
    "start_time": "2022-06-19T22:18:28.562Z"
   },
   {
    "duration": 19,
    "start_time": "2022-06-19T22:18:29.653Z"
   },
   {
    "duration": 26,
    "start_time": "2022-06-19T22:18:29.674Z"
   },
   {
    "duration": 237,
    "start_time": "2022-06-19T22:18:29.702Z"
   },
   {
    "duration": 146,
    "start_time": "2022-06-19T22:18:29.941Z"
   },
   {
    "duration": 115,
    "start_time": "2022-06-19T22:18:30.089Z"
   },
   {
    "duration": 0,
    "start_time": "2022-06-19T22:18:30.206Z"
   },
   {
    "duration": 0,
    "start_time": "2022-06-19T22:18:30.208Z"
   },
   {
    "duration": 0,
    "start_time": "2022-06-19T22:18:30.209Z"
   },
   {
    "duration": 12,
    "start_time": "2022-06-19T22:18:41.567Z"
   },
   {
    "duration": 26,
    "start_time": "2022-06-19T22:18:47.533Z"
   },
   {
    "duration": 9,
    "start_time": "2022-06-19T22:18:55.957Z"
   },
   {
    "duration": 20,
    "start_time": "2022-06-19T22:20:42.988Z"
   },
   {
    "duration": 119,
    "start_time": "2022-06-19T22:21:11.792Z"
   },
   {
    "duration": 935,
    "start_time": "2022-06-19T22:21:30.436Z"
   },
   {
    "duration": 1274,
    "start_time": "2022-06-20T19:00:39.927Z"
   },
   {
    "duration": 118,
    "start_time": "2022-06-20T19:00:41.203Z"
   },
   {
    "duration": 5,
    "start_time": "2022-06-20T19:00:41.322Z"
   },
   {
    "duration": 19,
    "start_time": "2022-06-20T19:00:41.328Z"
   },
   {
    "duration": 18,
    "start_time": "2022-06-20T19:00:41.349Z"
   },
   {
    "duration": 35,
    "start_time": "2022-06-20T19:00:41.369Z"
   },
   {
    "duration": 20,
    "start_time": "2022-06-20T19:00:41.405Z"
   },
   {
    "duration": 41,
    "start_time": "2022-06-20T19:00:41.427Z"
   },
   {
    "duration": 25,
    "start_time": "2022-06-20T19:00:41.470Z"
   },
   {
    "duration": 5,
    "start_time": "2022-06-20T19:00:41.496Z"
   },
   {
    "duration": 17,
    "start_time": "2022-06-20T19:00:41.503Z"
   },
   {
    "duration": 38,
    "start_time": "2022-06-20T19:00:41.521Z"
   },
   {
    "duration": 7,
    "start_time": "2022-06-20T19:00:41.561Z"
   },
   {
    "duration": 1054,
    "start_time": "2022-06-20T19:00:41.570Z"
   },
   {
    "duration": 19,
    "start_time": "2022-06-20T19:00:42.626Z"
   },
   {
    "duration": 27,
    "start_time": "2022-06-20T19:00:42.647Z"
   },
   {
    "duration": 215,
    "start_time": "2022-06-20T19:00:42.676Z"
   },
   {
    "duration": 136,
    "start_time": "2022-06-20T19:00:42.893Z"
   },
   {
    "duration": 128,
    "start_time": "2022-06-20T19:00:43.031Z"
   },
   {
    "duration": 22,
    "start_time": "2022-06-20T19:00:43.160Z"
   },
   {
    "duration": 23,
    "start_time": "2022-06-20T19:00:43.184Z"
   },
   {
    "duration": 189,
    "start_time": "2022-06-20T19:00:43.209Z"
   },
   {
    "duration": 1106,
    "start_time": "2022-06-20T20:22:44.388Z"
   },
   {
    "duration": 76,
    "start_time": "2022-06-20T20:22:45.495Z"
   },
   {
    "duration": 4,
    "start_time": "2022-06-20T20:22:45.573Z"
   },
   {
    "duration": 17,
    "start_time": "2022-06-20T20:22:45.579Z"
   },
   {
    "duration": 17,
    "start_time": "2022-06-20T20:22:45.598Z"
   },
   {
    "duration": 57,
    "start_time": "2022-06-20T20:22:45.617Z"
   },
   {
    "duration": 25,
    "start_time": "2022-06-20T20:22:45.676Z"
   },
   {
    "duration": 32,
    "start_time": "2022-06-20T20:22:45.703Z"
   },
   {
    "duration": 27,
    "start_time": "2022-06-20T20:22:45.758Z"
   },
   {
    "duration": 7,
    "start_time": "2022-06-20T20:22:45.788Z"
   },
   {
    "duration": 21,
    "start_time": "2022-06-20T20:22:45.796Z"
   },
   {
    "duration": 43,
    "start_time": "2022-06-20T20:22:45.818Z"
   },
   {
    "duration": 7,
    "start_time": "2022-06-20T20:22:45.862Z"
   },
   {
    "duration": 1028,
    "start_time": "2022-06-20T20:22:45.871Z"
   },
   {
    "duration": 26,
    "start_time": "2022-06-20T20:22:46.901Z"
   },
   {
    "duration": 34,
    "start_time": "2022-06-20T20:22:46.930Z"
   },
   {
    "duration": 197,
    "start_time": "2022-06-20T20:22:46.965Z"
   },
   {
    "duration": 129,
    "start_time": "2022-06-20T20:22:47.164Z"
   },
   {
    "duration": 146,
    "start_time": "2022-06-20T20:22:47.295Z"
   },
   {
    "duration": 34,
    "start_time": "2022-06-20T20:22:47.443Z"
   },
   {
    "duration": 26,
    "start_time": "2022-06-20T20:22:47.479Z"
   },
   {
    "duration": 192,
    "start_time": "2022-06-20T20:22:47.507Z"
   },
   {
    "duration": 173,
    "start_time": "2022-06-20T20:27:27.520Z"
   },
   {
    "duration": 116,
    "start_time": "2022-06-20T20:28:12.855Z"
   },
   {
    "duration": 10,
    "start_time": "2022-06-20T20:33:38.332Z"
   },
   {
    "duration": 14,
    "start_time": "2022-06-20T20:35:39.358Z"
   },
   {
    "duration": 194,
    "start_time": "2022-06-20T20:36:02.675Z"
   },
   {
    "duration": 407,
    "start_time": "2022-06-20T20:36:28.448Z"
   },
   {
    "duration": 741,
    "start_time": "2022-06-20T20:37:56.094Z"
   },
   {
    "duration": 636,
    "start_time": "2022-06-20T20:38:09.252Z"
   },
   {
    "duration": 578,
    "start_time": "2022-06-20T20:39:49.468Z"
   },
   {
    "duration": 668,
    "start_time": "2022-06-20T20:43:04.519Z"
   },
   {
    "duration": 674,
    "start_time": "2022-06-20T20:43:21.298Z"
   },
   {
    "duration": 542,
    "start_time": "2022-06-20T20:44:59.772Z"
   },
   {
    "duration": 621,
    "start_time": "2022-06-20T20:45:43.403Z"
   },
   {
    "duration": 15,
    "start_time": "2022-06-20T20:49:55.914Z"
   },
   {
    "duration": 14,
    "start_time": "2022-06-20T20:50:24.366Z"
   },
   {
    "duration": 151,
    "start_time": "2022-06-20T20:51:40.187Z"
   },
   {
    "duration": 0,
    "start_time": "2022-06-20T20:54:22.211Z"
   },
   {
    "duration": 168,
    "start_time": "2022-06-20T20:55:34.977Z"
   },
   {
    "duration": 157,
    "start_time": "2022-06-20T20:55:48.683Z"
   },
   {
    "duration": 166,
    "start_time": "2022-06-20T20:58:58.772Z"
   },
   {
    "duration": 49,
    "start_time": "2022-06-20T21:02:17.712Z"
   },
   {
    "duration": 160,
    "start_time": "2022-06-20T21:02:22.877Z"
   },
   {
    "duration": 141,
    "start_time": "2022-06-20T21:02:41.730Z"
   },
   {
    "duration": 199,
    "start_time": "2022-06-20T21:03:27.400Z"
   },
   {
    "duration": 49,
    "start_time": "2022-06-20T21:19:59.594Z"
   },
   {
    "duration": 165,
    "start_time": "2022-06-20T21:21:13.803Z"
   },
   {
    "duration": 314,
    "start_time": "2022-06-20T21:22:06.784Z"
   },
   {
    "duration": 421,
    "start_time": "2022-06-20T21:22:43.752Z"
   },
   {
    "duration": 506,
    "start_time": "2022-06-20T21:24:37.137Z"
   },
   {
    "duration": 965,
    "start_time": "2022-06-20T21:30:12.459Z"
   },
   {
    "duration": 508,
    "start_time": "2022-06-20T21:30:29.424Z"
   },
   {
    "duration": 534,
    "start_time": "2022-06-20T21:30:54.356Z"
   },
   {
    "duration": 523,
    "start_time": "2022-06-20T21:31:17.740Z"
   },
   {
    "duration": 556,
    "start_time": "2022-06-20T21:32:17.449Z"
   },
   {
    "duration": 571,
    "start_time": "2022-06-20T21:33:35.764Z"
   },
   {
    "duration": 579,
    "start_time": "2022-06-20T21:33:39.222Z"
   },
   {
    "duration": 545,
    "start_time": "2022-06-20T21:34:21.950Z"
   },
   {
    "duration": 687,
    "start_time": "2022-06-20T21:38:15.565Z"
   },
   {
    "duration": 10,
    "start_time": "2022-06-20T21:45:00.822Z"
   },
   {
    "duration": 10,
    "start_time": "2022-06-20T21:46:17.134Z"
   },
   {
    "duration": 10,
    "start_time": "2022-06-20T21:47:17.674Z"
   },
   {
    "duration": 10,
    "start_time": "2022-06-20T21:49:15.822Z"
   },
   {
    "duration": 13,
    "start_time": "2022-06-20T21:49:31.523Z"
   },
   {
    "duration": 11,
    "start_time": "2022-06-20T21:50:02.201Z"
   },
   {
    "duration": 11,
    "start_time": "2022-06-20T21:52:50.990Z"
   },
   {
    "duration": 11,
    "start_time": "2022-06-20T21:52:55.539Z"
   },
   {
    "duration": 10,
    "start_time": "2022-06-20T21:55:48.374Z"
   },
   {
    "duration": 12,
    "start_time": "2022-06-20T22:05:10.582Z"
   },
   {
    "duration": 11,
    "start_time": "2022-06-20T22:05:20.362Z"
   },
   {
    "duration": 14,
    "start_time": "2022-06-20T22:13:25.180Z"
   },
   {
    "duration": 13,
    "start_time": "2022-06-20T22:13:33.718Z"
   },
   {
    "duration": 12,
    "start_time": "2022-06-20T22:13:40.913Z"
   },
   {
    "duration": 13,
    "start_time": "2022-06-20T22:18:53.772Z"
   },
   {
    "duration": 11,
    "start_time": "2022-06-20T22:19:38.793Z"
   },
   {
    "duration": 5,
    "start_time": "2022-06-20T22:19:54.303Z"
   },
   {
    "duration": 4,
    "start_time": "2022-06-20T22:25:17.022Z"
   },
   {
    "duration": 1321,
    "start_time": "2022-06-21T08:30:13.781Z"
   },
   {
    "duration": 136,
    "start_time": "2022-06-21T08:30:15.104Z"
   },
   {
    "duration": 5,
    "start_time": "2022-06-21T08:30:15.242Z"
   },
   {
    "duration": 24,
    "start_time": "2022-06-21T08:30:15.249Z"
   },
   {
    "duration": 19,
    "start_time": "2022-06-21T08:30:15.274Z"
   },
   {
    "duration": 58,
    "start_time": "2022-06-21T08:30:15.294Z"
   },
   {
    "duration": 21,
    "start_time": "2022-06-21T08:30:15.353Z"
   },
   {
    "duration": 25,
    "start_time": "2022-06-21T08:30:15.376Z"
   },
   {
    "duration": 44,
    "start_time": "2022-06-21T08:30:15.403Z"
   },
   {
    "duration": 7,
    "start_time": "2022-06-21T08:30:15.450Z"
   },
   {
    "duration": 16,
    "start_time": "2022-06-21T08:30:15.459Z"
   },
   {
    "duration": 20,
    "start_time": "2022-06-21T08:30:15.476Z"
   },
   {
    "duration": 33,
    "start_time": "2022-06-21T08:30:15.497Z"
   },
   {
    "duration": 1166,
    "start_time": "2022-06-21T08:30:15.531Z"
   },
   {
    "duration": 19,
    "start_time": "2022-06-21T08:30:16.699Z"
   },
   {
    "duration": 30,
    "start_time": "2022-06-21T08:30:16.720Z"
   },
   {
    "duration": 224,
    "start_time": "2022-06-21T08:30:16.752Z"
   },
   {
    "duration": 130,
    "start_time": "2022-06-21T08:30:16.978Z"
   },
   {
    "duration": 139,
    "start_time": "2022-06-21T08:30:17.110Z"
   },
   {
    "duration": 23,
    "start_time": "2022-06-21T08:30:17.251Z"
   },
   {
    "duration": 21,
    "start_time": "2022-06-21T08:30:17.276Z"
   },
   {
    "duration": 278,
    "start_time": "2022-06-21T08:30:17.299Z"
   },
   {
    "duration": 11,
    "start_time": "2022-06-21T08:30:17.579Z"
   },
   {
    "duration": 857,
    "start_time": "2022-06-21T08:30:17.592Z"
   },
   {
    "duration": 3,
    "start_time": "2022-06-21T08:30:18.450Z"
   },
   {
    "duration": 696,
    "start_time": "2022-06-21T08:30:18.455Z"
   },
   {
    "duration": 516,
    "start_time": "2022-06-21T08:30:19.153Z"
   },
   {
    "duration": 12,
    "start_time": "2022-06-21T08:30:19.673Z"
   },
   {
    "duration": 23,
    "start_time": "2022-06-21T08:30:19.686Z"
   },
   {
    "duration": 16,
    "start_time": "2022-06-21T08:30:19.711Z"
   },
   {
    "duration": 16,
    "start_time": "2022-06-21T08:37:22.196Z"
   },
   {
    "duration": 4,
    "start_time": "2022-06-21T08:37:40.409Z"
   },
   {
    "duration": 5,
    "start_time": "2022-06-21T08:37:44.286Z"
   },
   {
    "duration": 1371,
    "start_time": "2022-06-21T08:49:55.152Z"
   },
   {
    "duration": 28,
    "start_time": "2022-06-21T08:50:43.266Z"
   },
   {
    "duration": 37,
    "start_time": "2022-06-21T08:51:00.887Z"
   },
   {
    "duration": 218,
    "start_time": "2022-06-21T08:51:44.247Z"
   },
   {
    "duration": 202,
    "start_time": "2022-06-21T08:59:56.656Z"
   },
   {
    "duration": 188,
    "start_time": "2022-06-21T09:00:13.404Z"
   },
   {
    "duration": 1081,
    "start_time": "2022-06-21T09:01:33.290Z"
   },
   {
    "duration": 41,
    "start_time": "2022-06-21T09:01:38.124Z"
   },
   {
    "duration": 57,
    "start_time": "2022-06-21T09:01:52.679Z"
   },
   {
    "duration": 23,
    "start_time": "2022-06-21T09:02:01.678Z"
   },
   {
    "duration": 336,
    "start_time": "2022-06-21T09:02:05.271Z"
   },
   {
    "duration": 231,
    "start_time": "2022-06-21T09:20:56.010Z"
   },
   {
    "duration": 133,
    "start_time": "2022-06-21T09:21:06.575Z"
   },
   {
    "duration": 126,
    "start_time": "2022-06-21T09:21:13.354Z"
   },
   {
    "duration": 262,
    "start_time": "2022-06-21T09:21:28.514Z"
   },
   {
    "duration": 227,
    "start_time": "2022-06-21T09:21:41.675Z"
   },
   {
    "duration": 12,
    "start_time": "2022-06-21T09:22:04.553Z"
   },
   {
    "duration": 242,
    "start_time": "2022-06-21T09:22:34.500Z"
   },
   {
    "duration": 141,
    "start_time": "2022-06-21T09:22:54.012Z"
   },
   {
    "duration": 256,
    "start_time": "2022-06-21T09:23:37.003Z"
   },
   {
    "duration": 128,
    "start_time": "2022-06-21T09:25:57.452Z"
   },
   {
    "duration": 134,
    "start_time": "2022-06-21T09:26:02.397Z"
   },
   {
    "duration": 218,
    "start_time": "2022-06-21T09:26:59.198Z"
   },
   {
    "duration": 13,
    "start_time": "2022-06-21T09:27:03.261Z"
   },
   {
    "duration": 271,
    "start_time": "2022-06-21T09:27:10.887Z"
   },
   {
    "duration": 289,
    "start_time": "2022-06-21T09:27:35.824Z"
   },
   {
    "duration": 4,
    "start_time": "2022-06-21T09:28:48.568Z"
   },
   {
    "duration": 245,
    "start_time": "2022-06-21T09:28:55.963Z"
   },
   {
    "duration": 247,
    "start_time": "2022-06-21T09:29:57.786Z"
   },
   {
    "duration": 259,
    "start_time": "2022-06-21T09:30:05.848Z"
   },
   {
    "duration": 269,
    "start_time": "2022-06-21T09:33:33.823Z"
   },
   {
    "duration": 272,
    "start_time": "2022-06-21T09:36:27.503Z"
   },
   {
    "duration": 254,
    "start_time": "2022-06-21T09:36:57.158Z"
   },
   {
    "duration": 278,
    "start_time": "2022-06-21T09:37:02.111Z"
   },
   {
    "duration": 261,
    "start_time": "2022-06-21T09:37:25.593Z"
   },
   {
    "duration": 341,
    "start_time": "2022-06-21T09:37:47.149Z"
   },
   {
    "duration": 260,
    "start_time": "2022-06-21T09:37:59.554Z"
   },
   {
    "duration": 184,
    "start_time": "2022-06-21T09:42:47.106Z"
   },
   {
    "duration": 13,
    "start_time": "2022-06-21T09:56:34.656Z"
   },
   {
    "duration": 9,
    "start_time": "2022-06-21T09:58:13.910Z"
   },
   {
    "duration": 23,
    "start_time": "2022-06-21T09:58:30.008Z"
   },
   {
    "duration": 84,
    "start_time": "2022-06-21T09:58:50.281Z"
   },
   {
    "duration": 90,
    "start_time": "2022-06-21T09:59:05.269Z"
   },
   {
    "duration": 90,
    "start_time": "2022-06-21T09:59:55.484Z"
   },
   {
    "duration": 95,
    "start_time": "2022-06-21T10:00:14.481Z"
   },
   {
    "duration": 95,
    "start_time": "2022-06-21T10:00:21.745Z"
   },
   {
    "duration": 88,
    "start_time": "2022-06-21T10:01:54.040Z"
   },
   {
    "duration": 91,
    "start_time": "2022-06-21T10:02:09.393Z"
   },
   {
    "duration": 76,
    "start_time": "2022-06-21T10:02:25.237Z"
   },
   {
    "duration": 67,
    "start_time": "2022-06-21T10:02:36.541Z"
   },
   {
    "duration": 82,
    "start_time": "2022-06-21T10:02:45.802Z"
   },
   {
    "duration": 56,
    "start_time": "2022-06-21T10:07:52.114Z"
   },
   {
    "duration": 97,
    "start_time": "2022-06-21T10:07:59.641Z"
   },
   {
    "duration": 103,
    "start_time": "2022-06-21T10:13:11.194Z"
   },
   {
    "duration": 57,
    "start_time": "2022-06-21T10:13:25.042Z"
   },
   {
    "duration": 73,
    "start_time": "2022-06-21T10:13:33.196Z"
   },
   {
    "duration": 81,
    "start_time": "2022-06-21T10:15:30.537Z"
   },
   {
    "duration": 1180,
    "start_time": "2022-06-21T10:31:43.740Z"
   },
   {
    "duration": 86,
    "start_time": "2022-06-21T10:31:44.921Z"
   },
   {
    "duration": 4,
    "start_time": "2022-06-21T10:31:45.008Z"
   },
   {
    "duration": 57,
    "start_time": "2022-06-21T10:31:45.014Z"
   },
   {
    "duration": 39,
    "start_time": "2022-06-21T10:31:45.074Z"
   },
   {
    "duration": 41,
    "start_time": "2022-06-21T10:31:45.115Z"
   },
   {
    "duration": 29,
    "start_time": "2022-06-21T10:31:45.158Z"
   },
   {
    "duration": 6,
    "start_time": "2022-06-21T10:31:45.189Z"
   },
   {
    "duration": 33,
    "start_time": "2022-06-21T10:31:45.197Z"
   },
   {
    "duration": 44,
    "start_time": "2022-06-21T10:31:45.231Z"
   },
   {
    "duration": 15,
    "start_time": "2022-06-21T10:31:45.277Z"
   },
   {
    "duration": 18,
    "start_time": "2022-06-21T10:31:45.294Z"
   },
   {
    "duration": 6,
    "start_time": "2022-06-21T10:31:45.313Z"
   },
   {
    "duration": 1117,
    "start_time": "2022-06-21T10:31:45.322Z"
   },
   {
    "duration": 40,
    "start_time": "2022-06-21T10:31:46.441Z"
   },
   {
    "duration": 21,
    "start_time": "2022-06-21T10:31:46.483Z"
   },
   {
    "duration": 248,
    "start_time": "2022-06-21T10:31:46.506Z"
   },
   {
    "duration": 225,
    "start_time": "2022-06-21T10:31:46.756Z"
   },
   {
    "duration": 159,
    "start_time": "2022-06-21T10:31:46.982Z"
   },
   {
    "duration": 140,
    "start_time": "2022-06-21T10:31:47.144Z"
   },
   {
    "duration": 69,
    "start_time": "2022-06-21T10:31:47.286Z"
   },
   {
    "duration": 114,
    "start_time": "2022-06-21T10:31:47.357Z"
   },
   {
    "duration": 21,
    "start_time": "2022-06-21T10:31:47.472Z"
   },
   {
    "duration": 187,
    "start_time": "2022-06-21T10:31:47.494Z"
   },
   {
    "duration": 11,
    "start_time": "2022-06-21T10:31:47.683Z"
   },
   {
    "duration": 854,
    "start_time": "2022-06-21T10:31:47.695Z"
   },
   {
    "duration": 3,
    "start_time": "2022-06-21T10:31:48.551Z"
   },
   {
    "duration": 679,
    "start_time": "2022-06-21T10:31:48.556Z"
   },
   {
    "duration": 524,
    "start_time": "2022-06-21T10:31:49.243Z"
   },
   {
    "duration": 11,
    "start_time": "2022-06-21T10:31:49.769Z"
   },
   {
    "duration": 27,
    "start_time": "2022-06-21T10:31:49.782Z"
   },
   {
    "duration": 22,
    "start_time": "2022-06-21T10:31:49.811Z"
   },
   {
    "duration": 734,
    "start_time": "2022-06-21T10:40:11.008Z"
   },
   {
    "duration": 269,
    "start_time": "2022-06-21T10:40:22.005Z"
   },
   {
    "duration": 178,
    "start_time": "2022-06-21T10:40:56.432Z"
   },
   {
    "duration": 171,
    "start_time": "2022-06-21T10:41:07.194Z"
   },
   {
    "duration": 130,
    "start_time": "2022-06-21T10:42:06.114Z"
   },
   {
    "duration": 224,
    "start_time": "2022-06-21T10:42:16.423Z"
   },
   {
    "duration": 55,
    "start_time": "2022-06-21T10:43:48.919Z"
   },
   {
    "duration": 57,
    "start_time": "2022-06-21T10:44:00.548Z"
   },
   {
    "duration": 180,
    "start_time": "2022-06-21T10:44:08.714Z"
   },
   {
    "duration": 9,
    "start_time": "2022-06-21T10:48:00.694Z"
   },
   {
    "duration": 11,
    "start_time": "2022-06-21T10:49:02.695Z"
   },
   {
    "duration": 134,
    "start_time": "2022-06-21T10:52:06.311Z"
   },
   {
    "duration": 121,
    "start_time": "2022-06-21T10:52:39.856Z"
   },
   {
    "duration": 159,
    "start_time": "2022-06-21T10:53:09.007Z"
   },
   {
    "duration": 11,
    "start_time": "2022-06-21T10:54:17.947Z"
   },
   {
    "duration": 735,
    "start_time": "2022-06-21T10:54:19.859Z"
   },
   {
    "duration": 12,
    "start_time": "2022-06-21T10:56:49.508Z"
   },
   {
    "duration": 11,
    "start_time": "2022-06-21T10:57:18.472Z"
   },
   {
    "duration": 15,
    "start_time": "2022-06-21T10:57:25.097Z"
   },
   {
    "duration": 8,
    "start_time": "2022-06-21T10:57:52.222Z"
   },
   {
    "duration": 6,
    "start_time": "2022-06-21T10:58:05.936Z"
   },
   {
    "duration": 18,
    "start_time": "2022-06-21T10:58:31.983Z"
   },
   {
    "duration": 18,
    "start_time": "2022-06-21T10:58:53.334Z"
   },
   {
    "duration": 19,
    "start_time": "2022-06-21T10:58:59.957Z"
   },
   {
    "duration": 6,
    "start_time": "2022-06-21T10:59:06.604Z"
   },
   {
    "duration": 11,
    "start_time": "2022-06-21T11:00:05.703Z"
   },
   {
    "duration": 13,
    "start_time": "2022-06-21T11:00:16.641Z"
   },
   {
    "duration": 12,
    "start_time": "2022-06-21T11:00:19.649Z"
   },
   {
    "duration": 13,
    "start_time": "2022-06-21T11:00:24.629Z"
   },
   {
    "duration": 608,
    "start_time": "2022-06-21T11:08:18.967Z"
   },
   {
    "duration": 5,
    "start_time": "2022-06-21T11:29:59.774Z"
   },
   {
    "duration": 109,
    "start_time": "2022-06-21T11:30:39.998Z"
   },
   {
    "duration": 1169,
    "start_time": "2022-06-21T11:33:27.850Z"
   },
   {
    "duration": 102,
    "start_time": "2022-06-21T11:33:29.025Z"
   },
   {
    "duration": 7,
    "start_time": "2022-06-21T11:33:29.129Z"
   },
   {
    "duration": 41,
    "start_time": "2022-06-21T11:33:29.141Z"
   },
   {
    "duration": 21,
    "start_time": "2022-06-21T11:33:29.184Z"
   },
   {
    "duration": 32,
    "start_time": "2022-06-21T11:33:29.207Z"
   },
   {
    "duration": 60,
    "start_time": "2022-06-21T11:33:29.242Z"
   },
   {
    "duration": 8,
    "start_time": "2022-06-21T11:33:29.304Z"
   },
   {
    "duration": 33,
    "start_time": "2022-06-21T11:33:29.314Z"
   },
   {
    "duration": 44,
    "start_time": "2022-06-21T11:33:29.354Z"
   },
   {
    "duration": 16,
    "start_time": "2022-06-21T11:33:29.400Z"
   },
   {
    "duration": 46,
    "start_time": "2022-06-21T11:33:29.418Z"
   },
   {
    "duration": 7,
    "start_time": "2022-06-21T11:33:29.466Z"
   },
   {
    "duration": 1222,
    "start_time": "2022-06-21T11:33:29.475Z"
   },
   {
    "duration": 64,
    "start_time": "2022-06-21T11:33:30.699Z"
   },
   {
    "duration": 23,
    "start_time": "2022-06-21T11:33:30.765Z"
   },
   {
    "duration": 284,
    "start_time": "2022-06-21T11:33:30.791Z"
   },
   {
    "duration": 267,
    "start_time": "2022-06-21T11:33:31.076Z"
   },
   {
    "duration": 150,
    "start_time": "2022-06-21T11:33:31.345Z"
   },
   {
    "duration": 173,
    "start_time": "2022-06-21T11:33:31.498Z"
   },
   {
    "duration": 79,
    "start_time": "2022-06-21T11:33:31.673Z"
   },
   {
    "duration": 121,
    "start_time": "2022-06-21T11:33:31.754Z"
   },
   {
    "duration": 22,
    "start_time": "2022-06-21T11:33:31.876Z"
   },
   {
    "duration": 212,
    "start_time": "2022-06-21T11:33:31.901Z"
   },
   {
    "duration": 22,
    "start_time": "2022-06-21T11:33:32.115Z"
   },
   {
    "duration": 884,
    "start_time": "2022-06-21T11:33:32.140Z"
   },
   {
    "duration": 684,
    "start_time": "2022-06-21T11:33:33.027Z"
   },
   {
    "duration": 493,
    "start_time": "2022-06-21T11:33:33.715Z"
   },
   {
    "duration": 22,
    "start_time": "2022-06-21T11:33:34.210Z"
   },
   {
    "duration": 43,
    "start_time": "2022-06-21T11:33:34.233Z"
   },
   {
    "duration": 5,
    "start_time": "2022-06-21T11:33:34.279Z"
   },
   {
    "duration": 70,
    "start_time": "2022-06-21T11:38:18.789Z"
   },
   {
    "duration": 211,
    "start_time": "2022-06-21T11:42:05.089Z"
   },
   {
    "duration": 70,
    "start_time": "2022-06-21T11:46:23.332Z"
   },
   {
    "duration": 599,
    "start_time": "2022-06-21T11:47:06.211Z"
   },
   {
    "duration": 741,
    "start_time": "2022-06-21T11:47:38.949Z"
   },
   {
    "duration": 254,
    "start_time": "2022-06-21T11:48:02.460Z"
   },
   {
    "duration": 690,
    "start_time": "2022-06-21T11:48:09.415Z"
   },
   {
    "duration": 785,
    "start_time": "2022-06-21T11:48:22.391Z"
   },
   {
    "duration": 1099,
    "start_time": "2022-06-22T08:13:45.184Z"
   },
   {
    "duration": 76,
    "start_time": "2022-06-22T08:13:46.285Z"
   },
   {
    "duration": 5,
    "start_time": "2022-06-22T08:13:46.362Z"
   },
   {
    "duration": 32,
    "start_time": "2022-06-22T08:13:46.368Z"
   },
   {
    "duration": 19,
    "start_time": "2022-06-22T08:13:46.403Z"
   },
   {
    "duration": 38,
    "start_time": "2022-06-22T08:13:46.424Z"
   },
   {
    "duration": 27,
    "start_time": "2022-06-22T08:13:46.464Z"
   },
   {
    "duration": 8,
    "start_time": "2022-06-22T08:13:46.493Z"
   },
   {
    "duration": 26,
    "start_time": "2022-06-22T08:13:46.503Z"
   },
   {
    "duration": 18,
    "start_time": "2022-06-22T08:13:46.552Z"
   },
   {
    "duration": 18,
    "start_time": "2022-06-22T08:13:46.572Z"
   },
   {
    "duration": 20,
    "start_time": "2022-06-22T08:13:46.592Z"
   },
   {
    "duration": 7,
    "start_time": "2022-06-22T08:13:46.613Z"
   },
   {
    "duration": 1050,
    "start_time": "2022-06-22T08:13:46.652Z"
   },
   {
    "duration": 29,
    "start_time": "2022-06-22T08:13:47.704Z"
   },
   {
    "duration": 18,
    "start_time": "2022-06-22T08:13:47.751Z"
   },
   {
    "duration": 196,
    "start_time": "2022-06-22T08:13:47.772Z"
   },
   {
    "duration": 222,
    "start_time": "2022-06-22T08:13:47.971Z"
   },
   {
    "duration": 159,
    "start_time": "2022-06-22T08:13:48.195Z"
   },
   {
    "duration": 134,
    "start_time": "2022-06-22T08:13:48.356Z"
   },
   {
    "duration": 76,
    "start_time": "2022-06-22T08:13:48.491Z"
   },
   {
    "duration": 108,
    "start_time": "2022-06-22T08:13:48.568Z"
   },
   {
    "duration": 21,
    "start_time": "2022-06-22T08:13:48.678Z"
   },
   {
    "duration": 191,
    "start_time": "2022-06-22T08:13:48.701Z"
   },
   {
    "duration": 10,
    "start_time": "2022-06-22T08:13:48.893Z"
   },
   {
    "duration": 643,
    "start_time": "2022-06-22T08:13:48.905Z"
   },
   {
    "duration": 653,
    "start_time": "2022-06-22T08:13:49.552Z"
   },
   {
    "duration": 481,
    "start_time": "2022-06-22T08:13:50.207Z"
   },
   {
    "duration": 13,
    "start_time": "2022-06-22T08:13:50.689Z"
   },
   {
    "duration": 15,
    "start_time": "2022-06-22T08:13:50.703Z"
   },
   {
    "duration": 4,
    "start_time": "2022-06-22T08:13:50.720Z"
   },
   {
    "duration": 140,
    "start_time": "2022-06-22T10:40:37.321Z"
   },
   {
    "duration": 42,
    "start_time": "2022-06-22T10:44:51.429Z"
   },
   {
    "duration": 1157,
    "start_time": "2022-06-22T10:44:58.376Z"
   },
   {
    "duration": 212,
    "start_time": "2022-06-22T10:44:59.534Z"
   },
   {
    "duration": 5,
    "start_time": "2022-06-22T10:44:59.747Z"
   },
   {
    "duration": 19,
    "start_time": "2022-06-22T10:44:59.754Z"
   },
   {
    "duration": 26,
    "start_time": "2022-06-22T10:44:59.775Z"
   },
   {
    "duration": 55,
    "start_time": "2022-06-22T10:44:59.803Z"
   },
   {
    "duration": 29,
    "start_time": "2022-06-22T10:44:59.860Z"
   },
   {
    "duration": 7,
    "start_time": "2022-06-22T10:44:59.891Z"
   },
   {
    "duration": 51,
    "start_time": "2022-06-22T10:44:59.900Z"
   },
   {
    "duration": 25,
    "start_time": "2022-06-22T10:44:59.954Z"
   },
   {
    "duration": 16,
    "start_time": "2022-06-22T10:45:02.711Z"
   },
   {
    "duration": 15,
    "start_time": "2022-06-22T10:45:17.366Z"
   },
   {
    "duration": 1290,
    "start_time": "2022-06-22T10:45:57.329Z"
   },
   {
    "duration": 28,
    "start_time": "2022-06-22T10:46:36.214Z"
   },
   {
    "duration": 4,
    "start_time": "2022-06-22T10:51:13.278Z"
   },
   {
    "duration": 12,
    "start_time": "2022-06-22T10:51:27.746Z"
   },
   {
    "duration": 19,
    "start_time": "2022-06-22T10:52:21.527Z"
   },
   {
    "duration": 14,
    "start_time": "2022-06-22T10:55:31.575Z"
   },
   {
    "duration": 328,
    "start_time": "2022-06-22T10:55:56.527Z"
   },
   {
    "duration": 279,
    "start_time": "2022-06-22T10:56:47.790Z"
   },
   {
    "duration": 357,
    "start_time": "2022-06-22T10:58:05.912Z"
   },
   {
    "duration": 270,
    "start_time": "2022-06-22T10:58:37.924Z"
   },
   {
    "duration": 14,
    "start_time": "2022-06-22T11:05:13.348Z"
   },
   {
    "duration": 11,
    "start_time": "2022-06-22T11:05:34.106Z"
   },
   {
    "duration": 11,
    "start_time": "2022-06-22T11:05:39.307Z"
   },
   {
    "duration": 15,
    "start_time": "2022-06-22T11:06:33.899Z"
   },
   {
    "duration": 15,
    "start_time": "2022-06-22T11:07:00.729Z"
   },
   {
    "duration": 95,
    "start_time": "2022-06-22T11:07:00.755Z"
   },
   {
    "duration": 5,
    "start_time": "2022-06-22T11:07:00.855Z"
   },
   {
    "duration": 17,
    "start_time": "2022-06-22T11:07:00.861Z"
   },
   {
    "duration": 16,
    "start_time": "2022-06-22T11:07:00.880Z"
   },
   {
    "duration": 24,
    "start_time": "2022-06-22T11:07:00.898Z"
   },
   {
    "duration": 46,
    "start_time": "2022-06-22T11:07:00.923Z"
   },
   {
    "duration": 5,
    "start_time": "2022-06-22T11:07:00.971Z"
   },
   {
    "duration": 25,
    "start_time": "2022-06-22T11:07:00.977Z"
   },
   {
    "duration": 34,
    "start_time": "2022-06-22T11:07:01.004Z"
   },
   {
    "duration": 15,
    "start_time": "2022-06-22T11:07:01.050Z"
   },
   {
    "duration": 20,
    "start_time": "2022-06-22T11:07:01.066Z"
   },
   {
    "duration": 19,
    "start_time": "2022-06-22T11:07:01.087Z"
   },
   {
    "duration": 389,
    "start_time": "2022-06-22T11:07:01.107Z"
   },
   {
    "duration": 6,
    "start_time": "2022-06-22T11:07:01.498Z"
   },
   {
    "duration": 1059,
    "start_time": "2022-06-22T11:07:01.505Z"
   },
   {
    "duration": 28,
    "start_time": "2022-06-22T11:07:03.536Z"
   },
   {
    "duration": 83,
    "start_time": "2022-06-22T11:07:29.125Z"
   },
   {
    "duration": 35,
    "start_time": "2022-06-22T11:07:34.973Z"
   },
   {
    "duration": 37,
    "start_time": "2022-06-22T11:07:55.555Z"
   },
   {
    "duration": 19,
    "start_time": "2022-06-22T11:08:36.706Z"
   },
   {
    "duration": 216,
    "start_time": "2022-06-22T11:12:21.798Z"
   },
   {
    "duration": 243,
    "start_time": "2022-06-22T11:12:39.017Z"
   },
   {
    "duration": 211,
    "start_time": "2022-06-22T11:12:53.773Z"
   },
   {
    "duration": 225,
    "start_time": "2022-06-22T11:12:57.544Z"
   },
   {
    "duration": 248,
    "start_time": "2022-06-22T11:13:08.683Z"
   },
   {
    "duration": 257,
    "start_time": "2022-06-22T11:13:28.300Z"
   },
   {
    "duration": 319,
    "start_time": "2022-06-22T11:13:33.357Z"
   },
   {
    "duration": 226,
    "start_time": "2022-06-22T11:13:40.374Z"
   },
   {
    "duration": 172,
    "start_time": "2022-06-22T12:18:38.773Z"
   },
   {
    "duration": 3,
    "start_time": "2022-06-22T12:18:48.781Z"
   },
   {
    "duration": 73,
    "start_time": "2022-06-22T12:18:48.797Z"
   },
   {
    "duration": 5,
    "start_time": "2022-06-22T12:18:48.872Z"
   },
   {
    "duration": 27,
    "start_time": "2022-06-22T12:18:48.879Z"
   },
   {
    "duration": 39,
    "start_time": "2022-06-22T12:18:48.909Z"
   },
   {
    "duration": 28,
    "start_time": "2022-06-22T12:18:48.951Z"
   },
   {
    "duration": 50,
    "start_time": "2022-06-22T12:18:48.981Z"
   },
   {
    "duration": 8,
    "start_time": "2022-06-22T12:18:49.032Z"
   },
   {
    "duration": 29,
    "start_time": "2022-06-22T12:18:49.043Z"
   },
   {
    "duration": 20,
    "start_time": "2022-06-22T12:18:49.074Z"
   },
   {
    "duration": 43,
    "start_time": "2022-06-22T12:18:49.096Z"
   },
   {
    "duration": 16,
    "start_time": "2022-06-22T12:18:49.141Z"
   },
   {
    "duration": 28,
    "start_time": "2022-06-22T12:18:49.159Z"
   },
   {
    "duration": 338,
    "start_time": "2022-06-22T12:18:49.189Z"
   },
   {
    "duration": 7,
    "start_time": "2022-06-22T12:18:49.529Z"
   },
   {
    "duration": 1138,
    "start_time": "2022-06-22T12:18:49.538Z"
   },
   {
    "duration": 63,
    "start_time": "2022-06-22T12:18:50.678Z"
   },
   {
    "duration": 25,
    "start_time": "2022-06-22T12:18:50.743Z"
   },
   {
    "duration": 285,
    "start_time": "2022-06-22T12:18:50.770Z"
   },
   {
    "duration": 444,
    "start_time": "2022-06-22T12:19:09.224Z"
   },
   {
    "duration": 368,
    "start_time": "2022-06-22T12:19:18.912Z"
   },
   {
    "duration": 42,
    "start_time": "2022-06-22T12:22:00.065Z"
   },
   {
    "duration": 32,
    "start_time": "2022-06-22T12:22:10.155Z"
   },
   {
    "duration": 31,
    "start_time": "2022-06-22T12:22:27.189Z"
   },
   {
    "duration": 270,
    "start_time": "2022-06-22T12:22:32.039Z"
   },
   {
    "duration": 218,
    "start_time": "2022-06-22T12:23:13.701Z"
   },
   {
    "duration": 462,
    "start_time": "2022-06-22T12:23:20.243Z"
   },
   {
    "duration": 382,
    "start_time": "2022-06-22T12:23:29.796Z"
   },
   {
    "duration": 10,
    "start_time": "2022-06-22T12:33:31.550Z"
   },
   {
    "duration": 4,
    "start_time": "2022-06-22T12:33:36.132Z"
   },
   {
    "duration": 84,
    "start_time": "2022-06-22T12:33:36.140Z"
   },
   {
    "duration": 5,
    "start_time": "2022-06-22T12:33:36.227Z"
   },
   {
    "duration": 24,
    "start_time": "2022-06-22T12:33:36.234Z"
   },
   {
    "duration": 18,
    "start_time": "2022-06-22T12:33:36.260Z"
   },
   {
    "duration": 24,
    "start_time": "2022-06-22T12:33:36.279Z"
   },
   {
    "duration": 40,
    "start_time": "2022-06-22T12:33:36.305Z"
   },
   {
    "duration": 5,
    "start_time": "2022-06-22T12:33:36.346Z"
   },
   {
    "duration": 19,
    "start_time": "2022-06-22T12:33:36.353Z"
   },
   {
    "duration": 15,
    "start_time": "2022-06-22T12:33:36.374Z"
   },
   {
    "duration": 41,
    "start_time": "2022-06-22T12:33:36.391Z"
   },
   {
    "duration": 14,
    "start_time": "2022-06-22T12:33:36.434Z"
   },
   {
    "duration": 21,
    "start_time": "2022-06-22T12:33:36.450Z"
   },
   {
    "duration": 285,
    "start_time": "2022-06-22T12:33:36.472Z"
   },
   {
    "duration": 7,
    "start_time": "2022-06-22T12:33:36.759Z"
   },
   {
    "duration": 1082,
    "start_time": "2022-06-22T12:33:36.768Z"
   },
   {
    "duration": 36,
    "start_time": "2022-06-22T12:33:37.852Z"
   },
   {
    "duration": 19,
    "start_time": "2022-06-22T12:33:37.890Z"
   },
   {
    "duration": 269,
    "start_time": "2022-06-22T12:33:37.911Z"
   },
   {
    "duration": 350,
    "start_time": "2022-06-22T12:33:38.181Z"
   },
   {
    "duration": 125,
    "start_time": "2022-06-22T12:33:38.532Z"
   },
   {
    "duration": 117,
    "start_time": "2022-06-22T12:33:38.659Z"
   },
   {
    "duration": 46,
    "start_time": "2022-06-22T12:34:57.656Z"
   },
   {
    "duration": 111,
    "start_time": "2022-06-22T12:36:57.553Z"
   },
   {
    "duration": 114,
    "start_time": "2022-06-22T12:37:39.269Z"
   },
   {
    "duration": 118,
    "start_time": "2022-06-22T12:38:05.105Z"
   },
   {
    "duration": 132,
    "start_time": "2022-06-22T12:38:10.128Z"
   },
   {
    "duration": 43,
    "start_time": "2022-06-22T12:39:13.665Z"
   },
   {
    "duration": 45,
    "start_time": "2022-06-22T12:42:06.231Z"
   },
   {
    "duration": 36,
    "start_time": "2022-06-22T12:42:44.351Z"
   },
   {
    "duration": 29,
    "start_time": "2022-06-22T12:45:33.792Z"
   },
   {
    "duration": 117,
    "start_time": "2022-06-22T12:45:36.277Z"
   },
   {
    "duration": 154,
    "start_time": "2022-06-22T12:46:10.966Z"
   },
   {
    "duration": 3,
    "start_time": "2022-06-22T12:49:47.389Z"
   },
   {
    "duration": 72,
    "start_time": "2022-06-22T12:49:47.395Z"
   },
   {
    "duration": 3,
    "start_time": "2022-06-22T12:49:47.469Z"
   },
   {
    "duration": 15,
    "start_time": "2022-06-22T12:49:47.474Z"
   },
   {
    "duration": 16,
    "start_time": "2022-06-22T12:49:47.491Z"
   },
   {
    "duration": 46,
    "start_time": "2022-06-22T12:49:47.508Z"
   },
   {
    "duration": 17,
    "start_time": "2022-06-22T12:49:47.555Z"
   },
   {
    "duration": 5,
    "start_time": "2022-06-22T12:49:47.573Z"
   },
   {
    "duration": 19,
    "start_time": "2022-06-22T12:49:47.579Z"
   },
   {
    "duration": 41,
    "start_time": "2022-06-22T12:49:47.599Z"
   },
   {
    "duration": 13,
    "start_time": "2022-06-22T12:49:47.642Z"
   },
   {
    "duration": 13,
    "start_time": "2022-06-22T12:49:47.657Z"
   },
   {
    "duration": 15,
    "start_time": "2022-06-22T12:49:47.671Z"
   },
   {
    "duration": 288,
    "start_time": "2022-06-22T12:49:47.687Z"
   },
   {
    "duration": 6,
    "start_time": "2022-06-22T12:49:47.977Z"
   },
   {
    "duration": 996,
    "start_time": "2022-06-22T12:49:47.984Z"
   },
   {
    "duration": 39,
    "start_time": "2022-06-22T12:49:48.982Z"
   },
   {
    "duration": 28,
    "start_time": "2022-06-22T12:49:49.029Z"
   },
   {
    "duration": 248,
    "start_time": "2022-06-22T12:49:49.059Z"
   },
   {
    "duration": 374,
    "start_time": "2022-06-22T12:49:49.308Z"
   },
   {
    "duration": 236,
    "start_time": "2022-06-22T12:49:49.684Z"
   },
   {
    "duration": 142,
    "start_time": "2022-06-22T12:49:49.921Z"
   },
   {
    "duration": 33,
    "start_time": "2022-06-22T12:49:50.065Z"
   },
   {
    "duration": 36,
    "start_time": "2022-06-22T12:49:50.099Z"
   },
   {
    "duration": 21,
    "start_time": "2022-06-22T12:49:50.138Z"
   },
   {
    "duration": 194,
    "start_time": "2022-06-22T12:49:50.160Z"
   },
   {
    "duration": 9,
    "start_time": "2022-06-22T12:49:50.356Z"
   },
   {
    "duration": 539,
    "start_time": "2022-06-22T12:49:50.366Z"
   },
   {
    "duration": 493,
    "start_time": "2022-06-22T13:04:44.266Z"
   },
   {
    "duration": 25,
    "start_time": "2022-06-22T13:14:41.422Z"
   },
   {
    "duration": 16,
    "start_time": "2022-06-22T13:15:03.969Z"
   },
   {
    "duration": 147,
    "start_time": "2022-06-22T13:15:58.193Z"
   },
   {
    "duration": 613,
    "start_time": "2022-06-22T13:16:06.006Z"
   },
   {
    "duration": 400,
    "start_time": "2022-06-22T13:16:40.463Z"
   },
   {
    "duration": 190,
    "start_time": "2022-06-22T13:17:49.234Z"
   },
   {
    "duration": 397,
    "start_time": "2022-06-22T13:17:58.075Z"
   },
   {
    "duration": 100,
    "start_time": "2022-06-22T13:18:46.441Z"
   },
   {
    "duration": 1200,
    "start_time": "2022-06-22T13:18:51.884Z"
   },
   {
    "duration": 310,
    "start_time": "2022-06-22T13:19:10.284Z"
   },
   {
    "duration": 3061,
    "start_time": "2022-06-22T13:19:43.723Z"
   },
   {
    "duration": 10,
    "start_time": "2022-06-22T13:20:13.977Z"
   },
   {
    "duration": 30,
    "start_time": "2022-06-22T13:20:18.713Z"
   },
   {
    "duration": 15,
    "start_time": "2022-06-22T13:20:43.587Z"
   },
   {
    "duration": 33,
    "start_time": "2022-06-22T13:20:58.531Z"
   },
   {
    "duration": 20,
    "start_time": "2022-06-22T13:21:31.747Z"
   },
   {
    "duration": 30,
    "start_time": "2022-06-22T13:21:48.045Z"
   },
   {
    "duration": 16,
    "start_time": "2022-06-22T13:21:55.931Z"
   },
   {
    "duration": 17,
    "start_time": "2022-06-22T13:22:13.947Z"
   },
   {
    "duration": 170,
    "start_time": "2022-06-22T13:22:35.839Z"
   },
   {
    "duration": 467,
    "start_time": "2022-06-22T13:22:40.781Z"
   },
   {
    "duration": 156,
    "start_time": "2022-06-22T13:22:51.233Z"
   },
   {
    "duration": 78,
    "start_time": "2022-06-22T13:23:33.461Z"
   },
   {
    "duration": 144,
    "start_time": "2022-06-22T13:23:42.826Z"
   },
   {
    "duration": 125,
    "start_time": "2022-06-22T13:25:37.406Z"
   },
   {
    "duration": 139,
    "start_time": "2022-06-22T13:25:41.472Z"
   },
   {
    "duration": 1207,
    "start_time": "2022-06-22T13:26:57.508Z"
   },
   {
    "duration": 1118,
    "start_time": "2022-06-22T13:27:04.147Z"
   },
   {
    "duration": 1267,
    "start_time": "2022-06-22T13:28:12.347Z"
   },
   {
    "duration": 113,
    "start_time": "2022-06-22T13:41:24.263Z"
   },
   {
    "duration": 36,
    "start_time": "2022-06-22T13:41:51.134Z"
   },
   {
    "duration": 43,
    "start_time": "2022-06-22T13:42:06.580Z"
   },
   {
    "duration": 14,
    "start_time": "2022-06-22T13:43:08.217Z"
   },
   {
    "duration": 30,
    "start_time": "2022-06-22T13:43:16.870Z"
   },
   {
    "duration": 1021,
    "start_time": "2022-06-22T13:43:31.354Z"
   },
   {
    "duration": 76,
    "start_time": "2022-06-22T13:43:32.376Z"
   },
   {
    "duration": 5,
    "start_time": "2022-06-22T13:43:32.454Z"
   },
   {
    "duration": 19,
    "start_time": "2022-06-22T13:43:32.461Z"
   },
   {
    "duration": 19,
    "start_time": "2022-06-22T13:43:32.483Z"
   },
   {
    "duration": 51,
    "start_time": "2022-06-22T13:43:32.503Z"
   },
   {
    "duration": 20,
    "start_time": "2022-06-22T13:43:32.555Z"
   },
   {
    "duration": 6,
    "start_time": "2022-06-22T13:43:32.577Z"
   },
   {
    "duration": 46,
    "start_time": "2022-06-22T13:43:32.584Z"
   },
   {
    "duration": 24,
    "start_time": "2022-06-22T13:43:32.632Z"
   },
   {
    "duration": 15,
    "start_time": "2022-06-22T13:43:32.658Z"
   },
   {
    "duration": 17,
    "start_time": "2022-06-22T13:43:32.675Z"
   },
   {
    "duration": 41,
    "start_time": "2022-06-22T13:43:32.693Z"
   },
   {
    "duration": 281,
    "start_time": "2022-06-22T13:43:32.737Z"
   },
   {
    "duration": 10,
    "start_time": "2022-06-22T13:43:33.020Z"
   },
   {
    "duration": 901,
    "start_time": "2022-06-22T13:43:33.031Z"
   },
   {
    "duration": 36,
    "start_time": "2022-06-22T13:43:33.934Z"
   },
   {
    "duration": 20,
    "start_time": "2022-06-22T13:43:33.972Z"
   },
   {
    "duration": 224,
    "start_time": "2022-06-22T13:43:33.993Z"
   },
   {
    "duration": 327,
    "start_time": "2022-06-22T13:43:34.219Z"
   },
   {
    "duration": 187,
    "start_time": "2022-06-22T13:43:34.547Z"
   },
   {
    "duration": 118,
    "start_time": "2022-06-22T13:43:34.735Z"
   },
   {
    "duration": 31,
    "start_time": "2022-06-22T13:43:34.854Z"
   },
   {
    "duration": 18,
    "start_time": "2022-06-22T13:43:34.886Z"
   },
   {
    "duration": 30,
    "start_time": "2022-06-22T13:43:34.905Z"
   },
   {
    "duration": 152,
    "start_time": "2022-06-22T13:43:34.937Z"
   },
   {
    "duration": 8,
    "start_time": "2022-06-22T13:43:35.091Z"
   },
   {
    "duration": 456,
    "start_time": "2022-06-22T13:43:35.100Z"
   },
   {
    "duration": 1214,
    "start_time": "2022-06-22T13:43:35.558Z"
   },
   {
    "duration": 597,
    "start_time": "2022-06-22T13:43:36.774Z"
   },
   {
    "duration": 394,
    "start_time": "2022-06-22T13:43:37.373Z"
   },
   {
    "duration": 11,
    "start_time": "2022-06-22T13:43:37.768Z"
   },
   {
    "duration": 21,
    "start_time": "2022-06-22T13:43:37.781Z"
   },
   {
    "duration": 4,
    "start_time": "2022-06-22T13:43:37.803Z"
   },
   {
    "duration": 72,
    "start_time": "2022-06-22T13:55:57.646Z"
   },
   {
    "duration": 91,
    "start_time": "2022-06-22T13:56:59.265Z"
   },
   {
    "duration": 15,
    "start_time": "2022-06-22T13:57:04.448Z"
   },
   {
    "duration": 13,
    "start_time": "2022-06-22T13:57:12.468Z"
   },
   {
    "duration": 9,
    "start_time": "2022-06-22T13:57:40.779Z"
   },
   {
    "duration": 6,
    "start_time": "2022-06-22T14:01:09.827Z"
   },
   {
    "duration": 132,
    "start_time": "2022-06-22T14:18:13.723Z"
   }
  ],
  "kernelspec": {
   "display_name": "Python 3 (ipykernel)",
   "language": "python",
   "name": "python3"
  },
  "language_info": {
   "codemirror_mode": {
    "name": "ipython",
    "version": 3
   },
   "file_extension": ".py",
   "mimetype": "text/x-python",
   "name": "python",
   "nbconvert_exporter": "python",
   "pygments_lexer": "ipython3",
   "version": "3.9.5"
  },
  "toc": {
   "base_numbering": 1,
   "nav_menu": {},
   "number_sections": true,
   "sideBar": true,
   "skip_h1_title": true,
   "title_cell": "Table of Contents",
   "title_sidebar": "Contents",
   "toc_cell": false,
   "toc_position": {},
   "toc_section_display": true,
   "toc_window_display": true
  }
 },
 "nbformat": 4,
 "nbformat_minor": 2
}
